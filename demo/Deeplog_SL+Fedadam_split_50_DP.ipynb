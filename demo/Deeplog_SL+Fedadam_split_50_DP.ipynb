{
 "cells": [
  {
   "cell_type": "code",
   "execution_count": 1,
   "metadata": {
    "ExecuteTime": {
     "end_time": "2022-08-08T17:33:54.872954Z",
     "start_time": "2022-08-08T17:33:54.867953Z"
    }
   },
   "outputs": [],
   "source": [
    "import os\n",
    "# set GPU number. This might work for several framework such as PyTorch, TensorFlow, Keras\n",
    "gpu_id = '0'\n",
    "os.environ[\"CUDA_VISIBLE_DEVICES\"]=gpu_id"
   ]
  },
  {
   "cell_type": "code",
   "execution_count": 2,
   "metadata": {
    "ExecuteTime": {
     "end_time": "2022-08-08T17:33:54.888953Z",
     "start_time": "2022-08-08T17:33:54.873955Z"
    }
   },
   "outputs": [],
   "source": [
    "import warnings\n",
    "warnings.filterwarnings(\"ignore\")"
   ]
  },
  {
   "cell_type": "code",
   "execution_count": 3,
   "metadata": {
    "ExecuteTime": {
     "end_time": "2022-08-08T17:34:24.975715Z",
     "start_time": "2022-08-08T17:33:54.889954Z"
    }
   },
   "outputs": [],
   "source": [
    "# sys.path.append('../../loglizer')\n",
    "    \n",
    "# from loglizer import dataloader\n",
    "# from loglizer.preprocessing import Vectorizer, Iterator\n",
    "import sys\n",
    "import torch\n",
    "import torch.nn as nn\n",
    "import torch.nn.functional as func\n",
    "import torch.optim as optim\n",
    "from torch.utils.data import Dataset\n",
    "import torch.utils.data as Data\n",
    "import pickle as pkl\n",
    "import argparse\n",
    "import time\n",
    "import copy\n",
    "import torchvision.transforms as transforms\n",
    "import torchvision\n",
    "import random\n",
    "from collections import OrderedDict\n",
    "from PIL import Image\n",
    "\n",
    "import pandas as pd\n",
    "import math\n",
    "import matplotlib.pyplot as plt\n",
    "import numpy as np\n",
    "\n",
    "from sklearn.metrics import accuracy_score, f1_score, recall_score, precision_score\n",
    "from collections import defaultdict\n",
    "\n",
    "from torch.nn.utils import clip_grad_norm_\n",
    "from torch.distributions.laplace import Laplace\n",
    "\n",
    "from _utils import clip_generator, add_noise_generator"
   ]
  },
  {
   "cell_type": "code",
   "execution_count": 4,
   "metadata": {
    "ExecuteTime": {
     "end_time": "2022-08-08T17:34:25.432129Z",
     "start_time": "2022-08-08T17:34:24.976717Z"
    }
   },
   "outputs": [],
   "source": [
    "# struct_log = '../data/HDFS/HDFS.log_structured.csv' # The structured log file\n",
    "\n",
    "#初始參數\n",
    "class Parser():\n",
    "    def __init__(self):\n",
    "        self.mode = 'fedadam'  #FedBN,FedAvg,fedprox,fedopt,fedadagrad,fedadam 待加入scoffold\n",
    "        #所有方法都有使用Fedbn\n",
    "        self.beta_1 = 0.9\n",
    "        self.beta_2 = 0.99 #b1,b2 for adaptive opt\n",
    "        self.tau = 1e-2\n",
    "        self.batch = 32\n",
    "        self.lr = 1e-1\n",
    "        self.server_lr = 1e-1\n",
    "        self.server_momentum = 0.5\n",
    "        self.client_momentum = 0.9 # 0 is fedavg others is fedavgm\n",
    "        self.no_cuda = False\n",
    "        self.seed = 1\n",
    "        self.client_num = 1\n",
    "        self.wk_iters = 1 # training\n",
    "        self.num_workers = 2 # dataloader\n",
    "        self.mu = 1e-3\n",
    "        self.iters = 50 #epochs\n",
    "        self.local_epochs = 10\n",
    "        self.server_opt = 'sgd'\n",
    "        self.percent = 1\n",
    "#         self.early_stop = 500\n",
    "        self.window_size = 10\n",
    "        self.train_ratio = 0.5\n",
    "        self.split_type='sequential' # sequential, uniform\n",
    "        self.max_grad_norm = 1.0\n",
    "\n",
    "        \n",
    "args = Parser()\n",
    "\n",
    "use_cuda = not args.no_cuda and torch.cuda.is_available()\n",
    "np.random.seed(args.seed)\n",
    "torch.manual_seed(args.seed)\n",
    "torch.cuda.manual_seed_all(args.seed) \n",
    "random.seed(args.seed)\n",
    "device = torch.device(\"cuda\" if use_cuda else \"cpu\")\n",
    "\n",
    "group = {'noise_scale':0.03, 'norm_bound':1.5}\n",
    "# 0 0.01 0.03 0.05 0.07 0.10"
   ]
  },
  {
   "cell_type": "code",
   "execution_count": 5,
   "metadata": {
    "ExecuteTime": {
     "end_time": "2022-08-08T17:34:25.573108Z",
     "start_time": "2022-08-08T17:34:25.432129Z"
    }
   },
   "outputs": [],
   "source": [
    "sys.path.append('../')\n",
    "from logdeep.tools.predict_sl_dp import Predicter\n",
    "from logdeep.tools.train_sl_dp import Trainer\n",
    "from logdeep.tools.utils import *\n",
    "\n",
    "# Config Parameters\n",
    "\n",
    "options = dict()\n",
    "options['data_dir'] = '../data/'\n",
    "options['window_size'] = 10\n",
    "options['device'] = device\n",
    "\n",
    "# Smaple\n",
    "options['sample'] = \"sliding_window\"\n",
    "options['window_size'] = 10  # if fix_window\n",
    "\n",
    "# Features\n",
    "options['sequentials'] = True\n",
    "options['quantitatives'] = False\n",
    "options['semantics'] = False\n",
    "options['feature_num'] = sum(\n",
    "    [options['sequentials'], options['quantitatives'], options['semantics']])\n",
    "\n",
    "# Model\n",
    "options['input_size'] = 1\n",
    "options['hidden_size'] = 64\n",
    "options['num_layers'] = 2\n",
    "options['num_classes'] = 28\n",
    "\n",
    "# Train\n",
    "options['batch_size'] = 2048\n",
    "options['accumulation_step'] = 1\n",
    "\n",
    "options['optimizer'] = 'adam'\n",
    "options['lr'] = 1e-2\n",
    "options['max_epoch'] = args.local_epochs\n",
    "options['lr_step'] = (300, 350)\n",
    "options['lr_decay_ratio'] = 0.1\n",
    "\n",
    "options['resume_path'] = None\n",
    "options['model_name'] = \"deeplog\"\n",
    "options['save_dir'] = \"../result/deeplog/\"\n",
    "\n",
    "# Predict\n",
    "options['model_path'] = \"../result/deeplog/deeplog_last.pth\"\n",
    "options['num_candidates'] = 9\n",
    "\n",
    "seed_everything(seed=1234)\n",
    "\n",
    "\n",
    "def train():\n",
    "    trainer = Trainer(Model, options)\n",
    "    trainer.start_train()\n",
    "\n",
    "\n",
    "def predict():\n",
    "    predicter = Predicter(Model, options)\n",
    "    predicter.predict_unsupervised()"
   ]
  },
  {
   "cell_type": "markdown",
   "metadata": {},
   "source": [
    "# Preprocessing"
   ]
  },
  {
   "cell_type": "code",
   "execution_count": 6,
   "metadata": {
    "ExecuteTime": {
     "end_time": "2022-08-08T17:34:25.589108Z",
     "start_time": "2022-08-08T17:34:25.574108Z"
    }
   },
   "outputs": [],
   "source": [
    "# https://github.com/abedicodes/FedSL/blob/master/models/Networks.py\n",
    "# model改兩個的話，train的部份也要改\n",
    "# 隨時小心forward 跟 backward有沒有都對上\n",
    "class deeplog(nn.Module):\n",
    "    def __init__(self, input_size, hidden_size, num_layers, num_keys):\n",
    "        super(deeplog, self).__init__()\n",
    "        self.hidden_size = hidden_size\n",
    "        self.num_layers = num_layers\n",
    "        self.lstm = nn.LSTM(input_size,\n",
    "                            hidden_size,\n",
    "                            num_layers,\n",
    "                            batch_first=True)\n",
    "        self.fc = nn.Linear(hidden_size, num_keys)\n",
    "\n",
    "    def forward(self, features, device):\n",
    "        input0 = features[0]\n",
    "        h0 = torch.zeros(self.num_layers, input0.size(0),\n",
    "                         self.hidden_size).to(device)\n",
    "        c0 = torch.zeros(self.num_layers, input0.size(0),\n",
    "                         self.hidden_size).to(device)\n",
    "        out, _ = self.lstm(input0, (h0, c0))\n",
    "        out = self.fc(out[:, -1, :])\n",
    "        return out\n",
    "\n",
    "class deeplog_1st(nn.Module):\n",
    "    def __init__(self, input_size, hidden_size, num_layers, num_keys):\n",
    "        super(deeplog_1st, self).__init__()\n",
    "        self.hidden_size = hidden_size\n",
    "        self.num_layers = num_layers\n",
    "        self.lstm = nn.LSTM(input_size,\n",
    "                            hidden_size,\n",
    "                            num_layers,\n",
    "                            batch_first=True)\n",
    "#         self.fc = nn.Linear(hidden_size, num_keys)\n",
    "\n",
    "    def forward(self, features, device):\n",
    "        input0 = features[0]\n",
    "        h0 = torch.zeros(self.num_layers, input0.size(0),\n",
    "                         self.hidden_size).to(device)\n",
    "        c0 = torch.zeros(self.num_layers, input0.size(0),\n",
    "                         self.hidden_size).to(device)\n",
    "        out, (outpreh, outprec) = self.lstm(input0, (h0, c0))\n",
    "#         out = self.fc(out[:, -1, :])\n",
    "        return out, outpreh, outprec\n",
    "\n",
    "\n",
    "class deeplog_2nd(nn.Module):\n",
    "    def __init__(self, input_size, hidden_size, num_layers, num_keys):\n",
    "        super(deeplog_2nd, self).__init__()\n",
    "        self.hidden_size = hidden_size\n",
    "        self.num_layers = num_layers\n",
    "        self.lstm = nn.LSTM(input_size,\n",
    "                            hidden_size,\n",
    "                            num_layers,\n",
    "                            batch_first=True)\n",
    "        self.fc = nn.Linear(hidden_size, num_keys)\n",
    "\n",
    "    def forward(self, features, hPrevious, cPrevious, device):\n",
    "        input0 = features[0]\n",
    "#         h0 = torch.zeros(self.num_layers, input0.size(0),\n",
    "#                          self.hidden_size).to(device)\n",
    "#         c0 = torch.zeros(self.num_layers, input0.size(0),\n",
    "#                          self.hidden_size).to(device)\n",
    "        out, _ = self.lstm(input0,  (hPrevious, cPrevious))\n",
    "        out = self.fc(out[:, -1, :])\n",
    "        return out "
   ]
  },
  {
   "cell_type": "markdown",
   "metadata": {},
   "source": [
    "# Federated learning"
   ]
  },
  {
   "cell_type": "code",
   "execution_count": 7,
   "metadata": {
    "ExecuteTime": {
     "end_time": "2022-08-08T17:34:25.605109Z",
     "start_time": "2022-08-08T17:34:25.590108Z"
    }
   },
   "outputs": [],
   "source": [
    "def communication(args, server_model_1, server_model_2, models_1, models_2, client_weights, v_1, v_2, grad_1, grad_2):\n",
    "    if args.mode.lower() == 'fedbn':\n",
    "        with torch.no_grad():\n",
    "            for key in server_model_1.state_dict().keys():\n",
    "                if 'bn' not in key: #非BN層都去交換\n",
    "                    temp = torch.zeros_like(server_model_1.state_dict()[key], dtype=torch.float32)\n",
    "                    for client_idx in range(client_num):\n",
    "                        temp += client_weights[client_idx] * models_1[client_idx].state_dict()[key]\n",
    "                    server_model_1.state_dict()[key].data.copy_(temp)\n",
    "                    for client_idx in range(client_num):\n",
    "                        models_1[client_idx].state_dict()[key].data.copy_(server_model_1.state_dict()[key])\n",
    "            for key in server_model_2.state_dict().keys():\n",
    "                if 'bn' not in key: #非BN層都去交換\n",
    "                    temp = torch.zeros_like(server_model_2.state_dict()[key], dtype=torch.float32)\n",
    "                    for client_idx in range(client_num):\n",
    "                        temp += client_weights[client_idx] * models_2[client_idx].state_dict()[key]\n",
    "                    server_model_2.state_dict()[key].data.copy_(temp)\n",
    "                    for client_idx in range(client_num):\n",
    "                        models_2[client_idx].state_dict()[key].data.copy_(server_model_2.state_dict()[key])\n",
    "    \n",
    "    elif args.mode.lower() == 'fedadagrad':\n",
    "        with torch.no_grad():\n",
    "            for key, param in server_model_1.named_parameters():\n",
    "                temp = torch.zeros_like(server_model_1.state_dict()[key])\n",
    "                for client_idx in range(len(client_weights)):\n",
    "                    temp = temp + client_weights[client_idx] * models_1[client_idx].state_dict()[key]                          \n",
    "                param.grad = temp - param.data              \n",
    "                param.grad = torch.mul(grad_1[key], args.beta_1) + torch.mul(param.grad, 1-args.beta_1)\n",
    "                grad_1[key] = param.grad\n",
    "                v_1[key] = v_1[key] + param.grad**2\n",
    "                param.data = param.data + torch.mul(torch.div(param.grad, torch.add(torch.sqrt(v_1[key]),args.tau)), args.server_lr) \n",
    "\n",
    "                for client_idx in range(len(client_weights)):\n",
    "                    models_1[client_idx].state_dict()[key].data.copy_(server_model_1.state_dict()[key])                         \n",
    "            for key, param in server_model_2.named_parameters():\n",
    "                temp = torch.zeros_like(server_model_2.state_dict()[key])\n",
    "                for client_idx in range(len(client_weights)):\n",
    "                    temp = temp + client_weights[client_idx] * models_2[client_idx].state_dict()[key]                          \n",
    "                param.grad = temp - param.data              \n",
    "                param.grad = torch.mul(grad_2[key], args.beta_1) + torch.mul(param.grad, 1-args.beta_1)\n",
    "                grad_2[key] = param.grad\n",
    "                v_2[key] = v_2[key] + param.grad**2\n",
    "                param.data = param.data + torch.mul(torch.div(param.grad, torch.add(torch.sqrt(v_2[key]),args.tau)), args.server_lr) \n",
    "\n",
    "                for client_idx in range(len(client_weights)):\n",
    "                    models_2[client_idx].state_dict()[key].data.copy_(server_model_2.state_dict()[key]) \n",
    "    \n",
    "    elif args.mode.lower() == 'fedadam':\n",
    "        with torch.no_grad():\n",
    "            for key, param in server_model_1.named_parameters():\n",
    "                clip = clip_generator(norm_bound=group['norm_bound'])\n",
    "                add_noise = add_noise_generator(noise_scale=group['noise_scale'] * group['norm_bound'])\n",
    "                \n",
    "                temp = torch.zeros_like(server_model_1.state_dict()[key])\n",
    "                for client_idx in range(len(client_weights)):\n",
    "                    temp += client_weights[client_idx] * models_1[client_idx].state_dict()[key]                         \n",
    "                param.grad = temp - param.data   \n",
    "                param.grad = add_noise(clip(param.grad))\n",
    "                param.grad = torch.mul(grad_1[key], args.beta_1) + torch.mul(param.grad, 1-args.beta_1) \n",
    "                grad_1[key] = param.grad    \n",
    "                \n",
    "                #梯度裁剪\n",
    "                \n",
    "                v_1[key] = torch.mul(v_1[key], args.beta_2) + torch.mul(param.grad**2, 1-args.beta_2)\n",
    "                param.data = param.data + torch.mul(torch.div(param.grad, torch.add(torch.sqrt(v_1[key]),args.tau)), args.server_lr)\n",
    "                \n",
    "#                 big1 = torch.max(param.data)\n",
    "#                 clip_grad_norm_(param.data, max_norm = big1)\n",
    "#                 m1 = Laplace(torch.tensor([0.0]).to(device),  torch.tensor([1.0]).to(device)) # scale=sensitivity/epsilon\n",
    "#                 param.data = torch.add(param.data, m1.sample())\n",
    "                \n",
    "                for client_idx in range(len(client_weights)):\n",
    "                    models_1[client_idx].state_dict()[key].data.copy_(server_model_1.state_dict()[key])\n",
    "            for key, param in server_model_2.named_parameters():       \n",
    "                clip = clip_generator(norm_bound=group['norm_bound'])\n",
    "                add_noise = add_noise_generator(noise_scale=group['noise_scale'] * group['norm_bound'])\n",
    "                \n",
    "                temp = torch.zeros_like(server_model_2.state_dict()[key])\n",
    "                for client_idx in range(len(client_weights)):\n",
    "                    temp += client_weights[client_idx] * models_2[client_idx].state_dict()[key]                         \n",
    "                param.grad = temp - param.data   \n",
    "                param.grad = add_noise(clip(param.grad))\n",
    "                param.grad = torch.mul(grad_2[key], args.beta_1) + torch.mul(param.grad, 1-args.beta_1) \n",
    "                grad_2[key] = param.grad                \n",
    "                v_2[key] = torch.mul(v_2[key], args.beta_2) + torch.mul(param.grad**2, 1-args.beta_2)\n",
    "                param.data = param.data + torch.mul(torch.div(param.grad, torch.add(torch.sqrt(v_2[key]),args.tau)), args.server_lr)\n",
    "                \n",
    "#                 big2 = torch.max(param.data)\n",
    "#                 clip_grad_norm_(param.data, max_norm = big2)\n",
    "#                 m2 = Laplace(torch.tensor([0.0]).to(device), torch.tensor([1.0]).to(device)) # scale=sensitivity/epsilon\n",
    "#                 param.data = torch.add(param.data, m2.sample())\n",
    "                \n",
    "                for client_idx in range(len(client_weights)):\n",
    "                    models_2[client_idx].state_dict()[key].data.copy_(server_model_2.state_dict()[key])\n",
    "\n",
    "    else:\n",
    "        with torch.no_grad():\n",
    "            for key in server_model_1.state_dict().keys():#遇到BN層就直接拿第一個client參數使用\n",
    "                # num_batches_tracked is a non trainable LongTensor and\n",
    "                # num_batches_tracked are the same for all clients for the given datasets\n",
    "                if 'num_batches_tracked' in key:\n",
    "                    server_model_1.state_dict()[key].data.copy_(models_1[0].state_dict()[key])\n",
    "                else:\n",
    "                    temp = torch.zeros_like(server_model_1.state_dict()[key]).to(device)\n",
    "                    for client_idx in range(len(client_weights)):\n",
    "                        temp += client_weights[client_idx] * models_1[client_idx].state_dict()[key]                        \n",
    "                    server_model_1.state_dict()[key].data.copy_(temp)#weight傳給server\n",
    "                    for client_idx in range(len(client_weights)):\n",
    "                        models_1[client_idx].state_dict()[key].data.copy_(server_model_1.state_dict()[key])  \n",
    "            for key in server_model_2.state_dict().keys():#遇到BN層就直接拿第一個client參數使用\n",
    "                # num_batches_tracked is a non trainable LongTensor and\n",
    "                # num_batches_tracked are the same for all clients for the given datasets\n",
    "                if 'num_batches_tracked' in key:\n",
    "                    server_model_2.state_dict()[key].data.copy_(models_2[0].state_dict()[key])\n",
    "                else:\n",
    "                    temp = torch.zeros_like(server_model_2.state_dict()[key]).to(device)\n",
    "                    for client_idx in range(len(client_weights)):\n",
    "                        temp += client_weights[client_idx] * models_2[client_idx].state_dict()[key]                        \n",
    "                    server_model_2.state_dict()[key].data.copy_(temp)#weight傳給server\n",
    "                    for client_idx in range(len(client_weights)):\n",
    "                        models_2[client_idx].state_dict()[key].data.copy_(server_model_2.state_dict()[key])  \n",
    "    return server_model_1, server_model_2, models_1, models_2, v_1, v_2, grad_1, grad_2"
   ]
  },
  {
   "cell_type": "code",
   "execution_count": 8,
   "metadata": {
    "ExecuteTime": {
     "end_time": "2022-08-08T23:11:24.751620Z",
     "start_time": "2022-08-08T17:34:25.606108Z"
    }
   },
   "outputs": [
    {
     "name": "stdout",
     "output_type": "stream",
     "text": [
      "============ Train epoch 0 ============\n",
      "Client  0\n",
      "File ../data/hdfs/hdfs_train, number of sessions 4855\n",
      "File ../data/hdfs/hdfs_train, number of seqs 46575\n"
     ]
    },
    {
     "name": "stderr",
     "output_type": "stream",
     "text": [
      "  0%|▎                                                                              | 18/5258 [00:00<00:31, 168.23it/s]"
     ]
    },
    {
     "name": "stdout",
     "output_type": "stream",
     "text": [
      "sampling...\n"
     ]
    },
    {
     "name": "stderr",
     "output_type": "stream",
     "text": [
      "100%|█████████████████████████████████████████████████████████████████████████████| 5258/5258 [00:29<00:00, 181.26it/s]\n",
      ":   0%|                                                                                        | 0/23 [00:00<?, ?it/s]"
     ]
    },
    {
     "name": "stdout",
     "output_type": "stream",
     "text": [
      "File ../data/hdfs/hdfs_test_normal, number of sessions 553366\n",
      "File ../data/hdfs/hdfs_test_normal, number of seqs 5258\n",
      "Find 46575 train logs, 5258 validation logs\n",
      "Train batch size 2048 ,Validation batch size 2048\n",
      "Starting epoch: 0 | phase: train | ⏰: 01:35:59 | Learning rate: 0.000313\n"
     ]
    },
    {
     "name": "stderr",
     "output_type": "stream",
     "text": [
      "Train loss: 3.13767: 100%|█████████████████████████████████████████████████████████████| 23/23 [00:10<00:00,  2.22it/s]\n",
      "Train loss: 2.77469:  22%|█████████████▍                                                | 5/23 [00:00<00:00, 49.02it/s]"
     ]
    },
    {
     "name": "stdout",
     "output_type": "stream",
     "text": [
      "Starting epoch: 1 | phase: train | ⏰: 01:36:09 | Learning rate: 0.000625\n"
     ]
    },
    {
     "name": "stderr",
     "output_type": "stream",
     "text": [
      "Train loss: 2.41243: 100%|█████████████████████████████████████████████████████████████| 23/23 [00:00<00:00, 47.13it/s]\n",
      "Train loss: 1.87906:  17%|██████████▊                                                   | 4/23 [00:00<00:00, 38.84it/s]"
     ]
    },
    {
     "name": "stdout",
     "output_type": "stream",
     "text": [
      "Starting epoch: 2 | phase: train | ⏰: 01:36:09 | Learning rate: 0.001250\n"
     ]
    },
    {
     "name": "stderr",
     "output_type": "stream",
     "text": [
      "Train loss: 1.77570: 100%|█████████████████████████████████████████████████████████████| 23/23 [00:00<00:00, 47.42it/s]\n",
      "Train loss: 1.53862:  26%|████████████████▏                                             | 6/23 [00:00<00:00, 52.17it/s]"
     ]
    },
    {
     "name": "stdout",
     "output_type": "stream",
     "text": [
      "Starting epoch: 3 | phase: train | ⏰: 01:36:10 | Learning rate: 0.002500\n"
     ]
    },
    {
     "name": "stderr",
     "output_type": "stream",
     "text": [
      "Train loss: 1.39904: 100%|█████████████████████████████████████████████████████████████| 23/23 [00:00<00:00, 48.22it/s]\n",
      "Train loss: 1.10345:  22%|█████████████▍                                                | 5/23 [00:00<00:00, 47.62it/s]"
     ]
    },
    {
     "name": "stdout",
     "output_type": "stream",
     "text": [
      "Starting epoch: 4 | phase: train | ⏰: 01:36:10 | Learning rate: 0.005000\n"
     ]
    },
    {
     "name": "stderr",
     "output_type": "stream",
     "text": [
      "Train loss: 0.91888: 100%|█████████████████████████████████████████████████████████████| 23/23 [00:00<00:00, 45.91it/s]\n",
      "Train loss: 0.83725:  26%|████████████████▏                                             | 6/23 [00:00<00:00, 54.05it/s]"
     ]
    },
    {
     "name": "stdout",
     "output_type": "stream",
     "text": [
      "Starting epoch: 5 | phase: train | ⏰: 01:36:11 | Learning rate: 0.010000\n"
     ]
    },
    {
     "name": "stderr",
     "output_type": "stream",
     "text": [
      "Train loss: 0.71525: 100%|█████████████████████████████████████████████████████████████| 23/23 [00:00<00:00, 45.82it/s]\n",
      "Train loss: 0.55322:  22%|█████████████▍                                                | 5/23 [00:00<00:00, 45.05it/s]"
     ]
    },
    {
     "name": "stdout",
     "output_type": "stream",
     "text": [
      "Starting epoch: 6 | phase: train | ⏰: 01:36:11 | Learning rate: 0.010000\n"
     ]
    },
    {
     "name": "stderr",
     "output_type": "stream",
     "text": [
      "Train loss: 0.50006: 100%|█████████████████████████████████████████████████████████████| 23/23 [00:00<00:00, 42.36it/s]\n",
      ": 100%|█████████████████████████████████████████████████████████████████████████████████| 3/3 [00:00<00:00, 76.92it/s]\n",
      "Train loss: 0.45137:  22%|█████████████▍                                                | 5/23 [00:00<00:00, 47.62it/s]"
     ]
    },
    {
     "name": "stdout",
     "output_type": "stream",
     "text": [
      "Starting epoch: 6 | phase: valid | ⏰: 01:36:12 \n",
      "Validation loss: 0.43038278818130493\n",
      "Starting epoch: 7 | phase: train | ⏰: 01:36:12 | Learning rate: 0.010000\n"
     ]
    },
    {
     "name": "stderr",
     "output_type": "stream",
     "text": [
      "Train loss: 0.42333: 100%|█████████████████████████████████████████████████████████████| 23/23 [00:00<00:00, 42.20it/s]\n",
      "Train loss: 0.43943:  22%|█████████████▍                                                | 5/23 [00:00<00:00, 42.74it/s]"
     ]
    },
    {
     "name": "stdout",
     "output_type": "stream",
     "text": [
      "Starting epoch: 8 | phase: train | ⏰: 01:36:13 | Learning rate: 0.010000\n"
     ]
    },
    {
     "name": "stderr",
     "output_type": "stream",
     "text": [
      "Train loss: 0.39924: 100%|█████████████████████████████████████████████████████████████| 23/23 [00:00<00:00, 41.44it/s]\n",
      ": 100%|█████████████████████████████████████████████████████████████████████████████████| 3/3 [00:00<00:00, 76.92it/s]\n",
      "Train loss: 0.36377:  17%|██████████▊                                                   | 4/23 [00:00<00:00, 32.26it/s]"
     ]
    },
    {
     "name": "stdout",
     "output_type": "stream",
     "text": [
      "Starting epoch: 8 | phase: valid | ⏰: 01:36:13 \n",
      "Validation loss: 0.35550713539123535\n",
      "Starting epoch: 9 | phase: train | ⏰: 01:36:13 | Learning rate: 0.010000\n"
     ]
    },
    {
     "name": "stderr",
     "output_type": "stream",
     "text": [
      "Train loss: 0.35325: 100%|█████████████████████████████████████████████████████████████| 23/23 [00:00<00:00, 40.00it/s]\n"
     ]
    },
    {
     "name": "stdout",
     "output_type": "stream",
     "text": [
      "============ Test epoch 0 ============\n",
      "Client  0\n"
     ]
    },
    {
     "name": "stderr",
     "output_type": "stream",
     "text": [
      "\r",
      "  0%|                                                                                        | 0/14177 [00:00<?, ?it/s]"
     ]
    },
    {
     "name": "stdout",
     "output_type": "stream",
     "text": [
      "Number of sessions(hdfs_test_normal): 14177\n",
      "Number of sessions(hdfs_test_abnormal): 4123\n"
     ]
    },
    {
     "name": "stderr",
     "output_type": "stream",
     "text": [
      "100%|███████████████████████████████████████████████████████████████████████████| 14177/14177 [00:38<00:00, 366.83it/s]\n",
      "100%|█████████████████████████████████████████████████████████████████████████████| 4123/4123 [00:11<00:00, 373.49it/s]\n"
     ]
    },
    {
     "name": "stdout",
     "output_type": "stream",
     "text": [
      "false positive (FP): 160390, false negative (FN): 3364, Precision: 7.750%, Recall: 80.021%, F1-measure: 14.131%\n",
      "actual positive (TP+FN): 16838, actual negative (FP+TN): 553366\n",
      "accuracy: 71.282\n",
      "Finished Predicting\n",
      "elapsed_time: 49.68799424171448\n",
      "============ Train epoch 1 ============\n",
      "Client  0\n",
      "File ../data/hdfs/hdfs_train, number of sessions 4855\n",
      "File ../data/hdfs/hdfs_train, number of seqs 46575\n"
     ]
    },
    {
     "name": "stderr",
     "output_type": "stream",
     "text": [
      "  0%|▎                                                                              | 21/5258 [00:00<00:26, 198.11it/s]"
     ]
    },
    {
     "name": "stdout",
     "output_type": "stream",
     "text": [
      "sampling...\n"
     ]
    },
    {
     "name": "stderr",
     "output_type": "stream",
     "text": [
      "100%|█████████████████████████████████████████████████████████████████████████████| 5258/5258 [00:29<00:00, 179.56it/s]\n"
     ]
    },
    {
     "name": "stdout",
     "output_type": "stream",
     "text": [
      "File ../data/hdfs/hdfs_test_normal, number of sessions 553366\n",
      "File ../data/hdfs/hdfs_test_normal, number of seqs 5258\n",
      "Find 46575 train logs, 5258 validation logs\n",
      "Train batch size 2048 ,Validation batch size 2048\n"
     ]
    },
    {
     "name": "stderr",
     "output_type": "stream",
     "text": [
      "\r",
      "\r",
      ":   0%|                                                                                        | 0/23 [00:00<?, ?it/s]"
     ]
    },
    {
     "name": "stdout",
     "output_type": "stream",
     "text": [
      "Starting epoch: 0 | phase: train | ⏰: 01:38:29 | Learning rate: 0.000313\n"
     ]
    },
    {
     "name": "stderr",
     "output_type": "stream",
     "text": [
      "Train loss: 2.80392: 100%|█████████████████████████████████████████████████████████████| 23/23 [00:02<00:00,  8.31it/s]\n",
      "Train loss: 2.20198:  22%|█████████████▍                                                | 5/23 [00:00<00:00, 45.45it/s]"
     ]
    },
    {
     "name": "stdout",
     "output_type": "stream",
     "text": [
      "Starting epoch: 1 | phase: train | ⏰: 01:38:31 | Learning rate: 0.000625\n"
     ]
    },
    {
     "name": "stderr",
     "output_type": "stream",
     "text": [
      "Train loss: 1.94491: 100%|█████████████████████████████████████████████████████████████| 23/23 [00:00<00:00, 44.06it/s]\n",
      "Train loss: 1.52236:  22%|█████████████▍                                                | 5/23 [00:00<00:00, 42.37it/s]"
     ]
    },
    {
     "name": "stdout",
     "output_type": "stream",
     "text": [
      "Starting epoch: 2 | phase: train | ⏰: 01:38:32 | Learning rate: 0.001250\n"
     ]
    },
    {
     "name": "stderr",
     "output_type": "stream",
     "text": [
      "Train loss: 1.34172: 100%|█████████████████████████████████████████████████████████████| 23/23 [00:00<00:00, 42.75it/s]\n",
      "Train loss: 0.99756:  22%|█████████████▍                                                | 5/23 [00:00<00:00, 38.17it/s]"
     ]
    },
    {
     "name": "stdout",
     "output_type": "stream",
     "text": [
      "Starting epoch: 3 | phase: train | ⏰: 01:38:32 | Learning rate: 0.002500\n"
     ]
    },
    {
     "name": "stderr",
     "output_type": "stream",
     "text": [
      "Train loss: 0.84075: 100%|█████████████████████████████████████████████████████████████| 23/23 [00:00<00:00, 43.81it/s]\n",
      "Train loss: 0.93401:  22%|█████████████▍                                                | 5/23 [00:00<00:00, 47.62it/s]"
     ]
    },
    {
     "name": "stdout",
     "output_type": "stream",
     "text": [
      "Starting epoch: 4 | phase: train | ⏰: 01:38:33 | Learning rate: 0.005000\n"
     ]
    },
    {
     "name": "stderr",
     "output_type": "stream",
     "text": [
      "Train loss: 0.77366: 100%|█████████████████████████████████████████████████████████████| 23/23 [00:00<00:00, 43.31it/s]\n",
      "Train loss: 0.57554:  22%|█████████████▍                                                | 5/23 [00:00<00:00, 43.86it/s]"
     ]
    },
    {
     "name": "stdout",
     "output_type": "stream",
     "text": [
      "Starting epoch: 5 | phase: train | ⏰: 01:38:33 | Learning rate: 0.010000\n"
     ]
    },
    {
     "name": "stderr",
     "output_type": "stream",
     "text": [
      "Train loss: 0.52901: 100%|█████████████████████████████████████████████████████████████| 23/23 [00:00<00:00, 44.15it/s]\n",
      "Train loss: 0.45855:  26%|████████████████▏                                             | 6/23 [00:00<00:00, 50.42it/s]"
     ]
    },
    {
     "name": "stdout",
     "output_type": "stream",
     "text": [
      "Starting epoch: 6 | phase: train | ⏰: 01:38:34 | Learning rate: 0.010000\n"
     ]
    },
    {
     "name": "stderr",
     "output_type": "stream",
     "text": [
      "Train loss: 0.44446: 100%|█████████████████████████████████████████████████████████████| 23/23 [00:00<00:00, 41.82it/s]\n",
      ": 100%|█████████████████████████████████████████████████████████████████████████████████| 3/3 [00:00<00:00, 27.52it/s]\n",
      "Train loss: 0.43677:   0%|                                                                      | 0/23 [00:00<?, ?it/s]"
     ]
    },
    {
     "name": "stdout",
     "output_type": "stream",
     "text": [
      "Starting epoch: 6 | phase: valid | ⏰: 01:38:34 \n",
      "Validation loss: 0.4416523079077403\n",
      "Starting epoch: 7 | phase: train | ⏰: 01:38:35 | Learning rate: 0.010000\n"
     ]
    },
    {
     "name": "stderr",
     "output_type": "stream",
     "text": [
      "Train loss: 0.43107: 100%|█████████████████████████████████████████████████████████████| 23/23 [00:00<00:00, 40.07it/s]\n",
      "Train loss: 0.37919:  22%|█████████████▍                                                | 5/23 [00:00<00:00, 46.73it/s]"
     ]
    },
    {
     "name": "stdout",
     "output_type": "stream",
     "text": [
      "Starting epoch: 8 | phase: train | ⏰: 01:38:35 | Learning rate: 0.010000\n"
     ]
    },
    {
     "name": "stderr",
     "output_type": "stream",
     "text": [
      "Train loss: 0.37127: 100%|█████████████████████████████████████████████████████████████| 23/23 [00:00<00:00, 43.89it/s]\n",
      ": 100%|█████████████████████████████████████████████████████████████████████████████████| 3/3 [00:00<00:00, 73.17it/s]\n",
      "Train loss: 0.38394:  17%|██████████▊                                                   | 4/23 [00:00<00:00, 33.61it/s]"
     ]
    },
    {
     "name": "stdout",
     "output_type": "stream",
     "text": [
      "Starting epoch: 8 | phase: valid | ⏰: 01:38:36 \n",
      "Validation loss: 0.35669517517089844\n",
      "Starting epoch: 9 | phase: train | ⏰: 01:38:36 | Learning rate: 0.010000\n"
     ]
    },
    {
     "name": "stderr",
     "output_type": "stream",
     "text": [
      "Train loss: 0.41140: 100%|█████████████████████████████████████████████████████████████| 23/23 [00:00<00:00, 40.64it/s]\n"
     ]
    },
    {
     "name": "stdout",
     "output_type": "stream",
     "text": [
      "============ Test epoch 1 ============\n",
      "Client  0\n"
     ]
    },
    {
     "name": "stderr",
     "output_type": "stream",
     "text": [
      "\r",
      "  0%|                                                                                        | 0/14177 [00:00<?, ?it/s]"
     ]
    },
    {
     "name": "stdout",
     "output_type": "stream",
     "text": [
      "Number of sessions(hdfs_test_normal): 14177\n",
      "Number of sessions(hdfs_test_abnormal): 4123\n"
     ]
    },
    {
     "name": "stderr",
     "output_type": "stream",
     "text": [
      "100%|███████████████████████████████████████████████████████████████████████████| 14177/14177 [00:39<00:00, 359.54it/s]\n",
      "100%|█████████████████████████████████████████████████████████████████████████████| 4123/4123 [00:15<00:00, 263.13it/s]\n"
     ]
    },
    {
     "name": "stdout",
     "output_type": "stream",
     "text": [
      "false positive (FP): 159949, false negative (FN): 342, Precision: 9.349%, Recall: 97.969%, F1-measure: 17.069%\n",
      "actual positive (TP+FN): 16838, actual negative (FP+TN): 553366\n",
      "accuracy: 71.889\n",
      "Finished Predicting\n",
      "elapsed_time: 55.10333776473999\n",
      "============ Train epoch 2 ============\n",
      "Client  0\n",
      "File ../data/hdfs/hdfs_train, number of sessions 4855\n",
      "File ../data/hdfs/hdfs_train, number of seqs 46575\n",
      "sampling...\n"
     ]
    },
    {
     "name": "stderr",
     "output_type": "stream",
     "text": [
      "100%|█████████████████████████████████████████████████████████████████████████████| 5258/5258 [00:29<00:00, 176.99it/s]\n"
     ]
    },
    {
     "name": "stdout",
     "output_type": "stream",
     "text": [
      "File ../data/hdfs/hdfs_test_normal, number of sessions 553366\n",
      "File ../data/hdfs/hdfs_test_normal, number of seqs 5258\n",
      "Find 46575 train logs, 5258 validation logs\n",
      "Train batch size 2048 ,Validation batch size 2048\n"
     ]
    },
    {
     "name": "stderr",
     "output_type": "stream",
     "text": [
      "Train loss: 2.47806:  13%|████████                                                      | 3/23 [00:00<00:00, 26.09it/s]"
     ]
    },
    {
     "name": "stdout",
     "output_type": "stream",
     "text": [
      "Starting epoch: 0 | phase: train | ⏰: 01:40:55 | Learning rate: 0.000313\n"
     ]
    },
    {
     "name": "stderr",
     "output_type": "stream",
     "text": [
      "Train loss: 2.08523: 100%|█████████████████████████████████████████████████████████████| 23/23 [00:00<00:00, 39.86it/s]\n",
      "Train loss: 1.51051:  22%|█████████████▍                                                | 5/23 [00:00<00:00, 45.87it/s]"
     ]
    },
    {
     "name": "stdout",
     "output_type": "stream",
     "text": [
      "Starting epoch: 1 | phase: train | ⏰: 01:40:55 | Learning rate: 0.000625\n"
     ]
    },
    {
     "name": "stderr",
     "output_type": "stream",
     "text": [
      "Train loss: 1.27606: 100%|█████████████████████████████████████████████████████████████| 23/23 [00:00<00:00, 43.81it/s]\n",
      "Train loss: 0.89746:  26%|████████████████▏                                             | 6/23 [00:00<00:00, 48.39it/s]"
     ]
    },
    {
     "name": "stdout",
     "output_type": "stream",
     "text": [
      "Starting epoch: 2 | phase: train | ⏰: 01:40:56 | Learning rate: 0.001250\n"
     ]
    },
    {
     "name": "stderr",
     "output_type": "stream",
     "text": [
      "Train loss: 0.77396: 100%|█████████████████████████████████████████████████████████████| 23/23 [00:00<00:00, 46.56it/s]\n",
      "Train loss: 0.61267:  22%|█████████████▍                                                | 5/23 [00:00<00:00, 37.04it/s]"
     ]
    },
    {
     "name": "stdout",
     "output_type": "stream",
     "text": [
      "Starting epoch: 3 | phase: train | ⏰: 01:40:56 | Learning rate: 0.002500\n"
     ]
    },
    {
     "name": "stderr",
     "output_type": "stream",
     "text": [
      "Train loss: 0.56897: 100%|█████████████████████████████████████████████████████████████| 23/23 [00:00<00:00, 41.59it/s]\n",
      "Train loss: 0.55341:  22%|█████████████▍                                                | 5/23 [00:00<00:00, 48.54it/s]"
     ]
    },
    {
     "name": "stdout",
     "output_type": "stream",
     "text": [
      "Starting epoch: 4 | phase: train | ⏰: 01:40:57 | Learning rate: 0.005000\n"
     ]
    },
    {
     "name": "stderr",
     "output_type": "stream",
     "text": [
      "Train loss: 0.53127: 100%|█████████████████████████████████████████████████████████████| 23/23 [00:00<00:00, 45.28it/s]\n",
      "Train loss: 0.44969:  22%|█████████████▍                                                | 5/23 [00:00<00:00, 45.05it/s]"
     ]
    },
    {
     "name": "stdout",
     "output_type": "stream",
     "text": [
      "Starting epoch: 5 | phase: train | ⏰: 01:40:57 | Learning rate: 0.010000\n"
     ]
    },
    {
     "name": "stderr",
     "output_type": "stream",
     "text": [
      "Train loss: 0.43183: 100%|█████████████████████████████████████████████████████████████| 23/23 [00:00<00:00, 42.20it/s]\n",
      "Train loss: 0.39422:  22%|█████████████▍                                                | 5/23 [00:00<00:00, 46.30it/s]"
     ]
    },
    {
     "name": "stdout",
     "output_type": "stream",
     "text": [
      "Starting epoch: 6 | phase: train | ⏰: 01:40:58 | Learning rate: 0.010000\n"
     ]
    },
    {
     "name": "stderr",
     "output_type": "stream",
     "text": [
      "Train loss: 0.37718: 100%|█████████████████████████████████████████████████████████████| 23/23 [00:00<00:00, 44.49it/s]\n",
      ": 100%|█████████████████████████████████████████████████████████████████████████████████| 3/3 [00:00<00:00, 73.17it/s]\n",
      "Train loss: 0.34057:  17%|██████████▊                                                   | 4/23 [00:00<00:00, 33.06it/s]"
     ]
    },
    {
     "name": "stdout",
     "output_type": "stream",
     "text": [
      "Starting epoch: 6 | phase: valid | ⏰: 01:40:58 \n",
      "Validation loss: 0.3478781183560689\n",
      "Starting epoch: 7 | phase: train | ⏰: 01:40:58 | Learning rate: 0.010000\n"
     ]
    },
    {
     "name": "stderr",
     "output_type": "stream",
     "text": [
      "Train loss: 0.43945: 100%|█████████████████████████████████████████████████████████████| 23/23 [00:00<00:00, 41.97it/s]\n",
      "Train loss: 0.38589:  22%|█████████████▍                                                | 5/23 [00:00<00:00, 48.08it/s]"
     ]
    },
    {
     "name": "stdout",
     "output_type": "stream",
     "text": [
      "Starting epoch: 8 | phase: train | ⏰: 01:40:59 | Learning rate: 0.010000\n"
     ]
    },
    {
     "name": "stderr",
     "output_type": "stream",
     "text": [
      "Train loss: 0.35838: 100%|█████████████████████████████████████████████████████████████| 23/23 [00:00<00:00, 44.23it/s]\n",
      ": 100%|█████████████████████████████████████████████████████████████████████████████████| 3/3 [00:00<00:00, 69.77it/s]\n",
      "Train loss: 0.31498:  17%|██████████▊                                                   | 4/23 [00:00<00:00, 34.48it/s]"
     ]
    },
    {
     "name": "stdout",
     "output_type": "stream",
     "text": [
      "Starting epoch: 8 | phase: valid | ⏰: 01:40:59 \n",
      "Validation loss: 0.3247678279876709\n",
      "Starting epoch: 9 | phase: train | ⏰: 01:40:59 | Learning rate: 0.010000\n"
     ]
    },
    {
     "name": "stderr",
     "output_type": "stream",
     "text": [
      "Train loss: 0.30894: 100%|█████████████████████████████████████████████████████████████| 23/23 [00:00<00:00, 42.20it/s]\n"
     ]
    },
    {
     "name": "stdout",
     "output_type": "stream",
     "text": [
      "============ Test epoch 2 ============\n",
      "Client  0\n"
     ]
    },
    {
     "name": "stderr",
     "output_type": "stream",
     "text": [
      "\r",
      "  0%|                                                                                        | 0/14177 [00:00<?, ?it/s]"
     ]
    },
    {
     "name": "stdout",
     "output_type": "stream",
     "text": [
      "Number of sessions(hdfs_test_normal): 14177\n",
      "Number of sessions(hdfs_test_abnormal): 4123\n"
     ]
    },
    {
     "name": "stderr",
     "output_type": "stream",
     "text": [
      "100%|███████████████████████████████████████████████████████████████████████████| 14177/14177 [01:28<00:00, 160.10it/s]\n",
      "100%|█████████████████████████████████████████████████████████████████████████████| 4123/4123 [00:27<00:00, 149.35it/s]\n"
     ]
    },
    {
     "name": "stdout",
     "output_type": "stream",
     "text": [
      "false positive (FP): 160323, false negative (FN): 157, Precision: 9.424%, Recall: 99.068%, F1-measure: 17.211%\n",
      "actual positive (TP+FN): 16838, actual negative (FP+TN): 553366\n",
      "accuracy: 71.856\n",
      "Finished Predicting\n",
      "elapsed_time: 116.15798568725586\n",
      "============ Train epoch 3 ============\n",
      "Client  0\n",
      "File ../data/hdfs/hdfs_train, number of sessions 4855\n",
      "File ../data/hdfs/hdfs_train, number of seqs 46575\n"
     ]
    },
    {
     "name": "stderr",
     "output_type": "stream",
     "text": [
      "  0%|▎                                                                              | 24/5258 [00:00<00:22, 233.01it/s]"
     ]
    },
    {
     "name": "stdout",
     "output_type": "stream",
     "text": [
      "sampling...\n"
     ]
    },
    {
     "name": "stderr",
     "output_type": "stream",
     "text": [
      "100%|█████████████████████████████████████████████████████████████████████████████| 5258/5258 [00:30<00:00, 174.73it/s]\n"
     ]
    },
    {
     "name": "stdout",
     "output_type": "stream",
     "text": [
      "File ../data/hdfs/hdfs_test_normal, number of sessions 553366\n",
      "File ../data/hdfs/hdfs_test_normal, number of seqs 5258\n",
      "Find 46575 train logs, 5258 validation logs\n",
      "Train batch size 2048 ,Validation batch size 2048\n"
     ]
    },
    {
     "name": "stderr",
     "output_type": "stream",
     "text": [
      "Train loss: 1.89812:  22%|█████████████▍                                                | 5/23 [00:00<00:00, 45.04it/s]"
     ]
    },
    {
     "name": "stdout",
     "output_type": "stream",
     "text": [
      "Starting epoch: 0 | phase: train | ⏰: 01:44:22 | Learning rate: 0.000313\n"
     ]
    },
    {
     "name": "stderr",
     "output_type": "stream",
     "text": [
      "Train loss: 1.51153: 100%|█████████████████████████████████████████████████████████████| 23/23 [00:00<00:00, 43.56it/s]\n",
      "Train loss: 0.99578:  22%|█████████████▍                                                | 5/23 [00:00<00:00, 46.30it/s]"
     ]
    },
    {
     "name": "stdout",
     "output_type": "stream",
     "text": [
      "Starting epoch: 1 | phase: train | ⏰: 01:44:23 | Learning rate: 0.000625\n"
     ]
    },
    {
     "name": "stderr",
     "output_type": "stream",
     "text": [
      "Train loss: 0.85826: 100%|█████████████████████████████████████████████████████████████| 23/23 [00:00<00:00, 44.83it/s]\n",
      "Train loss: 0.64863:  22%|█████████████▍                                                | 5/23 [00:00<00:00, 46.73it/s]"
     ]
    },
    {
     "name": "stdout",
     "output_type": "stream",
     "text": [
      "Starting epoch: 2 | phase: train | ⏰: 01:44:23 | Learning rate: 0.001250\n"
     ]
    },
    {
     "name": "stderr",
     "output_type": "stream",
     "text": [
      "Train loss: 0.57666: 100%|█████████████████████████████████████████████████████████████| 23/23 [00:00<00:00, 43.56it/s]\n",
      "Train loss: 0.48744:  22%|█████████████▍                                                | 5/23 [00:00<00:00, 33.56it/s]"
     ]
    },
    {
     "name": "stdout",
     "output_type": "stream",
     "text": [
      "Starting epoch: 3 | phase: train | ⏰: 01:44:24 | Learning rate: 0.002500\n"
     ]
    },
    {
     "name": "stderr",
     "output_type": "stream",
     "text": [
      "Train loss: 0.45878: 100%|█████████████████████████████████████████████████████████████| 23/23 [00:00<00:00, 37.89it/s]\n",
      "Train loss: 0.46199:  17%|██████████▊                                                   | 4/23 [00:00<00:00, 37.38it/s]"
     ]
    },
    {
     "name": "stdout",
     "output_type": "stream",
     "text": [
      "Starting epoch: 4 | phase: train | ⏰: 01:44:24 | Learning rate: 0.005000\n"
     ]
    },
    {
     "name": "stderr",
     "output_type": "stream",
     "text": [
      "Train loss: 0.48200: 100%|█████████████████████████████████████████████████████████████| 23/23 [00:00<00:00, 39.18it/s]\n",
      "Train loss: 0.40557:  22%|█████████████▍                                                | 5/23 [00:00<00:00, 42.02it/s]"
     ]
    },
    {
     "name": "stdout",
     "output_type": "stream",
     "text": [
      "Starting epoch: 5 | phase: train | ⏰: 01:44:25 | Learning rate: 0.010000\n"
     ]
    },
    {
     "name": "stderr",
     "output_type": "stream",
     "text": [
      "Train loss: 0.39071: 100%|█████████████████████████████████████████████████████████████| 23/23 [00:00<00:00, 41.14it/s]\n",
      "Train loss: 0.35542:  22%|█████████████▍                                                | 5/23 [00:00<00:00, 45.87it/s]"
     ]
    },
    {
     "name": "stdout",
     "output_type": "stream",
     "text": [
      "Starting epoch: 6 | phase: train | ⏰: 01:44:25 | Learning rate: 0.010000\n"
     ]
    },
    {
     "name": "stderr",
     "output_type": "stream",
     "text": [
      "Train loss: 0.34328: 100%|█████████████████████████████████████████████████████████████| 23/23 [00:00<00:00, 40.93it/s]\n",
      ": 100%|█████████████████████████████████████████████████████████████████████████████████| 3/3 [00:00<00:00, 53.57it/s]\n",
      "Train loss: 0.32365:  17%|██████████▊                                                   | 4/23 [00:00<00:00, 32.00it/s]"
     ]
    },
    {
     "name": "stdout",
     "output_type": "stream",
     "text": [
      "Starting epoch: 6 | phase: valid | ⏰: 01:44:26 \n",
      "Validation loss: 0.3044190506140391\n",
      "Starting epoch: 7 | phase: train | ⏰: 01:44:26 | Learning rate: 0.010000\n"
     ]
    },
    {
     "name": "stderr",
     "output_type": "stream",
     "text": [
      "Train loss: 0.30127: 100%|█████████████████████████████████████████████████████████████| 23/23 [00:00<00:00, 38.08it/s]\n",
      "Train loss: 0.29058:  17%|██████████▊                                                   | 4/23 [00:00<00:00, 40.00it/s]"
     ]
    },
    {
     "name": "stdout",
     "output_type": "stream",
     "text": [
      "Starting epoch: 8 | phase: train | ⏰: 01:44:27 | Learning rate: 0.010000\n"
     ]
    },
    {
     "name": "stderr",
     "output_type": "stream",
     "text": [
      "Train loss: 0.37212: 100%|█████████████████████████████████████████████████████████████| 23/23 [00:00<00:00, 40.85it/s]\n",
      ": 100%|█████████████████████████████████████████████████████████████████████████████████| 3/3 [00:00<00:00, 61.22it/s]\n",
      "Train loss: 0.48469:  17%|██████████▊                                                   | 4/23 [00:00<00:00, 32.79it/s]"
     ]
    },
    {
     "name": "stdout",
     "output_type": "stream",
     "text": [
      "Starting epoch: 8 | phase: valid | ⏰: 01:44:27 \n",
      "Validation loss: 0.40905990203221637\n",
      "Starting epoch: 9 | phase: train | ⏰: 01:44:27 | Learning rate: 0.010000\n"
     ]
    },
    {
     "name": "stderr",
     "output_type": "stream",
     "text": [
      "Train loss: 0.42074: 100%|█████████████████████████████████████████████████████████████| 23/23 [00:00<00:00, 39.52it/s]\n"
     ]
    },
    {
     "name": "stdout",
     "output_type": "stream",
     "text": [
      "============ Test epoch 3 ============\n",
      "Client  0\n"
     ]
    },
    {
     "name": "stderr",
     "output_type": "stream",
     "text": [
      "\r",
      "  0%|                                                                                        | 0/14177 [00:00<?, ?it/s]"
     ]
    },
    {
     "name": "stdout",
     "output_type": "stream",
     "text": [
      "Number of sessions(hdfs_test_normal): 14177\n",
      "Number of sessions(hdfs_test_abnormal): 4123\n"
     ]
    },
    {
     "name": "stderr",
     "output_type": "stream",
     "text": [
      "100%|████████████████████████████████████████████████████████████████████████████| 14177/14177 [02:27<00:00, 95.97it/s]\n",
      "100%|█████████████████████████████████████████████████████████████████████████████| 4123/4123 [00:23<00:00, 174.76it/s]\n"
     ]
    },
    {
     "name": "stdout",
     "output_type": "stream",
     "text": [
      "false positive (FP): 47980, false negative (FN): 110, Precision: 25.852%, Recall: 99.347%, F1-measure: 41.027%\n",
      "actual positive (TP+FN): 16838, actual negative (FP+TN): 553366\n",
      "accuracy: 91.566\n",
      "Finished Predicting\n",
      "elapsed_time: 171.30898022651672\n",
      "============ Train epoch 4 ============\n",
      "Client  0\n",
      "File ../data/hdfs/hdfs_train, number of sessions 4855\n",
      "File ../data/hdfs/hdfs_train, number of seqs 46575\n"
     ]
    },
    {
     "name": "stderr",
     "output_type": "stream",
     "text": [
      "  1%|▌                                                                              | 36/5258 [00:00<00:29, 176.83it/s]"
     ]
    },
    {
     "name": "stdout",
     "output_type": "stream",
     "text": [
      "sampling...\n"
     ]
    },
    {
     "name": "stderr",
     "output_type": "stream",
     "text": [
      "100%|█████████████████████████████████████████████████████████████████████████████| 5258/5258 [00:30<00:00, 175.15it/s]\n"
     ]
    },
    {
     "name": "stdout",
     "output_type": "stream",
     "text": [
      "File ../data/hdfs/hdfs_test_normal, number of sessions 553366\n",
      "File ../data/hdfs/hdfs_test_normal, number of seqs 5258\n",
      "Find 46575 train logs, 5258 validation logs\n",
      "Train batch size 2048 ,Validation batch size 2048\n"
     ]
    },
    {
     "name": "stderr",
     "output_type": "stream",
     "text": [
      "Train loss: 1.36515:  22%|█████████████▍                                                | 5/23 [00:00<00:00, 48.54it/s]"
     ]
    },
    {
     "name": "stdout",
     "output_type": "stream",
     "text": [
      "Starting epoch: 0 | phase: train | ⏰: 01:48:44 | Learning rate: 0.000313\n"
     ]
    },
    {
     "name": "stderr",
     "output_type": "stream",
     "text": [
      "Train loss: 1.04144: 100%|█████████████████████████████████████████████████████████████| 23/23 [00:00<00:00, 45.10it/s]\n",
      "Train loss: 0.70351:  26%|████████████████▏                                             | 6/23 [00:00<00:00, 48.39it/s]"
     ]
    },
    {
     "name": "stdout",
     "output_type": "stream",
     "text": [
      "Starting epoch: 1 | phase: train | ⏰: 01:48:44 | Learning rate: 0.000625\n"
     ]
    },
    {
     "name": "stderr",
     "output_type": "stream",
     "text": [
      "Train loss: 0.62716: 100%|█████████████████████████████████████████████████████████████| 23/23 [00:00<00:00, 46.37it/s]\n",
      "Train loss: 0.51272:  22%|█████████████▍                                                | 5/23 [00:00<00:00, 49.02it/s]"
     ]
    },
    {
     "name": "stdout",
     "output_type": "stream",
     "text": [
      "Starting epoch: 2 | phase: train | ⏰: 01:48:45 | Learning rate: 0.001250\n"
     ]
    },
    {
     "name": "stderr",
     "output_type": "stream",
     "text": [
      "Train loss: 0.47378: 100%|█████████████████████████████████████████████████████████████| 23/23 [00:00<00:00, 44.57it/s]\n",
      "Train loss: 0.41964:  22%|█████████████▍                                                | 5/23 [00:00<00:00, 33.56it/s]"
     ]
    },
    {
     "name": "stdout",
     "output_type": "stream",
     "text": [
      "Starting epoch: 3 | phase: train | ⏰: 01:48:45 | Learning rate: 0.002500\n"
     ]
    },
    {
     "name": "stderr",
     "output_type": "stream",
     "text": [
      "Train loss: 0.39974: 100%|█████████████████████████████████████████████████████████████| 23/23 [00:00<00:00, 40.71it/s]\n",
      "Train loss: 0.36817:  22%|█████████████▍                                                | 5/23 [00:00<00:00, 47.17it/s]"
     ]
    },
    {
     "name": "stdout",
     "output_type": "stream",
     "text": [
      "Starting epoch: 4 | phase: train | ⏰: 01:48:46 | Learning rate: 0.005000\n"
     ]
    },
    {
     "name": "stderr",
     "output_type": "stream",
     "text": [
      "Train loss: 0.35517: 100%|█████████████████████████████████████████████████████████████| 23/23 [00:00<00:00, 44.83it/s]\n",
      "Train loss: 0.50249:  22%|█████████████▍                                                | 5/23 [00:00<00:00, 48.54it/s]"
     ]
    },
    {
     "name": "stdout",
     "output_type": "stream",
     "text": [
      "Starting epoch: 5 | phase: train | ⏰: 01:48:47 | Learning rate: 0.010000\n"
     ]
    },
    {
     "name": "stderr",
     "output_type": "stream",
     "text": [
      "Train loss: 0.45444: 100%|█████████████████████████████████████████████████████████████| 23/23 [00:00<00:00, 45.19it/s]\n",
      "Train loss: 0.34903:  22%|█████████████▍                                                | 5/23 [00:00<00:00, 47.17it/s]"
     ]
    },
    {
     "name": "stdout",
     "output_type": "stream",
     "text": [
      "Starting epoch: 6 | phase: train | ⏰: 01:48:47 | Learning rate: 0.010000\n"
     ]
    },
    {
     "name": "stderr",
     "output_type": "stream",
     "text": [
      "Train loss: 0.34033: 100%|█████████████████████████████████████████████████████████████| 23/23 [00:00<00:00, 44.66it/s]\n",
      ": 100%|█████████████████████████████████████████████████████████████████████████████████| 3/3 [00:00<00:00, 68.18it/s]\n",
      "Train loss: 0.31222:  17%|██████████▊                                                   | 4/23 [00:00<00:00, 33.90it/s]"
     ]
    },
    {
     "name": "stdout",
     "output_type": "stream",
     "text": [
      "Starting epoch: 6 | phase: valid | ⏰: 01:48:48 \n",
      "Validation loss: 0.3070416947205861\n",
      "Starting epoch: 7 | phase: train | ⏰: 01:48:48 | Learning rate: 0.010000\n"
     ]
    },
    {
     "name": "stderr",
     "output_type": "stream",
     "text": [
      "Train loss: 0.30361: 100%|█████████████████████████████████████████████████████████████| 23/23 [00:00<00:00, 40.93it/s]\n",
      "Train loss: 0.27970:  22%|█████████████▍                                                | 5/23 [00:00<00:00, 47.17it/s]"
     ]
    },
    {
     "name": "stdout",
     "output_type": "stream",
     "text": [
      "Starting epoch: 8 | phase: train | ⏰: 01:48:48 | Learning rate: 0.010000\n"
     ]
    },
    {
     "name": "stderr",
     "output_type": "stream",
     "text": [
      "Train loss: 0.27042: 100%|█████████████████████████████████████████████████████████████| 23/23 [00:00<00:00, 43.81it/s]\n",
      ": 100%|█████████████████████████████████████████████████████████████████████████████████| 3/3 [00:00<00:00, 52.63it/s]\n",
      "Train loss: 0.25482:  17%|██████████▊                                                   | 4/23 [00:00<00:00, 32.26it/s]"
     ]
    },
    {
     "name": "stdout",
     "output_type": "stream",
     "text": [
      "Starting epoch: 8 | phase: valid | ⏰: 01:48:49 \n",
      "Validation loss: 0.2488990525404612\n",
      "Starting epoch: 9 | phase: train | ⏰: 01:48:49 | Learning rate: 0.010000\n"
     ]
    },
    {
     "name": "stderr",
     "output_type": "stream",
     "text": [
      "Train loss: 0.27138: 100%|█████████████████████████████████████████████████████████████| 23/23 [00:00<00:00, 40.49it/s]\n"
     ]
    },
    {
     "name": "stdout",
     "output_type": "stream",
     "text": [
      "============ Test epoch 4 ============\n",
      "Client  0\n"
     ]
    },
    {
     "name": "stderr",
     "output_type": "stream",
     "text": [
      "\r",
      "  0%|                                                                                        | 0/14177 [00:00<?, ?it/s]"
     ]
    },
    {
     "name": "stdout",
     "output_type": "stream",
     "text": [
      "Number of sessions(hdfs_test_normal): 14177\n",
      "Number of sessions(hdfs_test_abnormal): 4123\n"
     ]
    },
    {
     "name": "stderr",
     "output_type": "stream",
     "text": [
      "100%|████████████████████████████████████████████████████████████████████████████| 14177/14177 [04:02<00:00, 58.47it/s]\n",
      "100%|█████████████████████████████████████████████████████████████████████████████| 4123/4123 [00:21<00:00, 193.40it/s]\n"
     ]
    },
    {
     "name": "stdout",
     "output_type": "stream",
     "text": [
      "false positive (FP): 24330, false negative (FN): 128, Precision: 40.716%, Recall: 99.240%, F1-measure: 57.742%\n",
      "actual positive (TP+FN): 16838, actual negative (FP+TN): 553366\n",
      "accuracy: 95.711\n",
      "Finished Predicting\n",
      "elapsed_time: 263.7999687194824\n",
      "============ Train epoch 5 ============\n",
      "Client  0\n",
      "File ../data/hdfs/hdfs_train, number of sessions 4855\n",
      "File ../data/hdfs/hdfs_train, number of seqs 46575\n"
     ]
    },
    {
     "name": "stderr",
     "output_type": "stream",
     "text": [
      "  1%|▌                                                                              | 36/5258 [00:00<00:29, 174.46it/s]"
     ]
    },
    {
     "name": "stdout",
     "output_type": "stream",
     "text": [
      "sampling...\n"
     ]
    },
    {
     "name": "stderr",
     "output_type": "stream",
     "text": [
      "100%|█████████████████████████████████████████████████████████████████████████████| 5258/5258 [00:30<00:00, 175.00it/s]\n"
     ]
    },
    {
     "name": "stdout",
     "output_type": "stream",
     "text": [
      "File ../data/hdfs/hdfs_test_normal, number of sessions 553366\n",
      "File ../data/hdfs/hdfs_test_normal, number of seqs 5258\n",
      "Find 46575 train logs, 5258 validation logs\n",
      "Train batch size 2048 ,Validation batch size 2048\n"
     ]
    },
    {
     "name": "stderr",
     "output_type": "stream",
     "text": [
      "Train loss: 1.15272:  22%|█████████████▍                                                | 5/23 [00:00<00:00, 41.32it/s]"
     ]
    },
    {
     "name": "stdout",
     "output_type": "stream",
     "text": [
      "Starting epoch: 0 | phase: train | ⏰: 01:54:40 | Learning rate: 0.000313\n"
     ]
    },
    {
     "name": "stderr",
     "output_type": "stream",
     "text": [
      "Train loss: 0.82421: 100%|█████████████████████████████████████████████████████████████| 23/23 [00:00<00:00, 42.12it/s]\n",
      "Train loss: 0.54881:  22%|█████████████▍                                                | 5/23 [00:00<00:00, 45.45it/s]"
     ]
    },
    {
     "name": "stdout",
     "output_type": "stream",
     "text": [
      "Starting epoch: 1 | phase: train | ⏰: 01:54:40 | Learning rate: 0.000625\n"
     ]
    },
    {
     "name": "stderr",
     "output_type": "stream",
     "text": [
      "Train loss: 0.50215: 100%|█████████████████████████████████████████████████████████████| 23/23 [00:00<00:00, 42.59it/s]\n",
      "Train loss: 0.42286:  22%|█████████████▍                                                | 5/23 [00:00<00:00, 45.45it/s]"
     ]
    },
    {
     "name": "stdout",
     "output_type": "stream",
     "text": [
      "Starting epoch: 2 | phase: train | ⏰: 01:54:41 | Learning rate: 0.001250\n"
     ]
    },
    {
     "name": "stderr",
     "output_type": "stream",
     "text": [
      "Train loss: 0.40101: 100%|█████████████████████████████████████████████████████████████| 23/23 [00:00<00:00, 42.99it/s]\n",
      "Train loss: 0.36858:  22%|█████████████▍                                                | 5/23 [00:00<00:00, 33.56it/s]"
     ]
    },
    {
     "name": "stdout",
     "output_type": "stream",
     "text": [
      "Starting epoch: 3 | phase: train | ⏰: 01:54:41 | Learning rate: 0.002500\n"
     ]
    },
    {
     "name": "stderr",
     "output_type": "stream",
     "text": [
      "Train loss: 0.35209: 100%|█████████████████████████████████████████████████████████████| 23/23 [00:00<00:00, 40.71it/s]\n",
      "Train loss: 0.33277:  22%|█████████████▍                                                | 5/23 [00:00<00:00, 44.64it/s]"
     ]
    },
    {
     "name": "stdout",
     "output_type": "stream",
     "text": [
      "Starting epoch: 4 | phase: train | ⏰: 01:54:42 | Learning rate: 0.005000\n"
     ]
    },
    {
     "name": "stderr",
     "output_type": "stream",
     "text": [
      "Train loss: 0.32207: 100%|█████████████████████████████████████████████████████████████| 23/23 [00:00<00:00, 42.36it/s]\n",
      "Train loss: 0.40278:  22%|█████████████▍                                                | 5/23 [00:00<00:00, 42.37it/s]"
     ]
    },
    {
     "name": "stdout",
     "output_type": "stream",
     "text": [
      "Starting epoch: 5 | phase: train | ⏰: 01:54:42 | Learning rate: 0.010000\n"
     ]
    },
    {
     "name": "stderr",
     "output_type": "stream",
     "text": [
      "Train loss: 0.38374: 100%|█████████████████████████████████████████████████████████████| 23/23 [00:00<00:00, 42.05it/s]\n",
      "Train loss: 0.31183:  22%|█████████████▍                                                | 5/23 [00:00<00:00, 47.62it/s]"
     ]
    },
    {
     "name": "stdout",
     "output_type": "stream",
     "text": [
      "Starting epoch: 6 | phase: train | ⏰: 01:54:43 | Learning rate: 0.010000\n"
     ]
    },
    {
     "name": "stderr",
     "output_type": "stream",
     "text": [
      "Train loss: 0.30433: 100%|█████████████████████████████████████████████████████████████| 23/23 [00:00<00:00, 42.12it/s]\n",
      ": 100%|█████████████████████████████████████████████████████████████████████████████████| 3/3 [00:00<00:00, 63.83it/s]\n",
      "Train loss: 0.28043:  17%|██████████▊                                                   | 4/23 [00:00<00:00, 33.90it/s]"
     ]
    },
    {
     "name": "stdout",
     "output_type": "stream",
     "text": [
      "Starting epoch: 6 | phase: valid | ⏰: 01:54:44 \n",
      "Validation loss: 0.2629784246285756\n",
      "Starting epoch: 7 | phase: train | ⏰: 01:54:44 | Learning rate: 0.010000\n"
     ]
    },
    {
     "name": "stderr",
     "output_type": "stream",
     "text": [
      "Train loss: 0.26546: 100%|█████████████████████████████████████████████████████████████| 23/23 [00:00<00:00, 40.78it/s]\n",
      "Train loss: 0.25041:  22%|█████████████▍                                                | 5/23 [00:00<00:00, 42.73it/s]"
     ]
    },
    {
     "name": "stdout",
     "output_type": "stream",
     "text": [
      "Starting epoch: 8 | phase: train | ⏰: 01:54:44 | Learning rate: 0.010000\n"
     ]
    },
    {
     "name": "stderr",
     "output_type": "stream",
     "text": [
      "Train loss: 0.25104: 100%|█████████████████████████████████████████████████████████████| 23/23 [00:00<00:00, 42.44it/s]\n",
      ": 100%|█████████████████████████████████████████████████████████████████████████████████| 3/3 [00:00<00:00, 57.69it/s]\n",
      "Train loss: 0.24003:  13%|████████                                                      | 3/23 [00:00<00:00, 29.41it/s]"
     ]
    },
    {
     "name": "stdout",
     "output_type": "stream",
     "text": [
      "Starting epoch: 8 | phase: valid | ⏰: 01:54:45 \n",
      "Validation loss: 0.2316876401503881\n",
      "Starting epoch: 9 | phase: train | ⏰: 01:54:45 | Learning rate: 0.010000\n"
     ]
    },
    {
     "name": "stderr",
     "output_type": "stream",
     "text": [
      "Train loss: 0.24555: 100%|█████████████████████████████████████████████████████████████| 23/23 [00:00<00:00, 40.85it/s]\n"
     ]
    },
    {
     "name": "stdout",
     "output_type": "stream",
     "text": [
      "============ Test epoch 5 ============\n",
      "Client  0\n"
     ]
    },
    {
     "name": "stderr",
     "output_type": "stream",
     "text": [
      "\r",
      "  0%|                                                                                        | 0/14177 [00:00<?, ?it/s]"
     ]
    },
    {
     "name": "stdout",
     "output_type": "stream",
     "text": [
      "Number of sessions(hdfs_test_normal): 14177\n",
      "Number of sessions(hdfs_test_abnormal): 4123\n"
     ]
    },
    {
     "name": "stderr",
     "output_type": "stream",
     "text": [
      "100%|████████████████████████████████████████████████████████████████████████████| 14177/14177 [05:26<00:00, 43.37it/s]\n",
      "100%|██████████████████████████████████████████████████████████████████████████████| 4123/4123 [00:51<00:00, 79.83it/s]\n"
     ]
    },
    {
     "name": "stdout",
     "output_type": "stream",
     "text": [
      "false positive (FP): 3236, false negative (FN): 135, Precision: 83.771%, Recall: 99.198%, F1-measure: 90.834%\n",
      "actual positive (TP+FN): 16838, actual negative (FP+TN): 553366\n",
      "accuracy: 99.409\n",
      "Finished Predicting\n",
      "elapsed_time: 378.5709183216095\n",
      "============ Train epoch 6 ============\n",
      "Client  0\n",
      "File ../data/hdfs/hdfs_train, number of sessions 4855\n",
      "File ../data/hdfs/hdfs_train, number of seqs 46575\n"
     ]
    },
    {
     "name": "stderr",
     "output_type": "stream",
     "text": [
      "  0%|▎                                                                              | 17/5258 [00:00<00:30, 170.00it/s]"
     ]
    },
    {
     "name": "stdout",
     "output_type": "stream",
     "text": [
      "sampling...\n"
     ]
    },
    {
     "name": "stderr",
     "output_type": "stream",
     "text": [
      "100%|█████████████████████████████████████████████████████████████████████████████| 5258/5258 [00:30<00:00, 172.98it/s]\n"
     ]
    },
    {
     "name": "stdout",
     "output_type": "stream",
     "text": [
      "File ../data/hdfs/hdfs_test_normal, number of sessions 553366\n",
      "File ../data/hdfs/hdfs_test_normal, number of seqs 5258\n",
      "Find 46575 train logs, 5258 validation logs\n",
      "Train batch size 2048 ,Validation batch size 2048\n"
     ]
    },
    {
     "name": "stderr",
     "output_type": "stream",
     "text": [
      "Train loss: 0.93331:  22%|█████████████▍                                                | 5/23 [00:00<00:00, 45.05it/s]"
     ]
    },
    {
     "name": "stdout",
     "output_type": "stream",
     "text": [
      "Starting epoch: 0 | phase: train | ⏰: 02:02:30 | Learning rate: 0.000313\n"
     ]
    },
    {
     "name": "stderr",
     "output_type": "stream",
     "text": [
      "Train loss: 0.71367: 100%|█████████████████████████████████████████████████████████████| 23/23 [00:00<00:00, 43.81it/s]\n",
      "Train loss: 0.49009:  22%|█████████████▍                                                | 5/23 [00:00<00:00, 46.30it/s]"
     ]
    },
    {
     "name": "stdout",
     "output_type": "stream",
     "text": [
      "Starting epoch: 1 | phase: train | ⏰: 02:02:31 | Learning rate: 0.000625\n"
     ]
    },
    {
     "name": "stderr",
     "output_type": "stream",
     "text": [
      "Train loss: 0.44352: 100%|█████████████████████████████████████████████████████████████| 23/23 [00:00<00:00, 42.91it/s]\n",
      "Train loss: 0.38496:  22%|█████████████▍                                                | 5/23 [00:00<00:00, 49.02it/s]"
     ]
    },
    {
     "name": "stdout",
     "output_type": "stream",
     "text": [
      "Starting epoch: 2 | phase: train | ⏰: 02:02:31 | Learning rate: 0.001250\n"
     ]
    },
    {
     "name": "stderr",
     "output_type": "stream",
     "text": [
      "Train loss: 0.35847: 100%|█████████████████████████████████████████████████████████████| 23/23 [00:00<00:00, 43.81it/s]\n",
      "Train loss: 0.32273:  22%|█████████████▍                                                | 5/23 [00:00<00:00, 37.31it/s]"
     ]
    },
    {
     "name": "stdout",
     "output_type": "stream",
     "text": [
      "Starting epoch: 3 | phase: train | ⏰: 02:02:32 | Learning rate: 0.002500\n"
     ]
    },
    {
     "name": "stderr",
     "output_type": "stream",
     "text": [
      "Train loss: 0.30852: 100%|█████████████████████████████████████████████████████████████| 23/23 [00:00<00:00, 42.44it/s]\n",
      "Train loss: 0.28524:  22%|█████████████▍                                                | 5/23 [00:00<00:00, 46.30it/s]"
     ]
    },
    {
     "name": "stdout",
     "output_type": "stream",
     "text": [
      "Starting epoch: 4 | phase: train | ⏰: 02:02:32 | Learning rate: 0.005000\n"
     ]
    },
    {
     "name": "stderr",
     "output_type": "stream",
     "text": [
      "Train loss: 0.28911: 100%|█████████████████████████████████████████████████████████████| 23/23 [00:00<00:00, 42.99it/s]\n",
      "Train loss: 0.37625:  22%|█████████████▍                                                | 5/23 [00:00<00:00, 49.02it/s]"
     ]
    },
    {
     "name": "stdout",
     "output_type": "stream",
     "text": [
      "Starting epoch: 5 | phase: train | ⏰: 02:02:33 | Learning rate: 0.010000\n"
     ]
    },
    {
     "name": "stderr",
     "output_type": "stream",
     "text": [
      "Train loss: 0.33705: 100%|█████████████████████████████████████████████████████████████| 23/23 [00:00<00:00, 43.31it/s]\n",
      "Train loss: 0.29338:  22%|█████████████▍                                                | 5/23 [00:00<00:00, 46.73it/s]"
     ]
    },
    {
     "name": "stdout",
     "output_type": "stream",
     "text": [
      "Starting epoch: 6 | phase: train | ⏰: 02:02:33 | Learning rate: 0.010000\n"
     ]
    },
    {
     "name": "stderr",
     "output_type": "stream",
     "text": [
      "Train loss: 0.28049: 100%|█████████████████████████████████████████████████████████████| 23/23 [00:00<00:00, 42.83it/s]\n",
      ": 100%|█████████████████████████████████████████████████████████████████████████████████| 3/3 [00:00<00:00, 63.83it/s]\n",
      "Train loss: 0.24730:  17%|██████████▊                                                   | 4/23 [00:00<00:00, 33.90it/s]"
     ]
    },
    {
     "name": "stdout",
     "output_type": "stream",
     "text": [
      "Starting epoch: 6 | phase: valid | ⏰: 02:02:34 \n",
      "Validation loss: 0.25809457898139954\n",
      "Starting epoch: 7 | phase: train | ⏰: 02:02:34 | Learning rate: 0.010000\n"
     ]
    },
    {
     "name": "stderr",
     "output_type": "stream",
     "text": [
      "Train loss: 0.24765: 100%|█████████████████████████████████████████████████████████████| 23/23 [00:00<00:00, 40.85it/s]\n",
      "Train loss: 0.23512:  22%|█████████████▍                                                | 5/23 [00:00<00:00, 43.48it/s]"
     ]
    },
    {
     "name": "stdout",
     "output_type": "stream",
     "text": [
      "Starting epoch: 8 | phase: train | ⏰: 02:02:35 | Learning rate: 0.010000\n"
     ]
    },
    {
     "name": "stderr",
     "output_type": "stream",
     "text": [
      "Train loss: 0.23892: 100%|█████████████████████████████████████████████████████████████| 23/23 [00:00<00:00, 43.98it/s]\n",
      ": 100%|█████████████████████████████████████████████████████████████████████████████████| 3/3 [00:00<00:00, 60.00it/s]\n",
      "Train loss: 0.23472:  17%|██████████▊                                                   | 4/23 [00:00<00:00, 34.19it/s]"
     ]
    },
    {
     "name": "stdout",
     "output_type": "stream",
     "text": [
      "Starting epoch: 8 | phase: valid | ⏰: 02:02:35 \n",
      "Validation loss: 0.23355053861935934\n",
      "Starting epoch: 9 | phase: train | ⏰: 02:02:35 | Learning rate: 0.010000\n"
     ]
    },
    {
     "name": "stderr",
     "output_type": "stream",
     "text": [
      "Train loss: 0.23177: 100%|█████████████████████████████████████████████████████████████| 23/23 [00:00<00:00, 42.12it/s]\n"
     ]
    },
    {
     "name": "stdout",
     "output_type": "stream",
     "text": [
      "============ Test epoch 6 ============\n",
      "Client  0\n"
     ]
    },
    {
     "name": "stderr",
     "output_type": "stream",
     "text": [
      "  0%|                                                                                | 8/14177 [00:00<03:25, 68.95it/s]"
     ]
    },
    {
     "name": "stdout",
     "output_type": "stream",
     "text": [
      "Number of sessions(hdfs_test_normal): 14177\n",
      "Number of sessions(hdfs_test_abnormal): 4123\n"
     ]
    },
    {
     "name": "stderr",
     "output_type": "stream",
     "text": [
      "100%|████████████████████████████████████████████████████████████████████████████| 14177/14177 [03:36<00:00, 65.52it/s]\n",
      "100%|██████████████████████████████████████████████████████████████████████████████| 4123/4123 [00:51<00:00, 79.65it/s]\n"
     ]
    },
    {
     "name": "stdout",
     "output_type": "stream",
     "text": [
      "false positive (FP): 3164, false negative (FN): 150, Precision: 84.062%, Recall: 99.109%, F1-measure: 90.968%\n",
      "actual positive (TP+FN): 16838, actual negative (FP+TN): 553366\n",
      "accuracy: 99.419\n",
      "Finished Predicting\n",
      "elapsed_time: 268.12697100639343\n",
      "============ Train epoch 7 ============\n",
      "Client  0\n",
      "File ../data/hdfs/hdfs_train, number of sessions 4855\n",
      "File ../data/hdfs/hdfs_train, number of seqs 46575\n"
     ]
    },
    {
     "name": "stderr",
     "output_type": "stream",
     "text": [
      "\r",
      "  0%|                                                                                         | 0/5258 [00:00<?, ?it/s]"
     ]
    },
    {
     "name": "stdout",
     "output_type": "stream",
     "text": [
      "sampling...\n"
     ]
    },
    {
     "name": "stderr",
     "output_type": "stream",
     "text": [
      "100%|█████████████████████████████████████████████████████████████████████████████| 5258/5258 [00:29<00:00, 175.49it/s]\n"
     ]
    },
    {
     "name": "stdout",
     "output_type": "stream",
     "text": [
      "File ../data/hdfs/hdfs_test_normal, number of sessions 553366\n",
      "File ../data/hdfs/hdfs_test_normal, number of seqs 5258\n",
      "Find 46575 train logs, 5258 validation logs\n",
      "Train batch size 2048 ,Validation batch size 2048\n"
     ]
    },
    {
     "name": "stderr",
     "output_type": "stream",
     "text": [
      "Train loss: 0.68393:  22%|█████████████▍                                                | 5/23 [00:00<00:00, 40.98it/s]"
     ]
    },
    {
     "name": "stdout",
     "output_type": "stream",
     "text": [
      "Starting epoch: 0 | phase: train | ⏰: 02:08:30 | Learning rate: 0.000313\n"
     ]
    },
    {
     "name": "stderr",
     "output_type": "stream",
     "text": [
      "Train loss: 0.54753: 100%|█████████████████████████████████████████████████████████████| 23/23 [00:00<00:00, 41.07it/s]\n",
      "Train loss: 0.40884:  22%|█████████████▍                                                | 5/23 [00:00<00:00, 42.73it/s]"
     ]
    },
    {
     "name": "stdout",
     "output_type": "stream",
     "text": [
      "Starting epoch: 1 | phase: train | ⏰: 02:08:31 | Learning rate: 0.000625\n"
     ]
    },
    {
     "name": "stderr",
     "output_type": "stream",
     "text": [
      "Train loss: 0.38247: 100%|█████████████████████████████████████████████████████████████| 23/23 [00:00<00:00, 42.12it/s]\n",
      "Train loss: 0.34174:  22%|█████████████▍                                                | 5/23 [00:00<00:00, 42.74it/s]"
     ]
    },
    {
     "name": "stdout",
     "output_type": "stream",
     "text": [
      "Starting epoch: 2 | phase: train | ⏰: 02:08:31 | Learning rate: 0.001250\n"
     ]
    },
    {
     "name": "stderr",
     "output_type": "stream",
     "text": [
      "Train loss: 0.32298: 100%|█████████████████████████████████████████████████████████████| 23/23 [00:00<00:00, 41.44it/s]\n",
      "Train loss: 0.29627:  22%|█████████████▍                                                | 5/23 [00:00<00:00, 35.21it/s]"
     ]
    },
    {
     "name": "stdout",
     "output_type": "stream",
     "text": [
      "Starting epoch: 3 | phase: train | ⏰: 02:08:32 | Learning rate: 0.002500\n"
     ]
    },
    {
     "name": "stderr",
     "output_type": "stream",
     "text": [
      "Train loss: 0.27827: 100%|█████████████████████████████████████████████████████████████| 23/23 [00:00<00:00, 42.20it/s]\n",
      "Train loss: 0.26463:  22%|█████████████▍                                                | 5/23 [00:00<00:00, 43.86it/s]"
     ]
    },
    {
     "name": "stdout",
     "output_type": "stream",
     "text": [
      "Starting epoch: 4 | phase: train | ⏰: 02:08:32 | Learning rate: 0.005000\n"
     ]
    },
    {
     "name": "stderr",
     "output_type": "stream",
     "text": [
      "Train loss: 0.25650: 100%|█████████████████████████████████████████████████████████████| 23/23 [00:00<00:00, 41.74it/s]\n",
      "Train loss: 0.46262:  22%|█████████████▍                                                | 5/23 [00:00<00:00, 45.45it/s]"
     ]
    },
    {
     "name": "stdout",
     "output_type": "stream",
     "text": [
      "Starting epoch: 5 | phase: train | ⏰: 02:08:33 | Learning rate: 0.010000\n"
     ]
    },
    {
     "name": "stderr",
     "output_type": "stream",
     "text": [
      "Train loss: 0.47808: 100%|█████████████████████████████████████████████████████████████| 23/23 [00:00<00:00, 43.07it/s]\n",
      "Train loss: 0.34505:  22%|█████████████▍                                                | 5/23 [00:00<00:00, 45.87it/s]"
     ]
    },
    {
     "name": "stdout",
     "output_type": "stream",
     "text": [
      "Starting epoch: 6 | phase: train | ⏰: 02:08:34 | Learning rate: 0.010000\n"
     ]
    },
    {
     "name": "stderr",
     "output_type": "stream",
     "text": [
      "Train loss: 0.31894: 100%|█████████████████████████████████████████████████████████████| 23/23 [00:00<00:00, 42.99it/s]\n",
      ": 100%|█████████████████████████████████████████████████████████████████████████████████| 3/3 [00:00<00:00, 66.67it/s]\n",
      "Train loss: 0.27604:  17%|██████████▊                                                   | 4/23 [00:00<00:00, 34.78it/s]"
     ]
    },
    {
     "name": "stdout",
     "output_type": "stream",
     "text": [
      "Starting epoch: 6 | phase: valid | ⏰: 02:08:34 \n",
      "Validation loss: 0.2899085581302643\n",
      "Starting epoch: 7 | phase: train | ⏰: 02:08:34 | Learning rate: 0.010000\n"
     ]
    },
    {
     "name": "stderr",
     "output_type": "stream",
     "text": [
      "Train loss: 0.27148: 100%|█████████████████████████████████████████████████████████████| 23/23 [00:00<00:00, 40.28it/s]\n",
      "Train loss: 0.25180:  17%|██████████▊                                                   | 4/23 [00:00<00:00, 39.22it/s]"
     ]
    },
    {
     "name": "stdout",
     "output_type": "stream",
     "text": [
      "Starting epoch: 8 | phase: train | ⏰: 02:08:35 | Learning rate: 0.010000\n"
     ]
    },
    {
     "name": "stderr",
     "output_type": "stream",
     "text": [
      "Train loss: 0.25096: 100%|█████████████████████████████████████████████████████████████| 23/23 [00:00<00:00, 41.07it/s]\n",
      ": 100%|█████████████████████████████████████████████████████████████████████████████████| 3/3 [00:00<00:00, 71.43it/s]\n",
      "Train loss: 0.25918:  17%|██████████▊                                                   | 4/23 [00:00<00:00, 35.40it/s]"
     ]
    },
    {
     "name": "stdout",
     "output_type": "stream",
     "text": [
      "Starting epoch: 8 | phase: valid | ⏰: 02:08:35 \n",
      "Validation loss: 0.2542944351832072\n",
      "Starting epoch: 9 | phase: train | ⏰: 02:08:35 | Learning rate: 0.010000\n"
     ]
    },
    {
     "name": "stderr",
     "output_type": "stream",
     "text": [
      "Train loss: 0.24849: 100%|█████████████████████████████████████████████████████████████| 23/23 [00:00<00:00, 40.71it/s]\n"
     ]
    },
    {
     "name": "stdout",
     "output_type": "stream",
     "text": [
      "============ Test epoch 7 ============\n",
      "Client  0\n"
     ]
    },
    {
     "name": "stderr",
     "output_type": "stream",
     "text": [
      "\r",
      "  0%|                                                                                        | 0/14177 [00:00<?, ?it/s]"
     ]
    },
    {
     "name": "stdout",
     "output_type": "stream",
     "text": [
      "Number of sessions(hdfs_test_normal): 14177\n",
      "Number of sessions(hdfs_test_abnormal): 4123\n"
     ]
    },
    {
     "name": "stderr",
     "output_type": "stream",
     "text": [
      "100%|████████████████████████████████████████████████████████████████████████████| 14177/14177 [05:29<00:00, 43.09it/s]\n",
      "100%|██████████████████████████████████████████████████████████████████████████████| 4123/4123 [00:55<00:00, 74.36it/s]\n"
     ]
    },
    {
     "name": "stdout",
     "output_type": "stream",
     "text": [
      "false positive (FP): 2320, false negative (FN): 417, Precision: 87.621%, Recall: 97.523%, F1-measure: 92.307%\n",
      "actual positive (TP+FN): 16838, actual negative (FP+TN): 553366\n",
      "accuracy: 99.520\n",
      "Finished Predicting\n",
      "elapsed_time: 384.4591884613037\n",
      "============ Train epoch 8 ============\n",
      "Client  0\n",
      "File ../data/hdfs/hdfs_train, number of sessions 4855\n",
      "File ../data/hdfs/hdfs_train, number of seqs 46575\n"
     ]
    },
    {
     "name": "stderr",
     "output_type": "stream",
     "text": [
      "  0%|▎                                                                              | 20/5258 [00:00<00:26, 196.08it/s]"
     ]
    },
    {
     "name": "stdout",
     "output_type": "stream",
     "text": [
      "sampling...\n"
     ]
    },
    {
     "name": "stderr",
     "output_type": "stream",
     "text": [
      "100%|█████████████████████████████████████████████████████████████████████████████| 5258/5258 [00:29<00:00, 178.62it/s]\n"
     ]
    },
    {
     "name": "stdout",
     "output_type": "stream",
     "text": [
      "File ../data/hdfs/hdfs_test_normal, number of sessions 553366\n",
      "File ../data/hdfs/hdfs_test_normal, number of seqs 5258\n",
      "Find 46575 train logs, 5258 validation logs\n",
      "Train batch size 2048 ,Validation batch size 2048\n"
     ]
    },
    {
     "name": "stderr",
     "output_type": "stream",
     "text": [
      "Train loss: 0.77573:  13%|████████                                                      | 3/23 [00:00<00:01, 19.35it/s]"
     ]
    },
    {
     "name": "stdout",
     "output_type": "stream",
     "text": [
      "Starting epoch: 0 | phase: train | ⏰: 02:16:24 | Learning rate: 0.000313\n"
     ]
    },
    {
     "name": "stderr",
     "output_type": "stream",
     "text": [
      "Train loss: 0.52624: 100%|█████████████████████████████████████████████████████████████| 23/23 [00:00<00:00, 34.85it/s]\n",
      "Train loss: 0.37580:  22%|█████████████▍                                                | 5/23 [00:00<00:00, 49.02it/s]"
     ]
    },
    {
     "name": "stdout",
     "output_type": "stream",
     "text": [
      "Starting epoch: 1 | phase: train | ⏰: 02:16:25 | Learning rate: 0.000625\n"
     ]
    },
    {
     "name": "stderr",
     "output_type": "stream",
     "text": [
      "Train loss: 0.35182: 100%|█████████████████████████████████████████████████████████████| 23/23 [00:00<00:00, 45.45it/s]\n",
      "Train loss: 0.30448:  26%|████████████████▏                                             | 6/23 [00:00<00:00, 52.17it/s]"
     ]
    },
    {
     "name": "stdout",
     "output_type": "stream",
     "text": [
      "Starting epoch: 2 | phase: train | ⏰: 02:16:25 | Learning rate: 0.001250\n"
     ]
    },
    {
     "name": "stderr",
     "output_type": "stream",
     "text": [
      "Train loss: 0.29069: 100%|█████████████████████████████████████████████████████████████| 23/23 [00:00<00:00, 46.84it/s]\n",
      "Train loss: 0.26398:  22%|█████████████▍                                                | 5/23 [00:00<00:00, 40.65it/s]"
     ]
    },
    {
     "name": "stdout",
     "output_type": "stream",
     "text": [
      "Starting epoch: 3 | phase: train | ⏰: 02:16:26 | Learning rate: 0.002500\n"
     ]
    },
    {
     "name": "stderr",
     "output_type": "stream",
     "text": [
      "Train loss: 0.26329: 100%|█████████████████████████████████████████████████████████████| 23/23 [00:00<00:00, 42.75it/s]\n",
      "Train loss: 0.25517:  22%|█████████████▍                                                | 5/23 [00:00<00:00, 47.17it/s]"
     ]
    },
    {
     "name": "stdout",
     "output_type": "stream",
     "text": [
      "Starting epoch: 4 | phase: train | ⏰: 02:16:26 | Learning rate: 0.005000\n"
     ]
    },
    {
     "name": "stderr",
     "output_type": "stream",
     "text": [
      "Train loss: 0.24810: 100%|█████████████████████████████████████████████████████████████| 23/23 [00:00<00:00, 44.15it/s]\n",
      "Train loss: 0.24605:  22%|█████████████▍                                                | 5/23 [00:00<00:00, 48.08it/s]"
     ]
    },
    {
     "name": "stdout",
     "output_type": "stream",
     "text": [
      "Starting epoch: 5 | phase: train | ⏰: 02:16:27 | Learning rate: 0.010000\n"
     ]
    },
    {
     "name": "stderr",
     "output_type": "stream",
     "text": [
      "Train loss: 0.27251: 100%|█████████████████████████████████████████████████████████████| 23/23 [00:00<00:00, 45.01it/s]\n",
      "Train loss: 0.26375:  22%|█████████████▍                                                | 5/23 [00:00<00:00, 45.87it/s]"
     ]
    },
    {
     "name": "stdout",
     "output_type": "stream",
     "text": [
      "Starting epoch: 6 | phase: train | ⏰: 02:16:27 | Learning rate: 0.010000\n"
     ]
    },
    {
     "name": "stderr",
     "output_type": "stream",
     "text": [
      "Train loss: 0.25850: 100%|█████████████████████████████████████████████████████████████| 23/23 [00:00<00:00, 43.31it/s]\n",
      ": 100%|█████████████████████████████████████████████████████████████████████████████████| 3/3 [00:00<00:00, 61.22it/s]\n",
      "Train loss: 0.24661:  13%|████████                                                      | 3/23 [00:00<00:00, 29.13it/s]"
     ]
    },
    {
     "name": "stdout",
     "output_type": "stream",
     "text": [
      "Starting epoch: 6 | phase: valid | ⏰: 02:16:28 \n",
      "Validation loss: 0.2503453195095062\n",
      "Starting epoch: 7 | phase: train | ⏰: 02:16:28 | Learning rate: 0.010000\n"
     ]
    },
    {
     "name": "stderr",
     "output_type": "stream",
     "text": [
      "Train loss: 0.23750: 100%|█████████████████████████████████████████████████████████████| 23/23 [00:00<00:00, 40.93it/s]\n",
      "Train loss: 0.23022:  22%|█████████████▍                                                | 5/23 [00:00<00:00, 46.73it/s]"
     ]
    },
    {
     "name": "stdout",
     "output_type": "stream",
     "text": [
      "Starting epoch: 8 | phase: train | ⏰: 02:16:29 | Learning rate: 0.010000\n"
     ]
    },
    {
     "name": "stderr",
     "output_type": "stream",
     "text": [
      "Train loss: 0.22892: 100%|█████████████████████████████████████████████████████████████| 23/23 [00:00<00:00, 44.06it/s]\n",
      ": 100%|█████████████████████████████████████████████████████████████████████████████████| 3/3 [00:00<00:00, 62.50it/s]\n",
      "Train loss: 0.22139:  17%|██████████▊                                                   | 4/23 [00:00<00:00, 33.90it/s]"
     ]
    },
    {
     "name": "stdout",
     "output_type": "stream",
     "text": [
      "Starting epoch: 8 | phase: valid | ⏰: 02:16:29 \n",
      "Validation loss: 0.2417739282051722\n",
      "Starting epoch: 9 | phase: train | ⏰: 02:16:29 | Learning rate: 0.010000\n"
     ]
    },
    {
     "name": "stderr",
     "output_type": "stream",
     "text": [
      "Train loss: 0.22180: 100%|█████████████████████████████████████████████████████████████| 23/23 [00:00<00:00, 41.14it/s]\n"
     ]
    },
    {
     "name": "stdout",
     "output_type": "stream",
     "text": [
      "============ Test epoch 8 ============\n",
      "Client  0\n"
     ]
    },
    {
     "name": "stderr",
     "output_type": "stream",
     "text": [
      "\r",
      "  0%|                                                                                        | 0/14177 [00:00<?, ?it/s]"
     ]
    },
    {
     "name": "stdout",
     "output_type": "stream",
     "text": [
      "Number of sessions(hdfs_test_normal): 14177\n",
      "Number of sessions(hdfs_test_abnormal): 4123\n"
     ]
    },
    {
     "name": "stderr",
     "output_type": "stream",
     "text": [
      "100%|████████████████████████████████████████████████████████████████████████████| 14177/14177 [04:41<00:00, 50.31it/s]\n",
      "100%|██████████████████████████████████████████████████████████████████████████████| 4123/4123 [01:00<00:00, 68.20it/s]\n"
     ]
    },
    {
     "name": "stdout",
     "output_type": "stream",
     "text": [
      "false positive (FP): 2294, false negative (FN): 372, Precision: 87.772%, Recall: 97.791%, F1-measure: 92.511%\n",
      "actual positive (TP+FN): 16838, actual negative (FP+TN): 553366\n",
      "accuracy: 99.532\n",
      "Finished Predicting\n",
      "elapsed_time: 342.2559893131256\n",
      "============ Train epoch 9 ============\n",
      "Client  0\n",
      "File ../data/hdfs/hdfs_train, number of sessions 4855\n",
      "File ../data/hdfs/hdfs_train, number of seqs 46575\n"
     ]
    },
    {
     "name": "stderr",
     "output_type": "stream",
     "text": [
      "  1%|▌                                                                              | 36/5258 [00:00<00:29, 177.49it/s]"
     ]
    },
    {
     "name": "stdout",
     "output_type": "stream",
     "text": [
      "sampling...\n"
     ]
    },
    {
     "name": "stderr",
     "output_type": "stream",
     "text": [
      "100%|█████████████████████████████████████████████████████████████████████████████| 5258/5258 [00:29<00:00, 177.58it/s]\n"
     ]
    },
    {
     "name": "stdout",
     "output_type": "stream",
     "text": [
      "File ../data/hdfs/hdfs_test_normal, number of sessions 553366\n",
      "File ../data/hdfs/hdfs_test_normal, number of seqs 5258\n",
      "Find 46575 train logs, 5258 validation logs\n",
      "Train batch size 2048 ,Validation batch size 2048\n"
     ]
    },
    {
     "name": "stderr",
     "output_type": "stream",
     "text": [
      "Train loss: 0.68026:  22%|█████████████▍                                                | 5/23 [00:00<00:00, 43.48it/s]"
     ]
    },
    {
     "name": "stdout",
     "output_type": "stream",
     "text": [
      "Starting epoch: 0 | phase: train | ⏰: 02:23:39 | Learning rate: 0.000313\n"
     ]
    },
    {
     "name": "stderr",
     "output_type": "stream",
     "text": [
      "Train loss: 0.53192: 100%|█████████████████████████████████████████████████████████████| 23/23 [00:00<00:00, 43.89it/s]\n",
      "Train loss: 0.37640:  22%|█████████████▍                                                | 5/23 [00:00<00:00, 47.62it/s]"
     ]
    },
    {
     "name": "stdout",
     "output_type": "stream",
     "text": [
      "Starting epoch: 1 | phase: train | ⏰: 02:23:39 | Learning rate: 0.000625\n"
     ]
    },
    {
     "name": "stderr",
     "output_type": "stream",
     "text": [
      "Train loss: 0.34264: 100%|█████████████████████████████████████████████████████████████| 23/23 [00:00<00:00, 43.81it/s]\n",
      "Train loss: 0.29561:  22%|█████████████▍                                                | 5/23 [00:00<00:00, 46.73it/s]"
     ]
    },
    {
     "name": "stdout",
     "output_type": "stream",
     "text": [
      "Starting epoch: 2 | phase: train | ⏰: 02:23:40 | Learning rate: 0.001250\n"
     ]
    },
    {
     "name": "stderr",
     "output_type": "stream",
     "text": [
      "Train loss: 0.28273: 100%|█████████████████████████████████████████████████████████████| 23/23 [00:00<00:00, 43.48it/s]\n",
      "Train loss: 0.25951:  22%|█████████████▍                                                | 5/23 [00:00<00:00, 35.71it/s]"
     ]
    },
    {
     "name": "stdout",
     "output_type": "stream",
     "text": [
      "Starting epoch: 3 | phase: train | ⏰: 02:23:40 | Learning rate: 0.002500\n"
     ]
    },
    {
     "name": "stderr",
     "output_type": "stream",
     "text": [
      "Train loss: 0.25425: 100%|█████████████████████████████████████████████████████████████| 23/23 [00:00<00:00, 40.78it/s]\n",
      "Train loss: 0.24056:  22%|█████████████▍                                                | 5/23 [00:00<00:00, 46.73it/s]"
     ]
    },
    {
     "name": "stdout",
     "output_type": "stream",
     "text": [
      "Starting epoch: 4 | phase: train | ⏰: 02:23:41 | Learning rate: 0.005000\n"
     ]
    },
    {
     "name": "stderr",
     "output_type": "stream",
     "text": [
      "Train loss: 0.24430: 100%|█████████████████████████████████████████████████████████████| 23/23 [00:00<00:00, 45.28it/s]\n",
      "Train loss: 0.24079:  22%|█████████████▍                                                | 5/23 [00:00<00:00, 47.62it/s]"
     ]
    },
    {
     "name": "stdout",
     "output_type": "stream",
     "text": [
      "Starting epoch: 5 | phase: train | ⏰: 02:23:41 | Learning rate: 0.010000\n"
     ]
    },
    {
     "name": "stderr",
     "output_type": "stream",
     "text": [
      "Train loss: 0.25248: 100%|█████████████████████████████████████████████████████████████| 23/23 [00:00<00:00, 43.64it/s]\n",
      "Train loss: 0.22914:  22%|█████████████▍                                                | 5/23 [00:00<00:00, 49.50it/s]"
     ]
    },
    {
     "name": "stdout",
     "output_type": "stream",
     "text": [
      "Starting epoch: 6 | phase: train | ⏰: 02:23:42 | Learning rate: 0.010000\n"
     ]
    },
    {
     "name": "stderr",
     "output_type": "stream",
     "text": [
      "Train loss: 0.23545: 100%|█████████████████████████████████████████████████████████████| 23/23 [00:00<00:00, 43.56it/s]\n",
      ": 100%|█████████████████████████████████████████████████████████████████████████████████| 3/3 [00:00<00:00, 68.18it/s]\n",
      "Train loss: 0.23211:  17%|██████████▊                                                   | 4/23 [00:00<00:00, 35.40it/s]"
     ]
    },
    {
     "name": "stdout",
     "output_type": "stream",
     "text": [
      "Starting epoch: 6 | phase: valid | ⏰: 02:23:43 \n",
      "Validation loss: 0.23207678397496542\n",
      "Starting epoch: 7 | phase: train | ⏰: 02:23:43 | Learning rate: 0.010000\n"
     ]
    },
    {
     "name": "stderr",
     "output_type": "stream",
     "text": [
      "Train loss: 0.22960: 100%|█████████████████████████████████████████████████████████████| 23/23 [00:00<00:00, 41.82it/s]\n",
      "Train loss: 0.22437:  22%|█████████████▍                                                | 5/23 [00:00<00:00, 46.73it/s]"
     ]
    },
    {
     "name": "stdout",
     "output_type": "stream",
     "text": [
      "Starting epoch: 8 | phase: train | ⏰: 02:23:43 | Learning rate: 0.010000\n"
     ]
    },
    {
     "name": "stderr",
     "output_type": "stream",
     "text": [
      "Train loss: 0.21963: 100%|█████████████████████████████████████████████████████████████| 23/23 [00:00<00:00, 43.56it/s]\n",
      ": 100%|█████████████████████████████████████████████████████████████████████████████████| 3/3 [00:00<00:00, 71.43it/s]\n",
      "Train loss: 0.21582:  13%|████████                                                      | 3/23 [00:00<00:00, 29.41it/s]"
     ]
    },
    {
     "name": "stdout",
     "output_type": "stream",
     "text": [
      "Starting epoch: 8 | phase: valid | ⏰: 02:23:44 \n",
      "Validation loss: 0.22144966820875803\n",
      "Starting epoch: 9 | phase: train | ⏰: 02:23:44 | Learning rate: 0.010000\n"
     ]
    },
    {
     "name": "stderr",
     "output_type": "stream",
     "text": [
      "Train loss: 0.25256: 100%|█████████████████████████████████████████████████████████████| 23/23 [00:00<00:00, 41.67it/s]\n"
     ]
    },
    {
     "name": "stdout",
     "output_type": "stream",
     "text": [
      "============ Test epoch 9 ============\n",
      "Client  0\n"
     ]
    },
    {
     "name": "stderr",
     "output_type": "stream",
     "text": [
      "\r",
      "  0%|                                                                                        | 0/14177 [00:00<?, ?it/s]"
     ]
    },
    {
     "name": "stdout",
     "output_type": "stream",
     "text": [
      "Number of sessions(hdfs_test_normal): 14177\n",
      "Number of sessions(hdfs_test_abnormal): 4123\n"
     ]
    },
    {
     "name": "stderr",
     "output_type": "stream",
     "text": [
      "100%|████████████████████████████████████████████████████████████████████████████| 14177/14177 [05:06<00:00, 46.24it/s]\n",
      "100%|█████████████████████████████████████████████████████████████████████████████| 4123/4123 [00:25<00:00, 159.53it/s]\n"
     ]
    },
    {
     "name": "stdout",
     "output_type": "stream",
     "text": [
      "false positive (FP): 2830, false negative (FN): 192, Precision: 85.469%, Recall: 98.860%, F1-measure: 91.678%\n",
      "actual positive (TP+FN): 16838, actual negative (FP+TN): 553366\n",
      "accuracy: 99.470\n",
      "Finished Predicting\n",
      "elapsed_time: 332.41200065612793\n",
      "============ Train epoch 10 ============\n",
      "Client  0\n",
      "File ../data/hdfs/hdfs_train, number of sessions 4855\n",
      "File ../data/hdfs/hdfs_train, number of seqs 46575\n"
     ]
    },
    {
     "name": "stderr",
     "output_type": "stream",
     "text": [
      "  0%|▍                                                                              | 25/5258 [00:00<00:23, 227.27it/s]"
     ]
    },
    {
     "name": "stdout",
     "output_type": "stream",
     "text": [
      "sampling...\n"
     ]
    },
    {
     "name": "stderr",
     "output_type": "stream",
     "text": [
      "100%|█████████████████████████████████████████████████████████████████████████████| 5258/5258 [00:29<00:00, 179.89it/s]\n"
     ]
    },
    {
     "name": "stdout",
     "output_type": "stream",
     "text": [
      "File ../data/hdfs/hdfs_test_normal, number of sessions 553366\n",
      "File ../data/hdfs/hdfs_test_normal, number of seqs 5258\n",
      "Find 46575 train logs, 5258 validation logs\n",
      "Train batch size 2048 ,Validation batch size 2048\n"
     ]
    },
    {
     "name": "stderr",
     "output_type": "stream",
     "text": [
      "Train loss: 0.66187:  22%|█████████████▍                                                | 5/23 [00:00<00:00, 46.30it/s]"
     ]
    },
    {
     "name": "stdout",
     "output_type": "stream",
     "text": [
      "Starting epoch: 0 | phase: train | ⏰: 02:30:42 | Learning rate: 0.000313\n"
     ]
    },
    {
     "name": "stderr",
     "output_type": "stream",
     "text": [
      "Train loss: 0.52695: 100%|█████████████████████████████████████████████████████████████| 23/23 [00:00<00:00, 43.23it/s]\n",
      "Train loss: 0.39164:  22%|█████████████▍                                                | 5/23 [00:00<00:00, 43.86it/s]"
     ]
    },
    {
     "name": "stdout",
     "output_type": "stream",
     "text": [
      "Starting epoch: 1 | phase: train | ⏰: 02:30:42 | Learning rate: 0.000625\n"
     ]
    },
    {
     "name": "stderr",
     "output_type": "stream",
     "text": [
      "Train loss: 0.34972: 100%|█████████████████████████████████████████████████████████████| 23/23 [00:00<00:00, 42.28it/s]\n",
      "Train loss: 0.29501:  22%|█████████████▍                                                | 5/23 [00:00<00:00, 45.05it/s]"
     ]
    },
    {
     "name": "stdout",
     "output_type": "stream",
     "text": [
      "Starting epoch: 2 | phase: train | ⏰: 02:30:43 | Learning rate: 0.001250\n"
     ]
    },
    {
     "name": "stderr",
     "output_type": "stream",
     "text": [
      "Train loss: 0.28290: 100%|█████████████████████████████████████████████████████████████| 23/23 [00:00<00:00, 43.81it/s]\n",
      "Train loss: 0.26198:  22%|█████████████▍                                                | 5/23 [00:00<00:00, 35.21it/s]"
     ]
    },
    {
     "name": "stdout",
     "output_type": "stream",
     "text": [
      "Starting epoch: 3 | phase: train | ⏰: 02:30:43 | Learning rate: 0.002500\n"
     ]
    },
    {
     "name": "stderr",
     "output_type": "stream",
     "text": [
      "Train loss: 0.25429: 100%|█████████████████████████████████████████████████████████████| 23/23 [00:00<00:00, 40.85it/s]\n",
      "Train loss: 0.24062:  22%|█████████████▍                                                | 5/23 [00:00<00:00, 42.02it/s]"
     ]
    },
    {
     "name": "stdout",
     "output_type": "stream",
     "text": [
      "Starting epoch: 4 | phase: train | ⏰: 02:30:44 | Learning rate: 0.005000\n"
     ]
    },
    {
     "name": "stderr",
     "output_type": "stream",
     "text": [
      "Train loss: 0.23838: 100%|█████████████████████████████████████████████████████████████| 23/23 [00:00<00:00, 40.71it/s]\n",
      "Train loss: 0.23271:  22%|█████████████▍                                                | 5/23 [00:00<00:00, 47.17it/s]"
     ]
    },
    {
     "name": "stdout",
     "output_type": "stream",
     "text": [
      "Starting epoch: 5 | phase: train | ⏰: 02:30:45 | Learning rate: 0.010000\n"
     ]
    },
    {
     "name": "stderr",
     "output_type": "stream",
     "text": [
      "Train loss: 0.23643: 100%|█████████████████████████████████████████████████████████████| 23/23 [00:00<00:00, 43.81it/s]\n",
      "Train loss: 0.23229:  22%|█████████████▍                                                | 5/23 [00:00<00:00, 47.17it/s]"
     ]
    },
    {
     "name": "stdout",
     "output_type": "stream",
     "text": [
      "Starting epoch: 6 | phase: train | ⏰: 02:30:45 | Learning rate: 0.010000\n"
     ]
    },
    {
     "name": "stderr",
     "output_type": "stream",
     "text": [
      "Train loss: 0.25102: 100%|█████████████████████████████████████████████████████████████| 23/23 [00:00<00:00, 43.89it/s]\n",
      ": 100%|█████████████████████████████████████████████████████████████████████████████████| 3/3 [00:00<00:00, 63.83it/s]\n",
      "Train loss: 0.23451:  13%|████████                                                      | 3/23 [00:00<00:00, 28.30it/s]"
     ]
    },
    {
     "name": "stdout",
     "output_type": "stream",
     "text": [
      "Starting epoch: 6 | phase: valid | ⏰: 02:30:46 \n",
      "Validation loss: 0.23972413937250772\n",
      "Starting epoch: 7 | phase: train | ⏰: 02:30:46 | Learning rate: 0.010000\n"
     ]
    },
    {
     "name": "stderr",
     "output_type": "stream",
     "text": [
      "Train loss: 0.22785: 100%|█████████████████████████████████████████████████████████████| 23/23 [00:00<00:00, 39.45it/s]\n",
      "Train loss: 0.21179:  22%|█████████████▍                                                | 5/23 [00:00<00:00, 45.87it/s]"
     ]
    },
    {
     "name": "stdout",
     "output_type": "stream",
     "text": [
      "Starting epoch: 8 | phase: train | ⏰: 02:30:46 | Learning rate: 0.010000\n"
     ]
    },
    {
     "name": "stderr",
     "output_type": "stream",
     "text": [
      "Train loss: 0.21655: 100%|█████████████████████████████████████████████████████████████| 23/23 [00:00<00:00, 42.75it/s]\n",
      ": 100%|█████████████████████████████████████████████████████████████████████████████████| 3/3 [00:00<00:00, 65.22it/s]\n",
      "Train loss: 0.20303:  17%|██████████▊                                                   | 4/23 [00:00<00:00, 32.79it/s]"
     ]
    },
    {
     "name": "stdout",
     "output_type": "stream",
     "text": [
      "Starting epoch: 8 | phase: valid | ⏰: 02:30:47 \n",
      "Validation loss: 0.21605688333511353\n",
      "Starting epoch: 9 | phase: train | ⏰: 02:30:47 | Learning rate: 0.010000\n"
     ]
    },
    {
     "name": "stderr",
     "output_type": "stream",
     "text": [
      "Train loss: 0.21248: 100%|█████████████████████████████████████████████████████████████| 23/23 [00:00<00:00, 41.52it/s]\n"
     ]
    },
    {
     "name": "stdout",
     "output_type": "stream",
     "text": [
      "============ Test epoch 10 ============\n",
      "Client  0\n"
     ]
    },
    {
     "name": "stderr",
     "output_type": "stream",
     "text": [
      "\r",
      "  0%|                                                                                        | 0/14177 [00:00<?, ?it/s]"
     ]
    },
    {
     "name": "stdout",
     "output_type": "stream",
     "text": [
      "Number of sessions(hdfs_test_normal): 14177\n",
      "Number of sessions(hdfs_test_abnormal): 4123\n"
     ]
    },
    {
     "name": "stderr",
     "output_type": "stream",
     "text": [
      "100%|████████████████████████████████████████████████████████████████████████████| 14177/14177 [05:27<00:00, 43.32it/s]\n",
      "100%|██████████████████████████████████████████████████████████████████████████████| 4123/4123 [00:59<00:00, 69.50it/s]\n"
     ]
    },
    {
     "name": "stdout",
     "output_type": "stream",
     "text": [
      "false positive (FP): 2727, false negative (FN): 136, Precision: 85.964%, Recall: 99.192%, F1-measure: 92.106%\n",
      "actual positive (TP+FN): 16838, actual negative (FP+TN): 553366\n",
      "accuracy: 99.498\n",
      "Finished Predicting\n",
      "elapsed_time: 386.6059594154358\n",
      "============ Train epoch 11 ============\n",
      "Client  0\n",
      "File ../data/hdfs/hdfs_train, number of sessions 4855\n",
      "File ../data/hdfs/hdfs_train, number of seqs 46575\n"
     ]
    },
    {
     "name": "stderr",
     "output_type": "stream",
     "text": [
      "  0%|▎                                                                              | 22/5258 [00:00<00:24, 209.52it/s]"
     ]
    },
    {
     "name": "stdout",
     "output_type": "stream",
     "text": [
      "sampling...\n"
     ]
    },
    {
     "name": "stderr",
     "output_type": "stream",
     "text": [
      "100%|█████████████████████████████████████████████████████████████████████████████| 5258/5258 [00:29<00:00, 175.66it/s]\n"
     ]
    },
    {
     "name": "stdout",
     "output_type": "stream",
     "text": [
      "File ../data/hdfs/hdfs_test_normal, number of sessions 553366\n",
      "File ../data/hdfs/hdfs_test_normal, number of seqs 5258\n",
      "Find 46575 train logs, 5258 validation logs\n",
      "Train batch size 2048 ,Validation batch size 2048\n"
     ]
    },
    {
     "name": "stderr",
     "output_type": "stream",
     "text": [
      "Train loss: 0.76416:  22%|█████████████▍                                                | 5/23 [00:00<00:00, 45.87it/s]"
     ]
    },
    {
     "name": "stdout",
     "output_type": "stream",
     "text": [
      "Starting epoch: 0 | phase: train | ⏰: 02:38:38 | Learning rate: 0.000313\n"
     ]
    },
    {
     "name": "stderr",
     "output_type": "stream",
     "text": [
      "Train loss: 0.59990: 100%|█████████████████████████████████████████████████████████████| 23/23 [00:00<00:00, 43.98it/s]\n",
      "Train loss: 0.42547:  22%|█████████████▍                                                | 5/23 [00:00<00:00, 43.48it/s]"
     ]
    },
    {
     "name": "stdout",
     "output_type": "stream",
     "text": [
      "Starting epoch: 1 | phase: train | ⏰: 02:38:39 | Learning rate: 0.000625\n"
     ]
    },
    {
     "name": "stderr",
     "output_type": "stream",
     "text": [
      "Train loss: 0.37560: 100%|█████████████████████████████████████████████████████████████| 23/23 [00:00<00:00, 42.67it/s]\n",
      "Train loss: 0.30624:  22%|█████████████▍                                                | 5/23 [00:00<00:00, 43.86it/s]"
     ]
    },
    {
     "name": "stdout",
     "output_type": "stream",
     "text": [
      "Starting epoch: 2 | phase: train | ⏰: 02:38:39 | Learning rate: 0.001250\n"
     ]
    },
    {
     "name": "stderr",
     "output_type": "stream",
     "text": [
      "Train loss: 0.29362: 100%|█████████████████████████████████████████████████████████████| 23/23 [00:00<00:00, 43.07it/s]\n",
      "Train loss: 0.26327:  22%|█████████████▍                                                | 5/23 [00:00<00:00, 35.21it/s]"
     ]
    },
    {
     "name": "stdout",
     "output_type": "stream",
     "text": [
      "Starting epoch: 3 | phase: train | ⏰: 02:38:40 | Learning rate: 0.002500\n"
     ]
    },
    {
     "name": "stderr",
     "output_type": "stream",
     "text": [
      "Train loss: 0.25242: 100%|█████████████████████████████████████████████████████████████| 23/23 [00:00<00:00, 39.86it/s]\n",
      "Train loss: 0.23896:  22%|█████████████▍                                                | 5/23 [00:00<00:00, 47.17it/s]"
     ]
    },
    {
     "name": "stdout",
     "output_type": "stream",
     "text": [
      "Starting epoch: 4 | phase: train | ⏰: 02:38:40 | Learning rate: 0.005000\n"
     ]
    },
    {
     "name": "stderr",
     "output_type": "stream",
     "text": [
      "Train loss: 0.23668: 100%|█████████████████████████████████████████████████████████████| 23/23 [00:00<00:00, 43.73it/s]\n",
      "Train loss: 0.23167:  22%|█████████████▍                                                | 5/23 [00:00<00:00, 45.45it/s]"
     ]
    },
    {
     "name": "stdout",
     "output_type": "stream",
     "text": [
      "Starting epoch: 5 | phase: train | ⏰: 02:38:41 | Learning rate: 0.010000\n"
     ]
    },
    {
     "name": "stderr",
     "output_type": "stream",
     "text": [
      "Train loss: 0.23565: 100%|█████████████████████████████████████████████████████████████| 23/23 [00:00<00:00, 42.91it/s]\n",
      "Train loss: 0.22023:  22%|█████████████▍                                                | 5/23 [00:00<00:00, 45.87it/s]"
     ]
    },
    {
     "name": "stdout",
     "output_type": "stream",
     "text": [
      "Starting epoch: 6 | phase: train | ⏰: 02:38:41 | Learning rate: 0.010000\n"
     ]
    },
    {
     "name": "stderr",
     "output_type": "stream",
     "text": [
      "Train loss: 0.22523: 100%|█████████████████████████████████████████████████████████████| 23/23 [00:00<00:00, 43.48it/s]\n",
      ": 100%|█████████████████████████████████████████████████████████████████████████████████| 3/3 [00:00<00:00, 58.82it/s]\n",
      "Train loss: 0.21792:  13%|████████                                                      | 3/23 [00:00<00:00, 28.57it/s]"
     ]
    },
    {
     "name": "stdout",
     "output_type": "stream",
     "text": [
      "Starting epoch: 6 | phase: valid | ⏰: 02:38:42 \n",
      "Validation loss: 0.22071252266565958\n",
      "Starting epoch: 7 | phase: train | ⏰: 02:38:42 | Learning rate: 0.010000\n"
     ]
    },
    {
     "name": "stderr",
     "output_type": "stream",
     "text": [
      "Train loss: 0.22152: 100%|█████████████████████████████████████████████████████████████| 23/23 [00:00<00:00, 40.00it/s]\n",
      "Train loss: 0.21662:  22%|█████████████▍                                                | 5/23 [00:00<00:00, 44.64it/s]"
     ]
    },
    {
     "name": "stdout",
     "output_type": "stream",
     "text": [
      "Starting epoch: 8 | phase: train | ⏰: 02:38:42 | Learning rate: 0.010000\n"
     ]
    },
    {
     "name": "stderr",
     "output_type": "stream",
     "text": [
      "Train loss: 0.21557: 100%|█████████████████████████████████████████████████████████████| 23/23 [00:00<00:00, 43.73it/s]\n",
      ": 100%|█████████████████████████████████████████████████████████████████████████████████| 3/3 [00:00<00:00, 66.67it/s]\n",
      "Train loss: 0.20984:  17%|██████████▊                                                   | 4/23 [00:00<00:00, 34.19it/s]"
     ]
    },
    {
     "name": "stdout",
     "output_type": "stream",
     "text": [
      "Starting epoch: 8 | phase: valid | ⏰: 02:38:43 \n",
      "Validation loss: 0.21809515357017517\n",
      "Starting epoch: 9 | phase: train | ⏰: 02:38:43 | Learning rate: 0.010000\n"
     ]
    },
    {
     "name": "stderr",
     "output_type": "stream",
     "text": [
      "Train loss: 0.21061: 100%|█████████████████████████████████████████████████████████████| 23/23 [00:00<00:00, 40.78it/s]\n"
     ]
    },
    {
     "name": "stdout",
     "output_type": "stream",
     "text": [
      "============ Test epoch 11 ============\n",
      "Client  0\n"
     ]
    },
    {
     "name": "stderr",
     "output_type": "stream",
     "text": [
      "  0%|                                                                                | 8/14177 [00:00<03:27, 68.38it/s]"
     ]
    },
    {
     "name": "stdout",
     "output_type": "stream",
     "text": [
      "Number of sessions(hdfs_test_normal): 14177\n",
      "Number of sessions(hdfs_test_abnormal): 4123\n"
     ]
    },
    {
     "name": "stderr",
     "output_type": "stream",
     "text": [
      "100%|████████████████████████████████████████████████████████████████████████████| 14177/14177 [03:36<00:00, 65.56it/s]\n",
      "100%|██████████████████████████████████████████████████████████████████████████████| 4123/4123 [00:54<00:00, 75.06it/s]\n"
     ]
    },
    {
     "name": "stdout",
     "output_type": "stream",
     "text": [
      "false positive (FP): 3666, false negative (FN): 121, Precision: 82.014%, Recall: 99.281%, F1-measure: 89.826%\n",
      "actual positive (TP+FN): 16838, actual negative (FP+TN): 553366\n",
      "accuracy: 99.336\n",
      "Finished Predicting\n",
      "elapsed_time: 271.17397260665894\n",
      "============ Train epoch 12 ============\n",
      "Client  0\n",
      "File ../data/hdfs/hdfs_train, number of sessions 4855\n",
      "File ../data/hdfs/hdfs_train, number of seqs 46575\n"
     ]
    },
    {
     "name": "stderr",
     "output_type": "stream",
     "text": [
      "  1%|▌                                                                              | 37/5258 [00:00<00:31, 166.60it/s]"
     ]
    },
    {
     "name": "stdout",
     "output_type": "stream",
     "text": [
      "sampling...\n"
     ]
    },
    {
     "name": "stderr",
     "output_type": "stream",
     "text": [
      "100%|█████████████████████████████████████████████████████████████████████████████| 5258/5258 [00:30<00:00, 174.91it/s]\n"
     ]
    },
    {
     "name": "stdout",
     "output_type": "stream",
     "text": [
      "File ../data/hdfs/hdfs_test_normal, number of sessions 553366\n",
      "File ../data/hdfs/hdfs_test_normal, number of seqs 5258\n",
      "Find 46575 train logs, 5258 validation logs\n",
      "Train batch size 2048 ,Validation batch size 2048\n"
     ]
    },
    {
     "name": "stderr",
     "output_type": "stream",
     "text": [
      "Train loss: 0.82783:  22%|█████████████▍                                                | 5/23 [00:00<00:00, 45.46it/s]"
     ]
    },
    {
     "name": "stdout",
     "output_type": "stream",
     "text": [
      "Starting epoch: 0 | phase: train | ⏰: 02:44:39 | Learning rate: 0.000313\n"
     ]
    },
    {
     "name": "stderr",
     "output_type": "stream",
     "text": [
      "Train loss: 0.64298: 100%|█████████████████████████████████████████████████████████████| 23/23 [00:00<00:00, 42.83it/s]\n",
      "Train loss: 0.38152:  22%|█████████████▍                                                | 5/23 [00:00<00:00, 47.17it/s]"
     ]
    },
    {
     "name": "stdout",
     "output_type": "stream",
     "text": [
      "Starting epoch: 1 | phase: train | ⏰: 02:44:40 | Learning rate: 0.000625\n"
     ]
    },
    {
     "name": "stderr",
     "output_type": "stream",
     "text": [
      "Train loss: 0.34604: 100%|█████████████████████████████████████████████████████████████| 23/23 [00:00<00:00, 42.91it/s]\n",
      "Train loss: 0.28268:  22%|█████████████▍                                                | 5/23 [00:00<00:00, 42.02it/s]"
     ]
    },
    {
     "name": "stdout",
     "output_type": "stream",
     "text": [
      "Starting epoch: 2 | phase: train | ⏰: 02:44:40 | Learning rate: 0.001250\n"
     ]
    },
    {
     "name": "stderr",
     "output_type": "stream",
     "text": [
      "Train loss: 0.26774: 100%|█████████████████████████████████████████████████████████████| 23/23 [00:00<00:00, 43.07it/s]\n",
      "Train loss: 0.24351:  22%|█████████████▍                                                | 5/23 [00:00<00:00, 36.23it/s]"
     ]
    },
    {
     "name": "stdout",
     "output_type": "stream",
     "text": [
      "Starting epoch: 3 | phase: train | ⏰: 02:44:41 | Learning rate: 0.002500\n"
     ]
    },
    {
     "name": "stderr",
     "output_type": "stream",
     "text": [
      "Train loss: 0.24272: 100%|█████████████████████████████████████████████████████████████| 23/23 [00:00<00:00, 38.08it/s]\n",
      "Train loss: 0.22784:  22%|█████████████▍                                                | 5/23 [00:00<00:00, 43.10it/s]"
     ]
    },
    {
     "name": "stdout",
     "output_type": "stream",
     "text": [
      "Starting epoch: 4 | phase: train | ⏰: 02:44:41 | Learning rate: 0.005000\n"
     ]
    },
    {
     "name": "stderr",
     "output_type": "stream",
     "text": [
      "Train loss: 0.22978: 100%|█████████████████████████████████████████████████████████████| 23/23 [00:00<00:00, 40.42it/s]\n",
      "Train loss: 0.22972:  22%|█████████████▍                                                | 5/23 [00:00<00:00, 46.30it/s]"
     ]
    },
    {
     "name": "stdout",
     "output_type": "stream",
     "text": [
      "Starting epoch: 5 | phase: train | ⏰: 02:44:42 | Learning rate: 0.010000\n"
     ]
    },
    {
     "name": "stderr",
     "output_type": "stream",
     "text": [
      "Train loss: 0.22880: 100%|█████████████████████████████████████████████████████████████| 23/23 [00:00<00:00, 42.05it/s]\n",
      "Train loss: 0.22214:  22%|█████████████▍                                                | 5/23 [00:00<00:00, 47.17it/s]"
     ]
    },
    {
     "name": "stdout",
     "output_type": "stream",
     "text": [
      "Starting epoch: 6 | phase: train | ⏰: 02:44:42 | Learning rate: 0.010000\n"
     ]
    },
    {
     "name": "stderr",
     "output_type": "stream",
     "text": [
      "Train loss: 0.22153: 100%|█████████████████████████████████████████████████████████████| 23/23 [00:00<00:00, 43.73it/s]\n",
      ": 100%|█████████████████████████████████████████████████████████████████████████████████| 3/3 [00:00<00:00, 61.22it/s]\n",
      "Train loss: 0.21508:  17%|██████████▊                                                   | 4/23 [00:00<00:00, 33.90it/s]"
     ]
    },
    {
     "name": "stdout",
     "output_type": "stream",
     "text": [
      "Starting epoch: 6 | phase: valid | ⏰: 02:44:43 \n",
      "Validation loss: 0.22208895782629648\n",
      "Starting epoch: 7 | phase: train | ⏰: 02:44:43 | Learning rate: 0.010000\n"
     ]
    },
    {
     "name": "stderr",
     "output_type": "stream",
     "text": [
      "Train loss: 0.21775: 100%|█████████████████████████████████████████████████████████████| 23/23 [00:00<00:00, 40.28it/s]\n",
      "Train loss: 0.20527:  22%|█████████████▍                                                | 5/23 [00:00<00:00, 49.02it/s]"
     ]
    },
    {
     "name": "stdout",
     "output_type": "stream",
     "text": [
      "Starting epoch: 8 | phase: train | ⏰: 02:44:44 | Learning rate: 0.010000\n"
     ]
    },
    {
     "name": "stderr",
     "output_type": "stream",
     "text": [
      "Train loss: 0.21309: 100%|█████████████████████████████████████████████████████████████| 23/23 [00:00<00:00, 42.99it/s]\n",
      ": 100%|█████████████████████████████████████████████████████████████████████████████████| 3/3 [00:00<00:00, 58.82it/s]\n",
      "Train loss: 0.20651:  13%|████████                                                      | 3/23 [00:00<00:00, 28.57it/s]"
     ]
    },
    {
     "name": "stdout",
     "output_type": "stream",
     "text": [
      "Starting epoch: 8 | phase: valid | ⏰: 02:44:44 \n",
      "Validation loss: 0.2180347591638565\n",
      "Starting epoch: 9 | phase: train | ⏰: 02:44:44 | Learning rate: 0.010000\n"
     ]
    },
    {
     "name": "stderr",
     "output_type": "stream",
     "text": [
      "Train loss: 0.20710: 100%|█████████████████████████████████████████████████████████████| 23/23 [00:00<00:00, 37.28it/s]\n"
     ]
    },
    {
     "name": "stdout",
     "output_type": "stream",
     "text": [
      "============ Test epoch 12 ============\n",
      "Client  0\n"
     ]
    },
    {
     "name": "stderr",
     "output_type": "stream",
     "text": [
      "\r",
      "  0%|                                                                                        | 0/14177 [00:00<?, ?it/s]"
     ]
    },
    {
     "name": "stdout",
     "output_type": "stream",
     "text": [
      "Number of sessions(hdfs_test_normal): 14177\n",
      "Number of sessions(hdfs_test_abnormal): 4123\n"
     ]
    },
    {
     "name": "stderr",
     "output_type": "stream",
     "text": [
      "100%|████████████████████████████████████████████████████████████████████████████| 14177/14177 [05:15<00:00, 44.95it/s]\n",
      "100%|██████████████████████████████████████████████████████████████████████████████| 4123/4123 [00:57<00:00, 71.23it/s]\n"
     ]
    },
    {
     "name": "stdout",
     "output_type": "stream",
     "text": [
      "false positive (FP): 9414, false negative (FN): 97, Precision: 64.007%, Recall: 99.424%, F1-measure: 77.878%\n",
      "actual positive (TP+FN): 16838, actual negative (FP+TN): 553366\n",
      "accuracy: 98.332\n",
      "Finished Predicting\n",
      "elapsed_time: 373.2629587650299\n",
      "============ Train epoch 13 ============\n",
      "Client  0\n",
      "File ../data/hdfs/hdfs_train, number of sessions 4855\n",
      "File ../data/hdfs/hdfs_train, number of seqs 46575\n"
     ]
    },
    {
     "name": "stderr",
     "output_type": "stream",
     "text": [
      "  0%|▎                                                                              | 17/5258 [00:00<00:30, 170.00it/s]"
     ]
    },
    {
     "name": "stdout",
     "output_type": "stream",
     "text": [
      "sampling...\n"
     ]
    },
    {
     "name": "stderr",
     "output_type": "stream",
     "text": [
      "100%|█████████████████████████████████████████████████████████████████████████████| 5258/5258 [00:30<00:00, 171.54it/s]\n"
     ]
    },
    {
     "name": "stdout",
     "output_type": "stream",
     "text": [
      "File ../data/hdfs/hdfs_test_normal, number of sessions 553366\n",
      "File ../data/hdfs/hdfs_test_normal, number of seqs 5258\n",
      "Find 46575 train logs, 5258 validation logs\n",
      "Train batch size 2048 ,Validation batch size 2048\n"
     ]
    },
    {
     "name": "stderr",
     "output_type": "stream",
     "text": [
      "Train loss: 0.94392:  22%|█████████████▍                                                | 5/23 [00:00<00:00, 46.30it/s]"
     ]
    },
    {
     "name": "stdout",
     "output_type": "stream",
     "text": [
      "Starting epoch: 0 | phase: train | ⏰: 02:52:23 | Learning rate: 0.000313\n"
     ]
    },
    {
     "name": "stderr",
     "output_type": "stream",
     "text": [
      "Train loss: 0.66920: 100%|█████████████████████████████████████████████████████████████| 23/23 [00:00<00:00, 42.83it/s]\n",
      "Train loss: 0.38432:  22%|█████████████▍                                                | 5/23 [00:00<00:00, 43.86it/s]"
     ]
    },
    {
     "name": "stdout",
     "output_type": "stream",
     "text": [
      "Starting epoch: 1 | phase: train | ⏰: 02:52:24 | Learning rate: 0.000625\n"
     ]
    },
    {
     "name": "stderr",
     "output_type": "stream",
     "text": [
      "Train loss: 0.34470: 100%|█████████████████████████████████████████████████████████████| 23/23 [00:00<00:00, 42.91it/s]\n",
      "Train loss: 0.28969:  22%|█████████████▍                                                | 5/23 [00:00<00:00, 43.48it/s]"
     ]
    },
    {
     "name": "stdout",
     "output_type": "stream",
     "text": [
      "Starting epoch: 2 | phase: train | ⏰: 02:52:24 | Learning rate: 0.001250\n"
     ]
    },
    {
     "name": "stderr",
     "output_type": "stream",
     "text": [
      "Train loss: 0.27321: 100%|█████████████████████████████████████████████████████████████| 23/23 [00:00<00:00, 41.67it/s]\n",
      "Train loss: 0.25012:  22%|█████████████▍                                                | 5/23 [00:00<00:00, 34.72it/s]"
     ]
    },
    {
     "name": "stdout",
     "output_type": "stream",
     "text": [
      "Starting epoch: 3 | phase: train | ⏰: 02:52:25 | Learning rate: 0.002500\n"
     ]
    },
    {
     "name": "stderr",
     "output_type": "stream",
     "text": [
      "Train loss: 0.24278: 100%|█████████████████████████████████████████████████████████████| 23/23 [00:00<00:00, 40.42it/s]\n",
      "Train loss: 0.23108:  22%|█████████████▍                                                | 5/23 [00:00<00:00, 43.10it/s]"
     ]
    },
    {
     "name": "stdout",
     "output_type": "stream",
     "text": [
      "Starting epoch: 4 | phase: train | ⏰: 02:52:26 | Learning rate: 0.005000\n"
     ]
    },
    {
     "name": "stderr",
     "output_type": "stream",
     "text": [
      "Train loss: 0.22799: 100%|█████████████████████████████████████████████████████████████| 23/23 [00:00<00:00, 41.29it/s]\n",
      "Train loss: 0.22678:  17%|██████████▊                                                   | 4/23 [00:00<00:00, 40.00it/s]"
     ]
    },
    {
     "name": "stdout",
     "output_type": "stream",
     "text": [
      "Starting epoch: 5 | phase: train | ⏰: 02:52:26 | Learning rate: 0.010000\n"
     ]
    },
    {
     "name": "stderr",
     "output_type": "stream",
     "text": [
      "Train loss: 0.22568: 100%|█████████████████████████████████████████████████████████████| 23/23 [00:00<00:00, 41.22it/s]\n",
      "Train loss: 0.23311:  22%|█████████████▍                                                | 5/23 [00:00<00:00, 43.48it/s]"
     ]
    },
    {
     "name": "stdout",
     "output_type": "stream",
     "text": [
      "Starting epoch: 6 | phase: train | ⏰: 02:52:27 | Learning rate: 0.010000\n"
     ]
    },
    {
     "name": "stderr",
     "output_type": "stream",
     "text": [
      "Train loss: 0.22818: 100%|█████████████████████████████████████████████████████████████| 23/23 [00:00<00:00, 40.49it/s]\n",
      ": 100%|█████████████████████████████████████████████████████████████████████████████████| 3/3 [00:00<00:00, 71.43it/s]\n",
      "Train loss: 0.22079:  17%|██████████▊                                                   | 4/23 [00:00<00:00, 33.61it/s]"
     ]
    },
    {
     "name": "stdout",
     "output_type": "stream",
     "text": [
      "Starting epoch: 6 | phase: valid | ⏰: 02:52:27 \n",
      "Validation loss: 0.2068345993757248\n",
      "Starting epoch: 7 | phase: train | ⏰: 02:52:27 | Learning rate: 0.010000\n"
     ]
    },
    {
     "name": "stderr",
     "output_type": "stream",
     "text": [
      "Train loss: 0.21769: 100%|█████████████████████████████████████████████████████████████| 23/23 [00:00<00:00, 40.14it/s]\n",
      "Train loss: 0.21374:  22%|█████████████▍                                                | 5/23 [00:00<00:00, 44.25it/s]"
     ]
    },
    {
     "name": "stdout",
     "output_type": "stream",
     "text": [
      "Starting epoch: 8 | phase: train | ⏰: 02:52:28 | Learning rate: 0.010000\n"
     ]
    },
    {
     "name": "stderr",
     "output_type": "stream",
     "text": [
      "Train loss: 0.21260: 100%|█████████████████████████████████████████████████████████████| 23/23 [00:00<00:00, 42.59it/s]\n",
      ": 100%|█████████████████████████████████████████████████████████████████████████████████| 3/3 [00:00<00:00, 60.00it/s]\n",
      "Train loss: 0.20324:  17%|██████████▊                                                   | 4/23 [00:00<00:00, 32.79it/s]"
     ]
    },
    {
     "name": "stdout",
     "output_type": "stream",
     "text": [
      "Starting epoch: 8 | phase: valid | ⏰: 02:52:28 \n",
      "Validation loss: 0.20350890358289084\n",
      "Starting epoch: 9 | phase: train | ⏰: 02:52:29 | Learning rate: 0.010000\n"
     ]
    },
    {
     "name": "stderr",
     "output_type": "stream",
     "text": [
      "Train loss: 0.20929: 100%|█████████████████████████████████████████████████████████████| 23/23 [00:00<00:00, 40.71it/s]\n"
     ]
    },
    {
     "name": "stdout",
     "output_type": "stream",
     "text": [
      "============ Test epoch 13 ============\n",
      "Client  0\n"
     ]
    },
    {
     "name": "stderr",
     "output_type": "stream",
     "text": [
      "\r",
      "  0%|                                                                                        | 0/14177 [00:00<?, ?it/s]"
     ]
    },
    {
     "name": "stdout",
     "output_type": "stream",
     "text": [
      "Number of sessions(hdfs_test_normal): 14177\n",
      "Number of sessions(hdfs_test_abnormal): 4123\n"
     ]
    },
    {
     "name": "stderr",
     "output_type": "stream",
     "text": [
      "100%|████████████████████████████████████████████████████████████████████████████| 14177/14177 [02:52<00:00, 82.06it/s]\n",
      "100%|██████████████████████████████████████████████████████████████████████████████| 4123/4123 [00:57<00:00, 71.52it/s]\n"
     ]
    },
    {
     "name": "stdout",
     "output_type": "stream",
     "text": [
      "false positive (FP): 19377, false negative (FN): 152, Precision: 46.269%, Recall: 99.097%, F1-measure: 63.084%\n",
      "actual positive (TP+FN): 16838, actual negative (FP+TN): 553366\n",
      "accuracy: 96.575\n",
      "Finished Predicting\n",
      "elapsed_time: 230.41997623443604\n",
      "============ Train epoch 14 ============\n",
      "Client  0\n",
      "File ../data/hdfs/hdfs_train, number of sessions 4855\n",
      "File ../data/hdfs/hdfs_train, number of seqs 46575\n"
     ]
    },
    {
     "name": "stderr",
     "output_type": "stream",
     "text": [
      "  0%|▎                                                                              | 21/5258 [00:00<00:25, 202.00it/s]"
     ]
    },
    {
     "name": "stdout",
     "output_type": "stream",
     "text": [
      "sampling...\n"
     ]
    },
    {
     "name": "stderr",
     "output_type": "stream",
     "text": [
      "100%|█████████████████████████████████████████████████████████████████████████████| 5258/5258 [00:31<00:00, 169.60it/s]\n"
     ]
    },
    {
     "name": "stdout",
     "output_type": "stream",
     "text": [
      "File ../data/hdfs/hdfs_test_normal, number of sessions 553366\n",
      "File ../data/hdfs/hdfs_test_normal, number of seqs 5258\n",
      "Find 46575 train logs, 5258 validation logs\n",
      "Train batch size 2048 ,Validation batch size 2048\n"
     ]
    },
    {
     "name": "stderr",
     "output_type": "stream",
     "text": [
      "Train loss: 1.19599:  22%|█████████████▍                                                | 5/23 [00:00<00:00, 43.86it/s]"
     ]
    },
    {
     "name": "stdout",
     "output_type": "stream",
     "text": [
      "Starting epoch: 0 | phase: train | ⏰: 02:57:46 | Learning rate: 0.000313\n"
     ]
    },
    {
     "name": "stderr",
     "output_type": "stream",
     "text": [
      "Train loss: 0.81986: 100%|█████████████████████████████████████████████████████████████| 23/23 [00:00<00:00, 40.85it/s]\n",
      "Train loss: 0.45993:  17%|██████████▊                                                   | 4/23 [00:00<00:00, 34.48it/s]"
     ]
    },
    {
     "name": "stdout",
     "output_type": "stream",
     "text": [
      "Starting epoch: 1 | phase: train | ⏰: 02:57:47 | Learning rate: 0.000625\n"
     ]
    },
    {
     "name": "stderr",
     "output_type": "stream",
     "text": [
      "Train loss: 0.38031: 100%|█████████████████████████████████████████████████████████████| 23/23 [00:00<00:00, 34.02it/s]\n",
      "Train loss: 0.32041:  17%|██████████▊                                                   | 4/23 [00:00<00:00, 30.08it/s]"
     ]
    },
    {
     "name": "stdout",
     "output_type": "stream",
     "text": [
      "Starting epoch: 2 | phase: train | ⏰: 02:57:47 | Learning rate: 0.001250\n"
     ]
    },
    {
     "name": "stderr",
     "output_type": "stream",
     "text": [
      "Train loss: 0.28919: 100%|█████████████████████████████████████████████████████████████| 23/23 [00:00<00:00, 33.58it/s]\n",
      "Train loss: 0.25738:  22%|█████████████▍                                                | 5/23 [00:00<00:00, 31.85it/s]"
     ]
    },
    {
     "name": "stdout",
     "output_type": "stream",
     "text": [
      "Starting epoch: 3 | phase: train | ⏰: 02:57:48 | Learning rate: 0.002500\n"
     ]
    },
    {
     "name": "stderr",
     "output_type": "stream",
     "text": [
      "Train loss: 0.25101: 100%|█████████████████████████████████████████████████████████████| 23/23 [00:00<00:00, 40.93it/s]\n",
      "Train loss: 0.22542:  26%|████████████████▏                                             | 6/23 [00:00<00:00, 50.00it/s]"
     ]
    },
    {
     "name": "stdout",
     "output_type": "stream",
     "text": [
      "Starting epoch: 4 | phase: train | ⏰: 02:57:49 | Learning rate: 0.005000\n"
     ]
    },
    {
     "name": "stderr",
     "output_type": "stream",
     "text": [
      "Train loss: 0.23152: 100%|█████████████████████████████████████████████████████████████| 23/23 [00:00<00:00, 43.31it/s]\n",
      "Train loss: 0.22341:  22%|█████████████▍                                                | 5/23 [00:00<00:00, 45.87it/s]"
     ]
    },
    {
     "name": "stdout",
     "output_type": "stream",
     "text": [
      "Starting epoch: 5 | phase: train | ⏰: 02:57:49 | Learning rate: 0.010000\n"
     ]
    },
    {
     "name": "stderr",
     "output_type": "stream",
     "text": [
      "Train loss: 0.23265: 100%|█████████████████████████████████████████████████████████████| 23/23 [00:00<00:00, 44.83it/s]\n",
      "Train loss: 0.22646:  22%|█████████████▍                                                | 5/23 [00:00<00:00, 44.25it/s]"
     ]
    },
    {
     "name": "stdout",
     "output_type": "stream",
     "text": [
      "Starting epoch: 6 | phase: train | ⏰: 02:57:50 | Learning rate: 0.010000\n"
     ]
    },
    {
     "name": "stderr",
     "output_type": "stream",
     "text": [
      "Train loss: 0.22550: 100%|█████████████████████████████████████████████████████████████| 23/23 [00:00<00:00, 42.20it/s]\n",
      ": 100%|█████████████████████████████████████████████████████████████████████████████████| 3/3 [00:00<00:00, 62.50it/s]\n",
      "Train loss: 0.22145:  13%|████████                                                      | 3/23 [00:00<00:00, 29.70it/s]"
     ]
    },
    {
     "name": "stdout",
     "output_type": "stream",
     "text": [
      "Starting epoch: 6 | phase: valid | ⏰: 02:57:50 \n",
      "Validation loss: 0.22106586396694183\n",
      "Starting epoch: 7 | phase: train | ⏰: 02:57:50 | Learning rate: 0.010000\n"
     ]
    },
    {
     "name": "stderr",
     "output_type": "stream",
     "text": [
      "Train loss: 0.21721: 100%|█████████████████████████████████████████████████████████████| 23/23 [00:00<00:00, 38.40it/s]\n",
      "Train loss: 0.20608:  22%|█████████████▍                                                | 5/23 [00:00<00:00, 42.37it/s]"
     ]
    },
    {
     "name": "stdout",
     "output_type": "stream",
     "text": [
      "Starting epoch: 8 | phase: train | ⏰: 02:57:51 | Learning rate: 0.010000\n"
     ]
    },
    {
     "name": "stderr",
     "output_type": "stream",
     "text": [
      "Train loss: 0.20980: 100%|█████████████████████████████████████████████████████████████| 23/23 [00:00<00:00, 42.20it/s]\n",
      ": 100%|█████████████████████████████████████████████████████████████████████████████████| 3/3 [00:00<00:00, 66.67it/s]\n",
      "Train loss: 0.20746:  13%|████████                                                      | 3/23 [00:00<00:00, 29.13it/s]"
     ]
    },
    {
     "name": "stdout",
     "output_type": "stream",
     "text": [
      "Starting epoch: 8 | phase: valid | ⏰: 02:57:51 \n",
      "Validation loss: 0.21408319969971976\n",
      "Starting epoch: 9 | phase: train | ⏰: 02:57:51 | Learning rate: 0.010000\n"
     ]
    },
    {
     "name": "stderr",
     "output_type": "stream",
     "text": [
      "Train loss: 0.20756: 100%|█████████████████████████████████████████████████████████████| 23/23 [00:00<00:00, 40.14it/s]\n"
     ]
    },
    {
     "name": "stdout",
     "output_type": "stream",
     "text": [
      "============ Test epoch 14 ============\n",
      "Client  0\n"
     ]
    },
    {
     "name": "stderr",
     "output_type": "stream",
     "text": [
      "\r",
      "  0%|                                                                                        | 0/14177 [00:00<?, ?it/s]"
     ]
    },
    {
     "name": "stdout",
     "output_type": "stream",
     "text": [
      "Number of sessions(hdfs_test_normal): 14177\n",
      "Number of sessions(hdfs_test_abnormal): 4123\n"
     ]
    },
    {
     "name": "stderr",
     "output_type": "stream",
     "text": [
      "100%|████████████████████████████████████████████████████████████████████████████| 14177/14177 [04:35<00:00, 51.53it/s]\n",
      "100%|██████████████████████████████████████████████████████████████████████████████| 4123/4123 [00:55<00:00, 74.66it/s]\n"
     ]
    },
    {
     "name": "stdout",
     "output_type": "stream",
     "text": [
      "false positive (FP): 34370, false negative (FN): 79, Precision: 32.778%, Recall: 99.531%, F1-measure: 49.315%\n",
      "actual positive (TP+FN): 16838, actual negative (FP+TN): 553366\n",
      "accuracy: 93.958\n",
      "Finished Predicting\n",
      "elapsed_time: 330.35931396484375\n",
      "============ Train epoch 15 ============\n",
      "Client  0\n",
      "File ../data/hdfs/hdfs_train, number of sessions 4855\n",
      "File ../data/hdfs/hdfs_train, number of seqs 46575\n"
     ]
    },
    {
     "name": "stderr",
     "output_type": "stream",
     "text": [
      "  0%|▏                                                                              | 16/5258 [00:00<00:33, 158.42it/s]"
     ]
    },
    {
     "name": "stdout",
     "output_type": "stream",
     "text": [
      "sampling...\n"
     ]
    },
    {
     "name": "stderr",
     "output_type": "stream",
     "text": [
      "100%|█████████████████████████████████████████████████████████████████████████████| 5258/5258 [00:30<00:00, 172.04it/s]\n"
     ]
    },
    {
     "name": "stdout",
     "output_type": "stream",
     "text": [
      "File ../data/hdfs/hdfs_test_normal, number of sessions 553366\n",
      "File ../data/hdfs/hdfs_test_normal, number of seqs 5258\n",
      "Find 46575 train logs, 5258 validation logs\n",
      "Train batch size 2048 ,Validation batch size 2048\n"
     ]
    },
    {
     "name": "stderr",
     "output_type": "stream",
     "text": [
      "Train loss: 1.42704:   9%|█████▍                                                        | 2/23 [00:00<00:01, 19.80it/s]"
     ]
    },
    {
     "name": "stdout",
     "output_type": "stream",
     "text": [
      "Starting epoch: 0 | phase: train | ⏰: 03:04:47 | Learning rate: 0.000313\n"
     ]
    },
    {
     "name": "stderr",
     "output_type": "stream",
     "text": [
      "Train loss: 0.80135: 100%|█████████████████████████████████████████████████████████████| 23/23 [00:00<00:00, 31.86it/s]\n",
      "Train loss: 0.40705:  22%|█████████████▍                                                | 5/23 [00:00<00:00, 46.73it/s]"
     ]
    },
    {
     "name": "stdout",
     "output_type": "stream",
     "text": [
      "Starting epoch: 1 | phase: train | ⏰: 03:04:48 | Learning rate: 0.000625\n"
     ]
    },
    {
     "name": "stderr",
     "output_type": "stream",
     "text": [
      "Train loss: 0.36654: 100%|█████████████████████████████████████████████████████████████| 23/23 [00:00<00:00, 44.40it/s]\n",
      "Train loss: 0.30967:  22%|█████████████▍                                                | 5/23 [00:00<00:00, 48.54it/s]"
     ]
    },
    {
     "name": "stdout",
     "output_type": "stream",
     "text": [
      "Starting epoch: 2 | phase: train | ⏰: 03:04:48 | Learning rate: 0.001250\n"
     ]
    },
    {
     "name": "stderr",
     "output_type": "stream",
     "text": [
      "Train loss: 0.29021: 100%|█████████████████████████████████████████████████████████████| 23/23 [00:00<00:00, 44.92it/s]\n",
      "Train loss: 0.25667:  22%|█████████████▍                                                | 5/23 [00:00<00:00, 35.21it/s]"
     ]
    },
    {
     "name": "stdout",
     "output_type": "stream",
     "text": [
      "Starting epoch: 3 | phase: train | ⏰: 03:04:49 | Learning rate: 0.002500\n"
     ]
    },
    {
     "name": "stderr",
     "output_type": "stream",
     "text": [
      "Train loss: 0.25636: 100%|█████████████████████████████████████████████████████████████| 23/23 [00:00<00:00, 38.92it/s]\n",
      "Train loss: 0.23677:  22%|█████████████▍                                                | 5/23 [00:00<00:00, 41.32it/s]"
     ]
    },
    {
     "name": "stdout",
     "output_type": "stream",
     "text": [
      "Starting epoch: 4 | phase: train | ⏰: 03:04:50 | Learning rate: 0.005000\n"
     ]
    },
    {
     "name": "stderr",
     "output_type": "stream",
     "text": [
      "Train loss: 0.23303: 100%|█████████████████████████████████████████████████████████████| 23/23 [00:00<00:00, 42.20it/s]\n",
      "Train loss: 0.22618:  22%|█████████████▍                                                | 5/23 [00:00<00:00, 47.62it/s]"
     ]
    },
    {
     "name": "stdout",
     "output_type": "stream",
     "text": [
      "Starting epoch: 5 | phase: train | ⏰: 03:04:50 | Learning rate: 0.010000\n"
     ]
    },
    {
     "name": "stderr",
     "output_type": "stream",
     "text": [
      "Train loss: 0.23018: 100%|█████████████████████████████████████████████████████████████| 23/23 [00:00<00:00, 41.82it/s]\n",
      "Train loss: 0.21788:  22%|█████████████▍                                                | 5/23 [00:00<00:00, 43.48it/s]"
     ]
    },
    {
     "name": "stdout",
     "output_type": "stream",
     "text": [
      "Starting epoch: 6 | phase: train | ⏰: 03:04:51 | Learning rate: 0.010000\n"
     ]
    },
    {
     "name": "stderr",
     "output_type": "stream",
     "text": [
      "Train loss: 0.22281: 100%|█████████████████████████████████████████████████████████████| 23/23 [00:00<00:00, 42.20it/s]\n",
      ": 100%|█████████████████████████████████████████████████████████████████████████████████| 3/3 [00:00<00:00, 61.22it/s]\n",
      "Train loss: 0.21028:  13%|████████                                                      | 3/23 [00:00<00:00, 28.85it/s]"
     ]
    },
    {
     "name": "stdout",
     "output_type": "stream",
     "text": [
      "Starting epoch: 6 | phase: valid | ⏰: 03:04:51 \n",
      "Validation loss: 0.25843440492947894\n",
      "Starting epoch: 7 | phase: train | ⏰: 03:04:51 | Learning rate: 0.010000\n"
     ]
    },
    {
     "name": "stderr",
     "output_type": "stream",
     "text": [
      "Train loss: 0.21390: 100%|█████████████████████████████████████████████████████████████| 23/23 [00:00<00:00, 38.66it/s]\n",
      "Train loss: 0.20573:  22%|█████████████▍                                                | 5/23 [00:00<00:00, 42.37it/s]"
     ]
    },
    {
     "name": "stdout",
     "output_type": "stream",
     "text": [
      "Starting epoch: 8 | phase: train | ⏰: 03:04:52 | Learning rate: 0.010000\n"
     ]
    },
    {
     "name": "stderr",
     "output_type": "stream",
     "text": [
      "Train loss: 0.21063: 100%|█████████████████████████████████████████████████████████████| 23/23 [00:00<00:00, 40.64it/s]\n",
      ": 100%|█████████████████████████████████████████████████████████████████████████████████| 3/3 [00:00<00:00, 61.22it/s]\n",
      "Train loss: 0.19695:  17%|██████████▊                                                   | 4/23 [00:00<00:00, 33.90it/s]"
     ]
    },
    {
     "name": "stdout",
     "output_type": "stream",
     "text": [
      "Starting epoch: 8 | phase: valid | ⏰: 03:04:52 \n",
      "Validation loss: 0.2489222933848699\n",
      "Starting epoch: 9 | phase: train | ⏰: 03:04:52 | Learning rate: 0.010000\n"
     ]
    },
    {
     "name": "stderr",
     "output_type": "stream",
     "text": [
      "Train loss: 0.21034: 100%|█████████████████████████████████████████████████████████████| 23/23 [00:00<00:00, 40.42it/s]\n"
     ]
    },
    {
     "name": "stdout",
     "output_type": "stream",
     "text": [
      "============ Test epoch 15 ============\n",
      "Client  0\n"
     ]
    },
    {
     "name": "stderr",
     "output_type": "stream",
     "text": [
      "  0%|                                                                                | 6/14177 [00:00<04:00, 58.82it/s]"
     ]
    },
    {
     "name": "stdout",
     "output_type": "stream",
     "text": [
      "Number of sessions(hdfs_test_normal): 14177\n",
      "Number of sessions(hdfs_test_abnormal): 4123\n"
     ]
    },
    {
     "name": "stderr",
     "output_type": "stream",
     "text": [
      "100%|████████████████████████████████████████████████████████████████████████████| 14177/14177 [03:23<00:00, 69.72it/s]\n",
      "100%|██████████████████████████████████████████████████████████████████████████████| 4123/4123 [00:55<00:00, 73.67it/s]\n"
     ]
    },
    {
     "name": "stdout",
     "output_type": "stream",
     "text": [
      "false positive (FP): 13811, false negative (FN): 115, Precision: 54.768%, Recall: 99.317%, F1-measure: 70.603%\n",
      "actual positive (TP+FN): 16838, actual negative (FP+TN): 553366\n",
      "accuracy: 97.558\n",
      "Finished Predicting\n",
      "elapsed_time: 259.3060111999512\n",
      "============ Train epoch 16 ============\n",
      "Client  0\n",
      "File ../data/hdfs/hdfs_train, number of sessions 4855\n",
      "File ../data/hdfs/hdfs_train, number of seqs 46575\n"
     ]
    },
    {
     "name": "stderr",
     "output_type": "stream",
     "text": [
      "  0%|▎                                                                              | 22/5258 [00:00<00:24, 217.74it/s]"
     ]
    },
    {
     "name": "stdout",
     "output_type": "stream",
     "text": [
      "sampling...\n"
     ]
    },
    {
     "name": "stderr",
     "output_type": "stream",
     "text": [
      "100%|█████████████████████████████████████████████████████████████████████████████| 5258/5258 [00:30<00:00, 170.36it/s]\n"
     ]
    },
    {
     "name": "stdout",
     "output_type": "stream",
     "text": [
      "File ../data/hdfs/hdfs_test_normal, number of sessions 553366\n",
      "File ../data/hdfs/hdfs_test_normal, number of seqs 5258\n",
      "Find 46575 train logs, 5258 validation logs\n",
      "Train batch size 2048 ,Validation batch size 2048\n"
     ]
    },
    {
     "name": "stderr",
     "output_type": "stream",
     "text": [
      "Train loss: 1.52230:  13%|████████                                                      | 3/23 [00:00<00:00, 26.09it/s]"
     ]
    },
    {
     "name": "stdout",
     "output_type": "stream",
     "text": [
      "Starting epoch: 0 | phase: train | ⏰: 03:10:38 | Learning rate: 0.000313\n"
     ]
    },
    {
     "name": "stderr",
     "output_type": "stream",
     "text": [
      "Train loss: 0.95334: 100%|█████████████████████████████████████████████████████████████| 23/23 [00:00<00:00, 38.21it/s]\n",
      "Train loss: 0.48613:  22%|█████████████▍                                                | 5/23 [00:00<00:00, 45.04it/s]"
     ]
    },
    {
     "name": "stdout",
     "output_type": "stream",
     "text": [
      "Starting epoch: 1 | phase: train | ⏰: 03:10:39 | Learning rate: 0.000625\n"
     ]
    },
    {
     "name": "stderr",
     "output_type": "stream",
     "text": [
      "Train loss: 0.41690: 100%|█████████████████████████████████████████████████████████████| 23/23 [00:00<00:00, 41.89it/s]\n",
      "Train loss: 0.30955:  22%|█████████████▍                                                | 5/23 [00:00<00:00, 43.86it/s]"
     ]
    },
    {
     "name": "stdout",
     "output_type": "stream",
     "text": [
      "Starting epoch: 2 | phase: train | ⏰: 03:10:39 | Learning rate: 0.001250\n"
     ]
    },
    {
     "name": "stderr",
     "output_type": "stream",
     "text": [
      "Train loss: 0.29346: 100%|█████████████████████████████████████████████████████████████| 23/23 [00:00<00:00, 43.48it/s]\n",
      "Train loss: 0.25611:  22%|█████████████▍                                                | 5/23 [00:00<00:00, 33.78it/s]"
     ]
    },
    {
     "name": "stdout",
     "output_type": "stream",
     "text": [
      "Starting epoch: 3 | phase: train | ⏰: 03:10:40 | Learning rate: 0.002500\n"
     ]
    },
    {
     "name": "stderr",
     "output_type": "stream",
     "text": [
      "Train loss: 0.25219: 100%|█████████████████████████████████████████████████████████████| 23/23 [00:00<00:00, 41.00it/s]\n",
      "Train loss: 0.23675:  22%|█████████████▍                                                | 5/23 [00:00<00:00, 45.05it/s]"
     ]
    },
    {
     "name": "stdout",
     "output_type": "stream",
     "text": [
      "Starting epoch: 4 | phase: train | ⏰: 03:10:40 | Learning rate: 0.005000\n"
     ]
    },
    {
     "name": "stderr",
     "output_type": "stream",
     "text": [
      "Train loss: 0.23202: 100%|█████████████████████████████████████████████████████████████| 23/23 [00:00<00:00, 42.05it/s]\n",
      "Train loss: 0.21968:  22%|█████████████▍                                                | 5/23 [00:00<00:00, 45.45it/s]"
     ]
    },
    {
     "name": "stdout",
     "output_type": "stream",
     "text": [
      "Starting epoch: 5 | phase: train | ⏰: 03:10:41 | Learning rate: 0.010000\n"
     ]
    },
    {
     "name": "stderr",
     "output_type": "stream",
     "text": [
      "Train loss: 0.24423: 100%|█████████████████████████████████████████████████████████████| 23/23 [00:00<00:00, 39.79it/s]\n",
      "Train loss: 0.23230:  22%|█████████████▍                                                | 5/23 [00:00<00:00, 43.48it/s]"
     ]
    },
    {
     "name": "stdout",
     "output_type": "stream",
     "text": [
      "Starting epoch: 6 | phase: train | ⏰: 03:10:41 | Learning rate: 0.010000\n"
     ]
    },
    {
     "name": "stderr",
     "output_type": "stream",
     "text": [
      "Train loss: 0.23558: 100%|█████████████████████████████████████████████████████████████| 23/23 [00:00<00:00, 41.67it/s]\n",
      ": 100%|█████████████████████████████████████████████████████████████████████████████████| 3/3 [00:00<00:00, 66.67it/s]\n",
      "Train loss: 0.21353:  13%|████████                                                      | 3/23 [00:00<00:00, 29.13it/s]"
     ]
    },
    {
     "name": "stdout",
     "output_type": "stream",
     "text": [
      "Starting epoch: 6 | phase: valid | ⏰: 03:10:42 \n",
      "Validation loss: 0.25730402767658234\n",
      "Starting epoch: 7 | phase: train | ⏰: 03:10:42 | Learning rate: 0.010000\n"
     ]
    },
    {
     "name": "stderr",
     "output_type": "stream",
     "text": [
      "Train loss: 0.21921: 100%|█████████████████████████████████████████████████████████████| 23/23 [00:00<00:00, 38.92it/s]\n",
      "Train loss: 0.20774:  22%|█████████████▍                                                | 5/23 [00:00<00:00, 43.10it/s]"
     ]
    },
    {
     "name": "stdout",
     "output_type": "stream",
     "text": [
      "Starting epoch: 8 | phase: train | ⏰: 03:10:43 | Learning rate: 0.010000\n"
     ]
    },
    {
     "name": "stderr",
     "output_type": "stream",
     "text": [
      "Train loss: 0.21135: 100%|█████████████████████████████████████████████████████████████| 23/23 [00:00<00:00, 43.31it/s]\n",
      ": 100%|█████████████████████████████████████████████████████████████████████████████████| 3/3 [00:00<00:00, 62.50it/s]\n",
      "Train loss: 0.20371:  17%|██████████▊                                                   | 4/23 [00:00<00:00, 33.90it/s]"
     ]
    },
    {
     "name": "stdout",
     "output_type": "stream",
     "text": [
      "Starting epoch: 8 | phase: valid | ⏰: 03:10:43 \n",
      "Validation loss: 0.23297719657421112\n",
      "Starting epoch: 9 | phase: train | ⏰: 03:10:43 | Learning rate: 0.010000\n"
     ]
    },
    {
     "name": "stderr",
     "output_type": "stream",
     "text": [
      "Train loss: 0.20835: 100%|█████████████████████████████████████████████████████████████| 23/23 [00:00<00:00, 39.32it/s]\n"
     ]
    },
    {
     "name": "stdout",
     "output_type": "stream",
     "text": [
      "============ Test epoch 16 ============\n",
      "Client  0\n"
     ]
    },
    {
     "name": "stderr",
     "output_type": "stream",
     "text": [
      "\r",
      "  0%|                                                                                        | 0/14177 [00:00<?, ?it/s]"
     ]
    },
    {
     "name": "stdout",
     "output_type": "stream",
     "text": [
      "Number of sessions(hdfs_test_normal): 14177\n",
      "Number of sessions(hdfs_test_abnormal): 4123\n"
     ]
    },
    {
     "name": "stderr",
     "output_type": "stream",
     "text": [
      "100%|████████████████████████████████████████████████████████████████████████████| 14177/14177 [05:06<00:00, 46.31it/s]\n",
      "100%|██████████████████████████████████████████████████████████████████████████████| 4123/4123 [00:59<00:00, 69.16it/s]\n"
     ]
    },
    {
     "name": "stdout",
     "output_type": "stream",
     "text": [
      "false positive (FP): 10814, false negative (FN): 135, Precision: 60.701%, Recall: 99.198%, F1-measure: 75.315%\n",
      "actual positive (TP+FN): 16838, actual negative (FP+TN): 553366\n",
      "accuracy: 98.080\n",
      "Finished Predicting\n",
      "elapsed_time: 365.77096796035767\n",
      "============ Train epoch 17 ============\n",
      "Client  0\n",
      "File ../data/hdfs/hdfs_train, number of sessions 4855\n",
      "File ../data/hdfs/hdfs_train, number of seqs 46575\n"
     ]
    },
    {
     "name": "stderr",
     "output_type": "stream",
     "text": [
      "  0%|▏                                                                              | 15/5258 [00:00<00:35, 147.06it/s]"
     ]
    },
    {
     "name": "stdout",
     "output_type": "stream",
     "text": [
      "sampling...\n"
     ]
    },
    {
     "name": "stderr",
     "output_type": "stream",
     "text": [
      "100%|█████████████████████████████████████████████████████████████████████████████| 5258/5258 [00:30<00:00, 173.78it/s]\n"
     ]
    },
    {
     "name": "stdout",
     "output_type": "stream",
     "text": [
      "File ../data/hdfs/hdfs_test_normal, number of sessions 553366\n",
      "File ../data/hdfs/hdfs_test_normal, number of seqs 5258\n",
      "Find 46575 train logs, 5258 validation logs\n",
      "Train batch size 2048 ,Validation batch size 2048\n"
     ]
    },
    {
     "name": "stderr",
     "output_type": "stream",
     "text": [
      "Train loss: 2.01814:   9%|█████▍                                                        | 2/23 [00:00<00:01, 18.87it/s]"
     ]
    },
    {
     "name": "stdout",
     "output_type": "stream",
     "text": [
      "Starting epoch: 0 | phase: train | ⏰: 03:18:14 | Learning rate: 0.000313\n"
     ]
    },
    {
     "name": "stderr",
     "output_type": "stream",
     "text": [
      "Train loss: 1.03230: 100%|█████████████████████████████████████████████████████████████| 23/23 [00:00<00:00, 33.67it/s]\n",
      "Train loss: 0.44452:  22%|█████████████▍                                                | 5/23 [00:00<00:00, 43.86it/s]"
     ]
    },
    {
     "name": "stdout",
     "output_type": "stream",
     "text": [
      "Starting epoch: 1 | phase: train | ⏰: 03:18:15 | Learning rate: 0.000625\n"
     ]
    },
    {
     "name": "stderr",
     "output_type": "stream",
     "text": [
      "Train loss: 0.39688: 100%|█████████████████████████████████████████████████████████████| 23/23 [00:00<00:00, 42.99it/s]\n",
      "Train loss: 0.32025:  22%|█████████████▍                                                | 5/23 [00:00<00:00, 44.64it/s]"
     ]
    },
    {
     "name": "stdout",
     "output_type": "stream",
     "text": [
      "Starting epoch: 2 | phase: train | ⏰: 03:18:15 | Learning rate: 0.001250\n"
     ]
    },
    {
     "name": "stderr",
     "output_type": "stream",
     "text": [
      "Train loss: 0.30362: 100%|█████████████████████████████████████████████████████████████| 23/23 [00:00<00:00, 43.89it/s]\n",
      "Train loss: 0.27167:  22%|█████████████▍                                                | 5/23 [00:00<00:00, 37.31it/s]"
     ]
    },
    {
     "name": "stdout",
     "output_type": "stream",
     "text": [
      "Starting epoch: 3 | phase: train | ⏰: 03:18:16 | Learning rate: 0.002500\n"
     ]
    },
    {
     "name": "stderr",
     "output_type": "stream",
     "text": [
      "Train loss: 0.26071: 100%|█████████████████████████████████████████████████████████████| 23/23 [00:00<00:00, 41.89it/s]\n",
      "Train loss: 0.23755:  22%|█████████████▍                                                | 5/23 [00:00<00:00, 47.62it/s]"
     ]
    },
    {
     "name": "stdout",
     "output_type": "stream",
     "text": [
      "Starting epoch: 4 | phase: train | ⏰: 03:18:17 | Learning rate: 0.005000\n"
     ]
    },
    {
     "name": "stderr",
     "output_type": "stream",
     "text": [
      "Train loss: 0.23602: 100%|█████████████████████████████████████████████████████████████| 23/23 [00:00<00:00, 42.44it/s]\n",
      "Train loss: 0.22584:  22%|█████████████▍                                                | 5/23 [00:00<00:00, 44.64it/s]"
     ]
    },
    {
     "name": "stdout",
     "output_type": "stream",
     "text": [
      "Starting epoch: 5 | phase: train | ⏰: 03:18:17 | Learning rate: 0.010000\n"
     ]
    },
    {
     "name": "stderr",
     "output_type": "stream",
     "text": [
      "Train loss: 0.22606: 100%|█████████████████████████████████████████████████████████████| 23/23 [00:00<00:00, 41.44it/s]\n",
      "Train loss: 0.22023:  17%|██████████▊                                                   | 4/23 [00:00<00:00, 40.00it/s]"
     ]
    },
    {
     "name": "stdout",
     "output_type": "stream",
     "text": [
      "Starting epoch: 6 | phase: train | ⏰: 03:18:18 | Learning rate: 0.010000\n"
     ]
    },
    {
     "name": "stderr",
     "output_type": "stream",
     "text": [
      "Train loss: 0.22144: 100%|█████████████████████████████████████████████████████████████| 23/23 [00:00<00:00, 39.93it/s]\n",
      ": 100%|█████████████████████████████████████████████████████████████████████████████████| 3/3 [00:00<00:00, 58.82it/s]\n",
      "Train loss: 0.21071:  13%|████████                                                      | 3/23 [00:00<00:00, 29.41it/s]"
     ]
    },
    {
     "name": "stdout",
     "output_type": "stream",
     "text": [
      "Starting epoch: 6 | phase: valid | ⏰: 03:18:18 \n",
      "Validation loss: 0.2598836173613866\n",
      "Starting epoch: 7 | phase: train | ⏰: 03:18:18 | Learning rate: 0.010000\n"
     ]
    },
    {
     "name": "stderr",
     "output_type": "stream",
     "text": [
      "Train loss: 0.21478: 100%|█████████████████████████████████████████████████████████████| 23/23 [00:00<00:00, 37.64it/s]\n",
      "Train loss: 0.20906:  22%|█████████████▍                                                | 5/23 [00:00<00:00, 43.48it/s]"
     ]
    },
    {
     "name": "stdout",
     "output_type": "stream",
     "text": [
      "Starting epoch: 8 | phase: train | ⏰: 03:18:19 | Learning rate: 0.010000\n"
     ]
    },
    {
     "name": "stderr",
     "output_type": "stream",
     "text": [
      "Train loss: 0.20907: 100%|█████████████████████████████████████████████████████████████| 23/23 [00:00<00:00, 40.14it/s]\n",
      ": 100%|█████████████████████████████████████████████████████████████████████████████████| 3/3 [00:00<00:00, 58.82it/s]\n",
      "Train loss: 0.20693:  17%|██████████▊                                                   | 4/23 [00:00<00:00, 32.52it/s]"
     ]
    },
    {
     "name": "stdout",
     "output_type": "stream",
     "text": [
      "Starting epoch: 8 | phase: valid | ⏰: 03:18:19 \n",
      "Validation loss: 0.2541874498128891\n",
      "Starting epoch: 9 | phase: train | ⏰: 03:18:20 | Learning rate: 0.010000\n"
     ]
    },
    {
     "name": "stderr",
     "output_type": "stream",
     "text": [
      "Train loss: 0.20573: 100%|█████████████████████████████████████████████████████████████| 23/23 [00:00<00:00, 37.04it/s]\n"
     ]
    },
    {
     "name": "stdout",
     "output_type": "stream",
     "text": [
      "============ Test epoch 17 ============\n",
      "Client  0\n"
     ]
    },
    {
     "name": "stderr",
     "output_type": "stream",
     "text": [
      "\r",
      "  0%|                                                                                        | 0/14177 [00:00<?, ?it/s]"
     ]
    },
    {
     "name": "stdout",
     "output_type": "stream",
     "text": [
      "Number of sessions(hdfs_test_normal): 14177\n",
      "Number of sessions(hdfs_test_abnormal): 4123\n"
     ]
    },
    {
     "name": "stderr",
     "output_type": "stream",
     "text": [
      "100%|████████████████████████████████████████████████████████████████████████████| 14177/14177 [03:06<00:00, 76.16it/s]\n",
      "100%|██████████████████████████████████████████████████████████████████████████████| 4123/4123 [00:49<00:00, 84.06it/s]\n"
     ]
    },
    {
     "name": "stdout",
     "output_type": "stream",
     "text": [
      "false positive (FP): 140978, false negative (FN): 900, Precision: 10.157%, Recall: 94.655%, F1-measure: 18.345%\n",
      "actual positive (TP+FN): 16838, actual negative (FP+TN): 553366\n",
      "accuracy: 75.118\n",
      "Finished Predicting\n",
      "elapsed_time: 235.21248364448547\n",
      "============ Train epoch 18 ============\n",
      "Client  0\n",
      "File ../data/hdfs/hdfs_train, number of sessions 4855\n",
      "File ../data/hdfs/hdfs_train, number of seqs 46575\n"
     ]
    },
    {
     "name": "stderr",
     "output_type": "stream",
     "text": [
      "  0%|▏                                                                              | 16/5258 [00:00<00:35, 148.15it/s]"
     ]
    },
    {
     "name": "stdout",
     "output_type": "stream",
     "text": [
      "sampling...\n"
     ]
    },
    {
     "name": "stderr",
     "output_type": "stream",
     "text": [
      "100%|█████████████████████████████████████████████████████████████████████████████| 5258/5258 [00:30<00:00, 173.85it/s]\n"
     ]
    },
    {
     "name": "stdout",
     "output_type": "stream",
     "text": [
      "File ../data/hdfs/hdfs_test_normal, number of sessions 553366\n",
      "File ../data/hdfs/hdfs_test_normal, number of seqs 5258\n",
      "Find 46575 train logs, 5258 validation logs\n",
      "Train batch size 2048 ,Validation batch size 2048\n"
     ]
    },
    {
     "name": "stderr",
     "output_type": "stream",
     "text": [
      "Train loss: 1.73072:  22%|█████████████▍                                                | 5/23 [00:00<00:00, 42.37it/s]"
     ]
    },
    {
     "name": "stdout",
     "output_type": "stream",
     "text": [
      "Starting epoch: 0 | phase: train | ⏰: 03:23:43 | Learning rate: 0.000313\n"
     ]
    },
    {
     "name": "stderr",
     "output_type": "stream",
     "text": [
      "Train loss: 1.03626: 100%|█████████████████████████████████████████████████████████████| 23/23 [00:00<00:00, 41.52it/s]\n",
      "Train loss: 0.45218:  22%|█████████████▍                                                | 5/23 [00:00<00:00, 46.30it/s]"
     ]
    },
    {
     "name": "stdout",
     "output_type": "stream",
     "text": [
      "Starting epoch: 1 | phase: train | ⏰: 03:23:43 | Learning rate: 0.000625\n"
     ]
    },
    {
     "name": "stderr",
     "output_type": "stream",
     "text": [
      "Train loss: 0.40404: 100%|█████████████████████████████████████████████████████████████| 23/23 [00:00<00:00, 41.07it/s]\n",
      "Train loss: 0.33465:  22%|█████████████▍                                                | 5/23 [00:00<00:00, 41.32it/s]"
     ]
    },
    {
     "name": "stdout",
     "output_type": "stream",
     "text": [
      "Starting epoch: 2 | phase: train | ⏰: 03:23:44 | Learning rate: 0.001250\n"
     ]
    },
    {
     "name": "stderr",
     "output_type": "stream",
     "text": [
      "Train loss: 0.31053: 100%|█████████████████████████████████████████████████████████████| 23/23 [00:00<00:00, 40.78it/s]\n",
      "Train loss: 0.27263:  22%|█████████████▍                                                | 5/23 [00:00<00:00, 31.85it/s]"
     ]
    },
    {
     "name": "stdout",
     "output_type": "stream",
     "text": [
      "Starting epoch: 3 | phase: train | ⏰: 03:23:44 | Learning rate: 0.002500\n"
     ]
    },
    {
     "name": "stderr",
     "output_type": "stream",
     "text": [
      "Train loss: 0.26784: 100%|█████████████████████████████████████████████████████████████| 23/23 [00:00<00:00, 37.16it/s]\n",
      "Train loss: 0.25105:  22%|█████████████▍                                                | 5/23 [00:00<00:00, 43.48it/s]"
     ]
    },
    {
     "name": "stdout",
     "output_type": "stream",
     "text": [
      "Starting epoch: 4 | phase: train | ⏰: 03:23:45 | Learning rate: 0.005000\n"
     ]
    },
    {
     "name": "stderr",
     "output_type": "stream",
     "text": [
      "Train loss: 0.24630: 100%|█████████████████████████████████████████████████████████████| 23/23 [00:00<00:00, 40.64it/s]\n",
      "Train loss: 0.23881:  22%|█████████████▍                                                | 5/23 [00:00<00:00, 43.10it/s]"
     ]
    },
    {
     "name": "stdout",
     "output_type": "stream",
     "text": [
      "Starting epoch: 5 | phase: train | ⏰: 03:23:46 | Learning rate: 0.010000\n"
     ]
    },
    {
     "name": "stderr",
     "output_type": "stream",
     "text": [
      "Train loss: 0.23613: 100%|█████████████████████████████████████████████████████████████| 23/23 [00:00<00:00, 42.67it/s]\n",
      "Train loss: 0.22558:  22%|█████████████▍                                                | 5/23 [00:00<00:00, 46.30it/s]"
     ]
    },
    {
     "name": "stdout",
     "output_type": "stream",
     "text": [
      "Starting epoch: 6 | phase: train | ⏰: 03:23:46 | Learning rate: 0.010000\n"
     ]
    },
    {
     "name": "stderr",
     "output_type": "stream",
     "text": [
      "Train loss: 0.22528: 100%|█████████████████████████████████████████████████████████████| 23/23 [00:00<00:00, 41.07it/s]\n",
      ": 100%|█████████████████████████████████████████████████████████████████████████████████| 3/3 [00:00<00:00, 55.56it/s]\n",
      "Train loss: 0.21245:  13%|████████                                                      | 3/23 [00:00<00:00, 28.85it/s]"
     ]
    },
    {
     "name": "stdout",
     "output_type": "stream",
     "text": [
      "Starting epoch: 6 | phase: valid | ⏰: 03:23:47 \n",
      "Validation loss: 0.23536409934361777\n",
      "Starting epoch: 7 | phase: train | ⏰: 03:23:47 | Learning rate: 0.010000\n"
     ]
    },
    {
     "name": "stderr",
     "output_type": "stream",
     "text": [
      "Train loss: 0.21873: 100%|█████████████████████████████████████████████████████████████| 23/23 [00:00<00:00, 37.28it/s]\n",
      "Train loss: 0.21218:  22%|█████████████▍                                                | 5/23 [00:00<00:00, 45.87it/s]"
     ]
    },
    {
     "name": "stdout",
     "output_type": "stream",
     "text": [
      "Starting epoch: 8 | phase: train | ⏰: 03:23:47 | Learning rate: 0.010000\n"
     ]
    },
    {
     "name": "stderr",
     "output_type": "stream",
     "text": [
      "Train loss: 0.21220: 100%|█████████████████████████████████████████████████████████████| 23/23 [00:00<00:00, 40.42it/s]\n",
      ": 100%|█████████████████████████████████████████████████████████████████████████████████| 3/3 [00:00<00:00, 50.00it/s]\n",
      "Train loss: 0.21364:  13%|████████                                                      | 3/23 [00:00<00:00, 28.57it/s]"
     ]
    },
    {
     "name": "stdout",
     "output_type": "stream",
     "text": [
      "Starting epoch: 8 | phase: valid | ⏰: 03:23:48 \n",
      "Validation loss: 0.23535498480002084\n",
      "Starting epoch: 9 | phase: train | ⏰: 03:23:48 | Learning rate: 0.010000\n"
     ]
    },
    {
     "name": "stderr",
     "output_type": "stream",
     "text": [
      "Train loss: 0.21163: 100%|█████████████████████████████████████████████████████████████| 23/23 [00:00<00:00, 38.46it/s]\n"
     ]
    },
    {
     "name": "stdout",
     "output_type": "stream",
     "text": [
      "============ Test epoch 18 ============\n",
      "Client  0\n"
     ]
    },
    {
     "name": "stderr",
     "output_type": "stream",
     "text": [
      "  0%|                                                                                | 8/14177 [00:00<03:28, 67.80it/s]"
     ]
    },
    {
     "name": "stdout",
     "output_type": "stream",
     "text": [
      "Number of sessions(hdfs_test_normal): 14177\n",
      "Number of sessions(hdfs_test_abnormal): 4123\n"
     ]
    },
    {
     "name": "stderr",
     "output_type": "stream",
     "text": [
      "100%|████████████████████████████████████████████████████████████████████████████| 14177/14177 [04:59<00:00, 47.38it/s]\n",
      "100%|██████████████████████████████████████████████████████████████████████████████| 4123/4123 [01:00<00:00, 68.19it/s]\n"
     ]
    },
    {
     "name": "stdout",
     "output_type": "stream",
     "text": [
      "false positive (FP): 90081, false negative (FN): 996, Precision: 14.956%, Recall: 94.085%, F1-measure: 25.809%\n",
      "actual positive (TP+FN): 16838, actual negative (FP+TN): 553366\n",
      "accuracy: 84.027\n",
      "Finished Predicting\n",
      "elapsed_time: 359.71234607696533\n",
      "============ Train epoch 19 ============\n",
      "Client  0\n",
      "File ../data/hdfs/hdfs_train, number of sessions 4855\n",
      "File ../data/hdfs/hdfs_train, number of seqs 46575\n"
     ]
    },
    {
     "name": "stderr",
     "output_type": "stream",
     "text": [
      "  0%|▎                                                                              | 23/5258 [00:00<00:23, 223.29it/s]"
     ]
    },
    {
     "name": "stdout",
     "output_type": "stream",
     "text": [
      "sampling...\n"
     ]
    },
    {
     "name": "stderr",
     "output_type": "stream",
     "text": [
      "100%|█████████████████████████████████████████████████████████████████████████████| 5258/5258 [00:30<00:00, 173.52it/s]\n"
     ]
    },
    {
     "name": "stdout",
     "output_type": "stream",
     "text": [
      "File ../data/hdfs/hdfs_test_normal, number of sessions 553366\n",
      "File ../data/hdfs/hdfs_test_normal, number of seqs 5258\n",
      "Find 46575 train logs, 5258 validation logs\n",
      "Train batch size 2048 ,Validation batch size 2048\n"
     ]
    },
    {
     "name": "stderr",
     "output_type": "stream",
     "text": [
      "\r",
      "\r",
      ":   0%|                                                                                        | 0/23 [00:00<?, ?it/s]"
     ]
    },
    {
     "name": "stdout",
     "output_type": "stream",
     "text": [
      "Starting epoch: 0 | phase: train | ⏰: 03:31:13 | Learning rate: 0.000313\n"
     ]
    },
    {
     "name": "stderr",
     "output_type": "stream",
     "text": [
      "Train loss: 0.72706: 100%|█████████████████████████████████████████████████████████████| 23/23 [00:01<00:00, 16.83it/s]\n",
      "Train loss: 0.41575:  22%|█████████████▍                                                | 5/23 [00:00<00:00, 44.82it/s]"
     ]
    },
    {
     "name": "stdout",
     "output_type": "stream",
     "text": [
      "Starting epoch: 1 | phase: train | ⏰: 03:31:14 | Learning rate: 0.000625\n"
     ]
    },
    {
     "name": "stderr",
     "output_type": "stream",
     "text": [
      "Train loss: 0.38081: 100%|█████████████████████████████████████████████████████████████| 23/23 [00:00<00:00, 41.23it/s]\n",
      "Train loss: 0.31809:  22%|█████████████▍                                                | 5/23 [00:00<00:00, 44.68it/s]"
     ]
    },
    {
     "name": "stdout",
     "output_type": "stream",
     "text": [
      "Starting epoch: 2 | phase: train | ⏰: 03:31:15 | Learning rate: 0.001250\n"
     ]
    },
    {
     "name": "stderr",
     "output_type": "stream",
     "text": [
      "Train loss: 0.30343: 100%|█████████████████████████████████████████████████████████████| 23/23 [00:00<00:00, 42.00it/s]\n",
      "Train loss: 0.26534:  22%|█████████████▍                                                | 5/23 [00:00<00:00, 34.94it/s]"
     ]
    },
    {
     "name": "stdout",
     "output_type": "stream",
     "text": [
      "Starting epoch: 3 | phase: train | ⏰: 03:31:15 | Learning rate: 0.002500\n"
     ]
    },
    {
     "name": "stderr",
     "output_type": "stream",
     "text": [
      "Train loss: 0.26288: 100%|█████████████████████████████████████████████████████████████| 23/23 [00:00<00:00, 39.84it/s]\n",
      "Train loss: 0.23987:  22%|█████████████▍                                                | 5/23 [00:00<00:00, 43.06it/s]"
     ]
    },
    {
     "name": "stdout",
     "output_type": "stream",
     "text": [
      "Starting epoch: 4 | phase: train | ⏰: 03:31:16 | Learning rate: 0.005000\n"
     ]
    },
    {
     "name": "stderr",
     "output_type": "stream",
     "text": [
      "Train loss: 0.24139: 100%|█████████████████████████████████████████████████████████████| 23/23 [00:00<00:00, 40.08it/s]\n",
      "Train loss: 0.23012:  22%|█████████████▍                                                | 5/23 [00:00<00:00, 43.33it/s]"
     ]
    },
    {
     "name": "stdout",
     "output_type": "stream",
     "text": [
      "Starting epoch: 5 | phase: train | ⏰: 03:31:17 | Learning rate: 0.010000\n"
     ]
    },
    {
     "name": "stderr",
     "output_type": "stream",
     "text": [
      "Train loss: 0.23533: 100%|█████████████████████████████████████████████████████████████| 23/23 [00:00<00:00, 41.65it/s]\n",
      "Train loss: 0.22437:  22%|█████████████▍                                                | 5/23 [00:00<00:00, 42.14it/s]"
     ]
    },
    {
     "name": "stdout",
     "output_type": "stream",
     "text": [
      "Starting epoch: 6 | phase: train | ⏰: 03:31:17 | Learning rate: 0.010000\n"
     ]
    },
    {
     "name": "stderr",
     "output_type": "stream",
     "text": [
      "Train loss: 0.23003: 100%|█████████████████████████████████████████████████████████████| 23/23 [00:00<00:00, 40.65it/s]\n",
      ": 100%|█████████████████████████████████████████████████████████████████████████████████| 3/3 [00:00<00:00, 27.52it/s]\n",
      "Train loss: 0.21446:   0%|                                                                      | 0/23 [00:00<?, ?it/s]"
     ]
    },
    {
     "name": "stdout",
     "output_type": "stream",
     "text": [
      "Starting epoch: 6 | phase: valid | ⏰: 03:31:18 \n",
      "Validation loss: 0.24896260599295297\n",
      "Starting epoch: 7 | phase: train | ⏰: 03:31:18 | Learning rate: 0.010000\n"
     ]
    },
    {
     "name": "stderr",
     "output_type": "stream",
     "text": [
      "Train loss: 0.22867: 100%|█████████████████████████████████████████████████████████████| 23/23 [00:00<00:00, 38.23it/s]\n",
      "Train loss: 0.22599:  22%|█████████████▍                                                | 5/23 [00:00<00:00, 42.65it/s]"
     ]
    },
    {
     "name": "stdout",
     "output_type": "stream",
     "text": [
      "Starting epoch: 8 | phase: train | ⏰: 03:31:18 | Learning rate: 0.010000\n"
     ]
    },
    {
     "name": "stderr",
     "output_type": "stream",
     "text": [
      "Train loss: 0.22357: 100%|█████████████████████████████████████████████████████████████| 23/23 [00:00<00:00, 40.29it/s]\n",
      ": 100%|█████████████████████████████████████████████████████████████████████████████████| 3/3 [00:00<00:00, 64.16it/s]\n",
      "Train loss: 0.20735:  13%|████████                                                      | 3/23 [00:00<00:00, 26.72it/s]"
     ]
    },
    {
     "name": "stdout",
     "output_type": "stream",
     "text": [
      "Starting epoch: 8 | phase: valid | ⏰: 03:31:19 \n",
      "Validation loss: 0.24964803953965506\n",
      "Starting epoch: 9 | phase: train | ⏰: 03:31:19 | Learning rate: 0.010000\n"
     ]
    },
    {
     "name": "stderr",
     "output_type": "stream",
     "text": [
      "Train loss: 0.21717: 100%|█████████████████████████████████████████████████████████████| 23/23 [00:00<00:00, 36.46it/s]\n"
     ]
    },
    {
     "name": "stdout",
     "output_type": "stream",
     "text": [
      "============ Test epoch 19 ============\n",
      "Client  0\n"
     ]
    },
    {
     "name": "stderr",
     "output_type": "stream",
     "text": [
      "\r",
      "  0%|                                                                                        | 0/14177 [00:00<?, ?it/s]"
     ]
    },
    {
     "name": "stdout",
     "output_type": "stream",
     "text": [
      "Number of sessions(hdfs_test_normal): 14177\n",
      "Number of sessions(hdfs_test_abnormal): 4123\n"
     ]
    },
    {
     "name": "stderr",
     "output_type": "stream",
     "text": [
      "100%|████████████████████████████████████████████████████████████████████████████| 14177/14177 [04:36<00:00, 51.32it/s]\n",
      "100%|██████████████████████████████████████████████████████████████████████████████| 4123/4123 [00:57<00:00, 72.06it/s]\n"
     ]
    },
    {
     "name": "stdout",
     "output_type": "stream",
     "text": [
      "false positive (FP): 40112, false negative (FN): 441, Precision: 29.017%, Recall: 97.381%, F1-measure: 44.711%\n",
      "actual positive (TP+FN): 16838, actual negative (FP+TN): 553366\n",
      "accuracy: 92.888\n",
      "Finished Predicting\n",
      "elapsed_time: 333.4798173904419\n",
      "============ Train epoch 20 ============\n",
      "Client  0\n",
      "File ../data/hdfs/hdfs_train, number of sessions 4855\n",
      "File ../data/hdfs/hdfs_train, number of seqs 46575\n"
     ]
    },
    {
     "name": "stderr",
     "output_type": "stream",
     "text": [
      "  0%|▎                                                                              | 21/5258 [00:00<00:27, 189.79it/s]"
     ]
    },
    {
     "name": "stdout",
     "output_type": "stream",
     "text": [
      "sampling...\n"
     ]
    },
    {
     "name": "stderr",
     "output_type": "stream",
     "text": [
      "100%|█████████████████████████████████████████████████████████████████████████████| 5258/5258 [00:30<00:00, 171.82it/s]\n"
     ]
    },
    {
     "name": "stdout",
     "output_type": "stream",
     "text": [
      "File ../data/hdfs/hdfs_test_normal, number of sessions 553366\n",
      "File ../data/hdfs/hdfs_test_normal, number of seqs 5258\n",
      "Find 46575 train logs, 5258 validation logs\n",
      "Train batch size 2048 ,Validation batch size 2048\n"
     ]
    },
    {
     "name": "stderr",
     "output_type": "stream",
     "text": [
      "Train loss: 1.08448:  22%|█████████████▍                                                | 5/23 [00:00<00:00, 41.35it/s]"
     ]
    },
    {
     "name": "stdout",
     "output_type": "stream",
     "text": [
      "Starting epoch: 0 | phase: train | ⏰: 03:38:18 | Learning rate: 0.000313\n"
     ]
    },
    {
     "name": "stderr",
     "output_type": "stream",
     "text": [
      "Train loss: 0.74204: 100%|█████████████████████████████████████████████████████████████| 23/23 [00:00<00:00, 41.78it/s]\n",
      "Train loss: 0.43052:  17%|██████████▊                                                   | 4/23 [00:00<00:00, 39.78it/s]"
     ]
    },
    {
     "name": "stdout",
     "output_type": "stream",
     "text": [
      "Starting epoch: 1 | phase: train | ⏰: 03:38:19 | Learning rate: 0.000625\n"
     ]
    },
    {
     "name": "stderr",
     "output_type": "stream",
     "text": [
      "Train loss: 0.38043: 100%|█████████████████████████████████████████████████████████████| 23/23 [00:00<00:00, 38.25it/s]\n",
      "Train loss: 0.31159:  22%|█████████████▍                                                | 5/23 [00:00<00:00, 46.58it/s]"
     ]
    },
    {
     "name": "stdout",
     "output_type": "stream",
     "text": [
      "Starting epoch: 2 | phase: train | ⏰: 03:38:20 | Learning rate: 0.001250\n"
     ]
    },
    {
     "name": "stderr",
     "output_type": "stream",
     "text": [
      "Train loss: 0.30037: 100%|█████████████████████████████████████████████████████████████| 23/23 [00:00<00:00, 42.35it/s]\n",
      "Train loss: 0.26581:  22%|█████████████▍                                                | 5/23 [00:00<00:00, 33.68it/s]"
     ]
    },
    {
     "name": "stdout",
     "output_type": "stream",
     "text": [
      "Starting epoch: 3 | phase: train | ⏰: 03:38:20 | Learning rate: 0.002500\n"
     ]
    },
    {
     "name": "stderr",
     "output_type": "stream",
     "text": [
      "Train loss: 0.26241: 100%|█████████████████████████████████████████████████████████████| 23/23 [00:00<00:00, 37.37it/s]\n",
      "Train loss: 0.24284:  22%|█████████████▍                                                | 5/23 [00:00<00:00, 43.51it/s]"
     ]
    },
    {
     "name": "stdout",
     "output_type": "stream",
     "text": [
      "Starting epoch: 4 | phase: train | ⏰: 03:38:21 | Learning rate: 0.005000\n"
     ]
    },
    {
     "name": "stderr",
     "output_type": "stream",
     "text": [
      "Train loss: 0.24406: 100%|█████████████████████████████████████████████████████████████| 23/23 [00:00<00:00, 42.25it/s]\n",
      "Train loss: 0.23692:  22%|█████████████▍                                                | 5/23 [00:00<00:00, 46.82it/s]"
     ]
    },
    {
     "name": "stdout",
     "output_type": "stream",
     "text": [
      "Starting epoch: 5 | phase: train | ⏰: 03:38:21 | Learning rate: 0.010000\n"
     ]
    },
    {
     "name": "stderr",
     "output_type": "stream",
     "text": [
      "Train loss: 0.24008: 100%|█████████████████████████████████████████████████████████████| 23/23 [00:00<00:00, 41.24it/s]\n",
      "Train loss: 0.22686:  22%|█████████████▍                                                | 5/23 [00:00<00:00, 42.17it/s]"
     ]
    },
    {
     "name": "stdout",
     "output_type": "stream",
     "text": [
      "Starting epoch: 6 | phase: train | ⏰: 03:38:22 | Learning rate: 0.010000\n"
     ]
    },
    {
     "name": "stderr",
     "output_type": "stream",
     "text": [
      "Train loss: 0.23452: 100%|█████████████████████████████████████████████████████████████| 23/23 [00:00<00:00, 39.86it/s]\n",
      ": 100%|█████████████████████████████████████████████████████████████████████████████████| 3/3 [00:00<00:00, 57.91it/s]\n",
      "Train loss: 0.24062:  13%|████████                                                      | 3/23 [00:00<00:00, 29.05it/s]"
     ]
    },
    {
     "name": "stdout",
     "output_type": "stream",
     "text": [
      "Starting epoch: 6 | phase: valid | ⏰: 03:38:22 \n",
      "Validation loss: 0.2548318604628245\n",
      "Starting epoch: 7 | phase: train | ⏰: 03:38:22 | Learning rate: 0.010000\n"
     ]
    },
    {
     "name": "stderr",
     "output_type": "stream",
     "text": [
      "Train loss: 0.22746: 100%|█████████████████████████████████████████████████████████████| 23/23 [00:00<00:00, 37.43it/s]\n",
      "Train loss: 0.20846:  22%|█████████████▍                                                | 5/23 [00:00<00:00, 42.14it/s]"
     ]
    },
    {
     "name": "stdout",
     "output_type": "stream",
     "text": [
      "Starting epoch: 8 | phase: train | ⏰: 03:38:23 | Learning rate: 0.010000\n"
     ]
    },
    {
     "name": "stderr",
     "output_type": "stream",
     "text": [
      "Train loss: 0.21892: 100%|█████████████████████████████████████████████████████████████| 23/23 [00:00<00:00, 40.16it/s]\n",
      ": 100%|█████████████████████████████████████████████████████████████████████████████████| 3/3 [00:00<00:00, 59.52it/s]\n",
      "Train loss: 0.21485:  13%|████████                                                      | 3/23 [00:00<00:00, 29.17it/s]"
     ]
    },
    {
     "name": "stdout",
     "output_type": "stream",
     "text": [
      "Starting epoch: 8 | phase: valid | ⏰: 03:38:24 \n",
      "Validation loss: 0.23706772923469543\n",
      "Starting epoch: 9 | phase: train | ⏰: 03:38:24 | Learning rate: 0.010000\n"
     ]
    },
    {
     "name": "stderr",
     "output_type": "stream",
     "text": [
      "Train loss: 0.21363: 100%|█████████████████████████████████████████████████████████████| 23/23 [00:00<00:00, 38.28it/s]\n"
     ]
    },
    {
     "name": "stdout",
     "output_type": "stream",
     "text": [
      "============ Test epoch 20 ============\n",
      "Client  0\n"
     ]
    },
    {
     "name": "stderr",
     "output_type": "stream",
     "text": [
      "\r",
      "  0%|                                                                                        | 0/14177 [00:00<?, ?it/s]"
     ]
    },
    {
     "name": "stdout",
     "output_type": "stream",
     "text": [
      "Number of sessions(hdfs_test_normal): 14177\n",
      "Number of sessions(hdfs_test_abnormal): 4123\n"
     ]
    },
    {
     "name": "stderr",
     "output_type": "stream",
     "text": [
      "100%|████████████████████████████████████████████████████████████████████████████| 14177/14177 [05:14<00:00, 45.05it/s]\n",
      "100%|█████████████████████████████████████████████████████████████████████████████| 4123/4123 [00:27<00:00, 152.24it/s]\n"
     ]
    },
    {
     "name": "stdout",
     "output_type": "stream",
     "text": [
      "false positive (FP): 39312, false negative (FN): 127, Precision: 29.829%, Recall: 99.246%, F1-measure: 45.871%\n",
      "actual positive (TP+FN): 16838, actual negative (FP+TN): 553366\n",
      "accuracy: 93.083\n",
      "Finished Predicting\n",
      "elapsed_time: 341.76101875305176\n",
      "============ Train epoch 21 ============\n",
      "Client  0\n",
      "File ../data/hdfs/hdfs_train, number of sessions 4855\n",
      "File ../data/hdfs/hdfs_train, number of seqs 46575\n"
     ]
    },
    {
     "name": "stderr",
     "output_type": "stream",
     "text": [
      "  0%|▎                                                                              | 17/5258 [00:00<00:32, 160.14it/s]"
     ]
    },
    {
     "name": "stdout",
     "output_type": "stream",
     "text": [
      "sampling...\n"
     ]
    },
    {
     "name": "stderr",
     "output_type": "stream",
     "text": [
      "100%|█████████████████████████████████████████████████████████████████████████████| 5258/5258 [00:31<00:00, 165.18it/s]\n"
     ]
    },
    {
     "name": "stdout",
     "output_type": "stream",
     "text": [
      "File ../data/hdfs/hdfs_test_normal, number of sessions 553366\n",
      "File ../data/hdfs/hdfs_test_normal, number of seqs 5258\n",
      "Find 46575 train logs, 5258 validation logs\n",
      "Train batch size 2048 ,Validation batch size 2048\n"
     ]
    },
    {
     "name": "stderr",
     "output_type": "stream",
     "text": [
      "Train loss: 1.79257:  22%|█████████████▍                                                | 5/23 [00:00<00:00, 41.35it/s]"
     ]
    },
    {
     "name": "stdout",
     "output_type": "stream",
     "text": [
      "Starting epoch: 0 | phase: train | ⏰: 03:45:37 | Learning rate: 0.000313\n"
     ]
    },
    {
     "name": "stderr",
     "output_type": "stream",
     "text": [
      "Train loss: 1.26183: 100%|█████████████████████████████████████████████████████████████| 23/23 [00:00<00:00, 39.80it/s]\n",
      "Train loss: 0.64586:  22%|█████████████▍                                                | 5/23 [00:00<00:00, 43.77it/s]"
     ]
    },
    {
     "name": "stdout",
     "output_type": "stream",
     "text": [
      "Starting epoch: 1 | phase: train | ⏰: 03:45:37 | Learning rate: 0.000625\n"
     ]
    },
    {
     "name": "stderr",
     "output_type": "stream",
     "text": [
      "Train loss: 0.52764: 100%|█████████████████████████████████████████████████████████████| 23/23 [00:00<00:00, 42.13it/s]\n",
      "Train loss: 0.40008:  22%|█████████████▍                                                | 5/23 [00:00<00:00, 44.69it/s]"
     ]
    },
    {
     "name": "stdout",
     "output_type": "stream",
     "text": [
      "Starting epoch: 2 | phase: train | ⏰: 03:45:38 | Learning rate: 0.001250\n"
     ]
    },
    {
     "name": "stderr",
     "output_type": "stream",
     "text": [
      "Train loss: 0.36013: 100%|█████████████████████████████████████████████████████████████| 23/23 [00:00<00:00, 41.54it/s]\n",
      "Train loss: 0.30082:  22%|█████████████▍                                                | 5/23 [00:00<00:00, 31.64it/s]"
     ]
    },
    {
     "name": "stdout",
     "output_type": "stream",
     "text": [
      "Starting epoch: 3 | phase: train | ⏰: 03:45:38 | Learning rate: 0.002500\n"
     ]
    },
    {
     "name": "stderr",
     "output_type": "stream",
     "text": [
      "Train loss: 0.29840: 100%|█████████████████████████████████████████████████████████████| 23/23 [00:00<00:00, 37.45it/s]\n",
      "Train loss: 0.26090:  22%|█████████████▍                                                | 5/23 [00:00<00:00, 44.64it/s]"
     ]
    },
    {
     "name": "stdout",
     "output_type": "stream",
     "text": [
      "Starting epoch: 4 | phase: train | ⏰: 03:45:39 | Learning rate: 0.005000\n"
     ]
    },
    {
     "name": "stderr",
     "output_type": "stream",
     "text": [
      "Train loss: 0.26744: 100%|█████████████████████████████████████████████████████████████| 23/23 [00:00<00:00, 41.98it/s]\n",
      "Train loss: 0.31497:  22%|█████████████▍                                                | 5/23 [00:00<00:00, 43.59it/s]"
     ]
    },
    {
     "name": "stdout",
     "output_type": "stream",
     "text": [
      "Starting epoch: 5 | phase: train | ⏰: 03:45:39 | Learning rate: 0.010000\n"
     ]
    },
    {
     "name": "stderr",
     "output_type": "stream",
     "text": [
      "Train loss: 0.30153: 100%|█████████████████████████████████████████████████████████████| 23/23 [00:00<00:00, 41.43it/s]\n",
      "Train loss: 0.26118:  22%|█████████████▍                                                | 5/23 [00:00<00:00, 44.33it/s]"
     ]
    },
    {
     "name": "stdout",
     "output_type": "stream",
     "text": [
      "Starting epoch: 6 | phase: train | ⏰: 03:45:40 | Learning rate: 0.010000\n"
     ]
    },
    {
     "name": "stderr",
     "output_type": "stream",
     "text": [
      "Train loss: 0.25535: 100%|█████████████████████████████████████████████████████████████| 23/23 [00:00<00:00, 40.29it/s]\n",
      ": 100%|█████████████████████████████████████████████████████████████████████████████████| 3/3 [00:00<00:00, 52.82it/s]\n",
      "Train loss: 0.23964:  13%|████████                                                      | 3/23 [00:00<00:00, 28.84it/s]"
     ]
    },
    {
     "name": "stdout",
     "output_type": "stream",
     "text": [
      "Starting epoch: 6 | phase: valid | ⏰: 03:45:41 \n",
      "Validation loss: 0.2575242171684901\n",
      "Starting epoch: 7 | phase: train | ⏰: 03:45:41 | Learning rate: 0.010000\n"
     ]
    },
    {
     "name": "stderr",
     "output_type": "stream",
     "text": [
      "Train loss: 0.23655: 100%|█████████████████████████████████████████████████████████████| 23/23 [00:00<00:00, 38.59it/s]\n",
      "Train loss: 0.21548:  17%|██████████▊                                                   | 4/23 [00:00<00:00, 36.59it/s]"
     ]
    },
    {
     "name": "stdout",
     "output_type": "stream",
     "text": [
      "Starting epoch: 8 | phase: train | ⏰: 03:45:41 | Learning rate: 0.010000\n"
     ]
    },
    {
     "name": "stderr",
     "output_type": "stream",
     "text": [
      "Train loss: 0.22785: 100%|█████████████████████████████████████████████████████████████| 23/23 [00:00<00:00, 39.85it/s]\n",
      ": 100%|█████████████████████████████████████████████████████████████████████████████████| 3/3 [00:00<00:00, 58.14it/s]\n",
      "Train loss: 0.20411:  17%|██████████▊                                                   | 4/23 [00:00<00:00, 34.23it/s]"
     ]
    },
    {
     "name": "stdout",
     "output_type": "stream",
     "text": [
      "Starting epoch: 8 | phase: valid | ⏰: 03:45:42 \n",
      "Validation loss: 0.24409812688827515\n",
      "Starting epoch: 9 | phase: train | ⏰: 03:45:42 | Learning rate: 0.010000\n"
     ]
    },
    {
     "name": "stderr",
     "output_type": "stream",
     "text": [
      "Train loss: 0.21652: 100%|█████████████████████████████████████████████████████████████| 23/23 [00:00<00:00, 39.49it/s]\n"
     ]
    },
    {
     "name": "stdout",
     "output_type": "stream",
     "text": [
      "============ Test epoch 21 ============\n",
      "Client  0\n"
     ]
    },
    {
     "name": "stderr",
     "output_type": "stream",
     "text": [
      "\r",
      "  0%|                                                                                        | 0/14177 [00:00<?, ?it/s]"
     ]
    },
    {
     "name": "stdout",
     "output_type": "stream",
     "text": [
      "Number of sessions(hdfs_test_normal): 14177\n",
      "Number of sessions(hdfs_test_abnormal): 4123\n"
     ]
    },
    {
     "name": "stderr",
     "output_type": "stream",
     "text": [
      "100%|████████████████████████████████████████████████████████████████████████████| 14177/14177 [05:25<00:00, 43.53it/s]\n",
      "100%|██████████████████████████████████████████████████████████████████████████████| 4123/4123 [00:58<00:00, 70.87it/s]\n"
     ]
    },
    {
     "name": "stdout",
     "output_type": "stream",
     "text": [
      "false positive (FP): 42558, false negative (FN): 180, Precision: 28.131%, Recall: 98.931%, F1-measure: 43.806%\n",
      "actual positive (TP+FN): 16838, actual negative (FP+TN): 553366\n",
      "accuracy: 92.505\n",
      "Finished Predicting\n",
      "elapsed_time: 383.8341088294983\n",
      "============ Train epoch 22 ============\n",
      "Client  0\n",
      "File ../data/hdfs/hdfs_train, number of sessions 4855\n",
      "File ../data/hdfs/hdfs_train, number of seqs 46575\n"
     ]
    },
    {
     "name": "stderr",
     "output_type": "stream",
     "text": [
      "  1%|▌                                                                              | 34/5258 [00:00<00:35, 148.30it/s]"
     ]
    },
    {
     "name": "stdout",
     "output_type": "stream",
     "text": [
      "sampling...\n"
     ]
    },
    {
     "name": "stderr",
     "output_type": "stream",
     "text": [
      "100%|█████████████████████████████████████████████████████████████████████████████| 5258/5258 [00:30<00:00, 172.33it/s]\n"
     ]
    },
    {
     "name": "stdout",
     "output_type": "stream",
     "text": [
      "File ../data/hdfs/hdfs_test_normal, number of sessions 553366\n",
      "File ../data/hdfs/hdfs_test_normal, number of seqs 5258\n",
      "Find 46575 train logs, 5258 validation logs\n",
      "Train batch size 2048 ,Validation batch size 2048\n"
     ]
    },
    {
     "name": "stderr",
     "output_type": "stream",
     "text": [
      "Train loss: 1.70626:  22%|█████████████▍                                                | 5/23 [00:00<00:00, 43.42it/s]"
     ]
    },
    {
     "name": "stdout",
     "output_type": "stream",
     "text": [
      "Starting epoch: 0 | phase: train | ⏰: 03:53:34 | Learning rate: 0.000313\n"
     ]
    },
    {
     "name": "stderr",
     "output_type": "stream",
     "text": [
      "Train loss: 1.20976: 100%|█████████████████████████████████████████████████████████████| 23/23 [00:00<00:00, 41.96it/s]\n",
      "Train loss: 0.65974:  17%|██████████▊                                                   | 4/23 [00:00<00:00, 35.61it/s]"
     ]
    },
    {
     "name": "stdout",
     "output_type": "stream",
     "text": [
      "Starting epoch: 1 | phase: train | ⏰: 03:53:35 | Learning rate: 0.000625\n"
     ]
    },
    {
     "name": "stderr",
     "output_type": "stream",
     "text": [
      "Train loss: 0.54546: 100%|█████████████████████████████████████████████████████████████| 23/23 [00:00<00:00, 39.65it/s]\n",
      "Train loss: 0.41387:  22%|█████████████▍                                                | 5/23 [00:00<00:00, 41.86it/s]"
     ]
    },
    {
     "name": "stdout",
     "output_type": "stream",
     "text": [
      "Starting epoch: 2 | phase: train | ⏰: 03:53:35 | Learning rate: 0.001250\n"
     ]
    },
    {
     "name": "stderr",
     "output_type": "stream",
     "text": [
      "Train loss: 0.37749: 100%|█████████████████████████████████████████████████████████████| 23/23 [00:00<00:00, 40.49it/s]\n",
      "Train loss: 0.33190:  22%|█████████████▍                                                | 5/23 [00:00<00:00, 34.94it/s]"
     ]
    },
    {
     "name": "stdout",
     "output_type": "stream",
     "text": [
      "Starting epoch: 3 | phase: train | ⏰: 03:53:36 | Learning rate: 0.002500\n"
     ]
    },
    {
     "name": "stderr",
     "output_type": "stream",
     "text": [
      "Train loss: 0.30836: 100%|█████████████████████████████████████████████████████████████| 23/23 [00:00<00:00, 39.30it/s]\n",
      "Train loss: 0.28423:  22%|█████████████▍                                                | 5/23 [00:00<00:00, 48.30it/s]"
     ]
    },
    {
     "name": "stdout",
     "output_type": "stream",
     "text": [
      "Starting epoch: 4 | phase: train | ⏰: 03:53:37 | Learning rate: 0.005000\n"
     ]
    },
    {
     "name": "stderr",
     "output_type": "stream",
     "text": [
      "Train loss: 0.27527: 100%|█████████████████████████████████████████████████████████████| 23/23 [00:00<00:00, 42.98it/s]\n",
      "Train loss: 0.25251:  22%|█████████████▍                                                | 5/23 [00:00<00:00, 39.31it/s]"
     ]
    },
    {
     "name": "stdout",
     "output_type": "stream",
     "text": [
      "Starting epoch: 5 | phase: train | ⏰: 03:53:37 | Learning rate: 0.010000\n"
     ]
    },
    {
     "name": "stderr",
     "output_type": "stream",
     "text": [
      "Train loss: 0.25835: 100%|█████████████████████████████████████████████████████████████| 23/23 [00:00<00:00, 41.45it/s]\n",
      "Train loss: 0.24615:  22%|█████████████▍                                                | 5/23 [00:00<00:00, 44.87it/s]"
     ]
    },
    {
     "name": "stdout",
     "output_type": "stream",
     "text": [
      "Starting epoch: 6 | phase: train | ⏰: 03:53:38 | Learning rate: 0.010000\n"
     ]
    },
    {
     "name": "stderr",
     "output_type": "stream",
     "text": [
      "Train loss: 0.24745: 100%|█████████████████████████████████████████████████████████████| 23/23 [00:00<00:00, 42.35it/s]\n",
      ": 100%|█████████████████████████████████████████████████████████████████████████████████| 3/3 [00:00<00:00, 57.87it/s]\n",
      "Train loss: 0.23580:  13%|████████                                                      | 3/23 [00:00<00:00, 29.32it/s]"
     ]
    },
    {
     "name": "stdout",
     "output_type": "stream",
     "text": [
      "Starting epoch: 6 | phase: valid | ⏰: 03:53:38 \n",
      "Validation loss: 0.2849479019641876\n",
      "Starting epoch: 7 | phase: train | ⏰: 03:53:38 | Learning rate: 0.010000\n"
     ]
    },
    {
     "name": "stderr",
     "output_type": "stream",
     "text": [
      "Train loss: 0.23604: 100%|█████████████████████████████████████████████████████████████| 23/23 [00:00<00:00, 38.79it/s]\n",
      "Train loss: 0.22746:  22%|█████████████▍                                                | 5/23 [00:00<00:00, 46.23it/s]"
     ]
    },
    {
     "name": "stdout",
     "output_type": "stream",
     "text": [
      "Starting epoch: 8 | phase: train | ⏰: 03:53:39 | Learning rate: 0.010000\n"
     ]
    },
    {
     "name": "stderr",
     "output_type": "stream",
     "text": [
      "Train loss: 0.22779: 100%|█████████████████████████████████████████████████████████████| 23/23 [00:00<00:00, 42.98it/s]\n",
      ": 100%|█████████████████████████████████████████████████████████████████████████████████| 3/3 [00:00<00:00, 66.86it/s]\n",
      "Train loss: 0.20419:  17%|██████████▊                                                   | 4/23 [00:00<00:00, 32.28it/s]"
     ]
    },
    {
     "name": "stdout",
     "output_type": "stream",
     "text": [
      "Starting epoch: 8 | phase: valid | ⏰: 03:53:39 \n",
      "Validation loss: 0.2770008146762848\n",
      "Starting epoch: 9 | phase: train | ⏰: 03:53:40 | Learning rate: 0.010000\n"
     ]
    },
    {
     "name": "stderr",
     "output_type": "stream",
     "text": [
      "Train loss: 0.22206: 100%|█████████████████████████████████████████████████████████████| 23/23 [00:00<00:00, 37.03it/s]\n"
     ]
    },
    {
     "name": "stdout",
     "output_type": "stream",
     "text": [
      "============ Test epoch 22 ============\n",
      "Client  0\n"
     ]
    },
    {
     "name": "stderr",
     "output_type": "stream",
     "text": [
      "\r",
      "  0%|                                                                                        | 0/14177 [00:00<?, ?it/s]"
     ]
    },
    {
     "name": "stdout",
     "output_type": "stream",
     "text": [
      "Number of sessions(hdfs_test_normal): 14177\n",
      "Number of sessions(hdfs_test_abnormal): 4123\n"
     ]
    },
    {
     "name": "stderr",
     "output_type": "stream",
     "text": [
      "100%|████████████████████████████████████████████████████████████████████████████| 14177/14177 [04:13<00:00, 55.91it/s]\n",
      "100%|█████████████████████████████████████████████████████████████████████████████| 4123/4123 [00:25<00:00, 159.13it/s]\n"
     ]
    },
    {
     "name": "stdout",
     "output_type": "stream",
     "text": [
      "false positive (FP): 223117, false negative (FN): 109, Precision: 6.975%, Recall: 99.353%, F1-measure: 13.035%\n",
      "actual positive (TP+FN): 16838, actual negative (FP+TN): 553366\n",
      "accuracy: 60.852\n",
      "Finished Predicting\n",
      "elapsed_time: 279.46272325515747\n",
      "============ Train epoch 23 ============\n",
      "Client  0\n",
      "File ../data/hdfs/hdfs_train, number of sessions 4855\n",
      "File ../data/hdfs/hdfs_train, number of seqs 46575\n"
     ]
    },
    {
     "name": "stderr",
     "output_type": "stream",
     "text": [
      "  1%|▌                                                                              | 35/5258 [00:00<00:33, 158.03it/s]"
     ]
    },
    {
     "name": "stdout",
     "output_type": "stream",
     "text": [
      "sampling...\n"
     ]
    },
    {
     "name": "stderr",
     "output_type": "stream",
     "text": [
      "100%|█████████████████████████████████████████████████████████████████████████████| 5258/5258 [00:30<00:00, 174.21it/s]\n"
     ]
    },
    {
     "name": "stdout",
     "output_type": "stream",
     "text": [
      "File ../data/hdfs/hdfs_test_normal, number of sessions 553366\n",
      "File ../data/hdfs/hdfs_test_normal, number of seqs 5258\n",
      "Find 46575 train logs, 5258 validation logs\n",
      "Train batch size 2048 ,Validation batch size 2048\n"
     ]
    },
    {
     "name": "stderr",
     "output_type": "stream",
     "text": [
      "Train loss: 1.81293:  22%|█████████████▍                                                | 5/23 [00:00<00:00, 44.39it/s]"
     ]
    },
    {
     "name": "stdout",
     "output_type": "stream",
     "text": [
      "Starting epoch: 0 | phase: train | ⏰: 03:59:46 | Learning rate: 0.000313\n"
     ]
    },
    {
     "name": "stderr",
     "output_type": "stream",
     "text": [
      "Train loss: 1.15506: 100%|█████████████████████████████████████████████████████████████| 23/23 [00:00<00:00, 41.60it/s]\n",
      "Train loss: 0.55909:  22%|█████████████▍                                                | 5/23 [00:00<00:00, 43.48it/s]"
     ]
    },
    {
     "name": "stdout",
     "output_type": "stream",
     "text": [
      "Starting epoch: 1 | phase: train | ⏰: 03:59:46 | Learning rate: 0.000625\n"
     ]
    },
    {
     "name": "stderr",
     "output_type": "stream",
     "text": [
      "Train loss: 0.51879: 100%|█████████████████████████████████████████████████████████████| 23/23 [00:00<00:00, 42.51it/s]\n",
      "Train loss: 0.43094:  22%|█████████████▍                                                | 5/23 [00:00<00:00, 45.09it/s]"
     ]
    },
    {
     "name": "stdout",
     "output_type": "stream",
     "text": [
      "Starting epoch: 2 | phase: train | ⏰: 03:59:47 | Learning rate: 0.001250\n"
     ]
    },
    {
     "name": "stderr",
     "output_type": "stream",
     "text": [
      "Train loss: 0.38531: 100%|█████████████████████████████████████████████████████████████| 23/23 [00:00<00:00, 41.58it/s]\n",
      "Train loss: 0.33158:  22%|█████████████▍                                                | 5/23 [00:00<00:00, 34.58it/s]"
     ]
    },
    {
     "name": "stdout",
     "output_type": "stream",
     "text": [
      "Starting epoch: 3 | phase: train | ⏰: 03:59:47 | Learning rate: 0.002500\n"
     ]
    },
    {
     "name": "stderr",
     "output_type": "stream",
     "text": [
      "Train loss: 0.31505: 100%|█████████████████████████████████████████████████████████████| 23/23 [00:00<00:00, 38.91it/s]\n",
      "Train loss: 0.27715:  22%|█████████████▍                                                | 5/23 [00:00<00:00, 42.24it/s]"
     ]
    },
    {
     "name": "stdout",
     "output_type": "stream",
     "text": [
      "Starting epoch: 4 | phase: train | ⏰: 03:59:48 | Learning rate: 0.005000\n"
     ]
    },
    {
     "name": "stderr",
     "output_type": "stream",
     "text": [
      "Train loss: 0.27996: 100%|█████████████████████████████████████████████████████████████| 23/23 [00:00<00:00, 40.80it/s]\n",
      "Train loss: 0.25201:  22%|█████████████▍                                                | 5/23 [00:00<00:00, 42.01it/s]"
     ]
    },
    {
     "name": "stdout",
     "output_type": "stream",
     "text": [
      "Starting epoch: 5 | phase: train | ⏰: 03:59:49 | Learning rate: 0.010000\n"
     ]
    },
    {
     "name": "stderr",
     "output_type": "stream",
     "text": [
      "Train loss: 0.27722: 100%|█████████████████████████████████████████████████████████████| 23/23 [00:00<00:00, 41.02it/s]\n",
      "Train loss: 0.25727:  22%|█████████████▍                                                | 5/23 [00:00<00:00, 42.37it/s]"
     ]
    },
    {
     "name": "stdout",
     "output_type": "stream",
     "text": [
      "Starting epoch: 6 | phase: train | ⏰: 03:59:49 | Learning rate: 0.010000\n"
     ]
    },
    {
     "name": "stderr",
     "output_type": "stream",
     "text": [
      "Train loss: 0.25906: 100%|█████████████████████████████████████████████████████████████| 23/23 [00:00<00:00, 42.40it/s]\n",
      ": 100%|█████████████████████████████████████████████████████████████████████████████████| 3/3 [00:00<00:00, 51.72it/s]\n",
      "Train loss: 0.23094:  13%|████████                                                      | 3/23 [00:00<00:00, 29.34it/s]"
     ]
    },
    {
     "name": "stdout",
     "output_type": "stream",
     "text": [
      "Starting epoch: 6 | phase: valid | ⏰: 03:59:50 \n",
      "Validation loss: 0.2828150987625122\n",
      "Starting epoch: 7 | phase: train | ⏰: 03:59:50 | Learning rate: 0.010000\n"
     ]
    },
    {
     "name": "stderr",
     "output_type": "stream",
     "text": [
      "Train loss: 0.24027: 100%|█████████████████████████████████████████████████████████████| 23/23 [00:00<00:00, 40.01it/s]\n",
      "Train loss: 0.23110:  22%|█████████████▍                                                | 5/23 [00:00<00:00, 41.82it/s]"
     ]
    },
    {
     "name": "stdout",
     "output_type": "stream",
     "text": [
      "Starting epoch: 8 | phase: train | ⏰: 03:59:50 | Learning rate: 0.010000\n"
     ]
    },
    {
     "name": "stderr",
     "output_type": "stream",
     "text": [
      "Train loss: 0.23020: 100%|█████████████████████████████████████████████████████████████| 23/23 [00:00<00:00, 40.99it/s]\n",
      ": 100%|█████████████████████████████████████████████████████████████████████████████████| 3/3 [00:00<00:00, 54.04it/s]\n",
      "Train loss: 0.21989:   0%|                                                                      | 0/23 [00:00<?, ?it/s]"
     ]
    },
    {
     "name": "stdout",
     "output_type": "stream",
     "text": [
      "Starting epoch: 8 | phase: valid | ⏰: 03:59:51 \n",
      "Validation loss: 0.2611156801382701\n",
      "Starting epoch: 9 | phase: train | ⏰: 03:59:51 | Learning rate: 0.010000\n"
     ]
    },
    {
     "name": "stderr",
     "output_type": "stream",
     "text": [
      "Train loss: 0.22499: 100%|█████████████████████████████████████████████████████████████| 23/23 [00:00<00:00, 42.39it/s]\n"
     ]
    },
    {
     "name": "stdout",
     "output_type": "stream",
     "text": [
      "============ Test epoch 23 ============\n",
      "Client  0\n"
     ]
    },
    {
     "name": "stderr",
     "output_type": "stream",
     "text": [
      "\r",
      "  0%|                                                                                        | 0/14177 [00:00<?, ?it/s]"
     ]
    },
    {
     "name": "stdout",
     "output_type": "stream",
     "text": [
      "Number of sessions(hdfs_test_normal): 14177\n",
      "Number of sessions(hdfs_test_abnormal): 4123\n"
     ]
    },
    {
     "name": "stderr",
     "output_type": "stream",
     "text": [
      "100%|████████████████████████████████████████████████████████████████████████████| 14177/14177 [05:21<00:00, 44.03it/s]\n",
      "100%|██████████████████████████████████████████████████████████████████████████████| 4123/4123 [00:58<00:00, 70.75it/s]\n"
     ]
    },
    {
     "name": "stdout",
     "output_type": "stream",
     "text": [
      "false positive (FP): 18084, false negative (FN): 119, Precision: 48.039%, Recall: 99.293%, F1-measure: 64.751%\n",
      "actual positive (TP+FN): 16838, actual negative (FP+TN): 553366\n",
      "accuracy: 96.808\n",
      "Finished Predicting\n",
      "elapsed_time: 380.24996733665466\n",
      "============ Train epoch 24 ============\n",
      "Client  0\n",
      "File ../data/hdfs/hdfs_train, number of sessions 4855\n",
      "File ../data/hdfs/hdfs_train, number of seqs 46575\n"
     ]
    },
    {
     "name": "stderr",
     "output_type": "stream",
     "text": [
      "  0%|▎                                                                              | 20/5258 [00:00<00:27, 193.97it/s]"
     ]
    },
    {
     "name": "stdout",
     "output_type": "stream",
     "text": [
      "sampling...\n"
     ]
    },
    {
     "name": "stderr",
     "output_type": "stream",
     "text": [
      "100%|█████████████████████████████████████████████████████████████████████████████| 5258/5258 [00:30<00:00, 173.62it/s]\n"
     ]
    },
    {
     "name": "stdout",
     "output_type": "stream",
     "text": [
      "File ../data/hdfs/hdfs_test_normal, number of sessions 553366\n",
      "File ../data/hdfs/hdfs_test_normal, number of seqs 5258\n",
      "Find 46575 train logs, 5258 validation logs\n",
      "Train batch size 2048 ,Validation batch size 2048\n"
     ]
    },
    {
     "name": "stderr",
     "output_type": "stream",
     "text": [
      "Train loss: 1.42574:  22%|█████████████▍                                                | 5/23 [00:00<00:00, 45.32it/s]"
     ]
    },
    {
     "name": "stdout",
     "output_type": "stream",
     "text": [
      "Starting epoch: 0 | phase: train | ⏰: 04:07:36 | Learning rate: 0.000313\n"
     ]
    },
    {
     "name": "stderr",
     "output_type": "stream",
     "text": [
      "Train loss: 0.96618: 100%|█████████████████████████████████████████████████████████████| 23/23 [00:00<00:00, 40.95it/s]\n",
      "Train loss: 0.55454:  22%|█████████████▍                                                | 5/23 [00:00<00:00, 42.93it/s]"
     ]
    },
    {
     "name": "stdout",
     "output_type": "stream",
     "text": [
      "Starting epoch: 1 | phase: train | ⏰: 04:07:37 | Learning rate: 0.000625\n"
     ]
    },
    {
     "name": "stderr",
     "output_type": "stream",
     "text": [
      "Train loss: 0.49516: 100%|█████████████████████████████████████████████████████████████| 23/23 [00:00<00:00, 39.62it/s]\n",
      "Train loss: 0.39745:  17%|██████████▊                                                   | 4/23 [00:00<00:00, 38.91it/s]"
     ]
    },
    {
     "name": "stdout",
     "output_type": "stream",
     "text": [
      "Starting epoch: 2 | phase: train | ⏰: 04:07:37 | Learning rate: 0.001250\n"
     ]
    },
    {
     "name": "stderr",
     "output_type": "stream",
     "text": [
      "Train loss: 0.36771: 100%|█████████████████████████████████████████████████████████████| 23/23 [00:00<00:00, 41.97it/s]\n",
      "Train loss: 0.31902:  22%|█████████████▍                                                | 5/23 [00:00<00:00, 33.34it/s]"
     ]
    },
    {
     "name": "stdout",
     "output_type": "stream",
     "text": [
      "Starting epoch: 3 | phase: train | ⏰: 04:07:38 | Learning rate: 0.002500\n"
     ]
    },
    {
     "name": "stderr",
     "output_type": "stream",
     "text": [
      "Train loss: 0.29969: 100%|█████████████████████████████████████████████████████████████| 23/23 [00:00<00:00, 38.70it/s]\n",
      "Train loss: 0.27093:  22%|█████████████▍                                                | 5/23 [00:00<00:00, 43.16it/s]"
     ]
    },
    {
     "name": "stdout",
     "output_type": "stream",
     "text": [
      "Starting epoch: 4 | phase: train | ⏰: 04:07:38 | Learning rate: 0.005000\n"
     ]
    },
    {
     "name": "stderr",
     "output_type": "stream",
     "text": [
      "Train loss: 0.26985: 100%|█████████████████████████████████████████████████████████████| 23/23 [00:00<00:00, 42.01it/s]\n",
      "Train loss: 0.25792:  22%|█████████████▍                                                | 5/23 [00:00<00:00, 44.09it/s]"
     ]
    },
    {
     "name": "stdout",
     "output_type": "stream",
     "text": [
      "Starting epoch: 5 | phase: train | ⏰: 04:07:39 | Learning rate: 0.010000\n"
     ]
    },
    {
     "name": "stderr",
     "output_type": "stream",
     "text": [
      "Train loss: 0.26177: 100%|█████████████████████████████████████████████████████████████| 23/23 [00:00<00:00, 42.01it/s]\n",
      "Train loss: 0.32020:  22%|█████████████▍                                                | 5/23 [00:00<00:00, 43.43it/s]"
     ]
    },
    {
     "name": "stdout",
     "output_type": "stream",
     "text": [
      "Starting epoch: 6 | phase: train | ⏰: 04:07:39 | Learning rate: 0.010000\n"
     ]
    },
    {
     "name": "stderr",
     "output_type": "stream",
     "text": [
      "Train loss: 0.32525: 100%|█████████████████████████████████████████████████████████████| 23/23 [00:00<00:00, 41.38it/s]\n",
      ": 100%|█████████████████████████████████████████████████████████████████████████████████| 3/3 [00:00<00:00, 54.53it/s]\n",
      "Train loss: 0.28825:  13%|████████                                                      | 3/23 [00:00<00:00, 29.72it/s]"
     ]
    },
    {
     "name": "stdout",
     "output_type": "stream",
     "text": [
      "Starting epoch: 6 | phase: valid | ⏰: 04:07:40 \n",
      "Validation loss: 0.29525017738342285\n",
      "Starting epoch: 7 | phase: train | ⏰: 04:07:40 | Learning rate: 0.010000\n"
     ]
    },
    {
     "name": "stderr",
     "output_type": "stream",
     "text": [
      "Train loss: 0.27163: 100%|█████████████████████████████████████████████████████████████| 23/23 [00:00<00:00, 38.04it/s]\n",
      "Train loss: 0.24388:  22%|█████████████▍                                                | 5/23 [00:00<00:00, 44.17it/s]"
     ]
    },
    {
     "name": "stdout",
     "output_type": "stream",
     "text": [
      "Starting epoch: 8 | phase: train | ⏰: 04:07:41 | Learning rate: 0.010000\n"
     ]
    },
    {
     "name": "stderr",
     "output_type": "stream",
     "text": [
      "Train loss: 0.24278: 100%|█████████████████████████████████████████████████████████████| 23/23 [00:00<00:00, 40.97it/s]\n",
      ": 100%|█████████████████████████████████████████████████████████████████████████████████| 3/3 [00:00<00:00, 64.19it/s]\n",
      "Train loss: 0.22294:  13%|████████                                                      | 3/23 [00:00<00:00, 27.59it/s]"
     ]
    },
    {
     "name": "stdout",
     "output_type": "stream",
     "text": [
      "Starting epoch: 8 | phase: valid | ⏰: 04:07:41 \n",
      "Validation loss: 0.2514679878950119\n",
      "Starting epoch: 9 | phase: train | ⏰: 04:07:41 | Learning rate: 0.010000\n"
     ]
    },
    {
     "name": "stderr",
     "output_type": "stream",
     "text": [
      "Train loss: 0.23007: 100%|█████████████████████████████████████████████████████████████| 23/23 [00:00<00:00, 37.83it/s]\n"
     ]
    },
    {
     "name": "stdout",
     "output_type": "stream",
     "text": [
      "============ Test epoch 24 ============\n",
      "Client  0\n"
     ]
    },
    {
     "name": "stderr",
     "output_type": "stream",
     "text": [
      "\r",
      "  0%|                                                                                        | 0/14177 [00:00<?, ?it/s]"
     ]
    },
    {
     "name": "stdout",
     "output_type": "stream",
     "text": [
      "Number of sessions(hdfs_test_normal): 14177\n",
      "Number of sessions(hdfs_test_abnormal): 4123\n"
     ]
    },
    {
     "name": "stderr",
     "output_type": "stream",
     "text": [
      "100%|████████████████████████████████████████████████████████████████████████████| 14177/14177 [03:42<00:00, 63.74it/s]\n",
      "100%|██████████████████████████████████████████████████████████████████████████████| 4123/4123 [00:56<00:00, 72.62it/s]\n"
     ]
    },
    {
     "name": "stdout",
     "output_type": "stream",
     "text": [
      "false positive (FP): 8179, false negative (FN): 143, Precision: 67.118%, Recall: 99.151%, F1-measure: 80.049%\n",
      "actual positive (TP+FN): 16838, actual negative (FP+TN): 553366\n",
      "accuracy: 98.541\n",
      "Finished Predicting\n",
      "elapsed_time: 279.184072971344\n",
      "============ Train epoch 25 ============\n",
      "Client  0\n",
      "File ../data/hdfs/hdfs_train, number of sessions 4855\n",
      "File ../data/hdfs/hdfs_train, number of seqs 46575\n"
     ]
    },
    {
     "name": "stderr",
     "output_type": "stream",
     "text": [
      "  0%|▎                                                                              | 21/5258 [00:00<00:25, 203.58it/s]"
     ]
    },
    {
     "name": "stdout",
     "output_type": "stream",
     "text": [
      "sampling...\n"
     ]
    },
    {
     "name": "stderr",
     "output_type": "stream",
     "text": [
      "100%|█████████████████████████████████████████████████████████████████████████████| 5258/5258 [00:31<00:00, 169.37it/s]\n"
     ]
    },
    {
     "name": "stdout",
     "output_type": "stream",
     "text": [
      "File ../data/hdfs/hdfs_test_normal, number of sessions 553366\n",
      "File ../data/hdfs/hdfs_test_normal, number of seqs 5258\n",
      "Find 46575 train logs, 5258 validation logs\n",
      "Train batch size 2048 ,Validation batch size 2048\n"
     ]
    },
    {
     "name": "stderr",
     "output_type": "stream",
     "text": [
      "Train loss: 1.24169:  22%|█████████████▍                                                | 5/23 [00:00<00:00, 43.22it/s]"
     ]
    },
    {
     "name": "stdout",
     "output_type": "stream",
     "text": [
      "Starting epoch: 0 | phase: train | ⏰: 04:13:51 | Learning rate: 0.000313\n"
     ]
    },
    {
     "name": "stderr",
     "output_type": "stream",
     "text": [
      "Train loss: 0.92107: 100%|█████████████████████████████████████████████████████████████| 23/23 [00:00<00:00, 41.89it/s]\n",
      "Train loss: 0.49268:  22%|█████████████▍                                                | 5/23 [00:00<00:00, 41.77it/s]"
     ]
    },
    {
     "name": "stdout",
     "output_type": "stream",
     "text": [
      "Starting epoch: 1 | phase: train | ⏰: 04:13:52 | Learning rate: 0.000625\n"
     ]
    },
    {
     "name": "stderr",
     "output_type": "stream",
     "text": [
      "Train loss: 0.44587: 100%|█████████████████████████████████████████████████████████████| 23/23 [00:00<00:00, 41.37it/s]\n",
      "Train loss: 0.36084:  22%|█████████████▍                                                | 5/23 [00:00<00:00, 41.37it/s]"
     ]
    },
    {
     "name": "stdout",
     "output_type": "stream",
     "text": [
      "Starting epoch: 2 | phase: train | ⏰: 04:13:52 | Learning rate: 0.001250\n"
     ]
    },
    {
     "name": "stderr",
     "output_type": "stream",
     "text": [
      "Train loss: 0.34417: 100%|█████████████████████████████████████████████████████████████| 23/23 [00:00<00:00, 42.02it/s]\n",
      "Train loss: 0.30085:  22%|█████████████▍                                                | 5/23 [00:00<00:00, 33.36it/s]"
     ]
    },
    {
     "name": "stdout",
     "output_type": "stream",
     "text": [
      "Starting epoch: 3 | phase: train | ⏰: 04:13:53 | Learning rate: 0.002500\n"
     ]
    },
    {
     "name": "stderr",
     "output_type": "stream",
     "text": [
      "Train loss: 0.29299: 100%|█████████████████████████████████████████████████████████████| 23/23 [00:00<00:00, 39.65it/s]\n",
      "Train loss: 0.27961:  22%|█████████████▍                                                | 5/23 [00:00<00:00, 44.33it/s]"
     ]
    },
    {
     "name": "stdout",
     "output_type": "stream",
     "text": [
      "Starting epoch: 4 | phase: train | ⏰: 04:13:53 | Learning rate: 0.005000\n"
     ]
    },
    {
     "name": "stderr",
     "output_type": "stream",
     "text": [
      "Train loss: 0.26687: 100%|█████████████████████████████████████████████████████████████| 23/23 [00:00<00:00, 41.91it/s]\n",
      "Train loss: 0.25353:  22%|█████████████▍                                                | 5/23 [00:00<00:00, 43.87it/s]"
     ]
    },
    {
     "name": "stdout",
     "output_type": "stream",
     "text": [
      "Starting epoch: 5 | phase: train | ⏰: 04:13:54 | Learning rate: 0.010000\n"
     ]
    },
    {
     "name": "stderr",
     "output_type": "stream",
     "text": [
      "Train loss: 0.26097: 100%|█████████████████████████████████████████████████████████████| 23/23 [00:00<00:00, 42.76it/s]\n",
      "Train loss: 0.27257:  22%|█████████████▍                                                | 5/23 [00:00<00:00, 41.81it/s]"
     ]
    },
    {
     "name": "stdout",
     "output_type": "stream",
     "text": [
      "Starting epoch: 6 | phase: train | ⏰: 04:13:54 | Learning rate: 0.010000\n"
     ]
    },
    {
     "name": "stderr",
     "output_type": "stream",
     "text": [
      "Train loss: 0.29250: 100%|█████████████████████████████████████████████████████████████| 23/23 [00:00<00:00, 40.65it/s]\n",
      ": 100%|█████████████████████████████████████████████████████████████████████████████████| 3/3 [00:00<00:00, 59.83it/s]\n",
      "Train loss: 0.25970:  13%|████████                                                      | 3/23 [00:00<00:00, 29.47it/s]"
     ]
    },
    {
     "name": "stdout",
     "output_type": "stream",
     "text": [
      "Starting epoch: 6 | phase: valid | ⏰: 04:13:55 \n",
      "Validation loss: 0.3143400053183238\n",
      "Starting epoch: 7 | phase: train | ⏰: 04:13:55 | Learning rate: 0.010000\n"
     ]
    },
    {
     "name": "stderr",
     "output_type": "stream",
     "text": [
      "Train loss: 0.26123: 100%|█████████████████████████████████████████████████████████████| 23/23 [00:00<00:00, 39.59it/s]\n",
      "Train loss: 0.24252:  22%|█████████████▍                                                | 5/23 [00:00<00:00, 45.87it/s]"
     ]
    },
    {
     "name": "stdout",
     "output_type": "stream",
     "text": [
      "Starting epoch: 8 | phase: train | ⏰: 04:13:56 | Learning rate: 0.010000\n"
     ]
    },
    {
     "name": "stderr",
     "output_type": "stream",
     "text": [
      "Train loss: 0.24059: 100%|█████████████████████████████████████████████████████████████| 23/23 [00:00<00:00, 42.08it/s]\n",
      ": 100%|█████████████████████████████████████████████████████████████████████████████████| 3/3 [00:00<00:00, 63.82it/s]\n",
      "Train loss: 0.22742:  17%|██████████▊                                                   | 4/23 [00:00<00:00, 35.74it/s]"
     ]
    },
    {
     "name": "stdout",
     "output_type": "stream",
     "text": [
      "Starting epoch: 8 | phase: valid | ⏰: 04:13:56 \n",
      "Validation loss: 0.2843356629212697\n",
      "Starting epoch: 9 | phase: train | ⏰: 04:13:56 | Learning rate: 0.010000\n"
     ]
    },
    {
     "name": "stderr",
     "output_type": "stream",
     "text": [
      "Train loss: 0.22564: 100%|█████████████████████████████████████████████████████████████| 23/23 [00:00<00:00, 40.36it/s]\n"
     ]
    },
    {
     "name": "stdout",
     "output_type": "stream",
     "text": [
      "============ Test epoch 25 ============\n",
      "Client  0\n"
     ]
    },
    {
     "name": "stderr",
     "output_type": "stream",
     "text": [
      "\r",
      "  0%|                                                                                        | 0/14177 [00:00<?, ?it/s]"
     ]
    },
    {
     "name": "stdout",
     "output_type": "stream",
     "text": [
      "Number of sessions(hdfs_test_normal): 14177\n",
      "Number of sessions(hdfs_test_abnormal): 4123\n"
     ]
    },
    {
     "name": "stderr",
     "output_type": "stream",
     "text": [
      "100%|████████████████████████████████████████████████████████████████████████████| 14177/14177 [05:23<00:00, 43.86it/s]\n",
      "100%|██████████████████████████████████████████████████████████████████████████████| 4123/4123 [00:59<00:00, 69.18it/s]\n"
     ]
    },
    {
     "name": "stdout",
     "output_type": "stream",
     "text": [
      "false positive (FP): 28460, false negative (FN): 231, Precision: 36.850%, Recall: 98.628%, F1-measure: 53.653%\n",
      "actual positive (TP+FN): 16838, actual negative (FP+TN): 553366\n",
      "accuracy: 94.968\n",
      "Finished Predicting\n",
      "elapsed_time: 382.800940990448\n",
      "============ Train epoch 26 ============\n",
      "Client  0\n",
      "File ../data/hdfs/hdfs_train, number of sessions 4855\n",
      "File ../data/hdfs/hdfs_train, number of seqs 46575\n"
     ]
    },
    {
     "name": "stderr",
     "output_type": "stream",
     "text": [
      "  0%|▎                                                                              | 22/5258 [00:00<00:24, 209.51it/s]"
     ]
    },
    {
     "name": "stdout",
     "output_type": "stream",
     "text": [
      "sampling...\n"
     ]
    },
    {
     "name": "stderr",
     "output_type": "stream",
     "text": [
      "100%|█████████████████████████████████████████████████████████████████████████████| 5258/5258 [00:30<00:00, 171.39it/s]\n"
     ]
    },
    {
     "name": "stdout",
     "output_type": "stream",
     "text": [
      "File ../data/hdfs/hdfs_test_normal, number of sessions 553366\n",
      "File ../data/hdfs/hdfs_test_normal, number of seqs 5258\n",
      "Find 46575 train logs, 5258 validation logs\n",
      "Train batch size 2048 ,Validation batch size 2048\n"
     ]
    },
    {
     "name": "stderr",
     "output_type": "stream",
     "text": [
      "Train loss: 1.09444:  22%|█████████████▍                                                | 5/23 [00:00<00:00, 42.28it/s]"
     ]
    },
    {
     "name": "stdout",
     "output_type": "stream",
     "text": [
      "Starting epoch: 0 | phase: train | ⏰: 04:21:48 | Learning rate: 0.000313\n"
     ]
    },
    {
     "name": "stderr",
     "output_type": "stream",
     "text": [
      "Train loss: 0.83749: 100%|█████████████████████████████████████████████████████████████| 23/23 [00:00<00:00, 42.42it/s]\n",
      "Train loss: 0.53189:  22%|█████████████▍                                                | 5/23 [00:00<00:00, 41.22it/s]"
     ]
    },
    {
     "name": "stdout",
     "output_type": "stream",
     "text": [
      "Starting epoch: 1 | phase: train | ⏰: 04:21:49 | Learning rate: 0.000625\n"
     ]
    },
    {
     "name": "stderr",
     "output_type": "stream",
     "text": [
      "Train loss: 0.45106: 100%|█████████████████████████████████████████████████████████████| 23/23 [00:00<00:00, 40.93it/s]\n",
      "Train loss: 0.36848:  22%|█████████████▍                                                | 5/23 [00:00<00:00, 43.35it/s]"
     ]
    },
    {
     "name": "stdout",
     "output_type": "stream",
     "text": [
      "Starting epoch: 2 | phase: train | ⏰: 04:21:49 | Learning rate: 0.001250\n"
     ]
    },
    {
     "name": "stderr",
     "output_type": "stream",
     "text": [
      "Train loss: 0.34362: 100%|█████████████████████████████████████████████████████████████| 23/23 [00:00<00:00, 41.45it/s]\n",
      "Train loss: 0.31797:  22%|█████████████▍                                                | 5/23 [00:00<00:00, 34.14it/s]"
     ]
    },
    {
     "name": "stdout",
     "output_type": "stream",
     "text": [
      "Starting epoch: 3 | phase: train | ⏰: 04:21:50 | Learning rate: 0.002500\n"
     ]
    },
    {
     "name": "stderr",
     "output_type": "stream",
     "text": [
      "Train loss: 0.28867: 100%|█████████████████████████████████████████████████████████████| 23/23 [00:00<00:00, 39.40it/s]\n",
      "Train loss: 0.26434:  22%|█████████████▍                                                | 5/23 [00:00<00:00, 44.90it/s]"
     ]
    },
    {
     "name": "stdout",
     "output_type": "stream",
     "text": [
      "Starting epoch: 4 | phase: train | ⏰: 04:21:50 | Learning rate: 0.005000\n"
     ]
    },
    {
     "name": "stderr",
     "output_type": "stream",
     "text": [
      "Train loss: 0.26402: 100%|█████████████████████████████████████████████████████████████| 23/23 [00:00<00:00, 42.01it/s]\n",
      "Train loss: 0.25635:  22%|█████████████▍                                                | 5/23 [00:00<00:00, 46.44it/s]"
     ]
    },
    {
     "name": "stdout",
     "output_type": "stream",
     "text": [
      "Starting epoch: 5 | phase: train | ⏰: 04:21:51 | Learning rate: 0.010000\n"
     ]
    },
    {
     "name": "stderr",
     "output_type": "stream",
     "text": [
      "Train loss: 0.25616: 100%|█████████████████████████████████████████████████████████████| 23/23 [00:00<00:00, 44.08it/s]\n",
      "Train loss: 0.24340:  22%|█████████████▍                                                | 5/23 [00:00<00:00, 42.54it/s]"
     ]
    },
    {
     "name": "stdout",
     "output_type": "stream",
     "text": [
      "Starting epoch: 6 | phase: train | ⏰: 04:21:52 | Learning rate: 0.010000\n"
     ]
    },
    {
     "name": "stderr",
     "output_type": "stream",
     "text": [
      "Train loss: 0.24308: 100%|█████████████████████████████████████████████████████████████| 23/23 [00:00<00:00, 44.12it/s]\n",
      ": 100%|█████████████████████████████████████████████████████████████████████████████████| 3/3 [00:00<00:00, 73.17it/s]\n",
      "Train loss: 0.23818:  17%|██████████▊                                                   | 4/23 [00:00<00:00, 33.66it/s]"
     ]
    },
    {
     "name": "stdout",
     "output_type": "stream",
     "text": [
      "Starting epoch: 6 | phase: valid | ⏰: 04:21:52 \n",
      "Validation loss: 0.26284385720888775\n",
      "Starting epoch: 7 | phase: train | ⏰: 04:21:52 | Learning rate: 0.010000\n"
     ]
    },
    {
     "name": "stderr",
     "output_type": "stream",
     "text": [
      "Train loss: 0.23339: 100%|█████████████████████████████████████████████████████████████| 23/23 [00:00<00:00, 42.92it/s]\n",
      "Train loss: 0.22481:  22%|█████████████▍                                                | 5/23 [00:00<00:00, 45.92it/s]"
     ]
    },
    {
     "name": "stdout",
     "output_type": "stream",
     "text": [
      "Starting epoch: 8 | phase: train | ⏰: 04:21:53 | Learning rate: 0.010000\n"
     ]
    },
    {
     "name": "stderr",
     "output_type": "stream",
     "text": [
      "Train loss: 0.24129: 100%|█████████████████████████████████████████████████████████████| 23/23 [00:00<00:00, 44.50it/s]\n",
      ": 100%|█████████████████████████████████████████████████████████████████████████████████| 3/3 [00:00<00:00, 65.21it/s]\n",
      "Train loss: 0.25887:  17%|██████████▊                                                   | 4/23 [00:00<00:00, 34.19it/s]"
     ]
    },
    {
     "name": "stdout",
     "output_type": "stream",
     "text": [
      "Starting epoch: 8 | phase: valid | ⏰: 04:21:53 \n",
      "Validation loss: 0.29268597563107807\n",
      "Starting epoch: 9 | phase: train | ⏰: 04:21:53 | Learning rate: 0.010000\n"
     ]
    },
    {
     "name": "stderr",
     "output_type": "stream",
     "text": [
      "Train loss: 0.25054: 100%|█████████████████████████████████████████████████████████████| 23/23 [00:00<00:00, 41.34it/s]\n"
     ]
    },
    {
     "name": "stdout",
     "output_type": "stream",
     "text": [
      "============ Test epoch 26 ============\n",
      "Client  0\n"
     ]
    },
    {
     "name": "stderr",
     "output_type": "stream",
     "text": [
      "\r",
      "  0%|                                                                                        | 0/14177 [00:00<?, ?it/s]"
     ]
    },
    {
     "name": "stdout",
     "output_type": "stream",
     "text": [
      "Number of sessions(hdfs_test_normal): 14177\n",
      "Number of sessions(hdfs_test_abnormal): 4123\n"
     ]
    },
    {
     "name": "stderr",
     "output_type": "stream",
     "text": [
      "100%|████████████████████████████████████████████████████████████████████████████| 14177/14177 [03:42<00:00, 63.71it/s]\n",
      "100%|██████████████████████████████████████████████████████████████████████████████| 4123/4123 [01:01<00:00, 67.36it/s]\n"
     ]
    },
    {
     "name": "stdout",
     "output_type": "stream",
     "text": [
      "false positive (FP): 9698, false negative (FN): 172, Precision: 63.215%, Recall: 98.979%, F1-measure: 77.154%\n",
      "actual positive (TP+FN): 16838, actual negative (FP+TN): 553366\n",
      "accuracy: 98.269\n",
      "Finished Predicting\n",
      "elapsed_time: 283.73961639404297\n",
      "============ Train epoch 27 ============\n",
      "Client  0\n",
      "File ../data/hdfs/hdfs_train, number of sessions 4855\n",
      "File ../data/hdfs/hdfs_train, number of seqs 46575\n"
     ]
    },
    {
     "name": "stderr",
     "output_type": "stream",
     "text": [
      "  1%|▌                                                                              | 35/5258 [00:00<00:29, 175.92it/s]"
     ]
    },
    {
     "name": "stdout",
     "output_type": "stream",
     "text": [
      "sampling...\n"
     ]
    },
    {
     "name": "stderr",
     "output_type": "stream",
     "text": [
      "100%|█████████████████████████████████████████████████████████████████████████████| 5258/5258 [00:30<00:00, 174.21it/s]\n"
     ]
    },
    {
     "name": "stdout",
     "output_type": "stream",
     "text": [
      "File ../data/hdfs/hdfs_test_normal, number of sessions 553366\n",
      "File ../data/hdfs/hdfs_test_normal, number of seqs 5258\n",
      "Find 46575 train logs, 5258 validation logs\n",
      "Train batch size 2048 ,Validation batch size 2048\n"
     ]
    },
    {
     "name": "stderr",
     "output_type": "stream",
     "text": [
      "Train loss: 1.20262:  17%|██████████▊                                                   | 4/23 [00:00<00:00, 39.18it/s]"
     ]
    },
    {
     "name": "stdout",
     "output_type": "stream",
     "text": [
      "Starting epoch: 0 | phase: train | ⏰: 04:28:03 | Learning rate: 0.000313\n"
     ]
    },
    {
     "name": "stderr",
     "output_type": "stream",
     "text": [
      "Train loss: 0.82781: 100%|█████████████████████████████████████████████████████████████| 23/23 [00:00<00:00, 41.68it/s]\n",
      "Train loss: 0.48428:  22%|█████████████▍                                                | 5/23 [00:00<00:00, 44.64it/s]"
     ]
    },
    {
     "name": "stdout",
     "output_type": "stream",
     "text": [
      "Starting epoch: 1 | phase: train | ⏰: 04:28:04 | Learning rate: 0.000625\n"
     ]
    },
    {
     "name": "stderr",
     "output_type": "stream",
     "text": [
      "Train loss: 0.43161: 100%|█████████████████████████████████████████████████████████████| 23/23 [00:00<00:00, 42.76it/s]\n",
      "Train loss: 0.37688:  17%|██████████▊                                                   | 4/23 [00:00<00:00, 39.62it/s]"
     ]
    },
    {
     "name": "stdout",
     "output_type": "stream",
     "text": [
      "Starting epoch: 2 | phase: train | ⏰: 04:28:04 | Learning rate: 0.001250\n"
     ]
    },
    {
     "name": "stderr",
     "output_type": "stream",
     "text": [
      "Train loss: 0.34003: 100%|█████████████████████████████████████████████████████████████| 23/23 [00:00<00:00, 40.48it/s]\n",
      "Train loss: 0.29583:  22%|█████████████▍                                                | 5/23 [00:00<00:00, 36.01it/s]"
     ]
    },
    {
     "name": "stdout",
     "output_type": "stream",
     "text": [
      "Starting epoch: 3 | phase: train | ⏰: 04:28:05 | Learning rate: 0.002500\n"
     ]
    },
    {
     "name": "stderr",
     "output_type": "stream",
     "text": [
      "Train loss: 0.29068: 100%|█████████████████████████████████████████████████████████████| 23/23 [00:00<00:00, 40.27it/s]\n",
      "Train loss: 0.26511:  22%|█████████████▍                                                | 5/23 [00:00<00:00, 43.66it/s]"
     ]
    },
    {
     "name": "stdout",
     "output_type": "stream",
     "text": [
      "Starting epoch: 4 | phase: train | ⏰: 04:28:06 | Learning rate: 0.005000\n"
     ]
    },
    {
     "name": "stderr",
     "output_type": "stream",
     "text": [
      "Train loss: 0.27014: 100%|█████████████████████████████████████████████████████████████| 23/23 [00:00<00:00, 41.52it/s]\n",
      "Train loss: 0.26473:  17%|██████████▊                                                   | 4/23 [00:00<00:00, 39.32it/s]"
     ]
    },
    {
     "name": "stdout",
     "output_type": "stream",
     "text": [
      "Starting epoch: 5 | phase: train | ⏰: 04:28:06 | Learning rate: 0.010000\n"
     ]
    },
    {
     "name": "stderr",
     "output_type": "stream",
     "text": [
      "Train loss: 0.26524: 100%|█████████████████████████████████████████████████████████████| 23/23 [00:00<00:00, 41.79it/s]\n",
      "Train loss: 0.25618:  22%|█████████████▍                                                | 5/23 [00:00<00:00, 45.08it/s]"
     ]
    },
    {
     "name": "stdout",
     "output_type": "stream",
     "text": [
      "Starting epoch: 6 | phase: train | ⏰: 04:28:07 | Learning rate: 0.010000\n"
     ]
    },
    {
     "name": "stderr",
     "output_type": "stream",
     "text": [
      "Train loss: 0.25131: 100%|█████████████████████████████████████████████████████████████| 23/23 [00:00<00:00, 42.41it/s]\n",
      ": 100%|█████████████████████████████████████████████████████████████████████████████████| 3/3 [00:00<00:00, 62.51it/s]\n",
      "Train loss: 0.23557:  17%|██████████▊                                                   | 4/23 [00:00<00:00, 33.67it/s]"
     ]
    },
    {
     "name": "stdout",
     "output_type": "stream",
     "text": [
      "Starting epoch: 6 | phase: valid | ⏰: 04:28:07 \n",
      "Validation loss: 0.2638847380876541\n",
      "Starting epoch: 7 | phase: train | ⏰: 04:28:07 | Learning rate: 0.010000\n"
     ]
    },
    {
     "name": "stderr",
     "output_type": "stream",
     "text": [
      "Train loss: 0.23763: 100%|█████████████████████████████████████████████████████████████| 23/23 [00:00<00:00, 40.78it/s]\n",
      "Train loss: 0.22815:  22%|█████████████▍                                                | 5/23 [00:00<00:00, 44.64it/s]"
     ]
    },
    {
     "name": "stdout",
     "output_type": "stream",
     "text": [
      "Starting epoch: 8 | phase: train | ⏰: 04:28:08 | Learning rate: 0.010000\n"
     ]
    },
    {
     "name": "stderr",
     "output_type": "stream",
     "text": [
      "Train loss: 0.23017: 100%|█████████████████████████████████████████████████████████████| 23/23 [00:00<00:00, 41.90it/s]\n",
      ": 100%|█████████████████████████████████████████████████████████████████████████████████| 3/3 [00:00<00:00, 68.18it/s]\n",
      "Train loss: 0.22114:  13%|████████                                                      | 3/23 [00:00<00:00, 27.52it/s]"
     ]
    },
    {
     "name": "stdout",
     "output_type": "stream",
     "text": [
      "Starting epoch: 8 | phase: valid | ⏰: 04:28:08 \n",
      "Validation loss: 0.2532385289669037\n",
      "Starting epoch: 9 | phase: train | ⏰: 04:28:08 | Learning rate: 0.010000\n"
     ]
    },
    {
     "name": "stderr",
     "output_type": "stream",
     "text": [
      "Train loss: 0.22602: 100%|█████████████████████████████████████████████████████████████| 23/23 [00:00<00:00, 39.31it/s]\n"
     ]
    },
    {
     "name": "stdout",
     "output_type": "stream",
     "text": [
      "============ Test epoch 27 ============\n",
      "Client  0\n"
     ]
    },
    {
     "name": "stderr",
     "output_type": "stream",
     "text": [
      "\r",
      "  0%|                                                                                        | 0/14177 [00:00<?, ?it/s]"
     ]
    },
    {
     "name": "stdout",
     "output_type": "stream",
     "text": [
      "Number of sessions(hdfs_test_normal): 14177\n",
      "Number of sessions(hdfs_test_abnormal): 4123\n"
     ]
    },
    {
     "name": "stderr",
     "output_type": "stream",
     "text": [
      "100%|████████████████████████████████████████████████████████████████████████████| 14177/14177 [04:40<00:00, 50.47it/s]\n",
      "100%|██████████████████████████████████████████████████████████████████████████████| 4123/4123 [00:53<00:00, 76.79it/s]\n"
     ]
    },
    {
     "name": "stdout",
     "output_type": "stream",
     "text": [
      "false positive (FP): 95534, false negative (FN): 471, Precision: 14.626%, Recall: 97.203%, F1-measure: 25.427%\n",
      "actual positive (TP+FN): 16838, actual negative (FP+TN): 553366\n",
      "accuracy: 83.163\n",
      "Finished Predicting\n",
      "elapsed_time: 334.58612179756165\n",
      "============ Train epoch 28 ============\n",
      "Client  0\n",
      "File ../data/hdfs/hdfs_train, number of sessions 4855\n",
      "File ../data/hdfs/hdfs_train, number of seqs 46575\n"
     ]
    },
    {
     "name": "stderr",
     "output_type": "stream",
     "text": [
      "  0%|▎                                                                              | 18/5258 [00:00<00:29, 175.04it/s]"
     ]
    },
    {
     "name": "stdout",
     "output_type": "stream",
     "text": [
      "sampling...\n"
     ]
    },
    {
     "name": "stderr",
     "output_type": "stream",
     "text": [
      "100%|█████████████████████████████████████████████████████████████████████████████| 5258/5258 [00:29<00:00, 175.78it/s]\n"
     ]
    },
    {
     "name": "stdout",
     "output_type": "stream",
     "text": [
      "File ../data/hdfs/hdfs_test_normal, number of sessions 553366\n",
      "File ../data/hdfs/hdfs_test_normal, number of seqs 5258\n",
      "Find 46575 train logs, 5258 validation logs\n",
      "Train batch size 2048 ,Validation batch size 2048\n"
     ]
    },
    {
     "name": "stderr",
     "output_type": "stream",
     "text": [
      "Train loss: 1.61898:  13%|████████                                                      | 3/23 [00:00<00:01, 19.69it/s]"
     ]
    },
    {
     "name": "stdout",
     "output_type": "stream",
     "text": [
      "Starting epoch: 0 | phase: train | ⏰: 04:35:12 | Learning rate: 0.000313\n"
     ]
    },
    {
     "name": "stderr",
     "output_type": "stream",
     "text": [
      "Train loss: 0.92126: 100%|█████████████████████████████████████████████████████████████| 23/23 [00:00<00:00, 30.28it/s]\n",
      "Train loss: 0.50834:  22%|█████████████▍                                                | 5/23 [00:00<00:00, 47.03it/s]"
     ]
    },
    {
     "name": "stdout",
     "output_type": "stream",
     "text": [
      "Starting epoch: 1 | phase: train | ⏰: 04:35:13 | Learning rate: 0.000625\n"
     ]
    },
    {
     "name": "stderr",
     "output_type": "stream",
     "text": [
      "Train loss: 0.45479: 100%|█████████████████████████████████████████████████████████████| 23/23 [00:00<00:00, 44.52it/s]\n",
      "Train loss: 0.36645:  22%|█████████████▍                                                | 5/23 [00:00<00:00, 46.80it/s]"
     ]
    },
    {
     "name": "stdout",
     "output_type": "stream",
     "text": [
      "Starting epoch: 2 | phase: train | ⏰: 04:35:13 | Learning rate: 0.001250\n"
     ]
    },
    {
     "name": "stderr",
     "output_type": "stream",
     "text": [
      "Train loss: 0.35151: 100%|█████████████████████████████████████████████████████████████| 23/23 [00:00<00:00, 45.32it/s]\n",
      "Train loss: 0.30696:  22%|█████████████▍                                                | 5/23 [00:00<00:00, 37.41it/s]"
     ]
    },
    {
     "name": "stdout",
     "output_type": "stream",
     "text": [
      "Starting epoch: 3 | phase: train | ⏰: 04:35:14 | Learning rate: 0.002500\n"
     ]
    },
    {
     "name": "stderr",
     "output_type": "stream",
     "text": [
      "Train loss: 0.29990: 100%|█████████████████████████████████████████████████████████████| 23/23 [00:00<00:00, 42.78it/s]\n",
      "Train loss: 0.27799:  22%|█████████████▍                                                | 5/23 [00:00<00:00, 46.08it/s]"
     ]
    },
    {
     "name": "stdout",
     "output_type": "stream",
     "text": [
      "Starting epoch: 4 | phase: train | ⏰: 04:35:14 | Learning rate: 0.005000\n"
     ]
    },
    {
     "name": "stderr",
     "output_type": "stream",
     "text": [
      "Train loss: 0.27474: 100%|█████████████████████████████████████████████████████████████| 23/23 [00:00<00:00, 43.25it/s]\n",
      "Train loss: 0.26160:  22%|█████████████▍                                                | 5/23 [00:00<00:00, 44.78it/s]"
     ]
    },
    {
     "name": "stdout",
     "output_type": "stream",
     "text": [
      "Starting epoch: 5 | phase: train | ⏰: 04:35:15 | Learning rate: 0.010000\n"
     ]
    },
    {
     "name": "stderr",
     "output_type": "stream",
     "text": [
      "Train loss: 0.26371: 100%|█████████████████████████████████████████████████████████████| 23/23 [00:00<00:00, 42.91it/s]\n",
      "Train loss: 0.23891:  22%|█████████████▍                                                | 5/23 [00:00<00:00, 43.52it/s]"
     ]
    },
    {
     "name": "stdout",
     "output_type": "stream",
     "text": [
      "Starting epoch: 6 | phase: train | ⏰: 04:35:15 | Learning rate: 0.010000\n"
     ]
    },
    {
     "name": "stderr",
     "output_type": "stream",
     "text": [
      "Train loss: 0.24740: 100%|█████████████████████████████████████████████████████████████| 23/23 [00:00<00:00, 42.45it/s]\n",
      ": 100%|█████████████████████████████████████████████████████████████████████████████████| 3/3 [00:00<00:00, 62.50it/s]\n",
      "Train loss: 0.23132:  17%|██████████▊                                                   | 4/23 [00:00<00:00, 33.33it/s]"
     ]
    },
    {
     "name": "stdout",
     "output_type": "stream",
     "text": [
      "Starting epoch: 6 | phase: valid | ⏰: 04:35:16 \n",
      "Validation loss: 0.27133331696192425\n",
      "Starting epoch: 7 | phase: train | ⏰: 04:35:16 | Learning rate: 0.010000\n"
     ]
    },
    {
     "name": "stderr",
     "output_type": "stream",
     "text": [
      "Train loss: 0.23796: 100%|█████████████████████████████████████████████████████████████| 23/23 [00:00<00:00, 40.64it/s]\n",
      "Train loss: 0.23210:  22%|█████████████▍                                                | 5/23 [00:00<00:00, 45.04it/s]"
     ]
    },
    {
     "name": "stdout",
     "output_type": "stream",
     "text": [
      "Starting epoch: 8 | phase: train | ⏰: 04:35:17 | Learning rate: 0.010000\n"
     ]
    },
    {
     "name": "stderr",
     "output_type": "stream",
     "text": [
      "Train loss: 0.23122: 100%|█████████████████████████████████████████████████████████████| 23/23 [00:00<00:00, 42.62it/s]\n",
      ": 100%|█████████████████████████████████████████████████████████████████████████████████| 3/3 [00:00<00:00, 57.29it/s]\n",
      "Train loss: 0.20792:   0%|                                                                      | 0/23 [00:00<?, ?it/s]"
     ]
    },
    {
     "name": "stdout",
     "output_type": "stream",
     "text": [
      "Starting epoch: 8 | phase: valid | ⏰: 04:35:17 \n",
      "Validation loss: 0.2601355314254761\n",
      "Starting epoch: 9 | phase: train | ⏰: 04:35:17 | Learning rate: 0.010000\n"
     ]
    },
    {
     "name": "stderr",
     "output_type": "stream",
     "text": [
      "Train loss: 0.22328: 100%|█████████████████████████████████████████████████████████████| 23/23 [00:00<00:00, 41.94it/s]\n"
     ]
    },
    {
     "name": "stdout",
     "output_type": "stream",
     "text": [
      "============ Test epoch 28 ============\n",
      "Client  0\n"
     ]
    },
    {
     "name": "stderr",
     "output_type": "stream",
     "text": [
      "  0%|                                                                                | 7/14177 [00:00<03:34, 66.19it/s]"
     ]
    },
    {
     "name": "stdout",
     "output_type": "stream",
     "text": [
      "Number of sessions(hdfs_test_normal): 14177\n",
      "Number of sessions(hdfs_test_abnormal): 4123\n"
     ]
    },
    {
     "name": "stderr",
     "output_type": "stream",
     "text": [
      "100%|████████████████████████████████████████████████████████████████████████████| 14177/14177 [04:10<00:00, 56.69it/s]\n",
      "100%|██████████████████████████████████████████████████████████████████████████████| 4123/4123 [00:59<00:00, 69.06it/s]\n"
     ]
    },
    {
     "name": "stdout",
     "output_type": "stream",
     "text": [
      "false positive (FP): 9307, false negative (FN): 392, Precision: 63.861%, Recall: 97.672%, F1-measure: 77.228%\n",
      "actual positive (TP+FN): 16838, actual negative (FP+TN): 553366\n",
      "accuracy: 98.299\n",
      "Finished Predicting\n",
      "elapsed_time: 309.8015122413635\n",
      "============ Train epoch 29 ============\n",
      "Client  0\n",
      "File ../data/hdfs/hdfs_train, number of sessions 4855\n",
      "File ../data/hdfs/hdfs_train, number of seqs 46575\n"
     ]
    },
    {
     "name": "stderr",
     "output_type": "stream",
     "text": [
      "  1%|▍                                                                              | 33/5258 [00:00<00:32, 161.70it/s]"
     ]
    },
    {
     "name": "stdout",
     "output_type": "stream",
     "text": [
      "sampling...\n"
     ]
    },
    {
     "name": "stderr",
     "output_type": "stream",
     "text": [
      "100%|█████████████████████████████████████████████████████████████████████████████| 5258/5258 [00:30<00:00, 173.72it/s]\n"
     ]
    },
    {
     "name": "stdout",
     "output_type": "stream",
     "text": [
      "File ../data/hdfs/hdfs_test_normal, number of sessions 553366\n",
      "File ../data/hdfs/hdfs_test_normal, number of seqs 5258\n",
      "Find 46575 train logs, 5258 validation logs\n",
      "Train batch size 2048 ,Validation batch size 2048\n"
     ]
    },
    {
     "name": "stderr",
     "output_type": "stream",
     "text": [
      "Train loss: 1.48234:  22%|█████████████▍                                                | 5/23 [00:00<00:00, 46.41it/s]"
     ]
    },
    {
     "name": "stdout",
     "output_type": "stream",
     "text": [
      "Starting epoch: 0 | phase: train | ⏰: 04:41:52 | Learning rate: 0.000313\n"
     ]
    },
    {
     "name": "stderr",
     "output_type": "stream",
     "text": [
      "Train loss: 1.06701: 100%|█████████████████████████████████████████████████████████████| 23/23 [00:00<00:00, 42.99it/s]\n",
      "Train loss: 0.54934:  22%|█████████████▍                                                | 5/23 [00:00<00:00, 44.25it/s]"
     ]
    },
    {
     "name": "stdout",
     "output_type": "stream",
     "text": [
      "Starting epoch: 1 | phase: train | ⏰: 04:41:52 | Learning rate: 0.000625\n"
     ]
    },
    {
     "name": "stderr",
     "output_type": "stream",
     "text": [
      "Train loss: 0.48004: 100%|█████████████████████████████████████████████████████████████| 23/23 [00:00<00:00, 42.36it/s]\n",
      "Train loss: 0.39174:  22%|█████████████▍                                                | 5/23 [00:00<00:00, 43.15it/s]"
     ]
    },
    {
     "name": "stdout",
     "output_type": "stream",
     "text": [
      "Starting epoch: 2 | phase: train | ⏰: 04:41:53 | Learning rate: 0.001250\n"
     ]
    },
    {
     "name": "stderr",
     "output_type": "stream",
     "text": [
      "Train loss: 0.36362: 100%|█████████████████████████████████████████████████████████████| 23/23 [00:00<00:00, 42.12it/s]\n",
      "Train loss: 0.32342:  22%|█████████████▍                                                | 5/23 [00:00<00:00, 35.54it/s]"
     ]
    },
    {
     "name": "stdout",
     "output_type": "stream",
     "text": [
      "Starting epoch: 3 | phase: train | ⏰: 04:41:54 | Learning rate: 0.002500\n"
     ]
    },
    {
     "name": "stderr",
     "output_type": "stream",
     "text": [
      "Train loss: 0.31209: 100%|█████████████████████████████████████████████████████████████| 23/23 [00:00<00:00, 39.61it/s]\n",
      "Train loss: 0.29375:  22%|█████████████▍                                                | 5/23 [00:00<00:00, 41.92it/s]"
     ]
    },
    {
     "name": "stdout",
     "output_type": "stream",
     "text": [
      "Starting epoch: 4 | phase: train | ⏰: 04:41:54 | Learning rate: 0.005000\n"
     ]
    },
    {
     "name": "stderr",
     "output_type": "stream",
     "text": [
      "Train loss: 0.28102: 100%|█████████████████████████████████████████████████████████████| 23/23 [00:00<00:00, 40.92it/s]\n",
      "Train loss: 0.26533:  22%|█████████████▍                                                | 5/23 [00:00<00:00, 42.02it/s]"
     ]
    },
    {
     "name": "stdout",
     "output_type": "stream",
     "text": [
      "Starting epoch: 5 | phase: train | ⏰: 04:41:55 | Learning rate: 0.010000\n"
     ]
    },
    {
     "name": "stderr",
     "output_type": "stream",
     "text": [
      "Train loss: 0.26584: 100%|█████████████████████████████████████████████████████████████| 23/23 [00:00<00:00, 41.51it/s]\n",
      "Train loss: 0.24984:  22%|█████████████▍                                                | 5/23 [00:00<00:00, 48.15it/s]"
     ]
    },
    {
     "name": "stdout",
     "output_type": "stream",
     "text": [
      "Starting epoch: 6 | phase: train | ⏰: 04:41:55 | Learning rate: 0.010000\n"
     ]
    },
    {
     "name": "stderr",
     "output_type": "stream",
     "text": [
      "Train loss: 0.25052: 100%|█████████████████████████████████████████████████████████████| 23/23 [00:00<00:00, 44.27it/s]\n",
      ": 100%|█████████████████████████████████████████████████████████████████████████████████| 3/3 [00:00<00:00, 61.97it/s]\n",
      "Train loss: 0.22469:  13%|████████                                                      | 3/23 [00:00<00:00, 28.87it/s]"
     ]
    },
    {
     "name": "stdout",
     "output_type": "stream",
     "text": [
      "Starting epoch: 6 | phase: valid | ⏰: 04:41:56 \n",
      "Validation loss: 0.2750999828179677\n",
      "Starting epoch: 7 | phase: train | ⏰: 04:41:56 | Learning rate: 0.010000\n"
     ]
    },
    {
     "name": "stderr",
     "output_type": "stream",
     "text": [
      "Train loss: 0.24241: 100%|█████████████████████████████████████████████████████████████| 23/23 [00:00<00:00, 38.60it/s]\n",
      "Train loss: 0.23400:  22%|█████████████▍                                                | 5/23 [00:00<00:00, 44.05it/s]"
     ]
    },
    {
     "name": "stdout",
     "output_type": "stream",
     "text": [
      "Starting epoch: 8 | phase: train | ⏰: 04:41:56 | Learning rate: 0.010000\n"
     ]
    },
    {
     "name": "stderr",
     "output_type": "stream",
     "text": [
      "Train loss: 0.23600: 100%|█████████████████████████████████████████████████████████████| 23/23 [00:00<00:00, 41.40it/s]\n",
      ": 100%|█████████████████████████████████████████████████████████████████████████████████| 3/3 [00:00<00:00, 65.48it/s]\n",
      "Train loss: 0.22340:  13%|████████                                                      | 3/23 [00:00<00:00, 29.98it/s]"
     ]
    },
    {
     "name": "stdout",
     "output_type": "stream",
     "text": [
      "Starting epoch: 8 | phase: valid | ⏰: 04:41:57 \n",
      "Validation loss: 0.26713790992895764\n",
      "Starting epoch: 9 | phase: train | ⏰: 04:41:57 | Learning rate: 0.010000\n"
     ]
    },
    {
     "name": "stderr",
     "output_type": "stream",
     "text": [
      "Train loss: 0.22803: 100%|█████████████████████████████████████████████████████████████| 23/23 [00:00<00:00, 39.84it/s]\n"
     ]
    },
    {
     "name": "stdout",
     "output_type": "stream",
     "text": [
      "============ Test epoch 29 ============\n",
      "Client  0\n"
     ]
    },
    {
     "name": "stderr",
     "output_type": "stream",
     "text": [
      "  0%|                                                                                | 8/14177 [00:00<03:34, 66.07it/s]"
     ]
    },
    {
     "name": "stdout",
     "output_type": "stream",
     "text": [
      "Number of sessions(hdfs_test_normal): 14177\n",
      "Number of sessions(hdfs_test_abnormal): 4123\n"
     ]
    },
    {
     "name": "stderr",
     "output_type": "stream",
     "text": [
      "100%|████████████████████████████████████████████████████████████████████████████| 14177/14177 [04:42<00:00, 50.16it/s]\n",
      "100%|██████████████████████████████████████████████████████████████████████████████| 4123/4123 [00:55<00:00, 74.60it/s]\n"
     ]
    },
    {
     "name": "stdout",
     "output_type": "stream",
     "text": [
      "false positive (FP): 25629, false negative (FN): 427, Precision: 39.037%, Recall: 97.464%, F1-measure: 55.746%\n",
      "actual positive (TP+FN): 16838, actual negative (FP+TN): 553366\n",
      "accuracy: 95.430\n",
      "Finished Predicting\n",
      "elapsed_time: 337.8938193321228\n",
      "============ Train epoch 30 ============\n",
      "Client  0\n",
      "File ../data/hdfs/hdfs_train, number of sessions 4855\n",
      "File ../data/hdfs/hdfs_train, number of seqs 46575\n"
     ]
    },
    {
     "name": "stderr",
     "output_type": "stream",
     "text": [
      "  0%|▎                                                                              | 19/5258 [00:00<00:28, 183.47it/s]"
     ]
    },
    {
     "name": "stdout",
     "output_type": "stream",
     "text": [
      "sampling...\n"
     ]
    },
    {
     "name": "stderr",
     "output_type": "stream",
     "text": [
      "100%|█████████████████████████████████████████████████████████████████████████████| 5258/5258 [00:30<00:00, 173.65it/s]\n"
     ]
    },
    {
     "name": "stdout",
     "output_type": "stream",
     "text": [
      "File ../data/hdfs/hdfs_test_normal, number of sessions 553366\n",
      "File ../data/hdfs/hdfs_test_normal, number of seqs 5258\n",
      "Find 46575 train logs, 5258 validation logs\n",
      "Train batch size 2048 ,Validation batch size 2048\n"
     ]
    },
    {
     "name": "stderr",
     "output_type": "stream",
     "text": [
      "Train loss: 1.31541:   9%|█████▍                                                        | 2/23 [00:00<00:01, 19.38it/s]"
     ]
    },
    {
     "name": "stdout",
     "output_type": "stream",
     "text": [
      "Starting epoch: 0 | phase: train | ⏰: 04:49:00 | Learning rate: 0.000313\n"
     ]
    },
    {
     "name": "stderr",
     "output_type": "stream",
     "text": [
      "Train loss: 0.80681: 100%|█████████████████████████████████████████████████████████████| 23/23 [00:00<00:00, 29.86it/s]\n",
      "Train loss: 0.50472:  22%|█████████████▍                                                | 5/23 [00:00<00:00, 46.80it/s]"
     ]
    },
    {
     "name": "stdout",
     "output_type": "stream",
     "text": [
      "Starting epoch: 1 | phase: train | ⏰: 04:49:01 | Learning rate: 0.000625\n"
     ]
    },
    {
     "name": "stderr",
     "output_type": "stream",
     "text": [
      "Train loss: 0.45453: 100%|█████████████████████████████████████████████████████████████| 23/23 [00:00<00:00, 42.43it/s]\n",
      "Train loss: 0.36072:  22%|█████████████▍                                                | 5/23 [00:00<00:00, 45.12it/s]"
     ]
    },
    {
     "name": "stdout",
     "output_type": "stream",
     "text": [
      "Starting epoch: 2 | phase: train | ⏰: 04:49:01 | Learning rate: 0.001250\n"
     ]
    },
    {
     "name": "stderr",
     "output_type": "stream",
     "text": [
      "Train loss: 0.34869: 100%|█████████████████████████████████████████████████████████████| 23/23 [00:00<00:00, 43.02it/s]\n",
      "Train loss: 0.31353:  22%|█████████████▍                                                | 5/23 [00:00<00:00, 34.17it/s]"
     ]
    },
    {
     "name": "stdout",
     "output_type": "stream",
     "text": [
      "Starting epoch: 3 | phase: train | ⏰: 04:49:02 | Learning rate: 0.002500\n"
     ]
    },
    {
     "name": "stderr",
     "output_type": "stream",
     "text": [
      "Train loss: 0.29570: 100%|█████████████████████████████████████████████████████████████| 23/23 [00:00<00:00, 37.86it/s]\n",
      "Train loss: 0.27558:  17%|██████████▊                                                   | 4/23 [00:00<00:00, 39.73it/s]"
     ]
    },
    {
     "name": "stdout",
     "output_type": "stream",
     "text": [
      "Starting epoch: 4 | phase: train | ⏰: 04:49:03 | Learning rate: 0.005000\n"
     ]
    },
    {
     "name": "stderr",
     "output_type": "stream",
     "text": [
      "Train loss: 0.26719: 100%|█████████████████████████████████████████████████████████████| 23/23 [00:00<00:00, 40.23it/s]\n",
      "Train loss: 0.26646:  22%|█████████████▍                                                | 5/23 [00:00<00:00, 42.37it/s]"
     ]
    },
    {
     "name": "stdout",
     "output_type": "stream",
     "text": [
      "Starting epoch: 5 | phase: train | ⏰: 04:49:03 | Learning rate: 0.010000\n"
     ]
    },
    {
     "name": "stderr",
     "output_type": "stream",
     "text": [
      "Train loss: 0.28541: 100%|█████████████████████████████████████████████████████████████| 23/23 [00:00<00:00, 40.27it/s]\n",
      "Train loss: 0.26418:  17%|██████████▊                                                   | 4/23 [00:00<00:00, 38.07it/s]"
     ]
    },
    {
     "name": "stdout",
     "output_type": "stream",
     "text": [
      "Starting epoch: 6 | phase: train | ⏰: 04:49:04 | Learning rate: 0.010000\n"
     ]
    },
    {
     "name": "stderr",
     "output_type": "stream",
     "text": [
      "Train loss: 0.25587: 100%|█████████████████████████████████████████████████████████████| 23/23 [00:00<00:00, 38.04it/s]\n",
      ": 100%|█████████████████████████████████████████████████████████████████████████████████| 3/3 [00:00<00:00, 61.23it/s]\n",
      "Train loss: 0.23589:  13%|████████                                                      | 3/23 [00:00<00:00, 28.30it/s]"
     ]
    },
    {
     "name": "stdout",
     "output_type": "stream",
     "text": [
      "Starting epoch: 6 | phase: valid | ⏰: 04:49:04 \n",
      "Validation loss: 0.25317362944285077\n",
      "Starting epoch: 7 | phase: train | ⏰: 04:49:04 | Learning rate: 0.010000\n"
     ]
    },
    {
     "name": "stderr",
     "output_type": "stream",
     "text": [
      "Train loss: 0.23678: 100%|█████████████████████████████████████████████████████████████| 23/23 [00:00<00:00, 35.38it/s]\n",
      "Train loss: 0.23251:  22%|█████████████▍                                                | 5/23 [00:00<00:00, 41.32it/s]"
     ]
    },
    {
     "name": "stdout",
     "output_type": "stream",
     "text": [
      "Starting epoch: 8 | phase: train | ⏰: 04:49:05 | Learning rate: 0.010000\n"
     ]
    },
    {
     "name": "stderr",
     "output_type": "stream",
     "text": [
      "Train loss: 0.23035: 100%|█████████████████████████████████████████████████████████████| 23/23 [00:00<00:00, 38.45it/s]\n",
      ": 100%|█████████████████████████████████████████████████████████████████████████████████| 3/3 [00:00<00:00, 57.61it/s]\n",
      "Train loss: 0.21997:  13%|████████                                                      | 3/23 [00:00<00:00, 27.52it/s]"
     ]
    },
    {
     "name": "stdout",
     "output_type": "stream",
     "text": [
      "Starting epoch: 8 | phase: valid | ⏰: 04:49:06 \n",
      "Validation loss: 0.2435601701339086\n",
      "Starting epoch: 9 | phase: train | ⏰: 04:49:06 | Learning rate: 0.010000\n"
     ]
    },
    {
     "name": "stderr",
     "output_type": "stream",
     "text": [
      "Train loss: 0.22555: 100%|█████████████████████████████████████████████████████████████| 23/23 [00:00<00:00, 37.83it/s]\n"
     ]
    },
    {
     "name": "stdout",
     "output_type": "stream",
     "text": [
      "============ Test epoch 30 ============\n",
      "Client  0\n"
     ]
    },
    {
     "name": "stderr",
     "output_type": "stream",
     "text": [
      "\r",
      "  0%|                                                                                        | 0/14177 [00:00<?, ?it/s]"
     ]
    },
    {
     "name": "stdout",
     "output_type": "stream",
     "text": [
      "Number of sessions(hdfs_test_normal): 14177\n",
      "Number of sessions(hdfs_test_abnormal): 4123\n"
     ]
    },
    {
     "name": "stderr",
     "output_type": "stream",
     "text": [
      "100%|████████████████████████████████████████████████████████████████████████████| 14177/14177 [04:36<00:00, 51.21it/s]\n",
      "100%|██████████████████████████████████████████████████████████████████████████████| 4123/4123 [00:58<00:00, 70.85it/s]\n"
     ]
    },
    {
     "name": "stdout",
     "output_type": "stream",
     "text": [
      "false positive (FP): 12070, false negative (FN): 126, Precision: 58.064%, Recall: 99.252%, F1-measure: 73.266%\n",
      "actual positive (TP+FN): 16838, actual negative (FP+TN): 553366\n",
      "accuracy: 97.861\n",
      "Finished Predicting\n",
      "elapsed_time: 335.047260761261\n",
      "============ Train epoch 31 ============\n",
      "Client  0\n",
      "File ../data/hdfs/hdfs_train, number of sessions 4855\n",
      "File ../data/hdfs/hdfs_train, number of seqs 46575\n"
     ]
    },
    {
     "name": "stderr",
     "output_type": "stream",
     "text": [
      "  0%|▎                                                                              | 19/5258 [00:00<00:28, 184.91it/s]"
     ]
    },
    {
     "name": "stdout",
     "output_type": "stream",
     "text": [
      "sampling...\n"
     ]
    },
    {
     "name": "stderr",
     "output_type": "stream",
     "text": [
      "100%|█████████████████████████████████████████████████████████████████████████████| 5258/5258 [00:30<00:00, 171.39it/s]\n"
     ]
    },
    {
     "name": "stdout",
     "output_type": "stream",
     "text": [
      "File ../data/hdfs/hdfs_test_normal, number of sessions 553366\n",
      "File ../data/hdfs/hdfs_test_normal, number of seqs 5258\n",
      "Find 46575 train logs, 5258 validation logs\n",
      "Train batch size 2048 ,Validation batch size 2048\n"
     ]
    },
    {
     "name": "stderr",
     "output_type": "stream",
     "text": [
      "Train loss: 1.00032:  17%|██████████▊                                                   | 4/23 [00:00<00:00, 35.93it/s]"
     ]
    },
    {
     "name": "stdout",
     "output_type": "stream",
     "text": [
      "Starting epoch: 0 | phase: train | ⏰: 04:56:08 | Learning rate: 0.000313\n"
     ]
    },
    {
     "name": "stderr",
     "output_type": "stream",
     "text": [
      "Train loss: 0.72594: 100%|█████████████████████████████████████████████████████████████| 23/23 [00:00<00:00, 40.03it/s]\n",
      "Train loss: 0.47964:  22%|█████████████▍                                                | 5/23 [00:00<00:00, 42.60it/s]"
     ]
    },
    {
     "name": "stdout",
     "output_type": "stream",
     "text": [
      "Starting epoch: 1 | phase: train | ⏰: 04:56:09 | Learning rate: 0.000625\n"
     ]
    },
    {
     "name": "stderr",
     "output_type": "stream",
     "text": [
      "Train loss: 0.44278: 100%|█████████████████████████████████████████████████████████████| 23/23 [00:00<00:00, 39.69it/s]\n",
      "Train loss: 0.35488:  22%|█████████████▍                                                | 5/23 [00:00<00:00, 42.79it/s]"
     ]
    },
    {
     "name": "stdout",
     "output_type": "stream",
     "text": [
      "Starting epoch: 2 | phase: train | ⏰: 04:56:09 | Learning rate: 0.001250\n"
     ]
    },
    {
     "name": "stderr",
     "output_type": "stream",
     "text": [
      "Train loss: 0.34578: 100%|█████████████████████████████████████████████████████████████| 23/23 [00:00<00:00, 40.65it/s]\n",
      "Train loss: 0.44928:  22%|█████████████▍                                                | 5/23 [00:00<00:00, 34.79it/s]"
     ]
    },
    {
     "name": "stdout",
     "output_type": "stream",
     "text": [
      "Starting epoch: 3 | phase: train | ⏰: 04:56:10 | Learning rate: 0.002500\n"
     ]
    },
    {
     "name": "stderr",
     "output_type": "stream",
     "text": [
      "Train loss: 0.36992: 100%|█████████████████████████████████████████████████████████████| 23/23 [00:00<00:00, 38.26it/s]\n",
      "Train loss: 0.28847:  22%|█████████████▍                                                | 5/23 [00:00<00:00, 43.53it/s]"
     ]
    },
    {
     "name": "stdout",
     "output_type": "stream",
     "text": [
      "Starting epoch: 4 | phase: train | ⏰: 04:56:11 | Learning rate: 0.005000\n"
     ]
    },
    {
     "name": "stderr",
     "output_type": "stream",
     "text": [
      "Train loss: 0.27625: 100%|█████████████████████████████████████████████████████████████| 23/23 [00:00<00:00, 42.18it/s]\n",
      "Train loss: 0.25771:  22%|█████████████▍                                                | 5/23 [00:00<00:00, 44.80it/s]"
     ]
    },
    {
     "name": "stdout",
     "output_type": "stream",
     "text": [
      "Starting epoch: 5 | phase: train | ⏰: 04:56:11 | Learning rate: 0.010000\n"
     ]
    },
    {
     "name": "stderr",
     "output_type": "stream",
     "text": [
      "Train loss: 0.26188: 100%|█████████████████████████████████████████████████████████████| 23/23 [00:00<00:00, 39.75it/s]\n",
      "Train loss: 0.27285:  17%|██████████▊                                                   | 4/23 [00:00<00:00, 37.96it/s]"
     ]
    },
    {
     "name": "stdout",
     "output_type": "stream",
     "text": [
      "Starting epoch: 6 | phase: train | ⏰: 04:56:12 | Learning rate: 0.010000\n"
     ]
    },
    {
     "name": "stderr",
     "output_type": "stream",
     "text": [
      "Train loss: 0.25925: 100%|█████████████████████████████████████████████████████████████| 23/23 [00:00<00:00, 38.60it/s]\n",
      ": 100%|█████████████████████████████████████████████████████████████████████████████████| 3/3 [00:00<00:00, 65.03it/s]\n",
      "Train loss: 0.22457:  13%|████████                                                      | 3/23 [00:00<00:00, 26.78it/s]"
     ]
    },
    {
     "name": "stdout",
     "output_type": "stream",
     "text": [
      "Starting epoch: 6 | phase: valid | ⏰: 04:56:12 \n",
      "Validation loss: 0.2586698333422343\n",
      "Starting epoch: 7 | phase: train | ⏰: 04:56:12 | Learning rate: 0.010000\n"
     ]
    },
    {
     "name": "stderr",
     "output_type": "stream",
     "text": [
      "Train loss: 0.23885: 100%|█████████████████████████████████████████████████████████████| 23/23 [00:00<00:00, 37.97it/s]\n",
      "Train loss: 0.22552:  22%|█████████████▍                                                | 5/23 [00:00<00:00, 46.26it/s]"
     ]
    },
    {
     "name": "stdout",
     "output_type": "stream",
     "text": [
      "Starting epoch: 8 | phase: train | ⏰: 04:56:13 | Learning rate: 0.010000\n"
     ]
    },
    {
     "name": "stderr",
     "output_type": "stream",
     "text": [
      "Train loss: 0.23012: 100%|█████████████████████████████████████████████████████████████| 23/23 [00:00<00:00, 41.65it/s]\n",
      ": 100%|█████████████████████████████████████████████████████████████████████████████████| 3/3 [00:00<00:00, 49.18it/s]\n",
      "Train loss: 0.22358:  13%|████████                                                      | 3/23 [00:00<00:00, 28.85it/s]"
     ]
    },
    {
     "name": "stdout",
     "output_type": "stream",
     "text": [
      "Starting epoch: 8 | phase: valid | ⏰: 04:56:14 \n",
      "Validation loss: 0.24488780399163565\n",
      "Starting epoch: 9 | phase: train | ⏰: 04:56:14 | Learning rate: 0.010000\n"
     ]
    },
    {
     "name": "stderr",
     "output_type": "stream",
     "text": [
      "Train loss: 0.22126: 100%|█████████████████████████████████████████████████████████████| 23/23 [00:00<00:00, 38.21it/s]\n"
     ]
    },
    {
     "name": "stdout",
     "output_type": "stream",
     "text": [
      "============ Test epoch 31 ============\n",
      "Client  0\n"
     ]
    },
    {
     "name": "stderr",
     "output_type": "stream",
     "text": [
      "\r",
      "  0%|                                                                                        | 0/14177 [00:00<?, ?it/s]"
     ]
    },
    {
     "name": "stdout",
     "output_type": "stream",
     "text": [
      "Number of sessions(hdfs_test_normal): 14177\n",
      "Number of sessions(hdfs_test_abnormal): 4123\n"
     ]
    },
    {
     "name": "stderr",
     "output_type": "stream",
     "text": [
      "100%|████████████████████████████████████████████████████████████████████████████| 14177/14177 [04:57<00:00, 47.69it/s]\n",
      "100%|██████████████████████████████████████████████████████████████████████████████| 4123/4123 [00:55<00:00, 74.53it/s]\n"
     ]
    },
    {
     "name": "stdout",
     "output_type": "stream",
     "text": [
      "false positive (FP): 37029, false negative (FN): 110, Precision: 31.118%, Recall: 99.347%, F1-measure: 47.391%\n",
      "actual positive (TP+FN): 16838, actual negative (FP+TN): 553366\n",
      "accuracy: 93.487\n",
      "Finished Predicting\n",
      "elapsed_time: 352.60972809791565\n",
      "============ Train epoch 32 ============\n",
      "Client  0\n",
      "File ../data/hdfs/hdfs_train, number of sessions 4855\n",
      "File ../data/hdfs/hdfs_train, number of seqs 46575\n"
     ]
    },
    {
     "name": "stderr",
     "output_type": "stream",
     "text": [
      "  0%|▎                                                                              | 21/5258 [00:00<00:25, 202.50it/s]"
     ]
    },
    {
     "name": "stdout",
     "output_type": "stream",
     "text": [
      "sampling...\n"
     ]
    },
    {
     "name": "stderr",
     "output_type": "stream",
     "text": [
      "100%|█████████████████████████████████████████████████████████████████████████████| 5258/5258 [00:30<00:00, 172.31it/s]\n"
     ]
    },
    {
     "name": "stdout",
     "output_type": "stream",
     "text": [
      "File ../data/hdfs/hdfs_test_normal, number of sessions 553366\n",
      "File ../data/hdfs/hdfs_test_normal, number of seqs 5258\n"
     ]
    },
    {
     "name": "stderr",
     "output_type": "stream",
     "text": [
      "\r",
      "\r",
      ":   0%|                                                                                        | 0/23 [00:00<?, ?it/s]"
     ]
    },
    {
     "name": "stdout",
     "output_type": "stream",
     "text": [
      "Find 46575 train logs, 5258 validation logs\n",
      "Train batch size 2048 ,Validation batch size 2048\n",
      "Starting epoch: 0 | phase: train | ⏰: 05:03:37 | Learning rate: 0.000313\n"
     ]
    },
    {
     "name": "stderr",
     "output_type": "stream",
     "text": [
      "Train loss: 0.77270: 100%|█████████████████████████████████████████████████████████████| 23/23 [00:03<00:00,  5.96it/s]\n",
      "Train loss: 0.51041:  17%|██████████▊                                                   | 4/23 [00:00<00:00, 34.78it/s]"
     ]
    },
    {
     "name": "stdout",
     "output_type": "stream",
     "text": [
      "Starting epoch: 1 | phase: train | ⏰: 05:03:41 | Learning rate: 0.000625\n"
     ]
    },
    {
     "name": "stderr",
     "output_type": "stream",
     "text": [
      "Train loss: 0.45416: 100%|█████████████████████████████████████████████████████████████| 23/23 [00:00<00:00, 34.80it/s]\n",
      "Train loss: 0.37127:  17%|██████████▊                                                   | 4/23 [00:00<00:00, 34.78it/s]"
     ]
    },
    {
     "name": "stdout",
     "output_type": "stream",
     "text": [
      "Starting epoch: 2 | phase: train | ⏰: 05:03:42 | Learning rate: 0.001250\n"
     ]
    },
    {
     "name": "stderr",
     "output_type": "stream",
     "text": [
      "Train loss: 0.35618: 100%|█████████████████████████████████████████████████████████████| 23/23 [00:00<00:00, 34.80it/s]\n",
      "Train loss: 0.32845:  13%|████████                                                      | 3/23 [00:00<00:00, 28.57it/s]"
     ]
    },
    {
     "name": "stdout",
     "output_type": "stream",
     "text": [
      "Starting epoch: 3 | phase: train | ⏰: 05:03:42 | Learning rate: 0.002500\n"
     ]
    },
    {
     "name": "stderr",
     "output_type": "stream",
     "text": [
      "Train loss: 0.30175: 100%|█████████████████████████████████████████████████████████████| 23/23 [00:00<00:00, 31.17it/s]\n",
      "Train loss: 0.27768:  17%|██████████▊                                                   | 4/23 [00:00<00:00, 34.48it/s]"
     ]
    },
    {
     "name": "stdout",
     "output_type": "stream",
     "text": [
      "Starting epoch: 4 | phase: train | ⏰: 05:03:43 | Learning rate: 0.005000\n"
     ]
    },
    {
     "name": "stderr",
     "output_type": "stream",
     "text": [
      "Train loss: 0.27541: 100%|█████████████████████████████████████████████████████████████| 23/23 [00:00<00:00, 34.48it/s]\n",
      "Train loss: 0.27279:  13%|████████                                                      | 3/23 [00:00<00:00, 25.42it/s]"
     ]
    },
    {
     "name": "stdout",
     "output_type": "stream",
     "text": [
      "Starting epoch: 5 | phase: train | ⏰: 05:03:44 | Learning rate: 0.010000\n"
     ]
    },
    {
     "name": "stderr",
     "output_type": "stream",
     "text": [
      "Train loss: 0.26380: 100%|█████████████████████████████████████████████████████████████| 23/23 [00:00<00:00, 33.33it/s]\n",
      "Train loss: 0.25643:  17%|██████████▊                                                   | 4/23 [00:00<00:00, 35.71it/s]"
     ]
    },
    {
     "name": "stdout",
     "output_type": "stream",
     "text": [
      "Starting epoch: 6 | phase: train | ⏰: 05:03:44 | Learning rate: 0.010000\n"
     ]
    },
    {
     "name": "stderr",
     "output_type": "stream",
     "text": [
      "Train loss: 0.25334: 100%|█████████████████████████████████████████████████████████████| 23/23 [00:00<00:00, 34.02it/s]\n",
      ": 100%|█████████████████████████████████████████████████████████████████████████████████| 3/3 [00:00<00:00, 16.76it/s]"
     ]
    },
    {
     "name": "stdout",
     "output_type": "stream",
     "text": [
      "Starting epoch: 6 | phase: valid | ⏰: 05:03:45 \n"
     ]
    },
    {
     "name": "stderr",
     "output_type": "stream",
     "text": [
      ": 100%|█████████████████████████████████████████████████████████████████████████████████| 3/3 [00:00<00:00, 16.67it/s]\n",
      "Train loss: 0.23767:   9%|█████▍                                                        | 2/23 [00:00<00:01, 19.42it/s]"
     ]
    },
    {
     "name": "stdout",
     "output_type": "stream",
     "text": [
      "Validation loss: 0.24667035539944968\n",
      "Starting epoch: 7 | phase: train | ⏰: 05:03:45 | Learning rate: 0.010000\n"
     ]
    },
    {
     "name": "stderr",
     "output_type": "stream",
     "text": [
      "Train loss: 0.23671: 100%|█████████████████████████████████████████████████████████████| 23/23 [00:00<00:00, 32.44it/s]\n",
      "Train loss: 0.23350:  17%|██████████▊                                                   | 4/23 [00:00<00:00, 34.48it/s]"
     ]
    },
    {
     "name": "stdout",
     "output_type": "stream",
     "text": [
      "Starting epoch: 8 | phase: train | ⏰: 05:03:46 | Learning rate: 0.010000\n"
     ]
    },
    {
     "name": "stderr",
     "output_type": "stream",
     "text": [
      "Train loss: 0.22823: 100%|█████████████████████████████████████████████████████████████| 23/23 [00:00<00:00, 34.38it/s]\n",
      ": 100%|█████████████████████████████████████████████████████████████████████████████████| 3/3 [00:00<00:00, 52.63it/s]\n",
      "Train loss: 0.21910:   0%|                                                                      | 0/23 [00:00<?, ?it/s]"
     ]
    },
    {
     "name": "stdout",
     "output_type": "stream",
     "text": [
      "Starting epoch: 8 | phase: valid | ⏰: 05:03:47 \n",
      "Validation loss: 0.2331647127866745\n",
      "Starting epoch: 9 | phase: train | ⏰: 05:03:47 | Learning rate: 0.010000\n"
     ]
    },
    {
     "name": "stderr",
     "output_type": "stream",
     "text": [
      "Train loss: 0.22024: 100%|█████████████████████████████████████████████████████████████| 23/23 [00:00<00:00, 33.29it/s]\n"
     ]
    },
    {
     "name": "stdout",
     "output_type": "stream",
     "text": [
      "============ Test epoch 32 ============\n",
      "Client  0\n"
     ]
    },
    {
     "name": "stderr",
     "output_type": "stream",
     "text": [
      "\r",
      "  0%|                                                                                        | 0/14177 [00:00<?, ?it/s]"
     ]
    },
    {
     "name": "stdout",
     "output_type": "stream",
     "text": [
      "Number of sessions(hdfs_test_normal): 14177\n",
      "Number of sessions(hdfs_test_abnormal): 4123\n"
     ]
    },
    {
     "name": "stderr",
     "output_type": "stream",
     "text": [
      "100%|████████████████████████████████████████████████████████████████████████████| 14177/14177 [04:41<00:00, 50.35it/s]\n",
      "100%|██████████████████████████████████████████████████████████████████████████████| 4123/4123 [00:50<00:00, 81.25it/s]\n"
     ]
    },
    {
     "name": "stdout",
     "output_type": "stream",
     "text": [
      "false positive (FP): 59147, false negative (FN): 87, Precision: 22.070%, Recall: 99.483%, F1-measure: 36.126%\n",
      "actual positive (TP+FN): 16838, actual negative (FP+TN): 553366\n",
      "accuracy: 89.612\n",
      "Finished Predicting\n",
      "elapsed_time: 332.3257648944855\n",
      "============ Train epoch 33 ============\n",
      "Client  0\n",
      "File ../data/hdfs/hdfs_train, number of sessions 4855\n",
      "File ../data/hdfs/hdfs_train, number of seqs 46575\n"
     ]
    },
    {
     "name": "stderr",
     "output_type": "stream",
     "text": [
      "  0%|▎                                                                              | 18/5258 [00:00<00:30, 170.44it/s]"
     ]
    },
    {
     "name": "stdout",
     "output_type": "stream",
     "text": [
      "sampling...\n"
     ]
    },
    {
     "name": "stderr",
     "output_type": "stream",
     "text": [
      "100%|█████████████████████████████████████████████████████████████████████████████| 5258/5258 [00:30<00:00, 171.32it/s]\n"
     ]
    },
    {
     "name": "stdout",
     "output_type": "stream",
     "text": [
      "File ../data/hdfs/hdfs_test_normal, number of sessions 553366\n",
      "File ../data/hdfs/hdfs_test_normal, number of seqs 5258\n",
      "Find 46575 train logs, 5258 validation logs\n",
      "Train batch size 2048 ,Validation batch size 2048\n"
     ]
    },
    {
     "name": "stderr",
     "output_type": "stream",
     "text": [
      "Train loss: 1.00396:  17%|██████████▊                                                   | 4/23 [00:00<00:00, 39.32it/s]"
     ]
    },
    {
     "name": "stdout",
     "output_type": "stream",
     "text": [
      "Starting epoch: 0 | phase: train | ⏰: 05:10:48 | Learning rate: 0.000313\n"
     ]
    },
    {
     "name": "stderr",
     "output_type": "stream",
     "text": [
      "Train loss: 0.76632: 100%|█████████████████████████████████████████████████████████████| 23/23 [00:00<00:00, 40.56it/s]\n",
      "Train loss: 0.51590:  22%|█████████████▍                                                | 5/23 [00:00<00:00, 44.30it/s]"
     ]
    },
    {
     "name": "stdout",
     "output_type": "stream",
     "text": [
      "Starting epoch: 1 | phase: train | ⏰: 05:10:48 | Learning rate: 0.000625\n"
     ]
    },
    {
     "name": "stderr",
     "output_type": "stream",
     "text": [
      "Train loss: 0.46883: 100%|█████████████████████████████████████████████████████████████| 23/23 [00:00<00:00, 41.84it/s]\n",
      "Train loss: 0.39402:  22%|█████████████▍                                                | 5/23 [00:00<00:00, 47.19it/s]"
     ]
    },
    {
     "name": "stdout",
     "output_type": "stream",
     "text": [
      "Starting epoch: 2 | phase: train | ⏰: 05:10:49 | Learning rate: 0.001250\n"
     ]
    },
    {
     "name": "stderr",
     "output_type": "stream",
     "text": [
      "Train loss: 0.36442: 100%|█████████████████████████████████████████████████████████████| 23/23 [00:00<00:00, 42.03it/s]\n",
      "Train loss: 0.32109:  22%|█████████████▍                                                | 5/23 [00:00<00:00, 34.55it/s]"
     ]
    },
    {
     "name": "stdout",
     "output_type": "stream",
     "text": [
      "Starting epoch: 3 | phase: train | ⏰: 05:10:49 | Learning rate: 0.002500\n"
     ]
    },
    {
     "name": "stderr",
     "output_type": "stream",
     "text": [
      "Train loss: 0.30559: 100%|█████████████████████████████████████████████████████████████| 23/23 [00:00<00:00, 40.19it/s]\n",
      "Train loss: 0.27548:  22%|█████████████▍                                                | 5/23 [00:00<00:00, 45.05it/s]"
     ]
    },
    {
     "name": "stdout",
     "output_type": "stream",
     "text": [
      "Starting epoch: 4 | phase: train | ⏰: 05:10:50 | Learning rate: 0.005000\n"
     ]
    },
    {
     "name": "stderr",
     "output_type": "stream",
     "text": [
      "Train loss: 0.27006: 100%|█████████████████████████████████████████████████████████████| 23/23 [00:00<00:00, 42.47it/s]\n",
      "Train loss: 0.25602:  22%|█████████████▍                                                | 5/23 [00:00<00:00, 45.72it/s]"
     ]
    },
    {
     "name": "stdout",
     "output_type": "stream",
     "text": [
      "Starting epoch: 5 | phase: train | ⏰: 05:10:50 | Learning rate: 0.010000\n"
     ]
    },
    {
     "name": "stderr",
     "output_type": "stream",
     "text": [
      "Train loss: 0.26319: 100%|█████████████████████████████████████████████████████████████| 23/23 [00:00<00:00, 41.27it/s]\n",
      "Train loss: 0.26555:  22%|█████████████▍                                                | 5/23 [00:00<00:00, 47.25it/s]"
     ]
    },
    {
     "name": "stdout",
     "output_type": "stream",
     "text": [
      "Starting epoch: 6 | phase: train | ⏰: 05:10:51 | Learning rate: 0.010000\n"
     ]
    },
    {
     "name": "stderr",
     "output_type": "stream",
     "text": [
      "Train loss: 0.25784: 100%|█████████████████████████████████████████████████████████████| 23/23 [00:00<00:00, 41.08it/s]\n",
      ": 100%|█████████████████████████████████████████████████████████████████████████████████| 3/3 [00:00<00:00, 58.82it/s]\n",
      "Train loss: 0.23536:  13%|████████                                                      | 3/23 [00:00<00:00, 28.61it/s]"
     ]
    },
    {
     "name": "stdout",
     "output_type": "stream",
     "text": [
      "Starting epoch: 6 | phase: valid | ⏰: 05:10:51 \n",
      "Validation loss: 0.2812369217475255\n",
      "Starting epoch: 7 | phase: train | ⏰: 05:10:51 | Learning rate: 0.010000\n"
     ]
    },
    {
     "name": "stderr",
     "output_type": "stream",
     "text": [
      "Train loss: 0.23774: 100%|█████████████████████████████████████████████████████████████| 23/23 [00:00<00:00, 38.88it/s]\n",
      "Train loss: 0.22114:  22%|█████████████▍                                                | 5/23 [00:00<00:00, 42.78it/s]"
     ]
    },
    {
     "name": "stdout",
     "output_type": "stream",
     "text": [
      "Starting epoch: 8 | phase: train | ⏰: 05:10:52 | Learning rate: 0.010000\n"
     ]
    },
    {
     "name": "stderr",
     "output_type": "stream",
     "text": [
      "Train loss: 0.22614: 100%|█████████████████████████████████████████████████████████████| 23/23 [00:00<00:00, 41.08it/s]\n",
      ": 100%|█████████████████████████████████████████████████████████████████████████████████| 3/3 [00:00<00:00, 61.22it/s]\n",
      "Train loss: 0.21543:  13%|████████                                                      | 3/23 [00:00<00:00, 28.84it/s]"
     ]
    },
    {
     "name": "stdout",
     "output_type": "stream",
     "text": [
      "Starting epoch: 8 | phase: valid | ⏰: 05:10:53 \n",
      "Validation loss: 0.2593577802181244\n",
      "Starting epoch: 9 | phase: train | ⏰: 05:10:53 | Learning rate: 0.010000\n"
     ]
    },
    {
     "name": "stderr",
     "output_type": "stream",
     "text": [
      "Train loss: 0.22005: 100%|█████████████████████████████████████████████████████████████| 23/23 [00:00<00:00, 39.08it/s]\n"
     ]
    },
    {
     "name": "stdout",
     "output_type": "stream",
     "text": [
      "============ Test epoch 33 ============\n",
      "Client  0\n"
     ]
    },
    {
     "name": "stderr",
     "output_type": "stream",
     "text": [
      "  0%|                                                                                | 8/14177 [00:00<03:20, 70.77it/s]"
     ]
    },
    {
     "name": "stdout",
     "output_type": "stream",
     "text": [
      "Number of sessions(hdfs_test_normal): 14177\n",
      "Number of sessions(hdfs_test_abnormal): 4123\n"
     ]
    },
    {
     "name": "stderr",
     "output_type": "stream",
     "text": [
      "100%|████████████████████████████████████████████████████████████████████████████| 14177/14177 [05:14<00:00, 45.08it/s]\n",
      "100%|█████████████████████████████████████████████████████████████████████████████| 4123/4123 [00:30<00:00, 133.50it/s]\n"
     ]
    },
    {
     "name": "stdout",
     "output_type": "stream",
     "text": [
      "false positive (FP): 232858, false negative (FN): 138, Precision: 6.692%, Recall: 99.180%, F1-measure: 12.538%\n",
      "actual positive (TP+FN): 16838, actual negative (FP+TN): 553366\n",
      "accuracy: 59.138\n",
      "Finished Predicting\n",
      "elapsed_time: 345.3639931678772\n",
      "============ Train epoch 34 ============\n",
      "Client  0\n",
      "File ../data/hdfs/hdfs_train, number of sessions 4855\n",
      "File ../data/hdfs/hdfs_train, number of seqs 46575\n"
     ]
    },
    {
     "name": "stderr",
     "output_type": "stream",
     "text": [
      "  0%|▎                                                                              | 18/5258 [00:00<00:29, 175.16it/s]"
     ]
    },
    {
     "name": "stdout",
     "output_type": "stream",
     "text": [
      "sampling...\n"
     ]
    },
    {
     "name": "stderr",
     "output_type": "stream",
     "text": [
      "100%|█████████████████████████████████████████████████████████████████████████████| 5258/5258 [00:31<00:00, 165.30it/s]\n"
     ]
    },
    {
     "name": "stdout",
     "output_type": "stream",
     "text": [
      "File ../data/hdfs/hdfs_test_normal, number of sessions 553366\n",
      "File ../data/hdfs/hdfs_test_normal, number of seqs 5258\n",
      "Find 46575 train logs, 5258 validation logs\n",
      "Train batch size 2048 ,Validation batch size 2048\n"
     ]
    },
    {
     "name": "stderr",
     "output_type": "stream",
     "text": [
      "Train loss: 1.45260:  17%|██████████▊                                                   | 4/23 [00:00<00:00, 38.22it/s]"
     ]
    },
    {
     "name": "stdout",
     "output_type": "stream",
     "text": [
      "Starting epoch: 0 | phase: train | ⏰: 05:18:15 | Learning rate: 0.000313\n"
     ]
    },
    {
     "name": "stderr",
     "output_type": "stream",
     "text": [
      "Train loss: 0.95491: 100%|█████████████████████████████████████████████████████████████| 23/23 [00:00<00:00, 38.76it/s]\n",
      "Train loss: 0.54953:  22%|█████████████▍                                                | 5/23 [00:00<00:00, 41.40it/s]"
     ]
    },
    {
     "name": "stdout",
     "output_type": "stream",
     "text": [
      "Starting epoch: 1 | phase: train | ⏰: 05:18:16 | Learning rate: 0.000625\n"
     ]
    },
    {
     "name": "stderr",
     "output_type": "stream",
     "text": [
      "Train loss: 0.48953: 100%|█████████████████████████████████████████████████████████████| 23/23 [00:00<00:00, 40.89it/s]\n",
      "Train loss: 0.39007:  22%|█████████████▍                                                | 5/23 [00:00<00:00, 47.23it/s]"
     ]
    },
    {
     "name": "stdout",
     "output_type": "stream",
     "text": [
      "Starting epoch: 2 | phase: train | ⏰: 05:18:16 | Learning rate: 0.001250\n"
     ]
    },
    {
     "name": "stderr",
     "output_type": "stream",
     "text": [
      "Train loss: 0.35948: 100%|█████████████████████████████████████████████████████████████| 23/23 [00:00<00:00, 41.45it/s]\n",
      "Train loss: 0.31486:  17%|██████████▊                                                   | 4/23 [00:00<00:00, 38.95it/s]"
     ]
    },
    {
     "name": "stdout",
     "output_type": "stream",
     "text": [
      "Starting epoch: 3 | phase: train | ⏰: 05:18:17 | Learning rate: 0.002500\n"
     ]
    },
    {
     "name": "stderr",
     "output_type": "stream",
     "text": [
      "Train loss: 0.29887: 100%|█████████████████████████████████████████████████████████████| 23/23 [00:00<00:00, 38.48it/s]\n",
      "Train loss: 0.26938:  22%|█████████████▍                                                | 5/23 [00:00<00:00, 45.96it/s]"
     ]
    },
    {
     "name": "stdout",
     "output_type": "stream",
     "text": [
      "Starting epoch: 4 | phase: train | ⏰: 05:18:18 | Learning rate: 0.005000\n"
     ]
    },
    {
     "name": "stderr",
     "output_type": "stream",
     "text": [
      "Train loss: 0.27028: 100%|█████████████████████████████████████████████████████████████| 23/23 [00:00<00:00, 42.15it/s]\n",
      "Train loss: 0.26767:  22%|█████████████▍                                                | 5/23 [00:00<00:00, 41.72it/s]"
     ]
    },
    {
     "name": "stdout",
     "output_type": "stream",
     "text": [
      "Starting epoch: 5 | phase: train | ⏰: 05:18:18 | Learning rate: 0.010000\n"
     ]
    },
    {
     "name": "stderr",
     "output_type": "stream",
     "text": [
      "Train loss: 0.26711: 100%|█████████████████████████████████████████████████████████████| 23/23 [00:00<00:00, 41.41it/s]\n",
      "Train loss: 0.26084:  22%|█████████████▍                                                | 5/23 [00:00<00:00, 43.23it/s]"
     ]
    },
    {
     "name": "stdout",
     "output_type": "stream",
     "text": [
      "Starting epoch: 6 | phase: train | ⏰: 05:18:19 | Learning rate: 0.010000\n"
     ]
    },
    {
     "name": "stderr",
     "output_type": "stream",
     "text": [
      "Train loss: 0.25289: 100%|█████████████████████████████████████████████████████████████| 23/23 [00:00<00:00, 39.65it/s]\n",
      ": 100%|█████████████████████████████████████████████████████████████████████████████████| 3/3 [00:00<00:00, 52.38it/s]\n",
      "Train loss: 0.24011:  13%|████████                                                      | 3/23 [00:00<00:00, 29.20it/s]"
     ]
    },
    {
     "name": "stdout",
     "output_type": "stream",
     "text": [
      "Starting epoch: 6 | phase: valid | ⏰: 05:18:19 \n",
      "Validation loss: 0.26605777939160663\n",
      "Starting epoch: 7 | phase: train | ⏰: 05:18:19 | Learning rate: 0.010000\n"
     ]
    },
    {
     "name": "stderr",
     "output_type": "stream",
     "text": [
      "Train loss: 0.23996: 100%|█████████████████████████████████████████████████████████████| 23/23 [00:00<00:00, 38.39it/s]\n",
      "Train loss: 0.22694:  17%|██████████▊                                                   | 4/23 [00:00<00:00, 38.44it/s]"
     ]
    },
    {
     "name": "stdout",
     "output_type": "stream",
     "text": [
      "Starting epoch: 8 | phase: train | ⏰: 05:18:20 | Learning rate: 0.010000\n"
     ]
    },
    {
     "name": "stderr",
     "output_type": "stream",
     "text": [
      "Train loss: 0.22891: 100%|█████████████████████████████████████████████████████████████| 23/23 [00:00<00:00, 39.72it/s]\n",
      ": 100%|█████████████████████████████████████████████████████████████████████████████████| 3/3 [00:00<00:00, 65.22it/s]\n",
      "Train loss: 0.23351:  13%|████████                                                      | 3/23 [00:00<00:00, 27.52it/s]"
     ]
    },
    {
     "name": "stdout",
     "output_type": "stream",
     "text": [
      "Starting epoch: 8 | phase: valid | ⏰: 05:18:20 \n",
      "Validation loss: 0.2482959826787313\n",
      "Starting epoch: 9 | phase: train | ⏰: 05:18:21 | Learning rate: 0.010000\n"
     ]
    },
    {
     "name": "stderr",
     "output_type": "stream",
     "text": [
      "Train loss: 0.22306: 100%|█████████████████████████████████████████████████████████████| 23/23 [00:00<00:00, 38.59it/s]\n"
     ]
    },
    {
     "name": "stdout",
     "output_type": "stream",
     "text": [
      "============ Test epoch 34 ============\n",
      "Client  0\n"
     ]
    },
    {
     "name": "stderr",
     "output_type": "stream",
     "text": [
      "\r",
      "  0%|                                                                                        | 0/14177 [00:00<?, ?it/s]"
     ]
    },
    {
     "name": "stdout",
     "output_type": "stream",
     "text": [
      "Number of sessions(hdfs_test_normal): 14177\n",
      "Number of sessions(hdfs_test_abnormal): 4123\n"
     ]
    },
    {
     "name": "stderr",
     "output_type": "stream",
     "text": [
      "100%|████████████████████████████████████████████████████████████████████████████| 14177/14177 [04:59<00:00, 47.32it/s]\n",
      "100%|██████████████████████████████████████████████████████████████████████████████| 4123/4123 [00:53<00:00, 76.62it/s]\n"
     ]
    },
    {
     "name": "stdout",
     "output_type": "stream",
     "text": [
      "false positive (FP): 42149, false negative (FN): 141, Precision: 28.374%, Recall: 99.163%, F1-measure: 44.123%\n",
      "actual positive (TP+FN): 16838, actual negative (FP+TN): 553366\n",
      "accuracy: 92.583\n",
      "Finished Predicting\n",
      "elapsed_time: 353.4117419719696\n",
      "============ Train epoch 35 ============\n",
      "Client  0\n",
      "File ../data/hdfs/hdfs_train, number of sessions 4855\n",
      "File ../data/hdfs/hdfs_train, number of seqs 46575\n"
     ]
    },
    {
     "name": "stderr",
     "output_type": "stream",
     "text": [
      "  0%|▎                                                                              | 18/5258 [00:00<00:29, 179.11it/s]"
     ]
    },
    {
     "name": "stdout",
     "output_type": "stream",
     "text": [
      "sampling...\n"
     ]
    },
    {
     "name": "stderr",
     "output_type": "stream",
     "text": [
      "100%|█████████████████████████████████████████████████████████████████████████████| 5258/5258 [00:30<00:00, 173.38it/s]\n"
     ]
    },
    {
     "name": "stdout",
     "output_type": "stream",
     "text": [
      "File ../data/hdfs/hdfs_test_normal, number of sessions 553366\n",
      "File ../data/hdfs/hdfs_test_normal, number of seqs 5258\n",
      "Find 46575 train logs, 5258 validation logs\n",
      "Train batch size 2048 ,Validation batch size 2048\n"
     ]
    },
    {
     "name": "stderr",
     "output_type": "stream",
     "text": [
      "Train loss: 1.38791:  22%|█████████████▍                                                | 5/23 [00:00<00:00, 43.02it/s]"
     ]
    },
    {
     "name": "stdout",
     "output_type": "stream",
     "text": [
      "Starting epoch: 0 | phase: train | ⏰: 05:25:43 | Learning rate: 0.000313\n"
     ]
    },
    {
     "name": "stderr",
     "output_type": "stream",
     "text": [
      "Train loss: 0.96843: 100%|█████████████████████████████████████████████████████████████| 23/23 [00:00<00:00, 40.64it/s]\n",
      "Train loss: 0.55641:  17%|██████████▊                                                   | 4/23 [00:00<00:00, 38.57it/s]"
     ]
    },
    {
     "name": "stdout",
     "output_type": "stream",
     "text": [
      "Starting epoch: 1 | phase: train | ⏰: 05:25:43 | Learning rate: 0.000625\n"
     ]
    },
    {
     "name": "stderr",
     "output_type": "stream",
     "text": [
      "Train loss: 0.46052: 100%|█████████████████████████████████████████████████████████████| 23/23 [00:00<00:00, 41.11it/s]\n",
      "Train loss: 0.36586:  22%|█████████████▍                                                | 5/23 [00:00<00:00, 43.63it/s]"
     ]
    },
    {
     "name": "stdout",
     "output_type": "stream",
     "text": [
      "Starting epoch: 2 | phase: train | ⏰: 05:25:44 | Learning rate: 0.001250\n"
     ]
    },
    {
     "name": "stderr",
     "output_type": "stream",
     "text": [
      "Train loss: 0.34174: 100%|█████████████████████████████████████████████████████████████| 23/23 [00:00<00:00, 40.68it/s]\n",
      "Train loss: 0.30560:  22%|█████████████▍                                                | 5/23 [00:00<00:00, 34.73it/s]"
     ]
    },
    {
     "name": "stdout",
     "output_type": "stream",
     "text": [
      "Starting epoch: 3 | phase: train | ⏰: 05:25:45 | Learning rate: 0.002500\n"
     ]
    },
    {
     "name": "stderr",
     "output_type": "stream",
     "text": [
      "Train loss: 0.29540: 100%|█████████████████████████████████████████████████████████████| 23/23 [00:00<00:00, 39.78it/s]\n",
      "Train loss: 0.27785:  17%|██████████▊                                                   | 4/23 [00:00<00:00, 39.22it/s]"
     ]
    },
    {
     "name": "stdout",
     "output_type": "stream",
     "text": [
      "Starting epoch: 4 | phase: train | ⏰: 05:25:45 | Learning rate: 0.005000\n"
     ]
    },
    {
     "name": "stderr",
     "output_type": "stream",
     "text": [
      "Train loss: 0.26602: 100%|█████████████████████████████████████████████████████████████| 23/23 [00:00<00:00, 40.49it/s]\n",
      "Train loss: 0.24509:  22%|█████████████▍                                                | 5/23 [00:00<00:00, 44.79it/s]"
     ]
    },
    {
     "name": "stdout",
     "output_type": "stream",
     "text": [
      "Starting epoch: 5 | phase: train | ⏰: 05:25:46 | Learning rate: 0.010000\n"
     ]
    },
    {
     "name": "stderr",
     "output_type": "stream",
     "text": [
      "Train loss: 0.25598: 100%|█████████████████████████████████████████████████████████████| 23/23 [00:00<00:00, 42.58it/s]\n",
      "Train loss: 0.24548:  22%|█████████████▍                                                | 5/23 [00:00<00:00, 42.37it/s]"
     ]
    },
    {
     "name": "stdout",
     "output_type": "stream",
     "text": [
      "Starting epoch: 6 | phase: train | ⏰: 05:25:46 | Learning rate: 0.010000\n"
     ]
    },
    {
     "name": "stderr",
     "output_type": "stream",
     "text": [
      "Train loss: 0.24849: 100%|█████████████████████████████████████████████████████████████| 23/23 [00:00<00:00, 41.08it/s]\n",
      ": 100%|█████████████████████████████████████████████████████████████████████████████████| 3/3 [00:00<00:00, 64.14it/s]\n",
      "Train loss: 0.23713:  17%|██████████▊                                                   | 4/23 [00:00<00:00, 33.60it/s]"
     ]
    },
    {
     "name": "stdout",
     "output_type": "stream",
     "text": [
      "Starting epoch: 6 | phase: valid | ⏰: 05:25:47 \n",
      "Validation loss: 0.2566168854633967\n",
      "Starting epoch: 7 | phase: train | ⏰: 05:25:47 | Learning rate: 0.010000\n"
     ]
    },
    {
     "name": "stderr",
     "output_type": "stream",
     "text": [
      "Train loss: 0.24132: 100%|█████████████████████████████████████████████████████████████| 23/23 [00:00<00:00, 40.52it/s]\n",
      "Train loss: 0.22849:  22%|█████████████▍                                                | 5/23 [00:00<00:00, 44.48it/s]"
     ]
    },
    {
     "name": "stdout",
     "output_type": "stream",
     "text": [
      "Starting epoch: 8 | phase: train | ⏰: 05:25:47 | Learning rate: 0.010000\n"
     ]
    },
    {
     "name": "stderr",
     "output_type": "stream",
     "text": [
      "Train loss: 0.23043: 100%|█████████████████████████████████████████████████████████████| 23/23 [00:00<00:00, 42.67it/s]\n",
      ": 100%|█████████████████████████████████████████████████████████████████████████████████| 3/3 [00:00<00:00, 68.18it/s]\n",
      "Train loss: 0.22444:  17%|██████████▊                                                   | 4/23 [00:00<00:00, 33.92it/s]"
     ]
    },
    {
     "name": "stdout",
     "output_type": "stream",
     "text": [
      "Starting epoch: 8 | phase: valid | ⏰: 05:25:48 \n",
      "Validation loss: 0.25072116653124493\n",
      "Starting epoch: 9 | phase: train | ⏰: 05:25:48 | Learning rate: 0.010000\n"
     ]
    },
    {
     "name": "stderr",
     "output_type": "stream",
     "text": [
      "Train loss: 0.22774: 100%|█████████████████████████████████████████████████████████████| 23/23 [00:00<00:00, 41.25it/s]\n"
     ]
    },
    {
     "name": "stdout",
     "output_type": "stream",
     "text": [
      "============ Test epoch 35 ============\n",
      "Client  0\n"
     ]
    },
    {
     "name": "stderr",
     "output_type": "stream",
     "text": [
      "  0%|                                                                                | 9/14177 [00:00<02:37, 89.93it/s]"
     ]
    },
    {
     "name": "stdout",
     "output_type": "stream",
     "text": [
      "Number of sessions(hdfs_test_normal): 14177\n",
      "Number of sessions(hdfs_test_abnormal): 4123\n"
     ]
    },
    {
     "name": "stderr",
     "output_type": "stream",
     "text": [
      "100%|████████████████████████████████████████████████████████████████████████████| 14177/14177 [04:50<00:00, 48.87it/s]\n",
      "100%|█████████████████████████████████████████████████████████████████████████████| 4123/4123 [00:25<00:00, 162.18it/s]\n"
     ]
    },
    {
     "name": "stdout",
     "output_type": "stream",
     "text": [
      "false positive (FP): 9549, false negative (FN): 298, Precision: 63.398%, Recall: 98.230%, F1-measure: 77.061%\n",
      "actual positive (TP+FN): 16838, actual negative (FP+TN): 553366\n",
      "accuracy: 98.273\n",
      "Finished Predicting\n",
      "elapsed_time: 315.4947667121887\n",
      "============ Train epoch 36 ============\n",
      "Client  0\n",
      "File ../data/hdfs/hdfs_train, number of sessions 4855\n",
      "File ../data/hdfs/hdfs_train, number of seqs 46575\n"
     ]
    },
    {
     "name": "stderr",
     "output_type": "stream",
     "text": [
      "  1%|▍                                                                              | 29/5258 [00:00<00:36, 141.38it/s]"
     ]
    },
    {
     "name": "stdout",
     "output_type": "stream",
     "text": [
      "sampling...\n"
     ]
    },
    {
     "name": "stderr",
     "output_type": "stream",
     "text": [
      "100%|█████████████████████████████████████████████████████████████████████████████| 5258/5258 [00:30<00:00, 171.28it/s]\n"
     ]
    },
    {
     "name": "stdout",
     "output_type": "stream",
     "text": [
      "File ../data/hdfs/hdfs_test_normal, number of sessions 553366\n",
      "File ../data/hdfs/hdfs_test_normal, number of seqs 5258\n",
      "Find 46575 train logs, 5258 validation logs\n",
      "Train batch size 2048 ,Validation batch size 2048\n"
     ]
    },
    {
     "name": "stderr",
     "output_type": "stream",
     "text": [
      "Train loss: 1.12587:  22%|█████████████▍                                                | 5/23 [00:00<00:00, 44.35it/s]"
     ]
    },
    {
     "name": "stdout",
     "output_type": "stream",
     "text": [
      "Starting epoch: 0 | phase: train | ⏰: 05:32:32 | Learning rate: 0.000313\n"
     ]
    },
    {
     "name": "stderr",
     "output_type": "stream",
     "text": [
      "Train loss: 0.87379: 100%|█████████████████████████████████████████████████████████████| 23/23 [00:00<00:00, 40.88it/s]\n",
      "Train loss: 0.49829:  22%|█████████████▍                                                | 5/23 [00:00<00:00, 41.78it/s]"
     ]
    },
    {
     "name": "stdout",
     "output_type": "stream",
     "text": [
      "Starting epoch: 1 | phase: train | ⏰: 05:32:32 | Learning rate: 0.000625\n"
     ]
    },
    {
     "name": "stderr",
     "output_type": "stream",
     "text": [
      "Train loss: 0.43248: 100%|█████████████████████████████████████████████████████████████| 23/23 [00:00<00:00, 39.20it/s]\n",
      "Train loss: 0.35739:  17%|██████████▊                                                   | 4/23 [00:00<00:00, 39.17it/s]"
     ]
    },
    {
     "name": "stdout",
     "output_type": "stream",
     "text": [
      "Starting epoch: 2 | phase: train | ⏰: 05:32:33 | Learning rate: 0.001250\n"
     ]
    },
    {
     "name": "stderr",
     "output_type": "stream",
     "text": [
      "Train loss: 0.34252: 100%|█████████████████████████████████████████████████████████████| 23/23 [00:00<00:00, 41.85it/s]\n",
      "Train loss: 0.30353:  22%|█████████████▍                                                | 5/23 [00:00<00:00, 34.14it/s]"
     ]
    },
    {
     "name": "stdout",
     "output_type": "stream",
     "text": [
      "Starting epoch: 3 | phase: train | ⏰: 05:32:33 | Learning rate: 0.002500\n"
     ]
    },
    {
     "name": "stderr",
     "output_type": "stream",
     "text": [
      "Train loss: 0.29727: 100%|█████████████████████████████████████████████████████████████| 23/23 [00:00<00:00, 39.00it/s]\n",
      "Train loss: 0.27377:  22%|█████████████▍                                                | 5/23 [00:00<00:00, 42.87it/s]"
     ]
    },
    {
     "name": "stdout",
     "output_type": "stream",
     "text": [
      "Starting epoch: 4 | phase: train | ⏰: 05:32:34 | Learning rate: 0.005000\n"
     ]
    },
    {
     "name": "stderr",
     "output_type": "stream",
     "text": [
      "Train loss: 0.26884: 100%|█████████████████████████████████████████████████████████████| 23/23 [00:00<00:00, 42.19it/s]\n",
      "Train loss: 0.26189:  22%|█████████████▍                                                | 5/23 [00:00<00:00, 42.78it/s]"
     ]
    },
    {
     "name": "stdout",
     "output_type": "stream",
     "text": [
      "Starting epoch: 5 | phase: train | ⏰: 05:32:35 | Learning rate: 0.010000\n"
     ]
    },
    {
     "name": "stderr",
     "output_type": "stream",
     "text": [
      "Train loss: 0.26973: 100%|█████████████████████████████████████████████████████████████| 23/23 [00:00<00:00, 42.16it/s]\n",
      "Train loss: 0.25809:  22%|█████████████▍                                                | 5/23 [00:00<00:00, 47.15it/s]"
     ]
    },
    {
     "name": "stdout",
     "output_type": "stream",
     "text": [
      "Starting epoch: 6 | phase: train | ⏰: 05:32:35 | Learning rate: 0.010000\n"
     ]
    },
    {
     "name": "stderr",
     "output_type": "stream",
     "text": [
      "Train loss: 0.25699: 100%|█████████████████████████████████████████████████████████████| 23/23 [00:00<00:00, 42.06it/s]\n",
      ": 100%|█████████████████████████████████████████████████████████████████████████████████| 3/3 [00:00<00:00, 66.51it/s]\n",
      "Train loss: 0.25611:  17%|██████████▊                                                   | 4/23 [00:00<00:00, 33.21it/s]"
     ]
    },
    {
     "name": "stdout",
     "output_type": "stream",
     "text": [
      "Starting epoch: 6 | phase: valid | ⏰: 05:32:36 \n",
      "Validation loss: 0.2579146126906077\n",
      "Starting epoch: 7 | phase: train | ⏰: 05:32:36 | Learning rate: 0.010000\n"
     ]
    },
    {
     "name": "stderr",
     "output_type": "stream",
     "text": [
      "Train loss: 0.25163: 100%|█████████████████████████████████████████████████████████████| 23/23 [00:00<00:00, 38.92it/s]\n",
      "Train loss: 0.24184:  22%|█████████████▍                                                | 5/23 [00:00<00:00, 43.49it/s]"
     ]
    },
    {
     "name": "stdout",
     "output_type": "stream",
     "text": [
      "Starting epoch: 8 | phase: train | ⏰: 05:32:36 | Learning rate: 0.010000\n"
     ]
    },
    {
     "name": "stderr",
     "output_type": "stream",
     "text": [
      "Train loss: 0.23758: 100%|█████████████████████████████████████████████████████████████| 23/23 [00:00<00:00, 42.05it/s]\n",
      ": 100%|█████████████████████████████████████████████████████████████████████████████████| 3/3 [00:00<00:00, 61.82it/s]\n",
      "Train loss: 0.24299:  13%|████████                                                      | 3/23 [00:00<00:00, 28.35it/s]"
     ]
    },
    {
     "name": "stdout",
     "output_type": "stream",
     "text": [
      "Starting epoch: 8 | phase: valid | ⏰: 05:32:37 \n",
      "Validation loss: 0.2422012984752655\n",
      "Starting epoch: 9 | phase: train | ⏰: 05:32:37 | Learning rate: 0.010000\n"
     ]
    },
    {
     "name": "stderr",
     "output_type": "stream",
     "text": [
      "Train loss: 0.22859: 100%|█████████████████████████████████████████████████████████████| 23/23 [00:00<00:00, 39.96it/s]\n"
     ]
    },
    {
     "name": "stdout",
     "output_type": "stream",
     "text": [
      "============ Test epoch 36 ============\n",
      "Client  0\n"
     ]
    },
    {
     "name": "stderr",
     "output_type": "stream",
     "text": [
      "  0%|                                                                                | 8/14177 [00:00<03:03, 77.19it/s]"
     ]
    },
    {
     "name": "stdout",
     "output_type": "stream",
     "text": [
      "Number of sessions(hdfs_test_normal): 14177\n",
      "Number of sessions(hdfs_test_abnormal): 4123\n"
     ]
    },
    {
     "name": "stderr",
     "output_type": "stream",
     "text": [
      "100%|████████████████████████████████████████████████████████████████████████████| 14177/14177 [04:58<00:00, 47.53it/s]\n",
      "100%|██████████████████████████████████████████████████████████████████████████████| 4123/4123 [00:51<00:00, 80.75it/s]\n"
     ]
    },
    {
     "name": "stdout",
     "output_type": "stream",
     "text": [
      "false positive (FP): 162214, false negative (FN): 523, Precision: 9.139%, Recall: 96.894%, F1-measure: 16.702%\n",
      "actual positive (TP+FN): 16838, actual negative (FP+TN): 553366\n",
      "accuracy: 71.460\n",
      "Finished Predicting\n",
      "elapsed_time: 349.3670229911804\n",
      "============ Train epoch 37 ============\n",
      "Client  0\n",
      "File ../data/hdfs/hdfs_train, number of sessions 4855\n",
      "File ../data/hdfs/hdfs_train, number of seqs 46575\n"
     ]
    },
    {
     "name": "stderr",
     "output_type": "stream",
     "text": [
      "  0%|▏                                                                              | 16/5258 [00:00<00:33, 156.87it/s]"
     ]
    },
    {
     "name": "stdout",
     "output_type": "stream",
     "text": [
      "sampling...\n"
     ]
    },
    {
     "name": "stderr",
     "output_type": "stream",
     "text": [
      "100%|█████████████████████████████████████████████████████████████████████████████| 5258/5258 [00:30<00:00, 172.82it/s]\n"
     ]
    },
    {
     "name": "stdout",
     "output_type": "stream",
     "text": [
      "File ../data/hdfs/hdfs_test_normal, number of sessions 553366\n",
      "File ../data/hdfs/hdfs_test_normal, number of seqs 5258\n",
      "Find 46575 train logs, 5258 validation logs\n",
      "Train batch size 2048 ,Validation batch size 2048\n"
     ]
    },
    {
     "name": "stderr",
     "output_type": "stream",
     "text": [
      "Train loss: 1.40738:  22%|█████████████▍                                                | 5/23 [00:00<00:00, 43.49it/s]"
     ]
    },
    {
     "name": "stdout",
     "output_type": "stream",
     "text": [
      "Starting epoch: 0 | phase: train | ⏰: 05:39:52 | Learning rate: 0.000313\n"
     ]
    },
    {
     "name": "stderr",
     "output_type": "stream",
     "text": [
      "Train loss: 1.01820: 100%|█████████████████████████████████████████████████████████████| 23/23 [00:00<00:00, 42.67it/s]\n",
      "Train loss: 0.58870:  22%|█████████████▍                                                | 5/23 [00:00<00:00, 41.67it/s]"
     ]
    },
    {
     "name": "stdout",
     "output_type": "stream",
     "text": [
      "Starting epoch: 1 | phase: train | ⏰: 05:39:52 | Learning rate: 0.000625\n"
     ]
    },
    {
     "name": "stderr",
     "output_type": "stream",
     "text": [
      "Train loss: 0.50303: 100%|█████████████████████████████████████████████████████████████| 23/23 [00:00<00:00, 41.29it/s]\n",
      "Train loss: 0.38265:  22%|█████████████▍                                                | 5/23 [00:00<00:00, 43.10it/s]"
     ]
    },
    {
     "name": "stdout",
     "output_type": "stream",
     "text": [
      "Starting epoch: 2 | phase: train | ⏰: 05:39:53 | Learning rate: 0.001250\n"
     ]
    },
    {
     "name": "stderr",
     "output_type": "stream",
     "text": [
      "Train loss: 0.34582: 100%|█████████████████████████████████████████████████████████████| 23/23 [00:00<00:00, 42.12it/s]\n",
      "Train loss: 0.31179:  22%|█████████████▍                                                | 5/23 [00:00<00:00, 33.56it/s]"
     ]
    },
    {
     "name": "stdout",
     "output_type": "stream",
     "text": [
      "Starting epoch: 3 | phase: train | ⏰: 05:39:53 | Learning rate: 0.002500\n"
     ]
    },
    {
     "name": "stderr",
     "output_type": "stream",
     "text": [
      "Train loss: 0.29573: 100%|█████████████████████████████████████████████████████████████| 23/23 [00:00<00:00, 39.32it/s]\n",
      "Train loss: 0.27338:  22%|█████████████▍                                                | 5/23 [00:00<00:00, 43.10it/s]"
     ]
    },
    {
     "name": "stdout",
     "output_type": "stream",
     "text": [
      "Starting epoch: 4 | phase: train | ⏰: 05:39:54 | Learning rate: 0.005000\n"
     ]
    },
    {
     "name": "stderr",
     "output_type": "stream",
     "text": [
      "Train loss: 0.26871: 100%|█████████████████████████████████████████████████████████████| 23/23 [00:00<00:00, 43.48it/s]\n",
      "Train loss: 0.30768:  17%|██████████▊                                                   | 4/23 [00:00<00:00, 37.38it/s]"
     ]
    },
    {
     "name": "stdout",
     "output_type": "stream",
     "text": [
      "Starting epoch: 5 | phase: train | ⏰: 05:39:54 | Learning rate: 0.010000\n"
     ]
    },
    {
     "name": "stderr",
     "output_type": "stream",
     "text": [
      "Train loss: 0.34297: 100%|█████████████████████████████████████████████████████████████| 23/23 [00:00<00:00, 40.56it/s]\n",
      "Train loss: 0.28489:  22%|█████████████▍                                                | 5/23 [00:00<00:00, 41.67it/s]"
     ]
    },
    {
     "name": "stdout",
     "output_type": "stream",
     "text": [
      "Starting epoch: 6 | phase: train | ⏰: 05:39:55 | Learning rate: 0.010000\n"
     ]
    },
    {
     "name": "stderr",
     "output_type": "stream",
     "text": [
      "Train loss: 0.28861: 100%|█████████████████████████████████████████████████████████████| 23/23 [00:00<00:00, 41.22it/s]\n",
      ": 100%|█████████████████████████████████████████████████████████████████████████████████| 3/3 [00:00<00:00, 66.67it/s]\n",
      "Train loss: 0.26711:  13%|████████                                                      | 3/23 [00:00<00:00, 28.85it/s]"
     ]
    },
    {
     "name": "stdout",
     "output_type": "stream",
     "text": [
      "Starting epoch: 6 | phase: valid | ⏰: 05:39:55 \n",
      "Validation loss: 0.28848440448443097\n",
      "Starting epoch: 7 | phase: train | ⏰: 05:39:56 | Learning rate: 0.010000\n"
     ]
    },
    {
     "name": "stderr",
     "output_type": "stream",
     "text": [
      "Train loss: 0.25512: 100%|█████████████████████████████████████████████████████████████| 23/23 [00:00<00:00, 38.79it/s]\n",
      "Train loss: 0.23536:  22%|█████████████▍                                                | 5/23 [00:00<00:00, 42.74it/s]"
     ]
    },
    {
     "name": "stdout",
     "output_type": "stream",
     "text": [
      "Starting epoch: 8 | phase: train | ⏰: 05:39:56 | Learning rate: 0.010000\n"
     ]
    },
    {
     "name": "stderr",
     "output_type": "stream",
     "text": [
      "Train loss: 0.23727: 100%|█████████████████████████████████████████████████████████████| 23/23 [00:00<00:00, 41.22it/s]\n",
      ": 100%|█████████████████████████████████████████████████████████████████████████████████| 3/3 [00:00<00:00, 61.22it/s]\n",
      "Train loss: 0.21988:  17%|██████████▊                                                   | 4/23 [00:00<00:00, 33.33it/s]"
     ]
    },
    {
     "name": "stdout",
     "output_type": "stream",
     "text": [
      "Starting epoch: 8 | phase: valid | ⏰: 05:39:57 \n",
      "Validation loss: 0.25762655834356946\n",
      "Starting epoch: 9 | phase: train | ⏰: 05:39:57 | Learning rate: 0.010000\n"
     ]
    },
    {
     "name": "stderr",
     "output_type": "stream",
     "text": [
      "Train loss: 0.23006: 100%|█████████████████████████████████████████████████████████████| 23/23 [00:00<00:00, 40.78it/s]\n"
     ]
    },
    {
     "name": "stdout",
     "output_type": "stream",
     "text": [
      "============ Test epoch 37 ============\n",
      "Client  0\n"
     ]
    },
    {
     "name": "stderr",
     "output_type": "stream",
     "text": [
      "  0%|                                                                              | 11/14177 [00:00<02:19, 101.85it/s]"
     ]
    },
    {
     "name": "stdout",
     "output_type": "stream",
     "text": [
      "Number of sessions(hdfs_test_normal): 14177\n",
      "Number of sessions(hdfs_test_abnormal): 4123\n"
     ]
    },
    {
     "name": "stderr",
     "output_type": "stream",
     "text": [
      "100%|████████████████████████████████████████████████████████████████████████████| 14177/14177 [03:59<00:00, 59.30it/s]\n",
      "100%|█████████████████████████████████████████████████████████████████████████████| 4123/4123 [00:22<00:00, 180.37it/s]\n"
     ]
    },
    {
     "name": "stdout",
     "output_type": "stream",
     "text": [
      "false positive (FP): 129798, false negative (FN): 496, Precision: 11.182%, Recall: 97.054%, F1-measure: 20.054%\n",
      "actual positive (TP+FN): 16838, actual negative (FP+TN): 553366\n",
      "accuracy: 77.150\n",
      "Finished Predicting\n",
      "elapsed_time: 261.92197132110596\n",
      "============ Train epoch 38 ============\n",
      "Client  0\n",
      "File ../data/hdfs/hdfs_train, number of sessions 4855\n",
      "File ../data/hdfs/hdfs_train, number of seqs 46575\n"
     ]
    },
    {
     "name": "stderr",
     "output_type": "stream",
     "text": [
      "  0%|▎                                                                              | 19/5258 [00:00<00:28, 184.47it/s]"
     ]
    },
    {
     "name": "stdout",
     "output_type": "stream",
     "text": [
      "sampling...\n"
     ]
    },
    {
     "name": "stderr",
     "output_type": "stream",
     "text": [
      "100%|█████████████████████████████████████████████████████████████████████████████| 5258/5258 [00:30<00:00, 171.71it/s]\n"
     ]
    },
    {
     "name": "stdout",
     "output_type": "stream",
     "text": [
      "File ../data/hdfs/hdfs_test_normal, number of sessions 553366\n",
      "File ../data/hdfs/hdfs_test_normal, number of seqs 5258\n",
      "Find 46575 train logs, 5258 validation logs\n",
      "Train batch size 2048 ,Validation batch size 2048\n"
     ]
    },
    {
     "name": "stderr",
     "output_type": "stream",
     "text": [
      "Train loss: 1.28275:  22%|█████████████▍                                                | 5/23 [00:00<00:00, 44.25it/s]"
     ]
    },
    {
     "name": "stdout",
     "output_type": "stream",
     "text": [
      "Starting epoch: 0 | phase: train | ⏰: 05:45:46 | Learning rate: 0.000313\n"
     ]
    },
    {
     "name": "stderr",
     "output_type": "stream",
     "text": [
      "Train loss: 0.94940: 100%|█████████████████████████████████████████████████████████████| 23/23 [00:00<00:00, 42.99it/s]\n",
      "Train loss: 0.61995:  22%|█████████████▍                                                | 5/23 [00:00<00:00, 45.87it/s]"
     ]
    },
    {
     "name": "stdout",
     "output_type": "stream",
     "text": [
      "Starting epoch: 1 | phase: train | ⏰: 05:45:46 | Learning rate: 0.000625\n"
     ]
    },
    {
     "name": "stderr",
     "output_type": "stream",
     "text": [
      "Train loss: 0.51911: 100%|█████████████████████████████████████████████████████████████| 23/23 [00:00<00:00, 42.75it/s]\n",
      "Train loss: 0.38322:  22%|█████████████▍                                                | 5/23 [00:00<00:00, 42.02it/s]"
     ]
    },
    {
     "name": "stdout",
     "output_type": "stream",
     "text": [
      "Starting epoch: 2 | phase: train | ⏰: 05:45:47 | Learning rate: 0.001250\n"
     ]
    },
    {
     "name": "stderr",
     "output_type": "stream",
     "text": [
      "Train loss: 0.35399: 100%|█████████████████████████████████████████████████████████████| 23/23 [00:00<00:00, 38.92it/s]\n",
      "Train loss: 0.30962:  22%|█████████████▍                                                | 5/23 [00:00<00:00, 32.68it/s]"
     ]
    },
    {
     "name": "stdout",
     "output_type": "stream",
     "text": [
      "Starting epoch: 3 | phase: train | ⏰: 05:45:47 | Learning rate: 0.002500\n"
     ]
    },
    {
     "name": "stderr",
     "output_type": "stream",
     "text": [
      "Train loss: 0.30210: 100%|█████████████████████████████████████████████████████████████| 23/23 [00:00<00:00, 39.05it/s]\n",
      "Train loss: 0.27555:  22%|█████████████▍                                                | 5/23 [00:00<00:00, 43.86it/s]"
     ]
    },
    {
     "name": "stdout",
     "output_type": "stream",
     "text": [
      "Starting epoch: 4 | phase: train | ⏰: 05:45:48 | Learning rate: 0.005000\n"
     ]
    },
    {
     "name": "stderr",
     "output_type": "stream",
     "text": [
      "Train loss: 0.27816: 100%|█████████████████████████████████████████████████████████████| 23/23 [00:00<00:00, 43.31it/s]\n",
      "Train loss: 0.26521:  22%|█████████████▍                                                | 5/23 [00:00<00:00, 44.25it/s]"
     ]
    },
    {
     "name": "stdout",
     "output_type": "stream",
     "text": [
      "Starting epoch: 5 | phase: train | ⏰: 05:45:48 | Learning rate: 0.010000\n"
     ]
    },
    {
     "name": "stderr",
     "output_type": "stream",
     "text": [
      "Train loss: 0.26313: 100%|█████████████████████████████████████████████████████████████| 23/23 [00:00<00:00, 42.44it/s]\n",
      "Train loss: 0.26647:  22%|█████████████▍                                                | 5/23 [00:00<00:00, 45.04it/s]"
     ]
    },
    {
     "name": "stdout",
     "output_type": "stream",
     "text": [
      "Starting epoch: 6 | phase: train | ⏰: 05:45:49 | Learning rate: 0.010000\n"
     ]
    },
    {
     "name": "stderr",
     "output_type": "stream",
     "text": [
      "Train loss: 0.26837: 100%|█████████████████████████████████████████████████████████████| 23/23 [00:00<00:00, 43.73it/s]\n",
      ": 100%|█████████████████████████████████████████████████████████████████████████████████| 3/3 [00:00<00:00, 57.69it/s]\n",
      "Train loss: 0.25426:  13%|████████                                                      | 3/23 [00:00<00:00, 29.13it/s]"
     ]
    },
    {
     "name": "stdout",
     "output_type": "stream",
     "text": [
      "Starting epoch: 6 | phase: valid | ⏰: 05:45:49 \n",
      "Validation loss: 0.26217439273993176\n",
      "Starting epoch: 7 | phase: train | ⏰: 05:45:49 | Learning rate: 0.010000\n"
     ]
    },
    {
     "name": "stderr",
     "output_type": "stream",
     "text": [
      "Train loss: 0.25923: 100%|█████████████████████████████████████████████████████████████| 23/23 [00:00<00:00, 39.18it/s]\n",
      "Train loss: 0.24644:  22%|█████████████▍                                                | 5/23 [00:00<00:00, 46.30it/s]"
     ]
    },
    {
     "name": "stdout",
     "output_type": "stream",
     "text": [
      "Starting epoch: 8 | phase: train | ⏰: 05:45:50 | Learning rate: 0.010000\n"
     ]
    },
    {
     "name": "stderr",
     "output_type": "stream",
     "text": [
      "Train loss: 0.24619: 100%|█████████████████████████████████████████████████████████████| 23/23 [00:00<00:00, 41.52it/s]\n",
      ": 100%|█████████████████████████████████████████████████████████████████████████████████| 3/3 [00:00<00:00, 66.67it/s]\n",
      "Train loss: 0.22715:   0%|                                                                      | 0/23 [00:00<?, ?it/s]"
     ]
    },
    {
     "name": "stdout",
     "output_type": "stream",
     "text": [
      "Starting epoch: 8 | phase: valid | ⏰: 05:45:51 \n",
      "Validation loss: 0.2523678739865621\n",
      "Starting epoch: 9 | phase: train | ⏰: 05:45:51 | Learning rate: 0.010000\n"
     ]
    },
    {
     "name": "stderr",
     "output_type": "stream",
     "text": [
      "Train loss: 0.24165: 100%|█████████████████████████████████████████████████████████████| 23/23 [00:00<00:00, 42.67it/s]\n"
     ]
    },
    {
     "name": "stdout",
     "output_type": "stream",
     "text": [
      "============ Test epoch 38 ============\n",
      "Client  0\n"
     ]
    },
    {
     "name": "stderr",
     "output_type": "stream",
     "text": [
      "\r",
      "  0%|                                                                                        | 0/14177 [00:00<?, ?it/s]"
     ]
    },
    {
     "name": "stdout",
     "output_type": "stream",
     "text": [
      "Number of sessions(hdfs_test_normal): 14177\n",
      "Number of sessions(hdfs_test_abnormal): 4123\n"
     ]
    },
    {
     "name": "stderr",
     "output_type": "stream",
     "text": [
      "100%|████████████████████████████████████████████████████████████████████████████| 14177/14177 [05:32<00:00, 42.60it/s]\n",
      "100%|██████████████████████████████████████████████████████████████████████████████| 4123/4123 [01:02<00:00, 66.28it/s]\n"
     ]
    },
    {
     "name": "stdout",
     "output_type": "stream",
     "text": [
      "false positive (FP): 2165, false negative (FN): 700, Precision: 88.171%, Recall: 95.843%, F1-measure: 91.847%\n",
      "actual positive (TP+FN): 16838, actual negative (FP+TN): 553366\n",
      "accuracy: 99.498\n",
      "Finished Predicting\n",
      "elapsed_time: 394.994957447052\n",
      "============ Train epoch 39 ============\n",
      "Client  0\n",
      "File ../data/hdfs/hdfs_train, number of sessions 4855\n",
      "File ../data/hdfs/hdfs_train, number of seqs 46575\n"
     ]
    },
    {
     "name": "stderr",
     "output_type": "stream",
     "text": [
      "  1%|▍                                                                              | 31/5258 [00:00<00:35, 147.55it/s]"
     ]
    },
    {
     "name": "stdout",
     "output_type": "stream",
     "text": [
      "sampling...\n"
     ]
    },
    {
     "name": "stderr",
     "output_type": "stream",
     "text": [
      "100%|█████████████████████████████████████████████████████████████████████████████| 5258/5258 [00:30<00:00, 174.66it/s]\n"
     ]
    },
    {
     "name": "stdout",
     "output_type": "stream",
     "text": [
      "File ../data/hdfs/hdfs_test_normal, number of sessions 553366\n",
      "File ../data/hdfs/hdfs_test_normal, number of seqs 5258\n",
      "Find 46575 train logs, 5258 validation logs\n",
      "Train batch size 2048 ,Validation batch size 2048\n"
     ]
    },
    {
     "name": "stderr",
     "output_type": "stream",
     "text": [
      "Train loss: 1.37180:  22%|█████████████▍                                                | 5/23 [00:00<00:00, 42.02it/s]"
     ]
    },
    {
     "name": "stdout",
     "output_type": "stream",
     "text": [
      "Starting epoch: 0 | phase: train | ⏰: 05:53:50 | Learning rate: 0.000313\n"
     ]
    },
    {
     "name": "stderr",
     "output_type": "stream",
     "text": [
      "Train loss: 0.90707: 100%|█████████████████████████████████████████████████████████████| 23/23 [00:00<00:00, 42.75it/s]\n",
      "Train loss: 0.47356:  22%|█████████████▍                                                | 5/23 [00:00<00:00, 44.64it/s]"
     ]
    },
    {
     "name": "stdout",
     "output_type": "stream",
     "text": [
      "Starting epoch: 1 | phase: train | ⏰: 05:53:50 | Learning rate: 0.000625\n"
     ]
    },
    {
     "name": "stderr",
     "output_type": "stream",
     "text": [
      "Train loss: 0.43147: 100%|█████████████████████████████████████████████████████████████| 23/23 [00:00<00:00, 44.23it/s]\n",
      "Train loss: 0.34453:  22%|█████████████▍                                                | 5/23 [00:00<00:00, 44.64it/s]"
     ]
    },
    {
     "name": "stdout",
     "output_type": "stream",
     "text": [
      "Starting epoch: 2 | phase: train | ⏰: 05:53:51 | Learning rate: 0.001250\n"
     ]
    },
    {
     "name": "stderr",
     "output_type": "stream",
     "text": [
      "Train loss: 0.33024: 100%|█████████████████████████████████████████████████████████████| 23/23 [00:00<00:00, 42.51it/s]\n",
      "Train loss: 0.29794:  22%|█████████████▍                                                | 5/23 [00:00<00:00, 37.04it/s]"
     ]
    },
    {
     "name": "stdout",
     "output_type": "stream",
     "text": [
      "Starting epoch: 3 | phase: train | ⏰: 05:53:51 | Learning rate: 0.002500\n"
     ]
    },
    {
     "name": "stderr",
     "output_type": "stream",
     "text": [
      "Train loss: 0.28538: 100%|█████████████████████████████████████████████████████████████| 23/23 [00:00<00:00, 40.78it/s]\n",
      "Train loss: 0.26821:  22%|█████████████▍                                                | 5/23 [00:00<00:00, 45.45it/s]"
     ]
    },
    {
     "name": "stdout",
     "output_type": "stream",
     "text": [
      "Starting epoch: 4 | phase: train | ⏰: 05:53:52 | Learning rate: 0.005000\n"
     ]
    },
    {
     "name": "stderr",
     "output_type": "stream",
     "text": [
      "Train loss: 0.26450: 100%|█████████████████████████████████████████████████████████████| 23/23 [00:00<00:00, 42.75it/s]\n",
      "Train loss: 0.25776:  22%|█████████████▍                                                | 5/23 [00:00<00:00, 46.30it/s]"
     ]
    },
    {
     "name": "stdout",
     "output_type": "stream",
     "text": [
      "Starting epoch: 5 | phase: train | ⏰: 05:53:52 | Learning rate: 0.010000\n"
     ]
    },
    {
     "name": "stderr",
     "output_type": "stream",
     "text": [
      "Train loss: 0.25845: 100%|█████████████████████████████████████████████████████████████| 23/23 [00:00<00:00, 42.36it/s]\n",
      "Train loss: 0.24803:  22%|█████████████▍                                                | 5/23 [00:00<00:00, 46.73it/s]"
     ]
    },
    {
     "name": "stdout",
     "output_type": "stream",
     "text": [
      "Starting epoch: 6 | phase: train | ⏰: 05:53:53 | Learning rate: 0.010000\n"
     ]
    },
    {
     "name": "stderr",
     "output_type": "stream",
     "text": [
      "Train loss: 0.25032: 100%|█████████████████████████████████████████████████████████████| 23/23 [00:00<00:00, 43.56it/s]\n",
      ": 100%|█████████████████████████████████████████████████████████████████████████████████| 3/3 [00:00<00:00, 62.50it/s]\n",
      "Train loss: 0.23622:  13%|████████                                                      | 3/23 [00:00<00:00, 28.57it/s]"
     ]
    },
    {
     "name": "stdout",
     "output_type": "stream",
     "text": [
      "Starting epoch: 6 | phase: valid | ⏰: 05:53:53 \n",
      "Validation loss: 0.2639097472031911\n",
      "Starting epoch: 7 | phase: train | ⏰: 05:53:54 | Learning rate: 0.010000\n"
     ]
    },
    {
     "name": "stderr",
     "output_type": "stream",
     "text": [
      "Train loss: 0.24087: 100%|█████████████████████████████████████████████████████████████| 23/23 [00:00<00:00, 39.93it/s]\n",
      "Train loss: 0.23347:  22%|█████████████▍                                                | 5/23 [00:00<00:00, 46.30it/s]"
     ]
    },
    {
     "name": "stdout",
     "output_type": "stream",
     "text": [
      "Starting epoch: 8 | phase: train | ⏰: 05:53:54 | Learning rate: 0.010000\n"
     ]
    },
    {
     "name": "stderr",
     "output_type": "stream",
     "text": [
      "Train loss: 0.23234: 100%|█████████████████████████████████████████████████████████████| 23/23 [00:00<00:00, 43.89it/s]\n",
      ": 100%|█████████████████████████████████████████████████████████████████████████████████| 3/3 [00:00<00:00, 66.67it/s]\n",
      "Train loss: 0.22332:  13%|████████                                                      | 3/23 [00:00<00:00, 29.70it/s]"
     ]
    },
    {
     "name": "stdout",
     "output_type": "stream",
     "text": [
      "Starting epoch: 8 | phase: valid | ⏰: 05:53:55 \n",
      "Validation loss: 0.2379546711842219\n",
      "Starting epoch: 9 | phase: train | ⏰: 05:53:55 | Learning rate: 0.010000\n"
     ]
    },
    {
     "name": "stderr",
     "output_type": "stream",
     "text": [
      "Train loss: 0.22472: 100%|█████████████████████████████████████████████████████████████| 23/23 [00:00<00:00, 40.21it/s]\n"
     ]
    },
    {
     "name": "stdout",
     "output_type": "stream",
     "text": [
      "============ Test epoch 39 ============\n",
      "Client  0\n"
     ]
    },
    {
     "name": "stderr",
     "output_type": "stream",
     "text": [
      "  0%|                                                                                | 8/14177 [00:00<03:02, 77.67it/s]"
     ]
    },
    {
     "name": "stdout",
     "output_type": "stream",
     "text": [
      "Number of sessions(hdfs_test_normal): 14177\n",
      "Number of sessions(hdfs_test_abnormal): 4123\n"
     ]
    },
    {
     "name": "stderr",
     "output_type": "stream",
     "text": [
      "100%|████████████████████████████████████████████████████████████████████████████| 14177/14177 [03:34<00:00, 65.95it/s]\n",
      "100%|██████████████████████████████████████████████████████████████████████████████| 4123/4123 [01:01<00:00, 67.18it/s]\n"
     ]
    },
    {
     "name": "stdout",
     "output_type": "stream",
     "text": [
      "false positive (FP): 15131, false negative (FN): 576, Precision: 51.801%, Recall: 96.579%, F1-measure: 67.434%\n",
      "actual positive (TP+FN): 16838, actual negative (FP+TN): 553366\n",
      "accuracy: 97.245\n",
      "Finished Predicting\n",
      "elapsed_time: 276.3449716567993\n",
      "============ Train epoch 40 ============\n",
      "Client  0\n",
      "File ../data/hdfs/hdfs_train, number of sessions 4855\n",
      "File ../data/hdfs/hdfs_train, number of seqs 46575\n"
     ]
    },
    {
     "name": "stderr",
     "output_type": "stream",
     "text": [
      "  0%|▎                                                                              | 20/5258 [00:00<00:26, 198.02it/s]"
     ]
    },
    {
     "name": "stdout",
     "output_type": "stream",
     "text": [
      "sampling...\n"
     ]
    },
    {
     "name": "stderr",
     "output_type": "stream",
     "text": [
      "100%|█████████████████████████████████████████████████████████████████████████████| 5258/5258 [00:30<00:00, 173.39it/s]\n"
     ]
    },
    {
     "name": "stdout",
     "output_type": "stream",
     "text": [
      "File ../data/hdfs/hdfs_test_normal, number of sessions 553366\n",
      "File ../data/hdfs/hdfs_test_normal, number of seqs 5258\n",
      "Find 46575 train logs, 5258 validation logs\n",
      "Train batch size 2048 ,Validation batch size 2048\n"
     ]
    },
    {
     "name": "stderr",
     "output_type": "stream",
     "text": [
      "Train loss: 1.01462:  22%|█████████████▍                                                | 5/23 [00:00<00:00, 45.87it/s]"
     ]
    },
    {
     "name": "stdout",
     "output_type": "stream",
     "text": [
      "Starting epoch: 0 | phase: train | ⏰: 05:59:56 | Learning rate: 0.000313\n"
     ]
    },
    {
     "name": "stderr",
     "output_type": "stream",
     "text": [
      "Train loss: 0.74058: 100%|█████████████████████████████████████████████████████████████| 23/23 [00:00<00:00, 43.81it/s]\n",
      "Train loss: 0.44217:  22%|█████████████▍                                                | 5/23 [00:00<00:00, 47.17it/s]"
     ]
    },
    {
     "name": "stdout",
     "output_type": "stream",
     "text": [
      "Starting epoch: 1 | phase: train | ⏰: 05:59:57 | Learning rate: 0.000625\n"
     ]
    },
    {
     "name": "stderr",
     "output_type": "stream",
     "text": [
      "Train loss: 0.40041: 100%|█████████████████████████████████████████████████████████████| 23/23 [00:00<00:00, 42.51it/s]\n",
      "Train loss: 0.33755:  22%|█████████████▍                                                | 5/23 [00:00<00:00, 43.86it/s]"
     ]
    },
    {
     "name": "stdout",
     "output_type": "stream",
     "text": [
      "Starting epoch: 2 | phase: train | ⏰: 05:59:57 | Learning rate: 0.001250\n"
     ]
    },
    {
     "name": "stderr",
     "output_type": "stream",
     "text": [
      "Train loss: 0.31521: 100%|█████████████████████████████████████████████████████████████| 23/23 [00:00<00:00, 41.59it/s]\n",
      "Train loss: 0.28954:  22%|█████████████▍                                                | 5/23 [00:00<00:00, 31.85it/s]"
     ]
    },
    {
     "name": "stdout",
     "output_type": "stream",
     "text": [
      "Starting epoch: 3 | phase: train | ⏰: 05:59:58 | Learning rate: 0.002500\n"
     ]
    },
    {
     "name": "stderr",
     "output_type": "stream",
     "text": [
      "Train loss: 0.27950: 100%|█████████████████████████████████████████████████████████████| 23/23 [00:00<00:00, 39.52it/s]\n",
      "Train loss: 0.26617:  22%|█████████████▍                                                | 5/23 [00:00<00:00, 45.87it/s]"
     ]
    },
    {
     "name": "stdout",
     "output_type": "stream",
     "text": [
      "Starting epoch: 4 | phase: train | ⏰: 05:59:59 | Learning rate: 0.005000\n"
     ]
    },
    {
     "name": "stderr",
     "output_type": "stream",
     "text": [
      "Train loss: 0.26541: 100%|█████████████████████████████████████████████████████████████| 23/23 [00:00<00:00, 41.97it/s]\n",
      "Train loss: 0.25808:  22%|█████████████▍                                                | 5/23 [00:00<00:00, 48.08it/s]"
     ]
    },
    {
     "name": "stdout",
     "output_type": "stream",
     "text": [
      "Starting epoch: 5 | phase: train | ⏰: 05:59:59 | Learning rate: 0.010000\n"
     ]
    },
    {
     "name": "stderr",
     "output_type": "stream",
     "text": [
      "Train loss: 0.26359: 100%|█████████████████████████████████████████████████████████████| 23/23 [00:00<00:00, 42.28it/s]\n",
      "Train loss: 0.25270:  22%|█████████████▍                                                | 5/23 [00:00<00:00, 45.45it/s]"
     ]
    },
    {
     "name": "stdout",
     "output_type": "stream",
     "text": [
      "Starting epoch: 6 | phase: train | ⏰: 06:00:00 | Learning rate: 0.010000\n"
     ]
    },
    {
     "name": "stderr",
     "output_type": "stream",
     "text": [
      "Train loss: 0.25235: 100%|█████████████████████████████████████████████████████████████| 23/23 [00:00<00:00, 43.31it/s]\n",
      ": 100%|█████████████████████████████████████████████████████████████████████████████████| 3/3 [00:00<00:00, 65.22it/s]\n",
      "Train loss: 0.24600:  13%|████████                                                      | 3/23 [00:00<00:00, 29.70it/s]"
     ]
    },
    {
     "name": "stdout",
     "output_type": "stream",
     "text": [
      "Starting epoch: 6 | phase: valid | ⏰: 06:00:00 \n",
      "Validation loss: 0.2359509915113449\n",
      "Starting epoch: 7 | phase: train | ⏰: 06:00:00 | Learning rate: 0.010000\n"
     ]
    },
    {
     "name": "stderr",
     "output_type": "stream",
     "text": [
      "Train loss: 0.23868: 100%|█████████████████████████████████████████████████████████████| 23/23 [00:00<00:00, 39.52it/s]\n",
      "Train loss: 0.22398:  22%|█████████████▍                                                | 5/23 [00:00<00:00, 45.04it/s]"
     ]
    },
    {
     "name": "stdout",
     "output_type": "stream",
     "text": [
      "Starting epoch: 8 | phase: train | ⏰: 06:00:01 | Learning rate: 0.010000\n"
     ]
    },
    {
     "name": "stderr",
     "output_type": "stream",
     "text": [
      "Train loss: 0.23139: 100%|█████████████████████████████████████████████████████████████| 23/23 [00:00<00:00, 40.28it/s]\n",
      ": 100%|█████████████████████████████████████████████████████████████████████████████████| 3/3 [00:00<00:00, 62.50it/s]\n",
      "Train loss: 0.21585:  13%|████████                                                      | 3/23 [00:00<00:00, 29.13it/s]"
     ]
    },
    {
     "name": "stdout",
     "output_type": "stream",
     "text": [
      "Starting epoch: 8 | phase: valid | ⏰: 06:00:01 \n",
      "Validation loss: 0.22072371343771616\n",
      "Starting epoch: 9 | phase: train | ⏰: 06:00:01 | Learning rate: 0.010000\n"
     ]
    },
    {
     "name": "stderr",
     "output_type": "stream",
     "text": [
      "Train loss: 0.22312: 100%|█████████████████████████████████████████████████████████████| 23/23 [00:00<00:00, 39.52it/s]\n"
     ]
    },
    {
     "name": "stdout",
     "output_type": "stream",
     "text": [
      "============ Test epoch 40 ============\n",
      "Client  0\n"
     ]
    },
    {
     "name": "stderr",
     "output_type": "stream",
     "text": [
      "\r",
      "  0%|                                                                                        | 0/14177 [00:00<?, ?it/s]"
     ]
    },
    {
     "name": "stdout",
     "output_type": "stream",
     "text": [
      "Number of sessions(hdfs_test_normal): 14177\n",
      "Number of sessions(hdfs_test_abnormal): 4123\n"
     ]
    },
    {
     "name": "stderr",
     "output_type": "stream",
     "text": [
      "100%|████████████████████████████████████████████████████████████████████████████| 14177/14177 [05:16<00:00, 44.74it/s]\n",
      "100%|██████████████████████████████████████████████████████████████████████████████| 4123/4123 [01:01<00:00, 67.07it/s]\n"
     ]
    },
    {
     "name": "stdout",
     "output_type": "stream",
     "text": [
      "false positive (FP): 40774, false negative (FN): 920, Precision: 28.078%, Recall: 94.536%, F1-measure: 43.297%\n",
      "actual positive (TP+FN): 16838, actual negative (FP+TN): 553366\n",
      "accuracy: 92.688\n",
      "Finished Predicting\n",
      "elapsed_time: 378.32895731925964\n",
      "============ Train epoch 41 ============\n",
      "Client  0\n",
      "File ../data/hdfs/hdfs_train, number of sessions 4855\n",
      "File ../data/hdfs/hdfs_train, number of seqs 46575\n"
     ]
    },
    {
     "name": "stderr",
     "output_type": "stream",
     "text": [
      "  1%|▌                                                                              | 40/5258 [00:00<00:26, 196.00it/s]"
     ]
    },
    {
     "name": "stdout",
     "output_type": "stream",
     "text": [
      "sampling...\n"
     ]
    },
    {
     "name": "stderr",
     "output_type": "stream",
     "text": [
      "100%|█████████████████████████████████████████████████████████████████████████████| 5258/5258 [00:29<00:00, 176.01it/s]\n"
     ]
    },
    {
     "name": "stdout",
     "output_type": "stream",
     "text": [
      "File ../data/hdfs/hdfs_test_normal, number of sessions 553366\n",
      "File ../data/hdfs/hdfs_test_normal, number of seqs 5258\n",
      "Find 46575 train logs, 5258 validation logs\n",
      "Train batch size 2048 ,Validation batch size 2048\n"
     ]
    },
    {
     "name": "stderr",
     "output_type": "stream",
     "text": [
      "Train loss: 1.39516:  22%|█████████████▍                                                | 5/23 [00:00<00:00, 44.64it/s]"
     ]
    },
    {
     "name": "stdout",
     "output_type": "stream",
     "text": [
      "Starting epoch: 0 | phase: train | ⏰: 06:07:44 | Learning rate: 0.000313\n"
     ]
    },
    {
     "name": "stderr",
     "output_type": "stream",
     "text": [
      "Train loss: 1.04047: 100%|█████████████████████████████████████████████████████████████| 23/23 [00:00<00:00, 43.07it/s]\n",
      "Train loss: 0.61554:  22%|█████████████▍                                                | 5/23 [00:00<00:00, 44.25it/s]"
     ]
    },
    {
     "name": "stdout",
     "output_type": "stream",
     "text": [
      "Starting epoch: 1 | phase: train | ⏰: 06:07:44 | Learning rate: 0.000625\n"
     ]
    },
    {
     "name": "stderr",
     "output_type": "stream",
     "text": [
      "Train loss: 0.52599: 100%|█████████████████████████████████████████████████████████████| 23/23 [00:00<00:00, 42.51it/s]\n",
      "Train loss: 0.38925:  22%|█████████████▍                                                | 5/23 [00:00<00:00, 47.17it/s]"
     ]
    },
    {
     "name": "stdout",
     "output_type": "stream",
     "text": [
      "Starting epoch: 2 | phase: train | ⏰: 06:07:45 | Learning rate: 0.001250\n"
     ]
    },
    {
     "name": "stderr",
     "output_type": "stream",
     "text": [
      "Train loss: 0.37060: 100%|█████████████████████████████████████████████████████████████| 23/23 [00:00<00:00, 43.64it/s]\n",
      "Train loss: 0.32773:  22%|█████████████▍                                                | 5/23 [00:00<00:00, 34.97it/s]"
     ]
    },
    {
     "name": "stdout",
     "output_type": "stream",
     "text": [
      "Starting epoch: 3 | phase: train | ⏰: 06:07:45 | Learning rate: 0.002500\n"
     ]
    },
    {
     "name": "stderr",
     "output_type": "stream",
     "text": [
      "Train loss: 0.30871: 100%|█████████████████████████████████████████████████████████████| 23/23 [00:00<00:00, 38.79it/s]\n",
      "Train loss: 0.27604:  22%|█████████████▍                                                | 5/23 [00:00<00:00, 43.86it/s]"
     ]
    },
    {
     "name": "stdout",
     "output_type": "stream",
     "text": [
      "Starting epoch: 4 | phase: train | ⏰: 06:07:46 | Learning rate: 0.005000\n"
     ]
    },
    {
     "name": "stderr",
     "output_type": "stream",
     "text": [
      "Train loss: 0.27451: 100%|█████████████████████████████████████████████████████████████| 23/23 [00:00<00:00, 43.07it/s]\n",
      "Train loss: 0.25752:  22%|█████████████▍                                                | 5/23 [00:00<00:00, 43.10it/s]"
     ]
    },
    {
     "name": "stdout",
     "output_type": "stream",
     "text": [
      "Starting epoch: 5 | phase: train | ⏰: 06:07:47 | Learning rate: 0.010000\n"
     ]
    },
    {
     "name": "stderr",
     "output_type": "stream",
     "text": [
      "Train loss: 0.26198: 100%|█████████████████████████████████████████████████████████████| 23/23 [00:00<00:00, 43.73it/s]\n",
      "Train loss: 0.24097:  22%|█████████████▍                                                | 5/23 [00:00<00:00, 44.64it/s]"
     ]
    },
    {
     "name": "stdout",
     "output_type": "stream",
     "text": [
      "Starting epoch: 6 | phase: train | ⏰: 06:07:47 | Learning rate: 0.010000\n"
     ]
    },
    {
     "name": "stderr",
     "output_type": "stream",
     "text": [
      "Train loss: 0.24880: 100%|█████████████████████████████████████████████████████████████| 23/23 [00:00<00:00, 41.89it/s]\n",
      ": 100%|█████████████████████████████████████████████████████████████████████████████████| 3/3 [00:00<00:00, 66.67it/s]\n",
      "Train loss: 0.24087:  17%|██████████▊                                                   | 4/23 [00:00<00:00, 32.79it/s]"
     ]
    },
    {
     "name": "stdout",
     "output_type": "stream",
     "text": [
      "Starting epoch: 6 | phase: valid | ⏰: 06:07:48 \n",
      "Validation loss: 0.26017771164576214\n",
      "Starting epoch: 7 | phase: train | ⏰: 06:07:48 | Learning rate: 0.010000\n"
     ]
    },
    {
     "name": "stderr",
     "output_type": "stream",
     "text": [
      "Train loss: 0.24836: 100%|█████████████████████████████████████████████████████████████| 23/23 [00:00<00:00, 40.28it/s]\n",
      "Train loss: 0.22758:  22%|█████████████▍                                                | 5/23 [00:00<00:00, 45.45it/s]"
     ]
    },
    {
     "name": "stdout",
     "output_type": "stream",
     "text": [
      "Starting epoch: 8 | phase: train | ⏰: 06:07:48 | Learning rate: 0.010000\n"
     ]
    },
    {
     "name": "stderr",
     "output_type": "stream",
     "text": [
      "Train loss: 0.23287: 100%|█████████████████████████████████████████████████████████████| 23/23 [00:00<00:00, 42.67it/s]\n",
      ": 100%|█████████████████████████████████████████████████████████████████████████████████| 3/3 [00:00<00:00, 62.50it/s]\n",
      "Train loss: 0.23644:  13%|████████                                                      | 3/23 [00:00<00:00, 29.13it/s]"
     ]
    },
    {
     "name": "stdout",
     "output_type": "stream",
     "text": [
      "Starting epoch: 8 | phase: valid | ⏰: 06:07:49 \n",
      "Validation loss: 0.2448733995358149\n",
      "Starting epoch: 9 | phase: train | ⏰: 06:07:49 | Learning rate: 0.010000\n"
     ]
    },
    {
     "name": "stderr",
     "output_type": "stream",
     "text": [
      "Train loss: 0.22964: 100%|█████████████████████████████████████████████████████████████| 23/23 [00:00<00:00, 39.86it/s]\n"
     ]
    },
    {
     "name": "stdout",
     "output_type": "stream",
     "text": [
      "============ Test epoch 41 ============\n",
      "Client  0\n"
     ]
    },
    {
     "name": "stderr",
     "output_type": "stream",
     "text": [
      "\r",
      "  0%|                                                                                        | 0/14177 [00:00<?, ?it/s]"
     ]
    },
    {
     "name": "stdout",
     "output_type": "stream",
     "text": [
      "Number of sessions(hdfs_test_normal): 14177\n",
      "Number of sessions(hdfs_test_abnormal): 4123\n"
     ]
    },
    {
     "name": "stderr",
     "output_type": "stream",
     "text": [
      "100%|████████████████████████████████████████████████████████████████████████████| 14177/14177 [03:26<00:00, 68.56it/s]\n",
      "100%|██████████████████████████████████████████████████████████████████████████████| 4123/4123 [01:00<00:00, 67.75it/s]\n"
     ]
    },
    {
     "name": "stdout",
     "output_type": "stream",
     "text": [
      "false positive (FP): 21181, false negative (FN): 639, Precision: 43.336%, Recall: 96.205%, F1-measure: 59.755%\n",
      "actual positive (TP+FN): 16838, actual negative (FP+TN): 553366\n",
      "accuracy: 96.173\n",
      "Finished Predicting\n",
      "elapsed_time: 267.65197110176086\n",
      "============ Train epoch 42 ============\n",
      "Client  0\n",
      "File ../data/hdfs/hdfs_train, number of sessions 4855\n",
      "File ../data/hdfs/hdfs_train, number of seqs 46575\n"
     ]
    },
    {
     "name": "stderr",
     "output_type": "stream",
     "text": [
      "  0%|▎                                                                              | 18/5258 [00:00<00:29, 178.15it/s]"
     ]
    },
    {
     "name": "stdout",
     "output_type": "stream",
     "text": [
      "sampling...\n"
     ]
    },
    {
     "name": "stderr",
     "output_type": "stream",
     "text": [
      "100%|█████████████████████████████████████████████████████████████████████████████| 5258/5258 [00:30<00:00, 175.14it/s]\n"
     ]
    },
    {
     "name": "stdout",
     "output_type": "stream",
     "text": [
      "File ../data/hdfs/hdfs_test_normal, number of sessions 553366\n",
      "File ../data/hdfs/hdfs_test_normal, number of seqs 5258\n",
      "Find 46575 train logs, 5258 validation logs\n",
      "Train batch size 2048 ,Validation batch size 2048\n"
     ]
    },
    {
     "name": "stderr",
     "output_type": "stream",
     "text": [
      "Train loss: 1.70578:  22%|█████████████▍                                                | 5/23 [00:00<00:00, 44.25it/s]"
     ]
    },
    {
     "name": "stdout",
     "output_type": "stream",
     "text": [
      "Starting epoch: 0 | phase: train | ⏰: 06:13:41 | Learning rate: 0.000313\n"
     ]
    },
    {
     "name": "stderr",
     "output_type": "stream",
     "text": [
      "Train loss: 1.29815: 100%|█████████████████████████████████████████████████████████████| 23/23 [00:00<00:00, 42.91it/s]\n",
      "Train loss: 0.76889:  22%|█████████████▍                                                | 5/23 [00:00<00:00, 43.10it/s]"
     ]
    },
    {
     "name": "stdout",
     "output_type": "stream",
     "text": [
      "Starting epoch: 1 | phase: train | ⏰: 06:13:42 | Learning rate: 0.000625\n"
     ]
    },
    {
     "name": "stderr",
     "output_type": "stream",
     "text": [
      "Train loss: 0.66733: 100%|█████████████████████████████████████████████████████████████| 23/23 [00:00<00:00, 41.29it/s]\n",
      "Train loss: 0.48586:  22%|█████████████▍                                                | 5/23 [00:00<00:00, 42.02it/s]"
     ]
    },
    {
     "name": "stdout",
     "output_type": "stream",
     "text": [
      "Starting epoch: 2 | phase: train | ⏰: 06:13:43 | Learning rate: 0.001250\n"
     ]
    },
    {
     "name": "stderr",
     "output_type": "stream",
     "text": [
      "Train loss: 0.42935: 100%|█████████████████████████████████████████████████████████████| 23/23 [00:00<00:00, 42.44it/s]\n",
      "Train loss: 0.33680:  22%|█████████████▍                                                | 5/23 [00:00<00:00, 35.71it/s]"
     ]
    },
    {
     "name": "stdout",
     "output_type": "stream",
     "text": [
      "Starting epoch: 3 | phase: train | ⏰: 06:13:43 | Learning rate: 0.002500\n"
     ]
    },
    {
     "name": "stderr",
     "output_type": "stream",
     "text": [
      "Train loss: 0.32019: 100%|█████████████████████████████████████████████████████████████| 23/23 [00:00<00:00, 39.32it/s]\n",
      "Train loss: 0.29205:  22%|█████████████▍                                                | 5/23 [00:00<00:00, 45.04it/s]"
     ]
    },
    {
     "name": "stdout",
     "output_type": "stream",
     "text": [
      "Starting epoch: 4 | phase: train | ⏰: 06:13:44 | Learning rate: 0.005000\n"
     ]
    },
    {
     "name": "stderr",
     "output_type": "stream",
     "text": [
      "Train loss: 0.27836: 100%|█████████████████████████████████████████████████████████████| 23/23 [00:00<00:00, 42.75it/s]\n",
      "Train loss: 0.26212:  22%|█████████████▍                                                | 5/23 [00:00<00:00, 45.87it/s]"
     ]
    },
    {
     "name": "stdout",
     "output_type": "stream",
     "text": [
      "Starting epoch: 5 | phase: train | ⏰: 06:13:44 | Learning rate: 0.010000\n"
     ]
    },
    {
     "name": "stderr",
     "output_type": "stream",
     "text": [
      "Train loss: 0.26345: 100%|█████████████████████████████████████████████████████████████| 23/23 [00:00<00:00, 43.40it/s]\n",
      "Train loss: 0.25031:  22%|█████████████▍                                                | 5/23 [00:00<00:00, 43.86it/s]"
     ]
    },
    {
     "name": "stdout",
     "output_type": "stream",
     "text": [
      "Starting epoch: 6 | phase: train | ⏰: 06:13:45 | Learning rate: 0.010000\n"
     ]
    },
    {
     "name": "stderr",
     "output_type": "stream",
     "text": [
      "Train loss: 0.24667: 100%|█████████████████████████████████████████████████████████████| 23/23 [00:00<00:00, 42.44it/s]\n",
      ": 100%|█████████████████████████████████████████████████████████████████████████████████| 3/3 [00:00<00:00, 63.83it/s]\n",
      "Train loss: 0.23882:  17%|██████████▊                                                   | 4/23 [00:00<00:00, 35.71it/s]"
     ]
    },
    {
     "name": "stdout",
     "output_type": "stream",
     "text": [
      "Starting epoch: 6 | phase: valid | ⏰: 06:13:45 \n",
      "Validation loss: 0.25725237528483075\n",
      "Starting epoch: 7 | phase: train | ⏰: 06:13:45 | Learning rate: 0.010000\n"
     ]
    },
    {
     "name": "stderr",
     "output_type": "stream",
     "text": [
      "Train loss: 0.23541: 100%|█████████████████████████████████████████████████████████████| 23/23 [00:00<00:00, 41.82it/s]\n",
      "Train loss: 0.23036:  22%|█████████████▍                                                | 5/23 [00:00<00:00, 42.37it/s]"
     ]
    },
    {
     "name": "stdout",
     "output_type": "stream",
     "text": [
      "Starting epoch: 8 | phase: train | ⏰: 06:13:46 | Learning rate: 0.010000\n"
     ]
    },
    {
     "name": "stderr",
     "output_type": "stream",
     "text": [
      "Train loss: 0.22822: 100%|█████████████████████████████████████████████████████████████| 23/23 [00:00<00:00, 43.15it/s]\n",
      ": 100%|█████████████████████████████████████████████████████████████████████████████████| 3/3 [00:00<00:00, 69.77it/s]\n",
      "Train loss: 0.22539:  17%|██████████▊                                                   | 4/23 [00:00<00:00, 34.19it/s]"
     ]
    },
    {
     "name": "stdout",
     "output_type": "stream",
     "text": [
      "Starting epoch: 8 | phase: valid | ⏰: 06:13:46 \n",
      "Validation loss: 0.2403547763824463\n",
      "Starting epoch: 9 | phase: train | ⏰: 06:13:46 | Learning rate: 0.010000\n"
     ]
    },
    {
     "name": "stderr",
     "output_type": "stream",
     "text": [
      "Train loss: 0.22392: 100%|█████████████████████████████████████████████████████████████| 23/23 [00:00<00:00, 39.66it/s]\n"
     ]
    },
    {
     "name": "stdout",
     "output_type": "stream",
     "text": [
      "============ Test epoch 42 ============\n",
      "Client  0\n"
     ]
    },
    {
     "name": "stderr",
     "output_type": "stream",
     "text": [
      "\r",
      "  0%|                                                                                        | 0/14177 [00:00<?, ?it/s]"
     ]
    },
    {
     "name": "stdout",
     "output_type": "stream",
     "text": [
      "Number of sessions(hdfs_test_normal): 14177\n",
      "Number of sessions(hdfs_test_abnormal): 4123\n"
     ]
    },
    {
     "name": "stderr",
     "output_type": "stream",
     "text": [
      "100%|████████████████████████████████████████████████████████████████████████████| 14177/14177 [05:23<00:00, 43.78it/s]\n",
      "100%|██████████████████████████████████████████████████████████████████████████████| 4123/4123 [01:00<00:00, 67.88it/s]\n"
     ]
    },
    {
     "name": "stdout",
     "output_type": "stream",
     "text": [
      "false positive (FP): 29061, false negative (FN): 581, Precision: 35.873%, Recall: 96.549%, F1-measure: 52.310%\n",
      "actual positive (TP+FN): 16838, actual negative (FP+TN): 553366\n",
      "accuracy: 94.802\n",
      "Finished Predicting\n",
      "elapsed_time: 384.60346698760986\n",
      "============ Train epoch 43 ============\n",
      "Client  0\n",
      "File ../data/hdfs/hdfs_train, number of sessions 4855\n",
      "File ../data/hdfs/hdfs_train, number of seqs 46575\n"
     ]
    },
    {
     "name": "stderr",
     "output_type": "stream",
     "text": [
      "  0%|▏                                                                              | 12/5258 [00:00<00:44, 117.65it/s]"
     ]
    },
    {
     "name": "stdout",
     "output_type": "stream",
     "text": [
      "sampling...\n"
     ]
    },
    {
     "name": "stderr",
     "output_type": "stream",
     "text": [
      "100%|█████████████████████████████████████████████████████████████████████████████| 5258/5258 [00:29<00:00, 177.43it/s]\n"
     ]
    },
    {
     "name": "stdout",
     "output_type": "stream",
     "text": [
      "File ../data/hdfs/hdfs_test_normal, number of sessions 553366\n",
      "File ../data/hdfs/hdfs_test_normal, number of seqs 5258\n",
      "Find 46575 train logs, 5258 validation logs\n",
      "Train batch size 2048 ,Validation batch size 2048\n"
     ]
    },
    {
     "name": "stderr",
     "output_type": "stream",
     "text": [
      "Train loss: 1.81821:  13%|████████                                                      | 3/23 [00:00<00:01, 20.00it/s]"
     ]
    },
    {
     "name": "stdout",
     "output_type": "stream",
     "text": [
      "Starting epoch: 0 | phase: train | ⏰: 06:21:35 | Learning rate: 0.000313\n"
     ]
    },
    {
     "name": "stderr",
     "output_type": "stream",
     "text": [
      "Train loss: 1.18630: 100%|█████████████████████████████████████████████████████████████| 23/23 [00:00<00:00, 31.46it/s]\n",
      "Train loss: 0.72420:  22%|█████████████▍                                                | 5/23 [00:00<00:00, 43.86it/s]"
     ]
    },
    {
     "name": "stdout",
     "output_type": "stream",
     "text": [
      "Starting epoch: 1 | phase: train | ⏰: 06:21:36 | Learning rate: 0.000625\n"
     ]
    },
    {
     "name": "stderr",
     "output_type": "stream",
     "text": [
      "Train loss: 0.60284: 100%|█████████████████████████████████████████████████████████████| 23/23 [00:00<00:00, 44.75it/s]\n",
      "Train loss: 0.44646:  22%|█████████████▍                                                | 5/23 [00:00<00:00, 49.02it/s]"
     ]
    },
    {
     "name": "stdout",
     "output_type": "stream",
     "text": [
      "Starting epoch: 2 | phase: train | ⏰: 06:21:36 | Learning rate: 0.001250\n"
     ]
    },
    {
     "name": "stderr",
     "output_type": "stream",
     "text": [
      "Train loss: 0.40669: 100%|█████████████████████████████████████████████████████████████| 23/23 [00:00<00:00, 45.63it/s]\n",
      "Train loss: 0.34311:  22%|█████████████▍                                                | 5/23 [00:00<00:00, 38.76it/s]"
     ]
    },
    {
     "name": "stdout",
     "output_type": "stream",
     "text": [
      "Starting epoch: 3 | phase: train | ⏰: 06:21:37 | Learning rate: 0.002500\n"
     ]
    },
    {
     "name": "stderr",
     "output_type": "stream",
     "text": [
      "Train loss: 0.32832: 100%|█████████████████████████████████████████████████████████████| 23/23 [00:00<00:00, 41.97it/s]\n",
      "Train loss: 0.30190:  22%|█████████████▍                                                | 5/23 [00:00<00:00, 42.37it/s]"
     ]
    },
    {
     "name": "stdout",
     "output_type": "stream",
     "text": [
      "Starting epoch: 4 | phase: train | ⏰: 06:21:37 | Learning rate: 0.005000\n"
     ]
    },
    {
     "name": "stderr",
     "output_type": "stream",
     "text": [
      "Train loss: 0.29023: 100%|█████████████████████████████████████████████████████████████| 23/23 [00:00<00:00, 42.99it/s]\n",
      "Train loss: 0.27276:  22%|█████████████▍                                                | 5/23 [00:00<00:00, 46.30it/s]"
     ]
    },
    {
     "name": "stdout",
     "output_type": "stream",
     "text": [
      "Starting epoch: 5 | phase: train | ⏰: 06:21:38 | Learning rate: 0.010000\n"
     ]
    },
    {
     "name": "stderr",
     "output_type": "stream",
     "text": [
      "Train loss: 0.27041: 100%|█████████████████████████████████████████████████████████████| 23/23 [00:00<00:00, 43.56it/s]\n",
      "Train loss: 0.25703:  22%|█████████████▍                                                | 5/23 [00:00<00:00, 42.02it/s]"
     ]
    },
    {
     "name": "stdout",
     "output_type": "stream",
     "text": [
      "Starting epoch: 6 | phase: train | ⏰: 06:21:39 | Learning rate: 0.010000\n"
     ]
    },
    {
     "name": "stderr",
     "output_type": "stream",
     "text": [
      "Train loss: 0.25904: 100%|█████████████████████████████████████████████████████████████| 23/23 [00:00<00:00, 41.97it/s]\n",
      ": 100%|█████████████████████████████████████████████████████████████████████████████████| 3/3 [00:00<00:00, 62.50it/s]\n",
      "Train loss: 0.25210:  13%|████████                                                      | 3/23 [00:00<00:00, 29.41it/s]"
     ]
    },
    {
     "name": "stdout",
     "output_type": "stream",
     "text": [
      "Starting epoch: 6 | phase: valid | ⏰: 06:21:39 \n",
      "Validation loss: 0.24236310521761575\n",
      "Starting epoch: 7 | phase: train | ⏰: 06:21:39 | Learning rate: 0.010000\n"
     ]
    },
    {
     "name": "stderr",
     "output_type": "stream",
     "text": [
      "Train loss: 0.25824: 100%|█████████████████████████████████████████████████████████████| 23/23 [00:00<00:00, 40.49it/s]\n",
      "Train loss: 0.24551:  22%|█████████████▍                                                | 5/23 [00:00<00:00, 45.04it/s]"
     ]
    },
    {
     "name": "stdout",
     "output_type": "stream",
     "text": [
      "Starting epoch: 8 | phase: train | ⏰: 06:21:40 | Learning rate: 0.010000\n"
     ]
    },
    {
     "name": "stderr",
     "output_type": "stream",
     "text": [
      "Train loss: 0.24163: 100%|█████████████████████████████████████████████████████████████| 23/23 [00:00<00:00, 42.51it/s]\n",
      ": 100%|█████████████████████████████████████████████████████████████████████████████████| 3/3 [00:00<00:00, 66.67it/s]\n",
      "Train loss: 0.22439:  17%|██████████▊                                                   | 4/23 [00:00<00:00, 34.48it/s]"
     ]
    },
    {
     "name": "stdout",
     "output_type": "stream",
     "text": [
      "Starting epoch: 8 | phase: valid | ⏰: 06:21:40 \n",
      "Validation loss: 0.23745521903038025\n",
      "Starting epoch: 9 | phase: train | ⏰: 06:21:40 | Learning rate: 0.010000\n"
     ]
    },
    {
     "name": "stderr",
     "output_type": "stream",
     "text": [
      "Train loss: 0.23410: 100%|█████████████████████████████████████████████████████████████| 23/23 [00:00<00:00, 40.14it/s]\n"
     ]
    },
    {
     "name": "stdout",
     "output_type": "stream",
     "text": [
      "============ Test epoch 43 ============\n",
      "Client  0\n"
     ]
    },
    {
     "name": "stderr",
     "output_type": "stream",
     "text": [
      "\r",
      "  0%|                                                                                        | 0/14177 [00:00<?, ?it/s]"
     ]
    },
    {
     "name": "stdout",
     "output_type": "stream",
     "text": [
      "Number of sessions(hdfs_test_normal): 14177\n",
      "Number of sessions(hdfs_test_abnormal): 4123\n"
     ]
    },
    {
     "name": "stderr",
     "output_type": "stream",
     "text": [
      "100%|████████████████████████████████████████████████████████████████████████████| 14177/14177 [04:19<00:00, 54.63it/s]\n",
      "100%|██████████████████████████████████████████████████████████████████████████████| 4123/4123 [00:56<00:00, 73.52it/s]\n"
     ]
    },
    {
     "name": "stdout",
     "output_type": "stream",
     "text": [
      "false positive (FP): 40552, false negative (FN): 129, Precision: 29.180%, Recall: 99.234%, F1-measure: 45.099%\n",
      "actual positive (TP+FN): 16838, actual negative (FP+TN): 553366\n",
      "accuracy: 92.866\n",
      "Finished Predicting\n",
      "elapsed_time: 315.58296608924866\n",
      "============ Train epoch 44 ============\n",
      "Client  0\n",
      "File ../data/hdfs/hdfs_train, number of sessions 4855\n",
      "File ../data/hdfs/hdfs_train, number of seqs 46575\n"
     ]
    },
    {
     "name": "stderr",
     "output_type": "stream",
     "text": [
      "  0%|▎                                                                              | 17/5258 [00:00<00:32, 160.38it/s]"
     ]
    },
    {
     "name": "stdout",
     "output_type": "stream",
     "text": [
      "sampling...\n"
     ]
    },
    {
     "name": "stderr",
     "output_type": "stream",
     "text": [
      "100%|█████████████████████████████████████████████████████████████████████████████| 5258/5258 [00:29<00:00, 175.58it/s]\n"
     ]
    },
    {
     "name": "stdout",
     "output_type": "stream",
     "text": [
      "File ../data/hdfs/hdfs_test_normal, number of sessions 553366\n",
      "File ../data/hdfs/hdfs_test_normal, number of seqs 5258\n",
      "Find 46575 train logs, 5258 validation logs\n",
      "Train batch size 2048 ,Validation batch size 2048\n"
     ]
    },
    {
     "name": "stderr",
     "output_type": "stream",
     "text": [
      "Train loss: 2.84195:  22%|█████████████▍                                                | 5/23 [00:00<00:00, 44.64it/s]"
     ]
    },
    {
     "name": "stdout",
     "output_type": "stream",
     "text": [
      "Starting epoch: 0 | phase: train | ⏰: 06:28:21 | Learning rate: 0.000313\n"
     ]
    },
    {
     "name": "stderr",
     "output_type": "stream",
     "text": [
      "Train loss: 1.96423: 100%|█████████████████████████████████████████████████████████████| 23/23 [00:00<00:00, 43.48it/s]\n",
      "Train loss: 0.87681:  22%|█████████████▍                                                | 5/23 [00:00<00:00, 48.54it/s]"
     ]
    },
    {
     "name": "stdout",
     "output_type": "stream",
     "text": [
      "Starting epoch: 1 | phase: train | ⏰: 06:28:21 | Learning rate: 0.000625\n"
     ]
    },
    {
     "name": "stderr",
     "output_type": "stream",
     "text": [
      "Train loss: 0.72452: 100%|█████████████████████████████████████████████████████████████| 23/23 [00:00<00:00, 44.57it/s]\n",
      "Train loss: 0.48954:  22%|█████████████▍                                                | 5/23 [00:00<00:00, 45.87it/s]"
     ]
    },
    {
     "name": "stdout",
     "output_type": "stream",
     "text": [
      "Starting epoch: 2 | phase: train | ⏰: 06:28:22 | Learning rate: 0.001250\n"
     ]
    },
    {
     "name": "stderr",
     "output_type": "stream",
     "text": [
      "Train loss: 0.45036: 100%|█████████████████████████████████████████████████████████████| 23/23 [00:00<00:00, 42.36it/s]\n",
      "Train loss: 0.37163:  22%|█████████████▍                                                | 5/23 [00:00<00:00, 34.97it/s]"
     ]
    },
    {
     "name": "stdout",
     "output_type": "stream",
     "text": [
      "Starting epoch: 3 | phase: train | ⏰: 06:28:22 | Learning rate: 0.002500\n"
     ]
    },
    {
     "name": "stderr",
     "output_type": "stream",
     "text": [
      "Train loss: 0.35434: 100%|█████████████████████████████████████████████████████████████| 23/23 [00:00<00:00, 40.93it/s]\n",
      "Train loss: 0.30816:  22%|█████████████▍                                                | 5/23 [00:00<00:00, 44.64it/s]"
     ]
    },
    {
     "name": "stdout",
     "output_type": "stream",
     "text": [
      "Starting epoch: 4 | phase: train | ⏰: 06:28:23 | Learning rate: 0.005000\n"
     ]
    },
    {
     "name": "stderr",
     "output_type": "stream",
     "text": [
      "Train loss: 0.29948: 100%|█████████████████████████████████████████████████████████████| 23/23 [00:00<00:00, 43.15it/s]\n",
      "Train loss: 0.27921:  22%|█████████████▍                                                | 5/23 [00:00<00:00, 46.30it/s]"
     ]
    },
    {
     "name": "stdout",
     "output_type": "stream",
     "text": [
      "Starting epoch: 5 | phase: train | ⏰: 06:28:24 | Learning rate: 0.010000\n"
     ]
    },
    {
     "name": "stderr",
     "output_type": "stream",
     "text": [
      "Train loss: 0.28411: 100%|█████████████████████████████████████████████████████████████| 23/23 [00:00<00:00, 42.44it/s]\n",
      "Train loss: 0.27010:  22%|█████████████▍                                                | 5/23 [00:00<00:00, 44.25it/s]"
     ]
    },
    {
     "name": "stdout",
     "output_type": "stream",
     "text": [
      "Starting epoch: 6 | phase: train | ⏰: 06:28:24 | Learning rate: 0.010000\n"
     ]
    },
    {
     "name": "stderr",
     "output_type": "stream",
     "text": [
      "Train loss: 0.26254: 100%|█████████████████████████████████████████████████████████████| 23/23 [00:00<00:00, 43.31it/s]\n",
      ": 100%|█████████████████████████████████████████████████████████████████████████████████| 3/3 [00:00<00:00, 63.83it/s]\n",
      "Train loss: 0.24086:  17%|██████████▊                                                   | 4/23 [00:00<00:00, 34.48it/s]"
     ]
    },
    {
     "name": "stdout",
     "output_type": "stream",
     "text": [
      "Starting epoch: 6 | phase: valid | ⏰: 06:28:25 \n",
      "Validation loss: 0.27470870812733966\n",
      "Starting epoch: 7 | phase: train | ⏰: 06:28:25 | Learning rate: 0.010000\n"
     ]
    },
    {
     "name": "stderr",
     "output_type": "stream",
     "text": [
      "Train loss: 0.24869: 100%|█████████████████████████████████████████████████████████████| 23/23 [00:00<00:00, 40.64it/s]\n",
      "Train loss: 0.23543:  17%|██████████▊                                                   | 4/23 [00:00<00:00, 39.60it/s]"
     ]
    },
    {
     "name": "stdout",
     "output_type": "stream",
     "text": [
      "Starting epoch: 8 | phase: train | ⏰: 06:28:25 | Learning rate: 0.010000\n"
     ]
    },
    {
     "name": "stderr",
     "output_type": "stream",
     "text": [
      "Train loss: 0.23855: 100%|█████████████████████████████████████████████████████████████| 23/23 [00:00<00:00, 40.64it/s]\n",
      ": 100%|█████████████████████████████████████████████████████████████████████████████████| 3/3 [00:00<00:00, 68.18it/s]\n",
      "Train loss: 0.22399:  13%|████████                                                      | 3/23 [00:00<00:00, 28.85it/s]"
     ]
    },
    {
     "name": "stdout",
     "output_type": "stream",
     "text": [
      "Starting epoch: 8 | phase: valid | ⏰: 06:28:26 \n",
      "Validation loss: 0.26351738969484967\n",
      "Starting epoch: 9 | phase: train | ⏰: 06:28:26 | Learning rate: 0.010000\n"
     ]
    },
    {
     "name": "stderr",
     "output_type": "stream",
     "text": [
      "Train loss: 0.23034: 100%|█████████████████████████████████████████████████████████████| 23/23 [00:00<00:00, 40.93it/s]\n"
     ]
    },
    {
     "name": "stdout",
     "output_type": "stream",
     "text": [
      "============ Test epoch 44 ============\n",
      "Client  0\n"
     ]
    },
    {
     "name": "stderr",
     "output_type": "stream",
     "text": [
      "  0%|                                                                                | 9/14177 [00:00<02:38, 89.11it/s]"
     ]
    },
    {
     "name": "stdout",
     "output_type": "stream",
     "text": [
      "Number of sessions(hdfs_test_normal): 14177\n",
      "Number of sessions(hdfs_test_abnormal): 4123\n"
     ]
    },
    {
     "name": "stderr",
     "output_type": "stream",
     "text": [
      "100%|████████████████████████████████████████████████████████████████████████████| 14177/14177 [05:04<00:00, 46.58it/s]\n",
      "100%|██████████████████████████████████████████████████████████████████████████████| 4123/4123 [00:52<00:00, 77.80it/s]\n"
     ]
    },
    {
     "name": "stdout",
     "output_type": "stream",
     "text": [
      "false positive (FP): 203404, false negative (FN): 526, Precision: 7.424%, Recall: 96.876%, F1-measure: 13.791%\n",
      "actual positive (TP+FN): 16838, actual negative (FP+TN): 553366\n",
      "accuracy: 64.236\n",
      "Finished Predicting\n",
      "elapsed_time: 357.3569610118866\n",
      "============ Train epoch 45 ============\n",
      "Client  0\n",
      "File ../data/hdfs/hdfs_train, number of sessions 4855\n",
      "File ../data/hdfs/hdfs_train, number of seqs 46575\n"
     ]
    },
    {
     "name": "stderr",
     "output_type": "stream",
     "text": [
      "  0%|▎                                                                              | 19/5258 [00:00<00:30, 172.79it/s]"
     ]
    },
    {
     "name": "stdout",
     "output_type": "stream",
     "text": [
      "sampling...\n"
     ]
    },
    {
     "name": "stderr",
     "output_type": "stream",
     "text": [
      "100%|█████████████████████████████████████████████████████████████████████████████| 5258/5258 [00:29<00:00, 175.64it/s]\n"
     ]
    },
    {
     "name": "stdout",
     "output_type": "stream",
     "text": [
      "File ../data/hdfs/hdfs_test_normal, number of sessions 553366\n",
      "File ../data/hdfs/hdfs_test_normal, number of seqs 5258\n",
      "Find 46575 train logs, 5258 validation logs\n",
      "Train batch size 2048 ,Validation batch size 2048\n"
     ]
    },
    {
     "name": "stderr",
     "output_type": "stream",
     "text": [
      "Train loss: 2.21930:  17%|██████████▊                                                   | 4/23 [00:00<00:00, 32.79it/s]"
     ]
    },
    {
     "name": "stdout",
     "output_type": "stream",
     "text": [
      "Starting epoch: 0 | phase: train | ⏰: 06:35:50 | Learning rate: 0.000313\n"
     ]
    },
    {
     "name": "stderr",
     "output_type": "stream",
     "text": [
      "Train loss: 1.59276: 100%|█████████████████████████████████████████████████████████████| 23/23 [00:00<00:00, 35.33it/s]\n",
      "Train loss: 0.87790:  17%|██████████▊                                                   | 4/23 [00:00<00:00, 33.90it/s]"
     ]
    },
    {
     "name": "stdout",
     "output_type": "stream",
     "text": [
      "Starting epoch: 1 | phase: train | ⏰: 06:35:50 | Learning rate: 0.000625\n"
     ]
    },
    {
     "name": "stderr",
     "output_type": "stream",
     "text": [
      "Train loss: 0.70631: 100%|█████████████████████████████████████████████████████████████| 23/23 [00:00<00:00, 36.33it/s]\n",
      "Train loss: 0.49963:  17%|██████████▊                                                   | 4/23 [00:00<00:00, 36.04it/s]"
     ]
    },
    {
     "name": "stdout",
     "output_type": "stream",
     "text": [
      "Starting epoch: 2 | phase: train | ⏰: 06:35:51 | Learning rate: 0.001250\n"
     ]
    },
    {
     "name": "stderr",
     "output_type": "stream",
     "text": [
      "Train loss: 0.45236: 100%|█████████████████████████████████████████████████████████████| 23/23 [00:00<00:00, 35.94it/s]\n",
      "Train loss: 0.37850:  17%|██████████▊                                                   | 4/23 [00:00<00:00, 37.74it/s]"
     ]
    },
    {
     "name": "stdout",
     "output_type": "stream",
     "text": [
      "Starting epoch: 3 | phase: train | ⏰: 06:35:52 | Learning rate: 0.002500\n"
     ]
    },
    {
     "name": "stderr",
     "output_type": "stream",
     "text": [
      "Train loss: 0.35759: 100%|█████████████████████████████████████████████████████████████| 23/23 [00:00<00:00, 34.64it/s]\n",
      "Train loss: 0.32175:  17%|██████████▊                                                   | 4/23 [00:00<00:00, 36.70it/s]"
     ]
    },
    {
     "name": "stdout",
     "output_type": "stream",
     "text": [
      "Starting epoch: 4 | phase: train | ⏰: 06:35:52 | Learning rate: 0.005000\n"
     ]
    },
    {
     "name": "stderr",
     "output_type": "stream",
     "text": [
      "Train loss: 0.30679: 100%|█████████████████████████████████████████████████████████████| 23/23 [00:00<00:00, 35.11it/s]\n",
      "Train loss: 0.28543:  17%|██████████▊                                                   | 4/23 [00:00<00:00, 37.38it/s]"
     ]
    },
    {
     "name": "stdout",
     "output_type": "stream",
     "text": [
      "Starting epoch: 5 | phase: train | ⏰: 06:35:53 | Learning rate: 0.010000\n"
     ]
    },
    {
     "name": "stderr",
     "output_type": "stream",
     "text": [
      "Train loss: 0.28011: 100%|█████████████████████████████████████████████████████████████| 23/23 [00:00<00:00, 35.49it/s]\n",
      "Train loss: 0.27296:  17%|██████████▊                                                   | 4/23 [00:00<00:00, 36.70it/s]"
     ]
    },
    {
     "name": "stdout",
     "output_type": "stream",
     "text": [
      "Starting epoch: 6 | phase: train | ⏰: 06:35:54 | Learning rate: 0.010000\n"
     ]
    },
    {
     "name": "stderr",
     "output_type": "stream",
     "text": [
      "Train loss: 0.26390: 100%|█████████████████████████████████████████████████████████████| 23/23 [00:00<00:00, 35.06it/s]\n",
      ": 100%|█████████████████████████████████████████████████████████████████████████████████| 3/3 [00:00<00:00, 17.24it/s]\n"
     ]
    },
    {
     "name": "stdout",
     "output_type": "stream",
     "text": [
      "Starting epoch: 6 | phase: valid | ⏰: 06:35:54 \n",
      "Validation loss: 0.247212752699852\n",
      "Starting epoch: 7 | phase: train | ⏰: 06:35:55 | Learning rate: 0.010000\n"
     ]
    },
    {
     "name": "stderr",
     "output_type": "stream",
     "text": [
      "Train loss: 0.24937: 100%|█████████████████████████████████████████████████████████████| 23/23 [00:00<00:00, 33.82it/s]\n",
      "Train loss: 0.24350:  17%|██████████▊                                                   | 4/23 [00:00<00:00, 32.79it/s]"
     ]
    },
    {
     "name": "stdout",
     "output_type": "stream",
     "text": [
      "Starting epoch: 8 | phase: train | ⏰: 06:35:55 | Learning rate: 0.010000\n"
     ]
    },
    {
     "name": "stderr",
     "output_type": "stream",
     "text": [
      "Train loss: 0.24267: 100%|█████████████████████████████████████████████████████████████| 23/23 [00:00<00:00, 34.53it/s]\n",
      ": 100%|█████████████████████████████████████████████████████████████████████████████████| 3/3 [00:00<00:00, 56.60it/s]\n",
      "Train loss: 0.22214:  13%|████████                                                      | 3/23 [00:00<00:00, 24.19it/s]"
     ]
    },
    {
     "name": "stdout",
     "output_type": "stream",
     "text": [
      "Starting epoch: 8 | phase: valid | ⏰: 06:35:56 \n",
      "Validation loss: 0.23158632715543112\n",
      "Starting epoch: 9 | phase: train | ⏰: 06:35:56 | Learning rate: 0.010000\n"
     ]
    },
    {
     "name": "stderr",
     "output_type": "stream",
     "text": [
      "Train loss: 0.23217: 100%|█████████████████████████████████████████████████████████████| 23/23 [00:00<00:00, 33.19it/s]\n"
     ]
    },
    {
     "name": "stdout",
     "output_type": "stream",
     "text": [
      "============ Test epoch 45 ============\n",
      "Client  0\n"
     ]
    },
    {
     "name": "stderr",
     "output_type": "stream",
     "text": [
      "\r",
      "  0%|                                                                                        | 0/14177 [00:00<?, ?it/s]"
     ]
    },
    {
     "name": "stdout",
     "output_type": "stream",
     "text": [
      "Number of sessions(hdfs_test_normal): 14177\n",
      "Number of sessions(hdfs_test_abnormal): 4123\n"
     ]
    },
    {
     "name": "stderr",
     "output_type": "stream",
     "text": [
      "100%|████████████████████████████████████████████████████████████████████████████| 14177/14177 [05:09<00:00, 45.73it/s]\n",
      "100%|██████████████████████████████████████████████████████████████████████████████| 4123/4123 [00:57<00:00, 72.22it/s]\n"
     ]
    },
    {
     "name": "stdout",
     "output_type": "stream",
     "text": [
      "false positive (FP): 16244, false negative (FN): 657, Precision: 49.903%, Recall: 96.098%, F1-measure: 65.692%\n",
      "actual positive (TP+FN): 16838, actual negative (FP+TN): 553366\n",
      "accuracy: 97.036\n",
      "Finished Predicting\n",
      "elapsed_time: 367.0829634666443\n",
      "============ Train epoch 46 ============\n",
      "Client  0\n",
      "File ../data/hdfs/hdfs_train, number of sessions 4855\n",
      "File ../data/hdfs/hdfs_train, number of seqs 46575\n"
     ]
    },
    {
     "name": "stderr",
     "output_type": "stream",
     "text": [
      "  1%|▌                                                                              | 35/5258 [00:00<00:30, 171.15it/s]"
     ]
    },
    {
     "name": "stdout",
     "output_type": "stream",
     "text": [
      "sampling...\n"
     ]
    },
    {
     "name": "stderr",
     "output_type": "stream",
     "text": [
      "100%|█████████████████████████████████████████████████████████████████████████████| 5258/5258 [00:30<00:00, 172.48it/s]\n"
     ]
    },
    {
     "name": "stdout",
     "output_type": "stream",
     "text": [
      "File ../data/hdfs/hdfs_test_normal, number of sessions 553366\n",
      "File ../data/hdfs/hdfs_test_normal, number of seqs 5258\n",
      "Find 46575 train logs, 5258 validation logs\n",
      "Train batch size 2048 ,Validation batch size 2048\n"
     ]
    },
    {
     "name": "stderr",
     "output_type": "stream",
     "text": [
      "Train loss: 2.00584:  22%|█████████████▍                                                | 5/23 [00:00<00:00, 43.86it/s]"
     ]
    },
    {
     "name": "stdout",
     "output_type": "stream",
     "text": [
      "Starting epoch: 0 | phase: train | ⏰: 06:43:29 | Learning rate: 0.000313\n"
     ]
    },
    {
     "name": "stderr",
     "output_type": "stream",
     "text": [
      "Train loss: 1.49725: 100%|█████████████████████████████████████████████████████████████| 23/23 [00:00<00:00, 42.05it/s]\n",
      "Train loss: 0.87007:  22%|█████████████▍                                                | 5/23 [00:00<00:00, 46.30it/s]"
     ]
    },
    {
     "name": "stdout",
     "output_type": "stream",
     "text": [
      "Starting epoch: 1 | phase: train | ⏰: 06:43:29 | Learning rate: 0.000625\n"
     ]
    },
    {
     "name": "stderr",
     "output_type": "stream",
     "text": [
      "Train loss: 0.70937: 100%|█████████████████████████████████████████████████████████████| 23/23 [00:00<00:00, 41.97it/s]\n",
      "Train loss: 0.47935:  22%|█████████████▍                                                | 5/23 [00:00<00:00, 46.73it/s]"
     ]
    },
    {
     "name": "stdout",
     "output_type": "stream",
     "text": [
      "Starting epoch: 2 | phase: train | ⏰: 06:43:30 | Learning rate: 0.001250\n"
     ]
    },
    {
     "name": "stderr",
     "output_type": "stream",
     "text": [
      "Train loss: 0.42946: 100%|█████████████████████████████████████████████████████████████| 23/23 [00:00<00:00, 42.67it/s]\n",
      "Train loss: 0.35950:  22%|█████████████▍                                                | 5/23 [00:00<00:00, 34.01it/s]"
     ]
    },
    {
     "name": "stdout",
     "output_type": "stream",
     "text": [
      "Starting epoch: 3 | phase: train | ⏰: 06:43:30 | Learning rate: 0.002500\n"
     ]
    },
    {
     "name": "stderr",
     "output_type": "stream",
     "text": [
      "Train loss: 0.33631: 100%|█████████████████████████████████████████████████████████████| 23/23 [00:00<00:00, 38.79it/s]\n",
      "Train loss: 0.29801:  22%|█████████████▍                                                | 5/23 [00:00<00:00, 45.04it/s]"
     ]
    },
    {
     "name": "stdout",
     "output_type": "stream",
     "text": [
      "Starting epoch: 4 | phase: train | ⏰: 06:43:31 | Learning rate: 0.005000\n"
     ]
    },
    {
     "name": "stderr",
     "output_type": "stream",
     "text": [
      "Train loss: 0.29669: 100%|█████████████████████████████████████████████████████████████| 23/23 [00:00<00:00, 42.67it/s]\n",
      "Train loss: 0.27713:  22%|█████████████▍                                                | 5/23 [00:00<00:00, 46.73it/s]"
     ]
    },
    {
     "name": "stdout",
     "output_type": "stream",
     "text": [
      "Starting epoch: 5 | phase: train | ⏰: 06:43:32 | Learning rate: 0.010000\n"
     ]
    },
    {
     "name": "stderr",
     "output_type": "stream",
     "text": [
      "Train loss: 0.27313: 100%|█████████████████████████████████████████████████████████████| 23/23 [00:00<00:00, 43.40it/s]\n",
      "Train loss: 0.25491:  22%|█████████████▍                                                | 5/23 [00:00<00:00, 46.30it/s]"
     ]
    },
    {
     "name": "stdout",
     "output_type": "stream",
     "text": [
      "Starting epoch: 6 | phase: train | ⏰: 06:43:32 | Learning rate: 0.010000\n"
     ]
    },
    {
     "name": "stderr",
     "output_type": "stream",
     "text": [
      "Train loss: 0.26094: 100%|█████████████████████████████████████████████████████████████| 23/23 [00:00<00:00, 41.67it/s]\n",
      ": 100%|█████████████████████████████████████████████████████████████████████████████████| 3/3 [00:00<00:00, 62.50it/s]\n",
      "Train loss: 0.25742:  13%|████████                                                      | 3/23 [00:00<00:00, 29.41it/s]"
     ]
    },
    {
     "name": "stdout",
     "output_type": "stream",
     "text": [
      "Starting epoch: 6 | phase: valid | ⏰: 06:43:33 \n",
      "Validation loss: 0.287563959757487\n",
      "Starting epoch: 7 | phase: train | ⏰: 06:43:33 | Learning rate: 0.010000\n"
     ]
    },
    {
     "name": "stderr",
     "output_type": "stream",
     "text": [
      "Train loss: 0.24821: 100%|█████████████████████████████████████████████████████████████| 23/23 [00:00<00:00, 39.45it/s]\n",
      "Train loss: 0.23625:  22%|█████████████▍                                                | 5/23 [00:00<00:00, 44.25it/s]"
     ]
    },
    {
     "name": "stdout",
     "output_type": "stream",
     "text": [
      "Starting epoch: 8 | phase: train | ⏰: 06:43:33 | Learning rate: 0.010000\n"
     ]
    },
    {
     "name": "stderr",
     "output_type": "stream",
     "text": [
      "Train loss: 0.23937: 100%|█████████████████████████████████████████████████████████████| 23/23 [00:00<00:00, 42.83it/s]\n",
      ": 100%|█████████████████████████████████████████████████████████████████████████████████| 3/3 [00:00<00:00, 63.83it/s]\n",
      "Train loss: 0.23347:  17%|██████████▊                                                   | 4/23 [00:00<00:00, 34.78it/s]"
     ]
    },
    {
     "name": "stdout",
     "output_type": "stream",
     "text": [
      "Starting epoch: 8 | phase: valid | ⏰: 06:43:34 \n",
      "Validation loss: 0.2804048955440521\n",
      "Starting epoch: 9 | phase: train | ⏰: 06:43:34 | Learning rate: 0.010000\n"
     ]
    },
    {
     "name": "stderr",
     "output_type": "stream",
     "text": [
      "Train loss: 0.23611: 100%|█████████████████████████████████████████████████████████████| 23/23 [00:00<00:00, 40.07it/s]\n"
     ]
    },
    {
     "name": "stdout",
     "output_type": "stream",
     "text": [
      "============ Test epoch 46 ============\n",
      "Client  0\n"
     ]
    },
    {
     "name": "stderr",
     "output_type": "stream",
     "text": [
      "  0%|                                                                                | 8/14177 [00:00<03:09, 74.77it/s]"
     ]
    },
    {
     "name": "stdout",
     "output_type": "stream",
     "text": [
      "Number of sessions(hdfs_test_normal): 14177\n",
      "Number of sessions(hdfs_test_abnormal): 4123\n"
     ]
    },
    {
     "name": "stderr",
     "output_type": "stream",
     "text": [
      "100%|████████████████████████████████████████████████████████████████████████████| 14177/14177 [04:48<00:00, 49.14it/s]\n",
      "100%|█████████████████████████████████████████████████████████████████████████████| 4123/4123 [00:25<00:00, 161.73it/s]\n"
     ]
    },
    {
     "name": "stdout",
     "output_type": "stream",
     "text": [
      "false positive (FP): 13794, false negative (FN): 381, Precision: 54.402%, Recall: 97.737%, F1-measure: 69.897%\n",
      "actual positive (TP+FN): 16838, actual negative (FP+TN): 553366\n",
      "accuracy: 97.514\n",
      "Finished Predicting\n",
      "elapsed_time: 313.9960160255432\n",
      "============ Train epoch 47 ============\n",
      "Client  0\n",
      "File ../data/hdfs/hdfs_train, number of sessions 4855\n",
      "File ../data/hdfs/hdfs_train, number of seqs 46575\n"
     ]
    },
    {
     "name": "stderr",
     "output_type": "stream",
     "text": [
      "  0%|▏                                                                              | 15/5258 [00:00<00:37, 141.51it/s]"
     ]
    },
    {
     "name": "stdout",
     "output_type": "stream",
     "text": [
      "sampling...\n"
     ]
    },
    {
     "name": "stderr",
     "output_type": "stream",
     "text": [
      "100%|█████████████████████████████████████████████████████████████████████████████| 5258/5258 [00:30<00:00, 175.20it/s]\n"
     ]
    },
    {
     "name": "stdout",
     "output_type": "stream",
     "text": [
      "File ../data/hdfs/hdfs_test_normal, number of sessions 553366\n",
      "File ../data/hdfs/hdfs_test_normal, number of seqs 5258\n",
      "Find 46575 train logs, 5258 validation logs\n",
      "Train batch size 2048 ,Validation batch size 2048\n"
     ]
    },
    {
     "name": "stderr",
     "output_type": "stream",
     "text": [
      "Train loss: 1.52206:  22%|█████████████▍                                                | 5/23 [00:00<00:00, 42.74it/s]"
     ]
    },
    {
     "name": "stdout",
     "output_type": "stream",
     "text": [
      "Starting epoch: 0 | phase: train | ⏰: 06:50:13 | Learning rate: 0.000313\n"
     ]
    },
    {
     "name": "stderr",
     "output_type": "stream",
     "text": [
      "Train loss: 1.09698: 100%|█████████████████████████████████████████████████████████████| 23/23 [00:00<00:00, 40.35it/s]\n",
      "Train loss: 0.63973:  22%|█████████████▍                                                | 5/23 [00:00<00:00, 39.68it/s]"
     ]
    },
    {
     "name": "stdout",
     "output_type": "stream",
     "text": [
      "Starting epoch: 1 | phase: train | ⏰: 06:50:13 | Learning rate: 0.000625\n"
     ]
    },
    {
     "name": "stderr",
     "output_type": "stream",
     "text": [
      "Train loss: 0.56303: 100%|█████████████████████████████████████████████████████████████| 23/23 [00:00<00:00, 42.05it/s]\n",
      "Train loss: 0.42913:  17%|██████████▊                                                   | 4/23 [00:00<00:00, 39.22it/s]"
     ]
    },
    {
     "name": "stdout",
     "output_type": "stream",
     "text": [
      "Starting epoch: 2 | phase: train | ⏰: 06:50:14 | Learning rate: 0.001250\n"
     ]
    },
    {
     "name": "stderr",
     "output_type": "stream",
     "text": [
      "Train loss: 0.40206: 100%|█████████████████████████████████████████████████████████████| 23/23 [00:00<00:00, 42.44it/s]\n",
      "Train loss: 0.33850:  22%|█████████████▍                                                | 5/23 [00:00<00:00, 34.96it/s]"
     ]
    },
    {
     "name": "stdout",
     "output_type": "stream",
     "text": [
      "Starting epoch: 3 | phase: train | ⏰: 06:50:14 | Learning rate: 0.002500\n"
     ]
    },
    {
     "name": "stderr",
     "output_type": "stream",
     "text": [
      "Train loss: 0.32775: 100%|█████████████████████████████████████████████████████████████| 23/23 [00:00<00:00, 39.38it/s]\n",
      "Train loss: 0.29810:  22%|█████████████▍                                                | 5/23 [00:00<00:00, 40.98it/s]"
     ]
    },
    {
     "name": "stdout",
     "output_type": "stream",
     "text": [
      "Starting epoch: 4 | phase: train | ⏰: 06:50:15 | Learning rate: 0.005000\n"
     ]
    },
    {
     "name": "stderr",
     "output_type": "stream",
     "text": [
      "Train loss: 0.29155: 100%|█████████████████████████████████████████████████████████████| 23/23 [00:00<00:00, 42.12it/s]\n",
      "Train loss: 0.28941:  22%|█████████████▍                                                | 5/23 [00:00<00:00, 44.64it/s]"
     ]
    },
    {
     "name": "stdout",
     "output_type": "stream",
     "text": [
      "Starting epoch: 5 | phase: train | ⏰: 06:50:16 | Learning rate: 0.010000\n"
     ]
    },
    {
     "name": "stderr",
     "output_type": "stream",
     "text": [
      "Train loss: 0.28162: 100%|█████████████████████████████████████████████████████████████| 23/23 [00:00<00:00, 42.67it/s]\n",
      "Train loss: 0.27184:  22%|█████████████▍                                                | 5/23 [00:00<00:00, 45.05it/s]"
     ]
    },
    {
     "name": "stdout",
     "output_type": "stream",
     "text": [
      "Starting epoch: 6 | phase: train | ⏰: 06:50:16 | Learning rate: 0.010000\n"
     ]
    },
    {
     "name": "stderr",
     "output_type": "stream",
     "text": [
      "Train loss: 0.26254: 100%|█████████████████████████████████████████████████████████████| 23/23 [00:00<00:00, 42.99it/s]\n",
      ": 100%|█████████████████████████████████████████████████████████████████████████████████| 3/3 [00:00<00:00, 63.83it/s]\n",
      "Train loss: 0.23311:  13%|████████                                                      | 3/23 [00:00<00:00, 27.03it/s]"
     ]
    },
    {
     "name": "stdout",
     "output_type": "stream",
     "text": [
      "Starting epoch: 6 | phase: valid | ⏰: 06:50:17 \n",
      "Validation loss: 0.26071880757808685\n",
      "Starting epoch: 7 | phase: train | ⏰: 06:50:17 | Learning rate: 0.010000\n"
     ]
    },
    {
     "name": "stderr",
     "output_type": "stream",
     "text": [
      "Train loss: 0.24655: 100%|█████████████████████████████████████████████████████████████| 23/23 [00:00<00:00, 38.79it/s]\n",
      "Train loss: 0.23141:  17%|██████████▊                                                   | 4/23 [00:00<00:00, 36.36it/s]"
     ]
    },
    {
     "name": "stdout",
     "output_type": "stream",
     "text": [
      "Starting epoch: 8 | phase: train | ⏰: 06:50:17 | Learning rate: 0.010000\n"
     ]
    },
    {
     "name": "stderr",
     "output_type": "stream",
     "text": [
      "Train loss: 0.23757: 100%|█████████████████████████████████████████████████████████████| 23/23 [00:00<00:00, 39.79it/s]\n",
      ": 100%|█████████████████████████████████████████████████████████████████████████████████| 3/3 [00:00<00:00, 65.22it/s]\n",
      "Train loss: 0.23252:  17%|██████████▊                                                   | 4/23 [00:00<00:00, 34.19it/s]"
     ]
    },
    {
     "name": "stdout",
     "output_type": "stream",
     "text": [
      "Starting epoch: 8 | phase: valid | ⏰: 06:50:18 \n",
      "Validation loss: 0.2502630303303401\n",
      "Starting epoch: 9 | phase: train | ⏰: 06:50:18 | Learning rate: 0.010000\n"
     ]
    },
    {
     "name": "stderr",
     "output_type": "stream",
     "text": [
      "Train loss: 0.23201: 100%|█████████████████████████████████████████████████████████████| 23/23 [00:00<00:00, 40.78it/s]\n"
     ]
    },
    {
     "name": "stdout",
     "output_type": "stream",
     "text": [
      "============ Test epoch 47 ============\n",
      "Client  0\n"
     ]
    },
    {
     "name": "stderr",
     "output_type": "stream",
     "text": [
      "\r",
      "  0%|                                                                                        | 0/14177 [00:00<?, ?it/s]"
     ]
    },
    {
     "name": "stdout",
     "output_type": "stream",
     "text": [
      "Number of sessions(hdfs_test_normal): 14177\n",
      "Number of sessions(hdfs_test_abnormal): 4123\n"
     ]
    },
    {
     "name": "stderr",
     "output_type": "stream",
     "text": [
      "100%|████████████████████████████████████████████████████████████████████████████| 14177/14177 [05:31<00:00, 42.70it/s]\n",
      "100%|██████████████████████████████████████████████████████████████████████████████| 4123/4123 [01:06<00:00, 62.38it/s]\n"
     ]
    },
    {
     "name": "stdout",
     "output_type": "stream",
     "text": [
      "false positive (FP): 6267, false negative (FN): 1125, Precision: 71.488%, Recall: 93.319%, F1-measure: 80.957%\n",
      "actual positive (TP+FN): 16838, actual negative (FP+TN): 553366\n",
      "accuracy: 98.704\n",
      "Finished Predicting\n",
      "elapsed_time: 398.07195711135864\n",
      "============ Train epoch 48 ============\n",
      "Client  0\n",
      "File ../data/hdfs/hdfs_train, number of sessions 4855\n",
      "File ../data/hdfs/hdfs_train, number of seqs 46575\n"
     ]
    },
    {
     "name": "stderr",
     "output_type": "stream",
     "text": [
      "  1%|▌                                                                              | 36/5258 [00:00<00:30, 171.19it/s]"
     ]
    },
    {
     "name": "stdout",
     "output_type": "stream",
     "text": [
      "sampling...\n"
     ]
    },
    {
     "name": "stderr",
     "output_type": "stream",
     "text": [
      "100%|█████████████████████████████████████████████████████████████████████████████| 5258/5258 [00:30<00:00, 174.00it/s]\n"
     ]
    },
    {
     "name": "stdout",
     "output_type": "stream",
     "text": [
      "File ../data/hdfs/hdfs_test_normal, number of sessions 553366\n",
      "File ../data/hdfs/hdfs_test_normal, number of seqs 5258\n"
     ]
    },
    {
     "name": "stderr",
     "output_type": "stream",
     "text": [
      "Train loss: 1.21144:  22%|█████████████▍                                                | 5/23 [00:00<00:00, 49.02it/s]"
     ]
    },
    {
     "name": "stdout",
     "output_type": "stream",
     "text": [
      "Find 46575 train logs, 5258 validation logs\n",
      "Train batch size 2048 ,Validation batch size 2048\n",
      "Starting epoch: 0 | phase: train | ⏰: 06:58:21 | Learning rate: 0.000313\n"
     ]
    },
    {
     "name": "stderr",
     "output_type": "stream",
     "text": [
      "Train loss: 0.85244: 100%|█████████████████████████████████████████████████████████████| 23/23 [00:00<00:00, 43.89it/s]\n",
      "Train loss: 0.48723:  22%|█████████████▍                                                | 5/23 [00:00<00:00, 46.73it/s]"
     ]
    },
    {
     "name": "stdout",
     "output_type": "stream",
     "text": [
      "Starting epoch: 1 | phase: train | ⏰: 06:58:21 | Learning rate: 0.000625\n"
     ]
    },
    {
     "name": "stderr",
     "output_type": "stream",
     "text": [
      "Train loss: 0.44990: 100%|█████████████████████████████████████████████████████████████| 23/23 [00:00<00:00, 44.66it/s]\n",
      "Train loss: 0.37816:  22%|█████████████▍                                                | 5/23 [00:00<00:00, 45.87it/s]"
     ]
    },
    {
     "name": "stdout",
     "output_type": "stream",
     "text": [
      "Starting epoch: 2 | phase: train | ⏰: 06:58:22 | Learning rate: 0.001250\n"
     ]
    },
    {
     "name": "stderr",
     "output_type": "stream",
     "text": [
      "Train loss: 0.36116: 100%|█████████████████████████████████████████████████████████████| 23/23 [00:00<00:00, 41.97it/s]\n",
      "Train loss: 0.31507:  22%|█████████████▍                                                | 5/23 [00:00<00:00, 33.33it/s]"
     ]
    },
    {
     "name": "stdout",
     "output_type": "stream",
     "text": [
      "Starting epoch: 3 | phase: train | ⏰: 06:58:22 | Learning rate: 0.002500\n"
     ]
    },
    {
     "name": "stderr",
     "output_type": "stream",
     "text": [
      "Train loss: 0.30938: 100%|█████████████████████████████████████████████████████████████| 23/23 [00:00<00:00, 40.64it/s]\n",
      "Train loss: 0.28753:  22%|█████████████▍                                                | 5/23 [00:00<00:00, 42.02it/s]"
     ]
    },
    {
     "name": "stdout",
     "output_type": "stream",
     "text": [
      "Starting epoch: 4 | phase: train | ⏰: 06:58:23 | Learning rate: 0.005000\n"
     ]
    },
    {
     "name": "stderr",
     "output_type": "stream",
     "text": [
      "Train loss: 0.28213: 100%|█████████████████████████████████████████████████████████████| 23/23 [00:00<00:00, 43.73it/s]\n",
      "Train loss: 0.26228:  22%|█████████████▍                                                | 5/23 [00:00<00:00, 44.25it/s]"
     ]
    },
    {
     "name": "stdout",
     "output_type": "stream",
     "text": [
      "Starting epoch: 5 | phase: train | ⏰: 06:58:23 | Learning rate: 0.010000\n"
     ]
    },
    {
     "name": "stderr",
     "output_type": "stream",
     "text": [
      "Train loss: 0.27104: 100%|█████████████████████████████████████████████████████████████| 23/23 [00:00<00:00, 43.81it/s]\n",
      "Train loss: 0.25780:  22%|█████████████▍                                                | 5/23 [00:00<00:00, 47.17it/s]"
     ]
    },
    {
     "name": "stdout",
     "output_type": "stream",
     "text": [
      "Starting epoch: 6 | phase: train | ⏰: 06:58:24 | Learning rate: 0.010000\n"
     ]
    },
    {
     "name": "stderr",
     "output_type": "stream",
     "text": [
      "Train loss: 0.26124: 100%|█████████████████████████████████████████████████████████████| 23/23 [00:00<00:00, 43.40it/s]\n",
      ": 100%|█████████████████████████████████████████████████████████████████████████████████| 3/3 [00:00<00:00, 71.43it/s]\n",
      "Train loss: 0.25452:  13%|████████                                                      | 3/23 [00:00<00:00, 30.00it/s]"
     ]
    },
    {
     "name": "stdout",
     "output_type": "stream",
     "text": [
      "Starting epoch: 6 | phase: valid | ⏰: 06:58:24 \n",
      "Validation loss: 0.29204251368840534\n",
      "Starting epoch: 7 | phase: train | ⏰: 06:58:24 | Learning rate: 0.010000\n"
     ]
    },
    {
     "name": "stderr",
     "output_type": "stream",
     "text": [
      "Train loss: 0.24850: 100%|█████████████████████████████████████████████████████████████| 23/23 [00:00<00:00, 40.56it/s]\n",
      "Train loss: 0.23233:  22%|█████████████▍                                                | 5/23 [00:00<00:00, 46.30it/s]"
     ]
    },
    {
     "name": "stdout",
     "output_type": "stream",
     "text": [
      "Starting epoch: 8 | phase: train | ⏰: 06:58:25 | Learning rate: 0.010000\n"
     ]
    },
    {
     "name": "stderr",
     "output_type": "stream",
     "text": [
      "Train loss: 0.23939: 100%|█████████████████████████████████████████████████████████████| 23/23 [00:00<00:00, 41.89it/s]\n",
      ": 100%|█████████████████████████████████████████████████████████████████████████████████| 3/3 [00:00<00:00, 57.69it/s]\n",
      "Train loss: 0.22784:  17%|██████████▊                                                   | 4/23 [00:00<00:00, 34.78it/s]"
     ]
    },
    {
     "name": "stdout",
     "output_type": "stream",
     "text": [
      "Starting epoch: 8 | phase: valid | ⏰: 06:58:26 \n",
      "Validation loss: 0.2745112478733063\n",
      "Starting epoch: 9 | phase: train | ⏰: 06:58:26 | Learning rate: 0.010000\n"
     ]
    },
    {
     "name": "stderr",
     "output_type": "stream",
     "text": [
      "Train loss: 0.23215: 100%|█████████████████████████████████████████████████████████████| 23/23 [00:00<00:00, 40.07it/s]\n"
     ]
    },
    {
     "name": "stdout",
     "output_type": "stream",
     "text": [
      "============ Test epoch 48 ============\n",
      "Client  0\n"
     ]
    },
    {
     "name": "stderr",
     "output_type": "stream",
     "text": [
      "  0%|                                                                                | 8/14177 [00:00<03:30, 67.23it/s]"
     ]
    },
    {
     "name": "stdout",
     "output_type": "stream",
     "text": [
      "Number of sessions(hdfs_test_normal): 14177\n",
      "Number of sessions(hdfs_test_abnormal): 4123\n"
     ]
    },
    {
     "name": "stderr",
     "output_type": "stream",
     "text": [
      "100%|████████████████████████████████████████████████████████████████████████████| 14177/14177 [03:39<00:00, 64.53it/s]\n",
      "100%|██████████████████████████████████████████████████████████████████████████████| 4123/4123 [01:06<00:00, 61.99it/s]\n"
     ]
    },
    {
     "name": "stdout",
     "output_type": "stream",
     "text": [
      "false positive (FP): 26500, false negative (FN): 951, Precision: 37.481%, Recall: 94.352%, F1-measure: 53.650%\n",
      "actual positive (TP+FN): 16838, actual negative (FP+TN): 553366\n",
      "accuracy: 95.186\n",
      "Finished Predicting\n",
      "elapsed_time: 286.2209687232971\n",
      "============ Train epoch 49 ============\n",
      "Client  0\n",
      "File ../data/hdfs/hdfs_train, number of sessions 4855\n",
      "File ../data/hdfs/hdfs_train, number of seqs 46575\n"
     ]
    },
    {
     "name": "stderr",
     "output_type": "stream",
     "text": [
      "  1%|▌                                                                              | 35/5258 [00:00<00:30, 170.33it/s]"
     ]
    },
    {
     "name": "stdout",
     "output_type": "stream",
     "text": [
      "sampling...\n"
     ]
    },
    {
     "name": "stderr",
     "output_type": "stream",
     "text": [
      "100%|█████████████████████████████████████████████████████████████████████████████| 5258/5258 [00:30<00:00, 173.59it/s]\n"
     ]
    },
    {
     "name": "stdout",
     "output_type": "stream",
     "text": [
      "File ../data/hdfs/hdfs_test_normal, number of sessions 553366\n",
      "File ../data/hdfs/hdfs_test_normal, number of seqs 5258\n",
      "Find 46575 train logs, 5258 validation logs\n",
      "Train batch size 2048 ,Validation batch size 2048\n"
     ]
    },
    {
     "name": "stderr",
     "output_type": "stream",
     "text": [
      "Train loss: 1.21363:  22%|█████████████▍                                                | 5/23 [00:00<00:00, 42.73it/s]"
     ]
    },
    {
     "name": "stdout",
     "output_type": "stream",
     "text": [
      "Starting epoch: 0 | phase: train | ⏰: 07:04:36 | Learning rate: 0.000313\n"
     ]
    },
    {
     "name": "stderr",
     "output_type": "stream",
     "text": [
      "Train loss: 0.88531: 100%|█████████████████████████████████████████████████████████████| 23/23 [00:00<00:00, 43.23it/s]\n",
      "Train loss: 0.54300:  22%|█████████████▍                                                | 5/23 [00:00<00:00, 43.86it/s]"
     ]
    },
    {
     "name": "stdout",
     "output_type": "stream",
     "text": [
      "Starting epoch: 1 | phase: train | ⏰: 07:04:37 | Learning rate: 0.000625\n"
     ]
    },
    {
     "name": "stderr",
     "output_type": "stream",
     "text": [
      "Train loss: 0.48857: 100%|█████████████████████████████████████████████████████████████| 23/23 [00:00<00:00, 39.12it/s]\n",
      "Train loss: 0.39394:  22%|█████████████▍                                                | 5/23 [00:00<00:00, 43.86it/s]"
     ]
    },
    {
     "name": "stdout",
     "output_type": "stream",
     "text": [
      "Starting epoch: 2 | phase: train | ⏰: 07:04:38 | Learning rate: 0.001250\n"
     ]
    },
    {
     "name": "stderr",
     "output_type": "stream",
     "text": [
      "Train loss: 0.37216: 100%|█████████████████████████████████████████████████████████████| 23/23 [00:00<00:00, 41.97it/s]\n",
      "Train loss: 0.32824:  22%|█████████████▍                                                | 5/23 [00:00<00:00, 33.33it/s]"
     ]
    },
    {
     "name": "stdout",
     "output_type": "stream",
     "text": [
      "Starting epoch: 3 | phase: train | ⏰: 07:04:38 | Learning rate: 0.002500\n"
     ]
    },
    {
     "name": "stderr",
     "output_type": "stream",
     "text": [
      "Train loss: 0.31758: 100%|█████████████████████████████████████████████████████████████| 23/23 [00:00<00:00, 36.92it/s]\n",
      "Train loss: 0.30221:  22%|█████████████▍                                                | 5/23 [00:00<00:00, 42.37it/s]"
     ]
    },
    {
     "name": "stdout",
     "output_type": "stream",
     "text": [
      "Starting epoch: 4 | phase: train | ⏰: 07:04:39 | Learning rate: 0.005000\n"
     ]
    },
    {
     "name": "stderr",
     "output_type": "stream",
     "text": [
      "Train loss: 0.28873: 100%|█████████████████████████████████████████████████████████████| 23/23 [00:00<00:00, 43.07it/s]\n",
      "Train loss: 0.26851:  22%|█████████████▍                                                | 5/23 [00:00<00:00, 43.48it/s]"
     ]
    },
    {
     "name": "stdout",
     "output_type": "stream",
     "text": [
      "Starting epoch: 5 | phase: train | ⏰: 07:04:39 | Learning rate: 0.010000\n"
     ]
    },
    {
     "name": "stderr",
     "output_type": "stream",
     "text": [
      "Train loss: 0.27594: 100%|█████████████████████████████████████████████████████████████| 23/23 [00:00<00:00, 42.12it/s]\n",
      "Train loss: 0.27613:  22%|█████████████▍                                                | 5/23 [00:00<00:00, 41.67it/s]"
     ]
    },
    {
     "name": "stdout",
     "output_type": "stream",
     "text": [
      "Starting epoch: 6 | phase: train | ⏰: 07:04:40 | Learning rate: 0.010000\n"
     ]
    },
    {
     "name": "stderr",
     "output_type": "stream",
     "text": [
      "Train loss: 0.26850: 100%|█████████████████████████████████████████████████████████████| 23/23 [00:00<00:00, 41.07it/s]\n",
      ": 100%|█████████████████████████████████████████████████████████████████████████████████| 3/3 [00:00<00:00, 69.77it/s]\n",
      "Train loss: 0.32371:  17%|██████████▊                                                   | 4/23 [00:00<00:00, 35.71it/s]"
     ]
    },
    {
     "name": "stdout",
     "output_type": "stream",
     "text": [
      "Starting epoch: 6 | phase: valid | ⏰: 07:04:40 \n",
      "Validation loss: 0.33581358194351196\n",
      "Starting epoch: 7 | phase: train | ⏰: 07:04:40 | Learning rate: 0.010000\n"
     ]
    },
    {
     "name": "stderr",
     "output_type": "stream",
     "text": [
      "Train loss: 0.30573: 100%|█████████████████████████████████████████████████████████████| 23/23 [00:00<00:00, 39.86it/s]\n",
      "Train loss: 0.27485:  22%|█████████████▍                                                | 5/23 [00:00<00:00, 40.98it/s]"
     ]
    },
    {
     "name": "stdout",
     "output_type": "stream",
     "text": [
      "Starting epoch: 8 | phase: train | ⏰: 07:04:41 | Learning rate: 0.010000\n"
     ]
    },
    {
     "name": "stderr",
     "output_type": "stream",
     "text": [
      "Train loss: 0.26345: 100%|█████████████████████████████████████████████████████████████| 23/23 [00:00<00:00, 41.44it/s]\n",
      ": 100%|█████████████████████████████████████████████████████████████████████████████████| 3/3 [00:00<00:00, 61.22it/s]\n",
      "Train loss: 0.24934:  13%|████████                                                      | 3/23 [00:00<00:00, 29.41it/s]"
     ]
    },
    {
     "name": "stdout",
     "output_type": "stream",
     "text": [
      "Starting epoch: 8 | phase: valid | ⏰: 07:04:42 \n",
      "Validation loss: 0.2848997116088867\n",
      "Starting epoch: 9 | phase: train | ⏰: 07:04:42 | Learning rate: 0.010000\n"
     ]
    },
    {
     "name": "stderr",
     "output_type": "stream",
     "text": [
      "Train loss: 0.24641: 100%|█████████████████████████████████████████████████████████████| 23/23 [00:00<00:00, 40.00it/s]\n"
     ]
    },
    {
     "name": "stdout",
     "output_type": "stream",
     "text": [
      "============ Test epoch 49 ============\n",
      "Client  0\n"
     ]
    },
    {
     "name": "stderr",
     "output_type": "stream",
     "text": [
      "\r",
      "  0%|                                                                                        | 0/14177 [00:00<?, ?it/s]"
     ]
    },
    {
     "name": "stdout",
     "output_type": "stream",
     "text": [
      "Number of sessions(hdfs_test_normal): 14177\n",
      "Number of sessions(hdfs_test_abnormal): 4123\n"
     ]
    },
    {
     "name": "stderr",
     "output_type": "stream",
     "text": [
      "100%|████████████████████████████████████████████████████████████████████████████| 14177/14177 [05:33<00:00, 42.45it/s]\n",
      "100%|██████████████████████████████████████████████████████████████████████████████| 4123/4123 [01:05<00:00, 62.70it/s]"
     ]
    },
    {
     "name": "stdout",
     "output_type": "stream",
     "text": [
      "false positive (FP): 24809, false negative (FN): 826, Precision: 39.225%, Recall: 95.094%, F1-measure: 55.540%\n",
      "actual positive (TP+FN): 16838, actual negative (FP+TN): 553366\n",
      "accuracy: 95.504\n",
      "Finished Predicting\n",
      "elapsed_time: 399.7499566078186\n"
     ]
    },
    {
     "name": "stderr",
     "output_type": "stream",
     "text": [
      "\n"
     ]
    }
   ],
   "source": [
    "# # setup model\n",
    "server_model_1 = deeplog_1st(input_size=options['input_size'],\n",
    "                    hidden_size=options['hidden_size'],\n",
    "                    num_layers=options['num_layers'],\n",
    "                    num_keys=options['num_classes']).to(device)\n",
    "server_model_2 = deeplog_2nd(input_size=options['input_size'],\n",
    "                    hidden_size=options['hidden_size'],\n",
    "                    num_layers=options['num_layers'],\n",
    "                    num_keys=options['num_classes']).to(device)\n",
    "\n",
    "# for adaptive velocity\n",
    "v_1 = {}\n",
    "grad_1 = {}\n",
    "v_2 = {}\n",
    "grad_2 = {}\n",
    "\n",
    "for key in server_model_1.state_dict().keys():\n",
    "    v_1[key] = torch.add(torch.zeros_like(server_model_1.state_dict()[key],dtype=torch.float32),args.tau**2)\n",
    "    grad_1[key] = torch.zeros_like(server_model_1.state_dict()[key],dtype=torch.float32)\n",
    "for key in server_model_2.state_dict().keys():\n",
    "    v_2[key] = torch.add(torch.zeros_like(server_model_2.state_dict()[key],dtype=torch.float32),args.tau**2)\n",
    "    grad_2[key] = torch.zeros_like(server_model_2.state_dict()[key],dtype=torch.float32)\n",
    "    \n",
    "\n",
    "# name of each datasets\n",
    "datasets = ['Client'+str(i) for i in range(args.client_num)]\n",
    "# federated client number\n",
    "client_num = len(datasets)\n",
    "client_weights = [1/client_num for i in range(client_num)]\n",
    "# each local client model\n",
    "models_1 = [copy.deepcopy(server_model_1).to(device) for idx in range(client_num)]\n",
    "models_2 = [copy.deepcopy(server_model_2).to(device) for idx in range(client_num)]\n",
    "\n",
    "start_iter = 0\n",
    "\n",
    "for i in range(args.client_num):\n",
    "    exec('lloogg_'+str(i+1)+ \" = {'train':{'epoch':[], 'lr':[], 'time':[], 'loss':[]},'val':{'epoch':[], 'lr':[], 'time':[], 'loss':[]}}\")\n",
    "\n",
    "\n",
    "result_recall = {}\n",
    "result_precision = {}\n",
    "result_f1 = {}\n",
    "result_acc = {}\n",
    "for i in range(client_num):\n",
    "    result_recall[i] = []\n",
    "    result_precision[i] = []\n",
    "    result_f1[i] = []\n",
    "    result_acc[i] = []\n",
    "\n",
    "# Start training\n",
    "for a_iter in range(start_iter, args.iters):\n",
    "#     optimizers = [optim.SGD(params = models[idx].parameters(), lr=args.lr, momentum = args.client_momentum) for idx in range(client_num)]\n",
    "    for wi in range(args.wk_iters):\n",
    "        print(\"============ Train epoch {} ============\".format(wi + a_iter * args.wk_iters))\n",
    "        for client_idx in range(args.client_num):\n",
    "            print('Client ', client_idx)\n",
    "            trainer = Trainer(models_1[client_idx], models_2[client_idx], options, args.client_num, client_idx)\n",
    "            trainer.start_train()\n",
    "            \n",
    "            exec('lloogg_'+str(client_idx+1)+\"['train']['epoch'].append(a_iter)\")\n",
    "            exec('lloogg_'+str(client_idx+1)+\"['train']['lr'].append(trainer.log['train']['lr'][-1])\")\n",
    "            exec('lloogg_'+str(client_idx+1)+\"['train']['time'].append(trainer.log['train']['time'][-1])\")\n",
    "            exec('lloogg_'+str(client_idx+1)+\"['train']['loss'].append(trainer.log['train']['loss'][-1])\")\n",
    "            exec('lloogg_'+str(client_idx+1)+\"['val']['epoch'].append(a_iter)\")\n",
    "            exec('lloogg_'+str(client_idx+1)+\"['val']['lr'].append(trainer.log['valid']['lr'][-1])\")\n",
    "            exec('lloogg_'+str(client_idx+1)+\"['val']['time'].append(trainer.log['valid']['time'][-1])\")\n",
    "            exec('lloogg_'+str(client_idx+1)+\"['val']['loss'].append(trainer.log['valid']['loss'][-1])\")\n",
    "\n",
    "    with torch.no_grad():\n",
    "        # aggregation\n",
    "        server_model_1, server_model_2, models_1, models_2, v_1, v_2, grad_1, grad_2 = communication(args, server_model_1, server_model_2, models_1, models_2, client_weights, v_1, v_2, grad_1, grad_2 )\n",
    "        # Report loss after aggregation\n",
    "        print(\"============ Test epoch {} ============\".format(wi + a_iter * args.wk_iters))\n",
    "\n",
    "        for client_idx in range(args.client_num):\n",
    "            print('Client ', client_idx)\n",
    "            predicter = Predicter(models_1[client_idx], models_2[client_idx], options, args.client_num, client_idx)\n",
    "            predicter.predict_unsupervised()\n",
    "            \n",
    "            result_recall[client_idx].append(predicter.recall)\n",
    "            result_precision[client_idx].append(predicter.precision)\n",
    "            result_f1[client_idx].append(predicter.f1)\n",
    "            result_acc[client_idx].append(predicter.acc)"
   ]
  },
  {
   "cell_type": "code",
   "execution_count": 9,
   "metadata": {
    "ExecuteTime": {
     "end_time": "2022-08-08T23:16:15.141589Z",
     "start_time": "2022-08-08T23:11:24.756620Z"
    }
   },
   "outputs": [
    {
     "name": "stderr",
     "output_type": "stream",
     "text": [
      "\r",
      "  0%|                                                                                        | 0/14177 [00:00<?, ?it/s]"
     ]
    },
    {
     "name": "stdout",
     "output_type": "stream",
     "text": [
      "Number of sessions(hdfs_test_normal): 14177\n",
      "Number of sessions(hdfs_test_abnormal): 4123\n"
     ]
    },
    {
     "name": "stderr",
     "output_type": "stream",
     "text": [
      "100%|████████████████████████████████████████████████████████████████████████████| 14177/14177 [03:59<00:00, 59.25it/s]\n",
      "100%|██████████████████████████████████████████████████████████████████████████████| 4123/4123 [00:48<00:00, 84.58it/s]"
     ]
    },
    {
     "name": "stdout",
     "output_type": "stream",
     "text": [
      "false positive (FP): 24809, false negative (FN): 826, Precision: 39.225%, Recall: 95.094%, F1-measure: 55.540%\n",
      "actual positive (TP+FN): 16838, actual negative (FP+TN): 553366\n",
      "accuracy: 95.504\n",
      "Finished Predicting\n",
      "elapsed_time: 288.01996898651123\n"
     ]
    },
    {
     "name": "stderr",
     "output_type": "stream",
     "text": [
      "\n"
     ]
    }
   ],
   "source": [
    "predicter_s = Predicter(server_model_1, server_model_2, options, 1, 0)\n",
    "predicter_s.predict_unsupervised()"
   ]
  },
  {
   "cell_type": "code",
   "execution_count": 10,
   "metadata": {
    "ExecuteTime": {
     "end_time": "2022-08-08T23:16:17.573858Z",
     "start_time": "2022-08-08T23:16:15.144589Z"
    }
   },
   "outputs": [],
   "source": [
    "for i in range(args.client_num):\n",
    "    exec('''for key, values in lloogg_''' + str(i+1) + '''.items():\n",
    "        pd.DataFrame(values).to_csv('../result/01_dl_sl_dp/fedadam_10e_12_0.03/client_'''+str(i+1)+'''_' + key + '_log.csv', index=False)''')\n",
    "    del key \n",
    "    del values"
   ]
  },
  {
   "cell_type": "code",
   "execution_count": 11,
   "metadata": {
    "ExecuteTime": {
     "end_time": "2022-08-08T23:16:17.637858Z",
     "start_time": "2022-08-08T23:16:17.574858Z"
    }
   },
   "outputs": [],
   "source": [
    "(pd.DataFrame.from_dict(data=result_recall, orient='index').to_csv('../result/01_dl_sl_dp/fedadam_10e_12_0.03/recall.csv', header=False))\n",
    "(pd.DataFrame.from_dict(data=result_precision, orient='index').to_csv('../result/01_dl_sl_dp/fedadam_10e_12_0.03/precision.csv', header=False))\n",
    "(pd.DataFrame.from_dict(data=result_f1, orient='index').to_csv('../result/01_dl_sl_dp/fedadam_10e_12_0.03/f1.csv', header=False))\n",
    "(pd.DataFrame.from_dict(data=result_acc, orient='index').to_csv('../result/01_dl_sl_dp/fedadam_10e_12_0.03/acc.csv', header=False))"
   ]
  },
  {
   "cell_type": "code",
   "execution_count": 12,
   "metadata": {
    "ExecuteTime": {
     "end_time": "2022-08-08T23:16:18.162858Z",
     "start_time": "2022-08-08T23:16:17.638858Z"
    }
   },
   "outputs": [
    {
     "data": {
      "image/png": "[encoded data removed]",
      "text/plain": [
       "<Figure size 432x288 with 1 Axes>"
      ]
     },
     "metadata": {
      "needs_background": "light"
     },
     "output_type": "display_data"
    }
   ],
   "source": [
    "# plot train and validation loss\n",
    "for i in range(args.client_num):\n",
    "    exec(\"plt.plot(lloogg_\"+str(i+1) + \"['train']['epoch'], lloogg_\"+str(i+1)+\"['train']['loss'])\")\n",
    "    exec(\"plt.plot(lloogg_\"+str(i+1) + \"['val']['epoch'], lloogg_\"+str(i+1) + \"['val']['loss'])\")\n",
    "    exec(\"plt.title('model train vs validation loss')\")\n",
    "    exec(\"plt.ylabel('loss')\")\n",
    "    exec(\"plt.xlabel('epoch')\")\n",
    "    exec(\"plt.legend(['train', 'validation'], loc='upper right')\")\n",
    "    exec(\"plt.show()\")"
   ]
  },
  {
   "cell_type": "code",
   "execution_count": 13,
   "metadata": {
    "ExecuteTime": {
     "end_time": "2022-08-08T23:16:18.242858Z",
     "start_time": "2022-08-08T23:16:18.164858Z"
    }
   },
   "outputs": [
    {
     "data": {
      "image/png": "[encoded data removed]",
      "text/plain": [
       "<Figure size 432x288 with 1 Axes>"
      ]
     },
     "metadata": {
      "needs_background": "light"
     },
     "output_type": "display_data"
    }
   ],
   "source": [
    "t = []\n",
    "for i in range(args.client_num):\n",
    "    exec(\"plt.plot(lloogg_\"+str(i+1) + \"['train']['epoch'], lloogg_\"+str(i+1)+\"['train']['loss'])\")\n",
    "    t.append(str(i+1))\n",
    "plt.title('Train loss')\n",
    "plt.ylabel('loss')\n",
    "plt.xlabel('epoch')\n",
    "plt.legend(t, loc='upper right')\n",
    "plt.show()"
   ]
  },
  {
   "cell_type": "code",
   "execution_count": 14,
   "metadata": {
    "ExecuteTime": {
     "end_time": "2022-08-08T23:16:18.338893Z",
     "start_time": "2022-08-08T23:16:18.244860Z"
    }
   },
   "outputs": [
    {
     "data": {
      "image/png": "[encoded data removed]",
      "text/plain": [
       "<Figure size 432x288 with 1 Axes>"
      ]
     },
     "metadata": {
      "needs_background": "light"
     },
     "output_type": "display_data"
    }
   ],
   "source": [
    "t = []\n",
    "for i in range(args.client_num):\n",
    "    exec(\"plt.plot(lloogg_\"+str(i+1) + \"['val']['epoch'], lloogg_\"+str(i+1)+\"['val']['loss'])\")\n",
    "    t.append(str(i+1))\n",
    "plt.title('Validation loss')\n",
    "plt.ylabel('loss')\n",
    "plt.xlabel('epoch')\n",
    "plt.legend(t, loc='upper right')\n",
    "plt.show()"
   ]
  },
  {
   "cell_type": "code",
   "execution_count": 15,
   "metadata": {
    "ExecuteTime": {
     "end_time": "2022-08-08T23:16:18.354858Z",
     "start_time": "2022-08-08T23:16:18.340858Z"
    }
   },
   "outputs": [],
   "source": [
    "result_record_f1 = pd.DataFrame.from_dict(data=result_f1, orient='index')\n",
    "result_record_f1 = np.mean(np.array(result_record_f1), axis = 0)\n",
    "result_record_f1 = result_record_f1.reshape(-1)\n",
    "\n",
    "result_record_acc = pd.DataFrame.from_dict(data=result_acc, orient='index')\n",
    "result_record_acc = np.mean(np.array(result_record_acc), axis = 0)\n",
    "result_record_acc = result_record_acc.reshape(-1)"
   ]
  },
  {
   "cell_type": "code",
   "execution_count": 16,
   "metadata": {
    "ExecuteTime": {
     "end_time": "2022-08-08T23:16:18.449859Z",
     "start_time": "2022-08-08T23:16:18.356858Z"
    }
   },
   "outputs": [
    {
     "data": {
      "image/png": "[encoded data removed]",
      "text/plain": [
       "<Figure size 432x288 with 1 Axes>"
      ]
     },
     "metadata": {
      "needs_background": "light"
     },
     "output_type": "display_data"
    }
   ],
   "source": [
    "for i in range(client_num):\n",
    "    plt.plot(np.arange(args.iters), result_acc[i], label = 'Client '+ str(i+1))\n",
    "plt.legend()\n",
    "plt.show()"
   ]
  },
  {
   "cell_type": "code",
   "execution_count": 17,
   "metadata": {
    "ExecuteTime": {
     "end_time": "2022-08-08T23:16:18.544858Z",
     "start_time": "2022-08-08T23:16:18.451859Z"
    }
   },
   "outputs": [
    {
     "data": {
      "image/png": "[encoded data removed]",
      "text/plain": [
       "<Figure size 432x288 with 1 Axes>"
      ]
     },
     "metadata": {
      "needs_background": "light"
     },
     "output_type": "display_data"
    }
   ],
   "source": [
    "for i in range(client_num):\n",
    "    plt.plot(np.arange(args.iters), result_f1[i], label =  'Client '+ str(i+1))\n",
    "plt.legend()\n",
    "plt.show()"
   ]
  },
  {
   "cell_type": "code",
   "execution_count": null,
   "metadata": {},
   "outputs": [],
   "source": []
  }
 ],
 "metadata": {
  "kernelspec": {
   "display_name": "Python 3",
   "language": "python",
   "name": "python3"
  },
  "language_info": {
   "codemirror_mode": {
    "name": "ipython",
    "version": 3
   },
   "file_extension": ".py",
   "mimetype": "text/x-python",
   "name": "python",
   "nbconvert_exporter": "python",
   "pygments_lexer": "ipython3",
   "version": "3.8.8"
  }
 },
 "nbformat": 4,
 "nbformat_minor": 4
}
