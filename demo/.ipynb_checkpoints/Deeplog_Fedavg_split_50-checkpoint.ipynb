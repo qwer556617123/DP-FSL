{
 "cells": [
  {
   "cell_type": "code",
   "execution_count": 1,
   "metadata": {
    "ExecuteTime": {
     "end_time": "2022-01-21T03:44:43.527425Z",
     "start_time": "2022-01-21T03:44:43.525600Z"
    }
   },
   "outputs": [],
   "source": [
    "import os\n",
    "# set GPU number. This might work for several framework such as PyTorch, TensorFlow, Keras\n",
    "gpu_id = '0'\n",
    "os.environ[\"CUDA_VISIBLE_DEVICES\"]=gpu_id"
   ]
  },
  {
   "cell_type": "code",
   "execution_count": 2,
   "metadata": {
    "ExecuteTime": {
     "end_time": "2022-01-21T03:44:43.532494Z",
     "start_time": "2022-01-21T03:44:43.531146Z"
    }
   },
   "outputs": [],
   "source": [
    "import warnings\n",
    "warnings.filterwarnings(\"ignore\")"
   ]
  },
  {
   "cell_type": "code",
   "execution_count": 3,
   "metadata": {
    "ExecuteTime": {
     "end_time": "2022-01-21T03:44:44.387420Z",
     "start_time": "2022-01-21T03:44:43.534477Z"
    }
   },
   "outputs": [],
   "source": [
    "# sys.path.append('../../loglizer')\n",
    "    \n",
    "# from loglizer import dataloader\n",
    "# from loglizer.preprocessing import Vectorizer, Iterator\n",
    "import sys\n",
    "import torch\n",
    "import torch.nn as nn\n",
    "import torch.nn.functional as func\n",
    "import torch.optim as optim\n",
    "from torch.utils.data import Dataset\n",
    "import torch.utils.data as Data\n",
    "import pickle as pkl\n",
    "import argparse\n",
    "import time\n",
    "import copy\n",
    "import torchvision.transforms as transforms\n",
    "import torchvision\n",
    "import random\n",
    "from collections import OrderedDict\n",
    "from PIL import Image\n",
    "\n",
    "import pandas as pd\n",
    "import math\n",
    "import matplotlib.pyplot as plt\n",
    "import numpy as np\n",
    "\n",
    "from sklearn.metrics import accuracy_score, f1_score, recall_score, precision_score\n",
    "from collections import defaultdict"
   ]
  },
  {
   "cell_type": "code",
   "execution_count": 4,
   "metadata": {
    "ExecuteTime": {
     "end_time": "2022-01-21T03:44:44.400441Z",
     "start_time": "2022-01-21T03:44:44.388453Z"
    }
   },
   "outputs": [],
   "source": [
    "# struct_log = '../data/HDFS/HDFS.log_structured.csv' # The structured log file\n",
    "\n",
    "#初始參數\n",
    "class Parser():\n",
    "    def __init__(self):\n",
    "        self.mode = 'fedavg'  #FedBN,FedAvg,fedprox,fedopt,fedadagrad,fedadam 待加入scoffold\n",
    "        #所有方法都有使用Fedbn\n",
    "        self.beta_1 = 0.9\n",
    "        self.beta_2 = 0.99 #b1,b2 for adaptive opt\n",
    "        self.tau = 1e-2\n",
    "        self.batch = 32\n",
    "        self.lr = 1e-2\n",
    "        self.server_lr = 1e-1\n",
    "        self.server_momentum = 0.5\n",
    "        self.client_momentum = 0.9 # 0 is fedavg others is fedavgm\n",
    "        self.no_cuda = False\n",
    "        self.seed = 1\n",
    "        self.client_num = 5\n",
    "        self.wk_iters = 1 # training\n",
    "        self.num_workers = 2 # dataloader\n",
    "        self.mu = 1e-3\n",
    "        self.iters = 50 #epochs\n",
    "        self.local_epoches = 1\n",
    "        self.server_opt = 'sgd'\n",
    "        self.percent = 1\n",
    "#         self.early_stop = 500\n",
    "        self.window_size = 10\n",
    "        self.train_ratio = 0.5\n",
    "        self.split_type='sequential' # sequential, uniform\n",
    "\n",
    "        \n",
    "args = Parser()\n",
    "\n",
    "use_cuda = not args.no_cuda and torch.cuda.is_available()\n",
    "np.random.seed(args.seed)\n",
    "torch.manual_seed(args.seed)\n",
    "torch.cuda.manual_seed_all(args.seed) \n",
    "random.seed(args.seed)\n",
    "device = torch.device(\"cuda\" if use_cuda else \"cpu\")"
   ]
  },
  {
   "cell_type": "code",
   "execution_count": 5,
   "metadata": {
    "ExecuteTime": {
     "end_time": "2022-01-21T03:44:44.410976Z",
     "start_time": "2022-01-21T03:44:44.401652Z"
    }
   },
   "outputs": [],
   "source": [
    "sys.path.append('../')\n",
    "from logdeep.models.lstm import deeplog, loganomaly, robustlog\n",
    "from logdeep.tools.predict import Predicter\n",
    "from logdeep.tools.train import Trainer\n",
    "from logdeep.tools.utils import *\n",
    "\n",
    "# Config Parameters\n",
    "\n",
    "options = dict()\n",
    "options['data_dir'] = '../data/'\n",
    "options['window_size'] = 10\n",
    "options['device'] = 0\n",
    "\n",
    "# Smaple\n",
    "options['sample'] = \"sliding_window\"\n",
    "options['window_size'] = 10  # if fix_window\n",
    "\n",
    "# Features\n",
    "options['sequentials'] = True\n",
    "options['quantitatives'] = False\n",
    "options['semantics'] = False\n",
    "options['feature_num'] = sum(\n",
    "    [options['sequentials'], options['quantitatives'], options['semantics']])\n",
    "\n",
    "# Model\n",
    "options['input_size'] = 1\n",
    "options['hidden_size'] = 64\n",
    "options['num_layers'] = 2\n",
    "options['num_classes'] = 28\n",
    "\n",
    "# Train\n",
    "options['batch_size'] = 2048\n",
    "options['accumulation_step'] = 1\n",
    "\n",
    "options['optimizer'] = 'adam'\n",
    "options['lr'] = 1e-2\n",
    "options['max_epoch'] = 1\n",
    "options['lr_step'] = (300, 350)\n",
    "options['lr_decay_ratio'] = 0.1\n",
    "\n",
    "options['resume_path'] = None\n",
    "options['model_name'] = \"deeplog\"\n",
    "options['save_dir'] = \"../result/deeplog/\"\n",
    "\n",
    "# Predict\n",
    "options['model_path'] = \"../result/deeplog/deeplog_last.pth\"\n",
    "options['num_candidates'] = 9\n",
    "\n",
    "seed_everything(seed=1234)\n",
    "\n",
    "\n",
    "def train():\n",
    "    trainer = Trainer(Model, options)\n",
    "    trainer.start_train()\n",
    "\n",
    "\n",
    "def predict():\n",
    "    predicter = Predicter(Model, options)\n",
    "    predicter.predict_unsupervised()"
   ]
  },
  {
   "cell_type": "markdown",
   "metadata": {},
   "source": [
    "# Preprocessing"
   ]
  },
  {
   "cell_type": "code",
   "execution_count": 6,
   "metadata": {
    "ExecuteTime": {
     "end_time": "2022-01-21T03:44:44.413270Z",
     "start_time": "2022-01-21T03:44:44.411888Z"
    }
   },
   "outputs": [],
   "source": [
    "# df = pd.read_csv(struct_log)\n",
    "# print(df.shape)\n",
    "\n",
    "# for i in range(args.client_num):\n",
    "#     bound = int(df.shape[0]/args.client_num)\n",
    "#     ddf = df[i* bound : (i+1)* bound]\n",
    "#     ddf.to_csv(\"../../loglizer/data/client_alldata/client_\"+str(i)+\".csv\", index=None)\n",
    "#     print('Client',i, ddf.shape)\n",
    "#     del ddf\n",
    "# del df "
   ]
  },
  {
   "cell_type": "code",
   "execution_count": 7,
   "metadata": {
    "ExecuteTime": {
     "end_time": "2022-01-21T03:44:44.423484Z",
     "start_time": "2022-01-21T03:44:44.414114Z"
    }
   },
   "outputs": [],
   "source": [
    "class deeplog(nn.Module):\n",
    "    def __init__(self, input_size, hidden_size, num_layers, num_keys):\n",
    "        super(deeplog, self).__init__()\n",
    "        self.hidden_size = hidden_size\n",
    "        self.num_layers = num_layers\n",
    "        self.lstm = nn.LSTM(input_size,\n",
    "                            hidden_size,\n",
    "                            num_layers,\n",
    "                            batch_first=True)\n",
    "        self.fc = nn.Linear(hidden_size, num_keys)\n",
    "\n",
    "    def forward(self, features, device):\n",
    "        input0 = features[0]\n",
    "        h0 = torch.zeros(self.num_layers, input0.size(0),\n",
    "                         self.hidden_size).to(device)\n",
    "        c0 = torch.zeros(self.num_layers, input0.size(0),\n",
    "                         self.hidden_size).to(device)\n",
    "        out, _ = self.lstm(input0, (h0, c0))\n",
    "        out = self.fc(out[:, -1, :])\n",
    "        return out\n",
    "\n",
    "\n",
    "class loganomaly(nn.Module):\n",
    "    def __init__(self, input_size, hidden_size, num_layers, num_keys):\n",
    "        super(loganomaly, self).__init__()\n",
    "        self.hidden_size = hidden_size\n",
    "        self.num_layers = num_layers\n",
    "        self.lstm0 = nn.LSTM(input_size,\n",
    "                             hidden_size,\n",
    "                             num_layers,\n",
    "                             batch_first=True)\n",
    "        self.lstm1 = nn.LSTM(input_size,\n",
    "                             hidden_size,\n",
    "                             num_layers,\n",
    "                             batch_first=True)\n",
    "        self.fc = nn.Linear(2 * hidden_size, num_keys)\n",
    "        self.attention_size = self.hidden_size\n",
    "\n",
    "        self.w_omega = Variable(\n",
    "            torch.zeros(self.hidden_size, self.attention_size))\n",
    "        self.u_omega = Variable(torch.zeros(self.attention_size))\n",
    "\n",
    "        self.sequence_length = 28\n",
    "\n",
    "    def attention_net(self, lstm_output):\n",
    "        output_reshape = torch.Tensor.reshape(lstm_output,\n",
    "                                              [-1, self.hidden_size])\n",
    "        attn_tanh = torch.tanh(torch.mm(output_reshape, self.w_omega))\n",
    "        attn_hidden_layer = torch.mm(\n",
    "            attn_tanh, torch.Tensor.reshape(self.u_omega, [-1, 1]))\n",
    "        exps = torch.Tensor.reshape(torch.exp(attn_hidden_layer),\n",
    "                                    [-1, self.sequence_length])\n",
    "        alphas = exps / torch.Tensor.reshape(torch.sum(exps, 1), [-1, 1])\n",
    "        alphas_reshape = torch.Tensor.reshape(alphas,\n",
    "                                              [-1, self.sequence_length, 1])\n",
    "        state = lstm_output\n",
    "        attn_output = torch.sum(state * alphas_reshape, 1)\n",
    "        return attn_output\n",
    "\n",
    "    def forward(self, features, device):\n",
    "        input0, input1 = features[0], features[1]\n",
    "\n",
    "        h0_0 = torch.zeros(self.num_layers, input0.size(0),\n",
    "                           self.hidden_size).to(device)\n",
    "        c0_0 = torch.zeros(self.num_layers, input0.size(0),\n",
    "                           self.hidden_size).to(device)\n",
    "\n",
    "        out0, _ = self.lstm0(input0, (h0_0, c0_0))\n",
    "\n",
    "        h0_1 = torch.zeros(self.num_layers, input1.size(0),\n",
    "                           self.hidden_size).to(device)\n",
    "        c0_1 = torch.zeros(self.num_layers, input1.size(0),\n",
    "                           self.hidden_size).to(device)\n",
    "\n",
    "        out1, _ = self.lstm1(input1, (h0_1, c0_1))\n",
    "        multi_out = torch.cat((out0[:, -1, :], out1[:, -1, :]), -1)\n",
    "        out = self.fc(multi_out)\n",
    "        return out\n",
    "\n",
    "\n",
    "class robustlog(nn.Module):\n",
    "    def __init__(self, input_size, hidden_size, num_layers, num_keys):\n",
    "        super(robustlog, self).__init__()\n",
    "        self.hidden_size = hidden_size\n",
    "        self.num_layers = num_layers\n",
    "        self.lstm = nn.LSTM(input_size,\n",
    "                            hidden_size,\n",
    "                            num_layers,\n",
    "                            batch_first=True)\n",
    "        self.fc = nn.Linear(hidden_size, num_keys)\n",
    "\n",
    "    def forward(self, features, device):\n",
    "        input0 = features[0]\n",
    "        h0 = torch.zeros(self.num_layers, input0.size(0),\n",
    "                         self.hidden_size).to(device)\n",
    "        c0 = torch.zeros(self.num_layers, input0.size(0),\n",
    "                         self.hidden_size).to(device)\n",
    "        out, _ = self.lstm(input0, (h0, c0))\n",
    "        out = self.fc(out[:, -1, :])\n",
    "        return out\n"
   ]
  },
  {
   "cell_type": "code",
   "execution_count": 8,
   "metadata": {
    "ExecuteTime": {
     "end_time": "2022-01-21T03:44:44.425926Z",
     "start_time": "2022-01-21T03:44:44.424341Z"
    }
   },
   "outputs": [],
   "source": [
    "# def datasplit(args, gpu_id = 1):\n",
    "#     train_loaders = []\n",
    "#     test_loaders = []\n",
    "#     hidden_size = 32\n",
    "#     num_directions = 2\n",
    "#     topk = 5\n",
    "    \n",
    "#     for i in range(args.client_num):\n",
    "#         struct_log = '../../loglizer/data/client_data/client_'+str(i)+\".csv\"\n",
    "#         label_file = '../../loglizer/data/HDFS/anomaly_label.csv' # The anomaly label file\n",
    "        \n",
    "#         (x_train, window_y_train, y_train), (x_test, window_y_test, y_test) = dataloader.load_HDFS(i, struct_log, label_file = label_file, window='session', window_size=args.window_size, train_ratio=args.train_ratio, split_type=args.split_type)\n",
    "#         feature_extractor = Vectorizer()\n",
    "#         train_dataset = feature_extractor.fit_transform(x_train, window_y_train, y_train)\n",
    "#         test_dataset = feature_extractor.transform(x_test, window_y_test, y_test)\n",
    "#         train_loader = Iterator(train_dataset, batch_size=args.batch, shuffle=True, num_workers=args.num_workers).iter\n",
    "#         test_loader = Iterator(test_dataset, batch_size=args.batch, shuffle=False, num_workers=args.num_workers).iter\n",
    "#         train_loaders.append(train_loader)\n",
    "#         test_loaders.append(test_loader)\n",
    "        \n",
    "#     server_model = DeepLog(num_labels=feature_extractor.num_labels, hidden_size=hidden_size, num_directions=num_directions, topk=topk).to(device)\n",
    "    \n",
    "#     return train_loaders, test_loaders, server_model"
   ]
  },
  {
   "cell_type": "code",
   "execution_count": 9,
   "metadata": {
    "ExecuteTime": {
     "end_time": "2022-01-21T03:44:44.428312Z",
     "start_time": "2022-01-21T03:44:44.426610Z"
    }
   },
   "outputs": [],
   "source": [
    "# train_loaders, test_loaders, server_model = datasplit(args, gpu_id = 1)"
   ]
  },
  {
   "cell_type": "markdown",
   "metadata": {},
   "source": [
    "# Federated learning"
   ]
  },
  {
   "cell_type": "code",
   "execution_count": 10,
   "metadata": {
    "ExecuteTime": {
     "end_time": "2022-01-21T03:44:44.437721Z",
     "start_time": "2022-01-21T03:44:44.429588Z"
    }
   },
   "outputs": [],
   "source": [
    "def communication(args, server_model, models, client_weights, v, grad):\n",
    "    if args.mode.lower() == 'fedbn':\n",
    "        with torch.no_grad():\n",
    "            for key in server_model.state_dict().keys():\n",
    "                if 'bn' not in key: #非BN層都去交換\n",
    "                    temp = torch.zeros_like(server_model.state_dict()[key], dtype=torch.float32)\n",
    "                    for client_idx in range(client_num):\n",
    "                        temp += client_weights[client_idx] * models[client_idx].state_dict()[key]\n",
    "                    server_model.state_dict()[key].data.copy_(temp)\n",
    "                    for client_idx in range(client_num):\n",
    "                        models[client_idx].state_dict()[key].data.copy_(server_model.state_dict()[key])\n",
    "    \n",
    "    elif args.mode.lower() == 'fedadagrad':\n",
    "        with torch.no_grad():\n",
    "            for key, param in server_model.named_parameters():\n",
    "                temp = torch.zeros_like(server_model.state_dict()[key])\n",
    "                for client_idx in range(len(client_weights)):\n",
    "                    temp = temp + client_weights[client_idx] * models[client_idx].state_dict()[key]                          \n",
    "                param.grad = temp - param.data              \n",
    "                param.grad = torch.mul(grad[key], args.beta_1) + torch.mul(param.grad, 1-args.beta_1)\n",
    "                grad[key] = param.grad\n",
    "                v[key] = v[key] + param.grad**2\n",
    "                param.data = param.data + torch.mul(torch.div(param.grad, torch.add(torch.sqrt(v[key]),args.tau)), args.server_lr) \n",
    "\n",
    "                for client_idx in range(len(client_weights)):\n",
    "                    models[client_idx].state_dict()[key].data.copy_(server_model.state_dict()[key])            \n",
    "    \n",
    "    elif args.mode.lower() == 'fedadam':\n",
    "        with torch.no_grad():\n",
    "            for key, param in server_model.named_parameters():                \n",
    "                temp = torch.zeros_like(server_model.state_dict()[key])\n",
    "                for client_idx in range(len(client_weights)):\n",
    "                    temp += client_weights[client_idx] * models[client_idx].state_dict()[key]                         \n",
    "                param.grad = temp - param.data              \n",
    "                param.grad = torch.mul(grad[key], args.beta_1) + torch.mul(param.grad, 1-args.beta_1) \n",
    "                grad[key] = param.grad                \n",
    "                v[key] = torch.mul(v[key], args.beta_2) + torch.mul(param.grad**2, 1-args.beta_2)\n",
    "                param.data = param.data + torch.mul(torch.div(param.grad, torch.add(torch.sqrt(v[key]),args.tau)), args.server_lr)\n",
    "                \n",
    "                for client_idx in range(len(client_weights)):\n",
    "                    models[client_idx].state_dict()[key].data.copy_(server_model.state_dict()[key])\n",
    "\n",
    "    else:\n",
    "        with torch.no_grad():\n",
    "            for key in server_model.state_dict().keys():#遇到BN層就直接拿第一個client參數使用\n",
    "                # num_batches_tracked is a non trainable LongTensor and\n",
    "                # num_batches_tracked are the same for all clients for the given datasets\n",
    "                if 'num_batches_tracked' in key:\n",
    "                    server_model.state_dict()[key].data.copy_(models[0].state_dict()[key])\n",
    "                else:\n",
    "                    temp = torch.zeros_like(server_model.state_dict()[key]).to(device)\n",
    "                    for client_idx in range(len(client_weights)):\n",
    "                        temp += client_weights[client_idx] * models[client_idx].state_dict()[key]                        \n",
    "                    server_model.state_dict()[key].data.copy_(temp)#weight傳給server\n",
    "                    for client_idx in range(len(client_weights)):\n",
    "                        models[client_idx].state_dict()[key].data.copy_(server_model.state_dict()[key])        \n",
    "    return server_model, models, v, grad"
   ]
  },
  {
   "cell_type": "code",
   "execution_count": 11,
   "metadata": {
    "ExecuteTime": {
     "end_time": "2022-01-21T15:43:58.364040Z",
     "start_time": "2022-01-21T03:44:44.438658Z"
    }
   },
   "outputs": [
    {
     "name": "stdout",
     "output_type": "stream",
     "text": [
      "============ Train epoch 0 ============\n",
      "Client  0\n",
      "File ../data/hdfs/hdfs_train, number of sessions 971\n",
      "File ../data/hdfs/hdfs_train, number of seqs 9420\n",
      "sampling...\n"
     ]
    },
    {
     "name": "stderr",
     "output_type": "stream",
     "text": [
      "100%|██████████| 1058/1058 [00:00<00:00, 3552.17it/s]\n"
     ]
    },
    {
     "name": "stdout",
     "output_type": "stream",
     "text": [
      "File ../data/hdfs/hdfs_test_normal, number of sessions 110673\n",
      "File ../data/hdfs/hdfs_test_normal, number of seqs 1058\n",
      "Find 9420 train logs, 1058 validation logs\n",
      "Train batch size 2048 ,Validation batch size 2048\n",
      "Starting epoch: 0 | phase: train | ⏰: 11:44:57 | Learning rate: 0.000313\n"
     ]
    },
    {
     "name": "stderr",
     "output_type": "stream",
     "text": [
      "Train loss: 3.29352: 100%|██████████| 5/5 [00:00<00:00, 53.15it/s]\n"
     ]
    },
    {
     "name": "stdout",
     "output_type": "stream",
     "text": [
      "Starting epoch: 0 | phase: valid | ⏰: 11:44:57 \n"
     ]
    },
    {
     "name": "stderr",
     "output_type": "stream",
     "text": [
      ": 100%|██████████| 1/1 [00:00<00:00, 93.35it/s]\n"
     ]
    },
    {
     "name": "stdout",
     "output_type": "stream",
     "text": [
      "Validation loss: 3.2620556354522705\n",
      "Client  1\n",
      "File ../data/hdfs/hdfs_train, number of sessions 971\n",
      "File ../data/hdfs/hdfs_train, number of seqs 9080\n",
      "sampling...\n"
     ]
    },
    {
     "name": "stderr",
     "output_type": "stream",
     "text": [
      "100%|██████████| 1046/1046 [00:00<00:00, 3450.25it/s]\n"
     ]
    },
    {
     "name": "stdout",
     "output_type": "stream",
     "text": [
      "File ../data/hdfs/hdfs_test_normal, number of sessions 110673\n",
      "File ../data/hdfs/hdfs_test_normal, number of seqs 1046\n",
      "Find 9080 train logs, 1046 validation logs\n",
      "Train batch size 2048 ,Validation batch size 2048\n",
      "Starting epoch: 0 | phase: train | ⏰: 11:45:09 | Learning rate: 0.000313\n"
     ]
    },
    {
     "name": "stderr",
     "output_type": "stream",
     "text": [
      "Train loss: 3.29209: 100%|██████████| 5/5 [00:00<00:00, 58.50it/s]\n"
     ]
    },
    {
     "name": "stdout",
     "output_type": "stream",
     "text": [
      "Starting epoch: 0 | phase: valid | ⏰: 11:45:09 \n"
     ]
    },
    {
     "name": "stderr",
     "output_type": "stream",
     "text": [
      ": 100%|██████████| 1/1 [00:00<00:00, 96.85it/s]\n"
     ]
    },
    {
     "name": "stdout",
     "output_type": "stream",
     "text": [
      "Validation loss: 3.2620654106140137\n",
      "Client  2\n",
      "File ../data/hdfs/hdfs_train, number of sessions 971\n",
      "File ../data/hdfs/hdfs_train, number of seqs 9485\n",
      "sampling...\n"
     ]
    },
    {
     "name": "stderr",
     "output_type": "stream",
     "text": [
      "100%|██████████| 1051/1051 [00:00<00:00, 3562.10it/s]\n"
     ]
    },
    {
     "name": "stdout",
     "output_type": "stream",
     "text": [
      "File ../data/hdfs/hdfs_test_normal, number of sessions 110673\n",
      "File ../data/hdfs/hdfs_test_normal, number of seqs 1051\n",
      "Find 9485 train logs, 1051 validation logs\n",
      "Train batch size 2048 ,Validation batch size 2048\n",
      "Starting epoch: 0 | phase: train | ⏰: 11:45:20 | Learning rate: 0.000313\n"
     ]
    },
    {
     "name": "stderr",
     "output_type": "stream",
     "text": [
      "Train loss: 3.29515: 100%|██████████| 5/5 [00:00<00:00, 56.55it/s]\n"
     ]
    },
    {
     "name": "stdout",
     "output_type": "stream",
     "text": [
      "Starting epoch: 0 | phase: valid | ⏰: 11:45:21 \n"
     ]
    },
    {
     "name": "stderr",
     "output_type": "stream",
     "text": [
      ": 100%|██████████| 1/1 [00:00<00:00, 97.87it/s]"
     ]
    },
    {
     "name": "stdout",
     "output_type": "stream",
     "text": [
      "Validation loss: 3.2642626762390137\n",
      "Client  3\n"
     ]
    },
    {
     "name": "stderr",
     "output_type": "stream",
     "text": [
      "\n"
     ]
    },
    {
     "name": "stdout",
     "output_type": "stream",
     "text": [
      "File ../data/hdfs/hdfs_train, number of sessions 971\n",
      "File ../data/hdfs/hdfs_train, number of seqs 9267\n",
      "sampling...\n"
     ]
    },
    {
     "name": "stderr",
     "output_type": "stream",
     "text": [
      "100%|██████████| 1057/1057 [00:00<00:00, 3526.03it/s]\n"
     ]
    },
    {
     "name": "stdout",
     "output_type": "stream",
     "text": [
      "File ../data/hdfs/hdfs_test_normal, number of sessions 110673\n",
      "File ../data/hdfs/hdfs_test_normal, number of seqs 1057\n",
      "Find 9267 train logs, 1057 validation logs\n",
      "Train batch size 2048 ,Validation batch size 2048\n",
      "Starting epoch: 0 | phase: train | ⏰: 11:45:32 | Learning rate: 0.000313\n"
     ]
    },
    {
     "name": "stderr",
     "output_type": "stream",
     "text": [
      "Train loss: 3.29301: 100%|██████████| 5/5 [00:00<00:00, 57.18it/s]\n"
     ]
    },
    {
     "name": "stdout",
     "output_type": "stream",
     "text": [
      "Starting epoch: 0 | phase: valid | ⏰: 11:45:32 \n"
     ]
    },
    {
     "name": "stderr",
     "output_type": "stream",
     "text": [
      ": 100%|██████████| 1/1 [00:00<00:00, 101.10it/s]\n"
     ]
    },
    {
     "name": "stdout",
     "output_type": "stream",
     "text": [
      "Validation loss: 3.2629828453063965\n",
      "Client  4\n",
      "File ../data/hdfs/hdfs_train, number of sessions 971\n",
      "File ../data/hdfs/hdfs_train, number of seqs 9323\n",
      "sampling...\n"
     ]
    },
    {
     "name": "stderr",
     "output_type": "stream",
     "text": [
      "100%|██████████| 1044/1044 [00:00<00:00, 3453.82it/s]\n"
     ]
    },
    {
     "name": "stdout",
     "output_type": "stream",
     "text": [
      "File ../data/hdfs/hdfs_test_normal, number of sessions 110673\n",
      "File ../data/hdfs/hdfs_test_normal, number of seqs 1044\n",
      "Find 9323 train logs, 1044 validation logs\n",
      "Train batch size 2048 ,Validation batch size 2048\n",
      "Starting epoch: 0 | phase: train | ⏰: 11:45:44 | Learning rate: 0.000313\n"
     ]
    },
    {
     "name": "stderr",
     "output_type": "stream",
     "text": [
      "Train loss: 3.29255: 100%|██████████| 5/5 [00:00<00:00, 49.34it/s]\n"
     ]
    },
    {
     "name": "stdout",
     "output_type": "stream",
     "text": [
      "Starting epoch: 0 | phase: valid | ⏰: 11:45:44 \n"
     ]
    },
    {
     "name": "stderr",
     "output_type": "stream",
     "text": [
      ": 100%|██████████| 1/1 [00:00<00:00, 102.03it/s]\n"
     ]
    },
    {
     "name": "stdout",
     "output_type": "stream",
     "text": [
      "Validation loss: 3.267530918121338\n",
      "============ Test epoch 0 ============\n",
      "Client  0\n",
      "Number of sessions(hdfs_test_normal): 5813\n",
      "Number of sessions(hdfs_test_abnormal): 1136\n"
     ]
    },
    {
     "name": "stderr",
     "output_type": "stream",
     "text": [
      "100%|██████████| 5813/5813 [00:23<00:00, 244.86it/s]\n",
      "100%|██████████| 1136/1136 [00:04<00:00, 281.22it/s]\n"
     ]
    },
    {
     "name": "stdout",
     "output_type": "stream",
     "text": [
      "false positive (FP): 103930, false negative (FN): 63, Precision: 3.081%, Recall: 98.129%, F1-measure: 5.975%\n",
      "actual positive (TP+FN): 3367, actual negative (FP+TN): 110673\n",
      "accuracy: 8.810\n",
      "Finished Predicting\n",
      "elapsed_time: 27.781818628311157\n",
      "Client  1\n",
      "Number of sessions(hdfs_test_normal): 5574\n",
      "Number of sessions(hdfs_test_abnormal): 1139\n"
     ]
    },
    {
     "name": "stderr",
     "output_type": "stream",
     "text": [
      "100%|██████████| 5574/5574 [00:22<00:00, 243.88it/s]\n",
      "100%|██████████| 1139/1139 [00:04<00:00, 271.77it/s]\n"
     ]
    },
    {
     "name": "stdout",
     "output_type": "stream",
     "text": [
      "false positive (FP): 104451, false negative (FN): 78, Precision: 3.053%, Recall: 97.683%, F1-measure: 5.920%\n",
      "actual positive (TP+FN): 3367, actual negative (FP+TN): 110673\n",
      "accuracy: 8.340\n",
      "Finished Predicting\n",
      "elapsed_time: 27.049076557159424\n",
      "Client  2\n",
      "Number of sessions(hdfs_test_normal): 5730\n",
      "Number of sessions(hdfs_test_abnormal): 1118\n"
     ]
    },
    {
     "name": "stderr",
     "output_type": "stream",
     "text": [
      "100%|██████████| 5730/5730 [00:23<00:00, 245.70it/s]\n",
      "100%|██████████| 1118/1118 [00:04<00:00, 275.37it/s]\n"
     ]
    },
    {
     "name": "stdout",
     "output_type": "stream",
     "text": [
      "false positive (FP): 104168, false negative (FN): 67, Precision: 3.071%, Recall: 98.010%, F1-measure: 5.955%\n",
      "actual positive (TP+FN): 3367, actual negative (FP+TN): 110673\n",
      "accuracy: 8.598\n",
      "Finished Predicting\n",
      "elapsed_time: 27.382937908172607\n",
      "Client  3\n",
      "Number of sessions(hdfs_test_normal): 5747\n",
      "Number of sessions(hdfs_test_abnormal): 1159\n"
     ]
    },
    {
     "name": "stderr",
     "output_type": "stream",
     "text": [
      "100%|██████████| 5747/5747 [00:22<00:00, 253.47it/s]\n",
      "100%|██████████| 1159/1159 [00:04<00:00, 278.24it/s]\n"
     ]
    },
    {
     "name": "stdout",
     "output_type": "stream",
     "text": [
      "false positive (FP): 104017, false negative (FN): 57, Precision: 3.084%, Recall: 98.307%, F1-measure: 5.980%\n",
      "actual positive (TP+FN): 3367, actual negative (FP+TN): 110673\n",
      "accuracy: 8.739\n",
      "Finished Predicting\n",
      "elapsed_time: 26.841127395629883\n",
      "Client  4\n",
      "Number of sessions(hdfs_test_normal): 5623\n",
      "Number of sessions(hdfs_test_abnormal): 1121\n"
     ]
    },
    {
     "name": "stderr",
     "output_type": "stream",
     "text": [
      "100%|██████████| 5623/5623 [00:21<00:00, 257.24it/s]\n",
      "100%|██████████| 1121/1121 [00:03<00:00, 308.37it/s]\n"
     ]
    },
    {
     "name": "stdout",
     "output_type": "stream",
     "text": [
      "false positive (FP): 104293, false negative (FN): 59, Precision: 3.074%, Recall: 98.248%, F1-measure: 5.962%\n",
      "actual positive (TP+FN): 3367, actual negative (FP+TN): 110673\n",
      "accuracy: 8.495\n",
      "Finished Predicting\n",
      "elapsed_time: 25.497079372406006\n",
      "============ Train epoch 1 ============\n",
      "Client  0\n",
      "File ../data/hdfs/hdfs_train, number of sessions 971\n",
      "File ../data/hdfs/hdfs_train, number of seqs 9420\n",
      "sampling...\n"
     ]
    },
    {
     "name": "stderr",
     "output_type": "stream",
     "text": [
      "100%|██████████| 1058/1058 [00:00<00:00, 2517.19it/s]\n"
     ]
    },
    {
     "name": "stdout",
     "output_type": "stream",
     "text": [
      "File ../data/hdfs/hdfs_test_normal, number of sessions 110673\n",
      "File ../data/hdfs/hdfs_test_normal, number of seqs 1058\n",
      "Find 9420 train logs, 1058 validation logs\n",
      "Train batch size 2048 ,Validation batch size 2048\n",
      "Starting epoch: 0 | phase: train | ⏰: 11:48:15 | Learning rate: 0.000313\n"
     ]
    },
    {
     "name": "stderr",
     "output_type": "stream",
     "text": [
      "Train loss: 3.23851: 100%|██████████| 5/5 [00:00<00:00, 36.08it/s]\n"
     ]
    },
    {
     "name": "stdout",
     "output_type": "stream",
     "text": [
      "Starting epoch: 0 | phase: valid | ⏰: 11:48:15 \n"
     ]
    },
    {
     "name": "stderr",
     "output_type": "stream",
     "text": [
      ": 100%|██████████| 1/1 [00:00<00:00, 90.47it/s]\n"
     ]
    },
    {
     "name": "stdout",
     "output_type": "stream",
     "text": [
      "Validation loss: 3.2028768062591553\n",
      "Client  1\n",
      "File ../data/hdfs/hdfs_train, number of sessions 971\n",
      "File ../data/hdfs/hdfs_train, number of seqs 9080\n",
      "sampling...\n"
     ]
    },
    {
     "name": "stderr",
     "output_type": "stream",
     "text": [
      "100%|██████████| 1046/1046 [00:00<00:00, 2781.76it/s]\n"
     ]
    },
    {
     "name": "stdout",
     "output_type": "stream",
     "text": [
      "File ../data/hdfs/hdfs_test_normal, number of sessions 110673\n",
      "File ../data/hdfs/hdfs_test_normal, number of seqs 1046\n",
      "Find 9080 train logs, 1046 validation logs\n",
      "Train batch size 2048 ,Validation batch size 2048\n",
      "Starting epoch: 0 | phase: train | ⏰: 11:48:28 | Learning rate: 0.000313\n"
     ]
    },
    {
     "name": "stderr",
     "output_type": "stream",
     "text": [
      "Train loss: 3.23674: 100%|██████████| 5/5 [00:00<00:00, 39.77it/s]\n"
     ]
    },
    {
     "name": "stdout",
     "output_type": "stream",
     "text": [
      "Starting epoch: 0 | phase: valid | ⏰: 11:48:28 \n"
     ]
    },
    {
     "name": "stderr",
     "output_type": "stream",
     "text": [
      ": 100%|██████████| 1/1 [00:00<00:00, 96.26it/s]\n"
     ]
    },
    {
     "name": "stdout",
     "output_type": "stream",
     "text": [
      "Validation loss: 3.203566312789917\n",
      "Client  2\n",
      "File ../data/hdfs/hdfs_train, number of sessions 971\n",
      "File ../data/hdfs/hdfs_train, number of seqs 9485\n",
      "sampling...\n"
     ]
    },
    {
     "name": "stderr",
     "output_type": "stream",
     "text": [
      "100%|██████████| 1051/1051 [00:00<00:00, 2643.86it/s]\n"
     ]
    },
    {
     "name": "stdout",
     "output_type": "stream",
     "text": [
      "File ../data/hdfs/hdfs_test_normal, number of sessions 110673\n",
      "File ../data/hdfs/hdfs_test_normal, number of seqs 1051\n",
      "Find 9485 train logs, 1051 validation logs\n",
      "Train batch size 2048 ,Validation batch size 2048\n",
      "Starting epoch: 0 | phase: train | ⏰: 11:48:40 | Learning rate: 0.000313\n"
     ]
    },
    {
     "name": "stderr",
     "output_type": "stream",
     "text": [
      "Train loss: 3.24027: 100%|██████████| 5/5 [00:00<00:00, 31.29it/s]\n"
     ]
    },
    {
     "name": "stdout",
     "output_type": "stream",
     "text": [
      "Starting epoch: 0 | phase: valid | ⏰: 11:48:40 \n"
     ]
    },
    {
     "name": "stderr",
     "output_type": "stream",
     "text": [
      ": 100%|██████████| 1/1 [00:00<00:00, 93.52it/s]\n"
     ]
    },
    {
     "name": "stdout",
     "output_type": "stream",
     "text": [
      "Validation loss: 3.198235273361206\n",
      "Client  3\n",
      "File ../data/hdfs/hdfs_train, number of sessions 971\n",
      "File ../data/hdfs/hdfs_train, number of seqs 9267\n",
      "sampling...\n"
     ]
    },
    {
     "name": "stderr",
     "output_type": "stream",
     "text": [
      "100%|██████████| 1057/1057 [00:00<00:00, 2721.80it/s]\n"
     ]
    },
    {
     "name": "stdout",
     "output_type": "stream",
     "text": [
      "File ../data/hdfs/hdfs_test_normal, number of sessions 110673\n",
      "File ../data/hdfs/hdfs_test_normal, number of seqs 1057\n",
      "Find 9267 train logs, 1057 validation logs\n",
      "Train batch size 2048 ,Validation batch size 2048\n",
      "Starting epoch: 0 | phase: train | ⏰: 11:48:53 | Learning rate: 0.000313\n"
     ]
    },
    {
     "name": "stderr",
     "output_type": "stream",
     "text": [
      "Train loss: 3.23763: 100%|██████████| 5/5 [00:00<00:00, 34.37it/s]\n"
     ]
    },
    {
     "name": "stdout",
     "output_type": "stream",
     "text": [
      "Starting epoch: 0 | phase: valid | ⏰: 11:48:53 \n"
     ]
    },
    {
     "name": "stderr",
     "output_type": "stream",
     "text": [
      ": 100%|██████████| 1/1 [00:00<00:00, 68.55it/s]\n"
     ]
    },
    {
     "name": "stdout",
     "output_type": "stream",
     "text": [
      "Validation loss: 3.2035977840423584\n",
      "Client  4\n",
      "File ../data/hdfs/hdfs_train, number of sessions 971\n",
      "File ../data/hdfs/hdfs_train, number of seqs 9323\n",
      "sampling...\n"
     ]
    },
    {
     "name": "stderr",
     "output_type": "stream",
     "text": [
      "100%|██████████| 1044/1044 [00:00<00:00, 2600.99it/s]\n"
     ]
    },
    {
     "name": "stdout",
     "output_type": "stream",
     "text": [
      "File ../data/hdfs/hdfs_test_normal, number of sessions 110673\n",
      "File ../data/hdfs/hdfs_test_normal, number of seqs 1044\n",
      "Find 9323 train logs, 1044 validation logs\n",
      "Train batch size 2048 ,Validation batch size 2048\n",
      "Starting epoch: 0 | phase: train | ⏰: 11:49:07 | Learning rate: 0.000313\n"
     ]
    },
    {
     "name": "stderr",
     "output_type": "stream",
     "text": [
      "Train loss: 3.23680: 100%|██████████| 5/5 [00:00<00:00, 38.15it/s]\n"
     ]
    },
    {
     "name": "stdout",
     "output_type": "stream",
     "text": [
      "Starting epoch: 0 | phase: valid | ⏰: 11:49:07 \n"
     ]
    },
    {
     "name": "stderr",
     "output_type": "stream",
     "text": [
      ": 100%|██████████| 1/1 [00:00<00:00, 72.23it/s]\n"
     ]
    },
    {
     "name": "stdout",
     "output_type": "stream",
     "text": [
      "Validation loss: 3.1976990699768066\n",
      "============ Test epoch 1 ============\n",
      "Client  0\n",
      "Number of sessions(hdfs_test_normal): 5813\n",
      "Number of sessions(hdfs_test_abnormal): 1136\n"
     ]
    },
    {
     "name": "stderr",
     "output_type": "stream",
     "text": [
      "100%|██████████| 5813/5813 [00:15<00:00, 376.73it/s]\n",
      "100%|██████████| 1136/1136 [00:02<00:00, 535.01it/s]\n"
     ]
    },
    {
     "name": "stdout",
     "output_type": "stream",
     "text": [
      "false positive (FP): 103930, false negative (FN): 63, Precision: 3.081%, Recall: 98.129%, F1-measure: 5.975%\n",
      "actual positive (TP+FN): 3367, actual negative (FP+TN): 110673\n",
      "accuracy: 8.810\n",
      "Finished Predicting\n",
      "elapsed_time: 17.556169033050537\n",
      "Client  1\n",
      "Number of sessions(hdfs_test_normal): 5574\n",
      "Number of sessions(hdfs_test_abnormal): 1139\n"
     ]
    },
    {
     "name": "stderr",
     "output_type": "stream",
     "text": [
      "100%|██████████| 5574/5574 [00:14<00:00, 395.41it/s]\n",
      "100%|██████████| 1139/1139 [00:02<00:00, 450.75it/s]\n"
     ]
    },
    {
     "name": "stdout",
     "output_type": "stream",
     "text": [
      "false positive (FP): 104451, false negative (FN): 78, Precision: 3.053%, Recall: 97.683%, F1-measure: 5.920%\n",
      "actual positive (TP+FN): 3367, actual negative (FP+TN): 110673\n",
      "accuracy: 8.340\n",
      "Finished Predicting\n",
      "elapsed_time: 16.626513481140137\n",
      "Client  2\n",
      "Number of sessions(hdfs_test_normal): 5730\n",
      "Number of sessions(hdfs_test_abnormal): 1118\n"
     ]
    },
    {
     "name": "stderr",
     "output_type": "stream",
     "text": [
      "100%|██████████| 5730/5730 [00:23<00:00, 248.90it/s]\n",
      "100%|██████████| 1118/1118 [00:03<00:00, 284.73it/s]\n"
     ]
    },
    {
     "name": "stdout",
     "output_type": "stream",
     "text": [
      "false positive (FP): 104168, false negative (FN): 67, Precision: 3.071%, Recall: 98.010%, F1-measure: 5.955%\n",
      "actual positive (TP+FN): 3367, actual negative (FP+TN): 110673\n",
      "accuracy: 8.598\n",
      "Finished Predicting\n",
      "elapsed_time: 26.95077657699585\n",
      "Client  3\n",
      "Number of sessions(hdfs_test_normal): 5747\n",
      "Number of sessions(hdfs_test_abnormal): 1159\n"
     ]
    },
    {
     "name": "stderr",
     "output_type": "stream",
     "text": [
      "100%|██████████| 5747/5747 [00:25<00:00, 228.44it/s]\n",
      "100%|██████████| 1159/1159 [00:04<00:00, 267.95it/s]\n"
     ]
    },
    {
     "name": "stdout",
     "output_type": "stream",
     "text": [
      "false positive (FP): 104017, false negative (FN): 57, Precision: 3.084%, Recall: 98.307%, F1-measure: 5.980%\n",
      "actual positive (TP+FN): 3367, actual negative (FP+TN): 110673\n",
      "accuracy: 8.739\n",
      "Finished Predicting\n",
      "elapsed_time: 29.485881090164185\n",
      "Client  4\n",
      "Number of sessions(hdfs_test_normal): 5623\n",
      "Number of sessions(hdfs_test_abnormal): 1121\n"
     ]
    },
    {
     "name": "stderr",
     "output_type": "stream",
     "text": [
      "100%|██████████| 5623/5623 [00:25<00:00, 217.26it/s]\n",
      "100%|██████████| 1121/1121 [00:04<00:00, 277.51it/s]\n"
     ]
    },
    {
     "name": "stdout",
     "output_type": "stream",
     "text": [
      "false positive (FP): 104293, false negative (FN): 59, Precision: 3.074%, Recall: 98.248%, F1-measure: 5.962%\n",
      "actual positive (TP+FN): 3367, actual negative (FP+TN): 110673\n",
      "accuracy: 8.495\n",
      "Finished Predicting\n",
      "elapsed_time: 29.923778772354126\n",
      "============ Train epoch 2 ============\n",
      "Client  0\n",
      "File ../data/hdfs/hdfs_train, number of sessions 971\n",
      "File ../data/hdfs/hdfs_train, number of seqs 9420\n",
      "sampling...\n"
     ]
    },
    {
     "name": "stderr",
     "output_type": "stream",
     "text": [
      "100%|██████████| 1058/1058 [00:00<00:00, 3447.67it/s]\n"
     ]
    },
    {
     "name": "stdout",
     "output_type": "stream",
     "text": [
      "File ../data/hdfs/hdfs_test_normal, number of sessions 110673\n",
      "File ../data/hdfs/hdfs_test_normal, number of seqs 1058\n",
      "Find 9420 train logs, 1058 validation logs\n",
      "Train batch size 2048 ,Validation batch size 2048\n",
      "Starting epoch: 0 | phase: train | ⏰: 11:51:23 | Learning rate: 0.000313\n"
     ]
    },
    {
     "name": "stderr",
     "output_type": "stream",
     "text": [
      "Train loss: 3.17778: 100%|██████████| 5/5 [00:00<00:00, 32.22it/s]\n"
     ]
    },
    {
     "name": "stdout",
     "output_type": "stream",
     "text": [
      "Starting epoch: 0 | phase: valid | ⏰: 11:51:23 \n"
     ]
    },
    {
     "name": "stderr",
     "output_type": "stream",
     "text": [
      ": 100%|██████████| 1/1 [00:00<00:00, 42.41it/s]\n"
     ]
    },
    {
     "name": "stdout",
     "output_type": "stream",
     "text": [
      "Validation loss: 3.1346983909606934\n",
      "Client  1\n",
      "File ../data/hdfs/hdfs_train, number of sessions 971\n",
      "File ../data/hdfs/hdfs_train, number of seqs 9080\n",
      "sampling...\n"
     ]
    },
    {
     "name": "stderr",
     "output_type": "stream",
     "text": [
      "100%|██████████| 1046/1046 [00:00<00:00, 3485.14it/s]\n"
     ]
    },
    {
     "name": "stdout",
     "output_type": "stream",
     "text": [
      "File ../data/hdfs/hdfs_test_normal, number of sessions 110673\n",
      "File ../data/hdfs/hdfs_test_normal, number of seqs 1046\n",
      "Find 9080 train logs, 1046 validation logs\n",
      "Train batch size 2048 ,Validation batch size 2048\n",
      "Starting epoch: 0 | phase: train | ⏰: 11:51:35 | Learning rate: 0.000313\n"
     ]
    },
    {
     "name": "stderr",
     "output_type": "stream",
     "text": [
      "Train loss: 3.17650: 100%|██████████| 5/5 [00:00<00:00, 29.34it/s]\n"
     ]
    },
    {
     "name": "stdout",
     "output_type": "stream",
     "text": [
      "Starting epoch: 0 | phase: valid | ⏰: 11:51:35 \n"
     ]
    },
    {
     "name": "stderr",
     "output_type": "stream",
     "text": [
      ": 100%|██████████| 1/1 [00:00<00:00, 67.32it/s]\n"
     ]
    },
    {
     "name": "stdout",
     "output_type": "stream",
     "text": [
      "Validation loss: 3.1350131034851074\n",
      "Client  2\n",
      "File ../data/hdfs/hdfs_train, number of sessions 971\n",
      "File ../data/hdfs/hdfs_train, number of seqs 9485\n",
      "sampling...\n"
     ]
    },
    {
     "name": "stderr",
     "output_type": "stream",
     "text": [
      "100%|██████████| 1051/1051 [00:00<00:00, 3400.05it/s]\n"
     ]
    },
    {
     "name": "stdout",
     "output_type": "stream",
     "text": [
      "File ../data/hdfs/hdfs_test_normal, number of sessions 110673\n",
      "File ../data/hdfs/hdfs_test_normal, number of seqs 1051\n",
      "Find 9485 train logs, 1051 validation logs\n",
      "Train batch size 2048 ,Validation batch size 2048\n",
      "Starting epoch: 0 | phase: train | ⏰: 11:51:47 | Learning rate: 0.000313\n"
     ]
    },
    {
     "name": "stderr",
     "output_type": "stream",
     "text": [
      "Train loss: 3.18039: 100%|██████████| 5/5 [00:00<00:00, 39.35it/s]\n"
     ]
    },
    {
     "name": "stdout",
     "output_type": "stream",
     "text": [
      "Starting epoch: 0 | phase: valid | ⏰: 11:51:47 \n"
     ]
    },
    {
     "name": "stderr",
     "output_type": "stream",
     "text": [
      ": 100%|██████████| 1/1 [00:00<00:00, 92.90it/s]"
     ]
    },
    {
     "name": "stdout",
     "output_type": "stream",
     "text": [
      "Validation loss: 3.1377933025360107\n",
      "Client  3\n"
     ]
    },
    {
     "name": "stderr",
     "output_type": "stream",
     "text": [
      "\n"
     ]
    },
    {
     "name": "stdout",
     "output_type": "stream",
     "text": [
      "File ../data/hdfs/hdfs_train, number of sessions 971\n",
      "File ../data/hdfs/hdfs_train, number of seqs 9267\n",
      "sampling...\n"
     ]
    },
    {
     "name": "stderr",
     "output_type": "stream",
     "text": [
      "100%|██████████| 1057/1057 [00:00<00:00, 3531.74it/s]\n"
     ]
    },
    {
     "name": "stdout",
     "output_type": "stream",
     "text": [
      "File ../data/hdfs/hdfs_test_normal, number of sessions 110673\n",
      "File ../data/hdfs/hdfs_test_normal, number of seqs 1057\n",
      "Find 9267 train logs, 1057 validation logs\n",
      "Train batch size 2048 ,Validation batch size 2048\n",
      "Starting epoch: 0 | phase: train | ⏰: 11:51:59 | Learning rate: 0.000313\n"
     ]
    },
    {
     "name": "stderr",
     "output_type": "stream",
     "text": [
      "Train loss: 3.17664: 100%|██████████| 5/5 [00:00<00:00, 29.96it/s]\n"
     ]
    },
    {
     "name": "stdout",
     "output_type": "stream",
     "text": [
      "Starting epoch: 0 | phase: valid | ⏰: 11:51:59 \n"
     ]
    },
    {
     "name": "stderr",
     "output_type": "stream",
     "text": [
      ": 100%|██████████| 1/1 [00:00<00:00, 59.76it/s]\n"
     ]
    },
    {
     "name": "stdout",
     "output_type": "stream",
     "text": [
      "Validation loss: 3.130568027496338\n",
      "Client  4\n",
      "File ../data/hdfs/hdfs_train, number of sessions 971\n",
      "File ../data/hdfs/hdfs_train, number of seqs 9323\n",
      "sampling...\n"
     ]
    },
    {
     "name": "stderr",
     "output_type": "stream",
     "text": [
      "100%|██████████| 1044/1044 [00:00<00:00, 3514.46it/s]\n"
     ]
    },
    {
     "name": "stdout",
     "output_type": "stream",
     "text": [
      "File ../data/hdfs/hdfs_test_normal, number of sessions 110673\n",
      "File ../data/hdfs/hdfs_test_normal, number of seqs 1044\n",
      "Find 9323 train logs, 1044 validation logs\n",
      "Train batch size 2048 ,Validation batch size 2048\n",
      "Starting epoch: 0 | phase: train | ⏰: 11:52:11 | Learning rate: 0.000313\n"
     ]
    },
    {
     "name": "stderr",
     "output_type": "stream",
     "text": [
      "Train loss: 3.17673: 100%|██████████| 5/5 [00:00<00:00, 32.60it/s]\n"
     ]
    },
    {
     "name": "stdout",
     "output_type": "stream",
     "text": [
      "Starting epoch: 0 | phase: valid | ⏰: 11:52:11 \n"
     ]
    },
    {
     "name": "stderr",
     "output_type": "stream",
     "text": [
      ": 100%|██████████| 1/1 [00:00<00:00, 83.32it/s]\n"
     ]
    },
    {
     "name": "stdout",
     "output_type": "stream",
     "text": [
      "Validation loss: 3.1444573402404785\n",
      "============ Test epoch 2 ============\n",
      "Client  0\n",
      "Number of sessions(hdfs_test_normal): 5813\n",
      "Number of sessions(hdfs_test_abnormal): 1136\n"
     ]
    },
    {
     "name": "stderr",
     "output_type": "stream",
     "text": [
      "100%|██████████| 5813/5813 [00:56<00:00, 103.57it/s]\n",
      "100%|██████████| 1136/1136 [00:08<00:00, 136.82it/s]\n"
     ]
    },
    {
     "name": "stdout",
     "output_type": "stream",
     "text": [
      "false positive (FP): 27818, false negative (FN): 10, Precision: 10.768%, Recall: 99.703%, F1-measure: 19.437%\n",
      "actual positive (TP+FN): 3367, actual negative (FP+TN): 110673\n",
      "accuracy: 75.598\n",
      "Finished Predicting\n",
      "elapsed_time: 64.430668592453\n",
      "Client  1\n",
      "Number of sessions(hdfs_test_normal): 5574\n",
      "Number of sessions(hdfs_test_abnormal): 1139\n"
     ]
    },
    {
     "name": "stderr",
     "output_type": "stream",
     "text": [
      "100%|██████████| 5574/5574 [00:52<00:00, 105.31it/s]\n",
      "100%|██████████| 1139/1139 [00:08<00:00, 138.39it/s]\n"
     ]
    },
    {
     "name": "stdout",
     "output_type": "stream",
     "text": [
      "false positive (FP): 26353, false negative (FN): 15, Precision: 11.284%, Recall: 99.554%, F1-measure: 20.271%\n",
      "actual positive (TP+FN): 3367, actual negative (FP+TN): 110673\n",
      "accuracy: 76.878\n",
      "Finished Predicting\n",
      "elapsed_time: 61.16444706916809\n",
      "Client  2\n",
      "Number of sessions(hdfs_test_normal): 5730\n",
      "Number of sessions(hdfs_test_abnormal): 1118\n"
     ]
    },
    {
     "name": "stderr",
     "output_type": "stream",
     "text": [
      "100%|██████████| 5730/5730 [00:53<00:00, 107.06it/s]\n",
      "100%|██████████| 1118/1118 [00:08<00:00, 135.66it/s]\n"
     ]
    },
    {
     "name": "stdout",
     "output_type": "stream",
     "text": [
      "false positive (FP): 26871, false negative (FN): 17, Precision: 11.085%, Recall: 99.495%, F1-measure: 19.948%\n",
      "actual positive (TP+FN): 3367, actual negative (FP+TN): 110673\n",
      "accuracy: 76.422\n",
      "Finished Predicting\n",
      "elapsed_time: 61.76556134223938\n",
      "Client  3\n",
      "Number of sessions(hdfs_test_normal): 5747\n",
      "Number of sessions(hdfs_test_abnormal): 1159\n"
     ]
    },
    {
     "name": "stderr",
     "output_type": "stream",
     "text": [
      "100%|██████████| 5747/5747 [00:55<00:00, 103.63it/s]\n",
      "100%|██████████| 1159/1159 [00:08<00:00, 139.34it/s]\n"
     ]
    },
    {
     "name": "stdout",
     "output_type": "stream",
     "text": [
      "false positive (FP): 27536, false negative (FN): 16, Precision: 10.849%, Recall: 99.525%, F1-measure: 19.566%\n",
      "actual positive (TP+FN): 3367, actual negative (FP+TN): 110673\n",
      "accuracy: 75.840\n",
      "Finished Predicting\n",
      "elapsed_time: 63.7764778137207\n",
      "Client  4\n",
      "Number of sessions(hdfs_test_normal): 5623\n",
      "Number of sessions(hdfs_test_abnormal): 1121\n"
     ]
    },
    {
     "name": "stderr",
     "output_type": "stream",
     "text": [
      "100%|██████████| 5623/5623 [00:54<00:00, 103.32it/s]\n",
      "100%|██████████| 1121/1121 [00:08<00:00, 129.55it/s]\n"
     ]
    },
    {
     "name": "stdout",
     "output_type": "stream",
     "text": [
      "false positive (FP): 25988, false negative (FN): 20, Precision: 11.410%, Recall: 99.406%, F1-measure: 20.470%\n",
      "actual positive (TP+FN): 3367, actual negative (FP+TN): 110673\n",
      "accuracy: 77.194\n",
      "Finished Predicting\n",
      "elapsed_time: 63.07946252822876\n",
      "============ Train epoch 3 ============\n",
      "Client  0\n",
      "File ../data/hdfs/hdfs_train, number of sessions 971\n",
      "File ../data/hdfs/hdfs_train, number of seqs 9420\n",
      "sampling...\n"
     ]
    },
    {
     "name": "stderr",
     "output_type": "stream",
     "text": [
      "100%|██████████| 1058/1058 [00:00<00:00, 3541.57it/s]\n"
     ]
    },
    {
     "name": "stdout",
     "output_type": "stream",
     "text": [
      "File ../data/hdfs/hdfs_test_normal, number of sessions 110673\n",
      "File ../data/hdfs/hdfs_test_normal, number of seqs 1058\n",
      "Find 9420 train logs, 1058 validation logs\n",
      "Train batch size 2048 ,Validation batch size 2048\n",
      "Starting epoch: 0 | phase: train | ⏰: 11:57:40 | Learning rate: 0.000313\n"
     ]
    },
    {
     "name": "stderr",
     "output_type": "stream",
     "text": [
      "Train loss: 3.10590: 100%|██████████| 5/5 [00:00<00:00, 53.91it/s]\n"
     ]
    },
    {
     "name": "stdout",
     "output_type": "stream",
     "text": [
      "Starting epoch: 0 | phase: valid | ⏰: 11:57:40 \n"
     ]
    },
    {
     "name": "stderr",
     "output_type": "stream",
     "text": [
      ": 100%|██████████| 1/1 [00:00<00:00, 101.78it/s]\n"
     ]
    },
    {
     "name": "stdout",
     "output_type": "stream",
     "text": [
      "Validation loss: 3.0564072132110596\n",
      "Client  1\n",
      "File ../data/hdfs/hdfs_train, number of sessions 971\n",
      "File ../data/hdfs/hdfs_train, number of seqs 9080\n",
      "sampling...\n"
     ]
    },
    {
     "name": "stderr",
     "output_type": "stream",
     "text": [
      "100%|██████████| 1046/1046 [00:00<00:00, 3492.52it/s]\n"
     ]
    },
    {
     "name": "stdout",
     "output_type": "stream",
     "text": [
      "File ../data/hdfs/hdfs_test_normal, number of sessions 110673\n",
      "File ../data/hdfs/hdfs_test_normal, number of seqs 1046\n",
      "Find 9080 train logs, 1046 validation logs\n",
      "Train batch size 2048 ,Validation batch size 2048\n",
      "Starting epoch: 0 | phase: train | ⏰: 11:57:52 | Learning rate: 0.000313\n"
     ]
    },
    {
     "name": "stderr",
     "output_type": "stream",
     "text": [
      "Train loss: 3.10593: 100%|██████████| 5/5 [00:00<00:00, 55.62it/s]\n"
     ]
    },
    {
     "name": "stdout",
     "output_type": "stream",
     "text": [
      "Starting epoch: 0 | phase: valid | ⏰: 11:57:52 \n"
     ]
    },
    {
     "name": "stderr",
     "output_type": "stream",
     "text": [
      ": 100%|██████████| 1/1 [00:00<00:00, 101.22it/s]\n"
     ]
    },
    {
     "name": "stdout",
     "output_type": "stream",
     "text": [
      "Validation loss: 3.0567190647125244\n",
      "Client  2\n",
      "File ../data/hdfs/hdfs_train, number of sessions 971\n",
      "File ../data/hdfs/hdfs_train, number of seqs 9485\n",
      "sampling...\n"
     ]
    },
    {
     "name": "stderr",
     "output_type": "stream",
     "text": [
      "100%|██████████| 1051/1051 [00:00<00:00, 3444.29it/s]\n"
     ]
    },
    {
     "name": "stdout",
     "output_type": "stream",
     "text": [
      "File ../data/hdfs/hdfs_test_normal, number of sessions 110673\n",
      "File ../data/hdfs/hdfs_test_normal, number of seqs 1051\n",
      "Find 9485 train logs, 1051 validation logs\n",
      "Train batch size 2048 ,Validation batch size 2048\n",
      "Starting epoch: 0 | phase: train | ⏰: 11:58:04 | Learning rate: 0.000313\n"
     ]
    },
    {
     "name": "stderr",
     "output_type": "stream",
     "text": [
      "Train loss: 3.11011: 100%|██████████| 5/5 [00:00<00:00, 53.03it/s]\n"
     ]
    },
    {
     "name": "stdout",
     "output_type": "stream",
     "text": [
      "Starting epoch: 0 | phase: valid | ⏰: 11:58:04 \n"
     ]
    },
    {
     "name": "stderr",
     "output_type": "stream",
     "text": [
      ": 100%|██████████| 1/1 [00:00<00:00, 91.50it/s]\n"
     ]
    },
    {
     "name": "stdout",
     "output_type": "stream",
     "text": [
      "Validation loss: 3.0469608306884766\n",
      "Client  3\n",
      "File ../data/hdfs/hdfs_train, number of sessions 971\n",
      "File ../data/hdfs/hdfs_train, number of seqs 9267\n",
      "sampling...\n"
     ]
    },
    {
     "name": "stderr",
     "output_type": "stream",
     "text": [
      "100%|██████████| 1057/1057 [00:00<00:00, 3585.30it/s]\n"
     ]
    },
    {
     "name": "stdout",
     "output_type": "stream",
     "text": [
      "File ../data/hdfs/hdfs_test_normal, number of sessions 110673\n",
      "File ../data/hdfs/hdfs_test_normal, number of seqs 1057\n",
      "Find 9267 train logs, 1057 validation logs\n",
      "Train batch size 2048 ,Validation batch size 2048\n",
      "Starting epoch: 0 | phase: train | ⏰: 11:58:15 | Learning rate: 0.000313\n"
     ]
    },
    {
     "name": "stderr",
     "output_type": "stream",
     "text": [
      "Train loss: 3.10446: 100%|██████████| 5/5 [00:00<00:00, 51.26it/s]\n"
     ]
    },
    {
     "name": "stdout",
     "output_type": "stream",
     "text": [
      "Starting epoch: 0 | phase: valid | ⏰: 11:58:16 \n"
     ]
    },
    {
     "name": "stderr",
     "output_type": "stream",
     "text": [
      ": 100%|██████████| 1/1 [00:00<00:00, 101.00it/s]\n"
     ]
    },
    {
     "name": "stdout",
     "output_type": "stream",
     "text": [
      "Validation loss: 3.055371046066284\n",
      "Client  4\n",
      "File ../data/hdfs/hdfs_train, number of sessions 971\n",
      "File ../data/hdfs/hdfs_train, number of seqs 9323\n",
      "sampling...\n"
     ]
    },
    {
     "name": "stderr",
     "output_type": "stream",
     "text": [
      "100%|██████████| 1044/1044 [00:00<00:00, 3534.52it/s]\n"
     ]
    },
    {
     "name": "stdout",
     "output_type": "stream",
     "text": [
      "File ../data/hdfs/hdfs_test_normal, number of sessions 110673\n",
      "File ../data/hdfs/hdfs_test_normal, number of seqs 1044\n",
      "Find 9323 train logs, 1044 validation logs\n",
      "Train batch size 2048 ,Validation batch size 2048\n",
      "Starting epoch: 0 | phase: train | ⏰: 11:58:27 | Learning rate: 0.000313\n"
     ]
    },
    {
     "name": "stderr",
     "output_type": "stream",
     "text": [
      "Train loss: 3.10401: 100%|██████████| 5/5 [00:00<00:00, 53.77it/s]\n"
     ]
    },
    {
     "name": "stdout",
     "output_type": "stream",
     "text": [
      "Starting epoch: 0 | phase: valid | ⏰: 11:58:27 \n"
     ]
    },
    {
     "name": "stderr",
     "output_type": "stream",
     "text": [
      ": 100%|██████████| 1/1 [00:00<00:00, 91.63it/s]\n"
     ]
    },
    {
     "name": "stdout",
     "output_type": "stream",
     "text": [
      "Validation loss: 3.0506739616394043\n",
      "============ Test epoch 3 ============\n",
      "Client  0\n",
      "Number of sessions(hdfs_test_normal): 5813\n",
      "Number of sessions(hdfs_test_abnormal): 1136\n"
     ]
    },
    {
     "name": "stderr",
     "output_type": "stream",
     "text": [
      "100%|██████████| 5813/5813 [00:56<00:00, 103.15it/s]\n",
      "100%|██████████| 1136/1136 [00:08<00:00, 133.70it/s]\n"
     ]
    },
    {
     "name": "stdout",
     "output_type": "stream",
     "text": [
      "false positive (FP): 27817, false negative (FN): 12, Precision: 10.763%, Recall: 99.644%, F1-measure: 19.427%\n",
      "actual positive (TP+FN): 3367, actual negative (FP+TN): 110673\n",
      "accuracy: 75.597\n",
      "Finished Predicting\n",
      "elapsed_time: 64.8568685054779\n",
      "Client  1\n",
      "Number of sessions(hdfs_test_normal): 5574\n",
      "Number of sessions(hdfs_test_abnormal): 1139\n"
     ]
    },
    {
     "name": "stderr",
     "output_type": "stream",
     "text": [
      "100%|██████████| 5574/5574 [00:54<00:00, 102.28it/s]\n",
      "100%|██████████| 1139/1139 [00:08<00:00, 129.83it/s]\n"
     ]
    },
    {
     "name": "stdout",
     "output_type": "stream",
     "text": [
      "false positive (FP): 26353, false negative (FN): 16, Precision: 11.281%, Recall: 99.525%, F1-measure: 20.265%\n",
      "actual positive (TP+FN): 3367, actual negative (FP+TN): 110673\n",
      "accuracy: 76.877\n",
      "Finished Predicting\n",
      "elapsed_time: 63.270363569259644\n",
      "Client  2\n",
      "Number of sessions(hdfs_test_normal): 5730\n",
      "Number of sessions(hdfs_test_abnormal): 1118\n"
     ]
    },
    {
     "name": "stderr",
     "output_type": "stream",
     "text": [
      "100%|██████████| 5730/5730 [00:56<00:00, 102.29it/s]\n",
      "100%|██████████| 1118/1118 [00:08<00:00, 130.93it/s]\n"
     ]
    },
    {
     "name": "stdout",
     "output_type": "stream",
     "text": [
      "false positive (FP): 26871, false negative (FN): 19, Precision: 11.079%, Recall: 99.436%, F1-measure: 19.937%\n",
      "actual positive (TP+FN): 3367, actual negative (FP+TN): 110673\n",
      "accuracy: 76.421\n",
      "Finished Predicting\n",
      "elapsed_time: 64.55800819396973\n",
      "Client  3\n",
      "Number of sessions(hdfs_test_normal): 5747\n",
      "Number of sessions(hdfs_test_abnormal): 1159\n"
     ]
    },
    {
     "name": "stderr",
     "output_type": "stream",
     "text": [
      "100%|██████████| 5747/5747 [00:32<00:00, 178.44it/s]\n",
      "100%|██████████| 1159/1159 [00:04<00:00, 250.15it/s]\n"
     ]
    },
    {
     "name": "stdout",
     "output_type": "stream",
     "text": [
      "false positive (FP): 27536, false negative (FN): 17, Precision: 10.846%, Recall: 99.495%, F1-measure: 19.560%\n",
      "actual positive (TP+FN): 3367, actual negative (FP+TN): 110673\n",
      "accuracy: 75.839\n",
      "Finished Predicting\n",
      "elapsed_time: 36.84292435646057\n",
      "Client  4\n",
      "Number of sessions(hdfs_test_normal): 5623\n",
      "Number of sessions(hdfs_test_abnormal): 1121\n"
     ]
    },
    {
     "name": "stderr",
     "output_type": "stream",
     "text": [
      "100%|██████████| 5623/5623 [00:27<00:00, 203.25it/s]\n",
      "100%|██████████| 1121/1121 [00:07<00:00, 144.72it/s]\n"
     ]
    },
    {
     "name": "stdout",
     "output_type": "stream",
     "text": [
      "false positive (FP): 25988, false negative (FN): 21, Precision: 11.407%, Recall: 99.376%, F1-measure: 20.464%\n",
      "actual positive (TP+FN): 3367, actual negative (FP+TN): 110673\n",
      "accuracy: 77.193\n",
      "Finished Predicting\n",
      "elapsed_time: 35.41449737548828\n",
      "============ Train epoch 4 ============\n",
      "Client  0\n",
      "File ../data/hdfs/hdfs_train, number of sessions 971\n",
      "File ../data/hdfs/hdfs_train, number of seqs 9420\n",
      "sampling...\n"
     ]
    },
    {
     "name": "stderr",
     "output_type": "stream",
     "text": [
      "100%|██████████| 1058/1058 [00:00<00:00, 3473.53it/s]\n"
     ]
    },
    {
     "name": "stdout",
     "output_type": "stream",
     "text": [
      "File ../data/hdfs/hdfs_test_normal, number of sessions 110673\n",
      "File ../data/hdfs/hdfs_test_normal, number of seqs 1058\n",
      "Find 9420 train logs, 1058 validation logs\n",
      "Train batch size 2048 ,Validation batch size 2048\n",
      "Starting epoch: 0 | phase: train | ⏰: 12:03:07 | Learning rate: 0.000313\n"
     ]
    },
    {
     "name": "stderr",
     "output_type": "stream",
     "text": [
      "Train loss: 3.01900: 100%|██████████| 5/5 [00:00<00:00, 54.72it/s]\n"
     ]
    },
    {
     "name": "stdout",
     "output_type": "stream",
     "text": [
      "Starting epoch: 0 | phase: valid | ⏰: 12:03:07 \n"
     ]
    },
    {
     "name": "stderr",
     "output_type": "stream",
     "text": [
      ": 100%|██████████| 1/1 [00:00<00:00, 96.19it/s]\n"
     ]
    },
    {
     "name": "stdout",
     "output_type": "stream",
     "text": [
      "Validation loss: 2.9504544734954834\n",
      "Client  1\n",
      "File ../data/hdfs/hdfs_train, number of sessions 971\n",
      "File ../data/hdfs/hdfs_train, number of seqs 9080\n",
      "sampling...\n"
     ]
    },
    {
     "name": "stderr",
     "output_type": "stream",
     "text": [
      "100%|██████████| 1046/1046 [00:00<00:00, 3605.74it/s]\n"
     ]
    },
    {
     "name": "stdout",
     "output_type": "stream",
     "text": [
      "File ../data/hdfs/hdfs_test_normal, number of sessions 110673\n",
      "File ../data/hdfs/hdfs_test_normal, number of seqs 1046\n",
      "Find 9080 train logs, 1046 validation logs\n",
      "Train batch size 2048 ,Validation batch size 2048\n",
      "Starting epoch: 0 | phase: train | ⏰: 12:03:19 | Learning rate: 0.000313\n"
     ]
    },
    {
     "name": "stderr",
     "output_type": "stream",
     "text": [
      "Train loss: 3.01803: 100%|██████████| 5/5 [00:00<00:00, 56.38it/s]\n"
     ]
    },
    {
     "name": "stdout",
     "output_type": "stream",
     "text": [
      "Starting epoch: 0 | phase: valid | ⏰: 12:03:19 \n"
     ]
    },
    {
     "name": "stderr",
     "output_type": "stream",
     "text": [
      ": 100%|██████████| 1/1 [00:00<00:00, 101.81it/s]\n"
     ]
    },
    {
     "name": "stdout",
     "output_type": "stream",
     "text": [
      "Validation loss: 2.957963466644287\n",
      "Client  2\n",
      "File ../data/hdfs/hdfs_train, number of sessions 971\n",
      "File ../data/hdfs/hdfs_train, number of seqs 9485\n",
      "sampling...\n"
     ]
    },
    {
     "name": "stderr",
     "output_type": "stream",
     "text": [
      "100%|██████████| 1051/1051 [00:00<00:00, 3519.84it/s]\n"
     ]
    },
    {
     "name": "stdout",
     "output_type": "stream",
     "text": [
      "File ../data/hdfs/hdfs_test_normal, number of sessions 110673\n",
      "File ../data/hdfs/hdfs_test_normal, number of seqs 1051\n",
      "Find 9485 train logs, 1051 validation logs\n",
      "Train batch size 2048 ,Validation batch size 2048\n",
      "Starting epoch: 0 | phase: train | ⏰: 12:03:30 | Learning rate: 0.000313\n"
     ]
    },
    {
     "name": "stderr",
     "output_type": "stream",
     "text": [
      "Train loss: 3.02373: 100%|██████████| 5/5 [00:00<00:00, 53.68it/s]\n"
     ]
    },
    {
     "name": "stdout",
     "output_type": "stream",
     "text": [
      "Starting epoch: 0 | phase: valid | ⏰: 12:03:30 \n"
     ]
    },
    {
     "name": "stderr",
     "output_type": "stream",
     "text": [
      ": 100%|██████████| 1/1 [00:00<00:00, 86.52it/s]\n"
     ]
    },
    {
     "name": "stdout",
     "output_type": "stream",
     "text": [
      "Validation loss: 2.9446349143981934\n",
      "Client  3\n",
      "File ../data/hdfs/hdfs_train, number of sessions 971\n",
      "File ../data/hdfs/hdfs_train, number of seqs 9267\n",
      "sampling...\n"
     ]
    },
    {
     "name": "stderr",
     "output_type": "stream",
     "text": [
      "100%|██████████| 1057/1057 [00:00<00:00, 3508.16it/s]\n"
     ]
    },
    {
     "name": "stdout",
     "output_type": "stream",
     "text": [
      "File ../data/hdfs/hdfs_test_normal, number of sessions 110673\n",
      "File ../data/hdfs/hdfs_test_normal, number of seqs 1057\n",
      "Find 9267 train logs, 1057 validation logs\n",
      "Train batch size 2048 ,Validation batch size 2048\n",
      "Starting epoch: 0 | phase: train | ⏰: 12:03:42 | Learning rate: 0.000313\n"
     ]
    },
    {
     "name": "stderr",
     "output_type": "stream",
     "text": [
      "Train loss: 3.01782: 100%|██████████| 5/5 [00:00<00:00, 54.46it/s]\n"
     ]
    },
    {
     "name": "stdout",
     "output_type": "stream",
     "text": [
      "Starting epoch: 0 | phase: valid | ⏰: 12:03:42 \n"
     ]
    },
    {
     "name": "stderr",
     "output_type": "stream",
     "text": [
      ": 100%|██████████| 1/1 [00:00<00:00, 102.06it/s]\n"
     ]
    },
    {
     "name": "stdout",
     "output_type": "stream",
     "text": [
      "Validation loss: 2.960463523864746\n",
      "Client  4\n",
      "File ../data/hdfs/hdfs_train, number of sessions 971\n",
      "File ../data/hdfs/hdfs_train, number of seqs 9323\n",
      "sampling...\n"
     ]
    },
    {
     "name": "stderr",
     "output_type": "stream",
     "text": [
      "100%|██████████| 1044/1044 [00:00<00:00, 3491.94it/s]\n"
     ]
    },
    {
     "name": "stdout",
     "output_type": "stream",
     "text": [
      "File ../data/hdfs/hdfs_test_normal, number of sessions 110673\n",
      "File ../data/hdfs/hdfs_test_normal, number of seqs 1044\n",
      "Find 9323 train logs, 1044 validation logs\n",
      "Train batch size 2048 ,Validation batch size 2048\n",
      "Starting epoch: 0 | phase: train | ⏰: 12:03:53 | Learning rate: 0.000313\n"
     ]
    },
    {
     "name": "stderr",
     "output_type": "stream",
     "text": [
      "Train loss: 3.01663: 100%|██████████| 5/5 [00:00<00:00, 55.41it/s]\n"
     ]
    },
    {
     "name": "stdout",
     "output_type": "stream",
     "text": [
      "Starting epoch: 0 | phase: valid | ⏰: 12:03:53 \n"
     ]
    },
    {
     "name": "stderr",
     "output_type": "stream",
     "text": [
      ": 100%|██████████| 1/1 [00:00<00:00, 73.52it/s]\n"
     ]
    },
    {
     "name": "stdout",
     "output_type": "stream",
     "text": [
      "Validation loss: 2.960841178894043\n",
      "============ Test epoch 4 ============\n",
      "Client  0\n",
      "Number of sessions(hdfs_test_normal): 5813\n",
      "Number of sessions(hdfs_test_abnormal): 1136\n"
     ]
    },
    {
     "name": "stderr",
     "output_type": "stream",
     "text": [
      "100%|██████████| 5813/5813 [01:16<00:00, 75.93it/s] \n",
      "100%|██████████| 1136/1136 [00:10<00:00, 105.24it/s]\n"
     ]
    },
    {
     "name": "stdout",
     "output_type": "stream",
     "text": [
      "false positive (FP): 20376, false negative (FN): 20, Precision: 14.109%, Recall: 99.406%, F1-measure: 24.710%\n",
      "actual positive (TP+FN): 3367, actual negative (FP+TN): 110673\n",
      "accuracy: 82.115\n",
      "Finished Predicting\n",
      "elapsed_time: 87.34964561462402\n",
      "Client  1\n",
      "Number of sessions(hdfs_test_normal): 5574\n",
      "Number of sessions(hdfs_test_abnormal): 1139\n"
     ]
    },
    {
     "name": "stderr",
     "output_type": "stream",
     "text": [
      "100%|██████████| 5574/5574 [01:13<00:00, 76.25it/s] \n",
      "100%|██████████| 1139/1139 [00:11<00:00, 103.51it/s]\n"
     ]
    },
    {
     "name": "stdout",
     "output_type": "stream",
     "text": [
      "false positive (FP): 19336, false negative (FN): 25, Precision: 14.737%, Recall: 99.257%, F1-measure: 25.663%\n",
      "actual positive (TP+FN): 3367, actual negative (FP+TN): 110673\n",
      "accuracy: 83.023\n",
      "Finished Predicting\n",
      "elapsed_time: 84.10879755020142\n",
      "Client  2\n",
      "Number of sessions(hdfs_test_normal): 5730\n",
      "Number of sessions(hdfs_test_abnormal): 1118\n"
     ]
    },
    {
     "name": "stderr",
     "output_type": "stream",
     "text": [
      "100%|██████████| 5730/5730 [01:16<00:00, 74.91it/s]\n",
      "100%|██████████| 1118/1118 [00:10<00:00, 111.80it/s]\n"
     ]
    },
    {
     "name": "stdout",
     "output_type": "stream",
     "text": [
      "false positive (FP): 19572, false negative (FN): 24, Precision: 14.589%, Recall: 99.287%, F1-measure: 25.439%\n",
      "actual positive (TP+FN): 3367, actual negative (FP+TN): 110673\n",
      "accuracy: 82.817\n",
      "Finished Predicting\n",
      "elapsed_time: 86.49286127090454\n",
      "Client  3\n",
      "Number of sessions(hdfs_test_normal): 5747\n",
      "Number of sessions(hdfs_test_abnormal): 1159\n"
     ]
    },
    {
     "name": "stderr",
     "output_type": "stream",
     "text": [
      "100%|██████████| 5747/5747 [00:38<00:00, 147.43it/s]\n",
      "100%|██████████| 1159/1159 [00:05<00:00, 199.26it/s]\n"
     ]
    },
    {
     "name": "stdout",
     "output_type": "stream",
     "text": [
      "false positive (FP): 20103, false negative (FN): 22, Precision: 14.266%, Recall: 99.347%, F1-measure: 24.949%\n",
      "actual positive (TP+FN): 3367, actual negative (FP+TN): 110673\n",
      "accuracy: 82.353\n",
      "Finished Predicting\n",
      "elapsed_time: 44.79980778694153\n",
      "Client  4\n",
      "Number of sessions(hdfs_test_normal): 5623\n",
      "Number of sessions(hdfs_test_abnormal): 1121\n"
     ]
    },
    {
     "name": "stderr",
     "output_type": "stream",
     "text": [
      "100%|██████████| 5623/5623 [01:02<00:00, 90.39it/s] \n",
      "100%|██████████| 1121/1121 [00:10<00:00, 102.39it/s]\n"
     ]
    },
    {
     "name": "stdout",
     "output_type": "stream",
     "text": [
      "false positive (FP): 18999, false negative (FN): 25, Precision: 14.959%, Recall: 99.257%, F1-measure: 26.000%\n",
      "actual positive (TP+FN): 3367, actual negative (FP+TN): 110673\n",
      "accuracy: 83.318\n",
      "Finished Predicting\n",
      "elapsed_time: 73.16127228736877\n",
      "============ Train epoch 5 ============\n",
      "Client  0\n",
      "File ../data/hdfs/hdfs_train, number of sessions 971\n",
      "File ../data/hdfs/hdfs_train, number of seqs 9420\n",
      "sampling...\n"
     ]
    },
    {
     "name": "stderr",
     "output_type": "stream",
     "text": [
      "100%|██████████| 1058/1058 [00:00<00:00, 3555.72it/s]\n"
     ]
    },
    {
     "name": "stdout",
     "output_type": "stream",
     "text": [
      "File ../data/hdfs/hdfs_test_normal, number of sessions 110673\n",
      "File ../data/hdfs/hdfs_test_normal, number of seqs 1058\n",
      "Find 9420 train logs, 1058 validation logs\n",
      "Train batch size 2048 ,Validation batch size 2048\n",
      "Starting epoch: 0 | phase: train | ⏰: 12:10:24 | Learning rate: 0.000313\n"
     ]
    },
    {
     "name": "stderr",
     "output_type": "stream",
     "text": [
      "Train loss: 2.91113: 100%|██████████| 5/5 [00:00<00:00, 54.90it/s]\n"
     ]
    },
    {
     "name": "stdout",
     "output_type": "stream",
     "text": [
      "Starting epoch: 0 | phase: valid | ⏰: 12:10:24 \n"
     ]
    },
    {
     "name": "stderr",
     "output_type": "stream",
     "text": [
      ": 100%|██████████| 1/1 [00:00<00:00, 99.83it/s]\n"
     ]
    },
    {
     "name": "stdout",
     "output_type": "stream",
     "text": [
      "Validation loss: 2.834841012954712\n",
      "Client  1\n",
      "File ../data/hdfs/hdfs_train, number of sessions 971\n",
      "File ../data/hdfs/hdfs_train, number of seqs 9080\n",
      "sampling...\n"
     ]
    },
    {
     "name": "stderr",
     "output_type": "stream",
     "text": [
      "100%|██████████| 1046/1046 [00:00<00:00, 3527.82it/s]\n"
     ]
    },
    {
     "name": "stdout",
     "output_type": "stream",
     "text": [
      "File ../data/hdfs/hdfs_test_normal, number of sessions 110673\n",
      "File ../data/hdfs/hdfs_test_normal, number of seqs 1046\n",
      "Find 9080 train logs, 1046 validation logs\n",
      "Train batch size 2048 ,Validation batch size 2048\n",
      "Starting epoch: 0 | phase: train | ⏰: 12:10:36 | Learning rate: 0.000313\n"
     ]
    },
    {
     "name": "stderr",
     "output_type": "stream",
     "text": [
      "Train loss: 2.91226: 100%|██████████| 5/5 [00:00<00:00, 56.90it/s]\n"
     ]
    },
    {
     "name": "stdout",
     "output_type": "stream",
     "text": [
      "Starting epoch: 0 | phase: valid | ⏰: 12:10:36 \n"
     ]
    },
    {
     "name": "stderr",
     "output_type": "stream",
     "text": [
      ": 100%|██████████| 1/1 [00:00<00:00, 102.19it/s]\n"
     ]
    },
    {
     "name": "stdout",
     "output_type": "stream",
     "text": [
      "Validation loss: 2.8311424255371094\n",
      "Client  2\n",
      "File ../data/hdfs/hdfs_train, number of sessions 971\n",
      "File ../data/hdfs/hdfs_train, number of seqs 9485\n",
      "sampling...\n"
     ]
    },
    {
     "name": "stderr",
     "output_type": "stream",
     "text": [
      "100%|██████████| 1051/1051 [00:00<00:00, 3462.22it/s]\n"
     ]
    },
    {
     "name": "stdout",
     "output_type": "stream",
     "text": [
      "File ../data/hdfs/hdfs_test_normal, number of sessions 110673\n",
      "File ../data/hdfs/hdfs_test_normal, number of seqs 1051\n",
      "Find 9485 train logs, 1051 validation logs\n",
      "Train batch size 2048 ,Validation batch size 2048\n",
      "Starting epoch: 0 | phase: train | ⏰: 12:10:48 | Learning rate: 0.000313\n"
     ]
    },
    {
     "name": "stderr",
     "output_type": "stream",
     "text": [
      "Train loss: 2.91692: 100%|██████████| 5/5 [00:00<00:00, 56.03it/s]\n"
     ]
    },
    {
     "name": "stdout",
     "output_type": "stream",
     "text": [
      "Starting epoch: 0 | phase: valid | ⏰: 12:10:48 \n"
     ]
    },
    {
     "name": "stderr",
     "output_type": "stream",
     "text": [
      ": 100%|██████████| 1/1 [00:00<00:00, 100.68it/s]\n"
     ]
    },
    {
     "name": "stdout",
     "output_type": "stream",
     "text": [
      "Validation loss: 2.8136584758758545\n",
      "Client  3\n",
      "File ../data/hdfs/hdfs_train, number of sessions 971\n",
      "File ../data/hdfs/hdfs_train, number of seqs 9267\n",
      "sampling...\n"
     ]
    },
    {
     "name": "stderr",
     "output_type": "stream",
     "text": [
      "100%|██████████| 1057/1057 [00:00<00:00, 3606.05it/s]\n"
     ]
    },
    {
     "name": "stdout",
     "output_type": "stream",
     "text": [
      "File ../data/hdfs/hdfs_test_normal, number of sessions 110673\n",
      "File ../data/hdfs/hdfs_test_normal, number of seqs 1057\n",
      "Find 9267 train logs, 1057 validation logs\n",
      "Train batch size 2048 ,Validation batch size 2048\n",
      "Starting epoch: 0 | phase: train | ⏰: 12:10:59 | Learning rate: 0.000313\n"
     ]
    },
    {
     "name": "stderr",
     "output_type": "stream",
     "text": [
      "Train loss: 2.90981: 100%|██████████| 5/5 [00:00<00:00, 56.81it/s]\n"
     ]
    },
    {
     "name": "stdout",
     "output_type": "stream",
     "text": [
      "Starting epoch: 0 | phase: valid | ⏰: 12:11:00 \n"
     ]
    },
    {
     "name": "stderr",
     "output_type": "stream",
     "text": [
      ": 100%|██████████| 1/1 [00:00<00:00, 99.63it/s]\n"
     ]
    },
    {
     "name": "stdout",
     "output_type": "stream",
     "text": [
      "Validation loss: 2.837986946105957\n",
      "Client  4\n",
      "File ../data/hdfs/hdfs_train, number of sessions 971\n",
      "File ../data/hdfs/hdfs_train, number of seqs 9323\n",
      "sampling...\n"
     ]
    },
    {
     "name": "stderr",
     "output_type": "stream",
     "text": [
      "100%|██████████| 1044/1044 [00:00<00:00, 3547.17it/s]\n"
     ]
    },
    {
     "name": "stdout",
     "output_type": "stream",
     "text": [
      "File ../data/hdfs/hdfs_test_normal, number of sessions 110673\n",
      "File ../data/hdfs/hdfs_test_normal, number of seqs 1044\n",
      "Find 9323 train logs, 1044 validation logs\n",
      "Train batch size 2048 ,Validation batch size 2048\n",
      "Starting epoch: 0 | phase: train | ⏰: 12:11:11 | Learning rate: 0.000313\n"
     ]
    },
    {
     "name": "stderr",
     "output_type": "stream",
     "text": [
      "Train loss: 2.90941: 100%|██████████| 5/5 [00:00<00:00, 54.70it/s]\n"
     ]
    },
    {
     "name": "stdout",
     "output_type": "stream",
     "text": [
      "Starting epoch: 0 | phase: valid | ⏰: 12:11:11 \n"
     ]
    },
    {
     "name": "stderr",
     "output_type": "stream",
     "text": [
      ": 100%|██████████| 1/1 [00:00<00:00, 103.17it/s]\n"
     ]
    },
    {
     "name": "stdout",
     "output_type": "stream",
     "text": [
      "Validation loss: 2.8271257877349854\n",
      "============ Test epoch 5 ============\n",
      "Client  0\n",
      "Number of sessions(hdfs_test_normal): 5813\n",
      "Number of sessions(hdfs_test_abnormal): 1136\n"
     ]
    },
    {
     "name": "stderr",
     "output_type": "stream",
     "text": [
      "100%|██████████| 5813/5813 [01:52<00:00, 51.86it/s]\n",
      "100%|██████████| 1136/1136 [00:12<00:00, 89.48it/s]\n"
     ]
    },
    {
     "name": "stdout",
     "output_type": "stream",
     "text": [
      "false positive (FP): 7929, false negative (FN): 22, Precision: 29.670%, Recall: 99.347%, F1-measure: 45.694%\n",
      "actual positive (TP+FN): 3367, actual negative (FP+TN): 110673\n",
      "accuracy: 93.028\n",
      "Finished Predicting\n",
      "elapsed_time: 124.79661512374878\n",
      "Client  1\n",
      "Number of sessions(hdfs_test_normal): 5574\n",
      "Number of sessions(hdfs_test_abnormal): 1139\n"
     ]
    },
    {
     "name": "stderr",
     "output_type": "stream",
     "text": [
      "100%|██████████| 5574/5574 [01:46<00:00, 52.58it/s]\n",
      "100%|██████████| 1139/1139 [00:13<00:00, 85.76it/s]\n"
     ]
    },
    {
     "name": "stdout",
     "output_type": "stream",
     "text": [
      "false positive (FP): 7588, false negative (FN): 26, Precision: 30.570%, Recall: 99.228%, F1-measure: 46.740%\n",
      "actual positive (TP+FN): 3367, actual negative (FP+TN): 110673\n",
      "accuracy: 93.323\n",
      "Finished Predicting\n",
      "elapsed_time: 119.29745149612427\n",
      "Client  2\n",
      "Number of sessions(hdfs_test_normal): 5730\n",
      "Number of sessions(hdfs_test_abnormal): 1118\n"
     ]
    },
    {
     "name": "stderr",
     "output_type": "stream",
     "text": [
      "100%|██████████| 5730/5730 [01:50<00:00, 51.90it/s]\n",
      "100%|██████████| 1118/1118 [00:12<00:00, 86.00it/s]\n"
     ]
    },
    {
     "name": "stdout",
     "output_type": "stream",
     "text": [
      "false positive (FP): 7752, false negative (FN): 26, Precision: 30.118%, Recall: 99.228%, F1-measure: 46.210%\n",
      "actual positive (TP+FN): 3367, actual negative (FP+TN): 110673\n",
      "accuracy: 93.180\n",
      "Finished Predicting\n",
      "elapsed_time: 123.4090166091919\n",
      "Client  3\n",
      "Number of sessions(hdfs_test_normal): 5747\n",
      "Number of sessions(hdfs_test_abnormal): 1159\n"
     ]
    },
    {
     "name": "stderr",
     "output_type": "stream",
     "text": [
      "100%|██████████| 5747/5747 [01:50<00:00, 52.06it/s]\n",
      "100%|██████████| 1159/1159 [00:13<00:00, 84.95it/s]\n"
     ]
    },
    {
     "name": "stdout",
     "output_type": "stream",
     "text": [
      "false positive (FP): 7656, false negative (FN): 24, Precision: 30.394%, Recall: 99.287%, F1-measure: 46.540%\n",
      "actual positive (TP+FN): 3367, actual negative (FP+TN): 110673\n",
      "accuracy: 93.266\n",
      "Finished Predicting\n",
      "elapsed_time: 124.04720568656921\n",
      "Client  4\n",
      "Number of sessions(hdfs_test_normal): 5623\n",
      "Number of sessions(hdfs_test_abnormal): 1121\n"
     ]
    },
    {
     "name": "stderr",
     "output_type": "stream",
     "text": [
      "100%|██████████| 5623/5623 [01:47<00:00, 52.55it/s] \n",
      "100%|██████████| 1121/1121 [00:09<00:00, 122.52it/s]\n"
     ]
    },
    {
     "name": "stdout",
     "output_type": "stream",
     "text": [
      "false positive (FP): 7508, false negative (FN): 28, Precision: 30.783%, Recall: 99.168%, F1-measure: 46.982%\n",
      "actual positive (TP+FN): 3367, actual negative (FP+TN): 110673\n",
      "accuracy: 93.392\n",
      "Finished Predicting\n",
      "elapsed_time: 116.1544840335846\n",
      "============ Train epoch 6 ============\n",
      "Client  0\n",
      "File ../data/hdfs/hdfs_train, number of sessions 971\n",
      "File ../data/hdfs/hdfs_train, number of seqs 9420\n",
      "sampling...\n"
     ]
    },
    {
     "name": "stderr",
     "output_type": "stream",
     "text": [
      "100%|██████████| 1058/1058 [00:00<00:00, 3548.38it/s]\n"
     ]
    },
    {
     "name": "stdout",
     "output_type": "stream",
     "text": [
      "File ../data/hdfs/hdfs_test_normal, number of sessions 110673\n",
      "File ../data/hdfs/hdfs_test_normal, number of seqs 1058\n",
      "Find 9420 train logs, 1058 validation logs\n",
      "Train batch size 2048 ,Validation batch size 2048\n",
      "Starting epoch: 0 | phase: train | ⏰: 12:21:34 | Learning rate: 0.000313\n"
     ]
    },
    {
     "name": "stderr",
     "output_type": "stream",
     "text": [
      "Train loss: 2.78398: 100%|██████████| 5/5 [00:00<00:00, 56.45it/s]\n"
     ]
    },
    {
     "name": "stdout",
     "output_type": "stream",
     "text": [
      "Starting epoch: 0 | phase: valid | ⏰: 12:21:34 \n"
     ]
    },
    {
     "name": "stderr",
     "output_type": "stream",
     "text": [
      ": 100%|██████████| 1/1 [00:00<00:00, 105.87it/s]\n"
     ]
    },
    {
     "name": "stdout",
     "output_type": "stream",
     "text": [
      "Validation loss: 2.695250988006592\n",
      "Client  1\n",
      "File ../data/hdfs/hdfs_train, number of sessions 971\n",
      "File ../data/hdfs/hdfs_train, number of seqs 9080\n",
      "sampling...\n"
     ]
    },
    {
     "name": "stderr",
     "output_type": "stream",
     "text": [
      "100%|██████████| 1046/1046 [00:00<00:00, 3454.75it/s]\n"
     ]
    },
    {
     "name": "stdout",
     "output_type": "stream",
     "text": [
      "File ../data/hdfs/hdfs_test_normal, number of sessions 110673\n",
      "File ../data/hdfs/hdfs_test_normal, number of seqs 1046\n",
      "Find 9080 train logs, 1046 validation logs\n",
      "Train batch size 2048 ,Validation batch size 2048\n",
      "Starting epoch: 0 | phase: train | ⏰: 12:21:45 | Learning rate: 0.000313\n"
     ]
    },
    {
     "name": "stderr",
     "output_type": "stream",
     "text": [
      "Train loss: 2.78144: 100%|██████████| 5/5 [00:00<00:00, 59.70it/s]\n"
     ]
    },
    {
     "name": "stdout",
     "output_type": "stream",
     "text": [
      "Starting epoch: 0 | phase: valid | ⏰: 12:21:45 \n"
     ]
    },
    {
     "name": "stderr",
     "output_type": "stream",
     "text": [
      ": 100%|██████████| 1/1 [00:00<00:00, 110.53it/s]\n"
     ]
    },
    {
     "name": "stdout",
     "output_type": "stream",
     "text": [
      "Validation loss: 2.679318428039551\n",
      "Client  2\n",
      "File ../data/hdfs/hdfs_train, number of sessions 971\n",
      "File ../data/hdfs/hdfs_train, number of seqs 9485\n",
      "sampling...\n"
     ]
    },
    {
     "name": "stderr",
     "output_type": "stream",
     "text": [
      "100%|██████████| 1051/1051 [00:00<00:00, 3164.61it/s]\n"
     ]
    },
    {
     "name": "stdout",
     "output_type": "stream",
     "text": [
      "File ../data/hdfs/hdfs_test_normal, number of sessions 110673\n",
      "File ../data/hdfs/hdfs_test_normal, number of seqs 1051\n",
      "Find 9485 train logs, 1051 validation logs\n",
      "Train batch size 2048 ,Validation batch size 2048\n",
      "Starting epoch: 0 | phase: train | ⏰: 12:21:57 | Learning rate: 0.000313\n"
     ]
    },
    {
     "name": "stderr",
     "output_type": "stream",
     "text": [
      "Train loss: 2.79010: 100%|██████████| 5/5 [00:00<00:00, 57.14it/s]\n"
     ]
    },
    {
     "name": "stdout",
     "output_type": "stream",
     "text": [
      "Starting epoch: 0 | phase: valid | ⏰: 12:21:57 \n"
     ]
    },
    {
     "name": "stderr",
     "output_type": "stream",
     "text": [
      ": 100%|██████████| 1/1 [00:00<00:00, 107.44it/s]"
     ]
    },
    {
     "name": "stdout",
     "output_type": "stream",
     "text": [
      "Validation loss: 2.7003979682922363\n",
      "Client  3\n"
     ]
    },
    {
     "name": "stderr",
     "output_type": "stream",
     "text": [
      "\n"
     ]
    },
    {
     "name": "stdout",
     "output_type": "stream",
     "text": [
      "File ../data/hdfs/hdfs_train, number of sessions 971\n",
      "File ../data/hdfs/hdfs_train, number of seqs 9267\n",
      "sampling...\n"
     ]
    },
    {
     "name": "stderr",
     "output_type": "stream",
     "text": [
      "100%|██████████| 1057/1057 [00:00<00:00, 3347.20it/s]\n"
     ]
    },
    {
     "name": "stdout",
     "output_type": "stream",
     "text": [
      "File ../data/hdfs/hdfs_test_normal, number of sessions 110673\n",
      "File ../data/hdfs/hdfs_test_normal, number of seqs 1057\n",
      "Find 9267 train logs, 1057 validation logs\n",
      "Train batch size 2048 ,Validation batch size 2048\n",
      "Starting epoch: 0 | phase: train | ⏰: 12:22:09 | Learning rate: 0.000313\n"
     ]
    },
    {
     "name": "stderr",
     "output_type": "stream",
     "text": [
      "Train loss: 2.78180: 100%|██████████| 5/5 [00:00<00:00, 58.12it/s]\n"
     ]
    },
    {
     "name": "stdout",
     "output_type": "stream",
     "text": [
      "Starting epoch: 0 | phase: valid | ⏰: 12:22:09 \n"
     ]
    },
    {
     "name": "stderr",
     "output_type": "stream",
     "text": [
      ": 100%|██████████| 1/1 [00:00<00:00, 105.40it/s]\n"
     ]
    },
    {
     "name": "stdout",
     "output_type": "stream",
     "text": [
      "Validation loss: 2.6828722953796387\n",
      "Client  4\n",
      "File ../data/hdfs/hdfs_train, number of sessions 971\n",
      "File ../data/hdfs/hdfs_train, number of seqs 9323\n",
      "sampling...\n"
     ]
    },
    {
     "name": "stderr",
     "output_type": "stream",
     "text": [
      "100%|██████████| 1044/1044 [00:00<00:00, 3506.06it/s]\n"
     ]
    },
    {
     "name": "stdout",
     "output_type": "stream",
     "text": [
      "File ../data/hdfs/hdfs_test_normal, number of sessions 110673\n",
      "File ../data/hdfs/hdfs_test_normal, number of seqs 1044\n",
      "Find 9323 train logs, 1044 validation logs\n",
      "Train batch size 2048 ,Validation batch size 2048\n",
      "Starting epoch: 0 | phase: train | ⏰: 12:22:21 | Learning rate: 0.000313\n"
     ]
    },
    {
     "name": "stderr",
     "output_type": "stream",
     "text": [
      "Train loss: 2.77946: 100%|██████████| 5/5 [00:00<00:00, 54.59it/s]\n"
     ]
    },
    {
     "name": "stdout",
     "output_type": "stream",
     "text": [
      "Starting epoch: 0 | phase: valid | ⏰: 12:22:21 \n"
     ]
    },
    {
     "name": "stderr",
     "output_type": "stream",
     "text": [
      ": 100%|██████████| 1/1 [00:00<00:00, 108.80it/s]\n"
     ]
    },
    {
     "name": "stdout",
     "output_type": "stream",
     "text": [
      "Validation loss: 2.702321767807007\n",
      "============ Test epoch 6 ============\n",
      "Client  0\n",
      "Number of sessions(hdfs_test_normal): 5813\n",
      "Number of sessions(hdfs_test_abnormal): 1136\n"
     ]
    },
    {
     "name": "stderr",
     "output_type": "stream",
     "text": [
      "100%|██████████| 5813/5813 [02:23<00:00, 40.38it/s]\n",
      "100%|██████████| 1136/1136 [00:14<00:00, 77.39it/s]\n"
     ]
    },
    {
     "name": "stdout",
     "output_type": "stream",
     "text": [
      "false positive (FP): 490, false negative (FN): 24, Precision: 87.216%, Recall: 99.287%, F1-measure: 92.861%\n",
      "actual positive (TP+FN): 3367, actual negative (FP+TN): 110673\n",
      "accuracy: 99.549\n",
      "Finished Predicting\n",
      "elapsed_time: 158.65128755569458\n",
      "Client  1\n",
      "Number of sessions(hdfs_test_normal): 5574\n",
      "Number of sessions(hdfs_test_abnormal): 1139\n"
     ]
    },
    {
     "name": "stderr",
     "output_type": "stream",
     "text": [
      "100%|██████████| 5574/5574 [02:11<00:00, 42.48it/s]\n",
      "100%|██████████| 1139/1139 [00:07<00:00, 143.90it/s]\n"
     ]
    },
    {
     "name": "stdout",
     "output_type": "stream",
     "text": [
      "false positive (FP): 528, false negative (FN): 26, Precision: 86.353%, Recall: 99.228%, F1-measure: 92.344%\n",
      "actual positive (TP+FN): 3367, actual negative (FP+TN): 110673\n",
      "accuracy: 99.514\n",
      "Finished Predicting\n",
      "elapsed_time: 139.12690615653992\n",
      "Client  2\n",
      "Number of sessions(hdfs_test_normal): 5730\n",
      "Number of sessions(hdfs_test_abnormal): 1118\n"
     ]
    },
    {
     "name": "stderr",
     "output_type": "stream",
     "text": [
      "100%|██████████| 5730/5730 [01:39<00:00, 57.34it/s]\n",
      "100%|██████████| 1118/1118 [00:15<00:00, 73.54it/s]\n"
     ]
    },
    {
     "name": "stdout",
     "output_type": "stream",
     "text": [
      "false positive (FP): 469, false negative (FN): 30, Precision: 87.677%, Recall: 99.109%, F1-measure: 93.043%\n",
      "actual positive (TP+FN): 3367, actual negative (FP+TN): 110673\n",
      "accuracy: 99.562\n",
      "Finished Predicting\n",
      "elapsed_time: 115.14113020896912\n",
      "Client  3\n",
      "Number of sessions(hdfs_test_normal): 5747\n",
      "Number of sessions(hdfs_test_abnormal): 1159\n"
     ]
    },
    {
     "name": "stderr",
     "output_type": "stream",
     "text": [
      "100%|██████████| 5747/5747 [02:22<00:00, 40.35it/s]\n",
      "100%|██████████| 1159/1159 [00:16<00:00, 72.40it/s]\n"
     ]
    },
    {
     "name": "stdout",
     "output_type": "stream",
     "text": [
      "false positive (FP): 451, false negative (FN): 28, Precision: 88.100%, Recall: 99.168%, F1-measure: 93.307%\n",
      "actual positive (TP+FN): 3367, actual negative (FP+TN): 110673\n",
      "accuracy: 99.580\n",
      "Finished Predicting\n",
      "elapsed_time: 158.4478795528412\n",
      "Client  4\n",
      "Number of sessions(hdfs_test_normal): 5623\n",
      "Number of sessions(hdfs_test_abnormal): 1121\n"
     ]
    },
    {
     "name": "stderr",
     "output_type": "stream",
     "text": [
      "100%|██████████| 5623/5623 [02:16<00:00, 41.07it/s]\n",
      "100%|██████████| 1121/1121 [00:15<00:00, 74.21it/s]\n"
     ]
    },
    {
     "name": "stdout",
     "output_type": "stream",
     "text": [
      "false positive (FP): 527, false negative (FN): 32, Precision: 86.354%, Recall: 99.050%, F1-measure: 92.267%\n",
      "actual positive (TP+FN): 3367, actual negative (FP+TN): 110673\n",
      "accuracy: 99.510\n",
      "Finished Predicting\n",
      "elapsed_time: 152.0162525177002\n",
      "============ Train epoch 7 ============\n",
      "Client  0\n",
      "File ../data/hdfs/hdfs_train, number of sessions 971\n",
      "File ../data/hdfs/hdfs_train, number of seqs 9420\n",
      "sampling...\n"
     ]
    },
    {
     "name": "stderr",
     "output_type": "stream",
     "text": [
      "100%|██████████| 1058/1058 [00:00<00:00, 3481.87it/s]\n"
     ]
    },
    {
     "name": "stdout",
     "output_type": "stream",
     "text": [
      "File ../data/hdfs/hdfs_test_normal, number of sessions 110673\n",
      "File ../data/hdfs/hdfs_test_normal, number of seqs 1058\n",
      "Find 9420 train logs, 1058 validation logs\n",
      "Train batch size 2048 ,Validation batch size 2048\n",
      "Starting epoch: 0 | phase: train | ⏰: 12:34:39 | Learning rate: 0.000313\n"
     ]
    },
    {
     "name": "stderr",
     "output_type": "stream",
     "text": [
      "Train loss: 2.63715: 100%|██████████| 5/5 [00:00<00:00, 55.38it/s]\n"
     ]
    },
    {
     "name": "stdout",
     "output_type": "stream",
     "text": [
      "Starting epoch: 0 | phase: valid | ⏰: 12:34:39 \n"
     ]
    },
    {
     "name": "stderr",
     "output_type": "stream",
     "text": [
      ": 100%|██████████| 1/1 [00:00<00:00, 98.05it/s]\n"
     ]
    },
    {
     "name": "stdout",
     "output_type": "stream",
     "text": [
      "Validation loss: 2.535429000854492\n",
      "Client  1\n",
      "File ../data/hdfs/hdfs_train, number of sessions 971\n",
      "File ../data/hdfs/hdfs_train, number of seqs 9080\n",
      "sampling...\n"
     ]
    },
    {
     "name": "stderr",
     "output_type": "stream",
     "text": [
      "100%|██████████| 1046/1046 [00:00<00:00, 3643.29it/s]\n"
     ]
    },
    {
     "name": "stdout",
     "output_type": "stream",
     "text": [
      "File ../data/hdfs/hdfs_test_normal, number of sessions 110673\n",
      "File ../data/hdfs/hdfs_test_normal, number of seqs 1046\n",
      "Find 9080 train logs, 1046 validation logs\n",
      "Train batch size 2048 ,Validation batch size 2048\n",
      "Starting epoch: 0 | phase: train | ⏰: 12:34:51 | Learning rate: 0.000313\n"
     ]
    },
    {
     "name": "stderr",
     "output_type": "stream",
     "text": [
      "Train loss: 2.63740: 100%|██████████| 5/5 [00:00<00:00, 56.27it/s]\n"
     ]
    },
    {
     "name": "stdout",
     "output_type": "stream",
     "text": [
      "Starting epoch: 0 | phase: valid | ⏰: 12:34:51 \n"
     ]
    },
    {
     "name": "stderr",
     "output_type": "stream",
     "text": [
      ": 100%|██████████| 1/1 [00:00<00:00, 98.03it/s]\n"
     ]
    },
    {
     "name": "stdout",
     "output_type": "stream",
     "text": [
      "Validation loss: 2.560121536254883\n",
      "Client  2\n",
      "File ../data/hdfs/hdfs_train, number of sessions 971\n",
      "File ../data/hdfs/hdfs_train, number of seqs 9485\n",
      "sampling...\n"
     ]
    },
    {
     "name": "stderr",
     "output_type": "stream",
     "text": [
      "100%|██████████| 1051/1051 [00:00<00:00, 3470.64it/s]\n"
     ]
    },
    {
     "name": "stdout",
     "output_type": "stream",
     "text": [
      "File ../data/hdfs/hdfs_test_normal, number of sessions 110673\n",
      "File ../data/hdfs/hdfs_test_normal, number of seqs 1051\n",
      "Find 9485 train logs, 1051 validation logs\n",
      "Train batch size 2048 ,Validation batch size 2048\n",
      "Starting epoch: 0 | phase: train | ⏰: 12:35:02 | Learning rate: 0.000313\n"
     ]
    },
    {
     "name": "stderr",
     "output_type": "stream",
     "text": [
      "Train loss: 2.64794: 100%|██████████| 5/5 [00:00<00:00, 54.91it/s]\n"
     ]
    },
    {
     "name": "stdout",
     "output_type": "stream",
     "text": [
      "Starting epoch: 0 | phase: valid | ⏰: 12:35:02 \n"
     ]
    },
    {
     "name": "stderr",
     "output_type": "stream",
     "text": [
      ": 100%|██████████| 1/1 [00:00<00:00, 98.57it/s]\n"
     ]
    },
    {
     "name": "stdout",
     "output_type": "stream",
     "text": [
      "Validation loss: 2.5490500926971436\n",
      "Client  3\n",
      "File ../data/hdfs/hdfs_train, number of sessions 971\n",
      "File ../data/hdfs/hdfs_train, number of seqs 9267\n",
      "sampling...\n"
     ]
    },
    {
     "name": "stderr",
     "output_type": "stream",
     "text": [
      "100%|██████████| 1057/1057 [00:00<00:00, 3550.58it/s]\n"
     ]
    },
    {
     "name": "stdout",
     "output_type": "stream",
     "text": [
      "File ../data/hdfs/hdfs_test_normal, number of sessions 110673\n",
      "File ../data/hdfs/hdfs_test_normal, number of seqs 1057\n",
      "Find 9267 train logs, 1057 validation logs\n",
      "Train batch size 2048 ,Validation batch size 2048\n",
      "Starting epoch: 0 | phase: train | ⏰: 12:35:14 | Learning rate: 0.000313\n"
     ]
    },
    {
     "name": "stderr",
     "output_type": "stream",
     "text": [
      "Train loss: 2.63694: 100%|██████████| 5/5 [00:00<00:00, 55.31it/s]\n"
     ]
    },
    {
     "name": "stdout",
     "output_type": "stream",
     "text": [
      "Starting epoch: 0 | phase: valid | ⏰: 12:35:14 \n"
     ]
    },
    {
     "name": "stderr",
     "output_type": "stream",
     "text": [
      ": 100%|██████████| 1/1 [00:00<00:00, 103.15it/s]\n"
     ]
    },
    {
     "name": "stdout",
     "output_type": "stream",
     "text": [
      "Validation loss: 2.5593183040618896\n",
      "Client  4\n",
      "File ../data/hdfs/hdfs_train, number of sessions 971\n",
      "File ../data/hdfs/hdfs_train, number of seqs 9323\n",
      "sampling...\n"
     ]
    },
    {
     "name": "stderr",
     "output_type": "stream",
     "text": [
      "100%|██████████| 1044/1044 [00:00<00:00, 3633.08it/s]\n"
     ]
    },
    {
     "name": "stdout",
     "output_type": "stream",
     "text": [
      "File ../data/hdfs/hdfs_test_normal, number of sessions 110673\n",
      "File ../data/hdfs/hdfs_test_normal, number of seqs 1044\n",
      "Find 9323 train logs, 1044 validation logs\n",
      "Train batch size 2048 ,Validation batch size 2048\n",
      "Starting epoch: 0 | phase: train | ⏰: 12:35:26 | Learning rate: 0.000313\n"
     ]
    },
    {
     "name": "stderr",
     "output_type": "stream",
     "text": [
      "Train loss: 2.63530: 100%|██████████| 5/5 [00:00<00:00, 52.73it/s]\n"
     ]
    },
    {
     "name": "stdout",
     "output_type": "stream",
     "text": [
      "Starting epoch: 0 | phase: valid | ⏰: 12:35:26 \n"
     ]
    },
    {
     "name": "stderr",
     "output_type": "stream",
     "text": [
      ": 100%|██████████| 1/1 [00:00<00:00, 99.60it/s]\n"
     ]
    },
    {
     "name": "stdout",
     "output_type": "stream",
     "text": [
      "Validation loss: 2.5458600521087646\n",
      "============ Test epoch 7 ============\n",
      "Client  0\n",
      "Number of sessions(hdfs_test_normal): 5813\n",
      "Number of sessions(hdfs_test_abnormal): 1136\n"
     ]
    },
    {
     "name": "stderr",
     "output_type": "stream",
     "text": [
      "100%|██████████| 5813/5813 [02:23<00:00, 40.65it/s]\n",
      "100%|██████████| 1136/1136 [00:14<00:00, 77.64it/s]\n"
     ]
    },
    {
     "name": "stdout",
     "output_type": "stream",
     "text": [
      "false positive (FP): 490, false negative (FN): 24, Precision: 87.216%, Recall: 99.287%, F1-measure: 92.861%\n",
      "actual positive (TP+FN): 3367, actual negative (FP+TN): 110673\n",
      "accuracy: 99.549\n",
      "Finished Predicting\n",
      "elapsed_time: 157.64912867546082\n",
      "Client  1\n",
      "Number of sessions(hdfs_test_normal): 5574\n",
      "Number of sessions(hdfs_test_abnormal): 1139\n"
     ]
    },
    {
     "name": "stderr",
     "output_type": "stream",
     "text": [
      "100%|██████████| 5574/5574 [02:15<00:00, 40.99it/s]\n",
      "100%|██████████| 1139/1139 [00:15<00:00, 74.24it/s]\n"
     ]
    },
    {
     "name": "stdout",
     "output_type": "stream",
     "text": [
      "false positive (FP): 528, false negative (FN): 26, Precision: 86.353%, Recall: 99.228%, F1-measure: 92.344%\n",
      "actual positive (TP+FN): 3367, actual negative (FP+TN): 110673\n",
      "accuracy: 99.514\n",
      "Finished Predicting\n",
      "elapsed_time: 151.31805801391602\n",
      "Client  2\n",
      "Number of sessions(hdfs_test_normal): 5730\n",
      "Number of sessions(hdfs_test_abnormal): 1118\n"
     ]
    },
    {
     "name": "stderr",
     "output_type": "stream",
     "text": [
      "100%|██████████| 5730/5730 [01:27<00:00, 65.86it/s]\n",
      "100%|██████████| 1118/1118 [00:13<00:00, 83.53it/s]\n"
     ]
    },
    {
     "name": "stdout",
     "output_type": "stream",
     "text": [
      "false positive (FP): 468, false negative (FN): 30, Precision: 87.700%, Recall: 99.109%, F1-measure: 93.056%\n",
      "actual positive (TP+FN): 3367, actual negative (FP+TN): 110673\n",
      "accuracy: 99.563\n",
      "Finished Predicting\n",
      "elapsed_time: 100.39100956916809\n",
      "Client  3\n",
      "Number of sessions(hdfs_test_normal): 5747\n",
      "Number of sessions(hdfs_test_abnormal): 1159\n"
     ]
    },
    {
     "name": "stderr",
     "output_type": "stream",
     "text": [
      "100%|██████████| 5747/5747 [02:22<00:00, 40.43it/s]\n",
      "100%|██████████| 1159/1159 [00:15<00:00, 72.46it/s]\n"
     ]
    },
    {
     "name": "stdout",
     "output_type": "stream",
     "text": [
      "false positive (FP): 451, false negative (FN): 28, Precision: 88.100%, Recall: 99.168%, F1-measure: 93.307%\n",
      "actual positive (TP+FN): 3367, actual negative (FP+TN): 110673\n",
      "accuracy: 99.580\n",
      "Finished Predicting\n",
      "elapsed_time: 158.1358199119568\n",
      "Client  4\n",
      "Number of sessions(hdfs_test_normal): 5623\n",
      "Number of sessions(hdfs_test_abnormal): 1121\n"
     ]
    },
    {
     "name": "stderr",
     "output_type": "stream",
     "text": [
      "100%|██████████| 5623/5623 [02:09<00:00, 43.50it/s]\n",
      "100%|██████████| 1121/1121 [00:07<00:00, 146.00it/s]\n"
     ]
    },
    {
     "name": "stdout",
     "output_type": "stream",
     "text": [
      "false positive (FP): 525, false negative (FN): 32, Precision: 86.399%, Recall: 99.050%, F1-measure: 92.293%\n",
      "actual positive (TP+FN): 3367, actual negative (FP+TN): 110673\n",
      "accuracy: 99.512\n",
      "Finished Predicting\n",
      "elapsed_time: 136.94271874427795\n",
      "============ Train epoch 8 ============\n",
      "Client  0\n",
      "File ../data/hdfs/hdfs_train, number of sessions 971\n",
      "File ../data/hdfs/hdfs_train, number of seqs 9420\n",
      "sampling...\n"
     ]
    },
    {
     "name": "stderr",
     "output_type": "stream",
     "text": [
      "100%|██████████| 1058/1058 [00:00<00:00, 3588.94it/s]\n"
     ]
    },
    {
     "name": "stdout",
     "output_type": "stream",
     "text": [
      "File ../data/hdfs/hdfs_test_normal, number of sessions 110673\n",
      "File ../data/hdfs/hdfs_test_normal, number of seqs 1058\n",
      "Find 9420 train logs, 1058 validation logs\n",
      "Train batch size 2048 ,Validation batch size 2048\n",
      "Starting epoch: 0 | phase: train | ⏰: 12:47:25 | Learning rate: 0.000313\n"
     ]
    },
    {
     "name": "stderr",
     "output_type": "stream",
     "text": [
      "Train loss: 2.48423: 100%|██████████| 5/5 [00:00<00:00, 55.46it/s]\n"
     ]
    },
    {
     "name": "stdout",
     "output_type": "stream",
     "text": [
      "Starting epoch: 0 | phase: valid | ⏰: 12:47:25 \n"
     ]
    },
    {
     "name": "stderr",
     "output_type": "stream",
     "text": [
      ": 100%|██████████| 1/1 [00:00<00:00, 106.22it/s]\n"
     ]
    },
    {
     "name": "stdout",
     "output_type": "stream",
     "text": [
      "Validation loss: 2.406343698501587\n",
      "Client  1\n",
      "File ../data/hdfs/hdfs_train, number of sessions 971\n",
      "File ../data/hdfs/hdfs_train, number of seqs 9080\n",
      "sampling...\n"
     ]
    },
    {
     "name": "stderr",
     "output_type": "stream",
     "text": [
      "100%|██████████| 1046/1046 [00:00<00:00, 3298.49it/s]\n"
     ]
    },
    {
     "name": "stdout",
     "output_type": "stream",
     "text": [
      "File ../data/hdfs/hdfs_test_normal, number of sessions 110673\n",
      "File ../data/hdfs/hdfs_test_normal, number of seqs 1046\n",
      "Find 9080 train logs, 1046 validation logs\n",
      "Train batch size 2048 ,Validation batch size 2048\n",
      "Starting epoch: 0 | phase: train | ⏰: 12:47:37 | Learning rate: 0.000313\n"
     ]
    },
    {
     "name": "stderr",
     "output_type": "stream",
     "text": [
      "Train loss: 2.48397: 100%|██████████| 5/5 [00:00<00:00, 57.88it/s]\n"
     ]
    },
    {
     "name": "stdout",
     "output_type": "stream",
     "text": [
      "Starting epoch: 0 | phase: valid | ⏰: 12:47:37 \n"
     ]
    },
    {
     "name": "stderr",
     "output_type": "stream",
     "text": [
      ": 100%|██████████| 1/1 [00:00<00:00, 103.73it/s]\n"
     ]
    },
    {
     "name": "stdout",
     "output_type": "stream",
     "text": [
      "Validation loss: 2.369157314300537\n",
      "Client  2\n",
      "File ../data/hdfs/hdfs_train, number of sessions 971\n",
      "File ../data/hdfs/hdfs_train, number of seqs 9485\n",
      "sampling...\n"
     ]
    },
    {
     "name": "stderr",
     "output_type": "stream",
     "text": [
      "100%|██████████| 1051/1051 [00:00<00:00, 3299.64it/s]\n"
     ]
    },
    {
     "name": "stdout",
     "output_type": "stream",
     "text": [
      "File ../data/hdfs/hdfs_test_normal, number of sessions 110673\n",
      "File ../data/hdfs/hdfs_test_normal, number of seqs 1051\n",
      "Find 9485 train logs, 1051 validation logs\n",
      "Train batch size 2048 ,Validation batch size 2048\n",
      "Starting epoch: 0 | phase: train | ⏰: 12:47:48 | Learning rate: 0.000313\n"
     ]
    },
    {
     "name": "stderr",
     "output_type": "stream",
     "text": [
      "Train loss: 2.49490: 100%|██████████| 5/5 [00:00<00:00, 55.46it/s]\n"
     ]
    },
    {
     "name": "stdout",
     "output_type": "stream",
     "text": [
      "Starting epoch: 0 | phase: valid | ⏰: 12:47:49 \n"
     ]
    },
    {
     "name": "stderr",
     "output_type": "stream",
     "text": [
      ": 100%|██████████| 1/1 [00:00<00:00, 102.92it/s]\n"
     ]
    },
    {
     "name": "stdout",
     "output_type": "stream",
     "text": [
      "Validation loss: 2.415764331817627\n",
      "Client  3\n",
      "File ../data/hdfs/hdfs_train, number of sessions 971\n",
      "File ../data/hdfs/hdfs_train, number of seqs 9267\n",
      "sampling...\n"
     ]
    },
    {
     "name": "stderr",
     "output_type": "stream",
     "text": [
      "100%|██████████| 1057/1057 [00:00<00:00, 3628.15it/s]\n"
     ]
    },
    {
     "name": "stdout",
     "output_type": "stream",
     "text": [
      "File ../data/hdfs/hdfs_test_normal, number of sessions 110673\n",
      "File ../data/hdfs/hdfs_test_normal, number of seqs 1057\n",
      "Find 9267 train logs, 1057 validation logs\n",
      "Train batch size 2048 ,Validation batch size 2048\n",
      "Starting epoch: 0 | phase: train | ⏰: 12:48:00 | Learning rate: 0.000313\n"
     ]
    },
    {
     "name": "stderr",
     "output_type": "stream",
     "text": [
      "Train loss: 2.48261: 100%|██████████| 5/5 [00:00<00:00, 55.00it/s]\n"
     ]
    },
    {
     "name": "stdout",
     "output_type": "stream",
     "text": [
      "Starting epoch: 0 | phase: valid | ⏰: 12:48:00 \n"
     ]
    },
    {
     "name": "stderr",
     "output_type": "stream",
     "text": [
      ": 100%|██████████| 1/1 [00:00<00:00, 104.54it/s]\n"
     ]
    },
    {
     "name": "stdout",
     "output_type": "stream",
     "text": [
      "Validation loss: 2.4108707904815674\n",
      "Client  4\n",
      "File ../data/hdfs/hdfs_train, number of sessions 971\n",
      "File ../data/hdfs/hdfs_train, number of seqs 9323\n",
      "sampling...\n"
     ]
    },
    {
     "name": "stderr",
     "output_type": "stream",
     "text": [
      "100%|██████████| 1044/1044 [00:00<00:00, 3455.67it/s]\n"
     ]
    },
    {
     "name": "stdout",
     "output_type": "stream",
     "text": [
      "File ../data/hdfs/hdfs_test_normal, number of sessions 110673\n",
      "File ../data/hdfs/hdfs_test_normal, number of seqs 1044\n",
      "Find 9323 train logs, 1044 validation logs\n",
      "Train batch size 2048 ,Validation batch size 2048\n",
      "Starting epoch: 0 | phase: train | ⏰: 12:48:12 | Learning rate: 0.000313\n"
     ]
    },
    {
     "name": "stderr",
     "output_type": "stream",
     "text": [
      "Train loss: 2.48207: 100%|██████████| 5/5 [00:00<00:00, 54.74it/s]\n"
     ]
    },
    {
     "name": "stdout",
     "output_type": "stream",
     "text": [
      "Starting epoch: 0 | phase: valid | ⏰: 12:48:12 \n"
     ]
    },
    {
     "name": "stderr",
     "output_type": "stream",
     "text": [
      ": 100%|██████████| 1/1 [00:00<00:00, 100.69it/s]\n"
     ]
    },
    {
     "name": "stdout",
     "output_type": "stream",
     "text": [
      "Validation loss: 2.3938632011413574\n",
      "============ Test epoch 8 ============\n",
      "Client  0\n",
      "Number of sessions(hdfs_test_normal): 5813\n",
      "Number of sessions(hdfs_test_abnormal): 1136\n"
     ]
    },
    {
     "name": "stderr",
     "output_type": "stream",
     "text": [
      "100%|██████████| 5813/5813 [02:23<00:00, 40.41it/s]\n",
      "100%|██████████| 1136/1136 [00:14<00:00, 77.52it/s]\n"
     ]
    },
    {
     "name": "stdout",
     "output_type": "stream",
     "text": [
      "false positive (FP): 490, false negative (FN): 24, Precision: 87.216%, Recall: 99.287%, F1-measure: 92.861%\n",
      "actual positive (TP+FN): 3367, actual negative (FP+TN): 110673\n",
      "accuracy: 99.549\n",
      "Finished Predicting\n",
      "elapsed_time: 158.50511169433594\n",
      "Client  1\n",
      "Number of sessions(hdfs_test_normal): 5574\n",
      "Number of sessions(hdfs_test_abnormal): 1139\n"
     ]
    },
    {
     "name": "stderr",
     "output_type": "stream",
     "text": [
      "100%|██████████| 5574/5574 [02:15<00:00, 41.15it/s]\n",
      "100%|██████████| 1139/1139 [00:15<00:00, 73.84it/s]\n"
     ]
    },
    {
     "name": "stdout",
     "output_type": "stream",
     "text": [
      "false positive (FP): 528, false negative (FN): 26, Precision: 86.353%, Recall: 99.228%, F1-measure: 92.344%\n",
      "actual positive (TP+FN): 3367, actual negative (FP+TN): 110673\n",
      "accuracy: 99.514\n",
      "Finished Predicting\n",
      "elapsed_time: 150.87663221359253\n",
      "Client  2\n",
      "Number of sessions(hdfs_test_normal): 5730\n",
      "Number of sessions(hdfs_test_abnormal): 1118\n"
     ]
    },
    {
     "name": "stderr",
     "output_type": "stream",
     "text": [
      "100%|██████████| 5730/5730 [02:22<00:00, 40.26it/s]\n",
      "100%|██████████| 1118/1118 [00:15<00:00, 73.78it/s]\n"
     ]
    },
    {
     "name": "stdout",
     "output_type": "stream",
     "text": [
      "false positive (FP): 468, false negative (FN): 30, Precision: 87.700%, Recall: 99.109%, F1-measure: 93.056%\n",
      "actual positive (TP+FN): 3367, actual negative (FP+TN): 110673\n",
      "accuracy: 99.563\n",
      "Finished Predicting\n",
      "elapsed_time: 157.472092628479\n",
      "Client  3\n",
      "Number of sessions(hdfs_test_normal): 5747\n",
      "Number of sessions(hdfs_test_abnormal): 1159\n"
     ]
    },
    {
     "name": "stderr",
     "output_type": "stream",
     "text": [
      "100%|██████████| 5747/5747 [02:22<00:00, 40.41it/s]\n",
      "100%|██████████| 1159/1159 [00:15<00:00, 72.49it/s]\n"
     ]
    },
    {
     "name": "stdout",
     "output_type": "stream",
     "text": [
      "false positive (FP): 451, false negative (FN): 28, Precision: 88.100%, Recall: 99.168%, F1-measure: 93.307%\n",
      "actual positive (TP+FN): 3367, actual negative (FP+TN): 110673\n",
      "accuracy: 99.580\n",
      "Finished Predicting\n",
      "elapsed_time: 158.19500470161438\n",
      "Client  4\n",
      "Number of sessions(hdfs_test_normal): 5623\n",
      "Number of sessions(hdfs_test_abnormal): 1121\n"
     ]
    },
    {
     "name": "stderr",
     "output_type": "stream",
     "text": [
      "100%|██████████| 5623/5623 [02:04<00:00, 45.34it/s]\n",
      "100%|██████████| 1121/1121 [00:07<00:00, 146.62it/s]\n"
     ]
    },
    {
     "name": "stdout",
     "output_type": "stream",
     "text": [
      "false positive (FP): 525, false negative (FN): 32, Precision: 86.399%, Recall: 99.050%, F1-measure: 92.293%\n",
      "actual positive (TP+FN): 3367, actual negative (FP+TN): 110673\n",
      "accuracy: 99.512\n",
      "Finished Predicting\n",
      "elapsed_time: 131.65839529037476\n",
      "============ Train epoch 9 ============\n",
      "Client  0\n",
      "File ../data/hdfs/hdfs_train, number of sessions 971\n",
      "File ../data/hdfs/hdfs_train, number of seqs 9420\n",
      "sampling...\n"
     ]
    },
    {
     "name": "stderr",
     "output_type": "stream",
     "text": [
      "100%|██████████| 1058/1058 [00:00<00:00, 3541.63it/s]\n"
     ]
    },
    {
     "name": "stdout",
     "output_type": "stream",
     "text": [
      "File ../data/hdfs/hdfs_test_normal, number of sessions 110673\n",
      "File ../data/hdfs/hdfs_test_normal, number of seqs 1058\n",
      "Find 9420 train logs, 1058 validation logs\n",
      "Train batch size 2048 ,Validation batch size 2048\n",
      "Starting epoch: 0 | phase: train | ⏰: 13:01:04 | Learning rate: 0.000313\n"
     ]
    },
    {
     "name": "stderr",
     "output_type": "stream",
     "text": [
      "Train loss: 2.33774: 100%|██████████| 5/5 [00:00<00:00, 44.58it/s]\n"
     ]
    },
    {
     "name": "stdout",
     "output_type": "stream",
     "text": [
      "Starting epoch: 0 | phase: valid | ⏰: 13:01:04 \n"
     ]
    },
    {
     "name": "stderr",
     "output_type": "stream",
     "text": [
      ": 100%|██████████| 1/1 [00:00<00:00, 101.53it/s]\n"
     ]
    },
    {
     "name": "stdout",
     "output_type": "stream",
     "text": [
      "Validation loss: 2.2492589950561523\n",
      "Client  1\n",
      "File ../data/hdfs/hdfs_train, number of sessions 971\n",
      "File ../data/hdfs/hdfs_train, number of seqs 9080\n",
      "sampling...\n"
     ]
    },
    {
     "name": "stderr",
     "output_type": "stream",
     "text": [
      "100%|██████████| 1046/1046 [00:00<00:00, 3644.58it/s]\n"
     ]
    },
    {
     "name": "stdout",
     "output_type": "stream",
     "text": [
      "File ../data/hdfs/hdfs_test_normal, number of sessions 110673\n",
      "File ../data/hdfs/hdfs_test_normal, number of seqs 1046\n",
      "Find 9080 train logs, 1046 validation logs\n",
      "Train batch size 2048 ,Validation batch size 2048\n",
      "Starting epoch: 0 | phase: train | ⏰: 13:01:16 | Learning rate: 0.000313\n"
     ]
    },
    {
     "name": "stderr",
     "output_type": "stream",
     "text": [
      "Train loss: 2.34141: 100%|██████████| 5/5 [00:00<00:00, 54.30it/s]\n"
     ]
    },
    {
     "name": "stdout",
     "output_type": "stream",
     "text": [
      "Starting epoch: 0 | phase: valid | ⏰: 13:01:16 \n"
     ]
    },
    {
     "name": "stderr",
     "output_type": "stream",
     "text": [
      ": 100%|██████████| 1/1 [00:00<00:00, 101.49it/s]\n"
     ]
    },
    {
     "name": "stdout",
     "output_type": "stream",
     "text": [
      "Validation loss: 2.2374141216278076\n",
      "Client  2\n",
      "File ../data/hdfs/hdfs_train, number of sessions 971\n",
      "File ../data/hdfs/hdfs_train, number of seqs 9485\n",
      "sampling...\n"
     ]
    },
    {
     "name": "stderr",
     "output_type": "stream",
     "text": [
      "100%|██████████| 1051/1051 [00:00<00:00, 3671.17it/s]\n"
     ]
    },
    {
     "name": "stdout",
     "output_type": "stream",
     "text": [
      "File ../data/hdfs/hdfs_test_normal, number of sessions 110673\n",
      "File ../data/hdfs/hdfs_test_normal, number of seqs 1051\n",
      "Find 9485 train logs, 1051 validation logs\n",
      "Train batch size 2048 ,Validation batch size 2048\n",
      "Starting epoch: 0 | phase: train | ⏰: 13:01:27 | Learning rate: 0.000313\n"
     ]
    },
    {
     "name": "stderr",
     "output_type": "stream",
     "text": [
      "Train loss: 2.35145: 100%|██████████| 5/5 [00:00<00:00, 54.92it/s]\n"
     ]
    },
    {
     "name": "stdout",
     "output_type": "stream",
     "text": [
      "Starting epoch: 0 | phase: valid | ⏰: 13:01:28 \n"
     ]
    },
    {
     "name": "stderr",
     "output_type": "stream",
     "text": [
      ": 100%|██████████| 1/1 [00:00<00:00, 104.82it/s]\n"
     ]
    },
    {
     "name": "stdout",
     "output_type": "stream",
     "text": [
      "Validation loss: 2.2622597217559814\n",
      "Client  3\n",
      "File ../data/hdfs/hdfs_train, number of sessions 971\n",
      "File ../data/hdfs/hdfs_train, number of seqs 9267\n",
      "sampling...\n"
     ]
    },
    {
     "name": "stderr",
     "output_type": "stream",
     "text": [
      "100%|██████████| 1057/1057 [00:00<00:00, 3491.53it/s]\n"
     ]
    },
    {
     "name": "stdout",
     "output_type": "stream",
     "text": [
      "File ../data/hdfs/hdfs_test_normal, number of sessions 110673\n",
      "File ../data/hdfs/hdfs_test_normal, number of seqs 1057\n",
      "Find 9267 train logs, 1057 validation logs\n",
      "Train batch size 2048 ,Validation batch size 2048\n",
      "Starting epoch: 0 | phase: train | ⏰: 13:01:39 | Learning rate: 0.000313\n"
     ]
    },
    {
     "name": "stderr",
     "output_type": "stream",
     "text": [
      "Train loss: 2.33578: 100%|██████████| 5/5 [00:00<00:00, 56.26it/s]\n"
     ]
    },
    {
     "name": "stdout",
     "output_type": "stream",
     "text": [
      "Starting epoch: 0 | phase: valid | ⏰: 13:01:39 \n"
     ]
    },
    {
     "name": "stderr",
     "output_type": "stream",
     "text": [
      ": 100%|██████████| 1/1 [00:00<00:00, 103.78it/s]\n"
     ]
    },
    {
     "name": "stdout",
     "output_type": "stream",
     "text": [
      "Validation loss: 2.2575294971466064\n",
      "Client  4\n",
      "File ../data/hdfs/hdfs_train, number of sessions 971\n",
      "File ../data/hdfs/hdfs_train, number of seqs 9323\n",
      "sampling...\n"
     ]
    },
    {
     "name": "stderr",
     "output_type": "stream",
     "text": [
      "100%|██████████| 1044/1044 [00:00<00:00, 3643.74it/s]\n"
     ]
    },
    {
     "name": "stdout",
     "output_type": "stream",
     "text": [
      "File ../data/hdfs/hdfs_test_normal, number of sessions 110673\n",
      "File ../data/hdfs/hdfs_test_normal, number of seqs 1044\n",
      "Find 9323 train logs, 1044 validation logs\n",
      "Train batch size 2048 ,Validation batch size 2048\n",
      "Starting epoch: 0 | phase: train | ⏰: 13:01:51 | Learning rate: 0.000313\n"
     ]
    },
    {
     "name": "stderr",
     "output_type": "stream",
     "text": [
      "Train loss: 2.33345: 100%|██████████| 5/5 [00:00<00:00, 56.21it/s]\n"
     ]
    },
    {
     "name": "stdout",
     "output_type": "stream",
     "text": [
      "Starting epoch: 0 | phase: valid | ⏰: 13:01:51 \n"
     ]
    },
    {
     "name": "stderr",
     "output_type": "stream",
     "text": [
      ": 100%|██████████| 1/1 [00:00<00:00, 101.83it/s]\n"
     ]
    },
    {
     "name": "stdout",
     "output_type": "stream",
     "text": [
      "Validation loss: 2.250976324081421\n",
      "============ Test epoch 9 ============\n",
      "Client  0\n",
      "Number of sessions(hdfs_test_normal): 5813\n",
      "Number of sessions(hdfs_test_abnormal): 1136\n"
     ]
    },
    {
     "name": "stderr",
     "output_type": "stream",
     "text": [
      "100%|██████████| 5813/5813 [02:23<00:00, 40.39it/s]\n",
      "100%|██████████| 1136/1136 [00:14<00:00, 77.54it/s]\n"
     ]
    },
    {
     "name": "stdout",
     "output_type": "stream",
     "text": [
      "false positive (FP): 490, false negative (FN): 24, Precision: 87.216%, Recall: 99.287%, F1-measure: 92.861%\n",
      "actual positive (TP+FN): 3367, actual negative (FP+TN): 110673\n",
      "accuracy: 99.549\n",
      "Finished Predicting\n",
      "elapsed_time: 158.56493258476257\n",
      "Client  1\n",
      "Number of sessions(hdfs_test_normal): 5574\n",
      "Number of sessions(hdfs_test_abnormal): 1139\n"
     ]
    },
    {
     "name": "stderr",
     "output_type": "stream",
     "text": [
      "100%|██████████| 5574/5574 [02:02<00:00, 45.36it/s]\n",
      "100%|██████████| 1139/1139 [00:07<00:00, 146.62it/s]\n"
     ]
    },
    {
     "name": "stdout",
     "output_type": "stream",
     "text": [
      "false positive (FP): 528, false negative (FN): 26, Precision: 86.353%, Recall: 99.228%, F1-measure: 92.344%\n",
      "actual positive (TP+FN): 3367, actual negative (FP+TN): 110673\n",
      "accuracy: 99.514\n",
      "Finished Predicting\n",
      "elapsed_time: 130.65580558776855\n",
      "Client  2\n",
      "Number of sessions(hdfs_test_normal): 5730\n",
      "Number of sessions(hdfs_test_abnormal): 1118\n"
     ]
    },
    {
     "name": "stderr",
     "output_type": "stream",
     "text": [
      "100%|██████████| 5730/5730 [01:47<00:00, 53.37it/s]\n",
      "100%|██████████| 1118/1118 [00:14<00:00, 76.38it/s] \n"
     ]
    },
    {
     "name": "stdout",
     "output_type": "stream",
     "text": [
      "false positive (FP): 468, false negative (FN): 30, Precision: 87.700%, Recall: 99.109%, F1-measure: 93.056%\n",
      "actual positive (TP+FN): 3367, actual negative (FP+TN): 110673\n",
      "accuracy: 99.563\n",
      "Finished Predicting\n",
      "elapsed_time: 122.00153708457947\n",
      "Client  3\n",
      "Number of sessions(hdfs_test_normal): 5747\n",
      "Number of sessions(hdfs_test_abnormal): 1159\n"
     ]
    },
    {
     "name": "stderr",
     "output_type": "stream",
     "text": [
      "100%|██████████| 5747/5747 [02:22<00:00, 40.25it/s]\n",
      "100%|██████████| 1159/1159 [00:15<00:00, 75.03it/s]\n"
     ]
    },
    {
     "name": "stdout",
     "output_type": "stream",
     "text": [
      "false positive (FP): 451, false negative (FN): 28, Precision: 88.100%, Recall: 99.168%, F1-measure: 93.307%\n",
      "actual positive (TP+FN): 3367, actual negative (FP+TN): 110673\n",
      "accuracy: 99.580\n",
      "Finished Predicting\n",
      "elapsed_time: 158.21786308288574\n",
      "Client  4\n",
      "Number of sessions(hdfs_test_normal): 5623\n",
      "Number of sessions(hdfs_test_abnormal): 1121\n"
     ]
    },
    {
     "name": "stderr",
     "output_type": "stream",
     "text": [
      "100%|██████████| 5623/5623 [02:17<00:00, 40.95it/s]\n",
      "100%|██████████| 1121/1121 [00:15<00:00, 74.60it/s]\n"
     ]
    },
    {
     "name": "stdout",
     "output_type": "stream",
     "text": [
      "false positive (FP): 525, false negative (FN): 32, Precision: 86.399%, Recall: 99.050%, F1-measure: 92.293%\n",
      "actual positive (TP+FN): 3367, actual negative (FP+TN): 110673\n",
      "accuracy: 99.512\n",
      "Finished Predicting\n",
      "elapsed_time: 152.3395709991455\n",
      "============ Train epoch 10 ============\n",
      "Client  0\n",
      "File ../data/hdfs/hdfs_train, number of sessions 971\n",
      "File ../data/hdfs/hdfs_train, number of seqs 9420\n",
      "sampling...\n"
     ]
    },
    {
     "name": "stderr",
     "output_type": "stream",
     "text": [
      "100%|██████████| 1058/1058 [00:00<00:00, 3609.63it/s]\n"
     ]
    },
    {
     "name": "stdout",
     "output_type": "stream",
     "text": [
      "File ../data/hdfs/hdfs_test_normal, number of sessions 110673\n",
      "File ../data/hdfs/hdfs_test_normal, number of seqs 1058\n",
      "Find 9420 train logs, 1058 validation logs\n",
      "Train batch size 2048 ,Validation batch size 2048\n",
      "Starting epoch: 0 | phase: train | ⏰: 13:14:08 | Learning rate: 0.000313\n"
     ]
    },
    {
     "name": "stderr",
     "output_type": "stream",
     "text": [
      "Train loss: 2.20927: 100%|██████████| 5/5 [00:00<00:00, 52.40it/s]\n"
     ]
    },
    {
     "name": "stdout",
     "output_type": "stream",
     "text": [
      "Starting epoch: 0 | phase: valid | ⏰: 13:14:08 \n"
     ]
    },
    {
     "name": "stderr",
     "output_type": "stream",
     "text": [
      ": 100%|██████████| 1/1 [00:00<00:00, 96.04it/s]\n"
     ]
    },
    {
     "name": "stdout",
     "output_type": "stream",
     "text": [
      "Validation loss: 2.141523838043213\n",
      "Client  1\n",
      "File ../data/hdfs/hdfs_train, number of sessions 971\n",
      "File ../data/hdfs/hdfs_train, number of seqs 9080\n",
      "sampling...\n"
     ]
    },
    {
     "name": "stderr",
     "output_type": "stream",
     "text": [
      "100%|██████████| 1046/1046 [00:00<00:00, 3606.57it/s]\n"
     ]
    },
    {
     "name": "stdout",
     "output_type": "stream",
     "text": [
      "File ../data/hdfs/hdfs_test_normal, number of sessions 110673\n",
      "File ../data/hdfs/hdfs_test_normal, number of seqs 1046\n",
      "Find 9080 train logs, 1046 validation logs\n",
      "Train batch size 2048 ,Validation batch size 2048\n",
      "Starting epoch: 0 | phase: train | ⏰: 13:14:19 | Learning rate: 0.000313\n"
     ]
    },
    {
     "name": "stderr",
     "output_type": "stream",
     "text": [
      "Train loss: 2.21436: 100%|██████████| 5/5 [00:00<00:00, 56.24it/s]\n"
     ]
    },
    {
     "name": "stdout",
     "output_type": "stream",
     "text": [
      "Starting epoch: 0 | phase: valid | ⏰: 13:14:19 \n"
     ]
    },
    {
     "name": "stderr",
     "output_type": "stream",
     "text": [
      ": 100%|██████████| 1/1 [00:00<00:00, 96.38it/s]\n"
     ]
    },
    {
     "name": "stdout",
     "output_type": "stream",
     "text": [
      "Validation loss: 2.128636598587036\n",
      "Client  2\n",
      "File ../data/hdfs/hdfs_train, number of sessions 971\n",
      "File ../data/hdfs/hdfs_train, number of seqs 9485\n",
      "sampling...\n"
     ]
    },
    {
     "name": "stderr",
     "output_type": "stream",
     "text": [
      "100%|██████████| 1051/1051 [00:00<00:00, 3615.89it/s]\n"
     ]
    },
    {
     "name": "stdout",
     "output_type": "stream",
     "text": [
      "File ../data/hdfs/hdfs_test_normal, number of sessions 110673\n",
      "File ../data/hdfs/hdfs_test_normal, number of seqs 1051\n",
      "Find 9485 train logs, 1051 validation logs\n",
      "Train batch size 2048 ,Validation batch size 2048\n",
      "Starting epoch: 0 | phase: train | ⏰: 13:14:31 | Learning rate: 0.000313\n"
     ]
    },
    {
     "name": "stderr",
     "output_type": "stream",
     "text": [
      "Train loss: 2.22306: 100%|██████████| 5/5 [00:00<00:00, 53.00it/s]\n"
     ]
    },
    {
     "name": "stdout",
     "output_type": "stream",
     "text": [
      "Starting epoch: 0 | phase: valid | ⏰: 13:14:31 \n"
     ]
    },
    {
     "name": "stderr",
     "output_type": "stream",
     "text": [
      ": 100%|██████████| 1/1 [00:00<00:00, 107.86it/s]\n"
     ]
    },
    {
     "name": "stdout",
     "output_type": "stream",
     "text": [
      "Validation loss: 2.132185697555542\n",
      "Client  3\n",
      "File ../data/hdfs/hdfs_train, number of sessions 971\n",
      "File ../data/hdfs/hdfs_train, number of seqs 9267\n",
      "sampling...\n"
     ]
    },
    {
     "name": "stderr",
     "output_type": "stream",
     "text": [
      "100%|██████████| 1057/1057 [00:00<00:00, 3621.31it/s]\n"
     ]
    },
    {
     "name": "stdout",
     "output_type": "stream",
     "text": [
      "File ../data/hdfs/hdfs_test_normal, number of sessions 110673\n",
      "File ../data/hdfs/hdfs_test_normal, number of seqs 1057\n",
      "Find 9267 train logs, 1057 validation logs\n",
      "Train batch size 2048 ,Validation batch size 2048\n",
      "Starting epoch: 0 | phase: train | ⏰: 13:14:43 | Learning rate: 0.000313\n"
     ]
    },
    {
     "name": "stderr",
     "output_type": "stream",
     "text": [
      "Train loss: 2.21020: 100%|██████████| 5/5 [00:00<00:00, 57.38it/s]\n"
     ]
    },
    {
     "name": "stdout",
     "output_type": "stream",
     "text": [
      "Starting epoch: 0 | phase: valid | ⏰: 13:14:43 \n"
     ]
    },
    {
     "name": "stderr",
     "output_type": "stream",
     "text": [
      ": 100%|██████████| 1/1 [00:00<00:00, 109.49it/s]"
     ]
    },
    {
     "name": "stdout",
     "output_type": "stream",
     "text": [
      "Validation loss: 2.1509220600128174\n",
      "Client  4\n"
     ]
    },
    {
     "name": "stderr",
     "output_type": "stream",
     "text": [
      "\n"
     ]
    },
    {
     "name": "stdout",
     "output_type": "stream",
     "text": [
      "File ../data/hdfs/hdfs_train, number of sessions 971\n",
      "File ../data/hdfs/hdfs_train, number of seqs 9323\n",
      "sampling...\n"
     ]
    },
    {
     "name": "stderr",
     "output_type": "stream",
     "text": [
      "100%|██████████| 1044/1044 [00:00<00:00, 3657.40it/s]\n"
     ]
    },
    {
     "name": "stdout",
     "output_type": "stream",
     "text": [
      "File ../data/hdfs/hdfs_test_normal, number of sessions 110673\n",
      "File ../data/hdfs/hdfs_test_normal, number of seqs 1044\n",
      "Find 9323 train logs, 1044 validation logs\n",
      "Train batch size 2048 ,Validation batch size 2048\n",
      "Starting epoch: 0 | phase: train | ⏰: 13:14:54 | Learning rate: 0.000313\n"
     ]
    },
    {
     "name": "stderr",
     "output_type": "stream",
     "text": [
      "Train loss: 2.20463: 100%|██████████| 5/5 [00:00<00:00, 54.63it/s]\n"
     ]
    },
    {
     "name": "stdout",
     "output_type": "stream",
     "text": [
      "Starting epoch: 0 | phase: valid | ⏰: 13:14:54 \n"
     ]
    },
    {
     "name": "stderr",
     "output_type": "stream",
     "text": [
      ": 100%|██████████| 1/1 [00:00<00:00, 105.68it/s]\n"
     ]
    },
    {
     "name": "stdout",
     "output_type": "stream",
     "text": [
      "Validation loss: 2.1367013454437256\n",
      "============ Test epoch 10 ============\n",
      "Client  0\n",
      "Number of sessions(hdfs_test_normal): 5813\n",
      "Number of sessions(hdfs_test_abnormal): 1136\n"
     ]
    },
    {
     "name": "stderr",
     "output_type": "stream",
     "text": [
      "100%|██████████| 5813/5813 [02:23<00:00, 40.61it/s]\n",
      "100%|██████████| 1136/1136 [00:14<00:00, 77.57it/s]\n"
     ]
    },
    {
     "name": "stdout",
     "output_type": "stream",
     "text": [
      "false positive (FP): 490, false negative (FN): 24, Precision: 87.216%, Recall: 99.287%, F1-measure: 92.861%\n",
      "actual positive (TP+FN): 3367, actual negative (FP+TN): 110673\n",
      "accuracy: 99.549\n",
      "Finished Predicting\n",
      "elapsed_time: 157.79539370536804\n",
      "Client  1\n",
      "Number of sessions(hdfs_test_normal): 5574\n",
      "Number of sessions(hdfs_test_abnormal): 1139\n"
     ]
    },
    {
     "name": "stderr",
     "output_type": "stream",
     "text": [
      "100%|██████████| 5574/5574 [02:15<00:00, 41.07it/s]\n",
      "100%|██████████| 1139/1139 [00:15<00:00, 74.14it/s]\n"
     ]
    },
    {
     "name": "stdout",
     "output_type": "stream",
     "text": [
      "false positive (FP): 528, false negative (FN): 26, Precision: 86.353%, Recall: 99.228%, F1-measure: 92.344%\n",
      "actual positive (TP+FN): 3367, actual negative (FP+TN): 110673\n",
      "accuracy: 99.514\n",
      "Finished Predicting\n",
      "elapsed_time: 151.0900948047638\n",
      "Client  2\n",
      "Number of sessions(hdfs_test_normal): 5730\n",
      "Number of sessions(hdfs_test_abnormal): 1118\n"
     ]
    },
    {
     "name": "stderr",
     "output_type": "stream",
     "text": [
      "100%|██████████| 5730/5730 [01:25<00:00, 67.34it/s]\n",
      "100%|██████████| 1118/1118 [00:15<00:00, 73.26it/s]\n"
     ]
    },
    {
     "name": "stdout",
     "output_type": "stream",
     "text": [
      "false positive (FP): 468, false negative (FN): 30, Precision: 87.700%, Recall: 99.109%, F1-measure: 93.056%\n",
      "actual positive (TP+FN): 3367, actual negative (FP+TN): 110673\n",
      "accuracy: 99.563\n",
      "Finished Predicting\n",
      "elapsed_time: 100.35832142829895\n",
      "Client  3\n",
      "Number of sessions(hdfs_test_normal): 5747\n",
      "Number of sessions(hdfs_test_abnormal): 1159\n"
     ]
    },
    {
     "name": "stderr",
     "output_type": "stream",
     "text": [
      "100%|██████████| 5747/5747 [02:21<00:00, 40.49it/s]\n",
      "100%|██████████| 1159/1159 [00:15<00:00, 72.59it/s]\n"
     ]
    },
    {
     "name": "stdout",
     "output_type": "stream",
     "text": [
      "false positive (FP): 451, false negative (FN): 28, Precision: 88.100%, Recall: 99.168%, F1-measure: 93.307%\n",
      "actual positive (TP+FN): 3367, actual negative (FP+TN): 110673\n",
      "accuracy: 99.580\n",
      "Finished Predicting\n",
      "elapsed_time: 157.89452958106995\n",
      "Client  4\n",
      "Number of sessions(hdfs_test_normal): 5623\n",
      "Number of sessions(hdfs_test_abnormal): 1121\n"
     ]
    },
    {
     "name": "stderr",
     "output_type": "stream",
     "text": [
      "100%|██████████| 5623/5623 [02:01<00:00, 46.47it/s]\n",
      "100%|██████████| 1121/1121 [00:07<00:00, 144.56it/s]\n"
     ]
    },
    {
     "name": "stdout",
     "output_type": "stream",
     "text": [
      "false positive (FP): 525, false negative (FN): 32, Precision: 86.399%, Recall: 99.050%, F1-measure: 92.293%\n",
      "actual positive (TP+FN): 3367, actual negative (FP+TN): 110673\n",
      "accuracy: 99.512\n",
      "Finished Predicting\n",
      "elapsed_time: 128.75973653793335\n",
      "============ Train epoch 11 ============\n",
      "Client  0\n",
      "File ../data/hdfs/hdfs_train, number of sessions 971\n",
      "File ../data/hdfs/hdfs_train, number of seqs 9420\n",
      "sampling...\n"
     ]
    },
    {
     "name": "stderr",
     "output_type": "stream",
     "text": [
      "100%|██████████| 1058/1058 [00:00<00:00, 3604.84it/s]\n"
     ]
    },
    {
     "name": "stdout",
     "output_type": "stream",
     "text": [
      "File ../data/hdfs/hdfs_test_normal, number of sessions 110673\n",
      "File ../data/hdfs/hdfs_test_normal, number of seqs 1058\n",
      "Find 9420 train logs, 1058 validation logs\n",
      "Train batch size 2048 ,Validation batch size 2048\n",
      "Starting epoch: 0 | phase: train | ⏰: 13:26:45 | Learning rate: 0.000313\n"
     ]
    },
    {
     "name": "stderr",
     "output_type": "stream",
     "text": [
      "Train loss: 2.10828: 100%|██████████| 5/5 [00:00<00:00, 55.59it/s]\n"
     ]
    },
    {
     "name": "stdout",
     "output_type": "stream",
     "text": [
      "Starting epoch: 0 | phase: valid | ⏰: 13:26:45 \n"
     ]
    },
    {
     "name": "stderr",
     "output_type": "stream",
     "text": [
      ": 100%|██████████| 1/1 [00:00<00:00, 108.55it/s]\n"
     ]
    },
    {
     "name": "stdout",
     "output_type": "stream",
     "text": [
      "Validation loss: 2.0751864910125732\n",
      "Client  1\n",
      "File ../data/hdfs/hdfs_train, number of sessions 971\n",
      "File ../data/hdfs/hdfs_train, number of seqs 9080\n",
      "sampling...\n"
     ]
    },
    {
     "name": "stderr",
     "output_type": "stream",
     "text": [
      "100%|██████████| 1046/1046 [00:00<00:00, 3583.63it/s]\n"
     ]
    },
    {
     "name": "stdout",
     "output_type": "stream",
     "text": [
      "File ../data/hdfs/hdfs_test_normal, number of sessions 110673\n",
      "File ../data/hdfs/hdfs_test_normal, number of seqs 1046\n",
      "Find 9080 train logs, 1046 validation logs\n",
      "Train batch size 2048 ,Validation batch size 2048\n",
      "Starting epoch: 0 | phase: train | ⏰: 13:26:57 | Learning rate: 0.000313\n"
     ]
    },
    {
     "name": "stderr",
     "output_type": "stream",
     "text": [
      "Train loss: 2.11456: 100%|██████████| 5/5 [00:00<00:00, 57.81it/s]\n"
     ]
    },
    {
     "name": "stdout",
     "output_type": "stream",
     "text": [
      "Starting epoch: 0 | phase: valid | ⏰: 13:26:57 \n"
     ]
    },
    {
     "name": "stderr",
     "output_type": "stream",
     "text": [
      ": 100%|██████████| 1/1 [00:00<00:00, 108.10it/s]\n"
     ]
    },
    {
     "name": "stdout",
     "output_type": "stream",
     "text": [
      "Validation loss: 2.0318117141723633\n",
      "Client  2\n",
      "File ../data/hdfs/hdfs_train, number of sessions 971\n",
      "File ../data/hdfs/hdfs_train, number of seqs 9485\n",
      "sampling...\n"
     ]
    },
    {
     "name": "stderr",
     "output_type": "stream",
     "text": [
      "100%|██████████| 1051/1051 [00:00<00:00, 3461.33it/s]\n"
     ]
    },
    {
     "name": "stdout",
     "output_type": "stream",
     "text": [
      "File ../data/hdfs/hdfs_test_normal, number of sessions 110673\n",
      "File ../data/hdfs/hdfs_test_normal, number of seqs 1051\n",
      "Find 9485 train logs, 1051 validation logs\n",
      "Train batch size 2048 ,Validation batch size 2048\n",
      "Starting epoch: 0 | phase: train | ⏰: 13:27:09 | Learning rate: 0.000313\n"
     ]
    },
    {
     "name": "stderr",
     "output_type": "stream",
     "text": [
      "Train loss: 2.12338: 100%|██████████| 5/5 [00:00<00:00, 54.66it/s]\n"
     ]
    },
    {
     "name": "stdout",
     "output_type": "stream",
     "text": [
      "Starting epoch: 0 | phase: valid | ⏰: 13:27:09 \n"
     ]
    },
    {
     "name": "stderr",
     "output_type": "stream",
     "text": [
      ": 100%|██████████| 1/1 [00:00<00:00, 106.37it/s]"
     ]
    },
    {
     "name": "stdout",
     "output_type": "stream",
     "text": [
      "Validation loss: 2.055651903152466\n",
      "Client  3\n"
     ]
    },
    {
     "name": "stderr",
     "output_type": "stream",
     "text": [
      "\n"
     ]
    },
    {
     "name": "stdout",
     "output_type": "stream",
     "text": [
      "File ../data/hdfs/hdfs_train, number of sessions 971\n",
      "File ../data/hdfs/hdfs_train, number of seqs 9267\n",
      "sampling...\n"
     ]
    },
    {
     "name": "stderr",
     "output_type": "stream",
     "text": [
      "100%|██████████| 1057/1057 [00:00<00:00, 3506.53it/s]\n"
     ]
    },
    {
     "name": "stdout",
     "output_type": "stream",
     "text": [
      "File ../data/hdfs/hdfs_test_normal, number of sessions 110673\n",
      "File ../data/hdfs/hdfs_test_normal, number of seqs 1057\n",
      "Find 9267 train logs, 1057 validation logs\n",
      "Train batch size 2048 ,Validation batch size 2048\n",
      "Starting epoch: 0 | phase: train | ⏰: 13:27:21 | Learning rate: 0.000313\n"
     ]
    },
    {
     "name": "stderr",
     "output_type": "stream",
     "text": [
      "Train loss: 2.10662: 100%|██████████| 5/5 [00:00<00:00, 56.74it/s]\n"
     ]
    },
    {
     "name": "stdout",
     "output_type": "stream",
     "text": [
      "Starting epoch: 0 | phase: valid | ⏰: 13:27:21 \n"
     ]
    },
    {
     "name": "stderr",
     "output_type": "stream",
     "text": [
      ": 100%|██████████| 1/1 [00:00<00:00, 103.74it/s]"
     ]
    },
    {
     "name": "stdout",
     "output_type": "stream",
     "text": [
      "Validation loss: 2.0886390209198\n",
      "Client  4\n"
     ]
    },
    {
     "name": "stderr",
     "output_type": "stream",
     "text": [
      "\n"
     ]
    },
    {
     "name": "stdout",
     "output_type": "stream",
     "text": [
      "File ../data/hdfs/hdfs_train, number of sessions 971\n",
      "File ../data/hdfs/hdfs_train, number of seqs 9323\n",
      "sampling...\n"
     ]
    },
    {
     "name": "stderr",
     "output_type": "stream",
     "text": [
      "100%|██████████| 1044/1044 [00:00<00:00, 3532.75it/s]\n"
     ]
    },
    {
     "name": "stdout",
     "output_type": "stream",
     "text": [
      "File ../data/hdfs/hdfs_test_normal, number of sessions 110673\n",
      "File ../data/hdfs/hdfs_test_normal, number of seqs 1044\n",
      "Find 9323 train logs, 1044 validation logs\n",
      "Train batch size 2048 ,Validation batch size 2048\n",
      "Starting epoch: 0 | phase: train | ⏰: 13:27:33 | Learning rate: 0.000313\n"
     ]
    },
    {
     "name": "stderr",
     "output_type": "stream",
     "text": [
      "Train loss: 2.10883: 100%|██████████| 5/5 [00:00<00:00, 55.93it/s]\n"
     ]
    },
    {
     "name": "stdout",
     "output_type": "stream",
     "text": [
      "Starting epoch: 0 | phase: valid | ⏰: 13:27:33 \n"
     ]
    },
    {
     "name": "stderr",
     "output_type": "stream",
     "text": [
      ": 100%|██████████| 1/1 [00:00<00:00, 103.46it/s]\n"
     ]
    },
    {
     "name": "stdout",
     "output_type": "stream",
     "text": [
      "Validation loss: 2.035122871398926\n",
      "============ Test epoch 11 ============\n",
      "Client  0\n",
      "Number of sessions(hdfs_test_normal): 5813\n",
      "Number of sessions(hdfs_test_abnormal): 1136\n"
     ]
    },
    {
     "name": "stderr",
     "output_type": "stream",
     "text": [
      "100%|██████████| 5813/5813 [02:23<00:00, 40.47it/s]\n",
      "100%|██████████| 1136/1136 [00:14<00:00, 77.47it/s]\n"
     ]
    },
    {
     "name": "stdout",
     "output_type": "stream",
     "text": [
      "false positive (FP): 490, false negative (FN): 24, Precision: 87.216%, Recall: 99.287%, F1-measure: 92.861%\n",
      "actual positive (TP+FN): 3367, actual negative (FP+TN): 110673\n",
      "accuracy: 99.549\n",
      "Finished Predicting\n",
      "elapsed_time: 158.30509495735168\n",
      "Client  1\n",
      "Number of sessions(hdfs_test_normal): 5574\n",
      "Number of sessions(hdfs_test_abnormal): 1139\n"
     ]
    },
    {
     "name": "stderr",
     "output_type": "stream",
     "text": [
      "100%|██████████| 5574/5574 [02:15<00:00, 41.11it/s]\n",
      "100%|██████████| 1139/1139 [00:15<00:00, 73.86it/s]\n"
     ]
    },
    {
     "name": "stdout",
     "output_type": "stream",
     "text": [
      "false positive (FP): 528, false negative (FN): 26, Precision: 86.353%, Recall: 99.228%, F1-measure: 92.344%\n",
      "actual positive (TP+FN): 3367, actual negative (FP+TN): 110673\n",
      "accuracy: 99.514\n",
      "Finished Predicting\n",
      "elapsed_time: 151.0007541179657\n",
      "Client  2\n",
      "Number of sessions(hdfs_test_normal): 5730\n",
      "Number of sessions(hdfs_test_abnormal): 1118\n"
     ]
    },
    {
     "name": "stderr",
     "output_type": "stream",
     "text": [
      "100%|██████████| 5730/5730 [02:22<00:00, 40.34it/s]\n",
      "100%|██████████| 1118/1118 [00:15<00:00, 73.49it/s]\n"
     ]
    },
    {
     "name": "stdout",
     "output_type": "stream",
     "text": [
      "false positive (FP): 468, false negative (FN): 30, Precision: 87.700%, Recall: 99.109%, F1-measure: 93.056%\n",
      "actual positive (TP+FN): 3367, actual negative (FP+TN): 110673\n",
      "accuracy: 99.563\n",
      "Finished Predicting\n",
      "elapsed_time: 157.24722862243652\n",
      "Client  3\n",
      "Number of sessions(hdfs_test_normal): 5747\n",
      "Number of sessions(hdfs_test_abnormal): 1159\n"
     ]
    },
    {
     "name": "stderr",
     "output_type": "stream",
     "text": [
      "100%|██████████| 5747/5747 [02:22<00:00, 40.46it/s]\n",
      "100%|██████████| 1159/1159 [00:15<00:00, 72.61it/s]\n"
     ]
    },
    {
     "name": "stdout",
     "output_type": "stream",
     "text": [
      "false positive (FP): 451, false negative (FN): 28, Precision: 88.100%, Recall: 99.168%, F1-measure: 93.307%\n",
      "actual positive (TP+FN): 3367, actual negative (FP+TN): 110673\n",
      "accuracy: 99.580\n",
      "Finished Predicting\n",
      "elapsed_time: 157.99633693695068\n",
      "Client  4\n",
      "Number of sessions(hdfs_test_normal): 5623\n",
      "Number of sessions(hdfs_test_abnormal): 1121\n"
     ]
    },
    {
     "name": "stderr",
     "output_type": "stream",
     "text": [
      "100%|██████████| 5623/5623 [01:56<00:00, 48.14it/s]\n",
      "100%|██████████| 1121/1121 [00:07<00:00, 145.49it/s]\n"
     ]
    },
    {
     "name": "stdout",
     "output_type": "stream",
     "text": [
      "false positive (FP): 525, false negative (FN): 32, Precision: 86.399%, Recall: 99.050%, F1-measure: 92.293%\n",
      "actual positive (TP+FN): 3367, actual negative (FP+TN): 110673\n",
      "accuracy: 99.512\n",
      "Finished Predicting\n",
      "elapsed_time: 124.50682330131531\n",
      "============ Train epoch 12 ============\n",
      "Client  0\n",
      "File ../data/hdfs/hdfs_train, number of sessions 971\n",
      "File ../data/hdfs/hdfs_train, number of seqs 9420\n",
      "sampling...\n"
     ]
    },
    {
     "name": "stderr",
     "output_type": "stream",
     "text": [
      "100%|██████████| 1058/1058 [00:00<00:00, 3473.80it/s]\n"
     ]
    },
    {
     "name": "stdout",
     "output_type": "stream",
     "text": [
      "File ../data/hdfs/hdfs_test_normal, number of sessions 110673\n",
      "File ../data/hdfs/hdfs_test_normal, number of seqs 1058\n",
      "Find 9420 train logs, 1058 validation logs\n",
      "Train batch size 2048 ,Validation batch size 2048\n",
      "Starting epoch: 0 | phase: train | ⏰: 13:40:16 | Learning rate: 0.000313\n"
     ]
    },
    {
     "name": "stderr",
     "output_type": "stream",
     "text": [
      "Train loss: 2.03281: 100%|██████████| 5/5 [00:00<00:00, 56.55it/s]\n"
     ]
    },
    {
     "name": "stdout",
     "output_type": "stream",
     "text": [
      "Starting epoch: 0 | phase: valid | ⏰: 13:40:17 \n"
     ]
    },
    {
     "name": "stderr",
     "output_type": "stream",
     "text": [
      ": 100%|██████████| 1/1 [00:00<00:00, 108.59it/s]\n"
     ]
    },
    {
     "name": "stdout",
     "output_type": "stream",
     "text": [
      "Validation loss: 2.0303196907043457\n",
      "Client  1\n",
      "File ../data/hdfs/hdfs_train, number of sessions 971\n",
      "File ../data/hdfs/hdfs_train, number of seqs 9080\n",
      "sampling...\n"
     ]
    },
    {
     "name": "stderr",
     "output_type": "stream",
     "text": [
      "100%|██████████| 1046/1046 [00:00<00:00, 3624.71it/s]\n"
     ]
    },
    {
     "name": "stdout",
     "output_type": "stream",
     "text": [
      "File ../data/hdfs/hdfs_test_normal, number of sessions 110673\n",
      "File ../data/hdfs/hdfs_test_normal, number of seqs 1046\n",
      "Find 9080 train logs, 1046 validation logs\n",
      "Train batch size 2048 ,Validation batch size 2048\n",
      "Starting epoch: 0 | phase: train | ⏰: 13:40:28 | Learning rate: 0.000313\n"
     ]
    },
    {
     "name": "stderr",
     "output_type": "stream",
     "text": [
      "Train loss: 2.04096: 100%|██████████| 5/5 [00:00<00:00, 58.67it/s]\n"
     ]
    },
    {
     "name": "stdout",
     "output_type": "stream",
     "text": [
      "Starting epoch: 0 | phase: valid | ⏰: 13:40:28 \n"
     ]
    },
    {
     "name": "stderr",
     "output_type": "stream",
     "text": [
      ": 100%|██████████| 1/1 [00:00<00:00, 105.41it/s]\n"
     ]
    },
    {
     "name": "stdout",
     "output_type": "stream",
     "text": [
      "Validation loss: 1.9347827434539795\n",
      "Client  2\n",
      "File ../data/hdfs/hdfs_train, number of sessions 971\n",
      "File ../data/hdfs/hdfs_train, number of seqs 9485\n",
      "sampling...\n"
     ]
    },
    {
     "name": "stderr",
     "output_type": "stream",
     "text": [
      "100%|██████████| 1051/1051 [00:00<00:00, 3575.58it/s]\n"
     ]
    },
    {
     "name": "stdout",
     "output_type": "stream",
     "text": [
      "File ../data/hdfs/hdfs_test_normal, number of sessions 110673\n",
      "File ../data/hdfs/hdfs_test_normal, number of seqs 1051\n",
      "Find 9485 train logs, 1051 validation logs\n",
      "Train batch size 2048 ,Validation batch size 2048\n",
      "Starting epoch: 0 | phase: train | ⏰: 13:40:40 | Learning rate: 0.000313\n"
     ]
    },
    {
     "name": "stderr",
     "output_type": "stream",
     "text": [
      "Train loss: 2.04841: 100%|██████████| 5/5 [00:00<00:00, 53.92it/s]\n"
     ]
    },
    {
     "name": "stdout",
     "output_type": "stream",
     "text": [
      "Starting epoch: 0 | phase: valid | ⏰: 13:40:40 \n"
     ]
    },
    {
     "name": "stderr",
     "output_type": "stream",
     "text": [
      ": 100%|██████████| 1/1 [00:00<00:00, 101.70it/s]\n"
     ]
    },
    {
     "name": "stdout",
     "output_type": "stream",
     "text": [
      "Validation loss: 1.9352047443389893\n",
      "Client  3\n",
      "File ../data/hdfs/hdfs_train, number of sessions 971\n",
      "File ../data/hdfs/hdfs_train, number of seqs 9267\n",
      "sampling...\n"
     ]
    },
    {
     "name": "stderr",
     "output_type": "stream",
     "text": [
      "100%|██████████| 1057/1057 [00:00<00:00, 3578.42it/s]\n"
     ]
    },
    {
     "name": "stdout",
     "output_type": "stream",
     "text": [
      "File ../data/hdfs/hdfs_test_normal, number of sessions 110673\n",
      "File ../data/hdfs/hdfs_test_normal, number of seqs 1057\n",
      "Find 9267 train logs, 1057 validation logs\n",
      "Train batch size 2048 ,Validation batch size 2048\n",
      "Starting epoch: 0 | phase: train | ⏰: 13:40:52 | Learning rate: 0.000313\n"
     ]
    },
    {
     "name": "stderr",
     "output_type": "stream",
     "text": [
      "Train loss: 2.02984: 100%|██████████| 5/5 [00:00<00:00, 56.36it/s]\n"
     ]
    },
    {
     "name": "stdout",
     "output_type": "stream",
     "text": [
      "Starting epoch: 0 | phase: valid | ⏰: 13:40:52 \n"
     ]
    },
    {
     "name": "stderr",
     "output_type": "stream",
     "text": [
      ": 100%|██████████| 1/1 [00:00<00:00, 99.88it/s]"
     ]
    },
    {
     "name": "stdout",
     "output_type": "stream",
     "text": [
      "Validation loss: 1.9975930452346802\n",
      "Client  4\n"
     ]
    },
    {
     "name": "stderr",
     "output_type": "stream",
     "text": [
      "\n"
     ]
    },
    {
     "name": "stdout",
     "output_type": "stream",
     "text": [
      "File ../data/hdfs/hdfs_train, number of sessions 971\n",
      "File ../data/hdfs/hdfs_train, number of seqs 9323\n",
      "sampling...\n"
     ]
    },
    {
     "name": "stderr",
     "output_type": "stream",
     "text": [
      "100%|██████████| 1044/1044 [00:00<00:00, 3559.62it/s]\n"
     ]
    },
    {
     "name": "stdout",
     "output_type": "stream",
     "text": [
      "File ../data/hdfs/hdfs_test_normal, number of sessions 110673\n",
      "File ../data/hdfs/hdfs_test_normal, number of seqs 1044\n",
      "Find 9323 train logs, 1044 validation logs\n",
      "Train batch size 2048 ,Validation batch size 2048\n",
      "Starting epoch: 0 | phase: train | ⏰: 13:41:04 | Learning rate: 0.000313\n"
     ]
    },
    {
     "name": "stderr",
     "output_type": "stream",
     "text": [
      "Train loss: 2.02991: 100%|██████████| 5/5 [00:00<00:00, 53.63it/s]\n"
     ]
    },
    {
     "name": "stdout",
     "output_type": "stream",
     "text": [
      "Starting epoch: 0 | phase: valid | ⏰: 13:41:04 \n"
     ]
    },
    {
     "name": "stderr",
     "output_type": "stream",
     "text": [
      ": 100%|██████████| 1/1 [00:00<00:00, 91.96it/s]"
     ]
    },
    {
     "name": "stdout",
     "output_type": "stream",
     "text": [
      "Validation loss: 1.9991474151611328\n",
      "============ Test epoch 12 ============\n",
      "Client  0\n"
     ]
    },
    {
     "name": "stderr",
     "output_type": "stream",
     "text": [
      "\n"
     ]
    },
    {
     "name": "stdout",
     "output_type": "stream",
     "text": [
      "Number of sessions(hdfs_test_normal): 5813\n",
      "Number of sessions(hdfs_test_abnormal): 1136\n"
     ]
    },
    {
     "name": "stderr",
     "output_type": "stream",
     "text": [
      "100%|██████████| 5813/5813 [02:23<00:00, 40.46it/s]\n",
      "100%|██████████| 1136/1136 [00:14<00:00, 77.52it/s]\n"
     ]
    },
    {
     "name": "stdout",
     "output_type": "stream",
     "text": [
      "false positive (FP): 490, false negative (FN): 24, Precision: 87.216%, Recall: 99.287%, F1-measure: 92.861%\n",
      "actual positive (TP+FN): 3367, actual negative (FP+TN): 110673\n",
      "accuracy: 99.549\n",
      "Finished Predicting\n",
      "elapsed_time: 158.3180160522461\n",
      "Client  1\n",
      "Number of sessions(hdfs_test_normal): 5574\n",
      "Number of sessions(hdfs_test_abnormal): 1139\n"
     ]
    },
    {
     "name": "stderr",
     "output_type": "stream",
     "text": [
      "100%|██████████| 5574/5574 [02:00<00:00, 46.13it/s]\n",
      "100%|██████████| 1139/1139 [00:07<00:00, 144.09it/s]\n"
     ]
    },
    {
     "name": "stdout",
     "output_type": "stream",
     "text": [
      "false positive (FP): 528, false negative (FN): 26, Precision: 86.353%, Recall: 99.228%, F1-measure: 92.344%\n",
      "actual positive (TP+FN): 3367, actual negative (FP+TN): 110673\n",
      "accuracy: 99.514\n",
      "Finished Predicting\n",
      "elapsed_time: 128.74467396736145\n",
      "Client  2\n",
      "Number of sessions(hdfs_test_normal): 5730\n",
      "Number of sessions(hdfs_test_abnormal): 1118\n"
     ]
    },
    {
     "name": "stderr",
     "output_type": "stream",
     "text": [
      "100%|██████████| 5730/5730 [01:49<00:00, 52.42it/s]\n",
      "100%|██████████| 1118/1118 [00:14<00:00, 76.50it/s]\n"
     ]
    },
    {
     "name": "stdout",
     "output_type": "stream",
     "text": [
      "false positive (FP): 468, false negative (FN): 30, Precision: 87.700%, Recall: 99.109%, F1-measure: 93.056%\n",
      "actual positive (TP+FN): 3367, actual negative (FP+TN): 110673\n",
      "accuracy: 99.563\n",
      "Finished Predicting\n",
      "elapsed_time: 123.93239879608154\n",
      "Client  3\n",
      "Number of sessions(hdfs_test_normal): 5747\n",
      "Number of sessions(hdfs_test_abnormal): 1159\n"
     ]
    },
    {
     "name": "stderr",
     "output_type": "stream",
     "text": [
      "100%|██████████| 5747/5747 [02:22<00:00, 40.30it/s]\n",
      "100%|██████████| 1159/1159 [00:15<00:00, 75.00it/s]\n"
     ]
    },
    {
     "name": "stdout",
     "output_type": "stream",
     "text": [
      "false positive (FP): 451, false negative (FN): 28, Precision: 88.100%, Recall: 99.168%, F1-measure: 93.307%\n",
      "actual positive (TP+FN): 3367, actual negative (FP+TN): 110673\n",
      "accuracy: 99.580\n",
      "Finished Predicting\n",
      "elapsed_time: 158.07416415214539\n",
      "Client  4\n",
      "Number of sessions(hdfs_test_normal): 5623\n",
      "Number of sessions(hdfs_test_abnormal): 1121\n"
     ]
    },
    {
     "name": "stderr",
     "output_type": "stream",
     "text": [
      "100%|██████████| 5623/5623 [02:17<00:00, 40.98it/s]\n",
      "100%|██████████| 1121/1121 [00:15<00:00, 74.45it/s]\n"
     ]
    },
    {
     "name": "stdout",
     "output_type": "stream",
     "text": [
      "false positive (FP): 525, false negative (FN): 32, Precision: 86.399%, Recall: 99.050%, F1-measure: 92.293%\n",
      "actual positive (TP+FN): 3367, actual negative (FP+TN): 110673\n",
      "accuracy: 99.512\n",
      "Finished Predicting\n",
      "elapsed_time: 152.26611423492432\n",
      "============ Train epoch 13 ============\n",
      "Client  0\n",
      "File ../data/hdfs/hdfs_train, number of sessions 971\n",
      "File ../data/hdfs/hdfs_train, number of seqs 9420\n",
      "sampling...\n"
     ]
    },
    {
     "name": "stderr",
     "output_type": "stream",
     "text": [
      "100%|██████████| 1058/1058 [00:00<00:00, 3429.76it/s]\n"
     ]
    },
    {
     "name": "stdout",
     "output_type": "stream",
     "text": [
      "File ../data/hdfs/hdfs_test_normal, number of sessions 110673\n",
      "File ../data/hdfs/hdfs_test_normal, number of seqs 1058\n",
      "Find 9420 train logs, 1058 validation logs\n",
      "Train batch size 2048 ,Validation batch size 2048\n",
      "Starting epoch: 0 | phase: train | ⏰: 13:53:20 | Learning rate: 0.000313\n"
     ]
    },
    {
     "name": "stderr",
     "output_type": "stream",
     "text": [
      "Train loss: 1.97442: 100%|██████████| 5/5 [00:00<00:00, 56.54it/s]\n"
     ]
    },
    {
     "name": "stdout",
     "output_type": "stream",
     "text": [
      "Starting epoch: 0 | phase: valid | ⏰: 13:53:20 \n"
     ]
    },
    {
     "name": "stderr",
     "output_type": "stream",
     "text": [
      ": 100%|██████████| 1/1 [00:00<00:00, 104.11it/s]\n"
     ]
    },
    {
     "name": "stdout",
     "output_type": "stream",
     "text": [
      "Validation loss: 1.9321132898330688\n",
      "Client  1\n",
      "File ../data/hdfs/hdfs_train, number of sessions 971\n",
      "File ../data/hdfs/hdfs_train, number of seqs 9080\n",
      "sampling...\n"
     ]
    },
    {
     "name": "stderr",
     "output_type": "stream",
     "text": [
      "100%|██████████| 1046/1046 [00:00<00:00, 3484.71it/s]\n"
     ]
    },
    {
     "name": "stdout",
     "output_type": "stream",
     "text": [
      "File ../data/hdfs/hdfs_test_normal, number of sessions 110673\n",
      "File ../data/hdfs/hdfs_test_normal, number of seqs 1046\n",
      "Find 9080 train logs, 1046 validation logs\n",
      "Train batch size 2048 ,Validation batch size 2048\n",
      "Starting epoch: 0 | phase: train | ⏰: 13:53:32 | Learning rate: 0.000313\n"
     ]
    },
    {
     "name": "stderr",
     "output_type": "stream",
     "text": [
      "Train loss: 1.98448: 100%|██████████| 5/5 [00:00<00:00, 58.37it/s]\n"
     ]
    },
    {
     "name": "stdout",
     "output_type": "stream",
     "text": [
      "Starting epoch: 0 | phase: valid | ⏰: 13:53:32 \n"
     ]
    },
    {
     "name": "stderr",
     "output_type": "stream",
     "text": [
      ": 100%|██████████| 1/1 [00:00<00:00, 104.65it/s]\n"
     ]
    },
    {
     "name": "stdout",
     "output_type": "stream",
     "text": [
      "Validation loss: 1.9191231727600098\n",
      "Client  2\n",
      "File ../data/hdfs/hdfs_train, number of sessions 971\n",
      "File ../data/hdfs/hdfs_train, number of seqs 9485\n",
      "sampling...\n"
     ]
    },
    {
     "name": "stderr",
     "output_type": "stream",
     "text": [
      "100%|██████████| 1051/1051 [00:00<00:00, 3408.81it/s]\n"
     ]
    },
    {
     "name": "stdout",
     "output_type": "stream",
     "text": [
      "File ../data/hdfs/hdfs_test_normal, number of sessions 110673\n",
      "File ../data/hdfs/hdfs_test_normal, number of seqs 1051\n",
      "Find 9485 train logs, 1051 validation logs\n",
      "Train batch size 2048 ,Validation batch size 2048\n",
      "Starting epoch: 0 | phase: train | ⏰: 13:53:43 | Learning rate: 0.000313\n"
     ]
    },
    {
     "name": "stderr",
     "output_type": "stream",
     "text": [
      "Train loss: 1.98771: 100%|██████████| 5/5 [00:00<00:00, 54.94it/s]\n"
     ]
    },
    {
     "name": "stdout",
     "output_type": "stream",
     "text": [
      "Starting epoch: 0 | phase: valid | ⏰: 13:53:43 \n"
     ]
    },
    {
     "name": "stderr",
     "output_type": "stream",
     "text": [
      ": 100%|██████████| 1/1 [00:00<00:00, 101.30it/s]\n"
     ]
    },
    {
     "name": "stdout",
     "output_type": "stream",
     "text": [
      "Validation loss: 1.9145779609680176\n",
      "Client  3\n",
      "File ../data/hdfs/hdfs_train, number of sessions 971\n",
      "File ../data/hdfs/hdfs_train, number of seqs 9267\n",
      "sampling...\n"
     ]
    },
    {
     "name": "stderr",
     "output_type": "stream",
     "text": [
      "100%|██████████| 1057/1057 [00:00<00:00, 3542.52it/s]\n"
     ]
    },
    {
     "name": "stdout",
     "output_type": "stream",
     "text": [
      "File ../data/hdfs/hdfs_test_normal, number of sessions 110673\n",
      "File ../data/hdfs/hdfs_test_normal, number of seqs 1057\n",
      "Find 9267 train logs, 1057 validation logs\n",
      "Train batch size 2048 ,Validation batch size 2048\n",
      "Starting epoch: 0 | phase: train | ⏰: 13:53:55 | Learning rate: 0.000313\n"
     ]
    },
    {
     "name": "stderr",
     "output_type": "stream",
     "text": [
      "Train loss: 1.97225: 100%|██████████| 5/5 [00:00<00:00, 56.68it/s]\n"
     ]
    },
    {
     "name": "stdout",
     "output_type": "stream",
     "text": [
      "Starting epoch: 0 | phase: valid | ⏰: 13:53:55 \n"
     ]
    },
    {
     "name": "stderr",
     "output_type": "stream",
     "text": [
      ": 100%|██████████| 1/1 [00:00<00:00, 102.99it/s]\n"
     ]
    },
    {
     "name": "stdout",
     "output_type": "stream",
     "text": [
      "Validation loss: 1.9380592107772827\n",
      "Client  4\n",
      "File ../data/hdfs/hdfs_train, number of sessions 971\n",
      "File ../data/hdfs/hdfs_train, number of seqs 9323\n",
      "sampling...\n"
     ]
    },
    {
     "name": "stderr",
     "output_type": "stream",
     "text": [
      "100%|██████████| 1044/1044 [00:00<00:00, 3580.89it/s]\n"
     ]
    },
    {
     "name": "stdout",
     "output_type": "stream",
     "text": [
      "File ../data/hdfs/hdfs_test_normal, number of sessions 110673\n",
      "File ../data/hdfs/hdfs_test_normal, number of seqs 1044\n",
      "Find 9323 train logs, 1044 validation logs\n",
      "Train batch size 2048 ,Validation batch size 2048\n",
      "Starting epoch: 0 | phase: train | ⏰: 13:54:07 | Learning rate: 0.000313\n"
     ]
    },
    {
     "name": "stderr",
     "output_type": "stream",
     "text": [
      "Train loss: 1.96821: 100%|██████████| 5/5 [00:00<00:00, 57.36it/s]\n"
     ]
    },
    {
     "name": "stdout",
     "output_type": "stream",
     "text": [
      "Starting epoch: 0 | phase: valid | ⏰: 13:54:07 \n"
     ]
    },
    {
     "name": "stderr",
     "output_type": "stream",
     "text": [
      ": 100%|██████████| 1/1 [00:00<00:00, 95.15it/s]\n"
     ]
    },
    {
     "name": "stdout",
     "output_type": "stream",
     "text": [
      "Validation loss: 1.9404232501983643\n",
      "============ Test epoch 13 ============\n",
      "Client  0\n",
      "Number of sessions(hdfs_test_normal): 5813\n",
      "Number of sessions(hdfs_test_abnormal): 1136\n"
     ]
    },
    {
     "name": "stderr",
     "output_type": "stream",
     "text": [
      "100%|██████████| 5813/5813 [02:23<00:00, 40.40it/s]\n",
      "100%|██████████| 1136/1136 [00:14<00:00, 77.61it/s]\n"
     ]
    },
    {
     "name": "stdout",
     "output_type": "stream",
     "text": [
      "false positive (FP): 490, false negative (FN): 24, Precision: 87.216%, Recall: 99.287%, F1-measure: 92.861%\n",
      "actual positive (TP+FN): 3367, actual negative (FP+TN): 110673\n",
      "accuracy: 99.549\n",
      "Finished Predicting\n",
      "elapsed_time: 158.5260066986084\n",
      "Client  1\n",
      "Number of sessions(hdfs_test_normal): 5574\n",
      "Number of sessions(hdfs_test_abnormal): 1139\n"
     ]
    },
    {
     "name": "stderr",
     "output_type": "stream",
     "text": [
      "100%|██████████| 5574/5574 [02:16<00:00, 40.88it/s]\n",
      "100%|██████████| 1139/1139 [00:15<00:00, 75.61it/s] \n"
     ]
    },
    {
     "name": "stdout",
     "output_type": "stream",
     "text": [
      "false positive (FP): 528, false negative (FN): 26, Precision: 86.353%, Recall: 99.228%, F1-measure: 92.344%\n",
      "actual positive (TP+FN): 3367, actual negative (FP+TN): 110673\n",
      "accuracy: 99.514\n",
      "Finished Predicting\n",
      "elapsed_time: 151.4144411087036\n",
      "Client  2\n",
      "Number of sessions(hdfs_test_normal): 5730\n",
      "Number of sessions(hdfs_test_abnormal): 1118\n"
     ]
    },
    {
     "name": "stderr",
     "output_type": "stream",
     "text": [
      "100%|██████████| 5730/5730 [01:27<00:00, 65.64it/s]\n",
      "100%|██████████| 1118/1118 [00:15<00:00, 73.52it/s]\n"
     ]
    },
    {
     "name": "stdout",
     "output_type": "stream",
     "text": [
      "false positive (FP): 468, false negative (FN): 30, Precision: 87.700%, Recall: 99.109%, F1-measure: 93.056%\n",
      "actual positive (TP+FN): 3367, actual negative (FP+TN): 110673\n",
      "accuracy: 99.563\n",
      "Finished Predicting\n",
      "elapsed_time: 102.49821662902832\n",
      "Client  3\n",
      "Number of sessions(hdfs_test_normal): 5747\n",
      "Number of sessions(hdfs_test_abnormal): 1159\n"
     ]
    },
    {
     "name": "stderr",
     "output_type": "stream",
     "text": [
      "100%|██████████| 5747/5747 [02:21<00:00, 40.49it/s]\n",
      "100%|██████████| 1159/1159 [00:16<00:00, 72.35it/s]\n"
     ]
    },
    {
     "name": "stdout",
     "output_type": "stream",
     "text": [
      "false positive (FP): 451, false negative (FN): 28, Precision: 88.100%, Recall: 99.168%, F1-measure: 93.307%\n",
      "actual positive (TP+FN): 3367, actual negative (FP+TN): 110673\n",
      "accuracy: 99.580\n",
      "Finished Predicting\n",
      "elapsed_time: 157.97367429733276\n",
      "Client  4\n",
      "Number of sessions(hdfs_test_normal): 5623\n",
      "Number of sessions(hdfs_test_abnormal): 1121\n"
     ]
    },
    {
     "name": "stderr",
     "output_type": "stream",
     "text": [
      "100%|██████████| 5623/5623 [01:58<00:00, 47.30it/s]\n",
      "100%|██████████| 1121/1121 [00:07<00:00, 145.32it/s]\n"
     ]
    },
    {
     "name": "stdout",
     "output_type": "stream",
     "text": [
      "false positive (FP): 525, false negative (FN): 32, Precision: 86.399%, Recall: 99.050%, F1-measure: 92.293%\n",
      "actual positive (TP+FN): 3367, actual negative (FP+TN): 110673\n",
      "accuracy: 99.512\n",
      "Finished Predicting\n",
      "elapsed_time: 126.60077118873596\n",
      "============ Train epoch 14 ============\n",
      "Client  0\n",
      "File ../data/hdfs/hdfs_train, number of sessions 971\n",
      "File ../data/hdfs/hdfs_train, number of seqs 9420\n",
      "sampling...\n"
     ]
    },
    {
     "name": "stderr",
     "output_type": "stream",
     "text": [
      "100%|██████████| 1058/1058 [00:00<00:00, 3480.77it/s]\n"
     ]
    },
    {
     "name": "stdout",
     "output_type": "stream",
     "text": [
      "File ../data/hdfs/hdfs_test_normal, number of sessions 110673\n",
      "File ../data/hdfs/hdfs_test_normal, number of seqs 1058\n",
      "Find 9420 train logs, 1058 validation logs\n",
      "Train batch size 2048 ,Validation batch size 2048\n",
      "Starting epoch: 0 | phase: train | ⏰: 14:05:58 | Learning rate: 0.000313\n"
     ]
    },
    {
     "name": "stderr",
     "output_type": "stream",
     "text": [
      "Train loss: 1.92351: 100%|██████████| 5/5 [00:00<00:00, 46.35it/s]\n"
     ]
    },
    {
     "name": "stdout",
     "output_type": "stream",
     "text": [
      "Starting epoch: 0 | phase: valid | ⏰: 14:05:59 \n"
     ]
    },
    {
     "name": "stderr",
     "output_type": "stream",
     "text": [
      ": 100%|██████████| 1/1 [00:00<00:00, 69.66it/s]\n"
     ]
    },
    {
     "name": "stdout",
     "output_type": "stream",
     "text": [
      "Validation loss: 1.888331651687622\n",
      "Client  1\n",
      "File ../data/hdfs/hdfs_train, number of sessions 971\n",
      "File ../data/hdfs/hdfs_train, number of seqs 9080\n",
      "sampling...\n"
     ]
    },
    {
     "name": "stderr",
     "output_type": "stream",
     "text": [
      "100%|██████████| 1046/1046 [00:00<00:00, 3603.71it/s]\n"
     ]
    },
    {
     "name": "stdout",
     "output_type": "stream",
     "text": [
      "File ../data/hdfs/hdfs_test_normal, number of sessions 110673\n",
      "File ../data/hdfs/hdfs_test_normal, number of seqs 1046\n",
      "Find 9080 train logs, 1046 validation logs\n",
      "Train batch size 2048 ,Validation batch size 2048\n",
      "Starting epoch: 0 | phase: train | ⏰: 14:06:10 | Learning rate: 0.000313\n"
     ]
    },
    {
     "name": "stderr",
     "output_type": "stream",
     "text": [
      "Train loss: 1.93529: 100%|██████████| 5/5 [00:00<00:00, 58.21it/s]\n"
     ]
    },
    {
     "name": "stdout",
     "output_type": "stream",
     "text": [
      "Starting epoch: 0 | phase: valid | ⏰: 14:06:10 \n"
     ]
    },
    {
     "name": "stderr",
     "output_type": "stream",
     "text": [
      ": 100%|██████████| 1/1 [00:00<00:00, 107.25it/s]\n"
     ]
    },
    {
     "name": "stdout",
     "output_type": "stream",
     "text": [
      "Validation loss: 1.8751935958862305\n",
      "Client  2\n",
      "File ../data/hdfs/hdfs_train, number of sessions 971\n",
      "File ../data/hdfs/hdfs_train, number of seqs 9485\n",
      "sampling...\n"
     ]
    },
    {
     "name": "stderr",
     "output_type": "stream",
     "text": [
      "100%|██████████| 1051/1051 [00:00<00:00, 3483.59it/s]\n"
     ]
    },
    {
     "name": "stdout",
     "output_type": "stream",
     "text": [
      "File ../data/hdfs/hdfs_test_normal, number of sessions 110673\n",
      "File ../data/hdfs/hdfs_test_normal, number of seqs 1051\n",
      "Find 9485 train logs, 1051 validation logs\n",
      "Train batch size 2048 ,Validation batch size 2048\n",
      "Starting epoch: 0 | phase: train | ⏰: 14:06:22 | Learning rate: 0.000313\n"
     ]
    },
    {
     "name": "stderr",
     "output_type": "stream",
     "text": [
      "Train loss: 1.93659: 100%|██████████| 5/5 [00:00<00:00, 55.74it/s]\n"
     ]
    },
    {
     "name": "stdout",
     "output_type": "stream",
     "text": [
      "Starting epoch: 0 | phase: valid | ⏰: 14:06:22 \n"
     ]
    },
    {
     "name": "stderr",
     "output_type": "stream",
     "text": [
      ": 100%|██████████| 1/1 [00:00<00:00, 101.01it/s]\n"
     ]
    },
    {
     "name": "stdout",
     "output_type": "stream",
     "text": [
      "Validation loss: 1.8997255563735962\n",
      "Client  3\n",
      "File ../data/hdfs/hdfs_train, number of sessions 971\n",
      "File ../data/hdfs/hdfs_train, number of seqs 9267\n",
      "sampling...\n"
     ]
    },
    {
     "name": "stderr",
     "output_type": "stream",
     "text": [
      "100%|██████████| 1057/1057 [00:00<00:00, 3620.80it/s]\n"
     ]
    },
    {
     "name": "stdout",
     "output_type": "stream",
     "text": [
      "File ../data/hdfs/hdfs_test_normal, number of sessions 110673\n",
      "File ../data/hdfs/hdfs_test_normal, number of seqs 1057\n",
      "Find 9267 train logs, 1057 validation logs\n",
      "Train batch size 2048 ,Validation batch size 2048\n",
      "Starting epoch: 0 | phase: train | ⏰: 14:06:33 | Learning rate: 0.000313\n"
     ]
    },
    {
     "name": "stderr",
     "output_type": "stream",
     "text": [
      "Train loss: 1.92430: 100%|██████████| 5/5 [00:00<00:00, 54.38it/s]\n"
     ]
    },
    {
     "name": "stdout",
     "output_type": "stream",
     "text": [
      "Starting epoch: 0 | phase: valid | ⏰: 14:06:34 \n"
     ]
    },
    {
     "name": "stderr",
     "output_type": "stream",
     "text": [
      ": 100%|██████████| 1/1 [00:00<00:00, 103.39it/s]\n"
     ]
    },
    {
     "name": "stdout",
     "output_type": "stream",
     "text": [
      "Validation loss: 1.9001766443252563\n",
      "Client  4\n",
      "File ../data/hdfs/hdfs_train, number of sessions 971\n",
      "File ../data/hdfs/hdfs_train, number of seqs 9323\n",
      "sampling...\n"
     ]
    },
    {
     "name": "stderr",
     "output_type": "stream",
     "text": [
      "100%|██████████| 1044/1044 [00:00<00:00, 3468.62it/s]\n"
     ]
    },
    {
     "name": "stdout",
     "output_type": "stream",
     "text": [
      "File ../data/hdfs/hdfs_test_normal, number of sessions 110673\n",
      "File ../data/hdfs/hdfs_test_normal, number of seqs 1044\n",
      "Find 9323 train logs, 1044 validation logs\n",
      "Train batch size 2048 ,Validation batch size 2048\n",
      "Starting epoch: 0 | phase: train | ⏰: 14:06:45 | Learning rate: 0.000313\n"
     ]
    },
    {
     "name": "stderr",
     "output_type": "stream",
     "text": [
      "Train loss: 1.92251: 100%|██████████| 5/5 [00:00<00:00, 55.45it/s]\n"
     ]
    },
    {
     "name": "stdout",
     "output_type": "stream",
     "text": [
      "Starting epoch: 0 | phase: valid | ⏰: 14:06:45 \n"
     ]
    },
    {
     "name": "stderr",
     "output_type": "stream",
     "text": [
      ": 100%|██████████| 1/1 [00:00<00:00, 91.00it/s]\n"
     ]
    },
    {
     "name": "stdout",
     "output_type": "stream",
     "text": [
      "Validation loss: 1.8339216709136963\n",
      "============ Test epoch 14 ============\n",
      "Client  0\n",
      "Number of sessions(hdfs_test_normal): 5813\n",
      "Number of sessions(hdfs_test_abnormal): 1136\n"
     ]
    },
    {
     "name": "stderr",
     "output_type": "stream",
     "text": [
      "100%|██████████| 5813/5813 [02:23<00:00, 40.43it/s]\n",
      "100%|██████████| 1136/1136 [00:14<00:00, 77.67it/s]\n"
     ]
    },
    {
     "name": "stdout",
     "output_type": "stream",
     "text": [
      "false positive (FP): 490, false negative (FN): 24, Precision: 87.216%, Recall: 99.287%, F1-measure: 92.861%\n",
      "actual positive (TP+FN): 3367, actual negative (FP+TN): 110673\n",
      "accuracy: 99.549\n",
      "Finished Predicting\n",
      "elapsed_time: 158.41758561134338\n",
      "Client  1\n",
      "Number of sessions(hdfs_test_normal): 5574\n",
      "Number of sessions(hdfs_test_abnormal): 1139\n"
     ]
    },
    {
     "name": "stderr",
     "output_type": "stream",
     "text": [
      "100%|██████████| 5574/5574 [02:15<00:00, 41.11it/s]\n",
      "100%|██████████| 1139/1139 [00:15<00:00, 74.02it/s]\n"
     ]
    },
    {
     "name": "stdout",
     "output_type": "stream",
     "text": [
      "false positive (FP): 528, false negative (FN): 26, Precision: 86.353%, Recall: 99.228%, F1-measure: 92.344%\n",
      "actual positive (TP+FN): 3367, actual negative (FP+TN): 110673\n",
      "accuracy: 99.514\n",
      "Finished Predicting\n",
      "elapsed_time: 150.97169303894043\n",
      "Client  2\n",
      "Number of sessions(hdfs_test_normal): 5730\n",
      "Number of sessions(hdfs_test_abnormal): 1118\n"
     ]
    },
    {
     "name": "stderr",
     "output_type": "stream",
     "text": [
      "100%|██████████| 5730/5730 [02:21<00:00, 40.39it/s]\n",
      "100%|██████████| 1118/1118 [00:15<00:00, 73.83it/s]\n"
     ]
    },
    {
     "name": "stdout",
     "output_type": "stream",
     "text": [
      "false positive (FP): 468, false negative (FN): 30, Precision: 87.700%, Recall: 99.109%, F1-measure: 93.056%\n",
      "actual positive (TP+FN): 3367, actual negative (FP+TN): 110673\n",
      "accuracy: 99.563\n",
      "Finished Predicting\n",
      "elapsed_time: 157.0175199508667\n",
      "Client  3\n",
      "Number of sessions(hdfs_test_normal): 5747\n",
      "Number of sessions(hdfs_test_abnormal): 1159\n"
     ]
    },
    {
     "name": "stderr",
     "output_type": "stream",
     "text": [
      "100%|██████████| 5747/5747 [02:22<00:00, 40.47it/s]\n",
      "100%|██████████| 1159/1159 [00:15<00:00, 72.47it/s]\n"
     ]
    },
    {
     "name": "stdout",
     "output_type": "stream",
     "text": [
      "false positive (FP): 451, false negative (FN): 28, Precision: 88.100%, Recall: 99.168%, F1-measure: 93.307%\n",
      "actual positive (TP+FN): 3367, actual negative (FP+TN): 110673\n",
      "accuracy: 99.580\n",
      "Finished Predicting\n",
      "elapsed_time: 158.01325917243958\n",
      "Client  4\n",
      "Number of sessions(hdfs_test_normal): 5623\n",
      "Number of sessions(hdfs_test_abnormal): 1121\n"
     ]
    },
    {
     "name": "stderr",
     "output_type": "stream",
     "text": [
      "100%|██████████| 5623/5623 [01:55<00:00, 48.67it/s]\n",
      "100%|██████████| 1121/1121 [00:07<00:00, 145.24it/s]\n"
     ]
    },
    {
     "name": "stdout",
     "output_type": "stream",
     "text": [
      "false positive (FP): 525, false negative (FN): 32, Precision: 86.399%, Recall: 99.050%, F1-measure: 92.293%\n",
      "actual positive (TP+FN): 3367, actual negative (FP+TN): 110673\n",
      "accuracy: 99.512\n",
      "Finished Predicting\n",
      "elapsed_time: 123.2535309791565\n",
      "============ Train epoch 15 ============\n",
      "Client  0\n",
      "File ../data/hdfs/hdfs_train, number of sessions 971\n",
      "File ../data/hdfs/hdfs_train, number of seqs 9420\n",
      "sampling...\n"
     ]
    },
    {
     "name": "stderr",
     "output_type": "stream",
     "text": [
      "100%|██████████| 1058/1058 [00:00<00:00, 3445.90it/s]\n"
     ]
    },
    {
     "name": "stdout",
     "output_type": "stream",
     "text": [
      "File ../data/hdfs/hdfs_test_normal, number of sessions 110673\n",
      "File ../data/hdfs/hdfs_test_normal, number of seqs 1058\n",
      "Find 9420 train logs, 1058 validation logs\n",
      "Train batch size 2048 ,Validation batch size 2048\n",
      "Starting epoch: 0 | phase: train | ⏰: 14:19:28 | Learning rate: 0.000313\n"
     ]
    },
    {
     "name": "stderr",
     "output_type": "stream",
     "text": [
      "Train loss: 1.88488: 100%|██████████| 5/5 [00:00<00:00, 49.11it/s]\n"
     ]
    },
    {
     "name": "stdout",
     "output_type": "stream",
     "text": [
      "Starting epoch: 0 | phase: valid | ⏰: 14:19:28 \n"
     ]
    },
    {
     "name": "stderr",
     "output_type": "stream",
     "text": [
      ": 100%|██████████| 1/1 [00:00<00:00, 103.85it/s]\n"
     ]
    },
    {
     "name": "stdout",
     "output_type": "stream",
     "text": [
      "Validation loss: 1.9084413051605225\n",
      "Client  1\n",
      "File ../data/hdfs/hdfs_train, number of sessions 971\n",
      "File ../data/hdfs/hdfs_train, number of seqs 9080\n",
      "sampling...\n"
     ]
    },
    {
     "name": "stderr",
     "output_type": "stream",
     "text": [
      "100%|██████████| 1046/1046 [00:00<00:00, 3688.86it/s]\n"
     ]
    },
    {
     "name": "stdout",
     "output_type": "stream",
     "text": [
      "File ../data/hdfs/hdfs_test_normal, number of sessions 110673\n",
      "File ../data/hdfs/hdfs_test_normal, number of seqs 1046\n",
      "Find 9080 train logs, 1046 validation logs\n",
      "Train batch size 2048 ,Validation batch size 2048\n",
      "Starting epoch: 0 | phase: train | ⏰: 14:19:39 | Learning rate: 0.000313\n"
     ]
    },
    {
     "name": "stderr",
     "output_type": "stream",
     "text": [
      "Train loss: 1.89526: 100%|██████████| 5/5 [00:00<00:00, 58.05it/s]\n"
     ]
    },
    {
     "name": "stdout",
     "output_type": "stream",
     "text": [
      "Starting epoch: 0 | phase: valid | ⏰: 14:19:39 \n"
     ]
    },
    {
     "name": "stderr",
     "output_type": "stream",
     "text": [
      ": 100%|██████████| 1/1 [00:00<00:00, 105.66it/s]\n"
     ]
    },
    {
     "name": "stdout",
     "output_type": "stream",
     "text": [
      "Validation loss: 1.8644901514053345\n",
      "Client  2\n",
      "File ../data/hdfs/hdfs_train, number of sessions 971\n",
      "File ../data/hdfs/hdfs_train, number of seqs 9485\n",
      "sampling...\n"
     ]
    },
    {
     "name": "stderr",
     "output_type": "stream",
     "text": [
      "100%|██████████| 1051/1051 [00:00<00:00, 3432.61it/s]\n"
     ]
    },
    {
     "name": "stdout",
     "output_type": "stream",
     "text": [
      "File ../data/hdfs/hdfs_test_normal, number of sessions 110673\n",
      "File ../data/hdfs/hdfs_test_normal, number of seqs 1051\n",
      "Find 9485 train logs, 1051 validation logs\n",
      "Train batch size 2048 ,Validation batch size 2048\n",
      "Starting epoch: 0 | phase: train | ⏰: 14:19:51 | Learning rate: 0.000313\n"
     ]
    },
    {
     "name": "stderr",
     "output_type": "stream",
     "text": [
      "Train loss: 1.90041: 100%|██████████| 5/5 [00:00<00:00, 52.86it/s]\n"
     ]
    },
    {
     "name": "stdout",
     "output_type": "stream",
     "text": [
      "Starting epoch: 0 | phase: valid | ⏰: 14:19:51 \n"
     ]
    },
    {
     "name": "stderr",
     "output_type": "stream",
     "text": [
      ": 100%|██████████| 1/1 [00:00<00:00, 85.19it/s]\n"
     ]
    },
    {
     "name": "stdout",
     "output_type": "stream",
     "text": [
      "Validation loss: 1.8612120151519775\n",
      "Client  3\n",
      "File ../data/hdfs/hdfs_train, number of sessions 971\n",
      "File ../data/hdfs/hdfs_train, number of seqs 9267\n",
      "sampling...\n"
     ]
    },
    {
     "name": "stderr",
     "output_type": "stream",
     "text": [
      "100%|██████████| 1057/1057 [00:00<00:00, 3487.71it/s]\n"
     ]
    },
    {
     "name": "stdout",
     "output_type": "stream",
     "text": [
      "File ../data/hdfs/hdfs_test_normal, number of sessions 110673\n",
      "File ../data/hdfs/hdfs_test_normal, number of seqs 1057\n",
      "Find 9267 train logs, 1057 validation logs\n",
      "Train batch size 2048 ,Validation batch size 2048\n",
      "Starting epoch: 0 | phase: train | ⏰: 14:20:03 | Learning rate: 0.000313\n"
     ]
    },
    {
     "name": "stderr",
     "output_type": "stream",
     "text": [
      "Train loss: 1.88320: 100%|██████████| 5/5 [00:00<00:00, 56.78it/s]\n"
     ]
    },
    {
     "name": "stdout",
     "output_type": "stream",
     "text": [
      "Starting epoch: 0 | phase: valid | ⏰: 14:20:03 \n"
     ]
    },
    {
     "name": "stderr",
     "output_type": "stream",
     "text": [
      ": 100%|██████████| 1/1 [00:00<00:00, 99.90it/s]\n"
     ]
    },
    {
     "name": "stdout",
     "output_type": "stream",
     "text": [
      "Validation loss: 1.856630802154541\n",
      "Client  4\n",
      "File ../data/hdfs/hdfs_train, number of sessions 971\n",
      "File ../data/hdfs/hdfs_train, number of seqs 9323\n",
      "sampling...\n"
     ]
    },
    {
     "name": "stderr",
     "output_type": "stream",
     "text": [
      "100%|██████████| 1044/1044 [00:00<00:00, 3512.99it/s]\n"
     ]
    },
    {
     "name": "stdout",
     "output_type": "stream",
     "text": [
      "File ../data/hdfs/hdfs_test_normal, number of sessions 110673\n",
      "File ../data/hdfs/hdfs_test_normal, number of seqs 1044\n",
      "Find 9323 train logs, 1044 validation logs\n",
      "Train batch size 2048 ,Validation batch size 2048\n",
      "Starting epoch: 0 | phase: train | ⏰: 14:20:14 | Learning rate: 0.000313\n"
     ]
    },
    {
     "name": "stderr",
     "output_type": "stream",
     "text": [
      "Train loss: 1.88092: 100%|██████████| 5/5 [00:00<00:00, 54.68it/s]\n"
     ]
    },
    {
     "name": "stdout",
     "output_type": "stream",
     "text": [
      "Starting epoch: 0 | phase: valid | ⏰: 14:20:15 \n"
     ]
    },
    {
     "name": "stderr",
     "output_type": "stream",
     "text": [
      ": 100%|██████████| 1/1 [00:00<00:00, 98.88it/s]\n"
     ]
    },
    {
     "name": "stdout",
     "output_type": "stream",
     "text": [
      "Validation loss: 1.8597502708435059\n",
      "============ Test epoch 15 ============\n",
      "Client  0\n",
      "Number of sessions(hdfs_test_normal): 5813\n",
      "Number of sessions(hdfs_test_abnormal): 1136\n"
     ]
    },
    {
     "name": "stderr",
     "output_type": "stream",
     "text": [
      "100%|██████████| 5813/5813 [02:23<00:00, 40.59it/s]\n",
      "100%|██████████| 1136/1136 [00:14<00:00, 77.88it/s]\n"
     ]
    },
    {
     "name": "stdout",
     "output_type": "stream",
     "text": [
      "false positive (FP): 490, false negative (FN): 24, Precision: 87.216%, Recall: 99.287%, F1-measure: 92.861%\n",
      "actual positive (TP+FN): 3367, actual negative (FP+TN): 110673\n",
      "accuracy: 99.549\n",
      "Finished Predicting\n",
      "elapsed_time: 157.8023886680603\n",
      "Client  1\n",
      "Number of sessions(hdfs_test_normal): 5574\n",
      "Number of sessions(hdfs_test_abnormal): 1139\n"
     ]
    },
    {
     "name": "stderr",
     "output_type": "stream",
     "text": [
      "100%|██████████| 5574/5574 [02:01<00:00, 45.94it/s]\n",
      "100%|██████████| 1139/1139 [00:07<00:00, 145.44it/s]\n"
     ]
    },
    {
     "name": "stdout",
     "output_type": "stream",
     "text": [
      "false positive (FP): 528, false negative (FN): 26, Precision: 86.353%, Recall: 99.228%, F1-measure: 92.344%\n",
      "actual positive (TP+FN): 3367, actual negative (FP+TN): 110673\n",
      "accuracy: 99.514\n",
      "Finished Predicting\n",
      "elapsed_time: 129.1700155735016\n",
      "Client  2\n",
      "Number of sessions(hdfs_test_normal): 5730\n",
      "Number of sessions(hdfs_test_abnormal): 1118\n"
     ]
    },
    {
     "name": "stderr",
     "output_type": "stream",
     "text": [
      "100%|██████████| 5730/5730 [01:48<00:00, 52.65it/s]\n",
      "100%|██████████| 1118/1118 [00:14<00:00, 76.29it/s]\n"
     ]
    },
    {
     "name": "stdout",
     "output_type": "stream",
     "text": [
      "false positive (FP): 468, false negative (FN): 30, Precision: 87.700%, Recall: 99.109%, F1-measure: 93.056%\n",
      "actual positive (TP+FN): 3367, actual negative (FP+TN): 110673\n",
      "accuracy: 99.563\n",
      "Finished Predicting\n",
      "elapsed_time: 123.49262976646423\n",
      "Client  3\n",
      "Number of sessions(hdfs_test_normal): 5747\n",
      "Number of sessions(hdfs_test_abnormal): 1159\n"
     ]
    },
    {
     "name": "stderr",
     "output_type": "stream",
     "text": [
      "100%|██████████| 5747/5747 [02:22<00:00, 40.39it/s]\n",
      "100%|██████████| 1159/1159 [00:15<00:00, 75.07it/s]\n"
     ]
    },
    {
     "name": "stdout",
     "output_type": "stream",
     "text": [
      "false positive (FP): 451, false negative (FN): 28, Precision: 88.100%, Recall: 99.168%, F1-measure: 93.307%\n",
      "actual positive (TP+FN): 3367, actual negative (FP+TN): 110673\n",
      "accuracy: 99.580\n",
      "Finished Predicting\n",
      "elapsed_time: 157.7233486175537\n",
      "Client  4\n",
      "Number of sessions(hdfs_test_normal): 5623\n",
      "Number of sessions(hdfs_test_abnormal): 1121\n"
     ]
    },
    {
     "name": "stderr",
     "output_type": "stream",
     "text": [
      "100%|██████████| 5623/5623 [02:17<00:00, 40.97it/s]\n",
      "100%|██████████| 1121/1121 [00:15<00:00, 74.56it/s]\n"
     ]
    },
    {
     "name": "stdout",
     "output_type": "stream",
     "text": [
      "false positive (FP): 525, false negative (FN): 32, Precision: 86.399%, Recall: 99.050%, F1-measure: 92.293%\n",
      "actual positive (TP+FN): 3367, actual negative (FP+TN): 110673\n",
      "accuracy: 99.512\n",
      "Finished Predicting\n",
      "elapsed_time: 152.27727222442627\n",
      "============ Train epoch 16 ============\n",
      "Client  0\n",
      "File ../data/hdfs/hdfs_train, number of sessions 971\n",
      "File ../data/hdfs/hdfs_train, number of seqs 9420\n",
      "sampling...\n"
     ]
    },
    {
     "name": "stderr",
     "output_type": "stream",
     "text": [
      "100%|██████████| 1058/1058 [00:00<00:00, 3592.55it/s]\n"
     ]
    },
    {
     "name": "stdout",
     "output_type": "stream",
     "text": [
      "File ../data/hdfs/hdfs_test_normal, number of sessions 110673\n",
      "File ../data/hdfs/hdfs_test_normal, number of seqs 1058\n",
      "Find 9420 train logs, 1058 validation logs\n",
      "Train batch size 2048 ,Validation batch size 2048\n",
      "Starting epoch: 0 | phase: train | ⏰: 14:32:30 | Learning rate: 0.000313\n"
     ]
    },
    {
     "name": "stderr",
     "output_type": "stream",
     "text": [
      "Train loss: 1.85241: 100%|██████████| 5/5 [00:00<00:00, 55.80it/s]\n"
     ]
    },
    {
     "name": "stdout",
     "output_type": "stream",
     "text": [
      "Starting epoch: 0 | phase: valid | ⏰: 14:32:30 \n"
     ]
    },
    {
     "name": "stderr",
     "output_type": "stream",
     "text": [
      ": 100%|██████████| 1/1 [00:00<00:00, 104.23it/s]\n"
     ]
    },
    {
     "name": "stdout",
     "output_type": "stream",
     "text": [
      "Validation loss: 1.8268499374389648\n",
      "Client  1\n",
      "File ../data/hdfs/hdfs_train, number of sessions 971\n",
      "File ../data/hdfs/hdfs_train, number of seqs 9080\n",
      "sampling...\n"
     ]
    },
    {
     "name": "stderr",
     "output_type": "stream",
     "text": [
      "100%|██████████| 1046/1046 [00:00<00:00, 3495.65it/s]\n"
     ]
    },
    {
     "name": "stdout",
     "output_type": "stream",
     "text": [
      "File ../data/hdfs/hdfs_test_normal, number of sessions 110673\n",
      "File ../data/hdfs/hdfs_test_normal, number of seqs 1046\n",
      "Find 9080 train logs, 1046 validation logs\n",
      "Train batch size 2048 ,Validation batch size 2048\n",
      "Starting epoch: 0 | phase: train | ⏰: 14:32:42 | Learning rate: 0.000313\n"
     ]
    },
    {
     "name": "stderr",
     "output_type": "stream",
     "text": [
      "Train loss: 1.86694: 100%|██████████| 5/5 [00:00<00:00, 56.94it/s]\n"
     ]
    },
    {
     "name": "stdout",
     "output_type": "stream",
     "text": [
      "Starting epoch: 0 | phase: valid | ⏰: 14:32:42 \n"
     ]
    },
    {
     "name": "stderr",
     "output_type": "stream",
     "text": [
      ": 100%|██████████| 1/1 [00:00<00:00, 90.27it/s]\n"
     ]
    },
    {
     "name": "stdout",
     "output_type": "stream",
     "text": [
      "Validation loss: 1.7881492376327515\n",
      "Client  2\n",
      "File ../data/hdfs/hdfs_train, number of sessions 971\n",
      "File ../data/hdfs/hdfs_train, number of seqs 9485\n",
      "sampling...\n"
     ]
    },
    {
     "name": "stderr",
     "output_type": "stream",
     "text": [
      "100%|██████████| 1051/1051 [00:00<00:00, 3577.95it/s]\n"
     ]
    },
    {
     "name": "stdout",
     "output_type": "stream",
     "text": [
      "File ../data/hdfs/hdfs_test_normal, number of sessions 110673\n",
      "File ../data/hdfs/hdfs_test_normal, number of seqs 1051\n",
      "Find 9485 train logs, 1051 validation logs\n",
      "Train batch size 2048 ,Validation batch size 2048\n",
      "Starting epoch: 0 | phase: train | ⏰: 14:32:53 | Learning rate: 0.000313\n"
     ]
    },
    {
     "name": "stderr",
     "output_type": "stream",
     "text": [
      "Train loss: 1.86845: 100%|██████████| 5/5 [00:00<00:00, 54.63it/s]\n"
     ]
    },
    {
     "name": "stdout",
     "output_type": "stream",
     "text": [
      "Starting epoch: 0 | phase: valid | ⏰: 14:32:53 \n"
     ]
    },
    {
     "name": "stderr",
     "output_type": "stream",
     "text": [
      ": 100%|██████████| 1/1 [00:00<00:00, 98.78it/s]\n"
     ]
    },
    {
     "name": "stdout",
     "output_type": "stream",
     "text": [
      "Validation loss: 1.8240491151809692\n",
      "Client  3\n",
      "File ../data/hdfs/hdfs_train, number of sessions 971\n",
      "File ../data/hdfs/hdfs_train, number of seqs 9267\n",
      "sampling...\n"
     ]
    },
    {
     "name": "stderr",
     "output_type": "stream",
     "text": [
      "100%|██████████| 1057/1057 [00:00<00:00, 3531.60it/s]\n"
     ]
    },
    {
     "name": "stdout",
     "output_type": "stream",
     "text": [
      "File ../data/hdfs/hdfs_test_normal, number of sessions 110673\n",
      "File ../data/hdfs/hdfs_test_normal, number of seqs 1057\n",
      "Find 9267 train logs, 1057 validation logs\n",
      "Train batch size 2048 ,Validation batch size 2048\n",
      "Starting epoch: 0 | phase: train | ⏰: 14:33:05 | Learning rate: 0.000313\n"
     ]
    },
    {
     "name": "stderr",
     "output_type": "stream",
     "text": [
      "Train loss: 1.84867: 100%|██████████| 5/5 [00:00<00:00, 55.52it/s]\n"
     ]
    },
    {
     "name": "stdout",
     "output_type": "stream",
     "text": [
      "Starting epoch: 0 | phase: valid | ⏰: 14:33:05 \n"
     ]
    },
    {
     "name": "stderr",
     "output_type": "stream",
     "text": [
      ": 100%|██████████| 1/1 [00:00<00:00, 99.84it/s]\n"
     ]
    },
    {
     "name": "stdout",
     "output_type": "stream",
     "text": [
      "Validation loss: 1.818139672279358\n",
      "Client  4\n",
      "File ../data/hdfs/hdfs_train, number of sessions 971\n",
      "File ../data/hdfs/hdfs_train, number of seqs 9323\n",
      "sampling...\n"
     ]
    },
    {
     "name": "stderr",
     "output_type": "stream",
     "text": [
      "100%|██████████| 1044/1044 [00:00<00:00, 3516.22it/s]\n"
     ]
    },
    {
     "name": "stdout",
     "output_type": "stream",
     "text": [
      "File ../data/hdfs/hdfs_test_normal, number of sessions 110673\n",
      "File ../data/hdfs/hdfs_test_normal, number of seqs 1044\n",
      "Find 9323 train logs, 1044 validation logs\n",
      "Train batch size 2048 ,Validation batch size 2048\n",
      "Starting epoch: 0 | phase: train | ⏰: 14:33:17 | Learning rate: 0.000313\n"
     ]
    },
    {
     "name": "stderr",
     "output_type": "stream",
     "text": [
      "Train loss: 1.85453: 100%|██████████| 5/5 [00:00<00:00, 54.64it/s]\n"
     ]
    },
    {
     "name": "stdout",
     "output_type": "stream",
     "text": [
      "Starting epoch: 0 | phase: valid | ⏰: 14:33:17 \n"
     ]
    },
    {
     "name": "stderr",
     "output_type": "stream",
     "text": [
      ": 100%|██████████| 1/1 [00:00<00:00, 99.69it/s]\n"
     ]
    },
    {
     "name": "stdout",
     "output_type": "stream",
     "text": [
      "Validation loss: 1.8300540447235107\n",
      "============ Test epoch 16 ============\n",
      "Client  0\n",
      "Number of sessions(hdfs_test_normal): 5813\n",
      "Number of sessions(hdfs_test_abnormal): 1136\n"
     ]
    },
    {
     "name": "stderr",
     "output_type": "stream",
     "text": [
      "100%|██████████| 5813/5813 [02:23<00:00, 40.47it/s]\n",
      "100%|██████████| 1136/1136 [00:14<00:00, 77.79it/s]\n"
     ]
    },
    {
     "name": "stdout",
     "output_type": "stream",
     "text": [
      "false positive (FP): 490, false negative (FN): 24, Precision: 87.216%, Recall: 99.287%, F1-measure: 92.861%\n",
      "actual positive (TP+FN): 3367, actual negative (FP+TN): 110673\n",
      "accuracy: 99.549\n",
      "Finished Predicting\n",
      "elapsed_time: 158.24080634117126\n",
      "Client  1\n",
      "Number of sessions(hdfs_test_normal): 5574\n",
      "Number of sessions(hdfs_test_abnormal): 1139\n"
     ]
    },
    {
     "name": "stderr",
     "output_type": "stream",
     "text": [
      "100%|██████████| 5574/5574 [02:15<00:00, 41.12it/s]\n",
      "100%|██████████| 1139/1139 [00:13<00:00, 85.53it/s] \n"
     ]
    },
    {
     "name": "stdout",
     "output_type": "stream",
     "text": [
      "false positive (FP): 528, false negative (FN): 26, Precision: 86.353%, Recall: 99.228%, F1-measure: 92.344%\n",
      "actual positive (TP+FN): 3367, actual negative (FP+TN): 110673\n",
      "accuracy: 99.514\n",
      "Finished Predicting\n",
      "elapsed_time: 148.8763325214386\n",
      "Client  2\n",
      "Number of sessions(hdfs_test_normal): 5730\n",
      "Number of sessions(hdfs_test_abnormal): 1118\n"
     ]
    },
    {
     "name": "stderr",
     "output_type": "stream",
     "text": [
      "100%|██████████| 5730/5730 [01:28<00:00, 64.53it/s]\n",
      "100%|██████████| 1118/1118 [00:15<00:00, 73.77it/s]\n"
     ]
    },
    {
     "name": "stdout",
     "output_type": "stream",
     "text": [
      "false positive (FP): 468, false negative (FN): 30, Precision: 87.700%, Recall: 99.109%, F1-measure: 93.056%\n",
      "actual positive (TP+FN): 3367, actual negative (FP+TN): 110673\n",
      "accuracy: 99.563\n",
      "Finished Predicting\n",
      "elapsed_time: 103.95316553115845\n",
      "Client  3\n",
      "Number of sessions(hdfs_test_normal): 5747\n",
      "Number of sessions(hdfs_test_abnormal): 1159\n"
     ]
    },
    {
     "name": "stderr",
     "output_type": "stream",
     "text": [
      "100%|██████████| 5747/5747 [02:21<00:00, 40.58it/s]\n",
      "100%|██████████| 1159/1159 [00:15<00:00, 72.54it/s]\n"
     ]
    },
    {
     "name": "stdout",
     "output_type": "stream",
     "text": [
      "false positive (FP): 451, false negative (FN): 28, Precision: 88.100%, Recall: 99.168%, F1-measure: 93.307%\n",
      "actual positive (TP+FN): 3367, actual negative (FP+TN): 110673\n",
      "accuracy: 99.580\n",
      "Finished Predicting\n",
      "elapsed_time: 157.5856637954712\n",
      "Client  4\n",
      "Number of sessions(hdfs_test_normal): 5623\n",
      "Number of sessions(hdfs_test_abnormal): 1121\n"
     ]
    },
    {
     "name": "stderr",
     "output_type": "stream",
     "text": [
      "100%|██████████| 5623/5623 [01:58<00:00, 47.49it/s]\n",
      "100%|██████████| 1121/1121 [00:07<00:00, 146.23it/s]\n"
     ]
    },
    {
     "name": "stdout",
     "output_type": "stream",
     "text": [
      "false positive (FP): 525, false negative (FN): 32, Precision: 86.399%, Recall: 99.050%, F1-measure: 92.293%\n",
      "actual positive (TP+FN): 3367, actual negative (FP+TN): 110673\n",
      "accuracy: 99.512\n",
      "Finished Predicting\n",
      "elapsed_time: 126.0607476234436\n",
      "============ Train epoch 17 ============\n",
      "Client  0\n",
      "File ../data/hdfs/hdfs_train, number of sessions 971\n",
      "File ../data/hdfs/hdfs_train, number of seqs 9420\n",
      "sampling...\n"
     ]
    },
    {
     "name": "stderr",
     "output_type": "stream",
     "text": [
      "100%|██████████| 1058/1058 [00:00<00:00, 3266.10it/s]\n"
     ]
    },
    {
     "name": "stdout",
     "output_type": "stream",
     "text": [
      "File ../data/hdfs/hdfs_test_normal, number of sessions 110673\n",
      "File ../data/hdfs/hdfs_test_normal, number of seqs 1058\n",
      "Find 9420 train logs, 1058 validation logs\n",
      "Train batch size 2048 ,Validation batch size 2048\n",
      "Starting epoch: 0 | phase: train | ⏰: 14:45:06 | Learning rate: 0.000313\n"
     ]
    },
    {
     "name": "stderr",
     "output_type": "stream",
     "text": [
      "Train loss: 1.82484: 100%|██████████| 5/5 [00:00<00:00, 55.36it/s]\n"
     ]
    },
    {
     "name": "stdout",
     "output_type": "stream",
     "text": [
      "Starting epoch: 0 | phase: valid | ⏰: 14:45:06 \n"
     ]
    },
    {
     "name": "stderr",
     "output_type": "stream",
     "text": [
      ": 100%|██████████| 1/1 [00:00<00:00, 103.60it/s]\n"
     ]
    },
    {
     "name": "stdout",
     "output_type": "stream",
     "text": [
      "Validation loss: 1.817798376083374\n",
      "Client  1\n",
      "File ../data/hdfs/hdfs_train, number of sessions 971\n",
      "File ../data/hdfs/hdfs_train, number of seqs 9080\n",
      "sampling...\n"
     ]
    },
    {
     "name": "stderr",
     "output_type": "stream",
     "text": [
      "100%|██████████| 1046/1046 [00:00<00:00, 3398.30it/s]\n"
     ]
    },
    {
     "name": "stdout",
     "output_type": "stream",
     "text": [
      "File ../data/hdfs/hdfs_test_normal, number of sessions 110673\n",
      "File ../data/hdfs/hdfs_test_normal, number of seqs 1046\n",
      "Find 9080 train logs, 1046 validation logs\n",
      "Train batch size 2048 ,Validation batch size 2048\n",
      "Starting epoch: 0 | phase: train | ⏰: 14:45:18 | Learning rate: 0.000313\n"
     ]
    },
    {
     "name": "stderr",
     "output_type": "stream",
     "text": [
      "Train loss: 1.83837: 100%|██████████| 5/5 [00:00<00:00, 56.95it/s]\n"
     ]
    },
    {
     "name": "stdout",
     "output_type": "stream",
     "text": [
      "Starting epoch: 0 | phase: valid | ⏰: 14:45:18 \n"
     ]
    },
    {
     "name": "stderr",
     "output_type": "stream",
     "text": [
      ": 100%|██████████| 1/1 [00:00<00:00, 104.14it/s]\n"
     ]
    },
    {
     "name": "stdout",
     "output_type": "stream",
     "text": [
      "Validation loss: 1.7712585926055908\n",
      "Client  2\n",
      "File ../data/hdfs/hdfs_train, number of sessions 971\n",
      "File ../data/hdfs/hdfs_train, number of seqs 9485\n",
      "sampling...\n"
     ]
    },
    {
     "name": "stderr",
     "output_type": "stream",
     "text": [
      "100%|██████████| 1051/1051 [00:00<00:00, 3467.85it/s]\n"
     ]
    },
    {
     "name": "stdout",
     "output_type": "stream",
     "text": [
      "File ../data/hdfs/hdfs_test_normal, number of sessions 110673\n",
      "File ../data/hdfs/hdfs_test_normal, number of seqs 1051\n",
      "Find 9485 train logs, 1051 validation logs\n",
      "Train batch size 2048 ,Validation batch size 2048\n",
      "Starting epoch: 0 | phase: train | ⏰: 14:45:30 | Learning rate: 0.000313\n"
     ]
    },
    {
     "name": "stderr",
     "output_type": "stream",
     "text": [
      "Train loss: 1.84157: 100%|██████████| 5/5 [00:00<00:00, 55.34it/s]\n"
     ]
    },
    {
     "name": "stdout",
     "output_type": "stream",
     "text": [
      "Starting epoch: 0 | phase: valid | ⏰: 14:45:30 \n"
     ]
    },
    {
     "name": "stderr",
     "output_type": "stream",
     "text": [
      ": 100%|██████████| 1/1 [00:00<00:00, 92.62it/s]"
     ]
    },
    {
     "name": "stdout",
     "output_type": "stream",
     "text": [
      "Validation loss: 1.8108422756195068\n",
      "Client  3\n"
     ]
    },
    {
     "name": "stderr",
     "output_type": "stream",
     "text": [
      "\n"
     ]
    },
    {
     "name": "stdout",
     "output_type": "stream",
     "text": [
      "File ../data/hdfs/hdfs_train, number of sessions 971\n",
      "File ../data/hdfs/hdfs_train, number of seqs 9267\n",
      "sampling...\n"
     ]
    },
    {
     "name": "stderr",
     "output_type": "stream",
     "text": [
      "100%|██████████| 1057/1057 [00:00<00:00, 3481.24it/s]\n"
     ]
    },
    {
     "name": "stdout",
     "output_type": "stream",
     "text": [
      "File ../data/hdfs/hdfs_test_normal, number of sessions 110673\n",
      "File ../data/hdfs/hdfs_test_normal, number of seqs 1057\n",
      "Find 9267 train logs, 1057 validation logs\n",
      "Train batch size 2048 ,Validation batch size 2048\n",
      "Starting epoch: 0 | phase: train | ⏰: 14:45:41 | Learning rate: 0.000313\n"
     ]
    },
    {
     "name": "stderr",
     "output_type": "stream",
     "text": [
      "Train loss: 1.82306: 100%|██████████| 5/5 [00:00<00:00, 56.17it/s]\n"
     ]
    },
    {
     "name": "stdout",
     "output_type": "stream",
     "text": [
      "Starting epoch: 0 | phase: valid | ⏰: 14:45:42 \n"
     ]
    },
    {
     "name": "stderr",
     "output_type": "stream",
     "text": [
      ": 100%|██████████| 1/1 [00:00<00:00, 97.42it/s]\n"
     ]
    },
    {
     "name": "stdout",
     "output_type": "stream",
     "text": [
      "Validation loss: 1.7738845348358154\n",
      "Client  4\n",
      "File ../data/hdfs/hdfs_train, number of sessions 971\n",
      "File ../data/hdfs/hdfs_train, number of seqs 9323\n",
      "sampling...\n"
     ]
    },
    {
     "name": "stderr",
     "output_type": "stream",
     "text": [
      "100%|██████████| 1044/1044 [00:00<00:00, 3460.07it/s]\n"
     ]
    },
    {
     "name": "stdout",
     "output_type": "stream",
     "text": [
      "File ../data/hdfs/hdfs_test_normal, number of sessions 110673\n",
      "File ../data/hdfs/hdfs_test_normal, number of seqs 1044\n",
      "Find 9323 train logs, 1044 validation logs\n",
      "Train batch size 2048 ,Validation batch size 2048\n",
      "Starting epoch: 0 | phase: train | ⏰: 14:45:53 | Learning rate: 0.000313\n"
     ]
    },
    {
     "name": "stderr",
     "output_type": "stream",
     "text": [
      "Train loss: 1.82563: 100%|██████████| 5/5 [00:00<00:00, 57.10it/s]\n"
     ]
    },
    {
     "name": "stdout",
     "output_type": "stream",
     "text": [
      "Starting epoch: 0 | phase: valid | ⏰: 14:45:53 \n"
     ]
    },
    {
     "name": "stderr",
     "output_type": "stream",
     "text": [
      ": 100%|██████████| 1/1 [00:00<00:00, 99.44it/s]\n"
     ]
    },
    {
     "name": "stdout",
     "output_type": "stream",
     "text": [
      "Validation loss: 1.8021571636199951\n",
      "============ Test epoch 17 ============\n",
      "Client  0\n",
      "Number of sessions(hdfs_test_normal): 5813\n",
      "Number of sessions(hdfs_test_abnormal): 1136\n"
     ]
    },
    {
     "name": "stderr",
     "output_type": "stream",
     "text": [
      "100%|██████████| 5813/5813 [02:23<00:00, 40.44it/s]\n",
      "100%|██████████| 1136/1136 [00:14<00:00, 77.43it/s]\n"
     ]
    },
    {
     "name": "stdout",
     "output_type": "stream",
     "text": [
      "false positive (FP): 490, false negative (FN): 24, Precision: 87.216%, Recall: 99.287%, F1-measure: 92.861%\n",
      "actual positive (TP+FN): 3367, actual negative (FP+TN): 110673\n",
      "accuracy: 99.549\n",
      "Finished Predicting\n",
      "elapsed_time: 158.41359424591064\n",
      "Client  1\n",
      "Number of sessions(hdfs_test_normal): 5574\n",
      "Number of sessions(hdfs_test_abnormal): 1139\n"
     ]
    },
    {
     "name": "stderr",
     "output_type": "stream",
     "text": [
      "100%|██████████| 5574/5574 [02:15<00:00, 41.26it/s]\n",
      "100%|██████████| 1139/1139 [00:15<00:00, 74.14it/s]\n"
     ]
    },
    {
     "name": "stdout",
     "output_type": "stream",
     "text": [
      "false positive (FP): 528, false negative (FN): 26, Precision: 86.353%, Recall: 99.228%, F1-measure: 92.344%\n",
      "actual positive (TP+FN): 3367, actual negative (FP+TN): 110673\n",
      "accuracy: 99.514\n",
      "Finished Predicting\n",
      "elapsed_time: 150.45809149742126\n",
      "Client  2\n",
      "Number of sessions(hdfs_test_normal): 5730\n",
      "Number of sessions(hdfs_test_abnormal): 1118\n"
     ]
    },
    {
     "name": "stderr",
     "output_type": "stream",
     "text": [
      "100%|██████████| 5730/5730 [02:21<00:00, 40.43it/s]\n",
      "100%|██████████| 1118/1118 [00:15<00:00, 73.49it/s]\n"
     ]
    },
    {
     "name": "stdout",
     "output_type": "stream",
     "text": [
      "false positive (FP): 468, false negative (FN): 30, Precision: 87.700%, Recall: 99.109%, F1-measure: 93.056%\n",
      "actual positive (TP+FN): 3367, actual negative (FP+TN): 110673\n",
      "accuracy: 99.563\n",
      "Finished Predicting\n",
      "elapsed_time: 156.92598223686218\n",
      "Client  3\n",
      "Number of sessions(hdfs_test_normal): 5747\n",
      "Number of sessions(hdfs_test_abnormal): 1159\n"
     ]
    },
    {
     "name": "stderr",
     "output_type": "stream",
     "text": [
      "100%|██████████| 5747/5747 [02:22<00:00, 40.38it/s]\n",
      "100%|██████████| 1159/1159 [00:16<00:00, 72.27it/s]\n"
     ]
    },
    {
     "name": "stdout",
     "output_type": "stream",
     "text": [
      "false positive (FP): 451, false negative (FN): 28, Precision: 88.100%, Recall: 99.168%, F1-measure: 93.307%\n",
      "actual positive (TP+FN): 3367, actual negative (FP+TN): 110673\n",
      "accuracy: 99.580\n",
      "Finished Predicting\n",
      "elapsed_time: 158.3735430240631\n",
      "Client  4\n",
      "Number of sessions(hdfs_test_normal): 5623\n",
      "Number of sessions(hdfs_test_abnormal): 1121\n"
     ]
    },
    {
     "name": "stderr",
     "output_type": "stream",
     "text": [
      "100%|██████████| 5623/5623 [01:56<00:00, 48.38it/s]\n",
      "100%|██████████| 1121/1121 [00:07<00:00, 144.75it/s]\n"
     ]
    },
    {
     "name": "stdout",
     "output_type": "stream",
     "text": [
      "false positive (FP): 525, false negative (FN): 32, Precision: 86.399%, Recall: 99.050%, F1-measure: 92.293%\n",
      "actual positive (TP+FN): 3367, actual negative (FP+TN): 110673\n",
      "accuracy: 99.512\n",
      "Finished Predicting\n",
      "elapsed_time: 123.96406674385071\n",
      "============ Train epoch 18 ============\n",
      "Client  0\n",
      "File ../data/hdfs/hdfs_train, number of sessions 971\n",
      "File ../data/hdfs/hdfs_train, number of seqs 9420\n",
      "sampling...\n"
     ]
    },
    {
     "name": "stderr",
     "output_type": "stream",
     "text": [
      "100%|██████████| 1058/1058 [00:00<00:00, 3436.05it/s]\n"
     ]
    },
    {
     "name": "stdout",
     "output_type": "stream",
     "text": [
      "File ../data/hdfs/hdfs_test_normal, number of sessions 110673\n",
      "File ../data/hdfs/hdfs_test_normal, number of seqs 1058\n",
      "Find 9420 train logs, 1058 validation logs\n",
      "Train batch size 2048 ,Validation batch size 2048\n",
      "Starting epoch: 0 | phase: train | ⏰: 14:58:36 | Learning rate: 0.000313\n"
     ]
    },
    {
     "name": "stderr",
     "output_type": "stream",
     "text": [
      "Train loss: 1.79642: 100%|██████████| 5/5 [00:00<00:00, 54.29it/s]\n"
     ]
    },
    {
     "name": "stdout",
     "output_type": "stream",
     "text": [
      "Starting epoch: 0 | phase: valid | ⏰: 14:58:36 \n"
     ]
    },
    {
     "name": "stderr",
     "output_type": "stream",
     "text": [
      ": 100%|██████████| 1/1 [00:00<00:00, 99.43it/s]\n"
     ]
    },
    {
     "name": "stdout",
     "output_type": "stream",
     "text": [
      "Validation loss: 1.8190969228744507\n",
      "Client  1\n",
      "File ../data/hdfs/hdfs_train, number of sessions 971\n",
      "File ../data/hdfs/hdfs_train, number of seqs 9080\n",
      "sampling...\n"
     ]
    },
    {
     "name": "stderr",
     "output_type": "stream",
     "text": [
      "100%|██████████| 1046/1046 [00:00<00:00, 3479.62it/s]\n"
     ]
    },
    {
     "name": "stdout",
     "output_type": "stream",
     "text": [
      "File ../data/hdfs/hdfs_test_normal, number of sessions 110673\n",
      "File ../data/hdfs/hdfs_test_normal, number of seqs 1046\n",
      "Find 9080 train logs, 1046 validation logs\n",
      "Train batch size 2048 ,Validation batch size 2048\n",
      "Starting epoch: 0 | phase: train | ⏰: 14:58:48 | Learning rate: 0.000313\n"
     ]
    },
    {
     "name": "stderr",
     "output_type": "stream",
     "text": [
      "Train loss: 1.80786: 100%|██████████| 5/5 [00:00<00:00, 53.50it/s]\n"
     ]
    },
    {
     "name": "stdout",
     "output_type": "stream",
     "text": [
      "Starting epoch: 0 | phase: valid | ⏰: 14:58:48 \n"
     ]
    },
    {
     "name": "stderr",
     "output_type": "stream",
     "text": [
      ": 100%|██████████| 1/1 [00:00<00:00, 101.83it/s]\n"
     ]
    },
    {
     "name": "stdout",
     "output_type": "stream",
     "text": [
      "Validation loss: 1.740680456161499\n",
      "Client  2\n",
      "File ../data/hdfs/hdfs_train, number of sessions 971\n",
      "File ../data/hdfs/hdfs_train, number of seqs 9485\n",
      "sampling...\n"
     ]
    },
    {
     "name": "stderr",
     "output_type": "stream",
     "text": [
      "100%|██████████| 1051/1051 [00:00<00:00, 3488.09it/s]\n"
     ]
    },
    {
     "name": "stdout",
     "output_type": "stream",
     "text": [
      "File ../data/hdfs/hdfs_test_normal, number of sessions 110673\n",
      "File ../data/hdfs/hdfs_test_normal, number of seqs 1051\n",
      "Find 9485 train logs, 1051 validation logs\n",
      "Train batch size 2048 ,Validation batch size 2048\n",
      "Starting epoch: 0 | phase: train | ⏰: 14:59:00 | Learning rate: 0.000313\n"
     ]
    },
    {
     "name": "stderr",
     "output_type": "stream",
     "text": [
      "Train loss: 1.81791: 100%|██████████| 5/5 [00:00<00:00, 53.84it/s]\n"
     ]
    },
    {
     "name": "stdout",
     "output_type": "stream",
     "text": [
      "Starting epoch: 0 | phase: valid | ⏰: 14:59:00 \n"
     ]
    },
    {
     "name": "stderr",
     "output_type": "stream",
     "text": [
      ": 100%|██████████| 1/1 [00:00<00:00, 97.28it/s]\n"
     ]
    },
    {
     "name": "stdout",
     "output_type": "stream",
     "text": [
      "Validation loss: 1.7436140775680542\n",
      "Client  3\n",
      "File ../data/hdfs/hdfs_train, number of sessions 971\n",
      "File ../data/hdfs/hdfs_train, number of seqs 9267\n",
      "sampling...\n"
     ]
    },
    {
     "name": "stderr",
     "output_type": "stream",
     "text": [
      "100%|██████████| 1057/1057 [00:00<00:00, 3589.16it/s]\n"
     ]
    },
    {
     "name": "stdout",
     "output_type": "stream",
     "text": [
      "File ../data/hdfs/hdfs_test_normal, number of sessions 110673\n",
      "File ../data/hdfs/hdfs_test_normal, number of seqs 1057\n",
      "Find 9267 train logs, 1057 validation logs\n",
      "Train batch size 2048 ,Validation batch size 2048\n",
      "Starting epoch: 0 | phase: train | ⏰: 14:59:12 | Learning rate: 0.000313\n"
     ]
    },
    {
     "name": "stderr",
     "output_type": "stream",
     "text": [
      "Train loss: 1.79518: 100%|██████████| 5/5 [00:00<00:00, 54.46it/s]\n"
     ]
    },
    {
     "name": "stdout",
     "output_type": "stream",
     "text": [
      "Starting epoch: 0 | phase: valid | ⏰: 14:59:12 \n"
     ]
    },
    {
     "name": "stderr",
     "output_type": "stream",
     "text": [
      ": 100%|██████████| 1/1 [00:00<00:00, 100.04it/s]\n"
     ]
    },
    {
     "name": "stdout",
     "output_type": "stream",
     "text": [
      "Validation loss: 1.8200602531433105\n",
      "Client  4\n",
      "File ../data/hdfs/hdfs_train, number of sessions 971\n",
      "File ../data/hdfs/hdfs_train, number of seqs 9323\n",
      "sampling...\n"
     ]
    },
    {
     "name": "stderr",
     "output_type": "stream",
     "text": [
      "100%|██████████| 1044/1044 [00:00<00:00, 3635.31it/s]\n"
     ]
    },
    {
     "name": "stdout",
     "output_type": "stream",
     "text": [
      "File ../data/hdfs/hdfs_test_normal, number of sessions 110673\n",
      "File ../data/hdfs/hdfs_test_normal, number of seqs 1044\n",
      "Find 9323 train logs, 1044 validation logs\n",
      "Train batch size 2048 ,Validation batch size 2048\n",
      "Starting epoch: 0 | phase: train | ⏰: 14:59:24 | Learning rate: 0.000313\n"
     ]
    },
    {
     "name": "stderr",
     "output_type": "stream",
     "text": [
      "Train loss: 1.80055: 100%|██████████| 5/5 [00:00<00:00, 53.78it/s]\n"
     ]
    },
    {
     "name": "stdout",
     "output_type": "stream",
     "text": [
      "Starting epoch: 0 | phase: valid | ⏰: 14:59:24 \n"
     ]
    },
    {
     "name": "stderr",
     "output_type": "stream",
     "text": [
      ": 100%|██████████| 1/1 [00:00<00:00, 105.26it/s]\n"
     ]
    },
    {
     "name": "stdout",
     "output_type": "stream",
     "text": [
      "Validation loss: 1.753807783126831\n",
      "============ Test epoch 18 ============\n",
      "Client  0\n",
      "Number of sessions(hdfs_test_normal): 5813\n",
      "Number of sessions(hdfs_test_abnormal): 1136\n"
     ]
    },
    {
     "name": "stderr",
     "output_type": "stream",
     "text": [
      "100%|██████████| 5813/5813 [02:24<00:00, 40.33it/s]\n",
      "100%|██████████| 1136/1136 [00:14<00:00, 77.22it/s]\n"
     ]
    },
    {
     "name": "stdout",
     "output_type": "stream",
     "text": [
      "false positive (FP): 490, false negative (FN): 24, Precision: 87.216%, Recall: 99.287%, F1-measure: 92.861%\n",
      "actual positive (TP+FN): 3367, actual negative (FP+TN): 110673\n",
      "accuracy: 99.549\n",
      "Finished Predicting\n",
      "elapsed_time: 158.86015725135803\n",
      "Client  1\n",
      "Number of sessions(hdfs_test_normal): 5574\n",
      "Number of sessions(hdfs_test_abnormal): 1139\n"
     ]
    },
    {
     "name": "stderr",
     "output_type": "stream",
     "text": [
      "100%|██████████| 5574/5574 [02:03<00:00, 45.14it/s]\n",
      "100%|██████████| 1139/1139 [00:07<00:00, 144.48it/s]\n"
     ]
    },
    {
     "name": "stdout",
     "output_type": "stream",
     "text": [
      "false positive (FP): 528, false negative (FN): 26, Precision: 86.353%, Recall: 99.228%, F1-measure: 92.344%\n",
      "actual positive (TP+FN): 3367, actual negative (FP+TN): 110673\n",
      "accuracy: 99.514\n",
      "Finished Predicting\n",
      "elapsed_time: 131.37890076637268\n",
      "Client  2\n",
      "Number of sessions(hdfs_test_normal): 5730\n",
      "Number of sessions(hdfs_test_abnormal): 1118\n"
     ]
    },
    {
     "name": "stderr",
     "output_type": "stream",
     "text": [
      "100%|██████████| 5730/5730 [01:47<00:00, 53.14it/s]\n",
      "100%|██████████| 1118/1118 [00:14<00:00, 76.01it/s]\n"
     ]
    },
    {
     "name": "stdout",
     "output_type": "stream",
     "text": [
      "false positive (FP): 468, false negative (FN): 30, Precision: 87.700%, Recall: 99.109%, F1-measure: 93.056%\n",
      "actual positive (TP+FN): 3367, actual negative (FP+TN): 110673\n",
      "accuracy: 99.563\n",
      "Finished Predicting\n",
      "elapsed_time: 122.53326320648193\n",
      "Client  3\n",
      "Number of sessions(hdfs_test_normal): 5747\n",
      "Number of sessions(hdfs_test_abnormal): 1159\n"
     ]
    },
    {
     "name": "stderr",
     "output_type": "stream",
     "text": [
      "100%|██████████| 5747/5747 [02:22<00:00, 40.20it/s]\n",
      "100%|██████████| 1159/1159 [00:15<00:00, 74.60it/s]\n"
     ]
    },
    {
     "name": "stdout",
     "output_type": "stream",
     "text": [
      "false positive (FP): 451, false negative (FN): 28, Precision: 88.100%, Recall: 99.168%, F1-measure: 93.307%\n",
      "actual positive (TP+FN): 3367, actual negative (FP+TN): 110673\n",
      "accuracy: 99.580\n",
      "Finished Predicting\n",
      "elapsed_time: 158.48425602912903\n",
      "Client  4\n",
      "Number of sessions(hdfs_test_normal): 5623\n",
      "Number of sessions(hdfs_test_abnormal): 1121\n"
     ]
    },
    {
     "name": "stderr",
     "output_type": "stream",
     "text": [
      "100%|██████████| 5623/5623 [02:18<00:00, 40.68it/s]\n",
      "100%|██████████| 1121/1121 [00:15<00:00, 74.08it/s]\n"
     ]
    },
    {
     "name": "stdout",
     "output_type": "stream",
     "text": [
      "false positive (FP): 525, false negative (FN): 32, Precision: 86.399%, Recall: 99.050%, F1-measure: 92.293%\n",
      "actual positive (TP+FN): 3367, actual negative (FP+TN): 110673\n",
      "accuracy: 99.512\n",
      "Finished Predicting\n",
      "elapsed_time: 153.35267305374146\n",
      "============ Train epoch 19 ============\n",
      "Client  0\n",
      "File ../data/hdfs/hdfs_train, number of sessions 971\n",
      "File ../data/hdfs/hdfs_train, number of seqs 9420\n",
      "sampling...\n"
     ]
    },
    {
     "name": "stderr",
     "output_type": "stream",
     "text": [
      "100%|██████████| 1058/1058 [00:00<00:00, 3439.64it/s]\n"
     ]
    },
    {
     "name": "stdout",
     "output_type": "stream",
     "text": [
      "File ../data/hdfs/hdfs_test_normal, number of sessions 110673\n",
      "File ../data/hdfs/hdfs_test_normal, number of seqs 1058\n",
      "Find 9420 train logs, 1058 validation logs\n",
      "Train batch size 2048 ,Validation batch size 2048\n",
      "Starting epoch: 0 | phase: train | ⏰: 15:11:43 | Learning rate: 0.000313\n"
     ]
    },
    {
     "name": "stderr",
     "output_type": "stream",
     "text": [
      "Train loss: 1.77104: 100%|██████████| 5/5 [00:00<00:00, 52.30it/s]\n"
     ]
    },
    {
     "name": "stdout",
     "output_type": "stream",
     "text": [
      "Starting epoch: 0 | phase: valid | ⏰: 15:11:43 \n"
     ]
    },
    {
     "name": "stderr",
     "output_type": "stream",
     "text": [
      ": 100%|██████████| 1/1 [00:00<00:00, 98.95it/s]"
     ]
    },
    {
     "name": "stdout",
     "output_type": "stream",
     "text": [
      "Validation loss: 1.7369881868362427\n",
      "Client  1\n"
     ]
    },
    {
     "name": "stderr",
     "output_type": "stream",
     "text": [
      "\n"
     ]
    },
    {
     "name": "stdout",
     "output_type": "stream",
     "text": [
      "File ../data/hdfs/hdfs_train, number of sessions 971\n",
      "File ../data/hdfs/hdfs_train, number of seqs 9080\n",
      "sampling...\n"
     ]
    },
    {
     "name": "stderr",
     "output_type": "stream",
     "text": [
      "100%|██████████| 1046/1046 [00:00<00:00, 3529.63it/s]\n"
     ]
    },
    {
     "name": "stdout",
     "output_type": "stream",
     "text": [
      "File ../data/hdfs/hdfs_test_normal, number of sessions 110673\n",
      "File ../data/hdfs/hdfs_test_normal, number of seqs 1046\n",
      "Find 9080 train logs, 1046 validation logs\n",
      "Train batch size 2048 ,Validation batch size 2048\n",
      "Starting epoch: 0 | phase: train | ⏰: 15:11:55 | Learning rate: 0.000313\n"
     ]
    },
    {
     "name": "stderr",
     "output_type": "stream",
     "text": [
      "Train loss: 1.78433: 100%|██████████| 5/5 [00:00<00:00, 53.53it/s]\n"
     ]
    },
    {
     "name": "stdout",
     "output_type": "stream",
     "text": [
      "Starting epoch: 0 | phase: valid | ⏰: 15:11:55 \n"
     ]
    },
    {
     "name": "stderr",
     "output_type": "stream",
     "text": [
      ": 100%|██████████| 1/1 [00:00<00:00, 98.74it/s]\n"
     ]
    },
    {
     "name": "stdout",
     "output_type": "stream",
     "text": [
      "Validation loss: 1.7251368761062622\n",
      "Client  2\n",
      "File ../data/hdfs/hdfs_train, number of sessions 971\n",
      "File ../data/hdfs/hdfs_train, number of seqs 9485\n",
      "sampling...\n"
     ]
    },
    {
     "name": "stderr",
     "output_type": "stream",
     "text": [
      "100%|██████████| 1051/1051 [00:00<00:00, 3337.51it/s]\n"
     ]
    },
    {
     "name": "stdout",
     "output_type": "stream",
     "text": [
      "File ../data/hdfs/hdfs_test_normal, number of sessions 110673\n",
      "File ../data/hdfs/hdfs_test_normal, number of seqs 1051\n",
      "Find 9485 train logs, 1051 validation logs\n",
      "Train batch size 2048 ,Validation batch size 2048\n",
      "Starting epoch: 0 | phase: train | ⏰: 15:12:07 | Learning rate: 0.000313\n"
     ]
    },
    {
     "name": "stderr",
     "output_type": "stream",
     "text": [
      "Train loss: 1.79086: 100%|██████████| 5/5 [00:00<00:00, 46.07it/s]\n"
     ]
    },
    {
     "name": "stdout",
     "output_type": "stream",
     "text": [
      "Starting epoch: 0 | phase: valid | ⏰: 15:12:07 \n"
     ]
    },
    {
     "name": "stderr",
     "output_type": "stream",
     "text": [
      ": 100%|██████████| 1/1 [00:00<00:00, 95.97it/s]"
     ]
    },
    {
     "name": "stdout",
     "output_type": "stream",
     "text": [
      "Validation loss: 1.7378123998641968\n",
      "Client  3\n"
     ]
    },
    {
     "name": "stderr",
     "output_type": "stream",
     "text": [
      "\n"
     ]
    },
    {
     "name": "stdout",
     "output_type": "stream",
     "text": [
      "File ../data/hdfs/hdfs_train, number of sessions 971\n",
      "File ../data/hdfs/hdfs_train, number of seqs 9267\n",
      "sampling...\n"
     ]
    },
    {
     "name": "stderr",
     "output_type": "stream",
     "text": [
      "100%|██████████| 1057/1057 [00:00<00:00, 3482.42it/s]\n"
     ]
    },
    {
     "name": "stdout",
     "output_type": "stream",
     "text": [
      "File ../data/hdfs/hdfs_test_normal, number of sessions 110673\n",
      "File ../data/hdfs/hdfs_test_normal, number of seqs 1057\n",
      "Find 9267 train logs, 1057 validation logs\n",
      "Train batch size 2048 ,Validation batch size 2048\n",
      "Starting epoch: 0 | phase: train | ⏰: 15:12:19 | Learning rate: 0.000313\n"
     ]
    },
    {
     "name": "stderr",
     "output_type": "stream",
     "text": [
      "Train loss: 1.77594: 100%|██████████| 5/5 [00:00<00:00, 54.06it/s]\n"
     ]
    },
    {
     "name": "stdout",
     "output_type": "stream",
     "text": [
      "Starting epoch: 0 | phase: valid | ⏰: 15:12:19 \n"
     ]
    },
    {
     "name": "stderr",
     "output_type": "stream",
     "text": [
      ": 100%|██████████| 1/1 [00:00<00:00, 100.10it/s]\n"
     ]
    },
    {
     "name": "stdout",
     "output_type": "stream",
     "text": [
      "Validation loss: 1.7094659805297852\n",
      "Client  4\n",
      "File ../data/hdfs/hdfs_train, number of sessions 971\n",
      "File ../data/hdfs/hdfs_train, number of seqs 9323\n",
      "sampling...\n"
     ]
    },
    {
     "name": "stderr",
     "output_type": "stream",
     "text": [
      "100%|██████████| 1044/1044 [00:00<00:00, 3511.11it/s]\n"
     ]
    },
    {
     "name": "stdout",
     "output_type": "stream",
     "text": [
      "File ../data/hdfs/hdfs_test_normal, number of sessions 110673\n",
      "File ../data/hdfs/hdfs_test_normal, number of seqs 1044\n",
      "Find 9323 train logs, 1044 validation logs\n",
      "Train batch size 2048 ,Validation batch size 2048\n",
      "Starting epoch: 0 | phase: train | ⏰: 15:12:31 | Learning rate: 0.000313\n"
     ]
    },
    {
     "name": "stderr",
     "output_type": "stream",
     "text": [
      "Train loss: 1.77650: 100%|██████████| 5/5 [00:00<00:00, 49.99it/s]\n"
     ]
    },
    {
     "name": "stdout",
     "output_type": "stream",
     "text": [
      "Starting epoch: 0 | phase: valid | ⏰: 15:12:31 \n"
     ]
    },
    {
     "name": "stderr",
     "output_type": "stream",
     "text": [
      ": 100%|██████████| 1/1 [00:00<00:00, 87.32it/s]\n"
     ]
    },
    {
     "name": "stdout",
     "output_type": "stream",
     "text": [
      "Validation loss: 1.7145694494247437\n",
      "============ Test epoch 19 ============\n",
      "Client  0\n",
      "Number of sessions(hdfs_test_normal): 5813\n",
      "Number of sessions(hdfs_test_abnormal): 1136\n"
     ]
    },
    {
     "name": "stderr",
     "output_type": "stream",
     "text": [
      "100%|██████████| 5813/5813 [02:24<00:00, 40.16it/s]\n",
      "100%|██████████| 1136/1136 [00:14<00:00, 77.01it/s]\n"
     ]
    },
    {
     "name": "stdout",
     "output_type": "stream",
     "text": [
      "false positive (FP): 490, false negative (FN): 24, Precision: 87.216%, Recall: 99.287%, F1-measure: 92.861%\n",
      "actual positive (TP+FN): 3367, actual negative (FP+TN): 110673\n",
      "accuracy: 99.549\n",
      "Finished Predicting\n",
      "elapsed_time: 159.49455451965332\n",
      "Client  1\n",
      "Number of sessions(hdfs_test_normal): 5574\n",
      "Number of sessions(hdfs_test_abnormal): 1139\n"
     ]
    },
    {
     "name": "stderr",
     "output_type": "stream",
     "text": [
      "100%|██████████| 5574/5574 [02:16<00:00, 40.75it/s]\n",
      "100%|██████████| 1139/1139 [00:14<00:00, 77.40it/s] \n"
     ]
    },
    {
     "name": "stdout",
     "output_type": "stream",
     "text": [
      "false positive (FP): 528, false negative (FN): 26, Precision: 86.353%, Recall: 99.228%, F1-measure: 92.344%\n",
      "actual positive (TP+FN): 3367, actual negative (FP+TN): 110673\n",
      "accuracy: 99.514\n",
      "Finished Predicting\n",
      "elapsed_time: 151.4983105659485\n",
      "Client  2\n",
      "Number of sessions(hdfs_test_normal): 5730\n",
      "Number of sessions(hdfs_test_abnormal): 1118\n"
     ]
    },
    {
     "name": "stderr",
     "output_type": "stream",
     "text": [
      "100%|██████████| 5730/5730 [01:27<00:00, 65.45it/s]\n",
      "100%|██████████| 1118/1118 [00:15<00:00, 72.94it/s]\n"
     ]
    },
    {
     "name": "stdout",
     "output_type": "stream",
     "text": [
      "false positive (FP): 468, false negative (FN): 30, Precision: 87.700%, Recall: 99.109%, F1-measure: 93.056%\n",
      "actual positive (TP+FN): 3367, actual negative (FP+TN): 110673\n",
      "accuracy: 99.563\n",
      "Finished Predicting\n",
      "elapsed_time: 102.88009667396545\n",
      "Client  3\n",
      "Number of sessions(hdfs_test_normal): 5747\n",
      "Number of sessions(hdfs_test_abnormal): 1159\n"
     ]
    },
    {
     "name": "stderr",
     "output_type": "stream",
     "text": [
      "100%|██████████| 5747/5747 [02:23<00:00, 40.15it/s]\n",
      "100%|██████████| 1159/1159 [00:16<00:00, 71.97it/s]\n"
     ]
    },
    {
     "name": "stdout",
     "output_type": "stream",
     "text": [
      "false positive (FP): 451, false negative (FN): 28, Precision: 88.100%, Recall: 99.168%, F1-measure: 93.307%\n",
      "actual positive (TP+FN): 3367, actual negative (FP+TN): 110673\n",
      "accuracy: 99.580\n",
      "Finished Predicting\n",
      "elapsed_time: 159.23470258712769\n",
      "Client  4\n",
      "Number of sessions(hdfs_test_normal): 5623\n",
      "Number of sessions(hdfs_test_abnormal): 1121\n"
     ]
    },
    {
     "name": "stderr",
     "output_type": "stream",
     "text": [
      "100%|██████████| 5623/5623 [02:03<00:00, 45.44it/s]\n",
      "100%|██████████| 1121/1121 [00:07<00:00, 144.03it/s]\n"
     ]
    },
    {
     "name": "stdout",
     "output_type": "stream",
     "text": [
      "false positive (FP): 525, false negative (FN): 32, Precision: 86.399%, Recall: 99.050%, F1-measure: 92.293%\n",
      "actual positive (TP+FN): 3367, actual negative (FP+TN): 110673\n",
      "accuracy: 99.512\n",
      "Finished Predicting\n",
      "elapsed_time: 131.52681517601013\n",
      "============ Train epoch 20 ============\n",
      "Client  0\n",
      "File ../data/hdfs/hdfs_train, number of sessions 971\n",
      "File ../data/hdfs/hdfs_train, number of seqs 9420\n",
      "sampling...\n"
     ]
    },
    {
     "name": "stderr",
     "output_type": "stream",
     "text": [
      "100%|██████████| 1058/1058 [00:00<00:00, 2653.03it/s]\n"
     ]
    },
    {
     "name": "stdout",
     "output_type": "stream",
     "text": [
      "File ../data/hdfs/hdfs_test_normal, number of sessions 110673\n",
      "File ../data/hdfs/hdfs_test_normal, number of seqs 1058\n",
      "Find 9420 train logs, 1058 validation logs\n",
      "Train batch size 2048 ,Validation batch size 2048\n",
      "Starting epoch: 0 | phase: train | ⏰: 15:24:31 | Learning rate: 0.000313\n"
     ]
    },
    {
     "name": "stderr",
     "output_type": "stream",
     "text": [
      "Train loss: 1.74722: 100%|██████████| 5/5 [00:00<00:00, 49.32it/s]\n"
     ]
    },
    {
     "name": "stdout",
     "output_type": "stream",
     "text": [
      "Starting epoch: 0 | phase: valid | ⏰: 15:24:31 \n"
     ]
    },
    {
     "name": "stderr",
     "output_type": "stream",
     "text": [
      ": 100%|██████████| 1/1 [00:00<00:00, 92.53it/s]\n"
     ]
    },
    {
     "name": "stdout",
     "output_type": "stream",
     "text": [
      "Validation loss: 1.73618483543396\n",
      "Client  1\n",
      "File ../data/hdfs/hdfs_train, number of sessions 971\n",
      "File ../data/hdfs/hdfs_train, number of seqs 9080\n",
      "sampling...\n"
     ]
    },
    {
     "name": "stderr",
     "output_type": "stream",
     "text": [
      "100%|██████████| 1046/1046 [00:00<00:00, 2200.21it/s]\n"
     ]
    },
    {
     "name": "stdout",
     "output_type": "stream",
     "text": [
      "File ../data/hdfs/hdfs_test_normal, number of sessions 110673\n",
      "File ../data/hdfs/hdfs_test_normal, number of seqs 1046\n",
      "Find 9080 train logs, 1046 validation logs\n",
      "Train batch size 2048 ,Validation batch size 2048\n",
      "Starting epoch: 0 | phase: train | ⏰: 15:24:43 | Learning rate: 0.000313\n"
     ]
    },
    {
     "name": "stderr",
     "output_type": "stream",
     "text": [
      "Train loss: 1.75961: 100%|██████████| 5/5 [00:00<00:00, 56.10it/s]\n"
     ]
    },
    {
     "name": "stdout",
     "output_type": "stream",
     "text": [
      "Starting epoch: 0 | phase: valid | ⏰: 15:24:43 \n"
     ]
    },
    {
     "name": "stderr",
     "output_type": "stream",
     "text": [
      ": 100%|██████████| 1/1 [00:00<00:00, 105.14it/s]\n"
     ]
    },
    {
     "name": "stdout",
     "output_type": "stream",
     "text": [
      "Validation loss: 1.7492175102233887\n",
      "Client  2\n",
      "File ../data/hdfs/hdfs_train, number of sessions 971\n",
      "File ../data/hdfs/hdfs_train, number of seqs 9485\n",
      "sampling...\n"
     ]
    },
    {
     "name": "stderr",
     "output_type": "stream",
     "text": [
      "100%|██████████| 1051/1051 [00:00<00:00, 2753.32it/s]\n"
     ]
    },
    {
     "name": "stdout",
     "output_type": "stream",
     "text": [
      "File ../data/hdfs/hdfs_test_normal, number of sessions 110673\n",
      "File ../data/hdfs/hdfs_test_normal, number of seqs 1051\n",
      "Find 9485 train logs, 1051 validation logs\n",
      "Train batch size 2048 ,Validation batch size 2048\n",
      "Starting epoch: 0 | phase: train | ⏰: 15:24:55 | Learning rate: 0.000313\n"
     ]
    },
    {
     "name": "stderr",
     "output_type": "stream",
     "text": [
      "Train loss: 1.77045: 100%|██████████| 5/5 [00:00<00:00, 51.67it/s]\n"
     ]
    },
    {
     "name": "stdout",
     "output_type": "stream",
     "text": [
      "Starting epoch: 0 | phase: valid | ⏰: 15:24:55 \n"
     ]
    },
    {
     "name": "stderr",
     "output_type": "stream",
     "text": [
      ": 100%|██████████| 1/1 [00:00<00:00, 97.05it/s]\n"
     ]
    },
    {
     "name": "stdout",
     "output_type": "stream",
     "text": [
      "Validation loss: 1.7411645650863647\n",
      "Client  3\n",
      "File ../data/hdfs/hdfs_train, number of sessions 971\n",
      "File ../data/hdfs/hdfs_train, number of seqs 9267\n",
      "sampling...\n"
     ]
    },
    {
     "name": "stderr",
     "output_type": "stream",
     "text": [
      "100%|██████████| 1057/1057 [00:00<00:00, 3479.69it/s]\n"
     ]
    },
    {
     "name": "stdout",
     "output_type": "stream",
     "text": [
      "File ../data/hdfs/hdfs_test_normal, number of sessions 110673\n",
      "File ../data/hdfs/hdfs_test_normal, number of seqs 1057\n",
      "Find 9267 train logs, 1057 validation logs\n",
      "Train batch size 2048 ,Validation batch size 2048\n",
      "Starting epoch: 0 | phase: train | ⏰: 15:25:07 | Learning rate: 0.000313\n"
     ]
    },
    {
     "name": "stderr",
     "output_type": "stream",
     "text": [
      "Train loss: 1.74917: 100%|██████████| 5/5 [00:00<00:00, 55.27it/s]\n"
     ]
    },
    {
     "name": "stdout",
     "output_type": "stream",
     "text": [
      "Starting epoch: 0 | phase: valid | ⏰: 15:25:07 \n"
     ]
    },
    {
     "name": "stderr",
     "output_type": "stream",
     "text": [
      ": 100%|██████████| 1/1 [00:00<00:00, 99.74it/s]"
     ]
    },
    {
     "name": "stdout",
     "output_type": "stream",
     "text": [
      "Validation loss: 1.7844998836517334\n",
      "Client  4\n"
     ]
    },
    {
     "name": "stderr",
     "output_type": "stream",
     "text": [
      "\n"
     ]
    },
    {
     "name": "stdout",
     "output_type": "stream",
     "text": [
      "File ../data/hdfs/hdfs_train, number of sessions 971\n",
      "File ../data/hdfs/hdfs_train, number of seqs 9323\n",
      "sampling...\n"
     ]
    },
    {
     "name": "stderr",
     "output_type": "stream",
     "text": [
      "100%|██████████| 1044/1044 [00:00<00:00, 3628.01it/s]\n"
     ]
    },
    {
     "name": "stdout",
     "output_type": "stream",
     "text": [
      "File ../data/hdfs/hdfs_test_normal, number of sessions 110673\n",
      "File ../data/hdfs/hdfs_test_normal, number of seqs 1044\n",
      "Find 9323 train logs, 1044 validation logs\n",
      "Train batch size 2048 ,Validation batch size 2048\n",
      "Starting epoch: 0 | phase: train | ⏰: 15:25:19 | Learning rate: 0.000313\n"
     ]
    },
    {
     "name": "stderr",
     "output_type": "stream",
     "text": [
      "Train loss: 1.75375: 100%|██████████| 5/5 [00:00<00:00, 54.72it/s]\n"
     ]
    },
    {
     "name": "stdout",
     "output_type": "stream",
     "text": [
      "Starting epoch: 0 | phase: valid | ⏰: 15:25:19 \n"
     ]
    },
    {
     "name": "stderr",
     "output_type": "stream",
     "text": [
      ": 100%|██████████| 1/1 [00:00<00:00, 109.59it/s]\n"
     ]
    },
    {
     "name": "stdout",
     "output_type": "stream",
     "text": [
      "Validation loss: 1.7750182151794434\n",
      "============ Test epoch 20 ============\n",
      "Client  0\n",
      "Number of sessions(hdfs_test_normal): 5813\n",
      "Number of sessions(hdfs_test_abnormal): 1136\n"
     ]
    },
    {
     "name": "stderr",
     "output_type": "stream",
     "text": [
      "100%|██████████| 5813/5813 [02:24<00:00, 40.27it/s]\n",
      "100%|██████████| 1136/1136 [00:14<00:00, 77.28it/s]\n"
     ]
    },
    {
     "name": "stdout",
     "output_type": "stream",
     "text": [
      "false positive (FP): 490, false negative (FN): 24, Precision: 87.216%, Recall: 99.287%, F1-measure: 92.861%\n",
      "actual positive (TP+FN): 3367, actual negative (FP+TN): 110673\n",
      "accuracy: 99.549\n",
      "Finished Predicting\n",
      "elapsed_time: 159.05214643478394\n",
      "Client  1\n",
      "Number of sessions(hdfs_test_normal): 5574\n",
      "Number of sessions(hdfs_test_abnormal): 1139\n"
     ]
    },
    {
     "name": "stderr",
     "output_type": "stream",
     "text": [
      "100%|██████████| 5574/5574 [02:15<00:00, 41.02it/s]\n",
      "100%|██████████| 1139/1139 [00:15<00:00, 74.15it/s]\n"
     ]
    },
    {
     "name": "stdout",
     "output_type": "stream",
     "text": [
      "false positive (FP): 528, false negative (FN): 26, Precision: 86.353%, Recall: 99.228%, F1-measure: 92.344%\n",
      "actual positive (TP+FN): 3367, actual negative (FP+TN): 110673\n",
      "accuracy: 99.514\n",
      "Finished Predicting\n",
      "elapsed_time: 151.23850440979004\n",
      "Client  2\n",
      "Number of sessions(hdfs_test_normal): 5730\n",
      "Number of sessions(hdfs_test_abnormal): 1118\n"
     ]
    },
    {
     "name": "stderr",
     "output_type": "stream",
     "text": [
      "100%|██████████| 5730/5730 [02:22<00:00, 40.20it/s]\n",
      "100%|██████████| 1118/1118 [00:15<00:00, 73.50it/s]\n"
     ]
    },
    {
     "name": "stdout",
     "output_type": "stream",
     "text": [
      "false positive (FP): 468, false negative (FN): 30, Precision: 87.700%, Recall: 99.109%, F1-measure: 93.056%\n",
      "actual positive (TP+FN): 3367, actual negative (FP+TN): 110673\n",
      "accuracy: 99.563\n",
      "Finished Predicting\n",
      "elapsed_time: 157.74033522605896\n",
      "Client  3\n",
      "Number of sessions(hdfs_test_normal): 5747\n",
      "Number of sessions(hdfs_test_abnormal): 1159\n"
     ]
    },
    {
     "name": "stderr",
     "output_type": "stream",
     "text": [
      "100%|██████████| 5747/5747 [02:22<00:00, 40.22it/s]\n",
      "100%|██████████| 1159/1159 [00:16<00:00, 72.09it/s]\n"
     ]
    },
    {
     "name": "stdout",
     "output_type": "stream",
     "text": [
      "false positive (FP): 451, false negative (FN): 28, Precision: 88.100%, Recall: 99.168%, F1-measure: 93.307%\n",
      "actual positive (TP+FN): 3367, actual negative (FP+TN): 110673\n",
      "accuracy: 99.580\n",
      "Finished Predicting\n",
      "elapsed_time: 158.97426557540894\n",
      "Client  4\n",
      "Number of sessions(hdfs_test_normal): 5623\n",
      "Number of sessions(hdfs_test_abnormal): 1121\n"
     ]
    },
    {
     "name": "stderr",
     "output_type": "stream",
     "text": [
      "100%|██████████| 5623/5623 [01:54<00:00, 49.06it/s]\n",
      "100%|██████████| 1121/1121 [00:07<00:00, 145.41it/s]\n"
     ]
    },
    {
     "name": "stdout",
     "output_type": "stream",
     "text": [
      "false positive (FP): 525, false negative (FN): 32, Precision: 86.399%, Recall: 99.050%, F1-measure: 92.293%\n",
      "actual positive (TP+FN): 3367, actual negative (FP+TN): 110673\n",
      "accuracy: 99.512\n",
      "Finished Predicting\n",
      "elapsed_time: 122.31907749176025\n",
      "============ Train epoch 21 ============\n",
      "Client  0\n",
      "File ../data/hdfs/hdfs_train, number of sessions 971\n",
      "File ../data/hdfs/hdfs_train, number of seqs 9420\n",
      "sampling...\n"
     ]
    },
    {
     "name": "stderr",
     "output_type": "stream",
     "text": [
      "100%|██████████| 1058/1058 [00:00<00:00, 3471.26it/s]\n"
     ]
    },
    {
     "name": "stdout",
     "output_type": "stream",
     "text": [
      "File ../data/hdfs/hdfs_test_normal, number of sessions 110673\n",
      "File ../data/hdfs/hdfs_test_normal, number of seqs 1058\n",
      "Find 9420 train logs, 1058 validation logs\n",
      "Train batch size 2048 ,Validation batch size 2048\n",
      "Starting epoch: 0 | phase: train | ⏰: 15:38:04 | Learning rate: 0.000313\n"
     ]
    },
    {
     "name": "stderr",
     "output_type": "stream",
     "text": [
      "Train loss: 1.72471: 100%|██████████| 5/5 [00:00<00:00, 54.36it/s]\n"
     ]
    },
    {
     "name": "stdout",
     "output_type": "stream",
     "text": [
      "Starting epoch: 0 | phase: valid | ⏰: 15:38:04 \n"
     ]
    },
    {
     "name": "stderr",
     "output_type": "stream",
     "text": [
      ": 100%|██████████| 1/1 [00:00<00:00, 105.87it/s]\n"
     ]
    },
    {
     "name": "stdout",
     "output_type": "stream",
     "text": [
      "Validation loss: 1.7099701166152954\n",
      "Client  1\n",
      "File ../data/hdfs/hdfs_train, number of sessions 971\n",
      "File ../data/hdfs/hdfs_train, number of seqs 9080\n",
      "sampling...\n"
     ]
    },
    {
     "name": "stderr",
     "output_type": "stream",
     "text": [
      "100%|██████████| 1046/1046 [00:00<00:00, 3583.74it/s]\n"
     ]
    },
    {
     "name": "stdout",
     "output_type": "stream",
     "text": [
      "File ../data/hdfs/hdfs_test_normal, number of sessions 110673\n",
      "File ../data/hdfs/hdfs_test_normal, number of seqs 1046\n",
      "Find 9080 train logs, 1046 validation logs\n",
      "Train batch size 2048 ,Validation batch size 2048\n",
      "Starting epoch: 0 | phase: train | ⏰: 15:38:15 | Learning rate: 0.000313\n"
     ]
    },
    {
     "name": "stderr",
     "output_type": "stream",
     "text": [
      "Train loss: 1.74025: 100%|██████████| 5/5 [00:00<00:00, 55.94it/s]\n"
     ]
    },
    {
     "name": "stdout",
     "output_type": "stream",
     "text": [
      "Starting epoch: 0 | phase: valid | ⏰: 15:38:15 \n"
     ]
    },
    {
     "name": "stderr",
     "output_type": "stream",
     "text": [
      ": 100%|██████████| 1/1 [00:00<00:00, 102.29it/s]\n"
     ]
    },
    {
     "name": "stdout",
     "output_type": "stream",
     "text": [
      "Validation loss: 1.7037705183029175\n",
      "Client  2\n",
      "File ../data/hdfs/hdfs_train, number of sessions 971\n",
      "File ../data/hdfs/hdfs_train, number of seqs 9485\n",
      "sampling...\n"
     ]
    },
    {
     "name": "stderr",
     "output_type": "stream",
     "text": [
      "100%|██████████| 1051/1051 [00:00<00:00, 3409.29it/s]\n"
     ]
    },
    {
     "name": "stdout",
     "output_type": "stream",
     "text": [
      "File ../data/hdfs/hdfs_test_normal, number of sessions 110673\n",
      "File ../data/hdfs/hdfs_test_normal, number of seqs 1051\n",
      "Find 9485 train logs, 1051 validation logs\n",
      "Train batch size 2048 ,Validation batch size 2048\n",
      "Starting epoch: 0 | phase: train | ⏰: 15:38:27 | Learning rate: 0.000313\n"
     ]
    },
    {
     "name": "stderr",
     "output_type": "stream",
     "text": [
      "Train loss: 1.74540: 100%|██████████| 5/5 [00:00<00:00, 52.88it/s]\n"
     ]
    },
    {
     "name": "stdout",
     "output_type": "stream",
     "text": [
      "Starting epoch: 0 | phase: valid | ⏰: 15:38:27 \n"
     ]
    },
    {
     "name": "stderr",
     "output_type": "stream",
     "text": [
      ": 100%|██████████| 1/1 [00:00<00:00, 67.59it/s]\n"
     ]
    },
    {
     "name": "stdout",
     "output_type": "stream",
     "text": [
      "Validation loss: 1.7136616706848145\n",
      "Client  3\n",
      "File ../data/hdfs/hdfs_train, number of sessions 971\n",
      "File ../data/hdfs/hdfs_train, number of seqs 9267\n",
      "sampling...\n"
     ]
    },
    {
     "name": "stderr",
     "output_type": "stream",
     "text": [
      "100%|██████████| 1057/1057 [00:00<00:00, 3404.68it/s]\n"
     ]
    },
    {
     "name": "stdout",
     "output_type": "stream",
     "text": [
      "File ../data/hdfs/hdfs_test_normal, number of sessions 110673\n",
      "File ../data/hdfs/hdfs_test_normal, number of seqs 1057\n",
      "Find 9267 train logs, 1057 validation logs\n",
      "Train batch size 2048 ,Validation batch size 2048\n",
      "Starting epoch: 0 | phase: train | ⏰: 15:38:39 | Learning rate: 0.000313\n"
     ]
    },
    {
     "name": "stderr",
     "output_type": "stream",
     "text": [
      "Train loss: 1.72832: 100%|██████████| 5/5 [00:00<00:00, 52.75it/s]\n"
     ]
    },
    {
     "name": "stdout",
     "output_type": "stream",
     "text": [
      "Starting epoch: 0 | phase: valid | ⏰: 15:38:39 \n"
     ]
    },
    {
     "name": "stderr",
     "output_type": "stream",
     "text": [
      ": 100%|██████████| 1/1 [00:00<00:00, 54.15it/s]\n"
     ]
    },
    {
     "name": "stdout",
     "output_type": "stream",
     "text": [
      "Validation loss: 1.7474958896636963\n",
      "Client  4\n",
      "File ../data/hdfs/hdfs_train, number of sessions 971\n",
      "File ../data/hdfs/hdfs_train, number of seqs 9323\n",
      "sampling...\n"
     ]
    },
    {
     "name": "stderr",
     "output_type": "stream",
     "text": [
      "100%|██████████| 1044/1044 [00:00<00:00, 3621.10it/s]\n"
     ]
    },
    {
     "name": "stdout",
     "output_type": "stream",
     "text": [
      "File ../data/hdfs/hdfs_test_normal, number of sessions 110673\n",
      "File ../data/hdfs/hdfs_test_normal, number of seqs 1044\n",
      "Find 9323 train logs, 1044 validation logs\n",
      "Train batch size 2048 ,Validation batch size 2048\n",
      "Starting epoch: 0 | phase: train | ⏰: 15:38:51 | Learning rate: 0.000313\n"
     ]
    },
    {
     "name": "stderr",
     "output_type": "stream",
     "text": [
      "Train loss: 1.73047: 100%|██████████| 5/5 [00:00<00:00, 52.26it/s]\n"
     ]
    },
    {
     "name": "stdout",
     "output_type": "stream",
     "text": [
      "Starting epoch: 0 | phase: valid | ⏰: 15:38:51 \n"
     ]
    },
    {
     "name": "stderr",
     "output_type": "stream",
     "text": [
      ": 100%|██████████| 1/1 [00:00<00:00, 93.76it/s]\n"
     ]
    },
    {
     "name": "stdout",
     "output_type": "stream",
     "text": [
      "Validation loss: 1.6800473928451538\n",
      "============ Test epoch 21 ============\n",
      "Client  0\n",
      "Number of sessions(hdfs_test_normal): 5813\n",
      "Number of sessions(hdfs_test_abnormal): 1136\n"
     ]
    },
    {
     "name": "stderr",
     "output_type": "stream",
     "text": [
      "100%|██████████| 5813/5813 [02:24<00:00, 40.23it/s]\n",
      "100%|██████████| 1136/1136 [00:14<00:00, 77.32it/s]\n"
     ]
    },
    {
     "name": "stdout",
     "output_type": "stream",
     "text": [
      "false positive (FP): 490, false negative (FN): 24, Precision: 87.216%, Recall: 99.287%, F1-measure: 92.861%\n",
      "actual positive (TP+FN): 3367, actual negative (FP+TN): 110673\n",
      "accuracy: 99.549\n",
      "Finished Predicting\n",
      "elapsed_time: 159.18974995613098\n",
      "Client  1\n",
      "Number of sessions(hdfs_test_normal): 5574\n",
      "Number of sessions(hdfs_test_abnormal): 1139\n"
     ]
    },
    {
     "name": "stderr",
     "output_type": "stream",
     "text": [
      "100%|██████████| 5574/5574 [02:08<00:00, 43.35it/s]\n",
      "100%|██████████| 1139/1139 [00:07<00:00, 142.67it/s]\n"
     ]
    },
    {
     "name": "stdout",
     "output_type": "stream",
     "text": [
      "false positive (FP): 528, false negative (FN): 26, Precision: 86.353%, Recall: 99.228%, F1-measure: 92.344%\n",
      "actual positive (TP+FN): 3367, actual negative (FP+TN): 110673\n",
      "accuracy: 99.514\n",
      "Finished Predicting\n",
      "elapsed_time: 136.57145738601685\n",
      "Client  2\n",
      "Number of sessions(hdfs_test_normal): 5730\n",
      "Number of sessions(hdfs_test_abnormal): 1118\n"
     ]
    },
    {
     "name": "stderr",
     "output_type": "stream",
     "text": [
      "100%|██████████| 5730/5730 [01:43<00:00, 55.45it/s]\n",
      "100%|██████████| 1118/1118 [00:14<00:00, 75.95it/s]\n"
     ]
    },
    {
     "name": "stdout",
     "output_type": "stream",
     "text": [
      "false positive (FP): 468, false negative (FN): 30, Precision: 87.700%, Recall: 99.109%, F1-measure: 93.056%\n",
      "actual positive (TP+FN): 3367, actual negative (FP+TN): 110673\n",
      "accuracy: 99.563\n",
      "Finished Predicting\n",
      "elapsed_time: 118.05622243881226\n",
      "Client  3\n",
      "Number of sessions(hdfs_test_normal): 5747\n",
      "Number of sessions(hdfs_test_abnormal): 1159\n"
     ]
    },
    {
     "name": "stderr",
     "output_type": "stream",
     "text": [
      "100%|██████████| 5747/5747 [02:23<00:00, 40.07it/s]\n",
      "100%|██████████| 1159/1159 [00:16<00:00, 72.15it/s]\n"
     ]
    },
    {
     "name": "stdout",
     "output_type": "stream",
     "text": [
      "false positive (FP): 451, false negative (FN): 28, Precision: 88.100%, Recall: 99.168%, F1-measure: 93.307%\n",
      "actual positive (TP+FN): 3367, actual negative (FP+TN): 110673\n",
      "accuracy: 99.580\n",
      "Finished Predicting\n",
      "elapsed_time: 159.47498178482056\n",
      "Client  4\n",
      "Number of sessions(hdfs_test_normal): 5623\n",
      "Number of sessions(hdfs_test_abnormal): 1121\n"
     ]
    },
    {
     "name": "stderr",
     "output_type": "stream",
     "text": [
      "100%|██████████| 5623/5623 [02:17<00:00, 40.94it/s]\n",
      "100%|██████████| 1121/1121 [00:15<00:00, 73.91it/s]\n"
     ]
    },
    {
     "name": "stdout",
     "output_type": "stream",
     "text": [
      "false positive (FP): 525, false negative (FN): 32, Precision: 86.399%, Recall: 99.050%, F1-measure: 92.293%\n",
      "actual positive (TP+FN): 3367, actual negative (FP+TN): 110673\n",
      "accuracy: 99.512\n",
      "Finished Predicting\n",
      "elapsed_time: 152.50046038627625\n",
      "============ Train epoch 22 ============\n",
      "Client  0\n",
      "File ../data/hdfs/hdfs_train, number of sessions 971\n",
      "File ../data/hdfs/hdfs_train, number of seqs 9420\n",
      "sampling...\n"
     ]
    },
    {
     "name": "stderr",
     "output_type": "stream",
     "text": [
      "100%|██████████| 1058/1058 [00:00<00:00, 3384.06it/s]\n"
     ]
    },
    {
     "name": "stdout",
     "output_type": "stream",
     "text": [
      "File ../data/hdfs/hdfs_test_normal, number of sessions 110673\n",
      "File ../data/hdfs/hdfs_test_normal, number of seqs 1058\n",
      "Find 9420 train logs, 1058 validation logs\n",
      "Train batch size 2048 ,Validation batch size 2048\n",
      "Starting epoch: 0 | phase: train | ⏰: 15:51:12 | Learning rate: 0.000313\n"
     ]
    },
    {
     "name": "stderr",
     "output_type": "stream",
     "text": [
      "Train loss: 1.70015: 100%|██████████| 5/5 [00:00<00:00, 52.40it/s]\n"
     ]
    },
    {
     "name": "stdout",
     "output_type": "stream",
     "text": [
      "Starting epoch: 0 | phase: valid | ⏰: 15:51:12 \n"
     ]
    },
    {
     "name": "stderr",
     "output_type": "stream",
     "text": [
      ": 100%|██████████| 1/1 [00:00<00:00, 92.81it/s]\n"
     ]
    },
    {
     "name": "stdout",
     "output_type": "stream",
     "text": [
      "Validation loss: 1.7019927501678467\n",
      "Client  1\n",
      "File ../data/hdfs/hdfs_train, number of sessions 971\n",
      "File ../data/hdfs/hdfs_train, number of seqs 9080\n",
      "sampling...\n"
     ]
    },
    {
     "name": "stderr",
     "output_type": "stream",
     "text": [
      "100%|██████████| 1046/1046 [00:00<00:00, 3510.52it/s]\n"
     ]
    },
    {
     "name": "stdout",
     "output_type": "stream",
     "text": [
      "File ../data/hdfs/hdfs_test_normal, number of sessions 110673\n",
      "File ../data/hdfs/hdfs_test_normal, number of seqs 1046\n",
      "Find 9080 train logs, 1046 validation logs\n",
      "Train batch size 2048 ,Validation batch size 2048\n",
      "Starting epoch: 0 | phase: train | ⏰: 15:51:24 | Learning rate: 0.000313\n"
     ]
    },
    {
     "name": "stderr",
     "output_type": "stream",
     "text": [
      "Train loss: 1.71905: 100%|██████████| 5/5 [00:00<00:00, 51.88it/s]\n"
     ]
    },
    {
     "name": "stdout",
     "output_type": "stream",
     "text": [
      "Starting epoch: 0 | phase: valid | ⏰: 15:51:24 \n"
     ]
    },
    {
     "name": "stderr",
     "output_type": "stream",
     "text": [
      ": 100%|██████████| 1/1 [00:00<00:00, 70.51it/s]\n"
     ]
    },
    {
     "name": "stdout",
     "output_type": "stream",
     "text": [
      "Validation loss: 1.68228280544281\n",
      "Client  2\n",
      "File ../data/hdfs/hdfs_train, number of sessions 971\n",
      "File ../data/hdfs/hdfs_train, number of seqs 9485\n",
      "sampling...\n"
     ]
    },
    {
     "name": "stderr",
     "output_type": "stream",
     "text": [
      "100%|██████████| 1051/1051 [00:00<00:00, 3510.68it/s]\n"
     ]
    },
    {
     "name": "stdout",
     "output_type": "stream",
     "text": [
      "File ../data/hdfs/hdfs_test_normal, number of sessions 110673\n",
      "File ../data/hdfs/hdfs_test_normal, number of seqs 1051\n",
      "Find 9485 train logs, 1051 validation logs\n",
      "Train batch size 2048 ,Validation batch size 2048\n",
      "Starting epoch: 0 | phase: train | ⏰: 15:51:36 | Learning rate: 0.000313\n"
     ]
    },
    {
     "name": "stderr",
     "output_type": "stream",
     "text": [
      "Train loss: 1.71992: 100%|██████████| 5/5 [00:00<00:00, 52.88it/s]\n"
     ]
    },
    {
     "name": "stdout",
     "output_type": "stream",
     "text": [
      "Starting epoch: 0 | phase: valid | ⏰: 15:51:36 \n"
     ]
    },
    {
     "name": "stderr",
     "output_type": "stream",
     "text": [
      ": 100%|██████████| 1/1 [00:00<00:00, 88.80it/s]\n"
     ]
    },
    {
     "name": "stdout",
     "output_type": "stream",
     "text": [
      "Validation loss: 1.6847355365753174\n",
      "Client  3\n",
      "File ../data/hdfs/hdfs_train, number of sessions 971\n",
      "File ../data/hdfs/hdfs_train, number of seqs 9267\n",
      "sampling...\n"
     ]
    },
    {
     "name": "stderr",
     "output_type": "stream",
     "text": [
      "100%|██████████| 1057/1057 [00:00<00:00, 3420.92it/s]\n"
     ]
    },
    {
     "name": "stdout",
     "output_type": "stream",
     "text": [
      "File ../data/hdfs/hdfs_test_normal, number of sessions 110673\n",
      "File ../data/hdfs/hdfs_test_normal, number of seqs 1057\n",
      "Find 9267 train logs, 1057 validation logs\n",
      "Train batch size 2048 ,Validation batch size 2048\n",
      "Starting epoch: 0 | phase: train | ⏰: 15:51:48 | Learning rate: 0.000313\n"
     ]
    },
    {
     "name": "stderr",
     "output_type": "stream",
     "text": [
      "Train loss: 1.70018: 100%|██████████| 5/5 [00:00<00:00, 55.28it/s]\n"
     ]
    },
    {
     "name": "stdout",
     "output_type": "stream",
     "text": [
      "Starting epoch: 0 | phase: valid | ⏰: 15:51:48 \n"
     ]
    },
    {
     "name": "stderr",
     "output_type": "stream",
     "text": [
      ": 100%|██████████| 1/1 [00:00<00:00, 99.61it/s]\n"
     ]
    },
    {
     "name": "stdout",
     "output_type": "stream",
     "text": [
      "Validation loss: 1.6426639556884766\n",
      "Client  4\n",
      "File ../data/hdfs/hdfs_train, number of sessions 971\n",
      "File ../data/hdfs/hdfs_train, number of seqs 9323\n",
      "sampling...\n"
     ]
    },
    {
     "name": "stderr",
     "output_type": "stream",
     "text": [
      "100%|██████████| 1044/1044 [00:00<00:00, 3464.43it/s]\n"
     ]
    },
    {
     "name": "stdout",
     "output_type": "stream",
     "text": [
      "File ../data/hdfs/hdfs_test_normal, number of sessions 110673\n",
      "File ../data/hdfs/hdfs_test_normal, number of seqs 1044\n",
      "Find 9323 train logs, 1044 validation logs\n",
      "Train batch size 2048 ,Validation batch size 2048\n",
      "Starting epoch: 0 | phase: train | ⏰: 15:52:00 | Learning rate: 0.000313\n"
     ]
    },
    {
     "name": "stderr",
     "output_type": "stream",
     "text": [
      "Train loss: 1.70706: 100%|██████████| 5/5 [00:00<00:00, 53.90it/s]\n"
     ]
    },
    {
     "name": "stdout",
     "output_type": "stream",
     "text": [
      "Starting epoch: 0 | phase: valid | ⏰: 15:52:00 \n"
     ]
    },
    {
     "name": "stderr",
     "output_type": "stream",
     "text": [
      ": 100%|██████████| 1/1 [00:00<00:00, 86.66it/s]\n"
     ]
    },
    {
     "name": "stdout",
     "output_type": "stream",
     "text": [
      "Validation loss: 1.6434870958328247\n",
      "============ Test epoch 22 ============\n",
      "Client  0\n",
      "Number of sessions(hdfs_test_normal): 5813\n",
      "Number of sessions(hdfs_test_abnormal): 1136\n"
     ]
    },
    {
     "name": "stderr",
     "output_type": "stream",
     "text": [
      "100%|██████████| 5813/5813 [02:23<00:00, 40.43it/s]\n",
      "100%|██████████| 1136/1136 [00:14<00:00, 77.03it/s]\n"
     ]
    },
    {
     "name": "stdout",
     "output_type": "stream",
     "text": [
      "false positive (FP): 490, false negative (FN): 24, Precision: 87.216%, Recall: 99.287%, F1-measure: 92.861%\n",
      "actual positive (TP+FN): 3367, actual negative (FP+TN): 110673\n",
      "accuracy: 99.549\n",
      "Finished Predicting\n",
      "elapsed_time: 158.51669788360596\n",
      "Client  1\n",
      "Number of sessions(hdfs_test_normal): 5574\n",
      "Number of sessions(hdfs_test_abnormal): 1139\n"
     ]
    },
    {
     "name": "stderr",
     "output_type": "stream",
     "text": [
      "100%|██████████| 5574/5574 [02:16<00:00, 40.75it/s]\n",
      "100%|██████████| 1139/1139 [00:14<00:00, 76.36it/s] \n"
     ]
    },
    {
     "name": "stdout",
     "output_type": "stream",
     "text": [
      "false positive (FP): 528, false negative (FN): 26, Precision: 86.353%, Recall: 99.228%, F1-measure: 92.344%\n",
      "actual positive (TP+FN): 3367, actual negative (FP+TN): 110673\n",
      "accuracy: 99.514\n",
      "Finished Predicting\n",
      "elapsed_time: 151.7016887664795\n",
      "Client  2\n",
      "Number of sessions(hdfs_test_normal): 5730\n",
      "Number of sessions(hdfs_test_abnormal): 1118\n"
     ]
    },
    {
     "name": "stderr",
     "output_type": "stream",
     "text": [
      "100%|██████████| 5730/5730 [01:26<00:00, 65.86it/s]\n",
      "100%|██████████| 1118/1118 [00:15<00:00, 73.12it/s]\n"
     ]
    },
    {
     "name": "stdout",
     "output_type": "stream",
     "text": [
      "false positive (FP): 468, false negative (FN): 30, Precision: 87.700%, Recall: 99.109%, F1-measure: 93.056%\n",
      "actual positive (TP+FN): 3367, actual negative (FP+TN): 110673\n",
      "accuracy: 99.563\n",
      "Finished Predicting\n",
      "elapsed_time: 102.29138565063477\n",
      "Client  3\n",
      "Number of sessions(hdfs_test_normal): 5747\n",
      "Number of sessions(hdfs_test_abnormal): 1159\n"
     ]
    },
    {
     "name": "stderr",
     "output_type": "stream",
     "text": [
      "100%|██████████| 5747/5747 [02:22<00:00, 40.20it/s]\n",
      "100%|██████████| 1159/1159 [00:16<00:00, 72.35it/s]\n"
     ]
    },
    {
     "name": "stdout",
     "output_type": "stream",
     "text": [
      "false positive (FP): 451, false negative (FN): 28, Precision: 88.100%, Recall: 99.168%, F1-measure: 93.307%\n",
      "actual positive (TP+FN): 3367, actual negative (FP+TN): 110673\n",
      "accuracy: 99.580\n",
      "Finished Predicting\n",
      "elapsed_time: 158.9701898097992\n",
      "Client  4\n",
      "Number of sessions(hdfs_test_normal): 5623\n",
      "Number of sessions(hdfs_test_abnormal): 1121\n"
     ]
    },
    {
     "name": "stderr",
     "output_type": "stream",
     "text": [
      "100%|██████████| 5623/5623 [02:08<00:00, 43.67it/s]\n",
      "100%|██████████| 1121/1121 [00:07<00:00, 144.48it/s]\n"
     ]
    },
    {
     "name": "stdout",
     "output_type": "stream",
     "text": [
      "false positive (FP): 525, false negative (FN): 32, Precision: 86.399%, Recall: 99.050%, F1-measure: 92.293%\n",
      "actual positive (TP+FN): 3367, actual negative (FP+TN): 110673\n",
      "accuracy: 99.512\n",
      "Finished Predicting\n",
      "elapsed_time: 136.5293185710907\n",
      "============ Train epoch 23 ============\n",
      "Client  0\n",
      "File ../data/hdfs/hdfs_train, number of sessions 971\n",
      "File ../data/hdfs/hdfs_train, number of seqs 9420\n",
      "sampling...\n"
     ]
    },
    {
     "name": "stderr",
     "output_type": "stream",
     "text": [
      "100%|██████████| 1058/1058 [00:00<00:00, 3567.80it/s]\n"
     ]
    },
    {
     "name": "stdout",
     "output_type": "stream",
     "text": [
      "File ../data/hdfs/hdfs_test_normal, number of sessions 110673\n",
      "File ../data/hdfs/hdfs_test_normal, number of seqs 1058\n",
      "Find 9420 train logs, 1058 validation logs\n",
      "Train batch size 2048 ,Validation batch size 2048\n",
      "Starting epoch: 0 | phase: train | ⏰: 16:04:03 | Learning rate: 0.000313\n"
     ]
    },
    {
     "name": "stderr",
     "output_type": "stream",
     "text": [
      "Train loss: 1.67305: 100%|██████████| 5/5 [00:00<00:00, 53.46it/s]\n"
     ]
    },
    {
     "name": "stdout",
     "output_type": "stream",
     "text": [
      "Starting epoch: 0 | phase: valid | ⏰: 16:04:03 \n"
     ]
    },
    {
     "name": "stderr",
     "output_type": "stream",
     "text": [
      ": 100%|██████████| 1/1 [00:00<00:00, 95.61it/s]\n"
     ]
    },
    {
     "name": "stdout",
     "output_type": "stream",
     "text": [
      "Validation loss: 1.6752536296844482\n",
      "Client  1\n",
      "File ../data/hdfs/hdfs_train, number of sessions 971\n",
      "File ../data/hdfs/hdfs_train, number of seqs 9080\n",
      "sampling...\n"
     ]
    },
    {
     "name": "stderr",
     "output_type": "stream",
     "text": [
      "100%|██████████| 1046/1046 [00:00<00:00, 3606.12it/s]\n"
     ]
    },
    {
     "name": "stdout",
     "output_type": "stream",
     "text": [
      "File ../data/hdfs/hdfs_test_normal, number of sessions 110673\n",
      "File ../data/hdfs/hdfs_test_normal, number of seqs 1046\n",
      "Find 9080 train logs, 1046 validation logs\n",
      "Train batch size 2048 ,Validation batch size 2048\n",
      "Starting epoch: 0 | phase: train | ⏰: 16:04:15 | Learning rate: 0.000313\n"
     ]
    },
    {
     "name": "stderr",
     "output_type": "stream",
     "text": [
      "Train loss: 1.68910: 100%|██████████| 5/5 [00:00<00:00, 56.44it/s]\n"
     ]
    },
    {
     "name": "stdout",
     "output_type": "stream",
     "text": [
      "Starting epoch: 0 | phase: valid | ⏰: 16:04:15 \n"
     ]
    },
    {
     "name": "stderr",
     "output_type": "stream",
     "text": [
      ": 100%|██████████| 1/1 [00:00<00:00, 103.44it/s]\n"
     ]
    },
    {
     "name": "stdout",
     "output_type": "stream",
     "text": [
      "Validation loss: 1.6644508838653564\n",
      "Client  2\n",
      "File ../data/hdfs/hdfs_train, number of sessions 971\n",
      "File ../data/hdfs/hdfs_train, number of seqs 9485\n",
      "sampling...\n"
     ]
    },
    {
     "name": "stderr",
     "output_type": "stream",
     "text": [
      "100%|██████████| 1051/1051 [00:00<00:00, 3183.34it/s]\n"
     ]
    },
    {
     "name": "stdout",
     "output_type": "stream",
     "text": [
      "File ../data/hdfs/hdfs_test_normal, number of sessions 110673\n",
      "File ../data/hdfs/hdfs_test_normal, number of seqs 1051\n",
      "Find 9485 train logs, 1051 validation logs\n",
      "Train batch size 2048 ,Validation batch size 2048\n",
      "Starting epoch: 0 | phase: train | ⏰: 16:04:27 | Learning rate: 0.000313\n"
     ]
    },
    {
     "name": "stderr",
     "output_type": "stream",
     "text": [
      "Train loss: 1.69027: 100%|██████████| 5/5 [00:00<00:00, 53.44it/s]\n"
     ]
    },
    {
     "name": "stdout",
     "output_type": "stream",
     "text": [
      "Starting epoch: 0 | phase: valid | ⏰: 16:04:27 \n"
     ]
    },
    {
     "name": "stderr",
     "output_type": "stream",
     "text": [
      ": 100%|██████████| 1/1 [00:00<00:00, 100.23it/s]\n"
     ]
    },
    {
     "name": "stdout",
     "output_type": "stream",
     "text": [
      "Validation loss: 1.669162392616272\n",
      "Client  3\n",
      "File ../data/hdfs/hdfs_train, number of sessions 971\n",
      "File ../data/hdfs/hdfs_train, number of seqs 9267\n",
      "sampling...\n"
     ]
    },
    {
     "name": "stderr",
     "output_type": "stream",
     "text": [
      "100%|██████████| 1057/1057 [00:00<00:00, 3526.40it/s]\n"
     ]
    },
    {
     "name": "stdout",
     "output_type": "stream",
     "text": [
      "File ../data/hdfs/hdfs_test_normal, number of sessions 110673\n",
      "File ../data/hdfs/hdfs_test_normal, number of seqs 1057\n",
      "Find 9267 train logs, 1057 validation logs\n",
      "Train batch size 2048 ,Validation batch size 2048\n",
      "Starting epoch: 0 | phase: train | ⏰: 16:04:39 | Learning rate: 0.000313\n"
     ]
    },
    {
     "name": "stderr",
     "output_type": "stream",
     "text": [
      "Train loss: 1.67258: 100%|██████████| 5/5 [00:00<00:00, 55.72it/s]\n"
     ]
    },
    {
     "name": "stdout",
     "output_type": "stream",
     "text": [
      "Starting epoch: 0 | phase: valid | ⏰: 16:04:39 \n"
     ]
    },
    {
     "name": "stderr",
     "output_type": "stream",
     "text": [
      ": 100%|██████████| 1/1 [00:00<00:00, 97.11it/s]\n"
     ]
    },
    {
     "name": "stdout",
     "output_type": "stream",
     "text": [
      "Validation loss: 1.6541768312454224\n",
      "Client  4\n",
      "File ../data/hdfs/hdfs_train, number of sessions 971\n",
      "File ../data/hdfs/hdfs_train, number of seqs 9323\n",
      "sampling...\n"
     ]
    },
    {
     "name": "stderr",
     "output_type": "stream",
     "text": [
      "100%|██████████| 1044/1044 [00:00<00:00, 3492.83it/s]\n"
     ]
    },
    {
     "name": "stdout",
     "output_type": "stream",
     "text": [
      "File ../data/hdfs/hdfs_test_normal, number of sessions 110673\n",
      "File ../data/hdfs/hdfs_test_normal, number of seqs 1044\n",
      "Find 9323 train logs, 1044 validation logs\n",
      "Train batch size 2048 ,Validation batch size 2048\n",
      "Starting epoch: 0 | phase: train | ⏰: 16:04:51 | Learning rate: 0.000313\n"
     ]
    },
    {
     "name": "stderr",
     "output_type": "stream",
     "text": [
      "Train loss: 1.67455: 100%|██████████| 5/5 [00:00<00:00, 56.00it/s]\n"
     ]
    },
    {
     "name": "stdout",
     "output_type": "stream",
     "text": [
      "Starting epoch: 0 | phase: valid | ⏰: 16:04:51 \n"
     ]
    },
    {
     "name": "stderr",
     "output_type": "stream",
     "text": [
      ": 100%|██████████| 1/1 [00:00<00:00, 102.24it/s]\n"
     ]
    },
    {
     "name": "stdout",
     "output_type": "stream",
     "text": [
      "Validation loss: 1.6230658292770386\n",
      "============ Test epoch 23 ============\n",
      "Client  0\n",
      "Number of sessions(hdfs_test_normal): 5813\n",
      "Number of sessions(hdfs_test_abnormal): 1136\n"
     ]
    },
    {
     "name": "stderr",
     "output_type": "stream",
     "text": [
      "100%|██████████| 5813/5813 [02:25<00:00, 40.05it/s]\n",
      "100%|██████████| 1136/1136 [00:14<00:00, 77.05it/s]\n"
     ]
    },
    {
     "name": "stdout",
     "output_type": "stream",
     "text": [
      "false positive (FP): 490, false negative (FN): 24, Precision: 87.216%, Recall: 99.287%, F1-measure: 92.861%\n",
      "actual positive (TP+FN): 3367, actual negative (FP+TN): 110673\n",
      "accuracy: 99.549\n",
      "Finished Predicting\n",
      "elapsed_time: 159.89189529418945\n",
      "Client  1\n",
      "Number of sessions(hdfs_test_normal): 5574\n",
      "Number of sessions(hdfs_test_abnormal): 1139\n"
     ]
    },
    {
     "name": "stderr",
     "output_type": "stream",
     "text": [
      "100%|██████████| 5574/5574 [02:15<00:00, 40.99it/s]\n",
      "100%|██████████| 1139/1139 [00:15<00:00, 73.93it/s]\n"
     ]
    },
    {
     "name": "stdout",
     "output_type": "stream",
     "text": [
      "false positive (FP): 528, false negative (FN): 26, Precision: 86.353%, Recall: 99.228%, F1-measure: 92.344%\n",
      "actual positive (TP+FN): 3367, actual negative (FP+TN): 110673\n",
      "accuracy: 99.514\n",
      "Finished Predicting\n",
      "elapsed_time: 151.40728068351746\n",
      "Client  2\n",
      "Number of sessions(hdfs_test_normal): 5730\n",
      "Number of sessions(hdfs_test_abnormal): 1118\n"
     ]
    },
    {
     "name": "stderr",
     "output_type": "stream",
     "text": [
      "100%|██████████| 5730/5730 [02:22<00:00, 40.16it/s]\n",
      "100%|██████████| 1118/1118 [00:15<00:00, 73.42it/s]\n"
     ]
    },
    {
     "name": "stdout",
     "output_type": "stream",
     "text": [
      "false positive (FP): 468, false negative (FN): 30, Precision: 87.700%, Recall: 99.109%, F1-measure: 93.056%\n",
      "actual positive (TP+FN): 3367, actual negative (FP+TN): 110673\n",
      "accuracy: 99.563\n",
      "Finished Predicting\n",
      "elapsed_time: 157.91789054870605\n",
      "Client  3\n",
      "Number of sessions(hdfs_test_normal): 5747\n",
      "Number of sessions(hdfs_test_abnormal): 1159\n"
     ]
    },
    {
     "name": "stderr",
     "output_type": "stream",
     "text": [
      "100%|██████████| 5747/5747 [02:23<00:00, 40.19it/s]\n",
      "100%|██████████| 1159/1159 [00:16<00:00, 72.00it/s]\n"
     ]
    },
    {
     "name": "stdout",
     "output_type": "stream",
     "text": [
      "false positive (FP): 451, false negative (FN): 28, Precision: 88.100%, Recall: 99.168%, F1-measure: 93.307%\n",
      "actual positive (TP+FN): 3367, actual negative (FP+TN): 110673\n",
      "accuracy: 99.580\n",
      "Finished Predicting\n",
      "elapsed_time: 159.10090160369873\n",
      "Client  4\n",
      "Number of sessions(hdfs_test_normal): 5623\n",
      "Number of sessions(hdfs_test_abnormal): 1121\n"
     ]
    },
    {
     "name": "stderr",
     "output_type": "stream",
     "text": [
      "100%|██████████| 5623/5623 [01:51<00:00, 50.55it/s]\n",
      "100%|██████████| 1121/1121 [00:07<00:00, 143.73it/s]\n"
     ]
    },
    {
     "name": "stdout",
     "output_type": "stream",
     "text": [
      "false positive (FP): 525, false negative (FN): 32, Precision: 86.399%, Recall: 99.050%, F1-measure: 92.293%\n",
      "actual positive (TP+FN): 3367, actual negative (FP+TN): 110673\n",
      "accuracy: 99.512\n",
      "Finished Predicting\n",
      "elapsed_time: 119.03604650497437\n",
      "============ Train epoch 24 ============\n",
      "Client  0\n",
      "File ../data/hdfs/hdfs_train, number of sessions 971\n",
      "File ../data/hdfs/hdfs_train, number of seqs 9420\n",
      "sampling...\n"
     ]
    },
    {
     "name": "stderr",
     "output_type": "stream",
     "text": [
      "100%|██████████| 1058/1058 [00:00<00:00, 3029.06it/s]\n"
     ]
    },
    {
     "name": "stdout",
     "output_type": "stream",
     "text": [
      "File ../data/hdfs/hdfs_test_normal, number of sessions 110673\n",
      "File ../data/hdfs/hdfs_test_normal, number of seqs 1058\n",
      "Find 9420 train logs, 1058 validation logs\n",
      "Train batch size 2048 ,Validation batch size 2048\n",
      "Starting epoch: 0 | phase: train | ⏰: 16:17:33 | Learning rate: 0.000313\n"
     ]
    },
    {
     "name": "stderr",
     "output_type": "stream",
     "text": [
      "Train loss: 1.64306: 100%|██████████| 5/5 [00:00<00:00, 53.35it/s]\n"
     ]
    },
    {
     "name": "stdout",
     "output_type": "stream",
     "text": [
      "Starting epoch: 0 | phase: valid | ⏰: 16:17:33 \n"
     ]
    },
    {
     "name": "stderr",
     "output_type": "stream",
     "text": [
      ": 100%|██████████| 1/1 [00:00<00:00, 99.92it/s]\n"
     ]
    },
    {
     "name": "stdout",
     "output_type": "stream",
     "text": [
      "Validation loss: 1.5845706462860107\n",
      "Client  1\n",
      "File ../data/hdfs/hdfs_train, number of sessions 971\n",
      "File ../data/hdfs/hdfs_train, number of seqs 9080\n",
      "sampling...\n"
     ]
    },
    {
     "name": "stderr",
     "output_type": "stream",
     "text": [
      "100%|██████████| 1046/1046 [00:00<00:00, 3139.50it/s]\n"
     ]
    },
    {
     "name": "stdout",
     "output_type": "stream",
     "text": [
      "File ../data/hdfs/hdfs_test_normal, number of sessions 110673\n",
      "File ../data/hdfs/hdfs_test_normal, number of seqs 1046\n",
      "Find 9080 train logs, 1046 validation logs\n",
      "Train batch size 2048 ,Validation batch size 2048\n",
      "Starting epoch: 0 | phase: train | ⏰: 16:17:45 | Learning rate: 0.000313\n"
     ]
    },
    {
     "name": "stderr",
     "output_type": "stream",
     "text": [
      "Train loss: 1.66059: 100%|██████████| 5/5 [00:00<00:00, 53.97it/s]\n"
     ]
    },
    {
     "name": "stdout",
     "output_type": "stream",
     "text": [
      "Starting epoch: 0 | phase: valid | ⏰: 16:17:45 \n"
     ]
    },
    {
     "name": "stderr",
     "output_type": "stream",
     "text": [
      ": 100%|██████████| 1/1 [00:00<00:00, 99.03it/s]\n"
     ]
    },
    {
     "name": "stdout",
     "output_type": "stream",
     "text": [
      "Validation loss: 1.5925683975219727\n",
      "Client  2\n",
      "File ../data/hdfs/hdfs_train, number of sessions 971\n",
      "File ../data/hdfs/hdfs_train, number of seqs 9485\n",
      "sampling...\n"
     ]
    },
    {
     "name": "stderr",
     "output_type": "stream",
     "text": [
      "100%|██████████| 1051/1051 [00:00<00:00, 3524.78it/s]\n"
     ]
    },
    {
     "name": "stdout",
     "output_type": "stream",
     "text": [
      "File ../data/hdfs/hdfs_test_normal, number of sessions 110673\n",
      "File ../data/hdfs/hdfs_test_normal, number of seqs 1051\n",
      "Find 9485 train logs, 1051 validation logs\n",
      "Train batch size 2048 ,Validation batch size 2048\n",
      "Starting epoch: 0 | phase: train | ⏰: 16:17:57 | Learning rate: 0.000313\n"
     ]
    },
    {
     "name": "stderr",
     "output_type": "stream",
     "text": [
      "Train loss: 1.66354: 100%|██████████| 5/5 [00:00<00:00, 52.92it/s]\n"
     ]
    },
    {
     "name": "stdout",
     "output_type": "stream",
     "text": [
      "Starting epoch: 0 | phase: valid | ⏰: 16:17:57 \n"
     ]
    },
    {
     "name": "stderr",
     "output_type": "stream",
     "text": [
      ": 100%|██████████| 1/1 [00:00<00:00, 92.46it/s]\n"
     ]
    },
    {
     "name": "stdout",
     "output_type": "stream",
     "text": [
      "Validation loss: 1.6235543489456177\n",
      "Client  3\n",
      "File ../data/hdfs/hdfs_train, number of sessions 971\n",
      "File ../data/hdfs/hdfs_train, number of seqs 9267\n",
      "sampling...\n"
     ]
    },
    {
     "name": "stderr",
     "output_type": "stream",
     "text": [
      "100%|██████████| 1057/1057 [00:00<00:00, 3520.14it/s]\n"
     ]
    },
    {
     "name": "stdout",
     "output_type": "stream",
     "text": [
      "File ../data/hdfs/hdfs_test_normal, number of sessions 110673\n",
      "File ../data/hdfs/hdfs_test_normal, number of seqs 1057\n",
      "Find 9267 train logs, 1057 validation logs\n",
      "Train batch size 2048 ,Validation batch size 2048\n",
      "Starting epoch: 0 | phase: train | ⏰: 16:18:09 | Learning rate: 0.000313\n"
     ]
    },
    {
     "name": "stderr",
     "output_type": "stream",
     "text": [
      "Train loss: 1.64408: 100%|██████████| 5/5 [00:00<00:00, 54.14it/s]\n"
     ]
    },
    {
     "name": "stdout",
     "output_type": "stream",
     "text": [
      "Starting epoch: 0 | phase: valid | ⏰: 16:18:09 \n"
     ]
    },
    {
     "name": "stderr",
     "output_type": "stream",
     "text": [
      ": 100%|██████████| 1/1 [00:00<00:00, 100.85it/s]\n"
     ]
    },
    {
     "name": "stdout",
     "output_type": "stream",
     "text": [
      "Validation loss: 1.6226435899734497\n",
      "Client  4\n",
      "File ../data/hdfs/hdfs_train, number of sessions 971\n",
      "File ../data/hdfs/hdfs_train, number of seqs 9323\n",
      "sampling...\n"
     ]
    },
    {
     "name": "stderr",
     "output_type": "stream",
     "text": [
      "100%|██████████| 1044/1044 [00:00<00:00, 3430.88it/s]\n"
     ]
    },
    {
     "name": "stdout",
     "output_type": "stream",
     "text": [
      "File ../data/hdfs/hdfs_test_normal, number of sessions 110673\n",
      "File ../data/hdfs/hdfs_test_normal, number of seqs 1044\n",
      "Find 9323 train logs, 1044 validation logs\n",
      "Train batch size 2048 ,Validation batch size 2048\n",
      "Starting epoch: 0 | phase: train | ⏰: 16:18:21 | Learning rate: 0.000313\n"
     ]
    },
    {
     "name": "stderr",
     "output_type": "stream",
     "text": [
      "Train loss: 1.64838: 100%|██████████| 5/5 [00:00<00:00, 49.04it/s]\n"
     ]
    },
    {
     "name": "stdout",
     "output_type": "stream",
     "text": [
      "Starting epoch: 0 | phase: valid | ⏰: 16:18:21 \n"
     ]
    },
    {
     "name": "stderr",
     "output_type": "stream",
     "text": [
      ": 100%|██████████| 1/1 [00:00<00:00, 96.03it/s]\n"
     ]
    },
    {
     "name": "stdout",
     "output_type": "stream",
     "text": [
      "Validation loss: 1.6316044330596924\n",
      "============ Test epoch 24 ============\n",
      "Client  0\n",
      "Number of sessions(hdfs_test_normal): 5813\n",
      "Number of sessions(hdfs_test_abnormal): 1136\n"
     ]
    },
    {
     "name": "stderr",
     "output_type": "stream",
     "text": [
      "100%|██████████| 5813/5813 [02:24<00:00, 40.28it/s]\n",
      "100%|██████████| 1136/1136 [00:14<00:00, 77.12it/s]\n"
     ]
    },
    {
     "name": "stdout",
     "output_type": "stream",
     "text": [
      "false positive (FP): 490, false negative (FN): 24, Precision: 87.216%, Recall: 99.287%, F1-measure: 92.861%\n",
      "actual positive (TP+FN): 3367, actual negative (FP+TN): 110673\n",
      "accuracy: 99.549\n",
      "Finished Predicting\n",
      "elapsed_time: 159.0460982322693\n",
      "Client  1\n",
      "Number of sessions(hdfs_test_normal): 5574\n",
      "Number of sessions(hdfs_test_abnormal): 1139\n"
     ]
    },
    {
     "name": "stderr",
     "output_type": "stream",
     "text": [
      "100%|██████████| 5574/5574 [02:14<00:00, 41.33it/s]\n",
      "100%|██████████| 1139/1139 [00:07<00:00, 145.22it/s]\n"
     ]
    },
    {
     "name": "stdout",
     "output_type": "stream",
     "text": [
      "false positive (FP): 528, false negative (FN): 26, Precision: 86.353%, Recall: 99.228%, F1-measure: 92.344%\n",
      "actual positive (TP+FN): 3367, actual negative (FP+TN): 110673\n",
      "accuracy: 99.514\n",
      "Finished Predicting\n",
      "elapsed_time: 142.6991412639618\n",
      "Client  2\n",
      "Number of sessions(hdfs_test_normal): 5730\n",
      "Number of sessions(hdfs_test_abnormal): 1118\n"
     ]
    },
    {
     "name": "stderr",
     "output_type": "stream",
     "text": [
      "100%|██████████| 5730/5730 [01:35<00:00, 59.69it/s]\n",
      "100%|██████████| 1118/1118 [00:15<00:00, 73.29it/s]\n"
     ]
    },
    {
     "name": "stdout",
     "output_type": "stream",
     "text": [
      "false positive (FP): 468, false negative (FN): 30, Precision: 87.700%, Recall: 99.109%, F1-measure: 93.056%\n",
      "actual positive (TP+FN): 3367, actual negative (FP+TN): 110673\n",
      "accuracy: 99.563\n",
      "Finished Predicting\n",
      "elapsed_time: 111.24898743629456\n",
      "Client  3\n",
      "Number of sessions(hdfs_test_normal): 5747\n",
      "Number of sessions(hdfs_test_abnormal): 1159\n"
     ]
    },
    {
     "name": "stderr",
     "output_type": "stream",
     "text": [
      "100%|██████████| 5747/5747 [02:23<00:00, 40.05it/s]\n",
      "100%|██████████| 1159/1159 [00:16<00:00, 72.08it/s]\n"
     ]
    },
    {
     "name": "stdout",
     "output_type": "stream",
     "text": [
      "false positive (FP): 451, false negative (FN): 28, Precision: 88.100%, Recall: 99.168%, F1-measure: 93.307%\n",
      "actual positive (TP+FN): 3367, actual negative (FP+TN): 110673\n",
      "accuracy: 99.580\n",
      "Finished Predicting\n",
      "elapsed_time: 159.5869541168213\n",
      "Client  4\n",
      "Number of sessions(hdfs_test_normal): 5623\n",
      "Number of sessions(hdfs_test_abnormal): 1121\n"
     ]
    },
    {
     "name": "stderr",
     "output_type": "stream",
     "text": [
      "100%|██████████| 5623/5623 [02:17<00:00, 40.83it/s]\n",
      "100%|██████████| 1121/1121 [00:15<00:00, 73.91it/s]\n"
     ]
    },
    {
     "name": "stdout",
     "output_type": "stream",
     "text": [
      "false positive (FP): 525, false negative (FN): 32, Precision: 86.399%, Recall: 99.050%, F1-measure: 92.293%\n",
      "actual positive (TP+FN): 3367, actual negative (FP+TN): 110673\n",
      "accuracy: 99.512\n",
      "Finished Predicting\n",
      "elapsed_time: 152.89365553855896\n",
      "============ Train epoch 25 ============\n",
      "Client  0\n",
      "File ../data/hdfs/hdfs_train, number of sessions 971\n",
      "File ../data/hdfs/hdfs_train, number of seqs 9420\n",
      "sampling...\n"
     ]
    },
    {
     "name": "stderr",
     "output_type": "stream",
     "text": [
      "100%|██████████| 1058/1058 [00:00<00:00, 3377.95it/s]\n"
     ]
    },
    {
     "name": "stdout",
     "output_type": "stream",
     "text": [
      "File ../data/hdfs/hdfs_test_normal, number of sessions 110673\n",
      "File ../data/hdfs/hdfs_test_normal, number of seqs 1058\n",
      "Find 9420 train logs, 1058 validation logs\n",
      "Train batch size 2048 ,Validation batch size 2048\n",
      "Starting epoch: 0 | phase: train | ⏰: 16:30:41 | Learning rate: 0.000313\n"
     ]
    },
    {
     "name": "stderr",
     "output_type": "stream",
     "text": [
      "Train loss: 1.61082: 100%|██████████| 5/5 [00:00<00:00, 51.35it/s]\n"
     ]
    },
    {
     "name": "stdout",
     "output_type": "stream",
     "text": [
      "Starting epoch: 0 | phase: valid | ⏰: 16:30:41 \n"
     ]
    },
    {
     "name": "stderr",
     "output_type": "stream",
     "text": [
      ": 100%|██████████| 1/1 [00:00<00:00, 99.80it/s]\n"
     ]
    },
    {
     "name": "stdout",
     "output_type": "stream",
     "text": [
      "Validation loss: 1.5791616439819336\n",
      "Client  1\n",
      "File ../data/hdfs/hdfs_train, number of sessions 971\n",
      "File ../data/hdfs/hdfs_train, number of seqs 9080\n",
      "sampling...\n"
     ]
    },
    {
     "name": "stderr",
     "output_type": "stream",
     "text": [
      "100%|██████████| 1046/1046 [00:00<00:00, 3393.50it/s]\n"
     ]
    },
    {
     "name": "stdout",
     "output_type": "stream",
     "text": [
      "File ../data/hdfs/hdfs_test_normal, number of sessions 110673\n",
      "File ../data/hdfs/hdfs_test_normal, number of seqs 1046\n",
      "Find 9080 train logs, 1046 validation logs\n",
      "Train batch size 2048 ,Validation batch size 2048\n",
      "Starting epoch: 0 | phase: train | ⏰: 16:30:53 | Learning rate: 0.000313\n"
     ]
    },
    {
     "name": "stderr",
     "output_type": "stream",
     "text": [
      "Train loss: 1.62663: 100%|██████████| 5/5 [00:00<00:00, 47.22it/s]\n"
     ]
    },
    {
     "name": "stdout",
     "output_type": "stream",
     "text": [
      "Starting epoch: 0 | phase: valid | ⏰: 16:30:53 \n"
     ]
    },
    {
     "name": "stderr",
     "output_type": "stream",
     "text": [
      ": 100%|██████████| 1/1 [00:00<00:00, 94.06it/s]\n"
     ]
    },
    {
     "name": "stdout",
     "output_type": "stream",
     "text": [
      "Validation loss: 1.6135095357894897\n",
      "Client  2\n",
      "File ../data/hdfs/hdfs_train, number of sessions 971\n",
      "File ../data/hdfs/hdfs_train, number of seqs 9485\n",
      "sampling...\n"
     ]
    },
    {
     "name": "stderr",
     "output_type": "stream",
     "text": [
      "100%|██████████| 1051/1051 [00:00<00:00, 3432.40it/s]\n"
     ]
    },
    {
     "name": "stdout",
     "output_type": "stream",
     "text": [
      "File ../data/hdfs/hdfs_test_normal, number of sessions 110673\n",
      "File ../data/hdfs/hdfs_test_normal, number of seqs 1051\n",
      "Find 9485 train logs, 1051 validation logs\n",
      "Train batch size 2048 ,Validation batch size 2048\n",
      "Starting epoch: 0 | phase: train | ⏰: 16:31:05 | Learning rate: 0.000313\n"
     ]
    },
    {
     "name": "stderr",
     "output_type": "stream",
     "text": [
      "Train loss: 1.63304: 100%|██████████| 5/5 [00:00<00:00, 50.11it/s]\n"
     ]
    },
    {
     "name": "stdout",
     "output_type": "stream",
     "text": [
      "Starting epoch: 0 | phase: valid | ⏰: 16:31:05 \n"
     ]
    },
    {
     "name": "stderr",
     "output_type": "stream",
     "text": [
      ": 100%|██████████| 1/1 [00:00<00:00, 100.02it/s]\n"
     ]
    },
    {
     "name": "stdout",
     "output_type": "stream",
     "text": [
      "Validation loss: 1.551906704902649\n",
      "Client  3\n",
      "File ../data/hdfs/hdfs_train, number of sessions 971\n",
      "File ../data/hdfs/hdfs_train, number of seqs 9267\n",
      "sampling...\n"
     ]
    },
    {
     "name": "stderr",
     "output_type": "stream",
     "text": [
      "100%|██████████| 1057/1057 [00:00<00:00, 3385.39it/s]\n"
     ]
    },
    {
     "name": "stdout",
     "output_type": "stream",
     "text": [
      "File ../data/hdfs/hdfs_test_normal, number of sessions 110673\n",
      "File ../data/hdfs/hdfs_test_normal, number of seqs 1057\n",
      "Find 9267 train logs, 1057 validation logs\n",
      "Train batch size 2048 ,Validation batch size 2048\n",
      "Starting epoch: 0 | phase: train | ⏰: 16:31:17 | Learning rate: 0.000313\n"
     ]
    },
    {
     "name": "stderr",
     "output_type": "stream",
     "text": [
      "Train loss: 1.61359: 100%|██████████| 5/5 [00:00<00:00, 55.54it/s]\n"
     ]
    },
    {
     "name": "stdout",
     "output_type": "stream",
     "text": [
      "Starting epoch: 0 | phase: valid | ⏰: 16:31:17 \n"
     ]
    },
    {
     "name": "stderr",
     "output_type": "stream",
     "text": [
      ": 100%|██████████| 1/1 [00:00<00:00, 98.79it/s]\n"
     ]
    },
    {
     "name": "stdout",
     "output_type": "stream",
     "text": [
      "Validation loss: 1.5767985582351685\n",
      "Client  4\n",
      "File ../data/hdfs/hdfs_train, number of sessions 971\n",
      "File ../data/hdfs/hdfs_train, number of seqs 9323\n",
      "sampling...\n"
     ]
    },
    {
     "name": "stderr",
     "output_type": "stream",
     "text": [
      "100%|██████████| 1044/1044 [00:00<00:00, 3619.71it/s]\n"
     ]
    },
    {
     "name": "stdout",
     "output_type": "stream",
     "text": [
      "File ../data/hdfs/hdfs_test_normal, number of sessions 110673\n",
      "File ../data/hdfs/hdfs_test_normal, number of seqs 1044\n",
      "Find 9323 train logs, 1044 validation logs\n",
      "Train batch size 2048 ,Validation batch size 2048\n",
      "Starting epoch: 0 | phase: train | ⏰: 16:31:29 | Learning rate: 0.000313\n"
     ]
    },
    {
     "name": "stderr",
     "output_type": "stream",
     "text": [
      "Train loss: 1.61575: 100%|██████████| 5/5 [00:00<00:00, 52.71it/s]\n"
     ]
    },
    {
     "name": "stdout",
     "output_type": "stream",
     "text": [
      "Starting epoch: 0 | phase: valid | ⏰: 16:31:29 \n"
     ]
    },
    {
     "name": "stderr",
     "output_type": "stream",
     "text": [
      ": 100%|██████████| 1/1 [00:00<00:00, 96.63it/s]\n"
     ]
    },
    {
     "name": "stdout",
     "output_type": "stream",
     "text": [
      "Validation loss: 1.5418275594711304\n",
      "============ Test epoch 25 ============\n",
      "Client  0\n",
      "Number of sessions(hdfs_test_normal): 5813\n",
      "Number of sessions(hdfs_test_abnormal): 1136\n"
     ]
    },
    {
     "name": "stderr",
     "output_type": "stream",
     "text": [
      "100%|██████████| 5813/5813 [02:23<00:00, 40.39it/s]\n",
      "100%|██████████| 1136/1136 [00:14<00:00, 77.15it/s]\n"
     ]
    },
    {
     "name": "stdout",
     "output_type": "stream",
     "text": [
      "false positive (FP): 490, false negative (FN): 24, Precision: 87.216%, Recall: 99.287%, F1-measure: 92.861%\n",
      "actual positive (TP+FN): 3367, actual negative (FP+TN): 110673\n",
      "accuracy: 99.549\n",
      "Finished Predicting\n",
      "elapsed_time: 158.6373689174652\n",
      "Client  1\n",
      "Number of sessions(hdfs_test_normal): 5574\n",
      "Number of sessions(hdfs_test_abnormal): 1139\n"
     ]
    },
    {
     "name": "stderr",
     "output_type": "stream",
     "text": [
      "100%|██████████| 5574/5574 [02:17<00:00, 40.68it/s]\n",
      "100%|██████████| 1139/1139 [00:13<00:00, 84.60it/s] \n"
     ]
    },
    {
     "name": "stdout",
     "output_type": "stream",
     "text": [
      "false positive (FP): 528, false negative (FN): 26, Precision: 86.353%, Recall: 99.228%, F1-measure: 92.344%\n",
      "actual positive (TP+FN): 3367, actual negative (FP+TN): 110673\n",
      "accuracy: 99.514\n",
      "Finished Predicting\n",
      "elapsed_time: 150.48323893547058\n",
      "Client  2\n",
      "Number of sessions(hdfs_test_normal): 5730\n",
      "Number of sessions(hdfs_test_abnormal): 1118\n"
     ]
    },
    {
     "name": "stderr",
     "output_type": "stream",
     "text": [
      "100%|██████████| 5730/5730 [01:29<00:00, 64.35it/s]\n",
      "100%|██████████| 1118/1118 [00:15<00:00, 73.08it/s]\n"
     ]
    },
    {
     "name": "stdout",
     "output_type": "stream",
     "text": [
      "false positive (FP): 468, false negative (FN): 30, Precision: 87.700%, Recall: 99.109%, F1-measure: 93.056%\n",
      "actual positive (TP+FN): 3367, actual negative (FP+TN): 110673\n",
      "accuracy: 99.563\n",
      "Finished Predicting\n",
      "elapsed_time: 104.35120105743408\n",
      "Client  3\n",
      "Number of sessions(hdfs_test_normal): 5747\n",
      "Number of sessions(hdfs_test_abnormal): 1159\n"
     ]
    },
    {
     "name": "stderr",
     "output_type": "stream",
     "text": [
      "100%|██████████| 5747/5747 [02:23<00:00, 40.12it/s]\n",
      "100%|██████████| 1159/1159 [00:16<00:00, 71.83it/s]\n"
     ]
    },
    {
     "name": "stdout",
     "output_type": "stream",
     "text": [
      "false positive (FP): 451, false negative (FN): 28, Precision: 88.100%, Recall: 99.168%, F1-measure: 93.307%\n",
      "actual positive (TP+FN): 3367, actual negative (FP+TN): 110673\n",
      "accuracy: 99.580\n",
      "Finished Predicting\n",
      "elapsed_time: 159.396226644516\n",
      "Client  4\n",
      "Number of sessions(hdfs_test_normal): 5623\n",
      "Number of sessions(hdfs_test_abnormal): 1121\n"
     ]
    },
    {
     "name": "stderr",
     "output_type": "stream",
     "text": [
      "100%|██████████| 5623/5623 [02:14<00:00, 41.87it/s]\n",
      "100%|██████████| 1121/1121 [00:07<00:00, 145.29it/s]\n"
     ]
    },
    {
     "name": "stdout",
     "output_type": "stream",
     "text": [
      "false positive (FP): 525, false negative (FN): 32, Precision: 86.399%, Recall: 99.050%, F1-measure: 92.293%\n",
      "actual positive (TP+FN): 3367, actual negative (FP+TN): 110673\n",
      "accuracy: 99.512\n",
      "Finished Predicting\n",
      "elapsed_time: 142.02245688438416\n",
      "============ Train epoch 26 ============\n",
      "Client  0\n",
      "File ../data/hdfs/hdfs_train, number of sessions 971\n",
      "File ../data/hdfs/hdfs_train, number of seqs 9420\n",
      "sampling...\n"
     ]
    },
    {
     "name": "stderr",
     "output_type": "stream",
     "text": [
      "100%|██████████| 1058/1058 [00:00<00:00, 2907.01it/s]\n"
     ]
    },
    {
     "name": "stdout",
     "output_type": "stream",
     "text": [
      "File ../data/hdfs/hdfs_test_normal, number of sessions 110673\n",
      "File ../data/hdfs/hdfs_test_normal, number of seqs 1058\n",
      "Find 9420 train logs, 1058 validation logs\n",
      "Train batch size 2048 ,Validation batch size 2048\n",
      "Starting epoch: 0 | phase: train | ⏰: 16:43:39 | Learning rate: 0.000313\n"
     ]
    },
    {
     "name": "stderr",
     "output_type": "stream",
     "text": [
      "Train loss: 1.58520: 100%|██████████| 5/5 [00:00<00:00, 54.26it/s]\n"
     ]
    },
    {
     "name": "stdout",
     "output_type": "stream",
     "text": [
      "Starting epoch: 0 | phase: valid | ⏰: 16:43:39 \n"
     ]
    },
    {
     "name": "stderr",
     "output_type": "stream",
     "text": [
      ": 100%|██████████| 1/1 [00:00<00:00, 98.59it/s]\n"
     ]
    },
    {
     "name": "stdout",
     "output_type": "stream",
     "text": [
      "Validation loss: 1.5505690574645996\n",
      "Client  1\n",
      "File ../data/hdfs/hdfs_train, number of sessions 971\n",
      "File ../data/hdfs/hdfs_train, number of seqs 9080\n",
      "sampling...\n"
     ]
    },
    {
     "name": "stderr",
     "output_type": "stream",
     "text": [
      "100%|██████████| 1046/1046 [00:00<00:00, 2863.63it/s]\n"
     ]
    },
    {
     "name": "stdout",
     "output_type": "stream",
     "text": [
      "File ../data/hdfs/hdfs_test_normal, number of sessions 110673\n",
      "File ../data/hdfs/hdfs_test_normal, number of seqs 1046\n",
      "Find 9080 train logs, 1046 validation logs\n",
      "Train batch size 2048 ,Validation batch size 2048\n",
      "Starting epoch: 0 | phase: train | ⏰: 16:43:51 | Learning rate: 0.000313\n"
     ]
    },
    {
     "name": "stderr",
     "output_type": "stream",
     "text": [
      "Train loss: 1.60175: 100%|██████████| 5/5 [00:00<00:00, 55.64it/s]\n"
     ]
    },
    {
     "name": "stdout",
     "output_type": "stream",
     "text": [
      "Starting epoch: 0 | phase: valid | ⏰: 16:43:51 \n"
     ]
    },
    {
     "name": "stderr",
     "output_type": "stream",
     "text": [
      ": 100%|██████████| 1/1 [00:00<00:00, 98.97it/s]\n"
     ]
    },
    {
     "name": "stdout",
     "output_type": "stream",
     "text": [
      "Validation loss: 1.558183193206787\n",
      "Client  2\n",
      "File ../data/hdfs/hdfs_train, number of sessions 971\n",
      "File ../data/hdfs/hdfs_train, number of seqs 9485\n",
      "sampling...\n"
     ]
    },
    {
     "name": "stderr",
     "output_type": "stream",
     "text": [
      "100%|██████████| 1051/1051 [00:00<00:00, 2625.30it/s]\n"
     ]
    },
    {
     "name": "stdout",
     "output_type": "stream",
     "text": [
      "File ../data/hdfs/hdfs_test_normal, number of sessions 110673\n",
      "File ../data/hdfs/hdfs_test_normal, number of seqs 1051\n",
      "Find 9485 train logs, 1051 validation logs\n",
      "Train batch size 2048 ,Validation batch size 2048\n",
      "Starting epoch: 0 | phase: train | ⏰: 16:44:03 | Learning rate: 0.000313\n"
     ]
    },
    {
     "name": "stderr",
     "output_type": "stream",
     "text": [
      "Train loss: 1.60486: 100%|██████████| 5/5 [00:00<00:00, 50.89it/s]\n"
     ]
    },
    {
     "name": "stdout",
     "output_type": "stream",
     "text": [
      "Starting epoch: 0 | phase: valid | ⏰: 16:44:03 \n"
     ]
    },
    {
     "name": "stderr",
     "output_type": "stream",
     "text": [
      ": 100%|██████████| 1/1 [00:00<00:00, 94.43it/s]\n"
     ]
    },
    {
     "name": "stdout",
     "output_type": "stream",
     "text": [
      "Validation loss: 1.5560038089752197\n",
      "Client  3\n",
      "File ../data/hdfs/hdfs_train, number of sessions 971\n",
      "File ../data/hdfs/hdfs_train, number of seqs 9267\n",
      "sampling...\n"
     ]
    },
    {
     "name": "stderr",
     "output_type": "stream",
     "text": [
      "100%|██████████| 1057/1057 [00:00<00:00, 2849.51it/s]\n"
     ]
    },
    {
     "name": "stdout",
     "output_type": "stream",
     "text": [
      "File ../data/hdfs/hdfs_test_normal, number of sessions 110673\n",
      "File ../data/hdfs/hdfs_test_normal, number of seqs 1057\n",
      "Find 9267 train logs, 1057 validation logs\n",
      "Train batch size 2048 ,Validation batch size 2048\n",
      "Starting epoch: 0 | phase: train | ⏰: 16:44:15 | Learning rate: 0.000313\n"
     ]
    },
    {
     "name": "stderr",
     "output_type": "stream",
     "text": [
      "Train loss: 1.58139: 100%|██████████| 5/5 [00:00<00:00, 54.10it/s]\n"
     ]
    },
    {
     "name": "stdout",
     "output_type": "stream",
     "text": [
      "Starting epoch: 0 | phase: valid | ⏰: 16:44:15 \n"
     ]
    },
    {
     "name": "stderr",
     "output_type": "stream",
     "text": [
      ": 100%|██████████| 1/1 [00:00<00:00, 98.09it/s]\n"
     ]
    },
    {
     "name": "stdout",
     "output_type": "stream",
     "text": [
      "Validation loss: 1.5565837621688843\n",
      "Client  4\n",
      "File ../data/hdfs/hdfs_train, number of sessions 971\n",
      "File ../data/hdfs/hdfs_train, number of seqs 9323\n",
      "sampling...\n"
     ]
    },
    {
     "name": "stderr",
     "output_type": "stream",
     "text": [
      "100%|██████████| 1044/1044 [00:00<00:00, 3468.89it/s]\n"
     ]
    },
    {
     "name": "stdout",
     "output_type": "stream",
     "text": [
      "File ../data/hdfs/hdfs_test_normal, number of sessions 110673\n",
      "File ../data/hdfs/hdfs_test_normal, number of seqs 1044\n",
      "Find 9323 train logs, 1044 validation logs\n",
      "Train batch size 2048 ,Validation batch size 2048\n",
      "Starting epoch: 0 | phase: train | ⏰: 16:44:27 | Learning rate: 0.000313\n"
     ]
    },
    {
     "name": "stderr",
     "output_type": "stream",
     "text": [
      "Train loss: 1.58781: 100%|██████████| 5/5 [00:00<00:00, 53.48it/s]\n"
     ]
    },
    {
     "name": "stdout",
     "output_type": "stream",
     "text": [
      "Starting epoch: 0 | phase: valid | ⏰: 16:44:27 \n"
     ]
    },
    {
     "name": "stderr",
     "output_type": "stream",
     "text": [
      ": 100%|██████████| 1/1 [00:00<00:00, 85.87it/s]\n"
     ]
    },
    {
     "name": "stdout",
     "output_type": "stream",
     "text": [
      "Validation loss: 1.562148094177246\n",
      "============ Test epoch 26 ============\n",
      "Client  0\n",
      "Number of sessions(hdfs_test_normal): 5813\n",
      "Number of sessions(hdfs_test_abnormal): 1136\n"
     ]
    },
    {
     "name": "stderr",
     "output_type": "stream",
     "text": [
      "100%|██████████| 5813/5813 [02:25<00:00, 40.01it/s]\n",
      "100%|██████████| 1136/1136 [00:14<00:00, 77.04it/s]\n"
     ]
    },
    {
     "name": "stdout",
     "output_type": "stream",
     "text": [
      "false positive (FP): 490, false negative (FN): 24, Precision: 87.216%, Recall: 99.287%, F1-measure: 92.861%\n",
      "actual positive (TP+FN): 3367, actual negative (FP+TN): 110673\n",
      "accuracy: 99.549\n",
      "Finished Predicting\n",
      "elapsed_time: 160.02942442893982\n",
      "Client  1\n",
      "Number of sessions(hdfs_test_normal): 5574\n",
      "Number of sessions(hdfs_test_abnormal): 1139\n"
     ]
    },
    {
     "name": "stderr",
     "output_type": "stream",
     "text": [
      "100%|██████████| 5574/5574 [02:16<00:00, 40.95it/s]\n",
      "100%|██████████| 1139/1139 [00:15<00:00, 73.73it/s]\n"
     ]
    },
    {
     "name": "stdout",
     "output_type": "stream",
     "text": [
      "false positive (FP): 528, false negative (FN): 26, Precision: 86.353%, Recall: 99.228%, F1-measure: 92.344%\n",
      "actual positive (TP+FN): 3367, actual negative (FP+TN): 110673\n",
      "accuracy: 99.514\n",
      "Finished Predicting\n",
      "elapsed_time: 151.5628101825714\n",
      "Client  2\n",
      "Number of sessions(hdfs_test_normal): 5730\n",
      "Number of sessions(hdfs_test_abnormal): 1118\n"
     ]
    },
    {
     "name": "stderr",
     "output_type": "stream",
     "text": [
      "100%|██████████| 5730/5730 [02:23<00:00, 39.91it/s]\n",
      "100%|██████████| 1118/1118 [00:14<00:00, 78.99it/s] \n"
     ]
    },
    {
     "name": "stdout",
     "output_type": "stream",
     "text": [
      "false positive (FP): 468, false negative (FN): 30, Precision: 87.700%, Recall: 99.109%, F1-measure: 93.056%\n",
      "actual positive (TP+FN): 3367, actual negative (FP+TN): 110673\n",
      "accuracy: 99.563\n",
      "Finished Predicting\n",
      "elapsed_time: 157.71187496185303\n",
      "Client  3\n",
      "Number of sessions(hdfs_test_normal): 5747\n",
      "Number of sessions(hdfs_test_abnormal): 1159\n"
     ]
    },
    {
     "name": "stderr",
     "output_type": "stream",
     "text": [
      "100%|██████████| 5747/5747 [02:23<00:00, 40.05it/s]\n",
      "100%|██████████| 1159/1159 [00:16<00:00, 72.14it/s]\n"
     ]
    },
    {
     "name": "stdout",
     "output_type": "stream",
     "text": [
      "false positive (FP): 451, false negative (FN): 28, Precision: 88.100%, Recall: 99.168%, F1-measure: 93.307%\n",
      "actual positive (TP+FN): 3367, actual negative (FP+TN): 110673\n",
      "accuracy: 99.580\n",
      "Finished Predicting\n",
      "elapsed_time: 159.57069420814514\n",
      "Client  4\n",
      "Number of sessions(hdfs_test_normal): 5623\n",
      "Number of sessions(hdfs_test_abnormal): 1121\n"
     ]
    },
    {
     "name": "stderr",
     "output_type": "stream",
     "text": [
      "100%|██████████| 5623/5623 [01:45<00:00, 53.29it/s]\n",
      "100%|██████████| 1121/1121 [00:07<00:00, 144.62it/s]\n"
     ]
    },
    {
     "name": "stdout",
     "output_type": "stream",
     "text": [
      "false positive (FP): 525, false negative (FN): 32, Precision: 86.399%, Recall: 99.050%, F1-measure: 92.293%\n",
      "actual positive (TP+FN): 3367, actual negative (FP+TN): 110673\n",
      "accuracy: 99.512\n",
      "Finished Predicting\n",
      "elapsed_time: 113.2731032371521\n",
      "============ Train epoch 27 ============\n",
      "Client  0\n",
      "File ../data/hdfs/hdfs_train, number of sessions 971\n",
      "File ../data/hdfs/hdfs_train, number of seqs 9420\n",
      "sampling...\n"
     ]
    },
    {
     "name": "stderr",
     "output_type": "stream",
     "text": [
      "100%|██████████| 1058/1058 [00:00<00:00, 3561.62it/s]\n"
     ]
    },
    {
     "name": "stdout",
     "output_type": "stream",
     "text": [
      "File ../data/hdfs/hdfs_test_normal, number of sessions 110673\n",
      "File ../data/hdfs/hdfs_test_normal, number of seqs 1058\n",
      "Find 9420 train logs, 1058 validation logs\n",
      "Train batch size 2048 ,Validation batch size 2048\n",
      "Starting epoch: 0 | phase: train | ⏰: 16:57:04 | Learning rate: 0.000313\n"
     ]
    },
    {
     "name": "stderr",
     "output_type": "stream",
     "text": [
      "Train loss: 1.55438: 100%|██████████| 5/5 [00:00<00:00, 54.26it/s]\n"
     ]
    },
    {
     "name": "stdout",
     "output_type": "stream",
     "text": [
      "Starting epoch: 0 | phase: valid | ⏰: 16:57:04 \n"
     ]
    },
    {
     "name": "stderr",
     "output_type": "stream",
     "text": [
      ": 100%|██████████| 1/1 [00:00<00:00, 103.99it/s]\n"
     ]
    },
    {
     "name": "stdout",
     "output_type": "stream",
     "text": [
      "Validation loss: 1.5277975797653198\n",
      "Client  1\n",
      "File ../data/hdfs/hdfs_train, number of sessions 971\n",
      "File ../data/hdfs/hdfs_train, number of seqs 9080\n",
      "sampling...\n"
     ]
    },
    {
     "name": "stderr",
     "output_type": "stream",
     "text": [
      "100%|██████████| 1046/1046 [00:00<00:00, 3455.39it/s]\n"
     ]
    },
    {
     "name": "stdout",
     "output_type": "stream",
     "text": [
      "File ../data/hdfs/hdfs_test_normal, number of sessions 110673\n",
      "File ../data/hdfs/hdfs_test_normal, number of seqs 1046\n",
      "Find 9080 train logs, 1046 validation logs\n",
      "Train batch size 2048 ,Validation batch size 2048\n",
      "Starting epoch: 0 | phase: train | ⏰: 16:57:16 | Learning rate: 0.000313\n"
     ]
    },
    {
     "name": "stderr",
     "output_type": "stream",
     "text": [
      "Train loss: 1.56651: 100%|██████████| 5/5 [00:00<00:00, 56.52it/s]\n"
     ]
    },
    {
     "name": "stdout",
     "output_type": "stream",
     "text": [
      "Starting epoch: 0 | phase: valid | ⏰: 16:57:16 \n"
     ]
    },
    {
     "name": "stderr",
     "output_type": "stream",
     "text": [
      ": 100%|██████████| 1/1 [00:00<00:00, 98.61it/s]\n"
     ]
    },
    {
     "name": "stdout",
     "output_type": "stream",
     "text": [
      "Validation loss: 1.518428921699524\n",
      "Client  2\n",
      "File ../data/hdfs/hdfs_train, number of sessions 971\n",
      "File ../data/hdfs/hdfs_train, number of seqs 9485\n",
      "sampling...\n"
     ]
    },
    {
     "name": "stderr",
     "output_type": "stream",
     "text": [
      "100%|██████████| 1051/1051 [00:00<00:00, 3639.85it/s]\n"
     ]
    },
    {
     "name": "stdout",
     "output_type": "stream",
     "text": [
      "File ../data/hdfs/hdfs_test_normal, number of sessions 110673\n",
      "File ../data/hdfs/hdfs_test_normal, number of seqs 1051\n",
      "Find 9485 train logs, 1051 validation logs\n",
      "Train batch size 2048 ,Validation batch size 2048\n",
      "Starting epoch: 0 | phase: train | ⏰: 16:57:28 | Learning rate: 0.000313\n"
     ]
    },
    {
     "name": "stderr",
     "output_type": "stream",
     "text": [
      "Train loss: 1.57267: 100%|██████████| 5/5 [00:00<00:00, 53.78it/s]\n"
     ]
    },
    {
     "name": "stdout",
     "output_type": "stream",
     "text": [
      "Starting epoch: 0 | phase: valid | ⏰: 16:57:28 \n"
     ]
    },
    {
     "name": "stderr",
     "output_type": "stream",
     "text": [
      ": 100%|██████████| 1/1 [00:00<00:00, 106.51it/s]"
     ]
    },
    {
     "name": "stdout",
     "output_type": "stream",
     "text": [
      "Validation loss: 1.5082136392593384\n",
      "Client  3\n"
     ]
    },
    {
     "name": "stderr",
     "output_type": "stream",
     "text": [
      "\n"
     ]
    },
    {
     "name": "stdout",
     "output_type": "stream",
     "text": [
      "File ../data/hdfs/hdfs_train, number of sessions 971\n",
      "File ../data/hdfs/hdfs_train, number of seqs 9267\n",
      "sampling...\n"
     ]
    },
    {
     "name": "stderr",
     "output_type": "stream",
     "text": [
      "100%|██████████| 1057/1057 [00:00<00:00, 3513.81it/s]\n"
     ]
    },
    {
     "name": "stdout",
     "output_type": "stream",
     "text": [
      "File ../data/hdfs/hdfs_test_normal, number of sessions 110673\n",
      "File ../data/hdfs/hdfs_test_normal, number of seqs 1057\n",
      "Find 9267 train logs, 1057 validation logs\n",
      "Train batch size 2048 ,Validation batch size 2048\n",
      "Starting epoch: 0 | phase: train | ⏰: 16:57:40 | Learning rate: 0.000313\n"
     ]
    },
    {
     "name": "stderr",
     "output_type": "stream",
     "text": [
      "Train loss: 1.55347: 100%|██████████| 5/5 [00:00<00:00, 55.31it/s]\n"
     ]
    },
    {
     "name": "stdout",
     "output_type": "stream",
     "text": [
      "Starting epoch: 0 | phase: valid | ⏰: 16:57:40 \n"
     ]
    },
    {
     "name": "stderr",
     "output_type": "stream",
     "text": [
      ": 100%|██████████| 1/1 [00:00<00:00, 107.02it/s]\n"
     ]
    },
    {
     "name": "stdout",
     "output_type": "stream",
     "text": [
      "Validation loss: 1.5374367237091064\n",
      "Client  4\n",
      "File ../data/hdfs/hdfs_train, number of sessions 971\n",
      "File ../data/hdfs/hdfs_train, number of seqs 9323\n",
      "sampling...\n"
     ]
    },
    {
     "name": "stderr",
     "output_type": "stream",
     "text": [
      "100%|██████████| 1044/1044 [00:00<00:00, 3524.87it/s]\n"
     ]
    },
    {
     "name": "stdout",
     "output_type": "stream",
     "text": [
      "File ../data/hdfs/hdfs_test_normal, number of sessions 110673\n",
      "File ../data/hdfs/hdfs_test_normal, number of seqs 1044\n",
      "Find 9323 train logs, 1044 validation logs\n",
      "Train batch size 2048 ,Validation batch size 2048\n",
      "Starting epoch: 0 | phase: train | ⏰: 16:57:52 | Learning rate: 0.000313\n"
     ]
    },
    {
     "name": "stderr",
     "output_type": "stream",
     "text": [
      "Train loss: 1.55964: 100%|██████████| 5/5 [00:00<00:00, 53.90it/s]\n"
     ]
    },
    {
     "name": "stdout",
     "output_type": "stream",
     "text": [
      "Starting epoch: 0 | phase: valid | ⏰: 16:57:52 \n"
     ]
    },
    {
     "name": "stderr",
     "output_type": "stream",
     "text": [
      ": 100%|██████████| 1/1 [00:00<00:00, 66.37it/s]\n"
     ]
    },
    {
     "name": "stdout",
     "output_type": "stream",
     "text": [
      "Validation loss: 1.530808925628662\n",
      "============ Test epoch 27 ============\n",
      "Client  0\n",
      "Number of sessions(hdfs_test_normal): 5813\n",
      "Number of sessions(hdfs_test_abnormal): 1136\n"
     ]
    },
    {
     "name": "stderr",
     "output_type": "stream",
     "text": [
      "100%|██████████| 5813/5813 [02:24<00:00, 40.25it/s]\n",
      "100%|██████████| 1136/1136 [00:14<00:00, 76.98it/s]\n"
     ]
    },
    {
     "name": "stdout",
     "output_type": "stream",
     "text": [
      "false positive (FP): 490, false negative (FN): 24, Precision: 87.216%, Recall: 99.287%, F1-measure: 92.861%\n",
      "actual positive (TP+FN): 3367, actual negative (FP+TN): 110673\n",
      "accuracy: 99.549\n",
      "Finished Predicting\n",
      "elapsed_time: 159.1874828338623\n",
      "Client  1\n",
      "Number of sessions(hdfs_test_normal): 5574\n",
      "Number of sessions(hdfs_test_abnormal): 1139\n"
     ]
    },
    {
     "name": "stderr",
     "output_type": "stream",
     "text": [
      "100%|██████████| 5574/5574 [02:16<00:00, 40.80it/s]\n",
      "100%|██████████| 1139/1139 [00:14<00:00, 76.23it/s] \n"
     ]
    },
    {
     "name": "stdout",
     "output_type": "stream",
     "text": [
      "false positive (FP): 528, false negative (FN): 26, Precision: 86.353%, Recall: 99.228%, F1-measure: 92.344%\n",
      "actual positive (TP+FN): 3367, actual negative (FP+TN): 110673\n",
      "accuracy: 99.514\n",
      "Finished Predicting\n",
      "elapsed_time: 151.56523275375366\n",
      "Client  2\n",
      "Number of sessions(hdfs_test_normal): 5730\n",
      "Number of sessions(hdfs_test_abnormal): 1118\n"
     ]
    },
    {
     "name": "stderr",
     "output_type": "stream",
     "text": [
      "100%|██████████| 5730/5730 [01:26<00:00, 66.03it/s]\n",
      "100%|██████████| 1118/1118 [00:15<00:00, 73.04it/s]\n"
     ]
    },
    {
     "name": "stdout",
     "output_type": "stream",
     "text": [
      "false positive (FP): 468, false negative (FN): 30, Precision: 87.700%, Recall: 99.109%, F1-measure: 93.056%\n",
      "actual positive (TP+FN): 3367, actual negative (FP+TN): 110673\n",
      "accuracy: 99.563\n",
      "Finished Predicting\n",
      "elapsed_time: 102.08413505554199\n",
      "Client  3\n",
      "Number of sessions(hdfs_test_normal): 5747\n",
      "Number of sessions(hdfs_test_abnormal): 1159\n"
     ]
    },
    {
     "name": "stderr",
     "output_type": "stream",
     "text": [
      "100%|██████████| 5747/5747 [02:23<00:00, 40.01it/s]\n",
      "100%|██████████| 1159/1159 [00:16<00:00, 72.26it/s]\n"
     ]
    },
    {
     "name": "stdout",
     "output_type": "stream",
     "text": [
      "false positive (FP): 451, false negative (FN): 28, Precision: 88.100%, Recall: 99.168%, F1-measure: 93.307%\n",
      "actual positive (TP+FN): 3367, actual negative (FP+TN): 110673\n",
      "accuracy: 99.580\n",
      "Finished Predicting\n",
      "elapsed_time: 159.6745479106903\n",
      "Client  4\n",
      "Number of sessions(hdfs_test_normal): 5623\n",
      "Number of sessions(hdfs_test_abnormal): 1121\n"
     ]
    },
    {
     "name": "stderr",
     "output_type": "stream",
     "text": [
      "100%|██████████| 5623/5623 [02:17<00:00, 40.79it/s]\n",
      "100%|██████████| 1121/1121 [00:15<00:00, 73.59it/s]\n"
     ]
    },
    {
     "name": "stdout",
     "output_type": "stream",
     "text": [
      "false positive (FP): 525, false negative (FN): 32, Precision: 86.399%, Recall: 99.050%, F1-measure: 92.293%\n",
      "actual positive (TP+FN): 3367, actual negative (FP+TN): 110673\n",
      "accuracy: 99.512\n",
      "Finished Predicting\n",
      "elapsed_time: 153.08106899261475\n",
      "============ Train epoch 28 ============\n",
      "Client  0\n",
      "File ../data/hdfs/hdfs_train, number of sessions 971\n",
      "File ../data/hdfs/hdfs_train, number of seqs 9420\n",
      "sampling...\n"
     ]
    },
    {
     "name": "stderr",
     "output_type": "stream",
     "text": [
      "100%|██████████| 1058/1058 [00:00<00:00, 3334.82it/s]\n"
     ]
    },
    {
     "name": "stdout",
     "output_type": "stream",
     "text": [
      "File ../data/hdfs/hdfs_test_normal, number of sessions 110673\n",
      "File ../data/hdfs/hdfs_test_normal, number of seqs 1058\n",
      "Find 9420 train logs, 1058 validation logs\n",
      "Train batch size 2048 ,Validation batch size 2048\n",
      "Starting epoch: 0 | phase: train | ⏰: 17:10:13 | Learning rate: 0.000313\n"
     ]
    },
    {
     "name": "stderr",
     "output_type": "stream",
     "text": [
      "Train loss: 1.51578: 100%|██████████| 5/5 [00:00<00:00, 53.01it/s]\n"
     ]
    },
    {
     "name": "stdout",
     "output_type": "stream",
     "text": [
      "Starting epoch: 0 | phase: valid | ⏰: 17:10:13 \n"
     ]
    },
    {
     "name": "stderr",
     "output_type": "stream",
     "text": [
      ": 100%|██████████| 1/1 [00:00<00:00, 90.35it/s]\n"
     ]
    },
    {
     "name": "stdout",
     "output_type": "stream",
     "text": [
      "Validation loss: 1.449778437614441\n",
      "Client  1\n",
      "File ../data/hdfs/hdfs_train, number of sessions 971\n",
      "File ../data/hdfs/hdfs_train, number of seqs 9080\n",
      "sampling...\n"
     ]
    },
    {
     "name": "stderr",
     "output_type": "stream",
     "text": [
      "100%|██████████| 1046/1046 [00:00<00:00, 3509.39it/s]\n"
     ]
    },
    {
     "name": "stdout",
     "output_type": "stream",
     "text": [
      "File ../data/hdfs/hdfs_test_normal, number of sessions 110673\n",
      "File ../data/hdfs/hdfs_test_normal, number of seqs 1046\n",
      "Find 9080 train logs, 1046 validation logs\n",
      "Train batch size 2048 ,Validation batch size 2048\n",
      "Starting epoch: 0 | phase: train | ⏰: 17:10:25 | Learning rate: 0.000313\n"
     ]
    },
    {
     "name": "stderr",
     "output_type": "stream",
     "text": [
      "Train loss: 1.54324: 100%|██████████| 5/5 [00:00<00:00, 54.62it/s]\n"
     ]
    },
    {
     "name": "stdout",
     "output_type": "stream",
     "text": [
      "Starting epoch: 0 | phase: valid | ⏰: 17:10:25 \n"
     ]
    },
    {
     "name": "stderr",
     "output_type": "stream",
     "text": [
      ": 100%|██████████| 1/1 [00:00<00:00, 96.72it/s]\n"
     ]
    },
    {
     "name": "stdout",
     "output_type": "stream",
     "text": [
      "Validation loss: 1.474346399307251\n",
      "Client  2\n",
      "File ../data/hdfs/hdfs_train, number of sessions 971\n",
      "File ../data/hdfs/hdfs_train, number of seqs 9485\n",
      "sampling...\n"
     ]
    },
    {
     "name": "stderr",
     "output_type": "stream",
     "text": [
      "100%|██████████| 1051/1051 [00:00<00:00, 3544.77it/s]\n"
     ]
    },
    {
     "name": "stdout",
     "output_type": "stream",
     "text": [
      "File ../data/hdfs/hdfs_test_normal, number of sessions 110673\n",
      "File ../data/hdfs/hdfs_test_normal, number of seqs 1051\n",
      "Find 9485 train logs, 1051 validation logs\n",
      "Train batch size 2048 ,Validation batch size 2048\n",
      "Starting epoch: 0 | phase: train | ⏰: 17:10:37 | Learning rate: 0.000313\n"
     ]
    },
    {
     "name": "stderr",
     "output_type": "stream",
     "text": [
      "Train loss: 1.54545: 100%|██████████| 5/5 [00:00<00:00, 52.62it/s]\n"
     ]
    },
    {
     "name": "stdout",
     "output_type": "stream",
     "text": [
      "Starting epoch: 0 | phase: valid | ⏰: 17:10:37 \n"
     ]
    },
    {
     "name": "stderr",
     "output_type": "stream",
     "text": [
      ": 100%|██████████| 1/1 [00:00<00:00, 99.26it/s]\n"
     ]
    },
    {
     "name": "stdout",
     "output_type": "stream",
     "text": [
      "Validation loss: 1.4959259033203125\n",
      "Client  3\n",
      "File ../data/hdfs/hdfs_train, number of sessions 971\n",
      "File ../data/hdfs/hdfs_train, number of seqs 9267\n",
      "sampling...\n"
     ]
    },
    {
     "name": "stderr",
     "output_type": "stream",
     "text": [
      "100%|██████████| 1057/1057 [00:00<00:00, 3537.20it/s]\n"
     ]
    },
    {
     "name": "stdout",
     "output_type": "stream",
     "text": [
      "File ../data/hdfs/hdfs_test_normal, number of sessions 110673\n",
      "File ../data/hdfs/hdfs_test_normal, number of seqs 1057\n",
      "Find 9267 train logs, 1057 validation logs\n",
      "Train batch size 2048 ,Validation batch size 2048\n",
      "Starting epoch: 0 | phase: train | ⏰: 17:10:49 | Learning rate: 0.000313\n"
     ]
    },
    {
     "name": "stderr",
     "output_type": "stream",
     "text": [
      "Train loss: 1.52405: 100%|██████████| 5/5 [00:00<00:00, 51.00it/s]\n"
     ]
    },
    {
     "name": "stdout",
     "output_type": "stream",
     "text": [
      "Starting epoch: 0 | phase: valid | ⏰: 17:10:49 \n"
     ]
    },
    {
     "name": "stderr",
     "output_type": "stream",
     "text": [
      ": 100%|██████████| 1/1 [00:00<00:00, 71.99it/s]\n"
     ]
    },
    {
     "name": "stdout",
     "output_type": "stream",
     "text": [
      "Validation loss: 1.498262643814087\n",
      "Client  4\n",
      "File ../data/hdfs/hdfs_train, number of sessions 971\n",
      "File ../data/hdfs/hdfs_train, number of seqs 9323\n",
      "sampling...\n"
     ]
    },
    {
     "name": "stderr",
     "output_type": "stream",
     "text": [
      "100%|██████████| 1044/1044 [00:00<00:00, 3416.30it/s]\n"
     ]
    },
    {
     "name": "stdout",
     "output_type": "stream",
     "text": [
      "File ../data/hdfs/hdfs_test_normal, number of sessions 110673\n",
      "File ../data/hdfs/hdfs_test_normal, number of seqs 1044\n",
      "Find 9323 train logs, 1044 validation logs\n",
      "Train batch size 2048 ,Validation batch size 2048\n",
      "Starting epoch: 0 | phase: train | ⏰: 17:11:01 | Learning rate: 0.000313\n"
     ]
    },
    {
     "name": "stderr",
     "output_type": "stream",
     "text": [
      "Train loss: 1.53105: 100%|██████████| 5/5 [00:00<00:00, 54.45it/s]\n"
     ]
    },
    {
     "name": "stdout",
     "output_type": "stream",
     "text": [
      "Starting epoch: 0 | phase: valid | ⏰: 17:11:01 \n"
     ]
    },
    {
     "name": "stderr",
     "output_type": "stream",
     "text": [
      ": 100%|██████████| 1/1 [00:00<00:00, 93.25it/s]\n"
     ]
    },
    {
     "name": "stdout",
     "output_type": "stream",
     "text": [
      "Validation loss: 1.4959298372268677\n",
      "============ Test epoch 28 ============\n",
      "Client  0\n",
      "Number of sessions(hdfs_test_normal): 5813\n",
      "Number of sessions(hdfs_test_abnormal): 1136\n"
     ]
    },
    {
     "name": "stderr",
     "output_type": "stream",
     "text": [
      "100%|██████████| 5813/5813 [02:23<00:00, 40.37it/s]\n",
      "100%|██████████| 1136/1136 [00:14<00:00, 76.90it/s]\n"
     ]
    },
    {
     "name": "stdout",
     "output_type": "stream",
     "text": [
      "false positive (FP): 490, false negative (FN): 24, Precision: 87.216%, Recall: 99.287%, F1-measure: 92.861%\n",
      "actual positive (TP+FN): 3367, actual negative (FP+TN): 110673\n",
      "accuracy: 99.549\n",
      "Finished Predicting\n",
      "elapsed_time: 158.76635599136353\n",
      "Client  1\n",
      "Number of sessions(hdfs_test_normal): 5574\n",
      "Number of sessions(hdfs_test_abnormal): 1139\n"
     ]
    },
    {
     "name": "stderr",
     "output_type": "stream",
     "text": [
      "100%|██████████| 5574/5574 [02:17<00:00, 40.64it/s]\n",
      "100%|██████████| 1139/1139 [00:10<00:00, 107.59it/s]\n"
     ]
    },
    {
     "name": "stdout",
     "output_type": "stream",
     "text": [
      "false positive (FP): 528, false negative (FN): 26, Precision: 86.353%, Recall: 99.228%, F1-measure: 92.344%\n",
      "actual positive (TP+FN): 3367, actual negative (FP+TN): 110673\n",
      "accuracy: 99.514\n",
      "Finished Predicting\n",
      "elapsed_time: 147.7478265762329\n",
      "Client  2\n",
      "Number of sessions(hdfs_test_normal): 5730\n",
      "Number of sessions(hdfs_test_abnormal): 1118\n"
     ]
    },
    {
     "name": "stderr",
     "output_type": "stream",
     "text": [
      "100%|██████████| 5730/5730 [01:31<00:00, 62.75it/s]\n",
      "100%|██████████| 1118/1118 [00:15<00:00, 73.24it/s]\n"
     ]
    },
    {
     "name": "stdout",
     "output_type": "stream",
     "text": [
      "false positive (FP): 468, false negative (FN): 30, Precision: 87.700%, Recall: 99.109%, F1-measure: 93.056%\n",
      "actual positive (TP+FN): 3367, actual negative (FP+TN): 110673\n",
      "accuracy: 99.563\n",
      "Finished Predicting\n",
      "elapsed_time: 106.59019589424133\n",
      "Client  3\n",
      "Number of sessions(hdfs_test_normal): 5747\n",
      "Number of sessions(hdfs_test_abnormal): 1159\n"
     ]
    },
    {
     "name": "stderr",
     "output_type": "stream",
     "text": [
      "100%|██████████| 5747/5747 [02:22<00:00, 40.27it/s]\n",
      "100%|██████████| 1159/1159 [00:16<00:00, 72.29it/s]\n"
     ]
    },
    {
     "name": "stdout",
     "output_type": "stream",
     "text": [
      "false positive (FP): 451, false negative (FN): 28, Precision: 88.100%, Recall: 99.168%, F1-measure: 93.307%\n",
      "actual positive (TP+FN): 3367, actual negative (FP+TN): 110673\n",
      "accuracy: 99.580\n",
      "Finished Predicting\n",
      "elapsed_time: 158.73008489608765\n",
      "Client  4\n",
      "Number of sessions(hdfs_test_normal): 5623\n",
      "Number of sessions(hdfs_test_abnormal): 1121\n"
     ]
    },
    {
     "name": "stderr",
     "output_type": "stream",
     "text": [
      "100%|██████████| 5623/5623 [02:18<00:00, 40.63it/s]\n",
      "100%|██████████| 1121/1121 [00:13<00:00, 81.82it/s] \n"
     ]
    },
    {
     "name": "stdout",
     "output_type": "stream",
     "text": [
      "false positive (FP): 525, false negative (FN): 32, Precision: 86.399%, Recall: 99.050%, F1-measure: 92.293%\n",
      "actual positive (TP+FN): 3367, actual negative (FP+TN): 110673\n",
      "accuracy: 99.512\n",
      "Finished Predicting\n",
      "elapsed_time: 152.10186505317688\n",
      "============ Train epoch 29 ============\n",
      "Client  0\n",
      "File ../data/hdfs/hdfs_train, number of sessions 971\n",
      "File ../data/hdfs/hdfs_train, number of seqs 9420\n",
      "sampling...\n"
     ]
    },
    {
     "name": "stderr",
     "output_type": "stream",
     "text": [
      "100%|██████████| 1058/1058 [00:00<00:00, 3455.51it/s]\n"
     ]
    },
    {
     "name": "stdout",
     "output_type": "stream",
     "text": [
      "File ../data/hdfs/hdfs_test_normal, number of sessions 110673\n",
      "File ../data/hdfs/hdfs_test_normal, number of seqs 1058\n",
      "Find 9420 train logs, 1058 validation logs\n",
      "Train batch size 2048 ,Validation batch size 2048\n",
      "Starting epoch: 0 | phase: train | ⏰: 17:23:20 | Learning rate: 0.000313\n"
     ]
    },
    {
     "name": "stderr",
     "output_type": "stream",
     "text": [
      "Train loss: 1.49043: 100%|██████████| 5/5 [00:00<00:00, 52.54it/s]\n"
     ]
    },
    {
     "name": "stdout",
     "output_type": "stream",
     "text": [
      "Starting epoch: 0 | phase: valid | ⏰: 17:23:20 \n"
     ]
    },
    {
     "name": "stderr",
     "output_type": "stream",
     "text": [
      ": 100%|██████████| 1/1 [00:00<00:00, 104.61it/s]\n"
     ]
    },
    {
     "name": "stdout",
     "output_type": "stream",
     "text": [
      "Validation loss: 1.4505139589309692\n",
      "Client  1\n",
      "File ../data/hdfs/hdfs_train, number of sessions 971\n",
      "File ../data/hdfs/hdfs_train, number of seqs 9080\n",
      "sampling...\n"
     ]
    },
    {
     "name": "stderr",
     "output_type": "stream",
     "text": [
      "100%|██████████| 1046/1046 [00:00<00:00, 3446.17it/s]\n"
     ]
    },
    {
     "name": "stdout",
     "output_type": "stream",
     "text": [
      "File ../data/hdfs/hdfs_test_normal, number of sessions 110673\n",
      "File ../data/hdfs/hdfs_test_normal, number of seqs 1046\n",
      "Find 9080 train logs, 1046 validation logs\n",
      "Train batch size 2048 ,Validation batch size 2048\n",
      "Starting epoch: 0 | phase: train | ⏰: 17:23:31 | Learning rate: 0.000313\n"
     ]
    },
    {
     "name": "stderr",
     "output_type": "stream",
     "text": [
      "Train loss: 1.50876: 100%|██████████| 5/5 [00:00<00:00, 55.33it/s]\n"
     ]
    },
    {
     "name": "stdout",
     "output_type": "stream",
     "text": [
      "Starting epoch: 0 | phase: valid | ⏰: 17:23:31 \n"
     ]
    },
    {
     "name": "stderr",
     "output_type": "stream",
     "text": [
      ": 100%|██████████| 1/1 [00:00<00:00, 105.41it/s]\n"
     ]
    },
    {
     "name": "stdout",
     "output_type": "stream",
     "text": [
      "Validation loss: 1.4324980974197388\n",
      "Client  2\n",
      "File ../data/hdfs/hdfs_train, number of sessions 971\n",
      "File ../data/hdfs/hdfs_train, number of seqs 9485\n",
      "sampling...\n"
     ]
    },
    {
     "name": "stderr",
     "output_type": "stream",
     "text": [
      "100%|██████████| 1051/1051 [00:00<00:00, 3522.74it/s]\n"
     ]
    },
    {
     "name": "stdout",
     "output_type": "stream",
     "text": [
      "File ../data/hdfs/hdfs_test_normal, number of sessions 110673\n",
      "File ../data/hdfs/hdfs_test_normal, number of seqs 1051\n",
      "Find 9485 train logs, 1051 validation logs\n",
      "Train batch size 2048 ,Validation batch size 2048\n",
      "Starting epoch: 0 | phase: train | ⏰: 17:23:43 | Learning rate: 0.000313\n"
     ]
    },
    {
     "name": "stderr",
     "output_type": "stream",
     "text": [
      "Train loss: 1.51473: 100%|██████████| 5/5 [00:00<00:00, 43.22it/s]\n"
     ]
    },
    {
     "name": "stdout",
     "output_type": "stream",
     "text": [
      "Starting epoch: 0 | phase: valid | ⏰: 17:23:44 \n"
     ]
    },
    {
     "name": "stderr",
     "output_type": "stream",
     "text": [
      ": 100%|██████████| 1/1 [00:00<00:00, 91.66it/s]\n"
     ]
    },
    {
     "name": "stdout",
     "output_type": "stream",
     "text": [
      "Validation loss: 1.4631291627883911\n",
      "Client  3\n",
      "File ../data/hdfs/hdfs_train, number of sessions 971\n",
      "File ../data/hdfs/hdfs_train, number of seqs 9267\n",
      "sampling...\n"
     ]
    },
    {
     "name": "stderr",
     "output_type": "stream",
     "text": [
      "100%|██████████| 1057/1057 [00:00<00:00, 3484.95it/s]\n"
     ]
    },
    {
     "name": "stdout",
     "output_type": "stream",
     "text": [
      "File ../data/hdfs/hdfs_test_normal, number of sessions 110673\n",
      "File ../data/hdfs/hdfs_test_normal, number of seqs 1057\n",
      "Find 9267 train logs, 1057 validation logs\n",
      "Train batch size 2048 ,Validation batch size 2048\n",
      "Starting epoch: 0 | phase: train | ⏰: 17:23:55 | Learning rate: 0.000313\n"
     ]
    },
    {
     "name": "stderr",
     "output_type": "stream",
     "text": [
      "Train loss: 1.49185: 100%|██████████| 5/5 [00:00<00:00, 56.86it/s]\n"
     ]
    },
    {
     "name": "stdout",
     "output_type": "stream",
     "text": [
      "Starting epoch: 0 | phase: valid | ⏰: 17:23:56 \n"
     ]
    },
    {
     "name": "stderr",
     "output_type": "stream",
     "text": [
      ": 100%|██████████| 1/1 [00:00<00:00, 105.43it/s]\n"
     ]
    },
    {
     "name": "stdout",
     "output_type": "stream",
     "text": [
      "Validation loss: 1.4647265672683716\n",
      "Client  4\n",
      "File ../data/hdfs/hdfs_train, number of sessions 971\n",
      "File ../data/hdfs/hdfs_train, number of seqs 9323\n",
      "sampling...\n"
     ]
    },
    {
     "name": "stderr",
     "output_type": "stream",
     "text": [
      "100%|██████████| 1044/1044 [00:00<00:00, 3565.66it/s]\n"
     ]
    },
    {
     "name": "stdout",
     "output_type": "stream",
     "text": [
      "File ../data/hdfs/hdfs_test_normal, number of sessions 110673\n",
      "File ../data/hdfs/hdfs_test_normal, number of seqs 1044\n",
      "Find 9323 train logs, 1044 validation logs\n",
      "Train batch size 2048 ,Validation batch size 2048\n",
      "Starting epoch: 0 | phase: train | ⏰: 17:24:07 | Learning rate: 0.000313\n"
     ]
    },
    {
     "name": "stderr",
     "output_type": "stream",
     "text": [
      "Train loss: 1.50331: 100%|██████████| 5/5 [00:00<00:00, 54.22it/s]\n"
     ]
    },
    {
     "name": "stdout",
     "output_type": "stream",
     "text": [
      "Starting epoch: 0 | phase: valid | ⏰: 17:24:08 \n"
     ]
    },
    {
     "name": "stderr",
     "output_type": "stream",
     "text": [
      ": 100%|██████████| 1/1 [00:00<00:00, 91.34it/s]\n"
     ]
    },
    {
     "name": "stdout",
     "output_type": "stream",
     "text": [
      "Validation loss: 1.4609363079071045\n",
      "============ Test epoch 29 ============\n",
      "Client  0\n",
      "Number of sessions(hdfs_test_normal): 5813\n",
      "Number of sessions(hdfs_test_abnormal): 1136\n"
     ]
    },
    {
     "name": "stderr",
     "output_type": "stream",
     "text": [
      "100%|██████████| 5813/5813 [02:25<00:00, 40.04it/s]\n",
      "100%|██████████| 1136/1136 [00:14<00:00, 77.41it/s]\n"
     ]
    },
    {
     "name": "stdout",
     "output_type": "stream",
     "text": [
      "false positive (FP): 490, false negative (FN): 24, Precision: 87.216%, Recall: 99.287%, F1-measure: 92.861%\n",
      "actual positive (TP+FN): 3367, actual negative (FP+TN): 110673\n",
      "accuracy: 99.549\n",
      "Finished Predicting\n",
      "elapsed_time: 159.87133169174194\n",
      "Client  1\n",
      "Number of sessions(hdfs_test_normal): 5574\n",
      "Number of sessions(hdfs_test_abnormal): 1139\n"
     ]
    },
    {
     "name": "stderr",
     "output_type": "stream",
     "text": [
      "100%|██████████| 5574/5574 [02:15<00:00, 41.02it/s]\n",
      "100%|██████████| 1139/1139 [00:15<00:00, 73.54it/s]\n"
     ]
    },
    {
     "name": "stdout",
     "output_type": "stream",
     "text": [
      "false positive (FP): 528, false negative (FN): 26, Precision: 86.353%, Recall: 99.228%, F1-measure: 92.344%\n",
      "actual positive (TP+FN): 3367, actual negative (FP+TN): 110673\n",
      "accuracy: 99.514\n",
      "Finished Predicting\n",
      "elapsed_time: 151.37532496452332\n",
      "Client  2\n",
      "Number of sessions(hdfs_test_normal): 5730\n",
      "Number of sessions(hdfs_test_abnormal): 1118\n"
     ]
    },
    {
     "name": "stderr",
     "output_type": "stream",
     "text": [
      "100%|██████████| 5730/5730 [02:22<00:00, 40.18it/s]\n",
      "100%|██████████| 1118/1118 [00:14<00:00, 76.28it/s] \n"
     ]
    },
    {
     "name": "stdout",
     "output_type": "stream",
     "text": [
      "false positive (FP): 468, false negative (FN): 30, Precision: 87.700%, Recall: 99.109%, F1-measure: 93.056%\n",
      "actual positive (TP+FN): 3367, actual negative (FP+TN): 110673\n",
      "accuracy: 99.563\n",
      "Finished Predicting\n",
      "elapsed_time: 157.27347683906555\n",
      "Client  3\n",
      "Number of sessions(hdfs_test_normal): 5747\n",
      "Number of sessions(hdfs_test_abnormal): 1159\n"
     ]
    },
    {
     "name": "stderr",
     "output_type": "stream",
     "text": [
      "100%|██████████| 5747/5747 [02:23<00:00, 40.03it/s]\n",
      "100%|██████████| 1159/1159 [00:16<00:00, 71.90it/s]\n"
     ]
    },
    {
     "name": "stdout",
     "output_type": "stream",
     "text": [
      "false positive (FP): 451, false negative (FN): 28, Precision: 88.100%, Recall: 99.168%, F1-measure: 93.307%\n",
      "actual positive (TP+FN): 3367, actual negative (FP+TN): 110673\n",
      "accuracy: 99.580\n",
      "Finished Predicting\n",
      "elapsed_time: 159.67444968223572\n",
      "Client  4\n",
      "Number of sessions(hdfs_test_normal): 5623\n",
      "Number of sessions(hdfs_test_abnormal): 1121\n"
     ]
    },
    {
     "name": "stderr",
     "output_type": "stream",
     "text": [
      "100%|██████████| 5623/5623 [01:33<00:00, 60.30it/s] \n",
      "100%|██████████| 1121/1121 [00:07<00:00, 144.12it/s]\n"
     ]
    },
    {
     "name": "stdout",
     "output_type": "stream",
     "text": [
      "false positive (FP): 525, false negative (FN): 32, Precision: 86.399%, Recall: 99.050%, F1-measure: 92.293%\n",
      "actual positive (TP+FN): 3367, actual negative (FP+TN): 110673\n",
      "accuracy: 99.512\n",
      "Finished Predicting\n",
      "elapsed_time: 101.03610420227051\n",
      "============ Train epoch 30 ============\n",
      "Client  0\n",
      "File ../data/hdfs/hdfs_train, number of sessions 971\n",
      "File ../data/hdfs/hdfs_train, number of seqs 9420\n",
      "sampling...\n"
     ]
    },
    {
     "name": "stderr",
     "output_type": "stream",
     "text": [
      "100%|██████████| 1058/1058 [00:00<00:00, 3457.73it/s]\n"
     ]
    },
    {
     "name": "stdout",
     "output_type": "stream",
     "text": [
      "File ../data/hdfs/hdfs_test_normal, number of sessions 110673\n",
      "File ../data/hdfs/hdfs_test_normal, number of seqs 1058\n",
      "Find 9420 train logs, 1058 validation logs\n",
      "Train batch size 2048 ,Validation batch size 2048\n",
      "Starting epoch: 0 | phase: train | ⏰: 17:36:32 | Learning rate: 0.000313\n"
     ]
    },
    {
     "name": "stderr",
     "output_type": "stream",
     "text": [
      "Train loss: 1.46645: 100%|██████████| 5/5 [00:00<00:00, 55.93it/s]\n"
     ]
    },
    {
     "name": "stdout",
     "output_type": "stream",
     "text": [
      "Starting epoch: 0 | phase: valid | ⏰: 17:36:32 \n"
     ]
    },
    {
     "name": "stderr",
     "output_type": "stream",
     "text": [
      ": 100%|██████████| 1/1 [00:00<00:00, 95.86it/s]\n"
     ]
    },
    {
     "name": "stdout",
     "output_type": "stream",
     "text": [
      "Validation loss: 1.4543484449386597\n",
      "Client  1\n",
      "File ../data/hdfs/hdfs_train, number of sessions 971\n",
      "File ../data/hdfs/hdfs_train, number of seqs 9080\n",
      "sampling...\n"
     ]
    },
    {
     "name": "stderr",
     "output_type": "stream",
     "text": [
      "100%|██████████| 1046/1046 [00:00<00:00, 3581.79it/s]\n"
     ]
    },
    {
     "name": "stdout",
     "output_type": "stream",
     "text": [
      "File ../data/hdfs/hdfs_test_normal, number of sessions 110673\n",
      "File ../data/hdfs/hdfs_test_normal, number of seqs 1046\n",
      "Find 9080 train logs, 1046 validation logs\n",
      "Train batch size 2048 ,Validation batch size 2048\n",
      "Starting epoch: 0 | phase: train | ⏰: 17:36:43 | Learning rate: 0.000313\n"
     ]
    },
    {
     "name": "stderr",
     "output_type": "stream",
     "text": [
      "Train loss: 1.48203: 100%|██████████| 5/5 [00:00<00:00, 56.92it/s]\n"
     ]
    },
    {
     "name": "stdout",
     "output_type": "stream",
     "text": [
      "Starting epoch: 0 | phase: valid | ⏰: 17:36:43 \n"
     ]
    },
    {
     "name": "stderr",
     "output_type": "stream",
     "text": [
      ": 100%|██████████| 1/1 [00:00<00:00, 105.65it/s]\n"
     ]
    },
    {
     "name": "stdout",
     "output_type": "stream",
     "text": [
      "Validation loss: 1.3964143991470337\n",
      "Client  2\n",
      "File ../data/hdfs/hdfs_train, number of sessions 971\n",
      "File ../data/hdfs/hdfs_train, number of seqs 9485\n",
      "sampling...\n"
     ]
    },
    {
     "name": "stderr",
     "output_type": "stream",
     "text": [
      "100%|██████████| 1051/1051 [00:00<00:00, 3541.62it/s]\n"
     ]
    },
    {
     "name": "stdout",
     "output_type": "stream",
     "text": [
      "File ../data/hdfs/hdfs_test_normal, number of sessions 110673\n",
      "File ../data/hdfs/hdfs_test_normal, number of seqs 1051\n",
      "Find 9485 train logs, 1051 validation logs\n",
      "Train batch size 2048 ,Validation batch size 2048\n",
      "Starting epoch: 0 | phase: train | ⏰: 17:36:55 | Learning rate: 0.000313\n"
     ]
    },
    {
     "name": "stderr",
     "output_type": "stream",
     "text": [
      "Train loss: 1.48923: 100%|██████████| 5/5 [00:00<00:00, 55.49it/s]\n"
     ]
    },
    {
     "name": "stdout",
     "output_type": "stream",
     "text": [
      "Starting epoch: 0 | phase: valid | ⏰: 17:36:55 \n"
     ]
    },
    {
     "name": "stderr",
     "output_type": "stream",
     "text": [
      ": 100%|██████████| 1/1 [00:00<00:00, 99.09it/s]\n"
     ]
    },
    {
     "name": "stdout",
     "output_type": "stream",
     "text": [
      "Validation loss: 1.4406061172485352\n",
      "Client  3\n",
      "File ../data/hdfs/hdfs_train, number of sessions 971\n",
      "File ../data/hdfs/hdfs_train, number of seqs 9267\n",
      "sampling...\n"
     ]
    },
    {
     "name": "stderr",
     "output_type": "stream",
     "text": [
      "100%|██████████| 1057/1057 [00:00<00:00, 3580.23it/s]\n"
     ]
    },
    {
     "name": "stdout",
     "output_type": "stream",
     "text": [
      "File ../data/hdfs/hdfs_test_normal, number of sessions 110673\n",
      "File ../data/hdfs/hdfs_test_normal, number of seqs 1057\n",
      "Find 9267 train logs, 1057 validation logs\n",
      "Train batch size 2048 ,Validation batch size 2048\n",
      "Starting epoch: 0 | phase: train | ⏰: 17:37:07 | Learning rate: 0.000313\n"
     ]
    },
    {
     "name": "stderr",
     "output_type": "stream",
     "text": [
      "Train loss: 1.47067: 100%|██████████| 5/5 [00:00<00:00, 55.92it/s]\n"
     ]
    },
    {
     "name": "stdout",
     "output_type": "stream",
     "text": [
      "Starting epoch: 0 | phase: valid | ⏰: 17:37:07 \n"
     ]
    },
    {
     "name": "stderr",
     "output_type": "stream",
     "text": [
      ": 100%|██████████| 1/1 [00:00<00:00, 98.98it/s]\n"
     ]
    },
    {
     "name": "stdout",
     "output_type": "stream",
     "text": [
      "Validation loss: 1.4185152053833008\n",
      "Client  4\n",
      "File ../data/hdfs/hdfs_train, number of sessions 971\n",
      "File ../data/hdfs/hdfs_train, number of seqs 9323\n",
      "sampling...\n"
     ]
    },
    {
     "name": "stderr",
     "output_type": "stream",
     "text": [
      "100%|██████████| 1044/1044 [00:00<00:00, 3601.64it/s]\n"
     ]
    },
    {
     "name": "stdout",
     "output_type": "stream",
     "text": [
      "File ../data/hdfs/hdfs_test_normal, number of sessions 110673\n",
      "File ../data/hdfs/hdfs_test_normal, number of seqs 1044\n",
      "Find 9323 train logs, 1044 validation logs\n",
      "Train batch size 2048 ,Validation batch size 2048\n",
      "Starting epoch: 0 | phase: train | ⏰: 17:37:19 | Learning rate: 0.000313\n"
     ]
    },
    {
     "name": "stderr",
     "output_type": "stream",
     "text": [
      "Train loss: 1.47487: 100%|██████████| 5/5 [00:00<00:00, 55.02it/s]\n"
     ]
    },
    {
     "name": "stdout",
     "output_type": "stream",
     "text": [
      "Starting epoch: 0 | phase: valid | ⏰: 17:37:19 \n"
     ]
    },
    {
     "name": "stderr",
     "output_type": "stream",
     "text": [
      ": 100%|██████████| 1/1 [00:00<00:00, 101.25it/s]\n"
     ]
    },
    {
     "name": "stdout",
     "output_type": "stream",
     "text": [
      "Validation loss: 1.4462929964065552\n",
      "============ Test epoch 30 ============\n",
      "Client  0\n",
      "Number of sessions(hdfs_test_normal): 5813\n",
      "Number of sessions(hdfs_test_abnormal): 1136\n"
     ]
    },
    {
     "name": "stderr",
     "output_type": "stream",
     "text": [
      "100%|██████████| 5813/5813 [02:24<00:00, 40.16it/s]\n",
      "100%|██████████| 1136/1136 [00:14<00:00, 77.02it/s]\n"
     ]
    },
    {
     "name": "stdout",
     "output_type": "stream",
     "text": [
      "false positive (FP): 490, false negative (FN): 24, Precision: 87.216%, Recall: 99.287%, F1-measure: 92.861%\n",
      "actual positive (TP+FN): 3367, actual negative (FP+TN): 110673\n",
      "accuracy: 99.549\n",
      "Finished Predicting\n",
      "elapsed_time: 159.49875688552856\n",
      "Client  1\n",
      "Number of sessions(hdfs_test_normal): 5574\n",
      "Number of sessions(hdfs_test_abnormal): 1139\n"
     ]
    },
    {
     "name": "stderr",
     "output_type": "stream",
     "text": [
      "100%|██████████| 5574/5574 [03:04<00:00, 30.17it/s]\n",
      "100%|██████████| 1139/1139 [00:21<00:00, 52.18it/s]\n"
     ]
    },
    {
     "name": "stdout",
     "output_type": "stream",
     "text": [
      "false positive (FP): 528, false negative (FN): 26, Precision: 86.353%, Recall: 99.228%, F1-measure: 92.344%\n",
      "actual positive (TP+FN): 3367, actual negative (FP+TN): 110673\n",
      "accuracy: 99.514\n",
      "Finished Predicting\n",
      "elapsed_time: 206.56971621513367\n",
      "Client  2\n",
      "Number of sessions(hdfs_test_normal): 5730\n",
      "Number of sessions(hdfs_test_abnormal): 1118\n"
     ]
    },
    {
     "name": "stderr",
     "output_type": "stream",
     "text": [
      "100%|██████████| 5730/5730 [02:35<00:00, 36.84it/s]\n",
      "100%|██████████| 1118/1118 [00:19<00:00, 57.16it/s]\n"
     ]
    },
    {
     "name": "stdout",
     "output_type": "stream",
     "text": [
      "false positive (FP): 468, false negative (FN): 30, Precision: 87.700%, Recall: 99.109%, F1-measure: 93.056%\n",
      "actual positive (TP+FN): 3367, actual negative (FP+TN): 110673\n",
      "accuracy: 99.563\n",
      "Finished Predicting\n",
      "elapsed_time: 175.0833191871643\n",
      "Client  3\n",
      "Number of sessions(hdfs_test_normal): 5747\n",
      "Number of sessions(hdfs_test_abnormal): 1159\n"
     ]
    },
    {
     "name": "stderr",
     "output_type": "stream",
     "text": [
      "100%|██████████| 5747/5747 [03:22<00:00, 28.40it/s]\n",
      "100%|██████████| 1159/1159 [00:22<00:00, 50.59it/s]\n"
     ]
    },
    {
     "name": "stdout",
     "output_type": "stream",
     "text": [
      "false positive (FP): 451, false negative (FN): 28, Precision: 88.100%, Recall: 99.168%, F1-measure: 93.307%\n",
      "actual positive (TP+FN): 3367, actual negative (FP+TN): 110673\n",
      "accuracy: 99.580\n",
      "Finished Predicting\n",
      "elapsed_time: 225.28347635269165\n",
      "Client  4\n",
      "Number of sessions(hdfs_test_normal): 5623\n",
      "Number of sessions(hdfs_test_abnormal): 1121\n"
     ]
    },
    {
     "name": "stderr",
     "output_type": "stream",
     "text": [
      "100%|██████████| 5623/5623 [02:51<00:00, 32.83it/s]\n",
      "100%|██████████| 1121/1121 [00:21<00:00, 52.56it/s]\n"
     ]
    },
    {
     "name": "stdout",
     "output_type": "stream",
     "text": [
      "false positive (FP): 525, false negative (FN): 32, Precision: 86.399%, Recall: 99.050%, F1-measure: 92.293%\n",
      "actual positive (TP+FN): 3367, actual negative (FP+TN): 110673\n",
      "accuracy: 99.512\n",
      "Finished Predicting\n",
      "elapsed_time: 192.59574484825134\n",
      "============ Train epoch 31 ============\n",
      "Client  0\n",
      "File ../data/hdfs/hdfs_train, number of sessions 971\n",
      "File ../data/hdfs/hdfs_train, number of seqs 9420\n",
      "sampling...\n"
     ]
    },
    {
     "name": "stderr",
     "output_type": "stream",
     "text": [
      "100%|██████████| 1058/1058 [00:00<00:00, 3582.13it/s]\n"
     ]
    },
    {
     "name": "stdout",
     "output_type": "stream",
     "text": [
      "File ../data/hdfs/hdfs_test_normal, number of sessions 110673\n",
      "File ../data/hdfs/hdfs_test_normal, number of seqs 1058\n",
      "Find 9420 train logs, 1058 validation logs\n",
      "Train batch size 2048 ,Validation batch size 2048\n",
      "Starting epoch: 0 | phase: train | ⏰: 17:53:33 | Learning rate: 0.000313\n"
     ]
    },
    {
     "name": "stderr",
     "output_type": "stream",
     "text": [
      "Train loss: 1.43925: 100%|██████████| 5/5 [00:00<00:00, 54.68it/s]\n"
     ]
    },
    {
     "name": "stdout",
     "output_type": "stream",
     "text": [
      "Starting epoch: 0 | phase: valid | ⏰: 17:53:33 \n"
     ]
    },
    {
     "name": "stderr",
     "output_type": "stream",
     "text": [
      ": 100%|██████████| 1/1 [00:00<00:00, 101.85it/s]\n"
     ]
    },
    {
     "name": "stdout",
     "output_type": "stream",
     "text": [
      "Validation loss: 1.4017099142074585\n",
      "Client  1\n",
      "File ../data/hdfs/hdfs_train, number of sessions 971\n",
      "File ../data/hdfs/hdfs_train, number of seqs 9080\n",
      "sampling...\n"
     ]
    },
    {
     "name": "stderr",
     "output_type": "stream",
     "text": [
      "100%|██████████| 1046/1046 [00:00<00:00, 3623.21it/s]\n"
     ]
    },
    {
     "name": "stdout",
     "output_type": "stream",
     "text": [
      "File ../data/hdfs/hdfs_test_normal, number of sessions 110673\n",
      "File ../data/hdfs/hdfs_test_normal, number of seqs 1046\n",
      "Find 9080 train logs, 1046 validation logs\n",
      "Train batch size 2048 ,Validation batch size 2048\n",
      "Starting epoch: 0 | phase: train | ⏰: 17:53:45 | Learning rate: 0.000313\n"
     ]
    },
    {
     "name": "stderr",
     "output_type": "stream",
     "text": [
      "Train loss: 1.45449: 100%|██████████| 5/5 [00:00<00:00, 55.80it/s]\n"
     ]
    },
    {
     "name": "stdout",
     "output_type": "stream",
     "text": [
      "Starting epoch: 0 | phase: valid | ⏰: 17:53:45 \n"
     ]
    },
    {
     "name": "stderr",
     "output_type": "stream",
     "text": [
      ": 100%|██████████| 1/1 [00:00<00:00, 104.96it/s]\n"
     ]
    },
    {
     "name": "stdout",
     "output_type": "stream",
     "text": [
      "Validation loss: 1.4419108629226685\n",
      "Client  2\n",
      "File ../data/hdfs/hdfs_train, number of sessions 971\n",
      "File ../data/hdfs/hdfs_train, number of seqs 9485\n",
      "sampling...\n"
     ]
    },
    {
     "name": "stderr",
     "output_type": "stream",
     "text": [
      "100%|██████████| 1051/1051 [00:00<00:00, 3419.96it/s]\n"
     ]
    },
    {
     "name": "stdout",
     "output_type": "stream",
     "text": [
      "File ../data/hdfs/hdfs_test_normal, number of sessions 110673\n",
      "File ../data/hdfs/hdfs_test_normal, number of seqs 1051\n",
      "Find 9485 train logs, 1051 validation logs\n",
      "Train batch size 2048 ,Validation batch size 2048\n",
      "Starting epoch: 0 | phase: train | ⏰: 17:53:57 | Learning rate: 0.000313\n"
     ]
    },
    {
     "name": "stderr",
     "output_type": "stream",
     "text": [
      "Train loss: 1.46298: 100%|██████████| 5/5 [00:00<00:00, 53.81it/s]\n"
     ]
    },
    {
     "name": "stdout",
     "output_type": "stream",
     "text": [
      "Starting epoch: 0 | phase: valid | ⏰: 17:53:57 \n"
     ]
    },
    {
     "name": "stderr",
     "output_type": "stream",
     "text": [
      ": 100%|██████████| 1/1 [00:00<00:00, 97.08it/s]\n"
     ]
    },
    {
     "name": "stdout",
     "output_type": "stream",
     "text": [
      "Validation loss: 1.4630534648895264\n",
      "Client  3\n",
      "File ../data/hdfs/hdfs_train, number of sessions 971\n",
      "File ../data/hdfs/hdfs_train, number of seqs 9267\n",
      "sampling...\n"
     ]
    },
    {
     "name": "stderr",
     "output_type": "stream",
     "text": [
      "100%|██████████| 1057/1057 [00:00<00:00, 3467.23it/s]\n"
     ]
    },
    {
     "name": "stdout",
     "output_type": "stream",
     "text": [
      "File ../data/hdfs/hdfs_test_normal, number of sessions 110673\n",
      "File ../data/hdfs/hdfs_test_normal, number of seqs 1057\n",
      "Find 9267 train logs, 1057 validation logs\n",
      "Train batch size 2048 ,Validation batch size 2048\n",
      "Starting epoch: 0 | phase: train | ⏰: 17:54:09 | Learning rate: 0.000313\n"
     ]
    },
    {
     "name": "stderr",
     "output_type": "stream",
     "text": [
      "Train loss: 1.44398: 100%|██████████| 5/5 [00:00<00:00, 55.82it/s]\n"
     ]
    },
    {
     "name": "stdout",
     "output_type": "stream",
     "text": [
      "Starting epoch: 0 | phase: valid | ⏰: 17:54:09 \n"
     ]
    },
    {
     "name": "stderr",
     "output_type": "stream",
     "text": [
      ": 100%|██████████| 1/1 [00:00<00:00, 96.54it/s]\n"
     ]
    },
    {
     "name": "stdout",
     "output_type": "stream",
     "text": [
      "Validation loss: 1.380387544631958\n",
      "Client  4\n",
      "File ../data/hdfs/hdfs_train, number of sessions 971\n",
      "File ../data/hdfs/hdfs_train, number of seqs 9323\n",
      "sampling...\n"
     ]
    },
    {
     "name": "stderr",
     "output_type": "stream",
     "text": [
      "100%|██████████| 1044/1044 [00:00<00:00, 3479.98it/s]\n"
     ]
    },
    {
     "name": "stdout",
     "output_type": "stream",
     "text": [
      "File ../data/hdfs/hdfs_test_normal, number of sessions 110673\n",
      "File ../data/hdfs/hdfs_test_normal, number of seqs 1044\n",
      "Find 9323 train logs, 1044 validation logs\n",
      "Train batch size 2048 ,Validation batch size 2048\n",
      "Starting epoch: 0 | phase: train | ⏰: 17:54:21 | Learning rate: 0.000313\n"
     ]
    },
    {
     "name": "stderr",
     "output_type": "stream",
     "text": [
      "Train loss: 1.44845: 100%|██████████| 5/5 [00:00<00:00, 55.66it/s]\n"
     ]
    },
    {
     "name": "stdout",
     "output_type": "stream",
     "text": [
      "Starting epoch: 0 | phase: valid | ⏰: 17:54:21 \n"
     ]
    },
    {
     "name": "stderr",
     "output_type": "stream",
     "text": [
      ": 100%|██████████| 1/1 [00:00<00:00, 100.52it/s]\n"
     ]
    },
    {
     "name": "stdout",
     "output_type": "stream",
     "text": [
      "Validation loss: 1.426479697227478\n",
      "============ Test epoch 31 ============\n",
      "Client  0\n",
      "Number of sessions(hdfs_test_normal): 5813\n",
      "Number of sessions(hdfs_test_abnormal): 1136\n"
     ]
    },
    {
     "name": "stderr",
     "output_type": "stream",
     "text": [
      "100%|██████████| 5813/5813 [03:21<00:00, 28.89it/s]\n",
      "100%|██████████| 1136/1136 [00:14<00:00, 76.72it/s]\n"
     ]
    },
    {
     "name": "stdout",
     "output_type": "stream",
     "text": [
      "false positive (FP): 490, false negative (FN): 24, Precision: 87.216%, Recall: 99.287%, F1-measure: 92.861%\n",
      "actual positive (TP+FN): 3367, actual negative (FP+TN): 110673\n",
      "accuracy: 99.549\n",
      "Finished Predicting\n",
      "elapsed_time: 216.04707789421082\n",
      "Client  1\n",
      "Number of sessions(hdfs_test_normal): 5574\n",
      "Number of sessions(hdfs_test_abnormal): 1139\n"
     ]
    },
    {
     "name": "stderr",
     "output_type": "stream",
     "text": [
      "100%|██████████| 5574/5574 [02:43<00:00, 34.12it/s]\n",
      "100%|██████████| 1139/1139 [00:15<00:00, 73.44it/s]\n"
     ]
    },
    {
     "name": "stdout",
     "output_type": "stream",
     "text": [
      "false positive (FP): 528, false negative (FN): 26, Precision: 86.353%, Recall: 99.228%, F1-measure: 92.344%\n",
      "actual positive (TP+FN): 3367, actual negative (FP+TN): 110673\n",
      "accuracy: 99.514\n",
      "Finished Predicting\n",
      "elapsed_time: 178.8993947505951\n",
      "Client  2\n",
      "Number of sessions(hdfs_test_normal): 5730\n",
      "Number of sessions(hdfs_test_abnormal): 1118\n"
     ]
    },
    {
     "name": "stderr",
     "output_type": "stream",
     "text": [
      "100%|██████████| 5730/5730 [03:07<00:00, 30.51it/s]\n",
      "100%|██████████| 1118/1118 [00:15<00:00, 72.61it/s]\n"
     ]
    },
    {
     "name": "stdout",
     "output_type": "stream",
     "text": [
      "false positive (FP): 468, false negative (FN): 30, Precision: 87.700%, Recall: 99.109%, F1-measure: 93.056%\n",
      "actual positive (TP+FN): 3367, actual negative (FP+TN): 110673\n",
      "accuracy: 99.563\n",
      "Finished Predicting\n",
      "elapsed_time: 203.22204661369324\n",
      "Client  3\n",
      "Number of sessions(hdfs_test_normal): 5747\n",
      "Number of sessions(hdfs_test_abnormal): 1159\n"
     ]
    },
    {
     "name": "stderr",
     "output_type": "stream",
     "text": [
      "100%|██████████| 5747/5747 [03:15<00:00, 29.35it/s]\n",
      "100%|██████████| 1159/1159 [00:22<00:00, 51.49it/s]\n"
     ]
    },
    {
     "name": "stdout",
     "output_type": "stream",
     "text": [
      "false positive (FP): 451, false negative (FN): 28, Precision: 88.100%, Recall: 99.168%, F1-measure: 93.307%\n",
      "actual positive (TP+FN): 3367, actual negative (FP+TN): 110673\n",
      "accuracy: 99.580\n",
      "Finished Predicting\n",
      "elapsed_time: 218.3446559906006\n",
      "Client  4\n",
      "Number of sessions(hdfs_test_normal): 5623\n",
      "Number of sessions(hdfs_test_abnormal): 1121\n"
     ]
    },
    {
     "name": "stderr",
     "output_type": "stream",
     "text": [
      "100%|██████████| 5623/5623 [02:33<00:00, 36.66it/s]\n",
      "100%|██████████| 1121/1121 [00:07<00:00, 144.25it/s]\n"
     ]
    },
    {
     "name": "stdout",
     "output_type": "stream",
     "text": [
      "false positive (FP): 525, false negative (FN): 32, Precision: 86.399%, Recall: 99.050%, F1-measure: 92.293%\n",
      "actual positive (TP+FN): 3367, actual negative (FP+TN): 110673\n",
      "accuracy: 99.512\n",
      "Finished Predicting\n",
      "elapsed_time: 161.1464569568634\n",
      "============ Train epoch 32 ============\n",
      "Client  0\n",
      "File ../data/hdfs/hdfs_train, number of sessions 971\n",
      "File ../data/hdfs/hdfs_train, number of seqs 9420\n",
      "sampling...\n"
     ]
    },
    {
     "name": "stderr",
     "output_type": "stream",
     "text": [
      "100%|██████████| 1058/1058 [00:00<00:00, 3755.73it/s]\n"
     ]
    },
    {
     "name": "stdout",
     "output_type": "stream",
     "text": [
      "File ../data/hdfs/hdfs_test_normal, number of sessions 110673\n",
      "File ../data/hdfs/hdfs_test_normal, number of seqs 1058\n",
      "Find 9420 train logs, 1058 validation logs\n",
      "Train batch size 2048 ,Validation batch size 2048\n",
      "Starting epoch: 0 | phase: train | ⏰: 18:10:53 | Learning rate: 0.000313\n"
     ]
    },
    {
     "name": "stderr",
     "output_type": "stream",
     "text": [
      "Train loss: 1.41458: 100%|██████████| 5/5 [00:00<00:00, 52.02it/s]\n"
     ]
    },
    {
     "name": "stdout",
     "output_type": "stream",
     "text": [
      "Starting epoch: 0 | phase: valid | ⏰: 18:10:53 \n"
     ]
    },
    {
     "name": "stderr",
     "output_type": "stream",
     "text": [
      ": 100%|██████████| 1/1 [00:00<00:00, 97.66it/s]\n"
     ]
    },
    {
     "name": "stdout",
     "output_type": "stream",
     "text": [
      "Validation loss: 1.462432861328125\n",
      "Client  1\n",
      "File ../data/hdfs/hdfs_train, number of sessions 971\n",
      "File ../data/hdfs/hdfs_train, number of seqs 9080\n",
      "sampling...\n"
     ]
    },
    {
     "name": "stderr",
     "output_type": "stream",
     "text": [
      "100%|██████████| 1046/1046 [00:00<00:00, 3685.83it/s]\n"
     ]
    },
    {
     "name": "stdout",
     "output_type": "stream",
     "text": [
      "File ../data/hdfs/hdfs_test_normal, number of sessions 110673\n",
      "File ../data/hdfs/hdfs_test_normal, number of seqs 1046\n",
      "Find 9080 train logs, 1046 validation logs\n",
      "Train batch size 2048 ,Validation batch size 2048\n",
      "Starting epoch: 0 | phase: train | ⏰: 18:11:05 | Learning rate: 0.000313\n"
     ]
    },
    {
     "name": "stderr",
     "output_type": "stream",
     "text": [
      "Train loss: 1.43496: 100%|██████████| 5/5 [00:00<00:00, 54.35it/s]\n"
     ]
    },
    {
     "name": "stdout",
     "output_type": "stream",
     "text": [
      "Starting epoch: 0 | phase: valid | ⏰: 18:11:05 \n"
     ]
    },
    {
     "name": "stderr",
     "output_type": "stream",
     "text": [
      ": 100%|██████████| 1/1 [00:00<00:00, 98.35it/s]\n"
     ]
    },
    {
     "name": "stdout",
     "output_type": "stream",
     "text": [
      "Validation loss: 1.3475147485733032\n",
      "Client  2\n",
      "File ../data/hdfs/hdfs_train, number of sessions 971\n",
      "File ../data/hdfs/hdfs_train, number of seqs 9485\n",
      "sampling...\n"
     ]
    },
    {
     "name": "stderr",
     "output_type": "stream",
     "text": [
      "100%|██████████| 1051/1051 [00:00<00:00, 3432.85it/s]\n"
     ]
    },
    {
     "name": "stdout",
     "output_type": "stream",
     "text": [
      "File ../data/hdfs/hdfs_test_normal, number of sessions 110673\n",
      "File ../data/hdfs/hdfs_test_normal, number of seqs 1051\n",
      "Find 9485 train logs, 1051 validation logs\n",
      "Train batch size 2048 ,Validation batch size 2048\n",
      "Starting epoch: 0 | phase: train | ⏰: 18:11:17 | Learning rate: 0.000313\n"
     ]
    },
    {
     "name": "stderr",
     "output_type": "stream",
     "text": [
      "Train loss: 1.43869: 100%|██████████| 5/5 [00:00<00:00, 47.22it/s]\n"
     ]
    },
    {
     "name": "stdout",
     "output_type": "stream",
     "text": [
      "Starting epoch: 0 | phase: valid | ⏰: 18:11:17 \n"
     ]
    },
    {
     "name": "stderr",
     "output_type": "stream",
     "text": [
      ": 100%|██████████| 1/1 [00:00<00:00, 98.11it/s]\n"
     ]
    },
    {
     "name": "stdout",
     "output_type": "stream",
     "text": [
      "Validation loss: 1.396732211112976\n",
      "Client  3\n",
      "File ../data/hdfs/hdfs_train, number of sessions 971\n",
      "File ../data/hdfs/hdfs_train, number of seqs 9267\n",
      "sampling...\n"
     ]
    },
    {
     "name": "stderr",
     "output_type": "stream",
     "text": [
      "100%|██████████| 1057/1057 [00:00<00:00, 3399.01it/s]\n"
     ]
    },
    {
     "name": "stdout",
     "output_type": "stream",
     "text": [
      "File ../data/hdfs/hdfs_test_normal, number of sessions 110673\n",
      "File ../data/hdfs/hdfs_test_normal, number of seqs 1057\n",
      "Find 9267 train logs, 1057 validation logs\n",
      "Train batch size 2048 ,Validation batch size 2048\n",
      "Starting epoch: 0 | phase: train | ⏰: 18:11:29 | Learning rate: 0.000313\n"
     ]
    },
    {
     "name": "stderr",
     "output_type": "stream",
     "text": [
      "Train loss: 1.42073: 100%|██████████| 5/5 [00:00<00:00, 52.77it/s]\n"
     ]
    },
    {
     "name": "stdout",
     "output_type": "stream",
     "text": [
      "Starting epoch: 0 | phase: valid | ⏰: 18:11:29 \n"
     ]
    },
    {
     "name": "stderr",
     "output_type": "stream",
     "text": [
      ": 100%|██████████| 1/1 [00:00<00:00, 96.44it/s]\n"
     ]
    },
    {
     "name": "stdout",
     "output_type": "stream",
     "text": [
      "Validation loss: 1.4122358560562134\n",
      "Client  4\n",
      "File ../data/hdfs/hdfs_train, number of sessions 971\n",
      "File ../data/hdfs/hdfs_train, number of seqs 9323\n",
      "sampling...\n"
     ]
    },
    {
     "name": "stderr",
     "output_type": "stream",
     "text": [
      "100%|██████████| 1044/1044 [00:00<00:00, 3509.91it/s]\n"
     ]
    },
    {
     "name": "stdout",
     "output_type": "stream",
     "text": [
      "File ../data/hdfs/hdfs_test_normal, number of sessions 110673\n",
      "File ../data/hdfs/hdfs_test_normal, number of seqs 1044\n",
      "Find 9323 train logs, 1044 validation logs\n",
      "Train batch size 2048 ,Validation batch size 2048\n",
      "Starting epoch: 0 | phase: train | ⏰: 18:11:41 | Learning rate: 0.000313\n"
     ]
    },
    {
     "name": "stderr",
     "output_type": "stream",
     "text": [
      "Train loss: 1.42596: 100%|██████████| 5/5 [00:00<00:00, 53.09it/s]\n"
     ]
    },
    {
     "name": "stdout",
     "output_type": "stream",
     "text": [
      "Starting epoch: 0 | phase: valid | ⏰: 18:11:41 \n"
     ]
    },
    {
     "name": "stderr",
     "output_type": "stream",
     "text": [
      ": 100%|██████████| 1/1 [00:00<00:00, 95.60it/s]\n"
     ]
    },
    {
     "name": "stdout",
     "output_type": "stream",
     "text": [
      "Validation loss: 1.363914132118225\n",
      "============ Test epoch 32 ============\n",
      "Client  0\n",
      "Number of sessions(hdfs_test_normal): 5813\n",
      "Number of sessions(hdfs_test_abnormal): 1136\n"
     ]
    },
    {
     "name": "stderr",
     "output_type": "stream",
     "text": [
      "100%|██████████| 5813/5813 [03:23<00:00, 28.50it/s]\n",
      "100%|██████████| 1136/1136 [00:19<00:00, 57.25it/s]\n"
     ]
    },
    {
     "name": "stdout",
     "output_type": "stream",
     "text": [
      "false positive (FP): 490, false negative (FN): 24, Precision: 87.216%, Recall: 99.287%, F1-measure: 92.861%\n",
      "actual positive (TP+FN): 3367, actual negative (FP+TN): 110673\n",
      "accuracy: 99.549\n",
      "Finished Predicting\n",
      "elapsed_time: 223.7770218849182\n",
      "Client  1\n",
      "Number of sessions(hdfs_test_normal): 5574\n",
      "Number of sessions(hdfs_test_abnormal): 1139\n"
     ]
    },
    {
     "name": "stderr",
     "output_type": "stream",
     "text": [
      "100%|██████████| 5574/5574 [02:48<00:00, 33.07it/s]\n",
      "100%|██████████| 1139/1139 [00:21<00:00, 52.18it/s]\n"
     ]
    },
    {
     "name": "stdout",
     "output_type": "stream",
     "text": [
      "false positive (FP): 528, false negative (FN): 26, Precision: 86.353%, Recall: 99.228%, F1-measure: 92.344%\n",
      "actual positive (TP+FN): 3367, actual negative (FP+TN): 110673\n",
      "accuracy: 99.514\n",
      "Finished Predicting\n",
      "elapsed_time: 190.3625659942627\n",
      "Client  2\n",
      "Number of sessions(hdfs_test_normal): 5730\n",
      "Number of sessions(hdfs_test_abnormal): 1118\n"
     ]
    },
    {
     "name": "stderr",
     "output_type": "stream",
     "text": [
      "100%|██████████| 5730/5730 [03:21<00:00, 28.38it/s]\n",
      "100%|██████████| 1118/1118 [00:21<00:00, 52.42it/s]\n"
     ]
    },
    {
     "name": "stdout",
     "output_type": "stream",
     "text": [
      "false positive (FP): 468, false negative (FN): 30, Precision: 87.700%, Recall: 99.109%, F1-measure: 93.056%\n",
      "actual positive (TP+FN): 3367, actual negative (FP+TN): 110673\n",
      "accuracy: 99.563\n",
      "Finished Predicting\n",
      "elapsed_time: 223.21885180473328\n",
      "Client  3\n",
      "Number of sessions(hdfs_test_normal): 5747\n",
      "Number of sessions(hdfs_test_abnormal): 1159\n"
     ]
    },
    {
     "name": "stderr",
     "output_type": "stream",
     "text": [
      "100%|██████████| 5747/5747 [02:57<00:00, 32.39it/s]\n",
      "100%|██████████| 1159/1159 [00:18<00:00, 61.47it/s]\n"
     ]
    },
    {
     "name": "stdout",
     "output_type": "stream",
     "text": [
      "false positive (FP): 451, false negative (FN): 28, Precision: 88.100%, Recall: 99.168%, F1-measure: 93.307%\n",
      "actual positive (TP+FN): 3367, actual negative (FP+TN): 110673\n",
      "accuracy: 99.580\n",
      "Finished Predicting\n",
      "elapsed_time: 196.26898646354675\n",
      "Client  4\n",
      "Number of sessions(hdfs_test_normal): 5623\n",
      "Number of sessions(hdfs_test_abnormal): 1121\n"
     ]
    },
    {
     "name": "stderr",
     "output_type": "stream",
     "text": [
      "100%|██████████| 5623/5623 [02:53<00:00, 32.37it/s]\n",
      "100%|██████████| 1121/1121 [00:21<00:00, 53.01it/s]\n"
     ]
    },
    {
     "name": "stdout",
     "output_type": "stream",
     "text": [
      "false positive (FP): 525, false negative (FN): 32, Precision: 86.399%, Recall: 99.050%, F1-measure: 92.293%\n",
      "actual positive (TP+FN): 3367, actual negative (FP+TN): 110673\n",
      "accuracy: 99.512\n",
      "Finished Predicting\n",
      "elapsed_time: 194.8449902534485\n",
      "============ Train epoch 33 ============\n",
      "Client  0\n",
      "File ../data/hdfs/hdfs_train, number of sessions 971\n",
      "File ../data/hdfs/hdfs_train, number of seqs 9420\n",
      "sampling...\n"
     ]
    },
    {
     "name": "stderr",
     "output_type": "stream",
     "text": [
      "100%|██████████| 1058/1058 [00:00<00:00, 3585.67it/s]\n"
     ]
    },
    {
     "name": "stdout",
     "output_type": "stream",
     "text": [
      "File ../data/hdfs/hdfs_test_normal, number of sessions 110673\n",
      "File ../data/hdfs/hdfs_test_normal, number of seqs 1058\n",
      "Find 9420 train logs, 1058 validation logs\n",
      "Train batch size 2048 ,Validation batch size 2048\n",
      "Starting epoch: 0 | phase: train | ⏰: 18:29:04 | Learning rate: 0.000313\n"
     ]
    },
    {
     "name": "stderr",
     "output_type": "stream",
     "text": [
      "Train loss: 1.39272: 100%|██████████| 5/5 [00:00<00:00, 53.82it/s]\n"
     ]
    },
    {
     "name": "stdout",
     "output_type": "stream",
     "text": [
      "Starting epoch: 0 | phase: valid | ⏰: 18:29:04 \n"
     ]
    },
    {
     "name": "stderr",
     "output_type": "stream",
     "text": [
      ": 100%|██████████| 1/1 [00:00<00:00, 95.54it/s]\n"
     ]
    },
    {
     "name": "stdout",
     "output_type": "stream",
     "text": [
      "Validation loss: 1.4017997980117798\n",
      "Client  1\n",
      "File ../data/hdfs/hdfs_train, number of sessions 971\n",
      "File ../data/hdfs/hdfs_train, number of seqs 9080\n",
      "sampling...\n"
     ]
    },
    {
     "name": "stderr",
     "output_type": "stream",
     "text": [
      "100%|██████████| 1046/1046 [00:00<00:00, 3559.76it/s]\n"
     ]
    },
    {
     "name": "stdout",
     "output_type": "stream",
     "text": [
      "File ../data/hdfs/hdfs_test_normal, number of sessions 110673\n",
      "File ../data/hdfs/hdfs_test_normal, number of seqs 1046\n",
      "Find 9080 train logs, 1046 validation logs\n",
      "Train batch size 2048 ,Validation batch size 2048\n",
      "Starting epoch: 0 | phase: train | ⏰: 18:29:16 | Learning rate: 0.000313\n"
     ]
    },
    {
     "name": "stderr",
     "output_type": "stream",
     "text": [
      "Train loss: 1.41013: 100%|██████████| 5/5 [00:00<00:00, 56.15it/s]\n"
     ]
    },
    {
     "name": "stdout",
     "output_type": "stream",
     "text": [
      "Starting epoch: 0 | phase: valid | ⏰: 18:29:16 \n"
     ]
    },
    {
     "name": "stderr",
     "output_type": "stream",
     "text": [
      ": 100%|██████████| 1/1 [00:00<00:00, 98.12it/s]\n"
     ]
    },
    {
     "name": "stdout",
     "output_type": "stream",
     "text": [
      "Validation loss: 1.393095850944519\n",
      "Client  2\n",
      "File ../data/hdfs/hdfs_train, number of sessions 971\n",
      "File ../data/hdfs/hdfs_train, number of seqs 9485\n",
      "sampling...\n"
     ]
    },
    {
     "name": "stderr",
     "output_type": "stream",
     "text": [
      "100%|██████████| 1051/1051 [00:00<00:00, 3552.62it/s]\n"
     ]
    },
    {
     "name": "stdout",
     "output_type": "stream",
     "text": [
      "File ../data/hdfs/hdfs_test_normal, number of sessions 110673\n",
      "File ../data/hdfs/hdfs_test_normal, number of seqs 1051\n",
      "Find 9485 train logs, 1051 validation logs\n",
      "Train batch size 2048 ,Validation batch size 2048\n",
      "Starting epoch: 0 | phase: train | ⏰: 18:29:28 | Learning rate: 0.000313\n"
     ]
    },
    {
     "name": "stderr",
     "output_type": "stream",
     "text": [
      "Train loss: 1.41326: 100%|██████████| 5/5 [00:00<00:00, 52.55it/s]\n"
     ]
    },
    {
     "name": "stdout",
     "output_type": "stream",
     "text": [
      "Starting epoch: 0 | phase: valid | ⏰: 18:29:28 \n"
     ]
    },
    {
     "name": "stderr",
     "output_type": "stream",
     "text": [
      ": 100%|██████████| 1/1 [00:00<00:00, 91.38it/s]"
     ]
    },
    {
     "name": "stdout",
     "output_type": "stream",
     "text": [
      "Validation loss: 1.360709309577942\n",
      "Client  3\n"
     ]
    },
    {
     "name": "stderr",
     "output_type": "stream",
     "text": [
      "\n"
     ]
    },
    {
     "name": "stdout",
     "output_type": "stream",
     "text": [
      "File ../data/hdfs/hdfs_train, number of sessions 971\n",
      "File ../data/hdfs/hdfs_train, number of seqs 9267\n",
      "sampling...\n"
     ]
    },
    {
     "name": "stderr",
     "output_type": "stream",
     "text": [
      "100%|██████████| 1057/1057 [00:00<00:00, 3417.01it/s]\n"
     ]
    },
    {
     "name": "stdout",
     "output_type": "stream",
     "text": [
      "File ../data/hdfs/hdfs_test_normal, number of sessions 110673\n",
      "File ../data/hdfs/hdfs_test_normal, number of seqs 1057\n",
      "Find 9267 train logs, 1057 validation logs\n",
      "Train batch size 2048 ,Validation batch size 2048\n",
      "Starting epoch: 0 | phase: train | ⏰: 18:29:39 | Learning rate: 0.000313\n"
     ]
    },
    {
     "name": "stderr",
     "output_type": "stream",
     "text": [
      "Train loss: 1.39268: 100%|██████████| 5/5 [00:00<00:00, 55.01it/s]\n"
     ]
    },
    {
     "name": "stdout",
     "output_type": "stream",
     "text": [
      "Starting epoch: 0 | phase: valid | ⏰: 18:29:39 \n"
     ]
    },
    {
     "name": "stderr",
     "output_type": "stream",
     "text": [
      ": 100%|██████████| 1/1 [00:00<00:00, 101.91it/s]\n"
     ]
    },
    {
     "name": "stdout",
     "output_type": "stream",
     "text": [
      "Validation loss: 1.341277003288269\n",
      "Client  4\n",
      "File ../data/hdfs/hdfs_train, number of sessions 971\n",
      "File ../data/hdfs/hdfs_train, number of seqs 9323\n",
      "sampling...\n"
     ]
    },
    {
     "name": "stderr",
     "output_type": "stream",
     "text": [
      "100%|██████████| 1044/1044 [00:00<00:00, 3328.71it/s]\n"
     ]
    },
    {
     "name": "stdout",
     "output_type": "stream",
     "text": [
      "File ../data/hdfs/hdfs_test_normal, number of sessions 110673\n",
      "File ../data/hdfs/hdfs_test_normal, number of seqs 1044\n",
      "Find 9323 train logs, 1044 validation logs\n",
      "Train batch size 2048 ,Validation batch size 2048\n",
      "Starting epoch: 0 | phase: train | ⏰: 18:29:51 | Learning rate: 0.000313\n"
     ]
    },
    {
     "name": "stderr",
     "output_type": "stream",
     "text": [
      "Train loss: 1.40324: 100%|██████████| 5/5 [00:00<00:00, 53.56it/s]\n"
     ]
    },
    {
     "name": "stdout",
     "output_type": "stream",
     "text": [
      "Starting epoch: 0 | phase: valid | ⏰: 18:29:51 \n"
     ]
    },
    {
     "name": "stderr",
     "output_type": "stream",
     "text": [
      ": 100%|██████████| 1/1 [00:00<00:00, 76.92it/s]"
     ]
    },
    {
     "name": "stdout",
     "output_type": "stream",
     "text": [
      "Validation loss: 1.3628411293029785\n",
      "============ Test epoch 33 ============\n",
      "Client  0\n"
     ]
    },
    {
     "name": "stderr",
     "output_type": "stream",
     "text": [
      "\n"
     ]
    },
    {
     "name": "stdout",
     "output_type": "stream",
     "text": [
      "Number of sessions(hdfs_test_normal): 5813\n",
      "Number of sessions(hdfs_test_abnormal): 1136\n"
     ]
    },
    {
     "name": "stderr",
     "output_type": "stream",
     "text": [
      "100%|██████████| 5813/5813 [03:01<00:00, 32.05it/s]\n",
      "100%|██████████| 1136/1136 [00:20<00:00, 55.28it/s]\n"
     ]
    },
    {
     "name": "stdout",
     "output_type": "stream",
     "text": [
      "false positive (FP): 490, false negative (FN): 24, Precision: 87.216%, Recall: 99.287%, F1-measure: 92.861%\n",
      "actual positive (TP+FN): 3367, actual negative (FP+TN): 110673\n",
      "accuracy: 99.549\n",
      "Finished Predicting\n",
      "elapsed_time: 201.92803859710693\n",
      "Client  1\n",
      "Number of sessions(hdfs_test_normal): 5574\n",
      "Number of sessions(hdfs_test_abnormal): 1139\n"
     ]
    },
    {
     "name": "stderr",
     "output_type": "stream",
     "text": [
      "100%|██████████| 5574/5574 [03:13<00:00, 28.73it/s]\n",
      "100%|██████████| 1139/1139 [00:16<00:00, 69.04it/s]\n"
     ]
    },
    {
     "name": "stdout",
     "output_type": "stream",
     "text": [
      "false positive (FP): 528, false negative (FN): 26, Precision: 86.353%, Recall: 99.228%, F1-measure: 92.344%\n",
      "actual positive (TP+FN): 3367, actual negative (FP+TN): 110673\n",
      "accuracy: 99.514\n",
      "Finished Predicting\n",
      "elapsed_time: 210.49456071853638\n",
      "Client  2\n",
      "Number of sessions(hdfs_test_normal): 5730\n",
      "Number of sessions(hdfs_test_abnormal): 1118\n"
     ]
    },
    {
     "name": "stderr",
     "output_type": "stream",
     "text": [
      "100%|██████████| 5730/5730 [03:02<00:00, 31.39it/s]\n",
      "100%|██████████| 1118/1118 [00:21<00:00, 51.32it/s]\n"
     ]
    },
    {
     "name": "stdout",
     "output_type": "stream",
     "text": [
      "false positive (FP): 468, false negative (FN): 30, Precision: 87.700%, Recall: 99.109%, F1-measure: 93.056%\n",
      "actual positive (TP+FN): 3367, actual negative (FP+TN): 110673\n",
      "accuracy: 99.563\n",
      "Finished Predicting\n",
      "elapsed_time: 204.31433486938477\n",
      "Client  3\n",
      "Number of sessions(hdfs_test_normal): 5747\n",
      "Number of sessions(hdfs_test_abnormal): 1159\n"
     ]
    },
    {
     "name": "stderr",
     "output_type": "stream",
     "text": [
      "100%|██████████| 5747/5747 [02:58<00:00, 32.22it/s]\n",
      "100%|██████████| 1159/1159 [00:22<00:00, 50.92it/s]\n"
     ]
    },
    {
     "name": "stdout",
     "output_type": "stream",
     "text": [
      "false positive (FP): 451, false negative (FN): 28, Precision: 88.100%, Recall: 99.168%, F1-measure: 93.307%\n",
      "actual positive (TP+FN): 3367, actual negative (FP+TN): 110673\n",
      "accuracy: 99.580\n",
      "Finished Predicting\n",
      "elapsed_time: 201.1556475162506\n",
      "Client  4\n",
      "Number of sessions(hdfs_test_normal): 5623\n",
      "Number of sessions(hdfs_test_abnormal): 1121\n"
     ]
    },
    {
     "name": "stderr",
     "output_type": "stream",
     "text": [
      "100%|██████████| 5623/5623 [03:16<00:00, 28.64it/s]\n",
      "100%|██████████| 1121/1121 [00:21<00:00, 52.57it/s]\n"
     ]
    },
    {
     "name": "stdout",
     "output_type": "stream",
     "text": [
      "false positive (FP): 525, false negative (FN): 32, Precision: 86.399%, Recall: 99.050%, F1-measure: 92.293%\n",
      "actual positive (TP+FN): 3367, actual negative (FP+TN): 110673\n",
      "accuracy: 99.512\n",
      "Finished Predicting\n",
      "elapsed_time: 217.6638195514679\n",
      "============ Train epoch 34 ============\n",
      "Client  0\n",
      "File ../data/hdfs/hdfs_train, number of sessions 971\n",
      "File ../data/hdfs/hdfs_train, number of seqs 9420\n",
      "sampling...\n"
     ]
    },
    {
     "name": "stderr",
     "output_type": "stream",
     "text": [
      "100%|██████████| 1058/1058 [00:00<00:00, 3503.02it/s]\n"
     ]
    },
    {
     "name": "stdout",
     "output_type": "stream",
     "text": [
      "File ../data/hdfs/hdfs_test_normal, number of sessions 110673\n",
      "File ../data/hdfs/hdfs_test_normal, number of seqs 1058\n",
      "Find 9420 train logs, 1058 validation logs\n",
      "Train batch size 2048 ,Validation batch size 2048\n",
      "Starting epoch: 0 | phase: train | ⏰: 18:47:22 | Learning rate: 0.000313\n"
     ]
    },
    {
     "name": "stderr",
     "output_type": "stream",
     "text": [
      "Train loss: 1.36935: 100%|██████████| 5/5 [00:00<00:00, 51.63it/s]\n"
     ]
    },
    {
     "name": "stdout",
     "output_type": "stream",
     "text": [
      "Starting epoch: 0 | phase: valid | ⏰: 18:47:22 \n"
     ]
    },
    {
     "name": "stderr",
     "output_type": "stream",
     "text": [
      ": 100%|██████████| 1/1 [00:00<00:00, 91.36it/s]\n"
     ]
    },
    {
     "name": "stdout",
     "output_type": "stream",
     "text": [
      "Validation loss: 1.3439241647720337\n",
      "Client  1\n",
      "File ../data/hdfs/hdfs_train, number of sessions 971\n",
      "File ../data/hdfs/hdfs_train, number of seqs 9080\n",
      "sampling...\n"
     ]
    },
    {
     "name": "stderr",
     "output_type": "stream",
     "text": [
      "100%|██████████| 1046/1046 [00:00<00:00, 3420.12it/s]\n"
     ]
    },
    {
     "name": "stdout",
     "output_type": "stream",
     "text": [
      "File ../data/hdfs/hdfs_test_normal, number of sessions 110673\n",
      "File ../data/hdfs/hdfs_test_normal, number of seqs 1046\n",
      "Find 9080 train logs, 1046 validation logs\n",
      "Train batch size 2048 ,Validation batch size 2048\n",
      "Starting epoch: 0 | phase: train | ⏰: 18:47:33 | Learning rate: 0.000313\n"
     ]
    },
    {
     "name": "stderr",
     "output_type": "stream",
     "text": [
      "Train loss: 1.39132: 100%|██████████| 5/5 [00:00<00:00, 56.18it/s]\n"
     ]
    },
    {
     "name": "stdout",
     "output_type": "stream",
     "text": [
      "Starting epoch: 0 | phase: valid | ⏰: 18:47:34 \n"
     ]
    },
    {
     "name": "stderr",
     "output_type": "stream",
     "text": [
      ": 100%|██████████| 1/1 [00:00<00:00, 107.87it/s]\n"
     ]
    },
    {
     "name": "stdout",
     "output_type": "stream",
     "text": [
      "Validation loss: 1.2907549142837524\n",
      "Client  2\n",
      "File ../data/hdfs/hdfs_train, number of sessions 971\n",
      "File ../data/hdfs/hdfs_train, number of seqs 9485\n",
      "sampling...\n"
     ]
    },
    {
     "name": "stderr",
     "output_type": "stream",
     "text": [
      "100%|██████████| 1051/1051 [00:00<00:00, 3559.49it/s]\n"
     ]
    },
    {
     "name": "stdout",
     "output_type": "stream",
     "text": [
      "File ../data/hdfs/hdfs_test_normal, number of sessions 110673\n",
      "File ../data/hdfs/hdfs_test_normal, number of seqs 1051\n",
      "Find 9485 train logs, 1051 validation logs\n",
      "Train batch size 2048 ,Validation batch size 2048\n",
      "Starting epoch: 0 | phase: train | ⏰: 18:47:45 | Learning rate: 0.000313\n"
     ]
    },
    {
     "name": "stderr",
     "output_type": "stream",
     "text": [
      "Train loss: 1.39610: 100%|██████████| 5/5 [00:00<00:00, 53.42it/s]\n"
     ]
    },
    {
     "name": "stdout",
     "output_type": "stream",
     "text": [
      "Starting epoch: 0 | phase: valid | ⏰: 18:47:45 \n"
     ]
    },
    {
     "name": "stderr",
     "output_type": "stream",
     "text": [
      ": 100%|██████████| 1/1 [00:00<00:00, 94.06it/s]\n"
     ]
    },
    {
     "name": "stdout",
     "output_type": "stream",
     "text": [
      "Validation loss: 1.322363257408142\n",
      "Client  3\n",
      "File ../data/hdfs/hdfs_train, number of sessions 971\n",
      "File ../data/hdfs/hdfs_train, number of seqs 9267\n",
      "sampling...\n"
     ]
    },
    {
     "name": "stderr",
     "output_type": "stream",
     "text": [
      "100%|██████████| 1057/1057 [00:00<00:00, 3478.70it/s]\n"
     ]
    },
    {
     "name": "stdout",
     "output_type": "stream",
     "text": [
      "File ../data/hdfs/hdfs_test_normal, number of sessions 110673\n",
      "File ../data/hdfs/hdfs_test_normal, number of seqs 1057\n",
      "Find 9267 train logs, 1057 validation logs\n",
      "Train batch size 2048 ,Validation batch size 2048\n",
      "Starting epoch: 0 | phase: train | ⏰: 18:47:57 | Learning rate: 0.000313\n"
     ]
    },
    {
     "name": "stderr",
     "output_type": "stream",
     "text": [
      "Train loss: 1.37840: 100%|██████████| 5/5 [00:00<00:00, 54.50it/s]\n"
     ]
    },
    {
     "name": "stdout",
     "output_type": "stream",
     "text": [
      "Starting epoch: 0 | phase: valid | ⏰: 18:47:57 \n"
     ]
    },
    {
     "name": "stderr",
     "output_type": "stream",
     "text": [
      ": 100%|██████████| 1/1 [00:00<00:00, 99.69it/s]\n"
     ]
    },
    {
     "name": "stdout",
     "output_type": "stream",
     "text": [
      "Validation loss: 1.3119432926177979\n",
      "Client  4\n",
      "File ../data/hdfs/hdfs_train, number of sessions 971\n",
      "File ../data/hdfs/hdfs_train, number of seqs 9323\n",
      "sampling...\n"
     ]
    },
    {
     "name": "stderr",
     "output_type": "stream",
     "text": [
      "100%|██████████| 1044/1044 [00:00<00:00, 3618.04it/s]\n"
     ]
    },
    {
     "name": "stdout",
     "output_type": "stream",
     "text": [
      "File ../data/hdfs/hdfs_test_normal, number of sessions 110673\n",
      "File ../data/hdfs/hdfs_test_normal, number of seqs 1044\n",
      "Find 9323 train logs, 1044 validation logs\n",
      "Train batch size 2048 ,Validation batch size 2048\n",
      "Starting epoch: 0 | phase: train | ⏰: 18:48:09 | Learning rate: 0.000313\n"
     ]
    },
    {
     "name": "stderr",
     "output_type": "stream",
     "text": [
      "Train loss: 1.38915: 100%|██████████| 5/5 [00:00<00:00, 55.86it/s]\n"
     ]
    },
    {
     "name": "stdout",
     "output_type": "stream",
     "text": [
      "Starting epoch: 0 | phase: valid | ⏰: 18:48:09 \n"
     ]
    },
    {
     "name": "stderr",
     "output_type": "stream",
     "text": [
      ": 100%|██████████| 1/1 [00:00<00:00, 100.73it/s]\n"
     ]
    },
    {
     "name": "stdout",
     "output_type": "stream",
     "text": [
      "Validation loss: 1.3317008018493652\n",
      "============ Test epoch 34 ============\n",
      "Client  0\n",
      "Number of sessions(hdfs_test_normal): 5813\n",
      "Number of sessions(hdfs_test_abnormal): 1136\n"
     ]
    },
    {
     "name": "stderr",
     "output_type": "stream",
     "text": [
      "100%|██████████| 5813/5813 [03:25<00:00, 28.33it/s]\n",
      "100%|██████████| 1136/1136 [00:20<00:00, 54.79it/s]\n"
     ]
    },
    {
     "name": "stdout",
     "output_type": "stream",
     "text": [
      "false positive (FP): 490, false negative (FN): 24, Precision: 87.216%, Recall: 99.287%, F1-measure: 92.861%\n",
      "actual positive (TP+FN): 3367, actual negative (FP+TN): 110673\n",
      "accuracy: 99.549\n",
      "Finished Predicting\n",
      "elapsed_time: 225.92580485343933\n",
      "Client  1\n",
      "Number of sessions(hdfs_test_normal): 5574\n",
      "Number of sessions(hdfs_test_abnormal): 1139\n"
     ]
    },
    {
     "name": "stderr",
     "output_type": "stream",
     "text": [
      "100%|██████████| 5574/5574 [02:47<00:00, 33.34it/s]\n",
      "100%|██████████| 1139/1139 [00:15<00:00, 73.16it/s]\n"
     ]
    },
    {
     "name": "stdout",
     "output_type": "stream",
     "text": [
      "false positive (FP): 528, false negative (FN): 26, Precision: 86.353%, Recall: 99.228%, F1-measure: 92.344%\n",
      "actual positive (TP+FN): 3367, actual negative (FP+TN): 110673\n",
      "accuracy: 99.514\n",
      "Finished Predicting\n",
      "elapsed_time: 182.77781057357788\n",
      "Client  2\n",
      "Number of sessions(hdfs_test_normal): 5730\n",
      "Number of sessions(hdfs_test_abnormal): 1118\n"
     ]
    },
    {
     "name": "stderr",
     "output_type": "stream",
     "text": [
      "100%|██████████| 5730/5730 [03:05<00:00, 30.96it/s]\n",
      "100%|██████████| 1118/1118 [00:21<00:00, 53.09it/s]\n"
     ]
    },
    {
     "name": "stdout",
     "output_type": "stream",
     "text": [
      "false positive (FP): 468, false negative (FN): 30, Precision: 87.700%, Recall: 99.109%, F1-measure: 93.056%\n",
      "actual positive (TP+FN): 3367, actual negative (FP+TN): 110673\n",
      "accuracy: 99.563\n",
      "Finished Predicting\n",
      "elapsed_time: 206.1535985469818\n",
      "Client  3\n",
      "Number of sessions(hdfs_test_normal): 5747\n",
      "Number of sessions(hdfs_test_abnormal): 1159\n"
     ]
    },
    {
     "name": "stderr",
     "output_type": "stream",
     "text": [
      "100%|██████████| 5747/5747 [03:21<00:00, 28.49it/s]\n",
      "100%|██████████| 1159/1159 [00:22<00:00, 51.16it/s]\n"
     ]
    },
    {
     "name": "stdout",
     "output_type": "stream",
     "text": [
      "false positive (FP): 451, false negative (FN): 28, Precision: 88.100%, Recall: 99.168%, F1-measure: 93.307%\n",
      "actual positive (TP+FN): 3367, actual negative (FP+TN): 110673\n",
      "accuracy: 99.580\n",
      "Finished Predicting\n",
      "elapsed_time: 224.37282276153564\n",
      "Client  4\n",
      "Number of sessions(hdfs_test_normal): 5623\n",
      "Number of sessions(hdfs_test_abnormal): 1121\n"
     ]
    },
    {
     "name": "stderr",
     "output_type": "stream",
     "text": [
      "100%|██████████| 5623/5623 [02:49<00:00, 33.11it/s]\n",
      "100%|██████████| 1121/1121 [00:21<00:00, 52.23it/s]\n"
     ]
    },
    {
     "name": "stdout",
     "output_type": "stream",
     "text": [
      "false positive (FP): 525, false negative (FN): 32, Precision: 86.399%, Recall: 99.050%, F1-measure: 92.293%\n",
      "actual positive (TP+FN): 3367, actual negative (FP+TN): 110673\n",
      "accuracy: 99.512\n",
      "Finished Predicting\n",
      "elapsed_time: 191.28245854377747\n",
      "============ Train epoch 35 ============\n",
      "Client  0\n",
      "File ../data/hdfs/hdfs_train, number of sessions 971\n",
      "File ../data/hdfs/hdfs_train, number of seqs 9420\n",
      "sampling...\n"
     ]
    },
    {
     "name": "stderr",
     "output_type": "stream",
     "text": [
      "100%|██████████| 1058/1058 [00:00<00:00, 3536.45it/s]\n"
     ]
    },
    {
     "name": "stdout",
     "output_type": "stream",
     "text": [
      "File ../data/hdfs/hdfs_test_normal, number of sessions 110673\n",
      "File ../data/hdfs/hdfs_test_normal, number of seqs 1058\n",
      "Find 9420 train logs, 1058 validation logs\n",
      "Train batch size 2048 ,Validation batch size 2048\n",
      "Starting epoch: 0 | phase: train | ⏰: 19:05:35 | Learning rate: 0.000313\n"
     ]
    },
    {
     "name": "stderr",
     "output_type": "stream",
     "text": [
      "Train loss: 1.34894: 100%|██████████| 5/5 [00:00<00:00, 52.89it/s]\n"
     ]
    },
    {
     "name": "stdout",
     "output_type": "stream",
     "text": [
      "Starting epoch: 0 | phase: valid | ⏰: 19:05:35 \n"
     ]
    },
    {
     "name": "stderr",
     "output_type": "stream",
     "text": [
      ": 100%|██████████| 1/1 [00:00<00:00, 99.84it/s]\n"
     ]
    },
    {
     "name": "stdout",
     "output_type": "stream",
     "text": [
      "Validation loss: 1.3658970594406128\n",
      "Client  1\n",
      "File ../data/hdfs/hdfs_train, number of sessions 971\n",
      "File ../data/hdfs/hdfs_train, number of seqs 9080\n",
      "sampling...\n"
     ]
    },
    {
     "name": "stderr",
     "output_type": "stream",
     "text": [
      "100%|██████████| 1046/1046 [00:00<00:00, 3464.60it/s]\n"
     ]
    },
    {
     "name": "stdout",
     "output_type": "stream",
     "text": [
      "File ../data/hdfs/hdfs_test_normal, number of sessions 110673\n",
      "File ../data/hdfs/hdfs_test_normal, number of seqs 1046\n",
      "Find 9080 train logs, 1046 validation logs\n",
      "Train batch size 2048 ,Validation batch size 2048\n",
      "Starting epoch: 0 | phase: train | ⏰: 19:05:46 | Learning rate: 0.000313\n"
     ]
    },
    {
     "name": "stderr",
     "output_type": "stream",
     "text": [
      "Train loss: 1.36977: 100%|██████████| 5/5 [00:00<00:00, 54.60it/s]\n"
     ]
    },
    {
     "name": "stdout",
     "output_type": "stream",
     "text": [
      "Starting epoch: 0 | phase: valid | ⏰: 19:05:47 \n"
     ]
    },
    {
     "name": "stderr",
     "output_type": "stream",
     "text": [
      ": 100%|██████████| 1/1 [00:00<00:00, 101.85it/s]"
     ]
    },
    {
     "name": "stdout",
     "output_type": "stream",
     "text": [
      "Validation loss: 1.2796132564544678\n",
      "Client  2\n"
     ]
    },
    {
     "name": "stderr",
     "output_type": "stream",
     "text": [
      "\n"
     ]
    },
    {
     "name": "stdout",
     "output_type": "stream",
     "text": [
      "File ../data/hdfs/hdfs_train, number of sessions 971\n",
      "File ../data/hdfs/hdfs_train, number of seqs 9485\n",
      "sampling...\n"
     ]
    },
    {
     "name": "stderr",
     "output_type": "stream",
     "text": [
      "100%|██████████| 1051/1051 [00:00<00:00, 3628.67it/s]\n"
     ]
    },
    {
     "name": "stdout",
     "output_type": "stream",
     "text": [
      "File ../data/hdfs/hdfs_test_normal, number of sessions 110673\n",
      "File ../data/hdfs/hdfs_test_normal, number of seqs 1051\n",
      "Find 9485 train logs, 1051 validation logs\n",
      "Train batch size 2048 ,Validation batch size 2048\n",
      "Starting epoch: 0 | phase: train | ⏰: 19:05:58 | Learning rate: 0.000313\n"
     ]
    },
    {
     "name": "stderr",
     "output_type": "stream",
     "text": [
      "Train loss: 1.37679: 100%|██████████| 5/5 [00:00<00:00, 52.49it/s]\n"
     ]
    },
    {
     "name": "stdout",
     "output_type": "stream",
     "text": [
      "Starting epoch: 0 | phase: valid | ⏰: 19:05:58 \n"
     ]
    },
    {
     "name": "stderr",
     "output_type": "stream",
     "text": [
      ": 100%|██████████| 1/1 [00:00<00:00, 98.45it/s]\n"
     ]
    },
    {
     "name": "stdout",
     "output_type": "stream",
     "text": [
      "Validation loss: 1.3094069957733154\n",
      "Client  3\n",
      "File ../data/hdfs/hdfs_train, number of sessions 971\n",
      "File ../data/hdfs/hdfs_train, number of seqs 9267\n",
      "sampling...\n"
     ]
    },
    {
     "name": "stderr",
     "output_type": "stream",
     "text": [
      "100%|██████████| 1057/1057 [00:00<00:00, 3488.12it/s]\n"
     ]
    },
    {
     "name": "stdout",
     "output_type": "stream",
     "text": [
      "File ../data/hdfs/hdfs_test_normal, number of sessions 110673\n",
      "File ../data/hdfs/hdfs_test_normal, number of seqs 1057\n",
      "Find 9267 train logs, 1057 validation logs\n",
      "Train batch size 2048 ,Validation batch size 2048\n",
      "Starting epoch: 0 | phase: train | ⏰: 19:06:10 | Learning rate: 0.000313\n"
     ]
    },
    {
     "name": "stderr",
     "output_type": "stream",
     "text": [
      "Train loss: 1.35882: 100%|██████████| 5/5 [00:00<00:00, 53.47it/s]\n"
     ]
    },
    {
     "name": "stdout",
     "output_type": "stream",
     "text": [
      "Starting epoch: 0 | phase: valid | ⏰: 19:06:10 \n"
     ]
    },
    {
     "name": "stderr",
     "output_type": "stream",
     "text": [
      ": 100%|██████████| 1/1 [00:00<00:00, 94.73it/s]\n"
     ]
    },
    {
     "name": "stdout",
     "output_type": "stream",
     "text": [
      "Validation loss: 1.3746814727783203\n",
      "Client  4\n",
      "File ../data/hdfs/hdfs_train, number of sessions 971\n",
      "File ../data/hdfs/hdfs_train, number of seqs 9323\n",
      "sampling...\n"
     ]
    },
    {
     "name": "stderr",
     "output_type": "stream",
     "text": [
      "100%|██████████| 1044/1044 [00:00<00:00, 3459.91it/s]\n"
     ]
    },
    {
     "name": "stdout",
     "output_type": "stream",
     "text": [
      "File ../data/hdfs/hdfs_test_normal, number of sessions 110673\n",
      "File ../data/hdfs/hdfs_test_normal, number of seqs 1044\n",
      "Find 9323 train logs, 1044 validation logs\n",
      "Train batch size 2048 ,Validation batch size 2048\n",
      "Starting epoch: 0 | phase: train | ⏰: 19:06:22 | Learning rate: 0.000313\n"
     ]
    },
    {
     "name": "stderr",
     "output_type": "stream",
     "text": [
      "Train loss: 1.36515: 100%|██████████| 5/5 [00:00<00:00, 54.06it/s]\n"
     ]
    },
    {
     "name": "stdout",
     "output_type": "stream",
     "text": [
      "Starting epoch: 0 | phase: valid | ⏰: 19:06:22 \n"
     ]
    },
    {
     "name": "stderr",
     "output_type": "stream",
     "text": [
      ": 100%|██████████| 1/1 [00:00<00:00, 95.18it/s]\n"
     ]
    },
    {
     "name": "stdout",
     "output_type": "stream",
     "text": [
      "Validation loss: 1.2773221731185913\n",
      "============ Test epoch 35 ============\n",
      "Client  0\n",
      "Number of sessions(hdfs_test_normal): 5813\n",
      "Number of sessions(hdfs_test_abnormal): 1136\n"
     ]
    },
    {
     "name": "stderr",
     "output_type": "stream",
     "text": [
      "100%|██████████| 5813/5813 [03:11<00:00, 30.28it/s]\n",
      "100%|██████████| 1136/1136 [00:14<00:00, 79.66it/s]\n"
     ]
    },
    {
     "name": "stdout",
     "output_type": "stream",
     "text": [
      "false positive (FP): 490, false negative (FN): 24, Precision: 87.216%, Recall: 99.287%, F1-measure: 92.861%\n",
      "actual positive (TP+FN): 3367, actual negative (FP+TN): 110673\n",
      "accuracy: 99.549\n",
      "Finished Predicting\n",
      "elapsed_time: 206.23895406723022\n",
      "Client  1\n",
      "Number of sessions(hdfs_test_normal): 5574\n",
      "Number of sessions(hdfs_test_abnormal): 1139\n"
     ]
    },
    {
     "name": "stderr",
     "output_type": "stream",
     "text": [
      "100%|██████████| 5574/5574 [03:08<00:00, 29.51it/s]\n",
      "100%|██████████| 1139/1139 [00:21<00:00, 52.19it/s]\n"
     ]
    },
    {
     "name": "stdout",
     "output_type": "stream",
     "text": [
      "false positive (FP): 528, false negative (FN): 26, Precision: 86.353%, Recall: 99.228%, F1-measure: 92.344%\n",
      "actual positive (TP+FN): 3367, actual negative (FP+TN): 110673\n",
      "accuracy: 99.514\n",
      "Finished Predicting\n",
      "elapsed_time: 210.73671674728394\n",
      "Client  2\n",
      "Number of sessions(hdfs_test_normal): 5730\n",
      "Number of sessions(hdfs_test_abnormal): 1118\n"
     ]
    },
    {
     "name": "stderr",
     "output_type": "stream",
     "text": [
      "100%|██████████| 5730/5730 [03:21<00:00, 28.39it/s]\n",
      "100%|██████████| 1118/1118 [00:21<00:00, 51.79it/s]\n"
     ]
    },
    {
     "name": "stdout",
     "output_type": "stream",
     "text": [
      "false positive (FP): 468, false negative (FN): 30, Precision: 87.700%, Recall: 99.109%, F1-measure: 93.056%\n",
      "actual positive (TP+FN): 3367, actual negative (FP+TN): 110673\n",
      "accuracy: 99.563\n",
      "Finished Predicting\n",
      "elapsed_time: 223.40131044387817\n",
      "Client  3\n",
      "Number of sessions(hdfs_test_normal): 5747\n",
      "Number of sessions(hdfs_test_abnormal): 1159\n"
     ]
    },
    {
     "name": "stderr",
     "output_type": "stream",
     "text": [
      "100%|██████████| 5747/5747 [02:56<00:00, 32.50it/s]\n",
      "100%|██████████| 1159/1159 [00:22<00:00, 50.70it/s]\n"
     ]
    },
    {
     "name": "stdout",
     "output_type": "stream",
     "text": [
      "false positive (FP): 451, false negative (FN): 28, Precision: 88.100%, Recall: 99.168%, F1-measure: 93.307%\n",
      "actual positive (TP+FN): 3367, actual negative (FP+TN): 110673\n",
      "accuracy: 99.580\n",
      "Finished Predicting\n",
      "elapsed_time: 199.69232988357544\n",
      "Client  4\n",
      "Number of sessions(hdfs_test_normal): 5623\n",
      "Number of sessions(hdfs_test_abnormal): 1121\n"
     ]
    },
    {
     "name": "stderr",
     "output_type": "stream",
     "text": [
      "100%|██████████| 5623/5623 [03:16<00:00, 28.64it/s]\n",
      "100%|██████████| 1121/1121 [00:17<00:00, 63.39it/s]\n"
     ]
    },
    {
     "name": "stdout",
     "output_type": "stream",
     "text": [
      "false positive (FP): 525, false negative (FN): 32, Precision: 86.399%, Recall: 99.050%, F1-measure: 92.293%\n",
      "actual positive (TP+FN): 3367, actual negative (FP+TN): 110673\n",
      "accuracy: 99.512\n",
      "Finished Predicting\n",
      "elapsed_time: 214.05185222625732\n",
      "============ Train epoch 36 ============\n",
      "Client  0\n",
      "File ../data/hdfs/hdfs_train, number of sessions 971\n",
      "File ../data/hdfs/hdfs_train, number of seqs 9420\n",
      "sampling...\n"
     ]
    },
    {
     "name": "stderr",
     "output_type": "stream",
     "text": [
      "100%|██████████| 1058/1058 [00:00<00:00, 3425.31it/s]\n"
     ]
    },
    {
     "name": "stdout",
     "output_type": "stream",
     "text": [
      "File ../data/hdfs/hdfs_test_normal, number of sessions 110673\n",
      "File ../data/hdfs/hdfs_test_normal, number of seqs 1058\n",
      "Find 9420 train logs, 1058 validation logs\n",
      "Train batch size 2048 ,Validation batch size 2048\n",
      "Starting epoch: 0 | phase: train | ⏰: 19:24:11 | Learning rate: 0.000313\n"
     ]
    },
    {
     "name": "stderr",
     "output_type": "stream",
     "text": [
      "Train loss: 1.33097: 100%|██████████| 5/5 [00:00<00:00, 54.56it/s]\n"
     ]
    },
    {
     "name": "stdout",
     "output_type": "stream",
     "text": [
      "Starting epoch: 0 | phase: valid | ⏰: 19:24:11 \n"
     ]
    },
    {
     "name": "stderr",
     "output_type": "stream",
     "text": [
      ": 100%|██████████| 1/1 [00:00<00:00, 97.94it/s]\n"
     ]
    },
    {
     "name": "stdout",
     "output_type": "stream",
     "text": [
      "Validation loss: 1.3040257692337036\n",
      "Client  1\n",
      "File ../data/hdfs/hdfs_train, number of sessions 971\n",
      "File ../data/hdfs/hdfs_train, number of seqs 9080\n",
      "sampling...\n"
     ]
    },
    {
     "name": "stderr",
     "output_type": "stream",
     "text": [
      "100%|██████████| 1046/1046 [00:00<00:00, 3568.65it/s]\n"
     ]
    },
    {
     "name": "stdout",
     "output_type": "stream",
     "text": [
      "File ../data/hdfs/hdfs_test_normal, number of sessions 110673\n",
      "File ../data/hdfs/hdfs_test_normal, number of seqs 1046\n",
      "Find 9080 train logs, 1046 validation logs\n",
      "Train batch size 2048 ,Validation batch size 2048\n",
      "Starting epoch: 0 | phase: train | ⏰: 19:24:23 | Learning rate: 0.000313\n"
     ]
    },
    {
     "name": "stderr",
     "output_type": "stream",
     "text": [
      "Train loss: 1.35260: 100%|██████████| 5/5 [00:00<00:00, 55.79it/s]\n"
     ]
    },
    {
     "name": "stdout",
     "output_type": "stream",
     "text": [
      "Starting epoch: 0 | phase: valid | ⏰: 19:24:23 \n"
     ]
    },
    {
     "name": "stderr",
     "output_type": "stream",
     "text": [
      ": 100%|██████████| 1/1 [00:00<00:00, 104.77it/s]\n"
     ]
    },
    {
     "name": "stdout",
     "output_type": "stream",
     "text": [
      "Validation loss: 1.296575903892517\n",
      "Client  2\n",
      "File ../data/hdfs/hdfs_train, number of sessions 971\n",
      "File ../data/hdfs/hdfs_train, number of seqs 9485\n",
      "sampling...\n"
     ]
    },
    {
     "name": "stderr",
     "output_type": "stream",
     "text": [
      "100%|██████████| 1051/1051 [00:00<00:00, 3444.86it/s]\n"
     ]
    },
    {
     "name": "stdout",
     "output_type": "stream",
     "text": [
      "File ../data/hdfs/hdfs_test_normal, number of sessions 110673\n",
      "File ../data/hdfs/hdfs_test_normal, number of seqs 1051\n",
      "Find 9485 train logs, 1051 validation logs\n",
      "Train batch size 2048 ,Validation batch size 2048\n",
      "Starting epoch: 0 | phase: train | ⏰: 19:24:35 | Learning rate: 0.000313\n"
     ]
    },
    {
     "name": "stderr",
     "output_type": "stream",
     "text": [
      "Train loss: 1.35755: 100%|██████████| 5/5 [00:00<00:00, 55.10it/s]\n"
     ]
    },
    {
     "name": "stdout",
     "output_type": "stream",
     "text": [
      "Starting epoch: 0 | phase: valid | ⏰: 19:24:35 \n"
     ]
    },
    {
     "name": "stderr",
     "output_type": "stream",
     "text": [
      ": 100%|██████████| 1/1 [00:00<00:00, 101.28it/s]\n"
     ]
    },
    {
     "name": "stdout",
     "output_type": "stream",
     "text": [
      "Validation loss: 1.2573069334030151\n",
      "Client  3\n",
      "File ../data/hdfs/hdfs_train, number of sessions 971\n",
      "File ../data/hdfs/hdfs_train, number of seqs 9267\n",
      "sampling...\n"
     ]
    },
    {
     "name": "stderr",
     "output_type": "stream",
     "text": [
      "100%|██████████| 1057/1057 [00:00<00:00, 3379.88it/s]\n"
     ]
    },
    {
     "name": "stdout",
     "output_type": "stream",
     "text": [
      "File ../data/hdfs/hdfs_test_normal, number of sessions 110673\n",
      "File ../data/hdfs/hdfs_test_normal, number of seqs 1057\n",
      "Find 9267 train logs, 1057 validation logs\n",
      "Train batch size 2048 ,Validation batch size 2048\n",
      "Starting epoch: 0 | phase: train | ⏰: 19:24:47 | Learning rate: 0.000313\n"
     ]
    },
    {
     "name": "stderr",
     "output_type": "stream",
     "text": [
      "Train loss: 1.33663: 100%|██████████| 5/5 [00:00<00:00, 56.25it/s]\n"
     ]
    },
    {
     "name": "stdout",
     "output_type": "stream",
     "text": [
      "Starting epoch: 0 | phase: valid | ⏰: 19:24:47 \n"
     ]
    },
    {
     "name": "stderr",
     "output_type": "stream",
     "text": [
      ": 100%|██████████| 1/1 [00:00<00:00, 101.43it/s]"
     ]
    },
    {
     "name": "stdout",
     "output_type": "stream",
     "text": [
      "Validation loss: 1.3292930126190186\n",
      "Client  4\n"
     ]
    },
    {
     "name": "stderr",
     "output_type": "stream",
     "text": [
      "\n"
     ]
    },
    {
     "name": "stdout",
     "output_type": "stream",
     "text": [
      "File ../data/hdfs/hdfs_train, number of sessions 971\n",
      "File ../data/hdfs/hdfs_train, number of seqs 9323\n",
      "sampling...\n"
     ]
    },
    {
     "name": "stderr",
     "output_type": "stream",
     "text": [
      "100%|██████████| 1044/1044 [00:00<00:00, 3537.97it/s]\n"
     ]
    },
    {
     "name": "stdout",
     "output_type": "stream",
     "text": [
      "File ../data/hdfs/hdfs_test_normal, number of sessions 110673\n",
      "File ../data/hdfs/hdfs_test_normal, number of seqs 1044\n",
      "Find 9323 train logs, 1044 validation logs\n",
      "Train batch size 2048 ,Validation batch size 2048\n",
      "Starting epoch: 0 | phase: train | ⏰: 19:24:59 | Learning rate: 0.000313\n"
     ]
    },
    {
     "name": "stderr",
     "output_type": "stream",
     "text": [
      "Train loss: 1.34520: 100%|██████████| 5/5 [00:00<00:00, 54.98it/s]\n"
     ]
    },
    {
     "name": "stdout",
     "output_type": "stream",
     "text": [
      "Starting epoch: 0 | phase: valid | ⏰: 19:24:59 \n"
     ]
    },
    {
     "name": "stderr",
     "output_type": "stream",
     "text": [
      ": 100%|██████████| 1/1 [00:00<00:00, 100.31it/s]\n"
     ]
    },
    {
     "name": "stdout",
     "output_type": "stream",
     "text": [
      "Validation loss: 1.2675375938415527\n",
      "============ Test epoch 36 ============\n",
      "Client  0\n",
      "Number of sessions(hdfs_test_normal): 5813\n",
      "Number of sessions(hdfs_test_abnormal): 1136\n"
     ]
    },
    {
     "name": "stderr",
     "output_type": "stream",
     "text": [
      "100%|██████████| 5813/5813 [03:25<00:00, 28.30it/s]\n",
      "100%|██████████| 1136/1136 [00:20<00:00, 54.77it/s]\n"
     ]
    },
    {
     "name": "stdout",
     "output_type": "stream",
     "text": [
      "false positive (FP): 490, false negative (FN): 24, Precision: 87.216%, Recall: 99.287%, F1-measure: 92.861%\n",
      "actual positive (TP+FN): 3367, actual negative (FP+TN): 110673\n",
      "accuracy: 99.549\n",
      "Finished Predicting\n",
      "elapsed_time: 226.16831803321838\n",
      "Client  1\n",
      "Number of sessions(hdfs_test_normal): 5574\n",
      "Number of sessions(hdfs_test_abnormal): 1139\n"
     ]
    },
    {
     "name": "stderr",
     "output_type": "stream",
     "text": [
      "100%|██████████| 5574/5574 [02:49<00:00, 32.97it/s]\n",
      "100%|██████████| 1139/1139 [00:21<00:00, 52.18it/s]\n"
     ]
    },
    {
     "name": "stdout",
     "output_type": "stream",
     "text": [
      "false positive (FP): 528, false negative (FN): 26, Precision: 86.353%, Recall: 99.228%, F1-measure: 92.344%\n",
      "actual positive (TP+FN): 3367, actual negative (FP+TN): 110673\n",
      "accuracy: 99.514\n",
      "Finished Predicting\n",
      "elapsed_time: 190.9066662788391\n",
      "Client  2\n",
      "Number of sessions(hdfs_test_normal): 5730\n",
      "Number of sessions(hdfs_test_abnormal): 1118\n"
     ]
    },
    {
     "name": "stderr",
     "output_type": "stream",
     "text": [
      "100%|██████████| 5730/5730 [03:22<00:00, 28.25it/s]\n",
      "100%|██████████| 1118/1118 [00:21<00:00, 51.07it/s]\n"
     ]
    },
    {
     "name": "stdout",
     "output_type": "stream",
     "text": [
      "false positive (FP): 468, false negative (FN): 30, Precision: 87.700%, Recall: 99.109%, F1-measure: 93.056%\n",
      "actual positive (TP+FN): 3367, actual negative (FP+TN): 110673\n",
      "accuracy: 99.563\n",
      "Finished Predicting\n",
      "elapsed_time: 224.74826860427856\n",
      "Client  3\n",
      "Number of sessions(hdfs_test_normal): 5747\n",
      "Number of sessions(hdfs_test_abnormal): 1159\n"
     ]
    },
    {
     "name": "stderr",
     "output_type": "stream",
     "text": [
      "100%|██████████| 5747/5747 [03:23<00:00, 28.25it/s]\n",
      "100%|██████████| 1159/1159 [00:22<00:00, 51.18it/s]\n"
     ]
    },
    {
     "name": "stdout",
     "output_type": "stream",
     "text": [
      "false positive (FP): 451, false negative (FN): 28, Precision: 88.100%, Recall: 99.168%, F1-measure: 93.307%\n",
      "actual positive (TP+FN): 3367, actual negative (FP+TN): 110673\n",
      "accuracy: 99.580\n",
      "Finished Predicting\n",
      "elapsed_time: 226.08564925193787\n",
      "Client  4\n",
      "Number of sessions(hdfs_test_normal): 5623\n",
      "Number of sessions(hdfs_test_abnormal): 1121\n"
     ]
    },
    {
     "name": "stderr",
     "output_type": "stream",
     "text": [
      "100%|██████████| 5623/5623 [02:49<00:00, 33.16it/s]\n",
      "100%|██████████| 1121/1121 [00:21<00:00, 52.55it/s]\n"
     ]
    },
    {
     "name": "stdout",
     "output_type": "stream",
     "text": [
      "false positive (FP): 525, false negative (FN): 32, Precision: 86.399%, Recall: 99.050%, F1-measure: 92.293%\n",
      "actual positive (TP+FN): 3367, actual negative (FP+TN): 110673\n",
      "accuracy: 99.512\n",
      "Finished Predicting\n",
      "elapsed_time: 190.9266722202301\n",
      "============ Train epoch 37 ============\n",
      "Client  0\n",
      "File ../data/hdfs/hdfs_train, number of sessions 971\n",
      "File ../data/hdfs/hdfs_train, number of seqs 9420\n",
      "sampling...\n"
     ]
    },
    {
     "name": "stderr",
     "output_type": "stream",
     "text": [
      "100%|██████████| 1058/1058 [00:00<00:00, 3391.86it/s]\n"
     ]
    },
    {
     "name": "stdout",
     "output_type": "stream",
     "text": [
      "File ../data/hdfs/hdfs_test_normal, number of sessions 110673\n",
      "File ../data/hdfs/hdfs_test_normal, number of seqs 1058\n",
      "Find 9420 train logs, 1058 validation logs\n",
      "Train batch size 2048 ,Validation batch size 2048\n",
      "Starting epoch: 0 | phase: train | ⏰: 19:42:52 | Learning rate: 0.000313\n"
     ]
    },
    {
     "name": "stderr",
     "output_type": "stream",
     "text": [
      "Train loss: 1.30528: 100%|██████████| 5/5 [00:00<00:00, 53.44it/s]\n"
     ]
    },
    {
     "name": "stdout",
     "output_type": "stream",
     "text": [
      "Starting epoch: 0 | phase: valid | ⏰: 19:42:52 \n"
     ]
    },
    {
     "name": "stderr",
     "output_type": "stream",
     "text": [
      ": 100%|██████████| 1/1 [00:00<00:00, 95.33it/s]\n"
     ]
    },
    {
     "name": "stdout",
     "output_type": "stream",
     "text": [
      "Validation loss: 1.227784276008606\n",
      "Client  1\n",
      "File ../data/hdfs/hdfs_train, number of sessions 971\n",
      "File ../data/hdfs/hdfs_train, number of seqs 9080\n",
      "sampling...\n"
     ]
    },
    {
     "name": "stderr",
     "output_type": "stream",
     "text": [
      "100%|██████████| 1046/1046 [00:00<00:00, 3591.65it/s]\n"
     ]
    },
    {
     "name": "stdout",
     "output_type": "stream",
     "text": [
      "File ../data/hdfs/hdfs_test_normal, number of sessions 110673\n",
      "File ../data/hdfs/hdfs_test_normal, number of seqs 1046\n",
      "Find 9080 train logs, 1046 validation logs\n",
      "Train batch size 2048 ,Validation batch size 2048\n",
      "Starting epoch: 0 | phase: train | ⏰: 19:43:04 | Learning rate: 0.000313\n"
     ]
    },
    {
     "name": "stderr",
     "output_type": "stream",
     "text": [
      "Train loss: 1.33001: 100%|██████████| 5/5 [00:00<00:00, 54.62it/s]\n"
     ]
    },
    {
     "name": "stdout",
     "output_type": "stream",
     "text": [
      "Starting epoch: 0 | phase: valid | ⏰: 19:43:04 \n"
     ]
    },
    {
     "name": "stderr",
     "output_type": "stream",
     "text": [
      ": 100%|██████████| 1/1 [00:00<00:00, 96.18it/s]\n"
     ]
    },
    {
     "name": "stdout",
     "output_type": "stream",
     "text": [
      "Validation loss: 1.2564024925231934\n",
      "Client  2\n",
      "File ../data/hdfs/hdfs_train, number of sessions 971\n",
      "File ../data/hdfs/hdfs_train, number of seqs 9485\n",
      "sampling...\n"
     ]
    },
    {
     "name": "stderr",
     "output_type": "stream",
     "text": [
      "100%|██████████| 1051/1051 [00:00<00:00, 3509.30it/s]\n"
     ]
    },
    {
     "name": "stdout",
     "output_type": "stream",
     "text": [
      "File ../data/hdfs/hdfs_test_normal, number of sessions 110673\n",
      "File ../data/hdfs/hdfs_test_normal, number of seqs 1051\n",
      "Find 9485 train logs, 1051 validation logs\n",
      "Train batch size 2048 ,Validation batch size 2048\n",
      "Starting epoch: 0 | phase: train | ⏰: 19:43:16 | Learning rate: 0.000313\n"
     ]
    },
    {
     "name": "stderr",
     "output_type": "stream",
     "text": [
      "Train loss: 1.33130: 100%|██████████| 5/5 [00:00<00:00, 52.52it/s]\n"
     ]
    },
    {
     "name": "stdout",
     "output_type": "stream",
     "text": [
      "Starting epoch: 0 | phase: valid | ⏰: 19:43:16 \n"
     ]
    },
    {
     "name": "stderr",
     "output_type": "stream",
     "text": [
      ": 100%|██████████| 1/1 [00:00<00:00, 93.02it/s]\n"
     ]
    },
    {
     "name": "stdout",
     "output_type": "stream",
     "text": [
      "Validation loss: 1.3176026344299316\n",
      "Client  3\n",
      "File ../data/hdfs/hdfs_train, number of sessions 971\n",
      "File ../data/hdfs/hdfs_train, number of seqs 9267\n",
      "sampling...\n"
     ]
    },
    {
     "name": "stderr",
     "output_type": "stream",
     "text": [
      "100%|██████████| 1057/1057 [00:00<00:00, 3535.08it/s]\n"
     ]
    },
    {
     "name": "stdout",
     "output_type": "stream",
     "text": [
      "File ../data/hdfs/hdfs_test_normal, number of sessions 110673\n",
      "File ../data/hdfs/hdfs_test_normal, number of seqs 1057\n",
      "Find 9267 train logs, 1057 validation logs\n",
      "Train batch size 2048 ,Validation batch size 2048\n",
      "Starting epoch: 0 | phase: train | ⏰: 19:43:28 | Learning rate: 0.000313\n"
     ]
    },
    {
     "name": "stderr",
     "output_type": "stream",
     "text": [
      "Train loss: 1.31111: 100%|██████████| 5/5 [00:00<00:00, 55.15it/s]\n"
     ]
    },
    {
     "name": "stdout",
     "output_type": "stream",
     "text": [
      "Starting epoch: 0 | phase: valid | ⏰: 19:43:28 \n"
     ]
    },
    {
     "name": "stderr",
     "output_type": "stream",
     "text": [
      ": 100%|██████████| 1/1 [00:00<00:00, 91.41it/s]\n"
     ]
    },
    {
     "name": "stdout",
     "output_type": "stream",
     "text": [
      "Validation loss: 1.279746174812317\n",
      "Client  4\n",
      "File ../data/hdfs/hdfs_train, number of sessions 971\n",
      "File ../data/hdfs/hdfs_train, number of seqs 9323\n",
      "sampling...\n"
     ]
    },
    {
     "name": "stderr",
     "output_type": "stream",
     "text": [
      "100%|██████████| 1044/1044 [00:00<00:00, 3383.07it/s]\n"
     ]
    },
    {
     "name": "stdout",
     "output_type": "stream",
     "text": [
      "File ../data/hdfs/hdfs_test_normal, number of sessions 110673\n",
      "File ../data/hdfs/hdfs_test_normal, number of seqs 1044\n",
      "Find 9323 train logs, 1044 validation logs\n",
      "Train batch size 2048 ,Validation batch size 2048\n",
      "Starting epoch: 0 | phase: train | ⏰: 19:43:39 | Learning rate: 0.000313\n"
     ]
    },
    {
     "name": "stderr",
     "output_type": "stream",
     "text": [
      "Train loss: 1.31923: 100%|██████████| 5/5 [00:00<00:00, 52.37it/s]\n"
     ]
    },
    {
     "name": "stdout",
     "output_type": "stream",
     "text": [
      "Starting epoch: 0 | phase: valid | ⏰: 19:43:39 \n"
     ]
    },
    {
     "name": "stderr",
     "output_type": "stream",
     "text": [
      ": 100%|██████████| 1/1 [00:00<00:00, 81.43it/s]\n"
     ]
    },
    {
     "name": "stdout",
     "output_type": "stream",
     "text": [
      "Validation loss: 1.264013648033142\n",
      "============ Test epoch 37 ============\n",
      "Client  0\n",
      "Number of sessions(hdfs_test_normal): 5813\n",
      "Number of sessions(hdfs_test_abnormal): 1136\n"
     ]
    },
    {
     "name": "stderr",
     "output_type": "stream",
     "text": [
      "100%|██████████| 5813/5813 [02:59<00:00, 32.39it/s]\n",
      "100%|██████████| 1136/1136 [00:20<00:00, 54.37it/s]\n"
     ]
    },
    {
     "name": "stdout",
     "output_type": "stream",
     "text": [
      "false positive (FP): 490, false negative (FN): 24, Precision: 87.216%, Recall: 99.287%, F1-measure: 92.861%\n",
      "actual positive (TP+FN): 3367, actual negative (FP+TN): 110673\n",
      "accuracy: 99.549\n",
      "Finished Predicting\n",
      "elapsed_time: 200.3483715057373\n",
      "Client  1\n",
      "Number of sessions(hdfs_test_normal): 5574\n",
      "Number of sessions(hdfs_test_abnormal): 1139\n"
     ]
    },
    {
     "name": "stderr",
     "output_type": "stream",
     "text": [
      "100%|██████████| 5574/5574 [03:15<00:00, 28.58it/s]\n",
      "100%|██████████| 1139/1139 [00:21<00:00, 52.39it/s]\n"
     ]
    },
    {
     "name": "stdout",
     "output_type": "stream",
     "text": [
      "false positive (FP): 528, false negative (FN): 26, Precision: 86.353%, Recall: 99.228%, F1-measure: 92.344%\n",
      "actual positive (TP+FN): 3367, actual negative (FP+TN): 110673\n",
      "accuracy: 99.514\n",
      "Finished Predicting\n",
      "elapsed_time: 216.80848145484924\n",
      "Client  2\n",
      "Number of sessions(hdfs_test_normal): 5730\n",
      "Number of sessions(hdfs_test_abnormal): 1118\n"
     ]
    },
    {
     "name": "stderr",
     "output_type": "stream",
     "text": [
      "100%|██████████| 5730/5730 [03:22<00:00, 28.31it/s]\n",
      "100%|██████████| 1118/1118 [00:21<00:00, 51.47it/s]\n"
     ]
    },
    {
     "name": "stdout",
     "output_type": "stream",
     "text": [
      "false positive (FP): 468, false negative (FN): 30, Precision: 87.700%, Recall: 99.109%, F1-measure: 93.056%\n",
      "actual positive (TP+FN): 3367, actual negative (FP+TN): 110673\n",
      "accuracy: 99.563\n",
      "Finished Predicting\n",
      "elapsed_time: 224.13340997695923\n",
      "Client  3\n",
      "Number of sessions(hdfs_test_normal): 5747\n",
      "Number of sessions(hdfs_test_abnormal): 1159\n"
     ]
    },
    {
     "name": "stderr",
     "output_type": "stream",
     "text": [
      "100%|██████████| 5747/5747 [03:14<00:00, 29.62it/s]\n",
      "100%|██████████| 1159/1159 [00:16<00:00, 71.09it/s]\n"
     ]
    },
    {
     "name": "stdout",
     "output_type": "stream",
     "text": [
      "false positive (FP): 451, false negative (FN): 28, Precision: 88.100%, Recall: 99.168%, F1-measure: 93.307%\n",
      "actual positive (TP+FN): 3367, actual negative (FP+TN): 110673\n",
      "accuracy: 99.580\n",
      "Finished Predicting\n",
      "elapsed_time: 210.3061921596527\n",
      "Client  4\n",
      "Number of sessions(hdfs_test_normal): 5623\n",
      "Number of sessions(hdfs_test_abnormal): 1121\n"
     ]
    },
    {
     "name": "stderr",
     "output_type": "stream",
     "text": [
      "100%|██████████| 5623/5623 [02:58<00:00, 31.49it/s]\n",
      "100%|██████████| 1121/1121 [00:15<00:00, 74.18it/s]\n"
     ]
    },
    {
     "name": "stdout",
     "output_type": "stream",
     "text": [
      "false positive (FP): 525, false negative (FN): 32, Precision: 86.399%, Recall: 99.050%, F1-measure: 92.293%\n",
      "actual positive (TP+FN): 3367, actual negative (FP+TN): 110673\n",
      "accuracy: 99.512\n",
      "Finished Predicting\n",
      "elapsed_time: 193.66727995872498\n",
      "============ Train epoch 38 ============\n",
      "Client  0\n",
      "File ../data/hdfs/hdfs_train, number of sessions 971\n",
      "File ../data/hdfs/hdfs_train, number of seqs 9420\n",
      "sampling...\n"
     ]
    },
    {
     "name": "stderr",
     "output_type": "stream",
     "text": [
      "100%|██████████| 1058/1058 [00:00<00:00, 3367.91it/s]\n"
     ]
    },
    {
     "name": "stdout",
     "output_type": "stream",
     "text": [
      "File ../data/hdfs/hdfs_test_normal, number of sessions 110673\n",
      "File ../data/hdfs/hdfs_test_normal, number of seqs 1058\n",
      "Find 9420 train logs, 1058 validation logs\n",
      "Train batch size 2048 ,Validation batch size 2048\n",
      "Starting epoch: 0 | phase: train | ⏰: 20:01:20 | Learning rate: 0.000313\n"
     ]
    },
    {
     "name": "stderr",
     "output_type": "stream",
     "text": [
      "Train loss: 1.28810: 100%|██████████| 5/5 [00:00<00:00, 49.43it/s]\n"
     ]
    },
    {
     "name": "stdout",
     "output_type": "stream",
     "text": [
      "Starting epoch: 0 | phase: valid | ⏰: 20:01:20 \n"
     ]
    },
    {
     "name": "stderr",
     "output_type": "stream",
     "text": [
      ": 100%|██████████| 1/1 [00:00<00:00, 94.63it/s]"
     ]
    },
    {
     "name": "stdout",
     "output_type": "stream",
     "text": [
      "Validation loss: 1.311946153640747\n",
      "Client  1\n"
     ]
    },
    {
     "name": "stderr",
     "output_type": "stream",
     "text": [
      "\n"
     ]
    },
    {
     "name": "stdout",
     "output_type": "stream",
     "text": [
      "File ../data/hdfs/hdfs_train, number of sessions 971\n",
      "File ../data/hdfs/hdfs_train, number of seqs 9080\n",
      "sampling...\n"
     ]
    },
    {
     "name": "stderr",
     "output_type": "stream",
     "text": [
      "100%|██████████| 1046/1046 [00:00<00:00, 3387.62it/s]\n"
     ]
    },
    {
     "name": "stdout",
     "output_type": "stream",
     "text": [
      "File ../data/hdfs/hdfs_test_normal, number of sessions 110673\n",
      "File ../data/hdfs/hdfs_test_normal, number of seqs 1046\n",
      "Find 9080 train logs, 1046 validation logs\n",
      "Train batch size 2048 ,Validation batch size 2048\n",
      "Starting epoch: 0 | phase: train | ⏰: 20:01:31 | Learning rate: 0.000313\n"
     ]
    },
    {
     "name": "stderr",
     "output_type": "stream",
     "text": [
      "Train loss: 1.31118: 100%|██████████| 5/5 [00:00<00:00, 55.40it/s]\n"
     ]
    },
    {
     "name": "stdout",
     "output_type": "stream",
     "text": [
      "Starting epoch: 0 | phase: valid | ⏰: 20:01:31 \n"
     ]
    },
    {
     "name": "stderr",
     "output_type": "stream",
     "text": [
      ": 100%|██████████| 1/1 [00:00<00:00, 102.64it/s]\n"
     ]
    },
    {
     "name": "stdout",
     "output_type": "stream",
     "text": [
      "Validation loss: 1.2842772006988525\n",
      "Client  2\n",
      "File ../data/hdfs/hdfs_train, number of sessions 971\n",
      "File ../data/hdfs/hdfs_train, number of seqs 9485\n",
      "sampling...\n"
     ]
    },
    {
     "name": "stderr",
     "output_type": "stream",
     "text": [
      "100%|██████████| 1051/1051 [00:00<00:00, 3459.38it/s]\n"
     ]
    },
    {
     "name": "stdout",
     "output_type": "stream",
     "text": [
      "File ../data/hdfs/hdfs_test_normal, number of sessions 110673\n",
      "File ../data/hdfs/hdfs_test_normal, number of seqs 1051\n",
      "Find 9485 train logs, 1051 validation logs\n",
      "Train batch size 2048 ,Validation batch size 2048\n",
      "Starting epoch: 0 | phase: train | ⏰: 20:01:43 | Learning rate: 0.000313\n"
     ]
    },
    {
     "name": "stderr",
     "output_type": "stream",
     "text": [
      "Train loss: 1.31366: 100%|██████████| 5/5 [00:00<00:00, 49.99it/s]\n"
     ]
    },
    {
     "name": "stdout",
     "output_type": "stream",
     "text": [
      "Starting epoch: 0 | phase: valid | ⏰: 20:01:43 \n"
     ]
    },
    {
     "name": "stderr",
     "output_type": "stream",
     "text": [
      ": 100%|██████████| 1/1 [00:00<00:00, 70.24it/s]\n"
     ]
    },
    {
     "name": "stdout",
     "output_type": "stream",
     "text": [
      "Validation loss: 1.3148499727249146\n",
      "Client  3\n",
      "File ../data/hdfs/hdfs_train, number of sessions 971\n",
      "File ../data/hdfs/hdfs_train, number of seqs 9267\n",
      "sampling...\n"
     ]
    },
    {
     "name": "stderr",
     "output_type": "stream",
     "text": [
      "100%|██████████| 1057/1057 [00:00<00:00, 3552.18it/s]\n"
     ]
    },
    {
     "name": "stdout",
     "output_type": "stream",
     "text": [
      "File ../data/hdfs/hdfs_test_normal, number of sessions 110673\n",
      "File ../data/hdfs/hdfs_test_normal, number of seqs 1057\n",
      "Find 9267 train logs, 1057 validation logs\n",
      "Train batch size 2048 ,Validation batch size 2048\n",
      "Starting epoch: 0 | phase: train | ⏰: 20:01:55 | Learning rate: 0.000313\n"
     ]
    },
    {
     "name": "stderr",
     "output_type": "stream",
     "text": [
      "Train loss: 1.29597: 100%|██████████| 5/5 [00:00<00:00, 51.74it/s]\n"
     ]
    },
    {
     "name": "stdout",
     "output_type": "stream",
     "text": [
      "Starting epoch: 0 | phase: valid | ⏰: 20:01:55 \n"
     ]
    },
    {
     "name": "stderr",
     "output_type": "stream",
     "text": [
      ": 100%|██████████| 1/1 [00:00<00:00, 90.59it/s]\n"
     ]
    },
    {
     "name": "stdout",
     "output_type": "stream",
     "text": [
      "Validation loss: 1.2517194747924805\n",
      "Client  4\n",
      "File ../data/hdfs/hdfs_train, number of sessions 971\n",
      "File ../data/hdfs/hdfs_train, number of seqs 9323\n",
      "sampling...\n"
     ]
    },
    {
     "name": "stderr",
     "output_type": "stream",
     "text": [
      "100%|██████████| 1044/1044 [00:00<00:00, 3496.50it/s]\n"
     ]
    },
    {
     "name": "stdout",
     "output_type": "stream",
     "text": [
      "File ../data/hdfs/hdfs_test_normal, number of sessions 110673\n",
      "File ../data/hdfs/hdfs_test_normal, number of seqs 1044\n",
      "Find 9323 train logs, 1044 validation logs\n",
      "Train batch size 2048 ,Validation batch size 2048\n",
      "Starting epoch: 0 | phase: train | ⏰: 20:02:07 | Learning rate: 0.000313\n"
     ]
    },
    {
     "name": "stderr",
     "output_type": "stream",
     "text": [
      "Train loss: 1.30414: 100%|██████████| 5/5 [00:00<00:00, 53.15it/s]\n"
     ]
    },
    {
     "name": "stdout",
     "output_type": "stream",
     "text": [
      "Starting epoch: 0 | phase: valid | ⏰: 20:02:07 \n"
     ]
    },
    {
     "name": "stderr",
     "output_type": "stream",
     "text": [
      ": 100%|██████████| 1/1 [00:00<00:00, 87.65it/s]\n"
     ]
    },
    {
     "name": "stdout",
     "output_type": "stream",
     "text": [
      "Validation loss: 1.2646911144256592\n",
      "============ Test epoch 38 ============\n",
      "Client  0\n",
      "Number of sessions(hdfs_test_normal): 5813\n",
      "Number of sessions(hdfs_test_abnormal): 1136\n"
     ]
    },
    {
     "name": "stderr",
     "output_type": "stream",
     "text": [
      "100%|██████████| 5813/5813 [03:25<00:00, 28.33it/s]\n",
      "100%|██████████| 1136/1136 [00:20<00:00, 55.05it/s]\n"
     ]
    },
    {
     "name": "stdout",
     "output_type": "stream",
     "text": [
      "false positive (FP): 490, false negative (FN): 24, Precision: 87.216%, Recall: 99.287%, F1-measure: 92.861%\n",
      "actual positive (TP+FN): 3367, actual negative (FP+TN): 110673\n",
      "accuracy: 99.549\n",
      "Finished Predicting\n",
      "elapsed_time: 225.8517096042633\n",
      "Client  1\n",
      "Number of sessions(hdfs_test_normal): 5574\n",
      "Number of sessions(hdfs_test_abnormal): 1139\n"
     ]
    },
    {
     "name": "stderr",
     "output_type": "stream",
     "text": [
      "100%|██████████| 5574/5574 [03:13<00:00, 28.77it/s]\n",
      "100%|██████████| 1139/1139 [00:21<00:00, 52.09it/s]\n"
     ]
    },
    {
     "name": "stdout",
     "output_type": "stream",
     "text": [
      "false positive (FP): 528, false negative (FN): 26, Precision: 86.353%, Recall: 99.228%, F1-measure: 92.344%\n",
      "actual positive (TP+FN): 3367, actual negative (FP+TN): 110673\n",
      "accuracy: 99.514\n",
      "Finished Predicting\n",
      "elapsed_time: 215.59197616577148\n",
      "Client  2\n",
      "Number of sessions(hdfs_test_normal): 5730\n",
      "Number of sessions(hdfs_test_abnormal): 1118\n"
     ]
    },
    {
     "name": "stderr",
     "output_type": "stream",
     "text": [
      "100%|██████████| 5730/5730 [03:18<00:00, 28.81it/s]\n",
      "100%|██████████| 1118/1118 [00:15<00:00, 73.23it/s]\n"
     ]
    },
    {
     "name": "stdout",
     "output_type": "stream",
     "text": [
      "false positive (FP): 468, false negative (FN): 30, Precision: 87.700%, Recall: 99.109%, F1-measure: 93.056%\n",
      "actual positive (TP+FN): 3367, actual negative (FP+TN): 110673\n",
      "accuracy: 99.563\n",
      "Finished Predicting\n",
      "elapsed_time: 214.1675100326538\n",
      "Client  3\n",
      "Number of sessions(hdfs_test_normal): 5747\n",
      "Number of sessions(hdfs_test_abnormal): 1159\n"
     ]
    },
    {
     "name": "stderr",
     "output_type": "stream",
     "text": [
      "100%|██████████| 5747/5747 [03:08<00:00, 30.51it/s]\n",
      "100%|██████████| 1159/1159 [00:22<00:00, 50.86it/s]\n"
     ]
    },
    {
     "name": "stdout",
     "output_type": "stream",
     "text": [
      "false positive (FP): 451, false negative (FN): 28, Precision: 88.100%, Recall: 99.168%, F1-measure: 93.307%\n",
      "actual positive (TP+FN): 3367, actual negative (FP+TN): 110673\n",
      "accuracy: 99.580\n",
      "Finished Predicting\n",
      "elapsed_time: 211.12789368629456\n",
      "Client  4\n",
      "Number of sessions(hdfs_test_normal): 5623\n",
      "Number of sessions(hdfs_test_abnormal): 1121\n"
     ]
    },
    {
     "name": "stderr",
     "output_type": "stream",
     "text": [
      "100%|██████████| 5623/5623 [03:14<00:00, 28.87it/s]\n",
      "100%|██████████| 1121/1121 [00:21<00:00, 51.91it/s]\n"
     ]
    },
    {
     "name": "stdout",
     "output_type": "stream",
     "text": [
      "false positive (FP): 525, false negative (FN): 32, Precision: 86.399%, Recall: 99.050%, F1-measure: 92.293%\n",
      "actual positive (TP+FN): 3367, actual negative (FP+TN): 110673\n",
      "accuracy: 99.512\n",
      "Finished Predicting\n",
      "elapsed_time: 216.3897523880005\n",
      "============ Train epoch 39 ============\n",
      "Client  0\n",
      "File ../data/hdfs/hdfs_train, number of sessions 971\n",
      "File ../data/hdfs/hdfs_train, number of seqs 9420\n",
      "sampling...\n"
     ]
    },
    {
     "name": "stderr",
     "output_type": "stream",
     "text": [
      "100%|██████████| 1058/1058 [00:00<00:00, 3542.29it/s]\n"
     ]
    },
    {
     "name": "stdout",
     "output_type": "stream",
     "text": [
      "File ../data/hdfs/hdfs_test_normal, number of sessions 110673\n",
      "File ../data/hdfs/hdfs_test_normal, number of seqs 1058\n",
      "Find 9420 train logs, 1058 validation logs\n",
      "Train batch size 2048 ,Validation batch size 2048\n",
      "Starting epoch: 0 | phase: train | ⏰: 20:20:25 | Learning rate: 0.000313\n"
     ]
    },
    {
     "name": "stderr",
     "output_type": "stream",
     "text": [
      "Train loss: 1.26965: 100%|██████████| 5/5 [00:00<00:00, 47.08it/s]\n"
     ]
    },
    {
     "name": "stdout",
     "output_type": "stream",
     "text": [
      "Starting epoch: 0 | phase: valid | ⏰: 20:20:25 \n"
     ]
    },
    {
     "name": "stderr",
     "output_type": "stream",
     "text": [
      ": 100%|██████████| 1/1 [00:00<00:00, 98.96it/s]\n"
     ]
    },
    {
     "name": "stdout",
     "output_type": "stream",
     "text": [
      "Validation loss: 1.2489864826202393\n",
      "Client  1\n",
      "File ../data/hdfs/hdfs_train, number of sessions 971\n",
      "File ../data/hdfs/hdfs_train, number of seqs 9080\n",
      "sampling...\n"
     ]
    },
    {
     "name": "stderr",
     "output_type": "stream",
     "text": [
      "100%|██████████| 1046/1046 [00:00<00:00, 3480.25it/s]\n"
     ]
    },
    {
     "name": "stdout",
     "output_type": "stream",
     "text": [
      "File ../data/hdfs/hdfs_test_normal, number of sessions 110673\n",
      "File ../data/hdfs/hdfs_test_normal, number of seqs 1046\n",
      "Find 9080 train logs, 1046 validation logs\n",
      "Train batch size 2048 ,Validation batch size 2048\n",
      "Starting epoch: 0 | phase: train | ⏰: 20:20:37 | Learning rate: 0.000313\n"
     ]
    },
    {
     "name": "stderr",
     "output_type": "stream",
     "text": [
      "Train loss: 1.28597: 100%|██████████| 5/5 [00:00<00:00, 57.46it/s]\n"
     ]
    },
    {
     "name": "stdout",
     "output_type": "stream",
     "text": [
      "Starting epoch: 0 | phase: valid | ⏰: 20:20:37 \n"
     ]
    },
    {
     "name": "stderr",
     "output_type": "stream",
     "text": [
      ": 100%|██████████| 1/1 [00:00<00:00, 107.47it/s]\n"
     ]
    },
    {
     "name": "stdout",
     "output_type": "stream",
     "text": [
      "Validation loss: 1.2347412109375\n",
      "Client  2\n",
      "File ../data/hdfs/hdfs_train, number of sessions 971\n",
      "File ../data/hdfs/hdfs_train, number of seqs 9485\n",
      "sampling...\n"
     ]
    },
    {
     "name": "stderr",
     "output_type": "stream",
     "text": [
      "100%|██████████| 1051/1051 [00:00<00:00, 3550.20it/s]\n"
     ]
    },
    {
     "name": "stdout",
     "output_type": "stream",
     "text": [
      "File ../data/hdfs/hdfs_test_normal, number of sessions 110673\n",
      "File ../data/hdfs/hdfs_test_normal, number of seqs 1051\n",
      "Find 9485 train logs, 1051 validation logs\n",
      "Train batch size 2048 ,Validation batch size 2048\n",
      "Starting epoch: 0 | phase: train | ⏰: 20:20:48 | Learning rate: 0.000313\n"
     ]
    },
    {
     "name": "stderr",
     "output_type": "stream",
     "text": [
      "Train loss: 1.29190: 100%|██████████| 5/5 [00:00<00:00, 55.16it/s]\n"
     ]
    },
    {
     "name": "stdout",
     "output_type": "stream",
     "text": [
      "Starting epoch: 0 | phase: valid | ⏰: 20:20:48 \n"
     ]
    },
    {
     "name": "stderr",
     "output_type": "stream",
     "text": [
      ": 100%|██████████| 1/1 [00:00<00:00, 102.67it/s]\n"
     ]
    },
    {
     "name": "stdout",
     "output_type": "stream",
     "text": [
      "Validation loss: 1.250145673751831\n",
      "Client  3\n",
      "File ../data/hdfs/hdfs_train, number of sessions 971\n",
      "File ../data/hdfs/hdfs_train, number of seqs 9267\n",
      "sampling...\n"
     ]
    },
    {
     "name": "stderr",
     "output_type": "stream",
     "text": [
      "100%|██████████| 1057/1057 [00:00<00:00, 3488.36it/s]\n"
     ]
    },
    {
     "name": "stdout",
     "output_type": "stream",
     "text": [
      "File ../data/hdfs/hdfs_test_normal, number of sessions 110673\n",
      "File ../data/hdfs/hdfs_test_normal, number of seqs 1057\n",
      "Find 9267 train logs, 1057 validation logs\n",
      "Train batch size 2048 ,Validation batch size 2048\n",
      "Starting epoch: 0 | phase: train | ⏰: 20:21:00 | Learning rate: 0.000313\n"
     ]
    },
    {
     "name": "stderr",
     "output_type": "stream",
     "text": [
      "Train loss: 1.27244: 100%|██████████| 5/5 [00:00<00:00, 55.24it/s]\n"
     ]
    },
    {
     "name": "stdout",
     "output_type": "stream",
     "text": [
      "Starting epoch: 0 | phase: valid | ⏰: 20:21:00 \n"
     ]
    },
    {
     "name": "stderr",
     "output_type": "stream",
     "text": [
      ": 100%|██████████| 1/1 [00:00<00:00, 95.69it/s]\n"
     ]
    },
    {
     "name": "stdout",
     "output_type": "stream",
     "text": [
      "Validation loss: 1.2952429056167603\n",
      "Client  4\n",
      "File ../data/hdfs/hdfs_train, number of sessions 971\n",
      "File ../data/hdfs/hdfs_train, number of seqs 9323\n",
      "sampling...\n"
     ]
    },
    {
     "name": "stderr",
     "output_type": "stream",
     "text": [
      "100%|██████████| 1044/1044 [00:00<00:00, 3604.57it/s]\n"
     ]
    },
    {
     "name": "stdout",
     "output_type": "stream",
     "text": [
      "File ../data/hdfs/hdfs_test_normal, number of sessions 110673\n",
      "File ../data/hdfs/hdfs_test_normal, number of seqs 1044\n",
      "Find 9323 train logs, 1044 validation logs\n",
      "Train batch size 2048 ,Validation batch size 2048\n",
      "Starting epoch: 0 | phase: train | ⏰: 20:21:12 | Learning rate: 0.000313\n"
     ]
    },
    {
     "name": "stderr",
     "output_type": "stream",
     "text": [
      "Train loss: 1.27659: 100%|██████████| 5/5 [00:00<00:00, 54.77it/s]\n"
     ]
    },
    {
     "name": "stdout",
     "output_type": "stream",
     "text": [
      "Starting epoch: 0 | phase: valid | ⏰: 20:21:12 \n"
     ]
    },
    {
     "name": "stderr",
     "output_type": "stream",
     "text": [
      ": 100%|██████████| 1/1 [00:00<00:00, 107.51it/s]\n"
     ]
    },
    {
     "name": "stdout",
     "output_type": "stream",
     "text": [
      "Validation loss: 1.2422614097595215\n",
      "============ Test epoch 39 ============\n",
      "Client  0\n",
      "Number of sessions(hdfs_test_normal): 5813\n",
      "Number of sessions(hdfs_test_abnormal): 1136\n"
     ]
    },
    {
     "name": "stderr",
     "output_type": "stream",
     "text": [
      "100%|██████████| 5813/5813 [02:54<00:00, 33.26it/s]\n",
      "100%|██████████| 1136/1136 [00:14<00:00, 76.19it/s]\n"
     ]
    },
    {
     "name": "stdout",
     "output_type": "stream",
     "text": [
      "false positive (FP): 490, false negative (FN): 24, Precision: 87.216%, Recall: 99.287%, F1-measure: 92.861%\n",
      "actual positive (TP+FN): 3367, actual negative (FP+TN): 110673\n",
      "accuracy: 99.549\n",
      "Finished Predicting\n",
      "elapsed_time: 189.7030668258667\n",
      "Client  1\n",
      "Number of sessions(hdfs_test_normal): 5574\n",
      "Number of sessions(hdfs_test_abnormal): 1139\n"
     ]
    },
    {
     "name": "stderr",
     "output_type": "stream",
     "text": [
      "100%|██████████| 5574/5574 [03:02<00:00, 30.52it/s]\n",
      "100%|██████████| 1139/1139 [00:21<00:00, 51.88it/s]\n"
     ]
    },
    {
     "name": "stdout",
     "output_type": "stream",
     "text": [
      "false positive (FP): 528, false negative (FN): 26, Precision: 86.353%, Recall: 99.228%, F1-measure: 92.344%\n",
      "actual positive (TP+FN): 3367, actual negative (FP+TN): 110673\n",
      "accuracy: 99.514\n",
      "Finished Predicting\n",
      "elapsed_time: 204.6047523021698\n",
      "Client  2\n",
      "Number of sessions(hdfs_test_normal): 5730\n",
      "Number of sessions(hdfs_test_abnormal): 1118\n"
     ]
    },
    {
     "name": "stderr",
     "output_type": "stream",
     "text": [
      "100%|██████████| 5730/5730 [03:23<00:00, 28.22it/s]\n",
      "100%|██████████| 1118/1118 [00:21<00:00, 51.22it/s]\n"
     ]
    },
    {
     "name": "stdout",
     "output_type": "stream",
     "text": [
      "false positive (FP): 468, false negative (FN): 30, Precision: 87.700%, Recall: 99.109%, F1-measure: 93.056%\n",
      "actual positive (TP+FN): 3367, actual negative (FP+TN): 110673\n",
      "accuracy: 99.563\n",
      "Finished Predicting\n",
      "elapsed_time: 224.8540482521057\n",
      "Client  3\n",
      "Number of sessions(hdfs_test_normal): 5747\n",
      "Number of sessions(hdfs_test_abnormal): 1159\n"
     ]
    },
    {
     "name": "stderr",
     "output_type": "stream",
     "text": [
      "100%|██████████| 5747/5747 [03:23<00:00, 28.21it/s]\n",
      "100%|██████████| 1159/1159 [00:22<00:00, 50.40it/s]\n"
     ]
    },
    {
     "name": "stdout",
     "output_type": "stream",
     "text": [
      "false positive (FP): 451, false negative (FN): 28, Precision: 88.100%, Recall: 99.168%, F1-measure: 93.307%\n",
      "actual positive (TP+FN): 3367, actual negative (FP+TN): 110673\n",
      "accuracy: 99.580\n",
      "Finished Predicting\n",
      "elapsed_time: 226.73944783210754\n",
      "Client  4\n",
      "Number of sessions(hdfs_test_normal): 5623\n",
      "Number of sessions(hdfs_test_abnormal): 1121\n"
     ]
    },
    {
     "name": "stderr",
     "output_type": "stream",
     "text": [
      "100%|██████████| 5623/5623 [03:16<00:00, 28.58it/s]\n",
      "100%|██████████| 1121/1121 [00:21<00:00, 52.16it/s]\n"
     ]
    },
    {
     "name": "stdout",
     "output_type": "stream",
     "text": [
      "false positive (FP): 525, false negative (FN): 32, Precision: 86.399%, Recall: 99.050%, F1-measure: 92.293%\n",
      "actual positive (TP+FN): 3367, actual negative (FP+TN): 110673\n",
      "accuracy: 99.512\n",
      "Finished Predicting\n",
      "elapsed_time: 218.25498008728027\n",
      "============ Train epoch 40 ============\n",
      "Client  0\n",
      "File ../data/hdfs/hdfs_train, number of sessions 971\n",
      "File ../data/hdfs/hdfs_train, number of seqs 9420\n",
      "sampling...\n"
     ]
    },
    {
     "name": "stderr",
     "output_type": "stream",
     "text": [
      "100%|██████████| 1058/1058 [00:00<00:00, 3479.10it/s]\n"
     ]
    },
    {
     "name": "stdout",
     "output_type": "stream",
     "text": [
      "File ../data/hdfs/hdfs_test_normal, number of sessions 110673\n",
      "File ../data/hdfs/hdfs_test_normal, number of seqs 1058\n",
      "Find 9420 train logs, 1058 validation logs\n",
      "Train batch size 2048 ,Validation batch size 2048\n",
      "Starting epoch: 0 | phase: train | ⏰: 20:39:11 | Learning rate: 0.000313\n"
     ]
    },
    {
     "name": "stderr",
     "output_type": "stream",
     "text": [
      "Train loss: 1.24617: 100%|██████████| 5/5 [00:00<00:00, 51.54it/s]\n"
     ]
    },
    {
     "name": "stdout",
     "output_type": "stream",
     "text": [
      "Starting epoch: 0 | phase: valid | ⏰: 20:39:11 \n"
     ]
    },
    {
     "name": "stderr",
     "output_type": "stream",
     "text": [
      ": 100%|██████████| 1/1 [00:00<00:00, 94.18it/s]\n"
     ]
    },
    {
     "name": "stdout",
     "output_type": "stream",
     "text": [
      "Validation loss: 1.2277641296386719\n",
      "Client  1\n",
      "File ../data/hdfs/hdfs_train, number of sessions 971\n",
      "File ../data/hdfs/hdfs_train, number of seqs 9080\n",
      "sampling...\n"
     ]
    },
    {
     "name": "stderr",
     "output_type": "stream",
     "text": [
      "100%|██████████| 1046/1046 [00:00<00:00, 3517.52it/s]\n"
     ]
    },
    {
     "name": "stdout",
     "output_type": "stream",
     "text": [
      "File ../data/hdfs/hdfs_test_normal, number of sessions 110673\n",
      "File ../data/hdfs/hdfs_test_normal, number of seqs 1046\n",
      "Find 9080 train logs, 1046 validation logs\n",
      "Train batch size 2048 ,Validation batch size 2048\n",
      "Starting epoch: 0 | phase: train | ⏰: 20:39:23 | Learning rate: 0.000313\n"
     ]
    },
    {
     "name": "stderr",
     "output_type": "stream",
     "text": [
      "Train loss: 1.27142: 100%|██████████| 5/5 [00:00<00:00, 51.94it/s]\n"
     ]
    },
    {
     "name": "stdout",
     "output_type": "stream",
     "text": [
      "Starting epoch: 0 | phase: valid | ⏰: 20:39:23 \n"
     ]
    },
    {
     "name": "stderr",
     "output_type": "stream",
     "text": [
      ": 100%|██████████| 1/1 [00:00<00:00, 93.41it/s]\n"
     ]
    },
    {
     "name": "stdout",
     "output_type": "stream",
     "text": [
      "Validation loss: 1.1989214420318604\n",
      "Client  2\n",
      "File ../data/hdfs/hdfs_train, number of sessions 971\n",
      "File ../data/hdfs/hdfs_train, number of seqs 9485\n",
      "sampling...\n"
     ]
    },
    {
     "name": "stderr",
     "output_type": "stream",
     "text": [
      "100%|██████████| 1051/1051 [00:00<00:00, 3443.73it/s]\n"
     ]
    },
    {
     "name": "stdout",
     "output_type": "stream",
     "text": [
      "File ../data/hdfs/hdfs_test_normal, number of sessions 110673\n",
      "File ../data/hdfs/hdfs_test_normal, number of seqs 1051\n",
      "Find 9485 train logs, 1051 validation logs\n",
      "Train batch size 2048 ,Validation batch size 2048\n",
      "Starting epoch: 0 | phase: train | ⏰: 20:39:34 | Learning rate: 0.000313\n"
     ]
    },
    {
     "name": "stderr",
     "output_type": "stream",
     "text": [
      "Train loss: 1.27433: 100%|██████████| 5/5 [00:00<00:00, 52.21it/s]\n"
     ]
    },
    {
     "name": "stdout",
     "output_type": "stream",
     "text": [
      "Starting epoch: 0 | phase: valid | ⏰: 20:39:34 \n"
     ]
    },
    {
     "name": "stderr",
     "output_type": "stream",
     "text": [
      ": 100%|██████████| 1/1 [00:00<00:00, 94.48it/s]\n"
     ]
    },
    {
     "name": "stdout",
     "output_type": "stream",
     "text": [
      "Validation loss: 1.2547420263290405\n",
      "Client  3\n",
      "File ../data/hdfs/hdfs_train, number of sessions 971\n",
      "File ../data/hdfs/hdfs_train, number of seqs 9267\n",
      "sampling...\n"
     ]
    },
    {
     "name": "stderr",
     "output_type": "stream",
     "text": [
      "100%|██████████| 1057/1057 [00:00<00:00, 3418.77it/s]\n"
     ]
    },
    {
     "name": "stdout",
     "output_type": "stream",
     "text": [
      "File ../data/hdfs/hdfs_test_normal, number of sessions 110673\n",
      "File ../data/hdfs/hdfs_test_normal, number of seqs 1057\n",
      "Find 9267 train logs, 1057 validation logs\n",
      "Train batch size 2048 ,Validation batch size 2048\n",
      "Starting epoch: 0 | phase: train | ⏰: 20:39:46 | Learning rate: 0.000313\n"
     ]
    },
    {
     "name": "stderr",
     "output_type": "stream",
     "text": [
      "Train loss: 1.24964: 100%|██████████| 5/5 [00:00<00:00, 53.59it/s]\n"
     ]
    },
    {
     "name": "stdout",
     "output_type": "stream",
     "text": [
      "Starting epoch: 0 | phase: valid | ⏰: 20:39:46 \n"
     ]
    },
    {
     "name": "stderr",
     "output_type": "stream",
     "text": [
      ": 100%|██████████| 1/1 [00:00<00:00, 102.62it/s]"
     ]
    },
    {
     "name": "stdout",
     "output_type": "stream",
     "text": [
      "Validation loss: 1.1906782388687134\n",
      "Client  4\n"
     ]
    },
    {
     "name": "stderr",
     "output_type": "stream",
     "text": [
      "\n"
     ]
    },
    {
     "name": "stdout",
     "output_type": "stream",
     "text": [
      "File ../data/hdfs/hdfs_train, number of sessions 971\n",
      "File ../data/hdfs/hdfs_train, number of seqs 9323\n",
      "sampling...\n"
     ]
    },
    {
     "name": "stderr",
     "output_type": "stream",
     "text": [
      "100%|██████████| 1044/1044 [00:00<00:00, 3518.41it/s]\n"
     ]
    },
    {
     "name": "stdout",
     "output_type": "stream",
     "text": [
      "File ../data/hdfs/hdfs_test_normal, number of sessions 110673\n",
      "File ../data/hdfs/hdfs_test_normal, number of seqs 1044\n",
      "Find 9323 train logs, 1044 validation logs\n",
      "Train batch size 2048 ,Validation batch size 2048\n",
      "Starting epoch: 0 | phase: train | ⏰: 20:39:58 | Learning rate: 0.000313\n"
     ]
    },
    {
     "name": "stderr",
     "output_type": "stream",
     "text": [
      "Train loss: 1.25948: 100%|██████████| 5/5 [00:00<00:00, 55.76it/s]\n"
     ]
    },
    {
     "name": "stdout",
     "output_type": "stream",
     "text": [
      "Starting epoch: 0 | phase: valid | ⏰: 20:39:58 \n"
     ]
    },
    {
     "name": "stderr",
     "output_type": "stream",
     "text": [
      ": 100%|██████████| 1/1 [00:00<00:00, 100.61it/s]\n"
     ]
    },
    {
     "name": "stdout",
     "output_type": "stream",
     "text": [
      "Validation loss: 1.1968717575073242\n",
      "============ Test epoch 40 ============\n",
      "Client  0\n",
      "Number of sessions(hdfs_test_normal): 5813\n",
      "Number of sessions(hdfs_test_abnormal): 1136\n"
     ]
    },
    {
     "name": "stderr",
     "output_type": "stream",
     "text": [
      "100%|██████████| 5813/5813 [03:03<00:00, 31.61it/s]\n",
      "100%|██████████| 1136/1136 [00:20<00:00, 54.15it/s]\n"
     ]
    },
    {
     "name": "stdout",
     "output_type": "stream",
     "text": [
      "false positive (FP): 490, false negative (FN): 24, Precision: 87.216%, Recall: 99.287%, F1-measure: 92.861%\n",
      "actual positive (TP+FN): 3367, actual negative (FP+TN): 110673\n",
      "accuracy: 99.549\n",
      "Finished Predicting\n",
      "elapsed_time: 204.85053825378418\n",
      "Client  1\n",
      "Number of sessions(hdfs_test_normal): 5574\n",
      "Number of sessions(hdfs_test_abnormal): 1139\n"
     ]
    },
    {
     "name": "stderr",
     "output_type": "stream",
     "text": [
      "100%|██████████| 5574/5574 [02:49<00:00, 32.88it/s]\n",
      "100%|██████████| 1139/1139 [00:20<00:00, 54.78it/s]\n"
     ]
    },
    {
     "name": "stdout",
     "output_type": "stream",
     "text": [
      "false positive (FP): 528, false negative (FN): 26, Precision: 86.353%, Recall: 99.228%, F1-measure: 92.344%\n",
      "actual positive (TP+FN): 3367, actual negative (FP+TN): 110673\n",
      "accuracy: 99.514\n",
      "Finished Predicting\n",
      "elapsed_time: 190.3231279850006\n",
      "Client  2\n",
      "Number of sessions(hdfs_test_normal): 5730\n",
      "Number of sessions(hdfs_test_abnormal): 1118\n"
     ]
    },
    {
     "name": "stderr",
     "output_type": "stream",
     "text": [
      "100%|██████████| 5730/5730 [03:23<00:00, 28.11it/s]\n",
      "100%|██████████| 1118/1118 [00:21<00:00, 52.08it/s]\n"
     ]
    },
    {
     "name": "stdout",
     "output_type": "stream",
     "text": [
      "false positive (FP): 468, false negative (FN): 30, Precision: 87.700%, Recall: 99.109%, F1-measure: 93.056%\n",
      "actual positive (TP+FN): 3367, actual negative (FP+TN): 110673\n",
      "accuracy: 99.563\n",
      "Finished Predicting\n",
      "elapsed_time: 225.324809551239\n",
      "Client  3\n",
      "Number of sessions(hdfs_test_normal): 5747\n",
      "Number of sessions(hdfs_test_abnormal): 1159\n"
     ]
    },
    {
     "name": "stderr",
     "output_type": "stream",
     "text": [
      "100%|██████████| 5747/5747 [02:57<00:00, 32.32it/s]\n",
      "100%|██████████| 1159/1159 [00:22<00:00, 50.76it/s]\n"
     ]
    },
    {
     "name": "stdout",
     "output_type": "stream",
     "text": [
      "false positive (FP): 451, false negative (FN): 28, Precision: 88.100%, Recall: 99.168%, F1-measure: 93.307%\n",
      "actual positive (TP+FN): 3367, actual negative (FP+TN): 110673\n",
      "accuracy: 99.580\n",
      "Finished Predicting\n",
      "elapsed_time: 200.64473176002502\n",
      "Client  4\n",
      "Number of sessions(hdfs_test_normal): 5623\n",
      "Number of sessions(hdfs_test_abnormal): 1121\n"
     ]
    },
    {
     "name": "stderr",
     "output_type": "stream",
     "text": [
      "100%|██████████| 5623/5623 [03:15<00:00, 28.70it/s]\n",
      "100%|██████████| 1121/1121 [00:21<00:00, 52.11it/s]\n"
     ]
    },
    {
     "name": "stdout",
     "output_type": "stream",
     "text": [
      "false positive (FP): 525, false negative (FN): 32, Precision: 86.399%, Recall: 99.050%, F1-measure: 92.293%\n",
      "actual positive (TP+FN): 3367, actual negative (FP+TN): 110673\n",
      "accuracy: 99.512\n",
      "Finished Predicting\n",
      "elapsed_time: 217.46786785125732\n",
      "============ Train epoch 41 ============\n",
      "Client  0\n",
      "File ../data/hdfs/hdfs_train, number of sessions 971\n",
      "File ../data/hdfs/hdfs_train, number of seqs 9420\n",
      "sampling...\n"
     ]
    },
    {
     "name": "stderr",
     "output_type": "stream",
     "text": [
      "100%|██████████| 1058/1058 [00:00<00:00, 3467.25it/s]\n"
     ]
    },
    {
     "name": "stdout",
     "output_type": "stream",
     "text": [
      "File ../data/hdfs/hdfs_test_normal, number of sessions 110673\n",
      "File ../data/hdfs/hdfs_test_normal, number of seqs 1058\n",
      "Find 9420 train logs, 1058 validation logs\n",
      "Train batch size 2048 ,Validation batch size 2048\n",
      "Starting epoch: 0 | phase: train | ⏰: 20:57:31 | Learning rate: 0.000313\n"
     ]
    },
    {
     "name": "stderr",
     "output_type": "stream",
     "text": [
      "Train loss: 1.22552: 100%|██████████| 5/5 [00:00<00:00, 52.45it/s]\n"
     ]
    },
    {
     "name": "stdout",
     "output_type": "stream",
     "text": [
      "Starting epoch: 0 | phase: valid | ⏰: 20:57:31 \n"
     ]
    },
    {
     "name": "stderr",
     "output_type": "stream",
     "text": [
      ": 100%|██████████| 1/1 [00:00<00:00, 99.07it/s]\n"
     ]
    },
    {
     "name": "stdout",
     "output_type": "stream",
     "text": [
      "Validation loss: 1.2486803531646729\n",
      "Client  1\n",
      "File ../data/hdfs/hdfs_train, number of sessions 971\n",
      "File ../data/hdfs/hdfs_train, number of seqs 9080\n",
      "sampling...\n"
     ]
    },
    {
     "name": "stderr",
     "output_type": "stream",
     "text": [
      "100%|██████████| 1046/1046 [00:00<00:00, 3578.49it/s]\n"
     ]
    },
    {
     "name": "stdout",
     "output_type": "stream",
     "text": [
      "File ../data/hdfs/hdfs_test_normal, number of sessions 110673\n",
      "File ../data/hdfs/hdfs_test_normal, number of seqs 1046\n",
      "Find 9080 train logs, 1046 validation logs\n",
      "Train batch size 2048 ,Validation batch size 2048\n",
      "Starting epoch: 0 | phase: train | ⏰: 20:57:43 | Learning rate: 0.000313\n"
     ]
    },
    {
     "name": "stderr",
     "output_type": "stream",
     "text": [
      "Train loss: 1.24876: 100%|██████████| 5/5 [00:00<00:00, 54.27it/s]\n"
     ]
    },
    {
     "name": "stdout",
     "output_type": "stream",
     "text": [
      "Starting epoch: 0 | phase: valid | ⏰: 20:57:43 \n"
     ]
    },
    {
     "name": "stderr",
     "output_type": "stream",
     "text": [
      ": 100%|██████████| 1/1 [00:00<00:00, 94.71it/s]\n"
     ]
    },
    {
     "name": "stdout",
     "output_type": "stream",
     "text": [
      "Validation loss: 1.2150064706802368\n",
      "Client  2\n",
      "File ../data/hdfs/hdfs_train, number of sessions 971\n",
      "File ../data/hdfs/hdfs_train, number of seqs 9485\n",
      "sampling...\n"
     ]
    },
    {
     "name": "stderr",
     "output_type": "stream",
     "text": [
      "100%|██████████| 1051/1051 [00:00<00:00, 3645.21it/s]\n"
     ]
    },
    {
     "name": "stdout",
     "output_type": "stream",
     "text": [
      "File ../data/hdfs/hdfs_test_normal, number of sessions 110673\n",
      "File ../data/hdfs/hdfs_test_normal, number of seqs 1051\n",
      "Find 9485 train logs, 1051 validation logs\n",
      "Train batch size 2048 ,Validation batch size 2048\n",
      "Starting epoch: 0 | phase: train | ⏰: 20:57:55 | Learning rate: 0.000313\n"
     ]
    },
    {
     "name": "stderr",
     "output_type": "stream",
     "text": [
      "Train loss: 1.25290: 100%|██████████| 5/5 [00:00<00:00, 54.26it/s]\n"
     ]
    },
    {
     "name": "stdout",
     "output_type": "stream",
     "text": [
      "Starting epoch: 0 | phase: valid | ⏰: 20:57:55 \n"
     ]
    },
    {
     "name": "stderr",
     "output_type": "stream",
     "text": [
      ": 100%|██████████| 1/1 [00:00<00:00, 91.03it/s]\n"
     ]
    },
    {
     "name": "stdout",
     "output_type": "stream",
     "text": [
      "Validation loss: 1.2029534578323364\n",
      "Client  3\n",
      "File ../data/hdfs/hdfs_train, number of sessions 971\n",
      "File ../data/hdfs/hdfs_train, number of seqs 9267\n",
      "sampling...\n"
     ]
    },
    {
     "name": "stderr",
     "output_type": "stream",
     "text": [
      "100%|██████████| 1057/1057 [00:00<00:00, 3467.54it/s]\n"
     ]
    },
    {
     "name": "stdout",
     "output_type": "stream",
     "text": [
      "File ../data/hdfs/hdfs_test_normal, number of sessions 110673\n",
      "File ../data/hdfs/hdfs_test_normal, number of seqs 1057\n",
      "Find 9267 train logs, 1057 validation logs\n",
      "Train batch size 2048 ,Validation batch size 2048\n",
      "Starting epoch: 0 | phase: train | ⏰: 20:58:07 | Learning rate: 0.000313\n"
     ]
    },
    {
     "name": "stderr",
     "output_type": "stream",
     "text": [
      "Train loss: 1.23430: 100%|██████████| 5/5 [00:00<00:00, 53.74it/s]\n"
     ]
    },
    {
     "name": "stdout",
     "output_type": "stream",
     "text": [
      "Starting epoch: 0 | phase: valid | ⏰: 20:58:07 \n"
     ]
    },
    {
     "name": "stderr",
     "output_type": "stream",
     "text": [
      ": 100%|██████████| 1/1 [00:00<00:00, 91.56it/s]\n"
     ]
    },
    {
     "name": "stdout",
     "output_type": "stream",
     "text": [
      "Validation loss: 1.2181745767593384\n",
      "Client  4\n",
      "File ../data/hdfs/hdfs_train, number of sessions 971\n",
      "File ../data/hdfs/hdfs_train, number of seqs 9323\n",
      "sampling...\n"
     ]
    },
    {
     "name": "stderr",
     "output_type": "stream",
     "text": [
      "100%|██████████| 1044/1044 [00:00<00:00, 3540.06it/s]\n"
     ]
    },
    {
     "name": "stdout",
     "output_type": "stream",
     "text": [
      "File ../data/hdfs/hdfs_test_normal, number of sessions 110673\n",
      "File ../data/hdfs/hdfs_test_normal, number of seqs 1044\n",
      "Find 9323 train logs, 1044 validation logs\n",
      "Train batch size 2048 ,Validation batch size 2048\n",
      "Starting epoch: 0 | phase: train | ⏰: 20:58:18 | Learning rate: 0.000313\n"
     ]
    },
    {
     "name": "stderr",
     "output_type": "stream",
     "text": [
      "Train loss: 1.24483: 100%|██████████| 5/5 [00:00<00:00, 49.24it/s]\n"
     ]
    },
    {
     "name": "stdout",
     "output_type": "stream",
     "text": [
      "Starting epoch: 0 | phase: valid | ⏰: 20:58:18 \n"
     ]
    },
    {
     "name": "stderr",
     "output_type": "stream",
     "text": [
      ": 100%|██████████| 1/1 [00:00<00:00, 100.41it/s]\n"
     ]
    },
    {
     "name": "stdout",
     "output_type": "stream",
     "text": [
      "Validation loss: 1.206494688987732\n",
      "============ Test epoch 41 ============\n",
      "Client  0\n",
      "Number of sessions(hdfs_test_normal): 5813\n",
      "Number of sessions(hdfs_test_abnormal): 1136\n"
     ]
    },
    {
     "name": "stderr",
     "output_type": "stream",
     "text": [
      "100%|██████████| 5813/5813 [03:25<00:00, 28.24it/s]\n",
      "100%|██████████| 1136/1136 [00:20<00:00, 55.25it/s]\n"
     ]
    },
    {
     "name": "stdout",
     "output_type": "stream",
     "text": [
      "false positive (FP): 490, false negative (FN): 24, Precision: 87.216%, Recall: 99.287%, F1-measure: 92.861%\n",
      "actual positive (TP+FN): 3367, actual negative (FP+TN): 110673\n",
      "accuracy: 99.549\n",
      "Finished Predicting\n",
      "elapsed_time: 226.39262580871582\n",
      "Client  1\n",
      "Number of sessions(hdfs_test_normal): 5574\n",
      "Number of sessions(hdfs_test_abnormal): 1139\n"
     ]
    },
    {
     "name": "stderr",
     "output_type": "stream",
     "text": [
      "100%|██████████| 5574/5574 [03:13<00:00, 28.73it/s]\n",
      "100%|██████████| 1139/1139 [00:22<00:00, 51.46it/s]\n"
     ]
    },
    {
     "name": "stdout",
     "output_type": "stream",
     "text": [
      "false positive (FP): 528, false negative (FN): 26, Precision: 86.353%, Recall: 99.228%, F1-measure: 92.344%\n",
      "actual positive (TP+FN): 3367, actual negative (FP+TN): 110673\n",
      "accuracy: 99.514\n",
      "Finished Predicting\n",
      "elapsed_time: 216.11757850646973\n",
      "Client  2\n",
      "Number of sessions(hdfs_test_normal): 5730\n",
      "Number of sessions(hdfs_test_abnormal): 1118\n"
     ]
    },
    {
     "name": "stderr",
     "output_type": "stream",
     "text": [
      "100%|██████████| 5730/5730 [02:19<00:00, 41.12it/s] \n",
      "100%|██████████| 1118/1118 [00:13<00:00, 84.73it/s]\n"
     ]
    },
    {
     "name": "stdout",
     "output_type": "stream",
     "text": [
      "false positive (FP): 468, false negative (FN): 30, Precision: 87.700%, Recall: 99.109%, F1-measure: 93.056%\n",
      "actual positive (TP+FN): 3367, actual negative (FP+TN): 110673\n",
      "accuracy: 99.563\n",
      "Finished Predicting\n",
      "elapsed_time: 152.55001425743103\n",
      "Client  3\n",
      "Number of sessions(hdfs_test_normal): 5747\n",
      "Number of sessions(hdfs_test_abnormal): 1159\n"
     ]
    },
    {
     "name": "stderr",
     "output_type": "stream",
     "text": [
      "100%|██████████| 5747/5747 [03:16<00:00, 29.22it/s]\n",
      "100%|██████████| 1159/1159 [00:22<00:00, 50.48it/s]\n"
     ]
    },
    {
     "name": "stdout",
     "output_type": "stream",
     "text": [
      "false positive (FP): 451, false negative (FN): 28, Precision: 88.100%, Recall: 99.168%, F1-measure: 93.307%\n",
      "actual positive (TP+FN): 3367, actual negative (FP+TN): 110673\n",
      "accuracy: 99.580\n",
      "Finished Predicting\n",
      "elapsed_time: 219.60741782188416\n",
      "Client  4\n",
      "Number of sessions(hdfs_test_normal): 5623\n",
      "Number of sessions(hdfs_test_abnormal): 1121\n"
     ]
    },
    {
     "name": "stderr",
     "output_type": "stream",
     "text": [
      "100%|██████████| 5623/5623 [03:15<00:00, 28.69it/s]\n",
      "100%|██████████| 1121/1121 [00:21<00:00, 52.14it/s]\n"
     ]
    },
    {
     "name": "stdout",
     "output_type": "stream",
     "text": [
      "false positive (FP): 525, false negative (FN): 32, Precision: 86.399%, Recall: 99.050%, F1-measure: 92.293%\n",
      "actual positive (TP+FN): 3367, actual negative (FP+TN): 110673\n",
      "accuracy: 99.512\n",
      "Finished Predicting\n",
      "elapsed_time: 217.50284957885742\n",
      "============ Train epoch 42 ============\n",
      "Client  0\n",
      "File ../data/hdfs/hdfs_train, number of sessions 971\n",
      "File ../data/hdfs/hdfs_train, number of seqs 9420\n",
      "sampling...\n"
     ]
    },
    {
     "name": "stderr",
     "output_type": "stream",
     "text": [
      "100%|██████████| 1058/1058 [00:00<00:00, 3493.29it/s]\n"
     ]
    },
    {
     "name": "stdout",
     "output_type": "stream",
     "text": [
      "File ../data/hdfs/hdfs_test_normal, number of sessions 110673\n",
      "File ../data/hdfs/hdfs_test_normal, number of seqs 1058\n",
      "Find 9420 train logs, 1058 validation logs\n",
      "Train batch size 2048 ,Validation batch size 2048\n",
      "Starting epoch: 0 | phase: train | ⏰: 21:15:45 | Learning rate: 0.000313\n"
     ]
    },
    {
     "name": "stderr",
     "output_type": "stream",
     "text": [
      "Train loss: 1.21153: 100%|██████████| 5/5 [00:00<00:00, 52.11it/s]\n"
     ]
    },
    {
     "name": "stdout",
     "output_type": "stream",
     "text": [
      "Starting epoch: 0 | phase: valid | ⏰: 21:15:46 \n"
     ]
    },
    {
     "name": "stderr",
     "output_type": "stream",
     "text": [
      ": 100%|██████████| 1/1 [00:00<00:00, 88.55it/s]\n"
     ]
    },
    {
     "name": "stdout",
     "output_type": "stream",
     "text": [
      "Validation loss: 1.1638656854629517\n",
      "Client  1\n",
      "File ../data/hdfs/hdfs_train, number of sessions 971\n",
      "File ../data/hdfs/hdfs_train, number of seqs 9080\n",
      "sampling...\n"
     ]
    },
    {
     "name": "stderr",
     "output_type": "stream",
     "text": [
      "100%|██████████| 1046/1046 [00:00<00:00, 3479.83it/s]\n"
     ]
    },
    {
     "name": "stdout",
     "output_type": "stream",
     "text": [
      "File ../data/hdfs/hdfs_test_normal, number of sessions 110673\n",
      "File ../data/hdfs/hdfs_test_normal, number of seqs 1046\n",
      "Find 9080 train logs, 1046 validation logs\n",
      "Train batch size 2048 ,Validation batch size 2048\n",
      "Starting epoch: 0 | phase: train | ⏰: 21:15:57 | Learning rate: 0.000313\n"
     ]
    },
    {
     "name": "stderr",
     "output_type": "stream",
     "text": [
      "Train loss: 1.23241: 100%|██████████| 5/5 [00:00<00:00, 54.89it/s]\n"
     ]
    },
    {
     "name": "stdout",
     "output_type": "stream",
     "text": [
      "Starting epoch: 0 | phase: valid | ⏰: 21:15:57 \n"
     ]
    },
    {
     "name": "stderr",
     "output_type": "stream",
     "text": [
      ": 100%|██████████| 1/1 [00:00<00:00, 97.44it/s]\n"
     ]
    },
    {
     "name": "stdout",
     "output_type": "stream",
     "text": [
      "Validation loss: 1.2353366613388062\n",
      "Client  2\n",
      "File ../data/hdfs/hdfs_train, number of sessions 971\n",
      "File ../data/hdfs/hdfs_train, number of seqs 9485\n",
      "sampling...\n"
     ]
    },
    {
     "name": "stderr",
     "output_type": "stream",
     "text": [
      "100%|██████████| 1051/1051 [00:00<00:00, 3547.22it/s]\n"
     ]
    },
    {
     "name": "stdout",
     "output_type": "stream",
     "text": [
      "File ../data/hdfs/hdfs_test_normal, number of sessions 110673\n",
      "File ../data/hdfs/hdfs_test_normal, number of seqs 1051\n",
      "Find 9485 train logs, 1051 validation logs\n",
      "Train batch size 2048 ,Validation batch size 2048\n",
      "Starting epoch: 0 | phase: train | ⏰: 21:16:09 | Learning rate: 0.000313\n"
     ]
    },
    {
     "name": "stderr",
     "output_type": "stream",
     "text": [
      "Train loss: 1.23343: 100%|██████████| 5/5 [00:00<00:00, 54.27it/s]\n"
     ]
    },
    {
     "name": "stdout",
     "output_type": "stream",
     "text": [
      "Starting epoch: 0 | phase: valid | ⏰: 21:16:09 \n"
     ]
    },
    {
     "name": "stderr",
     "output_type": "stream",
     "text": [
      ": 100%|██████████| 1/1 [00:00<00:00, 96.10it/s]\n"
     ]
    },
    {
     "name": "stdout",
     "output_type": "stream",
     "text": [
      "Validation loss: 1.152130365371704\n",
      "Client  3\n",
      "File ../data/hdfs/hdfs_train, number of sessions 971\n",
      "File ../data/hdfs/hdfs_train, number of seqs 9267\n",
      "sampling...\n"
     ]
    },
    {
     "name": "stderr",
     "output_type": "stream",
     "text": [
      "100%|██████████| 1057/1057 [00:00<00:00, 3608.75it/s]\n"
     ]
    },
    {
     "name": "stdout",
     "output_type": "stream",
     "text": [
      "File ../data/hdfs/hdfs_test_normal, number of sessions 110673\n",
      "File ../data/hdfs/hdfs_test_normal, number of seqs 1057\n",
      "Find 9267 train logs, 1057 validation logs\n",
      "Train batch size 2048 ,Validation batch size 2048\n",
      "Starting epoch: 0 | phase: train | ⏰: 21:16:21 | Learning rate: 0.000313\n"
     ]
    },
    {
     "name": "stderr",
     "output_type": "stream",
     "text": [
      "Train loss: 1.21262: 100%|██████████| 5/5 [00:00<00:00, 53.24it/s]\n"
     ]
    },
    {
     "name": "stdout",
     "output_type": "stream",
     "text": [
      "Starting epoch: 0 | phase: valid | ⏰: 21:16:21 \n"
     ]
    },
    {
     "name": "stderr",
     "output_type": "stream",
     "text": [
      ": 100%|██████████| 1/1 [00:00<00:00, 92.67it/s]\n"
     ]
    },
    {
     "name": "stdout",
     "output_type": "stream",
     "text": [
      "Validation loss: 1.142209529876709\n",
      "Client  4\n",
      "File ../data/hdfs/hdfs_train, number of sessions 971\n",
      "File ../data/hdfs/hdfs_train, number of seqs 9323\n",
      "sampling...\n"
     ]
    },
    {
     "name": "stderr",
     "output_type": "stream",
     "text": [
      "100%|██████████| 1044/1044 [00:00<00:00, 3557.22it/s]\n"
     ]
    },
    {
     "name": "stdout",
     "output_type": "stream",
     "text": [
      "File ../data/hdfs/hdfs_test_normal, number of sessions 110673\n",
      "File ../data/hdfs/hdfs_test_normal, number of seqs 1044\n",
      "Find 9323 train logs, 1044 validation logs\n",
      "Train batch size 2048 ,Validation batch size 2048\n",
      "Starting epoch: 0 | phase: train | ⏰: 21:16:33 | Learning rate: 0.000313\n"
     ]
    },
    {
     "name": "stderr",
     "output_type": "stream",
     "text": [
      "Train loss: 1.22390: 100%|██████████| 5/5 [00:00<00:00, 56.30it/s]\n"
     ]
    },
    {
     "name": "stdout",
     "output_type": "stream",
     "text": [
      "Starting epoch: 0 | phase: valid | ⏰: 21:16:33 \n"
     ]
    },
    {
     "name": "stderr",
     "output_type": "stream",
     "text": [
      ": 100%|██████████| 1/1 [00:00<00:00, 106.01it/s]\n"
     ]
    },
    {
     "name": "stdout",
     "output_type": "stream",
     "text": [
      "Validation loss: 1.2023857831954956\n",
      "============ Test epoch 42 ============\n",
      "Client  0\n",
      "Number of sessions(hdfs_test_normal): 5813\n",
      "Number of sessions(hdfs_test_abnormal): 1136\n"
     ]
    },
    {
     "name": "stderr",
     "output_type": "stream",
     "text": [
      "100%|██████████| 5813/5813 [03:01<00:00, 32.04it/s]\n",
      "100%|██████████| 1136/1136 [00:21<00:00, 53.45it/s]\n"
     ]
    },
    {
     "name": "stdout",
     "output_type": "stream",
     "text": [
      "false positive (FP): 490, false negative (FN): 24, Precision: 87.216%, Recall: 99.287%, F1-measure: 92.861%\n",
      "actual positive (TP+FN): 3367, actual negative (FP+TN): 110673\n",
      "accuracy: 99.549\n",
      "Finished Predicting\n",
      "elapsed_time: 202.70243287086487\n",
      "Client  1\n",
      "Number of sessions(hdfs_test_normal): 5574\n",
      "Number of sessions(hdfs_test_abnormal): 1139\n"
     ]
    },
    {
     "name": "stderr",
     "output_type": "stream",
     "text": [
      "100%|██████████| 5574/5574 [03:15<00:00, 28.47it/s]\n",
      "100%|██████████| 1139/1139 [00:22<00:00, 51.27it/s]\n"
     ]
    },
    {
     "name": "stdout",
     "output_type": "stream",
     "text": [
      "false positive (FP): 528, false negative (FN): 26, Precision: 86.353%, Recall: 99.228%, F1-measure: 92.344%\n",
      "actual positive (TP+FN): 3367, actual negative (FP+TN): 110673\n",
      "accuracy: 99.514\n",
      "Finished Predicting\n",
      "elapsed_time: 217.9931104183197\n",
      "Client  2\n",
      "Number of sessions(hdfs_test_normal): 5730\n",
      "Number of sessions(hdfs_test_abnormal): 1118\n"
     ]
    },
    {
     "name": "stderr",
     "output_type": "stream",
     "text": [
      "100%|██████████| 5730/5730 [03:22<00:00, 28.24it/s]\n",
      "100%|██████████| 1118/1118 [00:21<00:00, 51.70it/s]\n"
     ]
    },
    {
     "name": "stdout",
     "output_type": "stream",
     "text": [
      "false positive (FP): 468, false negative (FN): 30, Precision: 87.700%, Recall: 99.109%, F1-measure: 93.056%\n",
      "actual positive (TP+FN): 3367, actual negative (FP+TN): 110673\n",
      "accuracy: 99.563\n",
      "Finished Predicting\n",
      "elapsed_time: 224.5306932926178\n",
      "Client  3\n",
      "Number of sessions(hdfs_test_normal): 5747\n",
      "Number of sessions(hdfs_test_abnormal): 1159\n"
     ]
    },
    {
     "name": "stderr",
     "output_type": "stream",
     "text": [
      "100%|██████████| 5747/5747 [03:11<00:00, 29.97it/s]\n",
      "100%|██████████| 1159/1159 [00:16<00:00, 72.41it/s]\n"
     ]
    },
    {
     "name": "stdout",
     "output_type": "stream",
     "text": [
      "false positive (FP): 451, false negative (FN): 28, Precision: 88.100%, Recall: 99.168%, F1-measure: 93.307%\n",
      "actual positive (TP+FN): 3367, actual negative (FP+TN): 110673\n",
      "accuracy: 99.580\n",
      "Finished Predicting\n",
      "elapsed_time: 207.74229645729065\n",
      "Client  4\n",
      "Number of sessions(hdfs_test_normal): 5623\n",
      "Number of sessions(hdfs_test_abnormal): 1121\n"
     ]
    },
    {
     "name": "stderr",
     "output_type": "stream",
     "text": [
      "100%|██████████| 5623/5623 [03:08<00:00, 29.83it/s]\n",
      "100%|██████████| 1121/1121 [00:20<00:00, 55.83it/s]\n"
     ]
    },
    {
     "name": "stdout",
     "output_type": "stream",
     "text": [
      "false positive (FP): 525, false negative (FN): 32, Precision: 86.399%, Recall: 99.050%, F1-measure: 92.293%\n",
      "actual positive (TP+FN): 3367, actual negative (FP+TN): 110673\n",
      "accuracy: 99.512\n",
      "Finished Predicting\n",
      "elapsed_time: 208.57214832305908\n",
      "============ Train epoch 43 ============\n",
      "Client  0\n",
      "File ../data/hdfs/hdfs_train, number of sessions 971\n",
      "File ../data/hdfs/hdfs_train, number of seqs 9420\n",
      "sampling...\n"
     ]
    },
    {
     "name": "stderr",
     "output_type": "stream",
     "text": [
      "100%|██████████| 1058/1058 [00:00<00:00, 3520.44it/s]\n"
     ]
    },
    {
     "name": "stdout",
     "output_type": "stream",
     "text": [
      "File ../data/hdfs/hdfs_test_normal, number of sessions 110673\n",
      "File ../data/hdfs/hdfs_test_normal, number of seqs 1058\n",
      "Find 9420 train logs, 1058 validation logs\n",
      "Train batch size 2048 ,Validation batch size 2048\n",
      "Starting epoch: 0 | phase: train | ⏰: 21:34:29 | Learning rate: 0.000313\n"
     ]
    },
    {
     "name": "stderr",
     "output_type": "stream",
     "text": [
      "Train loss: 1.18866: 100%|██████████| 5/5 [00:00<00:00, 50.34it/s]\n"
     ]
    },
    {
     "name": "stdout",
     "output_type": "stream",
     "text": [
      "Starting epoch: 0 | phase: valid | ⏰: 21:34:29 \n"
     ]
    },
    {
     "name": "stderr",
     "output_type": "stream",
     "text": [
      ": 100%|██████████| 1/1 [00:00<00:00, 89.47it/s]\n"
     ]
    },
    {
     "name": "stdout",
     "output_type": "stream",
     "text": [
      "Validation loss: 1.187751293182373\n",
      "Client  1\n",
      "File ../data/hdfs/hdfs_train, number of sessions 971\n",
      "File ../data/hdfs/hdfs_train, number of seqs 9080\n",
      "sampling...\n"
     ]
    },
    {
     "name": "stderr",
     "output_type": "stream",
     "text": [
      "100%|██████████| 1046/1046 [00:00<00:00, 3531.82it/s]\n"
     ]
    },
    {
     "name": "stdout",
     "output_type": "stream",
     "text": [
      "File ../data/hdfs/hdfs_test_normal, number of sessions 110673\n",
      "File ../data/hdfs/hdfs_test_normal, number of seqs 1046\n",
      "Find 9080 train logs, 1046 validation logs\n",
      "Train batch size 2048 ,Validation batch size 2048\n",
      "Starting epoch: 0 | phase: train | ⏰: 21:34:41 | Learning rate: 0.000313\n"
     ]
    },
    {
     "name": "stderr",
     "output_type": "stream",
     "text": [
      "Train loss: 1.21398: 100%|██████████| 5/5 [00:00<00:00, 53.19it/s]\n"
     ]
    },
    {
     "name": "stdout",
     "output_type": "stream",
     "text": [
      "Starting epoch: 0 | phase: valid | ⏰: 21:34:41 \n"
     ]
    },
    {
     "name": "stderr",
     "output_type": "stream",
     "text": [
      ": 100%|██████████| 1/1 [00:00<00:00, 102.20it/s]\n"
     ]
    },
    {
     "name": "stdout",
     "output_type": "stream",
     "text": [
      "Validation loss: 1.1694920063018799\n",
      "Client  2\n",
      "File ../data/hdfs/hdfs_train, number of sessions 971\n",
      "File ../data/hdfs/hdfs_train, number of seqs 9485\n",
      "sampling...\n"
     ]
    },
    {
     "name": "stderr",
     "output_type": "stream",
     "text": [
      "100%|██████████| 1051/1051 [00:00<00:00, 3393.37it/s]\n"
     ]
    },
    {
     "name": "stdout",
     "output_type": "stream",
     "text": [
      "File ../data/hdfs/hdfs_test_normal, number of sessions 110673\n",
      "File ../data/hdfs/hdfs_test_normal, number of seqs 1051\n",
      "Find 9485 train logs, 1051 validation logs\n",
      "Train batch size 2048 ,Validation batch size 2048\n",
      "Starting epoch: 0 | phase: train | ⏰: 21:34:53 | Learning rate: 0.000313\n"
     ]
    },
    {
     "name": "stderr",
     "output_type": "stream",
     "text": [
      "Train loss: 1.21917: 100%|██████████| 5/5 [00:00<00:00, 52.77it/s]\n"
     ]
    },
    {
     "name": "stdout",
     "output_type": "stream",
     "text": [
      "Starting epoch: 0 | phase: valid | ⏰: 21:34:53 \n"
     ]
    },
    {
     "name": "stderr",
     "output_type": "stream",
     "text": [
      ": 100%|██████████| 1/1 [00:00<00:00, 101.64it/s]\n"
     ]
    },
    {
     "name": "stdout",
     "output_type": "stream",
     "text": [
      "Validation loss: 1.1925071477890015\n",
      "Client  3\n",
      "File ../data/hdfs/hdfs_train, number of sessions 971\n",
      "File ../data/hdfs/hdfs_train, number of seqs 9267\n",
      "sampling...\n"
     ]
    },
    {
     "name": "stderr",
     "output_type": "stream",
     "text": [
      "100%|██████████| 1057/1057 [00:00<00:00, 3187.91it/s]\n"
     ]
    },
    {
     "name": "stdout",
     "output_type": "stream",
     "text": [
      "File ../data/hdfs/hdfs_test_normal, number of sessions 110673\n",
      "File ../data/hdfs/hdfs_test_normal, number of seqs 1057\n",
      "Find 9267 train logs, 1057 validation logs\n",
      "Train batch size 2048 ,Validation batch size 2048\n",
      "Starting epoch: 0 | phase: train | ⏰: 21:35:05 | Learning rate: 0.000313\n"
     ]
    },
    {
     "name": "stderr",
     "output_type": "stream",
     "text": [
      "Train loss: 1.19553: 100%|██████████| 5/5 [00:00<00:00, 50.01it/s]\n"
     ]
    },
    {
     "name": "stdout",
     "output_type": "stream",
     "text": [
      "Starting epoch: 0 | phase: valid | ⏰: 21:35:05 \n"
     ]
    },
    {
     "name": "stderr",
     "output_type": "stream",
     "text": [
      ": 100%|██████████| 1/1 [00:00<00:00, 88.35it/s]\n"
     ]
    },
    {
     "name": "stdout",
     "output_type": "stream",
     "text": [
      "Validation loss: 1.19882071018219\n",
      "Client  4\n",
      "File ../data/hdfs/hdfs_train, number of sessions 971\n",
      "File ../data/hdfs/hdfs_train, number of seqs 9323\n",
      "sampling...\n"
     ]
    },
    {
     "name": "stderr",
     "output_type": "stream",
     "text": [
      "100%|██████████| 1044/1044 [00:00<00:00, 3559.01it/s]\n"
     ]
    },
    {
     "name": "stdout",
     "output_type": "stream",
     "text": [
      "File ../data/hdfs/hdfs_test_normal, number of sessions 110673\n",
      "File ../data/hdfs/hdfs_test_normal, number of seqs 1044\n",
      "Find 9323 train logs, 1044 validation logs\n",
      "Train batch size 2048 ,Validation batch size 2048\n",
      "Starting epoch: 0 | phase: train | ⏰: 21:35:16 | Learning rate: 0.000313\n"
     ]
    },
    {
     "name": "stderr",
     "output_type": "stream",
     "text": [
      "Train loss: 1.20280: 100%|██████████| 5/5 [00:00<00:00, 53.16it/s]\n"
     ]
    },
    {
     "name": "stdout",
     "output_type": "stream",
     "text": [
      "Starting epoch: 0 | phase: valid | ⏰: 21:35:16 \n"
     ]
    },
    {
     "name": "stderr",
     "output_type": "stream",
     "text": [
      ": 100%|██████████| 1/1 [00:00<00:00, 99.25it/s]\n"
     ]
    },
    {
     "name": "stdout",
     "output_type": "stream",
     "text": [
      "Validation loss: 1.1272369623184204\n",
      "============ Test epoch 43 ============\n",
      "Client  0\n",
      "Number of sessions(hdfs_test_normal): 5813\n",
      "Number of sessions(hdfs_test_abnormal): 1136\n"
     ]
    },
    {
     "name": "stderr",
     "output_type": "stream",
     "text": [
      "100%|██████████| 5813/5813 [03:25<00:00, 28.35it/s]\n",
      "100%|██████████| 1136/1136 [00:21<00:00, 54.04it/s]\n"
     ]
    },
    {
     "name": "stdout",
     "output_type": "stream",
     "text": [
      "false positive (FP): 490, false negative (FN): 24, Precision: 87.216%, Recall: 99.287%, F1-measure: 92.861%\n",
      "actual positive (TP+FN): 3367, actual negative (FP+TN): 110673\n",
      "accuracy: 99.549\n",
      "Finished Predicting\n",
      "elapsed_time: 226.05093026161194\n",
      "Client  1\n",
      "Number of sessions(hdfs_test_normal): 5574\n",
      "Number of sessions(hdfs_test_abnormal): 1139\n"
     ]
    },
    {
     "name": "stderr",
     "output_type": "stream",
     "text": [
      "100%|██████████| 5574/5574 [03:13<00:00, 28.86it/s]\n",
      "100%|██████████| 1139/1139 [00:21<00:00, 51.99it/s]\n"
     ]
    },
    {
     "name": "stdout",
     "output_type": "stream",
     "text": [
      "false positive (FP): 528, false negative (FN): 26, Precision: 86.353%, Recall: 99.228%, F1-measure: 92.344%\n",
      "actual positive (TP+FN): 3367, actual negative (FP+TN): 110673\n",
      "accuracy: 99.514\n",
      "Finished Predicting\n",
      "elapsed_time: 215.0380380153656\n",
      "Client  2\n",
      "Number of sessions(hdfs_test_normal): 5730\n",
      "Number of sessions(hdfs_test_abnormal): 1118\n"
     ]
    },
    {
     "name": "stderr",
     "output_type": "stream",
     "text": [
      "100%|██████████| 5730/5730 [03:09<00:00, 30.30it/s]\n",
      "100%|██████████| 1118/1118 [00:14<00:00, 76.27it/s]\n"
     ]
    },
    {
     "name": "stdout",
     "output_type": "stream",
     "text": [
      "false positive (FP): 468, false negative (FN): 30, Precision: 87.700%, Recall: 99.109%, F1-measure: 93.056%\n",
      "actual positive (TP+FN): 3367, actual negative (FP+TN): 110673\n",
      "accuracy: 99.563\n",
      "Finished Predicting\n",
      "elapsed_time: 203.76591539382935\n",
      "Client  3\n",
      "Number of sessions(hdfs_test_normal): 5747\n",
      "Number of sessions(hdfs_test_abnormal): 1159\n"
     ]
    },
    {
     "name": "stderr",
     "output_type": "stream",
     "text": [
      "100%|██████████| 5747/5747 [03:18<00:00, 28.98it/s]\n",
      "100%|██████████| 1159/1159 [00:22<00:00, 50.88it/s]\n"
     ]
    },
    {
     "name": "stdout",
     "output_type": "stream",
     "text": [
      "false positive (FP): 451, false negative (FN): 28, Precision: 88.100%, Recall: 99.168%, F1-measure: 93.307%\n",
      "actual positive (TP+FN): 3367, actual negative (FP+TN): 110673\n",
      "accuracy: 99.580\n",
      "Finished Predicting\n",
      "elapsed_time: 221.09096336364746\n",
      "Client  4\n",
      "Number of sessions(hdfs_test_normal): 5623\n",
      "Number of sessions(hdfs_test_abnormal): 1121\n"
     ]
    },
    {
     "name": "stderr",
     "output_type": "stream",
     "text": [
      "100%|██████████| 5623/5623 [02:58<00:00, 31.59it/s]\n",
      "100%|██████████| 1121/1121 [00:15<00:00, 73.21it/s]\n"
     ]
    },
    {
     "name": "stdout",
     "output_type": "stream",
     "text": [
      "false positive (FP): 525, false negative (FN): 32, Precision: 86.399%, Recall: 99.050%, F1-measure: 92.293%\n",
      "actual positive (TP+FN): 3367, actual negative (FP+TN): 110673\n",
      "accuracy: 99.512\n",
      "Finished Predicting\n",
      "elapsed_time: 193.31885147094727\n",
      "============ Train epoch 44 ============\n",
      "Client  0\n",
      "File ../data/hdfs/hdfs_train, number of sessions 971\n",
      "File ../data/hdfs/hdfs_train, number of seqs 9420\n",
      "sampling...\n"
     ]
    },
    {
     "name": "stderr",
     "output_type": "stream",
     "text": [
      "100%|██████████| 1058/1058 [00:00<00:00, 3532.71it/s]\n"
     ]
    },
    {
     "name": "stdout",
     "output_type": "stream",
     "text": [
      "File ../data/hdfs/hdfs_test_normal, number of sessions 110673\n",
      "File ../data/hdfs/hdfs_test_normal, number of seqs 1058\n",
      "Find 9420 train logs, 1058 validation logs\n",
      "Train batch size 2048 ,Validation batch size 2048\n",
      "Starting epoch: 0 | phase: train | ⏰: 21:53:10 | Learning rate: 0.000313\n"
     ]
    },
    {
     "name": "stderr",
     "output_type": "stream",
     "text": [
      "Train loss: 1.16815: 100%|██████████| 5/5 [00:00<00:00, 51.26it/s]\n"
     ]
    },
    {
     "name": "stdout",
     "output_type": "stream",
     "text": [
      "Starting epoch: 0 | phase: valid | ⏰: 21:53:11 \n"
     ]
    },
    {
     "name": "stderr",
     "output_type": "stream",
     "text": [
      ": 100%|██████████| 1/1 [00:00<00:00, 96.44it/s]\n"
     ]
    },
    {
     "name": "stdout",
     "output_type": "stream",
     "text": [
      "Validation loss: 1.1865185499191284\n",
      "Client  1\n",
      "File ../data/hdfs/hdfs_train, number of sessions 971\n",
      "File ../data/hdfs/hdfs_train, number of seqs 9080\n",
      "sampling...\n"
     ]
    },
    {
     "name": "stderr",
     "output_type": "stream",
     "text": [
      "100%|██████████| 1046/1046 [00:00<00:00, 3571.29it/s]\n"
     ]
    },
    {
     "name": "stdout",
     "output_type": "stream",
     "text": [
      "File ../data/hdfs/hdfs_test_normal, number of sessions 110673\n",
      "File ../data/hdfs/hdfs_test_normal, number of seqs 1046\n",
      "Find 9080 train logs, 1046 validation logs\n",
      "Train batch size 2048 ,Validation batch size 2048\n",
      "Starting epoch: 0 | phase: train | ⏰: 21:53:22 | Learning rate: 0.000313\n"
     ]
    },
    {
     "name": "stderr",
     "output_type": "stream",
     "text": [
      "Train loss: 1.19077: 100%|██████████| 5/5 [00:00<00:00, 54.59it/s]\n"
     ]
    },
    {
     "name": "stdout",
     "output_type": "stream",
     "text": [
      "Starting epoch: 0 | phase: valid | ⏰: 21:53:22 \n"
     ]
    },
    {
     "name": "stderr",
     "output_type": "stream",
     "text": [
      ": 100%|██████████| 1/1 [00:00<00:00, 90.95it/s]\n"
     ]
    },
    {
     "name": "stdout",
     "output_type": "stream",
     "text": [
      "Validation loss: 1.1223022937774658\n",
      "Client  2\n",
      "File ../data/hdfs/hdfs_train, number of sessions 971\n",
      "File ../data/hdfs/hdfs_train, number of seqs 9485\n",
      "sampling...\n"
     ]
    },
    {
     "name": "stderr",
     "output_type": "stream",
     "text": [
      "100%|██████████| 1051/1051 [00:00<00:00, 3574.67it/s]\n"
     ]
    },
    {
     "name": "stdout",
     "output_type": "stream",
     "text": [
      "File ../data/hdfs/hdfs_test_normal, number of sessions 110673\n",
      "File ../data/hdfs/hdfs_test_normal, number of seqs 1051\n",
      "Find 9485 train logs, 1051 validation logs\n",
      "Train batch size 2048 ,Validation batch size 2048\n",
      "Starting epoch: 0 | phase: train | ⏰: 21:53:34 | Learning rate: 0.000313\n"
     ]
    },
    {
     "name": "stderr",
     "output_type": "stream",
     "text": [
      "Train loss: 1.19421: 100%|██████████| 5/5 [00:00<00:00, 52.74it/s]\n"
     ]
    },
    {
     "name": "stdout",
     "output_type": "stream",
     "text": [
      "Starting epoch: 0 | phase: valid | ⏰: 21:53:34 \n"
     ]
    },
    {
     "name": "stderr",
     "output_type": "stream",
     "text": [
      ": 100%|██████████| 1/1 [00:00<00:00, 92.08it/s]\n"
     ]
    },
    {
     "name": "stdout",
     "output_type": "stream",
     "text": [
      "Validation loss: 1.1676832437515259\n",
      "Client  3\n",
      "File ../data/hdfs/hdfs_train, number of sessions 971\n",
      "File ../data/hdfs/hdfs_train, number of seqs 9267\n",
      "sampling...\n"
     ]
    },
    {
     "name": "stderr",
     "output_type": "stream",
     "text": [
      "100%|██████████| 1057/1057 [00:00<00:00, 3542.52it/s]\n"
     ]
    },
    {
     "name": "stdout",
     "output_type": "stream",
     "text": [
      "File ../data/hdfs/hdfs_test_normal, number of sessions 110673\n",
      "File ../data/hdfs/hdfs_test_normal, number of seqs 1057\n",
      "Find 9267 train logs, 1057 validation logs\n",
      "Train batch size 2048 ,Validation batch size 2048\n",
      "Starting epoch: 0 | phase: train | ⏰: 21:53:46 | Learning rate: 0.000313\n"
     ]
    },
    {
     "name": "stderr",
     "output_type": "stream",
     "text": [
      "Train loss: 1.17505: 100%|██████████| 5/5 [00:00<00:00, 53.16it/s]\n"
     ]
    },
    {
     "name": "stdout",
     "output_type": "stream",
     "text": [
      "Starting epoch: 0 | phase: valid | ⏰: 21:53:46 \n"
     ]
    },
    {
     "name": "stderr",
     "output_type": "stream",
     "text": [
      ": 100%|██████████| 1/1 [00:00<00:00, 92.17it/s]\n"
     ]
    },
    {
     "name": "stdout",
     "output_type": "stream",
     "text": [
      "Validation loss: 1.1532365083694458\n",
      "Client  4\n",
      "File ../data/hdfs/hdfs_train, number of sessions 971\n",
      "File ../data/hdfs/hdfs_train, number of seqs 9323\n",
      "sampling...\n"
     ]
    },
    {
     "name": "stderr",
     "output_type": "stream",
     "text": [
      "100%|██████████| 1044/1044 [00:00<00:00, 3579.90it/s]\n"
     ]
    },
    {
     "name": "stdout",
     "output_type": "stream",
     "text": [
      "File ../data/hdfs/hdfs_test_normal, number of sessions 110673\n",
      "File ../data/hdfs/hdfs_test_normal, number of seqs 1044\n",
      "Find 9323 train logs, 1044 validation logs\n",
      "Train batch size 2048 ,Validation batch size 2048\n",
      "Starting epoch: 0 | phase: train | ⏰: 21:53:58 | Learning rate: 0.000313\n"
     ]
    },
    {
     "name": "stderr",
     "output_type": "stream",
     "text": [
      "Train loss: 1.18441: 100%|██████████| 5/5 [00:00<00:00, 51.93it/s]\n"
     ]
    },
    {
     "name": "stdout",
     "output_type": "stream",
     "text": [
      "Starting epoch: 0 | phase: valid | ⏰: 21:53:58 \n"
     ]
    },
    {
     "name": "stderr",
     "output_type": "stream",
     "text": [
      ": 100%|██████████| 1/1 [00:00<00:00, 98.08it/s]\n"
     ]
    },
    {
     "name": "stdout",
     "output_type": "stream",
     "text": [
      "Validation loss: 1.1551975011825562\n",
      "============ Test epoch 44 ============\n",
      "Client  0\n",
      "Number of sessions(hdfs_test_normal): 5813\n",
      "Number of sessions(hdfs_test_abnormal): 1136\n"
     ]
    },
    {
     "name": "stderr",
     "output_type": "stream",
     "text": [
      "100%|██████████| 5813/5813 [03:24<00:00, 28.47it/s]\n",
      "100%|██████████| 1136/1136 [00:21<00:00, 53.99it/s]\n"
     ]
    },
    {
     "name": "stdout",
     "output_type": "stream",
     "text": [
      "false positive (FP): 490, false negative (FN): 24, Precision: 87.216%, Recall: 99.287%, F1-measure: 92.861%\n",
      "actual positive (TP+FN): 3367, actual negative (FP+TN): 110673\n",
      "accuracy: 99.549\n",
      "Finished Predicting\n",
      "elapsed_time: 225.19058752059937\n",
      "Client  1\n",
      "Number of sessions(hdfs_test_normal): 5574\n",
      "Number of sessions(hdfs_test_abnormal): 1139\n"
     ]
    },
    {
     "name": "stderr",
     "output_type": "stream",
     "text": [
      "100%|██████████| 5574/5574 [03:15<00:00, 28.55it/s]\n",
      "100%|██████████| 1139/1139 [00:21<00:00, 52.61it/s]\n"
     ]
    },
    {
     "name": "stdout",
     "output_type": "stream",
     "text": [
      "false positive (FP): 528, false negative (FN): 26, Precision: 86.353%, Recall: 99.228%, F1-measure: 92.344%\n",
      "actual positive (TP+FN): 3367, actual negative (FP+TN): 110673\n",
      "accuracy: 99.514\n",
      "Finished Predicting\n",
      "elapsed_time: 216.91594433784485\n",
      "Client  2\n",
      "Number of sessions(hdfs_test_normal): 5730\n",
      "Number of sessions(hdfs_test_abnormal): 1118\n"
     ]
    },
    {
     "name": "stderr",
     "output_type": "stream",
     "text": [
      "100%|██████████| 5730/5730 [02:58<00:00, 32.06it/s]\n",
      "100%|██████████| 1118/1118 [00:21<00:00, 51.10it/s]\n"
     ]
    },
    {
     "name": "stdout",
     "output_type": "stream",
     "text": [
      "false positive (FP): 468, false negative (FN): 30, Precision: 87.700%, Recall: 99.109%, F1-measure: 93.056%\n",
      "actual positive (TP+FN): 3367, actual negative (FP+TN): 110673\n",
      "accuracy: 99.563\n",
      "Finished Predicting\n",
      "elapsed_time: 200.59930610656738\n",
      "Client  3\n",
      "Number of sessions(hdfs_test_normal): 5747\n",
      "Number of sessions(hdfs_test_abnormal): 1159\n"
     ]
    },
    {
     "name": "stderr",
     "output_type": "stream",
     "text": [
      "100%|██████████| 5747/5747 [03:22<00:00, 28.33it/s]\n",
      "100%|██████████| 1159/1159 [00:22<00:00, 51.05it/s]\n"
     ]
    },
    {
     "name": "stdout",
     "output_type": "stream",
     "text": [
      "false positive (FP): 451, false negative (FN): 28, Precision: 88.100%, Recall: 99.168%, F1-measure: 93.307%\n",
      "actual positive (TP+FN): 3367, actual negative (FP+TN): 110673\n",
      "accuracy: 99.580\n",
      "Finished Predicting\n",
      "elapsed_time: 225.5940442085266\n",
      "Client  4\n",
      "Number of sessions(hdfs_test_normal): 5623\n",
      "Number of sessions(hdfs_test_abnormal): 1121\n"
     ]
    },
    {
     "name": "stderr",
     "output_type": "stream",
     "text": [
      "100%|██████████| 5623/5623 [03:16<00:00, 28.68it/s]\n",
      "100%|██████████| 1121/1121 [00:21<00:00, 52.18it/s]\n"
     ]
    },
    {
     "name": "stdout",
     "output_type": "stream",
     "text": [
      "false positive (FP): 525, false negative (FN): 32, Precision: 86.399%, Recall: 99.050%, F1-measure: 92.293%\n",
      "actual positive (TP+FN): 3367, actual negative (FP+TN): 110673\n",
      "accuracy: 99.512\n",
      "Finished Predicting\n",
      "elapsed_time: 217.52898144721985\n",
      "============ Train epoch 45 ============\n",
      "Client  0\n",
      "File ../data/hdfs/hdfs_train, number of sessions 971\n",
      "File ../data/hdfs/hdfs_train, number of seqs 9420\n",
      "sampling...\n"
     ]
    },
    {
     "name": "stderr",
     "output_type": "stream",
     "text": [
      "100%|██████████| 1058/1058 [00:00<00:00, 3411.71it/s]\n"
     ]
    },
    {
     "name": "stdout",
     "output_type": "stream",
     "text": [
      "File ../data/hdfs/hdfs_test_normal, number of sessions 110673\n",
      "File ../data/hdfs/hdfs_test_normal, number of seqs 1058\n",
      "Find 9420 train logs, 1058 validation logs\n",
      "Train batch size 2048 ,Validation batch size 2048\n",
      "Starting epoch: 0 | phase: train | ⏰: 22:12:19 | Learning rate: 0.000313\n"
     ]
    },
    {
     "name": "stderr",
     "output_type": "stream",
     "text": [
      "Train loss: 1.14751: 100%|██████████| 5/5 [00:00<00:00, 49.22it/s]\n"
     ]
    },
    {
     "name": "stdout",
     "output_type": "stream",
     "text": [
      "Starting epoch: 0 | phase: valid | ⏰: 22:12:19 \n"
     ]
    },
    {
     "name": "stderr",
     "output_type": "stream",
     "text": [
      ": 100%|██████████| 1/1 [00:00<00:00, 101.63it/s]\n"
     ]
    },
    {
     "name": "stdout",
     "output_type": "stream",
     "text": [
      "Validation loss: 1.1294002532958984\n",
      "Client  1\n",
      "File ../data/hdfs/hdfs_train, number of sessions 971\n",
      "File ../data/hdfs/hdfs_train, number of seqs 9080\n",
      "sampling...\n"
     ]
    },
    {
     "name": "stderr",
     "output_type": "stream",
     "text": [
      "100%|██████████| 1046/1046 [00:00<00:00, 3519.35it/s]\n"
     ]
    },
    {
     "name": "stdout",
     "output_type": "stream",
     "text": [
      "File ../data/hdfs/hdfs_test_normal, number of sessions 110673\n",
      "File ../data/hdfs/hdfs_test_normal, number of seqs 1046\n",
      "Find 9080 train logs, 1046 validation logs\n",
      "Train batch size 2048 ,Validation batch size 2048\n",
      "Starting epoch: 0 | phase: train | ⏰: 22:12:30 | Learning rate: 0.000313\n"
     ]
    },
    {
     "name": "stderr",
     "output_type": "stream",
     "text": [
      "Train loss: 1.17488: 100%|██████████| 5/5 [00:00<00:00, 53.87it/s]\n"
     ]
    },
    {
     "name": "stdout",
     "output_type": "stream",
     "text": [
      "Starting epoch: 0 | phase: valid | ⏰: 22:12:30 \n"
     ]
    },
    {
     "name": "stderr",
     "output_type": "stream",
     "text": [
      ": 100%|██████████| 1/1 [00:00<00:00, 103.15it/s]\n"
     ]
    },
    {
     "name": "stdout",
     "output_type": "stream",
     "text": [
      "Validation loss: 1.1679147481918335\n",
      "Client  2\n",
      "File ../data/hdfs/hdfs_train, number of sessions 971\n",
      "File ../data/hdfs/hdfs_train, number of seqs 9485\n",
      "sampling...\n"
     ]
    },
    {
     "name": "stderr",
     "output_type": "stream",
     "text": [
      "100%|██████████| 1051/1051 [00:00<00:00, 3301.11it/s]\n"
     ]
    },
    {
     "name": "stdout",
     "output_type": "stream",
     "text": [
      "File ../data/hdfs/hdfs_test_normal, number of sessions 110673\n",
      "File ../data/hdfs/hdfs_test_normal, number of seqs 1051\n",
      "Find 9485 train logs, 1051 validation logs\n",
      "Train batch size 2048 ,Validation batch size 2048\n",
      "Starting epoch: 0 | phase: train | ⏰: 22:12:42 | Learning rate: 0.000313\n"
     ]
    },
    {
     "name": "stderr",
     "output_type": "stream",
     "text": [
      "Train loss: 1.17992: 100%|██████████| 5/5 [00:00<00:00, 50.01it/s]\n"
     ]
    },
    {
     "name": "stdout",
     "output_type": "stream",
     "text": [
      "Starting epoch: 0 | phase: valid | ⏰: 22:12:42 \n"
     ]
    },
    {
     "name": "stderr",
     "output_type": "stream",
     "text": [
      ": 100%|██████████| 1/1 [00:00<00:00, 94.68it/s]"
     ]
    },
    {
     "name": "stdout",
     "output_type": "stream",
     "text": [
      "Validation loss: 1.1306602954864502\n",
      "Client  3\n"
     ]
    },
    {
     "name": "stderr",
     "output_type": "stream",
     "text": [
      "\n"
     ]
    },
    {
     "name": "stdout",
     "output_type": "stream",
     "text": [
      "File ../data/hdfs/hdfs_train, number of sessions 971\n",
      "File ../data/hdfs/hdfs_train, number of seqs 9267\n",
      "sampling...\n"
     ]
    },
    {
     "name": "stderr",
     "output_type": "stream",
     "text": [
      "100%|██████████| 1057/1057 [00:00<00:00, 3423.72it/s]\n"
     ]
    },
    {
     "name": "stdout",
     "output_type": "stream",
     "text": [
      "File ../data/hdfs/hdfs_test_normal, number of sessions 110673\n",
      "File ../data/hdfs/hdfs_test_normal, number of seqs 1057\n",
      "Find 9267 train logs, 1057 validation logs\n",
      "Train batch size 2048 ,Validation batch size 2048\n",
      "Starting epoch: 0 | phase: train | ⏰: 22:12:54 | Learning rate: 0.000313\n"
     ]
    },
    {
     "name": "stderr",
     "output_type": "stream",
     "text": [
      "Train loss: 1.15894: 100%|██████████| 5/5 [00:00<00:00, 48.55it/s]\n"
     ]
    },
    {
     "name": "stdout",
     "output_type": "stream",
     "text": [
      "Starting epoch: 0 | phase: valid | ⏰: 22:12:54 \n"
     ]
    },
    {
     "name": "stderr",
     "output_type": "stream",
     "text": [
      ": 100%|██████████| 1/1 [00:00<00:00, 84.44it/s]\n"
     ]
    },
    {
     "name": "stdout",
     "output_type": "stream",
     "text": [
      "Validation loss: 1.101461410522461\n",
      "Client  4\n",
      "File ../data/hdfs/hdfs_train, number of sessions 971\n",
      "File ../data/hdfs/hdfs_train, number of seqs 9323\n",
      "sampling...\n"
     ]
    },
    {
     "name": "stderr",
     "output_type": "stream",
     "text": [
      "100%|██████████| 1044/1044 [00:00<00:00, 3580.55it/s]\n"
     ]
    },
    {
     "name": "stdout",
     "output_type": "stream",
     "text": [
      "File ../data/hdfs/hdfs_test_normal, number of sessions 110673\n",
      "File ../data/hdfs/hdfs_test_normal, number of seqs 1044\n",
      "Find 9323 train logs, 1044 validation logs\n",
      "Train batch size 2048 ,Validation batch size 2048\n",
      "Starting epoch: 0 | phase: train | ⏰: 22:13:06 | Learning rate: 0.000313\n"
     ]
    },
    {
     "name": "stderr",
     "output_type": "stream",
     "text": [
      "Train loss: 1.16793: 100%|██████████| 5/5 [00:00<00:00, 51.39it/s]\n"
     ]
    },
    {
     "name": "stdout",
     "output_type": "stream",
     "text": [
      "Starting epoch: 0 | phase: valid | ⏰: 22:13:06 \n"
     ]
    },
    {
     "name": "stderr",
     "output_type": "stream",
     "text": [
      ": 100%|██████████| 1/1 [00:00<00:00, 95.83it/s]\n"
     ]
    },
    {
     "name": "stdout",
     "output_type": "stream",
     "text": [
      "Validation loss: 1.1069624423980713\n",
      "============ Test epoch 45 ============\n",
      "Client  0\n",
      "Number of sessions(hdfs_test_normal): 5813\n",
      "Number of sessions(hdfs_test_abnormal): 1136\n"
     ]
    },
    {
     "name": "stderr",
     "output_type": "stream",
     "text": [
      "100%|██████████| 5813/5813 [02:30<00:00, 38.68it/s]\n",
      "100%|██████████| 1136/1136 [00:20<00:00, 54.44it/s]\n"
     ]
    },
    {
     "name": "stdout",
     "output_type": "stream",
     "text": [
      "false positive (FP): 490, false negative (FN): 24, Precision: 87.216%, Recall: 99.287%, F1-measure: 92.861%\n",
      "actual positive (TP+FN): 3367, actual negative (FP+TN): 110673\n",
      "accuracy: 99.549\n",
      "Finished Predicting\n",
      "elapsed_time: 171.14902758598328\n",
      "Client  1\n",
      "Number of sessions(hdfs_test_normal): 5574\n",
      "Number of sessions(hdfs_test_abnormal): 1139\n"
     ]
    },
    {
     "name": "stderr",
     "output_type": "stream",
     "text": [
      "100%|██████████| 5574/5574 [03:14<00:00, 28.71it/s]\n",
      "100%|██████████| 1139/1139 [00:22<00:00, 50.96it/s]\n"
     ]
    },
    {
     "name": "stdout",
     "output_type": "stream",
     "text": [
      "false positive (FP): 528, false negative (FN): 26, Precision: 86.353%, Recall: 99.228%, F1-measure: 92.344%\n",
      "actual positive (TP+FN): 3367, actual negative (FP+TN): 110673\n",
      "accuracy: 99.514\n",
      "Finished Predicting\n",
      "elapsed_time: 216.48863053321838\n",
      "Client  2\n",
      "Number of sessions(hdfs_test_normal): 5730\n",
      "Number of sessions(hdfs_test_abnormal): 1118\n"
     ]
    },
    {
     "name": "stderr",
     "output_type": "stream",
     "text": [
      "100%|██████████| 5730/5730 [03:23<00:00, 28.13it/s]\n",
      "100%|██████████| 1118/1118 [00:21<00:00, 51.93it/s]\n"
     ]
    },
    {
     "name": "stdout",
     "output_type": "stream",
     "text": [
      "false positive (FP): 468, false negative (FN): 30, Precision: 87.700%, Recall: 99.109%, F1-measure: 93.056%\n",
      "actual positive (TP+FN): 3367, actual negative (FP+TN): 110673\n",
      "accuracy: 99.563\n",
      "Finished Predicting\n",
      "elapsed_time: 225.23905777931213\n",
      "Client  3\n",
      "Number of sessions(hdfs_test_normal): 5747\n",
      "Number of sessions(hdfs_test_abnormal): 1159\n"
     ]
    },
    {
     "name": "stderr",
     "output_type": "stream",
     "text": [
      "100%|██████████| 5747/5747 [03:21<00:00, 28.46it/s]\n",
      "100%|██████████| 1159/1159 [00:22<00:00, 50.64it/s]\n"
     ]
    },
    {
     "name": "stdout",
     "output_type": "stream",
     "text": [
      "false positive (FP): 451, false negative (FN): 28, Precision: 88.100%, Recall: 99.168%, F1-measure: 93.307%\n",
      "actual positive (TP+FN): 3367, actual negative (FP+TN): 110673\n",
      "accuracy: 99.580\n",
      "Finished Predicting\n",
      "elapsed_time: 224.8012056350708\n",
      "Client  4\n",
      "Number of sessions(hdfs_test_normal): 5623\n",
      "Number of sessions(hdfs_test_abnormal): 1121\n"
     ]
    },
    {
     "name": "stderr",
     "output_type": "stream",
     "text": [
      "100%|██████████| 5623/5623 [02:51<00:00, 32.81it/s]\n",
      "100%|██████████| 1121/1121 [00:21<00:00, 52.37it/s]\n"
     ]
    },
    {
     "name": "stdout",
     "output_type": "stream",
     "text": [
      "false positive (FP): 525, false negative (FN): 32, Precision: 86.399%, Recall: 99.050%, F1-measure: 92.293%\n",
      "actual positive (TP+FN): 3367, actual negative (FP+TN): 110673\n",
      "accuracy: 99.512\n",
      "Finished Predicting\n",
      "elapsed_time: 192.77830743789673\n",
      "============ Train epoch 46 ============\n",
      "Client  0\n",
      "File ../data/hdfs/hdfs_train, number of sessions 971\n",
      "File ../data/hdfs/hdfs_train, number of seqs 9420\n",
      "sampling...\n"
     ]
    },
    {
     "name": "stderr",
     "output_type": "stream",
     "text": [
      "100%|██████████| 1058/1058 [00:00<00:00, 3506.42it/s]\n"
     ]
    },
    {
     "name": "stdout",
     "output_type": "stream",
     "text": [
      "File ../data/hdfs/hdfs_test_normal, number of sessions 110673\n",
      "File ../data/hdfs/hdfs_test_normal, number of seqs 1058\n",
      "Find 9420 train logs, 1058 validation logs\n",
      "Train batch size 2048 ,Validation batch size 2048\n",
      "Starting epoch: 0 | phase: train | ⏰: 22:30:31 | Learning rate: 0.000313\n"
     ]
    },
    {
     "name": "stderr",
     "output_type": "stream",
     "text": [
      "Train loss: 1.12941: 100%|██████████| 5/5 [00:00<00:00, 52.83it/s]\n"
     ]
    },
    {
     "name": "stdout",
     "output_type": "stream",
     "text": [
      "Starting epoch: 0 | phase: valid | ⏰: 22:30:32 \n"
     ]
    },
    {
     "name": "stderr",
     "output_type": "stream",
     "text": [
      ": 100%|██████████| 1/1 [00:00<00:00, 105.52it/s]\n"
     ]
    },
    {
     "name": "stdout",
     "output_type": "stream",
     "text": [
      "Validation loss: 1.155402421951294\n",
      "Client  1\n",
      "File ../data/hdfs/hdfs_train, number of sessions 971\n",
      "File ../data/hdfs/hdfs_train, number of seqs 9080\n",
      "sampling...\n"
     ]
    },
    {
     "name": "stderr",
     "output_type": "stream",
     "text": [
      "100%|██████████| 1046/1046 [00:00<00:00, 3542.85it/s]\n"
     ]
    },
    {
     "name": "stdout",
     "output_type": "stream",
     "text": [
      "File ../data/hdfs/hdfs_test_normal, number of sessions 110673\n",
      "File ../data/hdfs/hdfs_test_normal, number of seqs 1046\n",
      "Find 9080 train logs, 1046 validation logs\n",
      "Train batch size 2048 ,Validation batch size 2048\n",
      "Starting epoch: 0 | phase: train | ⏰: 22:30:43 | Learning rate: 0.000313\n"
     ]
    },
    {
     "name": "stderr",
     "output_type": "stream",
     "text": [
      "Train loss: 1.15517: 100%|██████████| 5/5 [00:00<00:00, 55.18it/s]\n"
     ]
    },
    {
     "name": "stdout",
     "output_type": "stream",
     "text": [
      "Starting epoch: 0 | phase: valid | ⏰: 22:30:43 \n"
     ]
    },
    {
     "name": "stderr",
     "output_type": "stream",
     "text": [
      ": 100%|██████████| 1/1 [00:00<00:00, 96.63it/s]\n"
     ]
    },
    {
     "name": "stdout",
     "output_type": "stream",
     "text": [
      "Validation loss: 1.128289818763733\n",
      "Client  2\n",
      "File ../data/hdfs/hdfs_train, number of sessions 971\n",
      "File ../data/hdfs/hdfs_train, number of seqs 9485\n",
      "sampling...\n"
     ]
    },
    {
     "name": "stderr",
     "output_type": "stream",
     "text": [
      "100%|██████████| 1051/1051 [00:00<00:00, 3496.20it/s]\n"
     ]
    },
    {
     "name": "stdout",
     "output_type": "stream",
     "text": [
      "File ../data/hdfs/hdfs_test_normal, number of sessions 110673\n",
      "File ../data/hdfs/hdfs_test_normal, number of seqs 1051\n",
      "Find 9485 train logs, 1051 validation logs\n",
      "Train batch size 2048 ,Validation batch size 2048\n",
      "Starting epoch: 0 | phase: train | ⏰: 22:30:55 | Learning rate: 0.000313\n"
     ]
    },
    {
     "name": "stderr",
     "output_type": "stream",
     "text": [
      "Train loss: 1.15860: 100%|██████████| 5/5 [00:00<00:00, 39.81it/s]\n"
     ]
    },
    {
     "name": "stdout",
     "output_type": "stream",
     "text": [
      "Starting epoch: 0 | phase: valid | ⏰: 22:30:55 \n"
     ]
    },
    {
     "name": "stderr",
     "output_type": "stream",
     "text": [
      ": 100%|██████████| 1/1 [00:00<00:00, 95.94it/s]"
     ]
    },
    {
     "name": "stdout",
     "output_type": "stream",
     "text": [
      "Validation loss: 1.1258463859558105\n",
      "Client  3\n"
     ]
    },
    {
     "name": "stderr",
     "output_type": "stream",
     "text": [
      "\n"
     ]
    },
    {
     "name": "stdout",
     "output_type": "stream",
     "text": [
      "File ../data/hdfs/hdfs_train, number of sessions 971\n",
      "File ../data/hdfs/hdfs_train, number of seqs 9267\n",
      "sampling...\n"
     ]
    },
    {
     "name": "stderr",
     "output_type": "stream",
     "text": [
      "100%|██████████| 1057/1057 [00:00<00:00, 3462.82it/s]\n"
     ]
    },
    {
     "name": "stdout",
     "output_type": "stream",
     "text": [
      "File ../data/hdfs/hdfs_test_normal, number of sessions 110673\n",
      "File ../data/hdfs/hdfs_test_normal, number of seqs 1057\n",
      "Find 9267 train logs, 1057 validation logs\n",
      "Train batch size 2048 ,Validation batch size 2048\n",
      "Starting epoch: 0 | phase: train | ⏰: 22:31:07 | Learning rate: 0.000313\n"
     ]
    },
    {
     "name": "stderr",
     "output_type": "stream",
     "text": [
      "Train loss: 1.13955: 100%|██████████| 5/5 [00:00<00:00, 53.12it/s]\n"
     ]
    },
    {
     "name": "stdout",
     "output_type": "stream",
     "text": [
      "Starting epoch: 0 | phase: valid | ⏰: 22:31:07 \n"
     ]
    },
    {
     "name": "stderr",
     "output_type": "stream",
     "text": [
      ": 100%|██████████| 1/1 [00:00<00:00, 93.48it/s]\n"
     ]
    },
    {
     "name": "stdout",
     "output_type": "stream",
     "text": [
      "Validation loss: 1.094403862953186\n",
      "Client  4\n",
      "File ../data/hdfs/hdfs_train, number of sessions 971\n",
      "File ../data/hdfs/hdfs_train, number of seqs 9323\n",
      "sampling...\n"
     ]
    },
    {
     "name": "stderr",
     "output_type": "stream",
     "text": [
      "100%|██████████| 1044/1044 [00:00<00:00, 3420.09it/s]\n"
     ]
    },
    {
     "name": "stdout",
     "output_type": "stream",
     "text": [
      "File ../data/hdfs/hdfs_test_normal, number of sessions 110673\n",
      "File ../data/hdfs/hdfs_test_normal, number of seqs 1044\n",
      "Find 9323 train logs, 1044 validation logs\n",
      "Train batch size 2048 ,Validation batch size 2048\n",
      "Starting epoch: 0 | phase: train | ⏰: 22:31:19 | Learning rate: 0.000313\n"
     ]
    },
    {
     "name": "stderr",
     "output_type": "stream",
     "text": [
      "Train loss: 1.14739: 100%|██████████| 5/5 [00:00<00:00, 50.86it/s]\n"
     ]
    },
    {
     "name": "stdout",
     "output_type": "stream",
     "text": [
      "Starting epoch: 0 | phase: valid | ⏰: 22:31:19 \n"
     ]
    },
    {
     "name": "stderr",
     "output_type": "stream",
     "text": [
      ": 100%|██████████| 1/1 [00:00<00:00, 97.36it/s]"
     ]
    },
    {
     "name": "stdout",
     "output_type": "stream",
     "text": [
      "Validation loss: 1.0849850177764893\n",
      "============ Test epoch 46 ============\n",
      "Client  0\n"
     ]
    },
    {
     "name": "stderr",
     "output_type": "stream",
     "text": [
      "\n"
     ]
    },
    {
     "name": "stdout",
     "output_type": "stream",
     "text": [
      "Number of sessions(hdfs_test_normal): 5813\n",
      "Number of sessions(hdfs_test_abnormal): 1136\n"
     ]
    },
    {
     "name": "stderr",
     "output_type": "stream",
     "text": [
      "100%|██████████| 5813/5813 [03:17<00:00, 29.38it/s]\n",
      "100%|██████████| 1136/1136 [00:14<00:00, 79.70it/s]\n"
     ]
    },
    {
     "name": "stdout",
     "output_type": "stream",
     "text": [
      "false positive (FP): 490, false negative (FN): 24, Precision: 87.216%, Recall: 99.287%, F1-measure: 92.861%\n",
      "actual positive (TP+FN): 3367, actual negative (FP+TN): 110673\n",
      "accuracy: 99.549\n",
      "Finished Predicting\n",
      "elapsed_time: 212.09544944763184\n",
      "Client  1\n",
      "Number of sessions(hdfs_test_normal): 5574\n",
      "Number of sessions(hdfs_test_abnormal): 1139\n"
     ]
    },
    {
     "name": "stderr",
     "output_type": "stream",
     "text": [
      "100%|██████████| 5574/5574 [03:01<00:00, 30.63it/s]\n",
      "100%|██████████| 1139/1139 [00:21<00:00, 52.29it/s]\n"
     ]
    },
    {
     "name": "stdout",
     "output_type": "stream",
     "text": [
      "false positive (FP): 528, false negative (FN): 25, Precision: 86.357%, Recall: 99.257%, F1-measure: 92.359%\n",
      "actual positive (TP+FN): 3367, actual negative (FP+TN): 110673\n",
      "accuracy: 99.515\n",
      "Finished Predicting\n",
      "elapsed_time: 203.74933385849\n",
      "Client  2\n",
      "Number of sessions(hdfs_test_normal): 5730\n",
      "Number of sessions(hdfs_test_abnormal): 1118\n"
     ]
    },
    {
     "name": "stderr",
     "output_type": "stream",
     "text": [
      "100%|██████████| 5730/5730 [02:57<00:00, 32.31it/s]\n",
      "100%|██████████| 1118/1118 [00:21<00:00, 51.86it/s]\n"
     ]
    },
    {
     "name": "stdout",
     "output_type": "stream",
     "text": [
      "false positive (FP): 468, false negative (FN): 31, Precision: 87.697%, Recall: 99.079%, F1-measure: 93.041%\n",
      "actual positive (TP+FN): 3367, actual negative (FP+TN): 110673\n",
      "accuracy: 99.562\n",
      "Finished Predicting\n",
      "elapsed_time: 198.90733313560486\n",
      "Client  3\n",
      "Number of sessions(hdfs_test_normal): 5747\n",
      "Number of sessions(hdfs_test_abnormal): 1159\n"
     ]
    },
    {
     "name": "stderr",
     "output_type": "stream",
     "text": [
      "100%|██████████| 5747/5747 [03:21<00:00, 28.45it/s]\n",
      "100%|██████████| 1159/1159 [00:22<00:00, 51.01it/s]\n"
     ]
    },
    {
     "name": "stdout",
     "output_type": "stream",
     "text": [
      "false positive (FP): 451, false negative (FN): 29, Precision: 88.097%, Recall: 99.139%, F1-measure: 93.292%\n",
      "actual positive (TP+FN): 3367, actual negative (FP+TN): 110673\n",
      "accuracy: 99.579\n",
      "Finished Predicting\n",
      "elapsed_time: 224.70563960075378\n",
      "Client  4\n",
      "Number of sessions(hdfs_test_normal): 5623\n",
      "Number of sessions(hdfs_test_abnormal): 1121\n"
     ]
    },
    {
     "name": "stderr",
     "output_type": "stream",
     "text": [
      "100%|██████████| 5623/5623 [03:15<00:00, 28.75it/s]\n",
      "100%|██████████| 1121/1121 [00:21<00:00, 52.22it/s]\n"
     ]
    },
    {
     "name": "stdout",
     "output_type": "stream",
     "text": [
      "false positive (FP): 525, false negative (FN): 32, Precision: 86.399%, Recall: 99.050%, F1-measure: 92.293%\n",
      "actual positive (TP+FN): 3367, actual negative (FP+TN): 110673\n",
      "accuracy: 99.512\n",
      "Finished Predicting\n",
      "elapsed_time: 217.06261277198792\n",
      "============ Train epoch 47 ============\n",
      "Client  0\n",
      "File ../data/hdfs/hdfs_train, number of sessions 971\n",
      "File ../data/hdfs/hdfs_train, number of seqs 9420\n",
      "sampling...\n"
     ]
    },
    {
     "name": "stderr",
     "output_type": "stream",
     "text": [
      "100%|██████████| 1058/1058 [00:00<00:00, 3527.75it/s]\n"
     ]
    },
    {
     "name": "stdout",
     "output_type": "stream",
     "text": [
      "File ../data/hdfs/hdfs_test_normal, number of sessions 110673\n",
      "File ../data/hdfs/hdfs_test_normal, number of seqs 1058\n",
      "Find 9420 train logs, 1058 validation logs\n",
      "Train batch size 2048 ,Validation batch size 2048\n",
      "Starting epoch: 0 | phase: train | ⏰: 22:49:10 | Learning rate: 0.000313\n"
     ]
    },
    {
     "name": "stderr",
     "output_type": "stream",
     "text": [
      "Train loss: 1.11329: 100%|██████████| 5/5 [00:00<00:00, 54.41it/s]\n"
     ]
    },
    {
     "name": "stdout",
     "output_type": "stream",
     "text": [
      "Starting epoch: 0 | phase: valid | ⏰: 22:49:11 \n"
     ]
    },
    {
     "name": "stderr",
     "output_type": "stream",
     "text": [
      ": 100%|██████████| 1/1 [00:00<00:00, 106.95it/s]\n"
     ]
    },
    {
     "name": "stdout",
     "output_type": "stream",
     "text": [
      "Validation loss: 1.1287572383880615\n",
      "Client  1\n",
      "File ../data/hdfs/hdfs_train, number of sessions 971\n",
      "File ../data/hdfs/hdfs_train, number of seqs 9080\n",
      "sampling...\n"
     ]
    },
    {
     "name": "stderr",
     "output_type": "stream",
     "text": [
      "100%|██████████| 1046/1046 [00:00<00:00, 3624.36it/s]\n"
     ]
    },
    {
     "name": "stdout",
     "output_type": "stream",
     "text": [
      "File ../data/hdfs/hdfs_test_normal, number of sessions 110673\n",
      "File ../data/hdfs/hdfs_test_normal, number of seqs 1046\n",
      "Find 9080 train logs, 1046 validation logs\n",
      "Train batch size 2048 ,Validation batch size 2048\n",
      "Starting epoch: 0 | phase: train | ⏰: 22:49:22 | Learning rate: 0.000313\n"
     ]
    },
    {
     "name": "stderr",
     "output_type": "stream",
     "text": [
      "Train loss: 1.13625: 100%|██████████| 5/5 [00:00<00:00, 55.64it/s]\n"
     ]
    },
    {
     "name": "stdout",
     "output_type": "stream",
     "text": [
      "Starting epoch: 0 | phase: valid | ⏰: 22:49:22 \n"
     ]
    },
    {
     "name": "stderr",
     "output_type": "stream",
     "text": [
      ": 100%|██████████| 1/1 [00:00<00:00, 96.37it/s]\n"
     ]
    },
    {
     "name": "stdout",
     "output_type": "stream",
     "text": [
      "Validation loss: 1.088099718093872\n",
      "Client  2\n",
      "File ../data/hdfs/hdfs_train, number of sessions 971\n",
      "File ../data/hdfs/hdfs_train, number of seqs 9485\n",
      "sampling...\n"
     ]
    },
    {
     "name": "stderr",
     "output_type": "stream",
     "text": [
      "100%|██████████| 1051/1051 [00:00<00:00, 3493.82it/s]\n"
     ]
    },
    {
     "name": "stdout",
     "output_type": "stream",
     "text": [
      "File ../data/hdfs/hdfs_test_normal, number of sessions 110673\n",
      "File ../data/hdfs/hdfs_test_normal, number of seqs 1051\n",
      "Find 9485 train logs, 1051 validation logs\n",
      "Train batch size 2048 ,Validation batch size 2048\n",
      "Starting epoch: 0 | phase: train | ⏰: 22:49:34 | Learning rate: 0.000313\n"
     ]
    },
    {
     "name": "stderr",
     "output_type": "stream",
     "text": [
      "Train loss: 1.14443: 100%|██████████| 5/5 [00:00<00:00, 54.05it/s]\n"
     ]
    },
    {
     "name": "stdout",
     "output_type": "stream",
     "text": [
      "Starting epoch: 0 | phase: valid | ⏰: 22:49:34 \n"
     ]
    },
    {
     "name": "stderr",
     "output_type": "stream",
     "text": [
      ": 100%|██████████| 1/1 [00:00<00:00, 93.76it/s]\n"
     ]
    },
    {
     "name": "stdout",
     "output_type": "stream",
     "text": [
      "Validation loss: 1.1159242391586304\n",
      "Client  3\n",
      "File ../data/hdfs/hdfs_train, number of sessions 971\n",
      "File ../data/hdfs/hdfs_train, number of seqs 9267\n",
      "sampling...\n"
     ]
    },
    {
     "name": "stderr",
     "output_type": "stream",
     "text": [
      "100%|██████████| 1057/1057 [00:00<00:00, 3445.23it/s]\n"
     ]
    },
    {
     "name": "stdout",
     "output_type": "stream",
     "text": [
      "File ../data/hdfs/hdfs_test_normal, number of sessions 110673\n",
      "File ../data/hdfs/hdfs_test_normal, number of seqs 1057\n",
      "Find 9267 train logs, 1057 validation logs\n",
      "Train batch size 2048 ,Validation batch size 2048\n",
      "Starting epoch: 0 | phase: train | ⏰: 22:49:46 | Learning rate: 0.000313\n"
     ]
    },
    {
     "name": "stderr",
     "output_type": "stream",
     "text": [
      "Train loss: 1.12376: 100%|██████████| 5/5 [00:00<00:00, 55.08it/s]\n"
     ]
    },
    {
     "name": "stdout",
     "output_type": "stream",
     "text": [
      "Starting epoch: 0 | phase: valid | ⏰: 22:49:46 \n"
     ]
    },
    {
     "name": "stderr",
     "output_type": "stream",
     "text": [
      ": 100%|██████████| 1/1 [00:00<00:00, 103.56it/s]\n"
     ]
    },
    {
     "name": "stdout",
     "output_type": "stream",
     "text": [
      "Validation loss: 1.1137088537216187\n",
      "Client  4\n",
      "File ../data/hdfs/hdfs_train, number of sessions 971\n",
      "File ../data/hdfs/hdfs_train, number of seqs 9323\n",
      "sampling...\n"
     ]
    },
    {
     "name": "stderr",
     "output_type": "stream",
     "text": [
      "100%|██████████| 1044/1044 [00:00<00:00, 3593.80it/s]\n"
     ]
    },
    {
     "name": "stdout",
     "output_type": "stream",
     "text": [
      "File ../data/hdfs/hdfs_test_normal, number of sessions 110673\n",
      "File ../data/hdfs/hdfs_test_normal, number of seqs 1044\n",
      "Find 9323 train logs, 1044 validation logs\n",
      "Train batch size 2048 ,Validation batch size 2048\n",
      "Starting epoch: 0 | phase: train | ⏰: 22:49:58 | Learning rate: 0.000313\n"
     ]
    },
    {
     "name": "stderr",
     "output_type": "stream",
     "text": [
      "Train loss: 1.13272: 100%|██████████| 5/5 [00:00<00:00, 48.61it/s]\n"
     ]
    },
    {
     "name": "stdout",
     "output_type": "stream",
     "text": [
      "Starting epoch: 0 | phase: valid | ⏰: 22:49:58 \n"
     ]
    },
    {
     "name": "stderr",
     "output_type": "stream",
     "text": [
      ": 100%|██████████| 1/1 [00:00<00:00, 71.13it/s]\n"
     ]
    },
    {
     "name": "stdout",
     "output_type": "stream",
     "text": [
      "Validation loss: 1.132237434387207\n",
      "============ Test epoch 47 ============\n",
      "Client  0\n",
      "Number of sessions(hdfs_test_normal): 5813\n",
      "Number of sessions(hdfs_test_abnormal): 1136\n"
     ]
    },
    {
     "name": "stderr",
     "output_type": "stream",
     "text": [
      "100%|██████████| 5813/5813 [03:23<00:00, 28.56it/s]\n",
      "100%|██████████| 1136/1136 [00:20<00:00, 55.11it/s]\n"
     ]
    },
    {
     "name": "stdout",
     "output_type": "stream",
     "text": [
      "false positive (FP): 487, false negative (FN): 24, Precision: 87.285%, Recall: 99.287%, F1-measure: 92.900%\n",
      "actual positive (TP+FN): 3367, actual negative (FP+TN): 110673\n",
      "accuracy: 99.552\n",
      "Finished Predicting\n",
      "elapsed_time: 224.16968488693237\n",
      "Client  1\n",
      "Number of sessions(hdfs_test_normal): 5574\n",
      "Number of sessions(hdfs_test_abnormal): 1139\n"
     ]
    },
    {
     "name": "stderr",
     "output_type": "stream",
     "text": [
      "100%|██████████| 5574/5574 [02:11<00:00, 42.26it/s]\n",
      "100%|██████████| 1139/1139 [00:15<00:00, 75.63it/s]\n"
     ]
    },
    {
     "name": "stdout",
     "output_type": "stream",
     "text": [
      "false positive (FP): 527, false negative (FN): 25, Precision: 86.379%, Recall: 99.257%, F1-measure: 92.371%\n",
      "actual positive (TP+FN): 3367, actual negative (FP+TN): 110673\n",
      "accuracy: 99.516\n",
      "Finished Predicting\n",
      "elapsed_time: 146.95451068878174\n",
      "Client  2\n",
      "Number of sessions(hdfs_test_normal): 5730\n",
      "Number of sessions(hdfs_test_abnormal): 1118\n"
     ]
    },
    {
     "name": "stderr",
     "output_type": "stream",
     "text": [
      "100%|██████████| 5730/5730 [03:18<00:00, 28.80it/s]\n",
      "100%|██████████| 1118/1118 [00:21<00:00, 51.21it/s]\n"
     ]
    },
    {
     "name": "stdout",
     "output_type": "stream",
     "text": [
      "false positive (FP): 468, false negative (FN): 31, Precision: 87.697%, Recall: 99.079%, F1-measure: 93.041%\n",
      "actual positive (TP+FN): 3367, actual negative (FP+TN): 110673\n",
      "accuracy: 99.562\n",
      "Finished Predicting\n",
      "elapsed_time: 220.7990243434906\n",
      "Client  3\n",
      "Number of sessions(hdfs_test_normal): 5747\n",
      "Number of sessions(hdfs_test_abnormal): 1159\n"
     ]
    },
    {
     "name": "stderr",
     "output_type": "stream",
     "text": [
      "100%|██████████| 5747/5747 [03:23<00:00, 28.28it/s]\n",
      "100%|██████████| 1159/1159 [00:22<00:00, 51.31it/s]\n"
     ]
    },
    {
     "name": "stdout",
     "output_type": "stream",
     "text": [
      "false positive (FP): 450, false negative (FN): 29, Precision: 88.120%, Recall: 99.139%, F1-measure: 93.305%\n",
      "actual positive (TP+FN): 3367, actual negative (FP+TN): 110673\n",
      "accuracy: 99.580\n",
      "Finished Predicting\n",
      "elapsed_time: 225.83478951454163\n",
      "Client  4\n",
      "Number of sessions(hdfs_test_normal): 5623\n",
      "Number of sessions(hdfs_test_abnormal): 1121\n"
     ]
    },
    {
     "name": "stderr",
     "output_type": "stream",
     "text": [
      "100%|██████████| 5623/5623 [03:12<00:00, 29.22it/s]\n",
      "100%|██████████| 1121/1121 [00:14<00:00, 76.24it/s]\n"
     ]
    },
    {
     "name": "stdout",
     "output_type": "stream",
     "text": [
      "false positive (FP): 523, false negative (FN): 32, Precision: 86.444%, Recall: 99.050%, F1-measure: 92.318%\n",
      "actual positive (TP+FN): 3367, actual negative (FP+TN): 110673\n",
      "accuracy: 99.513\n",
      "Finished Predicting\n",
      "elapsed_time: 207.13612937927246\n",
      "============ Train epoch 48 ============\n",
      "Client  0\n",
      "File ../data/hdfs/hdfs_train, number of sessions 971\n",
      "File ../data/hdfs/hdfs_train, number of seqs 9420\n",
      "sampling...\n"
     ]
    },
    {
     "name": "stderr",
     "output_type": "stream",
     "text": [
      "100%|██████████| 1058/1058 [00:00<00:00, 2872.85it/s]\n"
     ]
    },
    {
     "name": "stdout",
     "output_type": "stream",
     "text": [
      "File ../data/hdfs/hdfs_test_normal, number of sessions 110673\n",
      "File ../data/hdfs/hdfs_test_normal, number of seqs 1058\n",
      "Find 9420 train logs, 1058 validation logs\n",
      "Train batch size 2048 ,Validation batch size 2048\n",
      "Starting epoch: 0 | phase: train | ⏰: 23:07:18 | Learning rate: 0.000313\n"
     ]
    },
    {
     "name": "stderr",
     "output_type": "stream",
     "text": [
      "Train loss: 1.09160: 100%|██████████| 5/5 [00:00<00:00, 52.37it/s]\n"
     ]
    },
    {
     "name": "stdout",
     "output_type": "stream",
     "text": [
      "Starting epoch: 0 | phase: valid | ⏰: 23:07:18 \n"
     ]
    },
    {
     "name": "stderr",
     "output_type": "stream",
     "text": [
      ": 100%|██████████| 1/1 [00:00<00:00, 95.44it/s]\n"
     ]
    },
    {
     "name": "stdout",
     "output_type": "stream",
     "text": [
      "Validation loss: 1.0871447324752808\n",
      "Client  1\n",
      "File ../data/hdfs/hdfs_train, number of sessions 971\n",
      "File ../data/hdfs/hdfs_train, number of seqs 9080\n",
      "sampling...\n"
     ]
    },
    {
     "name": "stderr",
     "output_type": "stream",
     "text": [
      "100%|██████████| 1046/1046 [00:00<00:00, 3213.39it/s]\n"
     ]
    },
    {
     "name": "stdout",
     "output_type": "stream",
     "text": [
      "File ../data/hdfs/hdfs_test_normal, number of sessions 110673\n",
      "File ../data/hdfs/hdfs_test_normal, number of seqs 1046\n",
      "Find 9080 train logs, 1046 validation logs\n",
      "Train batch size 2048 ,Validation batch size 2048\n",
      "Starting epoch: 0 | phase: train | ⏰: 23:07:30 | Learning rate: 0.000313\n"
     ]
    },
    {
     "name": "stderr",
     "output_type": "stream",
     "text": [
      "Train loss: 1.11456: 100%|██████████| 5/5 [00:00<00:00, 56.36it/s]\n"
     ]
    },
    {
     "name": "stdout",
     "output_type": "stream",
     "text": [
      "Starting epoch: 0 | phase: valid | ⏰: 23:07:30 \n"
     ]
    },
    {
     "name": "stderr",
     "output_type": "stream",
     "text": [
      ": 100%|██████████| 1/1 [00:00<00:00, 100.28it/s]\n"
     ]
    },
    {
     "name": "stdout",
     "output_type": "stream",
     "text": [
      "Validation loss: 1.1226162910461426\n",
      "Client  2\n",
      "File ../data/hdfs/hdfs_train, number of sessions 971\n",
      "File ../data/hdfs/hdfs_train, number of seqs 9485\n",
      "sampling...\n"
     ]
    },
    {
     "name": "stderr",
     "output_type": "stream",
     "text": [
      "100%|██████████| 1051/1051 [00:00<00:00, 2909.85it/s]\n"
     ]
    },
    {
     "name": "stdout",
     "output_type": "stream",
     "text": [
      "File ../data/hdfs/hdfs_test_normal, number of sessions 110673\n",
      "File ../data/hdfs/hdfs_test_normal, number of seqs 1051\n",
      "Find 9485 train logs, 1051 validation logs\n",
      "Train batch size 2048 ,Validation batch size 2048\n",
      "Starting epoch: 0 | phase: train | ⏰: 23:07:41 | Learning rate: 0.000313\n"
     ]
    },
    {
     "name": "stderr",
     "output_type": "stream",
     "text": [
      "Train loss: 1.12236: 100%|██████████| 5/5 [00:00<00:00, 53.72it/s]\n"
     ]
    },
    {
     "name": "stdout",
     "output_type": "stream",
     "text": [
      "Starting epoch: 0 | phase: valid | ⏰: 23:07:41 \n"
     ]
    },
    {
     "name": "stderr",
     "output_type": "stream",
     "text": [
      ": 100%|██████████| 1/1 [00:00<00:00, 103.84it/s]\n"
     ]
    },
    {
     "name": "stdout",
     "output_type": "stream",
     "text": [
      "Validation loss: 1.0842996835708618\n",
      "Client  3\n",
      "File ../data/hdfs/hdfs_train, number of sessions 971\n",
      "File ../data/hdfs/hdfs_train, number of seqs 9267\n",
      "sampling...\n"
     ]
    },
    {
     "name": "stderr",
     "output_type": "stream",
     "text": [
      "100%|██████████| 1057/1057 [00:00<00:00, 3455.35it/s]\n"
     ]
    },
    {
     "name": "stdout",
     "output_type": "stream",
     "text": [
      "File ../data/hdfs/hdfs_test_normal, number of sessions 110673\n",
      "File ../data/hdfs/hdfs_test_normal, number of seqs 1057\n",
      "Find 9267 train logs, 1057 validation logs\n",
      "Train batch size 2048 ,Validation batch size 2048\n",
      "Starting epoch: 0 | phase: train | ⏰: 23:07:53 | Learning rate: 0.000313\n"
     ]
    },
    {
     "name": "stderr",
     "output_type": "stream",
     "text": [
      "Train loss: 1.10514: 100%|██████████| 5/5 [00:00<00:00, 55.88it/s]\n"
     ]
    },
    {
     "name": "stdout",
     "output_type": "stream",
     "text": [
      "Starting epoch: 0 | phase: valid | ⏰: 23:07:53 \n"
     ]
    },
    {
     "name": "stderr",
     "output_type": "stream",
     "text": [
      ": 100%|██████████| 1/1 [00:00<00:00, 106.10it/s]\n"
     ]
    },
    {
     "name": "stdout",
     "output_type": "stream",
     "text": [
      "Validation loss: 1.0895013809204102\n",
      "Client  4\n",
      "File ../data/hdfs/hdfs_train, number of sessions 971\n",
      "File ../data/hdfs/hdfs_train, number of seqs 9323\n",
      "sampling...\n"
     ]
    },
    {
     "name": "stderr",
     "output_type": "stream",
     "text": [
      "100%|██████████| 1044/1044 [00:00<00:00, 3624.77it/s]\n"
     ]
    },
    {
     "name": "stdout",
     "output_type": "stream",
     "text": [
      "File ../data/hdfs/hdfs_test_normal, number of sessions 110673\n",
      "File ../data/hdfs/hdfs_test_normal, number of seqs 1044\n",
      "Find 9323 train logs, 1044 validation logs\n",
      "Train batch size 2048 ,Validation batch size 2048\n",
      "Starting epoch: 0 | phase: train | ⏰: 23:08:05 | Learning rate: 0.000313\n"
     ]
    },
    {
     "name": "stderr",
     "output_type": "stream",
     "text": [
      "Train loss: 1.11661: 100%|██████████| 5/5 [00:00<00:00, 53.01it/s]\n"
     ]
    },
    {
     "name": "stdout",
     "output_type": "stream",
     "text": [
      "Starting epoch: 0 | phase: valid | ⏰: 23:08:05 \n"
     ]
    },
    {
     "name": "stderr",
     "output_type": "stream",
     "text": [
      ": 100%|██████████| 1/1 [00:00<00:00, 96.43it/s]\n"
     ]
    },
    {
     "name": "stdout",
     "output_type": "stream",
     "text": [
      "Validation loss: 1.0503027439117432\n",
      "============ Test epoch 48 ============\n",
      "Client  0\n",
      "Number of sessions(hdfs_test_normal): 5813\n",
      "Number of sessions(hdfs_test_abnormal): 1136\n"
     ]
    },
    {
     "name": "stderr",
     "output_type": "stream",
     "text": [
      "100%|██████████| 5813/5813 [03:25<00:00, 28.24it/s]\n",
      "100%|██████████| 1136/1136 [00:21<00:00, 53.97it/s]\n"
     ]
    },
    {
     "name": "stdout",
     "output_type": "stream",
     "text": [
      "false positive (FP): 487, false negative (FN): 24, Precision: 87.285%, Recall: 99.287%, F1-measure: 92.900%\n",
      "actual positive (TP+FN): 3367, actual negative (FP+TN): 110673\n",
      "accuracy: 99.552\n",
      "Finished Predicting\n",
      "elapsed_time: 226.86729788780212\n",
      "Client  1\n",
      "Number of sessions(hdfs_test_normal): 5574\n",
      "Number of sessions(hdfs_test_abnormal): 1139\n"
     ]
    },
    {
     "name": "stderr",
     "output_type": "stream",
     "text": [
      "100%|██████████| 5574/5574 [03:03<00:00, 30.45it/s]\n",
      "100%|██████████| 1139/1139 [00:15<00:00, 73.90it/s]\n"
     ]
    },
    {
     "name": "stdout",
     "output_type": "stream",
     "text": [
      "false positive (FP): 527, false negative (FN): 25, Precision: 86.379%, Recall: 99.257%, F1-measure: 92.371%\n",
      "actual positive (TP+FN): 3367, actual negative (FP+TN): 110673\n",
      "accuracy: 99.516\n",
      "Finished Predicting\n",
      "elapsed_time: 198.45484447479248\n",
      "Client  2\n",
      "Number of sessions(hdfs_test_normal): 5730\n",
      "Number of sessions(hdfs_test_abnormal): 1118\n"
     ]
    },
    {
     "name": "stderr",
     "output_type": "stream",
     "text": [
      "100%|██████████| 5730/5730 [03:15<00:00, 29.29it/s]\n",
      "100%|██████████| 1118/1118 [00:21<00:00, 51.71it/s]\n"
     ]
    },
    {
     "name": "stdout",
     "output_type": "stream",
     "text": [
      "false positive (FP): 468, false negative (FN): 31, Precision: 87.697%, Recall: 99.079%, F1-measure: 93.041%\n",
      "actual positive (TP+FN): 3367, actual negative (FP+TN): 110673\n",
      "accuracy: 99.562\n",
      "Finished Predicting\n",
      "elapsed_time: 217.24108743667603\n",
      "Client  3\n",
      "Number of sessions(hdfs_test_normal): 5747\n",
      "Number of sessions(hdfs_test_abnormal): 1159\n"
     ]
    },
    {
     "name": "stderr",
     "output_type": "stream",
     "text": [
      "100%|██████████| 5747/5747 [03:22<00:00, 28.41it/s]\n",
      "100%|██████████| 1159/1159 [00:20<00:00, 55.53it/s]\n"
     ]
    },
    {
     "name": "stdout",
     "output_type": "stream",
     "text": [
      "false positive (FP): 450, false negative (FN): 29, Precision: 88.120%, Recall: 99.139%, F1-measure: 93.305%\n",
      "actual positive (TP+FN): 3367, actual negative (FP+TN): 110673\n",
      "accuracy: 99.580\n",
      "Finished Predicting\n",
      "elapsed_time: 223.15102076530457\n",
      "Client  4\n",
      "Number of sessions(hdfs_test_normal): 5623\n",
      "Number of sessions(hdfs_test_abnormal): 1121\n"
     ]
    },
    {
     "name": "stderr",
     "output_type": "stream",
     "text": [
      "100%|██████████| 5623/5623 [02:53<00:00, 32.47it/s]\n",
      "100%|██████████| 1121/1121 [00:21<00:00, 52.31it/s]\n"
     ]
    },
    {
     "name": "stdout",
     "output_type": "stream",
     "text": [
      "false positive (FP): 523, false negative (FN): 32, Precision: 86.444%, Recall: 99.050%, F1-measure: 92.318%\n",
      "actual positive (TP+FN): 3367, actual negative (FP+TN): 110673\n",
      "accuracy: 99.513\n",
      "Finished Predicting\n",
      "elapsed_time: 194.59879732131958\n",
      "============ Train epoch 49 ============\n",
      "Client  0\n",
      "File ../data/hdfs/hdfs_train, number of sessions 971\n",
      "File ../data/hdfs/hdfs_train, number of seqs 9420\n",
      "sampling...\n"
     ]
    },
    {
     "name": "stderr",
     "output_type": "stream",
     "text": [
      "100%|██████████| 1058/1058 [00:00<00:00, 3513.74it/s]\n"
     ]
    },
    {
     "name": "stdout",
     "output_type": "stream",
     "text": [
      "File ../data/hdfs/hdfs_test_normal, number of sessions 110673\n",
      "File ../data/hdfs/hdfs_test_normal, number of seqs 1058\n",
      "Find 9420 train logs, 1058 validation logs\n",
      "Train batch size 2048 ,Validation batch size 2048\n",
      "Starting epoch: 0 | phase: train | ⏰: 23:26:00 | Learning rate: 0.000313\n"
     ]
    },
    {
     "name": "stderr",
     "output_type": "stream",
     "text": [
      "Train loss: 1.07101: 100%|██████████| 5/5 [00:00<00:00, 52.37it/s]\n"
     ]
    },
    {
     "name": "stdout",
     "output_type": "stream",
     "text": [
      "Starting epoch: 0 | phase: valid | ⏰: 23:26:00 \n"
     ]
    },
    {
     "name": "stderr",
     "output_type": "stream",
     "text": [
      ": 100%|██████████| 1/1 [00:00<00:00, 100.82it/s]\n"
     ]
    },
    {
     "name": "stdout",
     "output_type": "stream",
     "text": [
      "Validation loss: 1.0732237100601196\n",
      "Client  1\n",
      "File ../data/hdfs/hdfs_train, number of sessions 971\n",
      "File ../data/hdfs/hdfs_train, number of seqs 9080\n",
      "sampling...\n"
     ]
    },
    {
     "name": "stderr",
     "output_type": "stream",
     "text": [
      "100%|██████████| 1046/1046 [00:00<00:00, 3442.60it/s]\n"
     ]
    },
    {
     "name": "stdout",
     "output_type": "stream",
     "text": [
      "File ../data/hdfs/hdfs_test_normal, number of sessions 110673\n",
      "File ../data/hdfs/hdfs_test_normal, number of seqs 1046\n",
      "Find 9080 train logs, 1046 validation logs\n",
      "Train batch size 2048 ,Validation batch size 2048\n",
      "Starting epoch: 0 | phase: train | ⏰: 23:26:12 | Learning rate: 0.000313\n"
     ]
    },
    {
     "name": "stderr",
     "output_type": "stream",
     "text": [
      "Train loss: 1.09976: 100%|██████████| 5/5 [00:00<00:00, 55.01it/s]\n"
     ]
    },
    {
     "name": "stdout",
     "output_type": "stream",
     "text": [
      "Starting epoch: 0 | phase: valid | ⏰: 23:26:12 \n"
     ]
    },
    {
     "name": "stderr",
     "output_type": "stream",
     "text": [
      ": 100%|██████████| 1/1 [00:00<00:00, 96.07it/s]\n"
     ]
    },
    {
     "name": "stdout",
     "output_type": "stream",
     "text": [
      "Validation loss: 1.0588592290878296\n",
      "Client  2\n",
      "File ../data/hdfs/hdfs_train, number of sessions 971\n",
      "File ../data/hdfs/hdfs_train, number of seqs 9485\n",
      "sampling...\n"
     ]
    },
    {
     "name": "stderr",
     "output_type": "stream",
     "text": [
      "100%|██████████| 1051/1051 [00:00<00:00, 3557.35it/s]\n"
     ]
    },
    {
     "name": "stdout",
     "output_type": "stream",
     "text": [
      "File ../data/hdfs/hdfs_test_normal, number of sessions 110673\n",
      "File ../data/hdfs/hdfs_test_normal, number of seqs 1051\n",
      "Find 9485 train logs, 1051 validation logs\n",
      "Train batch size 2048 ,Validation batch size 2048\n",
      "Starting epoch: 0 | phase: train | ⏰: 23:26:23 | Learning rate: 0.000313\n"
     ]
    },
    {
     "name": "stderr",
     "output_type": "stream",
     "text": [
      "Train loss: 1.10972: 100%|██████████| 5/5 [00:00<00:00, 52.91it/s]\n"
     ]
    },
    {
     "name": "stdout",
     "output_type": "stream",
     "text": [
      "Starting epoch: 0 | phase: valid | ⏰: 23:26:23 \n"
     ]
    },
    {
     "name": "stderr",
     "output_type": "stream",
     "text": [
      ": 100%|██████████| 1/1 [00:00<00:00, 96.54it/s]\n"
     ]
    },
    {
     "name": "stdout",
     "output_type": "stream",
     "text": [
      "Validation loss: 1.0749305486679077\n",
      "Client  3\n",
      "File ../data/hdfs/hdfs_train, number of sessions 971\n",
      "File ../data/hdfs/hdfs_train, number of seqs 9267\n",
      "sampling...\n"
     ]
    },
    {
     "name": "stderr",
     "output_type": "stream",
     "text": [
      "100%|██████████| 1057/1057 [00:00<00:00, 3516.67it/s]\n"
     ]
    },
    {
     "name": "stdout",
     "output_type": "stream",
     "text": [
      "File ../data/hdfs/hdfs_test_normal, number of sessions 110673\n",
      "File ../data/hdfs/hdfs_test_normal, number of seqs 1057\n",
      "Find 9267 train logs, 1057 validation logs\n",
      "Train batch size 2048 ,Validation batch size 2048\n",
      "Starting epoch: 0 | phase: train | ⏰: 23:26:35 | Learning rate: 0.000313\n"
     ]
    },
    {
     "name": "stderr",
     "output_type": "stream",
     "text": [
      "Train loss: 1.08658: 100%|██████████| 5/5 [00:00<00:00, 54.31it/s]\n"
     ]
    },
    {
     "name": "stdout",
     "output_type": "stream",
     "text": [
      "Starting epoch: 0 | phase: valid | ⏰: 23:26:35 \n"
     ]
    },
    {
     "name": "stderr",
     "output_type": "stream",
     "text": [
      ": 100%|██████████| 1/1 [00:00<00:00, 93.58it/s]\n"
     ]
    },
    {
     "name": "stdout",
     "output_type": "stream",
     "text": [
      "Validation loss: 1.0375548601150513\n",
      "Client  4\n",
      "File ../data/hdfs/hdfs_train, number of sessions 971\n",
      "File ../data/hdfs/hdfs_train, number of seqs 9323\n",
      "sampling...\n"
     ]
    },
    {
     "name": "stderr",
     "output_type": "stream",
     "text": [
      "100%|██████████| 1044/1044 [00:00<00:00, 3520.74it/s]\n"
     ]
    },
    {
     "name": "stdout",
     "output_type": "stream",
     "text": [
      "File ../data/hdfs/hdfs_test_normal, number of sessions 110673\n",
      "File ../data/hdfs/hdfs_test_normal, number of seqs 1044\n",
      "Find 9323 train logs, 1044 validation logs\n",
      "Train batch size 2048 ,Validation batch size 2048\n",
      "Starting epoch: 0 | phase: train | ⏰: 23:26:47 | Learning rate: 0.000313\n"
     ]
    },
    {
     "name": "stderr",
     "output_type": "stream",
     "text": [
      "Train loss: 1.09681: 100%|██████████| 5/5 [00:00<00:00, 55.09it/s]\n"
     ]
    },
    {
     "name": "stdout",
     "output_type": "stream",
     "text": [
      "Starting epoch: 0 | phase: valid | ⏰: 23:26:47 \n"
     ]
    },
    {
     "name": "stderr",
     "output_type": "stream",
     "text": [
      ": 100%|██████████| 1/1 [00:00<00:00, 100.01it/s]\n"
     ]
    },
    {
     "name": "stdout",
     "output_type": "stream",
     "text": [
      "Validation loss: 1.0404298305511475\n",
      "============ Test epoch 49 ============\n",
      "Client  0\n",
      "Number of sessions(hdfs_test_normal): 5813\n",
      "Number of sessions(hdfs_test_abnormal): 1136\n"
     ]
    },
    {
     "name": "stderr",
     "output_type": "stream",
     "text": [
      "100%|██████████| 5813/5813 [03:25<00:00, 28.30it/s]\n",
      "100%|██████████| 1136/1136 [00:21<00:00, 54.04it/s]\n"
     ]
    },
    {
     "name": "stdout",
     "output_type": "stream",
     "text": [
      "false positive (FP): 486, false negative (FN): 24, Precision: 87.307%, Recall: 99.287%, F1-measure: 92.913%\n",
      "actual positive (TP+FN): 3367, actual negative (FP+TN): 110673\n",
      "accuracy: 99.553\n",
      "Finished Predicting\n",
      "elapsed_time: 226.42883801460266\n",
      "Client  1\n",
      "Number of sessions(hdfs_test_normal): 5574\n",
      "Number of sessions(hdfs_test_abnormal): 1139\n"
     ]
    },
    {
     "name": "stderr",
     "output_type": "stream",
     "text": [
      "100%|██████████| 5574/5574 [03:13<00:00, 28.75it/s]\n",
      "100%|██████████| 1139/1139 [00:16<00:00, 69.23it/s] \n"
     ]
    },
    {
     "name": "stdout",
     "output_type": "stream",
     "text": [
      "false positive (FP): 527, false negative (FN): 26, Precision: 86.375%, Recall: 99.228%, F1-measure: 92.357%\n",
      "actual positive (TP+FN): 3367, actual negative (FP+TN): 110673\n",
      "accuracy: 99.515\n",
      "Finished Predicting\n",
      "elapsed_time: 210.31862330436707\n",
      "Client  2\n",
      "Number of sessions(hdfs_test_normal): 5730\n",
      "Number of sessions(hdfs_test_abnormal): 1118\n"
     ]
    },
    {
     "name": "stderr",
     "output_type": "stream",
     "text": [
      "100%|██████████| 5730/5730 [02:06<00:00, 45.31it/s]\n",
      "100%|██████████| 1118/1118 [00:21<00:00, 51.36it/s]\n"
     ]
    },
    {
     "name": "stdout",
     "output_type": "stream",
     "text": [
      "false positive (FP): 468, false negative (FN): 31, Precision: 87.697%, Recall: 99.079%, F1-measure: 93.041%\n",
      "actual positive (TP+FN): 3367, actual negative (FP+TN): 110673\n",
      "accuracy: 99.562\n",
      "Finished Predicting\n",
      "elapsed_time: 148.2334122657776\n",
      "Client  3\n",
      "Number of sessions(hdfs_test_normal): 5747\n",
      "Number of sessions(hdfs_test_abnormal): 1159\n"
     ]
    },
    {
     "name": "stderr",
     "output_type": "stream",
     "text": [
      "100%|██████████| 5747/5747 [03:22<00:00, 28.40it/s]\n",
      "100%|██████████| 1159/1159 [00:22<00:00, 51.12it/s]\n"
     ]
    },
    {
     "name": "stdout",
     "output_type": "stream",
     "text": [
      "false positive (FP): 450, false negative (FN): 29, Precision: 88.120%, Recall: 99.139%, F1-measure: 93.305%\n",
      "actual positive (TP+FN): 3367, actual negative (FP+TN): 110673\n",
      "accuracy: 99.580\n",
      "Finished Predicting\n",
      "elapsed_time: 225.042799949646\n",
      "Client  4\n",
      "Number of sessions(hdfs_test_normal): 5623\n",
      "Number of sessions(hdfs_test_abnormal): 1121\n"
     ]
    },
    {
     "name": "stderr",
     "output_type": "stream",
     "text": [
      "100%|██████████| 5623/5623 [03:16<00:00, 28.65it/s]\n",
      "100%|██████████| 1121/1121 [00:21<00:00, 51.56it/s]"
     ]
    },
    {
     "name": "stdout",
     "output_type": "stream",
     "text": [
      "false positive (FP): 523, false negative (FN): 32, Precision: 86.444%, Recall: 99.050%, F1-measure: 92.318%\n",
      "actual positive (TP+FN): 3367, actual negative (FP+TN): 110673\n",
      "accuracy: 99.513\n",
      "Finished Predicting\n",
      "elapsed_time: 218.03818368911743\n"
     ]
    },
    {
     "name": "stderr",
     "output_type": "stream",
     "text": [
      "\n"
     ]
    }
   ],
   "source": [
    "# # setup model\n",
    "server_model = deeplog(input_size=options['input_size'],\n",
    "                    hidden_size=options['hidden_size'],\n",
    "                    num_layers=options['num_layers'],\n",
    "                    num_keys=options['num_classes']).to(device)\n",
    "# for adaptive velocity\n",
    "v = {}\n",
    "grad = {}\n",
    "for key in server_model.state_dict().keys():\n",
    "    v[key] = torch.add(torch.zeros_like(server_model.state_dict()[key],dtype=torch.float32),args.tau**2)\n",
    "    grad[key] = torch.zeros_like(server_model.state_dict()[key],dtype=torch.float32)\n",
    "loss_fun = nn.CrossEntropyLoss()\n",
    "# name of each datasets\n",
    "datasets = ['Client'+str(i) for i in range(args.client_num)]\n",
    "# federated client number\n",
    "client_num = len(datasets)\n",
    "client_weights = [1/client_num for i in range(client_num)]\n",
    "# each local client model\n",
    "models = [copy.deepcopy(server_model).to(device) for idx in range(client_num)]\n",
    "\n",
    "start_iter = 0\n",
    "\n",
    "lloogg_1 = {'train':{'epoch':[], 'lr':[], 'time':[], 'loss':[]}, \n",
    "          'val':{'epoch':[], 'lr':[], 'time':[], 'loss':[]}}\n",
    "lloogg_2 = {'train':{'epoch':[], 'lr':[], 'time':[], 'loss':[]}, \n",
    "          'val':{'epoch':[], 'lr':[], 'time':[], 'loss':[]}}\n",
    "lloogg_3 = {'train':{'epoch':[], 'lr':[], 'time':[], 'loss':[]}, \n",
    "          'val':{'epoch':[], 'lr':[], 'time':[], 'loss':[]}}\n",
    "lloogg_4 = {'train':{'epoch':[], 'lr':[], 'time':[], 'loss':[]}, \n",
    "          'val':{'epoch':[], 'lr':[], 'time':[], 'loss':[]}}\n",
    "lloogg_5 = {'train':{'epoch':[], 'lr':[], 'time':[], 'loss':[]}, \n",
    "          'val':{'epoch':[], 'lr':[], 'time':[], 'loss':[]}}\n",
    "\n",
    "result_recall = {}\n",
    "result_precision = {}\n",
    "result_f1 = {}\n",
    "result_acc = {}\n",
    "for i in range(client_num):\n",
    "    result_recall[i] = []\n",
    "    result_precision[i] = []\n",
    "    result_f1[i] = []\n",
    "    result_acc[i] = []\n",
    "\n",
    "# Start training\n",
    "for a_iter in range(start_iter, args.iters):\n",
    "#     optimizers = [optim.SGD(params = models[idx].parameters(), lr=args.lr, momentum = args.client_momentum) for idx in range(client_num)]\n",
    "    for wi in range(args.wk_iters):\n",
    "        print(\"============ Train epoch {} ============\".format(wi + a_iter * args.wk_iters))\n",
    "        for client_idx, model in enumerate(models):\n",
    "            print('Client ', client_idx)\n",
    "            trainer = Trainer(model, options, args.client_num, client_idx)\n",
    "            trainer.start_train()\n",
    "            \n",
    "            exec('lloogg_'+str(client_idx+1)+\"['train']['epoch'].append(a_iter)\")\n",
    "            exec('lloogg_'+str(client_idx+1)+\"['train']['lr'].append(trainer.log['train']['lr'][-1])\")\n",
    "            exec('lloogg_'+str(client_idx+1)+\"['train']['time'].append(trainer.log['train']['time'][-1])\")\n",
    "            exec('lloogg_'+str(client_idx+1)+\"['train']['loss'].append(trainer.log['train']['loss'][-1])\")\n",
    "            exec('lloogg_'+str(client_idx+1)+\"['val']['epoch'].append(a_iter)\")\n",
    "            exec('lloogg_'+str(client_idx+1)+\"['val']['lr'].append(trainer.log['valid']['lr'][-1])\")\n",
    "            exec('lloogg_'+str(client_idx+1)+\"['val']['time'].append(trainer.log['valid']['time'][-1])\")\n",
    "            exec('lloogg_'+str(client_idx+1)+\"['val']['loss'].append(trainer.log['valid']['loss'][-1])\")\n",
    "\n",
    "    with torch.no_grad():\n",
    "        # aggregation\n",
    "        server_model, models, v, grad = communication(args, server_model, models, client_weights, v, grad )\n",
    "        # Report loss after aggregation\n",
    "        print(\"============ Test epoch {} ============\".format(wi + a_iter * args.wk_iters))\n",
    "\n",
    "        for client_idx, model in enumerate(models):\n",
    "            print('Client ', client_idx)\n",
    "            predicter = Predicter(model, options, args.client_num, client_idx)\n",
    "            predicter.predict_unsupervised()\n",
    "            \n",
    "            result_recall[client_idx].append(predicter.recall)\n",
    "            result_precision[client_idx].append(predicter.precision)\n",
    "            result_f1[client_idx].append(predicter.f1)\n",
    "            result_acc[client_idx].append(predicter.acc)"
   ]
  },
  {
   "cell_type": "code",
   "execution_count": 12,
   "metadata": {
    "ExecuteTime": {
     "end_time": "2022-01-21T15:53:32.971669Z",
     "start_time": "2022-01-21T15:43:58.364870Z"
    }
   },
   "outputs": [
    {
     "name": "stdout",
     "output_type": "stream",
     "text": [
      "Number of sessions(hdfs_test_normal): 14177\n",
      "Number of sessions(hdfs_test_abnormal): 4123\n"
     ]
    },
    {
     "name": "stderr",
     "output_type": "stream",
     "text": [
      "100%|██████████| 14177/14177 [08:11<00:00, 28.82it/s]\n",
      "100%|██████████| 4123/4123 [01:20<00:00, 51.35it/s]"
     ]
    },
    {
     "name": "stdout",
     "output_type": "stream",
     "text": [
      "false positive (FP): 2454, false negative (FN): 142, Precision: 87.185%, Recall: 99.157%, F1-measure: 92.786%\n",
      "actual positive (TP+FN): 16838, actual negative (FP+TN): 553366\n",
      "accuracy: 99.545\n",
      "Finished Predicting\n",
      "elapsed_time: 572.1851258277893\n"
     ]
    },
    {
     "name": "stderr",
     "output_type": "stream",
     "text": [
      "\n"
     ]
    }
   ],
   "source": [
    "predicter_s = Predicter(server_model, options, 1, 0)\n",
    "predicter_s.predict_unsupervised()"
   ]
  },
  {
   "cell_type": "code",
   "execution_count": 13,
   "metadata": {
    "ExecuteTime": {
     "end_time": "2022-01-21T15:53:32.989683Z",
     "start_time": "2022-01-21T15:53:32.972558Z"
    }
   },
   "outputs": [],
   "source": [
    "for key, values in lloogg_1.items():\n",
    "    pd.DataFrame(values).to_csv(\"../result/deeplog/fedavg/client_1_\" + key + \"_log.csv\", index=False)\n",
    "del key \n",
    "del values\n",
    "for key, values in lloogg_2.items():\n",
    "    pd.DataFrame(values).to_csv(\"../result/deeplog/fedavg/client_2_\" + key + \"_log.csv\", index=False)\n",
    "del key \n",
    "del values\n",
    "for key, values in lloogg_3.items():\n",
    "    pd.DataFrame(values).to_csv(\"../result/deeplog/fedavg/client_3_\" + key + \"_log.csv\", index=False)\n",
    "del key \n",
    "del values\n",
    "for key, values in lloogg_4.items():\n",
    "    pd.DataFrame(values).to_csv(\"../result/deeplog/fedavg/client_4_\" + key + \"_log.csv\", index=False)\n",
    "del key \n",
    "del values\n",
    "for key, values in lloogg_5.items():\n",
    "    pd.DataFrame(values).to_csv(\"../result/deeplog/fedavg/client_5_\" + key + \"_log.csv\", index=False)\n",
    "del key \n",
    "del values"
   ]
  },
  {
   "cell_type": "code",
   "execution_count": 14,
   "metadata": {
    "ExecuteTime": {
     "end_time": "2022-01-21T15:53:33.004253Z",
     "start_time": "2022-01-21T15:53:32.990483Z"
    }
   },
   "outputs": [],
   "source": [
    "(pd.DataFrame.from_dict(data=result_recall, orient='index').to_csv('../result/deeplog/fedavg/recall.csv', header=False))\n",
    "(pd.DataFrame.from_dict(data=result_precision, orient='index').to_csv('../result/deeplog/fedavg/precision.csv', header=False))\n",
    "(pd.DataFrame.from_dict(data=result_f1, orient='index').to_csv('../result/deeplog/fedavg/f1.csv', header=False))\n",
    "(pd.DataFrame.from_dict(data=result_acc, orient='index').to_csv('../result/deeplog/fedavg/acc.csv', header=False))"
   ]
  },
  {
   "cell_type": "code",
   "execution_count": 15,
   "metadata": {
    "ExecuteTime": {
     "end_time": "2022-01-21T15:53:33.287719Z",
     "start_time": "2022-01-21T15:53:33.005019Z"
    }
   },
   "outputs": [
    {
     "data": {
      "image/png": "[encoded data removed]",
      "text/plain": [
       "<Figure size 432x288 with 1 Axes>"
      ]
     },
     "metadata": {
      "needs_background": "light"
     },
     "output_type": "display_data"
    },
    {
     "data": {
      "image/png": "[encoded data removed]",
      "text/plain": [
       "<Figure size 432x288 with 1 Axes>"
      ]
     },
     "metadata": {
      "needs_background": "light"
     },
     "output_type": "display_data"
    },
    {
     "data": {
      "image/png": "[encoded data removed]",
      "text/plain": [
       "<Figure size 432x288 with 1 Axes>"
      ]
     },
     "metadata": {
      "needs_background": "light"
     },
     "output_type": "display_data"
    },
    {
     "data": {
      "image/png": "[encoded data removed]",
      "text/plain": [
       "<Figure size 432x288 with 1 Axes>"
      ]
     },
     "metadata": {
      "needs_background": "light"
     },
     "output_type": "display_data"
    },
    {
     "data": {
      "image/png": "[encoded data removed]",
      "text/plain": [
       "<Figure size 432x288 with 1 Axes>"
      ]
     },
     "metadata": {
      "needs_background": "light"
     },
     "output_type": "display_data"
    }
   ],
   "source": [
    "# plot train and validation loss\n",
    "plt.plot(lloogg_1['train']['epoch'], lloogg_1['train']['loss'])\n",
    "plt.plot(lloogg_1['val']['epoch'], lloogg_1['val']['loss'])\n",
    "plt.title('model train vs validation loss')\n",
    "plt.ylabel('loss')\n",
    "plt.xlabel('epoch')\n",
    "plt.legend(['train', 'validation'], loc='upper right')\n",
    "plt.show()\n",
    "\n",
    "plt.plot(lloogg_2['train']['epoch'], lloogg_2['train']['loss'])\n",
    "plt.plot(lloogg_2['val']['epoch'], lloogg_2['val']['loss'])\n",
    "plt.title('model train vs validation loss')\n",
    "plt.ylabel('loss')\n",
    "plt.xlabel('epoch')\n",
    "plt.legend(['train', 'validation'], loc='upper right')\n",
    "plt.show()\n",
    "\n",
    "plt.plot(lloogg_3['train']['epoch'], lloogg_3['train']['loss'])\n",
    "plt.plot(lloogg_3['val']['epoch'], lloogg_3['val']['loss'])\n",
    "plt.title('model train vs validation loss')\n",
    "plt.ylabel('loss')\n",
    "plt.xlabel('epoch')\n",
    "plt.legend(['train', 'validation'], loc='upper right')\n",
    "plt.show()\n",
    "\n",
    "plt.plot(lloogg_4['train']['epoch'], lloogg_4['train']['loss'])\n",
    "plt.plot(lloogg_4['val']['epoch'], lloogg_4['val']['loss'])\n",
    "plt.title('model train vs validation loss')\n",
    "plt.ylabel('loss')\n",
    "plt.xlabel('epoch')\n",
    "plt.legend(['train', 'validation'], loc='upper right')\n",
    "plt.show()\n",
    "\n",
    "plt.plot(lloogg_5['train']['epoch'], lloogg_5['train']['loss'])\n",
    "plt.plot(lloogg_5['val']['epoch'], lloogg_5['val']['loss'])\n",
    "plt.title('model train vs validation loss')\n",
    "plt.ylabel('loss')\n",
    "plt.xlabel('epoch')\n",
    "plt.legend(['train', 'validation'], loc='upper right')\n",
    "plt.show()"
   ]
  },
  {
   "cell_type": "code",
   "execution_count": 16,
   "metadata": {
    "ExecuteTime": {
     "end_time": "2022-01-21T15:53:33.352858Z",
     "start_time": "2022-01-21T15:53:33.288731Z"
    }
   },
   "outputs": [
    {
     "data": {
      "image/png": "[encoded data removed]",
      "text/plain": [
       "<Figure size 432x288 with 1 Axes>"
      ]
     },
     "metadata": {
      "needs_background": "light"
     },
     "output_type": "display_data"
    }
   ],
   "source": [
    "plt.plot(lloogg_1['train']['epoch'], lloogg_1['train']['loss'])\n",
    "plt.plot(lloogg_2['train']['epoch'], lloogg_2['train']['loss'])\n",
    "plt.plot(lloogg_3['train']['epoch'], lloogg_3['train']['loss'])\n",
    "plt.plot(lloogg_4['train']['epoch'], lloogg_4['train']['loss'])\n",
    "plt.plot(lloogg_5['train']['epoch'], lloogg_5['train']['loss'])\n",
    "# plt.plot(lloogg_1['val']['epoch'], lloogg_1['val']['loss'])\n",
    "plt.title('Train loss')\n",
    "plt.ylabel('loss')\n",
    "plt.xlabel('epoch')\n",
    "plt.legend(['1','2','3','4','5'], loc='upper right')\n",
    "plt.show()"
   ]
  },
  {
   "cell_type": "code",
   "execution_count": 17,
   "metadata": {
    "ExecuteTime": {
     "end_time": "2022-01-21T15:53:33.417065Z",
     "start_time": "2022-01-21T15:53:33.353648Z"
    }
   },
   "outputs": [
    {
     "data": {
      "image/png": "[encoded data removed]",
      "text/plain": [
       "<Figure size 432x288 with 1 Axes>"
      ]
     },
     "metadata": {
      "needs_background": "light"
     },
     "output_type": "display_data"
    }
   ],
   "source": [
    "plt.plot(lloogg_1['val']['epoch'], lloogg_1['val']['loss'])\n",
    "plt.plot(lloogg_2['val']['epoch'], lloogg_2['val']['loss'])\n",
    "plt.plot(lloogg_3['val']['epoch'], lloogg_3['val']['loss'])\n",
    "plt.plot(lloogg_4['val']['epoch'], lloogg_4['val']['loss'])\n",
    "plt.plot(lloogg_5['val']['epoch'], lloogg_5['val']['loss'])\n",
    "# plt.plot(lloogg_1['val']['epoch'], lloogg_1['val']['loss'])\n",
    "plt.title('Validation loss')\n",
    "plt.ylabel('loss')\n",
    "plt.xlabel('epoch')\n",
    "plt.legend(['1','2','3','4','5'], loc='upper right')\n",
    "plt.show()"
   ]
  },
  {
   "cell_type": "code",
   "execution_count": 18,
   "metadata": {
    "ExecuteTime": {
     "end_time": "2022-01-21T15:53:33.423873Z",
     "start_time": "2022-01-21T15:53:33.417905Z"
    }
   },
   "outputs": [],
   "source": [
    "result_record_f1 = pd.DataFrame.from_dict(data=result_f1, orient='index')\n",
    "result_record_f1 = np.mean(np.array(result_record_f1), axis = 0)\n",
    "result_record_f1 = result_record_f1.reshape(-1)\n",
    "\n",
    "result_record_acc = pd.DataFrame.from_dict(data=result_acc, orient='index')\n",
    "result_record_acc = np.mean(np.array(result_record_acc), axis = 0)\n",
    "result_record_acc = result_record_acc.reshape(-1)"
   ]
  },
  {
   "cell_type": "code",
   "execution_count": 19,
   "metadata": {
    "ExecuteTime": {
     "end_time": "2022-01-21T15:53:33.486134Z",
     "start_time": "2022-01-21T15:53:33.424678Z"
    }
   },
   "outputs": [
    {
     "data": {
      "image/png": "[encoded data removed]",
      "text/plain": [
       "<Figure size 432x288 with 1 Axes>"
      ]
     },
     "metadata": {
      "needs_background": "light"
     },
     "output_type": "display_data"
    }
   ],
   "source": [
    "for i in range(client_num):\n",
    "    plt.plot(np.arange(args.iters), result_acc[i], label = 'Client '+ str(i+1))\n",
    "plt.legend()\n",
    "plt.show()"
   ]
  },
  {
   "cell_type": "code",
   "execution_count": 20,
   "metadata": {
    "ExecuteTime": {
     "end_time": "2022-01-21T15:53:33.546939Z",
     "start_time": "2022-01-21T15:53:33.486967Z"
    }
   },
   "outputs": [
    {
     "data": {
      "image/png": "[encoded data removed]",
      "text/plain": [
       "<Figure size 432x288 with 1 Axes>"
      ]
     },
     "metadata": {
      "needs_background": "light"
     },
     "output_type": "display_data"
    }
   ],
   "source": [
    "for i in range(client_num):\n",
    "    plt.plot(np.arange(args.iters), result_f1[i], label =  'Client '+ str(i+1))\n",
    "plt.legend()\n",
    "plt.show()"
   ]
  }
 ],
 "metadata": {
  "kernelspec": {
   "display_name": "Python [conda env:chi_env]",
   "language": "python",
   "name": "conda-env-chi_env-py"
  },
  "language_info": {
   "codemirror_mode": {
    "name": "ipython",
    "version": 3
   },
   "file_extension": ".py",
   "mimetype": "text/x-python",
   "name": "python",
   "nbconvert_exporter": "python",
   "pygments_lexer": "ipython3",
   "version": "3.8.3"
  }
 },
 "nbformat": 4,
 "nbformat_minor": 4
}
