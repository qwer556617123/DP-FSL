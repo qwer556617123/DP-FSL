{
 "cells": [
  {
   "cell_type": "code",
   "execution_count": 1,
   "metadata": {
    "ExecuteTime": {
     "end_time": "2022-01-21T17:43:25.731219Z",
     "start_time": "2022-01-21T17:43:25.729430Z"
    }
   },
   "outputs": [],
   "source": [
    "import os\n",
    "# set GPU number. This might work for several framework such as PyTorch, TensorFlow, Keras\n",
    "gpu_id = '0'\n",
    "os.environ[\"CUDA_VISIBLE_DEVICES\"]=gpu_id"
   ]
  },
  {
   "cell_type": "code",
   "execution_count": 2,
   "metadata": {
    "ExecuteTime": {
     "end_time": "2022-01-21T17:43:25.734221Z",
     "start_time": "2022-01-21T17:43:25.732832Z"
    }
   },
   "outputs": [],
   "source": [
    "import warnings\n",
    "warnings.filterwarnings(\"ignore\")"
   ]
  },
  {
   "cell_type": "code",
   "execution_count": 3,
   "metadata": {
    "ExecuteTime": {
     "end_time": "2022-01-21T17:43:26.581847Z",
     "start_time": "2022-01-21T17:43:25.734985Z"
    }
   },
   "outputs": [],
   "source": [
    "# sys.path.append('../../loglizer')\n",
    "    \n",
    "# from loglizer import dataloader\n",
    "# from loglizer.preprocessing import Vectorizer, Iterator\n",
    "import sys\n",
    "import torch\n",
    "import torch.nn as nn\n",
    "import torch.nn.functional as func\n",
    "import torch.optim as optim\n",
    "from torch.utils.data import Dataset\n",
    "from torch.autograd import Variable\n",
    "import torch.utils.data as Data\n",
    "import pickle as pkl\n",
    "import argparse\n",
    "import time\n",
    "import copy\n",
    "import torchvision.transforms as transforms\n",
    "import torchvision\n",
    "import random\n",
    "from collections import OrderedDict\n",
    "from PIL import Image\n",
    "\n",
    "import pandas as pd\n",
    "import math\n",
    "import matplotlib.pyplot as plt\n",
    "import numpy as np\n",
    "\n",
    "from sklearn.metrics import accuracy_score, f1_score, recall_score, precision_score\n",
    "from collections import defaultdict"
   ]
  },
  {
   "cell_type": "code",
   "execution_count": 4,
   "metadata": {
    "ExecuteTime": {
     "end_time": "2022-01-21T17:43:26.595150Z",
     "start_time": "2022-01-21T17:43:26.582847Z"
    }
   },
   "outputs": [],
   "source": [
    "# struct_log = '../data/HDFS/HDFS.log_structured.csv' # The structured log file\n",
    "\n",
    "#初始參數\n",
    "class Parser():\n",
    "    def __init__(self):\n",
    "        self.mode = 'fedavg'  #FedBN,FedAvg,fedprox,fedopt,fedadagrad,fedadam 待加入scoffold\n",
    "        #所有方法都有使用Fedbn\n",
    "        self.beta_1 = 0.9\n",
    "        self.beta_2 = 0.99 #b1,b2 for adaptive opt\n",
    "        self.tau = 1e-2\n",
    "        self.batch = 32\n",
    "        self.lr = 1e-2\n",
    "        self.server_lr = 1e-1\n",
    "        self.server_momentum = 0.5\n",
    "        self.client_momentum = 0.9 # 0 is fedavg others is fedavgm\n",
    "        self.no_cuda = False\n",
    "        self.seed = 1\n",
    "        self.client_num = 5\n",
    "        self.wk_iters = 1 # training\n",
    "        self.num_workers = 2 # dataloader\n",
    "        self.mu = 1e-3\n",
    "        self.iters = 50 #epochs\n",
    "        self.local_epoches = 1\n",
    "        self.server_opt = 'sgd'\n",
    "        self.percent = 1\n",
    "#         self.early_stop = 500\n",
    "        self.window_size = 10\n",
    "        self.train_ratio = 0.5\n",
    "        self.split_type='sequential' # sequential, uniform\n",
    "\n",
    "        \n",
    "args = Parser()\n",
    "\n",
    "use_cuda = not args.no_cuda and torch.cuda.is_available()\n",
    "np.random.seed(args.seed)\n",
    "torch.manual_seed(args.seed)\n",
    "torch.cuda.manual_seed_all(args.seed) \n",
    "random.seed(args.seed)\n",
    "device = torch.device(\"cuda\" if use_cuda else \"cpu\")"
   ]
  },
  {
   "cell_type": "code",
   "execution_count": 5,
   "metadata": {
    "ExecuteTime": {
     "end_time": "2022-01-21T17:43:26.605461Z",
     "start_time": "2022-01-21T17:43:26.596137Z"
    }
   },
   "outputs": [],
   "source": [
    "sys.path.append('../')\n",
    "from logdeep.models.lstm import deeplog, loganomaly, robustlog\n",
    "from logdeep.tools.predict import Predicter\n",
    "from logdeep.tools.train import Trainer\n",
    "from logdeep.tools.utils import *\n",
    "\n",
    "# Config Parameters\n",
    "\n",
    "options = dict()\n",
    "options['data_dir'] = '../data/'\n",
    "options['window_size'] = 10\n",
    "options['device'] = 0\n",
    "\n",
    "# Smaple\n",
    "options['sample'] = \"sliding_window\"\n",
    "options['window_size'] = 10  # if fix_window\n",
    "\n",
    "# Features\n",
    "options['sequentials'] = True\n",
    "options['quantitatives'] = True\n",
    "options['semantics'] = False\n",
    "options['feature_num'] = sum(\n",
    "    [options['sequentials'], options['quantitatives'], options['semantics']])\n",
    "\n",
    "# Model\n",
    "options['input_size'] = 1\n",
    "options['hidden_size'] = 64\n",
    "options['num_layers'] = 2\n",
    "options['num_classes'] = 28\n",
    "\n",
    "# Train\n",
    "options['batch_size'] = 2048\n",
    "options['accumulation_step'] = 1\n",
    "\n",
    "options['optimizer'] = 'adam'\n",
    "options['lr'] = 1e-2\n",
    "options['max_epoch'] = 1\n",
    "options['lr_step'] = (300, 350)\n",
    "options['lr_decay_ratio'] = 0.1\n",
    "\n",
    "options['resume_path'] = None\n",
    "options['model_name'] = \"loganomaly\"\n",
    "options['save_dir'] = \"../result/loganomaly/\"\n",
    "\n",
    "# Predict\n",
    "options['model_path'] = \"../result/loganomaly/loganomaly_last.pth\"\n",
    "options['num_candidates'] = 9\n",
    "\n",
    "seed_everything(seed=1234)\n",
    "\n",
    "\n",
    "def train():\n",
    "    trainer = Trainer(Model, options)\n",
    "    trainer.start_train()\n",
    "\n",
    "\n",
    "def predict():\n",
    "    predicter = Predicter(Model, options)\n",
    "    predicter.predict_unsupervised()"
   ]
  },
  {
   "cell_type": "markdown",
   "metadata": {},
   "source": [
    "# Preprocessing"
   ]
  },
  {
   "cell_type": "code",
   "execution_count": 6,
   "metadata": {
    "ExecuteTime": {
     "end_time": "2022-01-21T17:43:26.607512Z",
     "start_time": "2022-01-21T17:43:26.606196Z"
    }
   },
   "outputs": [],
   "source": [
    "# df = pd.read_csv(struct_log)\n",
    "# print(df.shape)\n",
    "\n",
    "# for i in range(args.client_num):\n",
    "#     bound = int(df.shape[0]/args.client_num)\n",
    "#     ddf = df[i* bound : (i+1)* bound]\n",
    "#     ddf.to_csv(\"../../loglizer/data/client_alldata/client_\"+str(i)+\".csv\", index=None)\n",
    "#     print('Client',i, ddf.shape)\n",
    "#     del ddf\n",
    "# del df "
   ]
  },
  {
   "cell_type": "code",
   "execution_count": 7,
   "metadata": {
    "ExecuteTime": {
     "end_time": "2022-01-21T17:43:26.617742Z",
     "start_time": "2022-01-21T17:43:26.608312Z"
    }
   },
   "outputs": [],
   "source": [
    "class deeplog(nn.Module):\n",
    "    def __init__(self, input_size, hidden_size, num_layers, num_keys):\n",
    "        super(deeplog, self).__init__()\n",
    "        self.hidden_size = hidden_size\n",
    "        self.num_layers = num_layers\n",
    "        self.lstm = nn.LSTM(input_size,\n",
    "                            hidden_size,\n",
    "                            num_layers,\n",
    "                            batch_first=True)\n",
    "        self.fc = nn.Linear(hidden_size, num_keys)\n",
    "\n",
    "    def forward(self, features, device):\n",
    "        input0 = features[0]\n",
    "        h0 = torch.zeros(self.num_layers, input0.size(0),\n",
    "                         self.hidden_size).to(device)\n",
    "        c0 = torch.zeros(self.num_layers, input0.size(0),\n",
    "                         self.hidden_size).to(device)\n",
    "        out, _ = self.lstm(input0, (h0, c0))\n",
    "        out = self.fc(out[:, -1, :])\n",
    "        return out\n",
    "\n",
    "\n",
    "class loganomaly(nn.Module):\n",
    "    def __init__(self, input_size, hidden_size, num_layers, num_keys):\n",
    "        super(loganomaly, self).__init__()\n",
    "        self.hidden_size = hidden_size\n",
    "        self.num_layers = num_layers\n",
    "        self.lstm0 = nn.LSTM(input_size,\n",
    "                             hidden_size,\n",
    "                             num_layers,\n",
    "                             batch_first=True)\n",
    "        self.lstm1 = nn.LSTM(input_size,\n",
    "                             hidden_size,\n",
    "                             num_layers,\n",
    "                             batch_first=True)\n",
    "        self.fc = nn.Linear(2 * hidden_size, num_keys)\n",
    "        self.attention_size = self.hidden_size\n",
    "\n",
    "        self.w_omega = Variable(\n",
    "            torch.zeros(self.hidden_size, self.attention_size))\n",
    "        self.u_omega = Variable(torch.zeros(self.attention_size))\n",
    "\n",
    "        self.sequence_length = 28\n",
    "\n",
    "    def attention_net(self, lstm_output):\n",
    "        output_reshape = torch.Tensor.reshape(lstm_output,\n",
    "                                              [-1, self.hidden_size])\n",
    "        attn_tanh = torch.tanh(torch.mm(output_reshape, self.w_omega))\n",
    "        attn_hidden_layer = torch.mm(\n",
    "            attn_tanh, torch.Tensor.reshape(self.u_omega, [-1, 1]))\n",
    "        exps = torch.Tensor.reshape(torch.exp(attn_hidden_layer),\n",
    "                                    [-1, self.sequence_length])\n",
    "        alphas = exps / torch.Tensor.reshape(torch.sum(exps, 1), [-1, 1])\n",
    "        alphas_reshape = torch.Tensor.reshape(alphas,\n",
    "                                              [-1, self.sequence_length, 1])\n",
    "        state = lstm_output\n",
    "        attn_output = torch.sum(state * alphas_reshape, 1)\n",
    "        return attn_output\n",
    "\n",
    "    def forward(self, features, device):\n",
    "        input0, input1 = features[0], features[1]\n",
    "\n",
    "        h0_0 = torch.zeros(self.num_layers, input0.size(0),\n",
    "                           self.hidden_size).to(device)\n",
    "        c0_0 = torch.zeros(self.num_layers, input0.size(0),\n",
    "                           self.hidden_size).to(device)\n",
    "\n",
    "        out0, _ = self.lstm0(input0, (h0_0, c0_0))\n",
    "\n",
    "        h0_1 = torch.zeros(self.num_layers, input1.size(0),\n",
    "                           self.hidden_size).to(device)\n",
    "        c0_1 = torch.zeros(self.num_layers, input1.size(0),\n",
    "                           self.hidden_size).to(device)\n",
    "\n",
    "        out1, _ = self.lstm1(input1, (h0_1, c0_1))\n",
    "        multi_out = torch.cat((out0[:, -1, :], out1[:, -1, :]), -1)\n",
    "        out = self.fc(multi_out)\n",
    "        return out\n",
    "\n",
    "\n",
    "class robustlog(nn.Module):\n",
    "    def __init__(self, input_size, hidden_size, num_layers, num_keys):\n",
    "        super(robustlog, self).__init__()\n",
    "        self.hidden_size = hidden_size\n",
    "        self.num_layers = num_layers\n",
    "        self.lstm = nn.LSTM(input_size,\n",
    "                            hidden_size,\n",
    "                            num_layers,\n",
    "                            batch_first=True)\n",
    "        self.fc = nn.Linear(hidden_size, num_keys)\n",
    "\n",
    "    def forward(self, features, device):\n",
    "        input0 = features[0]\n",
    "        h0 = torch.zeros(self.num_layers, input0.size(0),\n",
    "                         self.hidden_size).to(device)\n",
    "        c0 = torch.zeros(self.num_layers, input0.size(0),\n",
    "                         self.hidden_size).to(device)\n",
    "        out, _ = self.lstm(input0, (h0, c0))\n",
    "        out = self.fc(out[:, -1, :])\n",
    "        return out\n"
   ]
  },
  {
   "cell_type": "code",
   "execution_count": 8,
   "metadata": {
    "ExecuteTime": {
     "end_time": "2022-01-21T17:43:26.620383Z",
     "start_time": "2022-01-21T17:43:26.618944Z"
    }
   },
   "outputs": [],
   "source": [
    "# def datasplit(args, gpu_id = 1):\n",
    "#     train_loaders = []\n",
    "#     test_loaders = []\n",
    "#     hidden_size = 32\n",
    "#     num_directions = 2\n",
    "#     topk = 5\n",
    "    \n",
    "#     for i in range(args.client_num):\n",
    "#         struct_log = '../../loglizer/data/client_data/client_'+str(i)+\".csv\"\n",
    "#         label_file = '../../loglizer/data/HDFS/anomaly_label.csv' # The anomaly label file\n",
    "        \n",
    "#         (x_train, window_y_train, y_train), (x_test, window_y_test, y_test) = dataloader.load_HDFS(i, struct_log, label_file = label_file, window='session', window_size=args.window_size, train_ratio=args.train_ratio, split_type=args.split_type)\n",
    "#         feature_extractor = Vectorizer()\n",
    "#         train_dataset = feature_extractor.fit_transform(x_train, window_y_train, y_train)\n",
    "#         test_dataset = feature_extractor.transform(x_test, window_y_test, y_test)\n",
    "#         train_loader = Iterator(train_dataset, batch_size=args.batch, shuffle=True, num_workers=args.num_workers).iter\n",
    "#         test_loader = Iterator(test_dataset, batch_size=args.batch, shuffle=False, num_workers=args.num_workers).iter\n",
    "#         train_loaders.append(train_loader)\n",
    "#         test_loaders.append(test_loader)\n",
    "        \n",
    "#     server_model = DeepLog(num_labels=feature_extractor.num_labels, hidden_size=hidden_size, num_directions=num_directions, topk=topk).to(device)\n",
    "    \n",
    "#     return train_loaders, test_loaders, server_model"
   ]
  },
  {
   "cell_type": "code",
   "execution_count": 9,
   "metadata": {
    "ExecuteTime": {
     "end_time": "2022-01-21T17:43:26.622762Z",
     "start_time": "2022-01-21T17:43:26.621336Z"
    }
   },
   "outputs": [],
   "source": [
    "# train_loaders, test_loaders, server_model = datasplit(args, gpu_id = 1)"
   ]
  },
  {
   "cell_type": "markdown",
   "metadata": {},
   "source": [
    "# Federated learning"
   ]
  },
  {
   "cell_type": "code",
   "execution_count": 10,
   "metadata": {
    "ExecuteTime": {
     "end_time": "2022-01-21T17:43:26.631858Z",
     "start_time": "2022-01-21T17:43:26.623508Z"
    }
   },
   "outputs": [],
   "source": [
    "def communication(args, server_model, models, client_weights, v, grad):\n",
    "    if args.mode.lower() == 'fedbn':\n",
    "        with torch.no_grad():\n",
    "            for key in server_model.state_dict().keys():\n",
    "                if 'bn' not in key: #非BN層都去交換\n",
    "                    temp = torch.zeros_like(server_model.state_dict()[key], dtype=torch.float32)\n",
    "                    for client_idx in range(client_num):\n",
    "                        temp += client_weights[client_idx] * models[client_idx].state_dict()[key]\n",
    "                    server_model.state_dict()[key].data.copy_(temp)\n",
    "                    for client_idx in range(client_num):\n",
    "                        models[client_idx].state_dict()[key].data.copy_(server_model.state_dict()[key])\n",
    "    \n",
    "    elif args.mode.lower() == 'fedadagrad':\n",
    "        with torch.no_grad():\n",
    "            for key, param in server_model.named_parameters():\n",
    "                temp = torch.zeros_like(server_model.state_dict()[key])\n",
    "                for client_idx in range(len(client_weights)):\n",
    "                    temp = temp + client_weights[client_idx] * models[client_idx].state_dict()[key]                          \n",
    "                param.grad = temp - param.data              \n",
    "                param.grad = torch.mul(grad[key], args.beta_1) + torch.mul(param.grad, 1-args.beta_1)\n",
    "                grad[key] = param.grad\n",
    "                v[key] = v[key] + param.grad**2\n",
    "                param.data = param.data + torch.mul(torch.div(param.grad, torch.add(torch.sqrt(v[key]),args.tau)), args.server_lr) \n",
    "\n",
    "                for client_idx in range(len(client_weights)):\n",
    "                    models[client_idx].state_dict()[key].data.copy_(server_model.state_dict()[key])            \n",
    "    \n",
    "    elif args.mode.lower() == 'fedadam':\n",
    "        with torch.no_grad():\n",
    "            for key, param in server_model.named_parameters():                \n",
    "                temp = torch.zeros_like(server_model.state_dict()[key])\n",
    "                for client_idx in range(len(client_weights)):\n",
    "                    temp += client_weights[client_idx] * models[client_idx].state_dict()[key]                         \n",
    "                param.grad = temp - param.data              \n",
    "                param.grad = torch.mul(grad[key], args.beta_1) + torch.mul(param.grad, 1-args.beta_1) \n",
    "                grad[key] = param.grad                \n",
    "                v[key] = torch.mul(v[key], args.beta_2) + torch.mul(param.grad**2, 1-args.beta_2)\n",
    "                param.data = param.data + torch.mul(torch.div(param.grad, torch.add(torch.sqrt(v[key]),args.tau)), args.server_lr)\n",
    "                \n",
    "                for client_idx in range(len(client_weights)):\n",
    "                    models[client_idx].state_dict()[key].data.copy_(server_model.state_dict()[key])\n",
    "\n",
    "    else:\n",
    "        with torch.no_grad():\n",
    "            for key in server_model.state_dict().keys():#遇到BN層就直接拿第一個client參數使用\n",
    "                # num_batches_tracked is a non trainable LongTensor and\n",
    "                # num_batches_tracked are the same for all clients for the given datasets\n",
    "                if 'num_batches_tracked' in key:\n",
    "                    server_model.state_dict()[key].data.copy_(models[0].state_dict()[key])\n",
    "                else:\n",
    "                    temp = torch.zeros_like(server_model.state_dict()[key]).to(device)\n",
    "                    for client_idx in range(len(client_weights)):\n",
    "                        temp += client_weights[client_idx] * models[client_idx].state_dict()[key]                        \n",
    "                    server_model.state_dict()[key].data.copy_(temp)#weight傳給server\n",
    "                    for client_idx in range(len(client_weights)):\n",
    "                        models[client_idx].state_dict()[key].data.copy_(server_model.state_dict()[key])        \n",
    "    return server_model, models, v, grad"
   ]
  },
  {
   "cell_type": "code",
   "execution_count": 11,
   "metadata": {
    "ExecuteTime": {
     "end_time": "2022-01-22T13:45:00.915172Z",
     "start_time": "2022-01-21T17:43:26.632699Z"
    }
   },
   "outputs": [
    {
     "name": "stdout",
     "output_type": "stream",
     "text": [
      "============ Train epoch 0 ============\n",
      "Client  0\n",
      "File ../data/hdfs/hdfs_train, number of sessions 971\n",
      "File ../data/hdfs/hdfs_train, number of seqs 9420\n",
      "sampling...\n"
     ]
    },
    {
     "name": "stderr",
     "output_type": "stream",
     "text": [
      "100%|██████████| 1058/1058 [00:00<00:00, 3561.80it/s]\n"
     ]
    },
    {
     "name": "stdout",
     "output_type": "stream",
     "text": [
      "File ../data/hdfs/hdfs_test_normal, number of sessions 110673\n",
      "File ../data/hdfs/hdfs_test_normal, number of seqs 1058\n",
      "Find 9420 train logs, 1058 validation logs\n",
      "Train batch size 2048 ,Validation batch size 2048\n",
      "Starting epoch: 0 | phase: train | ⏰: 01:43:39 | Learning rate: 0.000313\n"
     ]
    },
    {
     "name": "stderr",
     "output_type": "stream",
     "text": [
      "Train loss: 3.29566: 100%|██████████| 5/5 [00:00<00:00, 26.76it/s]\n"
     ]
    },
    {
     "name": "stdout",
     "output_type": "stream",
     "text": [
      "Starting epoch: 0 | phase: valid | ⏰: 01:43:40 \n"
     ]
    },
    {
     "name": "stderr",
     "output_type": "stream",
     "text": [
      ": 100%|██████████| 1/1 [00:00<00:00, 50.97it/s]\n"
     ]
    },
    {
     "name": "stdout",
     "output_type": "stream",
     "text": [
      "Validation loss: 3.261916160583496\n",
      "Client  1\n",
      "File ../data/hdfs/hdfs_train, number of sessions 971\n",
      "File ../data/hdfs/hdfs_train, number of seqs 9080\n",
      "sampling...\n"
     ]
    },
    {
     "name": "stderr",
     "output_type": "stream",
     "text": [
      "100%|██████████| 1046/1046 [00:00<00:00, 3423.12it/s]\n"
     ]
    },
    {
     "name": "stdout",
     "output_type": "stream",
     "text": [
      "File ../data/hdfs/hdfs_test_normal, number of sessions 110673\n",
      "File ../data/hdfs/hdfs_test_normal, number of seqs 1046\n",
      "Find 9080 train logs, 1046 validation logs\n",
      "Train batch size 2048 ,Validation batch size 2048\n",
      "Starting epoch: 0 | phase: train | ⏰: 01:43:51 | Learning rate: 0.000313\n"
     ]
    },
    {
     "name": "stderr",
     "output_type": "stream",
     "text": [
      "Train loss: 3.29504: 100%|██████████| 5/5 [00:00<00:00, 30.07it/s]\n"
     ]
    },
    {
     "name": "stdout",
     "output_type": "stream",
     "text": [
      "Starting epoch: 0 | phase: valid | ⏰: 01:43:51 \n"
     ]
    },
    {
     "name": "stderr",
     "output_type": "stream",
     "text": [
      ": 100%|██████████| 1/1 [00:00<00:00, 51.65it/s]\n"
     ]
    },
    {
     "name": "stdout",
     "output_type": "stream",
     "text": [
      "Validation loss: 3.261573553085327\n",
      "Client  2\n",
      "File ../data/hdfs/hdfs_train, number of sessions 971\n",
      "File ../data/hdfs/hdfs_train, number of seqs 9485\n",
      "sampling...\n"
     ]
    },
    {
     "name": "stderr",
     "output_type": "stream",
     "text": [
      "100%|██████████| 1051/1051 [00:00<00:00, 3581.15it/s]\n"
     ]
    },
    {
     "name": "stdout",
     "output_type": "stream",
     "text": [
      "File ../data/hdfs/hdfs_test_normal, number of sessions 110673\n",
      "File ../data/hdfs/hdfs_test_normal, number of seqs 1051\n",
      "Find 9485 train logs, 1051 validation logs\n",
      "Train batch size 2048 ,Validation batch size 2048\n",
      "Starting epoch: 0 | phase: train | ⏰: 01:44:03 | Learning rate: 0.000313\n"
     ]
    },
    {
     "name": "stderr",
     "output_type": "stream",
     "text": [
      "Train loss: 3.29472: 100%|██████████| 5/5 [00:00<00:00, 28.81it/s]\n"
     ]
    },
    {
     "name": "stdout",
     "output_type": "stream",
     "text": [
      "Starting epoch: 0 | phase: valid | ⏰: 01:44:03 \n"
     ]
    },
    {
     "name": "stderr",
     "output_type": "stream",
     "text": [
      ": 100%|██████████| 1/1 [00:00<00:00, 56.99it/s]\n"
     ]
    },
    {
     "name": "stdout",
     "output_type": "stream",
     "text": [
      "Validation loss: 3.261467695236206\n",
      "Client  3\n",
      "File ../data/hdfs/hdfs_train, number of sessions 971\n",
      "File ../data/hdfs/hdfs_train, number of seqs 9267\n",
      "sampling...\n"
     ]
    },
    {
     "name": "stderr",
     "output_type": "stream",
     "text": [
      "100%|██████████| 1057/1057 [00:00<00:00, 3531.99it/s]\n"
     ]
    },
    {
     "name": "stdout",
     "output_type": "stream",
     "text": [
      "File ../data/hdfs/hdfs_test_normal, number of sessions 110673\n",
      "File ../data/hdfs/hdfs_test_normal, number of seqs 1057\n",
      "Find 9267 train logs, 1057 validation logs\n",
      "Train batch size 2048 ,Validation batch size 2048\n",
      "Starting epoch: 0 | phase: train | ⏰: 01:44:15 | Learning rate: 0.000313\n"
     ]
    },
    {
     "name": "stderr",
     "output_type": "stream",
     "text": [
      "Train loss: 3.29549: 100%|██████████| 5/5 [00:00<00:00, 29.39it/s]\n"
     ]
    },
    {
     "name": "stdout",
     "output_type": "stream",
     "text": [
      "Starting epoch: 0 | phase: valid | ⏰: 01:44:15 \n"
     ]
    },
    {
     "name": "stderr",
     "output_type": "stream",
     "text": [
      ": 100%|██████████| 1/1 [00:00<00:00, 58.40it/s]\n"
     ]
    },
    {
     "name": "stdout",
     "output_type": "stream",
     "text": [
      "Validation loss: 3.2637834548950195\n",
      "Client  4\n",
      "File ../data/hdfs/hdfs_train, number of sessions 971\n",
      "File ../data/hdfs/hdfs_train, number of seqs 9323\n",
      "sampling...\n"
     ]
    },
    {
     "name": "stderr",
     "output_type": "stream",
     "text": [
      "100%|██████████| 1044/1044 [00:00<00:00, 3424.54it/s]\n"
     ]
    },
    {
     "name": "stdout",
     "output_type": "stream",
     "text": [
      "File ../data/hdfs/hdfs_test_normal, number of sessions 110673\n",
      "File ../data/hdfs/hdfs_test_normal, number of seqs 1044\n",
      "Find 9323 train logs, 1044 validation logs\n",
      "Train batch size 2048 ,Validation batch size 2048\n",
      "Starting epoch: 0 | phase: train | ⏰: 01:44:26 | Learning rate: 0.000313\n"
     ]
    },
    {
     "name": "stderr",
     "output_type": "stream",
     "text": [
      "Train loss: 3.29565: 100%|██████████| 5/5 [00:00<00:00, 28.17it/s]\n"
     ]
    },
    {
     "name": "stdout",
     "output_type": "stream",
     "text": [
      "Starting epoch: 0 | phase: valid | ⏰: 01:44:27 \n"
     ]
    },
    {
     "name": "stderr",
     "output_type": "stream",
     "text": [
      ": 100%|██████████| 1/1 [00:00<00:00, 56.27it/s]\n"
     ]
    },
    {
     "name": "stdout",
     "output_type": "stream",
     "text": [
      "Validation loss: 3.2644176483154297\n",
      "============ Test epoch 0 ============\n",
      "Client  0\n",
      "Number of sessions(hdfs_test_normal): 5813\n",
      "Number of sessions(hdfs_test_abnormal): 1136\n"
     ]
    },
    {
     "name": "stderr",
     "output_type": "stream",
     "text": [
      "100%|██████████| 5813/5813 [01:02<00:00, 93.02it/s] \n",
      "100%|██████████| 1136/1136 [00:10<00:00, 112.09it/s]\n"
     ]
    },
    {
     "name": "stdout",
     "output_type": "stream",
     "text": [
      "false positive (FP): 103274, false negative (FN): 4, Precision: 3.154%, Recall: 99.881%, F1-measure: 6.114%\n",
      "actual positive (TP+FN): 3367, actual negative (FP+TN): 110673\n",
      "accuracy: 9.437\n",
      "Finished Predicting\n",
      "elapsed_time: 72.62830686569214\n",
      "Client  1\n",
      "Number of sessions(hdfs_test_normal): 5574\n",
      "Number of sessions(hdfs_test_abnormal): 1139\n"
     ]
    },
    {
     "name": "stderr",
     "output_type": "stream",
     "text": [
      "100%|██████████| 5574/5574 [00:59<00:00, 93.10it/s] \n",
      "100%|██████████| 1139/1139 [00:10<00:00, 108.20it/s]\n"
     ]
    },
    {
     "name": "stdout",
     "output_type": "stream",
     "text": [
      "false positive (FP): 103838, false negative (FN): 3, Precision: 3.138%, Recall: 99.911%, F1-measure: 6.085%\n",
      "actual positive (TP+FN): 3367, actual negative (FP+TN): 110673\n",
      "accuracy: 8.943\n",
      "Finished Predicting\n",
      "elapsed_time: 70.39806914329529\n",
      "Client  2\n",
      "Number of sessions(hdfs_test_normal): 5730\n",
      "Number of sessions(hdfs_test_abnormal): 1118\n"
     ]
    },
    {
     "name": "stderr",
     "output_type": "stream",
     "text": [
      "100%|██████████| 5730/5730 [01:01<00:00, 92.89it/s] \n",
      "100%|██████████| 1118/1118 [00:10<00:00, 109.79it/s]\n"
     ]
    },
    {
     "name": "stdout",
     "output_type": "stream",
     "text": [
      "false positive (FP): 103494, false negative (FN): 5, Precision: 3.146%, Recall: 99.851%, F1-measure: 6.100%\n",
      "actual positive (TP+FN): 3367, actual negative (FP+TN): 110673\n",
      "accuracy: 9.243\n",
      "Finished Predicting\n",
      "elapsed_time: 71.86928296089172\n",
      "Client  3\n",
      "Number of sessions(hdfs_test_normal): 5747\n",
      "Number of sessions(hdfs_test_abnormal): 1159\n"
     ]
    },
    {
     "name": "stderr",
     "output_type": "stream",
     "text": [
      "100%|██████████| 5747/5747 [01:03<00:00, 90.86it/s] \n",
      "100%|██████████| 1159/1159 [00:10<00:00, 113.92it/s]\n"
     ]
    },
    {
     "name": "stdout",
     "output_type": "stream",
     "text": [
      "false positive (FP): 103369, false negative (FN): 2, Precision: 3.153%, Recall: 99.941%, F1-measure: 6.113%\n",
      "actual positive (TP+FN): 3367, actual negative (FP+TN): 110673\n",
      "accuracy: 9.355\n",
      "Finished Predicting\n",
      "elapsed_time: 73.42704677581787\n",
      "Client  4\n",
      "Number of sessions(hdfs_test_normal): 5623\n",
      "Number of sessions(hdfs_test_abnormal): 1121\n"
     ]
    },
    {
     "name": "stderr",
     "output_type": "stream",
     "text": [
      "100%|██████████| 5623/5623 [01:03<00:00, 88.92it/s] \n",
      "100%|██████████| 1121/1121 [00:09<00:00, 117.11it/s]\n"
     ]
    },
    {
     "name": "stdout",
     "output_type": "stream",
     "text": [
      "false positive (FP): 103685, false negative (FN): 3, Precision: 3.142%, Recall: 99.911%, F1-measure: 6.093%\n",
      "actual positive (TP+FN): 3367, actual negative (FP+TN): 110673\n",
      "accuracy: 9.078\n",
      "Finished Predicting\n",
      "elapsed_time: 72.81361413002014\n",
      "============ Train epoch 1 ============\n",
      "Client  0\n",
      "File ../data/hdfs/hdfs_train, number of sessions 971\n",
      "File ../data/hdfs/hdfs_train, number of seqs 9420\n",
      "sampling...\n"
     ]
    },
    {
     "name": "stderr",
     "output_type": "stream",
     "text": [
      "100%|██████████| 1058/1058 [00:00<00:00, 3538.42it/s]\n"
     ]
    },
    {
     "name": "stdout",
     "output_type": "stream",
     "text": [
      "File ../data/hdfs/hdfs_test_normal, number of sessions 110673\n",
      "File ../data/hdfs/hdfs_test_normal, number of seqs 1058\n",
      "Find 9420 train logs, 1058 validation logs\n",
      "Train batch size 2048 ,Validation batch size 2048\n",
      "Starting epoch: 0 | phase: train | ⏰: 01:50:43 | Learning rate: 0.000313\n"
     ]
    },
    {
     "name": "stderr",
     "output_type": "stream",
     "text": [
      "Train loss: 3.23753: 100%|██████████| 5/5 [00:00<00:00, 27.65it/s]\n"
     ]
    },
    {
     "name": "stdout",
     "output_type": "stream",
     "text": [
      "Starting epoch: 0 | phase: valid | ⏰: 01:50:43 \n"
     ]
    },
    {
     "name": "stderr",
     "output_type": "stream",
     "text": [
      ": 100%|██████████| 1/1 [00:00<00:00, 54.03it/s]\n"
     ]
    },
    {
     "name": "stdout",
     "output_type": "stream",
     "text": [
      "Validation loss: 3.198157548904419\n",
      "Client  1\n",
      "File ../data/hdfs/hdfs_train, number of sessions 971\n",
      "File ../data/hdfs/hdfs_train, number of seqs 9080\n",
      "sampling...\n"
     ]
    },
    {
     "name": "stderr",
     "output_type": "stream",
     "text": [
      "100%|██████████| 1046/1046 [00:00<00:00, 3531.90it/s]\n"
     ]
    },
    {
     "name": "stdout",
     "output_type": "stream",
     "text": [
      "File ../data/hdfs/hdfs_test_normal, number of sessions 110673\n",
      "File ../data/hdfs/hdfs_test_normal, number of seqs 1046\n",
      "Find 9080 train logs, 1046 validation logs\n",
      "Train batch size 2048 ,Validation batch size 2048\n",
      "Starting epoch: 0 | phase: train | ⏰: 01:50:54 | Learning rate: 0.000313\n"
     ]
    },
    {
     "name": "stderr",
     "output_type": "stream",
     "text": [
      "Train loss: 3.23693: 100%|██████████| 5/5 [00:00<00:00, 27.59it/s]\n"
     ]
    },
    {
     "name": "stdout",
     "output_type": "stream",
     "text": [
      "Starting epoch: 0 | phase: valid | ⏰: 01:50:54 \n"
     ]
    },
    {
     "name": "stderr",
     "output_type": "stream",
     "text": [
      ": 100%|██████████| 1/1 [00:00<00:00, 55.33it/s]\n"
     ]
    },
    {
     "name": "stdout",
     "output_type": "stream",
     "text": [
      "Validation loss: 3.200608730316162\n",
      "Client  2\n",
      "File ../data/hdfs/hdfs_train, number of sessions 971\n",
      "File ../data/hdfs/hdfs_train, number of seqs 9485\n",
      "sampling...\n"
     ]
    },
    {
     "name": "stderr",
     "output_type": "stream",
     "text": [
      "100%|██████████| 1051/1051 [00:00<00:00, 3420.68it/s]\n"
     ]
    },
    {
     "name": "stdout",
     "output_type": "stream",
     "text": [
      "File ../data/hdfs/hdfs_test_normal, number of sessions 110673\n",
      "File ../data/hdfs/hdfs_test_normal, number of seqs 1051\n",
      "Find 9485 train logs, 1051 validation logs\n",
      "Train batch size 2048 ,Validation batch size 2048\n",
      "Starting epoch: 0 | phase: train | ⏰: 01:51:06 | Learning rate: 0.000313\n"
     ]
    },
    {
     "name": "stderr",
     "output_type": "stream",
     "text": [
      "Train loss: 3.23714: 100%|██████████| 5/5 [00:00<00:00, 26.68it/s]\n"
     ]
    },
    {
     "name": "stdout",
     "output_type": "stream",
     "text": [
      "Starting epoch: 0 | phase: valid | ⏰: 01:51:06 \n"
     ]
    },
    {
     "name": "stderr",
     "output_type": "stream",
     "text": [
      ": 100%|██████████| 1/1 [00:00<00:00, 55.82it/s]\n"
     ]
    },
    {
     "name": "stdout",
     "output_type": "stream",
     "text": [
      "Validation loss: 3.197699546813965\n",
      "Client  3\n",
      "File ../data/hdfs/hdfs_train, number of sessions 971\n",
      "File ../data/hdfs/hdfs_train, number of seqs 9267\n",
      "sampling...\n"
     ]
    },
    {
     "name": "stderr",
     "output_type": "stream",
     "text": [
      "100%|██████████| 1057/1057 [00:00<00:00, 3131.49it/s]\n"
     ]
    },
    {
     "name": "stdout",
     "output_type": "stream",
     "text": [
      "File ../data/hdfs/hdfs_test_normal, number of sessions 110673\n",
      "File ../data/hdfs/hdfs_test_normal, number of seqs 1057\n",
      "Find 9267 train logs, 1057 validation logs\n",
      "Train batch size 2048 ,Validation batch size 2048\n",
      "Starting epoch: 0 | phase: train | ⏰: 01:51:18 | Learning rate: 0.000313\n"
     ]
    },
    {
     "name": "stderr",
     "output_type": "stream",
     "text": [
      "Train loss: 3.23712: 100%|██████████| 5/5 [00:00<00:00, 28.66it/s]\n"
     ]
    },
    {
     "name": "stdout",
     "output_type": "stream",
     "text": [
      "Starting epoch: 0 | phase: valid | ⏰: 01:51:18 \n"
     ]
    },
    {
     "name": "stderr",
     "output_type": "stream",
     "text": [
      ": 100%|██████████| 1/1 [00:00<00:00, 53.62it/s]\n"
     ]
    },
    {
     "name": "stdout",
     "output_type": "stream",
     "text": [
      "Validation loss: 3.197816848754883\n",
      "Client  4\n",
      "File ../data/hdfs/hdfs_train, number of sessions 971\n",
      "File ../data/hdfs/hdfs_train, number of seqs 9323\n",
      "sampling...\n"
     ]
    },
    {
     "name": "stderr",
     "output_type": "stream",
     "text": [
      "100%|██████████| 1044/1044 [00:00<00:00, 3308.44it/s]\n"
     ]
    },
    {
     "name": "stdout",
     "output_type": "stream",
     "text": [
      "File ../data/hdfs/hdfs_test_normal, number of sessions 110673\n",
      "File ../data/hdfs/hdfs_test_normal, number of seqs 1044\n",
      "Find 9323 train logs, 1044 validation logs\n",
      "Train batch size 2048 ,Validation batch size 2048\n",
      "Starting epoch: 0 | phase: train | ⏰: 01:51:30 | Learning rate: 0.000313\n"
     ]
    },
    {
     "name": "stderr",
     "output_type": "stream",
     "text": [
      "Train loss: 3.23694: 100%|██████████| 5/5 [00:00<00:00, 27.99it/s]\n"
     ]
    },
    {
     "name": "stdout",
     "output_type": "stream",
     "text": [
      "Starting epoch: 0 | phase: valid | ⏰: 01:51:30 \n"
     ]
    },
    {
     "name": "stderr",
     "output_type": "stream",
     "text": [
      ": 100%|██████████| 1/1 [00:00<00:00, 56.48it/s]\n"
     ]
    },
    {
     "name": "stdout",
     "output_type": "stream",
     "text": [
      "Validation loss: 3.195781707763672\n",
      "============ Test epoch 1 ============\n",
      "Client  0\n",
      "Number of sessions(hdfs_test_normal): 5813\n",
      "Number of sessions(hdfs_test_abnormal): 1136\n"
     ]
    },
    {
     "name": "stderr",
     "output_type": "stream",
     "text": [
      "100%|██████████| 5813/5813 [02:19<00:00, 41.80it/s]\n",
      "100%|██████████| 1136/1136 [00:23<00:00, 48.02it/s]\n"
     ]
    },
    {
     "name": "stdout",
     "output_type": "stream",
     "text": [
      "false positive (FP): 26078, false negative (FN): 18, Precision: 11.381%, Recall: 99.465%, F1-measure: 20.424%\n",
      "actual positive (TP+FN): 3367, actual negative (FP+TN): 110673\n",
      "accuracy: 77.117\n",
      "Finished Predicting\n",
      "elapsed_time: 162.71694540977478\n",
      "Client  1\n",
      "Number of sessions(hdfs_test_normal): 5574\n",
      "Number of sessions(hdfs_test_abnormal): 1139\n"
     ]
    },
    {
     "name": "stderr",
     "output_type": "stream",
     "text": [
      "100%|██████████| 5574/5574 [02:02<00:00, 45.34it/s]\n",
      "100%|██████████| 1139/1139 [00:24<00:00, 45.63it/s]\n"
     ]
    },
    {
     "name": "stdout",
     "output_type": "stream",
     "text": [
      "false positive (FP): 24953, false negative (FN): 23, Precision: 11.818%, Recall: 99.317%, F1-measure: 21.122%\n",
      "actual positive (TP+FN): 3367, actual negative (FP+TN): 110673\n",
      "accuracy: 78.099\n",
      "Finished Predicting\n",
      "elapsed_time: 147.90020394325256\n",
      "Client  2\n",
      "Number of sessions(hdfs_test_normal): 5730\n",
      "Number of sessions(hdfs_test_abnormal): 1118\n"
     ]
    },
    {
     "name": "stderr",
     "output_type": "stream",
     "text": [
      "100%|██████████| 5730/5730 [02:25<00:00, 39.41it/s]\n",
      "100%|██████████| 1118/1118 [00:23<00:00, 48.11it/s]\n"
     ]
    },
    {
     "name": "stdout",
     "output_type": "stream",
     "text": [
      "false positive (FP): 25429, false negative (FN): 23, Precision: 11.622%, Recall: 99.317%, F1-measure: 20.809%\n",
      "actual positive (TP+FN): 3367, actual negative (FP+TN): 110673\n",
      "accuracy: 77.682\n",
      "Finished Predicting\n",
      "elapsed_time: 168.63075733184814\n",
      "Client  3\n",
      "Number of sessions(hdfs_test_normal): 5747\n",
      "Number of sessions(hdfs_test_abnormal): 1159\n"
     ]
    },
    {
     "name": "stderr",
     "output_type": "stream",
     "text": [
      "100%|██████████| 5747/5747 [02:28<00:00, 38.78it/s]\n",
      "100%|██████████| 1159/1159 [00:25<00:00, 44.86it/s]\n"
     ]
    },
    {
     "name": "stdout",
     "output_type": "stream",
     "text": [
      "false positive (FP): 25722, false negative (FN): 20, Precision: 11.514%, Recall: 99.406%, F1-measure: 20.638%\n",
      "actual positive (TP+FN): 3367, actual negative (FP+TN): 110673\n",
      "accuracy: 77.427\n",
      "Finished Predicting\n",
      "elapsed_time: 174.0415060520172\n",
      "Client  4\n",
      "Number of sessions(hdfs_test_normal): 5623\n",
      "Number of sessions(hdfs_test_abnormal): 1121\n"
     ]
    },
    {
     "name": "stderr",
     "output_type": "stream",
     "text": [
      "100%|██████████| 5623/5623 [02:25<00:00, 38.76it/s]\n",
      "100%|██████████| 1121/1121 [00:23<00:00, 47.41it/s]\n"
     ]
    },
    {
     "name": "stdout",
     "output_type": "stream",
     "text": [
      "false positive (FP): 24878, false negative (FN): 23, Precision: 11.849%, Recall: 99.317%, F1-measure: 21.172%\n",
      "actual positive (TP+FN): 3367, actual negative (FP+TN): 110673\n",
      "accuracy: 78.165\n",
      "Finished Predicting\n",
      "elapsed_time: 168.72770595550537\n",
      "============ Train epoch 2 ============\n",
      "Client  0\n",
      "File ../data/hdfs/hdfs_train, number of sessions 971\n",
      "File ../data/hdfs/hdfs_train, number of seqs 9420\n",
      "sampling...\n"
     ]
    },
    {
     "name": "stderr",
     "output_type": "stream",
     "text": [
      "100%|██████████| 1058/1058 [00:00<00:00, 3458.02it/s]\n"
     ]
    },
    {
     "name": "stdout",
     "output_type": "stream",
     "text": [
      "File ../data/hdfs/hdfs_test_normal, number of sessions 110673\n",
      "File ../data/hdfs/hdfs_test_normal, number of seqs 1058\n",
      "Find 9420 train logs, 1058 validation logs\n",
      "Train batch size 2048 ,Validation batch size 2048\n",
      "Starting epoch: 0 | phase: train | ⏰: 02:05:27 | Learning rate: 0.000313\n"
     ]
    },
    {
     "name": "stderr",
     "output_type": "stream",
     "text": [
      "Train loss: 3.17257: 100%|██████████| 5/5 [00:00<00:00, 27.31it/s]\n"
     ]
    },
    {
     "name": "stdout",
     "output_type": "stream",
     "text": [
      "Starting epoch: 0 | phase: valid | ⏰: 02:05:27 \n"
     ]
    },
    {
     "name": "stderr",
     "output_type": "stream",
     "text": [
      ": 100%|██████████| 1/1 [00:00<00:00, 52.92it/s]\n"
     ]
    },
    {
     "name": "stdout",
     "output_type": "stream",
     "text": [
      "Validation loss: 3.1263649463653564\n",
      "Client  1\n",
      "File ../data/hdfs/hdfs_train, number of sessions 971\n",
      "File ../data/hdfs/hdfs_train, number of seqs 9080\n",
      "sampling...\n"
     ]
    },
    {
     "name": "stderr",
     "output_type": "stream",
     "text": [
      "100%|██████████| 1046/1046 [00:00<00:00, 3480.92it/s]\n"
     ]
    },
    {
     "name": "stdout",
     "output_type": "stream",
     "text": [
      "File ../data/hdfs/hdfs_test_normal, number of sessions 110673\n",
      "File ../data/hdfs/hdfs_test_normal, number of seqs 1046\n",
      "Find 9080 train logs, 1046 validation logs\n",
      "Train batch size 2048 ,Validation batch size 2048\n",
      "Starting epoch: 0 | phase: train | ⏰: 02:05:39 | Learning rate: 0.000313\n"
     ]
    },
    {
     "name": "stderr",
     "output_type": "stream",
     "text": [
      "Train loss: 3.17235: 100%|██████████| 5/5 [00:00<00:00, 27.88it/s]\n"
     ]
    },
    {
     "name": "stdout",
     "output_type": "stream",
     "text": [
      "Starting epoch: 0 | phase: valid | ⏰: 02:05:39 \n"
     ]
    },
    {
     "name": "stderr",
     "output_type": "stream",
     "text": [
      ": 100%|██████████| 1/1 [00:00<00:00, 52.68it/s]\n"
     ]
    },
    {
     "name": "stdout",
     "output_type": "stream",
     "text": [
      "Validation loss: 3.127129316329956\n",
      "Client  2\n",
      "File ../data/hdfs/hdfs_train, number of sessions 971\n",
      "File ../data/hdfs/hdfs_train, number of seqs 9485\n",
      "sampling...\n"
     ]
    },
    {
     "name": "stderr",
     "output_type": "stream",
     "text": [
      "100%|██████████| 1051/1051 [00:00<00:00, 3486.12it/s]\n"
     ]
    },
    {
     "name": "stdout",
     "output_type": "stream",
     "text": [
      "File ../data/hdfs/hdfs_test_normal, number of sessions 110673\n",
      "File ../data/hdfs/hdfs_test_normal, number of seqs 1051\n",
      "Find 9485 train logs, 1051 validation logs\n",
      "Train batch size 2048 ,Validation batch size 2048\n",
      "Starting epoch: 0 | phase: train | ⏰: 02:05:50 | Learning rate: 0.000313\n"
     ]
    },
    {
     "name": "stderr",
     "output_type": "stream",
     "text": [
      "Train loss: 3.17266: 100%|██████████| 5/5 [00:00<00:00, 26.64it/s]\n"
     ]
    },
    {
     "name": "stdout",
     "output_type": "stream",
     "text": [
      "Starting epoch: 0 | phase: valid | ⏰: 02:05:51 \n"
     ]
    },
    {
     "name": "stderr",
     "output_type": "stream",
     "text": [
      ": 100%|██████████| 1/1 [00:00<00:00, 55.04it/s]\n"
     ]
    },
    {
     "name": "stdout",
     "output_type": "stream",
     "text": [
      "Validation loss: 3.130436420440674\n",
      "Client  3\n",
      "File ../data/hdfs/hdfs_train, number of sessions 971\n",
      "File ../data/hdfs/hdfs_train, number of seqs 9267\n",
      "sampling...\n"
     ]
    },
    {
     "name": "stderr",
     "output_type": "stream",
     "text": [
      "100%|██████████| 1057/1057 [00:00<00:00, 3571.19it/s]\n"
     ]
    },
    {
     "name": "stdout",
     "output_type": "stream",
     "text": [
      "File ../data/hdfs/hdfs_test_normal, number of sessions 110673\n",
      "File ../data/hdfs/hdfs_test_normal, number of seqs 1057\n",
      "Find 9267 train logs, 1057 validation logs\n",
      "Train batch size 2048 ,Validation batch size 2048\n",
      "Starting epoch: 0 | phase: train | ⏰: 02:06:02 | Learning rate: 0.000313\n"
     ]
    },
    {
     "name": "stderr",
     "output_type": "stream",
     "text": [
      "Train loss: 3.17262: 100%|██████████| 5/5 [00:00<00:00, 27.19it/s]\n"
     ]
    },
    {
     "name": "stdout",
     "output_type": "stream",
     "text": [
      "Starting epoch: 0 | phase: valid | ⏰: 02:06:02 \n"
     ]
    },
    {
     "name": "stderr",
     "output_type": "stream",
     "text": [
      ": 100%|██████████| 1/1 [00:00<00:00, 53.23it/s]\n"
     ]
    },
    {
     "name": "stdout",
     "output_type": "stream",
     "text": [
      "Validation loss: 3.125885486602783\n",
      "Client  4\n",
      "File ../data/hdfs/hdfs_train, number of sessions 971\n",
      "File ../data/hdfs/hdfs_train, number of seqs 9323\n",
      "sampling...\n"
     ]
    },
    {
     "name": "stderr",
     "output_type": "stream",
     "text": [
      "100%|██████████| 1044/1044 [00:00<00:00, 3539.69it/s]\n"
     ]
    },
    {
     "name": "stdout",
     "output_type": "stream",
     "text": [
      "File ../data/hdfs/hdfs_test_normal, number of sessions 110673\n",
      "File ../data/hdfs/hdfs_test_normal, number of seqs 1044\n",
      "Find 9323 train logs, 1044 validation logs\n",
      "Train batch size 2048 ,Validation batch size 2048\n",
      "Starting epoch: 0 | phase: train | ⏰: 02:06:14 | Learning rate: 0.000313\n"
     ]
    },
    {
     "name": "stderr",
     "output_type": "stream",
     "text": [
      "Train loss: 3.17226: 100%|██████████| 5/5 [00:00<00:00, 27.53it/s]\n"
     ]
    },
    {
     "name": "stdout",
     "output_type": "stream",
     "text": [
      "Starting epoch: 0 | phase: valid | ⏰: 02:06:14 \n"
     ]
    },
    {
     "name": "stderr",
     "output_type": "stream",
     "text": [
      ": 100%|██████████| 1/1 [00:00<00:00, 52.64it/s]\n"
     ]
    },
    {
     "name": "stdout",
     "output_type": "stream",
     "text": [
      "Validation loss: 3.1335463523864746\n",
      "============ Test epoch 2 ============\n",
      "Client  0\n",
      "Number of sessions(hdfs_test_normal): 5813\n",
      "Number of sessions(hdfs_test_abnormal): 1136\n"
     ]
    },
    {
     "name": "stderr",
     "output_type": "stream",
     "text": [
      "100%|██████████| 5813/5813 [03:00<00:00, 32.23it/s]\n",
      "100%|██████████| 1136/1136 [00:25<00:00, 44.58it/s]\n"
     ]
    },
    {
     "name": "stdout",
     "output_type": "stream",
     "text": [
      "false positive (FP): 21967, false negative (FN): 19, Precision: 13.225%, Recall: 99.436%, F1-measure: 23.346%\n",
      "actual positive (TP+FN): 3367, actual negative (FP+TN): 110673\n",
      "accuracy: 80.721\n",
      "Finished Predicting\n",
      "elapsed_time: 205.8559432029724\n",
      "Client  1\n",
      "Number of sessions(hdfs_test_normal): 5574\n",
      "Number of sessions(hdfs_test_abnormal): 1139\n"
     ]
    },
    {
     "name": "stderr",
     "output_type": "stream",
     "text": [
      "100%|██████████| 5574/5574 [02:33<00:00, 36.23it/s]\n",
      "100%|██████████| 1139/1139 [00:27<00:00, 41.95it/s]\n"
     ]
    },
    {
     "name": "stdout",
     "output_type": "stream",
     "text": [
      "false positive (FP): 21184, false negative (FN): 21, Precision: 13.640%, Recall: 99.376%, F1-measure: 23.988%\n",
      "actual positive (TP+FN): 3367, actual negative (FP+TN): 110673\n",
      "accuracy: 81.406\n",
      "Finished Predicting\n",
      "elapsed_time: 181.00633573532104\n",
      "Client  2\n",
      "Number of sessions(hdfs_test_normal): 5730\n",
      "Number of sessions(hdfs_test_abnormal): 1118\n"
     ]
    },
    {
     "name": "stderr",
     "output_type": "stream",
     "text": [
      "100%|██████████| 5730/5730 [02:57<00:00, 32.35it/s]\n",
      "100%|██████████| 1118/1118 [00:25<00:00, 43.21it/s]\n"
     ]
    },
    {
     "name": "stdout",
     "output_type": "stream",
     "text": [
      "false positive (FP): 21604, false negative (FN): 23, Precision: 13.404%, Recall: 99.317%, F1-measure: 23.620%\n",
      "actual positive (TP+FN): 3367, actual negative (FP+TN): 110673\n",
      "accuracy: 81.036\n",
      "Finished Predicting\n",
      "elapsed_time: 202.99173760414124\n",
      "Client  3\n",
      "Number of sessions(hdfs_test_normal): 5747\n",
      "Number of sessions(hdfs_test_abnormal): 1159\n"
     ]
    },
    {
     "name": "stderr",
     "output_type": "stream",
     "text": [
      "100%|██████████| 5747/5747 [02:58<00:00, 32.17it/s]\n",
      "100%|██████████| 1159/1159 [00:27<00:00, 41.59it/s]\n"
     ]
    },
    {
     "name": "stdout",
     "output_type": "stream",
     "text": [
      "false positive (FP): 21812, false negative (FN): 21, Precision: 13.300%, Recall: 99.376%, F1-measure: 23.460%\n",
      "actual positive (TP+FN): 3367, actual negative (FP+TN): 110673\n",
      "accuracy: 80.855\n",
      "Finished Predicting\n",
      "elapsed_time: 206.49207997322083\n",
      "Client  4\n",
      "Number of sessions(hdfs_test_normal): 5623\n",
      "Number of sessions(hdfs_test_abnormal): 1121\n"
     ]
    },
    {
     "name": "stderr",
     "output_type": "stream",
     "text": [
      "100%|██████████| 5623/5623 [02:35<00:00, 36.13it/s]\n",
      "100%|██████████| 1121/1121 [00:25<00:00, 43.75it/s]\n"
     ]
    },
    {
     "name": "stdout",
     "output_type": "stream",
     "text": [
      "false positive (FP): 21202, false negative (FN): 25, Precision: 13.616%, Recall: 99.257%, F1-measure: 23.948%\n",
      "actual positive (TP+FN): 3367, actual negative (FP+TN): 110673\n",
      "accuracy: 81.386\n",
      "Finished Predicting\n",
      "elapsed_time: 181.27449417114258\n",
      "============ Train epoch 3 ============\n",
      "Client  0\n",
      "File ../data/hdfs/hdfs_train, number of sessions 971\n",
      "File ../data/hdfs/hdfs_train, number of seqs 9420\n",
      "sampling...\n"
     ]
    },
    {
     "name": "stderr",
     "output_type": "stream",
     "text": [
      "100%|██████████| 1058/1058 [00:00<00:00, 3539.45it/s]\n"
     ]
    },
    {
     "name": "stdout",
     "output_type": "stream",
     "text": [
      "File ../data/hdfs/hdfs_test_normal, number of sessions 110673\n",
      "File ../data/hdfs/hdfs_test_normal, number of seqs 1058\n",
      "Find 9420 train logs, 1058 validation logs\n",
      "Train batch size 2048 ,Validation batch size 2048\n",
      "Starting epoch: 0 | phase: train | ⏰: 02:22:46 | Learning rate: 0.000313\n"
     ]
    },
    {
     "name": "stderr",
     "output_type": "stream",
     "text": [
      "Train loss: 3.09586: 100%|██████████| 5/5 [00:00<00:00, 27.40it/s]\n"
     ]
    },
    {
     "name": "stdout",
     "output_type": "stream",
     "text": [
      "Starting epoch: 0 | phase: valid | ⏰: 02:22:47 \n"
     ]
    },
    {
     "name": "stderr",
     "output_type": "stream",
     "text": [
      ": 100%|██████████| 1/1 [00:00<00:00, 50.25it/s]\n"
     ]
    },
    {
     "name": "stdout",
     "output_type": "stream",
     "text": [
      "Validation loss: 3.041959524154663\n",
      "Client  1\n",
      "File ../data/hdfs/hdfs_train, number of sessions 971\n",
      "File ../data/hdfs/hdfs_train, number of seqs 9080\n",
      "sampling...\n"
     ]
    },
    {
     "name": "stderr",
     "output_type": "stream",
     "text": [
      "100%|██████████| 1046/1046 [00:00<00:00, 3489.90it/s]\n"
     ]
    },
    {
     "name": "stdout",
     "output_type": "stream",
     "text": [
      "File ../data/hdfs/hdfs_test_normal, number of sessions 110673\n",
      "File ../data/hdfs/hdfs_test_normal, number of seqs 1046\n",
      "Find 9080 train logs, 1046 validation logs\n",
      "Train batch size 2048 ,Validation batch size 2048\n",
      "Starting epoch: 0 | phase: train | ⏰: 02:22:58 | Learning rate: 0.000313\n"
     ]
    },
    {
     "name": "stderr",
     "output_type": "stream",
     "text": [
      "Train loss: 3.09590: 100%|██████████| 5/5 [00:00<00:00, 27.34it/s]\n"
     ]
    },
    {
     "name": "stdout",
     "output_type": "stream",
     "text": [
      "Starting epoch: 0 | phase: valid | ⏰: 02:22:58 \n"
     ]
    },
    {
     "name": "stderr",
     "output_type": "stream",
     "text": [
      ": 100%|██████████| 1/1 [00:00<00:00, 55.59it/s]\n"
     ]
    },
    {
     "name": "stdout",
     "output_type": "stream",
     "text": [
      "Validation loss: 3.0401389598846436\n",
      "Client  2\n",
      "File ../data/hdfs/hdfs_train, number of sessions 971\n",
      "File ../data/hdfs/hdfs_train, number of seqs 9485\n",
      "sampling...\n"
     ]
    },
    {
     "name": "stderr",
     "output_type": "stream",
     "text": [
      "100%|██████████| 1051/1051 [00:00<00:00, 3464.39it/s]\n"
     ]
    },
    {
     "name": "stdout",
     "output_type": "stream",
     "text": [
      "File ../data/hdfs/hdfs_test_normal, number of sessions 110673\n",
      "File ../data/hdfs/hdfs_test_normal, number of seqs 1051\n",
      "Find 9485 train logs, 1051 validation logs\n",
      "Train batch size 2048 ,Validation batch size 2048\n",
      "Starting epoch: 0 | phase: train | ⏰: 02:23:10 | Learning rate: 0.000313\n"
     ]
    },
    {
     "name": "stderr",
     "output_type": "stream",
     "text": [
      "Train loss: 3.09655: 100%|██████████| 5/5 [00:00<00:00, 26.30it/s]\n"
     ]
    },
    {
     "name": "stdout",
     "output_type": "stream",
     "text": [
      "Starting epoch: 0 | phase: valid | ⏰: 02:23:10 \n"
     ]
    },
    {
     "name": "stderr",
     "output_type": "stream",
     "text": [
      ": 100%|██████████| 1/1 [00:00<00:00, 53.31it/s]\n"
     ]
    },
    {
     "name": "stdout",
     "output_type": "stream",
     "text": [
      "Validation loss: 3.0370943546295166\n",
      "Client  3\n",
      "File ../data/hdfs/hdfs_train, number of sessions 971\n",
      "File ../data/hdfs/hdfs_train, number of seqs 9267\n",
      "sampling...\n"
     ]
    },
    {
     "name": "stderr",
     "output_type": "stream",
     "text": [
      "100%|██████████| 1057/1057 [00:00<00:00, 3610.29it/s]\n"
     ]
    },
    {
     "name": "stdout",
     "output_type": "stream",
     "text": [
      "File ../data/hdfs/hdfs_test_normal, number of sessions 110673\n",
      "File ../data/hdfs/hdfs_test_normal, number of seqs 1057\n",
      "Find 9267 train logs, 1057 validation logs\n",
      "Train batch size 2048 ,Validation batch size 2048\n",
      "Starting epoch: 0 | phase: train | ⏰: 02:23:22 | Learning rate: 0.000313\n"
     ]
    },
    {
     "name": "stderr",
     "output_type": "stream",
     "text": [
      "Train loss: 3.09568: 100%|██████████| 5/5 [00:00<00:00, 29.48it/s]\n"
     ]
    },
    {
     "name": "stdout",
     "output_type": "stream",
     "text": [
      "Starting epoch: 0 | phase: valid | ⏰: 02:23:22 \n"
     ]
    },
    {
     "name": "stderr",
     "output_type": "stream",
     "text": [
      ": 100%|██████████| 1/1 [00:00<00:00, 54.17it/s]\n"
     ]
    },
    {
     "name": "stdout",
     "output_type": "stream",
     "text": [
      "Validation loss: 3.041013717651367\n",
      "Client  4\n",
      "File ../data/hdfs/hdfs_train, number of sessions 971\n",
      "File ../data/hdfs/hdfs_train, number of seqs 9323\n",
      "sampling...\n"
     ]
    },
    {
     "name": "stderr",
     "output_type": "stream",
     "text": [
      "100%|██████████| 1044/1044 [00:00<00:00, 3530.52it/s]\n"
     ]
    },
    {
     "name": "stdout",
     "output_type": "stream",
     "text": [
      "File ../data/hdfs/hdfs_test_normal, number of sessions 110673\n",
      "File ../data/hdfs/hdfs_test_normal, number of seqs 1044\n",
      "Find 9323 train logs, 1044 validation logs\n",
      "Train batch size 2048 ,Validation batch size 2048\n",
      "Starting epoch: 0 | phase: train | ⏰: 02:23:33 | Learning rate: 0.000313\n"
     ]
    },
    {
     "name": "stderr",
     "output_type": "stream",
     "text": [
      "Train loss: 3.09474: 100%|██████████| 5/5 [00:00<00:00, 25.77it/s]\n"
     ]
    },
    {
     "name": "stdout",
     "output_type": "stream",
     "text": [
      "Starting epoch: 0 | phase: valid | ⏰: 02:23:34 \n"
     ]
    },
    {
     "name": "stderr",
     "output_type": "stream",
     "text": [
      ": 100%|██████████| 1/1 [00:00<00:00, 56.34it/s]\n"
     ]
    },
    {
     "name": "stdout",
     "output_type": "stream",
     "text": [
      "Validation loss: 3.0357813835144043\n",
      "============ Test epoch 3 ============\n",
      "Client  0\n",
      "Number of sessions(hdfs_test_normal): 5813\n",
      "Number of sessions(hdfs_test_abnormal): 1136\n"
     ]
    },
    {
     "name": "stderr",
     "output_type": "stream",
     "text": [
      "100%|██████████| 5813/5813 [04:08<00:00, 23.36it/s]\n",
      "100%|██████████| 1136/1136 [00:30<00:00, 36.71it/s]\n"
     ]
    },
    {
     "name": "stdout",
     "output_type": "stream",
     "text": [
      "false positive (FP): 10325, false negative (FN): 21, Precision: 24.475%, Recall: 99.376%, F1-measure: 39.277%\n",
      "actual positive (TP+FN): 3367, actual negative (FP+TN): 110673\n",
      "accuracy: 90.928\n",
      "Finished Predicting\n",
      "elapsed_time: 279.77706384658813\n",
      "Client  1\n",
      "Number of sessions(hdfs_test_normal): 5574\n",
      "Number of sessions(hdfs_test_abnormal): 1139\n"
     ]
    },
    {
     "name": "stderr",
     "output_type": "stream",
     "text": [
      "100%|██████████| 5574/5574 [04:12<00:00, 22.03it/s]\n",
      "100%|██████████| 1139/1139 [00:33<00:00, 34.16it/s]\n"
     ]
    },
    {
     "name": "stdout",
     "output_type": "stream",
     "text": [
      "false positive (FP): 10083, false negative (FN): 23, Precision: 24.905%, Recall: 99.317%, F1-measure: 39.824%\n",
      "actual positive (TP+FN): 3367, actual negative (FP+TN): 110673\n",
      "accuracy: 91.138\n",
      "Finished Predicting\n",
      "elapsed_time: 286.3379399776459\n",
      "Client  2\n",
      "Number of sessions(hdfs_test_normal): 5730\n",
      "Number of sessions(hdfs_test_abnormal): 1118\n"
     ]
    },
    {
     "name": "stderr",
     "output_type": "stream",
     "text": [
      "100%|██████████| 5730/5730 [04:24<00:00, 21.64it/s]\n",
      "100%|██████████| 1118/1118 [00:31<00:00, 35.06it/s]\n"
     ]
    },
    {
     "name": "stdout",
     "output_type": "stream",
     "text": [
      "false positive (FP): 10295, false negative (FN): 28, Precision: 24.490%, Recall: 99.168%, F1-measure: 39.280%\n",
      "actual positive (TP+FN): 3367, actual negative (FP+TN): 110673\n",
      "accuracy: 90.948\n",
      "Finished Predicting\n",
      "elapsed_time: 296.63451051712036\n",
      "Client  3\n",
      "Number of sessions(hdfs_test_normal): 5747\n",
      "Number of sessions(hdfs_test_abnormal): 1159\n"
     ]
    },
    {
     "name": "stderr",
     "output_type": "stream",
     "text": [
      "100%|██████████| 5747/5747 [04:06<00:00, 23.33it/s]\n",
      "100%|██████████| 1159/1159 [00:33<00:00, 34.44it/s]\n"
     ]
    },
    {
     "name": "stdout",
     "output_type": "stream",
     "text": [
      "false positive (FP): 10296, false negative (FN): 26, Precision: 24.500%, Recall: 99.228%, F1-measure: 39.297%\n",
      "actual positive (TP+FN): 3367, actual negative (FP+TN): 110673\n",
      "accuracy: 90.949\n",
      "Finished Predicting\n",
      "elapsed_time: 279.95924401283264\n",
      "Client  4\n",
      "Number of sessions(hdfs_test_normal): 5623\n",
      "Number of sessions(hdfs_test_abnormal): 1121\n"
     ]
    },
    {
     "name": "stderr",
     "output_type": "stream",
     "text": [
      "100%|██████████| 5623/5623 [04:17<00:00, 21.80it/s]\n",
      "100%|██████████| 1121/1121 [00:31<00:00, 35.46it/s]\n"
     ]
    },
    {
     "name": "stdout",
     "output_type": "stream",
     "text": [
      "false positive (FP): 10321, false negative (FN): 29, Precision: 24.438%, Recall: 99.139%, F1-measure: 39.211%\n",
      "actual positive (TP+FN): 3367, actual negative (FP+TN): 110673\n",
      "accuracy: 90.924\n",
      "Finished Predicting\n",
      "elapsed_time: 289.59251713752747\n",
      "============ Train epoch 4 ============\n",
      "Client  0\n",
      "File ../data/hdfs/hdfs_train, number of sessions 971\n",
      "File ../data/hdfs/hdfs_train, number of seqs 9420\n",
      "sampling...\n"
     ]
    },
    {
     "name": "stderr",
     "output_type": "stream",
     "text": [
      "100%|██████████| 1058/1058 [00:00<00:00, 3428.50it/s]\n"
     ]
    },
    {
     "name": "stdout",
     "output_type": "stream",
     "text": [
      "File ../data/hdfs/hdfs_test_normal, number of sessions 110673\n",
      "File ../data/hdfs/hdfs_test_normal, number of seqs 1058\n",
      "Find 9420 train logs, 1058 validation logs\n",
      "Train batch size 2048 ,Validation batch size 2048\n",
      "Starting epoch: 0 | phase: train | ⏰: 02:47:41 | Learning rate: 0.000313\n"
     ]
    },
    {
     "name": "stderr",
     "output_type": "stream",
     "text": [
      "Train loss: 2.99990: 100%|██████████| 5/5 [00:00<00:00, 25.06it/s]\n"
     ]
    },
    {
     "name": "stdout",
     "output_type": "stream",
     "text": [
      "Starting epoch: 0 | phase: valid | ⏰: 02:47:41 \n"
     ]
    },
    {
     "name": "stderr",
     "output_type": "stream",
     "text": [
      ": 100%|██████████| 1/1 [00:00<00:00, 51.84it/s]\n"
     ]
    },
    {
     "name": "stdout",
     "output_type": "stream",
     "text": [
      "Validation loss: 2.92924427986145\n",
      "Client  1\n",
      "File ../data/hdfs/hdfs_train, number of sessions 971\n",
      "File ../data/hdfs/hdfs_train, number of seqs 9080\n",
      "sampling...\n"
     ]
    },
    {
     "name": "stderr",
     "output_type": "stream",
     "text": [
      "100%|██████████| 1046/1046 [00:00<00:00, 3610.46it/s]\n"
     ]
    },
    {
     "name": "stdout",
     "output_type": "stream",
     "text": [
      "File ../data/hdfs/hdfs_test_normal, number of sessions 110673\n",
      "File ../data/hdfs/hdfs_test_normal, number of seqs 1046\n",
      "Find 9080 train logs, 1046 validation logs\n",
      "Train batch size 2048 ,Validation batch size 2048\n",
      "Starting epoch: 0 | phase: train | ⏰: 02:47:52 | Learning rate: 0.000313\n"
     ]
    },
    {
     "name": "stderr",
     "output_type": "stream",
     "text": [
      "Train loss: 3.00040: 100%|██████████| 5/5 [00:00<00:00, 29.60it/s]\n"
     ]
    },
    {
     "name": "stdout",
     "output_type": "stream",
     "text": [
      "Starting epoch: 0 | phase: valid | ⏰: 02:47:53 \n"
     ]
    },
    {
     "name": "stderr",
     "output_type": "stream",
     "text": [
      ": 100%|██████████| 1/1 [00:00<00:00, 56.19it/s]\n"
     ]
    },
    {
     "name": "stdout",
     "output_type": "stream",
     "text": [
      "Validation loss: 2.9355735778808594\n",
      "Client  2\n",
      "File ../data/hdfs/hdfs_train, number of sessions 971\n",
      "File ../data/hdfs/hdfs_train, number of seqs 9485\n",
      "sampling...\n"
     ]
    },
    {
     "name": "stderr",
     "output_type": "stream",
     "text": [
      "100%|██████████| 1051/1051 [00:00<00:00, 3519.06it/s]\n"
     ]
    },
    {
     "name": "stdout",
     "output_type": "stream",
     "text": [
      "File ../data/hdfs/hdfs_test_normal, number of sessions 110673\n",
      "File ../data/hdfs/hdfs_test_normal, number of seqs 1051\n",
      "Find 9485 train logs, 1051 validation logs\n",
      "Train batch size 2048 ,Validation batch size 2048\n",
      "Starting epoch: 0 | phase: train | ⏰: 02:48:04 | Learning rate: 0.000313\n"
     ]
    },
    {
     "name": "stderr",
     "output_type": "stream",
     "text": [
      "Train loss: 3.00089: 100%|██████████| 5/5 [00:00<00:00, 26.17it/s]\n"
     ]
    },
    {
     "name": "stdout",
     "output_type": "stream",
     "text": [
      "Starting epoch: 0 | phase: valid | ⏰: 02:48:04 \n"
     ]
    },
    {
     "name": "stderr",
     "output_type": "stream",
     "text": [
      ": 100%|██████████| 1/1 [00:00<00:00, 52.17it/s]\n"
     ]
    },
    {
     "name": "stdout",
     "output_type": "stream",
     "text": [
      "Validation loss: 2.9205985069274902\n",
      "Client  3\n",
      "File ../data/hdfs/hdfs_train, number of sessions 971\n",
      "File ../data/hdfs/hdfs_train, number of seqs 9267\n",
      "sampling...\n"
     ]
    },
    {
     "name": "stderr",
     "output_type": "stream",
     "text": [
      "100%|██████████| 1057/1057 [00:00<00:00, 3503.35it/s]\n"
     ]
    },
    {
     "name": "stdout",
     "output_type": "stream",
     "text": [
      "File ../data/hdfs/hdfs_test_normal, number of sessions 110673\n",
      "File ../data/hdfs/hdfs_test_normal, number of seqs 1057\n",
      "Find 9267 train logs, 1057 validation logs\n",
      "Train batch size 2048 ,Validation batch size 2048\n",
      "Starting epoch: 0 | phase: train | ⏰: 02:48:16 | Learning rate: 0.000313\n"
     ]
    },
    {
     "name": "stderr",
     "output_type": "stream",
     "text": [
      "Train loss: 2.99978: 100%|██████████| 5/5 [00:00<00:00, 27.41it/s]\n"
     ]
    },
    {
     "name": "stdout",
     "output_type": "stream",
     "text": [
      "Starting epoch: 0 | phase: valid | ⏰: 02:48:16 \n"
     ]
    },
    {
     "name": "stderr",
     "output_type": "stream",
     "text": [
      ": 100%|██████████| 1/1 [00:00<00:00, 54.70it/s]\n"
     ]
    },
    {
     "name": "stdout",
     "output_type": "stream",
     "text": [
      "Validation loss: 2.9283318519592285\n",
      "Client  4\n",
      "File ../data/hdfs/hdfs_train, number of sessions 971\n",
      "File ../data/hdfs/hdfs_train, number of seqs 9323\n",
      "sampling...\n"
     ]
    },
    {
     "name": "stderr",
     "output_type": "stream",
     "text": [
      "100%|██████████| 1044/1044 [00:00<00:00, 3509.75it/s]\n"
     ]
    },
    {
     "name": "stdout",
     "output_type": "stream",
     "text": [
      "File ../data/hdfs/hdfs_test_normal, number of sessions 110673\n",
      "File ../data/hdfs/hdfs_test_normal, number of seqs 1044\n",
      "Find 9323 train logs, 1044 validation logs\n",
      "Train batch size 2048 ,Validation batch size 2048\n",
      "Starting epoch: 0 | phase: train | ⏰: 02:48:28 | Learning rate: 0.000313\n"
     ]
    },
    {
     "name": "stderr",
     "output_type": "stream",
     "text": [
      "Train loss: 2.99878: 100%|██████████| 5/5 [00:00<00:00, 26.22it/s]\n"
     ]
    },
    {
     "name": "stdout",
     "output_type": "stream",
     "text": [
      "Starting epoch: 0 | phase: valid | ⏰: 02:48:28 \n"
     ]
    },
    {
     "name": "stderr",
     "output_type": "stream",
     "text": [
      ": 100%|██████████| 1/1 [00:00<00:00, 54.54it/s]\n"
     ]
    },
    {
     "name": "stdout",
     "output_type": "stream",
     "text": [
      "Validation loss: 2.9323501586914062\n",
      "============ Test epoch 4 ============\n",
      "Client  0\n",
      "Number of sessions(hdfs_test_normal): 5813\n",
      "Number of sessions(hdfs_test_abnormal): 1136\n"
     ]
    },
    {
     "name": "stderr",
     "output_type": "stream",
     "text": [
      "100%|██████████| 5813/5813 [03:52<00:00, 25.02it/s]\n",
      "100%|██████████| 1136/1136 [00:29<00:00, 38.47it/s]\n"
     ]
    },
    {
     "name": "stdout",
     "output_type": "stream",
     "text": [
      "false positive (FP): 13267, false negative (FN): 20, Precision: 20.146%, Recall: 99.406%, F1-measure: 33.502%\n",
      "actual positive (TP+FN): 3367, actual negative (FP+TN): 110673\n",
      "accuracy: 88.349\n",
      "Finished Predicting\n",
      "elapsed_time: 261.90562748908997\n",
      "Client  1\n",
      "Number of sessions(hdfs_test_normal): 5574\n",
      "Number of sessions(hdfs_test_abnormal): 1139\n"
     ]
    },
    {
     "name": "stderr",
     "output_type": "stream",
     "text": [
      "100%|██████████| 5574/5574 [03:38<00:00, 25.48it/s]\n",
      "100%|██████████| 1139/1139 [00:31<00:00, 36.46it/s]\n"
     ]
    },
    {
     "name": "stdout",
     "output_type": "stream",
     "text": [
      "false positive (FP): 12910, false negative (FN): 21, Precision: 20.583%, Recall: 99.376%, F1-measure: 34.103%\n",
      "actual positive (TP+FN): 3367, actual negative (FP+TN): 110673\n",
      "accuracy: 88.661\n",
      "Finished Predicting\n",
      "elapsed_time: 249.97163367271423\n",
      "Client  2\n",
      "Number of sessions(hdfs_test_normal): 5730\n",
      "Number of sessions(hdfs_test_abnormal): 1118\n"
     ]
    },
    {
     "name": "stderr",
     "output_type": "stream",
     "text": [
      "100%|██████████| 5730/5730 [04:07<00:00, 23.20it/s]\n",
      "100%|██████████| 1118/1118 [00:30<00:00, 36.44it/s]\n"
     ]
    },
    {
     "name": "stdout",
     "output_type": "stream",
     "text": [
      "false positive (FP): 13171, false negative (FN): 27, Precision: 20.229%, Recall: 99.198%, F1-measure: 33.605%\n",
      "actual positive (TP+FN): 3367, actual negative (FP+TN): 110673\n",
      "accuracy: 88.427\n",
      "Finished Predicting\n",
      "elapsed_time: 277.7086682319641\n",
      "Client  3\n",
      "Number of sessions(hdfs_test_normal): 5747\n",
      "Number of sessions(hdfs_test_abnormal): 1159\n"
     ]
    },
    {
     "name": "stderr",
     "output_type": "stream",
     "text": [
      "100%|██████████| 5747/5747 [04:05<00:00, 23.45it/s]\n",
      "100%|██████████| 1159/1159 [00:32<00:00, 35.82it/s]\n"
     ]
    },
    {
     "name": "stdout",
     "output_type": "stream",
     "text": [
      "false positive (FP): 13348, false negative (FN): 24, Precision: 20.029%, Recall: 99.287%, F1-measure: 33.333%\n",
      "actual positive (TP+FN): 3367, actual negative (FP+TN): 110673\n",
      "accuracy: 88.274\n",
      "Finished Predicting\n",
      "elapsed_time: 277.39236783981323\n",
      "Client  4\n",
      "Number of sessions(hdfs_test_normal): 5623\n",
      "Number of sessions(hdfs_test_abnormal): 1121\n"
     ]
    },
    {
     "name": "stderr",
     "output_type": "stream",
     "text": [
      "100%|██████████| 5623/5623 [03:59<00:00, 23.45it/s]\n",
      "100%|██████████| 1121/1121 [00:23<00:00, 46.90it/s]\n"
     ]
    },
    {
     "name": "stdout",
     "output_type": "stream",
     "text": [
      "false positive (FP): 13129, false negative (FN): 29, Precision: 20.271%, Recall: 99.139%, F1-measure: 33.659%\n",
      "actual positive (TP+FN): 3367, actual negative (FP+TN): 110673\n",
      "accuracy: 88.462\n",
      "Finished Predicting\n",
      "elapsed_time: 263.66804027557373\n",
      "============ Train epoch 5 ============\n",
      "Client  0\n",
      "File ../data/hdfs/hdfs_train, number of sessions 971\n",
      "File ../data/hdfs/hdfs_train, number of seqs 9420\n",
      "sampling...\n"
     ]
    },
    {
     "name": "stderr",
     "output_type": "stream",
     "text": [
      "100%|██████████| 1058/1058 [00:00<00:00, 3533.52it/s]\n"
     ]
    },
    {
     "name": "stdout",
     "output_type": "stream",
     "text": [
      "File ../data/hdfs/hdfs_test_normal, number of sessions 110673\n",
      "File ../data/hdfs/hdfs_test_normal, number of seqs 1058\n",
      "Find 9420 train logs, 1058 validation logs\n",
      "Train batch size 2048 ,Validation batch size 2048\n",
      "Starting epoch: 0 | phase: train | ⏰: 03:10:54 | Learning rate: 0.000313\n"
     ]
    },
    {
     "name": "stderr",
     "output_type": "stream",
     "text": [
      "Train loss: 2.87770: 100%|██████████| 5/5 [00:00<00:00, 25.55it/s]\n"
     ]
    },
    {
     "name": "stdout",
     "output_type": "stream",
     "text": [
      "Starting epoch: 0 | phase: valid | ⏰: 03:10:54 \n"
     ]
    },
    {
     "name": "stderr",
     "output_type": "stream",
     "text": [
      ": 100%|██████████| 1/1 [00:00<00:00, 45.71it/s]\n"
     ]
    },
    {
     "name": "stdout",
     "output_type": "stream",
     "text": [
      "Validation loss: 2.791868209838867\n",
      "Client  1\n",
      "File ../data/hdfs/hdfs_train, number of sessions 971\n",
      "File ../data/hdfs/hdfs_train, number of seqs 9080\n",
      "sampling...\n"
     ]
    },
    {
     "name": "stderr",
     "output_type": "stream",
     "text": [
      "100%|██████████| 1046/1046 [00:00<00:00, 3524.65it/s]\n"
     ]
    },
    {
     "name": "stdout",
     "output_type": "stream",
     "text": [
      "File ../data/hdfs/hdfs_test_normal, number of sessions 110673\n",
      "File ../data/hdfs/hdfs_test_normal, number of seqs 1046\n",
      "Find 9080 train logs, 1046 validation logs\n",
      "Train batch size 2048 ,Validation batch size 2048\n",
      "Starting epoch: 0 | phase: train | ⏰: 03:11:05 | Learning rate: 0.000313\n"
     ]
    },
    {
     "name": "stderr",
     "output_type": "stream",
     "text": [
      "Train loss: 2.87932: 100%|██████████| 5/5 [00:00<00:00, 27.35it/s]\n"
     ]
    },
    {
     "name": "stdout",
     "output_type": "stream",
     "text": [
      "Starting epoch: 0 | phase: valid | ⏰: 03:11:06 \n"
     ]
    },
    {
     "name": "stderr",
     "output_type": "stream",
     "text": [
      ": 100%|██████████| 1/1 [00:00<00:00, 55.66it/s]\n"
     ]
    },
    {
     "name": "stdout",
     "output_type": "stream",
     "text": [
      "Validation loss: 2.7839913368225098\n",
      "Client  2\n",
      "File ../data/hdfs/hdfs_train, number of sessions 971\n",
      "File ../data/hdfs/hdfs_train, number of seqs 9485\n",
      "sampling...\n"
     ]
    },
    {
     "name": "stderr",
     "output_type": "stream",
     "text": [
      "100%|██████████| 1051/1051 [00:00<00:00, 3194.02it/s]\n"
     ]
    },
    {
     "name": "stdout",
     "output_type": "stream",
     "text": [
      "File ../data/hdfs/hdfs_test_normal, number of sessions 110673\n",
      "File ../data/hdfs/hdfs_test_normal, number of seqs 1051\n",
      "Find 9485 train logs, 1051 validation logs\n",
      "Train batch size 2048 ,Validation batch size 2048\n",
      "Starting epoch: 0 | phase: train | ⏰: 03:11:17 | Learning rate: 0.000313\n"
     ]
    },
    {
     "name": "stderr",
     "output_type": "stream",
     "text": [
      "Train loss: 2.88139: 100%|██████████| 5/5 [00:00<00:00, 27.17it/s]\n"
     ]
    },
    {
     "name": "stdout",
     "output_type": "stream",
     "text": [
      "Starting epoch: 0 | phase: valid | ⏰: 03:11:18 \n"
     ]
    },
    {
     "name": "stderr",
     "output_type": "stream",
     "text": [
      ": 100%|██████████| 1/1 [00:00<00:00, 53.60it/s]\n"
     ]
    },
    {
     "name": "stdout",
     "output_type": "stream",
     "text": [
      "Validation loss: 2.775338888168335\n",
      "Client  3\n",
      "File ../data/hdfs/hdfs_train, number of sessions 971\n",
      "File ../data/hdfs/hdfs_train, number of seqs 9267\n",
      "sampling...\n"
     ]
    },
    {
     "name": "stderr",
     "output_type": "stream",
     "text": [
      "100%|██████████| 1057/1057 [00:00<00:00, 3577.16it/s]\n"
     ]
    },
    {
     "name": "stdout",
     "output_type": "stream",
     "text": [
      "File ../data/hdfs/hdfs_test_normal, number of sessions 110673\n",
      "File ../data/hdfs/hdfs_test_normal, number of seqs 1057\n",
      "Find 9267 train logs, 1057 validation logs\n",
      "Train batch size 2048 ,Validation batch size 2048\n",
      "Starting epoch: 0 | phase: train | ⏰: 03:11:29 | Learning rate: 0.000313\n"
     ]
    },
    {
     "name": "stderr",
     "output_type": "stream",
     "text": [
      "Train loss: 2.87864: 100%|██████████| 5/5 [00:00<00:00, 28.12it/s]\n"
     ]
    },
    {
     "name": "stdout",
     "output_type": "stream",
     "text": [
      "Starting epoch: 0 | phase: valid | ⏰: 03:11:30 \n"
     ]
    },
    {
     "name": "stderr",
     "output_type": "stream",
     "text": [
      ": 100%|██████████| 1/1 [00:00<00:00, 53.46it/s]\n"
     ]
    },
    {
     "name": "stdout",
     "output_type": "stream",
     "text": [
      "Validation loss: 2.7949600219726562\n",
      "Client  4\n",
      "File ../data/hdfs/hdfs_train, number of sessions 971\n",
      "File ../data/hdfs/hdfs_train, number of seqs 9323\n",
      "sampling...\n"
     ]
    },
    {
     "name": "stderr",
     "output_type": "stream",
     "text": [
      "100%|██████████| 1044/1044 [00:00<00:00, 3559.83it/s]\n"
     ]
    },
    {
     "name": "stdout",
     "output_type": "stream",
     "text": [
      "File ../data/hdfs/hdfs_test_normal, number of sessions 110673\n",
      "File ../data/hdfs/hdfs_test_normal, number of seqs 1044\n",
      "Find 9323 train logs, 1044 validation logs\n",
      "Train batch size 2048 ,Validation batch size 2048\n",
      "Starting epoch: 0 | phase: train | ⏰: 03:11:41 | Learning rate: 0.000313\n"
     ]
    },
    {
     "name": "stderr",
     "output_type": "stream",
     "text": [
      "Train loss: 2.87691: 100%|██████████| 5/5 [00:00<00:00, 27.64it/s]\n"
     ]
    },
    {
     "name": "stdout",
     "output_type": "stream",
     "text": [
      "Starting epoch: 0 | phase: valid | ⏰: 03:11:41 \n"
     ]
    },
    {
     "name": "stderr",
     "output_type": "stream",
     "text": [
      ": 100%|██████████| 1/1 [00:00<00:00, 53.91it/s]\n"
     ]
    },
    {
     "name": "stdout",
     "output_type": "stream",
     "text": [
      "Validation loss: 2.7821648120880127\n",
      "============ Test epoch 5 ============\n",
      "Client  0\n",
      "Number of sessions(hdfs_test_normal): 5813\n",
      "Number of sessions(hdfs_test_abnormal): 1136\n"
     ]
    },
    {
     "name": "stderr",
     "output_type": "stream",
     "text": [
      "100%|██████████| 5813/5813 [03:56<00:00, 24.63it/s]\n",
      "100%|██████████| 1136/1136 [00:28<00:00, 39.53it/s]\n"
     ]
    },
    {
     "name": "stdout",
     "output_type": "stream",
     "text": [
      "false positive (FP): 16559, false negative (FN): 19, Precision: 16.818%, Recall: 99.436%, F1-measure: 28.770%\n",
      "actual positive (TP+FN): 3367, actual negative (FP+TN): 110673\n",
      "accuracy: 85.463\n",
      "Finished Predicting\n",
      "elapsed_time: 264.75549244880676\n",
      "Client  1\n",
      "Number of sessions(hdfs_test_normal): 5574\n",
      "Number of sessions(hdfs_test_abnormal): 1139\n"
     ]
    },
    {
     "name": "stderr",
     "output_type": "stream",
     "text": [
      "100%|██████████| 5574/5574 [03:43<00:00, 24.96it/s]\n",
      "100%|██████████| 1139/1139 [00:30<00:00, 37.88it/s]\n"
     ]
    },
    {
     "name": "stdout",
     "output_type": "stream",
     "text": [
      "false positive (FP): 15832, false negative (FN): 20, Precision: 17.451%, Recall: 99.406%, F1-measure: 29.690%\n",
      "actual positive (TP+FN): 3367, actual negative (FP+TN): 110673\n",
      "accuracy: 86.100\n",
      "Finished Predicting\n",
      "elapsed_time: 253.42715573310852\n",
      "Client  2\n",
      "Number of sessions(hdfs_test_normal): 5730\n",
      "Number of sessions(hdfs_test_abnormal): 1118\n"
     ]
    },
    {
     "name": "stderr",
     "output_type": "stream",
     "text": [
      "100%|██████████| 5730/5730 [03:35<00:00, 26.56it/s]\n",
      "100%|██████████| 1118/1118 [00:26<00:00, 42.76it/s]\n"
     ]
    },
    {
     "name": "stdout",
     "output_type": "stream",
     "text": [
      "false positive (FP): 16274, false negative (FN): 25, Precision: 17.037%, Recall: 99.257%, F1-measure: 29.082%\n",
      "actual positive (TP+FN): 3367, actual negative (FP+TN): 110673\n",
      "accuracy: 85.708\n",
      "Finished Predicting\n",
      "elapsed_time: 241.84494590759277\n",
      "Client  3\n",
      "Number of sessions(hdfs_test_normal): 5747\n",
      "Number of sessions(hdfs_test_abnormal): 1159\n"
     ]
    },
    {
     "name": "stderr",
     "output_type": "stream",
     "text": [
      "100%|██████████| 5747/5747 [03:38<00:00, 26.25it/s]\n",
      "100%|██████████| 1159/1159 [00:31<00:00, 36.98it/s]\n"
     ]
    },
    {
     "name": "stdout",
     "output_type": "stream",
     "text": [
      "false positive (FP): 16452, false negative (FN): 23, Precision: 16.892%, Recall: 99.317%, F1-measure: 28.874%\n",
      "actual positive (TP+FN): 3367, actual negative (FP+TN): 110673\n",
      "accuracy: 85.553\n",
      "Finished Predicting\n",
      "elapsed_time: 250.24045372009277\n",
      "Client  4\n",
      "Number of sessions(hdfs_test_normal): 5623\n",
      "Number of sessions(hdfs_test_abnormal): 1121\n"
     ]
    },
    {
     "name": "stderr",
     "output_type": "stream",
     "text": [
      "100%|██████████| 5623/5623 [03:46<00:00, 24.81it/s]\n",
      "100%|██████████| 1121/1121 [00:29<00:00, 37.95it/s]\n"
     ]
    },
    {
     "name": "stdout",
     "output_type": "stream",
     "text": [
      "false positive (FP): 16008, false negative (FN): 29, Precision: 17.254%, Recall: 99.139%, F1-measure: 29.393%\n",
      "actual positive (TP+FN): 3367, actual negative (FP+TN): 110673\n",
      "accuracy: 85.937\n",
      "Finished Predicting\n",
      "elapsed_time: 256.1981010437012\n",
      "============ Train epoch 6 ============\n",
      "Client  0\n",
      "File ../data/hdfs/hdfs_train, number of sessions 971\n",
      "File ../data/hdfs/hdfs_train, number of seqs 9420\n",
      "sampling...\n"
     ]
    },
    {
     "name": "stderr",
     "output_type": "stream",
     "text": [
      "100%|██████████| 1058/1058 [00:00<00:00, 3501.72it/s]\n"
     ]
    },
    {
     "name": "stdout",
     "output_type": "stream",
     "text": [
      "File ../data/hdfs/hdfs_test_normal, number of sessions 110673\n",
      "File ../data/hdfs/hdfs_test_normal, number of seqs 1058\n",
      "Find 9420 train logs, 1058 validation logs\n",
      "Train batch size 2048 ,Validation batch size 2048\n",
      "Starting epoch: 0 | phase: train | ⏰: 03:33:02 | Learning rate: 0.000313\n"
     ]
    },
    {
     "name": "stderr",
     "output_type": "stream",
     "text": [
      "Train loss: 2.72481: 100%|██████████| 5/5 [00:00<00:00, 25.82it/s]\n"
     ]
    },
    {
     "name": "stdout",
     "output_type": "stream",
     "text": [
      "Starting epoch: 0 | phase: valid | ⏰: 03:33:03 \n"
     ]
    },
    {
     "name": "stderr",
     "output_type": "stream",
     "text": [
      ": 100%|██████████| 1/1 [00:00<00:00, 52.13it/s]\n"
     ]
    },
    {
     "name": "stdout",
     "output_type": "stream",
     "text": [
      "Validation loss: 2.6109514236450195\n",
      "Client  1\n",
      "File ../data/hdfs/hdfs_train, number of sessions 971\n",
      "File ../data/hdfs/hdfs_train, number of seqs 9080\n",
      "sampling...\n"
     ]
    },
    {
     "name": "stderr",
     "output_type": "stream",
     "text": [
      "100%|██████████| 1046/1046 [00:00<00:00, 3544.46it/s]\n"
     ]
    },
    {
     "name": "stdout",
     "output_type": "stream",
     "text": [
      "File ../data/hdfs/hdfs_test_normal, number of sessions 110673\n",
      "File ../data/hdfs/hdfs_test_normal, number of seqs 1046\n",
      "Find 9080 train logs, 1046 validation logs\n",
      "Train batch size 2048 ,Validation batch size 2048\n",
      "Starting epoch: 0 | phase: train | ⏰: 03:33:14 | Learning rate: 0.000313\n"
     ]
    },
    {
     "name": "stderr",
     "output_type": "stream",
     "text": [
      "Train loss: 2.72805: 100%|██████████| 5/5 [00:00<00:00, 26.89it/s]\n"
     ]
    },
    {
     "name": "stdout",
     "output_type": "stream",
     "text": [
      "Starting epoch: 0 | phase: valid | ⏰: 03:33:14 \n"
     ]
    },
    {
     "name": "stderr",
     "output_type": "stream",
     "text": [
      ": 100%|██████████| 1/1 [00:00<00:00, 54.54it/s]\n"
     ]
    },
    {
     "name": "stdout",
     "output_type": "stream",
     "text": [
      "Validation loss: 2.602768659591675\n",
      "Client  2\n",
      "File ../data/hdfs/hdfs_train, number of sessions 971\n",
      "File ../data/hdfs/hdfs_train, number of seqs 9485\n",
      "sampling...\n"
     ]
    },
    {
     "name": "stderr",
     "output_type": "stream",
     "text": [
      "100%|██████████| 1051/1051 [00:00<00:00, 3381.88it/s]\n"
     ]
    },
    {
     "name": "stdout",
     "output_type": "stream",
     "text": [
      "File ../data/hdfs/hdfs_test_normal, number of sessions 110673\n",
      "File ../data/hdfs/hdfs_test_normal, number of seqs 1051\n",
      "Find 9485 train logs, 1051 validation logs\n",
      "Train batch size 2048 ,Validation batch size 2048\n",
      "Starting epoch: 0 | phase: train | ⏰: 03:33:26 | Learning rate: 0.000313\n"
     ]
    },
    {
     "name": "stderr",
     "output_type": "stream",
     "text": [
      "Train loss: 2.72814: 100%|██████████| 5/5 [00:00<00:00, 25.86it/s]\n"
     ]
    },
    {
     "name": "stdout",
     "output_type": "stream",
     "text": [
      "Starting epoch: 0 | phase: valid | ⏰: 03:33:26 \n"
     ]
    },
    {
     "name": "stderr",
     "output_type": "stream",
     "text": [
      ": 100%|██████████| 1/1 [00:00<00:00, 53.14it/s]\n"
     ]
    },
    {
     "name": "stdout",
     "output_type": "stream",
     "text": [
      "Validation loss: 2.611199378967285\n",
      "Client  3\n",
      "File ../data/hdfs/hdfs_train, number of sessions 971\n",
      "File ../data/hdfs/hdfs_train, number of seqs 9267\n",
      "sampling...\n"
     ]
    },
    {
     "name": "stderr",
     "output_type": "stream",
     "text": [
      "100%|██████████| 1057/1057 [00:00<00:00, 3468.32it/s]\n"
     ]
    },
    {
     "name": "stdout",
     "output_type": "stream",
     "text": [
      "File ../data/hdfs/hdfs_test_normal, number of sessions 110673\n",
      "File ../data/hdfs/hdfs_test_normal, number of seqs 1057\n",
      "Find 9267 train logs, 1057 validation logs\n",
      "Train batch size 2048 ,Validation batch size 2048\n",
      "Starting epoch: 0 | phase: train | ⏰: 03:33:38 | Learning rate: 0.000313\n"
     ]
    },
    {
     "name": "stderr",
     "output_type": "stream",
     "text": [
      "Train loss: 2.72367: 100%|██████████| 5/5 [00:00<00:00, 25.25it/s]\n"
     ]
    },
    {
     "name": "stdout",
     "output_type": "stream",
     "text": [
      "Starting epoch: 0 | phase: valid | ⏰: 03:33:38 \n"
     ]
    },
    {
     "name": "stderr",
     "output_type": "stream",
     "text": [
      ": 100%|██████████| 1/1 [00:00<00:00, 52.43it/s]\n"
     ]
    },
    {
     "name": "stdout",
     "output_type": "stream",
     "text": [
      "Validation loss: 2.6024112701416016\n",
      "Client  4\n",
      "File ../data/hdfs/hdfs_train, number of sessions 971\n",
      "File ../data/hdfs/hdfs_train, number of seqs 9323\n",
      "sampling...\n"
     ]
    },
    {
     "name": "stderr",
     "output_type": "stream",
     "text": [
      "100%|██████████| 1044/1044 [00:00<00:00, 3528.32it/s]\n"
     ]
    },
    {
     "name": "stdout",
     "output_type": "stream",
     "text": [
      "File ../data/hdfs/hdfs_test_normal, number of sessions 110673\n",
      "File ../data/hdfs/hdfs_test_normal, number of seqs 1044\n",
      "Find 9323 train logs, 1044 validation logs\n",
      "Train batch size 2048 ,Validation batch size 2048\n",
      "Starting epoch: 0 | phase: train | ⏰: 03:33:50 | Learning rate: 0.000313\n"
     ]
    },
    {
     "name": "stderr",
     "output_type": "stream",
     "text": [
      "Train loss: 2.72136: 100%|██████████| 5/5 [00:00<00:00, 27.32it/s]\n"
     ]
    },
    {
     "name": "stdout",
     "output_type": "stream",
     "text": [
      "Starting epoch: 0 | phase: valid | ⏰: 03:33:50 \n"
     ]
    },
    {
     "name": "stderr",
     "output_type": "stream",
     "text": [
      ": 100%|██████████| 1/1 [00:00<00:00, 54.18it/s]\n"
     ]
    },
    {
     "name": "stdout",
     "output_type": "stream",
     "text": [
      "Validation loss: 2.6116576194763184\n",
      "============ Test epoch 6 ============\n",
      "Client  0\n",
      "Number of sessions(hdfs_test_normal): 5813\n",
      "Number of sessions(hdfs_test_abnormal): 1136\n"
     ]
    },
    {
     "name": "stderr",
     "output_type": "stream",
     "text": [
      "100%|██████████| 5813/5813 [03:52<00:00, 24.97it/s]\n",
      "100%|██████████| 1136/1136 [00:28<00:00, 39.24it/s]\n"
     ]
    },
    {
     "name": "stdout",
     "output_type": "stream",
     "text": [
      "false positive (FP): 16752, false negative (FN): 36, Precision: 16.586%, Recall: 98.931%, F1-measure: 28.409%\n",
      "actual positive (TP+FN): 3367, actual negative (FP+TN): 110673\n",
      "accuracy: 85.279\n",
      "Finished Predicting\n",
      "elapsed_time: 261.72810649871826\n",
      "Client  1\n",
      "Number of sessions(hdfs_test_normal): 5574\n",
      "Number of sessions(hdfs_test_abnormal): 1139\n"
     ]
    },
    {
     "name": "stderr",
     "output_type": "stream",
     "text": [
      "100%|██████████| 5574/5574 [03:22<00:00, 27.56it/s]\n",
      "100%|██████████| 1139/1139 [00:30<00:00, 37.90it/s]\n"
     ]
    },
    {
     "name": "stdout",
     "output_type": "stream",
     "text": [
      "false positive (FP): 16032, false negative (FN): 34, Precision: 17.211%, Recall: 98.990%, F1-measure: 29.324%\n",
      "actual positive (TP+FN): 3367, actual negative (FP+TN): 110673\n",
      "accuracy: 85.912\n",
      "Finished Predicting\n",
      "elapsed_time: 232.2940866947174\n",
      "Client  2\n",
      "Number of sessions(hdfs_test_normal): 5730\n",
      "Number of sessions(hdfs_test_abnormal): 1118\n"
     ]
    },
    {
     "name": "stderr",
     "output_type": "stream",
     "text": [
      "100%|██████████| 5730/5730 [03:50<00:00, 24.86it/s]\n",
      "100%|██████████| 1118/1118 [00:29<00:00, 37.62it/s]\n"
     ]
    },
    {
     "name": "stdout",
     "output_type": "stream",
     "text": [
      "false positive (FP): 16465, false negative (FN): 42, Precision: 16.801%, Recall: 98.753%, F1-measure: 28.717%\n",
      "actual positive (TP+FN): 3367, actual negative (FP+TN): 110673\n",
      "accuracy: 85.525\n",
      "Finished Predicting\n",
      "elapsed_time: 260.21644854545593\n",
      "Client  3\n",
      "Number of sessions(hdfs_test_normal): 5747\n",
      "Number of sessions(hdfs_test_abnormal): 1159\n"
     ]
    },
    {
     "name": "stderr",
     "output_type": "stream",
     "text": [
      "100%|██████████| 5747/5747 [03:48<00:00, 25.11it/s]\n",
      "100%|██████████| 1159/1159 [00:31<00:00, 36.96it/s]\n"
     ]
    },
    {
     "name": "stdout",
     "output_type": "stream",
     "text": [
      "false positive (FP): 16644, false negative (FN): 49, Precision: 16.622%, Recall: 98.545%, F1-measure: 28.445%\n",
      "actual positive (TP+FN): 3367, actual negative (FP+TN): 110673\n",
      "accuracy: 85.362\n",
      "Finished Predicting\n",
      "elapsed_time: 260.22289514541626\n",
      "Client  4\n",
      "Number of sessions(hdfs_test_normal): 5623\n",
      "Number of sessions(hdfs_test_abnormal): 1121\n"
     ]
    },
    {
     "name": "stderr",
     "output_type": "stream",
     "text": [
      "100%|██████████| 5623/5623 [03:24<00:00, 27.53it/s]\n",
      "100%|██████████| 1121/1121 [00:24<00:00, 46.64it/s]\n"
     ]
    },
    {
     "name": "stdout",
     "output_type": "stream",
     "text": [
      "false positive (FP): 16198, false negative (FN): 49, Precision: 17.001%, Recall: 98.545%, F1-measure: 29.000%\n",
      "actual positive (TP+FN): 3367, actual negative (FP+TN): 110673\n",
      "accuracy: 85.753\n",
      "Finished Predicting\n",
      "elapsed_time: 228.27647423744202\n",
      "============ Train epoch 7 ============\n",
      "Client  0\n",
      "File ../data/hdfs/hdfs_train, number of sessions 971\n",
      "File ../data/hdfs/hdfs_train, number of seqs 9420\n",
      "sampling...\n"
     ]
    },
    {
     "name": "stderr",
     "output_type": "stream",
     "text": [
      "100%|██████████| 1058/1058 [00:00<00:00, 3173.18it/s]\n"
     ]
    },
    {
     "name": "stdout",
     "output_type": "stream",
     "text": [
      "File ../data/hdfs/hdfs_test_normal, number of sessions 110673\n",
      "File ../data/hdfs/hdfs_test_normal, number of seqs 1058\n",
      "Find 9420 train logs, 1058 validation logs\n",
      "Train batch size 2048 ,Validation batch size 2048\n",
      "Starting epoch: 0 | phase: train | ⏰: 03:54:47 | Learning rate: 0.000313\n"
     ]
    },
    {
     "name": "stderr",
     "output_type": "stream",
     "text": [
      "Train loss: 2.53448: 100%|██████████| 5/5 [00:00<00:00, 28.08it/s]\n"
     ]
    },
    {
     "name": "stdout",
     "output_type": "stream",
     "text": [
      "Starting epoch: 0 | phase: valid | ⏰: 03:54:48 \n"
     ]
    },
    {
     "name": "stderr",
     "output_type": "stream",
     "text": [
      ": 100%|██████████| 1/1 [00:00<00:00, 55.53it/s]\n"
     ]
    },
    {
     "name": "stdout",
     "output_type": "stream",
     "text": [
      "Validation loss: 2.3953652381896973\n",
      "Client  1\n",
      "File ../data/hdfs/hdfs_train, number of sessions 971\n",
      "File ../data/hdfs/hdfs_train, number of seqs 9080\n",
      "sampling...\n"
     ]
    },
    {
     "name": "stderr",
     "output_type": "stream",
     "text": [
      "100%|██████████| 1046/1046 [00:00<00:00, 3268.96it/s]\n"
     ]
    },
    {
     "name": "stdout",
     "output_type": "stream",
     "text": [
      "File ../data/hdfs/hdfs_test_normal, number of sessions 110673\n",
      "File ../data/hdfs/hdfs_test_normal, number of seqs 1046\n",
      "Find 9080 train logs, 1046 validation logs\n",
      "Train batch size 2048 ,Validation batch size 2048\n",
      "Starting epoch: 0 | phase: train | ⏰: 03:54:59 | Learning rate: 0.000313\n"
     ]
    },
    {
     "name": "stderr",
     "output_type": "stream",
     "text": [
      "Train loss: 2.53828: 100%|██████████| 5/5 [00:00<00:00, 28.48it/s]\n"
     ]
    },
    {
     "name": "stdout",
     "output_type": "stream",
     "text": [
      "Starting epoch: 0 | phase: valid | ⏰: 03:54:59 \n"
     ]
    },
    {
     "name": "stderr",
     "output_type": "stream",
     "text": [
      ": 100%|██████████| 1/1 [00:00<00:00, 58.15it/s]\n"
     ]
    },
    {
     "name": "stdout",
     "output_type": "stream",
     "text": [
      "Validation loss: 2.410024642944336\n",
      "Client  2\n",
      "File ../data/hdfs/hdfs_train, number of sessions 971\n",
      "File ../data/hdfs/hdfs_train, number of seqs 9485\n",
      "sampling...\n"
     ]
    },
    {
     "name": "stderr",
     "output_type": "stream",
     "text": [
      "100%|██████████| 1051/1051 [00:00<00:00, 3104.18it/s]\n"
     ]
    },
    {
     "name": "stdout",
     "output_type": "stream",
     "text": [
      "File ../data/hdfs/hdfs_test_normal, number of sessions 110673\n",
      "File ../data/hdfs/hdfs_test_normal, number of seqs 1051\n",
      "Find 9485 train logs, 1051 validation logs\n",
      "Train batch size 2048 ,Validation batch size 2048\n",
      "Starting epoch: 0 | phase: train | ⏰: 03:55:11 | Learning rate: 0.000313\n"
     ]
    },
    {
     "name": "stderr",
     "output_type": "stream",
     "text": [
      "Train loss: 2.54070: 100%|██████████| 5/5 [00:00<00:00, 25.85it/s]\n"
     ]
    },
    {
     "name": "stdout",
     "output_type": "stream",
     "text": [
      "Starting epoch: 0 | phase: valid | ⏰: 03:55:11 \n"
     ]
    },
    {
     "name": "stderr",
     "output_type": "stream",
     "text": [
      ": 100%|██████████| 1/1 [00:00<00:00, 54.36it/s]\n"
     ]
    },
    {
     "name": "stdout",
     "output_type": "stream",
     "text": [
      "Validation loss: 2.410590648651123\n",
      "Client  3\n",
      "File ../data/hdfs/hdfs_train, number of sessions 971\n",
      "File ../data/hdfs/hdfs_train, number of seqs 9267\n",
      "sampling...\n"
     ]
    },
    {
     "name": "stderr",
     "output_type": "stream",
     "text": [
      "100%|██████████| 1057/1057 [00:00<00:00, 3545.98it/s]\n"
     ]
    },
    {
     "name": "stdout",
     "output_type": "stream",
     "text": [
      "File ../data/hdfs/hdfs_test_normal, number of sessions 110673\n",
      "File ../data/hdfs/hdfs_test_normal, number of seqs 1057\n",
      "Find 9267 train logs, 1057 validation logs\n",
      "Train batch size 2048 ,Validation batch size 2048\n",
      "Starting epoch: 0 | phase: train | ⏰: 03:55:23 | Learning rate: 0.000313\n"
     ]
    },
    {
     "name": "stderr",
     "output_type": "stream",
     "text": [
      "Train loss: 2.53385: 100%|██████████| 5/5 [00:00<00:00, 27.41it/s]\n"
     ]
    },
    {
     "name": "stdout",
     "output_type": "stream",
     "text": [
      "Starting epoch: 0 | phase: valid | ⏰: 03:55:23 \n"
     ]
    },
    {
     "name": "stderr",
     "output_type": "stream",
     "text": [
      ": 100%|██████████| 1/1 [00:00<00:00, 55.25it/s]\n"
     ]
    },
    {
     "name": "stdout",
     "output_type": "stream",
     "text": [
      "Validation loss: 2.423109769821167\n",
      "Client  4\n",
      "File ../data/hdfs/hdfs_train, number of sessions 971\n",
      "File ../data/hdfs/hdfs_train, number of seqs 9323\n",
      "sampling...\n"
     ]
    },
    {
     "name": "stderr",
     "output_type": "stream",
     "text": [
      "100%|██████████| 1044/1044 [00:00<00:00, 3618.49it/s]\n"
     ]
    },
    {
     "name": "stdout",
     "output_type": "stream",
     "text": [
      "File ../data/hdfs/hdfs_test_normal, number of sessions 110673\n",
      "File ../data/hdfs/hdfs_test_normal, number of seqs 1044\n",
      "Find 9323 train logs, 1044 validation logs\n",
      "Train batch size 2048 ,Validation batch size 2048\n",
      "Starting epoch: 0 | phase: train | ⏰: 03:55:35 | Learning rate: 0.000313\n"
     ]
    },
    {
     "name": "stderr",
     "output_type": "stream",
     "text": [
      "Train loss: 2.53251: 100%|██████████| 5/5 [00:00<00:00, 29.03it/s]\n"
     ]
    },
    {
     "name": "stdout",
     "output_type": "stream",
     "text": [
      "Starting epoch: 0 | phase: valid | ⏰: 03:55:35 \n"
     ]
    },
    {
     "name": "stderr",
     "output_type": "stream",
     "text": [
      ": 100%|██████████| 1/1 [00:00<00:00, 55.19it/s]\n"
     ]
    },
    {
     "name": "stdout",
     "output_type": "stream",
     "text": [
      "Validation loss: 2.408729314804077\n",
      "============ Test epoch 7 ============\n",
      "Client  0\n",
      "Number of sessions(hdfs_test_normal): 5813\n",
      "Number of sessions(hdfs_test_abnormal): 1136\n"
     ]
    },
    {
     "name": "stderr",
     "output_type": "stream",
     "text": [
      "100%|██████████| 5813/5813 [03:52<00:00, 24.98it/s]\n",
      "100%|██████████| 1136/1136 [00:29<00:00, 38.66it/s]\n"
     ]
    },
    {
     "name": "stdout",
     "output_type": "stream",
     "text": [
      "false positive (FP): 16751, false negative (FN): 171, Precision: 16.022%, Recall: 94.921%, F1-measure: 27.417%\n",
      "actual positive (TP+FN): 3367, actual negative (FP+TN): 110673\n",
      "accuracy: 85.161\n",
      "Finished Predicting\n",
      "elapsed_time: 262.10137128829956\n",
      "Client  1\n",
      "Number of sessions(hdfs_test_normal): 5574\n",
      "Number of sessions(hdfs_test_abnormal): 1139\n"
     ]
    },
    {
     "name": "stderr",
     "output_type": "stream",
     "text": [
      "100%|██████████| 5574/5574 [03:40<00:00, 25.30it/s]\n",
      "100%|██████████| 1139/1139 [00:30<00:00, 37.13it/s]\n"
     ]
    },
    {
     "name": "stdout",
     "output_type": "stream",
     "text": [
      "false positive (FP): 16031, false negative (FN): 189, Precision: 16.544%, Recall: 94.387%, F1-measure: 28.154%\n",
      "actual positive (TP+FN): 3367, actual negative (FP+TN): 110673\n",
      "accuracy: 85.777\n",
      "Finished Predicting\n",
      "elapsed_time: 251.02339220046997\n",
      "Client  2\n",
      "Number of sessions(hdfs_test_normal): 5730\n",
      "Number of sessions(hdfs_test_abnormal): 1118\n"
     ]
    },
    {
     "name": "stderr",
     "output_type": "stream",
     "text": [
      "100%|██████████| 5730/5730 [03:50<00:00, 24.89it/s]\n",
      "100%|██████████| 1118/1118 [00:30<00:00, 36.83it/s]\n"
     ]
    },
    {
     "name": "stdout",
     "output_type": "stream",
     "text": [
      "false positive (FP): 16464, false negative (FN): 199, Precision: 16.137%, Recall: 94.090%, F1-measure: 27.549%\n",
      "actual positive (TP+FN): 3367, actual negative (FP+TN): 110673\n",
      "accuracy: 85.388\n",
      "Finished Predicting\n",
      "elapsed_time: 260.5599949359894\n",
      "Client  3\n",
      "Number of sessions(hdfs_test_normal): 5747\n",
      "Number of sessions(hdfs_test_abnormal): 1159\n"
     ]
    },
    {
     "name": "stderr",
     "output_type": "stream",
     "text": [
      "100%|██████████| 5747/5747 [03:31<00:00, 27.13it/s]\n",
      "100%|██████████| 1159/1159 [00:31<00:00, 36.29it/s]\n"
     ]
    },
    {
     "name": "stdout",
     "output_type": "stream",
     "text": [
      "false positive (FP): 16643, false negative (FN): 200, Precision: 15.987%, Recall: 94.060%, F1-measure: 27.329%\n",
      "actual positive (TP+FN): 3367, actual negative (FP+TN): 110673\n",
      "accuracy: 85.231\n",
      "Finished Predicting\n",
      "elapsed_time: 243.74100065231323\n",
      "Client  4\n",
      "Number of sessions(hdfs_test_normal): 5623\n",
      "Number of sessions(hdfs_test_abnormal): 1121\n"
     ]
    },
    {
     "name": "stderr",
     "output_type": "stream",
     "text": [
      "100%|██████████| 5623/5623 [03:43<00:00, 25.19it/s]\n",
      "100%|██████████| 1121/1121 [00:30<00:00, 37.18it/s]\n"
     ]
    },
    {
     "name": "stdout",
     "output_type": "stream",
     "text": [
      "false positive (FP): 16198, false negative (FN): 193, Precision: 16.384%, Recall: 94.268%, F1-measure: 27.917%\n",
      "actual positive (TP+FN): 3367, actual negative (FP+TN): 110673\n",
      "accuracy: 85.627\n",
      "Finished Predicting\n",
      "elapsed_time: 253.41012954711914\n",
      "============ Train epoch 8 ============\n",
      "Client  0\n",
      "File ../data/hdfs/hdfs_train, number of sessions 971\n",
      "File ../data/hdfs/hdfs_train, number of seqs 9420\n",
      "sampling...\n"
     ]
    },
    {
     "name": "stderr",
     "output_type": "stream",
     "text": [
      "100%|██████████| 1058/1058 [00:00<00:00, 3523.39it/s]\n"
     ]
    },
    {
     "name": "stdout",
     "output_type": "stream",
     "text": [
      "File ../data/hdfs/hdfs_test_normal, number of sessions 110673\n",
      "File ../data/hdfs/hdfs_test_normal, number of seqs 1058\n",
      "Find 9420 train logs, 1058 validation logs\n",
      "Train batch size 2048 ,Validation batch size 2048\n",
      "Starting epoch: 0 | phase: train | ⏰: 04:17:01 | Learning rate: 0.000313\n"
     ]
    },
    {
     "name": "stderr",
     "output_type": "stream",
     "text": [
      "Train loss: 2.32167: 100%|██████████| 5/5 [00:00<00:00, 27.91it/s]\n"
     ]
    },
    {
     "name": "stdout",
     "output_type": "stream",
     "text": [
      "Starting epoch: 0 | phase: valid | ⏰: 04:17:01 \n"
     ]
    },
    {
     "name": "stderr",
     "output_type": "stream",
     "text": [
      ": 100%|██████████| 1/1 [00:00<00:00, 51.49it/s]\n"
     ]
    },
    {
     "name": "stdout",
     "output_type": "stream",
     "text": [
      "Validation loss: 2.1906208992004395\n",
      "Client  1\n",
      "File ../data/hdfs/hdfs_train, number of sessions 971\n",
      "File ../data/hdfs/hdfs_train, number of seqs 9080\n",
      "sampling...\n"
     ]
    },
    {
     "name": "stderr",
     "output_type": "stream",
     "text": [
      "100%|██████████| 1046/1046 [00:00<00:00, 3573.77it/s]\n"
     ]
    },
    {
     "name": "stdout",
     "output_type": "stream",
     "text": [
      "File ../data/hdfs/hdfs_test_normal, number of sessions 110673\n",
      "File ../data/hdfs/hdfs_test_normal, number of seqs 1046\n",
      "Find 9080 train logs, 1046 validation logs\n",
      "Train batch size 2048 ,Validation batch size 2048\n",
      "Starting epoch: 0 | phase: train | ⏰: 04:17:12 | Learning rate: 0.000313\n"
     ]
    },
    {
     "name": "stderr",
     "output_type": "stream",
     "text": [
      "Train loss: 2.32714: 100%|██████████| 5/5 [00:00<00:00, 28.73it/s]\n"
     ]
    },
    {
     "name": "stdout",
     "output_type": "stream",
     "text": [
      "Starting epoch: 0 | phase: valid | ⏰: 04:17:13 \n"
     ]
    },
    {
     "name": "stderr",
     "output_type": "stream",
     "text": [
      ": 100%|██████████| 1/1 [00:00<00:00, 56.89it/s]\n"
     ]
    },
    {
     "name": "stdout",
     "output_type": "stream",
     "text": [
      "Validation loss: 2.165952205657959\n",
      "Client  2\n",
      "File ../data/hdfs/hdfs_train, number of sessions 971\n",
      "File ../data/hdfs/hdfs_train, number of seqs 9485\n",
      "sampling...\n"
     ]
    },
    {
     "name": "stderr",
     "output_type": "stream",
     "text": [
      "100%|██████████| 1051/1051 [00:00<00:00, 3504.15it/s]\n"
     ]
    },
    {
     "name": "stdout",
     "output_type": "stream",
     "text": [
      "File ../data/hdfs/hdfs_test_normal, number of sessions 110673\n",
      "File ../data/hdfs/hdfs_test_normal, number of seqs 1051\n",
      "Find 9485 train logs, 1051 validation logs\n",
      "Train batch size 2048 ,Validation batch size 2048\n",
      "Starting epoch: 0 | phase: train | ⏰: 04:17:24 | Learning rate: 0.000313\n"
     ]
    },
    {
     "name": "stderr",
     "output_type": "stream",
     "text": [
      "Train loss: 2.32759: 100%|██████████| 5/5 [00:00<00:00, 27.02it/s]\n"
     ]
    },
    {
     "name": "stdout",
     "output_type": "stream",
     "text": [
      "Starting epoch: 0 | phase: valid | ⏰: 04:17:24 \n"
     ]
    },
    {
     "name": "stderr",
     "output_type": "stream",
     "text": [
      ": 100%|██████████| 1/1 [00:00<00:00, 53.37it/s]\n"
     ]
    },
    {
     "name": "stdout",
     "output_type": "stream",
     "text": [
      "Validation loss: 2.205141544342041\n",
      "Client  3\n",
      "File ../data/hdfs/hdfs_train, number of sessions 971\n",
      "File ../data/hdfs/hdfs_train, number of seqs 9267\n",
      "sampling...\n"
     ]
    },
    {
     "name": "stderr",
     "output_type": "stream",
     "text": [
      "100%|██████████| 1057/1057 [00:00<00:00, 3599.99it/s]\n"
     ]
    },
    {
     "name": "stdout",
     "output_type": "stream",
     "text": [
      "File ../data/hdfs/hdfs_test_normal, number of sessions 110673\n",
      "File ../data/hdfs/hdfs_test_normal, number of seqs 1057\n",
      "Find 9267 train logs, 1057 validation logs\n",
      "Train batch size 2048 ,Validation batch size 2048\n",
      "Starting epoch: 0 | phase: train | ⏰: 04:17:36 | Learning rate: 0.000313\n"
     ]
    },
    {
     "name": "stderr",
     "output_type": "stream",
     "text": [
      "Train loss: 2.32243: 100%|██████████| 5/5 [00:00<00:00, 24.80it/s]\n"
     ]
    },
    {
     "name": "stdout",
     "output_type": "stream",
     "text": [
      "Starting epoch: 0 | phase: valid | ⏰: 04:17:36 \n"
     ]
    },
    {
     "name": "stderr",
     "output_type": "stream",
     "text": [
      ": 100%|██████████| 1/1 [00:00<00:00, 53.51it/s]\n"
     ]
    },
    {
     "name": "stdout",
     "output_type": "stream",
     "text": [
      "Validation loss: 2.2047884464263916\n",
      "Client  4\n",
      "File ../data/hdfs/hdfs_train, number of sessions 971\n",
      "File ../data/hdfs/hdfs_train, number of seqs 9323\n",
      "sampling...\n"
     ]
    },
    {
     "name": "stderr",
     "output_type": "stream",
     "text": [
      "100%|██████████| 1044/1044 [00:00<00:00, 3457.43it/s]\n"
     ]
    },
    {
     "name": "stdout",
     "output_type": "stream",
     "text": [
      "File ../data/hdfs/hdfs_test_normal, number of sessions 110673\n",
      "File ../data/hdfs/hdfs_test_normal, number of seqs 1044\n",
      "Find 9323 train logs, 1044 validation logs\n",
      "Train batch size 2048 ,Validation batch size 2048\n",
      "Starting epoch: 0 | phase: train | ⏰: 04:17:48 | Learning rate: 0.000313\n"
     ]
    },
    {
     "name": "stderr",
     "output_type": "stream",
     "text": [
      "Train loss: 2.31774: 100%|██████████| 5/5 [00:00<00:00, 27.35it/s]\n"
     ]
    },
    {
     "name": "stdout",
     "output_type": "stream",
     "text": [
      "Starting epoch: 0 | phase: valid | ⏰: 04:17:48 \n"
     ]
    },
    {
     "name": "stderr",
     "output_type": "stream",
     "text": [
      ": 100%|██████████| 1/1 [00:00<00:00, 54.29it/s]\n"
     ]
    },
    {
     "name": "stdout",
     "output_type": "stream",
     "text": [
      "Validation loss: 2.1994946002960205\n",
      "============ Test epoch 8 ============\n",
      "Client  0\n",
      "Number of sessions(hdfs_test_normal): 5813\n",
      "Number of sessions(hdfs_test_abnormal): 1136\n"
     ]
    },
    {
     "name": "stderr",
     "output_type": "stream",
     "text": [
      "100%|██████████| 5813/5813 [03:35<00:00, 26.95it/s]\n",
      "100%|██████████| 1136/1136 [00:29<00:00, 38.46it/s]\n"
     ]
    },
    {
     "name": "stdout",
     "output_type": "stream",
     "text": [
      "false positive (FP): 16739, false negative (FN): 169, Precision: 16.041%, Recall: 94.981%, F1-measure: 27.446%\n",
      "actual positive (TP+FN): 3367, actual negative (FP+TN): 110673\n",
      "accuracy: 85.174\n",
      "Finished Predicting\n",
      "elapsed_time: 245.25938725471497\n",
      "Client  1\n",
      "Number of sessions(hdfs_test_normal): 5574\n",
      "Number of sessions(hdfs_test_abnormal): 1139\n"
     ]
    },
    {
     "name": "stderr",
     "output_type": "stream",
     "text": [
      "100%|██████████| 5574/5574 [03:23<00:00, 27.35it/s]\n",
      "100%|██████████| 1139/1139 [00:29<00:00, 37.98it/s]\n"
     ]
    },
    {
     "name": "stdout",
     "output_type": "stream",
     "text": [
      "false positive (FP): 16019, false negative (FN): 187, Precision: 16.563%, Recall: 94.446%, F1-measure: 28.184%\n",
      "actual positive (TP+FN): 3367, actual negative (FP+TN): 110673\n",
      "accuracy: 85.789\n",
      "Finished Predicting\n",
      "elapsed_time: 233.8283233642578\n",
      "Client  2\n",
      "Number of sessions(hdfs_test_normal): 5730\n",
      "Number of sessions(hdfs_test_abnormal): 1118\n"
     ]
    },
    {
     "name": "stderr",
     "output_type": "stream",
     "text": [
      "100%|██████████| 5730/5730 [03:50<00:00, 24.84it/s]\n",
      "100%|██████████| 1118/1118 [00:30<00:00, 36.84it/s]\n"
     ]
    },
    {
     "name": "stdout",
     "output_type": "stream",
     "text": [
      "false positive (FP): 16461, false negative (FN): 197, Precision: 16.148%, Recall: 94.149%, F1-measure: 27.568%\n",
      "actual positive (TP+FN): 3367, actual negative (FP+TN): 110673\n",
      "accuracy: 85.393\n",
      "Finished Predicting\n",
      "elapsed_time: 261.05036902427673\n",
      "Client  3\n",
      "Number of sessions(hdfs_test_normal): 5747\n",
      "Number of sessions(hdfs_test_abnormal): 1159\n"
     ]
    },
    {
     "name": "stderr",
     "output_type": "stream",
     "text": [
      "100%|██████████| 5747/5747 [03:49<00:00, 25.01it/s]\n",
      "100%|██████████| 1159/1159 [00:31<00:00, 36.31it/s]\n"
     ]
    },
    {
     "name": "stdout",
     "output_type": "stream",
     "text": [
      "false positive (FP): 16636, false negative (FN): 198, Precision: 16.001%, Recall: 94.119%, F1-measure: 27.352%\n",
      "actual positive (TP+FN): 3367, actual negative (FP+TN): 110673\n",
      "accuracy: 85.239\n",
      "Finished Predicting\n",
      "elapsed_time: 261.7448663711548\n",
      "Client  4\n",
      "Number of sessions(hdfs_test_normal): 5623\n",
      "Number of sessions(hdfs_test_abnormal): 1121\n"
     ]
    },
    {
     "name": "stderr",
     "output_type": "stream",
     "text": [
      "100%|██████████| 5623/5623 [03:43<00:00, 25.12it/s]\n",
      "100%|██████████| 1121/1121 [00:29<00:00, 37.39it/s]\n"
     ]
    },
    {
     "name": "stdout",
     "output_type": "stream",
     "text": [
      "false positive (FP): 16191, false negative (FN): 190, Precision: 16.403%, Recall: 94.357%, F1-measure: 27.948%\n",
      "actual positive (TP+FN): 3367, actual negative (FP+TN): 110673\n",
      "accuracy: 85.636\n",
      "Finished Predicting\n",
      "elapsed_time: 253.81301355361938\n",
      "============ Train epoch 9 ============\n",
      "Client  0\n",
      "File ../data/hdfs/hdfs_train, number of sessions 971\n",
      "File ../data/hdfs/hdfs_train, number of seqs 9420\n",
      "sampling...\n"
     ]
    },
    {
     "name": "stderr",
     "output_type": "stream",
     "text": [
      "100%|██████████| 1058/1058 [00:00<00:00, 3448.65it/s]\n"
     ]
    },
    {
     "name": "stdout",
     "output_type": "stream",
     "text": [
      "File ../data/hdfs/hdfs_test_normal, number of sessions 110673\n",
      "File ../data/hdfs/hdfs_test_normal, number of seqs 1058\n",
      "Find 9420 train logs, 1058 validation logs\n",
      "Train batch size 2048 ,Validation batch size 2048\n",
      "Starting epoch: 0 | phase: train | ⏰: 04:38:58 | Learning rate: 0.000313\n"
     ]
    },
    {
     "name": "stderr",
     "output_type": "stream",
     "text": [
      "Train loss: 2.11790: 100%|██████████| 5/5 [00:00<00:00, 26.97it/s]\n"
     ]
    },
    {
     "name": "stdout",
     "output_type": "stream",
     "text": [
      "Starting epoch: 0 | phase: valid | ⏰: 04:38:59 \n"
     ]
    },
    {
     "name": "stderr",
     "output_type": "stream",
     "text": [
      ": 100%|██████████| 1/1 [00:00<00:00, 51.87it/s]\n"
     ]
    },
    {
     "name": "stdout",
     "output_type": "stream",
     "text": [
      "Validation loss: 2.0122852325439453\n",
      "Client  1\n",
      "File ../data/hdfs/hdfs_train, number of sessions 971\n",
      "File ../data/hdfs/hdfs_train, number of seqs 9080\n",
      "sampling...\n"
     ]
    },
    {
     "name": "stderr",
     "output_type": "stream",
     "text": [
      "100%|██████████| 1046/1046 [00:00<00:00, 3581.64it/s]\n"
     ]
    },
    {
     "name": "stdout",
     "output_type": "stream",
     "text": [
      "File ../data/hdfs/hdfs_test_normal, number of sessions 110673\n",
      "File ../data/hdfs/hdfs_test_normal, number of seqs 1046\n",
      "Find 9080 train logs, 1046 validation logs\n",
      "Train batch size 2048 ,Validation batch size 2048\n",
      "Starting epoch: 0 | phase: train | ⏰: 04:39:10 | Learning rate: 0.000313\n"
     ]
    },
    {
     "name": "stderr",
     "output_type": "stream",
     "text": [
      "Train loss: 2.12524: 100%|██████████| 5/5 [00:00<00:00, 28.51it/s]\n"
     ]
    },
    {
     "name": "stdout",
     "output_type": "stream",
     "text": [
      "Starting epoch: 0 | phase: valid | ⏰: 04:39:10 \n"
     ]
    },
    {
     "name": "stderr",
     "output_type": "stream",
     "text": [
      ": 100%|██████████| 1/1 [00:00<00:00, 53.30it/s]\n"
     ]
    },
    {
     "name": "stdout",
     "output_type": "stream",
     "text": [
      "Validation loss: 1.9889100790023804\n",
      "Client  2\n",
      "File ../data/hdfs/hdfs_train, number of sessions 971\n",
      "File ../data/hdfs/hdfs_train, number of seqs 9485\n",
      "sampling...\n"
     ]
    },
    {
     "name": "stderr",
     "output_type": "stream",
     "text": [
      "100%|██████████| 1051/1051 [00:00<00:00, 3592.80it/s]\n"
     ]
    },
    {
     "name": "stdout",
     "output_type": "stream",
     "text": [
      "File ../data/hdfs/hdfs_test_normal, number of sessions 110673\n",
      "File ../data/hdfs/hdfs_test_normal, number of seqs 1051\n",
      "Find 9485 train logs, 1051 validation logs\n",
      "Train batch size 2048 ,Validation batch size 2048\n",
      "Starting epoch: 0 | phase: train | ⏰: 04:39:22 | Learning rate: 0.000313\n"
     ]
    },
    {
     "name": "stderr",
     "output_type": "stream",
     "text": [
      "Train loss: 2.12554: 100%|██████████| 5/5 [00:00<00:00, 27.45it/s]\n"
     ]
    },
    {
     "name": "stdout",
     "output_type": "stream",
     "text": [
      "Starting epoch: 0 | phase: valid | ⏰: 04:39:22 \n"
     ]
    },
    {
     "name": "stderr",
     "output_type": "stream",
     "text": [
      ": 100%|██████████| 1/1 [00:00<00:00, 52.33it/s]\n"
     ]
    },
    {
     "name": "stdout",
     "output_type": "stream",
     "text": [
      "Validation loss: 2.0256245136260986\n",
      "Client  3\n",
      "File ../data/hdfs/hdfs_train, number of sessions 971\n",
      "File ../data/hdfs/hdfs_train, number of seqs 9267\n",
      "sampling...\n"
     ]
    },
    {
     "name": "stderr",
     "output_type": "stream",
     "text": [
      "100%|██████████| 1057/1057 [00:00<00:00, 3468.93it/s]\n"
     ]
    },
    {
     "name": "stdout",
     "output_type": "stream",
     "text": [
      "File ../data/hdfs/hdfs_test_normal, number of sessions 110673\n",
      "File ../data/hdfs/hdfs_test_normal, number of seqs 1057\n",
      "Find 9267 train logs, 1057 validation logs\n",
      "Train batch size 2048 ,Validation batch size 2048\n",
      "Starting epoch: 0 | phase: train | ⏰: 04:39:34 | Learning rate: 0.000313\n"
     ]
    },
    {
     "name": "stderr",
     "output_type": "stream",
     "text": [
      "Train loss: 2.11763: 100%|██████████| 5/5 [00:00<00:00, 27.93it/s]\n"
     ]
    },
    {
     "name": "stdout",
     "output_type": "stream",
     "text": [
      "Starting epoch: 0 | phase: valid | ⏰: 04:39:34 \n"
     ]
    },
    {
     "name": "stderr",
     "output_type": "stream",
     "text": [
      ": 100%|██████████| 1/1 [00:00<00:00, 53.56it/s]\n"
     ]
    },
    {
     "name": "stdout",
     "output_type": "stream",
     "text": [
      "Validation loss: 2.0203096866607666\n",
      "Client  4\n",
      "File ../data/hdfs/hdfs_train, number of sessions 971\n",
      "File ../data/hdfs/hdfs_train, number of seqs 9323\n",
      "sampling...\n"
     ]
    },
    {
     "name": "stderr",
     "output_type": "stream",
     "text": [
      "100%|██████████| 1044/1044 [00:00<00:00, 3618.64it/s]\n"
     ]
    },
    {
     "name": "stdout",
     "output_type": "stream",
     "text": [
      "File ../data/hdfs/hdfs_test_normal, number of sessions 110673\n",
      "File ../data/hdfs/hdfs_test_normal, number of seqs 1044\n",
      "Find 9323 train logs, 1044 validation logs\n",
      "Train batch size 2048 ,Validation batch size 2048\n",
      "Starting epoch: 0 | phase: train | ⏰: 04:39:46 | Learning rate: 0.000313\n"
     ]
    },
    {
     "name": "stderr",
     "output_type": "stream",
     "text": [
      "Train loss: 2.11235: 100%|██████████| 5/5 [00:00<00:00, 27.52it/s]\n"
     ]
    },
    {
     "name": "stdout",
     "output_type": "stream",
     "text": [
      "Starting epoch: 0 | phase: valid | ⏰: 04:39:46 \n"
     ]
    },
    {
     "name": "stderr",
     "output_type": "stream",
     "text": [
      ": 100%|██████████| 1/1 [00:00<00:00, 55.07it/s]\n"
     ]
    },
    {
     "name": "stdout",
     "output_type": "stream",
     "text": [
      "Validation loss: 2.0097453594207764\n",
      "============ Test epoch 9 ============\n",
      "Client  0\n",
      "Number of sessions(hdfs_test_normal): 5813\n",
      "Number of sessions(hdfs_test_abnormal): 1136\n"
     ]
    },
    {
     "name": "stderr",
     "output_type": "stream",
     "text": [
      "100%|██████████| 5813/5813 [05:13<00:00, 18.54it/s]\n",
      "100%|██████████| 1136/1136 [00:33<00:00, 33.67it/s]\n"
     ]
    },
    {
     "name": "stdout",
     "output_type": "stream",
     "text": [
      "false positive (FP): 490, false negative (FN): 24, Precision: 87.216%, Recall: 99.287%, F1-measure: 92.861%\n",
      "actual positive (TP+FN): 3367, actual negative (FP+TN): 110673\n",
      "accuracy: 99.549\n",
      "Finished Predicting\n",
      "elapsed_time: 347.22548961639404\n",
      "Client  1\n",
      "Number of sessions(hdfs_test_normal): 5574\n",
      "Number of sessions(hdfs_test_abnormal): 1139\n"
     ]
    },
    {
     "name": "stderr",
     "output_type": "stream",
     "text": [
      "100%|██████████| 5574/5574 [05:09<00:00, 18.01it/s]\n",
      "100%|██████████| 1139/1139 [00:27<00:00, 41.57it/s]\n"
     ]
    },
    {
     "name": "stdout",
     "output_type": "stream",
     "text": [
      "false positive (FP): 528, false negative (FN): 25, Precision: 86.357%, Recall: 99.257%, F1-measure: 92.359%\n",
      "actual positive (TP+FN): 3367, actual negative (FP+TN): 110673\n",
      "accuracy: 99.515\n",
      "Finished Predicting\n",
      "elapsed_time: 336.9214770793915\n",
      "Client  2\n",
      "Number of sessions(hdfs_test_normal): 5730\n",
      "Number of sessions(hdfs_test_abnormal): 1118\n"
     ]
    },
    {
     "name": "stderr",
     "output_type": "stream",
     "text": [
      "100%|██████████| 5730/5730 [05:06<00:00, 18.70it/s]\n",
      "100%|██████████| 1118/1118 [00:35<00:00, 31.86it/s]\n"
     ]
    },
    {
     "name": "stdout",
     "output_type": "stream",
     "text": [
      "false positive (FP): 468, false negative (FN): 30, Precision: 87.700%, Recall: 99.109%, F1-measure: 93.056%\n",
      "actual positive (TP+FN): 3367, actual negative (FP+TN): 110673\n",
      "accuracy: 99.563\n",
      "Finished Predicting\n",
      "elapsed_time: 341.5475649833679\n",
      "Client  3\n",
      "Number of sessions(hdfs_test_normal): 5747\n",
      "Number of sessions(hdfs_test_abnormal): 1159\n"
     ]
    },
    {
     "name": "stderr",
     "output_type": "stream",
     "text": [
      "100%|██████████| 5747/5747 [05:28<00:00, 17.47it/s]\n",
      "100%|██████████| 1159/1159 [00:36<00:00, 31.44it/s]\n"
     ]
    },
    {
     "name": "stdout",
     "output_type": "stream",
     "text": [
      "false positive (FP): 451, false negative (FN): 28, Precision: 88.100%, Recall: 99.168%, F1-measure: 93.307%\n",
      "actual positive (TP+FN): 3367, actual negative (FP+TN): 110673\n",
      "accuracy: 99.580\n",
      "Finished Predicting\n",
      "elapsed_time: 365.7722613811493\n",
      "Client  4\n",
      "Number of sessions(hdfs_test_normal): 5623\n",
      "Number of sessions(hdfs_test_abnormal): 1121\n"
     ]
    },
    {
     "name": "stderr",
     "output_type": "stream",
     "text": [
      "100%|██████████| 5623/5623 [05:18<00:00, 17.66it/s]\n",
      "100%|██████████| 1121/1121 [00:34<00:00, 32.16it/s]\n"
     ]
    },
    {
     "name": "stdout",
     "output_type": "stream",
     "text": [
      "false positive (FP): 525, false negative (FN): 32, Precision: 86.399%, Recall: 99.050%, F1-measure: 92.293%\n",
      "actual positive (TP+FN): 3367, actual negative (FP+TN): 110673\n",
      "accuracy: 99.512\n",
      "Finished Predicting\n",
      "elapsed_time: 353.2642140388489\n",
      "============ Train epoch 10 ============\n",
      "Client  0\n",
      "File ../data/hdfs/hdfs_train, number of sessions 971\n",
      "File ../data/hdfs/hdfs_train, number of seqs 9420\n",
      "sampling...\n"
     ]
    },
    {
     "name": "stderr",
     "output_type": "stream",
     "text": [
      "100%|██████████| 1058/1058 [00:00<00:00, 3581.46it/s]\n"
     ]
    },
    {
     "name": "stdout",
     "output_type": "stream",
     "text": [
      "File ../data/hdfs/hdfs_test_normal, number of sessions 110673\n",
      "File ../data/hdfs/hdfs_test_normal, number of seqs 1058\n",
      "Find 9420 train logs, 1058 validation logs\n",
      "Train batch size 2048 ,Validation batch size 2048\n",
      "Starting epoch: 0 | phase: train | ⏰: 05:09:05 | Learning rate: 0.000313\n"
     ]
    },
    {
     "name": "stderr",
     "output_type": "stream",
     "text": [
      "Train loss: 1.96864: 100%|██████████| 5/5 [00:00<00:00, 28.41it/s]\n"
     ]
    },
    {
     "name": "stdout",
     "output_type": "stream",
     "text": [
      "Starting epoch: 0 | phase: valid | ⏰: 05:09:05 \n"
     ]
    },
    {
     "name": "stderr",
     "output_type": "stream",
     "text": [
      ": 100%|██████████| 1/1 [00:00<00:00, 52.02it/s]\n"
     ]
    },
    {
     "name": "stdout",
     "output_type": "stream",
     "text": [
      "Validation loss: 1.9148414134979248\n",
      "Client  1\n",
      "File ../data/hdfs/hdfs_train, number of sessions 971\n",
      "File ../data/hdfs/hdfs_train, number of seqs 9080\n",
      "sampling...\n"
     ]
    },
    {
     "name": "stderr",
     "output_type": "stream",
     "text": [
      "100%|██████████| 1046/1046 [00:00<00:00, 3573.99it/s]\n"
     ]
    },
    {
     "name": "stdout",
     "output_type": "stream",
     "text": [
      "File ../data/hdfs/hdfs_test_normal, number of sessions 110673\n",
      "File ../data/hdfs/hdfs_test_normal, number of seqs 1046\n",
      "Find 9080 train logs, 1046 validation logs\n",
      "Train batch size 2048 ,Validation batch size 2048\n",
      "Starting epoch: 0 | phase: train | ⏰: 05:09:17 | Learning rate: 0.000313\n"
     ]
    },
    {
     "name": "stderr",
     "output_type": "stream",
     "text": [
      "Train loss: 1.97941: 100%|██████████| 5/5 [00:00<00:00, 29.66it/s]\n"
     ]
    },
    {
     "name": "stdout",
     "output_type": "stream",
     "text": [
      "Starting epoch: 0 | phase: valid | ⏰: 05:09:17 \n"
     ]
    },
    {
     "name": "stderr",
     "output_type": "stream",
     "text": [
      ": 100%|██████████| 1/1 [00:00<00:00, 55.34it/s]\n"
     ]
    },
    {
     "name": "stdout",
     "output_type": "stream",
     "text": [
      "Validation loss: 1.8850764036178589\n",
      "Client  2\n",
      "File ../data/hdfs/hdfs_train, number of sessions 971\n",
      "File ../data/hdfs/hdfs_train, number of seqs 9485\n",
      "sampling...\n"
     ]
    },
    {
     "name": "stderr",
     "output_type": "stream",
     "text": [
      "100%|██████████| 1051/1051 [00:00<00:00, 3615.86it/s]\n"
     ]
    },
    {
     "name": "stdout",
     "output_type": "stream",
     "text": [
      "File ../data/hdfs/hdfs_test_normal, number of sessions 110673\n",
      "File ../data/hdfs/hdfs_test_normal, number of seqs 1051\n",
      "Find 9485 train logs, 1051 validation logs\n",
      "Train batch size 2048 ,Validation batch size 2048\n",
      "Starting epoch: 0 | phase: train | ⏰: 05:09:29 | Learning rate: 0.000313\n"
     ]
    },
    {
     "name": "stderr",
     "output_type": "stream",
     "text": [
      "Train loss: 1.98178: 100%|██████████| 5/5 [00:00<00:00, 27.94it/s]\n"
     ]
    },
    {
     "name": "stdout",
     "output_type": "stream",
     "text": [
      "Starting epoch: 0 | phase: valid | ⏰: 05:09:29 \n"
     ]
    },
    {
     "name": "stderr",
     "output_type": "stream",
     "text": [
      ": 100%|██████████| 1/1 [00:00<00:00, 50.40it/s]\n"
     ]
    },
    {
     "name": "stdout",
     "output_type": "stream",
     "text": [
      "Validation loss: 1.880852460861206\n",
      "Client  3\n",
      "File ../data/hdfs/hdfs_train, number of sessions 971\n",
      "File ../data/hdfs/hdfs_train, number of seqs 9267\n",
      "sampling...\n"
     ]
    },
    {
     "name": "stderr",
     "output_type": "stream",
     "text": [
      "100%|██████████| 1057/1057 [00:00<00:00, 3595.93it/s]\n"
     ]
    },
    {
     "name": "stdout",
     "output_type": "stream",
     "text": [
      "File ../data/hdfs/hdfs_test_normal, number of sessions 110673\n",
      "File ../data/hdfs/hdfs_test_normal, number of seqs 1057\n",
      "Find 9267 train logs, 1057 validation logs\n",
      "Train batch size 2048 ,Validation batch size 2048\n",
      "Starting epoch: 0 | phase: train | ⏰: 05:09:41 | Learning rate: 0.000313\n"
     ]
    },
    {
     "name": "stderr",
     "output_type": "stream",
     "text": [
      "Train loss: 1.96630: 100%|██████████| 5/5 [00:00<00:00, 28.64it/s]\n"
     ]
    },
    {
     "name": "stdout",
     "output_type": "stream",
     "text": [
      "Starting epoch: 0 | phase: valid | ⏰: 05:09:41 \n"
     ]
    },
    {
     "name": "stderr",
     "output_type": "stream",
     "text": [
      ": 100%|██████████| 1/1 [00:00<00:00, 57.02it/s]\n"
     ]
    },
    {
     "name": "stdout",
     "output_type": "stream",
     "text": [
      "Validation loss: 1.9284048080444336\n",
      "Client  4\n",
      "File ../data/hdfs/hdfs_train, number of sessions 971\n",
      "File ../data/hdfs/hdfs_train, number of seqs 9323\n",
      "sampling...\n"
     ]
    },
    {
     "name": "stderr",
     "output_type": "stream",
     "text": [
      "100%|██████████| 1044/1044 [00:00<00:00, 3624.93it/s]\n"
     ]
    },
    {
     "name": "stdout",
     "output_type": "stream",
     "text": [
      "File ../data/hdfs/hdfs_test_normal, number of sessions 110673\n",
      "File ../data/hdfs/hdfs_test_normal, number of seqs 1044\n",
      "Find 9323 train logs, 1044 validation logs\n",
      "Train batch size 2048 ,Validation batch size 2048\n",
      "Starting epoch: 0 | phase: train | ⏰: 05:09:52 | Learning rate: 0.000313\n"
     ]
    },
    {
     "name": "stderr",
     "output_type": "stream",
     "text": [
      "Train loss: 1.96731: 100%|██████████| 5/5 [00:00<00:00, 28.92it/s]\n"
     ]
    },
    {
     "name": "stdout",
     "output_type": "stream",
     "text": [
      "Starting epoch: 0 | phase: valid | ⏰: 05:09:53 \n"
     ]
    },
    {
     "name": "stderr",
     "output_type": "stream",
     "text": [
      ": 100%|██████████| 1/1 [00:00<00:00, 54.81it/s]\n"
     ]
    },
    {
     "name": "stdout",
     "output_type": "stream",
     "text": [
      "Validation loss: 1.900316596031189\n",
      "============ Test epoch 10 ============\n",
      "Client  0\n",
      "Number of sessions(hdfs_test_normal): 5813\n",
      "Number of sessions(hdfs_test_abnormal): 1136\n"
     ]
    },
    {
     "name": "stderr",
     "output_type": "stream",
     "text": [
      "100%|██████████| 5813/5813 [05:13<00:00, 18.53it/s]\n",
      "100%|██████████| 1136/1136 [00:33<00:00, 33.63it/s]\n"
     ]
    },
    {
     "name": "stdout",
     "output_type": "stream",
     "text": [
      "false positive (FP): 490, false negative (FN): 24, Precision: 87.216%, Recall: 99.287%, F1-measure: 92.861%\n",
      "actual positive (TP+FN): 3367, actual negative (FP+TN): 110673\n",
      "accuracy: 99.549\n",
      "Finished Predicting\n",
      "elapsed_time: 347.5629804134369\n",
      "Client  1\n",
      "Number of sessions(hdfs_test_normal): 5574\n",
      "Number of sessions(hdfs_test_abnormal): 1139\n"
     ]
    },
    {
     "name": "stderr",
     "output_type": "stream",
     "text": [
      "100%|██████████| 5574/5574 [05:08<00:00, 18.04it/s]\n",
      "100%|██████████| 1139/1139 [00:27<00:00, 41.76it/s]\n"
     ]
    },
    {
     "name": "stdout",
     "output_type": "stream",
     "text": [
      "false positive (FP): 528, false negative (FN): 25, Precision: 86.357%, Recall: 99.257%, F1-measure: 92.359%\n",
      "actual positive (TP+FN): 3367, actual negative (FP+TN): 110673\n",
      "accuracy: 99.515\n",
      "Finished Predicting\n",
      "elapsed_time: 336.23577523231506\n",
      "Client  2\n",
      "Number of sessions(hdfs_test_normal): 5730\n",
      "Number of sessions(hdfs_test_abnormal): 1118\n"
     ]
    },
    {
     "name": "stderr",
     "output_type": "stream",
     "text": [
      "100%|██████████| 5730/5730 [05:06<00:00, 18.71it/s]\n",
      "100%|██████████| 1118/1118 [00:35<00:00, 31.75it/s]\n"
     ]
    },
    {
     "name": "stdout",
     "output_type": "stream",
     "text": [
      "false positive (FP): 468, false negative (FN): 30, Precision: 87.700%, Recall: 99.109%, F1-measure: 93.056%\n",
      "actual positive (TP+FN): 3367, actual negative (FP+TN): 110673\n",
      "accuracy: 99.563\n",
      "Finished Predicting\n",
      "elapsed_time: 341.4873926639557\n",
      "Client  3\n",
      "Number of sessions(hdfs_test_normal): 5747\n",
      "Number of sessions(hdfs_test_abnormal): 1159\n"
     ]
    },
    {
     "name": "stderr",
     "output_type": "stream",
     "text": [
      "100%|██████████| 5747/5747 [05:28<00:00, 17.50it/s]\n",
      "100%|██████████| 1159/1159 [00:36<00:00, 31.50it/s]\n"
     ]
    },
    {
     "name": "stdout",
     "output_type": "stream",
     "text": [
      "false positive (FP): 451, false negative (FN): 28, Precision: 88.100%, Recall: 99.168%, F1-measure: 93.307%\n",
      "actual positive (TP+FN): 3367, actual negative (FP+TN): 110673\n",
      "accuracy: 99.580\n",
      "Finished Predicting\n",
      "elapsed_time: 365.278178691864\n",
      "Client  4\n",
      "Number of sessions(hdfs_test_normal): 5623\n",
      "Number of sessions(hdfs_test_abnormal): 1121\n"
     ]
    },
    {
     "name": "stderr",
     "output_type": "stream",
     "text": [
      "100%|██████████| 5623/5623 [05:17<00:00, 17.70it/s]\n",
      "100%|██████████| 1121/1121 [00:34<00:00, 32.23it/s]\n"
     ]
    },
    {
     "name": "stdout",
     "output_type": "stream",
     "text": [
      "false positive (FP): 525, false negative (FN): 32, Precision: 86.399%, Recall: 99.050%, F1-measure: 92.293%\n",
      "actual positive (TP+FN): 3367, actual negative (FP+TN): 110673\n",
      "accuracy: 99.512\n",
      "Finished Predicting\n",
      "elapsed_time: 352.50011134147644\n",
      "============ Train epoch 11 ============\n",
      "Client  0\n",
      "File ../data/hdfs/hdfs_train, number of sessions 971\n",
      "File ../data/hdfs/hdfs_train, number of seqs 9420\n",
      "sampling...\n"
     ]
    },
    {
     "name": "stderr",
     "output_type": "stream",
     "text": [
      "100%|██████████| 1058/1058 [00:00<00:00, 3552.38it/s]\n"
     ]
    },
    {
     "name": "stdout",
     "output_type": "stream",
     "text": [
      "File ../data/hdfs/hdfs_test_normal, number of sessions 110673\n",
      "File ../data/hdfs/hdfs_test_normal, number of seqs 1058\n",
      "Find 9420 train logs, 1058 validation logs\n",
      "Train batch size 2048 ,Validation batch size 2048\n",
      "Starting epoch: 0 | phase: train | ⏰: 05:39:10 | Learning rate: 0.000313\n"
     ]
    },
    {
     "name": "stderr",
     "output_type": "stream",
     "text": [
      "Train loss: 1.88463: 100%|██████████| 5/5 [00:00<00:00, 26.98it/s]\n"
     ]
    },
    {
     "name": "stdout",
     "output_type": "stream",
     "text": [
      "Starting epoch: 0 | phase: valid | ⏰: 05:39:11 \n"
     ]
    },
    {
     "name": "stderr",
     "output_type": "stream",
     "text": [
      ": 100%|██████████| 1/1 [00:00<00:00, 52.22it/s]\n"
     ]
    },
    {
     "name": "stdout",
     "output_type": "stream",
     "text": [
      "Validation loss: 1.8691729307174683\n",
      "Client  1\n",
      "File ../data/hdfs/hdfs_train, number of sessions 971\n",
      "File ../data/hdfs/hdfs_train, number of seqs 9080\n",
      "sampling...\n"
     ]
    },
    {
     "name": "stderr",
     "output_type": "stream",
     "text": [
      "100%|██████████| 1046/1046 [00:00<00:00, 3565.34it/s]\n"
     ]
    },
    {
     "name": "stdout",
     "output_type": "stream",
     "text": [
      "File ../data/hdfs/hdfs_test_normal, number of sessions 110673\n",
      "File ../data/hdfs/hdfs_test_normal, number of seqs 1046\n",
      "Find 9080 train logs, 1046 validation logs\n",
      "Train batch size 2048 ,Validation batch size 2048\n",
      "Starting epoch: 0 | phase: train | ⏰: 05:39:22 | Learning rate: 0.000313\n"
     ]
    },
    {
     "name": "stderr",
     "output_type": "stream",
     "text": [
      "Train loss: 1.90161: 100%|██████████| 5/5 [00:00<00:00, 28.19it/s]\n"
     ]
    },
    {
     "name": "stdout",
     "output_type": "stream",
     "text": [
      "Starting epoch: 0 | phase: valid | ⏰: 05:39:22 \n"
     ]
    },
    {
     "name": "stderr",
     "output_type": "stream",
     "text": [
      ": 100%|██████████| 1/1 [00:00<00:00, 54.75it/s]\n"
     ]
    },
    {
     "name": "stdout",
     "output_type": "stream",
     "text": [
      "Validation loss: 1.822730302810669\n",
      "Client  2\n",
      "File ../data/hdfs/hdfs_train, number of sessions 971\n",
      "File ../data/hdfs/hdfs_train, number of seqs 9485\n",
      "sampling...\n"
     ]
    },
    {
     "name": "stderr",
     "output_type": "stream",
     "text": [
      "100%|██████████| 1051/1051 [00:00<00:00, 3451.84it/s]\n"
     ]
    },
    {
     "name": "stdout",
     "output_type": "stream",
     "text": [
      "File ../data/hdfs/hdfs_test_normal, number of sessions 110673\n",
      "File ../data/hdfs/hdfs_test_normal, number of seqs 1051\n",
      "Find 9485 train logs, 1051 validation logs\n",
      "Train batch size 2048 ,Validation batch size 2048\n",
      "Starting epoch: 0 | phase: train | ⏰: 05:39:34 | Learning rate: 0.000313\n"
     ]
    },
    {
     "name": "stderr",
     "output_type": "stream",
     "text": [
      "Train loss: 1.90592: 100%|██████████| 5/5 [00:00<00:00, 25.59it/s]\n"
     ]
    },
    {
     "name": "stdout",
     "output_type": "stream",
     "text": [
      "Starting epoch: 0 | phase: valid | ⏰: 05:39:34 \n"
     ]
    },
    {
     "name": "stderr",
     "output_type": "stream",
     "text": [
      ": 100%|██████████| 1/1 [00:00<00:00, 54.49it/s]\n"
     ]
    },
    {
     "name": "stdout",
     "output_type": "stream",
     "text": [
      "Validation loss: 1.8361053466796875\n",
      "Client  3\n",
      "File ../data/hdfs/hdfs_train, number of sessions 971\n",
      "File ../data/hdfs/hdfs_train, number of seqs 9267\n",
      "sampling...\n"
     ]
    },
    {
     "name": "stderr",
     "output_type": "stream",
     "text": [
      "100%|██████████| 1057/1057 [00:00<00:00, 3502.64it/s]\n"
     ]
    },
    {
     "name": "stdout",
     "output_type": "stream",
     "text": [
      "File ../data/hdfs/hdfs_test_normal, number of sessions 110673\n",
      "File ../data/hdfs/hdfs_test_normal, number of seqs 1057\n",
      "Find 9267 train logs, 1057 validation logs\n",
      "Train batch size 2048 ,Validation batch size 2048\n",
      "Starting epoch: 0 | phase: train | ⏰: 05:39:46 | Learning rate: 0.000313\n"
     ]
    },
    {
     "name": "stderr",
     "output_type": "stream",
     "text": [
      "Train loss: 1.88791: 100%|██████████| 5/5 [00:00<00:00, 28.35it/s]\n"
     ]
    },
    {
     "name": "stdout",
     "output_type": "stream",
     "text": [
      "Starting epoch: 0 | phase: valid | ⏰: 05:39:46 \n"
     ]
    },
    {
     "name": "stderr",
     "output_type": "stream",
     "text": [
      ": 100%|██████████| 1/1 [00:00<00:00, 51.31it/s]\n"
     ]
    },
    {
     "name": "stdout",
     "output_type": "stream",
     "text": [
      "Validation loss: 1.8859002590179443\n",
      "Client  4\n",
      "File ../data/hdfs/hdfs_train, number of sessions 971\n",
      "File ../data/hdfs/hdfs_train, number of seqs 9323\n",
      "sampling...\n"
     ]
    },
    {
     "name": "stderr",
     "output_type": "stream",
     "text": [
      "100%|██████████| 1044/1044 [00:00<00:00, 3511.19it/s]\n"
     ]
    },
    {
     "name": "stdout",
     "output_type": "stream",
     "text": [
      "File ../data/hdfs/hdfs_test_normal, number of sessions 110673\n",
      "File ../data/hdfs/hdfs_test_normal, number of seqs 1044\n",
      "Find 9323 train logs, 1044 validation logs\n",
      "Train batch size 2048 ,Validation batch size 2048\n",
      "Starting epoch: 0 | phase: train | ⏰: 05:39:57 | Learning rate: 0.000313\n"
     ]
    },
    {
     "name": "stderr",
     "output_type": "stream",
     "text": [
      "Train loss: 1.88600: 100%|██████████| 5/5 [00:00<00:00, 25.37it/s]\n"
     ]
    },
    {
     "name": "stdout",
     "output_type": "stream",
     "text": [
      "Starting epoch: 0 | phase: valid | ⏰: 05:39:58 \n"
     ]
    },
    {
     "name": "stderr",
     "output_type": "stream",
     "text": [
      ": 100%|██████████| 1/1 [00:00<00:00, 56.71it/s]\n"
     ]
    },
    {
     "name": "stdout",
     "output_type": "stream",
     "text": [
      "Validation loss: 1.8187248706817627\n",
      "============ Test epoch 11 ============\n",
      "Client  0\n",
      "Number of sessions(hdfs_test_normal): 5813\n",
      "Number of sessions(hdfs_test_abnormal): 1136\n"
     ]
    },
    {
     "name": "stderr",
     "output_type": "stream",
     "text": [
      "100%|██████████| 5813/5813 [05:13<00:00, 18.55it/s]\n",
      "100%|██████████| 1136/1136 [00:33<00:00, 33.70it/s]\n"
     ]
    },
    {
     "name": "stdout",
     "output_type": "stream",
     "text": [
      "false positive (FP): 490, false negative (FN): 24, Precision: 87.216%, Recall: 99.287%, F1-measure: 92.861%\n",
      "actual positive (TP+FN): 3367, actual negative (FP+TN): 110673\n",
      "accuracy: 99.549\n",
      "Finished Predicting\n",
      "elapsed_time: 347.09929752349854\n",
      "Client  1\n",
      "Number of sessions(hdfs_test_normal): 5574\n",
      "Number of sessions(hdfs_test_abnormal): 1139\n"
     ]
    },
    {
     "name": "stderr",
     "output_type": "stream",
     "text": [
      "100%|██████████| 5574/5574 [05:07<00:00, 18.10it/s]\n",
      "100%|██████████| 1139/1139 [00:27<00:00, 41.63it/s]\n"
     ]
    },
    {
     "name": "stdout",
     "output_type": "stream",
     "text": [
      "false positive (FP): 528, false negative (FN): 25, Precision: 86.357%, Recall: 99.257%, F1-measure: 92.359%\n",
      "actual positive (TP+FN): 3367, actual negative (FP+TN): 110673\n",
      "accuracy: 99.515\n",
      "Finished Predicting\n",
      "elapsed_time: 335.26631331443787\n",
      "Client  2\n",
      "Number of sessions(hdfs_test_normal): 5730\n",
      "Number of sessions(hdfs_test_abnormal): 1118\n"
     ]
    },
    {
     "name": "stderr",
     "output_type": "stream",
     "text": [
      "100%|██████████| 5730/5730 [05:06<00:00, 18.69it/s]\n",
      "100%|██████████| 1118/1118 [00:35<00:00, 31.90it/s]\n"
     ]
    },
    {
     "name": "stdout",
     "output_type": "stream",
     "text": [
      "false positive (FP): 468, false negative (FN): 30, Precision: 87.700%, Recall: 99.109%, F1-measure: 93.056%\n",
      "actual positive (TP+FN): 3367, actual negative (FP+TN): 110673\n",
      "accuracy: 99.563\n",
      "Finished Predicting\n",
      "elapsed_time: 341.6729476451874\n",
      "Client  3\n",
      "Number of sessions(hdfs_test_normal): 5747\n",
      "Number of sessions(hdfs_test_abnormal): 1159\n"
     ]
    },
    {
     "name": "stderr",
     "output_type": "stream",
     "text": [
      "100%|██████████| 5747/5747 [05:28<00:00, 17.49it/s]\n",
      "100%|██████████| 1159/1159 [00:36<00:00, 31.45it/s]\n"
     ]
    },
    {
     "name": "stdout",
     "output_type": "stream",
     "text": [
      "false positive (FP): 451, false negative (FN): 28, Precision: 88.100%, Recall: 99.168%, F1-measure: 93.307%\n",
      "actual positive (TP+FN): 3367, actual negative (FP+TN): 110673\n",
      "accuracy: 99.580\n",
      "Finished Predicting\n",
      "elapsed_time: 365.5216393470764\n",
      "Client  4\n",
      "Number of sessions(hdfs_test_normal): 5623\n",
      "Number of sessions(hdfs_test_abnormal): 1121\n"
     ]
    },
    {
     "name": "stderr",
     "output_type": "stream",
     "text": [
      "100%|██████████| 5623/5623 [05:17<00:00, 17.71it/s]\n",
      "100%|██████████| 1121/1121 [00:34<00:00, 32.21it/s]\n"
     ]
    },
    {
     "name": "stdout",
     "output_type": "stream",
     "text": [
      "false positive (FP): 525, false negative (FN): 32, Precision: 86.399%, Recall: 99.050%, F1-measure: 92.293%\n",
      "actual positive (TP+FN): 3367, actual negative (FP+TN): 110673\n",
      "accuracy: 99.512\n",
      "Finished Predicting\n",
      "elapsed_time: 352.3120057582855\n",
      "============ Train epoch 12 ============\n",
      "Client  0\n",
      "File ../data/hdfs/hdfs_train, number of sessions 971\n",
      "File ../data/hdfs/hdfs_train, number of seqs 9420\n",
      "sampling...\n"
     ]
    },
    {
     "name": "stderr",
     "output_type": "stream",
     "text": [
      "100%|██████████| 1058/1058 [00:00<00:00, 3508.86it/s]\n"
     ]
    },
    {
     "name": "stdout",
     "output_type": "stream",
     "text": [
      "File ../data/hdfs/hdfs_test_normal, number of sessions 110673\n",
      "File ../data/hdfs/hdfs_test_normal, number of seqs 1058\n",
      "Find 9420 train logs, 1058 validation logs\n",
      "Train batch size 2048 ,Validation batch size 2048\n",
      "Starting epoch: 0 | phase: train | ⏰: 06:09:14 | Learning rate: 0.000313\n"
     ]
    },
    {
     "name": "stderr",
     "output_type": "stream",
     "text": [
      "Train loss: 1.84284: 100%|██████████| 5/5 [00:00<00:00, 26.81it/s]\n"
     ]
    },
    {
     "name": "stdout",
     "output_type": "stream",
     "text": [
      "Starting epoch: 0 | phase: valid | ⏰: 06:09:15 \n"
     ]
    },
    {
     "name": "stderr",
     "output_type": "stream",
     "text": [
      ": 100%|██████████| 1/1 [00:00<00:00, 53.93it/s]\n"
     ]
    },
    {
     "name": "stdout",
     "output_type": "stream",
     "text": [
      "Validation loss: 1.8660329580307007\n",
      "Client  1\n",
      "File ../data/hdfs/hdfs_train, number of sessions 971\n",
      "File ../data/hdfs/hdfs_train, number of seqs 9080\n",
      "sampling...\n"
     ]
    },
    {
     "name": "stderr",
     "output_type": "stream",
     "text": [
      "100%|██████████| 1046/1046 [00:00<00:00, 3552.55it/s]\n"
     ]
    },
    {
     "name": "stdout",
     "output_type": "stream",
     "text": [
      "File ../data/hdfs/hdfs_test_normal, number of sessions 110673\n",
      "File ../data/hdfs/hdfs_test_normal, number of seqs 1046\n",
      "Find 9080 train logs, 1046 validation logs\n",
      "Train batch size 2048 ,Validation batch size 2048\n",
      "Starting epoch: 0 | phase: train | ⏰: 06:09:26 | Learning rate: 0.000313\n"
     ]
    },
    {
     "name": "stderr",
     "output_type": "stream",
     "text": [
      "Train loss: 1.85601: 100%|██████████| 5/5 [00:00<00:00, 28.36it/s]\n"
     ]
    },
    {
     "name": "stdout",
     "output_type": "stream",
     "text": [
      "Starting epoch: 0 | phase: valid | ⏰: 06:09:26 \n"
     ]
    },
    {
     "name": "stderr",
     "output_type": "stream",
     "text": [
      ": 100%|██████████| 1/1 [00:00<00:00, 56.12it/s]\n"
     ]
    },
    {
     "name": "stdout",
     "output_type": "stream",
     "text": [
      "Validation loss: 1.7530405521392822\n",
      "Client  2\n",
      "File ../data/hdfs/hdfs_train, number of sessions 971\n",
      "File ../data/hdfs/hdfs_train, number of seqs 9485\n",
      "sampling...\n"
     ]
    },
    {
     "name": "stderr",
     "output_type": "stream",
     "text": [
      "100%|██████████| 1051/1051 [00:00<00:00, 3538.09it/s]\n"
     ]
    },
    {
     "name": "stdout",
     "output_type": "stream",
     "text": [
      "File ../data/hdfs/hdfs_test_normal, number of sessions 110673\n",
      "File ../data/hdfs/hdfs_test_normal, number of seqs 1051\n",
      "Find 9485 train logs, 1051 validation logs\n",
      "Train batch size 2048 ,Validation batch size 2048\n",
      "Starting epoch: 0 | phase: train | ⏰: 06:09:38 | Learning rate: 0.000313\n"
     ]
    },
    {
     "name": "stderr",
     "output_type": "stream",
     "text": [
      "Train loss: 1.85961: 100%|██████████| 5/5 [00:00<00:00, 25.21it/s]\n"
     ]
    },
    {
     "name": "stdout",
     "output_type": "stream",
     "text": [
      "Starting epoch: 0 | phase: valid | ⏰: 06:09:38 \n"
     ]
    },
    {
     "name": "stderr",
     "output_type": "stream",
     "text": [
      ": 100%|██████████| 1/1 [00:00<00:00, 51.75it/s]\n"
     ]
    },
    {
     "name": "stdout",
     "output_type": "stream",
     "text": [
      "Validation loss: 1.7770401239395142\n",
      "Client  3\n",
      "File ../data/hdfs/hdfs_train, number of sessions 971\n",
      "File ../data/hdfs/hdfs_train, number of seqs 9267\n",
      "sampling...\n"
     ]
    },
    {
     "name": "stderr",
     "output_type": "stream",
     "text": [
      "100%|██████████| 1057/1057 [00:00<00:00, 3576.49it/s]\n"
     ]
    },
    {
     "name": "stdout",
     "output_type": "stream",
     "text": [
      "File ../data/hdfs/hdfs_test_normal, number of sessions 110673\n",
      "File ../data/hdfs/hdfs_test_normal, number of seqs 1057\n",
      "Find 9267 train logs, 1057 validation logs\n",
      "Train batch size 2048 ,Validation batch size 2048\n",
      "Starting epoch: 0 | phase: train | ⏰: 06:09:50 | Learning rate: 0.000313\n"
     ]
    },
    {
     "name": "stderr",
     "output_type": "stream",
     "text": [
      "Train loss: 1.84434: 100%|██████████| 5/5 [00:00<00:00, 27.87it/s]\n"
     ]
    },
    {
     "name": "stdout",
     "output_type": "stream",
     "text": [
      "Starting epoch: 0 | phase: valid | ⏰: 06:09:50 \n"
     ]
    },
    {
     "name": "stderr",
     "output_type": "stream",
     "text": [
      ": 100%|██████████| 1/1 [00:00<00:00, 53.27it/s]\n"
     ]
    },
    {
     "name": "stdout",
     "output_type": "stream",
     "text": [
      "Validation loss: 1.8217782974243164\n",
      "Client  4\n",
      "File ../data/hdfs/hdfs_train, number of sessions 971\n",
      "File ../data/hdfs/hdfs_train, number of seqs 9323\n",
      "sampling...\n"
     ]
    },
    {
     "name": "stderr",
     "output_type": "stream",
     "text": [
      "100%|██████████| 1044/1044 [00:00<00:00, 3561.30it/s]\n"
     ]
    },
    {
     "name": "stdout",
     "output_type": "stream",
     "text": [
      "File ../data/hdfs/hdfs_test_normal, number of sessions 110673\n",
      "File ../data/hdfs/hdfs_test_normal, number of seqs 1044\n",
      "Find 9323 train logs, 1044 validation logs\n",
      "Train batch size 2048 ,Validation batch size 2048\n",
      "Starting epoch: 0 | phase: train | ⏰: 06:10:01 | Learning rate: 0.000313\n"
     ]
    },
    {
     "name": "stderr",
     "output_type": "stream",
     "text": [
      "Train loss: 1.84233: 100%|██████████| 5/5 [00:00<00:00, 28.28it/s]\n"
     ]
    },
    {
     "name": "stdout",
     "output_type": "stream",
     "text": [
      "Starting epoch: 0 | phase: valid | ⏰: 06:10:02 \n"
     ]
    },
    {
     "name": "stderr",
     "output_type": "stream",
     "text": [
      ": 100%|██████████| 1/1 [00:00<00:00, 54.41it/s]\n"
     ]
    },
    {
     "name": "stdout",
     "output_type": "stream",
     "text": [
      "Validation loss: 1.822094202041626\n",
      "============ Test epoch 12 ============\n",
      "Client  0\n",
      "Number of sessions(hdfs_test_normal): 5813\n",
      "Number of sessions(hdfs_test_abnormal): 1136\n"
     ]
    },
    {
     "name": "stderr",
     "output_type": "stream",
     "text": [
      "100%|██████████| 5813/5813 [05:14<00:00, 18.49it/s]\n",
      "100%|██████████| 1136/1136 [00:33<00:00, 33.55it/s]\n"
     ]
    },
    {
     "name": "stdout",
     "output_type": "stream",
     "text": [
      "false positive (FP): 490, false negative (FN): 24, Precision: 87.216%, Recall: 99.287%, F1-measure: 92.861%\n",
      "actual positive (TP+FN): 3367, actual negative (FP+TN): 110673\n",
      "accuracy: 99.549\n",
      "Finished Predicting\n",
      "elapsed_time: 348.26120805740356\n",
      "Client  1\n",
      "Number of sessions(hdfs_test_normal): 5574\n",
      "Number of sessions(hdfs_test_abnormal): 1139\n"
     ]
    },
    {
     "name": "stderr",
     "output_type": "stream",
     "text": [
      "100%|██████████| 5574/5574 [05:07<00:00, 18.11it/s]\n",
      "100%|██████████| 1139/1139 [00:26<00:00, 42.21it/s]\n"
     ]
    },
    {
     "name": "stdout",
     "output_type": "stream",
     "text": [
      "false positive (FP): 528, false negative (FN): 25, Precision: 86.357%, Recall: 99.257%, F1-measure: 92.359%\n",
      "actual positive (TP+FN): 3367, actual negative (FP+TN): 110673\n",
      "accuracy: 99.515\n",
      "Finished Predicting\n",
      "elapsed_time: 334.772004365921\n",
      "Client  2\n",
      "Number of sessions(hdfs_test_normal): 5730\n",
      "Number of sessions(hdfs_test_abnormal): 1118\n"
     ]
    },
    {
     "name": "stderr",
     "output_type": "stream",
     "text": [
      "100%|██████████| 5730/5730 [05:07<00:00, 18.65it/s]\n",
      "100%|██████████| 1118/1118 [00:35<00:00, 31.86it/s]\n"
     ]
    },
    {
     "name": "stdout",
     "output_type": "stream",
     "text": [
      "false positive (FP): 468, false negative (FN): 30, Precision: 87.700%, Recall: 99.109%, F1-measure: 93.056%\n",
      "actual positive (TP+FN): 3367, actual negative (FP+TN): 110673\n",
      "accuracy: 99.563\n",
      "Finished Predicting\n",
      "elapsed_time: 342.32142639160156\n",
      "Client  3\n",
      "Number of sessions(hdfs_test_normal): 5747\n",
      "Number of sessions(hdfs_test_abnormal): 1159\n"
     ]
    },
    {
     "name": "stderr",
     "output_type": "stream",
     "text": [
      "100%|██████████| 5747/5747 [05:28<00:00, 17.52it/s]\n",
      "100%|██████████| 1159/1159 [00:36<00:00, 31.46it/s]\n"
     ]
    },
    {
     "name": "stdout",
     "output_type": "stream",
     "text": [
      "false positive (FP): 451, false negative (FN): 28, Precision: 88.100%, Recall: 99.168%, F1-measure: 93.307%\n",
      "actual positive (TP+FN): 3367, actual negative (FP+TN): 110673\n",
      "accuracy: 99.580\n",
      "Finished Predicting\n",
      "elapsed_time: 364.9316956996918\n",
      "Client  4\n",
      "Number of sessions(hdfs_test_normal): 5623\n",
      "Number of sessions(hdfs_test_abnormal): 1121\n"
     ]
    },
    {
     "name": "stderr",
     "output_type": "stream",
     "text": [
      "100%|██████████| 5623/5623 [05:17<00:00, 17.71it/s]\n",
      "100%|██████████| 1121/1121 [00:34<00:00, 32.23it/s]\n"
     ]
    },
    {
     "name": "stdout",
     "output_type": "stream",
     "text": [
      "false positive (FP): 525, false negative (FN): 32, Precision: 86.399%, Recall: 99.050%, F1-measure: 92.293%\n",
      "actual positive (TP+FN): 3367, actual negative (FP+TN): 110673\n",
      "accuracy: 99.512\n",
      "Finished Predicting\n",
      "elapsed_time: 352.3101398944855\n",
      "============ Train epoch 13 ============\n",
      "Client  0\n",
      "File ../data/hdfs/hdfs_train, number of sessions 971\n",
      "File ../data/hdfs/hdfs_train, number of seqs 9420\n",
      "sampling...\n"
     ]
    },
    {
     "name": "stderr",
     "output_type": "stream",
     "text": [
      "100%|██████████| 1058/1058 [00:00<00:00, 3393.20it/s]\n"
     ]
    },
    {
     "name": "stdout",
     "output_type": "stream",
     "text": [
      "File ../data/hdfs/hdfs_test_normal, number of sessions 110673\n",
      "File ../data/hdfs/hdfs_test_normal, number of seqs 1058\n",
      "Find 9420 train logs, 1058 validation logs\n",
      "Train batch size 2048 ,Validation batch size 2048\n",
      "Starting epoch: 0 | phase: train | ⏰: 06:39:19 | Learning rate: 0.000313\n"
     ]
    },
    {
     "name": "stderr",
     "output_type": "stream",
     "text": [
      "Train loss: 1.81256: 100%|██████████| 5/5 [00:00<00:00, 26.11it/s]\n"
     ]
    },
    {
     "name": "stdout",
     "output_type": "stream",
     "text": [
      "Starting epoch: 0 | phase: valid | ⏰: 06:39:19 \n"
     ]
    },
    {
     "name": "stderr",
     "output_type": "stream",
     "text": [
      ": 100%|██████████| 1/1 [00:00<00:00, 55.43it/s]\n"
     ]
    },
    {
     "name": "stdout",
     "output_type": "stream",
     "text": [
      "Validation loss: 1.7846769094467163\n",
      "Client  1\n",
      "File ../data/hdfs/hdfs_train, number of sessions 971\n",
      "File ../data/hdfs/hdfs_train, number of seqs 9080\n",
      "sampling...\n"
     ]
    },
    {
     "name": "stderr",
     "output_type": "stream",
     "text": [
      "100%|██████████| 1046/1046 [00:00<00:00, 3462.96it/s]\n"
     ]
    },
    {
     "name": "stdout",
     "output_type": "stream",
     "text": [
      "File ../data/hdfs/hdfs_test_normal, number of sessions 110673\n",
      "File ../data/hdfs/hdfs_test_normal, number of seqs 1046\n",
      "Find 9080 train logs, 1046 validation logs\n",
      "Train batch size 2048 ,Validation batch size 2048\n",
      "Starting epoch: 0 | phase: train | ⏰: 06:39:31 | Learning rate: 0.000313\n"
     ]
    },
    {
     "name": "stderr",
     "output_type": "stream",
     "text": [
      "Train loss: 1.82698: 100%|██████████| 5/5 [00:00<00:00, 27.59it/s]\n"
     ]
    },
    {
     "name": "stdout",
     "output_type": "stream",
     "text": [
      "Starting epoch: 0 | phase: valid | ⏰: 06:39:31 \n"
     ]
    },
    {
     "name": "stderr",
     "output_type": "stream",
     "text": [
      ": 100%|██████████| 1/1 [00:00<00:00, 52.45it/s]\n"
     ]
    },
    {
     "name": "stdout",
     "output_type": "stream",
     "text": [
      "Validation loss: 1.7697999477386475\n",
      "Client  2\n",
      "File ../data/hdfs/hdfs_train, number of sessions 971\n",
      "File ../data/hdfs/hdfs_train, number of seqs 9485\n",
      "sampling...\n"
     ]
    },
    {
     "name": "stderr",
     "output_type": "stream",
     "text": [
      "100%|██████████| 1051/1051 [00:00<00:00, 3362.39it/s]\n"
     ]
    },
    {
     "name": "stdout",
     "output_type": "stream",
     "text": [
      "File ../data/hdfs/hdfs_test_normal, number of sessions 110673\n",
      "File ../data/hdfs/hdfs_test_normal, number of seqs 1051\n",
      "Find 9485 train logs, 1051 validation logs\n",
      "Train batch size 2048 ,Validation batch size 2048\n",
      "Starting epoch: 0 | phase: train | ⏰: 06:39:42 | Learning rate: 0.000313\n"
     ]
    },
    {
     "name": "stderr",
     "output_type": "stream",
     "text": [
      "Train loss: 1.83181: 100%|██████████| 5/5 [00:00<00:00, 27.79it/s]\n"
     ]
    },
    {
     "name": "stdout",
     "output_type": "stream",
     "text": [
      "Starting epoch: 0 | phase: valid | ⏰: 06:39:43 \n"
     ]
    },
    {
     "name": "stderr",
     "output_type": "stream",
     "text": [
      ": 100%|██████████| 1/1 [00:00<00:00, 50.22it/s]\n"
     ]
    },
    {
     "name": "stdout",
     "output_type": "stream",
     "text": [
      "Validation loss: 1.771799087524414\n",
      "Client  3\n",
      "File ../data/hdfs/hdfs_train, number of sessions 971\n",
      "File ../data/hdfs/hdfs_train, number of seqs 9267\n",
      "sampling...\n"
     ]
    },
    {
     "name": "stderr",
     "output_type": "stream",
     "text": [
      "100%|██████████| 1057/1057 [00:00<00:00, 3508.11it/s]\n"
     ]
    },
    {
     "name": "stdout",
     "output_type": "stream",
     "text": [
      "File ../data/hdfs/hdfs_test_normal, number of sessions 110673\n",
      "File ../data/hdfs/hdfs_test_normal, number of seqs 1057\n",
      "Find 9267 train logs, 1057 validation logs\n",
      "Train batch size 2048 ,Validation batch size 2048\n",
      "Starting epoch: 0 | phase: train | ⏰: 06:39:54 | Learning rate: 0.000313\n"
     ]
    },
    {
     "name": "stderr",
     "output_type": "stream",
     "text": [
      "Train loss: 1.81418: 100%|██████████| 5/5 [00:00<00:00, 27.73it/s]\n"
     ]
    },
    {
     "name": "stdout",
     "output_type": "stream",
     "text": [
      "Starting epoch: 0 | phase: valid | ⏰: 06:39:55 \n"
     ]
    },
    {
     "name": "stderr",
     "output_type": "stream",
     "text": [
      ": 100%|██████████| 1/1 [00:00<00:00, 52.36it/s]\n"
     ]
    },
    {
     "name": "stdout",
     "output_type": "stream",
     "text": [
      "Validation loss: 1.7851231098175049\n",
      "Client  4\n",
      "File ../data/hdfs/hdfs_train, number of sessions 971\n",
      "File ../data/hdfs/hdfs_train, number of seqs 9323\n",
      "sampling...\n"
     ]
    },
    {
     "name": "stderr",
     "output_type": "stream",
     "text": [
      "100%|██████████| 1044/1044 [00:00<00:00, 3549.75it/s]\n"
     ]
    },
    {
     "name": "stdout",
     "output_type": "stream",
     "text": [
      "File ../data/hdfs/hdfs_test_normal, number of sessions 110673\n",
      "File ../data/hdfs/hdfs_test_normal, number of seqs 1044\n",
      "Find 9323 train logs, 1044 validation logs\n",
      "Train batch size 2048 ,Validation batch size 2048\n",
      "Starting epoch: 0 | phase: train | ⏰: 06:40:06 | Learning rate: 0.000313\n"
     ]
    },
    {
     "name": "stderr",
     "output_type": "stream",
     "text": [
      "Train loss: 1.81796: 100%|██████████| 5/5 [00:00<00:00, 27.58it/s]\n"
     ]
    },
    {
     "name": "stdout",
     "output_type": "stream",
     "text": [
      "Starting epoch: 0 | phase: valid | ⏰: 06:40:06 \n"
     ]
    },
    {
     "name": "stderr",
     "output_type": "stream",
     "text": [
      ": 100%|██████████| 1/1 [00:00<00:00, 56.88it/s]\n"
     ]
    },
    {
     "name": "stdout",
     "output_type": "stream",
     "text": [
      "Validation loss: 1.7872141599655151\n",
      "============ Test epoch 13 ============\n",
      "Client  0\n",
      "Number of sessions(hdfs_test_normal): 5813\n",
      "Number of sessions(hdfs_test_abnormal): 1136\n"
     ]
    },
    {
     "name": "stderr",
     "output_type": "stream",
     "text": [
      "100%|██████████| 5813/5813 [05:13<00:00, 18.53it/s]\n",
      "100%|██████████| 1136/1136 [00:33<00:00, 33.77it/s]\n"
     ]
    },
    {
     "name": "stdout",
     "output_type": "stream",
     "text": [
      "false positive (FP): 490, false negative (FN): 24, Precision: 87.216%, Recall: 99.287%, F1-measure: 92.861%\n",
      "actual positive (TP+FN): 3367, actual negative (FP+TN): 110673\n",
      "accuracy: 99.549\n",
      "Finished Predicting\n",
      "elapsed_time: 347.2947566509247\n",
      "Client  1\n",
      "Number of sessions(hdfs_test_normal): 5574\n",
      "Number of sessions(hdfs_test_abnormal): 1139\n"
     ]
    },
    {
     "name": "stderr",
     "output_type": "stream",
     "text": [
      "100%|██████████| 5574/5574 [05:06<00:00, 18.16it/s]\n",
      "100%|██████████| 1139/1139 [00:26<00:00, 42.28it/s]\n"
     ]
    },
    {
     "name": "stdout",
     "output_type": "stream",
     "text": [
      "false positive (FP): 528, false negative (FN): 25, Precision: 86.357%, Recall: 99.257%, F1-measure: 92.359%\n",
      "actual positive (TP+FN): 3367, actual negative (FP+TN): 110673\n",
      "accuracy: 99.515\n",
      "Finished Predicting\n",
      "elapsed_time: 333.8574945926666\n",
      "Client  2\n",
      "Number of sessions(hdfs_test_normal): 5730\n",
      "Number of sessions(hdfs_test_abnormal): 1118\n"
     ]
    },
    {
     "name": "stderr",
     "output_type": "stream",
     "text": [
      "100%|██████████| 5730/5730 [05:08<00:00, 18.59it/s]\n",
      "100%|██████████| 1118/1118 [00:35<00:00, 31.84it/s]\n"
     ]
    },
    {
     "name": "stdout",
     "output_type": "stream",
     "text": [
      "false positive (FP): 468, false negative (FN): 30, Precision: 87.700%, Recall: 99.109%, F1-measure: 93.056%\n",
      "actual positive (TP+FN): 3367, actual negative (FP+TN): 110673\n",
      "accuracy: 99.563\n",
      "Finished Predicting\n",
      "elapsed_time: 343.36578345298767\n",
      "Client  3\n",
      "Number of sessions(hdfs_test_normal): 5747\n",
      "Number of sessions(hdfs_test_abnormal): 1159\n"
     ]
    },
    {
     "name": "stderr",
     "output_type": "stream",
     "text": [
      "100%|██████████| 5747/5747 [05:28<00:00, 17.50it/s]\n",
      "100%|██████████| 1159/1159 [00:36<00:00, 31.62it/s]\n"
     ]
    },
    {
     "name": "stdout",
     "output_type": "stream",
     "text": [
      "false positive (FP): 451, false negative (FN): 28, Precision: 88.100%, Recall: 99.168%, F1-measure: 93.307%\n",
      "actual positive (TP+FN): 3367, actual negative (FP+TN): 110673\n",
      "accuracy: 99.580\n",
      "Finished Predicting\n",
      "elapsed_time: 365.0276679992676\n",
      "Client  4\n",
      "Number of sessions(hdfs_test_normal): 5623\n",
      "Number of sessions(hdfs_test_abnormal): 1121\n"
     ]
    },
    {
     "name": "stderr",
     "output_type": "stream",
     "text": [
      "100%|██████████| 5623/5623 [05:17<00:00, 17.70it/s]\n",
      "100%|██████████| 1121/1121 [00:34<00:00, 32.27it/s]\n"
     ]
    },
    {
     "name": "stdout",
     "output_type": "stream",
     "text": [
      "false positive (FP): 525, false negative (FN): 32, Precision: 86.399%, Recall: 99.050%, F1-measure: 92.293%\n",
      "actual positive (TP+FN): 3367, actual negative (FP+TN): 110673\n",
      "accuracy: 99.512\n",
      "Finished Predicting\n",
      "elapsed_time: 352.43395018577576\n",
      "============ Train epoch 14 ============\n",
      "Client  0\n",
      "File ../data/hdfs/hdfs_train, number of sessions 971\n",
      "File ../data/hdfs/hdfs_train, number of seqs 9420\n",
      "sampling...\n"
     ]
    },
    {
     "name": "stderr",
     "output_type": "stream",
     "text": [
      "100%|██████████| 1058/1058 [00:00<00:00, 3405.79it/s]\n"
     ]
    },
    {
     "name": "stdout",
     "output_type": "stream",
     "text": [
      "File ../data/hdfs/hdfs_test_normal, number of sessions 110673\n",
      "File ../data/hdfs/hdfs_test_normal, number of seqs 1058\n",
      "Find 9420 train logs, 1058 validation logs\n",
      "Train batch size 2048 ,Validation batch size 2048\n",
      "Starting epoch: 0 | phase: train | ⏰: 07:09:23 | Learning rate: 0.000313\n"
     ]
    },
    {
     "name": "stderr",
     "output_type": "stream",
     "text": [
      "Train loss: 1.78950: 100%|██████████| 5/5 [00:00<00:00, 26.98it/s]\n"
     ]
    },
    {
     "name": "stdout",
     "output_type": "stream",
     "text": [
      "Starting epoch: 0 | phase: valid | ⏰: 07:09:23 \n"
     ]
    },
    {
     "name": "stderr",
     "output_type": "stream",
     "text": [
      ": 100%|██████████| 1/1 [00:00<00:00, 52.99it/s]\n"
     ]
    },
    {
     "name": "stdout",
     "output_type": "stream",
     "text": [
      "Validation loss: 1.7740617990493774\n",
      "Client  1\n",
      "File ../data/hdfs/hdfs_train, number of sessions 971\n",
      "File ../data/hdfs/hdfs_train, number of seqs 9080\n",
      "sampling...\n"
     ]
    },
    {
     "name": "stderr",
     "output_type": "stream",
     "text": [
      "100%|██████████| 1046/1046 [00:00<00:00, 3532.59it/s]\n"
     ]
    },
    {
     "name": "stdout",
     "output_type": "stream",
     "text": [
      "File ../data/hdfs/hdfs_test_normal, number of sessions 110673\n",
      "File ../data/hdfs/hdfs_test_normal, number of seqs 1046\n",
      "Find 9080 train logs, 1046 validation logs\n",
      "Train batch size 2048 ,Validation batch size 2048\n",
      "Starting epoch: 0 | phase: train | ⏰: 07:09:34 | Learning rate: 0.000313\n"
     ]
    },
    {
     "name": "stderr",
     "output_type": "stream",
     "text": [
      "Train loss: 1.80261: 100%|██████████| 5/5 [00:00<00:00, 26.82it/s]\n"
     ]
    },
    {
     "name": "stdout",
     "output_type": "stream",
     "text": [
      "Starting epoch: 0 | phase: valid | ⏰: 07:09:35 \n"
     ]
    },
    {
     "name": "stderr",
     "output_type": "stream",
     "text": [
      ": 100%|██████████| 1/1 [00:00<00:00, 55.93it/s]\n"
     ]
    },
    {
     "name": "stdout",
     "output_type": "stream",
     "text": [
      "Validation loss: 1.7487601041793823\n",
      "Client  2\n",
      "File ../data/hdfs/hdfs_train, number of sessions 971\n",
      "File ../data/hdfs/hdfs_train, number of seqs 9485\n",
      "sampling...\n"
     ]
    },
    {
     "name": "stderr",
     "output_type": "stream",
     "text": [
      "100%|██████████| 1051/1051 [00:00<00:00, 3457.68it/s]\n"
     ]
    },
    {
     "name": "stdout",
     "output_type": "stream",
     "text": [
      "File ../data/hdfs/hdfs_test_normal, number of sessions 110673\n",
      "File ../data/hdfs/hdfs_test_normal, number of seqs 1051\n",
      "Find 9485 train logs, 1051 validation logs\n",
      "Train batch size 2048 ,Validation batch size 2048\n",
      "Starting epoch: 0 | phase: train | ⏰: 07:09:46 | Learning rate: 0.000313\n"
     ]
    },
    {
     "name": "stderr",
     "output_type": "stream",
     "text": [
      "Train loss: 1.80774: 100%|██████████| 5/5 [00:00<00:00, 25.37it/s]\n"
     ]
    },
    {
     "name": "stdout",
     "output_type": "stream",
     "text": [
      "Starting epoch: 0 | phase: valid | ⏰: 07:09:46 \n"
     ]
    },
    {
     "name": "stderr",
     "output_type": "stream",
     "text": [
      ": 100%|██████████| 1/1 [00:00<00:00, 52.86it/s]\n"
     ]
    },
    {
     "name": "stdout",
     "output_type": "stream",
     "text": [
      "Validation loss: 1.7769232988357544\n",
      "Client  3\n",
      "File ../data/hdfs/hdfs_train, number of sessions 971\n",
      "File ../data/hdfs/hdfs_train, number of seqs 9267\n",
      "sampling...\n"
     ]
    },
    {
     "name": "stderr",
     "output_type": "stream",
     "text": [
      "100%|██████████| 1057/1057 [00:00<00:00, 3592.02it/s]\n"
     ]
    },
    {
     "name": "stdout",
     "output_type": "stream",
     "text": [
      "File ../data/hdfs/hdfs_test_normal, number of sessions 110673\n",
      "File ../data/hdfs/hdfs_test_normal, number of seqs 1057\n",
      "Find 9267 train logs, 1057 validation logs\n",
      "Train batch size 2048 ,Validation batch size 2048\n",
      "Starting epoch: 0 | phase: train | ⏰: 07:09:58 | Learning rate: 0.000313\n"
     ]
    },
    {
     "name": "stderr",
     "output_type": "stream",
     "text": [
      "Train loss: 1.79330: 100%|██████████| 5/5 [00:00<00:00, 27.26it/s]\n"
     ]
    },
    {
     "name": "stdout",
     "output_type": "stream",
     "text": [
      "Starting epoch: 0 | phase: valid | ⏰: 07:09:58 \n"
     ]
    },
    {
     "name": "stderr",
     "output_type": "stream",
     "text": [
      ": 100%|██████████| 1/1 [00:00<00:00, 52.27it/s]\n"
     ]
    },
    {
     "name": "stdout",
     "output_type": "stream",
     "text": [
      "Validation loss: 1.7769392728805542\n",
      "Client  4\n",
      "File ../data/hdfs/hdfs_train, number of sessions 971\n",
      "File ../data/hdfs/hdfs_train, number of seqs 9323\n",
      "sampling...\n"
     ]
    },
    {
     "name": "stderr",
     "output_type": "stream",
     "text": [
      "100%|██████████| 1044/1044 [00:00<00:00, 3427.48it/s]\n"
     ]
    },
    {
     "name": "stdout",
     "output_type": "stream",
     "text": [
      "File ../data/hdfs/hdfs_test_normal, number of sessions 110673\n",
      "File ../data/hdfs/hdfs_test_normal, number of seqs 1044\n",
      "Find 9323 train logs, 1044 validation logs\n",
      "Train batch size 2048 ,Validation batch size 2048\n",
      "Starting epoch: 0 | phase: train | ⏰: 07:10:10 | Learning rate: 0.000313\n"
     ]
    },
    {
     "name": "stderr",
     "output_type": "stream",
     "text": [
      "Train loss: 1.78644: 100%|██████████| 5/5 [00:00<00:00, 27.53it/s]\n"
     ]
    },
    {
     "name": "stdout",
     "output_type": "stream",
     "text": [
      "Starting epoch: 0 | phase: valid | ⏰: 07:10:10 \n"
     ]
    },
    {
     "name": "stderr",
     "output_type": "stream",
     "text": [
      ": 100%|██████████| 1/1 [00:00<00:00, 53.87it/s]\n"
     ]
    },
    {
     "name": "stdout",
     "output_type": "stream",
     "text": [
      "Validation loss: 1.7095694541931152\n",
      "============ Test epoch 14 ============\n",
      "Client  0\n",
      "Number of sessions(hdfs_test_normal): 5813\n",
      "Number of sessions(hdfs_test_abnormal): 1136\n"
     ]
    },
    {
     "name": "stderr",
     "output_type": "stream",
     "text": [
      "100%|██████████| 5813/5813 [05:13<00:00, 18.55it/s]\n",
      "100%|██████████| 1136/1136 [00:33<00:00, 33.58it/s]\n"
     ]
    },
    {
     "name": "stdout",
     "output_type": "stream",
     "text": [
      "false positive (FP): 490, false negative (FN): 24, Precision: 87.216%, Recall: 99.287%, F1-measure: 92.861%\n",
      "actual positive (TP+FN): 3367, actual negative (FP+TN): 110673\n",
      "accuracy: 99.549\n",
      "Finished Predicting\n",
      "elapsed_time: 347.2709822654724\n",
      "Client  1\n",
      "Number of sessions(hdfs_test_normal): 5574\n",
      "Number of sessions(hdfs_test_abnormal): 1139\n"
     ]
    },
    {
     "name": "stderr",
     "output_type": "stream",
     "text": [
      "100%|██████████| 5574/5574 [05:07<00:00, 18.13it/s]\n",
      "100%|██████████| 1139/1139 [00:26<00:00, 42.25it/s]\n"
     ]
    },
    {
     "name": "stdout",
     "output_type": "stream",
     "text": [
      "false positive (FP): 528, false negative (FN): 25, Precision: 86.357%, Recall: 99.257%, F1-measure: 92.359%\n",
      "actual positive (TP+FN): 3367, actual negative (FP+TN): 110673\n",
      "accuracy: 99.515\n",
      "Finished Predicting\n",
      "elapsed_time: 334.4745571613312\n",
      "Client  2\n",
      "Number of sessions(hdfs_test_normal): 5730\n",
      "Number of sessions(hdfs_test_abnormal): 1118\n"
     ]
    },
    {
     "name": "stderr",
     "output_type": "stream",
     "text": [
      "100%|██████████| 5730/5730 [05:07<00:00, 18.63it/s]\n",
      "100%|██████████| 1118/1118 [00:35<00:00, 31.81it/s]\n"
     ]
    },
    {
     "name": "stdout",
     "output_type": "stream",
     "text": [
      "false positive (FP): 468, false negative (FN): 30, Precision: 87.700%, Recall: 99.109%, F1-measure: 93.056%\n",
      "actual positive (TP+FN): 3367, actual negative (FP+TN): 110673\n",
      "accuracy: 99.563\n",
      "Finished Predicting\n",
      "elapsed_time: 342.67017555236816\n",
      "Client  3\n",
      "Number of sessions(hdfs_test_normal): 5747\n",
      "Number of sessions(hdfs_test_abnormal): 1159\n"
     ]
    },
    {
     "name": "stderr",
     "output_type": "stream",
     "text": [
      "100%|██████████| 5747/5747 [05:28<00:00, 17.52it/s]\n",
      "100%|██████████| 1159/1159 [00:36<00:00, 31.63it/s]\n"
     ]
    },
    {
     "name": "stdout",
     "output_type": "stream",
     "text": [
      "false positive (FP): 451, false negative (FN): 28, Precision: 88.100%, Recall: 99.168%, F1-measure: 93.307%\n",
      "actual positive (TP+FN): 3367, actual negative (FP+TN): 110673\n",
      "accuracy: 99.580\n",
      "Finished Predicting\n",
      "elapsed_time: 364.6687650680542\n",
      "Client  4\n",
      "Number of sessions(hdfs_test_normal): 5623\n",
      "Number of sessions(hdfs_test_abnormal): 1121\n"
     ]
    },
    {
     "name": "stderr",
     "output_type": "stream",
     "text": [
      "100%|██████████| 5623/5623 [05:18<00:00, 17.67it/s]\n",
      "100%|██████████| 1121/1121 [00:34<00:00, 32.15it/s]\n"
     ]
    },
    {
     "name": "stdout",
     "output_type": "stream",
     "text": [
      "false positive (FP): 525, false negative (FN): 32, Precision: 86.399%, Recall: 99.050%, F1-measure: 92.293%\n",
      "actual positive (TP+FN): 3367, actual negative (FP+TN): 110673\n",
      "accuracy: 99.512\n",
      "Finished Predicting\n",
      "elapsed_time: 353.13644671440125\n",
      "============ Train epoch 15 ============\n",
      "Client  0\n",
      "File ../data/hdfs/hdfs_train, number of sessions 971\n",
      "File ../data/hdfs/hdfs_train, number of seqs 9420\n",
      "sampling...\n"
     ]
    },
    {
     "name": "stderr",
     "output_type": "stream",
     "text": [
      "100%|██████████| 1058/1058 [00:00<00:00, 3357.35it/s]\n"
     ]
    },
    {
     "name": "stdout",
     "output_type": "stream",
     "text": [
      "File ../data/hdfs/hdfs_test_normal, number of sessions 110673\n",
      "File ../data/hdfs/hdfs_test_normal, number of seqs 1058\n",
      "Find 9420 train logs, 1058 validation logs\n",
      "Train batch size 2048 ,Validation batch size 2048\n",
      "Starting epoch: 0 | phase: train | ⏰: 07:39:27 | Learning rate: 0.000313\n"
     ]
    },
    {
     "name": "stderr",
     "output_type": "stream",
     "text": [
      "Train loss: 1.76630: 100%|██████████| 5/5 [00:00<00:00, 25.89it/s]\n"
     ]
    },
    {
     "name": "stdout",
     "output_type": "stream",
     "text": [
      "Starting epoch: 0 | phase: valid | ⏰: 07:39:27 \n"
     ]
    },
    {
     "name": "stderr",
     "output_type": "stream",
     "text": [
      ": 100%|██████████| 1/1 [00:00<00:00, 53.19it/s]\n"
     ]
    },
    {
     "name": "stdout",
     "output_type": "stream",
     "text": [
      "Validation loss: 1.8021289110183716\n",
      "Client  1\n",
      "File ../data/hdfs/hdfs_train, number of sessions 971\n",
      "File ../data/hdfs/hdfs_train, number of seqs 9080\n",
      "sampling...\n"
     ]
    },
    {
     "name": "stderr",
     "output_type": "stream",
     "text": [
      "100%|██████████| 1046/1046 [00:00<00:00, 3590.83it/s]\n"
     ]
    },
    {
     "name": "stdout",
     "output_type": "stream",
     "text": [
      "File ../data/hdfs/hdfs_test_normal, number of sessions 110673\n",
      "File ../data/hdfs/hdfs_test_normal, number of seqs 1046\n",
      "Find 9080 train logs, 1046 validation logs\n",
      "Train batch size 2048 ,Validation batch size 2048\n",
      "Starting epoch: 0 | phase: train | ⏰: 07:39:39 | Learning rate: 0.000313\n"
     ]
    },
    {
     "name": "stderr",
     "output_type": "stream",
     "text": [
      "Train loss: 1.77793: 100%|██████████| 5/5 [00:00<00:00, 29.40it/s]\n"
     ]
    },
    {
     "name": "stdout",
     "output_type": "stream",
     "text": [
      "Starting epoch: 0 | phase: valid | ⏰: 07:39:39 \n"
     ]
    },
    {
     "name": "stderr",
     "output_type": "stream",
     "text": [
      ": 100%|██████████| 1/1 [00:00<00:00, 54.69it/s]\n"
     ]
    },
    {
     "name": "stdout",
     "output_type": "stream",
     "text": [
      "Validation loss: 1.7529867887496948\n",
      "Client  2\n",
      "File ../data/hdfs/hdfs_train, number of sessions 971\n",
      "File ../data/hdfs/hdfs_train, number of seqs 9485\n",
      "sampling...\n"
     ]
    },
    {
     "name": "stderr",
     "output_type": "stream",
     "text": [
      "100%|██████████| 1051/1051 [00:00<00:00, 3408.65it/s]\n"
     ]
    },
    {
     "name": "stdout",
     "output_type": "stream",
     "text": [
      "File ../data/hdfs/hdfs_test_normal, number of sessions 110673\n",
      "File ../data/hdfs/hdfs_test_normal, number of seqs 1051\n",
      "Find 9485 train logs, 1051 validation logs\n",
      "Train batch size 2048 ,Validation batch size 2048\n",
      "Starting epoch: 0 | phase: train | ⏰: 07:39:50 | Learning rate: 0.000313\n"
     ]
    },
    {
     "name": "stderr",
     "output_type": "stream",
     "text": [
      "Train loss: 1.78393: 100%|██████████| 5/5 [00:00<00:00, 26.73it/s]\n"
     ]
    },
    {
     "name": "stdout",
     "output_type": "stream",
     "text": [
      "Starting epoch: 0 | phase: valid | ⏰: 07:39:51 \n"
     ]
    },
    {
     "name": "stderr",
     "output_type": "stream",
     "text": [
      ": 100%|██████████| 1/1 [00:00<00:00, 54.41it/s]\n"
     ]
    },
    {
     "name": "stdout",
     "output_type": "stream",
     "text": [
      "Validation loss: 1.7453590631484985\n",
      "Client  3\n",
      "File ../data/hdfs/hdfs_train, number of sessions 971\n",
      "File ../data/hdfs/hdfs_train, number of seqs 9267\n",
      "sampling...\n"
     ]
    },
    {
     "name": "stderr",
     "output_type": "stream",
     "text": [
      "100%|██████████| 1057/1057 [00:00<00:00, 3480.29it/s]\n"
     ]
    },
    {
     "name": "stdout",
     "output_type": "stream",
     "text": [
      "File ../data/hdfs/hdfs_test_normal, number of sessions 110673\n",
      "File ../data/hdfs/hdfs_test_normal, number of seqs 1057\n",
      "Find 9267 train logs, 1057 validation logs\n",
      "Train batch size 2048 ,Validation batch size 2048\n",
      "Starting epoch: 0 | phase: train | ⏰: 07:40:02 | Learning rate: 0.000313\n"
     ]
    },
    {
     "name": "stderr",
     "output_type": "stream",
     "text": [
      "Train loss: 1.76409: 100%|██████████| 5/5 [00:00<00:00, 28.32it/s]\n"
     ]
    },
    {
     "name": "stdout",
     "output_type": "stream",
     "text": [
      "Starting epoch: 0 | phase: valid | ⏰: 07:40:02 \n"
     ]
    },
    {
     "name": "stderr",
     "output_type": "stream",
     "text": [
      ": 100%|██████████| 1/1 [00:00<00:00, 56.16it/s]\n"
     ]
    },
    {
     "name": "stdout",
     "output_type": "stream",
     "text": [
      "Validation loss: 1.745381236076355\n",
      "Client  4\n",
      "File ../data/hdfs/hdfs_train, number of sessions 971\n",
      "File ../data/hdfs/hdfs_train, number of seqs 9323\n",
      "sampling...\n"
     ]
    },
    {
     "name": "stderr",
     "output_type": "stream",
     "text": [
      "100%|██████████| 1044/1044 [00:00<00:00, 3495.90it/s]\n"
     ]
    },
    {
     "name": "stdout",
     "output_type": "stream",
     "text": [
      "File ../data/hdfs/hdfs_test_normal, number of sessions 110673\n",
      "File ../data/hdfs/hdfs_test_normal, number of seqs 1044\n",
      "Find 9323 train logs, 1044 validation logs\n",
      "Train batch size 2048 ,Validation batch size 2048\n",
      "Starting epoch: 0 | phase: train | ⏰: 07:40:14 | Learning rate: 0.000313\n"
     ]
    },
    {
     "name": "stderr",
     "output_type": "stream",
     "text": [
      "Train loss: 1.77151: 100%|██████████| 5/5 [00:00<00:00, 26.00it/s]\n"
     ]
    },
    {
     "name": "stdout",
     "output_type": "stream",
     "text": [
      "Starting epoch: 0 | phase: valid | ⏰: 07:40:14 \n"
     ]
    },
    {
     "name": "stderr",
     "output_type": "stream",
     "text": [
      ": 100%|██████████| 1/1 [00:00<00:00, 54.67it/s]\n"
     ]
    },
    {
     "name": "stdout",
     "output_type": "stream",
     "text": [
      "Validation loss: 1.7485933303833008\n",
      "============ Test epoch 15 ============\n",
      "Client  0\n",
      "Number of sessions(hdfs_test_normal): 5813\n",
      "Number of sessions(hdfs_test_abnormal): 1136\n"
     ]
    },
    {
     "name": "stderr",
     "output_type": "stream",
     "text": [
      "100%|██████████| 5813/5813 [05:12<00:00, 18.58it/s]\n",
      "100%|██████████| 1136/1136 [00:33<00:00, 33.70it/s]\n"
     ]
    },
    {
     "name": "stdout",
     "output_type": "stream",
     "text": [
      "false positive (FP): 490, false negative (FN): 24, Precision: 87.216%, Recall: 99.287%, F1-measure: 92.861%\n",
      "actual positive (TP+FN): 3367, actual negative (FP+TN): 110673\n",
      "accuracy: 99.549\n",
      "Finished Predicting\n",
      "elapsed_time: 346.589723110199\n",
      "Client  1\n",
      "Number of sessions(hdfs_test_normal): 5574\n",
      "Number of sessions(hdfs_test_abnormal): 1139\n"
     ]
    },
    {
     "name": "stderr",
     "output_type": "stream",
     "text": [
      "100%|██████████| 5574/5574 [05:07<00:00, 18.14it/s]\n",
      "100%|██████████| 1139/1139 [00:27<00:00, 42.15it/s]\n"
     ]
    },
    {
     "name": "stdout",
     "output_type": "stream",
     "text": [
      "false positive (FP): 528, false negative (FN): 25, Precision: 86.357%, Recall: 99.257%, F1-measure: 92.359%\n",
      "actual positive (TP+FN): 3367, actual negative (FP+TN): 110673\n",
      "accuracy: 99.515\n",
      "Finished Predicting\n",
      "elapsed_time: 334.25894832611084\n",
      "Client  2\n",
      "Number of sessions(hdfs_test_normal): 5730\n",
      "Number of sessions(hdfs_test_abnormal): 1118\n"
     ]
    },
    {
     "name": "stderr",
     "output_type": "stream",
     "text": [
      "100%|██████████| 5730/5730 [05:08<00:00, 18.60it/s]\n",
      "100%|██████████| 1118/1118 [00:35<00:00, 31.83it/s]\n"
     ]
    },
    {
     "name": "stdout",
     "output_type": "stream",
     "text": [
      "false positive (FP): 468, false negative (FN): 30, Precision: 87.700%, Recall: 99.109%, F1-measure: 93.056%\n",
      "actual positive (TP+FN): 3367, actual negative (FP+TN): 110673\n",
      "accuracy: 99.563\n",
      "Finished Predicting\n",
      "elapsed_time: 343.2442960739136\n",
      "Client  3\n",
      "Number of sessions(hdfs_test_normal): 5747\n",
      "Number of sessions(hdfs_test_abnormal): 1159\n"
     ]
    },
    {
     "name": "stderr",
     "output_type": "stream",
     "text": [
      "100%|██████████| 5747/5747 [05:28<00:00, 17.50it/s]\n",
      "100%|██████████| 1159/1159 [00:36<00:00, 31.53it/s]\n"
     ]
    },
    {
     "name": "stdout",
     "output_type": "stream",
     "text": [
      "false positive (FP): 451, false negative (FN): 28, Precision: 88.100%, Recall: 99.168%, F1-measure: 93.307%\n",
      "actual positive (TP+FN): 3367, actual negative (FP+TN): 110673\n",
      "accuracy: 99.580\n",
      "Finished Predicting\n",
      "elapsed_time: 365.11816453933716\n",
      "Client  4\n",
      "Number of sessions(hdfs_test_normal): 5623\n",
      "Number of sessions(hdfs_test_abnormal): 1121\n"
     ]
    },
    {
     "name": "stderr",
     "output_type": "stream",
     "text": [
      "100%|██████████| 5623/5623 [05:18<00:00, 17.67it/s]\n",
      "100%|██████████| 1121/1121 [00:34<00:00, 32.27it/s]\n"
     ]
    },
    {
     "name": "stdout",
     "output_type": "stream",
     "text": [
      "false positive (FP): 525, false negative (FN): 32, Precision: 86.399%, Recall: 99.050%, F1-measure: 92.293%\n",
      "actual positive (TP+FN): 3367, actual negative (FP+TN): 110673\n",
      "accuracy: 99.512\n",
      "Finished Predicting\n",
      "elapsed_time: 352.97205901145935\n",
      "============ Train epoch 16 ============\n",
      "Client  0\n",
      "File ../data/hdfs/hdfs_train, number of sessions 971\n",
      "File ../data/hdfs/hdfs_train, number of seqs 9420\n",
      "sampling...\n"
     ]
    },
    {
     "name": "stderr",
     "output_type": "stream",
     "text": [
      "100%|██████████| 1058/1058 [00:00<00:00, 3545.07it/s]\n"
     ]
    },
    {
     "name": "stdout",
     "output_type": "stream",
     "text": [
      "File ../data/hdfs/hdfs_test_normal, number of sessions 110673\n",
      "File ../data/hdfs/hdfs_test_normal, number of seqs 1058\n",
      "Find 9420 train logs, 1058 validation logs\n",
      "Train batch size 2048 ,Validation batch size 2048\n",
      "Starting epoch: 0 | phase: train | ⏰: 08:09:31 | Learning rate: 0.000313\n"
     ]
    },
    {
     "name": "stderr",
     "output_type": "stream",
     "text": [
      "Train loss: 1.74561: 100%|██████████| 5/5 [00:00<00:00, 26.58it/s]\n"
     ]
    },
    {
     "name": "stdout",
     "output_type": "stream",
     "text": [
      "Starting epoch: 0 | phase: valid | ⏰: 08:09:31 \n"
     ]
    },
    {
     "name": "stderr",
     "output_type": "stream",
     "text": [
      ": 100%|██████████| 1/1 [00:00<00:00, 52.78it/s]\n"
     ]
    },
    {
     "name": "stdout",
     "output_type": "stream",
     "text": [
      "Validation loss: 1.7215615510940552\n",
      "Client  1\n",
      "File ../data/hdfs/hdfs_train, number of sessions 971\n",
      "File ../data/hdfs/hdfs_train, number of seqs 9080\n",
      "sampling...\n"
     ]
    },
    {
     "name": "stderr",
     "output_type": "stream",
     "text": [
      "100%|██████████| 1046/1046 [00:00<00:00, 3487.91it/s]\n"
     ]
    },
    {
     "name": "stdout",
     "output_type": "stream",
     "text": [
      "File ../data/hdfs/hdfs_test_normal, number of sessions 110673\n",
      "File ../data/hdfs/hdfs_test_normal, number of seqs 1046\n",
      "Find 9080 train logs, 1046 validation logs\n",
      "Train batch size 2048 ,Validation batch size 2048\n",
      "Starting epoch: 0 | phase: train | ⏰: 08:09:43 | Learning rate: 0.000313\n"
     ]
    },
    {
     "name": "stderr",
     "output_type": "stream",
     "text": [
      "Train loss: 1.76350: 100%|██████████| 5/5 [00:00<00:00, 26.89it/s]\n"
     ]
    },
    {
     "name": "stdout",
     "output_type": "stream",
     "text": [
      "Starting epoch: 0 | phase: valid | ⏰: 08:09:43 \n"
     ]
    },
    {
     "name": "stderr",
     "output_type": "stream",
     "text": [
      ": 100%|██████████| 1/1 [00:00<00:00, 53.42it/s]\n"
     ]
    },
    {
     "name": "stdout",
     "output_type": "stream",
     "text": [
      "Validation loss: 1.6906945705413818\n",
      "Client  2\n",
      "File ../data/hdfs/hdfs_train, number of sessions 971\n",
      "File ../data/hdfs/hdfs_train, number of seqs 9485\n",
      "sampling...\n"
     ]
    },
    {
     "name": "stderr",
     "output_type": "stream",
     "text": [
      "100%|██████████| 1051/1051 [00:00<00:00, 3516.44it/s]\n"
     ]
    },
    {
     "name": "stdout",
     "output_type": "stream",
     "text": [
      "File ../data/hdfs/hdfs_test_normal, number of sessions 110673\n",
      "File ../data/hdfs/hdfs_test_normal, number of seqs 1051\n",
      "Find 9485 train logs, 1051 validation logs\n",
      "Train batch size 2048 ,Validation batch size 2048\n",
      "Starting epoch: 0 | phase: train | ⏰: 08:09:55 | Learning rate: 0.000313\n"
     ]
    },
    {
     "name": "stderr",
     "output_type": "stream",
     "text": [
      "Train loss: 1.76640: 100%|██████████| 5/5 [00:00<00:00, 27.02it/s]\n"
     ]
    },
    {
     "name": "stdout",
     "output_type": "stream",
     "text": [
      "Starting epoch: 0 | phase: valid | ⏰: 08:09:55 \n"
     ]
    },
    {
     "name": "stderr",
     "output_type": "stream",
     "text": [
      ": 100%|██████████| 1/1 [00:00<00:00, 49.56it/s]\n"
     ]
    },
    {
     "name": "stdout",
     "output_type": "stream",
     "text": [
      "Validation loss: 1.72540283203125\n",
      "Client  3\n",
      "File ../data/hdfs/hdfs_train, number of sessions 971\n",
      "File ../data/hdfs/hdfs_train, number of seqs 9267\n",
      "sampling...\n"
     ]
    },
    {
     "name": "stderr",
     "output_type": "stream",
     "text": [
      "100%|██████████| 1057/1057 [00:00<00:00, 3483.90it/s]\n"
     ]
    },
    {
     "name": "stdout",
     "output_type": "stream",
     "text": [
      "File ../data/hdfs/hdfs_test_normal, number of sessions 110673\n",
      "File ../data/hdfs/hdfs_test_normal, number of seqs 1057\n",
      "Find 9267 train logs, 1057 validation logs\n",
      "Train batch size 2048 ,Validation batch size 2048\n",
      "Starting epoch: 0 | phase: train | ⏰: 08:10:06 | Learning rate: 0.000313\n"
     ]
    },
    {
     "name": "stderr",
     "output_type": "stream",
     "text": [
      "Train loss: 1.74843: 100%|██████████| 5/5 [00:00<00:00, 27.68it/s]\n"
     ]
    },
    {
     "name": "stdout",
     "output_type": "stream",
     "text": [
      "Starting epoch: 0 | phase: valid | ⏰: 08:10:07 \n"
     ]
    },
    {
     "name": "stderr",
     "output_type": "stream",
     "text": [
      ": 100%|██████████| 1/1 [00:00<00:00, 55.71it/s]\n"
     ]
    },
    {
     "name": "stdout",
     "output_type": "stream",
     "text": [
      "Validation loss: 1.7135757207870483\n",
      "Client  4\n",
      "File ../data/hdfs/hdfs_train, number of sessions 971\n",
      "File ../data/hdfs/hdfs_train, number of seqs 9323\n",
      "sampling...\n"
     ]
    },
    {
     "name": "stderr",
     "output_type": "stream",
     "text": [
      "100%|██████████| 1044/1044 [00:00<00:00, 3530.99it/s]\n"
     ]
    },
    {
     "name": "stdout",
     "output_type": "stream",
     "text": [
      "File ../data/hdfs/hdfs_test_normal, number of sessions 110673\n",
      "File ../data/hdfs/hdfs_test_normal, number of seqs 1044\n",
      "Find 9323 train logs, 1044 validation logs\n",
      "Train batch size 2048 ,Validation batch size 2048\n",
      "Starting epoch: 0 | phase: train | ⏰: 08:10:18 | Learning rate: 0.000313\n"
     ]
    },
    {
     "name": "stderr",
     "output_type": "stream",
     "text": [
      "Train loss: 1.74625: 100%|██████████| 5/5 [00:00<00:00, 27.79it/s]\n"
     ]
    },
    {
     "name": "stdout",
     "output_type": "stream",
     "text": [
      "Starting epoch: 0 | phase: valid | ⏰: 08:10:18 \n"
     ]
    },
    {
     "name": "stderr",
     "output_type": "stream",
     "text": [
      ": 100%|██████████| 1/1 [00:00<00:00, 55.80it/s]\n"
     ]
    },
    {
     "name": "stdout",
     "output_type": "stream",
     "text": [
      "Validation loss: 1.7282196283340454\n",
      "============ Test epoch 16 ============\n",
      "Client  0\n",
      "Number of sessions(hdfs_test_normal): 5813\n",
      "Number of sessions(hdfs_test_abnormal): 1136\n"
     ]
    },
    {
     "name": "stderr",
     "output_type": "stream",
     "text": [
      "100%|██████████| 5813/5813 [05:13<00:00, 18.53it/s]\n",
      "100%|██████████| 1136/1136 [00:33<00:00, 33.51it/s]\n"
     ]
    },
    {
     "name": "stdout",
     "output_type": "stream",
     "text": [
      "false positive (FP): 490, false negative (FN): 24, Precision: 87.216%, Recall: 99.287%, F1-measure: 92.861%\n",
      "actual positive (TP+FN): 3367, actual negative (FP+TN): 110673\n",
      "accuracy: 99.549\n",
      "Finished Predicting\n",
      "elapsed_time: 347.58884716033936\n",
      "Client  1\n",
      "Number of sessions(hdfs_test_normal): 5574\n",
      "Number of sessions(hdfs_test_abnormal): 1139\n"
     ]
    },
    {
     "name": "stderr",
     "output_type": "stream",
     "text": [
      "100%|██████████| 5574/5574 [05:07<00:00, 18.15it/s]\n",
      "100%|██████████| 1139/1139 [00:27<00:00, 42.10it/s]\n"
     ]
    },
    {
     "name": "stdout",
     "output_type": "stream",
     "text": [
      "false positive (FP): 528, false negative (FN): 25, Precision: 86.357%, Recall: 99.257%, F1-measure: 92.359%\n",
      "actual positive (TP+FN): 3367, actual negative (FP+TN): 110673\n",
      "accuracy: 99.515\n",
      "Finished Predicting\n",
      "elapsed_time: 334.21607089042664\n",
      "Client  2\n",
      "Number of sessions(hdfs_test_normal): 5730\n",
      "Number of sessions(hdfs_test_abnormal): 1118\n"
     ]
    },
    {
     "name": "stderr",
     "output_type": "stream",
     "text": [
      "100%|██████████| 5730/5730 [05:07<00:00, 18.64it/s]\n",
      "100%|██████████| 1118/1118 [00:35<00:00, 31.85it/s]\n"
     ]
    },
    {
     "name": "stdout",
     "output_type": "stream",
     "text": [
      "false positive (FP): 468, false negative (FN): 30, Precision: 87.700%, Recall: 99.109%, F1-measure: 93.056%\n",
      "actual positive (TP+FN): 3367, actual negative (FP+TN): 110673\n",
      "accuracy: 99.563\n",
      "Finished Predicting\n",
      "elapsed_time: 342.4746570587158\n",
      "Client  3\n",
      "Number of sessions(hdfs_test_normal): 5747\n",
      "Number of sessions(hdfs_test_abnormal): 1159\n"
     ]
    },
    {
     "name": "stderr",
     "output_type": "stream",
     "text": [
      "100%|██████████| 5747/5747 [05:28<00:00, 17.50it/s]\n",
      "100%|██████████| 1159/1159 [00:36<00:00, 31.54it/s]\n"
     ]
    },
    {
     "name": "stdout",
     "output_type": "stream",
     "text": [
      "false positive (FP): 451, false negative (FN): 28, Precision: 88.100%, Recall: 99.168%, F1-measure: 93.307%\n",
      "actual positive (TP+FN): 3367, actual negative (FP+TN): 110673\n",
      "accuracy: 99.580\n",
      "Finished Predicting\n",
      "elapsed_time: 365.09354877471924\n",
      "Client  4\n",
      "Number of sessions(hdfs_test_normal): 5623\n",
      "Number of sessions(hdfs_test_abnormal): 1121\n"
     ]
    },
    {
     "name": "stderr",
     "output_type": "stream",
     "text": [
      "100%|██████████| 5623/5623 [05:17<00:00, 17.69it/s]\n",
      "100%|██████████| 1121/1121 [00:34<00:00, 32.22it/s]\n"
     ]
    },
    {
     "name": "stdout",
     "output_type": "stream",
     "text": [
      "false positive (FP): 525, false negative (FN): 32, Precision: 86.399%, Recall: 99.050%, F1-measure: 92.293%\n",
      "actual positive (TP+FN): 3367, actual negative (FP+TN): 110673\n",
      "accuracy: 99.512\n",
      "Finished Predicting\n",
      "elapsed_time: 352.7057340145111\n",
      "============ Train epoch 17 ============\n",
      "Client  0\n",
      "File ../data/hdfs/hdfs_train, number of sessions 971\n",
      "File ../data/hdfs/hdfs_train, number of seqs 9420\n",
      "sampling...\n"
     ]
    },
    {
     "name": "stderr",
     "output_type": "stream",
     "text": [
      "100%|██████████| 1058/1058 [00:00<00:00, 3427.23it/s]\n"
     ]
    },
    {
     "name": "stdout",
     "output_type": "stream",
     "text": [
      "File ../data/hdfs/hdfs_test_normal, number of sessions 110673\n",
      "File ../data/hdfs/hdfs_test_normal, number of seqs 1058\n",
      "Find 9420 train logs, 1058 validation logs\n",
      "Train batch size 2048 ,Validation batch size 2048\n",
      "Starting epoch: 0 | phase: train | ⏰: 08:39:35 | Learning rate: 0.000313\n"
     ]
    },
    {
     "name": "stderr",
     "output_type": "stream",
     "text": [
      "Train loss: 1.72153: 100%|██████████| 5/5 [00:00<00:00, 26.70it/s]\n"
     ]
    },
    {
     "name": "stdout",
     "output_type": "stream",
     "text": [
      "Starting epoch: 0 | phase: valid | ⏰: 08:39:35 \n"
     ]
    },
    {
     "name": "stderr",
     "output_type": "stream",
     "text": [
      ": 100%|██████████| 1/1 [00:00<00:00, 53.53it/s]\n"
     ]
    },
    {
     "name": "stdout",
     "output_type": "stream",
     "text": [
      "Validation loss: 1.7260777950286865\n",
      "Client  1\n",
      "File ../data/hdfs/hdfs_train, number of sessions 971\n",
      "File ../data/hdfs/hdfs_train, number of seqs 9080\n",
      "sampling...\n"
     ]
    },
    {
     "name": "stderr",
     "output_type": "stream",
     "text": [
      "100%|██████████| 1046/1046 [00:00<00:00, 3616.10it/s]\n"
     ]
    },
    {
     "name": "stdout",
     "output_type": "stream",
     "text": [
      "File ../data/hdfs/hdfs_test_normal, number of sessions 110673\n",
      "File ../data/hdfs/hdfs_test_normal, number of seqs 1046\n",
      "Find 9080 train logs, 1046 validation logs\n",
      "Train batch size 2048 ,Validation batch size 2048\n",
      "Starting epoch: 0 | phase: train | ⏰: 08:39:47 | Learning rate: 0.000313\n"
     ]
    },
    {
     "name": "stderr",
     "output_type": "stream",
     "text": [
      "Train loss: 1.73425: 100%|██████████| 5/5 [00:00<00:00, 27.25it/s]\n"
     ]
    },
    {
     "name": "stdout",
     "output_type": "stream",
     "text": [
      "Starting epoch: 0 | phase: valid | ⏰: 08:39:47 \n"
     ]
    },
    {
     "name": "stderr",
     "output_type": "stream",
     "text": [
      ": 100%|██████████| 1/1 [00:00<00:00, 53.98it/s]\n"
     ]
    },
    {
     "name": "stdout",
     "output_type": "stream",
     "text": [
      "Validation loss: 1.6694695949554443\n",
      "Client  2\n",
      "File ../data/hdfs/hdfs_train, number of sessions 971\n",
      "File ../data/hdfs/hdfs_train, number of seqs 9485\n",
      "sampling...\n"
     ]
    },
    {
     "name": "stderr",
     "output_type": "stream",
     "text": [
      "100%|██████████| 1051/1051 [00:00<00:00, 3442.72it/s]\n"
     ]
    },
    {
     "name": "stdout",
     "output_type": "stream",
     "text": [
      "File ../data/hdfs/hdfs_test_normal, number of sessions 110673\n",
      "File ../data/hdfs/hdfs_test_normal, number of seqs 1051\n",
      "Find 9485 train logs, 1051 validation logs\n",
      "Train batch size 2048 ,Validation batch size 2048\n",
      "Starting epoch: 0 | phase: train | ⏰: 08:39:59 | Learning rate: 0.000313\n"
     ]
    },
    {
     "name": "stderr",
     "output_type": "stream",
     "text": [
      "Train loss: 1.74341: 100%|██████████| 5/5 [00:00<00:00, 26.48it/s]\n"
     ]
    },
    {
     "name": "stdout",
     "output_type": "stream",
     "text": [
      "Starting epoch: 0 | phase: valid | ⏰: 08:39:59 \n"
     ]
    },
    {
     "name": "stderr",
     "output_type": "stream",
     "text": [
      ": 100%|██████████| 1/1 [00:00<00:00, 54.66it/s]\n"
     ]
    },
    {
     "name": "stdout",
     "output_type": "stream",
     "text": [
      "Validation loss: 1.7161742448806763\n",
      "Client  3\n",
      "File ../data/hdfs/hdfs_train, number of sessions 971\n",
      "File ../data/hdfs/hdfs_train, number of seqs 9267\n",
      "sampling...\n"
     ]
    },
    {
     "name": "stderr",
     "output_type": "stream",
     "text": [
      "100%|██████████| 1057/1057 [00:00<00:00, 3453.52it/s]\n"
     ]
    },
    {
     "name": "stdout",
     "output_type": "stream",
     "text": [
      "File ../data/hdfs/hdfs_test_normal, number of sessions 110673\n",
      "File ../data/hdfs/hdfs_test_normal, number of seqs 1057\n",
      "Find 9267 train logs, 1057 validation logs\n",
      "Train batch size 2048 ,Validation batch size 2048\n",
      "Starting epoch: 0 | phase: train | ⏰: 08:40:11 | Learning rate: 0.000313\n"
     ]
    },
    {
     "name": "stderr",
     "output_type": "stream",
     "text": [
      "Train loss: 1.72084: 100%|██████████| 5/5 [00:00<00:00, 28.27it/s]\n"
     ]
    },
    {
     "name": "stdout",
     "output_type": "stream",
     "text": [
      "Starting epoch: 0 | phase: valid | ⏰: 08:40:11 \n"
     ]
    },
    {
     "name": "stderr",
     "output_type": "stream",
     "text": [
      ": 100%|██████████| 1/1 [00:00<00:00, 53.40it/s]\n"
     ]
    },
    {
     "name": "stdout",
     "output_type": "stream",
     "text": [
      "Validation loss: 1.6719835996627808\n",
      "Client  4\n",
      "File ../data/hdfs/hdfs_train, number of sessions 971\n",
      "File ../data/hdfs/hdfs_train, number of seqs 9323\n",
      "sampling...\n"
     ]
    },
    {
     "name": "stderr",
     "output_type": "stream",
     "text": [
      "100%|██████████| 1044/1044 [00:00<00:00, 3447.16it/s]\n"
     ]
    },
    {
     "name": "stdout",
     "output_type": "stream",
     "text": [
      "File ../data/hdfs/hdfs_test_normal, number of sessions 110673\n",
      "File ../data/hdfs/hdfs_test_normal, number of seqs 1044\n",
      "Find 9323 train logs, 1044 validation logs\n",
      "Train batch size 2048 ,Validation batch size 2048\n",
      "Starting epoch: 0 | phase: train | ⏰: 08:40:22 | Learning rate: 0.000313\n"
     ]
    },
    {
     "name": "stderr",
     "output_type": "stream",
     "text": [
      "Train loss: 1.72571: 100%|██████████| 5/5 [00:00<00:00, 27.13it/s]\n"
     ]
    },
    {
     "name": "stdout",
     "output_type": "stream",
     "text": [
      "Starting epoch: 0 | phase: valid | ⏰: 08:40:23 \n"
     ]
    },
    {
     "name": "stderr",
     "output_type": "stream",
     "text": [
      ": 100%|██████████| 1/1 [00:00<00:00, 56.17it/s]\n"
     ]
    },
    {
     "name": "stdout",
     "output_type": "stream",
     "text": [
      "Validation loss: 1.7040549516677856\n",
      "============ Test epoch 17 ============\n",
      "Client  0\n",
      "Number of sessions(hdfs_test_normal): 5813\n",
      "Number of sessions(hdfs_test_abnormal): 1136\n"
     ]
    },
    {
     "name": "stderr",
     "output_type": "stream",
     "text": [
      "100%|██████████| 5813/5813 [05:12<00:00, 18.58it/s]\n",
      "100%|██████████| 1136/1136 [00:33<00:00, 33.63it/s]\n"
     ]
    },
    {
     "name": "stdout",
     "output_type": "stream",
     "text": [
      "false positive (FP): 490, false negative (FN): 24, Precision: 87.216%, Recall: 99.287%, F1-measure: 92.861%\n",
      "actual positive (TP+FN): 3367, actual negative (FP+TN): 110673\n",
      "accuracy: 99.549\n",
      "Finished Predicting\n",
      "elapsed_time: 346.71371603012085\n",
      "Client  1\n",
      "Number of sessions(hdfs_test_normal): 5574\n",
      "Number of sessions(hdfs_test_abnormal): 1139\n"
     ]
    },
    {
     "name": "stderr",
     "output_type": "stream",
     "text": [
      "100%|██████████| 5574/5574 [05:07<00:00, 18.14it/s]\n",
      "100%|██████████| 1139/1139 [00:27<00:00, 41.83it/s]\n"
     ]
    },
    {
     "name": "stdout",
     "output_type": "stream",
     "text": [
      "false positive (FP): 528, false negative (FN): 25, Precision: 86.357%, Recall: 99.257%, F1-measure: 92.359%\n",
      "actual positive (TP+FN): 3367, actual negative (FP+TN): 110673\n",
      "accuracy: 99.515\n",
      "Finished Predicting\n",
      "elapsed_time: 334.5380494594574\n",
      "Client  2\n",
      "Number of sessions(hdfs_test_normal): 5730\n",
      "Number of sessions(hdfs_test_abnormal): 1118\n"
     ]
    },
    {
     "name": "stderr",
     "output_type": "stream",
     "text": [
      "100%|██████████| 5730/5730 [05:07<00:00, 18.64it/s]\n",
      "100%|██████████| 1118/1118 [00:35<00:00, 31.84it/s]\n"
     ]
    },
    {
     "name": "stdout",
     "output_type": "stream",
     "text": [
      "false positive (FP): 468, false negative (FN): 30, Precision: 87.700%, Recall: 99.109%, F1-measure: 93.056%\n",
      "actual positive (TP+FN): 3367, actual negative (FP+TN): 110673\n",
      "accuracy: 99.563\n",
      "Finished Predicting\n",
      "elapsed_time: 342.51036167144775\n",
      "Client  3\n",
      "Number of sessions(hdfs_test_normal): 5747\n",
      "Number of sessions(hdfs_test_abnormal): 1159\n"
     ]
    },
    {
     "name": "stderr",
     "output_type": "stream",
     "text": [
      "100%|██████████| 5747/5747 [05:28<00:00, 17.52it/s]\n",
      "100%|██████████| 1159/1159 [00:36<00:00, 31.57it/s]\n"
     ]
    },
    {
     "name": "stdout",
     "output_type": "stream",
     "text": [
      "false positive (FP): 451, false negative (FN): 28, Precision: 88.100%, Recall: 99.168%, F1-measure: 93.307%\n",
      "actual positive (TP+FN): 3367, actual negative (FP+TN): 110673\n",
      "accuracy: 99.580\n",
      "Finished Predicting\n",
      "elapsed_time: 364.7743365764618\n",
      "Client  4\n",
      "Number of sessions(hdfs_test_normal): 5623\n",
      "Number of sessions(hdfs_test_abnormal): 1121\n"
     ]
    },
    {
     "name": "stderr",
     "output_type": "stream",
     "text": [
      "100%|██████████| 5623/5623 [05:18<00:00, 17.68it/s]\n",
      "100%|██████████| 1121/1121 [00:34<00:00, 32.18it/s]\n"
     ]
    },
    {
     "name": "stdout",
     "output_type": "stream",
     "text": [
      "false positive (FP): 525, false negative (FN): 32, Precision: 86.399%, Recall: 99.050%, F1-measure: 92.293%\n",
      "actual positive (TP+FN): 3367, actual negative (FP+TN): 110673\n",
      "accuracy: 99.512\n",
      "Finished Predicting\n",
      "elapsed_time: 352.8577530384064\n",
      "============ Train epoch 18 ============\n",
      "Client  0\n",
      "File ../data/hdfs/hdfs_train, number of sessions 971\n",
      "File ../data/hdfs/hdfs_train, number of seqs 9420\n",
      "sampling...\n"
     ]
    },
    {
     "name": "stderr",
     "output_type": "stream",
     "text": [
      "100%|██████████| 1058/1058 [00:00<00:00, 3425.90it/s]\n"
     ]
    },
    {
     "name": "stdout",
     "output_type": "stream",
     "text": [
      "File ../data/hdfs/hdfs_test_normal, number of sessions 110673\n",
      "File ../data/hdfs/hdfs_test_normal, number of seqs 1058\n",
      "Find 9420 train logs, 1058 validation logs\n",
      "Train batch size 2048 ,Validation batch size 2048\n",
      "Starting epoch: 0 | phase: train | ⏰: 09:09:39 | Learning rate: 0.000313\n"
     ]
    },
    {
     "name": "stderr",
     "output_type": "stream",
     "text": [
      "Train loss: 1.69681: 100%|██████████| 5/5 [00:00<00:00, 27.00it/s]\n"
     ]
    },
    {
     "name": "stdout",
     "output_type": "stream",
     "text": [
      "Starting epoch: 0 | phase: valid | ⏰: 09:09:39 \n"
     ]
    },
    {
     "name": "stderr",
     "output_type": "stream",
     "text": [
      ": 100%|██████████| 1/1 [00:00<00:00, 54.01it/s]\n"
     ]
    },
    {
     "name": "stdout",
     "output_type": "stream",
     "text": [
      "Validation loss: 1.716760277748108\n",
      "Client  1\n",
      "File ../data/hdfs/hdfs_train, number of sessions 971\n",
      "File ../data/hdfs/hdfs_train, number of seqs 9080\n",
      "sampling...\n"
     ]
    },
    {
     "name": "stderr",
     "output_type": "stream",
     "text": [
      "100%|██████████| 1046/1046 [00:00<00:00, 3491.60it/s]\n"
     ]
    },
    {
     "name": "stdout",
     "output_type": "stream",
     "text": [
      "File ../data/hdfs/hdfs_test_normal, number of sessions 110673\n",
      "File ../data/hdfs/hdfs_test_normal, number of seqs 1046\n",
      "Find 9080 train logs, 1046 validation logs\n",
      "Train batch size 2048 ,Validation batch size 2048\n",
      "Starting epoch: 0 | phase: train | ⏰: 09:09:51 | Learning rate: 0.000313\n"
     ]
    },
    {
     "name": "stderr",
     "output_type": "stream",
     "text": [
      "Train loss: 1.71079: 100%|██████████| 5/5 [00:00<00:00, 25.55it/s]\n"
     ]
    },
    {
     "name": "stdout",
     "output_type": "stream",
     "text": [
      "Starting epoch: 0 | phase: valid | ⏰: 09:09:51 \n"
     ]
    },
    {
     "name": "stderr",
     "output_type": "stream",
     "text": [
      ": 100%|██████████| 1/1 [00:00<00:00, 57.06it/s]\n"
     ]
    },
    {
     "name": "stdout",
     "output_type": "stream",
     "text": [
      "Validation loss: 1.6527175903320312\n",
      "Client  2\n",
      "File ../data/hdfs/hdfs_train, number of sessions 971\n",
      "File ../data/hdfs/hdfs_train, number of seqs 9485\n",
      "sampling...\n"
     ]
    },
    {
     "name": "stderr",
     "output_type": "stream",
     "text": [
      "100%|██████████| 1051/1051 [00:00<00:00, 3492.64it/s]\n"
     ]
    },
    {
     "name": "stdout",
     "output_type": "stream",
     "text": [
      "File ../data/hdfs/hdfs_test_normal, number of sessions 110673\n",
      "File ../data/hdfs/hdfs_test_normal, number of seqs 1051\n",
      "Find 9485 train logs, 1051 validation logs\n",
      "Train batch size 2048 ,Validation batch size 2048\n",
      "Starting epoch: 0 | phase: train | ⏰: 09:10:03 | Learning rate: 0.000313\n"
     ]
    },
    {
     "name": "stderr",
     "output_type": "stream",
     "text": [
      "Train loss: 1.71927: 100%|██████████| 5/5 [00:00<00:00, 27.10it/s]\n"
     ]
    },
    {
     "name": "stdout",
     "output_type": "stream",
     "text": [
      "Starting epoch: 0 | phase: valid | ⏰: 09:10:03 \n"
     ]
    },
    {
     "name": "stderr",
     "output_type": "stream",
     "text": [
      ": 100%|██████████| 1/1 [00:00<00:00, 53.58it/s]\n"
     ]
    },
    {
     "name": "stdout",
     "output_type": "stream",
     "text": [
      "Validation loss: 1.646331787109375\n",
      "Client  3\n",
      "File ../data/hdfs/hdfs_train, number of sessions 971\n",
      "File ../data/hdfs/hdfs_train, number of seqs 9267\n",
      "sampling...\n"
     ]
    },
    {
     "name": "stderr",
     "output_type": "stream",
     "text": [
      "100%|██████████| 1057/1057 [00:00<00:00, 3595.72it/s]\n"
     ]
    },
    {
     "name": "stdout",
     "output_type": "stream",
     "text": [
      "File ../data/hdfs/hdfs_test_normal, number of sessions 110673\n",
      "File ../data/hdfs/hdfs_test_normal, number of seqs 1057\n",
      "Find 9267 train logs, 1057 validation logs\n",
      "Train batch size 2048 ,Validation batch size 2048\n",
      "Starting epoch: 0 | phase: train | ⏰: 09:10:14 | Learning rate: 0.000313\n"
     ]
    },
    {
     "name": "stderr",
     "output_type": "stream",
     "text": [
      "Train loss: 1.70134: 100%|██████████| 5/5 [00:00<00:00, 25.32it/s]\n"
     ]
    },
    {
     "name": "stdout",
     "output_type": "stream",
     "text": [
      "Starting epoch: 0 | phase: valid | ⏰: 09:10:14 \n"
     ]
    },
    {
     "name": "stderr",
     "output_type": "stream",
     "text": [
      ": 100%|██████████| 1/1 [00:00<00:00, 57.72it/s]\n"
     ]
    },
    {
     "name": "stdout",
     "output_type": "stream",
     "text": [
      "Validation loss: 1.7153098583221436\n",
      "Client  4\n",
      "File ../data/hdfs/hdfs_train, number of sessions 971\n",
      "File ../data/hdfs/hdfs_train, number of seqs 9323\n",
      "sampling...\n"
     ]
    },
    {
     "name": "stderr",
     "output_type": "stream",
     "text": [
      "100%|██████████| 1044/1044 [00:00<00:00, 3631.08it/s]\n"
     ]
    },
    {
     "name": "stdout",
     "output_type": "stream",
     "text": [
      "File ../data/hdfs/hdfs_test_normal, number of sessions 110673\n",
      "File ../data/hdfs/hdfs_test_normal, number of seqs 1044\n",
      "Find 9323 train logs, 1044 validation logs\n",
      "Train batch size 2048 ,Validation batch size 2048\n",
      "Starting epoch: 0 | phase: train | ⏰: 09:10:26 | Learning rate: 0.000313\n"
     ]
    },
    {
     "name": "stderr",
     "output_type": "stream",
     "text": [
      "Train loss: 1.70210: 100%|██████████| 5/5 [00:00<00:00, 26.79it/s]\n"
     ]
    },
    {
     "name": "stdout",
     "output_type": "stream",
     "text": [
      "Starting epoch: 0 | phase: valid | ⏰: 09:10:26 \n"
     ]
    },
    {
     "name": "stderr",
     "output_type": "stream",
     "text": [
      ": 100%|██████████| 1/1 [00:00<00:00, 56.78it/s]\n"
     ]
    },
    {
     "name": "stdout",
     "output_type": "stream",
     "text": [
      "Validation loss: 1.653676986694336\n",
      "============ Test epoch 18 ============\n",
      "Client  0\n",
      "Number of sessions(hdfs_test_normal): 5813\n",
      "Number of sessions(hdfs_test_abnormal): 1136\n"
     ]
    },
    {
     "name": "stderr",
     "output_type": "stream",
     "text": [
      "100%|██████████| 5813/5813 [05:14<00:00, 18.49it/s]\n",
      "100%|██████████| 1136/1136 [00:33<00:00, 33.56it/s]\n"
     ]
    },
    {
     "name": "stdout",
     "output_type": "stream",
     "text": [
      "false positive (FP): 490, false negative (FN): 24, Precision: 87.216%, Recall: 99.287%, F1-measure: 92.861%\n",
      "actual positive (TP+FN): 3367, actual negative (FP+TN): 110673\n",
      "accuracy: 99.549\n",
      "Finished Predicting\n",
      "elapsed_time: 348.2190144062042\n",
      "Client  1\n",
      "Number of sessions(hdfs_test_normal): 5574\n",
      "Number of sessions(hdfs_test_abnormal): 1139\n"
     ]
    },
    {
     "name": "stderr",
     "output_type": "stream",
     "text": [
      "100%|██████████| 5574/5574 [05:07<00:00, 18.15it/s]\n",
      "100%|██████████| 1139/1139 [00:26<00:00, 42.48it/s]\n"
     ]
    },
    {
     "name": "stdout",
     "output_type": "stream",
     "text": [
      "false positive (FP): 528, false negative (FN): 25, Precision: 86.357%, Recall: 99.257%, F1-measure: 92.359%\n",
      "actual positive (TP+FN): 3367, actual negative (FP+TN): 110673\n",
      "accuracy: 99.515\n",
      "Finished Predicting\n",
      "elapsed_time: 333.8525104522705\n",
      "Client  2\n",
      "Number of sessions(hdfs_test_normal): 5730\n",
      "Number of sessions(hdfs_test_abnormal): 1118\n"
     ]
    },
    {
     "name": "stderr",
     "output_type": "stream",
     "text": [
      "100%|██████████| 5730/5730 [05:06<00:00, 18.67it/s]\n",
      "100%|██████████| 1118/1118 [00:35<00:00, 31.93it/s]\n"
     ]
    },
    {
     "name": "stdout",
     "output_type": "stream",
     "text": [
      "false positive (FP): 468, false negative (FN): 30, Precision: 87.700%, Recall: 99.109%, F1-measure: 93.056%\n",
      "actual positive (TP+FN): 3367, actual negative (FP+TN): 110673\n",
      "accuracy: 99.563\n",
      "Finished Predicting\n",
      "elapsed_time: 341.9914209842682\n",
      "Client  3\n",
      "Number of sessions(hdfs_test_normal): 5747\n",
      "Number of sessions(hdfs_test_abnormal): 1159\n"
     ]
    },
    {
     "name": "stderr",
     "output_type": "stream",
     "text": [
      "100%|██████████| 5747/5747 [05:28<00:00, 17.50it/s]\n",
      "100%|██████████| 1159/1159 [00:36<00:00, 31.58it/s]\n"
     ]
    },
    {
     "name": "stdout",
     "output_type": "stream",
     "text": [
      "false positive (FP): 451, false negative (FN): 28, Precision: 88.100%, Recall: 99.168%, F1-measure: 93.307%\n",
      "actual positive (TP+FN): 3367, actual negative (FP+TN): 110673\n",
      "accuracy: 99.580\n",
      "Finished Predicting\n",
      "elapsed_time: 365.1461818218231\n",
      "Client  4\n",
      "Number of sessions(hdfs_test_normal): 5623\n",
      "Number of sessions(hdfs_test_abnormal): 1121\n"
     ]
    },
    {
     "name": "stderr",
     "output_type": "stream",
     "text": [
      "100%|██████████| 5623/5623 [05:17<00:00, 17.69it/s]\n",
      "100%|██████████| 1121/1121 [00:34<00:00, 32.13it/s]\n"
     ]
    },
    {
     "name": "stdout",
     "output_type": "stream",
     "text": [
      "false positive (FP): 525, false negative (FN): 32, Precision: 86.399%, Recall: 99.050%, F1-measure: 92.293%\n",
      "actual positive (TP+FN): 3367, actual negative (FP+TN): 110673\n",
      "accuracy: 99.512\n",
      "Finished Predicting\n",
      "elapsed_time: 352.71810507774353\n",
      "============ Train epoch 19 ============\n",
      "Client  0\n",
      "File ../data/hdfs/hdfs_train, number of sessions 971\n",
      "File ../data/hdfs/hdfs_train, number of seqs 9420\n",
      "sampling...\n"
     ]
    },
    {
     "name": "stderr",
     "output_type": "stream",
     "text": [
      "100%|██████████| 1058/1058 [00:00<00:00, 3469.12it/s]\n"
     ]
    },
    {
     "name": "stdout",
     "output_type": "stream",
     "text": [
      "File ../data/hdfs/hdfs_test_normal, number of sessions 110673\n",
      "File ../data/hdfs/hdfs_test_normal, number of seqs 1058\n",
      "Find 9420 train logs, 1058 validation logs\n",
      "Train batch size 2048 ,Validation batch size 2048\n",
      "Starting epoch: 0 | phase: train | ⏰: 09:39:43 | Learning rate: 0.000313\n"
     ]
    },
    {
     "name": "stderr",
     "output_type": "stream",
     "text": [
      "Train loss: 1.67448: 100%|██████████| 5/5 [00:00<00:00, 27.30it/s]\n"
     ]
    },
    {
     "name": "stdout",
     "output_type": "stream",
     "text": [
      "Starting epoch: 0 | phase: valid | ⏰: 09:39:43 \n"
     ]
    },
    {
     "name": "stderr",
     "output_type": "stream",
     "text": [
      ": 100%|██████████| 1/1 [00:00<00:00, 51.07it/s]\n"
     ]
    },
    {
     "name": "stdout",
     "output_type": "stream",
     "text": [
      "Validation loss: 1.6323456764221191\n",
      "Client  1\n",
      "File ../data/hdfs/hdfs_train, number of sessions 971\n",
      "File ../data/hdfs/hdfs_train, number of seqs 9080\n",
      "sampling...\n"
     ]
    },
    {
     "name": "stderr",
     "output_type": "stream",
     "text": [
      "100%|██████████| 1046/1046 [00:00<00:00, 3405.55it/s]\n"
     ]
    },
    {
     "name": "stdout",
     "output_type": "stream",
     "text": [
      "File ../data/hdfs/hdfs_test_normal, number of sessions 110673\n",
      "File ../data/hdfs/hdfs_test_normal, number of seqs 1046\n",
      "Find 9080 train logs, 1046 validation logs\n",
      "Train batch size 2048 ,Validation batch size 2048\n",
      "Starting epoch: 0 | phase: train | ⏰: 09:39:55 | Learning rate: 0.000313\n"
     ]
    },
    {
     "name": "stderr",
     "output_type": "stream",
     "text": [
      "Train loss: 1.68882: 100%|██████████| 5/5 [00:00<00:00, 28.25it/s]\n"
     ]
    },
    {
     "name": "stdout",
     "output_type": "stream",
     "text": [
      "Starting epoch: 0 | phase: valid | ⏰: 09:39:55 \n"
     ]
    },
    {
     "name": "stderr",
     "output_type": "stream",
     "text": [
      ": 100%|██████████| 1/1 [00:00<00:00, 53.35it/s]\n"
     ]
    },
    {
     "name": "stdout",
     "output_type": "stream",
     "text": [
      "Validation loss: 1.6291078329086304\n",
      "Client  2\n",
      "File ../data/hdfs/hdfs_train, number of sessions 971\n",
      "File ../data/hdfs/hdfs_train, number of seqs 9485\n",
      "sampling...\n"
     ]
    },
    {
     "name": "stderr",
     "output_type": "stream",
     "text": [
      "100%|██████████| 1051/1051 [00:00<00:00, 3417.89it/s]\n"
     ]
    },
    {
     "name": "stdout",
     "output_type": "stream",
     "text": [
      "File ../data/hdfs/hdfs_test_normal, number of sessions 110673\n",
      "File ../data/hdfs/hdfs_test_normal, number of seqs 1051\n",
      "Find 9485 train logs, 1051 validation logs\n",
      "Train batch size 2048 ,Validation batch size 2048\n",
      "Starting epoch: 0 | phase: train | ⏰: 09:40:06 | Learning rate: 0.000313\n"
     ]
    },
    {
     "name": "stderr",
     "output_type": "stream",
     "text": [
      "Train loss: 1.69385: 100%|██████████| 5/5 [00:00<00:00, 27.30it/s]\n"
     ]
    },
    {
     "name": "stdout",
     "output_type": "stream",
     "text": [
      "Starting epoch: 0 | phase: valid | ⏰: 09:40:07 \n"
     ]
    },
    {
     "name": "stderr",
     "output_type": "stream",
     "text": [
      ": 100%|██████████| 1/1 [00:00<00:00, 53.95it/s]\n"
     ]
    },
    {
     "name": "stdout",
     "output_type": "stream",
     "text": [
      "Validation loss: 1.6360890865325928\n",
      "Client  3\n",
      "File ../data/hdfs/hdfs_train, number of sessions 971\n",
      "File ../data/hdfs/hdfs_train, number of seqs 9267\n",
      "sampling...\n"
     ]
    },
    {
     "name": "stderr",
     "output_type": "stream",
     "text": [
      "100%|██████████| 1057/1057 [00:00<00:00, 3505.84it/s]\n"
     ]
    },
    {
     "name": "stdout",
     "output_type": "stream",
     "text": [
      "File ../data/hdfs/hdfs_test_normal, number of sessions 110673\n",
      "File ../data/hdfs/hdfs_test_normal, number of seqs 1057\n",
      "Find 9267 train logs, 1057 validation logs\n",
      "Train batch size 2048 ,Validation batch size 2048\n",
      "Starting epoch: 0 | phase: train | ⏰: 09:40:18 | Learning rate: 0.000313\n"
     ]
    },
    {
     "name": "stderr",
     "output_type": "stream",
     "text": [
      "Train loss: 1.67528: 100%|██████████| 5/5 [00:00<00:00, 26.98it/s]\n"
     ]
    },
    {
     "name": "stdout",
     "output_type": "stream",
     "text": [
      "Starting epoch: 0 | phase: valid | ⏰: 09:40:18 \n"
     ]
    },
    {
     "name": "stderr",
     "output_type": "stream",
     "text": [
      ": 100%|██████████| 1/1 [00:00<00:00, 53.87it/s]\n"
     ]
    },
    {
     "name": "stdout",
     "output_type": "stream",
     "text": [
      "Validation loss: 1.6120312213897705\n",
      "Client  4\n",
      "File ../data/hdfs/hdfs_train, number of sessions 971\n",
      "File ../data/hdfs/hdfs_train, number of seqs 9323\n",
      "sampling...\n"
     ]
    },
    {
     "name": "stderr",
     "output_type": "stream",
     "text": [
      "100%|██████████| 1044/1044 [00:00<00:00, 3525.25it/s]\n"
     ]
    },
    {
     "name": "stdout",
     "output_type": "stream",
     "text": [
      "File ../data/hdfs/hdfs_test_normal, number of sessions 110673\n",
      "File ../data/hdfs/hdfs_test_normal, number of seqs 1044\n",
      "Find 9323 train logs, 1044 validation logs\n",
      "Train batch size 2048 ,Validation batch size 2048\n",
      "Starting epoch: 0 | phase: train | ⏰: 09:40:30 | Learning rate: 0.000313\n"
     ]
    },
    {
     "name": "stderr",
     "output_type": "stream",
     "text": [
      "Train loss: 1.67703: 100%|██████████| 5/5 [00:00<00:00, 28.83it/s]\n"
     ]
    },
    {
     "name": "stdout",
     "output_type": "stream",
     "text": [
      "Starting epoch: 0 | phase: valid | ⏰: 09:40:30 \n"
     ]
    },
    {
     "name": "stderr",
     "output_type": "stream",
     "text": [
      ": 100%|██████████| 1/1 [00:00<00:00, 55.18it/s]\n"
     ]
    },
    {
     "name": "stdout",
     "output_type": "stream",
     "text": [
      "Validation loss: 1.6127370595932007\n",
      "============ Test epoch 19 ============\n",
      "Client  0\n",
      "Number of sessions(hdfs_test_normal): 5813\n",
      "Number of sessions(hdfs_test_abnormal): 1136\n"
     ]
    },
    {
     "name": "stderr",
     "output_type": "stream",
     "text": [
      "100%|██████████| 5813/5813 [05:13<00:00, 18.55it/s]\n",
      "100%|██████████| 1136/1136 [00:33<00:00, 33.70it/s]\n"
     ]
    },
    {
     "name": "stdout",
     "output_type": "stream",
     "text": [
      "false positive (FP): 490, false negative (FN): 24, Precision: 87.216%, Recall: 99.287%, F1-measure: 92.861%\n",
      "actual positive (TP+FN): 3367, actual negative (FP+TN): 110673\n",
      "accuracy: 99.549\n",
      "Finished Predicting\n",
      "elapsed_time: 347.0142331123352\n",
      "Client  1\n",
      "Number of sessions(hdfs_test_normal): 5574\n",
      "Number of sessions(hdfs_test_abnormal): 1139\n"
     ]
    },
    {
     "name": "stderr",
     "output_type": "stream",
     "text": [
      "100%|██████████| 5574/5574 [05:06<00:00, 18.17it/s]\n",
      "100%|██████████| 1139/1139 [00:26<00:00, 42.36it/s]\n"
     ]
    },
    {
     "name": "stdout",
     "output_type": "stream",
     "text": [
      "false positive (FP): 528, false negative (FN): 25, Precision: 86.357%, Recall: 99.257%, F1-measure: 92.359%\n",
      "actual positive (TP+FN): 3367, actual negative (FP+TN): 110673\n",
      "accuracy: 99.515\n",
      "Finished Predicting\n",
      "elapsed_time: 333.5925633907318\n",
      "Client  2\n",
      "Number of sessions(hdfs_test_normal): 5730\n",
      "Number of sessions(hdfs_test_abnormal): 1118\n"
     ]
    },
    {
     "name": "stderr",
     "output_type": "stream",
     "text": [
      "100%|██████████| 5730/5730 [05:08<00:00, 18.56it/s]\n",
      "100%|██████████| 1118/1118 [00:35<00:00, 31.92it/s]\n"
     ]
    },
    {
     "name": "stdout",
     "output_type": "stream",
     "text": [
      "false positive (FP): 468, false negative (FN): 30, Precision: 87.700%, Recall: 99.109%, F1-measure: 93.056%\n",
      "actual positive (TP+FN): 3367, actual negative (FP+TN): 110673\n",
      "accuracy: 99.563\n",
      "Finished Predicting\n",
      "elapsed_time: 343.79140853881836\n",
      "Client  3\n",
      "Number of sessions(hdfs_test_normal): 5747\n",
      "Number of sessions(hdfs_test_abnormal): 1159\n"
     ]
    },
    {
     "name": "stderr",
     "output_type": "stream",
     "text": [
      "100%|██████████| 5747/5747 [05:30<00:00, 17.40it/s]\n",
      "100%|██████████| 1159/1159 [00:36<00:00, 31.38it/s]\n"
     ]
    },
    {
     "name": "stdout",
     "output_type": "stream",
     "text": [
      "false positive (FP): 451, false negative (FN): 28, Precision: 88.100%, Recall: 99.168%, F1-measure: 93.307%\n",
      "actual positive (TP+FN): 3367, actual negative (FP+TN): 110673\n",
      "accuracy: 99.580\n",
      "Finished Predicting\n",
      "elapsed_time: 367.2089126110077\n",
      "Client  4\n",
      "Number of sessions(hdfs_test_normal): 5623\n",
      "Number of sessions(hdfs_test_abnormal): 1121\n"
     ]
    },
    {
     "name": "stderr",
     "output_type": "stream",
     "text": [
      "100%|██████████| 5623/5623 [05:19<00:00, 17.61it/s]\n",
      "100%|██████████| 1121/1121 [00:34<00:00, 32.16it/s]\n"
     ]
    },
    {
     "name": "stdout",
     "output_type": "stream",
     "text": [
      "false positive (FP): 525, false negative (FN): 32, Precision: 86.399%, Recall: 99.050%, F1-measure: 92.293%\n",
      "actual positive (TP+FN): 3367, actual negative (FP+TN): 110673\n",
      "accuracy: 99.512\n",
      "Finished Predicting\n",
      "elapsed_time: 354.0930001735687\n",
      "============ Train epoch 20 ============\n",
      "Client  0\n",
      "File ../data/hdfs/hdfs_train, number of sessions 971\n",
      "File ../data/hdfs/hdfs_train, number of seqs 9420\n",
      "sampling...\n"
     ]
    },
    {
     "name": "stderr",
     "output_type": "stream",
     "text": [
      "100%|██████████| 1058/1058 [00:00<00:00, 3491.18it/s]\n"
     ]
    },
    {
     "name": "stdout",
     "output_type": "stream",
     "text": [
      "File ../data/hdfs/hdfs_test_normal, number of sessions 110673\n",
      "File ../data/hdfs/hdfs_test_normal, number of seqs 1058\n",
      "Find 9420 train logs, 1058 validation logs\n",
      "Train batch size 2048 ,Validation batch size 2048\n",
      "Starting epoch: 0 | phase: train | ⏰: 10:09:51 | Learning rate: 0.000313\n"
     ]
    },
    {
     "name": "stderr",
     "output_type": "stream",
     "text": [
      "Train loss: 1.64826: 100%|██████████| 5/5 [00:00<00:00, 28.00it/s]\n"
     ]
    },
    {
     "name": "stdout",
     "output_type": "stream",
     "text": [
      "Starting epoch: 0 | phase: valid | ⏰: 10:09:51 \n"
     ]
    },
    {
     "name": "stderr",
     "output_type": "stream",
     "text": [
      ": 100%|██████████| 1/1 [00:00<00:00, 53.15it/s]\n"
     ]
    },
    {
     "name": "stdout",
     "output_type": "stream",
     "text": [
      "Validation loss: 1.6265058517456055\n",
      "Client  1\n",
      "File ../data/hdfs/hdfs_train, number of sessions 971\n",
      "File ../data/hdfs/hdfs_train, number of seqs 9080\n",
      "sampling...\n"
     ]
    },
    {
     "name": "stderr",
     "output_type": "stream",
     "text": [
      "100%|██████████| 1046/1046 [00:00<00:00, 3456.71it/s]\n"
     ]
    },
    {
     "name": "stdout",
     "output_type": "stream",
     "text": [
      "File ../data/hdfs/hdfs_test_normal, number of sessions 110673\n",
      "File ../data/hdfs/hdfs_test_normal, number of seqs 1046\n",
      "Find 9080 train logs, 1046 validation logs\n",
      "Train batch size 2048 ,Validation batch size 2048\n",
      "Starting epoch: 0 | phase: train | ⏰: 10:10:02 | Learning rate: 0.000313\n"
     ]
    },
    {
     "name": "stderr",
     "output_type": "stream",
     "text": [
      "Train loss: 1.65924: 100%|██████████| 5/5 [00:00<00:00, 28.17it/s]\n"
     ]
    },
    {
     "name": "stdout",
     "output_type": "stream",
     "text": [
      "Starting epoch: 0 | phase: valid | ⏰: 10:10:03 \n"
     ]
    },
    {
     "name": "stderr",
     "output_type": "stream",
     "text": [
      ": 100%|██████████| 1/1 [00:00<00:00, 53.93it/s]\n"
     ]
    },
    {
     "name": "stdout",
     "output_type": "stream",
     "text": [
      "Validation loss: 1.6508160829544067\n",
      "Client  2\n",
      "File ../data/hdfs/hdfs_train, number of sessions 971\n",
      "File ../data/hdfs/hdfs_train, number of seqs 9485\n",
      "sampling...\n"
     ]
    },
    {
     "name": "stderr",
     "output_type": "stream",
     "text": [
      "100%|██████████| 1051/1051 [00:00<00:00, 3500.48it/s]\n"
     ]
    },
    {
     "name": "stdout",
     "output_type": "stream",
     "text": [
      "File ../data/hdfs/hdfs_test_normal, number of sessions 110673\n",
      "File ../data/hdfs/hdfs_test_normal, number of seqs 1051\n",
      "Find 9485 train logs, 1051 validation logs\n",
      "Train batch size 2048 ,Validation batch size 2048\n",
      "Starting epoch: 0 | phase: train | ⏰: 10:10:14 | Learning rate: 0.000313\n"
     ]
    },
    {
     "name": "stderr",
     "output_type": "stream",
     "text": [
      "Train loss: 1.66600: 100%|██████████| 5/5 [00:00<00:00, 27.38it/s]\n"
     ]
    },
    {
     "name": "stdout",
     "output_type": "stream",
     "text": [
      "Starting epoch: 0 | phase: valid | ⏰: 10:10:14 \n"
     ]
    },
    {
     "name": "stderr",
     "output_type": "stream",
     "text": [
      ": 100%|██████████| 1/1 [00:00<00:00, 53.51it/s]\n"
     ]
    },
    {
     "name": "stdout",
     "output_type": "stream",
     "text": [
      "Validation loss: 1.636381983757019\n",
      "Client  3\n",
      "File ../data/hdfs/hdfs_train, number of sessions 971\n",
      "File ../data/hdfs/hdfs_train, number of seqs 9267\n",
      "sampling...\n"
     ]
    },
    {
     "name": "stderr",
     "output_type": "stream",
     "text": [
      "100%|██████████| 1057/1057 [00:00<00:00, 3501.42it/s]\n"
     ]
    },
    {
     "name": "stdout",
     "output_type": "stream",
     "text": [
      "File ../data/hdfs/hdfs_test_normal, number of sessions 110673\n",
      "File ../data/hdfs/hdfs_test_normal, number of seqs 1057\n",
      "Find 9267 train logs, 1057 validation logs\n",
      "Train batch size 2048 ,Validation batch size 2048\n",
      "Starting epoch: 0 | phase: train | ⏰: 10:10:26 | Learning rate: 0.000313\n"
     ]
    },
    {
     "name": "stderr",
     "output_type": "stream",
     "text": [
      "Train loss: 1.64607: 100%|██████████| 5/5 [00:00<00:00, 28.06it/s]\n"
     ]
    },
    {
     "name": "stdout",
     "output_type": "stream",
     "text": [
      "Starting epoch: 0 | phase: valid | ⏰: 10:10:26 \n"
     ]
    },
    {
     "name": "stderr",
     "output_type": "stream",
     "text": [
      ": 100%|██████████| 1/1 [00:00<00:00, 53.64it/s]\n"
     ]
    },
    {
     "name": "stdout",
     "output_type": "stream",
     "text": [
      "Validation loss: 1.6721951961517334\n",
      "Client  4\n",
      "File ../data/hdfs/hdfs_train, number of sessions 971\n",
      "File ../data/hdfs/hdfs_train, number of seqs 9323\n",
      "sampling...\n"
     ]
    },
    {
     "name": "stderr",
     "output_type": "stream",
     "text": [
      "100%|██████████| 1044/1044 [00:00<00:00, 3655.69it/s]\n"
     ]
    },
    {
     "name": "stdout",
     "output_type": "stream",
     "text": [
      "File ../data/hdfs/hdfs_test_normal, number of sessions 110673\n",
      "File ../data/hdfs/hdfs_test_normal, number of seqs 1044\n",
      "Find 9323 train logs, 1044 validation logs\n",
      "Train batch size 2048 ,Validation batch size 2048\n",
      "Starting epoch: 0 | phase: train | ⏰: 10:10:38 | Learning rate: 0.000313\n"
     ]
    },
    {
     "name": "stderr",
     "output_type": "stream",
     "text": [
      "Train loss: 1.65815: 100%|██████████| 5/5 [00:00<00:00, 27.89it/s]\n"
     ]
    },
    {
     "name": "stdout",
     "output_type": "stream",
     "text": [
      "Starting epoch: 0 | phase: valid | ⏰: 10:10:38 \n"
     ]
    },
    {
     "name": "stderr",
     "output_type": "stream",
     "text": [
      ": 100%|██████████| 1/1 [00:00<00:00, 55.31it/s]\n"
     ]
    },
    {
     "name": "stdout",
     "output_type": "stream",
     "text": [
      "Validation loss: 1.668371558189392\n",
      "============ Test epoch 20 ============\n",
      "Client  0\n",
      "Number of sessions(hdfs_test_normal): 5813\n",
      "Number of sessions(hdfs_test_abnormal): 1136\n"
     ]
    },
    {
     "name": "stderr",
     "output_type": "stream",
     "text": [
      "100%|██████████| 5813/5813 [05:14<00:00, 18.47it/s]\n",
      "100%|██████████| 1136/1136 [00:33<00:00, 33.57it/s]\n"
     ]
    },
    {
     "name": "stdout",
     "output_type": "stream",
     "text": [
      "false positive (FP): 490, false negative (FN): 24, Precision: 87.216%, Recall: 99.287%, F1-measure: 92.861%\n",
      "actual positive (TP+FN): 3367, actual negative (FP+TN): 110673\n",
      "accuracy: 99.549\n",
      "Finished Predicting\n",
      "elapsed_time: 348.49042415618896\n",
      "Client  1\n",
      "Number of sessions(hdfs_test_normal): 5574\n",
      "Number of sessions(hdfs_test_abnormal): 1139\n"
     ]
    },
    {
     "name": "stderr",
     "output_type": "stream",
     "text": [
      "100%|██████████| 5574/5574 [05:06<00:00, 18.19it/s]\n",
      "100%|██████████| 1139/1139 [00:27<00:00, 41.94it/s]\n"
     ]
    },
    {
     "name": "stdout",
     "output_type": "stream",
     "text": [
      "false positive (FP): 528, false negative (FN): 25, Precision: 86.357%, Recall: 99.257%, F1-measure: 92.359%\n",
      "actual positive (TP+FN): 3367, actual negative (FP+TN): 110673\n",
      "accuracy: 99.515\n",
      "Finished Predicting\n",
      "elapsed_time: 333.63783621788025\n",
      "Client  2\n",
      "Number of sessions(hdfs_test_normal): 5730\n",
      "Number of sessions(hdfs_test_abnormal): 1118\n"
     ]
    },
    {
     "name": "stderr",
     "output_type": "stream",
     "text": [
      "100%|██████████| 5730/5730 [05:08<00:00, 18.57it/s]\n",
      "100%|██████████| 1118/1118 [00:34<00:00, 31.96it/s]\n"
     ]
    },
    {
     "name": "stdout",
     "output_type": "stream",
     "text": [
      "false positive (FP): 468, false negative (FN): 30, Precision: 87.700%, Recall: 99.109%, F1-measure: 93.056%\n",
      "actual positive (TP+FN): 3367, actual negative (FP+TN): 110673\n",
      "accuracy: 99.563\n",
      "Finished Predicting\n",
      "elapsed_time: 343.485493183136\n",
      "Client  3\n",
      "Number of sessions(hdfs_test_normal): 5747\n",
      "Number of sessions(hdfs_test_abnormal): 1159\n"
     ]
    },
    {
     "name": "stderr",
     "output_type": "stream",
     "text": [
      "100%|██████████| 5747/5747 [05:28<00:00, 17.50it/s]\n",
      "100%|██████████| 1159/1159 [00:36<00:00, 31.62it/s]\n"
     ]
    },
    {
     "name": "stdout",
     "output_type": "stream",
     "text": [
      "false positive (FP): 451, false negative (FN): 28, Precision: 88.100%, Recall: 99.168%, F1-measure: 93.307%\n",
      "actual positive (TP+FN): 3367, actual negative (FP+TN): 110673\n",
      "accuracy: 99.580\n",
      "Finished Predicting\n",
      "elapsed_time: 365.0074362754822\n",
      "Client  4\n",
      "Number of sessions(hdfs_test_normal): 5623\n",
      "Number of sessions(hdfs_test_abnormal): 1121\n"
     ]
    },
    {
     "name": "stderr",
     "output_type": "stream",
     "text": [
      "100%|██████████| 5623/5623 [05:18<00:00, 17.68it/s]\n",
      "100%|██████████| 1121/1121 [00:34<00:00, 32.25it/s]\n"
     ]
    },
    {
     "name": "stdout",
     "output_type": "stream",
     "text": [
      "false positive (FP): 525, false negative (FN): 32, Precision: 86.399%, Recall: 99.050%, F1-measure: 92.293%\n",
      "actual positive (TP+FN): 3367, actual negative (FP+TN): 110673\n",
      "accuracy: 99.512\n",
      "Finished Predicting\n",
      "elapsed_time: 352.79769372940063\n",
      "============ Train epoch 21 ============\n",
      "Client  0\n",
      "File ../data/hdfs/hdfs_train, number of sessions 971\n",
      "File ../data/hdfs/hdfs_train, number of seqs 9420\n",
      "sampling...\n"
     ]
    },
    {
     "name": "stderr",
     "output_type": "stream",
     "text": [
      "100%|██████████| 1058/1058 [00:00<00:00, 3458.44it/s]\n"
     ]
    },
    {
     "name": "stdout",
     "output_type": "stream",
     "text": [
      "File ../data/hdfs/hdfs_test_normal, number of sessions 110673\n",
      "File ../data/hdfs/hdfs_test_normal, number of seqs 1058\n",
      "Find 9420 train logs, 1058 validation logs\n",
      "Train batch size 2048 ,Validation batch size 2048\n",
      "Starting epoch: 0 | phase: train | ⏰: 10:39:56 | Learning rate: 0.000313\n"
     ]
    },
    {
     "name": "stderr",
     "output_type": "stream",
     "text": [
      "Train loss: 1.61814: 100%|██████████| 5/5 [00:00<00:00, 27.04it/s]\n"
     ]
    },
    {
     "name": "stdout",
     "output_type": "stream",
     "text": [
      "Starting epoch: 0 | phase: valid | ⏰: 10:39:57 \n"
     ]
    },
    {
     "name": "stderr",
     "output_type": "stream",
     "text": [
      ": 100%|██████████| 1/1 [00:00<00:00, 51.45it/s]\n"
     ]
    },
    {
     "name": "stdout",
     "output_type": "stream",
     "text": [
      "Validation loss: 1.6013250350952148\n",
      "Client  1\n",
      "File ../data/hdfs/hdfs_train, number of sessions 971\n",
      "File ../data/hdfs/hdfs_train, number of seqs 9080\n",
      "sampling...\n"
     ]
    },
    {
     "name": "stderr",
     "output_type": "stream",
     "text": [
      "100%|██████████| 1046/1046 [00:00<00:00, 3537.66it/s]\n"
     ]
    },
    {
     "name": "stdout",
     "output_type": "stream",
     "text": [
      "File ../data/hdfs/hdfs_test_normal, number of sessions 110673\n",
      "File ../data/hdfs/hdfs_test_normal, number of seqs 1046\n",
      "Find 9080 train logs, 1046 validation logs\n",
      "Train batch size 2048 ,Validation batch size 2048\n",
      "Starting epoch: 0 | phase: train | ⏰: 10:40:08 | Learning rate: 0.000313\n"
     ]
    },
    {
     "name": "stderr",
     "output_type": "stream",
     "text": [
      "Train loss: 1.63353: 100%|██████████| 5/5 [00:00<00:00, 27.75it/s]\n"
     ]
    },
    {
     "name": "stdout",
     "output_type": "stream",
     "text": [
      "Starting epoch: 0 | phase: valid | ⏰: 10:40:08 \n"
     ]
    },
    {
     "name": "stderr",
     "output_type": "stream",
     "text": [
      ": 100%|██████████| 1/1 [00:00<00:00, 54.71it/s]\n"
     ]
    },
    {
     "name": "stdout",
     "output_type": "stream",
     "text": [
      "Validation loss: 1.5914907455444336\n",
      "Client  2\n",
      "File ../data/hdfs/hdfs_train, number of sessions 971\n",
      "File ../data/hdfs/hdfs_train, number of seqs 9485\n",
      "sampling...\n"
     ]
    },
    {
     "name": "stderr",
     "output_type": "stream",
     "text": [
      "100%|██████████| 1051/1051 [00:00<00:00, 3425.19it/s]\n"
     ]
    },
    {
     "name": "stdout",
     "output_type": "stream",
     "text": [
      "File ../data/hdfs/hdfs_test_normal, number of sessions 110673\n",
      "File ../data/hdfs/hdfs_test_normal, number of seqs 1051\n",
      "Find 9485 train logs, 1051 validation logs\n",
      "Train batch size 2048 ,Validation batch size 2048\n",
      "Starting epoch: 0 | phase: train | ⏰: 10:40:20 | Learning rate: 0.000313\n"
     ]
    },
    {
     "name": "stderr",
     "output_type": "stream",
     "text": [
      "Train loss: 1.63956: 100%|██████████| 5/5 [00:00<00:00, 27.58it/s]\n"
     ]
    },
    {
     "name": "stdout",
     "output_type": "stream",
     "text": [
      "Starting epoch: 0 | phase: valid | ⏰: 10:40:20 \n"
     ]
    },
    {
     "name": "stderr",
     "output_type": "stream",
     "text": [
      ": 100%|██████████| 1/1 [00:00<00:00, 55.39it/s]\n"
     ]
    },
    {
     "name": "stdout",
     "output_type": "stream",
     "text": [
      "Validation loss: 1.607800841331482\n",
      "Client  3\n",
      "File ../data/hdfs/hdfs_train, number of sessions 971\n",
      "File ../data/hdfs/hdfs_train, number of seqs 9267\n",
      "sampling...\n"
     ]
    },
    {
     "name": "stderr",
     "output_type": "stream",
     "text": [
      "100%|██████████| 1057/1057 [00:00<00:00, 3441.07it/s]\n"
     ]
    },
    {
     "name": "stdout",
     "output_type": "stream",
     "text": [
      "File ../data/hdfs/hdfs_test_normal, number of sessions 110673\n",
      "File ../data/hdfs/hdfs_test_normal, number of seqs 1057\n",
      "Find 9267 train logs, 1057 validation logs\n",
      "Train batch size 2048 ,Validation batch size 2048\n",
      "Starting epoch: 0 | phase: train | ⏰: 10:40:32 | Learning rate: 0.000313\n"
     ]
    },
    {
     "name": "stderr",
     "output_type": "stream",
     "text": [
      "Train loss: 1.61768: 100%|██████████| 5/5 [00:00<00:00, 28.14it/s]\n"
     ]
    },
    {
     "name": "stdout",
     "output_type": "stream",
     "text": [
      "Starting epoch: 0 | phase: valid | ⏰: 10:40:32 \n"
     ]
    },
    {
     "name": "stderr",
     "output_type": "stream",
     "text": [
      ": 100%|██████████| 1/1 [00:00<00:00, 54.77it/s]\n"
     ]
    },
    {
     "name": "stdout",
     "output_type": "stream",
     "text": [
      "Validation loss: 1.6400606632232666\n",
      "Client  4\n",
      "File ../data/hdfs/hdfs_train, number of sessions 971\n",
      "File ../data/hdfs/hdfs_train, number of seqs 9323\n",
      "sampling...\n"
     ]
    },
    {
     "name": "stderr",
     "output_type": "stream",
     "text": [
      "100%|██████████| 1044/1044 [00:00<00:00, 3629.36it/s]\n"
     ]
    },
    {
     "name": "stdout",
     "output_type": "stream",
     "text": [
      "File ../data/hdfs/hdfs_test_normal, number of sessions 110673\n",
      "File ../data/hdfs/hdfs_test_normal, number of seqs 1044\n",
      "Find 9323 train logs, 1044 validation logs\n",
      "Train batch size 2048 ,Validation batch size 2048\n",
      "Starting epoch: 0 | phase: train | ⏰: 10:40:43 | Learning rate: 0.000313\n"
     ]
    },
    {
     "name": "stderr",
     "output_type": "stream",
     "text": [
      "Train loss: 1.62628: 100%|██████████| 5/5 [00:00<00:00, 26.69it/s]\n"
     ]
    },
    {
     "name": "stdout",
     "output_type": "stream",
     "text": [
      "Starting epoch: 0 | phase: valid | ⏰: 10:40:44 \n"
     ]
    },
    {
     "name": "stderr",
     "output_type": "stream",
     "text": [
      ": 100%|██████████| 1/1 [00:00<00:00, 51.50it/s]\n"
     ]
    },
    {
     "name": "stdout",
     "output_type": "stream",
     "text": [
      "Validation loss: 1.5677717924118042\n",
      "============ Test epoch 21 ============\n",
      "Client  0\n",
      "Number of sessions(hdfs_test_normal): 5813\n",
      "Number of sessions(hdfs_test_abnormal): 1136\n"
     ]
    },
    {
     "name": "stderr",
     "output_type": "stream",
     "text": [
      "100%|██████████| 5813/5813 [05:13<00:00, 18.57it/s]\n",
      "100%|██████████| 1136/1136 [00:33<00:00, 33.69it/s]\n"
     ]
    },
    {
     "name": "stdout",
     "output_type": "stream",
     "text": [
      "false positive (FP): 490, false negative (FN): 24, Precision: 87.216%, Recall: 99.287%, F1-measure: 92.861%\n",
      "actual positive (TP+FN): 3367, actual negative (FP+TN): 110673\n",
      "accuracy: 99.549\n",
      "Finished Predicting\n",
      "elapsed_time: 346.748327255249\n",
      "Client  1\n",
      "Number of sessions(hdfs_test_normal): 5574\n",
      "Number of sessions(hdfs_test_abnormal): 1139\n"
     ]
    },
    {
     "name": "stderr",
     "output_type": "stream",
     "text": [
      "100%|██████████| 5574/5574 [05:05<00:00, 18.24it/s]\n",
      "100%|██████████| 1139/1139 [00:26<00:00, 42.35it/s]\n"
     ]
    },
    {
     "name": "stdout",
     "output_type": "stream",
     "text": [
      "false positive (FP): 528, false negative (FN): 25, Precision: 86.357%, Recall: 99.257%, F1-measure: 92.359%\n",
      "actual positive (TP+FN): 3367, actual negative (FP+TN): 110673\n",
      "accuracy: 99.515\n",
      "Finished Predicting\n",
      "elapsed_time: 332.4708023071289\n",
      "Client  2\n",
      "Number of sessions(hdfs_test_normal): 5730\n",
      "Number of sessions(hdfs_test_abnormal): 1118\n"
     ]
    },
    {
     "name": "stderr",
     "output_type": "stream",
     "text": [
      "100%|██████████| 5730/5730 [05:09<00:00, 18.54it/s]\n",
      "100%|██████████| 1118/1118 [00:34<00:00, 31.96it/s]\n"
     ]
    },
    {
     "name": "stdout",
     "output_type": "stream",
     "text": [
      "false positive (FP): 468, false negative (FN): 30, Precision: 87.700%, Recall: 99.109%, F1-measure: 93.056%\n",
      "actual positive (TP+FN): 3367, actual negative (FP+TN): 110673\n",
      "accuracy: 99.563\n",
      "Finished Predicting\n",
      "elapsed_time: 344.02838492393494\n",
      "Client  3\n",
      "Number of sessions(hdfs_test_normal): 5747\n",
      "Number of sessions(hdfs_test_abnormal): 1159\n"
     ]
    },
    {
     "name": "stderr",
     "output_type": "stream",
     "text": [
      "100%|██████████| 5747/5747 [05:28<00:00, 17.51it/s]\n",
      "100%|██████████| 1159/1159 [00:36<00:00, 31.57it/s]\n"
     ]
    },
    {
     "name": "stdout",
     "output_type": "stream",
     "text": [
      "false positive (FP): 451, false negative (FN): 28, Precision: 88.100%, Recall: 99.168%, F1-measure: 93.307%\n",
      "actual positive (TP+FN): 3367, actual negative (FP+TN): 110673\n",
      "accuracy: 99.580\n",
      "Finished Predicting\n",
      "elapsed_time: 364.92658615112305\n",
      "Client  4\n",
      "Number of sessions(hdfs_test_normal): 5623\n",
      "Number of sessions(hdfs_test_abnormal): 1121\n"
     ]
    },
    {
     "name": "stderr",
     "output_type": "stream",
     "text": [
      "100%|██████████| 5623/5623 [05:17<00:00, 17.70it/s]\n",
      "100%|██████████| 1121/1121 [00:34<00:00, 32.20it/s]\n"
     ]
    },
    {
     "name": "stdout",
     "output_type": "stream",
     "text": [
      "false positive (FP): 525, false negative (FN): 32, Precision: 86.399%, Recall: 99.050%, F1-measure: 92.293%\n",
      "actual positive (TP+FN): 3367, actual negative (FP+TN): 110673\n",
      "accuracy: 99.512\n",
      "Finished Predicting\n",
      "elapsed_time: 352.43910241127014\n",
      "============ Train epoch 22 ============\n",
      "Client  0\n",
      "File ../data/hdfs/hdfs_train, number of sessions 971\n",
      "File ../data/hdfs/hdfs_train, number of seqs 9420\n",
      "sampling...\n"
     ]
    },
    {
     "name": "stderr",
     "output_type": "stream",
     "text": [
      "100%|██████████| 1058/1058 [00:00<00:00, 3413.27it/s]\n"
     ]
    },
    {
     "name": "stdout",
     "output_type": "stream",
     "text": [
      "File ../data/hdfs/hdfs_test_normal, number of sessions 110673\n",
      "File ../data/hdfs/hdfs_test_normal, number of seqs 1058\n",
      "Find 9420 train logs, 1058 validation logs\n",
      "Train batch size 2048 ,Validation batch size 2048\n",
      "Starting epoch: 0 | phase: train | ⏰: 11:09:59 | Learning rate: 0.000313\n"
     ]
    },
    {
     "name": "stderr",
     "output_type": "stream",
     "text": [
      "Train loss: 1.58973: 100%|██████████| 5/5 [00:00<00:00, 27.47it/s]\n"
     ]
    },
    {
     "name": "stdout",
     "output_type": "stream",
     "text": [
      "Starting epoch: 0 | phase: valid | ⏰: 11:09:59 \n"
     ]
    },
    {
     "name": "stderr",
     "output_type": "stream",
     "text": [
      ": 100%|██████████| 1/1 [00:00<00:00, 55.50it/s]\n"
     ]
    },
    {
     "name": "stdout",
     "output_type": "stream",
     "text": [
      "Validation loss: 1.585245132446289\n",
      "Client  1\n",
      "File ../data/hdfs/hdfs_train, number of sessions 971\n",
      "File ../data/hdfs/hdfs_train, number of seqs 9080\n",
      "sampling...\n"
     ]
    },
    {
     "name": "stderr",
     "output_type": "stream",
     "text": [
      "100%|██████████| 1046/1046 [00:00<00:00, 3526.47it/s]\n"
     ]
    },
    {
     "name": "stdout",
     "output_type": "stream",
     "text": [
      "File ../data/hdfs/hdfs_test_normal, number of sessions 110673\n",
      "File ../data/hdfs/hdfs_test_normal, number of seqs 1046\n",
      "Find 9080 train logs, 1046 validation logs\n",
      "Train batch size 2048 ,Validation batch size 2048\n",
      "Starting epoch: 0 | phase: train | ⏰: 11:10:11 | Learning rate: 0.000313\n"
     ]
    },
    {
     "name": "stderr",
     "output_type": "stream",
     "text": [
      "Train loss: 1.60908: 100%|██████████| 5/5 [00:00<00:00, 26.79it/s]\n"
     ]
    },
    {
     "name": "stdout",
     "output_type": "stream",
     "text": [
      "Starting epoch: 0 | phase: valid | ⏰: 11:10:11 \n"
     ]
    },
    {
     "name": "stderr",
     "output_type": "stream",
     "text": [
      ": 100%|██████████| 1/1 [00:00<00:00, 53.86it/s]\n"
     ]
    },
    {
     "name": "stdout",
     "output_type": "stream",
     "text": [
      "Validation loss: 1.574242353439331\n",
      "Client  2\n",
      "File ../data/hdfs/hdfs_train, number of sessions 971\n",
      "File ../data/hdfs/hdfs_train, number of seqs 9485\n",
      "sampling...\n"
     ]
    },
    {
     "name": "stderr",
     "output_type": "stream",
     "text": [
      "100%|██████████| 1051/1051 [00:00<00:00, 3513.90it/s]\n"
     ]
    },
    {
     "name": "stdout",
     "output_type": "stream",
     "text": [
      "File ../data/hdfs/hdfs_test_normal, number of sessions 110673\n",
      "File ../data/hdfs/hdfs_test_normal, number of seqs 1051\n",
      "Find 9485 train logs, 1051 validation logs\n",
      "Train batch size 2048 ,Validation batch size 2048\n",
      "Starting epoch: 0 | phase: train | ⏰: 11:10:22 | Learning rate: 0.000313\n"
     ]
    },
    {
     "name": "stderr",
     "output_type": "stream",
     "text": [
      "Train loss: 1.61030: 100%|██████████| 5/5 [00:00<00:00, 25.90it/s]\n"
     ]
    },
    {
     "name": "stdout",
     "output_type": "stream",
     "text": [
      "Starting epoch: 0 | phase: valid | ⏰: 11:10:23 \n"
     ]
    },
    {
     "name": "stderr",
     "output_type": "stream",
     "text": [
      ": 100%|██████████| 1/1 [00:00<00:00, 52.46it/s]\n"
     ]
    },
    {
     "name": "stdout",
     "output_type": "stream",
     "text": [
      "Validation loss: 1.5682520866394043\n",
      "Client  3\n",
      "File ../data/hdfs/hdfs_train, number of sessions 971\n",
      "File ../data/hdfs/hdfs_train, number of seqs 9267\n",
      "sampling...\n"
     ]
    },
    {
     "name": "stderr",
     "output_type": "stream",
     "text": [
      "100%|██████████| 1057/1057 [00:00<00:00, 3451.42it/s]\n"
     ]
    },
    {
     "name": "stdout",
     "output_type": "stream",
     "text": [
      "File ../data/hdfs/hdfs_test_normal, number of sessions 110673\n",
      "File ../data/hdfs/hdfs_test_normal, number of seqs 1057\n",
      "Find 9267 train logs, 1057 validation logs\n",
      "Train batch size 2048 ,Validation batch size 2048\n",
      "Starting epoch: 0 | phase: train | ⏰: 11:10:34 | Learning rate: 0.000313\n"
     ]
    },
    {
     "name": "stderr",
     "output_type": "stream",
     "text": [
      "Train loss: 1.59526: 100%|██████████| 5/5 [00:00<00:00, 26.26it/s]\n"
     ]
    },
    {
     "name": "stdout",
     "output_type": "stream",
     "text": [
      "Starting epoch: 0 | phase: valid | ⏰: 11:10:35 \n"
     ]
    },
    {
     "name": "stderr",
     "output_type": "stream",
     "text": [
      ": 100%|██████████| 1/1 [00:00<00:00, 56.81it/s]\n"
     ]
    },
    {
     "name": "stdout",
     "output_type": "stream",
     "text": [
      "Validation loss: 1.5378698110580444\n",
      "Client  4\n",
      "File ../data/hdfs/hdfs_train, number of sessions 971\n",
      "File ../data/hdfs/hdfs_train, number of seqs 9323\n",
      "sampling...\n"
     ]
    },
    {
     "name": "stderr",
     "output_type": "stream",
     "text": [
      "100%|██████████| 1044/1044 [00:00<00:00, 3489.25it/s]\n"
     ]
    },
    {
     "name": "stdout",
     "output_type": "stream",
     "text": [
      "File ../data/hdfs/hdfs_test_normal, number of sessions 110673\n",
      "File ../data/hdfs/hdfs_test_normal, number of seqs 1044\n",
      "Find 9323 train logs, 1044 validation logs\n",
      "Train batch size 2048 ,Validation batch size 2048\n",
      "Starting epoch: 0 | phase: train | ⏰: 11:10:46 | Learning rate: 0.000313\n"
     ]
    },
    {
     "name": "stderr",
     "output_type": "stream",
     "text": [
      "Train loss: 1.60019: 100%|██████████| 5/5 [00:00<00:00, 26.96it/s]\n"
     ]
    },
    {
     "name": "stdout",
     "output_type": "stream",
     "text": [
      "Starting epoch: 0 | phase: valid | ⏰: 11:10:46 \n"
     ]
    },
    {
     "name": "stderr",
     "output_type": "stream",
     "text": [
      ": 100%|██████████| 1/1 [00:00<00:00, 52.37it/s]\n"
     ]
    },
    {
     "name": "stdout",
     "output_type": "stream",
     "text": [
      "Validation loss: 1.535404920578003\n",
      "============ Test epoch 22 ============\n",
      "Client  0\n",
      "Number of sessions(hdfs_test_normal): 5813\n",
      "Number of sessions(hdfs_test_abnormal): 1136\n"
     ]
    },
    {
     "name": "stderr",
     "output_type": "stream",
     "text": [
      "100%|██████████| 5813/5813 [05:14<00:00, 18.51it/s]\n",
      "100%|██████████| 1136/1136 [00:33<00:00, 33.62it/s]\n"
     ]
    },
    {
     "name": "stdout",
     "output_type": "stream",
     "text": [
      "false positive (FP): 490, false negative (FN): 24, Precision: 87.216%, Recall: 99.287%, F1-measure: 92.861%\n",
      "actual positive (TP+FN): 3367, actual negative (FP+TN): 110673\n",
      "accuracy: 99.549\n",
      "Finished Predicting\n",
      "elapsed_time: 347.819819688797\n",
      "Client  1\n",
      "Number of sessions(hdfs_test_normal): 5574\n",
      "Number of sessions(hdfs_test_abnormal): 1139\n"
     ]
    },
    {
     "name": "stderr",
     "output_type": "stream",
     "text": [
      "100%|██████████| 5574/5574 [05:15<00:00, 17.67it/s]\n",
      "100%|██████████| 1139/1139 [00:35<00:00, 32.03it/s]\n"
     ]
    },
    {
     "name": "stdout",
     "output_type": "stream",
     "text": [
      "false positive (FP): 528, false negative (FN): 25, Precision: 86.357%, Recall: 99.257%, F1-measure: 92.359%\n",
      "actual positive (TP+FN): 3367, actual negative (FP+TN): 110673\n",
      "accuracy: 99.515\n",
      "Finished Predicting\n",
      "elapsed_time: 350.9880187511444\n",
      "Client  2\n",
      "Number of sessions(hdfs_test_normal): 5730\n",
      "Number of sessions(hdfs_test_abnormal): 1118\n"
     ]
    },
    {
     "name": "stderr",
     "output_type": "stream",
     "text": [
      "100%|██████████| 5730/5730 [05:11<00:00, 18.41it/s]\n",
      "100%|██████████| 1118/1118 [00:34<00:00, 31.95it/s]\n"
     ]
    },
    {
     "name": "stdout",
     "output_type": "stream",
     "text": [
      "false positive (FP): 468, false negative (FN): 30, Precision: 87.700%, Recall: 99.109%, F1-measure: 93.056%\n",
      "actual positive (TP+FN): 3367, actual negative (FP+TN): 110673\n",
      "accuracy: 99.563\n",
      "Finished Predicting\n",
      "elapsed_time: 346.26816964149475\n",
      "Client  3\n",
      "Number of sessions(hdfs_test_normal): 5747\n",
      "Number of sessions(hdfs_test_abnormal): 1159\n"
     ]
    },
    {
     "name": "stderr",
     "output_type": "stream",
     "text": [
      "100%|██████████| 5747/5747 [05:28<00:00, 17.47it/s]\n",
      "100%|██████████| 1159/1159 [00:36<00:00, 31.43it/s]\n"
     ]
    },
    {
     "name": "stdout",
     "output_type": "stream",
     "text": [
      "false positive (FP): 451, false negative (FN): 28, Precision: 88.100%, Recall: 99.168%, F1-measure: 93.307%\n",
      "actual positive (TP+FN): 3367, actual negative (FP+TN): 110673\n",
      "accuracy: 99.580\n",
      "Finished Predicting\n",
      "elapsed_time: 365.782657623291\n",
      "Client  4\n",
      "Number of sessions(hdfs_test_normal): 5623\n",
      "Number of sessions(hdfs_test_abnormal): 1121\n"
     ]
    },
    {
     "name": "stderr",
     "output_type": "stream",
     "text": [
      "100%|██████████| 5623/5623 [04:39<00:00, 20.12it/s]\n",
      "100%|██████████| 1121/1121 [00:25<00:00, 43.32it/s]\n"
     ]
    },
    {
     "name": "stdout",
     "output_type": "stream",
     "text": [
      "false positive (FP): 525, false negative (FN): 32, Precision: 86.399%, Recall: 99.050%, F1-measure: 92.293%\n",
      "actual positive (TP+FN): 3367, actual negative (FP+TN): 110673\n",
      "accuracy: 99.512\n",
      "Finished Predicting\n",
      "elapsed_time: 305.29040789604187\n",
      "============ Train epoch 23 ============\n",
      "Client  0\n",
      "File ../data/hdfs/hdfs_train, number of sessions 971\n",
      "File ../data/hdfs/hdfs_train, number of seqs 9420\n",
      "sampling...\n"
     ]
    },
    {
     "name": "stderr",
     "output_type": "stream",
     "text": [
      "100%|██████████| 1058/1058 [00:00<00:00, 3613.72it/s]\n"
     ]
    },
    {
     "name": "stdout",
     "output_type": "stream",
     "text": [
      "File ../data/hdfs/hdfs_test_normal, number of sessions 110673\n",
      "File ../data/hdfs/hdfs_test_normal, number of seqs 1058\n",
      "Find 9420 train logs, 1058 validation logs\n",
      "Train batch size 2048 ,Validation batch size 2048\n",
      "Starting epoch: 0 | phase: train | ⏰: 11:39:37 | Learning rate: 0.000313\n"
     ]
    },
    {
     "name": "stderr",
     "output_type": "stream",
     "text": [
      "Train loss: 1.56379: 100%|██████████| 5/5 [00:00<00:00, 29.21it/s]\n"
     ]
    },
    {
     "name": "stdout",
     "output_type": "stream",
     "text": [
      "Starting epoch: 0 | phase: valid | ⏰: 11:39:37 \n"
     ]
    },
    {
     "name": "stderr",
     "output_type": "stream",
     "text": [
      ": 100%|██████████| 1/1 [00:00<00:00, 55.51it/s]\n"
     ]
    },
    {
     "name": "stdout",
     "output_type": "stream",
     "text": [
      "Validation loss: 1.5620460510253906\n",
      "Client  1\n",
      "File ../data/hdfs/hdfs_train, number of sessions 971\n",
      "File ../data/hdfs/hdfs_train, number of seqs 9080\n",
      "sampling...\n"
     ]
    },
    {
     "name": "stderr",
     "output_type": "stream",
     "text": [
      "100%|██████████| 1046/1046 [00:00<00:00, 3607.94it/s]\n"
     ]
    },
    {
     "name": "stdout",
     "output_type": "stream",
     "text": [
      "File ../data/hdfs/hdfs_test_normal, number of sessions 110673\n",
      "File ../data/hdfs/hdfs_test_normal, number of seqs 1046\n",
      "Find 9080 train logs, 1046 validation logs\n",
      "Train batch size 2048 ,Validation batch size 2048\n",
      "Starting epoch: 0 | phase: train | ⏰: 11:39:49 | Learning rate: 0.000313\n"
     ]
    },
    {
     "name": "stderr",
     "output_type": "stream",
     "text": [
      "Train loss: 1.58041: 100%|██████████| 5/5 [00:00<00:00, 29.50it/s]\n"
     ]
    },
    {
     "name": "stdout",
     "output_type": "stream",
     "text": [
      "Starting epoch: 0 | phase: valid | ⏰: 11:39:49 \n"
     ]
    },
    {
     "name": "stderr",
     "output_type": "stream",
     "text": [
      ": 100%|██████████| 1/1 [00:00<00:00, 55.52it/s]\n"
     ]
    },
    {
     "name": "stdout",
     "output_type": "stream",
     "text": [
      "Validation loss: 1.5558418035507202\n",
      "Client  2\n",
      "File ../data/hdfs/hdfs_train, number of sessions 971\n",
      "File ../data/hdfs/hdfs_train, number of seqs 9485\n",
      "sampling...\n"
     ]
    },
    {
     "name": "stderr",
     "output_type": "stream",
     "text": [
      "100%|██████████| 1051/1051 [00:00<00:00, 3450.30it/s]\n"
     ]
    },
    {
     "name": "stdout",
     "output_type": "stream",
     "text": [
      "File ../data/hdfs/hdfs_test_normal, number of sessions 110673\n",
      "File ../data/hdfs/hdfs_test_normal, number of seqs 1051\n",
      "Find 9485 train logs, 1051 validation logs\n",
      "Train batch size 2048 ,Validation batch size 2048\n",
      "Starting epoch: 0 | phase: train | ⏰: 11:40:00 | Learning rate: 0.000313\n"
     ]
    },
    {
     "name": "stderr",
     "output_type": "stream",
     "text": [
      "Train loss: 1.58096: 100%|██████████| 5/5 [00:00<00:00, 28.14it/s]\n"
     ]
    },
    {
     "name": "stdout",
     "output_type": "stream",
     "text": [
      "Starting epoch: 0 | phase: valid | ⏰: 11:40:01 \n"
     ]
    },
    {
     "name": "stderr",
     "output_type": "stream",
     "text": [
      ": 100%|██████████| 1/1 [00:00<00:00, 55.60it/s]\n"
     ]
    },
    {
     "name": "stdout",
     "output_type": "stream",
     "text": [
      "Validation loss: 1.5614229440689087\n",
      "Client  3\n",
      "File ../data/hdfs/hdfs_train, number of sessions 971\n",
      "File ../data/hdfs/hdfs_train, number of seqs 9267\n",
      "sampling...\n"
     ]
    },
    {
     "name": "stderr",
     "output_type": "stream",
     "text": [
      "100%|██████████| 1057/1057 [00:00<00:00, 3616.70it/s]\n"
     ]
    },
    {
     "name": "stdout",
     "output_type": "stream",
     "text": [
      "File ../data/hdfs/hdfs_test_normal, number of sessions 110673\n",
      "File ../data/hdfs/hdfs_test_normal, number of seqs 1057\n",
      "Find 9267 train logs, 1057 validation logs\n",
      "Train batch size 2048 ,Validation batch size 2048\n",
      "Starting epoch: 0 | phase: train | ⏰: 11:40:12 | Learning rate: 0.000313\n"
     ]
    },
    {
     "name": "stderr",
     "output_type": "stream",
     "text": [
      "Train loss: 1.56627: 100%|██████████| 5/5 [00:00<00:00, 30.85it/s]\n"
     ]
    },
    {
     "name": "stdout",
     "output_type": "stream",
     "text": [
      "Starting epoch: 0 | phase: valid | ⏰: 11:40:12 \n"
     ]
    },
    {
     "name": "stderr",
     "output_type": "stream",
     "text": [
      ": 100%|██████████| 1/1 [00:00<00:00, 59.66it/s]\n"
     ]
    },
    {
     "name": "stdout",
     "output_type": "stream",
     "text": [
      "Validation loss: 1.5397638082504272\n",
      "Client  4\n",
      "File ../data/hdfs/hdfs_train, number of sessions 971\n",
      "File ../data/hdfs/hdfs_train, number of seqs 9323\n",
      "sampling...\n"
     ]
    },
    {
     "name": "stderr",
     "output_type": "stream",
     "text": [
      "100%|██████████| 1044/1044 [00:00<00:00, 3536.83it/s]\n"
     ]
    },
    {
     "name": "stdout",
     "output_type": "stream",
     "text": [
      "File ../data/hdfs/hdfs_test_normal, number of sessions 110673\n",
      "File ../data/hdfs/hdfs_test_normal, number of seqs 1044\n",
      "Find 9323 train logs, 1044 validation logs\n",
      "Train batch size 2048 ,Validation batch size 2048\n",
      "Starting epoch: 0 | phase: train | ⏰: 11:40:24 | Learning rate: 0.000313\n"
     ]
    },
    {
     "name": "stderr",
     "output_type": "stream",
     "text": [
      "Train loss: 1.57116: 100%|██████████| 5/5 [00:00<00:00, 26.91it/s]\n"
     ]
    },
    {
     "name": "stdout",
     "output_type": "stream",
     "text": [
      "Starting epoch: 0 | phase: valid | ⏰: 11:40:24 \n"
     ]
    },
    {
     "name": "stderr",
     "output_type": "stream",
     "text": [
      ": 100%|██████████| 1/1 [00:00<00:00, 56.38it/s]\n"
     ]
    },
    {
     "name": "stdout",
     "output_type": "stream",
     "text": [
      "Validation loss: 1.514815092086792\n",
      "============ Test epoch 23 ============\n",
      "Client  0\n",
      "Number of sessions(hdfs_test_normal): 5813\n",
      "Number of sessions(hdfs_test_abnormal): 1136\n"
     ]
    },
    {
     "name": "stderr",
     "output_type": "stream",
     "text": [
      "100%|██████████| 5813/5813 [03:49<00:00, 25.33it/s]\n",
      "100%|██████████| 1136/1136 [00:25<00:00, 44.68it/s]\n"
     ]
    },
    {
     "name": "stdout",
     "output_type": "stream",
     "text": [
      "false positive (FP): 480, false negative (FN): 24, Precision: 87.444%, Recall: 99.287%, F1-measure: 92.990%\n",
      "actual positive (TP+FN): 3367, actual negative (FP+TN): 110673\n",
      "accuracy: 99.558\n",
      "Finished Predicting\n",
      "elapsed_time: 254.90503668785095\n",
      "Client  1\n",
      "Number of sessions(hdfs_test_normal): 5574\n",
      "Number of sessions(hdfs_test_abnormal): 1139\n"
     ]
    },
    {
     "name": "stderr",
     "output_type": "stream",
     "text": [
      "100%|██████████| 5574/5574 [03:55<00:00, 23.69it/s]\n",
      "100%|██████████| 1139/1139 [00:26<00:00, 42.79it/s]\n"
     ]
    },
    {
     "name": "stdout",
     "output_type": "stream",
     "text": [
      "false positive (FP): 513, false negative (FN): 25, Precision: 86.693%, Recall: 99.257%, F1-measure: 92.551%\n",
      "actual positive (TP+FN): 3367, actual negative (FP+TN): 110673\n",
      "accuracy: 99.528\n",
      "Finished Predicting\n",
      "elapsed_time: 261.8755464553833\n",
      "Client  2\n",
      "Number of sessions(hdfs_test_normal): 5730\n",
      "Number of sessions(hdfs_test_abnormal): 1118\n"
     ]
    },
    {
     "name": "stderr",
     "output_type": "stream",
     "text": [
      "100%|██████████| 5730/5730 [03:36<00:00, 26.47it/s]\n",
      "100%|██████████| 1118/1118 [00:26<00:00, 42.19it/s]\n"
     ]
    },
    {
     "name": "stdout",
     "output_type": "stream",
     "text": [
      "false positive (FP): 459, false negative (FN): 31, Precision: 87.905%, Recall: 99.079%, F1-measure: 93.158%\n",
      "actual positive (TP+FN): 3367, actual negative (FP+TN): 110673\n",
      "accuracy: 99.570\n",
      "Finished Predicting\n",
      "elapsed_time: 242.99549770355225\n",
      "Client  3\n",
      "Number of sessions(hdfs_test_normal): 5747\n",
      "Number of sessions(hdfs_test_abnormal): 1159\n"
     ]
    },
    {
     "name": "stderr",
     "output_type": "stream",
     "text": [
      "100%|██████████| 5747/5747 [04:05<00:00, 23.39it/s]\n",
      "100%|██████████| 1159/1159 [00:27<00:00, 41.83it/s]\n"
     ]
    },
    {
     "name": "stdout",
     "output_type": "stream",
     "text": [
      "false positive (FP): 439, false negative (FN): 29, Precision: 88.377%, Recall: 99.139%, F1-measure: 93.449%\n",
      "actual positive (TP+FN): 3367, actual negative (FP+TN): 110673\n",
      "accuracy: 99.590\n",
      "Finished Predicting\n",
      "elapsed_time: 273.4092562198639\n",
      "Client  4\n",
      "Number of sessions(hdfs_test_normal): 5623\n",
      "Number of sessions(hdfs_test_abnormal): 1121\n"
     ]
    },
    {
     "name": "stderr",
     "output_type": "stream",
     "text": [
      "100%|██████████| 5623/5623 [03:58<00:00, 23.59it/s]\n",
      "100%|██████████| 1121/1121 [00:26<00:00, 42.87it/s]\n"
     ]
    },
    {
     "name": "stdout",
     "output_type": "stream",
     "text": [
      "false positive (FP): 517, false negative (FN): 32, Precision: 86.578%, Recall: 99.050%, F1-measure: 92.395%\n",
      "actual positive (TP+FN): 3367, actual negative (FP+TN): 110673\n",
      "accuracy: 99.519\n",
      "Finished Predicting\n",
      "elapsed_time: 264.5044090747833\n",
      "============ Train epoch 24 ============\n",
      "Client  0\n",
      "File ../data/hdfs/hdfs_train, number of sessions 971\n",
      "File ../data/hdfs/hdfs_train, number of seqs 9420\n",
      "sampling...\n"
     ]
    },
    {
     "name": "stderr",
     "output_type": "stream",
     "text": [
      "100%|██████████| 1058/1058 [00:00<00:00, 3443.92it/s]\n"
     ]
    },
    {
     "name": "stdout",
     "output_type": "stream",
     "text": [
      "File ../data/hdfs/hdfs_test_normal, number of sessions 110673\n",
      "File ../data/hdfs/hdfs_test_normal, number of seqs 1058\n",
      "Find 9420 train logs, 1058 validation logs\n",
      "Train batch size 2048 ,Validation batch size 2048\n",
      "Starting epoch: 0 | phase: train | ⏰: 12:02:17 | Learning rate: 0.000313\n"
     ]
    },
    {
     "name": "stderr",
     "output_type": "stream",
     "text": [
      "Train loss: 1.53152: 100%|██████████| 5/5 [00:00<00:00, 27.30it/s]\n"
     ]
    },
    {
     "name": "stdout",
     "output_type": "stream",
     "text": [
      "Starting epoch: 0 | phase: valid | ⏰: 12:02:17 \n"
     ]
    },
    {
     "name": "stderr",
     "output_type": "stream",
     "text": [
      ": 100%|██████████| 1/1 [00:00<00:00, 57.33it/s]\n"
     ]
    },
    {
     "name": "stdout",
     "output_type": "stream",
     "text": [
      "Validation loss: 1.469132423400879\n",
      "Client  1\n",
      "File ../data/hdfs/hdfs_train, number of sessions 971\n",
      "File ../data/hdfs/hdfs_train, number of seqs 9080\n",
      "sampling...\n"
     ]
    },
    {
     "name": "stderr",
     "output_type": "stream",
     "text": [
      "100%|██████████| 1046/1046 [00:00<00:00, 3602.77it/s]\n"
     ]
    },
    {
     "name": "stdout",
     "output_type": "stream",
     "text": [
      "File ../data/hdfs/hdfs_test_normal, number of sessions 110673\n",
      "File ../data/hdfs/hdfs_test_normal, number of seqs 1046\n",
      "Find 9080 train logs, 1046 validation logs\n",
      "Train batch size 2048 ,Validation batch size 2048\n",
      "Starting epoch: 0 | phase: train | ⏰: 12:02:28 | Learning rate: 0.000313\n"
     ]
    },
    {
     "name": "stderr",
     "output_type": "stream",
     "text": [
      "Train loss: 1.55490: 100%|██████████| 5/5 [00:00<00:00, 29.64it/s]\n"
     ]
    },
    {
     "name": "stdout",
     "output_type": "stream",
     "text": [
      "Starting epoch: 0 | phase: valid | ⏰: 12:02:28 \n"
     ]
    },
    {
     "name": "stderr",
     "output_type": "stream",
     "text": [
      ": 100%|██████████| 1/1 [00:00<00:00, 59.28it/s]\n"
     ]
    },
    {
     "name": "stdout",
     "output_type": "stream",
     "text": [
      "Validation loss: 1.4758051633834839\n",
      "Client  2\n",
      "File ../data/hdfs/hdfs_train, number of sessions 971\n",
      "File ../data/hdfs/hdfs_train, number of seqs 9485\n",
      "sampling...\n"
     ]
    },
    {
     "name": "stderr",
     "output_type": "stream",
     "text": [
      "100%|██████████| 1051/1051 [00:00<00:00, 3571.65it/s]\n"
     ]
    },
    {
     "name": "stdout",
     "output_type": "stream",
     "text": [
      "File ../data/hdfs/hdfs_test_normal, number of sessions 110673\n",
      "File ../data/hdfs/hdfs_test_normal, number of seqs 1051\n",
      "Find 9485 train logs, 1051 validation logs\n",
      "Train batch size 2048 ,Validation batch size 2048\n",
      "Starting epoch: 0 | phase: train | ⏰: 12:02:40 | Learning rate: 0.000313\n"
     ]
    },
    {
     "name": "stderr",
     "output_type": "stream",
     "text": [
      "Train loss: 1.55284: 100%|██████████| 5/5 [00:00<00:00, 28.04it/s]\n"
     ]
    },
    {
     "name": "stdout",
     "output_type": "stream",
     "text": [
      "Starting epoch: 0 | phase: valid | ⏰: 12:02:40 \n"
     ]
    },
    {
     "name": "stderr",
     "output_type": "stream",
     "text": [
      ": 100%|██████████| 1/1 [00:00<00:00, 58.09it/s]\n"
     ]
    },
    {
     "name": "stdout",
     "output_type": "stream",
     "text": [
      "Validation loss: 1.511966347694397\n",
      "Client  3\n",
      "File ../data/hdfs/hdfs_train, number of sessions 971\n",
      "File ../data/hdfs/hdfs_train, number of seqs 9267\n",
      "sampling...\n"
     ]
    },
    {
     "name": "stderr",
     "output_type": "stream",
     "text": [
      "100%|██████████| 1057/1057 [00:00<00:00, 3622.42it/s]\n"
     ]
    },
    {
     "name": "stdout",
     "output_type": "stream",
     "text": [
      "File ../data/hdfs/hdfs_test_normal, number of sessions 110673\n",
      "File ../data/hdfs/hdfs_test_normal, number of seqs 1057\n",
      "Find 9267 train logs, 1057 validation logs\n",
      "Train batch size 2048 ,Validation batch size 2048\n",
      "Starting epoch: 0 | phase: train | ⏰: 12:02:52 | Learning rate: 0.000313\n"
     ]
    },
    {
     "name": "stderr",
     "output_type": "stream",
     "text": [
      "Train loss: 1.53102: 100%|██████████| 5/5 [00:00<00:00, 27.50it/s]\n"
     ]
    },
    {
     "name": "stdout",
     "output_type": "stream",
     "text": [
      "Starting epoch: 0 | phase: valid | ⏰: 12:02:52 \n"
     ]
    },
    {
     "name": "stderr",
     "output_type": "stream",
     "text": [
      ": 100%|██████████| 1/1 [00:00<00:00, 57.43it/s]\n"
     ]
    },
    {
     "name": "stdout",
     "output_type": "stream",
     "text": [
      "Validation loss: 1.5116698741912842\n",
      "Client  4\n",
      "File ../data/hdfs/hdfs_train, number of sessions 971\n",
      "File ../data/hdfs/hdfs_train, number of seqs 9323\n",
      "sampling...\n"
     ]
    },
    {
     "name": "stderr",
     "output_type": "stream",
     "text": [
      "100%|██████████| 1044/1044 [00:00<00:00, 3539.80it/s]\n"
     ]
    },
    {
     "name": "stdout",
     "output_type": "stream",
     "text": [
      "File ../data/hdfs/hdfs_test_normal, number of sessions 110673\n",
      "File ../data/hdfs/hdfs_test_normal, number of seqs 1044\n",
      "Find 9323 train logs, 1044 validation logs\n",
      "Train batch size 2048 ,Validation batch size 2048\n",
      "Starting epoch: 0 | phase: train | ⏰: 12:03:03 | Learning rate: 0.000313\n"
     ]
    },
    {
     "name": "stderr",
     "output_type": "stream",
     "text": [
      "Train loss: 1.54480: 100%|██████████| 5/5 [00:00<00:00, 28.51it/s]\n"
     ]
    },
    {
     "name": "stdout",
     "output_type": "stream",
     "text": [
      "Starting epoch: 0 | phase: valid | ⏰: 12:03:04 \n"
     ]
    },
    {
     "name": "stderr",
     "output_type": "stream",
     "text": [
      ": 100%|██████████| 1/1 [00:00<00:00, 57.63it/s]\n"
     ]
    },
    {
     "name": "stdout",
     "output_type": "stream",
     "text": [
      "Validation loss: 1.5192018747329712\n",
      "============ Test epoch 24 ============\n",
      "Client  0\n",
      "Number of sessions(hdfs_test_normal): 5813\n",
      "Number of sessions(hdfs_test_abnormal): 1136\n"
     ]
    },
    {
     "name": "stderr",
     "output_type": "stream",
     "text": [
      "100%|██████████| 5813/5813 [03:48<00:00, 25.39it/s]\n",
      "100%|██████████| 1136/1136 [00:25<00:00, 44.74it/s]\n"
     ]
    },
    {
     "name": "stdout",
     "output_type": "stream",
     "text": [
      "false positive (FP): 480, false negative (FN): 24, Precision: 87.444%, Recall: 99.287%, F1-measure: 92.990%\n",
      "actual positive (TP+FN): 3367, actual negative (FP+TN): 110673\n",
      "accuracy: 99.558\n",
      "Finished Predicting\n",
      "elapsed_time: 254.375422000885\n",
      "Client  1\n",
      "Number of sessions(hdfs_test_normal): 5574\n",
      "Number of sessions(hdfs_test_abnormal): 1139\n"
     ]
    },
    {
     "name": "stderr",
     "output_type": "stream",
     "text": [
      "100%|██████████| 5574/5574 [03:55<00:00, 23.71it/s]\n",
      "100%|██████████| 1139/1139 [00:26<00:00, 43.08it/s]\n"
     ]
    },
    {
     "name": "stdout",
     "output_type": "stream",
     "text": [
      "false positive (FP): 513, false negative (FN): 26, Precision: 86.689%, Recall: 99.228%, F1-measure: 92.536%\n",
      "actual positive (TP+FN): 3367, actual negative (FP+TN): 110673\n",
      "accuracy: 99.527\n",
      "Finished Predicting\n",
      "elapsed_time: 261.56336402893066\n",
      "Client  2\n",
      "Number of sessions(hdfs_test_normal): 5730\n",
      "Number of sessions(hdfs_test_abnormal): 1118\n"
     ]
    },
    {
     "name": "stderr",
     "output_type": "stream",
     "text": [
      "100%|██████████| 5730/5730 [03:39<00:00, 26.11it/s]\n",
      "100%|██████████| 1118/1118 [00:26<00:00, 42.48it/s]\n"
     ]
    },
    {
     "name": "stdout",
     "output_type": "stream",
     "text": [
      "false positive (FP): 459, false negative (FN): 31, Precision: 87.905%, Recall: 99.079%, F1-measure: 93.158%\n",
      "actual positive (TP+FN): 3367, actual negative (FP+TN): 110673\n",
      "accuracy: 99.570\n",
      "Finished Predicting\n",
      "elapsed_time: 245.76877284049988\n",
      "Client  3\n",
      "Number of sessions(hdfs_test_normal): 5747\n",
      "Number of sessions(hdfs_test_abnormal): 1159\n"
     ]
    },
    {
     "name": "stderr",
     "output_type": "stream",
     "text": [
      "100%|██████████| 5747/5747 [04:04<00:00, 23.55it/s]\n",
      "100%|██████████| 1159/1159 [00:27<00:00, 42.38it/s]\n"
     ]
    },
    {
     "name": "stdout",
     "output_type": "stream",
     "text": [
      "false positive (FP): 439, false negative (FN): 29, Precision: 88.377%, Recall: 99.139%, F1-measure: 93.449%\n",
      "actual positive (TP+FN): 3367, actual negative (FP+TN): 110673\n",
      "accuracy: 99.590\n",
      "Finished Predicting\n",
      "elapsed_time: 271.4235055446625\n",
      "Client  4\n",
      "Number of sessions(hdfs_test_normal): 5623\n",
      "Number of sessions(hdfs_test_abnormal): 1121\n"
     ]
    },
    {
     "name": "stderr",
     "output_type": "stream",
     "text": [
      "100%|██████████| 5623/5623 [03:57<00:00, 23.70it/s]\n",
      "100%|██████████| 1121/1121 [00:26<00:00, 43.08it/s]\n"
     ]
    },
    {
     "name": "stdout",
     "output_type": "stream",
     "text": [
      "false positive (FP): 517, false negative (FN): 32, Precision: 86.578%, Recall: 99.050%, F1-measure: 92.395%\n",
      "actual positive (TP+FN): 3367, actual negative (FP+TN): 110673\n",
      "accuracy: 99.519\n",
      "Finished Predicting\n",
      "elapsed_time: 263.2650706768036\n",
      "============ Train epoch 25 ============\n",
      "Client  0\n",
      "File ../data/hdfs/hdfs_train, number of sessions 971\n",
      "File ../data/hdfs/hdfs_train, number of seqs 9420\n",
      "sampling...\n"
     ]
    },
    {
     "name": "stderr",
     "output_type": "stream",
     "text": [
      "100%|██████████| 1058/1058 [00:00<00:00, 3424.07it/s]\n"
     ]
    },
    {
     "name": "stdout",
     "output_type": "stream",
     "text": [
      "File ../data/hdfs/hdfs_test_normal, number of sessions 110673\n",
      "File ../data/hdfs/hdfs_test_normal, number of seqs 1058\n",
      "Find 9420 train logs, 1058 validation logs\n",
      "Train batch size 2048 ,Validation batch size 2048\n",
      "Starting epoch: 0 | phase: train | ⏰: 12:24:55 | Learning rate: 0.000313\n"
     ]
    },
    {
     "name": "stderr",
     "output_type": "stream",
     "text": [
      "Train loss: 1.50242: 100%|██████████| 5/5 [00:00<00:00, 28.79it/s]\n"
     ]
    },
    {
     "name": "stdout",
     "output_type": "stream",
     "text": [
      "Starting epoch: 0 | phase: valid | ⏰: 12:24:55 \n"
     ]
    },
    {
     "name": "stderr",
     "output_type": "stream",
     "text": [
      ": 100%|██████████| 1/1 [00:00<00:00, 56.98it/s]\n"
     ]
    },
    {
     "name": "stdout",
     "output_type": "stream",
     "text": [
      "Validation loss: 1.4630612134933472\n",
      "Client  1\n",
      "File ../data/hdfs/hdfs_train, number of sessions 971\n",
      "File ../data/hdfs/hdfs_train, number of seqs 9080\n",
      "sampling...\n"
     ]
    },
    {
     "name": "stderr",
     "output_type": "stream",
     "text": [
      "100%|██████████| 1046/1046 [00:00<00:00, 3436.98it/s]\n"
     ]
    },
    {
     "name": "stdout",
     "output_type": "stream",
     "text": [
      "File ../data/hdfs/hdfs_test_normal, number of sessions 110673\n",
      "File ../data/hdfs/hdfs_test_normal, number of seqs 1046\n",
      "Find 9080 train logs, 1046 validation logs\n",
      "Train batch size 2048 ,Validation batch size 2048\n",
      "Starting epoch: 0 | phase: train | ⏰: 12:25:07 | Learning rate: 0.000313\n"
     ]
    },
    {
     "name": "stderr",
     "output_type": "stream",
     "text": [
      "Train loss: 1.51819: 100%|██████████| 5/5 [00:00<00:00, 30.21it/s]\n"
     ]
    },
    {
     "name": "stdout",
     "output_type": "stream",
     "text": [
      "Starting epoch: 0 | phase: valid | ⏰: 12:25:07 \n"
     ]
    },
    {
     "name": "stderr",
     "output_type": "stream",
     "text": [
      ": 100%|██████████| 1/1 [00:00<00:00, 57.87it/s]"
     ]
    },
    {
     "name": "stdout",
     "output_type": "stream",
     "text": [
      "Validation loss: 1.4971411228179932\n",
      "Client  2\n"
     ]
    },
    {
     "name": "stderr",
     "output_type": "stream",
     "text": [
      "\n"
     ]
    },
    {
     "name": "stdout",
     "output_type": "stream",
     "text": [
      "File ../data/hdfs/hdfs_train, number of sessions 971\n",
      "File ../data/hdfs/hdfs_train, number of seqs 9485\n",
      "sampling...\n"
     ]
    },
    {
     "name": "stderr",
     "output_type": "stream",
     "text": [
      "100%|██████████| 1051/1051 [00:00<00:00, 3465.39it/s]\n"
     ]
    },
    {
     "name": "stdout",
     "output_type": "stream",
     "text": [
      "File ../data/hdfs/hdfs_test_normal, number of sessions 110673\n",
      "File ../data/hdfs/hdfs_test_normal, number of seqs 1051\n",
      "Find 9485 train logs, 1051 validation logs\n",
      "Train batch size 2048 ,Validation batch size 2048\n",
      "Starting epoch: 0 | phase: train | ⏰: 12:25:19 | Learning rate: 0.000313\n"
     ]
    },
    {
     "name": "stderr",
     "output_type": "stream",
     "text": [
      "Train loss: 1.51787: 100%|██████████| 5/5 [00:00<00:00, 28.28it/s]\n"
     ]
    },
    {
     "name": "stdout",
     "output_type": "stream",
     "text": [
      "Starting epoch: 0 | phase: valid | ⏰: 12:25:19 \n"
     ]
    },
    {
     "name": "stderr",
     "output_type": "stream",
     "text": [
      ": 100%|██████████| 1/1 [00:00<00:00, 58.45it/s]\n"
     ]
    },
    {
     "name": "stdout",
     "output_type": "stream",
     "text": [
      "Validation loss: 1.4357764720916748\n",
      "Client  3\n",
      "File ../data/hdfs/hdfs_train, number of sessions 971\n",
      "File ../data/hdfs/hdfs_train, number of seqs 9267\n",
      "sampling...\n"
     ]
    },
    {
     "name": "stderr",
     "output_type": "stream",
     "text": [
      "100%|██████████| 1057/1057 [00:00<00:00, 3465.10it/s]\n"
     ]
    },
    {
     "name": "stdout",
     "output_type": "stream",
     "text": [
      "File ../data/hdfs/hdfs_test_normal, number of sessions 110673\n",
      "File ../data/hdfs/hdfs_test_normal, number of seqs 1057\n",
      "Find 9267 train logs, 1057 validation logs\n",
      "Train batch size 2048 ,Validation batch size 2048\n",
      "Starting epoch: 0 | phase: train | ⏰: 12:25:31 | Learning rate: 0.000313\n"
     ]
    },
    {
     "name": "stderr",
     "output_type": "stream",
     "text": [
      "Train loss: 1.50323: 100%|██████████| 5/5 [00:00<00:00, 29.32it/s]\n"
     ]
    },
    {
     "name": "stdout",
     "output_type": "stream",
     "text": [
      "Starting epoch: 0 | phase: valid | ⏰: 12:25:31 \n"
     ]
    },
    {
     "name": "stderr",
     "output_type": "stream",
     "text": [
      ": 100%|██████████| 1/1 [00:00<00:00, 57.53it/s]\n"
     ]
    },
    {
     "name": "stdout",
     "output_type": "stream",
     "text": [
      "Validation loss: 1.4688602685928345\n",
      "Client  4\n",
      "File ../data/hdfs/hdfs_train, number of sessions 971\n",
      "File ../data/hdfs/hdfs_train, number of seqs 9323\n",
      "sampling...\n"
     ]
    },
    {
     "name": "stderr",
     "output_type": "stream",
     "text": [
      "100%|██████████| 1044/1044 [00:00<00:00, 3676.19it/s]\n"
     ]
    },
    {
     "name": "stdout",
     "output_type": "stream",
     "text": [
      "File ../data/hdfs/hdfs_test_normal, number of sessions 110673\n",
      "File ../data/hdfs/hdfs_test_normal, number of seqs 1044\n",
      "Find 9323 train logs, 1044 validation logs\n",
      "Train batch size 2048 ,Validation batch size 2048\n",
      "Starting epoch: 0 | phase: train | ⏰: 12:25:42 | Learning rate: 0.000313\n"
     ]
    },
    {
     "name": "stderr",
     "output_type": "stream",
     "text": [
      "Train loss: 1.50966: 100%|██████████| 5/5 [00:00<00:00, 29.32it/s]\n"
     ]
    },
    {
     "name": "stdout",
     "output_type": "stream",
     "text": [
      "Starting epoch: 0 | phase: valid | ⏰: 12:25:42 \n"
     ]
    },
    {
     "name": "stderr",
     "output_type": "stream",
     "text": [
      ": 100%|██████████| 1/1 [00:00<00:00, 58.10it/s]\n"
     ]
    },
    {
     "name": "stdout",
     "output_type": "stream",
     "text": [
      "Validation loss: 1.4277443885803223\n",
      "============ Test epoch 25 ============\n",
      "Client  0\n",
      "Number of sessions(hdfs_test_normal): 5813\n",
      "Number of sessions(hdfs_test_abnormal): 1136\n"
     ]
    },
    {
     "name": "stderr",
     "output_type": "stream",
     "text": [
      "100%|██████████| 5813/5813 [03:50<00:00, 25.19it/s]\n",
      "100%|██████████| 1136/1136 [00:25<00:00, 45.01it/s]\n"
     ]
    },
    {
     "name": "stdout",
     "output_type": "stream",
     "text": [
      "false positive (FP): 480, false negative (FN): 24, Precision: 87.444%, Recall: 99.287%, F1-measure: 92.990%\n",
      "actual positive (TP+FN): 3367, actual negative (FP+TN): 110673\n",
      "accuracy: 99.558\n",
      "Finished Predicting\n",
      "elapsed_time: 255.96372771263123\n",
      "Client  1\n",
      "Number of sessions(hdfs_test_normal): 5574\n",
      "Number of sessions(hdfs_test_abnormal): 1139\n"
     ]
    },
    {
     "name": "stderr",
     "output_type": "stream",
     "text": [
      "100%|██████████| 5574/5574 [03:54<00:00, 23.79it/s]\n",
      "100%|██████████| 1139/1139 [00:26<00:00, 43.12it/s]\n"
     ]
    },
    {
     "name": "stdout",
     "output_type": "stream",
     "text": [
      "false positive (FP): 513, false negative (FN): 26, Precision: 86.689%, Recall: 99.228%, F1-measure: 92.536%\n",
      "actual positive (TP+FN): 3367, actual negative (FP+TN): 110673\n",
      "accuracy: 99.527\n",
      "Finished Predicting\n",
      "elapsed_time: 260.71504616737366\n",
      "Client  2\n",
      "Number of sessions(hdfs_test_normal): 5730\n",
      "Number of sessions(hdfs_test_abnormal): 1118\n"
     ]
    },
    {
     "name": "stderr",
     "output_type": "stream",
     "text": [
      "100%|██████████| 5730/5730 [03:36<00:00, 26.46it/s]\n",
      "100%|██████████| 1118/1118 [00:26<00:00, 42.74it/s]\n"
     ]
    },
    {
     "name": "stdout",
     "output_type": "stream",
     "text": [
      "false positive (FP): 459, false negative (FN): 31, Precision: 87.905%, Recall: 99.079%, F1-measure: 93.158%\n",
      "actual positive (TP+FN): 3367, actual negative (FP+TN): 110673\n",
      "accuracy: 99.570\n",
      "Finished Predicting\n",
      "elapsed_time: 242.6774082183838\n",
      "Client  3\n",
      "Number of sessions(hdfs_test_normal): 5747\n",
      "Number of sessions(hdfs_test_abnormal): 1159\n"
     ]
    },
    {
     "name": "stderr",
     "output_type": "stream",
     "text": [
      "100%|██████████| 5747/5747 [04:06<00:00, 23.35it/s]\n",
      "100%|██████████| 1159/1159 [00:27<00:00, 41.98it/s]\n"
     ]
    },
    {
     "name": "stdout",
     "output_type": "stream",
     "text": [
      "false positive (FP): 439, false negative (FN): 29, Precision: 88.377%, Recall: 99.139%, F1-measure: 93.449%\n",
      "actual positive (TP+FN): 3367, actual negative (FP+TN): 110673\n",
      "accuracy: 99.590\n",
      "Finished Predicting\n",
      "elapsed_time: 273.7776474952698\n",
      "Client  4\n",
      "Number of sessions(hdfs_test_normal): 5623\n",
      "Number of sessions(hdfs_test_abnormal): 1121\n"
     ]
    },
    {
     "name": "stderr",
     "output_type": "stream",
     "text": [
      "100%|██████████| 5623/5623 [03:57<00:00, 23.69it/s]\n",
      "100%|██████████| 1121/1121 [00:26<00:00, 43.00it/s]\n"
     ]
    },
    {
     "name": "stdout",
     "output_type": "stream",
     "text": [
      "false positive (FP): 517, false negative (FN): 32, Precision: 86.578%, Recall: 99.050%, F1-measure: 92.395%\n",
      "actual positive (TP+FN): 3367, actual negative (FP+TN): 110673\n",
      "accuracy: 99.519\n",
      "Finished Predicting\n",
      "elapsed_time: 263.38654685020447\n",
      "============ Train epoch 26 ============\n",
      "Client  0\n",
      "File ../data/hdfs/hdfs_train, number of sessions 971\n",
      "File ../data/hdfs/hdfs_train, number of seqs 9420\n",
      "sampling...\n"
     ]
    },
    {
     "name": "stderr",
     "output_type": "stream",
     "text": [
      "100%|██████████| 1058/1058 [00:00<00:00, 3628.95it/s]\n"
     ]
    },
    {
     "name": "stdout",
     "output_type": "stream",
     "text": [
      "File ../data/hdfs/hdfs_test_normal, number of sessions 110673\n",
      "File ../data/hdfs/hdfs_test_normal, number of seqs 1058\n",
      "Find 9420 train logs, 1058 validation logs\n",
      "Train batch size 2048 ,Validation batch size 2048\n",
      "Starting epoch: 0 | phase: train | ⏰: 12:47:34 | Learning rate: 0.000313\n"
     ]
    },
    {
     "name": "stderr",
     "output_type": "stream",
     "text": [
      "Train loss: 1.47068: 100%|██████████| 5/5 [00:00<00:00, 29.24it/s]\n"
     ]
    },
    {
     "name": "stdout",
     "output_type": "stream",
     "text": [
      "Starting epoch: 0 | phase: valid | ⏰: 12:47:34 \n"
     ]
    },
    {
     "name": "stderr",
     "output_type": "stream",
     "text": [
      ": 100%|██████████| 1/1 [00:00<00:00, 56.15it/s]\n"
     ]
    },
    {
     "name": "stdout",
     "output_type": "stream",
     "text": [
      "Validation loss: 1.4460523128509521\n",
      "Client  1\n",
      "File ../data/hdfs/hdfs_train, number of sessions 971\n",
      "File ../data/hdfs/hdfs_train, number of seqs 9080\n",
      "sampling...\n"
     ]
    },
    {
     "name": "stderr",
     "output_type": "stream",
     "text": [
      "100%|██████████| 1046/1046 [00:00<00:00, 3435.01it/s]\n"
     ]
    },
    {
     "name": "stdout",
     "output_type": "stream",
     "text": [
      "File ../data/hdfs/hdfs_test_normal, number of sessions 110673\n",
      "File ../data/hdfs/hdfs_test_normal, number of seqs 1046\n",
      "Find 9080 train logs, 1046 validation logs\n",
      "Train batch size 2048 ,Validation batch size 2048\n",
      "Starting epoch: 0 | phase: train | ⏰: 12:47:45 | Learning rate: 0.000313\n"
     ]
    },
    {
     "name": "stderr",
     "output_type": "stream",
     "text": [
      "Train loss: 1.48380: 100%|██████████| 5/5 [00:00<00:00, 30.48it/s]\n"
     ]
    },
    {
     "name": "stdout",
     "output_type": "stream",
     "text": [
      "Starting epoch: 0 | phase: valid | ⏰: 12:47:45 \n"
     ]
    },
    {
     "name": "stderr",
     "output_type": "stream",
     "text": [
      ": 100%|██████████| 1/1 [00:00<00:00, 58.12it/s]\n"
     ]
    },
    {
     "name": "stdout",
     "output_type": "stream",
     "text": [
      "Validation loss: 1.44272780418396\n",
      "Client  2\n",
      "File ../data/hdfs/hdfs_train, number of sessions 971\n",
      "File ../data/hdfs/hdfs_train, number of seqs 9485\n",
      "sampling...\n"
     ]
    },
    {
     "name": "stderr",
     "output_type": "stream",
     "text": [
      "100%|██████████| 1051/1051 [00:00<00:00, 3595.52it/s]\n"
     ]
    },
    {
     "name": "stdout",
     "output_type": "stream",
     "text": [
      "File ../data/hdfs/hdfs_test_normal, number of sessions 110673\n",
      "File ../data/hdfs/hdfs_test_normal, number of seqs 1051\n",
      "Find 9485 train logs, 1051 validation logs\n",
      "Train batch size 2048 ,Validation batch size 2048\n",
      "Starting epoch: 0 | phase: train | ⏰: 12:47:57 | Learning rate: 0.000313\n"
     ]
    },
    {
     "name": "stderr",
     "output_type": "stream",
     "text": [
      "Train loss: 1.49065: 100%|██████████| 5/5 [00:00<00:00, 27.87it/s]\n"
     ]
    },
    {
     "name": "stdout",
     "output_type": "stream",
     "text": [
      "Starting epoch: 0 | phase: valid | ⏰: 12:47:57 \n"
     ]
    },
    {
     "name": "stderr",
     "output_type": "stream",
     "text": [
      ": 100%|██████████| 1/1 [00:00<00:00, 58.61it/s]\n"
     ]
    },
    {
     "name": "stdout",
     "output_type": "stream",
     "text": [
      "Validation loss: 1.4305801391601562\n",
      "Client  3\n",
      "File ../data/hdfs/hdfs_train, number of sessions 971\n",
      "File ../data/hdfs/hdfs_train, number of seqs 9267\n",
      "sampling...\n"
     ]
    },
    {
     "name": "stderr",
     "output_type": "stream",
     "text": [
      "100%|██████████| 1057/1057 [00:00<00:00, 3497.31it/s]\n"
     ]
    },
    {
     "name": "stdout",
     "output_type": "stream",
     "text": [
      "File ../data/hdfs/hdfs_test_normal, number of sessions 110673\n",
      "File ../data/hdfs/hdfs_test_normal, number of seqs 1057\n",
      "Find 9267 train logs, 1057 validation logs\n",
      "Train batch size 2048 ,Validation batch size 2048\n",
      "Starting epoch: 0 | phase: train | ⏰: 12:48:08 | Learning rate: 0.000313\n"
     ]
    },
    {
     "name": "stderr",
     "output_type": "stream",
     "text": [
      "Train loss: 1.46641: 100%|██████████| 5/5 [00:00<00:00, 29.70it/s]\n"
     ]
    },
    {
     "name": "stdout",
     "output_type": "stream",
     "text": [
      "Starting epoch: 0 | phase: valid | ⏰: 12:48:09 \n"
     ]
    },
    {
     "name": "stderr",
     "output_type": "stream",
     "text": [
      ": 100%|██████████| 1/1 [00:00<00:00, 60.35it/s]\n"
     ]
    },
    {
     "name": "stdout",
     "output_type": "stream",
     "text": [
      "Validation loss: 1.4388697147369385\n",
      "Client  4\n",
      "File ../data/hdfs/hdfs_train, number of sessions 971\n",
      "File ../data/hdfs/hdfs_train, number of seqs 9323\n",
      "sampling...\n"
     ]
    },
    {
     "name": "stderr",
     "output_type": "stream",
     "text": [
      "100%|██████████| 1044/1044 [00:00<00:00, 3526.34it/s]\n"
     ]
    },
    {
     "name": "stdout",
     "output_type": "stream",
     "text": [
      "File ../data/hdfs/hdfs_test_normal, number of sessions 110673\n",
      "File ../data/hdfs/hdfs_test_normal, number of seqs 1044\n",
      "Find 9323 train logs, 1044 validation logs\n",
      "Train batch size 2048 ,Validation batch size 2048\n",
      "Starting epoch: 0 | phase: train | ⏰: 12:48:20 | Learning rate: 0.000313\n"
     ]
    },
    {
     "name": "stderr",
     "output_type": "stream",
     "text": [
      "Train loss: 1.48112: 100%|██████████| 5/5 [00:00<00:00, 29.52it/s]\n"
     ]
    },
    {
     "name": "stdout",
     "output_type": "stream",
     "text": [
      "Starting epoch: 0 | phase: valid | ⏰: 12:48:20 \n"
     ]
    },
    {
     "name": "stderr",
     "output_type": "stream",
     "text": [
      ": 100%|██████████| 1/1 [00:00<00:00, 60.41it/s]\n"
     ]
    },
    {
     "name": "stdout",
     "output_type": "stream",
     "text": [
      "Validation loss: 1.4451144933700562\n",
      "============ Test epoch 26 ============\n",
      "Client  0\n",
      "Number of sessions(hdfs_test_normal): 5813\n",
      "Number of sessions(hdfs_test_abnormal): 1136\n"
     ]
    },
    {
     "name": "stderr",
     "output_type": "stream",
     "text": [
      "100%|██████████| 5813/5813 [03:52<00:00, 25.06it/s]\n",
      "100%|██████████| 1136/1136 [00:25<00:00, 44.96it/s]\n"
     ]
    },
    {
     "name": "stdout",
     "output_type": "stream",
     "text": [
      "false positive (FP): 485, false negative (FN): 24, Precision: 87.330%, Recall: 99.287%, F1-measure: 92.926%\n",
      "actual positive (TP+FN): 3367, actual negative (FP+TN): 110673\n",
      "accuracy: 99.554\n",
      "Finished Predicting\n",
      "elapsed_time: 257.27587151527405\n",
      "Client  1\n",
      "Number of sessions(hdfs_test_normal): 5574\n",
      "Number of sessions(hdfs_test_abnormal): 1139\n"
     ]
    },
    {
     "name": "stderr",
     "output_type": "stream",
     "text": [
      "100%|██████████| 5574/5574 [03:54<00:00, 23.77it/s]\n",
      "100%|██████████| 1139/1139 [00:26<00:00, 43.24it/s]\n"
     ]
    },
    {
     "name": "stdout",
     "output_type": "stream",
     "text": [
      "false positive (FP): 523, false negative (FN): 26, Precision: 86.465%, Recall: 99.228%, F1-measure: 92.408%\n",
      "actual positive (TP+FN): 3367, actual negative (FP+TN): 110673\n",
      "accuracy: 99.519\n",
      "Finished Predicting\n",
      "elapsed_time: 260.7998106479645\n",
      "Client  2\n",
      "Number of sessions(hdfs_test_normal): 5730\n",
      "Number of sessions(hdfs_test_abnormal): 1118\n"
     ]
    },
    {
     "name": "stderr",
     "output_type": "stream",
     "text": [
      "100%|██████████| 5730/5730 [03:36<00:00, 26.51it/s]\n",
      "100%|██████████| 1118/1118 [00:26<00:00, 42.78it/s]\n"
     ]
    },
    {
     "name": "stdout",
     "output_type": "stream",
     "text": [
      "false positive (FP): 463, false negative (FN): 31, Precision: 87.813%, Recall: 99.079%, F1-measure: 93.106%\n",
      "actual positive (TP+FN): 3367, actual negative (FP+TN): 110673\n",
      "accuracy: 99.567\n",
      "Finished Predicting\n",
      "elapsed_time: 242.2725965976715\n",
      "Client  3\n",
      "Number of sessions(hdfs_test_normal): 5747\n",
      "Number of sessions(hdfs_test_abnormal): 1159\n"
     ]
    },
    {
     "name": "stderr",
     "output_type": "stream",
     "text": [
      "100%|██████████| 5747/5747 [04:04<00:00, 23.52it/s]\n",
      "100%|██████████| 1159/1159 [00:27<00:00, 42.15it/s]\n"
     ]
    },
    {
     "name": "stdout",
     "output_type": "stream",
     "text": [
      "false positive (FP): 447, false negative (FN): 29, Precision: 88.190%, Recall: 99.139%, F1-measure: 93.345%\n",
      "actual positive (TP+FN): 3367, actual negative (FP+TN): 110673\n",
      "accuracy: 99.583\n",
      "Finished Predicting\n",
      "elapsed_time: 271.82833886146545\n",
      "Client  4\n",
      "Number of sessions(hdfs_test_normal): 5623\n",
      "Number of sessions(hdfs_test_abnormal): 1121\n"
     ]
    },
    {
     "name": "stderr",
     "output_type": "stream",
     "text": [
      "100%|██████████| 5623/5623 [03:56<00:00, 23.75it/s]\n",
      "100%|██████████| 1121/1121 [00:26<00:00, 43.07it/s]\n"
     ]
    },
    {
     "name": "stdout",
     "output_type": "stream",
     "text": [
      "false positive (FP): 522, false negative (FN): 32, Precision: 86.466%, Recall: 99.050%, F1-measure: 92.331%\n",
      "actual positive (TP+FN): 3367, actual negative (FP+TN): 110673\n",
      "accuracy: 99.514\n",
      "Finished Predicting\n",
      "elapsed_time: 262.74527621269226\n",
      "============ Train epoch 27 ============\n",
      "Client  0\n",
      "File ../data/hdfs/hdfs_train, number of sessions 971\n",
      "File ../data/hdfs/hdfs_train, number of seqs 9420\n",
      "sampling...\n"
     ]
    },
    {
     "name": "stderr",
     "output_type": "stream",
     "text": [
      "100%|██████████| 1058/1058 [00:00<00:00, 3565.85it/s]\n"
     ]
    },
    {
     "name": "stdout",
     "output_type": "stream",
     "text": [
      "File ../data/hdfs/hdfs_test_normal, number of sessions 110673\n",
      "File ../data/hdfs/hdfs_test_normal, number of seqs 1058\n",
      "Find 9420 train logs, 1058 validation logs\n",
      "Train batch size 2048 ,Validation batch size 2048\n",
      "Starting epoch: 0 | phase: train | ⏰: 13:10:10 | Learning rate: 0.000313\n"
     ]
    },
    {
     "name": "stderr",
     "output_type": "stream",
     "text": [
      "Train loss: 1.43036: 100%|██████████| 5/5 [00:00<00:00, 27.30it/s]\n"
     ]
    },
    {
     "name": "stdout",
     "output_type": "stream",
     "text": [
      "Starting epoch: 0 | phase: valid | ⏰: 13:10:10 \n"
     ]
    },
    {
     "name": "stderr",
     "output_type": "stream",
     "text": [
      ": 100%|██████████| 1/1 [00:00<00:00, 55.46it/s]\n"
     ]
    },
    {
     "name": "stdout",
     "output_type": "stream",
     "text": [
      "Validation loss: 1.3996058702468872\n",
      "Client  1\n",
      "File ../data/hdfs/hdfs_train, number of sessions 971\n",
      "File ../data/hdfs/hdfs_train, number of seqs 9080\n",
      "sampling...\n"
     ]
    },
    {
     "name": "stderr",
     "output_type": "stream",
     "text": [
      "100%|██████████| 1046/1046 [00:00<00:00, 3495.39it/s]\n"
     ]
    },
    {
     "name": "stdout",
     "output_type": "stream",
     "text": [
      "File ../data/hdfs/hdfs_test_normal, number of sessions 110673\n",
      "File ../data/hdfs/hdfs_test_normal, number of seqs 1046\n",
      "Find 9080 train logs, 1046 validation logs\n",
      "Train batch size 2048 ,Validation batch size 2048\n",
      "Starting epoch: 0 | phase: train | ⏰: 13:10:22 | Learning rate: 0.000313\n"
     ]
    },
    {
     "name": "stderr",
     "output_type": "stream",
     "text": [
      "Train loss: 1.45485: 100%|██████████| 5/5 [00:00<00:00, 27.67it/s]\n"
     ]
    },
    {
     "name": "stdout",
     "output_type": "stream",
     "text": [
      "Starting epoch: 0 | phase: valid | ⏰: 13:10:22 \n"
     ]
    },
    {
     "name": "stderr",
     "output_type": "stream",
     "text": [
      ": 100%|██████████| 1/1 [00:00<00:00, 58.09it/s]\n"
     ]
    },
    {
     "name": "stdout",
     "output_type": "stream",
     "text": [
      "Validation loss: 1.4022722244262695\n",
      "Client  2\n",
      "File ../data/hdfs/hdfs_train, number of sessions 971\n",
      "File ../data/hdfs/hdfs_train, number of seqs 9485\n",
      "sampling...\n"
     ]
    },
    {
     "name": "stderr",
     "output_type": "stream",
     "text": [
      "100%|██████████| 1051/1051 [00:00<00:00, 3488.83it/s]\n"
     ]
    },
    {
     "name": "stdout",
     "output_type": "stream",
     "text": [
      "File ../data/hdfs/hdfs_test_normal, number of sessions 110673\n",
      "File ../data/hdfs/hdfs_test_normal, number of seqs 1051\n",
      "Find 9485 train logs, 1051 validation logs\n",
      "Train batch size 2048 ,Validation batch size 2048\n",
      "Starting epoch: 0 | phase: train | ⏰: 13:10:33 | Learning rate: 0.000313\n"
     ]
    },
    {
     "name": "stderr",
     "output_type": "stream",
     "text": [
      "Train loss: 1.45446: 100%|██████████| 5/5 [00:00<00:00, 27.53it/s]\n"
     ]
    },
    {
     "name": "stdout",
     "output_type": "stream",
     "text": [
      "Starting epoch: 0 | phase: valid | ⏰: 13:10:33 \n"
     ]
    },
    {
     "name": "stderr",
     "output_type": "stream",
     "text": [
      ": 100%|██████████| 1/1 [00:00<00:00, 58.62it/s]\n"
     ]
    },
    {
     "name": "stdout",
     "output_type": "stream",
     "text": [
      "Validation loss: 1.3848978281021118\n",
      "Client  3\n",
      "File ../data/hdfs/hdfs_train, number of sessions 971\n",
      "File ../data/hdfs/hdfs_train, number of seqs 9267\n",
      "sampling...\n"
     ]
    },
    {
     "name": "stderr",
     "output_type": "stream",
     "text": [
      "100%|██████████| 1057/1057 [00:00<00:00, 3544.55it/s]\n"
     ]
    },
    {
     "name": "stdout",
     "output_type": "stream",
     "text": [
      "File ../data/hdfs/hdfs_test_normal, number of sessions 110673\n",
      "File ../data/hdfs/hdfs_test_normal, number of seqs 1057\n",
      "Find 9267 train logs, 1057 validation logs\n",
      "Train batch size 2048 ,Validation batch size 2048\n",
      "Starting epoch: 0 | phase: train | ⏰: 13:10:45 | Learning rate: 0.000313\n"
     ]
    },
    {
     "name": "stderr",
     "output_type": "stream",
     "text": [
      "Train loss: 1.44061: 100%|██████████| 5/5 [00:00<00:00, 29.01it/s]\n"
     ]
    },
    {
     "name": "stdout",
     "output_type": "stream",
     "text": [
      "Starting epoch: 0 | phase: valid | ⏰: 13:10:45 \n"
     ]
    },
    {
     "name": "stderr",
     "output_type": "stream",
     "text": [
      ": 100%|██████████| 1/1 [00:00<00:00, 59.76it/s]\n"
     ]
    },
    {
     "name": "stdout",
     "output_type": "stream",
     "text": [
      "Validation loss: 1.4223556518554688\n",
      "Client  4\n",
      "File ../data/hdfs/hdfs_train, number of sessions 971\n",
      "File ../data/hdfs/hdfs_train, number of seqs 9323\n",
      "sampling...\n"
     ]
    },
    {
     "name": "stderr",
     "output_type": "stream",
     "text": [
      "100%|██████████| 1044/1044 [00:00<00:00, 3567.52it/s]\n"
     ]
    },
    {
     "name": "stdout",
     "output_type": "stream",
     "text": [
      "File ../data/hdfs/hdfs_test_normal, number of sessions 110673\n",
      "File ../data/hdfs/hdfs_test_normal, number of seqs 1044\n",
      "Find 9323 train logs, 1044 validation logs\n",
      "Train batch size 2048 ,Validation batch size 2048\n",
      "Starting epoch: 0 | phase: train | ⏰: 13:10:57 | Learning rate: 0.000313\n"
     ]
    },
    {
     "name": "stderr",
     "output_type": "stream",
     "text": [
      "Train loss: 1.44241: 100%|██████████| 5/5 [00:00<00:00, 29.04it/s]\n"
     ]
    },
    {
     "name": "stdout",
     "output_type": "stream",
     "text": [
      "Starting epoch: 0 | phase: valid | ⏰: 13:10:57 \n"
     ]
    },
    {
     "name": "stderr",
     "output_type": "stream",
     "text": [
      ": 100%|██████████| 1/1 [00:00<00:00, 59.14it/s]\n"
     ]
    },
    {
     "name": "stdout",
     "output_type": "stream",
     "text": [
      "Validation loss: 1.408850908279419\n",
      "============ Test epoch 27 ============\n",
      "Client  0\n",
      "Number of sessions(hdfs_test_normal): 5813\n",
      "Number of sessions(hdfs_test_abnormal): 1136\n"
     ]
    },
    {
     "name": "stderr",
     "output_type": "stream",
     "text": [
      "100%|██████████| 5813/5813 [03:51<00:00, 25.15it/s]\n",
      "100%|██████████| 1136/1136 [00:24<00:00, 45.51it/s]\n"
     ]
    },
    {
     "name": "stdout",
     "output_type": "stream",
     "text": [
      "false positive (FP): 485, false negative (FN): 24, Precision: 87.330%, Recall: 99.287%, F1-measure: 92.926%\n",
      "actual positive (TP+FN): 3367, actual negative (FP+TN): 110673\n",
      "accuracy: 99.554\n",
      "Finished Predicting\n",
      "elapsed_time: 256.08605790138245\n",
      "Client  1\n",
      "Number of sessions(hdfs_test_normal): 5574\n",
      "Number of sessions(hdfs_test_abnormal): 1139\n"
     ]
    },
    {
     "name": "stderr",
     "output_type": "stream",
     "text": [
      "100%|██████████| 5574/5574 [03:52<00:00, 23.97it/s]\n",
      "100%|██████████| 1139/1139 [00:18<00:00, 62.78it/s]\n"
     ]
    },
    {
     "name": "stdout",
     "output_type": "stream",
     "text": [
      "false positive (FP): 523, false negative (FN): 26, Precision: 86.465%, Recall: 99.228%, F1-measure: 92.408%\n",
      "actual positive (TP+FN): 3367, actual negative (FP+TN): 110673\n",
      "accuracy: 99.519\n",
      "Finished Predicting\n",
      "elapsed_time: 250.7153639793396\n",
      "Client  2\n",
      "Number of sessions(hdfs_test_normal): 5730\n",
      "Number of sessions(hdfs_test_abnormal): 1118\n"
     ]
    },
    {
     "name": "stderr",
     "output_type": "stream",
     "text": [
      "100%|██████████| 5730/5730 [03:46<00:00, 25.26it/s]\n",
      "100%|██████████| 1118/1118 [00:26<00:00, 42.83it/s]\n"
     ]
    },
    {
     "name": "stdout",
     "output_type": "stream",
     "text": [
      "false positive (FP): 462, false negative (FN): 31, Precision: 87.836%, Recall: 99.079%, F1-measure: 93.119%\n",
      "actual positive (TP+FN): 3367, actual negative (FP+TN): 110673\n",
      "accuracy: 99.568\n",
      "Finished Predicting\n",
      "elapsed_time: 252.90844631195068\n",
      "Client  3\n",
      "Number of sessions(hdfs_test_normal): 5747\n",
      "Number of sessions(hdfs_test_abnormal): 1159\n"
     ]
    },
    {
     "name": "stderr",
     "output_type": "stream",
     "text": [
      "100%|██████████| 5747/5747 [04:04<00:00, 23.48it/s]\n",
      "100%|██████████| 1159/1159 [00:27<00:00, 42.07it/s]\n"
     ]
    },
    {
     "name": "stdout",
     "output_type": "stream",
     "text": [
      "false positive (FP): 447, false negative (FN): 29, Precision: 88.190%, Recall: 99.139%, F1-measure: 93.345%\n",
      "actual positive (TP+FN): 3367, actual negative (FP+TN): 110673\n",
      "accuracy: 99.583\n",
      "Finished Predicting\n",
      "elapsed_time: 272.2824544906616\n",
      "Client  4\n",
      "Number of sessions(hdfs_test_normal): 5623\n",
      "Number of sessions(hdfs_test_abnormal): 1121\n"
     ]
    },
    {
     "name": "stderr",
     "output_type": "stream",
     "text": [
      "100%|██████████| 5623/5623 [03:56<00:00, 23.74it/s]\n",
      "100%|██████████| 1121/1121 [00:26<00:00, 42.91it/s]\n"
     ]
    },
    {
     "name": "stdout",
     "output_type": "stream",
     "text": [
      "false positive (FP): 522, false negative (FN): 32, Precision: 86.466%, Recall: 99.050%, F1-measure: 92.331%\n",
      "actual positive (TP+FN): 3367, actual negative (FP+TN): 110673\n",
      "accuracy: 99.514\n",
      "Finished Predicting\n",
      "elapsed_time: 263.0314075946808\n",
      "============ Train epoch 28 ============\n",
      "Client  0\n",
      "File ../data/hdfs/hdfs_train, number of sessions 971\n",
      "File ../data/hdfs/hdfs_train, number of seqs 9420\n",
      "sampling...\n"
     ]
    },
    {
     "name": "stderr",
     "output_type": "stream",
     "text": [
      "100%|██████████| 1058/1058 [00:00<00:00, 3396.08it/s]\n"
     ]
    },
    {
     "name": "stdout",
     "output_type": "stream",
     "text": [
      "File ../data/hdfs/hdfs_test_normal, number of sessions 110673\n",
      "File ../data/hdfs/hdfs_test_normal, number of seqs 1058\n",
      "Find 9420 train logs, 1058 validation logs\n",
      "Train batch size 2048 ,Validation batch size 2048\n",
      "Starting epoch: 0 | phase: train | ⏰: 13:32:47 | Learning rate: 0.000313\n"
     ]
    },
    {
     "name": "stderr",
     "output_type": "stream",
     "text": [
      "Train loss: 1.40309: 100%|██████████| 5/5 [00:00<00:00, 27.91it/s]\n"
     ]
    },
    {
     "name": "stdout",
     "output_type": "stream",
     "text": [
      "Starting epoch: 0 | phase: valid | ⏰: 13:32:47 \n"
     ]
    },
    {
     "name": "stderr",
     "output_type": "stream",
     "text": [
      ": 100%|██████████| 1/1 [00:00<00:00, 53.05it/s]\n"
     ]
    },
    {
     "name": "stdout",
     "output_type": "stream",
     "text": [
      "Validation loss: 1.328911304473877\n",
      "Client  1\n",
      "File ../data/hdfs/hdfs_train, number of sessions 971\n",
      "File ../data/hdfs/hdfs_train, number of seqs 9080\n",
      "sampling...\n"
     ]
    },
    {
     "name": "stderr",
     "output_type": "stream",
     "text": [
      "100%|██████████| 1046/1046 [00:00<00:00, 3566.72it/s]\n"
     ]
    },
    {
     "name": "stdout",
     "output_type": "stream",
     "text": [
      "File ../data/hdfs/hdfs_test_normal, number of sessions 110673\n",
      "File ../data/hdfs/hdfs_test_normal, number of seqs 1046\n",
      "Find 9080 train logs, 1046 validation logs\n",
      "Train batch size 2048 ,Validation batch size 2048\n",
      "Starting epoch: 0 | phase: train | ⏰: 13:32:58 | Learning rate: 0.000313\n"
     ]
    },
    {
     "name": "stderr",
     "output_type": "stream",
     "text": [
      "Train loss: 1.41525: 100%|██████████| 5/5 [00:00<00:00, 29.78it/s]\n"
     ]
    },
    {
     "name": "stdout",
     "output_type": "stream",
     "text": [
      "Starting epoch: 0 | phase: valid | ⏰: 13:32:58 \n"
     ]
    },
    {
     "name": "stderr",
     "output_type": "stream",
     "text": [
      ": 100%|██████████| 1/1 [00:00<00:00, 54.65it/s]\n"
     ]
    },
    {
     "name": "stdout",
     "output_type": "stream",
     "text": [
      "Validation loss: 1.347325325012207\n",
      "Client  2\n",
      "File ../data/hdfs/hdfs_train, number of sessions 971\n",
      "File ../data/hdfs/hdfs_train, number of seqs 9485\n",
      "sampling...\n"
     ]
    },
    {
     "name": "stderr",
     "output_type": "stream",
     "text": [
      "100%|██████████| 1051/1051 [00:00<00:00, 3500.54it/s]\n"
     ]
    },
    {
     "name": "stdout",
     "output_type": "stream",
     "text": [
      "File ../data/hdfs/hdfs_test_normal, number of sessions 110673\n",
      "File ../data/hdfs/hdfs_test_normal, number of seqs 1051\n",
      "Find 9485 train logs, 1051 validation logs\n",
      "Train batch size 2048 ,Validation batch size 2048\n",
      "Starting epoch: 0 | phase: train | ⏰: 13:33:10 | Learning rate: 0.000313\n"
     ]
    },
    {
     "name": "stderr",
     "output_type": "stream",
     "text": [
      "Train loss: 1.42239: 100%|██████████| 5/5 [00:00<00:00, 28.57it/s]\n"
     ]
    },
    {
     "name": "stdout",
     "output_type": "stream",
     "text": [
      "Starting epoch: 0 | phase: valid | ⏰: 13:33:10 \n"
     ]
    },
    {
     "name": "stderr",
     "output_type": "stream",
     "text": [
      ": 100%|██████████| 1/1 [00:00<00:00, 58.10it/s]\n"
     ]
    },
    {
     "name": "stdout",
     "output_type": "stream",
     "text": [
      "Validation loss: 1.370561957359314\n",
      "Client  3\n",
      "File ../data/hdfs/hdfs_train, number of sessions 971\n",
      "File ../data/hdfs/hdfs_train, number of seqs 9267\n",
      "sampling...\n"
     ]
    },
    {
     "name": "stderr",
     "output_type": "stream",
     "text": [
      "100%|██████████| 1057/1057 [00:00<00:00, 3610.48it/s]\n"
     ]
    },
    {
     "name": "stdout",
     "output_type": "stream",
     "text": [
      "File ../data/hdfs/hdfs_test_normal, number of sessions 110673\n",
      "File ../data/hdfs/hdfs_test_normal, number of seqs 1057\n",
      "Find 9267 train logs, 1057 validation logs\n",
      "Train batch size 2048 ,Validation batch size 2048\n",
      "Starting epoch: 0 | phase: train | ⏰: 13:33:22 | Learning rate: 0.000313\n"
     ]
    },
    {
     "name": "stderr",
     "output_type": "stream",
     "text": [
      "Train loss: 1.40413: 100%|██████████| 5/5 [00:00<00:00, 30.68it/s]\n"
     ]
    },
    {
     "name": "stdout",
     "output_type": "stream",
     "text": [
      "Starting epoch: 0 | phase: valid | ⏰: 13:33:22 \n"
     ]
    },
    {
     "name": "stderr",
     "output_type": "stream",
     "text": [
      ": 100%|██████████| 1/1 [00:00<00:00, 59.73it/s]"
     ]
    },
    {
     "name": "stdout",
     "output_type": "stream",
     "text": [
      "Validation loss: 1.3708839416503906\n",
      "Client  4\n"
     ]
    },
    {
     "name": "stderr",
     "output_type": "stream",
     "text": [
      "\n"
     ]
    },
    {
     "name": "stdout",
     "output_type": "stream",
     "text": [
      "File ../data/hdfs/hdfs_train, number of sessions 971\n",
      "File ../data/hdfs/hdfs_train, number of seqs 9323\n",
      "sampling...\n"
     ]
    },
    {
     "name": "stderr",
     "output_type": "stream",
     "text": [
      "100%|██████████| 1044/1044 [00:00<00:00, 3523.25it/s]\n"
     ]
    },
    {
     "name": "stdout",
     "output_type": "stream",
     "text": [
      "File ../data/hdfs/hdfs_test_normal, number of sessions 110673\n",
      "File ../data/hdfs/hdfs_test_normal, number of seqs 1044\n",
      "Find 9323 train logs, 1044 validation logs\n",
      "Train batch size 2048 ,Validation batch size 2048\n",
      "Starting epoch: 0 | phase: train | ⏰: 13:33:33 | Learning rate: 0.000313\n"
     ]
    },
    {
     "name": "stderr",
     "output_type": "stream",
     "text": [
      "Train loss: 1.40935: 100%|██████████| 5/5 [00:00<00:00, 28.63it/s]\n"
     ]
    },
    {
     "name": "stdout",
     "output_type": "stream",
     "text": [
      "Starting epoch: 0 | phase: valid | ⏰: 13:33:34 \n"
     ]
    },
    {
     "name": "stderr",
     "output_type": "stream",
     "text": [
      ": 100%|██████████| 1/1 [00:00<00:00, 54.76it/s]\n"
     ]
    },
    {
     "name": "stdout",
     "output_type": "stream",
     "text": [
      "Validation loss: 1.3686155080795288\n",
      "============ Test epoch 28 ============\n",
      "Client  0\n",
      "Number of sessions(hdfs_test_normal): 5813\n",
      "Number of sessions(hdfs_test_abnormal): 1136\n"
     ]
    },
    {
     "name": "stderr",
     "output_type": "stream",
     "text": [
      "100%|██████████| 5813/5813 [03:52<00:00, 24.96it/s]\n",
      "100%|██████████| 1136/1136 [00:25<00:00, 44.83it/s]\n"
     ]
    },
    {
     "name": "stdout",
     "output_type": "stream",
     "text": [
      "false positive (FP): 485, false negative (FN): 24, Precision: 87.330%, Recall: 99.287%, F1-measure: 92.926%\n",
      "actual positive (TP+FN): 3367, actual negative (FP+TN): 110673\n",
      "accuracy: 99.554\n",
      "Finished Predicting\n",
      "elapsed_time: 258.24337100982666\n",
      "Client  1\n",
      "Number of sessions(hdfs_test_normal): 5574\n",
      "Number of sessions(hdfs_test_abnormal): 1139\n"
     ]
    },
    {
     "name": "stderr",
     "output_type": "stream",
     "text": [
      "100%|██████████| 5574/5574 [03:41<00:00, 25.15it/s]\n",
      "100%|██████████| 1139/1139 [00:17<00:00, 64.11it/s]\n"
     ]
    },
    {
     "name": "stdout",
     "output_type": "stream",
     "text": [
      "false positive (FP): 523, false negative (FN): 26, Precision: 86.465%, Recall: 99.228%, F1-measure: 92.408%\n",
      "actual positive (TP+FN): 3367, actual negative (FP+TN): 110673\n",
      "accuracy: 99.519\n",
      "Finished Predicting\n",
      "elapsed_time: 239.38278126716614\n",
      "Client  2\n",
      "Number of sessions(hdfs_test_normal): 5730\n",
      "Number of sessions(hdfs_test_abnormal): 1118\n"
     ]
    },
    {
     "name": "stderr",
     "output_type": "stream",
     "text": [
      "100%|██████████| 5730/5730 [03:59<00:00, 23.92it/s]\n",
      "100%|██████████| 1118/1118 [00:26<00:00, 42.50it/s]\n"
     ]
    },
    {
     "name": "stdout",
     "output_type": "stream",
     "text": [
      "false positive (FP): 462, false negative (FN): 31, Precision: 87.836%, Recall: 99.079%, F1-measure: 93.119%\n",
      "actual positive (TP+FN): 3367, actual negative (FP+TN): 110673\n",
      "accuracy: 99.568\n",
      "Finished Predicting\n",
      "elapsed_time: 265.81386828422546\n",
      "Client  3\n",
      "Number of sessions(hdfs_test_normal): 5747\n",
      "Number of sessions(hdfs_test_abnormal): 1159\n"
     ]
    },
    {
     "name": "stderr",
     "output_type": "stream",
     "text": [
      "100%|██████████| 5747/5747 [04:05<00:00, 23.40it/s]\n",
      "100%|██████████| 1159/1159 [00:27<00:00, 41.70it/s]\n"
     ]
    },
    {
     "name": "stdout",
     "output_type": "stream",
     "text": [
      "false positive (FP): 447, false negative (FN): 29, Precision: 88.190%, Recall: 99.139%, F1-measure: 93.345%\n",
      "actual positive (TP+FN): 3367, actual negative (FP+TN): 110673\n",
      "accuracy: 99.583\n",
      "Finished Predicting\n",
      "elapsed_time: 273.439293384552\n",
      "Client  4\n",
      "Number of sessions(hdfs_test_normal): 5623\n",
      "Number of sessions(hdfs_test_abnormal): 1121\n"
     ]
    },
    {
     "name": "stderr",
     "output_type": "stream",
     "text": [
      "100%|██████████| 5623/5623 [03:56<00:00, 23.78it/s]\n",
      "100%|██████████| 1121/1121 [00:25<00:00, 43.18it/s]\n"
     ]
    },
    {
     "name": "stdout",
     "output_type": "stream",
     "text": [
      "false positive (FP): 522, false negative (FN): 32, Precision: 86.466%, Recall: 99.050%, F1-measure: 92.331%\n",
      "actual positive (TP+FN): 3367, actual negative (FP+TN): 110673\n",
      "accuracy: 99.514\n",
      "Finished Predicting\n",
      "elapsed_time: 262.43582010269165\n",
      "============ Train epoch 29 ============\n",
      "Client  0\n",
      "File ../data/hdfs/hdfs_train, number of sessions 971\n",
      "File ../data/hdfs/hdfs_train, number of seqs 9420\n",
      "sampling...\n"
     ]
    },
    {
     "name": "stderr",
     "output_type": "stream",
     "text": [
      "100%|██████████| 1058/1058 [00:00<00:00, 3559.81it/s]\n"
     ]
    },
    {
     "name": "stdout",
     "output_type": "stream",
     "text": [
      "File ../data/hdfs/hdfs_test_normal, number of sessions 110673\n",
      "File ../data/hdfs/hdfs_test_normal, number of seqs 1058\n",
      "Find 9420 train logs, 1058 validation logs\n",
      "Train batch size 2048 ,Validation batch size 2048\n",
      "Starting epoch: 0 | phase: train | ⏰: 13:55:27 | Learning rate: 0.000313\n"
     ]
    },
    {
     "name": "stderr",
     "output_type": "stream",
     "text": [
      "Train loss: 1.36452: 100%|██████████| 5/5 [00:00<00:00, 27.71it/s]\n"
     ]
    },
    {
     "name": "stdout",
     "output_type": "stream",
     "text": [
      "Starting epoch: 0 | phase: valid | ⏰: 13:55:28 \n"
     ]
    },
    {
     "name": "stderr",
     "output_type": "stream",
     "text": [
      ": 100%|██████████| 1/1 [00:00<00:00, 55.69it/s]\n"
     ]
    },
    {
     "name": "stdout",
     "output_type": "stream",
     "text": [
      "Validation loss: 1.3178709745407104\n",
      "Client  1\n",
      "File ../data/hdfs/hdfs_train, number of sessions 971\n",
      "File ../data/hdfs/hdfs_train, number of seqs 9080\n",
      "sampling...\n"
     ]
    },
    {
     "name": "stderr",
     "output_type": "stream",
     "text": [
      "100%|██████████| 1046/1046 [00:00<00:00, 3574.25it/s]\n"
     ]
    },
    {
     "name": "stdout",
     "output_type": "stream",
     "text": [
      "File ../data/hdfs/hdfs_test_normal, number of sessions 110673\n",
      "File ../data/hdfs/hdfs_test_normal, number of seqs 1046\n",
      "Find 9080 train logs, 1046 validation logs\n",
      "Train batch size 2048 ,Validation batch size 2048\n",
      "Starting epoch: 0 | phase: train | ⏰: 13:55:39 | Learning rate: 0.000313\n"
     ]
    },
    {
     "name": "stderr",
     "output_type": "stream",
     "text": [
      "Train loss: 1.37875: 100%|██████████| 5/5 [00:00<00:00, 29.71it/s]\n"
     ]
    },
    {
     "name": "stdout",
     "output_type": "stream",
     "text": [
      "Starting epoch: 0 | phase: valid | ⏰: 13:55:39 \n"
     ]
    },
    {
     "name": "stderr",
     "output_type": "stream",
     "text": [
      ": 100%|██████████| 1/1 [00:00<00:00, 54.85it/s]\n"
     ]
    },
    {
     "name": "stdout",
     "output_type": "stream",
     "text": [
      "Validation loss: 1.296727180480957\n",
      "Client  2\n",
      "File ../data/hdfs/hdfs_train, number of sessions 971\n",
      "File ../data/hdfs/hdfs_train, number of seqs 9485\n",
      "sampling...\n"
     ]
    },
    {
     "name": "stderr",
     "output_type": "stream",
     "text": [
      "100%|██████████| 1051/1051 [00:00<00:00, 3513.17it/s]\n"
     ]
    },
    {
     "name": "stdout",
     "output_type": "stream",
     "text": [
      "File ../data/hdfs/hdfs_test_normal, number of sessions 110673\n",
      "File ../data/hdfs/hdfs_test_normal, number of seqs 1051\n",
      "Find 9485 train logs, 1051 validation logs\n",
      "Train batch size 2048 ,Validation batch size 2048\n",
      "Starting epoch: 0 | phase: train | ⏰: 13:55:51 | Learning rate: 0.000313\n"
     ]
    },
    {
     "name": "stderr",
     "output_type": "stream",
     "text": [
      "Train loss: 1.38745: 100%|██████████| 5/5 [00:00<00:00, 28.26it/s]\n"
     ]
    },
    {
     "name": "stdout",
     "output_type": "stream",
     "text": [
      "Starting epoch: 0 | phase: valid | ⏰: 13:55:51 \n"
     ]
    },
    {
     "name": "stderr",
     "output_type": "stream",
     "text": [
      ": 100%|██████████| 1/1 [00:00<00:00, 59.08it/s]\n"
     ]
    },
    {
     "name": "stdout",
     "output_type": "stream",
     "text": [
      "Validation loss: 1.3305429220199585\n",
      "Client  3\n",
      "File ../data/hdfs/hdfs_train, number of sessions 971\n",
      "File ../data/hdfs/hdfs_train, number of seqs 9267\n",
      "sampling...\n"
     ]
    },
    {
     "name": "stderr",
     "output_type": "stream",
     "text": [
      "100%|██████████| 1057/1057 [00:00<00:00, 3537.07it/s]\n"
     ]
    },
    {
     "name": "stdout",
     "output_type": "stream",
     "text": [
      "File ../data/hdfs/hdfs_test_normal, number of sessions 110673\n",
      "File ../data/hdfs/hdfs_test_normal, number of seqs 1057\n",
      "Find 9267 train logs, 1057 validation logs\n",
      "Train batch size 2048 ,Validation batch size 2048\n",
      "Starting epoch: 0 | phase: train | ⏰: 13:56:03 | Learning rate: 0.000313\n"
     ]
    },
    {
     "name": "stderr",
     "output_type": "stream",
     "text": [
      "Train loss: 1.36371: 100%|██████████| 5/5 [00:00<00:00, 29.14it/s]\n"
     ]
    },
    {
     "name": "stdout",
     "output_type": "stream",
     "text": [
      "Starting epoch: 0 | phase: valid | ⏰: 13:56:03 \n"
     ]
    },
    {
     "name": "stderr",
     "output_type": "stream",
     "text": [
      ": 100%|██████████| 1/1 [00:00<00:00, 57.10it/s]\n"
     ]
    },
    {
     "name": "stdout",
     "output_type": "stream",
     "text": [
      "Validation loss: 1.3299267292022705\n",
      "Client  4\n",
      "File ../data/hdfs/hdfs_train, number of sessions 971\n",
      "File ../data/hdfs/hdfs_train, number of seqs 9323\n",
      "sampling...\n"
     ]
    },
    {
     "name": "stderr",
     "output_type": "stream",
     "text": [
      "100%|██████████| 1044/1044 [00:00<00:00, 3594.69it/s]\n"
     ]
    },
    {
     "name": "stdout",
     "output_type": "stream",
     "text": [
      "File ../data/hdfs/hdfs_test_normal, number of sessions 110673\n",
      "File ../data/hdfs/hdfs_test_normal, number of seqs 1044\n",
      "Find 9323 train logs, 1044 validation logs\n",
      "Train batch size 2048 ,Validation batch size 2048\n",
      "Starting epoch: 0 | phase: train | ⏰: 13:56:14 | Learning rate: 0.000313\n"
     ]
    },
    {
     "name": "stderr",
     "output_type": "stream",
     "text": [
      "Train loss: 1.37616: 100%|██████████| 5/5 [00:00<00:00, 29.28it/s]\n"
     ]
    },
    {
     "name": "stdout",
     "output_type": "stream",
     "text": [
      "Starting epoch: 0 | phase: valid | ⏰: 13:56:14 \n"
     ]
    },
    {
     "name": "stderr",
     "output_type": "stream",
     "text": [
      ": 100%|██████████| 1/1 [00:00<00:00, 58.50it/s]\n"
     ]
    },
    {
     "name": "stdout",
     "output_type": "stream",
     "text": [
      "Validation loss: 1.3251162767410278\n",
      "============ Test epoch 29 ============\n",
      "Client  0\n",
      "Number of sessions(hdfs_test_normal): 5813\n",
      "Number of sessions(hdfs_test_abnormal): 1136\n"
     ]
    },
    {
     "name": "stderr",
     "output_type": "stream",
     "text": [
      "100%|██████████| 5813/5813 [03:54<00:00, 24.82it/s]\n",
      "100%|██████████| 1136/1136 [00:25<00:00, 45.11it/s]\n"
     ]
    },
    {
     "name": "stdout",
     "output_type": "stream",
     "text": [
      "false positive (FP): 485, false negative (FN): 24, Precision: 87.330%, Recall: 99.287%, F1-measure: 92.926%\n",
      "actual positive (TP+FN): 3367, actual negative (FP+TN): 110673\n",
      "accuracy: 99.554\n",
      "Finished Predicting\n",
      "elapsed_time: 259.43391847610474\n",
      "Client  1\n",
      "Number of sessions(hdfs_test_normal): 5574\n",
      "Number of sessions(hdfs_test_abnormal): 1139\n"
     ]
    },
    {
     "name": "stderr",
     "output_type": "stream",
     "text": [
      "100%|██████████| 5574/5574 [03:29<00:00, 26.63it/s]\n",
      "100%|██████████| 1139/1139 [00:25<00:00, 45.39it/s]\n"
     ]
    },
    {
     "name": "stdout",
     "output_type": "stream",
     "text": [
      "false positive (FP): 524, false negative (FN): 26, Precision: 86.442%, Recall: 99.228%, F1-measure: 92.395%\n",
      "actual positive (TP+FN): 3367, actual negative (FP+TN): 110673\n",
      "accuracy: 99.518\n",
      "Finished Predicting\n",
      "elapsed_time: 234.3769645690918\n",
      "Client  2\n",
      "Number of sessions(hdfs_test_normal): 5730\n",
      "Number of sessions(hdfs_test_abnormal): 1118\n"
     ]
    },
    {
     "name": "stderr",
     "output_type": "stream",
     "text": [
      "100%|██████████| 5730/5730 [04:05<00:00, 23.35it/s]\n",
      "100%|██████████| 1118/1118 [00:26<00:00, 42.78it/s]\n"
     ]
    },
    {
     "name": "stdout",
     "output_type": "stream",
     "text": [
      "false positive (FP): 462, false negative (FN): 31, Precision: 87.836%, Recall: 99.079%, F1-measure: 93.119%\n",
      "actual positive (TP+FN): 3367, actual negative (FP+TN): 110673\n",
      "accuracy: 99.568\n",
      "Finished Predicting\n",
      "elapsed_time: 271.49957609176636\n",
      "Client  3\n",
      "Number of sessions(hdfs_test_normal): 5747\n",
      "Number of sessions(hdfs_test_abnormal): 1159\n"
     ]
    },
    {
     "name": "stderr",
     "output_type": "stream",
     "text": [
      "100%|██████████| 5747/5747 [04:05<00:00, 23.41it/s]\n",
      "100%|██████████| 1159/1159 [00:27<00:00, 42.44it/s]\n"
     ]
    },
    {
     "name": "stdout",
     "output_type": "stream",
     "text": [
      "false positive (FP): 446, false negative (FN): 29, Precision: 88.214%, Recall: 99.139%, F1-measure: 93.358%\n",
      "actual positive (TP+FN): 3367, actual negative (FP+TN): 110673\n",
      "accuracy: 99.583\n",
      "Finished Predicting\n",
      "elapsed_time: 272.7678472995758\n",
      "Client  4\n",
      "Number of sessions(hdfs_test_normal): 5623\n",
      "Number of sessions(hdfs_test_abnormal): 1121\n"
     ]
    },
    {
     "name": "stderr",
     "output_type": "stream",
     "text": [
      "100%|██████████| 5623/5623 [03:57<00:00, 23.63it/s]\n",
      "100%|██████████| 1121/1121 [00:25<00:00, 43.44it/s]\n"
     ]
    },
    {
     "name": "stdout",
     "output_type": "stream",
     "text": [
      "false positive (FP): 522, false negative (FN): 32, Precision: 86.466%, Recall: 99.050%, F1-measure: 92.331%\n",
      "actual positive (TP+FN): 3367, actual negative (FP+TN): 110673\n",
      "accuracy: 99.514\n",
      "Finished Predicting\n",
      "elapsed_time: 263.72580218315125\n",
      "============ Train epoch 30 ============\n",
      "Client  0\n",
      "File ../data/hdfs/hdfs_train, number of sessions 971\n",
      "File ../data/hdfs/hdfs_train, number of seqs 9420\n",
      "sampling...\n"
     ]
    },
    {
     "name": "stderr",
     "output_type": "stream",
     "text": [
      "100%|██████████| 1058/1058 [00:00<00:00, 3427.55it/s]\n"
     ]
    },
    {
     "name": "stdout",
     "output_type": "stream",
     "text": [
      "File ../data/hdfs/hdfs_test_normal, number of sessions 110673\n",
      "File ../data/hdfs/hdfs_test_normal, number of seqs 1058\n",
      "Find 9420 train logs, 1058 validation logs\n",
      "Train batch size 2048 ,Validation batch size 2048\n",
      "Starting epoch: 0 | phase: train | ⏰: 14:18:11 | Learning rate: 0.000313\n"
     ]
    },
    {
     "name": "stderr",
     "output_type": "stream",
     "text": [
      "Train loss: 1.32708: 100%|██████████| 5/5 [00:00<00:00, 28.43it/s]\n"
     ]
    },
    {
     "name": "stdout",
     "output_type": "stream",
     "text": [
      "Starting epoch: 0 | phase: valid | ⏰: 14:18:11 \n"
     ]
    },
    {
     "name": "stderr",
     "output_type": "stream",
     "text": [
      ": 100%|██████████| 1/1 [00:00<00:00, 56.67it/s]\n"
     ]
    },
    {
     "name": "stdout",
     "output_type": "stream",
     "text": [
      "Validation loss: 1.3139488697052002\n",
      "Client  1\n",
      "File ../data/hdfs/hdfs_train, number of sessions 971\n",
      "File ../data/hdfs/hdfs_train, number of seqs 9080\n",
      "sampling...\n"
     ]
    },
    {
     "name": "stderr",
     "output_type": "stream",
     "text": [
      "100%|██████████| 1046/1046 [00:00<00:00, 3565.26it/s]\n"
     ]
    },
    {
     "name": "stdout",
     "output_type": "stream",
     "text": [
      "File ../data/hdfs/hdfs_test_normal, number of sessions 110673\n",
      "File ../data/hdfs/hdfs_test_normal, number of seqs 1046\n",
      "Find 9080 train logs, 1046 validation logs\n",
      "Train batch size 2048 ,Validation batch size 2048\n",
      "Starting epoch: 0 | phase: train | ⏰: 14:18:23 | Learning rate: 0.000313\n"
     ]
    },
    {
     "name": "stderr",
     "output_type": "stream",
     "text": [
      "Train loss: 1.34248: 100%|██████████| 5/5 [00:00<00:00, 30.06it/s]\n"
     ]
    },
    {
     "name": "stdout",
     "output_type": "stream",
     "text": [
      "Starting epoch: 0 | phase: valid | ⏰: 14:18:23 \n"
     ]
    },
    {
     "name": "stderr",
     "output_type": "stream",
     "text": [
      ": 100%|██████████| 1/1 [00:00<00:00, 57.04it/s]\n"
     ]
    },
    {
     "name": "stdout",
     "output_type": "stream",
     "text": [
      "Validation loss: 1.2466572523117065\n",
      "Client  2\n",
      "File ../data/hdfs/hdfs_train, number of sessions 971\n",
      "File ../data/hdfs/hdfs_train, number of seqs 9485\n",
      "sampling...\n"
     ]
    },
    {
     "name": "stderr",
     "output_type": "stream",
     "text": [
      "100%|██████████| 1051/1051 [00:00<00:00, 3575.31it/s]\n"
     ]
    },
    {
     "name": "stdout",
     "output_type": "stream",
     "text": [
      "File ../data/hdfs/hdfs_test_normal, number of sessions 110673\n",
      "File ../data/hdfs/hdfs_test_normal, number of seqs 1051\n",
      "Find 9485 train logs, 1051 validation logs\n",
      "Train batch size 2048 ,Validation batch size 2048\n",
      "Starting epoch: 0 | phase: train | ⏰: 14:18:34 | Learning rate: 0.000313\n"
     ]
    },
    {
     "name": "stderr",
     "output_type": "stream",
     "text": [
      "Train loss: 1.34868: 100%|██████████| 5/5 [00:00<00:00, 28.77it/s]\n"
     ]
    },
    {
     "name": "stdout",
     "output_type": "stream",
     "text": [
      "Starting epoch: 0 | phase: valid | ⏰: 14:18:35 \n"
     ]
    },
    {
     "name": "stderr",
     "output_type": "stream",
     "text": [
      ": 100%|██████████| 1/1 [00:00<00:00, 59.07it/s]\n"
     ]
    },
    {
     "name": "stdout",
     "output_type": "stream",
     "text": [
      "Validation loss: 1.2928516864776611\n",
      "Client  3\n",
      "File ../data/hdfs/hdfs_train, number of sessions 971\n",
      "File ../data/hdfs/hdfs_train, number of seqs 9267\n",
      "sampling...\n"
     ]
    },
    {
     "name": "stderr",
     "output_type": "stream",
     "text": [
      "100%|██████████| 1057/1057 [00:00<00:00, 3615.58it/s]\n"
     ]
    },
    {
     "name": "stdout",
     "output_type": "stream",
     "text": [
      "File ../data/hdfs/hdfs_test_normal, number of sessions 110673\n",
      "File ../data/hdfs/hdfs_test_normal, number of seqs 1057\n",
      "Find 9267 train logs, 1057 validation logs\n",
      "Train batch size 2048 ,Validation batch size 2048\n",
      "Starting epoch: 0 | phase: train | ⏰: 14:18:46 | Learning rate: 0.000313\n"
     ]
    },
    {
     "name": "stderr",
     "output_type": "stream",
     "text": [
      "Train loss: 1.32420: 100%|██████████| 5/5 [00:00<00:00, 28.32it/s]\n"
     ]
    },
    {
     "name": "stdout",
     "output_type": "stream",
     "text": [
      "Starting epoch: 0 | phase: valid | ⏰: 14:18:46 \n"
     ]
    },
    {
     "name": "stderr",
     "output_type": "stream",
     "text": [
      ": 100%|██████████| 1/1 [00:00<00:00, 39.54it/s]\n"
     ]
    },
    {
     "name": "stdout",
     "output_type": "stream",
     "text": [
      "Validation loss: 1.267744541168213\n",
      "Client  4\n",
      "File ../data/hdfs/hdfs_train, number of sessions 971\n",
      "File ../data/hdfs/hdfs_train, number of seqs 9323\n",
      "sampling...\n"
     ]
    },
    {
     "name": "stderr",
     "output_type": "stream",
     "text": [
      "100%|██████████| 1044/1044 [00:00<00:00, 3619.79it/s]\n"
     ]
    },
    {
     "name": "stdout",
     "output_type": "stream",
     "text": [
      "File ../data/hdfs/hdfs_test_normal, number of sessions 110673\n",
      "File ../data/hdfs/hdfs_test_normal, number of seqs 1044\n",
      "Find 9323 train logs, 1044 validation logs\n",
      "Train batch size 2048 ,Validation batch size 2048\n",
      "Starting epoch: 0 | phase: train | ⏰: 14:18:58 | Learning rate: 0.000313\n"
     ]
    },
    {
     "name": "stderr",
     "output_type": "stream",
     "text": [
      "Train loss: 1.33922: 100%|██████████| 5/5 [00:00<00:00, 28.66it/s]\n"
     ]
    },
    {
     "name": "stdout",
     "output_type": "stream",
     "text": [
      "Starting epoch: 0 | phase: valid | ⏰: 14:18:58 \n"
     ]
    },
    {
     "name": "stderr",
     "output_type": "stream",
     "text": [
      ": 100%|██████████| 1/1 [00:00<00:00, 58.23it/s]\n"
     ]
    },
    {
     "name": "stdout",
     "output_type": "stream",
     "text": [
      "Validation loss: 1.2982083559036255\n",
      "============ Test epoch 30 ============\n",
      "Client  0\n",
      "Number of sessions(hdfs_test_normal): 5813\n",
      "Number of sessions(hdfs_test_abnormal): 1136\n"
     ]
    },
    {
     "name": "stderr",
     "output_type": "stream",
     "text": [
      "100%|██████████| 5813/5813 [03:53<00:00, 24.89it/s]\n",
      "100%|██████████| 1136/1136 [00:25<00:00, 44.63it/s]\n"
     ]
    },
    {
     "name": "stdout",
     "output_type": "stream",
     "text": [
      "false positive (FP): 485, false negative (FN): 24, Precision: 87.330%, Recall: 99.287%, F1-measure: 92.926%\n",
      "actual positive (TP+FN): 3367, actual negative (FP+TN): 110673\n",
      "accuracy: 99.554\n",
      "Finished Predicting\n",
      "elapsed_time: 258.9611220359802\n",
      "Client  1\n",
      "Number of sessions(hdfs_test_normal): 5574\n",
      "Number of sessions(hdfs_test_abnormal): 1139\n"
     ]
    },
    {
     "name": "stderr",
     "output_type": "stream",
     "text": [
      "100%|██████████| 5574/5574 [03:25<00:00, 27.09it/s]\n",
      "100%|██████████| 1139/1139 [00:26<00:00, 42.87it/s]\n"
     ]
    },
    {
     "name": "stdout",
     "output_type": "stream",
     "text": [
      "false positive (FP): 522, false negative (FN): 26, Precision: 86.487%, Recall: 99.228%, F1-measure: 92.420%\n",
      "actual positive (TP+FN): 3367, actual negative (FP+TN): 110673\n",
      "accuracy: 99.519\n",
      "Finished Predicting\n",
      "elapsed_time: 232.32477259635925\n",
      "Client  2\n",
      "Number of sessions(hdfs_test_normal): 5730\n",
      "Number of sessions(hdfs_test_abnormal): 1118\n"
     ]
    },
    {
     "name": "stderr",
     "output_type": "stream",
     "text": [
      "100%|██████████| 5730/5730 [04:04<00:00, 23.39it/s]\n",
      "100%|██████████| 1118/1118 [00:26<00:00, 42.46it/s]\n"
     ]
    },
    {
     "name": "stdout",
     "output_type": "stream",
     "text": [
      "false positive (FP): 462, false negative (FN): 31, Precision: 87.836%, Recall: 99.079%, F1-measure: 93.119%\n",
      "actual positive (TP+FN): 3367, actual negative (FP+TN): 110673\n",
      "accuracy: 99.568\n",
      "Finished Predicting\n",
      "elapsed_time: 271.3128798007965\n",
      "Client  3\n",
      "Number of sessions(hdfs_test_normal): 5747\n",
      "Number of sessions(hdfs_test_abnormal): 1159\n"
     ]
    },
    {
     "name": "stderr",
     "output_type": "stream",
     "text": [
      "100%|██████████| 5747/5747 [04:05<00:00, 23.38it/s]\n",
      "100%|██████████| 1159/1159 [00:27<00:00, 41.79it/s]\n"
     ]
    },
    {
     "name": "stdout",
     "output_type": "stream",
     "text": [
      "false positive (FP): 444, false negative (FN): 29, Precision: 88.260%, Recall: 99.139%, F1-measure: 93.384%\n",
      "actual positive (TP+FN): 3367, actual negative (FP+TN): 110673\n",
      "accuracy: 99.585\n",
      "Finished Predicting\n",
      "elapsed_time: 273.4995393753052\n",
      "Client  4\n",
      "Number of sessions(hdfs_test_normal): 5623\n",
      "Number of sessions(hdfs_test_abnormal): 1121\n"
     ]
    },
    {
     "name": "stderr",
     "output_type": "stream",
     "text": [
      "100%|██████████| 5623/5623 [03:56<00:00, 23.74it/s]\n",
      "100%|██████████| 1121/1121 [00:26<00:00, 42.87it/s]\n"
     ]
    },
    {
     "name": "stdout",
     "output_type": "stream",
     "text": [
      "false positive (FP): 521, false negative (FN): 32, Precision: 86.489%, Recall: 99.050%, F1-measure: 92.344%\n",
      "actual positive (TP+FN): 3367, actual negative (FP+TN): 110673\n",
      "accuracy: 99.515\n",
      "Finished Predicting\n",
      "elapsed_time: 262.9720928668976\n",
      "============ Train epoch 31 ============\n",
      "Client  0\n",
      "File ../data/hdfs/hdfs_train, number of sessions 971\n",
      "File ../data/hdfs/hdfs_train, number of seqs 9420\n",
      "sampling...\n"
     ]
    },
    {
     "name": "stderr",
     "output_type": "stream",
     "text": [
      "100%|██████████| 1058/1058 [00:00<00:00, 3589.83it/s]\n"
     ]
    },
    {
     "name": "stdout",
     "output_type": "stream",
     "text": [
      "File ../data/hdfs/hdfs_test_normal, number of sessions 110673\n",
      "File ../data/hdfs/hdfs_test_normal, number of seqs 1058\n",
      "Find 9420 train logs, 1058 validation logs\n",
      "Train batch size 2048 ,Validation batch size 2048\n",
      "Starting epoch: 0 | phase: train | ⏰: 14:40:52 | Learning rate: 0.000313\n"
     ]
    },
    {
     "name": "stderr",
     "output_type": "stream",
     "text": [
      "Train loss: 1.29154: 100%|██████████| 5/5 [00:00<00:00, 27.40it/s]\n"
     ]
    },
    {
     "name": "stdout",
     "output_type": "stream",
     "text": [
      "Starting epoch: 0 | phase: valid | ⏰: 14:40:52 \n"
     ]
    },
    {
     "name": "stderr",
     "output_type": "stream",
     "text": [
      ": 100%|██████████| 1/1 [00:00<00:00, 56.07it/s]\n"
     ]
    },
    {
     "name": "stdout",
     "output_type": "stream",
     "text": [
      "Validation loss: 1.247790813446045\n",
      "Client  1\n",
      "File ../data/hdfs/hdfs_train, number of sessions 971\n",
      "File ../data/hdfs/hdfs_train, number of seqs 9080\n",
      "sampling...\n"
     ]
    },
    {
     "name": "stderr",
     "output_type": "stream",
     "text": [
      "100%|██████████| 1046/1046 [00:00<00:00, 3645.81it/s]\n"
     ]
    },
    {
     "name": "stdout",
     "output_type": "stream",
     "text": [
      "File ../data/hdfs/hdfs_test_normal, number of sessions 110673\n",
      "File ../data/hdfs/hdfs_test_normal, number of seqs 1046\n",
      "Find 9080 train logs, 1046 validation logs\n",
      "Train batch size 2048 ,Validation batch size 2048\n",
      "Starting epoch: 0 | phase: train | ⏰: 14:41:04 | Learning rate: 0.000313\n"
     ]
    },
    {
     "name": "stderr",
     "output_type": "stream",
     "text": [
      "Train loss: 1.31572: 100%|██████████| 5/5 [00:00<00:00, 29.08it/s]\n"
     ]
    },
    {
     "name": "stdout",
     "output_type": "stream",
     "text": [
      "Starting epoch: 0 | phase: valid | ⏰: 14:41:04 \n"
     ]
    },
    {
     "name": "stderr",
     "output_type": "stream",
     "text": [
      ": 100%|██████████| 1/1 [00:00<00:00, 56.26it/s]\n"
     ]
    },
    {
     "name": "stdout",
     "output_type": "stream",
     "text": [
      "Validation loss: 1.283709168434143\n",
      "Client  2\n",
      "File ../data/hdfs/hdfs_train, number of sessions 971\n",
      "File ../data/hdfs/hdfs_train, number of seqs 9485\n",
      "sampling...\n"
     ]
    },
    {
     "name": "stderr",
     "output_type": "stream",
     "text": [
      "100%|██████████| 1051/1051 [00:00<00:00, 3541.93it/s]\n"
     ]
    },
    {
     "name": "stdout",
     "output_type": "stream",
     "text": [
      "File ../data/hdfs/hdfs_test_normal, number of sessions 110673\n",
      "File ../data/hdfs/hdfs_test_normal, number of seqs 1051\n",
      "Find 9485 train logs, 1051 validation logs\n",
      "Train batch size 2048 ,Validation batch size 2048\n",
      "Starting epoch: 0 | phase: train | ⏰: 14:41:16 | Learning rate: 0.000313\n"
     ]
    },
    {
     "name": "stderr",
     "output_type": "stream",
     "text": [
      "Train loss: 1.30872: 100%|██████████| 5/5 [00:00<00:00, 27.91it/s]\n"
     ]
    },
    {
     "name": "stdout",
     "output_type": "stream",
     "text": [
      "Starting epoch: 0 | phase: valid | ⏰: 14:41:16 \n"
     ]
    },
    {
     "name": "stderr",
     "output_type": "stream",
     "text": [
      ": 100%|██████████| 1/1 [00:00<00:00, 57.93it/s]\n"
     ]
    },
    {
     "name": "stdout",
     "output_type": "stream",
     "text": [
      "Validation loss: 1.2970038652420044\n",
      "Client  3\n",
      "File ../data/hdfs/hdfs_train, number of sessions 971\n",
      "File ../data/hdfs/hdfs_train, number of seqs 9267\n",
      "sampling...\n"
     ]
    },
    {
     "name": "stderr",
     "output_type": "stream",
     "text": [
      "100%|██████████| 1057/1057 [00:00<00:00, 3503.14it/s]\n"
     ]
    },
    {
     "name": "stdout",
     "output_type": "stream",
     "text": [
      "File ../data/hdfs/hdfs_test_normal, number of sessions 110673\n",
      "File ../data/hdfs/hdfs_test_normal, number of seqs 1057\n",
      "Find 9267 train logs, 1057 validation logs\n",
      "Train batch size 2048 ,Validation batch size 2048\n",
      "Starting epoch: 0 | phase: train | ⏰: 14:41:27 | Learning rate: 0.000313\n"
     ]
    },
    {
     "name": "stderr",
     "output_type": "stream",
     "text": [
      "Train loss: 1.28697: 100%|██████████| 5/5 [00:00<00:00, 28.25it/s]\n"
     ]
    },
    {
     "name": "stdout",
     "output_type": "stream",
     "text": [
      "Starting epoch: 0 | phase: valid | ⏰: 14:41:28 \n"
     ]
    },
    {
     "name": "stderr",
     "output_type": "stream",
     "text": [
      ": 100%|██████████| 1/1 [00:00<00:00, 58.83it/s]\n"
     ]
    },
    {
     "name": "stdout",
     "output_type": "stream",
     "text": [
      "Validation loss: 1.2114317417144775\n",
      "Client  4\n",
      "File ../data/hdfs/hdfs_train, number of sessions 971\n",
      "File ../data/hdfs/hdfs_train, number of seqs 9323\n",
      "sampling...\n"
     ]
    },
    {
     "name": "stderr",
     "output_type": "stream",
     "text": [
      "100%|██████████| 1044/1044 [00:00<00:00, 3530.95it/s]\n"
     ]
    },
    {
     "name": "stdout",
     "output_type": "stream",
     "text": [
      "File ../data/hdfs/hdfs_test_normal, number of sessions 110673\n",
      "File ../data/hdfs/hdfs_test_normal, number of seqs 1044\n",
      "Find 9323 train logs, 1044 validation logs\n",
      "Train batch size 2048 ,Validation batch size 2048\n",
      "Starting epoch: 0 | phase: train | ⏰: 14:41:39 | Learning rate: 0.000313\n"
     ]
    },
    {
     "name": "stderr",
     "output_type": "stream",
     "text": [
      "Train loss: 1.30319: 100%|██████████| 5/5 [00:00<00:00, 28.25it/s]\n"
     ]
    },
    {
     "name": "stdout",
     "output_type": "stream",
     "text": [
      "Starting epoch: 0 | phase: valid | ⏰: 14:41:39 \n"
     ]
    },
    {
     "name": "stderr",
     "output_type": "stream",
     "text": [
      ": 100%|██████████| 1/1 [00:00<00:00, 59.85it/s]\n"
     ]
    },
    {
     "name": "stdout",
     "output_type": "stream",
     "text": [
      "Validation loss: 1.2665482759475708\n",
      "============ Test epoch 31 ============\n",
      "Client  0\n",
      "Number of sessions(hdfs_test_normal): 5813\n",
      "Number of sessions(hdfs_test_abnormal): 1136\n"
     ]
    },
    {
     "name": "stderr",
     "output_type": "stream",
     "text": [
      "100%|██████████| 5813/5813 [03:53<00:00, 24.84it/s]\n",
      "100%|██████████| 1136/1136 [00:25<00:00, 44.83it/s]\n"
     ]
    },
    {
     "name": "stdout",
     "output_type": "stream",
     "text": [
      "false positive (FP): 486, false negative (FN): 24, Precision: 87.307%, Recall: 99.287%, F1-measure: 92.913%\n",
      "actual positive (TP+FN): 3367, actual negative (FP+TN): 110673\n",
      "accuracy: 99.553\n",
      "Finished Predicting\n",
      "elapsed_time: 259.3292920589447\n",
      "Client  1\n",
      "Number of sessions(hdfs_test_normal): 5574\n",
      "Number of sessions(hdfs_test_abnormal): 1139\n"
     ]
    },
    {
     "name": "stderr",
     "output_type": "stream",
     "text": [
      "100%|██████████| 5574/5574 [03:26<00:00, 27.00it/s]\n",
      "100%|██████████| 1139/1139 [00:26<00:00, 42.95it/s]\n"
     ]
    },
    {
     "name": "stdout",
     "output_type": "stream",
     "text": [
      "false positive (FP): 525, false negative (FN): 26, Precision: 86.420%, Recall: 99.228%, F1-measure: 92.382%\n",
      "actual positive (TP+FN): 3367, actual negative (FP+TN): 110673\n",
      "accuracy: 99.517\n",
      "Finished Predicting\n",
      "elapsed_time: 232.99284720420837\n",
      "Client  2\n",
      "Number of sessions(hdfs_test_normal): 5730\n",
      "Number of sessions(hdfs_test_abnormal): 1118\n"
     ]
    },
    {
     "name": "stderr",
     "output_type": "stream",
     "text": [
      "100%|██████████| 5730/5730 [04:05<00:00, 23.36it/s]\n",
      "100%|██████████| 1118/1118 [00:26<00:00, 42.72it/s]\n"
     ]
    },
    {
     "name": "stdout",
     "output_type": "stream",
     "text": [
      "false positive (FP): 462, false negative (FN): 31, Precision: 87.836%, Recall: 99.079%, F1-measure: 93.119%\n",
      "actual positive (TP+FN): 3367, actual negative (FP+TN): 110673\n",
      "accuracy: 99.568\n",
      "Finished Predicting\n",
      "elapsed_time: 271.43956089019775\n",
      "Client  3\n",
      "Number of sessions(hdfs_test_normal): 5747\n",
      "Number of sessions(hdfs_test_abnormal): 1159\n"
     ]
    },
    {
     "name": "stderr",
     "output_type": "stream",
     "text": [
      "100%|██████████| 5747/5747 [04:05<00:00, 23.39it/s]\n",
      "100%|██████████| 1159/1159 [00:27<00:00, 41.81it/s]\n"
     ]
    },
    {
     "name": "stdout",
     "output_type": "stream",
     "text": [
      "false positive (FP): 447, false negative (FN): 29, Precision: 88.190%, Recall: 99.139%, F1-measure: 93.345%\n",
      "actual positive (TP+FN): 3367, actual negative (FP+TN): 110673\n",
      "accuracy: 99.583\n",
      "Finished Predicting\n",
      "elapsed_time: 273.45821022987366\n",
      "Client  4\n",
      "Number of sessions(hdfs_test_normal): 5623\n",
      "Number of sessions(hdfs_test_abnormal): 1121\n"
     ]
    },
    {
     "name": "stderr",
     "output_type": "stream",
     "text": [
      "100%|██████████| 5623/5623 [03:57<00:00, 23.63it/s]\n",
      "100%|██████████| 1121/1121 [00:26<00:00, 43.07it/s]\n"
     ]
    },
    {
     "name": "stdout",
     "output_type": "stream",
     "text": [
      "false positive (FP): 523, false negative (FN): 32, Precision: 86.444%, Recall: 99.050%, F1-measure: 92.318%\n",
      "actual positive (TP+FN): 3367, actual negative (FP+TN): 110673\n",
      "accuracy: 99.513\n",
      "Finished Predicting\n",
      "elapsed_time: 264.02535486221313\n",
      "============ Train epoch 32 ============\n",
      "Client  0\n",
      "File ../data/hdfs/hdfs_train, number of sessions 971\n",
      "File ../data/hdfs/hdfs_train, number of seqs 9420\n",
      "sampling...\n"
     ]
    },
    {
     "name": "stderr",
     "output_type": "stream",
     "text": [
      "100%|██████████| 1058/1058 [00:00<00:00, 3749.88it/s]\n"
     ]
    },
    {
     "name": "stdout",
     "output_type": "stream",
     "text": [
      "File ../data/hdfs/hdfs_test_normal, number of sessions 110673\n",
      "File ../data/hdfs/hdfs_test_normal, number of seqs 1058\n",
      "Find 9420 train logs, 1058 validation logs\n",
      "Train batch size 2048 ,Validation batch size 2048\n",
      "Starting epoch: 0 | phase: train | ⏰: 15:03:35 | Learning rate: 0.000313\n"
     ]
    },
    {
     "name": "stderr",
     "output_type": "stream",
     "text": [
      "Train loss: 1.25042: 100%|██████████| 5/5 [00:00<00:00, 28.07it/s]\n"
     ]
    },
    {
     "name": "stdout",
     "output_type": "stream",
     "text": [
      "Starting epoch: 0 | phase: valid | ⏰: 15:03:35 \n"
     ]
    },
    {
     "name": "stderr",
     "output_type": "stream",
     "text": [
      ": 100%|██████████| 1/1 [00:00<00:00, 55.99it/s]\n"
     ]
    },
    {
     "name": "stdout",
     "output_type": "stream",
     "text": [
      "Validation loss: 1.2905752658843994\n",
      "Client  1\n",
      "File ../data/hdfs/hdfs_train, number of sessions 971\n",
      "File ../data/hdfs/hdfs_train, number of seqs 9080\n",
      "sampling...\n"
     ]
    },
    {
     "name": "stderr",
     "output_type": "stream",
     "text": [
      "100%|██████████| 1046/1046 [00:00<00:00, 3674.72it/s]\n"
     ]
    },
    {
     "name": "stdout",
     "output_type": "stream",
     "text": [
      "File ../data/hdfs/hdfs_test_normal, number of sessions 110673\n",
      "File ../data/hdfs/hdfs_test_normal, number of seqs 1046\n",
      "Find 9080 train logs, 1046 validation logs\n",
      "Train batch size 2048 ,Validation batch size 2048\n",
      "Starting epoch: 0 | phase: train | ⏰: 15:03:47 | Learning rate: 0.000313\n"
     ]
    },
    {
     "name": "stderr",
     "output_type": "stream",
     "text": [
      "Train loss: 1.27473: 100%|██████████| 5/5 [00:00<00:00, 29.74it/s]\n"
     ]
    },
    {
     "name": "stdout",
     "output_type": "stream",
     "text": [
      "Starting epoch: 0 | phase: valid | ⏰: 15:03:47 \n"
     ]
    },
    {
     "name": "stderr",
     "output_type": "stream",
     "text": [
      ": 100%|██████████| 1/1 [00:00<00:00, 57.43it/s]\n"
     ]
    },
    {
     "name": "stdout",
     "output_type": "stream",
     "text": [
      "Validation loss: 1.1804217100143433\n",
      "Client  2\n",
      "File ../data/hdfs/hdfs_train, number of sessions 971\n",
      "File ../data/hdfs/hdfs_train, number of seqs 9485\n",
      "sampling...\n"
     ]
    },
    {
     "name": "stderr",
     "output_type": "stream",
     "text": [
      "100%|██████████| 1051/1051 [00:00<00:00, 3483.73it/s]\n"
     ]
    },
    {
     "name": "stdout",
     "output_type": "stream",
     "text": [
      "File ../data/hdfs/hdfs_test_normal, number of sessions 110673\n",
      "File ../data/hdfs/hdfs_test_normal, number of seqs 1051\n",
      "Find 9485 train logs, 1051 validation logs\n",
      "Train batch size 2048 ,Validation batch size 2048\n",
      "Starting epoch: 0 | phase: train | ⏰: 15:03:59 | Learning rate: 0.000313\n"
     ]
    },
    {
     "name": "stderr",
     "output_type": "stream",
     "text": [
      "Train loss: 1.27636: 100%|██████████| 5/5 [00:00<00:00, 28.61it/s]\n"
     ]
    },
    {
     "name": "stdout",
     "output_type": "stream",
     "text": [
      "Starting epoch: 0 | phase: valid | ⏰: 15:03:59 \n"
     ]
    },
    {
     "name": "stderr",
     "output_type": "stream",
     "text": [
      ": 100%|██████████| 1/1 [00:00<00:00, 57.04it/s]\n"
     ]
    },
    {
     "name": "stdout",
     "output_type": "stream",
     "text": [
      "Validation loss: 1.2247898578643799\n",
      "Client  3\n",
      "File ../data/hdfs/hdfs_train, number of sessions 971\n",
      "File ../data/hdfs/hdfs_train, number of seqs 9267\n",
      "sampling...\n"
     ]
    },
    {
     "name": "stderr",
     "output_type": "stream",
     "text": [
      "100%|██████████| 1057/1057 [00:00<00:00, 3444.36it/s]\n"
     ]
    },
    {
     "name": "stdout",
     "output_type": "stream",
     "text": [
      "File ../data/hdfs/hdfs_test_normal, number of sessions 110673\n",
      "File ../data/hdfs/hdfs_test_normal, number of seqs 1057\n",
      "Find 9267 train logs, 1057 validation logs\n",
      "Train batch size 2048 ,Validation batch size 2048\n",
      "Starting epoch: 0 | phase: train | ⏰: 15:04:10 | Learning rate: 0.000313\n"
     ]
    },
    {
     "name": "stderr",
     "output_type": "stream",
     "text": [
      "Train loss: 1.25433: 100%|██████████| 5/5 [00:00<00:00, 29.44it/s]\n"
     ]
    },
    {
     "name": "stdout",
     "output_type": "stream",
     "text": [
      "Starting epoch: 0 | phase: valid | ⏰: 15:04:11 \n"
     ]
    },
    {
     "name": "stderr",
     "output_type": "stream",
     "text": [
      ": 100%|██████████| 1/1 [00:00<00:00, 58.83it/s]\n"
     ]
    },
    {
     "name": "stdout",
     "output_type": "stream",
     "text": [
      "Validation loss: 1.2448862791061401\n",
      "Client  4\n",
      "File ../data/hdfs/hdfs_train, number of sessions 971\n",
      "File ../data/hdfs/hdfs_train, number of seqs 9323\n",
      "sampling...\n"
     ]
    },
    {
     "name": "stderr",
     "output_type": "stream",
     "text": [
      "100%|██████████| 1044/1044 [00:00<00:00, 3572.12it/s]\n"
     ]
    },
    {
     "name": "stdout",
     "output_type": "stream",
     "text": [
      "File ../data/hdfs/hdfs_test_normal, number of sessions 110673\n",
      "File ../data/hdfs/hdfs_test_normal, number of seqs 1044\n",
      "Find 9323 train logs, 1044 validation logs\n",
      "Train batch size 2048 ,Validation batch size 2048\n",
      "Starting epoch: 0 | phase: train | ⏰: 15:04:22 | Learning rate: 0.000313\n"
     ]
    },
    {
     "name": "stderr",
     "output_type": "stream",
     "text": [
      "Train loss: 1.26951: 100%|██████████| 5/5 [00:00<00:00, 29.90it/s]\n"
     ]
    },
    {
     "name": "stdout",
     "output_type": "stream",
     "text": [
      "Starting epoch: 0 | phase: valid | ⏰: 15:04:22 \n"
     ]
    },
    {
     "name": "stderr",
     "output_type": "stream",
     "text": [
      ": 100%|██████████| 1/1 [00:00<00:00, 59.38it/s]\n"
     ]
    },
    {
     "name": "stdout",
     "output_type": "stream",
     "text": [
      "Validation loss: 1.188023567199707\n",
      "============ Test epoch 32 ============\n",
      "Client  0\n",
      "Number of sessions(hdfs_test_normal): 5813\n",
      "Number of sessions(hdfs_test_abnormal): 1136\n"
     ]
    },
    {
     "name": "stderr",
     "output_type": "stream",
     "text": [
      "100%|██████████| 5813/5813 [03:54<00:00, 24.83it/s]\n",
      "100%|██████████| 1136/1136 [00:25<00:00, 45.30it/s]\n"
     ]
    },
    {
     "name": "stdout",
     "output_type": "stream",
     "text": [
      "false positive (FP): 490, false negative (FN): 24, Precision: 87.216%, Recall: 99.287%, F1-measure: 92.861%\n",
      "actual positive (TP+FN): 3367, actual negative (FP+TN): 110673\n",
      "accuracy: 99.549\n",
      "Finished Predicting\n",
      "elapsed_time: 259.1821024417877\n",
      "Client  1\n",
      "Number of sessions(hdfs_test_normal): 5574\n",
      "Number of sessions(hdfs_test_abnormal): 1139\n"
     ]
    },
    {
     "name": "stderr",
     "output_type": "stream",
     "text": [
      "100%|██████████| 5574/5574 [03:26<00:00, 27.00it/s]\n",
      "100%|██████████| 1139/1139 [00:26<00:00, 42.84it/s]\n"
     ]
    },
    {
     "name": "stdout",
     "output_type": "stream",
     "text": [
      "false positive (FP): 528, false negative (FN): 26, Precision: 86.353%, Recall: 99.228%, F1-measure: 92.344%\n",
      "actual positive (TP+FN): 3367, actual negative (FP+TN): 110673\n",
      "accuracy: 99.514\n",
      "Finished Predicting\n",
      "elapsed_time: 233.0275526046753\n",
      "Client  2\n",
      "Number of sessions(hdfs_test_normal): 5730\n",
      "Number of sessions(hdfs_test_abnormal): 1118\n"
     ]
    },
    {
     "name": "stderr",
     "output_type": "stream",
     "text": [
      "100%|██████████| 5730/5730 [04:04<00:00, 23.45it/s]\n",
      "100%|██████████| 1118/1118 [00:25<00:00, 43.05it/s]\n"
     ]
    },
    {
     "name": "stdout",
     "output_type": "stream",
     "text": [
      "false positive (FP): 467, false negative (FN): 31, Precision: 87.720%, Recall: 99.079%, F1-measure: 93.054%\n",
      "actual positive (TP+FN): 3367, actual negative (FP+TN): 110673\n",
      "accuracy: 99.563\n",
      "Finished Predicting\n",
      "elapsed_time: 270.3024432659149\n",
      "Client  3\n",
      "Number of sessions(hdfs_test_normal): 5747\n",
      "Number of sessions(hdfs_test_abnormal): 1159\n"
     ]
    },
    {
     "name": "stderr",
     "output_type": "stream",
     "text": [
      "100%|██████████| 5747/5747 [04:04<00:00, 23.50it/s]\n",
      "100%|██████████| 1159/1159 [00:27<00:00, 41.86it/s]\n"
     ]
    },
    {
     "name": "stdout",
     "output_type": "stream",
     "text": [
      "false positive (FP): 450, false negative (FN): 29, Precision: 88.120%, Recall: 99.139%, F1-measure: 93.305%\n",
      "actual positive (TP+FN): 3367, actual negative (FP+TN): 110673\n",
      "accuracy: 99.580\n",
      "Finished Predicting\n",
      "elapsed_time: 272.2667279243469\n",
      "Client  4\n",
      "Number of sessions(hdfs_test_normal): 5623\n",
      "Number of sessions(hdfs_test_abnormal): 1121\n"
     ]
    },
    {
     "name": "stderr",
     "output_type": "stream",
     "text": [
      "100%|██████████| 5623/5623 [03:58<00:00, 23.61it/s]\n",
      "100%|██████████| 1121/1121 [00:25<00:00, 43.19it/s]\n"
     ]
    },
    {
     "name": "stdout",
     "output_type": "stream",
     "text": [
      "false positive (FP): 525, false negative (FN): 32, Precision: 86.399%, Recall: 99.050%, F1-measure: 92.293%\n",
      "actual positive (TP+FN): 3367, actual negative (FP+TN): 110673\n",
      "accuracy: 99.512\n",
      "Finished Predicting\n",
      "elapsed_time: 264.16110730171204\n",
      "============ Train epoch 33 ============\n",
      "Client  0\n",
      "File ../data/hdfs/hdfs_train, number of sessions 971\n",
      "File ../data/hdfs/hdfs_train, number of seqs 9420\n",
      "sampling...\n"
     ]
    },
    {
     "name": "stderr",
     "output_type": "stream",
     "text": [
      "100%|██████████| 1058/1058 [00:00<00:00, 3598.80it/s]\n"
     ]
    },
    {
     "name": "stdout",
     "output_type": "stream",
     "text": [
      "File ../data/hdfs/hdfs_test_normal, number of sessions 110673\n",
      "File ../data/hdfs/hdfs_test_normal, number of seqs 1058\n",
      "Find 9420 train logs, 1058 validation logs\n",
      "Train batch size 2048 ,Validation batch size 2048\n",
      "Starting epoch: 0 | phase: train | ⏰: 15:26:16 | Learning rate: 0.000313\n"
     ]
    },
    {
     "name": "stderr",
     "output_type": "stream",
     "text": [
      "Train loss: 1.21938: 100%|██████████| 5/5 [00:00<00:00, 27.73it/s]\n"
     ]
    },
    {
     "name": "stdout",
     "output_type": "stream",
     "text": [
      "Starting epoch: 0 | phase: valid | ⏰: 15:26:16 \n"
     ]
    },
    {
     "name": "stderr",
     "output_type": "stream",
     "text": [
      ": 100%|██████████| 1/1 [00:00<00:00, 53.69it/s]\n"
     ]
    },
    {
     "name": "stdout",
     "output_type": "stream",
     "text": [
      "Validation loss: 1.219135046005249\n",
      "Client  1\n",
      "File ../data/hdfs/hdfs_train, number of sessions 971\n",
      "File ../data/hdfs/hdfs_train, number of seqs 9080\n",
      "sampling...\n"
     ]
    },
    {
     "name": "stderr",
     "output_type": "stream",
     "text": [
      "100%|██████████| 1046/1046 [00:00<00:00, 3555.36it/s]\n"
     ]
    },
    {
     "name": "stdout",
     "output_type": "stream",
     "text": [
      "File ../data/hdfs/hdfs_test_normal, number of sessions 110673\n",
      "File ../data/hdfs/hdfs_test_normal, number of seqs 1046\n",
      "Find 9080 train logs, 1046 validation logs\n",
      "Train batch size 2048 ,Validation batch size 2048\n",
      "Starting epoch: 0 | phase: train | ⏰: 15:26:27 | Learning rate: 0.000313\n"
     ]
    },
    {
     "name": "stderr",
     "output_type": "stream",
     "text": [
      "Train loss: 1.24494: 100%|██████████| 5/5 [00:00<00:00, 28.20it/s]\n"
     ]
    },
    {
     "name": "stdout",
     "output_type": "stream",
     "text": [
      "Starting epoch: 0 | phase: valid | ⏰: 15:26:28 \n"
     ]
    },
    {
     "name": "stderr",
     "output_type": "stream",
     "text": [
      ": 100%|██████████| 1/1 [00:00<00:00, 56.07it/s]\n"
     ]
    },
    {
     "name": "stdout",
     "output_type": "stream",
     "text": [
      "Validation loss: 1.203750491142273\n",
      "Client  2\n",
      "File ../data/hdfs/hdfs_train, number of sessions 971\n",
      "File ../data/hdfs/hdfs_train, number of seqs 9485\n",
      "sampling...\n"
     ]
    },
    {
     "name": "stderr",
     "output_type": "stream",
     "text": [
      "100%|██████████| 1051/1051 [00:00<00:00, 3556.57it/s]\n"
     ]
    },
    {
     "name": "stdout",
     "output_type": "stream",
     "text": [
      "File ../data/hdfs/hdfs_test_normal, number of sessions 110673\n",
      "File ../data/hdfs/hdfs_test_normal, number of seqs 1051\n",
      "Find 9485 train logs, 1051 validation logs\n",
      "Train batch size 2048 ,Validation batch size 2048\n",
      "Starting epoch: 0 | phase: train | ⏰: 15:26:39 | Learning rate: 0.000313\n"
     ]
    },
    {
     "name": "stderr",
     "output_type": "stream",
     "text": [
      "Train loss: 1.24209: 100%|██████████| 5/5 [00:00<00:00, 27.31it/s]\n"
     ]
    },
    {
     "name": "stdout",
     "output_type": "stream",
     "text": [
      "Starting epoch: 0 | phase: valid | ⏰: 15:26:39 \n"
     ]
    },
    {
     "name": "stderr",
     "output_type": "stream",
     "text": [
      ": 100%|██████████| 1/1 [00:00<00:00, 58.13it/s]\n"
     ]
    },
    {
     "name": "stdout",
     "output_type": "stream",
     "text": [
      "Validation loss: 1.1863305568695068\n",
      "Client  3\n",
      "File ../data/hdfs/hdfs_train, number of sessions 971\n",
      "File ../data/hdfs/hdfs_train, number of seqs 9267\n",
      "sampling...\n"
     ]
    },
    {
     "name": "stderr",
     "output_type": "stream",
     "text": [
      "100%|██████████| 1057/1057 [00:00<00:00, 3107.59it/s]\n"
     ]
    },
    {
     "name": "stdout",
     "output_type": "stream",
     "text": [
      "File ../data/hdfs/hdfs_test_normal, number of sessions 110673\n",
      "File ../data/hdfs/hdfs_test_normal, number of seqs 1057\n",
      "Find 9267 train logs, 1057 validation logs\n",
      "Train batch size 2048 ,Validation batch size 2048\n",
      "Starting epoch: 0 | phase: train | ⏰: 15:26:51 | Learning rate: 0.000313\n"
     ]
    },
    {
     "name": "stderr",
     "output_type": "stream",
     "text": [
      "Train loss: 1.22147: 100%|██████████| 5/5 [00:00<00:00, 29.87it/s]\n"
     ]
    },
    {
     "name": "stdout",
     "output_type": "stream",
     "text": [
      "Starting epoch: 0 | phase: valid | ⏰: 15:26:51 \n"
     ]
    },
    {
     "name": "stderr",
     "output_type": "stream",
     "text": [
      ": 100%|██████████| 1/1 [00:00<00:00, 59.59it/s]\n"
     ]
    },
    {
     "name": "stdout",
     "output_type": "stream",
     "text": [
      "Validation loss: 1.163540244102478\n",
      "Client  4\n",
      "File ../data/hdfs/hdfs_train, number of sessions 971\n",
      "File ../data/hdfs/hdfs_train, number of seqs 9323\n",
      "sampling...\n"
     ]
    },
    {
     "name": "stderr",
     "output_type": "stream",
     "text": [
      "100%|██████████| 1044/1044 [00:00<00:00, 3224.49it/s]\n"
     ]
    },
    {
     "name": "stdout",
     "output_type": "stream",
     "text": [
      "File ../data/hdfs/hdfs_test_normal, number of sessions 110673\n",
      "File ../data/hdfs/hdfs_test_normal, number of seqs 1044\n",
      "Find 9323 train logs, 1044 validation logs\n",
      "Train batch size 2048 ,Validation batch size 2048\n",
      "Starting epoch: 0 | phase: train | ⏰: 15:27:03 | Learning rate: 0.000313\n"
     ]
    },
    {
     "name": "stderr",
     "output_type": "stream",
     "text": [
      "Train loss: 1.23109: 100%|██████████| 5/5 [00:00<00:00, 27.71it/s]\n"
     ]
    },
    {
     "name": "stdout",
     "output_type": "stream",
     "text": [
      "Starting epoch: 0 | phase: valid | ⏰: 15:27:03 \n"
     ]
    },
    {
     "name": "stderr",
     "output_type": "stream",
     "text": [
      ": 100%|██████████| 1/1 [00:00<00:00, 55.69it/s]\n"
     ]
    },
    {
     "name": "stdout",
     "output_type": "stream",
     "text": [
      "Validation loss: 1.1809968948364258\n",
      "============ Test epoch 33 ============\n",
      "Client  0\n",
      "Number of sessions(hdfs_test_normal): 5813\n",
      "Number of sessions(hdfs_test_abnormal): 1136\n"
     ]
    },
    {
     "name": "stderr",
     "output_type": "stream",
     "text": [
      "100%|██████████| 5813/5813 [03:54<00:00, 24.77it/s]\n",
      "100%|██████████| 1136/1136 [00:20<00:00, 54.26it/s]\n"
     ]
    },
    {
     "name": "stdout",
     "output_type": "stream",
     "text": [
      "false positive (FP): 488, false negative (FN): 24, Precision: 87.262%, Recall: 99.287%, F1-measure: 92.887%\n",
      "actual positive (TP+FN): 3367, actual negative (FP+TN): 110673\n",
      "accuracy: 99.551\n",
      "Finished Predicting\n",
      "elapsed_time: 255.59048700332642\n",
      "Client  1\n",
      "Number of sessions(hdfs_test_normal): 5574\n",
      "Number of sessions(hdfs_test_abnormal): 1139\n"
     ]
    },
    {
     "name": "stderr",
     "output_type": "stream",
     "text": [
      "100%|██████████| 5574/5574 [03:30<00:00, 26.48it/s]\n",
      "100%|██████████| 1139/1139 [00:26<00:00, 42.92it/s]\n"
     ]
    },
    {
     "name": "stdout",
     "output_type": "stream",
     "text": [
      "false positive (FP): 527, false negative (FN): 26, Precision: 86.375%, Recall: 99.228%, F1-measure: 92.357%\n",
      "actual positive (TP+FN): 3367, actual negative (FP+TN): 110673\n",
      "accuracy: 99.515\n",
      "Finished Predicting\n",
      "elapsed_time: 237.04255294799805\n",
      "Client  2\n",
      "Number of sessions(hdfs_test_normal): 5730\n",
      "Number of sessions(hdfs_test_abnormal): 1118\n"
     ]
    },
    {
     "name": "stderr",
     "output_type": "stream",
     "text": [
      "100%|██████████| 5730/5730 [04:04<00:00, 23.40it/s]\n",
      "100%|██████████| 1118/1118 [00:26<00:00, 42.58it/s]\n"
     ]
    },
    {
     "name": "stdout",
     "output_type": "stream",
     "text": [
      "false positive (FP): 465, false negative (FN): 31, Precision: 87.766%, Recall: 99.079%, F1-measure: 93.080%\n",
      "actual positive (TP+FN): 3367, actual negative (FP+TN): 110673\n",
      "accuracy: 99.565\n",
      "Finished Predicting\n",
      "elapsed_time: 271.17484498023987\n",
      "Client  3\n",
      "Number of sessions(hdfs_test_normal): 5747\n",
      "Number of sessions(hdfs_test_abnormal): 1159\n"
     ]
    },
    {
     "name": "stderr",
     "output_type": "stream",
     "text": [
      "100%|██████████| 5747/5747 [04:04<00:00, 23.47it/s]\n",
      "100%|██████████| 1159/1159 [00:27<00:00, 41.98it/s]\n"
     ]
    },
    {
     "name": "stdout",
     "output_type": "stream",
     "text": [
      "false positive (FP): 448, false negative (FN): 30, Precision: 88.164%, Recall: 99.109%, F1-measure: 93.317%\n",
      "actual positive (TP+FN): 3367, actual negative (FP+TN): 110673\n",
      "accuracy: 99.581\n",
      "Finished Predicting\n",
      "elapsed_time: 272.5051052570343\n",
      "Client  4\n",
      "Number of sessions(hdfs_test_normal): 5623\n",
      "Number of sessions(hdfs_test_abnormal): 1121\n"
     ]
    },
    {
     "name": "stderr",
     "output_type": "stream",
     "text": [
      "100%|██████████| 5623/5623 [03:57<00:00, 23.65it/s]\n",
      "100%|██████████| 1121/1121 [00:26<00:00, 42.84it/s]\n"
     ]
    },
    {
     "name": "stdout",
     "output_type": "stream",
     "text": [
      "false positive (FP): 525, false negative (FN): 32, Precision: 86.399%, Recall: 99.050%, F1-measure: 92.293%\n",
      "actual positive (TP+FN): 3367, actual negative (FP+TN): 110673\n",
      "accuracy: 99.512\n",
      "Finished Predicting\n",
      "elapsed_time: 263.9188349246979\n",
      "============ Train epoch 34 ============\n",
      "Client  0\n",
      "File ../data/hdfs/hdfs_train, number of sessions 971\n",
      "File ../data/hdfs/hdfs_train, number of seqs 9420\n",
      "sampling...\n"
     ]
    },
    {
     "name": "stderr",
     "output_type": "stream",
     "text": [
      "100%|██████████| 1058/1058 [00:00<00:00, 3516.35it/s]\n"
     ]
    },
    {
     "name": "stdout",
     "output_type": "stream",
     "text": [
      "File ../data/hdfs/hdfs_test_normal, number of sessions 110673\n",
      "File ../data/hdfs/hdfs_test_normal, number of seqs 1058\n",
      "Find 9420 train logs, 1058 validation logs\n",
      "Train batch size 2048 ,Validation batch size 2048\n",
      "Starting epoch: 0 | phase: train | ⏰: 15:48:58 | Learning rate: 0.000313\n"
     ]
    },
    {
     "name": "stderr",
     "output_type": "stream",
     "text": [
      "Train loss: 1.18538: 100%|██████████| 5/5 [00:00<00:00, 28.43it/s]\n"
     ]
    },
    {
     "name": "stdout",
     "output_type": "stream",
     "text": [
      "Starting epoch: 0 | phase: valid | ⏰: 15:48:58 \n"
     ]
    },
    {
     "name": "stderr",
     "output_type": "stream",
     "text": [
      ": 100%|██████████| 1/1 [00:00<00:00, 50.76it/s]\n"
     ]
    },
    {
     "name": "stdout",
     "output_type": "stream",
     "text": [
      "Validation loss: 1.1434019804000854\n",
      "Client  1\n",
      "File ../data/hdfs/hdfs_train, number of sessions 971\n",
      "File ../data/hdfs/hdfs_train, number of seqs 9080\n",
      "sampling...\n"
     ]
    },
    {
     "name": "stderr",
     "output_type": "stream",
     "text": [
      "100%|██████████| 1046/1046 [00:00<00:00, 3449.12it/s]\n"
     ]
    },
    {
     "name": "stdout",
     "output_type": "stream",
     "text": [
      "File ../data/hdfs/hdfs_test_normal, number of sessions 110673\n",
      "File ../data/hdfs/hdfs_test_normal, number of seqs 1046\n",
      "Find 9080 train logs, 1046 validation logs\n",
      "Train batch size 2048 ,Validation batch size 2048\n",
      "Starting epoch: 0 | phase: train | ⏰: 15:49:09 | Learning rate: 0.000313\n"
     ]
    },
    {
     "name": "stderr",
     "output_type": "stream",
     "text": [
      "Train loss: 1.20842: 100%|██████████| 5/5 [00:00<00:00, 29.85it/s]\n"
     ]
    },
    {
     "name": "stdout",
     "output_type": "stream",
     "text": [
      "Starting epoch: 0 | phase: valid | ⏰: 15:49:10 \n"
     ]
    },
    {
     "name": "stderr",
     "output_type": "stream",
     "text": [
      ": 100%|██████████| 1/1 [00:00<00:00, 57.99it/s]\n"
     ]
    },
    {
     "name": "stdout",
     "output_type": "stream",
     "text": [
      "Validation loss: 1.0972093343734741\n",
      "Client  2\n",
      "File ../data/hdfs/hdfs_train, number of sessions 971\n",
      "File ../data/hdfs/hdfs_train, number of seqs 9485\n",
      "sampling...\n"
     ]
    },
    {
     "name": "stderr",
     "output_type": "stream",
     "text": [
      "100%|██████████| 1051/1051 [00:00<00:00, 3334.51it/s]\n"
     ]
    },
    {
     "name": "stdout",
     "output_type": "stream",
     "text": [
      "File ../data/hdfs/hdfs_test_normal, number of sessions 110673\n",
      "File ../data/hdfs/hdfs_test_normal, number of seqs 1051\n",
      "Find 9485 train logs, 1051 validation logs\n",
      "Train batch size 2048 ,Validation batch size 2048\n",
      "Starting epoch: 0 | phase: train | ⏰: 15:49:21 | Learning rate: 0.000313\n"
     ]
    },
    {
     "name": "stderr",
     "output_type": "stream",
     "text": [
      "Train loss: 1.21130: 100%|██████████| 5/5 [00:00<00:00, 29.20it/s]\n"
     ]
    },
    {
     "name": "stdout",
     "output_type": "stream",
     "text": [
      "Starting epoch: 0 | phase: valid | ⏰: 15:49:21 \n"
     ]
    },
    {
     "name": "stderr",
     "output_type": "stream",
     "text": [
      ": 100%|██████████| 1/1 [00:00<00:00, 59.36it/s]\n"
     ]
    },
    {
     "name": "stdout",
     "output_type": "stream",
     "text": [
      "Validation loss: 1.1347591876983643\n",
      "Client  3\n",
      "File ../data/hdfs/hdfs_train, number of sessions 971\n",
      "File ../data/hdfs/hdfs_train, number of seqs 9267\n",
      "sampling...\n"
     ]
    },
    {
     "name": "stderr",
     "output_type": "stream",
     "text": [
      "100%|██████████| 1057/1057 [00:00<00:00, 3481.80it/s]\n"
     ]
    },
    {
     "name": "stdout",
     "output_type": "stream",
     "text": [
      "File ../data/hdfs/hdfs_test_normal, number of sessions 110673\n",
      "File ../data/hdfs/hdfs_test_normal, number of seqs 1057\n",
      "Find 9267 train logs, 1057 validation logs\n",
      "Train batch size 2048 ,Validation batch size 2048\n",
      "Starting epoch: 0 | phase: train | ⏰: 15:49:33 | Learning rate: 0.000313\n"
     ]
    },
    {
     "name": "stderr",
     "output_type": "stream",
     "text": [
      "Train loss: 1.19244: 100%|██████████| 5/5 [00:00<00:00, 27.92it/s]\n"
     ]
    },
    {
     "name": "stdout",
     "output_type": "stream",
     "text": [
      "Starting epoch: 0 | phase: valid | ⏰: 15:49:33 \n"
     ]
    },
    {
     "name": "stderr",
     "output_type": "stream",
     "text": [
      ": 100%|██████████| 1/1 [00:00<00:00, 58.04it/s]\n"
     ]
    },
    {
     "name": "stdout",
     "output_type": "stream",
     "text": [
      "Validation loss: 1.1184794902801514\n",
      "Client  4\n",
      "File ../data/hdfs/hdfs_train, number of sessions 971\n",
      "File ../data/hdfs/hdfs_train, number of seqs 9323\n",
      "sampling...\n"
     ]
    },
    {
     "name": "stderr",
     "output_type": "stream",
     "text": [
      "100%|██████████| 1044/1044 [00:00<00:00, 3599.44it/s]\n"
     ]
    },
    {
     "name": "stdout",
     "output_type": "stream",
     "text": [
      "File ../data/hdfs/hdfs_test_normal, number of sessions 110673\n",
      "File ../data/hdfs/hdfs_test_normal, number of seqs 1044\n",
      "Find 9323 train logs, 1044 validation logs\n",
      "Train batch size 2048 ,Validation batch size 2048\n",
      "Starting epoch: 0 | phase: train | ⏰: 15:49:45 | Learning rate: 0.000313\n"
     ]
    },
    {
     "name": "stderr",
     "output_type": "stream",
     "text": [
      "Train loss: 1.20291: 100%|██████████| 5/5 [00:00<00:00, 30.03it/s]\n"
     ]
    },
    {
     "name": "stdout",
     "output_type": "stream",
     "text": [
      "Starting epoch: 0 | phase: valid | ⏰: 15:49:45 \n"
     ]
    },
    {
     "name": "stderr",
     "output_type": "stream",
     "text": [
      ": 100%|██████████| 1/1 [00:00<00:00, 59.21it/s]"
     ]
    },
    {
     "name": "stdout",
     "output_type": "stream",
     "text": [
      "Validation loss: 1.1416454315185547\n"
     ]
    },
    {
     "name": "stderr",
     "output_type": "stream",
     "text": [
      "\n"
     ]
    },
    {
     "name": "stdout",
     "output_type": "stream",
     "text": [
      "============ Test epoch 34 ============\n",
      "Client  0\n",
      "Number of sessions(hdfs_test_normal): 5813\n",
      "Number of sessions(hdfs_test_abnormal): 1136\n"
     ]
    },
    {
     "name": "stderr",
     "output_type": "stream",
     "text": [
      "100%|██████████| 5813/5813 [03:46<00:00, 25.67it/s]\n",
      "100%|██████████| 1136/1136 [00:17<00:00, 66.75it/s]\n"
     ]
    },
    {
     "name": "stdout",
     "output_type": "stream",
     "text": [
      "false positive (FP): 488, false negative (FN): 24, Precision: 87.262%, Recall: 99.287%, F1-measure: 92.887%\n",
      "actual positive (TP+FN): 3367, actual negative (FP+TN): 110673\n",
      "accuracy: 99.551\n",
      "Finished Predicting\n",
      "elapsed_time: 243.45156741142273\n",
      "Client  1\n",
      "Number of sessions(hdfs_test_normal): 5574\n",
      "Number of sessions(hdfs_test_abnormal): 1139\n"
     ]
    },
    {
     "name": "stderr",
     "output_type": "stream",
     "text": [
      "100%|██████████| 5574/5574 [03:43<00:00, 24.97it/s]\n",
      "100%|██████████| 1139/1139 [00:26<00:00, 43.41it/s]\n"
     ]
    },
    {
     "name": "stdout",
     "output_type": "stream",
     "text": [
      "false positive (FP): 527, false negative (FN): 26, Precision: 86.375%, Recall: 99.228%, F1-measure: 92.357%\n",
      "actual positive (TP+FN): 3367, actual negative (FP+TN): 110673\n",
      "accuracy: 99.515\n",
      "Finished Predicting\n",
      "elapsed_time: 249.4692986011505\n",
      "Client  2\n",
      "Number of sessions(hdfs_test_normal): 5730\n",
      "Number of sessions(hdfs_test_abnormal): 1118\n"
     ]
    },
    {
     "name": "stderr",
     "output_type": "stream",
     "text": [
      "100%|██████████| 5730/5730 [04:04<00:00, 23.40it/s]\n",
      "100%|██████████| 1118/1118 [00:26<00:00, 42.77it/s]\n"
     ]
    },
    {
     "name": "stdout",
     "output_type": "stream",
     "text": [
      "false positive (FP): 465, false negative (FN): 31, Precision: 87.766%, Recall: 99.079%, F1-measure: 93.080%\n",
      "actual positive (TP+FN): 3367, actual negative (FP+TN): 110673\n",
      "accuracy: 99.565\n",
      "Finished Predicting\n",
      "elapsed_time: 271.05064368247986\n",
      "Client  3\n",
      "Number of sessions(hdfs_test_normal): 5747\n",
      "Number of sessions(hdfs_test_abnormal): 1159\n"
     ]
    },
    {
     "name": "stderr",
     "output_type": "stream",
     "text": [
      "100%|██████████| 5747/5747 [04:05<00:00, 23.44it/s]\n",
      "100%|██████████| 1159/1159 [00:27<00:00, 41.97it/s]\n"
     ]
    },
    {
     "name": "stdout",
     "output_type": "stream",
     "text": [
      "false positive (FP): 448, false negative (FN): 30, Precision: 88.164%, Recall: 99.109%, F1-measure: 93.317%\n",
      "actual positive (TP+FN): 3367, actual negative (FP+TN): 110673\n",
      "accuracy: 99.581\n",
      "Finished Predicting\n",
      "elapsed_time: 272.7704119682312\n",
      "Client  4\n",
      "Number of sessions(hdfs_test_normal): 5623\n",
      "Number of sessions(hdfs_test_abnormal): 1121\n"
     ]
    },
    {
     "name": "stderr",
     "output_type": "stream",
     "text": [
      "100%|██████████| 5623/5623 [03:57<00:00, 23.70it/s]\n",
      "100%|██████████| 1121/1121 [00:26<00:00, 42.99it/s]\n"
     ]
    },
    {
     "name": "stdout",
     "output_type": "stream",
     "text": [
      "false positive (FP): 525, false negative (FN): 32, Precision: 86.399%, Recall: 99.050%, F1-measure: 92.293%\n",
      "actual positive (TP+FN): 3367, actual negative (FP+TN): 110673\n",
      "accuracy: 99.512\n",
      "Finished Predicting\n",
      "elapsed_time: 263.3513557910919\n",
      "============ Train epoch 35 ============\n",
      "Client  0\n",
      "File ../data/hdfs/hdfs_train, number of sessions 971\n",
      "File ../data/hdfs/hdfs_train, number of seqs 9420\n",
      "sampling...\n"
     ]
    },
    {
     "name": "stderr",
     "output_type": "stream",
     "text": [
      "100%|██████████| 1058/1058 [00:00<00:00, 3567.73it/s]\n"
     ]
    },
    {
     "name": "stdout",
     "output_type": "stream",
     "text": [
      "File ../data/hdfs/hdfs_test_normal, number of sessions 110673\n",
      "File ../data/hdfs/hdfs_test_normal, number of seqs 1058\n",
      "Find 9420 train logs, 1058 validation logs\n",
      "Train batch size 2048 ,Validation batch size 2048\n",
      "Starting epoch: 0 | phase: train | ⏰: 16:11:40 | Learning rate: 0.000313\n"
     ]
    },
    {
     "name": "stderr",
     "output_type": "stream",
     "text": [
      "Train loss: 1.15705: 100%|██████████| 5/5 [00:00<00:00, 27.10it/s]\n"
     ]
    },
    {
     "name": "stdout",
     "output_type": "stream",
     "text": [
      "Starting epoch: 0 | phase: valid | ⏰: 16:11:40 \n"
     ]
    },
    {
     "name": "stderr",
     "output_type": "stream",
     "text": [
      ": 100%|██████████| 1/1 [00:00<00:00, 53.76it/s]\n"
     ]
    },
    {
     "name": "stdout",
     "output_type": "stream",
     "text": [
      "Validation loss: 1.1640175580978394\n",
      "Client  1\n",
      "File ../data/hdfs/hdfs_train, number of sessions 971\n",
      "File ../data/hdfs/hdfs_train, number of seqs 9080\n",
      "sampling...\n"
     ]
    },
    {
     "name": "stderr",
     "output_type": "stream",
     "text": [
      "100%|██████████| 1046/1046 [00:00<00:00, 3481.16it/s]\n"
     ]
    },
    {
     "name": "stdout",
     "output_type": "stream",
     "text": [
      "File ../data/hdfs/hdfs_test_normal, number of sessions 110673\n",
      "File ../data/hdfs/hdfs_test_normal, number of seqs 1046\n",
      "Find 9080 train logs, 1046 validation logs\n",
      "Train batch size 2048 ,Validation batch size 2048\n",
      "Starting epoch: 0 | phase: train | ⏰: 16:11:52 | Learning rate: 0.000313\n"
     ]
    },
    {
     "name": "stderr",
     "output_type": "stream",
     "text": [
      "Train loss: 1.17833: 100%|██████████| 5/5 [00:00<00:00, 29.42it/s]\n"
     ]
    },
    {
     "name": "stdout",
     "output_type": "stream",
     "text": [
      "Starting epoch: 0 | phase: valid | ⏰: 16:11:52 \n"
     ]
    },
    {
     "name": "stderr",
     "output_type": "stream",
     "text": [
      ": 100%|██████████| 1/1 [00:00<00:00, 55.72it/s]\n"
     ]
    },
    {
     "name": "stdout",
     "output_type": "stream",
     "text": [
      "Validation loss: 1.0697636604309082\n",
      "Client  2\n",
      "File ../data/hdfs/hdfs_train, number of sessions 971\n",
      "File ../data/hdfs/hdfs_train, number of seqs 9485\n",
      "sampling...\n"
     ]
    },
    {
     "name": "stderr",
     "output_type": "stream",
     "text": [
      "100%|██████████| 1051/1051 [00:00<00:00, 3652.54it/s]\n"
     ]
    },
    {
     "name": "stdout",
     "output_type": "stream",
     "text": [
      "File ../data/hdfs/hdfs_test_normal, number of sessions 110673\n",
      "File ../data/hdfs/hdfs_test_normal, number of seqs 1051\n",
      "Find 9485 train logs, 1051 validation logs\n",
      "Train batch size 2048 ,Validation batch size 2048\n",
      "Starting epoch: 0 | phase: train | ⏰: 16:12:03 | Learning rate: 0.000313\n"
     ]
    },
    {
     "name": "stderr",
     "output_type": "stream",
     "text": [
      "Train loss: 1.17768: 100%|██████████| 5/5 [00:00<00:00, 28.89it/s]\n"
     ]
    },
    {
     "name": "stdout",
     "output_type": "stream",
     "text": [
      "Starting epoch: 0 | phase: valid | ⏰: 16:12:03 \n"
     ]
    },
    {
     "name": "stderr",
     "output_type": "stream",
     "text": [
      ": 100%|██████████| 1/1 [00:00<00:00, 59.36it/s]\n"
     ]
    },
    {
     "name": "stdout",
     "output_type": "stream",
     "text": [
      "Validation loss: 1.101197600364685\n",
      "Client  3\n",
      "File ../data/hdfs/hdfs_train, number of sessions 971\n",
      "File ../data/hdfs/hdfs_train, number of seqs 9267\n",
      "sampling...\n"
     ]
    },
    {
     "name": "stderr",
     "output_type": "stream",
     "text": [
      "100%|██████████| 1057/1057 [00:00<00:00, 3529.33it/s]\n"
     ]
    },
    {
     "name": "stdout",
     "output_type": "stream",
     "text": [
      "File ../data/hdfs/hdfs_test_normal, number of sessions 110673\n",
      "File ../data/hdfs/hdfs_test_normal, number of seqs 1057\n",
      "Find 9267 train logs, 1057 validation logs\n",
      "Train batch size 2048 ,Validation batch size 2048\n",
      "Starting epoch: 0 | phase: train | ⏰: 16:12:15 | Learning rate: 0.000313\n"
     ]
    },
    {
     "name": "stderr",
     "output_type": "stream",
     "text": [
      "Train loss: 1.16012: 100%|██████████| 5/5 [00:00<00:00, 26.97it/s]\n"
     ]
    },
    {
     "name": "stdout",
     "output_type": "stream",
     "text": [
      "Starting epoch: 0 | phase: valid | ⏰: 16:12:15 \n"
     ]
    },
    {
     "name": "stderr",
     "output_type": "stream",
     "text": [
      ": 100%|██████████| 1/1 [00:00<00:00, 57.77it/s]\n"
     ]
    },
    {
     "name": "stdout",
     "output_type": "stream",
     "text": [
      "Validation loss: 1.1652964353561401\n",
      "Client  4\n",
      "File ../data/hdfs/hdfs_train, number of sessions 971\n",
      "File ../data/hdfs/hdfs_train, number of seqs 9323\n",
      "sampling...\n"
     ]
    },
    {
     "name": "stderr",
     "output_type": "stream",
     "text": [
      "100%|██████████| 1044/1044 [00:00<00:00, 3509.30it/s]\n"
     ]
    },
    {
     "name": "stdout",
     "output_type": "stream",
     "text": [
      "File ../data/hdfs/hdfs_test_normal, number of sessions 110673\n",
      "File ../data/hdfs/hdfs_test_normal, number of seqs 1044\n",
      "Find 9323 train logs, 1044 validation logs\n",
      "Train batch size 2048 ,Validation batch size 2048\n",
      "Starting epoch: 0 | phase: train | ⏰: 16:12:27 | Learning rate: 0.000313\n"
     ]
    },
    {
     "name": "stderr",
     "output_type": "stream",
     "text": [
      "Train loss: 1.16873: 100%|██████████| 5/5 [00:00<00:00, 28.88it/s]\n"
     ]
    },
    {
     "name": "stdout",
     "output_type": "stream",
     "text": [
      "Starting epoch: 0 | phase: valid | ⏰: 16:12:27 \n"
     ]
    },
    {
     "name": "stderr",
     "output_type": "stream",
     "text": [
      ": 100%|██████████| 1/1 [00:00<00:00, 58.51it/s]\n"
     ]
    },
    {
     "name": "stdout",
     "output_type": "stream",
     "text": [
      "Validation loss: 1.074233055114746\n",
      "============ Test epoch 35 ============\n",
      "Client  0\n",
      "Number of sessions(hdfs_test_normal): 5813\n",
      "Number of sessions(hdfs_test_abnormal): 1136\n"
     ]
    },
    {
     "name": "stderr",
     "output_type": "stream",
     "text": [
      "100%|██████████| 5813/5813 [03:32<00:00, 27.37it/s]\n",
      "100%|██████████| 1136/1136 [00:18<00:00, 60.99it/s]\n"
     ]
    },
    {
     "name": "stdout",
     "output_type": "stream",
     "text": [
      "false positive (FP): 490, false negative (FN): 24, Precision: 87.216%, Recall: 99.287%, F1-measure: 92.861%\n",
      "actual positive (TP+FN): 3367, actual negative (FP+TN): 110673\n",
      "accuracy: 99.549\n",
      "Finished Predicting\n",
      "elapsed_time: 230.98980259895325\n",
      "Client  1\n",
      "Number of sessions(hdfs_test_normal): 5574\n",
      "Number of sessions(hdfs_test_abnormal): 1139\n"
     ]
    },
    {
     "name": "stderr",
     "output_type": "stream",
     "text": [
      "100%|██████████| 5574/5574 [03:54<00:00, 23.72it/s]\n",
      "100%|██████████| 1139/1139 [00:26<00:00, 42.66it/s]\n"
     ]
    },
    {
     "name": "stdout",
     "output_type": "stream",
     "text": [
      "false positive (FP): 528, false negative (FN): 25, Precision: 86.357%, Recall: 99.257%, F1-measure: 92.359%\n",
      "actual positive (TP+FN): 3367, actual negative (FP+TN): 110673\n",
      "accuracy: 99.515\n",
      "Finished Predicting\n",
      "elapsed_time: 261.6506869792938\n",
      "Client  2\n",
      "Number of sessions(hdfs_test_normal): 5730\n",
      "Number of sessions(hdfs_test_abnormal): 1118\n"
     ]
    },
    {
     "name": "stderr",
     "output_type": "stream",
     "text": [
      "100%|██████████| 5730/5730 [04:05<00:00, 23.35it/s]\n",
      "100%|██████████| 1118/1118 [00:26<00:00, 42.88it/s]\n"
     ]
    },
    {
     "name": "stdout",
     "output_type": "stream",
     "text": [
      "false positive (FP): 467, false negative (FN): 31, Precision: 87.720%, Recall: 99.079%, F1-measure: 93.054%\n",
      "actual positive (TP+FN): 3367, actual negative (FP+TN): 110673\n",
      "accuracy: 99.563\n",
      "Finished Predicting\n",
      "elapsed_time: 271.513192653656\n",
      "Client  3\n",
      "Number of sessions(hdfs_test_normal): 5747\n",
      "Number of sessions(hdfs_test_abnormal): 1159\n"
     ]
    },
    {
     "name": "stderr",
     "output_type": "stream",
     "text": [
      "100%|██████████| 5747/5747 [04:05<00:00, 23.44it/s]\n",
      "100%|██████████| 1159/1159 [00:27<00:00, 42.49it/s]\n"
     ]
    },
    {
     "name": "stdout",
     "output_type": "stream",
     "text": [
      "false positive (FP): 451, false negative (FN): 30, Precision: 88.094%, Recall: 99.109%, F1-measure: 93.277%\n",
      "actual positive (TP+FN): 3367, actual negative (FP+TN): 110673\n",
      "accuracy: 99.578\n",
      "Finished Predicting\n",
      "elapsed_time: 272.5024139881134\n",
      "Client  4\n",
      "Number of sessions(hdfs_test_normal): 5623\n",
      "Number of sessions(hdfs_test_abnormal): 1121\n"
     ]
    },
    {
     "name": "stderr",
     "output_type": "stream",
     "text": [
      "100%|██████████| 5623/5623 [03:57<00:00, 23.71it/s]\n",
      "100%|██████████| 1121/1121 [00:26<00:00, 42.98it/s]\n"
     ]
    },
    {
     "name": "stdout",
     "output_type": "stream",
     "text": [
      "false positive (FP): 525, false negative (FN): 32, Precision: 86.399%, Recall: 99.050%, F1-measure: 92.293%\n",
      "actual positive (TP+FN): 3367, actual negative (FP+TN): 110673\n",
      "accuracy: 99.512\n",
      "Finished Predicting\n",
      "elapsed_time: 263.2724039554596\n",
      "============ Train epoch 36 ============\n",
      "Client  0\n",
      "File ../data/hdfs/hdfs_train, number of sessions 971\n",
      "File ../data/hdfs/hdfs_train, number of seqs 9420\n",
      "sampling...\n"
     ]
    },
    {
     "name": "stderr",
     "output_type": "stream",
     "text": [
      "100%|██████████| 1058/1058 [00:00<00:00, 3476.94it/s]\n"
     ]
    },
    {
     "name": "stdout",
     "output_type": "stream",
     "text": [
      "File ../data/hdfs/hdfs_test_normal, number of sessions 110673\n",
      "File ../data/hdfs/hdfs_test_normal, number of seqs 1058\n",
      "Find 9420 train logs, 1058 validation logs\n",
      "Train batch size 2048 ,Validation batch size 2048\n",
      "Starting epoch: 0 | phase: train | ⏰: 16:34:22 | Learning rate: 0.000313\n"
     ]
    },
    {
     "name": "stderr",
     "output_type": "stream",
     "text": [
      "Train loss: 1.12653: 100%|██████████| 5/5 [00:00<00:00, 27.73it/s]\n"
     ]
    },
    {
     "name": "stdout",
     "output_type": "stream",
     "text": [
      "Starting epoch: 0 | phase: valid | ⏰: 16:34:22 \n"
     ]
    },
    {
     "name": "stderr",
     "output_type": "stream",
     "text": [
      ": 100%|██████████| 1/1 [00:00<00:00, 55.59it/s]\n"
     ]
    },
    {
     "name": "stdout",
     "output_type": "stream",
     "text": [
      "Validation loss: 1.0962568521499634\n",
      "Client  1\n",
      "File ../data/hdfs/hdfs_train, number of sessions 971\n",
      "File ../data/hdfs/hdfs_train, number of seqs 9080\n",
      "sampling...\n"
     ]
    },
    {
     "name": "stderr",
     "output_type": "stream",
     "text": [
      "100%|██████████| 1046/1046 [00:00<00:00, 3607.51it/s]\n"
     ]
    },
    {
     "name": "stdout",
     "output_type": "stream",
     "text": [
      "File ../data/hdfs/hdfs_test_normal, number of sessions 110673\n",
      "File ../data/hdfs/hdfs_test_normal, number of seqs 1046\n",
      "Find 9080 train logs, 1046 validation logs\n",
      "Train batch size 2048 ,Validation batch size 2048\n",
      "Starting epoch: 0 | phase: train | ⏰: 16:34:33 | Learning rate: 0.000313\n"
     ]
    },
    {
     "name": "stderr",
     "output_type": "stream",
     "text": [
      "Train loss: 1.14509: 100%|██████████| 5/5 [00:00<00:00, 28.18it/s]\n"
     ]
    },
    {
     "name": "stdout",
     "output_type": "stream",
     "text": [
      "Starting epoch: 0 | phase: valid | ⏰: 16:34:34 \n"
     ]
    },
    {
     "name": "stderr",
     "output_type": "stream",
     "text": [
      ": 100%|██████████| 1/1 [00:00<00:00, 53.34it/s]\n"
     ]
    },
    {
     "name": "stdout",
     "output_type": "stream",
     "text": [
      "Validation loss: 1.0883671045303345\n",
      "Client  2\n",
      "File ../data/hdfs/hdfs_train, number of sessions 971\n",
      "File ../data/hdfs/hdfs_train, number of seqs 9485\n",
      "sampling...\n"
     ]
    },
    {
     "name": "stderr",
     "output_type": "stream",
     "text": [
      "100%|██████████| 1051/1051 [00:00<00:00, 3478.73it/s]\n"
     ]
    },
    {
     "name": "stdout",
     "output_type": "stream",
     "text": [
      "File ../data/hdfs/hdfs_test_normal, number of sessions 110673\n",
      "File ../data/hdfs/hdfs_test_normal, number of seqs 1051\n",
      "Find 9485 train logs, 1051 validation logs\n",
      "Train batch size 2048 ,Validation batch size 2048\n",
      "Starting epoch: 0 | phase: train | ⏰: 16:34:45 | Learning rate: 0.000313\n"
     ]
    },
    {
     "name": "stderr",
     "output_type": "stream",
     "text": [
      "Train loss: 1.15239: 100%|██████████| 5/5 [00:00<00:00, 28.56it/s]\n"
     ]
    },
    {
     "name": "stdout",
     "output_type": "stream",
     "text": [
      "Starting epoch: 0 | phase: valid | ⏰: 16:34:45 \n"
     ]
    },
    {
     "name": "stderr",
     "output_type": "stream",
     "text": [
      ": 100%|██████████| 1/1 [00:00<00:00, 57.57it/s]\n"
     ]
    },
    {
     "name": "stdout",
     "output_type": "stream",
     "text": [
      "Validation loss: 1.0514025688171387\n",
      "Client  3\n",
      "File ../data/hdfs/hdfs_train, number of sessions 971\n",
      "File ../data/hdfs/hdfs_train, number of seqs 9267\n",
      "sampling...\n"
     ]
    },
    {
     "name": "stderr",
     "output_type": "stream",
     "text": [
      "100%|██████████| 1057/1057 [00:00<00:00, 3444.80it/s]\n"
     ]
    },
    {
     "name": "stdout",
     "output_type": "stream",
     "text": [
      "File ../data/hdfs/hdfs_test_normal, number of sessions 110673\n",
      "File ../data/hdfs/hdfs_test_normal, number of seqs 1057\n",
      "Find 9267 train logs, 1057 validation logs\n",
      "Train batch size 2048 ,Validation batch size 2048\n",
      "Starting epoch: 0 | phase: train | ⏰: 16:34:57 | Learning rate: 0.000313\n"
     ]
    },
    {
     "name": "stderr",
     "output_type": "stream",
     "text": [
      "Train loss: 1.13103: 100%|██████████| 5/5 [00:00<00:00, 29.47it/s]\n"
     ]
    },
    {
     "name": "stdout",
     "output_type": "stream",
     "text": [
      "Starting epoch: 0 | phase: valid | ⏰: 16:34:57 \n"
     ]
    },
    {
     "name": "stderr",
     "output_type": "stream",
     "text": [
      ": 100%|██████████| 1/1 [00:00<00:00, 58.36it/s]\n"
     ]
    },
    {
     "name": "stdout",
     "output_type": "stream",
     "text": [
      "Validation loss: 1.115966796875\n",
      "Client  4\n",
      "File ../data/hdfs/hdfs_train, number of sessions 971\n",
      "File ../data/hdfs/hdfs_train, number of seqs 9323\n",
      "sampling...\n"
     ]
    },
    {
     "name": "stderr",
     "output_type": "stream",
     "text": [
      "100%|██████████| 1044/1044 [00:00<00:00, 3616.16it/s]\n"
     ]
    },
    {
     "name": "stdout",
     "output_type": "stream",
     "text": [
      "File ../data/hdfs/hdfs_test_normal, number of sessions 110673\n",
      "File ../data/hdfs/hdfs_test_normal, number of seqs 1044\n",
      "Find 9323 train logs, 1044 validation logs\n",
      "Train batch size 2048 ,Validation batch size 2048\n",
      "Starting epoch: 0 | phase: train | ⏰: 16:35:09 | Learning rate: 0.000313\n"
     ]
    },
    {
     "name": "stderr",
     "output_type": "stream",
     "text": [
      "Train loss: 1.14298: 100%|██████████| 5/5 [00:00<00:00, 28.38it/s]\n"
     ]
    },
    {
     "name": "stdout",
     "output_type": "stream",
     "text": [
      "Starting epoch: 0 | phase: valid | ⏰: 16:35:09 \n"
     ]
    },
    {
     "name": "stderr",
     "output_type": "stream",
     "text": [
      ": 100%|██████████| 1/1 [00:00<00:00, 58.74it/s]\n"
     ]
    },
    {
     "name": "stdout",
     "output_type": "stream",
     "text": [
      "Validation loss: 1.0607573986053467\n",
      "============ Test epoch 36 ============\n",
      "Client  0\n",
      "Number of sessions(hdfs_test_normal): 5813\n",
      "Number of sessions(hdfs_test_abnormal): 1136\n"
     ]
    },
    {
     "name": "stderr",
     "output_type": "stream",
     "text": [
      "100%|██████████| 5813/5813 [03:25<00:00, 28.26it/s]\n",
      "100%|██████████| 1136/1136 [00:25<00:00, 45.20it/s]\n"
     ]
    },
    {
     "name": "stdout",
     "output_type": "stream",
     "text": [
      "false positive (FP): 490, false negative (FN): 24, Precision: 87.216%, Recall: 99.287%, F1-measure: 92.861%\n",
      "actual positive (TP+FN): 3367, actual negative (FP+TN): 110673\n",
      "accuracy: 99.549\n",
      "Finished Predicting\n",
      "elapsed_time: 230.8080062866211\n",
      "Client  1\n",
      "Number of sessions(hdfs_test_normal): 5574\n",
      "Number of sessions(hdfs_test_abnormal): 1139\n"
     ]
    },
    {
     "name": "stderr",
     "output_type": "stream",
     "text": [
      "100%|██████████| 5574/5574 [03:52<00:00, 23.96it/s]\n",
      "100%|██████████| 1139/1139 [00:26<00:00, 42.90it/s]\n"
     ]
    },
    {
     "name": "stdout",
     "output_type": "stream",
     "text": [
      "false positive (FP): 528, false negative (FN): 25, Precision: 86.357%, Recall: 99.257%, F1-measure: 92.359%\n",
      "actual positive (TP+FN): 3367, actual negative (FP+TN): 110673\n",
      "accuracy: 99.515\n",
      "Finished Predicting\n",
      "elapsed_time: 259.18197774887085\n",
      "Client  2\n",
      "Number of sessions(hdfs_test_normal): 5730\n",
      "Number of sessions(hdfs_test_abnormal): 1118\n"
     ]
    },
    {
     "name": "stderr",
     "output_type": "stream",
     "text": [
      "100%|██████████| 5730/5730 [04:05<00:00, 23.35it/s]\n",
      "100%|██████████| 1118/1118 [00:26<00:00, 42.48it/s]\n"
     ]
    },
    {
     "name": "stdout",
     "output_type": "stream",
     "text": [
      "false positive (FP): 467, false negative (FN): 30, Precision: 87.723%, Recall: 99.109%, F1-measure: 93.069%\n",
      "actual positive (TP+FN): 3367, actual negative (FP+TN): 110673\n",
      "accuracy: 99.564\n",
      "Finished Predicting\n",
      "elapsed_time: 271.70460081100464\n",
      "Client  3\n",
      "Number of sessions(hdfs_test_normal): 5747\n",
      "Number of sessions(hdfs_test_abnormal): 1159\n"
     ]
    },
    {
     "name": "stderr",
     "output_type": "stream",
     "text": [
      "100%|██████████| 5747/5747 [04:05<00:00, 23.43it/s]\n",
      "100%|██████████| 1159/1159 [00:27<00:00, 41.95it/s]\n"
     ]
    },
    {
     "name": "stdout",
     "output_type": "stream",
     "text": [
      "false positive (FP): 450, false negative (FN): 30, Precision: 88.117%, Recall: 99.109%, F1-measure: 93.290%\n",
      "actual positive (TP+FN): 3367, actual negative (FP+TN): 110673\n",
      "accuracy: 99.579\n",
      "Finished Predicting\n",
      "elapsed_time: 272.8668956756592\n",
      "Client  4\n",
      "Number of sessions(hdfs_test_normal): 5623\n",
      "Number of sessions(hdfs_test_abnormal): 1121\n"
     ]
    },
    {
     "name": "stderr",
     "output_type": "stream",
     "text": [
      "100%|██████████| 5623/5623 [03:56<00:00, 23.79it/s]\n",
      "100%|██████████| 1121/1121 [00:25<00:00, 43.17it/s]\n"
     ]
    },
    {
     "name": "stdout",
     "output_type": "stream",
     "text": [
      "false positive (FP): 525, false negative (FN): 32, Precision: 86.399%, Recall: 99.050%, F1-measure: 92.293%\n",
      "actual positive (TP+FN): 3367, actual negative (FP+TN): 110673\n",
      "accuracy: 99.512\n",
      "Finished Predicting\n",
      "elapsed_time: 262.35259652137756\n",
      "============ Train epoch 37 ============\n",
      "Client  0\n",
      "File ../data/hdfs/hdfs_train, number of sessions 971\n",
      "File ../data/hdfs/hdfs_train, number of seqs 9420\n",
      "sampling...\n"
     ]
    },
    {
     "name": "stderr",
     "output_type": "stream",
     "text": [
      "100%|██████████| 1058/1058 [00:00<00:00, 3401.79it/s]\n"
     ]
    },
    {
     "name": "stdout",
     "output_type": "stream",
     "text": [
      "File ../data/hdfs/hdfs_test_normal, number of sessions 110673\n",
      "File ../data/hdfs/hdfs_test_normal, number of seqs 1058\n",
      "Find 9420 train logs, 1058 validation logs\n",
      "Train batch size 2048 ,Validation batch size 2048\n",
      "Starting epoch: 0 | phase: train | ⏰: 16:57:01 | Learning rate: 0.000313\n"
     ]
    },
    {
     "name": "stderr",
     "output_type": "stream",
     "text": [
      "Train loss: 1.09978: 100%|██████████| 5/5 [00:00<00:00, 28.67it/s]\n"
     ]
    },
    {
     "name": "stdout",
     "output_type": "stream",
     "text": [
      "Starting epoch: 0 | phase: valid | ⏰: 16:57:01 \n"
     ]
    },
    {
     "name": "stderr",
     "output_type": "stream",
     "text": [
      ": 100%|██████████| 1/1 [00:00<00:00, 55.69it/s]\n"
     ]
    },
    {
     "name": "stdout",
     "output_type": "stream",
     "text": [
      "Validation loss: 1.0068122148513794\n",
      "Client  1\n",
      "File ../data/hdfs/hdfs_train, number of sessions 971\n",
      "File ../data/hdfs/hdfs_train, number of seqs 9080\n",
      "sampling...\n"
     ]
    },
    {
     "name": "stderr",
     "output_type": "stream",
     "text": [
      "100%|██████████| 1046/1046 [00:00<00:00, 3642.22it/s]\n"
     ]
    },
    {
     "name": "stdout",
     "output_type": "stream",
     "text": [
      "File ../data/hdfs/hdfs_test_normal, number of sessions 110673\n",
      "File ../data/hdfs/hdfs_test_normal, number of seqs 1046\n",
      "Find 9080 train logs, 1046 validation logs\n",
      "Train batch size 2048 ,Validation batch size 2048\n",
      "Starting epoch: 0 | phase: train | ⏰: 16:57:12 | Learning rate: 0.000313\n"
     ]
    },
    {
     "name": "stderr",
     "output_type": "stream",
     "text": [
      "Train loss: 1.12152: 100%|██████████| 5/5 [00:00<00:00, 28.84it/s]\n"
     ]
    },
    {
     "name": "stdout",
     "output_type": "stream",
     "text": [
      "Starting epoch: 0 | phase: valid | ⏰: 16:57:13 \n"
     ]
    },
    {
     "name": "stderr",
     "output_type": "stream",
     "text": [
      ": 100%|██████████| 1/1 [00:00<00:00, 54.90it/s]\n"
     ]
    },
    {
     "name": "stdout",
     "output_type": "stream",
     "text": [
      "Validation loss: 1.03329598903656\n",
      "Client  2\n",
      "File ../data/hdfs/hdfs_train, number of sessions 971\n",
      "File ../data/hdfs/hdfs_train, number of seqs 9485\n",
      "sampling...\n"
     ]
    },
    {
     "name": "stderr",
     "output_type": "stream",
     "text": [
      "100%|██████████| 1051/1051 [00:00<00:00, 3573.49it/s]\n"
     ]
    },
    {
     "name": "stdout",
     "output_type": "stream",
     "text": [
      "File ../data/hdfs/hdfs_test_normal, number of sessions 110673\n",
      "File ../data/hdfs/hdfs_test_normal, number of seqs 1051\n",
      "Find 9485 train logs, 1051 validation logs\n",
      "Train batch size 2048 ,Validation batch size 2048\n",
      "Starting epoch: 0 | phase: train | ⏰: 16:57:24 | Learning rate: 0.000313\n"
     ]
    },
    {
     "name": "stderr",
     "output_type": "stream",
     "text": [
      "Train loss: 1.12489: 100%|██████████| 5/5 [00:00<00:00, 27.69it/s]\n"
     ]
    },
    {
     "name": "stdout",
     "output_type": "stream",
     "text": [
      "Starting epoch: 0 | phase: valid | ⏰: 16:57:24 \n"
     ]
    },
    {
     "name": "stderr",
     "output_type": "stream",
     "text": [
      ": 100%|██████████| 1/1 [00:00<00:00, 56.43it/s]\n"
     ]
    },
    {
     "name": "stdout",
     "output_type": "stream",
     "text": [
      "Validation loss: 1.0994541645050049\n",
      "Client  3\n",
      "File ../data/hdfs/hdfs_train, number of sessions 971\n",
      "File ../data/hdfs/hdfs_train, number of seqs 9267\n",
      "sampling...\n"
     ]
    },
    {
     "name": "stderr",
     "output_type": "stream",
     "text": [
      "100%|██████████| 1057/1057 [00:00<00:00, 3604.13it/s]\n"
     ]
    },
    {
     "name": "stdout",
     "output_type": "stream",
     "text": [
      "File ../data/hdfs/hdfs_test_normal, number of sessions 110673\n",
      "File ../data/hdfs/hdfs_test_normal, number of seqs 1057\n",
      "Find 9267 train logs, 1057 validation logs\n",
      "Train batch size 2048 ,Validation batch size 2048\n",
      "Starting epoch: 0 | phase: train | ⏰: 16:57:36 | Learning rate: 0.000313\n"
     ]
    },
    {
     "name": "stderr",
     "output_type": "stream",
     "text": [
      "Train loss: 1.10350: 100%|██████████| 5/5 [00:00<00:00, 28.83it/s]\n"
     ]
    },
    {
     "name": "stdout",
     "output_type": "stream",
     "text": [
      "Starting epoch: 0 | phase: valid | ⏰: 16:57:36 \n"
     ]
    },
    {
     "name": "stderr",
     "output_type": "stream",
     "text": [
      ": 100%|██████████| 1/1 [00:00<00:00, 57.46it/s]\n"
     ]
    },
    {
     "name": "stdout",
     "output_type": "stream",
     "text": [
      "Validation loss: 1.056206226348877\n",
      "Client  4\n",
      "File ../data/hdfs/hdfs_train, number of sessions 971\n",
      "File ../data/hdfs/hdfs_train, number of seqs 9323\n",
      "sampling...\n"
     ]
    },
    {
     "name": "stderr",
     "output_type": "stream",
     "text": [
      "100%|██████████| 1044/1044 [00:00<00:00, 3438.35it/s]\n"
     ]
    },
    {
     "name": "stdout",
     "output_type": "stream",
     "text": [
      "File ../data/hdfs/hdfs_test_normal, number of sessions 110673\n",
      "File ../data/hdfs/hdfs_test_normal, number of seqs 1044\n",
      "Find 9323 train logs, 1044 validation logs\n",
      "Train batch size 2048 ,Validation batch size 2048\n",
      "Starting epoch: 0 | phase: train | ⏰: 16:57:48 | Learning rate: 0.000313\n"
     ]
    },
    {
     "name": "stderr",
     "output_type": "stream",
     "text": [
      "Train loss: 1.11704: 100%|██████████| 5/5 [00:00<00:00, 27.95it/s]\n"
     ]
    },
    {
     "name": "stdout",
     "output_type": "stream",
     "text": [
      "Starting epoch: 0 | phase: valid | ⏰: 16:57:48 \n"
     ]
    },
    {
     "name": "stderr",
     "output_type": "stream",
     "text": [
      ": 100%|██████████| 1/1 [00:00<00:00, 58.48it/s]\n"
     ]
    },
    {
     "name": "stdout",
     "output_type": "stream",
     "text": [
      "Validation loss: 1.0369678735733032\n",
      "============ Test epoch 37 ============\n",
      "Client  0\n",
      "Number of sessions(hdfs_test_normal): 5813\n",
      "Number of sessions(hdfs_test_abnormal): 1136\n"
     ]
    },
    {
     "name": "stderr",
     "output_type": "stream",
     "text": [
      "100%|██████████| 5813/5813 [03:27<00:00, 27.97it/s]\n",
      "100%|██████████| 1136/1136 [00:24<00:00, 45.75it/s]\n"
     ]
    },
    {
     "name": "stdout",
     "output_type": "stream",
     "text": [
      "false positive (FP): 488, false negative (FN): 24, Precision: 87.262%, Recall: 99.287%, F1-measure: 92.887%\n",
      "actual positive (TP+FN): 3367, actual negative (FP+TN): 110673\n",
      "accuracy: 99.551\n",
      "Finished Predicting\n",
      "elapsed_time: 232.6470890045166\n",
      "Client  1\n",
      "Number of sessions(hdfs_test_normal): 5574\n",
      "Number of sessions(hdfs_test_abnormal): 1139\n"
     ]
    },
    {
     "name": "stderr",
     "output_type": "stream",
     "text": [
      "100%|██████████| 5574/5574 [03:54<00:00, 23.79it/s]\n",
      "100%|██████████| 1139/1139 [00:26<00:00, 43.02it/s]\n"
     ]
    },
    {
     "name": "stdout",
     "output_type": "stream",
     "text": [
      "false positive (FP): 527, false negative (FN): 25, Precision: 86.379%, Recall: 99.257%, F1-measure: 92.371%\n",
      "actual positive (TP+FN): 3367, actual negative (FP+TN): 110673\n",
      "accuracy: 99.516\n",
      "Finished Predicting\n",
      "elapsed_time: 260.73926758766174\n",
      "Client  2\n",
      "Number of sessions(hdfs_test_normal): 5730\n",
      "Number of sessions(hdfs_test_abnormal): 1118\n"
     ]
    },
    {
     "name": "stderr",
     "output_type": "stream",
     "text": [
      "100%|██████████| 5730/5730 [04:05<00:00, 23.34it/s]\n",
      "100%|██████████| 1118/1118 [00:26<00:00, 42.54it/s]\n"
     ]
    },
    {
     "name": "stdout",
     "output_type": "stream",
     "text": [
      "false positive (FP): 465, false negative (FN): 30, Precision: 87.770%, Recall: 99.109%, F1-measure: 93.095%\n",
      "actual positive (TP+FN): 3367, actual negative (FP+TN): 110673\n",
      "accuracy: 99.566\n",
      "Finished Predicting\n",
      "elapsed_time: 271.75290155410767\n",
      "Client  3\n",
      "Number of sessions(hdfs_test_normal): 5747\n",
      "Number of sessions(hdfs_test_abnormal): 1159\n"
     ]
    },
    {
     "name": "stderr",
     "output_type": "stream",
     "text": [
      "100%|██████████| 5747/5747 [04:05<00:00, 23.40it/s]\n",
      "100%|██████████| 1159/1159 [00:28<00:00, 41.35it/s]\n"
     ]
    },
    {
     "name": "stdout",
     "output_type": "stream",
     "text": [
      "false positive (FP): 448, false negative (FN): 30, Precision: 88.164%, Recall: 99.109%, F1-measure: 93.317%\n",
      "actual positive (TP+FN): 3367, actual negative (FP+TN): 110673\n",
      "accuracy: 99.581\n",
      "Finished Predicting\n",
      "elapsed_time: 273.6087989807129\n",
      "Client  4\n",
      "Number of sessions(hdfs_test_normal): 5623\n",
      "Number of sessions(hdfs_test_abnormal): 1121\n"
     ]
    },
    {
     "name": "stderr",
     "output_type": "stream",
     "text": [
      "100%|██████████| 5623/5623 [03:57<00:00, 23.69it/s]\n",
      "100%|██████████| 1121/1121 [00:25<00:00, 43.25it/s]\n"
     ]
    },
    {
     "name": "stdout",
     "output_type": "stream",
     "text": [
      "false positive (FP): 525, false negative (FN): 32, Precision: 86.399%, Recall: 99.050%, F1-measure: 92.293%\n",
      "actual positive (TP+FN): 3367, actual negative (FP+TN): 110673\n",
      "accuracy: 99.512\n",
      "Finished Predicting\n",
      "elapsed_time: 263.27469062805176\n",
      "============ Train epoch 38 ============\n",
      "Client  0\n",
      "File ../data/hdfs/hdfs_train, number of sessions 971\n",
      "File ../data/hdfs/hdfs_train, number of seqs 9420\n",
      "sampling...\n"
     ]
    },
    {
     "name": "stderr",
     "output_type": "stream",
     "text": [
      "100%|██████████| 1058/1058 [00:00<00:00, 3419.55it/s]\n"
     ]
    },
    {
     "name": "stdout",
     "output_type": "stream",
     "text": [
      "File ../data/hdfs/hdfs_test_normal, number of sessions 110673\n",
      "File ../data/hdfs/hdfs_test_normal, number of seqs 1058\n",
      "Find 9420 train logs, 1058 validation logs\n",
      "Train batch size 2048 ,Validation batch size 2048\n",
      "Starting epoch: 0 | phase: train | ⏰: 17:19:44 | Learning rate: 0.000313\n"
     ]
    },
    {
     "name": "stderr",
     "output_type": "stream",
     "text": [
      "Train loss: 1.07392: 100%|██████████| 5/5 [00:00<00:00, 28.40it/s]\n"
     ]
    },
    {
     "name": "stdout",
     "output_type": "stream",
     "text": [
      "Starting epoch: 0 | phase: valid | ⏰: 17:19:45 \n"
     ]
    },
    {
     "name": "stderr",
     "output_type": "stream",
     "text": [
      ": 100%|██████████| 1/1 [00:00<00:00, 55.40it/s]\n"
     ]
    },
    {
     "name": "stdout",
     "output_type": "stream",
     "text": [
      "Validation loss: 1.0950154066085815\n",
      "Client  1\n",
      "File ../data/hdfs/hdfs_train, number of sessions 971\n",
      "File ../data/hdfs/hdfs_train, number of seqs 9080\n",
      "sampling...\n"
     ]
    },
    {
     "name": "stderr",
     "output_type": "stream",
     "text": [
      "100%|██████████| 1046/1046 [00:00<00:00, 3446.14it/s]\n"
     ]
    },
    {
     "name": "stdout",
     "output_type": "stream",
     "text": [
      "File ../data/hdfs/hdfs_test_normal, number of sessions 110673\n",
      "File ../data/hdfs/hdfs_test_normal, number of seqs 1046\n",
      "Find 9080 train logs, 1046 validation logs\n",
      "Train batch size 2048 ,Validation batch size 2048\n",
      "Starting epoch: 0 | phase: train | ⏰: 17:19:56 | Learning rate: 0.000313\n"
     ]
    },
    {
     "name": "stderr",
     "output_type": "stream",
     "text": [
      "Train loss: 1.08845: 100%|██████████| 5/5 [00:00<00:00, 28.25it/s]\n"
     ]
    },
    {
     "name": "stdout",
     "output_type": "stream",
     "text": [
      "Starting epoch: 0 | phase: valid | ⏰: 17:19:56 \n"
     ]
    },
    {
     "name": "stderr",
     "output_type": "stream",
     "text": [
      ": 100%|██████████| 1/1 [00:00<00:00, 56.86it/s]\n"
     ]
    },
    {
     "name": "stdout",
     "output_type": "stream",
     "text": [
      "Validation loss: 1.0710294246673584\n",
      "Client  2\n",
      "File ../data/hdfs/hdfs_train, number of sessions 971\n",
      "File ../data/hdfs/hdfs_train, number of seqs 9485\n",
      "sampling...\n"
     ]
    },
    {
     "name": "stderr",
     "output_type": "stream",
     "text": [
      "100%|██████████| 1051/1051 [00:00<00:00, 3512.60it/s]\n"
     ]
    },
    {
     "name": "stdout",
     "output_type": "stream",
     "text": [
      "File ../data/hdfs/hdfs_test_normal, number of sessions 110673\n",
      "File ../data/hdfs/hdfs_test_normal, number of seqs 1051\n",
      "Find 9485 train logs, 1051 validation logs\n",
      "Train batch size 2048 ,Validation batch size 2048\n",
      "Starting epoch: 0 | phase: train | ⏰: 17:20:08 | Learning rate: 0.000313\n"
     ]
    },
    {
     "name": "stderr",
     "output_type": "stream",
     "text": [
      "Train loss: 1.10146: 100%|██████████| 5/5 [00:00<00:00, 29.58it/s]\n"
     ]
    },
    {
     "name": "stdout",
     "output_type": "stream",
     "text": [
      "Starting epoch: 0 | phase: valid | ⏰: 17:20:08 \n"
     ]
    },
    {
     "name": "stderr",
     "output_type": "stream",
     "text": [
      ": 100%|██████████| 1/1 [00:00<00:00, 57.28it/s]\n"
     ]
    },
    {
     "name": "stdout",
     "output_type": "stream",
     "text": [
      "Validation loss: 1.09287428855896\n",
      "Client  3\n",
      "File ../data/hdfs/hdfs_train, number of sessions 971\n",
      "File ../data/hdfs/hdfs_train, number of seqs 9267\n",
      "sampling...\n"
     ]
    },
    {
     "name": "stderr",
     "output_type": "stream",
     "text": [
      "100%|██████████| 1057/1057 [00:00<00:00, 3597.62it/s]\n"
     ]
    },
    {
     "name": "stdout",
     "output_type": "stream",
     "text": [
      "File ../data/hdfs/hdfs_test_normal, number of sessions 110673\n",
      "File ../data/hdfs/hdfs_test_normal, number of seqs 1057\n",
      "Find 9267 train logs, 1057 validation logs\n",
      "Train batch size 2048 ,Validation batch size 2048\n",
      "Starting epoch: 0 | phase: train | ⏰: 17:20:20 | Learning rate: 0.000313\n"
     ]
    },
    {
     "name": "stderr",
     "output_type": "stream",
     "text": [
      "Train loss: 1.08017: 100%|██████████| 5/5 [00:00<00:00, 29.85it/s]\n"
     ]
    },
    {
     "name": "stdout",
     "output_type": "stream",
     "text": [
      "Starting epoch: 0 | phase: valid | ⏰: 17:20:20 \n"
     ]
    },
    {
     "name": "stderr",
     "output_type": "stream",
     "text": [
      ": 100%|██████████| 1/1 [00:00<00:00, 56.82it/s]\n"
     ]
    },
    {
     "name": "stdout",
     "output_type": "stream",
     "text": [
      "Validation loss: 1.0383354425430298\n",
      "Client  4\n",
      "File ../data/hdfs/hdfs_train, number of sessions 971\n",
      "File ../data/hdfs/hdfs_train, number of seqs 9323\n",
      "sampling...\n"
     ]
    },
    {
     "name": "stderr",
     "output_type": "stream",
     "text": [
      "100%|██████████| 1044/1044 [00:00<00:00, 3559.18it/s]\n"
     ]
    },
    {
     "name": "stdout",
     "output_type": "stream",
     "text": [
      "File ../data/hdfs/hdfs_test_normal, number of sessions 110673\n",
      "File ../data/hdfs/hdfs_test_normal, number of seqs 1044\n",
      "Find 9323 train logs, 1044 validation logs\n",
      "Train batch size 2048 ,Validation batch size 2048\n",
      "Starting epoch: 0 | phase: train | ⏰: 17:20:31 | Learning rate: 0.000313\n"
     ]
    },
    {
     "name": "stderr",
     "output_type": "stream",
     "text": [
      "Train loss: 1.08599: 100%|██████████| 5/5 [00:00<00:00, 28.84it/s]\n"
     ]
    },
    {
     "name": "stdout",
     "output_type": "stream",
     "text": [
      "Starting epoch: 0 | phase: valid | ⏰: 17:20:32 \n"
     ]
    },
    {
     "name": "stderr",
     "output_type": "stream",
     "text": [
      ": 100%|██████████| 1/1 [00:00<00:00, 58.89it/s]\n"
     ]
    },
    {
     "name": "stdout",
     "output_type": "stream",
     "text": [
      "Validation loss: 1.0430145263671875\n",
      "============ Test epoch 38 ============\n",
      "Client  0\n",
      "Number of sessions(hdfs_test_normal): 5813\n",
      "Number of sessions(hdfs_test_abnormal): 1136\n"
     ]
    },
    {
     "name": "stderr",
     "output_type": "stream",
     "text": [
      "100%|██████████| 5813/5813 [03:27<00:00, 28.02it/s]\n",
      "100%|██████████| 1136/1136 [00:25<00:00, 45.25it/s]\n"
     ]
    },
    {
     "name": "stdout",
     "output_type": "stream",
     "text": [
      "false positive (FP): 488, false negative (FN): 24, Precision: 87.262%, Recall: 99.287%, F1-measure: 92.887%\n",
      "actual positive (TP+FN): 3367, actual negative (FP+TN): 110673\n",
      "accuracy: 99.551\n",
      "Finished Predicting\n",
      "elapsed_time: 232.59822058677673\n",
      "Client  1\n",
      "Number of sessions(hdfs_test_normal): 5574\n",
      "Number of sessions(hdfs_test_abnormal): 1139\n"
     ]
    },
    {
     "name": "stderr",
     "output_type": "stream",
     "text": [
      "100%|██████████| 5574/5574 [03:54<00:00, 23.80it/s]\n",
      "100%|██████████| 1139/1139 [00:26<00:00, 43.02it/s]\n"
     ]
    },
    {
     "name": "stdout",
     "output_type": "stream",
     "text": [
      "false positive (FP): 527, false negative (FN): 25, Precision: 86.379%, Recall: 99.257%, F1-measure: 92.371%\n",
      "actual positive (TP+FN): 3367, actual negative (FP+TN): 110673\n",
      "accuracy: 99.516\n",
      "Finished Predicting\n",
      "elapsed_time: 260.6393139362335\n",
      "Client  2\n",
      "Number of sessions(hdfs_test_normal): 5730\n",
      "Number of sessions(hdfs_test_abnormal): 1118\n"
     ]
    },
    {
     "name": "stderr",
     "output_type": "stream",
     "text": [
      "100%|██████████| 5730/5730 [04:04<00:00, 23.48it/s]\n",
      "100%|██████████| 1118/1118 [00:26<00:00, 42.44it/s]\n"
     ]
    },
    {
     "name": "stdout",
     "output_type": "stream",
     "text": [
      "false positive (FP): 465, false negative (FN): 30, Precision: 87.770%, Recall: 99.109%, F1-measure: 93.095%\n",
      "actual positive (TP+FN): 3367, actual negative (FP+TN): 110673\n",
      "accuracy: 99.566\n",
      "Finished Predicting\n",
      "elapsed_time: 270.36837792396545\n",
      "Client  3\n",
      "Number of sessions(hdfs_test_normal): 5747\n",
      "Number of sessions(hdfs_test_abnormal): 1159\n"
     ]
    },
    {
     "name": "stderr",
     "output_type": "stream",
     "text": [
      "100%|██████████| 5747/5747 [04:04<00:00, 23.46it/s]\n",
      "100%|██████████| 1159/1159 [00:27<00:00, 41.89it/s]\n"
     ]
    },
    {
     "name": "stdout",
     "output_type": "stream",
     "text": [
      "false positive (FP): 448, false negative (FN): 30, Precision: 88.164%, Recall: 99.109%, F1-measure: 93.317%\n",
      "actual positive (TP+FN): 3367, actual negative (FP+TN): 110673\n",
      "accuracy: 99.581\n",
      "Finished Predicting\n",
      "elapsed_time: 272.63695001602173\n",
      "Client  4\n",
      "Number of sessions(hdfs_test_normal): 5623\n",
      "Number of sessions(hdfs_test_abnormal): 1121\n"
     ]
    },
    {
     "name": "stderr",
     "output_type": "stream",
     "text": [
      "100%|██████████| 5623/5623 [03:57<00:00, 23.71it/s]\n",
      "100%|██████████| 1121/1121 [00:26<00:00, 43.02it/s]\n"
     ]
    },
    {
     "name": "stdout",
     "output_type": "stream",
     "text": [
      "false positive (FP): 525, false negative (FN): 32, Precision: 86.399%, Recall: 99.050%, F1-measure: 92.293%\n",
      "actual positive (TP+FN): 3367, actual negative (FP+TN): 110673\n",
      "accuracy: 99.512\n",
      "Finished Predicting\n",
      "elapsed_time: 263.1910984516144\n",
      "============ Train epoch 39 ============\n",
      "Client  0\n",
      "File ../data/hdfs/hdfs_train, number of sessions 971\n",
      "File ../data/hdfs/hdfs_train, number of seqs 9420\n",
      "sampling...\n"
     ]
    },
    {
     "name": "stderr",
     "output_type": "stream",
     "text": [
      "100%|██████████| 1058/1058 [00:00<00:00, 3546.35it/s]\n"
     ]
    },
    {
     "name": "stdout",
     "output_type": "stream",
     "text": [
      "File ../data/hdfs/hdfs_test_normal, number of sessions 110673\n",
      "File ../data/hdfs/hdfs_test_normal, number of seqs 1058\n",
      "Find 9420 train logs, 1058 validation logs\n",
      "Train batch size 2048 ,Validation batch size 2048\n",
      "Starting epoch: 0 | phase: train | ⏰: 17:42:26 | Learning rate: 0.000313\n"
     ]
    },
    {
     "name": "stderr",
     "output_type": "stream",
     "text": [
      "Train loss: 1.04172: 100%|██████████| 5/5 [00:00<00:00, 29.14it/s]\n"
     ]
    },
    {
     "name": "stdout",
     "output_type": "stream",
     "text": [
      "Starting epoch: 0 | phase: valid | ⏰: 17:42:26 \n"
     ]
    },
    {
     "name": "stderr",
     "output_type": "stream",
     "text": [
      ": 100%|██████████| 1/1 [00:00<00:00, 54.19it/s]\n"
     ]
    },
    {
     "name": "stdout",
     "output_type": "stream",
     "text": [
      "Validation loss: 1.0042842626571655\n",
      "Client  1\n",
      "File ../data/hdfs/hdfs_train, number of sessions 971\n",
      "File ../data/hdfs/hdfs_train, number of seqs 9080\n",
      "sampling...\n"
     ]
    },
    {
     "name": "stderr",
     "output_type": "stream",
     "text": [
      "100%|██████████| 1046/1046 [00:00<00:00, 3535.09it/s]\n"
     ]
    },
    {
     "name": "stdout",
     "output_type": "stream",
     "text": [
      "File ../data/hdfs/hdfs_test_normal, number of sessions 110673\n",
      "File ../data/hdfs/hdfs_test_normal, number of seqs 1046\n",
      "Find 9080 train logs, 1046 validation logs\n",
      "Train batch size 2048 ,Validation batch size 2048\n",
      "Starting epoch: 0 | phase: train | ⏰: 17:42:37 | Learning rate: 0.000313\n"
     ]
    },
    {
     "name": "stderr",
     "output_type": "stream",
     "text": [
      "Train loss: 1.07233: 100%|██████████| 5/5 [00:00<00:00, 29.39it/s]\n"
     ]
    },
    {
     "name": "stdout",
     "output_type": "stream",
     "text": [
      "Starting epoch: 0 | phase: valid | ⏰: 17:42:38 \n"
     ]
    },
    {
     "name": "stderr",
     "output_type": "stream",
     "text": [
      ": 100%|██████████| 1/1 [00:00<00:00, 59.32it/s]\n"
     ]
    },
    {
     "name": "stdout",
     "output_type": "stream",
     "text": [
      "Validation loss: 1.0078572034835815\n",
      "Client  2\n",
      "File ../data/hdfs/hdfs_train, number of sessions 971\n",
      "File ../data/hdfs/hdfs_train, number of seqs 9485\n",
      "sampling...\n"
     ]
    },
    {
     "name": "stderr",
     "output_type": "stream",
     "text": [
      "100%|██████████| 1051/1051 [00:00<00:00, 3261.85it/s]\n"
     ]
    },
    {
     "name": "stdout",
     "output_type": "stream",
     "text": [
      "File ../data/hdfs/hdfs_test_normal, number of sessions 110673\n",
      "File ../data/hdfs/hdfs_test_normal, number of seqs 1051\n",
      "Find 9485 train logs, 1051 validation logs\n",
      "Train batch size 2048 ,Validation batch size 2048\n",
      "Starting epoch: 0 | phase: train | ⏰: 17:42:49 | Learning rate: 0.000313\n"
     ]
    },
    {
     "name": "stderr",
     "output_type": "stream",
     "text": [
      "Train loss: 1.06692: 100%|██████████| 5/5 [00:00<00:00, 28.16it/s]\n"
     ]
    },
    {
     "name": "stdout",
     "output_type": "stream",
     "text": [
      "Starting epoch: 0 | phase: valid | ⏰: 17:42:49 \n"
     ]
    },
    {
     "name": "stderr",
     "output_type": "stream",
     "text": [
      ": 100%|██████████| 1/1 [00:00<00:00, 57.11it/s]\n"
     ]
    },
    {
     "name": "stdout",
     "output_type": "stream",
     "text": [
      "Validation loss: 1.0157893896102905\n",
      "Client  3\n",
      "File ../data/hdfs/hdfs_train, number of sessions 971\n",
      "File ../data/hdfs/hdfs_train, number of seqs 9267\n",
      "sampling...\n"
     ]
    },
    {
     "name": "stderr",
     "output_type": "stream",
     "text": [
      "100%|██████████| 1057/1057 [00:00<00:00, 3576.23it/s]\n"
     ]
    },
    {
     "name": "stdout",
     "output_type": "stream",
     "text": [
      "File ../data/hdfs/hdfs_test_normal, number of sessions 110673\n",
      "File ../data/hdfs/hdfs_test_normal, number of seqs 1057\n",
      "Find 9267 train logs, 1057 validation logs\n",
      "Train batch size 2048 ,Validation batch size 2048\n",
      "Starting epoch: 0 | phase: train | ⏰: 17:43:01 | Learning rate: 0.000313\n"
     ]
    },
    {
     "name": "stderr",
     "output_type": "stream",
     "text": [
      "Train loss: 1.05713: 100%|██████████| 5/5 [00:00<00:00, 30.19it/s]\n"
     ]
    },
    {
     "name": "stdout",
     "output_type": "stream",
     "text": [
      "Starting epoch: 0 | phase: valid | ⏰: 17:43:01 \n"
     ]
    },
    {
     "name": "stderr",
     "output_type": "stream",
     "text": [
      ": 100%|██████████| 1/1 [00:00<00:00, 58.10it/s]\n"
     ]
    },
    {
     "name": "stdout",
     "output_type": "stream",
     "text": [
      "Validation loss: 1.0698469877243042\n",
      "Client  4\n",
      "File ../data/hdfs/hdfs_train, number of sessions 971\n",
      "File ../data/hdfs/hdfs_train, number of seqs 9323\n",
      "sampling...\n"
     ]
    },
    {
     "name": "stderr",
     "output_type": "stream",
     "text": [
      "100%|██████████| 1044/1044 [00:00<00:00, 3648.51it/s]\n"
     ]
    },
    {
     "name": "stdout",
     "output_type": "stream",
     "text": [
      "File ../data/hdfs/hdfs_test_normal, number of sessions 110673\n",
      "File ../data/hdfs/hdfs_test_normal, number of seqs 1044\n",
      "Find 9323 train logs, 1044 validation logs\n",
      "Train batch size 2048 ,Validation batch size 2048\n",
      "Starting epoch: 0 | phase: train | ⏰: 17:43:13 | Learning rate: 0.000313\n"
     ]
    },
    {
     "name": "stderr",
     "output_type": "stream",
     "text": [
      "Train loss: 1.06572: 100%|██████████| 5/5 [00:00<00:00, 30.50it/s]\n"
     ]
    },
    {
     "name": "stdout",
     "output_type": "stream",
     "text": [
      "Starting epoch: 0 | phase: valid | ⏰: 17:43:13 \n"
     ]
    },
    {
     "name": "stderr",
     "output_type": "stream",
     "text": [
      ": 100%|██████████| 1/1 [00:00<00:00, 58.13it/s]\n"
     ]
    },
    {
     "name": "stdout",
     "output_type": "stream",
     "text": [
      "Validation loss: 1.018996238708496\n",
      "============ Test epoch 39 ============\n",
      "Client  0\n",
      "Number of sessions(hdfs_test_normal): 5813\n",
      "Number of sessions(hdfs_test_abnormal): 1136\n"
     ]
    },
    {
     "name": "stderr",
     "output_type": "stream",
     "text": [
      "100%|██████████| 5813/5813 [03:06<00:00, 31.12it/s]\n",
      "100%|██████████| 1136/1136 [00:25<00:00, 45.23it/s]\n"
     ]
    },
    {
     "name": "stdout",
     "output_type": "stream",
     "text": [
      "false positive (FP): 488, false negative (FN): 24, Precision: 87.262%, Recall: 99.287%, F1-measure: 92.887%\n",
      "actual positive (TP+FN): 3367, actual negative (FP+TN): 110673\n",
      "accuracy: 99.551\n",
      "Finished Predicting\n",
      "elapsed_time: 211.93014407157898\n",
      "Client  1\n",
      "Number of sessions(hdfs_test_normal): 5574\n",
      "Number of sessions(hdfs_test_abnormal): 1139\n"
     ]
    },
    {
     "name": "stderr",
     "output_type": "stream",
     "text": [
      "100%|██████████| 5574/5574 [03:55<00:00, 23.71it/s]\n",
      "100%|██████████| 1139/1139 [00:26<00:00, 42.70it/s]\n"
     ]
    },
    {
     "name": "stdout",
     "output_type": "stream",
     "text": [
      "false positive (FP): 527, false negative (FN): 25, Precision: 86.379%, Recall: 99.257%, F1-measure: 92.371%\n",
      "actual positive (TP+FN): 3367, actual negative (FP+TN): 110673\n",
      "accuracy: 99.516\n",
      "Finished Predicting\n",
      "elapsed_time: 261.81321692466736\n",
      "Client  2\n",
      "Number of sessions(hdfs_test_normal): 5730\n",
      "Number of sessions(hdfs_test_abnormal): 1118\n"
     ]
    },
    {
     "name": "stderr",
     "output_type": "stream",
     "text": [
      "100%|██████████| 5730/5730 [04:05<00:00, 23.32it/s]\n",
      "100%|██████████| 1118/1118 [00:26<00:00, 42.77it/s]\n"
     ]
    },
    {
     "name": "stdout",
     "output_type": "stream",
     "text": [
      "false positive (FP): 465, false negative (FN): 30, Precision: 87.770%, Recall: 99.109%, F1-measure: 93.095%\n",
      "actual positive (TP+FN): 3367, actual negative (FP+TN): 110673\n",
      "accuracy: 99.566\n",
      "Finished Predicting\n",
      "elapsed_time: 271.84557032585144\n",
      "Client  3\n",
      "Number of sessions(hdfs_test_normal): 5747\n",
      "Number of sessions(hdfs_test_abnormal): 1159\n"
     ]
    },
    {
     "name": "stderr",
     "output_type": "stream",
     "text": [
      "100%|██████████| 5747/5747 [04:05<00:00, 23.43it/s]\n",
      "100%|██████████| 1159/1159 [00:27<00:00, 41.72it/s]\n"
     ]
    },
    {
     "name": "stdout",
     "output_type": "stream",
     "text": [
      "false positive (FP): 448, false negative (FN): 30, Precision: 88.164%, Recall: 99.109%, F1-measure: 93.317%\n",
      "actual positive (TP+FN): 3367, actual negative (FP+TN): 110673\n",
      "accuracy: 99.581\n",
      "Finished Predicting\n",
      "elapsed_time: 273.0284025669098\n",
      "Client  4\n",
      "Number of sessions(hdfs_test_normal): 5623\n",
      "Number of sessions(hdfs_test_abnormal): 1121\n"
     ]
    },
    {
     "name": "stderr",
     "output_type": "stream",
     "text": [
      "100%|██████████| 5623/5623 [03:56<00:00, 23.78it/s]\n",
      "100%|██████████| 1121/1121 [00:25<00:00, 43.27it/s]\n"
     ]
    },
    {
     "name": "stdout",
     "output_type": "stream",
     "text": [
      "false positive (FP): 525, false negative (FN): 32, Precision: 86.399%, Recall: 99.050%, F1-measure: 92.293%\n",
      "actual positive (TP+FN): 3367, actual negative (FP+TN): 110673\n",
      "accuracy: 99.512\n",
      "Finished Predicting\n",
      "elapsed_time: 262.3969376087189\n",
      "============ Train epoch 40 ============\n",
      "Client  0\n",
      "File ../data/hdfs/hdfs_train, number of sessions 971\n",
      "File ../data/hdfs/hdfs_train, number of seqs 9420\n",
      "sampling...\n"
     ]
    },
    {
     "name": "stderr",
     "output_type": "stream",
     "text": [
      "100%|██████████| 1058/1058 [00:00<00:00, 3530.81it/s]\n"
     ]
    },
    {
     "name": "stdout",
     "output_type": "stream",
     "text": [
      "File ../data/hdfs/hdfs_test_normal, number of sessions 110673\n",
      "File ../data/hdfs/hdfs_test_normal, number of seqs 1058\n",
      "Find 9420 train logs, 1058 validation logs\n",
      "Train batch size 2048 ,Validation batch size 2048\n",
      "Starting epoch: 0 | phase: train | ⏰: 18:04:48 | Learning rate: 0.000313\n"
     ]
    },
    {
     "name": "stderr",
     "output_type": "stream",
     "text": [
      "Train loss: 1.01992: 100%|██████████| 5/5 [00:00<00:00, 27.41it/s]\n"
     ]
    },
    {
     "name": "stdout",
     "output_type": "stream",
     "text": [
      "Starting epoch: 0 | phase: valid | ⏰: 18:04:49 \n"
     ]
    },
    {
     "name": "stderr",
     "output_type": "stream",
     "text": [
      ": 100%|██████████| 1/1 [00:00<00:00, 55.72it/s]\n"
     ]
    },
    {
     "name": "stdout",
     "output_type": "stream",
     "text": [
      "Validation loss: 1.0009394884109497\n",
      "Client  1\n",
      "File ../data/hdfs/hdfs_train, number of sessions 971\n",
      "File ../data/hdfs/hdfs_train, number of seqs 9080\n",
      "sampling...\n"
     ]
    },
    {
     "name": "stderr",
     "output_type": "stream",
     "text": [
      "100%|██████████| 1046/1046 [00:00<00:00, 3574.27it/s]\n"
     ]
    },
    {
     "name": "stdout",
     "output_type": "stream",
     "text": [
      "File ../data/hdfs/hdfs_test_normal, number of sessions 110673\n",
      "File ../data/hdfs/hdfs_test_normal, number of seqs 1046\n",
      "Find 9080 train logs, 1046 validation logs\n",
      "Train batch size 2048 ,Validation batch size 2048\n",
      "Starting epoch: 0 | phase: train | ⏰: 18:05:00 | Learning rate: 0.000313\n"
     ]
    },
    {
     "name": "stderr",
     "output_type": "stream",
     "text": [
      "Train loss: 1.04758: 100%|██████████| 5/5 [00:00<00:00, 29.44it/s]\n"
     ]
    },
    {
     "name": "stdout",
     "output_type": "stream",
     "text": [
      "Starting epoch: 0 | phase: valid | ⏰: 18:05:00 \n"
     ]
    },
    {
     "name": "stderr",
     "output_type": "stream",
     "text": [
      ": 100%|██████████| 1/1 [00:00<00:00, 58.98it/s]\n"
     ]
    },
    {
     "name": "stdout",
     "output_type": "stream",
     "text": [
      "Validation loss: 0.9631220102310181\n",
      "Client  2\n",
      "File ../data/hdfs/hdfs_train, number of sessions 971\n",
      "File ../data/hdfs/hdfs_train, number of seqs 9485\n",
      "sampling...\n"
     ]
    },
    {
     "name": "stderr",
     "output_type": "stream",
     "text": [
      "100%|██████████| 1051/1051 [00:00<00:00, 3474.48it/s]\n"
     ]
    },
    {
     "name": "stdout",
     "output_type": "stream",
     "text": [
      "File ../data/hdfs/hdfs_test_normal, number of sessions 110673\n",
      "File ../data/hdfs/hdfs_test_normal, number of seqs 1051\n",
      "Find 9485 train logs, 1051 validation logs\n",
      "Train batch size 2048 ,Validation batch size 2048\n",
      "Starting epoch: 0 | phase: train | ⏰: 18:05:12 | Learning rate: 0.000313\n"
     ]
    },
    {
     "name": "stderr",
     "output_type": "stream",
     "text": [
      "Train loss: 1.04972: 100%|██████████| 5/5 [00:00<00:00, 28.86it/s]\n"
     ]
    },
    {
     "name": "stdout",
     "output_type": "stream",
     "text": [
      "Starting epoch: 0 | phase: valid | ⏰: 18:05:12 \n"
     ]
    },
    {
     "name": "stderr",
     "output_type": "stream",
     "text": [
      ": 100%|██████████| 1/1 [00:00<00:00, 56.18it/s]\n"
     ]
    },
    {
     "name": "stdout",
     "output_type": "stream",
     "text": [
      "Validation loss: 1.0327370166778564\n",
      "Client  3\n",
      "File ../data/hdfs/hdfs_train, number of sessions 971\n",
      "File ../data/hdfs/hdfs_train, number of seqs 9267\n",
      "sampling...\n"
     ]
    },
    {
     "name": "stderr",
     "output_type": "stream",
     "text": [
      "100%|██████████| 1057/1057 [00:00<00:00, 3434.57it/s]\n"
     ]
    },
    {
     "name": "stdout",
     "output_type": "stream",
     "text": [
      "File ../data/hdfs/hdfs_test_normal, number of sessions 110673\n",
      "File ../data/hdfs/hdfs_test_normal, number of seqs 1057\n",
      "Find 9267 train logs, 1057 validation logs\n",
      "Train batch size 2048 ,Validation batch size 2048\n",
      "Starting epoch: 0 | phase: train | ⏰: 18:05:24 | Learning rate: 0.000313\n"
     ]
    },
    {
     "name": "stderr",
     "output_type": "stream",
     "text": [
      "Train loss: 1.03037: 100%|██████████| 5/5 [00:00<00:00, 28.23it/s]\n"
     ]
    },
    {
     "name": "stdout",
     "output_type": "stream",
     "text": [
      "Starting epoch: 0 | phase: valid | ⏰: 18:05:24 \n"
     ]
    },
    {
     "name": "stderr",
     "output_type": "stream",
     "text": [
      ": 100%|██████████| 1/1 [00:00<00:00, 52.71it/s]\n"
     ]
    },
    {
     "name": "stdout",
     "output_type": "stream",
     "text": [
      "Validation loss: 0.9621683955192566\n",
      "Client  4\n",
      "File ../data/hdfs/hdfs_train, number of sessions 971\n",
      "File ../data/hdfs/hdfs_train, number of seqs 9323\n",
      "sampling...\n"
     ]
    },
    {
     "name": "stderr",
     "output_type": "stream",
     "text": [
      "100%|██████████| 1044/1044 [00:00<00:00, 3340.82it/s]\n"
     ]
    },
    {
     "name": "stdout",
     "output_type": "stream",
     "text": [
      "File ../data/hdfs/hdfs_test_normal, number of sessions 110673\n",
      "File ../data/hdfs/hdfs_test_normal, number of seqs 1044\n",
      "Find 9323 train logs, 1044 validation logs\n",
      "Train batch size 2048 ,Validation batch size 2048\n",
      "Starting epoch: 0 | phase: train | ⏰: 18:05:35 | Learning rate: 0.000313\n"
     ]
    },
    {
     "name": "stderr",
     "output_type": "stream",
     "text": [
      "Train loss: 1.04474: 100%|██████████| 5/5 [00:00<00:00, 28.10it/s]\n"
     ]
    },
    {
     "name": "stdout",
     "output_type": "stream",
     "text": [
      "Starting epoch: 0 | phase: valid | ⏰: 18:05:35 \n"
     ]
    },
    {
     "name": "stderr",
     "output_type": "stream",
     "text": [
      ": 100%|██████████| 1/1 [00:00<00:00, 56.66it/s]\n"
     ]
    },
    {
     "name": "stdout",
     "output_type": "stream",
     "text": [
      "Validation loss: 0.9755516052246094\n",
      "============ Test epoch 40 ============\n",
      "Client  0\n",
      "Number of sessions(hdfs_test_normal): 5813\n",
      "Number of sessions(hdfs_test_abnormal): 1136\n"
     ]
    },
    {
     "name": "stderr",
     "output_type": "stream",
     "text": [
      "100%|██████████| 5813/5813 [02:48<00:00, 34.46it/s]\n",
      "100%|██████████| 1136/1136 [00:25<00:00, 44.89it/s]\n"
     ]
    },
    {
     "name": "stdout",
     "output_type": "stream",
     "text": [
      "false positive (FP): 488, false negative (FN): 24, Precision: 87.262%, Recall: 99.287%, F1-measure: 92.887%\n",
      "actual positive (TP+FN): 3367, actual negative (FP+TN): 110673\n",
      "accuracy: 99.551\n",
      "Finished Predicting\n",
      "elapsed_time: 194.02149057388306\n",
      "Client  1\n",
      "Number of sessions(hdfs_test_normal): 5574\n",
      "Number of sessions(hdfs_test_abnormal): 1139\n"
     ]
    },
    {
     "name": "stderr",
     "output_type": "stream",
     "text": [
      "100%|██████████| 5574/5574 [03:54<00:00, 23.77it/s]\n",
      "100%|██████████| 1139/1139 [00:26<00:00, 43.01it/s]\n"
     ]
    },
    {
     "name": "stdout",
     "output_type": "stream",
     "text": [
      "false positive (FP): 527, false negative (FN): 25, Precision: 86.379%, Recall: 99.257%, F1-measure: 92.371%\n",
      "actual positive (TP+FN): 3367, actual negative (FP+TN): 110673\n",
      "accuracy: 99.516\n",
      "Finished Predicting\n",
      "elapsed_time: 261.00355195999146\n",
      "Client  2\n",
      "Number of sessions(hdfs_test_normal): 5730\n",
      "Number of sessions(hdfs_test_abnormal): 1118\n"
     ]
    },
    {
     "name": "stderr",
     "output_type": "stream",
     "text": [
      "100%|██████████| 5730/5730 [04:04<00:00, 23.44it/s]\n",
      "100%|██████████| 1118/1118 [00:26<00:00, 42.62it/s]\n"
     ]
    },
    {
     "name": "stdout",
     "output_type": "stream",
     "text": [
      "false positive (FP): 465, false negative (FN): 30, Precision: 87.770%, Recall: 99.109%, F1-measure: 93.095%\n",
      "actual positive (TP+FN): 3367, actual negative (FP+TN): 110673\n",
      "accuracy: 99.566\n",
      "Finished Predicting\n",
      "elapsed_time: 270.73426055908203\n",
      "Client  3\n",
      "Number of sessions(hdfs_test_normal): 5747\n",
      "Number of sessions(hdfs_test_abnormal): 1159\n"
     ]
    },
    {
     "name": "stderr",
     "output_type": "stream",
     "text": [
      "100%|██████████| 5747/5747 [04:06<00:00, 23.34it/s]\n",
      "100%|██████████| 1159/1159 [00:27<00:00, 41.85it/s]\n"
     ]
    },
    {
     "name": "stdout",
     "output_type": "stream",
     "text": [
      "false positive (FP): 448, false negative (FN): 30, Precision: 88.164%, Recall: 99.109%, F1-measure: 93.317%\n",
      "actual positive (TP+FN): 3367, actual negative (FP+TN): 110673\n",
      "accuracy: 99.581\n",
      "Finished Predicting\n",
      "elapsed_time: 273.9674639701843\n",
      "Client  4\n",
      "Number of sessions(hdfs_test_normal): 5623\n",
      "Number of sessions(hdfs_test_abnormal): 1121\n"
     ]
    },
    {
     "name": "stderr",
     "output_type": "stream",
     "text": [
      "100%|██████████| 5623/5623 [03:57<00:00, 23.64it/s]\n",
      "100%|██████████| 1121/1121 [00:25<00:00, 43.37it/s]\n"
     ]
    },
    {
     "name": "stdout",
     "output_type": "stream",
     "text": [
      "false positive (FP): 525, false negative (FN): 32, Precision: 86.399%, Recall: 99.050%, F1-measure: 92.293%\n",
      "actual positive (TP+FN): 3367, actual negative (FP+TN): 110673\n",
      "accuracy: 99.512\n",
      "Finished Predicting\n",
      "elapsed_time: 263.742214679718\n",
      "============ Train epoch 41 ============\n",
      "Client  0\n",
      "File ../data/hdfs/hdfs_train, number of sessions 971\n",
      "File ../data/hdfs/hdfs_train, number of seqs 9420\n",
      "sampling...\n"
     ]
    },
    {
     "name": "stderr",
     "output_type": "stream",
     "text": [
      "100%|██████████| 1058/1058 [00:00<00:00, 3463.39it/s]\n"
     ]
    },
    {
     "name": "stdout",
     "output_type": "stream",
     "text": [
      "File ../data/hdfs/hdfs_test_normal, number of sessions 110673\n",
      "File ../data/hdfs/hdfs_test_normal, number of seqs 1058\n",
      "Find 9420 train logs, 1058 validation logs\n",
      "Train batch size 2048 ,Validation batch size 2048\n",
      "Starting epoch: 0 | phase: train | ⏰: 18:26:54 | Learning rate: 0.000313\n"
     ]
    },
    {
     "name": "stderr",
     "output_type": "stream",
     "text": [
      "Train loss: 0.99727: 100%|██████████| 5/5 [00:00<00:00, 28.00it/s]\n"
     ]
    },
    {
     "name": "stdout",
     "output_type": "stream",
     "text": [
      "Starting epoch: 0 | phase: valid | ⏰: 18:26:54 \n"
     ]
    },
    {
     "name": "stderr",
     "output_type": "stream",
     "text": [
      ": 100%|██████████| 1/1 [00:00<00:00, 55.64it/s]\n"
     ]
    },
    {
     "name": "stdout",
     "output_type": "stream",
     "text": [
      "Validation loss: 1.0176033973693848\n",
      "Client  1\n",
      "File ../data/hdfs/hdfs_train, number of sessions 971\n",
      "File ../data/hdfs/hdfs_train, number of seqs 9080\n",
      "sampling...\n"
     ]
    },
    {
     "name": "stderr",
     "output_type": "stream",
     "text": [
      "100%|██████████| 1046/1046 [00:00<00:00, 3577.29it/s]\n"
     ]
    },
    {
     "name": "stdout",
     "output_type": "stream",
     "text": [
      "File ../data/hdfs/hdfs_test_normal, number of sessions 110673\n",
      "File ../data/hdfs/hdfs_test_normal, number of seqs 1046\n",
      "Find 9080 train logs, 1046 validation logs\n",
      "Train batch size 2048 ,Validation batch size 2048\n",
      "Starting epoch: 0 | phase: train | ⏰: 18:27:05 | Learning rate: 0.000313\n"
     ]
    },
    {
     "name": "stderr",
     "output_type": "stream",
     "text": [
      "Train loss: 1.02026: 100%|██████████| 5/5 [00:00<00:00, 28.11it/s]\n"
     ]
    },
    {
     "name": "stdout",
     "output_type": "stream",
     "text": [
      "Starting epoch: 0 | phase: valid | ⏰: 18:27:05 \n"
     ]
    },
    {
     "name": "stderr",
     "output_type": "stream",
     "text": [
      ": 100%|██████████| 1/1 [00:00<00:00, 55.43it/s]\n"
     ]
    },
    {
     "name": "stdout",
     "output_type": "stream",
     "text": [
      "Validation loss: 0.9756469130516052\n",
      "Client  2\n",
      "File ../data/hdfs/hdfs_train, number of sessions 971\n",
      "File ../data/hdfs/hdfs_train, number of seqs 9485\n",
      "sampling...\n"
     ]
    },
    {
     "name": "stderr",
     "output_type": "stream",
     "text": [
      "100%|██████████| 1051/1051 [00:00<00:00, 3649.95it/s]\n"
     ]
    },
    {
     "name": "stdout",
     "output_type": "stream",
     "text": [
      "File ../data/hdfs/hdfs_test_normal, number of sessions 110673\n",
      "File ../data/hdfs/hdfs_test_normal, number of seqs 1051\n",
      "Find 9485 train logs, 1051 validation logs\n",
      "Train batch size 2048 ,Validation batch size 2048\n",
      "Starting epoch: 0 | phase: train | ⏰: 18:27:17 | Learning rate: 0.000313\n"
     ]
    },
    {
     "name": "stderr",
     "output_type": "stream",
     "text": [
      "Train loss: 1.02058: 100%|██████████| 5/5 [00:00<00:00, 27.26it/s]\n"
     ]
    },
    {
     "name": "stdout",
     "output_type": "stream",
     "text": [
      "Starting epoch: 0 | phase: valid | ⏰: 18:27:17 \n"
     ]
    },
    {
     "name": "stderr",
     "output_type": "stream",
     "text": [
      ": 100%|██████████| 1/1 [00:00<00:00, 54.74it/s]\n"
     ]
    },
    {
     "name": "stdout",
     "output_type": "stream",
     "text": [
      "Validation loss: 0.9796596765518188\n",
      "Client  3\n",
      "File ../data/hdfs/hdfs_train, number of sessions 971\n",
      "File ../data/hdfs/hdfs_train, number of seqs 9267\n",
      "sampling...\n"
     ]
    },
    {
     "name": "stderr",
     "output_type": "stream",
     "text": [
      "100%|██████████| 1057/1057 [00:00<00:00, 3533.47it/s]\n"
     ]
    },
    {
     "name": "stdout",
     "output_type": "stream",
     "text": [
      "File ../data/hdfs/hdfs_test_normal, number of sessions 110673\n",
      "File ../data/hdfs/hdfs_test_normal, number of seqs 1057\n",
      "Find 9267 train logs, 1057 validation logs\n",
      "Train batch size 2048 ,Validation batch size 2048\n",
      "Starting epoch: 0 | phase: train | ⏰: 18:27:29 | Learning rate: 0.000313\n"
     ]
    },
    {
     "name": "stderr",
     "output_type": "stream",
     "text": [
      "Train loss: 1.00426: 100%|██████████| 5/5 [00:00<00:00, 29.08it/s]\n"
     ]
    },
    {
     "name": "stdout",
     "output_type": "stream",
     "text": [
      "Starting epoch: 0 | phase: valid | ⏰: 18:27:29 \n"
     ]
    },
    {
     "name": "stderr",
     "output_type": "stream",
     "text": [
      ": 100%|██████████| 1/1 [00:00<00:00, 55.80it/s]\n"
     ]
    },
    {
     "name": "stdout",
     "output_type": "stream",
     "text": [
      "Validation loss: 0.9892209768295288\n",
      "Client  4\n",
      "File ../data/hdfs/hdfs_train, number of sessions 971\n",
      "File ../data/hdfs/hdfs_train, number of seqs 9323\n",
      "sampling...\n"
     ]
    },
    {
     "name": "stderr",
     "output_type": "stream",
     "text": [
      "100%|██████████| 1044/1044 [00:00<00:00, 3587.09it/s]\n"
     ]
    },
    {
     "name": "stdout",
     "output_type": "stream",
     "text": [
      "File ../data/hdfs/hdfs_test_normal, number of sessions 110673\n",
      "File ../data/hdfs/hdfs_test_normal, number of seqs 1044\n",
      "Find 9323 train logs, 1044 validation logs\n",
      "Train batch size 2048 ,Validation batch size 2048\n",
      "Starting epoch: 0 | phase: train | ⏰: 18:27:40 | Learning rate: 0.000313\n"
     ]
    },
    {
     "name": "stderr",
     "output_type": "stream",
     "text": [
      "Train loss: 1.02244: 100%|██████████| 5/5 [00:00<00:00, 29.46it/s]\n"
     ]
    },
    {
     "name": "stdout",
     "output_type": "stream",
     "text": [
      "Starting epoch: 0 | phase: valid | ⏰: 18:27:41 \n"
     ]
    },
    {
     "name": "stderr",
     "output_type": "stream",
     "text": [
      ": 100%|██████████| 1/1 [00:00<00:00, 57.76it/s]\n"
     ]
    },
    {
     "name": "stdout",
     "output_type": "stream",
     "text": [
      "Validation loss: 0.9860953092575073\n",
      "============ Test epoch 41 ============\n",
      "Client  0\n",
      "Number of sessions(hdfs_test_normal): 5813\n",
      "Number of sessions(hdfs_test_abnormal): 1136\n"
     ]
    },
    {
     "name": "stderr",
     "output_type": "stream",
     "text": [
      "100%|██████████| 5813/5813 [02:44<00:00, 35.30it/s]\n",
      "100%|██████████| 1136/1136 [00:25<00:00, 44.76it/s]\n"
     ]
    },
    {
     "name": "stdout",
     "output_type": "stream",
     "text": [
      "false positive (FP): 488, false negative (FN): 24, Precision: 87.262%, Recall: 99.287%, F1-measure: 92.887%\n",
      "actual positive (TP+FN): 3367, actual negative (FP+TN): 110673\n",
      "accuracy: 99.551\n",
      "Finished Predicting\n",
      "elapsed_time: 190.05287790298462\n",
      "Client  1\n",
      "Number of sessions(hdfs_test_normal): 5574\n",
      "Number of sessions(hdfs_test_abnormal): 1139\n"
     ]
    },
    {
     "name": "stderr",
     "output_type": "stream",
     "text": [
      "100%|██████████| 5574/5574 [03:55<00:00, 23.69it/s]\n",
      "100%|██████████| 1139/1139 [00:26<00:00, 42.51it/s]\n"
     ]
    },
    {
     "name": "stdout",
     "output_type": "stream",
     "text": [
      "false positive (FP): 527, false negative (FN): 25, Precision: 86.379%, Recall: 99.257%, F1-measure: 92.371%\n",
      "actual positive (TP+FN): 3367, actual negative (FP+TN): 110673\n",
      "accuracy: 99.516\n",
      "Finished Predicting\n",
      "elapsed_time: 262.1029498577118\n",
      "Client  2\n",
      "Number of sessions(hdfs_test_normal): 5730\n",
      "Number of sessions(hdfs_test_abnormal): 1118\n"
     ]
    },
    {
     "name": "stderr",
     "output_type": "stream",
     "text": [
      "100%|██████████| 5730/5730 [04:06<00:00, 23.22it/s]\n",
      "100%|██████████| 1118/1118 [00:26<00:00, 42.46it/s]\n"
     ]
    },
    {
     "name": "stdout",
     "output_type": "stream",
     "text": [
      "false positive (FP): 465, false negative (FN): 30, Precision: 87.770%, Recall: 99.109%, F1-measure: 93.095%\n",
      "actual positive (TP+FN): 3367, actual negative (FP+TN): 110673\n",
      "accuracy: 99.566\n",
      "Finished Predicting\n",
      "elapsed_time: 273.10215973854065\n",
      "Client  3\n",
      "Number of sessions(hdfs_test_normal): 5747\n",
      "Number of sessions(hdfs_test_abnormal): 1159\n"
     ]
    },
    {
     "name": "stderr",
     "output_type": "stream",
     "text": [
      "100%|██████████| 5747/5747 [04:05<00:00, 23.42it/s]\n",
      "100%|██████████| 1159/1159 [00:27<00:00, 41.52it/s]\n"
     ]
    },
    {
     "name": "stdout",
     "output_type": "stream",
     "text": [
      "false positive (FP): 448, false negative (FN): 30, Precision: 88.164%, Recall: 99.109%, F1-measure: 93.317%\n",
      "actual positive (TP+FN): 3367, actual negative (FP+TN): 110673\n",
      "accuracy: 99.581\n",
      "Finished Predicting\n",
      "elapsed_time: 273.27244210243225\n",
      "Client  4\n",
      "Number of sessions(hdfs_test_normal): 5623\n",
      "Number of sessions(hdfs_test_abnormal): 1121\n"
     ]
    },
    {
     "name": "stderr",
     "output_type": "stream",
     "text": [
      "100%|██████████| 5623/5623 [03:57<00:00, 23.66it/s]\n",
      "100%|██████████| 1121/1121 [00:26<00:00, 42.90it/s]\n"
     ]
    },
    {
     "name": "stdout",
     "output_type": "stream",
     "text": [
      "false positive (FP): 525, false negative (FN): 32, Precision: 86.399%, Recall: 99.050%, F1-measure: 92.293%\n",
      "actual positive (TP+FN): 3367, actual negative (FP+TN): 110673\n",
      "accuracy: 99.512\n",
      "Finished Predicting\n",
      "elapsed_time: 263.84367322921753\n",
      "============ Train epoch 42 ============\n",
      "Client  0\n",
      "File ../data/hdfs/hdfs_train, number of sessions 971\n",
      "File ../data/hdfs/hdfs_train, number of seqs 9420\n",
      "sampling...\n"
     ]
    },
    {
     "name": "stderr",
     "output_type": "stream",
     "text": [
      "100%|██████████| 1058/1058 [00:00<00:00, 3491.98it/s]\n"
     ]
    },
    {
     "name": "stdout",
     "output_type": "stream",
     "text": [
      "File ../data/hdfs/hdfs_test_normal, number of sessions 110673\n",
      "File ../data/hdfs/hdfs_test_normal, number of seqs 1058\n",
      "Find 9420 train logs, 1058 validation logs\n",
      "Train batch size 2048 ,Validation batch size 2048\n",
      "Starting epoch: 0 | phase: train | ⏰: 18:48:58 | Learning rate: 0.000313\n"
     ]
    },
    {
     "name": "stderr",
     "output_type": "stream",
     "text": [
      "Train loss: 0.96966: 100%|██████████| 5/5 [00:00<00:00, 29.08it/s]\n"
     ]
    },
    {
     "name": "stdout",
     "output_type": "stream",
     "text": [
      "Starting epoch: 0 | phase: valid | ⏰: 18:48:58 \n"
     ]
    },
    {
     "name": "stderr",
     "output_type": "stream",
     "text": [
      ": 100%|██████████| 1/1 [00:00<00:00, 56.99it/s]\n"
     ]
    },
    {
     "name": "stdout",
     "output_type": "stream",
     "text": [
      "Validation loss: 0.9298021793365479\n",
      "Client  1\n",
      "File ../data/hdfs/hdfs_train, number of sessions 971\n",
      "File ../data/hdfs/hdfs_train, number of seqs 9080\n",
      "sampling...\n"
     ]
    },
    {
     "name": "stderr",
     "output_type": "stream",
     "text": [
      "100%|██████████| 1046/1046 [00:00<00:00, 3460.03it/s]\n"
     ]
    },
    {
     "name": "stdout",
     "output_type": "stream",
     "text": [
      "File ../data/hdfs/hdfs_test_normal, number of sessions 110673\n",
      "File ../data/hdfs/hdfs_test_normal, number of seqs 1046\n",
      "Find 9080 train logs, 1046 validation logs\n",
      "Train batch size 2048 ,Validation batch size 2048\n",
      "Starting epoch: 0 | phase: train | ⏰: 18:49:09 | Learning rate: 0.000313\n"
     ]
    },
    {
     "name": "stderr",
     "output_type": "stream",
     "text": [
      "Train loss: 1.00346: 100%|██████████| 5/5 [00:00<00:00, 27.89it/s]\n"
     ]
    },
    {
     "name": "stdout",
     "output_type": "stream",
     "text": [
      "Starting epoch: 0 | phase: valid | ⏰: 18:49:10 \n"
     ]
    },
    {
     "name": "stderr",
     "output_type": "stream",
     "text": [
      ": 100%|██████████| 1/1 [00:00<00:00, 58.62it/s]\n"
     ]
    },
    {
     "name": "stdout",
     "output_type": "stream",
     "text": [
      "Validation loss: 0.9962528347969055\n",
      "Client  2\n",
      "File ../data/hdfs/hdfs_train, number of sessions 971\n",
      "File ../data/hdfs/hdfs_train, number of seqs 9485\n",
      "sampling...\n"
     ]
    },
    {
     "name": "stderr",
     "output_type": "stream",
     "text": [
      "100%|██████████| 1051/1051 [00:00<00:00, 3564.04it/s]\n"
     ]
    },
    {
     "name": "stdout",
     "output_type": "stream",
     "text": [
      "File ../data/hdfs/hdfs_test_normal, number of sessions 110673\n",
      "File ../data/hdfs/hdfs_test_normal, number of seqs 1051\n",
      "Find 9485 train logs, 1051 validation logs\n",
      "Train batch size 2048 ,Validation batch size 2048\n",
      "Starting epoch: 0 | phase: train | ⏰: 18:49:21 | Learning rate: 0.000313\n"
     ]
    },
    {
     "name": "stderr",
     "output_type": "stream",
     "text": [
      "Train loss: 1.00585: 100%|██████████| 5/5 [00:00<00:00, 28.90it/s]\n"
     ]
    },
    {
     "name": "stdout",
     "output_type": "stream",
     "text": [
      "Starting epoch: 0 | phase: valid | ⏰: 18:49:21 \n"
     ]
    },
    {
     "name": "stderr",
     "output_type": "stream",
     "text": [
      ": 100%|██████████| 1/1 [00:00<00:00, 56.33it/s]\n"
     ]
    },
    {
     "name": "stdout",
     "output_type": "stream",
     "text": [
      "Validation loss: 0.9191908240318298\n",
      "Client  3\n",
      "File ../data/hdfs/hdfs_train, number of sessions 971\n",
      "File ../data/hdfs/hdfs_train, number of seqs 9267\n",
      "sampling...\n"
     ]
    },
    {
     "name": "stderr",
     "output_type": "stream",
     "text": [
      "100%|██████████| 1057/1057 [00:00<00:00, 3642.05it/s]\n"
     ]
    },
    {
     "name": "stdout",
     "output_type": "stream",
     "text": [
      "File ../data/hdfs/hdfs_test_normal, number of sessions 110673\n",
      "File ../data/hdfs/hdfs_test_normal, number of seqs 1057\n",
      "Find 9267 train logs, 1057 validation logs\n",
      "Train batch size 2048 ,Validation batch size 2048\n",
      "Starting epoch: 0 | phase: train | ⏰: 18:49:33 | Learning rate: 0.000313\n"
     ]
    },
    {
     "name": "stderr",
     "output_type": "stream",
     "text": [
      "Train loss: 0.98857: 100%|██████████| 5/5 [00:00<00:00, 28.21it/s]\n"
     ]
    },
    {
     "name": "stdout",
     "output_type": "stream",
     "text": [
      "Starting epoch: 0 | phase: valid | ⏰: 18:49:33 \n"
     ]
    },
    {
     "name": "stderr",
     "output_type": "stream",
     "text": [
      ": 100%|██████████| 1/1 [00:00<00:00, 55.29it/s]\n"
     ]
    },
    {
     "name": "stdout",
     "output_type": "stream",
     "text": [
      "Validation loss: 0.9192844033241272\n",
      "Client  4\n",
      "File ../data/hdfs/hdfs_train, number of sessions 971\n",
      "File ../data/hdfs/hdfs_train, number of seqs 9323\n",
      "sampling...\n"
     ]
    },
    {
     "name": "stderr",
     "output_type": "stream",
     "text": [
      "100%|██████████| 1044/1044 [00:00<00:00, 3503.07it/s]\n"
     ]
    },
    {
     "name": "stdout",
     "output_type": "stream",
     "text": [
      "File ../data/hdfs/hdfs_test_normal, number of sessions 110673\n",
      "File ../data/hdfs/hdfs_test_normal, number of seqs 1044\n",
      "Find 9323 train logs, 1044 validation logs\n",
      "Train batch size 2048 ,Validation batch size 2048\n",
      "Starting epoch: 0 | phase: train | ⏰: 18:49:45 | Learning rate: 0.000313\n"
     ]
    },
    {
     "name": "stderr",
     "output_type": "stream",
     "text": [
      "Train loss: 1.00494: 100%|██████████| 5/5 [00:00<00:00, 26.44it/s]\n"
     ]
    },
    {
     "name": "stdout",
     "output_type": "stream",
     "text": [
      "Starting epoch: 0 | phase: valid | ⏰: 18:49:45 \n"
     ]
    },
    {
     "name": "stderr",
     "output_type": "stream",
     "text": [
      ": 100%|██████████| 1/1 [00:00<00:00, 52.84it/s]\n"
     ]
    },
    {
     "name": "stdout",
     "output_type": "stream",
     "text": [
      "Validation loss: 0.9568545818328857\n",
      "============ Test epoch 42 ============\n",
      "Client  0\n",
      "Number of sessions(hdfs_test_normal): 5813\n",
      "Number of sessions(hdfs_test_abnormal): 1136\n"
     ]
    },
    {
     "name": "stderr",
     "output_type": "stream",
     "text": [
      "100%|██████████| 5813/5813 [02:42<00:00, 35.77it/s]\n",
      "100%|██████████| 1136/1136 [00:25<00:00, 44.65it/s]\n"
     ]
    },
    {
     "name": "stdout",
     "output_type": "stream",
     "text": [
      "false positive (FP): 488, false negative (FN): 24, Precision: 87.262%, Recall: 99.287%, F1-measure: 92.887%\n",
      "actual positive (TP+FN): 3367, actual negative (FP+TN): 110673\n",
      "accuracy: 99.551\n",
      "Finished Predicting\n",
      "elapsed_time: 187.96920824050903\n",
      "Client  1\n",
      "Number of sessions(hdfs_test_normal): 5574\n",
      "Number of sessions(hdfs_test_abnormal): 1139\n"
     ]
    },
    {
     "name": "stderr",
     "output_type": "stream",
     "text": [
      "100%|██████████| 5574/5574 [03:55<00:00, 23.68it/s]\n",
      "100%|██████████| 1139/1139 [00:26<00:00, 43.28it/s]\n"
     ]
    },
    {
     "name": "stdout",
     "output_type": "stream",
     "text": [
      "false positive (FP): 526, false negative (FN): 26, Precision: 86.398%, Recall: 99.228%, F1-measure: 92.369%\n",
      "actual positive (TP+FN): 3367, actual negative (FP+TN): 110673\n",
      "accuracy: 99.516\n",
      "Finished Predicting\n",
      "elapsed_time: 261.7090928554535\n",
      "Client  2\n",
      "Number of sessions(hdfs_test_normal): 5730\n",
      "Number of sessions(hdfs_test_abnormal): 1118\n"
     ]
    },
    {
     "name": "stderr",
     "output_type": "stream",
     "text": [
      "100%|██████████| 5730/5730 [04:05<00:00, 23.38it/s]\n",
      "100%|██████████| 1118/1118 [00:26<00:00, 42.81it/s]\n"
     ]
    },
    {
     "name": "stdout",
     "output_type": "stream",
     "text": [
      "false positive (FP): 464, false negative (FN): 31, Precision: 87.789%, Recall: 99.079%, F1-measure: 93.093%\n",
      "actual positive (TP+FN): 3367, actual negative (FP+TN): 110673\n",
      "accuracy: 99.566\n",
      "Finished Predicting\n",
      "elapsed_time: 271.19670057296753\n",
      "Client  3\n",
      "Number of sessions(hdfs_test_normal): 5747\n",
      "Number of sessions(hdfs_test_abnormal): 1159\n"
     ]
    },
    {
     "name": "stderr",
     "output_type": "stream",
     "text": [
      "100%|██████████| 5747/5747 [04:04<00:00, 23.49it/s]\n",
      "100%|██████████| 1159/1159 [00:27<00:00, 41.76it/s]\n"
     ]
    },
    {
     "name": "stdout",
     "output_type": "stream",
     "text": [
      "false positive (FP): 448, false negative (FN): 29, Precision: 88.167%, Recall: 99.139%, F1-measure: 93.331%\n",
      "actual positive (TP+FN): 3367, actual negative (FP+TN): 110673\n",
      "accuracy: 99.582\n",
      "Finished Predicting\n",
      "elapsed_time: 272.46528148651123\n",
      "Client  4\n",
      "Number of sessions(hdfs_test_normal): 5623\n",
      "Number of sessions(hdfs_test_abnormal): 1121\n"
     ]
    },
    {
     "name": "stderr",
     "output_type": "stream",
     "text": [
      "100%|██████████| 5623/5623 [03:57<00:00, 23.68it/s]\n",
      "100%|██████████| 1121/1121 [00:25<00:00, 43.58it/s]\n"
     ]
    },
    {
     "name": "stdout",
     "output_type": "stream",
     "text": [
      "false positive (FP): 524, false negative (FN): 32, Precision: 86.421%, Recall: 99.050%, F1-measure: 92.306%\n",
      "actual positive (TP+FN): 3367, actual negative (FP+TN): 110673\n",
      "accuracy: 99.512\n",
      "Finished Predicting\n",
      "elapsed_time: 263.14251804351807\n",
      "============ Train epoch 43 ============\n",
      "Client  0\n",
      "File ../data/hdfs/hdfs_train, number of sessions 971\n",
      "File ../data/hdfs/hdfs_train, number of seqs 9420\n",
      "sampling...\n"
     ]
    },
    {
     "name": "stderr",
     "output_type": "stream",
     "text": [
      "100%|██████████| 1058/1058 [00:00<00:00, 3585.92it/s]\n"
     ]
    },
    {
     "name": "stdout",
     "output_type": "stream",
     "text": [
      "File ../data/hdfs/hdfs_test_normal, number of sessions 110673\n",
      "File ../data/hdfs/hdfs_test_normal, number of seqs 1058\n",
      "Find 9420 train logs, 1058 validation logs\n",
      "Train batch size 2048 ,Validation batch size 2048\n",
      "Starting epoch: 0 | phase: train | ⏰: 19:10:56 | Learning rate: 0.000313\n"
     ]
    },
    {
     "name": "stderr",
     "output_type": "stream",
     "text": [
      "Train loss: 0.95154: 100%|██████████| 5/5 [00:00<00:00, 25.51it/s]\n"
     ]
    },
    {
     "name": "stdout",
     "output_type": "stream",
     "text": [
      "Starting epoch: 0 | phase: valid | ⏰: 19:10:56 \n"
     ]
    },
    {
     "name": "stderr",
     "output_type": "stream",
     "text": [
      ": 100%|██████████| 1/1 [00:00<00:00, 57.89it/s]\n"
     ]
    },
    {
     "name": "stdout",
     "output_type": "stream",
     "text": [
      "Validation loss: 0.9515694975852966\n",
      "Client  1\n",
      "File ../data/hdfs/hdfs_train, number of sessions 971\n",
      "File ../data/hdfs/hdfs_train, number of seqs 9080\n",
      "sampling...\n"
     ]
    },
    {
     "name": "stderr",
     "output_type": "stream",
     "text": [
      "100%|██████████| 1046/1046 [00:00<00:00, 3612.32it/s]\n"
     ]
    },
    {
     "name": "stdout",
     "output_type": "stream",
     "text": [
      "File ../data/hdfs/hdfs_test_normal, number of sessions 110673\n",
      "File ../data/hdfs/hdfs_test_normal, number of seqs 1046\n",
      "Find 9080 train logs, 1046 validation logs\n",
      "Train batch size 2048 ,Validation batch size 2048\n",
      "Starting epoch: 0 | phase: train | ⏰: 19:11:08 | Learning rate: 0.000313\n"
     ]
    },
    {
     "name": "stderr",
     "output_type": "stream",
     "text": [
      "Train loss: 0.99267: 100%|██████████| 5/5 [00:00<00:00, 28.80it/s]\n"
     ]
    },
    {
     "name": "stdout",
     "output_type": "stream",
     "text": [
      "Starting epoch: 0 | phase: valid | ⏰: 19:11:08 \n"
     ]
    },
    {
     "name": "stderr",
     "output_type": "stream",
     "text": [
      ": 100%|██████████| 1/1 [00:00<00:00, 57.46it/s]\n"
     ]
    },
    {
     "name": "stdout",
     "output_type": "stream",
     "text": [
      "Validation loss: 0.9389926791191101\n",
      "Client  2\n",
      "File ../data/hdfs/hdfs_train, number of sessions 971\n",
      "File ../data/hdfs/hdfs_train, number of seqs 9485\n",
      "sampling...\n"
     ]
    },
    {
     "name": "stderr",
     "output_type": "stream",
     "text": [
      "100%|██████████| 1051/1051 [00:00<00:00, 3518.23it/s]\n"
     ]
    },
    {
     "name": "stdout",
     "output_type": "stream",
     "text": [
      "File ../data/hdfs/hdfs_test_normal, number of sessions 110673\n",
      "File ../data/hdfs/hdfs_test_normal, number of seqs 1051\n",
      "Find 9485 train logs, 1051 validation logs\n",
      "Train batch size 2048 ,Validation batch size 2048\n",
      "Starting epoch: 0 | phase: train | ⏰: 19:11:20 | Learning rate: 0.000313\n"
     ]
    },
    {
     "name": "stderr",
     "output_type": "stream",
     "text": [
      "Train loss: 0.98517: 100%|██████████| 5/5 [00:00<00:00, 27.86it/s]\n"
     ]
    },
    {
     "name": "stdout",
     "output_type": "stream",
     "text": [
      "Starting epoch: 0 | phase: valid | ⏰: 19:11:20 \n"
     ]
    },
    {
     "name": "stderr",
     "output_type": "stream",
     "text": [
      ": 100%|██████████| 1/1 [00:00<00:00, 57.76it/s]\n"
     ]
    },
    {
     "name": "stdout",
     "output_type": "stream",
     "text": [
      "Validation loss: 0.9531949162483215\n",
      "Client  3\n",
      "File ../data/hdfs/hdfs_train, number of sessions 971\n",
      "File ../data/hdfs/hdfs_train, number of seqs 9267\n",
      "sampling...\n"
     ]
    },
    {
     "name": "stderr",
     "output_type": "stream",
     "text": [
      "100%|██████████| 1057/1057 [00:00<00:00, 3431.06it/s]\n"
     ]
    },
    {
     "name": "stdout",
     "output_type": "stream",
     "text": [
      "File ../data/hdfs/hdfs_test_normal, number of sessions 110673\n",
      "File ../data/hdfs/hdfs_test_normal, number of seqs 1057\n",
      "Find 9267 train logs, 1057 validation logs\n",
      "Train batch size 2048 ,Validation batch size 2048\n",
      "Starting epoch: 0 | phase: train | ⏰: 19:11:31 | Learning rate: 0.000313\n"
     ]
    },
    {
     "name": "stderr",
     "output_type": "stream",
     "text": [
      "Train loss: 0.95921: 100%|██████████| 5/5 [00:00<00:00, 29.30it/s]\n"
     ]
    },
    {
     "name": "stdout",
     "output_type": "stream",
     "text": [
      "Starting epoch: 0 | phase: valid | ⏰: 19:11:31 \n"
     ]
    },
    {
     "name": "stderr",
     "output_type": "stream",
     "text": [
      ": 100%|██████████| 1/1 [00:00<00:00, 56.69it/s]\n"
     ]
    },
    {
     "name": "stdout",
     "output_type": "stream",
     "text": [
      "Validation loss: 0.9644119143486023\n",
      "Client  4\n",
      "File ../data/hdfs/hdfs_train, number of sessions 971\n",
      "File ../data/hdfs/hdfs_train, number of seqs 9323\n",
      "sampling...\n"
     ]
    },
    {
     "name": "stderr",
     "output_type": "stream",
     "text": [
      "100%|██████████| 1044/1044 [00:00<00:00, 3548.83it/s]\n"
     ]
    },
    {
     "name": "stdout",
     "output_type": "stream",
     "text": [
      "File ../data/hdfs/hdfs_test_normal, number of sessions 110673\n",
      "File ../data/hdfs/hdfs_test_normal, number of seqs 1044\n",
      "Find 9323 train logs, 1044 validation logs\n",
      "Train batch size 2048 ,Validation batch size 2048\n",
      "Starting epoch: 0 | phase: train | ⏰: 19:11:43 | Learning rate: 0.000313\n"
     ]
    },
    {
     "name": "stderr",
     "output_type": "stream",
     "text": [
      "Train loss: 0.98220: 100%|██████████| 5/5 [00:00<00:00, 27.34it/s]\n"
     ]
    },
    {
     "name": "stdout",
     "output_type": "stream",
     "text": [
      "Starting epoch: 0 | phase: valid | ⏰: 19:11:43 \n"
     ]
    },
    {
     "name": "stderr",
     "output_type": "stream",
     "text": [
      ": 100%|██████████| 1/1 [00:00<00:00, 55.55it/s]\n"
     ]
    },
    {
     "name": "stdout",
     "output_type": "stream",
     "text": [
      "Validation loss: 0.9052917957305908\n",
      "============ Test epoch 43 ============\n",
      "Client  0\n",
      "Number of sessions(hdfs_test_normal): 5813\n",
      "Number of sessions(hdfs_test_abnormal): 1136\n"
     ]
    },
    {
     "name": "stderr",
     "output_type": "stream",
     "text": [
      "100%|██████████| 5813/5813 [02:53<00:00, 33.50it/s]\n",
      "100%|██████████| 1136/1136 [00:17<00:00, 65.98it/s]\n"
     ]
    },
    {
     "name": "stdout",
     "output_type": "stream",
     "text": [
      "false positive (FP): 487, false negative (FN): 24, Precision: 87.285%, Recall: 99.287%, F1-measure: 92.900%\n",
      "actual positive (TP+FN): 3367, actual negative (FP+TN): 110673\n",
      "accuracy: 99.552\n",
      "Finished Predicting\n",
      "elapsed_time: 190.75226306915283\n",
      "Client  1\n",
      "Number of sessions(hdfs_test_normal): 5574\n",
      "Number of sessions(hdfs_test_abnormal): 1139\n"
     ]
    },
    {
     "name": "stderr",
     "output_type": "stream",
     "text": [
      "100%|██████████| 5574/5574 [03:54<00:00, 23.77it/s]\n",
      "100%|██████████| 1139/1139 [00:26<00:00, 43.18it/s]\n"
     ]
    },
    {
     "name": "stdout",
     "output_type": "stream",
     "text": [
      "false positive (FP): 525, false negative (FN): 26, Precision: 86.420%, Recall: 99.228%, F1-measure: 92.382%\n",
      "actual positive (TP+FN): 3367, actual negative (FP+TN): 110673\n",
      "accuracy: 99.517\n",
      "Finished Predicting\n",
      "elapsed_time: 260.9086227416992\n",
      "Client  2\n",
      "Number of sessions(hdfs_test_normal): 5730\n",
      "Number of sessions(hdfs_test_abnormal): 1118\n"
     ]
    },
    {
     "name": "stderr",
     "output_type": "stream",
     "text": [
      "100%|██████████| 5730/5730 [04:05<00:00, 23.30it/s]\n",
      "100%|██████████| 1118/1118 [00:26<00:00, 42.53it/s]\n"
     ]
    },
    {
     "name": "stdout",
     "output_type": "stream",
     "text": [
      "false positive (FP): 464, false negative (FN): 31, Precision: 87.789%, Recall: 99.079%, F1-measure: 93.093%\n",
      "actual positive (TP+FN): 3367, actual negative (FP+TN): 110673\n",
      "accuracy: 99.566\n",
      "Finished Predicting\n",
      "elapsed_time: 272.1964509487152\n",
      "Client  3\n",
      "Number of sessions(hdfs_test_normal): 5747\n",
      "Number of sessions(hdfs_test_abnormal): 1159\n"
     ]
    },
    {
     "name": "stderr",
     "output_type": "stream",
     "text": [
      "100%|██████████| 5747/5747 [04:05<00:00, 23.41it/s]\n",
      "100%|██████████| 1159/1159 [00:27<00:00, 42.05it/s]\n"
     ]
    },
    {
     "name": "stdout",
     "output_type": "stream",
     "text": [
      "false positive (FP): 447, false negative (FN): 29, Precision: 88.190%, Recall: 99.139%, F1-measure: 93.345%\n",
      "actual positive (TP+FN): 3367, actual negative (FP+TN): 110673\n",
      "accuracy: 99.583\n",
      "Finished Predicting\n",
      "elapsed_time: 273.10652327537537\n",
      "Client  4\n",
      "Number of sessions(hdfs_test_normal): 5623\n",
      "Number of sessions(hdfs_test_abnormal): 1121\n"
     ]
    },
    {
     "name": "stderr",
     "output_type": "stream",
     "text": [
      "100%|██████████| 5623/5623 [03:58<00:00, 23.58it/s]\n",
      "100%|██████████| 1121/1121 [00:25<00:00, 43.28it/s]\n"
     ]
    },
    {
     "name": "stdout",
     "output_type": "stream",
     "text": [
      "false positive (FP): 524, false negative (FN): 32, Precision: 86.421%, Recall: 99.050%, F1-measure: 92.306%\n",
      "actual positive (TP+FN): 3367, actual negative (FP+TN): 110673\n",
      "accuracy: 99.512\n",
      "Finished Predicting\n",
      "elapsed_time: 264.34694504737854\n",
      "============ Train epoch 44 ============\n",
      "Client  0\n",
      "File ../data/hdfs/hdfs_train, number of sessions 971\n",
      "File ../data/hdfs/hdfs_train, number of seqs 9420\n",
      "sampling...\n"
     ]
    },
    {
     "name": "stderr",
     "output_type": "stream",
     "text": [
      "100%|██████████| 1058/1058 [00:00<00:00, 3568.02it/s]\n"
     ]
    },
    {
     "name": "stdout",
     "output_type": "stream",
     "text": [
      "File ../data/hdfs/hdfs_test_normal, number of sessions 110673\n",
      "File ../data/hdfs/hdfs_test_normal, number of seqs 1058\n",
      "Find 9420 train logs, 1058 validation logs\n",
      "Train batch size 2048 ,Validation batch size 2048\n",
      "Starting epoch: 0 | phase: train | ⏰: 19:32:59 | Learning rate: 0.000313\n"
     ]
    },
    {
     "name": "stderr",
     "output_type": "stream",
     "text": [
      "Train loss: 0.94628: 100%|██████████| 5/5 [00:00<00:00, 28.88it/s]\n"
     ]
    },
    {
     "name": "stdout",
     "output_type": "stream",
     "text": [
      "Starting epoch: 0 | phase: valid | ⏰: 19:32:59 \n"
     ]
    },
    {
     "name": "stderr",
     "output_type": "stream",
     "text": [
      ": 100%|██████████| 1/1 [00:00<00:00, 55.76it/s]\n"
     ]
    },
    {
     "name": "stdout",
     "output_type": "stream",
     "text": [
      "Validation loss: 0.9579096436500549\n",
      "Client  1\n",
      "File ../data/hdfs/hdfs_train, number of sessions 971\n",
      "File ../data/hdfs/hdfs_train, number of seqs 9080\n",
      "sampling...\n"
     ]
    },
    {
     "name": "stderr",
     "output_type": "stream",
     "text": [
      "100%|██████████| 1046/1046 [00:00<00:00, 3551.04it/s]\n"
     ]
    },
    {
     "name": "stdout",
     "output_type": "stream",
     "text": [
      "File ../data/hdfs/hdfs_test_normal, number of sessions 110673\n",
      "File ../data/hdfs/hdfs_test_normal, number of seqs 1046\n",
      "Find 9080 train logs, 1046 validation logs\n",
      "Train batch size 2048 ,Validation batch size 2048\n",
      "Starting epoch: 0 | phase: train | ⏰: 19:33:11 | Learning rate: 0.000313\n"
     ]
    },
    {
     "name": "stderr",
     "output_type": "stream",
     "text": [
      "Train loss: 0.96176: 100%|██████████| 5/5 [00:00<00:00, 29.28it/s]\n"
     ]
    },
    {
     "name": "stdout",
     "output_type": "stream",
     "text": [
      "Starting epoch: 0 | phase: valid | ⏰: 19:33:11 \n"
     ]
    },
    {
     "name": "stderr",
     "output_type": "stream",
     "text": [
      ": 100%|██████████| 1/1 [00:00<00:00, 55.41it/s]\n"
     ]
    },
    {
     "name": "stdout",
     "output_type": "stream",
     "text": [
      "Validation loss: 0.9064780473709106\n",
      "Client  2\n",
      "File ../data/hdfs/hdfs_train, number of sessions 971\n",
      "File ../data/hdfs/hdfs_train, number of seqs 9485\n",
      "sampling...\n"
     ]
    },
    {
     "name": "stderr",
     "output_type": "stream",
     "text": [
      "100%|██████████| 1051/1051 [00:00<00:00, 3569.29it/s]\n"
     ]
    },
    {
     "name": "stdout",
     "output_type": "stream",
     "text": [
      "File ../data/hdfs/hdfs_test_normal, number of sessions 110673\n",
      "File ../data/hdfs/hdfs_test_normal, number of seqs 1051\n",
      "Find 9485 train logs, 1051 validation logs\n",
      "Train batch size 2048 ,Validation batch size 2048\n",
      "Starting epoch: 0 | phase: train | ⏰: 19:33:22 | Learning rate: 0.000313\n"
     ]
    },
    {
     "name": "stderr",
     "output_type": "stream",
     "text": [
      "Train loss: 0.96475: 100%|██████████| 5/5 [00:00<00:00, 27.28it/s]\n"
     ]
    },
    {
     "name": "stdout",
     "output_type": "stream",
     "text": [
      "Starting epoch: 0 | phase: valid | ⏰: 19:33:23 \n"
     ]
    },
    {
     "name": "stderr",
     "output_type": "stream",
     "text": [
      ": 100%|██████████| 1/1 [00:00<00:00, 55.88it/s]\n"
     ]
    },
    {
     "name": "stdout",
     "output_type": "stream",
     "text": [
      "Validation loss: 0.9389980435371399\n",
      "Client  3\n",
      "File ../data/hdfs/hdfs_train, number of sessions 971\n",
      "File ../data/hdfs/hdfs_train, number of seqs 9267\n",
      "sampling...\n"
     ]
    },
    {
     "name": "stderr",
     "output_type": "stream",
     "text": [
      "100%|██████████| 1057/1057 [00:00<00:00, 3535.13it/s]\n"
     ]
    },
    {
     "name": "stdout",
     "output_type": "stream",
     "text": [
      "File ../data/hdfs/hdfs_test_normal, number of sessions 110673\n",
      "File ../data/hdfs/hdfs_test_normal, number of seqs 1057\n",
      "Find 9267 train logs, 1057 validation logs\n",
      "Train batch size 2048 ,Validation batch size 2048\n",
      "Starting epoch: 0 | phase: train | ⏰: 19:33:34 | Learning rate: 0.000313\n"
     ]
    },
    {
     "name": "stderr",
     "output_type": "stream",
     "text": [
      "Train loss: 0.94345: 100%|██████████| 5/5 [00:00<00:00, 29.12it/s]\n"
     ]
    },
    {
     "name": "stdout",
     "output_type": "stream",
     "text": [
      "Starting epoch: 0 | phase: valid | ⏰: 19:33:34 \n"
     ]
    },
    {
     "name": "stderr",
     "output_type": "stream",
     "text": [
      ": 100%|██████████| 1/1 [00:00<00:00, 56.22it/s]\n"
     ]
    },
    {
     "name": "stdout",
     "output_type": "stream",
     "text": [
      "Validation loss: 0.9137208461761475\n",
      "Client  4\n",
      "File ../data/hdfs/hdfs_train, number of sessions 971\n",
      "File ../data/hdfs/hdfs_train, number of seqs 9323\n",
      "sampling...\n"
     ]
    },
    {
     "name": "stderr",
     "output_type": "stream",
     "text": [
      "100%|██████████| 1044/1044 [00:00<00:00, 3566.53it/s]\n"
     ]
    },
    {
     "name": "stdout",
     "output_type": "stream",
     "text": [
      "File ../data/hdfs/hdfs_test_normal, number of sessions 110673\n",
      "File ../data/hdfs/hdfs_test_normal, number of seqs 1044\n",
      "Find 9323 train logs, 1044 validation logs\n",
      "Train batch size 2048 ,Validation batch size 2048\n",
      "Starting epoch: 0 | phase: train | ⏰: 19:33:46 | Learning rate: 0.000313\n"
     ]
    },
    {
     "name": "stderr",
     "output_type": "stream",
     "text": [
      "Train loss: 0.97230: 100%|██████████| 5/5 [00:00<00:00, 29.15it/s]\n"
     ]
    },
    {
     "name": "stdout",
     "output_type": "stream",
     "text": [
      "Starting epoch: 0 | phase: valid | ⏰: 19:33:46 \n"
     ]
    },
    {
     "name": "stderr",
     "output_type": "stream",
     "text": [
      ": 100%|██████████| 1/1 [00:00<00:00, 58.12it/s]\n"
     ]
    },
    {
     "name": "stdout",
     "output_type": "stream",
     "text": [
      "Validation loss: 0.9075465202331543\n",
      "============ Test epoch 44 ============\n",
      "Client  0\n",
      "Number of sessions(hdfs_test_normal): 5813\n",
      "Number of sessions(hdfs_test_abnormal): 1136\n"
     ]
    },
    {
     "name": "stderr",
     "output_type": "stream",
     "text": [
      "100%|██████████| 5813/5813 [03:18<00:00, 29.32it/s]\n",
      "100%|██████████| 1136/1136 [00:08<00:00, 126.35it/s]\n"
     ]
    },
    {
     "name": "stdout",
     "output_type": "stream",
     "text": [
      "false positive (FP): 487, false negative (FN): 24, Precision: 87.285%, Recall: 99.287%, F1-measure: 92.900%\n",
      "actual positive (TP+FN): 3367, actual negative (FP+TN): 110673\n",
      "accuracy: 99.552\n",
      "Finished Predicting\n",
      "elapsed_time: 207.26184153556824\n",
      "Client  1\n",
      "Number of sessions(hdfs_test_normal): 5574\n",
      "Number of sessions(hdfs_test_abnormal): 1139\n"
     ]
    },
    {
     "name": "stderr",
     "output_type": "stream",
     "text": [
      "100%|██████████| 5574/5574 [03:40<00:00, 25.26it/s]\n",
      "100%|██████████| 1139/1139 [00:26<00:00, 42.67it/s]\n"
     ]
    },
    {
     "name": "stdout",
     "output_type": "stream",
     "text": [
      "false positive (FP): 525, false negative (FN): 26, Precision: 86.420%, Recall: 99.228%, F1-measure: 92.382%\n",
      "actual positive (TP+FN): 3367, actual negative (FP+TN): 110673\n",
      "accuracy: 99.517\n",
      "Finished Predicting\n",
      "elapsed_time: 247.3805694580078\n",
      "Client  2\n",
      "Number of sessions(hdfs_test_normal): 5730\n",
      "Number of sessions(hdfs_test_abnormal): 1118\n"
     ]
    },
    {
     "name": "stderr",
     "output_type": "stream",
     "text": [
      "100%|██████████| 5730/5730 [04:03<00:00, 23.49it/s]\n",
      "100%|██████████| 1118/1118 [00:26<00:00, 42.61it/s]\n"
     ]
    },
    {
     "name": "stdout",
     "output_type": "stream",
     "text": [
      "false positive (FP): 463, false negative (FN): 31, Precision: 87.813%, Recall: 99.079%, F1-measure: 93.106%\n",
      "actual positive (TP+FN): 3367, actual negative (FP+TN): 110673\n",
      "accuracy: 99.567\n",
      "Finished Predicting\n",
      "elapsed_time: 270.20094108581543\n",
      "Client  3\n",
      "Number of sessions(hdfs_test_normal): 5747\n",
      "Number of sessions(hdfs_test_abnormal): 1159\n"
     ]
    },
    {
     "name": "stderr",
     "output_type": "stream",
     "text": [
      "100%|██████████| 5747/5747 [04:05<00:00, 23.43it/s]\n",
      "100%|██████████| 1159/1159 [00:27<00:00, 41.87it/s]\n"
     ]
    },
    {
     "name": "stdout",
     "output_type": "stream",
     "text": [
      "false positive (FP): 447, false negative (FN): 29, Precision: 88.190%, Recall: 99.139%, F1-measure: 93.345%\n",
      "actual positive (TP+FN): 3367, actual negative (FP+TN): 110673\n",
      "accuracy: 99.583\n",
      "Finished Predicting\n",
      "elapsed_time: 272.98834109306335\n",
      "Client  4\n",
      "Number of sessions(hdfs_test_normal): 5623\n",
      "Number of sessions(hdfs_test_abnormal): 1121\n"
     ]
    },
    {
     "name": "stderr",
     "output_type": "stream",
     "text": [
      "100%|██████████| 5623/5623 [03:56<00:00, 23.79it/s]\n",
      "100%|██████████| 1121/1121 [00:26<00:00, 43.08it/s]\n"
     ]
    },
    {
     "name": "stdout",
     "output_type": "stream",
     "text": [
      "false positive (FP): 524, false negative (FN): 32, Precision: 86.421%, Recall: 99.050%, F1-measure: 92.306%\n",
      "actual positive (TP+FN): 3367, actual negative (FP+TN): 110673\n",
      "accuracy: 99.512\n",
      "Finished Predicting\n",
      "elapsed_time: 262.388925075531\n",
      "============ Train epoch 45 ============\n",
      "Client  0\n",
      "File ../data/hdfs/hdfs_train, number of sessions 971\n",
      "File ../data/hdfs/hdfs_train, number of seqs 9420\n",
      "sampling...\n"
     ]
    },
    {
     "name": "stderr",
     "output_type": "stream",
     "text": [
      "100%|██████████| 1058/1058 [00:00<00:00, 3400.96it/s]\n"
     ]
    },
    {
     "name": "stdout",
     "output_type": "stream",
     "text": [
      "File ../data/hdfs/hdfs_test_normal, number of sessions 110673\n",
      "File ../data/hdfs/hdfs_test_normal, number of seqs 1058\n",
      "Find 9420 train logs, 1058 validation logs\n",
      "Train batch size 2048 ,Validation batch size 2048\n",
      "Starting epoch: 0 | phase: train | ⏰: 19:55:01 | Learning rate: 0.000313\n"
     ]
    },
    {
     "name": "stderr",
     "output_type": "stream",
     "text": [
      "Train loss: 0.92834: 100%|██████████| 5/5 [00:00<00:00, 28.98it/s]\n"
     ]
    },
    {
     "name": "stdout",
     "output_type": "stream",
     "text": [
      "Starting epoch: 0 | phase: valid | ⏰: 19:55:01 \n"
     ]
    },
    {
     "name": "stderr",
     "output_type": "stream",
     "text": [
      ": 100%|██████████| 1/1 [00:00<00:00, 57.15it/s]\n"
     ]
    },
    {
     "name": "stdout",
     "output_type": "stream",
     "text": [
      "Validation loss: 0.9214332699775696\n",
      "Client  1\n",
      "File ../data/hdfs/hdfs_train, number of sessions 971\n",
      "File ../data/hdfs/hdfs_train, number of seqs 9080\n",
      "sampling...\n"
     ]
    },
    {
     "name": "stderr",
     "output_type": "stream",
     "text": [
      "100%|██████████| 1046/1046 [00:00<00:00, 3488.19it/s]\n"
     ]
    },
    {
     "name": "stdout",
     "output_type": "stream",
     "text": [
      "File ../data/hdfs/hdfs_test_normal, number of sessions 110673\n",
      "File ../data/hdfs/hdfs_test_normal, number of seqs 1046\n",
      "Find 9080 train logs, 1046 validation logs\n",
      "Train batch size 2048 ,Validation batch size 2048\n",
      "Starting epoch: 0 | phase: train | ⏰: 19:55:13 | Learning rate: 0.000313\n"
     ]
    },
    {
     "name": "stderr",
     "output_type": "stream",
     "text": [
      "Train loss: 0.94602: 100%|██████████| 5/5 [00:00<00:00, 29.39it/s]\n"
     ]
    },
    {
     "name": "stdout",
     "output_type": "stream",
     "text": [
      "Starting epoch: 0 | phase: valid | ⏰: 19:55:13 \n"
     ]
    },
    {
     "name": "stderr",
     "output_type": "stream",
     "text": [
      ": 100%|██████████| 1/1 [00:00<00:00, 57.76it/s]\n"
     ]
    },
    {
     "name": "stdout",
     "output_type": "stream",
     "text": [
      "Validation loss: 0.944697380065918\n",
      "Client  2\n",
      "File ../data/hdfs/hdfs_train, number of sessions 971\n",
      "File ../data/hdfs/hdfs_train, number of seqs 9485\n",
      "sampling...\n"
     ]
    },
    {
     "name": "stderr",
     "output_type": "stream",
     "text": [
      "100%|██████████| 1051/1051 [00:00<00:00, 3514.99it/s]\n"
     ]
    },
    {
     "name": "stdout",
     "output_type": "stream",
     "text": [
      "File ../data/hdfs/hdfs_test_normal, number of sessions 110673\n",
      "File ../data/hdfs/hdfs_test_normal, number of seqs 1051\n",
      "Find 9485 train logs, 1051 validation logs\n",
      "Train batch size 2048 ,Validation batch size 2048\n",
      "Starting epoch: 0 | phase: train | ⏰: 19:55:25 | Learning rate: 0.000313\n"
     ]
    },
    {
     "name": "stderr",
     "output_type": "stream",
     "text": [
      "Train loss: 0.95051: 100%|██████████| 5/5 [00:00<00:00, 29.18it/s]\n"
     ]
    },
    {
     "name": "stdout",
     "output_type": "stream",
     "text": [
      "Starting epoch: 0 | phase: valid | ⏰: 19:55:25 \n"
     ]
    },
    {
     "name": "stderr",
     "output_type": "stream",
     "text": [
      ": 100%|██████████| 1/1 [00:00<00:00, 55.63it/s]\n"
     ]
    },
    {
     "name": "stdout",
     "output_type": "stream",
     "text": [
      "Validation loss: 0.9083403944969177\n",
      "Client  3\n",
      "File ../data/hdfs/hdfs_train, number of sessions 971\n",
      "File ../data/hdfs/hdfs_train, number of seqs 9267\n",
      "sampling...\n"
     ]
    },
    {
     "name": "stderr",
     "output_type": "stream",
     "text": [
      "100%|██████████| 1057/1057 [00:00<00:00, 3441.89it/s]\n"
     ]
    },
    {
     "name": "stdout",
     "output_type": "stream",
     "text": [
      "File ../data/hdfs/hdfs_test_normal, number of sessions 110673\n",
      "File ../data/hdfs/hdfs_test_normal, number of seqs 1057\n",
      "Find 9267 train logs, 1057 validation logs\n",
      "Train batch size 2048 ,Validation batch size 2048\n",
      "Starting epoch: 0 | phase: train | ⏰: 19:55:36 | Learning rate: 0.000313\n"
     ]
    },
    {
     "name": "stderr",
     "output_type": "stream",
     "text": [
      "Train loss: 0.93408: 100%|██████████| 5/5 [00:00<00:00, 29.21it/s]\n"
     ]
    },
    {
     "name": "stdout",
     "output_type": "stream",
     "text": [
      "Starting epoch: 0 | phase: valid | ⏰: 19:55:36 \n"
     ]
    },
    {
     "name": "stderr",
     "output_type": "stream",
     "text": [
      ": 100%|██████████| 1/1 [00:00<00:00, 57.00it/s]\n"
     ]
    },
    {
     "name": "stdout",
     "output_type": "stream",
     "text": [
      "Validation loss: 0.8920392990112305\n",
      "Client  4\n",
      "File ../data/hdfs/hdfs_train, number of sessions 971\n",
      "File ../data/hdfs/hdfs_train, number of seqs 9323\n",
      "sampling...\n"
     ]
    },
    {
     "name": "stderr",
     "output_type": "stream",
     "text": [
      "100%|██████████| 1044/1044 [00:00<00:00, 3556.79it/s]\n"
     ]
    },
    {
     "name": "stdout",
     "output_type": "stream",
     "text": [
      "File ../data/hdfs/hdfs_test_normal, number of sessions 110673\n",
      "File ../data/hdfs/hdfs_test_normal, number of seqs 1044\n",
      "Find 9323 train logs, 1044 validation logs\n",
      "Train batch size 2048 ,Validation batch size 2048\n",
      "Starting epoch: 0 | phase: train | ⏰: 19:55:48 | Learning rate: 0.000313\n"
     ]
    },
    {
     "name": "stderr",
     "output_type": "stream",
     "text": [
      "Train loss: 0.95157: 100%|██████████| 5/5 [00:00<00:00, 28.93it/s]\n"
     ]
    },
    {
     "name": "stdout",
     "output_type": "stream",
     "text": [
      "Starting epoch: 0 | phase: valid | ⏰: 19:55:48 \n"
     ]
    },
    {
     "name": "stderr",
     "output_type": "stream",
     "text": [
      ": 100%|██████████| 1/1 [00:00<00:00, 57.73it/s]\n"
     ]
    },
    {
     "name": "stdout",
     "output_type": "stream",
     "text": [
      "Validation loss: 0.8750149011611938\n",
      "============ Test epoch 45 ============\n",
      "Client  0\n",
      "Number of sessions(hdfs_test_normal): 5813\n",
      "Number of sessions(hdfs_test_abnormal): 1136\n"
     ]
    },
    {
     "name": "stderr",
     "output_type": "stream",
     "text": [
      "100%|██████████| 5813/5813 [03:42<00:00, 26.08it/s]\n",
      "100%|██████████| 1136/1136 [00:09<00:00, 126.05it/s]\n"
     ]
    },
    {
     "name": "stdout",
     "output_type": "stream",
     "text": [
      "false positive (FP): 483, false negative (FN): 24, Precision: 87.376%, Recall: 99.287%, F1-measure: 92.951%\n",
      "actual positive (TP+FN): 3367, actual negative (FP+TN): 110673\n",
      "accuracy: 99.555\n",
      "Finished Predicting\n",
      "elapsed_time: 231.87008476257324\n",
      "Client  1\n",
      "Number of sessions(hdfs_test_normal): 5574\n",
      "Number of sessions(hdfs_test_abnormal): 1139\n"
     ]
    },
    {
     "name": "stderr",
     "output_type": "stream",
     "text": [
      "100%|██████████| 5574/5574 [03:15<00:00, 28.57it/s]\n",
      "100%|██████████| 1139/1139 [00:26<00:00, 42.62it/s]\n"
     ]
    },
    {
     "name": "stdout",
     "output_type": "stream",
     "text": [
      "false positive (FP): 522, false negative (FN): 26, Precision: 86.487%, Recall: 99.228%, F1-measure: 92.420%\n",
      "actual positive (TP+FN): 3367, actual negative (FP+TN): 110673\n",
      "accuracy: 99.519\n",
      "Finished Predicting\n",
      "elapsed_time: 221.7967472076416\n",
      "Client  2\n",
      "Number of sessions(hdfs_test_normal): 5730\n",
      "Number of sessions(hdfs_test_abnormal): 1118\n"
     ]
    },
    {
     "name": "stderr",
     "output_type": "stream",
     "text": [
      "100%|██████████| 5730/5730 [04:05<00:00, 23.32it/s]\n",
      "100%|██████████| 1118/1118 [00:26<00:00, 42.63it/s]\n"
     ]
    },
    {
     "name": "stdout",
     "output_type": "stream",
     "text": [
      "false positive (FP): 463, false negative (FN): 31, Precision: 87.813%, Recall: 99.079%, F1-measure: 93.106%\n",
      "actual positive (TP+FN): 3367, actual negative (FP+TN): 110673\n",
      "accuracy: 99.567\n",
      "Finished Predicting\n",
      "elapsed_time: 271.9835925102234\n",
      "Client  3\n",
      "Number of sessions(hdfs_test_normal): 5747\n",
      "Number of sessions(hdfs_test_abnormal): 1159\n"
     ]
    },
    {
     "name": "stderr",
     "output_type": "stream",
     "text": [
      "100%|██████████| 5747/5747 [04:05<00:00, 23.39it/s]\n",
      "100%|██████████| 1159/1159 [00:27<00:00, 41.68it/s]\n"
     ]
    },
    {
     "name": "stdout",
     "output_type": "stream",
     "text": [
      "false positive (FP): 445, false negative (FN): 29, Precision: 88.237%, Recall: 99.139%, F1-measure: 93.371%\n",
      "actual positive (TP+FN): 3367, actual negative (FP+TN): 110673\n",
      "accuracy: 99.584\n",
      "Finished Predicting\n",
      "elapsed_time: 273.51333379745483\n",
      "Client  4\n",
      "Number of sessions(hdfs_test_normal): 5623\n",
      "Number of sessions(hdfs_test_abnormal): 1121\n"
     ]
    },
    {
     "name": "stderr",
     "output_type": "stream",
     "text": [
      "100%|██████████| 5623/5623 [03:58<00:00, 23.60it/s]\n",
      "100%|██████████| 1121/1121 [00:25<00:00, 43.29it/s]\n"
     ]
    },
    {
     "name": "stdout",
     "output_type": "stream",
     "text": [
      "false positive (FP): 520, false negative (FN): 32, Precision: 86.511%, Recall: 99.050%, F1-measure: 92.357%\n",
      "actual positive (TP+FN): 3367, actual negative (FP+TN): 110673\n",
      "accuracy: 99.516\n",
      "Finished Predicting\n",
      "elapsed_time: 264.1277639865875\n",
      "============ Train epoch 46 ============\n",
      "Client  0\n",
      "File ../data/hdfs/hdfs_train, number of sessions 971\n",
      "File ../data/hdfs/hdfs_train, number of seqs 9420\n",
      "sampling...\n"
     ]
    },
    {
     "name": "stderr",
     "output_type": "stream",
     "text": [
      "100%|██████████| 1058/1058 [00:00<00:00, 3518.16it/s]\n"
     ]
    },
    {
     "name": "stdout",
     "output_type": "stream",
     "text": [
      "File ../data/hdfs/hdfs_test_normal, number of sessions 110673\n",
      "File ../data/hdfs/hdfs_test_normal, number of seqs 1058\n",
      "Find 9420 train logs, 1058 validation logs\n",
      "Train batch size 2048 ,Validation batch size 2048\n",
      "Starting epoch: 0 | phase: train | ⏰: 20:17:06 | Learning rate: 0.000313\n"
     ]
    },
    {
     "name": "stderr",
     "output_type": "stream",
     "text": [
      "Train loss: 0.92666: 100%|██████████| 5/5 [00:00<00:00, 29.02it/s]\n"
     ]
    },
    {
     "name": "stdout",
     "output_type": "stream",
     "text": [
      "Starting epoch: 0 | phase: valid | ⏰: 20:17:06 \n"
     ]
    },
    {
     "name": "stderr",
     "output_type": "stream",
     "text": [
      ": 100%|██████████| 1/1 [00:00<00:00, 52.12it/s]\n"
     ]
    },
    {
     "name": "stdout",
     "output_type": "stream",
     "text": [
      "Validation loss: 0.9579523205757141\n",
      "Client  1\n",
      "File ../data/hdfs/hdfs_train, number of sessions 971\n",
      "File ../data/hdfs/hdfs_train, number of seqs 9080\n",
      "sampling...\n"
     ]
    },
    {
     "name": "stderr",
     "output_type": "stream",
     "text": [
      "100%|██████████| 1046/1046 [00:00<00:00, 3536.86it/s]\n"
     ]
    },
    {
     "name": "stdout",
     "output_type": "stream",
     "text": [
      "File ../data/hdfs/hdfs_test_normal, number of sessions 110673\n",
      "File ../data/hdfs/hdfs_test_normal, number of seqs 1046\n",
      "Find 9080 train logs, 1046 validation logs\n",
      "Train batch size 2048 ,Validation batch size 2048\n",
      "Starting epoch: 0 | phase: train | ⏰: 20:17:18 | Learning rate: 0.000313\n"
     ]
    },
    {
     "name": "stderr",
     "output_type": "stream",
     "text": [
      "Train loss: 0.96225: 100%|██████████| 5/5 [00:00<00:00, 27.69it/s]\n"
     ]
    },
    {
     "name": "stdout",
     "output_type": "stream",
     "text": [
      "Starting epoch: 0 | phase: valid | ⏰: 20:17:18 \n"
     ]
    },
    {
     "name": "stderr",
     "output_type": "stream",
     "text": [
      ": 100%|██████████| 1/1 [00:00<00:00, 54.98it/s]\n"
     ]
    },
    {
     "name": "stdout",
     "output_type": "stream",
     "text": [
      "Validation loss: 0.9487053155899048\n",
      "Client  2\n",
      "File ../data/hdfs/hdfs_train, number of sessions 971\n",
      "File ../data/hdfs/hdfs_train, number of seqs 9485\n",
      "sampling...\n"
     ]
    },
    {
     "name": "stderr",
     "output_type": "stream",
     "text": [
      "100%|██████████| 1051/1051 [00:00<00:00, 3326.91it/s]\n"
     ]
    },
    {
     "name": "stdout",
     "output_type": "stream",
     "text": [
      "File ../data/hdfs/hdfs_test_normal, number of sessions 110673\n",
      "File ../data/hdfs/hdfs_test_normal, number of seqs 1051\n",
      "Find 9485 train logs, 1051 validation logs\n",
      "Train batch size 2048 ,Validation batch size 2048\n",
      "Starting epoch: 0 | phase: train | ⏰: 20:17:29 | Learning rate: 0.000313\n"
     ]
    },
    {
     "name": "stderr",
     "output_type": "stream",
     "text": [
      "Train loss: 0.96496: 100%|██████████| 5/5 [00:00<00:00, 26.35it/s]\n"
     ]
    },
    {
     "name": "stdout",
     "output_type": "stream",
     "text": [
      "Starting epoch: 0 | phase: valid | ⏰: 20:17:30 \n"
     ]
    },
    {
     "name": "stderr",
     "output_type": "stream",
     "text": [
      ": 100%|██████████| 1/1 [00:00<00:00, 56.37it/s]\n"
     ]
    },
    {
     "name": "stdout",
     "output_type": "stream",
     "text": [
      "Validation loss: 0.9380545020103455\n",
      "Client  3\n",
      "File ../data/hdfs/hdfs_train, number of sessions 971\n",
      "File ../data/hdfs/hdfs_train, number of seqs 9267\n",
      "sampling...\n"
     ]
    },
    {
     "name": "stderr",
     "output_type": "stream",
     "text": [
      "100%|██████████| 1057/1057 [00:00<00:00, 3486.00it/s]\n"
     ]
    },
    {
     "name": "stdout",
     "output_type": "stream",
     "text": [
      "File ../data/hdfs/hdfs_test_normal, number of sessions 110673\n",
      "File ../data/hdfs/hdfs_test_normal, number of seqs 1057\n",
      "Find 9267 train logs, 1057 validation logs\n",
      "Train batch size 2048 ,Validation batch size 2048\n",
      "Starting epoch: 0 | phase: train | ⏰: 20:17:41 | Learning rate: 0.000313\n"
     ]
    },
    {
     "name": "stderr",
     "output_type": "stream",
     "text": [
      "Train loss: 0.93647: 100%|██████████| 5/5 [00:00<00:00, 28.21it/s]\n"
     ]
    },
    {
     "name": "stdout",
     "output_type": "stream",
     "text": [
      "Starting epoch: 0 | phase: valid | ⏰: 20:17:41 \n"
     ]
    },
    {
     "name": "stderr",
     "output_type": "stream",
     "text": [
      ": 100%|██████████| 1/1 [00:00<00:00, 56.15it/s]\n"
     ]
    },
    {
     "name": "stdout",
     "output_type": "stream",
     "text": [
      "Validation loss: 0.9051122665405273\n",
      "Client  4\n",
      "File ../data/hdfs/hdfs_train, number of sessions 971\n",
      "File ../data/hdfs/hdfs_train, number of seqs 9323\n",
      "sampling...\n"
     ]
    },
    {
     "name": "stderr",
     "output_type": "stream",
     "text": [
      "100%|██████████| 1044/1044 [00:00<00:00, 3449.50it/s]\n"
     ]
    },
    {
     "name": "stdout",
     "output_type": "stream",
     "text": [
      "File ../data/hdfs/hdfs_test_normal, number of sessions 110673\n",
      "File ../data/hdfs/hdfs_test_normal, number of seqs 1044\n",
      "Find 9323 train logs, 1044 validation logs\n",
      "Train batch size 2048 ,Validation batch size 2048\n",
      "Starting epoch: 0 | phase: train | ⏰: 20:17:53 | Learning rate: 0.000313\n"
     ]
    },
    {
     "name": "stderr",
     "output_type": "stream",
     "text": [
      "Train loss: 0.95205: 100%|██████████| 5/5 [00:00<00:00, 28.14it/s]\n"
     ]
    },
    {
     "name": "stdout",
     "output_type": "stream",
     "text": [
      "Starting epoch: 0 | phase: valid | ⏰: 20:17:53 \n"
     ]
    },
    {
     "name": "stderr",
     "output_type": "stream",
     "text": [
      ": 100%|██████████| 1/1 [00:00<00:00, 56.49it/s]\n"
     ]
    },
    {
     "name": "stdout",
     "output_type": "stream",
     "text": [
      "Validation loss: 0.9044049978256226\n",
      "============ Test epoch 46 ============\n",
      "Client  0\n",
      "Number of sessions(hdfs_test_normal): 5813\n",
      "Number of sessions(hdfs_test_abnormal): 1136\n"
     ]
    },
    {
     "name": "stderr",
     "output_type": "stream",
     "text": [
      "100%|██████████| 5813/5813 [04:01<00:00, 24.09it/s]\n",
      "100%|██████████| 1136/1136 [00:14<00:00, 76.69it/s] \n"
     ]
    },
    {
     "name": "stdout",
     "output_type": "stream",
     "text": [
      "false positive (FP): 481, false negative (FN): 24, Precision: 87.422%, Recall: 99.287%, F1-measure: 92.977%\n",
      "actual positive (TP+FN): 3367, actual negative (FP+TN): 110673\n",
      "accuracy: 99.557\n",
      "Finished Predicting\n",
      "elapsed_time: 256.0755043029785\n",
      "Client  1\n",
      "Number of sessions(hdfs_test_normal): 5574\n",
      "Number of sessions(hdfs_test_abnormal): 1139\n"
     ]
    },
    {
     "name": "stderr",
     "output_type": "stream",
     "text": [
      "100%|██████████| 5574/5574 [02:50<00:00, 32.79it/s]\n",
      "100%|██████████| 1139/1139 [00:26<00:00, 42.99it/s]\n"
     ]
    },
    {
     "name": "stdout",
     "output_type": "stream",
     "text": [
      "false positive (FP): 522, false negative (FN): 26, Precision: 86.487%, Recall: 99.228%, F1-measure: 92.420%\n",
      "actual positive (TP+FN): 3367, actual negative (FP+TN): 110673\n",
      "accuracy: 99.519\n",
      "Finished Predicting\n",
      "elapsed_time: 196.49806785583496\n",
      "Client  2\n",
      "Number of sessions(hdfs_test_normal): 5730\n",
      "Number of sessions(hdfs_test_abnormal): 1118\n"
     ]
    },
    {
     "name": "stderr",
     "output_type": "stream",
     "text": [
      "100%|██████████| 5730/5730 [04:05<00:00, 23.36it/s]\n",
      "100%|██████████| 1118/1118 [00:26<00:00, 42.44it/s]\n"
     ]
    },
    {
     "name": "stdout",
     "output_type": "stream",
     "text": [
      "false positive (FP): 463, false negative (FN): 31, Precision: 87.813%, Recall: 99.079%, F1-measure: 93.106%\n",
      "actual positive (TP+FN): 3367, actual negative (FP+TN): 110673\n",
      "accuracy: 99.567\n",
      "Finished Predicting\n",
      "elapsed_time: 271.64422941207886\n",
      "Client  3\n",
      "Number of sessions(hdfs_test_normal): 5747\n",
      "Number of sessions(hdfs_test_abnormal): 1159\n"
     ]
    },
    {
     "name": "stderr",
     "output_type": "stream",
     "text": [
      "100%|██████████| 5747/5747 [04:05<00:00, 23.37it/s]\n",
      "100%|██████████| 1159/1159 [00:27<00:00, 41.67it/s]\n"
     ]
    },
    {
     "name": "stdout",
     "output_type": "stream",
     "text": [
      "false positive (FP): 444, false negative (FN): 29, Precision: 88.260%, Recall: 99.139%, F1-measure: 93.384%\n",
      "actual positive (TP+FN): 3367, actual negative (FP+TN): 110673\n",
      "accuracy: 99.585\n",
      "Finished Predicting\n",
      "elapsed_time: 273.773166179657\n",
      "Client  4\n",
      "Number of sessions(hdfs_test_normal): 5623\n",
      "Number of sessions(hdfs_test_abnormal): 1121\n"
     ]
    },
    {
     "name": "stderr",
     "output_type": "stream",
     "text": [
      "100%|██████████| 5623/5623 [03:58<00:00, 23.60it/s]\n",
      "100%|██████████| 1121/1121 [00:26<00:00, 42.89it/s]\n"
     ]
    },
    {
     "name": "stdout",
     "output_type": "stream",
     "text": [
      "false positive (FP): 520, false negative (FN): 32, Precision: 86.511%, Recall: 99.050%, F1-measure: 92.357%\n",
      "actual positive (TP+FN): 3367, actual negative (FP+TN): 110673\n",
      "accuracy: 99.516\n",
      "Finished Predicting\n",
      "elapsed_time: 264.38823080062866\n",
      "============ Train epoch 47 ============\n",
      "Client  0\n",
      "File ../data/hdfs/hdfs_train, number of sessions 971\n",
      "File ../data/hdfs/hdfs_train, number of seqs 9420\n",
      "sampling...\n"
     ]
    },
    {
     "name": "stderr",
     "output_type": "stream",
     "text": [
      "100%|██████████| 1058/1058 [00:00<00:00, 3526.19it/s]\n"
     ]
    },
    {
     "name": "stdout",
     "output_type": "stream",
     "text": [
      "File ../data/hdfs/hdfs_test_normal, number of sessions 110673\n",
      "File ../data/hdfs/hdfs_test_normal, number of seqs 1058\n",
      "Find 9420 train logs, 1058 validation logs\n",
      "Train batch size 2048 ,Validation batch size 2048\n",
      "Starting epoch: 0 | phase: train | ⏰: 20:39:10 | Learning rate: 0.000313\n"
     ]
    },
    {
     "name": "stderr",
     "output_type": "stream",
     "text": [
      "Train loss: 0.89315: 100%|██████████| 5/5 [00:00<00:00, 27.72it/s]\n"
     ]
    },
    {
     "name": "stdout",
     "output_type": "stream",
     "text": [
      "Starting epoch: 0 | phase: valid | ⏰: 20:39:11 \n"
     ]
    },
    {
     "name": "stderr",
     "output_type": "stream",
     "text": [
      ": 100%|██████████| 1/1 [00:00<00:00, 53.35it/s]\n"
     ]
    },
    {
     "name": "stdout",
     "output_type": "stream",
     "text": [
      "Validation loss: 0.8982067704200745\n",
      "Client  1\n",
      "File ../data/hdfs/hdfs_train, number of sessions 971\n",
      "File ../data/hdfs/hdfs_train, number of seqs 9080\n",
      "sampling...\n"
     ]
    },
    {
     "name": "stderr",
     "output_type": "stream",
     "text": [
      "100%|██████████| 1046/1046 [00:00<00:00, 3637.24it/s]\n"
     ]
    },
    {
     "name": "stdout",
     "output_type": "stream",
     "text": [
      "File ../data/hdfs/hdfs_test_normal, number of sessions 110673\n",
      "File ../data/hdfs/hdfs_test_normal, number of seqs 1046\n",
      "Find 9080 train logs, 1046 validation logs\n",
      "Train batch size 2048 ,Validation batch size 2048\n",
      "Starting epoch: 0 | phase: train | ⏰: 20:39:22 | Learning rate: 0.000313\n"
     ]
    },
    {
     "name": "stderr",
     "output_type": "stream",
     "text": [
      "Train loss: 0.91683: 100%|██████████| 5/5 [00:00<00:00, 28.91it/s]\n"
     ]
    },
    {
     "name": "stdout",
     "output_type": "stream",
     "text": [
      "Starting epoch: 0 | phase: valid | ⏰: 20:39:22 \n"
     ]
    },
    {
     "name": "stderr",
     "output_type": "stream",
     "text": [
      ": 100%|██████████| 1/1 [00:00<00:00, 55.37it/s]\n"
     ]
    },
    {
     "name": "stdout",
     "output_type": "stream",
     "text": [
      "Validation loss: 0.8558304309844971\n",
      "Client  2\n",
      "File ../data/hdfs/hdfs_train, number of sessions 971\n",
      "File ../data/hdfs/hdfs_train, number of seqs 9485\n",
      "sampling...\n"
     ]
    },
    {
     "name": "stderr",
     "output_type": "stream",
     "text": [
      "100%|██████████| 1051/1051 [00:00<00:00, 3485.21it/s]\n"
     ]
    },
    {
     "name": "stdout",
     "output_type": "stream",
     "text": [
      "File ../data/hdfs/hdfs_test_normal, number of sessions 110673\n",
      "File ../data/hdfs/hdfs_test_normal, number of seqs 1051\n",
      "Find 9485 train logs, 1051 validation logs\n",
      "Train batch size 2048 ,Validation batch size 2048\n",
      "Starting epoch: 0 | phase: train | ⏰: 20:39:34 | Learning rate: 0.000313\n"
     ]
    },
    {
     "name": "stderr",
     "output_type": "stream",
     "text": [
      "Train loss: 0.92190: 100%|██████████| 5/5 [00:00<00:00, 27.80it/s]\n"
     ]
    },
    {
     "name": "stdout",
     "output_type": "stream",
     "text": [
      "Starting epoch: 0 | phase: valid | ⏰: 20:39:34 \n"
     ]
    },
    {
     "name": "stderr",
     "output_type": "stream",
     "text": [
      ": 100%|██████████| 1/1 [00:00<00:00, 53.29it/s]\n"
     ]
    },
    {
     "name": "stdout",
     "output_type": "stream",
     "text": [
      "Validation loss: 0.8786988854408264\n",
      "Client  3\n",
      "File ../data/hdfs/hdfs_train, number of sessions 971\n",
      "File ../data/hdfs/hdfs_train, number of seqs 9267\n",
      "sampling...\n"
     ]
    },
    {
     "name": "stderr",
     "output_type": "stream",
     "text": [
      "100%|██████████| 1057/1057 [00:00<00:00, 3465.20it/s]\n"
     ]
    },
    {
     "name": "stdout",
     "output_type": "stream",
     "text": [
      "File ../data/hdfs/hdfs_test_normal, number of sessions 110673\n",
      "File ../data/hdfs/hdfs_test_normal, number of seqs 1057\n",
      "Find 9267 train logs, 1057 validation logs\n",
      "Train batch size 2048 ,Validation batch size 2048\n",
      "Starting epoch: 0 | phase: train | ⏰: 20:39:46 | Learning rate: 0.000313\n"
     ]
    },
    {
     "name": "stderr",
     "output_type": "stream",
     "text": [
      "Train loss: 0.89554: 100%|██████████| 5/5 [00:00<00:00, 28.22it/s]\n"
     ]
    },
    {
     "name": "stdout",
     "output_type": "stream",
     "text": [
      "Starting epoch: 0 | phase: valid | ⏰: 20:39:46 \n"
     ]
    },
    {
     "name": "stderr",
     "output_type": "stream",
     "text": [
      ": 100%|██████████| 1/1 [00:00<00:00, 56.97it/s]\n"
     ]
    },
    {
     "name": "stdout",
     "output_type": "stream",
     "text": [
      "Validation loss: 0.87483149766922\n",
      "Client  4\n",
      "File ../data/hdfs/hdfs_train, number of sessions 971\n",
      "File ../data/hdfs/hdfs_train, number of seqs 9323\n",
      "sampling...\n"
     ]
    },
    {
     "name": "stderr",
     "output_type": "stream",
     "text": [
      "100%|██████████| 1044/1044 [00:00<00:00, 3599.12it/s]\n"
     ]
    },
    {
     "name": "stdout",
     "output_type": "stream",
     "text": [
      "File ../data/hdfs/hdfs_test_normal, number of sessions 110673\n",
      "File ../data/hdfs/hdfs_test_normal, number of seqs 1044\n",
      "Find 9323 train logs, 1044 validation logs\n",
      "Train batch size 2048 ,Validation batch size 2048\n",
      "Starting epoch: 0 | phase: train | ⏰: 20:39:57 | Learning rate: 0.000313\n"
     ]
    },
    {
     "name": "stderr",
     "output_type": "stream",
     "text": [
      "Train loss: 0.92203: 100%|██████████| 5/5 [00:00<00:00, 28.44it/s]\n"
     ]
    },
    {
     "name": "stdout",
     "output_type": "stream",
     "text": [
      "Starting epoch: 0 | phase: valid | ⏰: 20:39:58 \n"
     ]
    },
    {
     "name": "stderr",
     "output_type": "stream",
     "text": [
      ": 100%|██████████| 1/1 [00:00<00:00, 57.17it/s]\n"
     ]
    },
    {
     "name": "stdout",
     "output_type": "stream",
     "text": [
      "Validation loss: 0.9168506860733032\n",
      "============ Test epoch 47 ============\n",
      "Client  0\n",
      "Number of sessions(hdfs_test_normal): 5813\n",
      "Number of sessions(hdfs_test_abnormal): 1136\n"
     ]
    },
    {
     "name": "stderr",
     "output_type": "stream",
     "text": [
      "100%|██████████| 5813/5813 [04:07<00:00, 23.49it/s]\n",
      "100%|██████████| 1136/1136 [00:23<00:00, 48.70it/s]\n"
     ]
    },
    {
     "name": "stdout",
     "output_type": "stream",
     "text": [
      "false positive (FP): 488, false negative (FN): 24, Precision: 87.262%, Recall: 99.287%, F1-measure: 92.887%\n",
      "actual positive (TP+FN): 3367, actual negative (FP+TN): 110673\n",
      "accuracy: 99.551\n",
      "Finished Predicting\n",
      "elapsed_time: 270.81440830230713\n",
      "Client  1\n",
      "Number of sessions(hdfs_test_normal): 5574\n",
      "Number of sessions(hdfs_test_abnormal): 1139\n"
     ]
    },
    {
     "name": "stderr",
     "output_type": "stream",
     "text": [
      "100%|██████████| 5574/5574 [02:32<00:00, 36.62it/s]\n",
      "100%|██████████| 1139/1139 [00:26<00:00, 42.95it/s]\n"
     ]
    },
    {
     "name": "stdout",
     "output_type": "stream",
     "text": [
      "false positive (FP): 525, false negative (FN): 26, Precision: 86.420%, Recall: 99.228%, F1-measure: 92.382%\n",
      "actual positive (TP+FN): 3367, actual negative (FP+TN): 110673\n",
      "accuracy: 99.517\n",
      "Finished Predicting\n",
      "elapsed_time: 178.74199867248535\n",
      "Client  2\n",
      "Number of sessions(hdfs_test_normal): 5730\n",
      "Number of sessions(hdfs_test_abnormal): 1118\n"
     ]
    },
    {
     "name": "stderr",
     "output_type": "stream",
     "text": [
      "100%|██████████| 5730/5730 [04:05<00:00, 23.38it/s]\n",
      "100%|██████████| 1118/1118 [00:26<00:00, 42.60it/s]\n"
     ]
    },
    {
     "name": "stdout",
     "output_type": "stream",
     "text": [
      "false positive (FP): 464, false negative (FN): 31, Precision: 87.789%, Recall: 99.079%, F1-measure: 93.093%\n",
      "actual positive (TP+FN): 3367, actual negative (FP+TN): 110673\n",
      "accuracy: 99.566\n",
      "Finished Predicting\n",
      "elapsed_time: 271.3192722797394\n",
      "Client  3\n",
      "Number of sessions(hdfs_test_normal): 5747\n",
      "Number of sessions(hdfs_test_abnormal): 1159\n"
     ]
    },
    {
     "name": "stderr",
     "output_type": "stream",
     "text": [
      "100%|██████████| 5747/5747 [04:04<00:00, 23.49it/s]\n",
      "100%|██████████| 1159/1159 [00:27<00:00, 42.16it/s]\n"
     ]
    },
    {
     "name": "stdout",
     "output_type": "stream",
     "text": [
      "false positive (FP): 447, false negative (FN): 29, Precision: 88.190%, Recall: 99.139%, F1-measure: 93.345%\n",
      "actual positive (TP+FN): 3367, actual negative (FP+TN): 110673\n",
      "accuracy: 99.583\n",
      "Finished Predicting\n",
      "elapsed_time: 272.1164884567261\n",
      "Client  4\n",
      "Number of sessions(hdfs_test_normal): 5623\n",
      "Number of sessions(hdfs_test_abnormal): 1121\n"
     ]
    },
    {
     "name": "stderr",
     "output_type": "stream",
     "text": [
      "100%|██████████| 5623/5623 [03:57<00:00, 23.72it/s]\n",
      "100%|██████████| 1121/1121 [00:26<00:00, 42.84it/s]\n"
     ]
    },
    {
     "name": "stdout",
     "output_type": "stream",
     "text": [
      "false positive (FP): 523, false negative (FN): 32, Precision: 86.444%, Recall: 99.050%, F1-measure: 92.318%\n",
      "actual positive (TP+FN): 3367, actual negative (FP+TN): 110673\n",
      "accuracy: 99.513\n",
      "Finished Predicting\n",
      "elapsed_time: 263.2141888141632\n",
      "============ Train epoch 48 ============\n",
      "Client  0\n",
      "File ../data/hdfs/hdfs_train, number of sessions 971\n",
      "File ../data/hdfs/hdfs_train, number of seqs 9420\n",
      "sampling...\n"
     ]
    },
    {
     "name": "stderr",
     "output_type": "stream",
     "text": [
      "100%|██████████| 1058/1058 [00:00<00:00, 3327.05it/s]\n"
     ]
    },
    {
     "name": "stdout",
     "output_type": "stream",
     "text": [
      "File ../data/hdfs/hdfs_test_normal, number of sessions 110673\n",
      "File ../data/hdfs/hdfs_test_normal, number of seqs 1058\n",
      "Find 9420 train logs, 1058 validation logs\n",
      "Train batch size 2048 ,Validation batch size 2048\n",
      "Starting epoch: 0 | phase: train | ⏰: 21:01:09 | Learning rate: 0.000313\n"
     ]
    },
    {
     "name": "stderr",
     "output_type": "stream",
     "text": [
      "Train loss: 0.88284: 100%|██████████| 5/5 [00:00<00:00, 28.09it/s]\n"
     ]
    },
    {
     "name": "stdout",
     "output_type": "stream",
     "text": [
      "Starting epoch: 0 | phase: valid | ⏰: 21:01:09 \n"
     ]
    },
    {
     "name": "stderr",
     "output_type": "stream",
     "text": [
      ": 100%|██████████| 1/1 [00:00<00:00, 57.70it/s]\n"
     ]
    },
    {
     "name": "stdout",
     "output_type": "stream",
     "text": [
      "Validation loss: 0.8704254031181335\n",
      "Client  1\n",
      "File ../data/hdfs/hdfs_train, number of sessions 971\n",
      "File ../data/hdfs/hdfs_train, number of seqs 9080\n",
      "sampling...\n"
     ]
    },
    {
     "name": "stderr",
     "output_type": "stream",
     "text": [
      "100%|██████████| 1046/1046 [00:00<00:00, 3668.00it/s]\n"
     ]
    },
    {
     "name": "stdout",
     "output_type": "stream",
     "text": [
      "File ../data/hdfs/hdfs_test_normal, number of sessions 110673\n",
      "File ../data/hdfs/hdfs_test_normal, number of seqs 1046\n",
      "Find 9080 train logs, 1046 validation logs\n",
      "Train batch size 2048 ,Validation batch size 2048\n",
      "Starting epoch: 0 | phase: train | ⏰: 21:01:20 | Learning rate: 0.000313\n"
     ]
    },
    {
     "name": "stderr",
     "output_type": "stream",
     "text": [
      "Train loss: 0.91815: 100%|██████████| 5/5 [00:00<00:00, 29.36it/s]\n"
     ]
    },
    {
     "name": "stdout",
     "output_type": "stream",
     "text": [
      "Starting epoch: 0 | phase: valid | ⏰: 21:01:21 \n"
     ]
    },
    {
     "name": "stderr",
     "output_type": "stream",
     "text": [
      ": 100%|██████████| 1/1 [00:00<00:00, 57.09it/s]\n"
     ]
    },
    {
     "name": "stdout",
     "output_type": "stream",
     "text": [
      "Validation loss: 0.9584096670150757\n",
      "Client  2\n",
      "File ../data/hdfs/hdfs_train, number of sessions 971\n",
      "File ../data/hdfs/hdfs_train, number of seqs 9485\n",
      "sampling...\n"
     ]
    },
    {
     "name": "stderr",
     "output_type": "stream",
     "text": [
      "100%|██████████| 1051/1051 [00:00<00:00, 3368.50it/s]\n"
     ]
    },
    {
     "name": "stdout",
     "output_type": "stream",
     "text": [
      "File ../data/hdfs/hdfs_test_normal, number of sessions 110673\n",
      "File ../data/hdfs/hdfs_test_normal, number of seqs 1051\n",
      "Find 9485 train logs, 1051 validation logs\n",
      "Train batch size 2048 ,Validation batch size 2048\n",
      "Starting epoch: 0 | phase: train | ⏰: 21:01:32 | Learning rate: 0.000313\n"
     ]
    },
    {
     "name": "stderr",
     "output_type": "stream",
     "text": [
      "Train loss: 0.90726: 100%|██████████| 5/5 [00:00<00:00, 27.46it/s]\n"
     ]
    },
    {
     "name": "stdout",
     "output_type": "stream",
     "text": [
      "Starting epoch: 0 | phase: valid | ⏰: 21:01:32 \n"
     ]
    },
    {
     "name": "stderr",
     "output_type": "stream",
     "text": [
      ": 100%|██████████| 1/1 [00:00<00:00, 55.20it/s]\n"
     ]
    },
    {
     "name": "stdout",
     "output_type": "stream",
     "text": [
      "Validation loss: 0.8662956953048706\n",
      "Client  3\n",
      "File ../data/hdfs/hdfs_train, number of sessions 971\n",
      "File ../data/hdfs/hdfs_train, number of seqs 9267\n",
      "sampling...\n"
     ]
    },
    {
     "name": "stderr",
     "output_type": "stream",
     "text": [
      "100%|██████████| 1057/1057 [00:00<00:00, 3467.51it/s]\n"
     ]
    },
    {
     "name": "stdout",
     "output_type": "stream",
     "text": [
      "File ../data/hdfs/hdfs_test_normal, number of sessions 110673\n",
      "File ../data/hdfs/hdfs_test_normal, number of seqs 1057\n",
      "Find 9267 train logs, 1057 validation logs\n",
      "Train batch size 2048 ,Validation batch size 2048\n",
      "Starting epoch: 0 | phase: train | ⏰: 21:01:44 | Learning rate: 0.000313\n"
     ]
    },
    {
     "name": "stderr",
     "output_type": "stream",
     "text": [
      "Train loss: 0.91050: 100%|██████████| 5/5 [00:00<00:00, 27.83it/s]\n"
     ]
    },
    {
     "name": "stdout",
     "output_type": "stream",
     "text": [
      "Starting epoch: 0 | phase: valid | ⏰: 21:01:44 \n"
     ]
    },
    {
     "name": "stderr",
     "output_type": "stream",
     "text": [
      ": 100%|██████████| 1/1 [00:00<00:00, 56.28it/s]\n"
     ]
    },
    {
     "name": "stdout",
     "output_type": "stream",
     "text": [
      "Validation loss: 0.9332755208015442\n",
      "Client  4\n",
      "File ../data/hdfs/hdfs_train, number of sessions 971\n",
      "File ../data/hdfs/hdfs_train, number of seqs 9323\n",
      "sampling...\n"
     ]
    },
    {
     "name": "stderr",
     "output_type": "stream",
     "text": [
      "100%|██████████| 1044/1044 [00:00<00:00, 3674.14it/s]\n"
     ]
    },
    {
     "name": "stdout",
     "output_type": "stream",
     "text": [
      "File ../data/hdfs/hdfs_test_normal, number of sessions 110673\n",
      "File ../data/hdfs/hdfs_test_normal, number of seqs 1044\n",
      "Find 9323 train logs, 1044 validation logs\n",
      "Train batch size 2048 ,Validation batch size 2048\n",
      "Starting epoch: 0 | phase: train | ⏰: 21:01:56 | Learning rate: 0.000313\n"
     ]
    },
    {
     "name": "stderr",
     "output_type": "stream",
     "text": [
      "Train loss: 0.91307: 100%|██████████| 5/5 [00:00<00:00, 27.27it/s]\n"
     ]
    },
    {
     "name": "stdout",
     "output_type": "stream",
     "text": [
      "Starting epoch: 0 | phase: valid | ⏰: 21:01:56 \n"
     ]
    },
    {
     "name": "stderr",
     "output_type": "stream",
     "text": [
      ": 100%|██████████| 1/1 [00:00<00:00, 53.20it/s]\n"
     ]
    },
    {
     "name": "stdout",
     "output_type": "stream",
     "text": [
      "Validation loss: 0.8538094162940979\n",
      "============ Test epoch 48 ============\n",
      "Client  0\n",
      "Number of sessions(hdfs_test_normal): 5813\n",
      "Number of sessions(hdfs_test_abnormal): 1136\n"
     ]
    },
    {
     "name": "stderr",
     "output_type": "stream",
     "text": [
      "100%|██████████| 5813/5813 [04:07<00:00, 23.47it/s]\n",
      "100%|██████████| 1136/1136 [00:25<00:00, 44.95it/s]\n"
     ]
    },
    {
     "name": "stdout",
     "output_type": "stream",
     "text": [
      "false positive (FP): 485, false negative (FN): 24, Precision: 87.330%, Recall: 99.287%, F1-measure: 92.926%\n",
      "actual positive (TP+FN): 3367, actual negative (FP+TN): 110673\n",
      "accuracy: 99.554\n",
      "Finished Predicting\n",
      "elapsed_time: 272.96160531044006\n",
      "Client  1\n",
      "Number of sessions(hdfs_test_normal): 5574\n",
      "Number of sessions(hdfs_test_abnormal): 1139\n"
     ]
    },
    {
     "name": "stderr",
     "output_type": "stream",
     "text": [
      "100%|██████████| 5574/5574 [02:32<00:00, 36.60it/s]\n",
      "100%|██████████| 1139/1139 [00:26<00:00, 43.21it/s]\n"
     ]
    },
    {
     "name": "stdout",
     "output_type": "stream",
     "text": [
      "false positive (FP): 525, false negative (FN): 26, Precision: 86.420%, Recall: 99.228%, F1-measure: 92.382%\n",
      "actual positive (TP+FN): 3367, actual negative (FP+TN): 110673\n",
      "accuracy: 99.517\n",
      "Finished Predicting\n",
      "elapsed_time: 178.65397667884827\n",
      "Client  2\n",
      "Number of sessions(hdfs_test_normal): 5730\n",
      "Number of sessions(hdfs_test_abnormal): 1118\n"
     ]
    },
    {
     "name": "stderr",
     "output_type": "stream",
     "text": [
      "100%|██████████| 5730/5730 [04:05<00:00, 23.36it/s]\n",
      "100%|██████████| 1118/1118 [00:26<00:00, 42.43it/s]\n"
     ]
    },
    {
     "name": "stdout",
     "output_type": "stream",
     "text": [
      "false positive (FP): 464, false negative (FN): 31, Precision: 87.789%, Recall: 99.079%, F1-measure: 93.093%\n",
      "actual positive (TP+FN): 3367, actual negative (FP+TN): 110673\n",
      "accuracy: 99.566\n",
      "Finished Predicting\n",
      "elapsed_time: 271.6739590167999\n",
      "Client  3\n",
      "Number of sessions(hdfs_test_normal): 5747\n",
      "Number of sessions(hdfs_test_abnormal): 1159\n"
     ]
    },
    {
     "name": "stderr",
     "output_type": "stream",
     "text": [
      "100%|██████████| 5747/5747 [04:05<00:00, 23.42it/s]\n",
      "100%|██████████| 1159/1159 [00:27<00:00, 42.23it/s]\n"
     ]
    },
    {
     "name": "stdout",
     "output_type": "stream",
     "text": [
      "false positive (FP): 447, false negative (FN): 29, Precision: 88.190%, Recall: 99.139%, F1-measure: 93.345%\n",
      "actual positive (TP+FN): 3367, actual negative (FP+TN): 110673\n",
      "accuracy: 99.583\n",
      "Finished Predicting\n",
      "elapsed_time: 272.8748188018799\n",
      "Client  4\n",
      "Number of sessions(hdfs_test_normal): 5623\n",
      "Number of sessions(hdfs_test_abnormal): 1121\n"
     ]
    },
    {
     "name": "stderr",
     "output_type": "stream",
     "text": [
      "100%|██████████| 5623/5623 [03:57<00:00, 23.70it/s]\n",
      "100%|██████████| 1121/1121 [00:26<00:00, 42.87it/s]\n"
     ]
    },
    {
     "name": "stdout",
     "output_type": "stream",
     "text": [
      "false positive (FP): 522, false negative (FN): 32, Precision: 86.466%, Recall: 99.050%, F1-measure: 92.331%\n",
      "actual positive (TP+FN): 3367, actual negative (FP+TN): 110673\n",
      "accuracy: 99.514\n",
      "Finished Predicting\n",
      "elapsed_time: 263.4250853061676\n",
      "============ Train epoch 49 ============\n",
      "Client  0\n",
      "File ../data/hdfs/hdfs_train, number of sessions 971\n",
      "File ../data/hdfs/hdfs_train, number of seqs 9420\n",
      "sampling...\n"
     ]
    },
    {
     "name": "stderr",
     "output_type": "stream",
     "text": [
      "100%|██████████| 1058/1058 [00:00<00:00, 3550.02it/s]\n"
     ]
    },
    {
     "name": "stdout",
     "output_type": "stream",
     "text": [
      "File ../data/hdfs/hdfs_test_normal, number of sessions 110673\n",
      "File ../data/hdfs/hdfs_test_normal, number of seqs 1058\n",
      "Find 9420 train logs, 1058 validation logs\n",
      "Train batch size 2048 ,Validation batch size 2048\n",
      "Starting epoch: 0 | phase: train | ⏰: 21:23:10 | Learning rate: 0.000313\n"
     ]
    },
    {
     "name": "stderr",
     "output_type": "stream",
     "text": [
      "Train loss: 0.87026: 100%|██████████| 5/5 [00:00<00:00, 27.84it/s]\n"
     ]
    },
    {
     "name": "stdout",
     "output_type": "stream",
     "text": [
      "Starting epoch: 0 | phase: valid | ⏰: 21:23:10 \n"
     ]
    },
    {
     "name": "stderr",
     "output_type": "stream",
     "text": [
      ": 100%|██████████| 1/1 [00:00<00:00, 54.31it/s]\n"
     ]
    },
    {
     "name": "stdout",
     "output_type": "stream",
     "text": [
      "Validation loss: 0.8638499975204468\n",
      "Client  1\n",
      "File ../data/hdfs/hdfs_train, number of sessions 971\n",
      "File ../data/hdfs/hdfs_train, number of seqs 9080\n",
      "sampling...\n"
     ]
    },
    {
     "name": "stderr",
     "output_type": "stream",
     "text": [
      "100%|██████████| 1046/1046 [00:00<00:00, 3469.05it/s]\n"
     ]
    },
    {
     "name": "stdout",
     "output_type": "stream",
     "text": [
      "File ../data/hdfs/hdfs_test_normal, number of sessions 110673\n",
      "File ../data/hdfs/hdfs_test_normal, number of seqs 1046\n",
      "Find 9080 train logs, 1046 validation logs\n",
      "Train batch size 2048 ,Validation batch size 2048\n",
      "Starting epoch: 0 | phase: train | ⏰: 21:23:22 | Learning rate: 0.000313\n"
     ]
    },
    {
     "name": "stderr",
     "output_type": "stream",
     "text": [
      "Train loss: 0.89769: 100%|██████████| 5/5 [00:00<00:00, 28.00it/s]\n"
     ]
    },
    {
     "name": "stdout",
     "output_type": "stream",
     "text": [
      "Starting epoch: 0 | phase: valid | ⏰: 21:23:22 \n"
     ]
    },
    {
     "name": "stderr",
     "output_type": "stream",
     "text": [
      ": 100%|██████████| 1/1 [00:00<00:00, 56.16it/s]\n"
     ]
    },
    {
     "name": "stdout",
     "output_type": "stream",
     "text": [
      "Validation loss: 0.8538106679916382\n",
      "Client  2\n",
      "File ../data/hdfs/hdfs_train, number of sessions 971\n",
      "File ../data/hdfs/hdfs_train, number of seqs 9485\n",
      "sampling...\n"
     ]
    },
    {
     "name": "stderr",
     "output_type": "stream",
     "text": [
      "100%|██████████| 1051/1051 [00:00<00:00, 3567.88it/s]\n"
     ]
    },
    {
     "name": "stdout",
     "output_type": "stream",
     "text": [
      "File ../data/hdfs/hdfs_test_normal, number of sessions 110673\n",
      "File ../data/hdfs/hdfs_test_normal, number of seqs 1051\n",
      "Find 9485 train logs, 1051 validation logs\n",
      "Train batch size 2048 ,Validation batch size 2048\n",
      "Starting epoch: 0 | phase: train | ⏰: 21:23:34 | Learning rate: 0.000313\n"
     ]
    },
    {
     "name": "stderr",
     "output_type": "stream",
     "text": [
      "Train loss: 0.90628: 100%|██████████| 5/5 [00:00<00:00, 26.40it/s]\n"
     ]
    },
    {
     "name": "stdout",
     "output_type": "stream",
     "text": [
      "Starting epoch: 0 | phase: valid | ⏰: 21:23:34 \n"
     ]
    },
    {
     "name": "stderr",
     "output_type": "stream",
     "text": [
      ": 100%|██████████| 1/1 [00:00<00:00, 56.96it/s]\n"
     ]
    },
    {
     "name": "stdout",
     "output_type": "stream",
     "text": [
      "Validation loss: 0.8607207536697388\n",
      "Client  3\n",
      "File ../data/hdfs/hdfs_train, number of sessions 971\n",
      "File ../data/hdfs/hdfs_train, number of seqs 9267\n",
      "sampling...\n"
     ]
    },
    {
     "name": "stderr",
     "output_type": "stream",
     "text": [
      "100%|██████████| 1057/1057 [00:00<00:00, 3530.64it/s]\n"
     ]
    },
    {
     "name": "stdout",
     "output_type": "stream",
     "text": [
      "File ../data/hdfs/hdfs_test_normal, number of sessions 110673\n",
      "File ../data/hdfs/hdfs_test_normal, number of seqs 1057\n",
      "Find 9267 train logs, 1057 validation logs\n",
      "Train batch size 2048 ,Validation batch size 2048\n",
      "Starting epoch: 0 | phase: train | ⏰: 21:23:45 | Learning rate: 0.000313\n"
     ]
    },
    {
     "name": "stderr",
     "output_type": "stream",
     "text": [
      "Train loss: 0.89007: 100%|██████████| 5/5 [00:00<00:00, 27.83it/s]\n"
     ]
    },
    {
     "name": "stdout",
     "output_type": "stream",
     "text": [
      "Starting epoch: 0 | phase: valid | ⏰: 21:23:45 \n"
     ]
    },
    {
     "name": "stderr",
     "output_type": "stream",
     "text": [
      ": 100%|██████████| 1/1 [00:00<00:00, 57.18it/s]\n"
     ]
    },
    {
     "name": "stdout",
     "output_type": "stream",
     "text": [
      "Validation loss: 0.8355603218078613\n",
      "Client  4\n",
      "File ../data/hdfs/hdfs_train, number of sessions 971\n",
      "File ../data/hdfs/hdfs_train, number of seqs 9323\n",
      "sampling...\n"
     ]
    },
    {
     "name": "stderr",
     "output_type": "stream",
     "text": [
      "100%|██████████| 1044/1044 [00:00<00:00, 3551.40it/s]\n"
     ]
    },
    {
     "name": "stdout",
     "output_type": "stream",
     "text": [
      "File ../data/hdfs/hdfs_test_normal, number of sessions 110673\n",
      "File ../data/hdfs/hdfs_test_normal, number of seqs 1044\n",
      "Find 9323 train logs, 1044 validation logs\n",
      "Train batch size 2048 ,Validation batch size 2048\n",
      "Starting epoch: 0 | phase: train | ⏰: 21:23:57 | Learning rate: 0.000313\n"
     ]
    },
    {
     "name": "stderr",
     "output_type": "stream",
     "text": [
      "Train loss: 0.89004: 100%|██████████| 5/5 [00:00<00:00, 29.55it/s]\n"
     ]
    },
    {
     "name": "stdout",
     "output_type": "stream",
     "text": [
      "Starting epoch: 0 | phase: valid | ⏰: 21:23:57 \n"
     ]
    },
    {
     "name": "stderr",
     "output_type": "stream",
     "text": [
      ": 100%|██████████| 1/1 [00:00<00:00, 54.70it/s]\n"
     ]
    },
    {
     "name": "stdout",
     "output_type": "stream",
     "text": [
      "Validation loss: 0.8416274785995483\n",
      "============ Test epoch 49 ============\n",
      "Client  0\n",
      "Number of sessions(hdfs_test_normal): 5813\n",
      "Number of sessions(hdfs_test_abnormal): 1136\n"
     ]
    },
    {
     "name": "stderr",
     "output_type": "stream",
     "text": [
      "100%|██████████| 5813/5813 [04:08<00:00, 23.38it/s]\n",
      "100%|██████████| 1136/1136 [00:25<00:00, 45.02it/s]\n"
     ]
    },
    {
     "name": "stdout",
     "output_type": "stream",
     "text": [
      "false positive (FP): 488, false negative (FN): 24, Precision: 87.262%, Recall: 99.287%, F1-measure: 92.887%\n",
      "actual positive (TP+FN): 3367, actual negative (FP+TN): 110673\n",
      "accuracy: 99.551\n",
      "Finished Predicting\n",
      "elapsed_time: 273.8475422859192\n",
      "Client  1\n",
      "Number of sessions(hdfs_test_normal): 5574\n",
      "Number of sessions(hdfs_test_abnormal): 1139\n"
     ]
    },
    {
     "name": "stderr",
     "output_type": "stream",
     "text": [
      "100%|██████████| 5574/5574 [02:36<00:00, 35.68it/s]\n",
      "100%|██████████| 1139/1139 [00:23<00:00, 48.86it/s]\n"
     ]
    },
    {
     "name": "stdout",
     "output_type": "stream",
     "text": [
      "false positive (FP): 525, false negative (FN): 26, Precision: 86.420%, Recall: 99.228%, F1-measure: 92.382%\n",
      "actual positive (TP+FN): 3367, actual negative (FP+TN): 110673\n",
      "accuracy: 99.517\n",
      "Finished Predicting\n",
      "elapsed_time: 179.55286693572998\n",
      "Client  2\n",
      "Number of sessions(hdfs_test_normal): 5730\n",
      "Number of sessions(hdfs_test_abnormal): 1118\n"
     ]
    },
    {
     "name": "stderr",
     "output_type": "stream",
     "text": [
      "100%|██████████| 5730/5730 [04:05<00:00, 23.33it/s]\n",
      "100%|██████████| 1118/1118 [00:26<00:00, 42.86it/s]\n"
     ]
    },
    {
     "name": "stdout",
     "output_type": "stream",
     "text": [
      "false positive (FP): 464, false negative (FN): 31, Precision: 87.789%, Recall: 99.079%, F1-measure: 93.093%\n",
      "actual positive (TP+FN): 3367, actual negative (FP+TN): 110673\n",
      "accuracy: 99.566\n",
      "Finished Predicting\n",
      "elapsed_time: 271.7057201862335\n",
      "Client  3\n",
      "Number of sessions(hdfs_test_normal): 5747\n",
      "Number of sessions(hdfs_test_abnormal): 1159\n"
     ]
    },
    {
     "name": "stderr",
     "output_type": "stream",
     "text": [
      "100%|██████████| 5747/5747 [04:04<00:00, 23.49it/s]\n",
      "100%|██████████| 1159/1159 [00:27<00:00, 42.54it/s]\n"
     ]
    },
    {
     "name": "stdout",
     "output_type": "stream",
     "text": [
      "false positive (FP): 447, false negative (FN): 30, Precision: 88.187%, Recall: 99.109%, F1-measure: 93.330%\n",
      "actual positive (TP+FN): 3367, actual negative (FP+TN): 110673\n",
      "accuracy: 99.582\n",
      "Finished Predicting\n",
      "elapsed_time: 271.9127676486969\n",
      "Client  4\n",
      "Number of sessions(hdfs_test_normal): 5623\n",
      "Number of sessions(hdfs_test_abnormal): 1121\n"
     ]
    },
    {
     "name": "stderr",
     "output_type": "stream",
     "text": [
      "100%|██████████| 5623/5623 [03:57<00:00, 23.67it/s]\n",
      "100%|██████████| 1121/1121 [00:25<00:00, 43.29it/s]"
     ]
    },
    {
     "name": "stdout",
     "output_type": "stream",
     "text": [
      "false positive (FP): 523, false negative (FN): 32, Precision: 86.444%, Recall: 99.050%, F1-measure: 92.318%\n",
      "actual positive (TP+FN): 3367, actual negative (FP+TN): 110673\n",
      "accuracy: 99.513\n",
      "Finished Predicting\n",
      "elapsed_time: 263.41934180259705\n"
     ]
    },
    {
     "name": "stderr",
     "output_type": "stream",
     "text": [
      "\n"
     ]
    }
   ],
   "source": [
    "# # setup model\n",
    "server_model = loganomaly(input_size=options['input_size'],\n",
    "                    hidden_size=options['hidden_size'],\n",
    "                    num_layers=options['num_layers'],\n",
    "                    num_keys=options['num_classes']).to(device)\n",
    "# for adaptive velocity\n",
    "v = {}\n",
    "grad = {}\n",
    "for key in server_model.state_dict().keys():\n",
    "    v[key] = torch.add(torch.zeros_like(server_model.state_dict()[key],dtype=torch.float32),args.tau**2)\n",
    "    grad[key] = torch.zeros_like(server_model.state_dict()[key],dtype=torch.float32)\n",
    "loss_fun = nn.CrossEntropyLoss()\n",
    "# name of each datasets\n",
    "datasets = ['Client'+str(i) for i in range(args.client_num)]\n",
    "# federated client number\n",
    "client_num = len(datasets)\n",
    "client_weights = [1/client_num for i in range(client_num)]\n",
    "# each local client model\n",
    "models = [copy.deepcopy(server_model).to(device) for idx in range(client_num)]\n",
    "\n",
    "start_iter = 0\n",
    "\n",
    "lloogg_1 = {'train':{'epoch':[], 'lr':[], 'time':[], 'loss':[]}, \n",
    "          'val':{'epoch':[], 'lr':[], 'time':[], 'loss':[]}}\n",
    "lloogg_2 = {'train':{'epoch':[], 'lr':[], 'time':[], 'loss':[]}, \n",
    "          'val':{'epoch':[], 'lr':[], 'time':[], 'loss':[]}}\n",
    "lloogg_3 = {'train':{'epoch':[], 'lr':[], 'time':[], 'loss':[]}, \n",
    "          'val':{'epoch':[], 'lr':[], 'time':[], 'loss':[]}}\n",
    "lloogg_4 = {'train':{'epoch':[], 'lr':[], 'time':[], 'loss':[]}, \n",
    "          'val':{'epoch':[], 'lr':[], 'time':[], 'loss':[]}}\n",
    "lloogg_5 = {'train':{'epoch':[], 'lr':[], 'time':[], 'loss':[]}, \n",
    "          'val':{'epoch':[], 'lr':[], 'time':[], 'loss':[]}}\n",
    "\n",
    "result_recall = {}\n",
    "result_precision = {}\n",
    "result_f1 = {}\n",
    "result_acc = {}\n",
    "for i in range(client_num):\n",
    "    result_recall[i] = []\n",
    "    result_precision[i] = []\n",
    "    result_f1[i] = []\n",
    "    result_acc[i] = []\n",
    "\n",
    "# Start training\n",
    "for a_iter in range(start_iter, args.iters):\n",
    "#     optimizers = [optim.SGD(params = models[idx].parameters(), lr=args.lr, momentum = args.client_momentum) for idx in range(client_num)]\n",
    "    for wi in range(args.wk_iters):\n",
    "        print(\"============ Train epoch {} ============\".format(wi + a_iter * args.wk_iters))\n",
    "        for client_idx, model in enumerate(models):\n",
    "            print('Client ', client_idx)\n",
    "            trainer = Trainer(model, options, args.client_num, client_idx)\n",
    "            trainer.start_train()\n",
    "            \n",
    "            exec('lloogg_'+str(client_idx+1)+\"['train']['epoch'].append(a_iter)\")\n",
    "            exec('lloogg_'+str(client_idx+1)+\"['train']['lr'].append(trainer.log['train']['lr'][-1])\")\n",
    "            exec('lloogg_'+str(client_idx+1)+\"['train']['time'].append(trainer.log['train']['time'][-1])\")\n",
    "            exec('lloogg_'+str(client_idx+1)+\"['train']['loss'].append(trainer.log['train']['loss'][-1])\")\n",
    "            exec('lloogg_'+str(client_idx+1)+\"['val']['epoch'].append(a_iter)\")\n",
    "            exec('lloogg_'+str(client_idx+1)+\"['val']['lr'].append(trainer.log['valid']['lr'][-1])\")\n",
    "            exec('lloogg_'+str(client_idx+1)+\"['val']['time'].append(trainer.log['valid']['time'][-1])\")\n",
    "            exec('lloogg_'+str(client_idx+1)+\"['val']['loss'].append(trainer.log['valid']['loss'][-1])\")\n",
    "\n",
    "    with torch.no_grad():\n",
    "        # aggregation\n",
    "        server_model, models, v, grad = communication(args, server_model, models, client_weights, v, grad )\n",
    "        # Report loss after aggregation\n",
    "        print(\"============ Test epoch {} ============\".format(wi + a_iter * args.wk_iters))\n",
    "\n",
    "        for client_idx, model in enumerate(models):\n",
    "            print('Client ', client_idx)\n",
    "            predicter = Predicter(model, options, args.client_num, client_idx)\n",
    "            predicter.predict_unsupervised()\n",
    "            \n",
    "            result_recall[client_idx].append(predicter.recall)\n",
    "            result_precision[client_idx].append(predicter.precision)\n",
    "            result_f1[client_idx].append(predicter.f1)\n",
    "            result_acc[client_idx].append(predicter.acc)"
   ]
  },
  {
   "cell_type": "code",
   "execution_count": 12,
   "metadata": {
    "ExecuteTime": {
     "end_time": "2022-01-22T13:55:47.693289Z",
     "start_time": "2022-01-22T13:45:00.916197Z"
    }
   },
   "outputs": [
    {
     "name": "stdout",
     "output_type": "stream",
     "text": [
      "Number of sessions(hdfs_test_normal): 14177\n",
      "Number of sessions(hdfs_test_abnormal): 4123\n"
     ]
    },
    {
     "name": "stderr",
     "output_type": "stream",
     "text": [
      "100%|██████████| 14177/14177 [09:12<00:00, 25.64it/s]\n",
      "100%|██████████| 4123/4123 [01:31<00:00, 45.06it/s]"
     ]
    },
    {
     "name": "stdout",
     "output_type": "stream",
     "text": [
      "false positive (FP): 2447, false negative (FN): 143, Precision: 87.217%, Recall: 99.151%, F1-measure: 92.802%\n",
      "actual positive (TP+FN): 16838, actual negative (FP+TN): 553366\n",
      "accuracy: 99.546\n",
      "Finished Predicting\n",
      "elapsed_time: 644.3849308490753\n"
     ]
    },
    {
     "name": "stderr",
     "output_type": "stream",
     "text": [
      "\n"
     ]
    }
   ],
   "source": [
    "predicter_s = Predicter(server_model, options, 1, 0)\n",
    "predicter_s.predict_unsupervised()"
   ]
  },
  {
   "cell_type": "code",
   "execution_count": 13,
   "metadata": {
    "ExecuteTime": {
     "end_time": "2022-01-22T13:55:47.724055Z",
     "start_time": "2022-01-22T13:55:47.694139Z"
    }
   },
   "outputs": [],
   "source": [
    "for key, values in lloogg_1.items():\n",
    "    pd.DataFrame(values).to_csv(\"../result/loganomaly/fedavg/client_1_\" + key + \"_log.csv\", index=False)\n",
    "del key \n",
    "del values\n",
    "for key, values in lloogg_2.items():\n",
    "    pd.DataFrame(values).to_csv(\"../result/loganomaly/fedavg/client_2_\" + key + \"_log.csv\", index=False)\n",
    "del key \n",
    "del values\n",
    "for key, values in lloogg_3.items():\n",
    "    pd.DataFrame(values).to_csv(\"../result/loganomaly/fedavg/client_3_\" + key + \"_log.csv\", index=False)\n",
    "del key \n",
    "del values\n",
    "for key, values in lloogg_4.items():\n",
    "    pd.DataFrame(values).to_csv(\"../result/loganomaly/fedavg/client_4_\" + key + \"_log.csv\", index=False)\n",
    "del key \n",
    "del values\n",
    "for key, values in lloogg_5.items():\n",
    "    pd.DataFrame(values).to_csv(\"../result/loganomaly/fedavg/client_5_\" + key + \"_log.csv\", index=False)\n",
    "del key \n",
    "del values"
   ]
  },
  {
   "cell_type": "code",
   "execution_count": 14,
   "metadata": {
    "ExecuteTime": {
     "end_time": "2022-01-22T13:55:47.737977Z",
     "start_time": "2022-01-22T13:55:47.724865Z"
    }
   },
   "outputs": [],
   "source": [
    "(pd.DataFrame.from_dict(data=result_recall, orient='index').to_csv('../result/loganomaly/fedavg/recall.csv', header=False))\n",
    "(pd.DataFrame.from_dict(data=result_precision, orient='index').to_csv('../result/loganomaly/fedavg/precision.csv', header=False))\n",
    "(pd.DataFrame.from_dict(data=result_f1, orient='index').to_csv('../result/loganomaly/fedavg/f1.csv', header=False))\n",
    "(pd.DataFrame.from_dict(data=result_acc, orient='index').to_csv('../result/loganomaly/fedavg/acc.csv', header=False))"
   ]
  },
  {
   "cell_type": "code",
   "execution_count": 15,
   "metadata": {
    "ExecuteTime": {
     "end_time": "2022-01-22T13:55:48.014400Z",
     "start_time": "2022-01-22T13:55:47.738741Z"
    }
   },
   "outputs": [
    {
     "data": {
      "image/png": "[encoded data removed]",
      "text/plain": [
       "<Figure size 432x288 with 1 Axes>"
      ]
     },
     "metadata": {
      "needs_background": "light"
     },
     "output_type": "display_data"
    },
    {
     "data": {
      "image/png": "[encoded data removed]",
      "text/plain": [
       "<Figure size 432x288 with 1 Axes>"
      ]
     },
     "metadata": {
      "needs_background": "light"
     },
     "output_type": "display_data"
    },
    {
     "data": {
      "image/png": "[encoded data removed]",
      "text/plain": [
       "<Figure size 432x288 with 1 Axes>"
      ]
     },
     "metadata": {
      "needs_background": "light"
     },
     "output_type": "display_data"
    },
    {
     "data": {
      "image/png": "[encoded data removed]",
      "text/plain": [
       "<Figure size 432x288 with 1 Axes>"
      ]
     },
     "metadata": {
      "needs_background": "light"
     },
     "output_type": "display_data"
    },
    {
     "data": {
      "image/png": "[encoded data removed]",
      "text/plain": [
       "<Figure size 432x288 with 1 Axes>"
      ]
     },
     "metadata": {
      "needs_background": "light"
     },
     "output_type": "display_data"
    }
   ],
   "source": [
    "# plot train and validation loss\n",
    "plt.plot(lloogg_1['train']['epoch'], lloogg_1['train']['loss'])\n",
    "plt.plot(lloogg_1['val']['epoch'], lloogg_1['val']['loss'])\n",
    "plt.title('model train vs validation loss')\n",
    "plt.ylabel('loss')\n",
    "plt.xlabel('epoch')\n",
    "plt.legend(['train', 'validation'], loc='upper right')\n",
    "plt.show()\n",
    "\n",
    "plt.plot(lloogg_2['train']['epoch'], lloogg_2['train']['loss'])\n",
    "plt.plot(lloogg_2['val']['epoch'], lloogg_2['val']['loss'])\n",
    "plt.title('model train vs validation loss')\n",
    "plt.ylabel('loss')\n",
    "plt.xlabel('epoch')\n",
    "plt.legend(['train', 'validation'], loc='upper right')\n",
    "plt.show()\n",
    "\n",
    "plt.plot(lloogg_3['train']['epoch'], lloogg_3['train']['loss'])\n",
    "plt.plot(lloogg_3['val']['epoch'], lloogg_3['val']['loss'])\n",
    "plt.title('model train vs validation loss')\n",
    "plt.ylabel('loss')\n",
    "plt.xlabel('epoch')\n",
    "plt.legend(['train', 'validation'], loc='upper right')\n",
    "plt.show()\n",
    "\n",
    "plt.plot(lloogg_4['train']['epoch'], lloogg_4['train']['loss'])\n",
    "plt.plot(lloogg_4['val']['epoch'], lloogg_4['val']['loss'])\n",
    "plt.title('model train vs validation loss')\n",
    "plt.ylabel('loss')\n",
    "plt.xlabel('epoch')\n",
    "plt.legend(['train', 'validation'], loc='upper right')\n",
    "plt.show()\n",
    "\n",
    "plt.plot(lloogg_5['train']['epoch'], lloogg_5['train']['loss'])\n",
    "plt.plot(lloogg_5['val']['epoch'], lloogg_5['val']['loss'])\n",
    "plt.title('model train vs validation loss')\n",
    "plt.ylabel('loss')\n",
    "plt.xlabel('epoch')\n",
    "plt.legend(['train', 'validation'], loc='upper right')\n",
    "plt.show()"
   ]
  },
  {
   "cell_type": "code",
   "execution_count": 16,
   "metadata": {
    "ExecuteTime": {
     "end_time": "2022-01-22T13:55:48.126361Z",
     "start_time": "2022-01-22T13:55:48.015139Z"
    }
   },
   "outputs": [
    {
     "data": {
      "image/png": "[encoded data removed]",
      "text/plain": [
       "<Figure size 432x288 with 1 Axes>"
      ]
     },
     "metadata": {
      "needs_background": "light"
     },
     "output_type": "display_data"
    }
   ],
   "source": [
    "plt.plot(lloogg_1['train']['epoch'], lloogg_1['train']['loss'])\n",
    "plt.plot(lloogg_2['train']['epoch'], lloogg_2['train']['loss'])\n",
    "plt.plot(lloogg_3['train']['epoch'], lloogg_3['train']['loss'])\n",
    "plt.plot(lloogg_4['train']['epoch'], lloogg_4['train']['loss'])\n",
    "plt.plot(lloogg_5['train']['epoch'], lloogg_5['train']['loss'])\n",
    "# plt.plot(lloogg_1['val']['epoch'], lloogg_1['val']['loss'])\n",
    "plt.title('Train loss')\n",
    "plt.ylabel('loss')\n",
    "plt.xlabel('epoch')\n",
    "plt.legend(['1','2','3','4','5'], loc='upper right')\n",
    "plt.show()"
   ]
  },
  {
   "cell_type": "code",
   "execution_count": 17,
   "metadata": {
    "ExecuteTime": {
     "end_time": "2022-01-22T13:55:48.192216Z",
     "start_time": "2022-01-22T13:55:48.127163Z"
    }
   },
   "outputs": [
    {
     "data": {
      "image/png": "[encoded data removed]",
      "text/plain": [
       "<Figure size 432x288 with 1 Axes>"
      ]
     },
     "metadata": {
      "needs_background": "light"
     },
     "output_type": "display_data"
    }
   ],
   "source": [
    "plt.plot(lloogg_1['val']['epoch'], lloogg_1['val']['loss'])\n",
    "plt.plot(lloogg_2['val']['epoch'], lloogg_2['val']['loss'])\n",
    "plt.plot(lloogg_3['val']['epoch'], lloogg_3['val']['loss'])\n",
    "plt.plot(lloogg_4['val']['epoch'], lloogg_4['val']['loss'])\n",
    "plt.plot(lloogg_5['val']['epoch'], lloogg_5['val']['loss'])\n",
    "# plt.plot(lloogg_1['val']['epoch'], lloogg_1['val']['loss'])\n",
    "plt.title('Validation loss')\n",
    "plt.ylabel('loss')\n",
    "plt.xlabel('epoch')\n",
    "plt.legend(['1','2','3','4','5'], loc='upper right')\n",
    "plt.show()"
   ]
  },
  {
   "cell_type": "code",
   "execution_count": 18,
   "metadata": {
    "ExecuteTime": {
     "end_time": "2022-01-22T13:55:48.198942Z",
     "start_time": "2022-01-22T13:55:48.193039Z"
    }
   },
   "outputs": [],
   "source": [
    "result_record_f1 = pd.DataFrame.from_dict(data=result_f1, orient='index')\n",
    "result_record_f1 = np.mean(np.array(result_record_f1), axis = 0)\n",
    "result_record_f1 = result_record_f1.reshape(-1)\n",
    "\n",
    "result_record_acc = pd.DataFrame.from_dict(data=result_acc, orient='index')\n",
    "result_record_acc = np.mean(np.array(result_record_acc), axis = 0)\n",
    "result_record_acc = result_record_acc.reshape(-1)"
   ]
  },
  {
   "cell_type": "code",
   "execution_count": 19,
   "metadata": {
    "ExecuteTime": {
     "end_time": "2022-01-22T13:55:48.261931Z",
     "start_time": "2022-01-22T13:55:48.199764Z"
    }
   },
   "outputs": [
    {
     "data": {
      "image/png": "[encoded data removed]",
      "text/plain": [
       "<Figure size 432x288 with 1 Axes>"
      ]
     },
     "metadata": {
      "needs_background": "light"
     },
     "output_type": "display_data"
    }
   ],
   "source": [
    "for i in range(client_num):\n",
    "    plt.plot(np.arange(args.iters), result_acc[i], label = 'Client '+ str(i+1))\n",
    "plt.legend()\n",
    "plt.show()"
   ]
  },
  {
   "cell_type": "code",
   "execution_count": 20,
   "metadata": {
    "ExecuteTime": {
     "end_time": "2022-01-22T13:55:48.322328Z",
     "start_time": "2022-01-22T13:55:48.263146Z"
    }
   },
   "outputs": [
    {
     "data": {
      "image/png": "[encoded data removed]",
      "text/plain": [
       "<Figure size 432x288 with 1 Axes>"
      ]
     },
     "metadata": {
      "needs_background": "light"
     },
     "output_type": "display_data"
    }
   ],
   "source": [
    "for i in range(client_num):\n",
    "    plt.plot(np.arange(args.iters), result_f1[i], label =  'Client '+ str(i+1))\n",
    "plt.legend()\n",
    "plt.show()"
   ]
  }
 ],
 "metadata": {
  "kernelspec": {
   "display_name": "Python [conda env:chi_env]",
   "language": "python",
   "name": "conda-env-chi_env-py"
  },
  "language_info": {
   "codemirror_mode": {
    "name": "ipython",
    "version": 3
   },
   "file_extension": ".py",
   "mimetype": "text/x-python",
   "name": "python",
   "nbconvert_exporter": "python",
   "pygments_lexer": "ipython3",
   "version": "3.8.3"
  }
 },
 "nbformat": 4,
 "nbformat_minor": 4
}
