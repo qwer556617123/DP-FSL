{
 "cells": [
  {
   "cell_type": "code",
   "execution_count": 1,
   "metadata": {
    "ExecuteTime": {
     "end_time": "2022-01-20T18:03:25.475888Z",
     "start_time": "2022-01-20T18:03:25.474096Z"
    }
   },
   "outputs": [],
   "source": [
    "import os\n",
    "# set GPU number. This might work for several framework such as PyTorch, TensorFlow, Keras\n",
    "gpu_id = '0'\n",
    "os.environ[\"CUDA_VISIBLE_DEVICES\"]=gpu_id"
   ]
  },
  {
   "cell_type": "code",
   "execution_count": 2,
   "metadata": {
    "ExecuteTime": {
     "end_time": "2022-01-20T18:03:25.479213Z",
     "start_time": "2022-01-20T18:03:25.477812Z"
    }
   },
   "outputs": [],
   "source": [
    "import warnings\n",
    "warnings.filterwarnings(\"ignore\")"
   ]
  },
  {
   "cell_type": "code",
   "execution_count": 3,
   "metadata": {
    "ExecuteTime": {
     "end_time": "2022-01-20T18:03:26.595007Z",
     "start_time": "2022-01-20T18:03:25.481678Z"
    }
   },
   "outputs": [],
   "source": [
    "# sys.path.append('../../loglizer')\n",
    "    \n",
    "# from loglizer import dataloader\n",
    "# from loglizer.preprocessing import Vectorizer, Iterator\n",
    "import sys\n",
    "import torch\n",
    "import torch.nn as nn\n",
    "import torch.nn.functional as func\n",
    "import torch.optim as optim\n",
    "from torch.utils.data import Dataset\n",
    "import torch.utils.data as Data\n",
    "import pickle as pkl\n",
    "import argparse\n",
    "import time\n",
    "import copy\n",
    "import torchvision.transforms as transforms\n",
    "import torchvision\n",
    "import random\n",
    "from collections import OrderedDict\n",
    "from PIL import Image\n",
    "\n",
    "import pandas as pd\n",
    "import math\n",
    "import matplotlib.pyplot as plt\n",
    "import numpy as np\n",
    "\n",
    "from sklearn.metrics import accuracy_score, f1_score, recall_score, precision_score\n",
    "from collections import defaultdict"
   ]
  },
  {
   "cell_type": "code",
   "execution_count": 4,
   "metadata": {
    "ExecuteTime": {
     "end_time": "2022-01-20T18:03:26.608942Z",
     "start_time": "2022-01-20T18:03:26.595915Z"
    }
   },
   "outputs": [],
   "source": [
    "# struct_log = '../data/HDFS/HDFS.log_structured.csv' # The structured log file\n",
    "\n",
    "#初始參數\n",
    "class Parser():\n",
    "    def __init__(self):\n",
    "        self.mode = 'fedadam'  #FedBN,FedAvg,fedprox,fedopt,fedadagrad,fedadam 待加入scoffold\n",
    "        #所有方法都有使用Fedbn\n",
    "        self.beta_1 = 0.9\n",
    "        self.beta_2 = 0.99 #b1,b2 for adaptive opt\n",
    "        self.tau = 1e-2\n",
    "        self.batch = 32\n",
    "        self.lr = 1e-2\n",
    "        self.server_lr = 1e-1\n",
    "        self.server_momentum = 0.5\n",
    "        self.client_momentum = 0.9 # 0 is fedavg others is fedavgm\n",
    "        self.no_cuda = False\n",
    "        self.seed = 1\n",
    "        self.client_num = 5\n",
    "        self.wk_iters = 1 # training\n",
    "        self.num_workers = 2 # dataloader\n",
    "        self.mu = 1e-3\n",
    "        self.iters = 50 #epochs\n",
    "        self.local_epoches = 1\n",
    "        self.server_opt = 'sgd'\n",
    "        self.percent = 1\n",
    "#         self.early_stop = 500\n",
    "        self.window_size = 10\n",
    "        self.train_ratio = 0.5\n",
    "        self.split_type='sequential' # sequential, uniform\n",
    "\n",
    "        \n",
    "args = Parser()\n",
    "\n",
    "use_cuda = not args.no_cuda and torch.cuda.is_available()\n",
    "np.random.seed(args.seed)\n",
    "torch.manual_seed(args.seed)\n",
    "torch.cuda.manual_seed_all(args.seed) \n",
    "random.seed(args.seed)\n",
    "device = torch.device(\"cuda\" if use_cuda else \"cpu\")"
   ]
  },
  {
   "cell_type": "code",
   "execution_count": 5,
   "metadata": {
    "ExecuteTime": {
     "end_time": "2022-01-20T18:03:26.652252Z",
     "start_time": "2022-01-20T18:03:26.609947Z"
    }
   },
   "outputs": [],
   "source": [
    "sys.path.append('../')\n",
    "from logdeep.models.lstm import deeplog, loganomaly, robustlog\n",
    "from logdeep.tools.predict import Predicter\n",
    "from logdeep.tools.train import Trainer\n",
    "from logdeep.tools.utils import *\n",
    "\n",
    "# Config Parameters\n",
    "\n",
    "options = dict()\n",
    "options['data_dir'] = '../data/'\n",
    "options['window_size'] = 10\n",
    "options['device'] = 0\n",
    "\n",
    "# Smaple\n",
    "options['sample'] = \"sliding_window\"\n",
    "options['window_size'] = 10  # if fix_window\n",
    "\n",
    "# Features\n",
    "options['sequentials'] = True\n",
    "options['quantitatives'] = False\n",
    "options['semantics'] = False\n",
    "options['feature_num'] = sum(\n",
    "    [options['sequentials'], options['quantitatives'], options['semantics']])\n",
    "\n",
    "# Model\n",
    "options['input_size'] = 1\n",
    "options['hidden_size'] = 64\n",
    "options['num_layers'] = 2\n",
    "options['num_classes'] = 28\n",
    "\n",
    "# Train\n",
    "options['batch_size'] = 2048\n",
    "options['accumulation_step'] = 1\n",
    "\n",
    "options['optimizer'] = 'adam'\n",
    "options['lr'] = 0.001\n",
    "options['max_epoch'] = 1\n",
    "options['lr_step'] = (300, 350)\n",
    "options['lr_decay_ratio'] = 0.1\n",
    "\n",
    "options['resume_path'] = None\n",
    "options['model_name'] = \"deeplog\"\n",
    "options['save_dir'] = \"../result/deeplog/\"\n",
    "\n",
    "# Predict\n",
    "options['model_path'] = \"../result/deeplog/deeplog_last.pth\"\n",
    "options['num_candidates'] = 9\n",
    "\n",
    "seed_everything(seed=1234)\n",
    "\n",
    "\n",
    "def train():\n",
    "    trainer = Trainer(Model, options)\n",
    "    trainer.start_train()\n",
    "\n",
    "\n",
    "def predict():\n",
    "    predicter = Predicter(Model, options)\n",
    "    predicter.predict_unsupervised()"
   ]
  },
  {
   "cell_type": "markdown",
   "metadata": {},
   "source": [
    "# Preprocessing"
   ]
  },
  {
   "cell_type": "code",
   "execution_count": 6,
   "metadata": {
    "ExecuteTime": {
     "end_time": "2022-01-20T18:03:26.654409Z",
     "start_time": "2022-01-20T18:03:26.653156Z"
    }
   },
   "outputs": [],
   "source": [
    "# df = pd.read_csv(struct_log)\n",
    "# print(df.shape)\n",
    "\n",
    "# for i in range(args.client_num):\n",
    "#     bound = int(df.shape[0]/args.client_num)\n",
    "#     ddf = df[i* bound : (i+1)* bound]\n",
    "#     ddf.to_csv(\"../../loglizer/data/client_alldata/client_\"+str(i)+\".csv\", index=None)\n",
    "#     print('Client',i, ddf.shape)\n",
    "#     del ddf\n",
    "# del df "
   ]
  },
  {
   "cell_type": "code",
   "execution_count": 7,
   "metadata": {
    "ExecuteTime": {
     "end_time": "2022-01-20T18:03:26.664363Z",
     "start_time": "2022-01-20T18:03:26.655102Z"
    }
   },
   "outputs": [],
   "source": [
    "class deeplog(nn.Module):\n",
    "    def __init__(self, input_size, hidden_size, num_layers, num_keys):\n",
    "        super(deeplog, self).__init__()\n",
    "        self.hidden_size = hidden_size\n",
    "        self.num_layers = num_layers\n",
    "        self.lstm = nn.LSTM(input_size,\n",
    "                            hidden_size,\n",
    "                            num_layers,\n",
    "                            batch_first=True)\n",
    "        self.fc = nn.Linear(hidden_size, num_keys)\n",
    "\n",
    "    def forward(self, features, device):\n",
    "        input0 = features[0]\n",
    "        h0 = torch.zeros(self.num_layers, input0.size(0),\n",
    "                         self.hidden_size).to(device)\n",
    "        c0 = torch.zeros(self.num_layers, input0.size(0),\n",
    "                         self.hidden_size).to(device)\n",
    "        out, _ = self.lstm(input0, (h0, c0))\n",
    "        out = self.fc(out[:, -1, :])\n",
    "        return out\n",
    "\n",
    "\n",
    "class loganomaly(nn.Module):\n",
    "    def __init__(self, input_size, hidden_size, num_layers, num_keys):\n",
    "        super(loganomaly, self).__init__()\n",
    "        self.hidden_size = hidden_size\n",
    "        self.num_layers = num_layers\n",
    "        self.lstm0 = nn.LSTM(input_size,\n",
    "                             hidden_size,\n",
    "                             num_layers,\n",
    "                             batch_first=True)\n",
    "        self.lstm1 = nn.LSTM(input_size,\n",
    "                             hidden_size,\n",
    "                             num_layers,\n",
    "                             batch_first=True)\n",
    "        self.fc = nn.Linear(2 * hidden_size, num_keys)\n",
    "        self.attention_size = self.hidden_size\n",
    "\n",
    "        self.w_omega = Variable(\n",
    "            torch.zeros(self.hidden_size, self.attention_size))\n",
    "        self.u_omega = Variable(torch.zeros(self.attention_size))\n",
    "\n",
    "        self.sequence_length = 28\n",
    "\n",
    "    def attention_net(self, lstm_output):\n",
    "        output_reshape = torch.Tensor.reshape(lstm_output,\n",
    "                                              [-1, self.hidden_size])\n",
    "        attn_tanh = torch.tanh(torch.mm(output_reshape, self.w_omega))\n",
    "        attn_hidden_layer = torch.mm(\n",
    "            attn_tanh, torch.Tensor.reshape(self.u_omega, [-1, 1]))\n",
    "        exps = torch.Tensor.reshape(torch.exp(attn_hidden_layer),\n",
    "                                    [-1, self.sequence_length])\n",
    "        alphas = exps / torch.Tensor.reshape(torch.sum(exps, 1), [-1, 1])\n",
    "        alphas_reshape = torch.Tensor.reshape(alphas,\n",
    "                                              [-1, self.sequence_length, 1])\n",
    "        state = lstm_output\n",
    "        attn_output = torch.sum(state * alphas_reshape, 1)\n",
    "        return attn_output\n",
    "\n",
    "    def forward(self, features, device):\n",
    "        input0, input1 = features[0], features[1]\n",
    "\n",
    "        h0_0 = torch.zeros(self.num_layers, input0.size(0),\n",
    "                           self.hidden_size).to(device)\n",
    "        c0_0 = torch.zeros(self.num_layers, input0.size(0),\n",
    "                           self.hidden_size).to(device)\n",
    "\n",
    "        out0, _ = self.lstm0(input0, (h0_0, c0_0))\n",
    "\n",
    "        h0_1 = torch.zeros(self.num_layers, input1.size(0),\n",
    "                           self.hidden_size).to(device)\n",
    "        c0_1 = torch.zeros(self.num_layers, input1.size(0),\n",
    "                           self.hidden_size).to(device)\n",
    "\n",
    "        out1, _ = self.lstm1(input1, (h0_1, c0_1))\n",
    "        multi_out = torch.cat((out0[:, -1, :], out1[:, -1, :]), -1)\n",
    "        out = self.fc(multi_out)\n",
    "        return out\n",
    "\n",
    "\n",
    "class robustlog(nn.Module):\n",
    "    def __init__(self, input_size, hidden_size, num_layers, num_keys):\n",
    "        super(robustlog, self).__init__()\n",
    "        self.hidden_size = hidden_size\n",
    "        self.num_layers = num_layers\n",
    "        self.lstm = nn.LSTM(input_size,\n",
    "                            hidden_size,\n",
    "                            num_layers,\n",
    "                            batch_first=True)\n",
    "        self.fc = nn.Linear(hidden_size, num_keys)\n",
    "\n",
    "    def forward(self, features, device):\n",
    "        input0 = features[0]\n",
    "        h0 = torch.zeros(self.num_layers, input0.size(0),\n",
    "                         self.hidden_size).to(device)\n",
    "        c0 = torch.zeros(self.num_layers, input0.size(0),\n",
    "                         self.hidden_size).to(device)\n",
    "        out, _ = self.lstm(input0, (h0, c0))\n",
    "        out = self.fc(out[:, -1, :])\n",
    "        return out\n"
   ]
  },
  {
   "cell_type": "code",
   "execution_count": 8,
   "metadata": {
    "ExecuteTime": {
     "end_time": "2022-01-20T18:03:26.666659Z",
     "start_time": "2022-01-20T18:03:26.665078Z"
    }
   },
   "outputs": [],
   "source": [
    "# def datasplit(args, gpu_id = 1):\n",
    "#     train_loaders = []\n",
    "#     test_loaders = []\n",
    "#     hidden_size = 32\n",
    "#     num_directions = 2\n",
    "#     topk = 5\n",
    "    \n",
    "#     for i in range(args.client_num):\n",
    "#         struct_log = '../../loglizer/data/client_data/client_'+str(i)+\".csv\"\n",
    "#         label_file = '../../loglizer/data/HDFS/anomaly_label.csv' # The anomaly label file\n",
    "        \n",
    "#         (x_train, window_y_train, y_train), (x_test, window_y_test, y_test) = dataloader.load_HDFS(i, struct_log, label_file = label_file, window='session', window_size=args.window_size, train_ratio=args.train_ratio, split_type=args.split_type)\n",
    "#         feature_extractor = Vectorizer()\n",
    "#         train_dataset = feature_extractor.fit_transform(x_train, window_y_train, y_train)\n",
    "#         test_dataset = feature_extractor.transform(x_test, window_y_test, y_test)\n",
    "#         train_loader = Iterator(train_dataset, batch_size=args.batch, shuffle=True, num_workers=args.num_workers).iter\n",
    "#         test_loader = Iterator(test_dataset, batch_size=args.batch, shuffle=False, num_workers=args.num_workers).iter\n",
    "#         train_loaders.append(train_loader)\n",
    "#         test_loaders.append(test_loader)\n",
    "        \n",
    "#     server_model = DeepLog(num_labels=feature_extractor.num_labels, hidden_size=hidden_size, num_directions=num_directions, topk=topk).to(device)\n",
    "    \n",
    "#     return train_loaders, test_loaders, server_model"
   ]
  },
  {
   "cell_type": "code",
   "execution_count": 9,
   "metadata": {
    "ExecuteTime": {
     "end_time": "2022-01-20T18:03:26.668807Z",
     "start_time": "2022-01-20T18:03:26.667319Z"
    }
   },
   "outputs": [],
   "source": [
    "# train_loaders, test_loaders, server_model = datasplit(args, gpu_id = 1)"
   ]
  },
  {
   "cell_type": "markdown",
   "metadata": {},
   "source": [
    "# Federated learning"
   ]
  },
  {
   "cell_type": "code",
   "execution_count": 10,
   "metadata": {
    "ExecuteTime": {
     "end_time": "2022-01-20T18:03:26.678030Z",
     "start_time": "2022-01-20T18:03:26.669921Z"
    }
   },
   "outputs": [],
   "source": [
    "def communication(args, server_model, models, client_weights, v, grad):\n",
    "    if args.mode.lower() == 'fedbn':\n",
    "        with torch.no_grad():\n",
    "            for key in server_model.state_dict().keys():\n",
    "                if 'bn' not in key: #非BN層都去交換\n",
    "                    temp = torch.zeros_like(server_model.state_dict()[key], dtype=torch.float32)\n",
    "                    for client_idx in range(client_num):\n",
    "                        temp += client_weights[client_idx] * models[client_idx].state_dict()[key]\n",
    "                    server_model.state_dict()[key].data.copy_(temp)\n",
    "                    for client_idx in range(client_num):\n",
    "                        models[client_idx].state_dict()[key].data.copy_(server_model.state_dict()[key])\n",
    "    \n",
    "    elif args.mode.lower() == 'fedadagrad':\n",
    "        with torch.no_grad():\n",
    "            for key, param in server_model.named_parameters():\n",
    "                temp = torch.zeros_like(server_model.state_dict()[key])\n",
    "                for client_idx in range(len(client_weights)):\n",
    "                    temp = temp + client_weights[client_idx] * models[client_idx].state_dict()[key]                          \n",
    "                param.grad = temp - param.data              \n",
    "                param.grad = torch.mul(grad[key], args.beta_1) + torch.mul(param.grad, 1-args.beta_1)\n",
    "                grad[key] = param.grad\n",
    "                v[key] = v[key] + param.grad**2\n",
    "                param.data = param.data + torch.mul(torch.div(param.grad, torch.add(torch.sqrt(v[key]),args.tau)), args.server_lr) \n",
    "\n",
    "                for client_idx in range(len(client_weights)):\n",
    "                    models[client_idx].state_dict()[key].data.copy_(server_model.state_dict()[key])            \n",
    "    \n",
    "    elif args.mode.lower() == 'fedadam':\n",
    "        with torch.no_grad():\n",
    "            for key, param in server_model.named_parameters():                \n",
    "                temp = torch.zeros_like(server_model.state_dict()[key])\n",
    "                for client_idx in range(len(client_weights)):\n",
    "                    temp += client_weights[client_idx] * models[client_idx].state_dict()[key]                         \n",
    "                param.grad = temp - param.data              \n",
    "                param.grad = torch.mul(grad[key], args.beta_1) + torch.mul(param.grad, 1-args.beta_1) \n",
    "                grad[key] = param.grad                \n",
    "                v[key] = torch.mul(v[key], args.beta_2) + torch.mul(param.grad**2, 1-args.beta_2)\n",
    "                param.data = param.data + torch.mul(torch.div(param.grad, torch.add(torch.sqrt(v[key]),args.tau)), args.server_lr)\n",
    "                \n",
    "                for client_idx in range(len(client_weights)):\n",
    "                    models[client_idx].state_dict()[key].data.copy_(server_model.state_dict()[key])\n",
    "\n",
    "    else:\n",
    "        with torch.no_grad():\n",
    "            for key in server_model.state_dict().keys():#遇到BN層就直接拿第一個client參數使用\n",
    "                # num_batches_tracked is a non trainable LongTensor and\n",
    "                # num_batches_tracked are the same for all clients for the given datasets\n",
    "                if 'num_batches_tracked' in key:\n",
    "                    server_model.state_dict()[key].data.copy_(models[0].state_dict()[key])\n",
    "                else:\n",
    "                    temp = torch.zeros_like(server_model.state_dict()[key]).to(device)\n",
    "                    for client_idx in range(len(client_weights)):\n",
    "                        temp += client_weights[client_idx] * models[client_idx].state_dict()[key]                        \n",
    "                    server_model.state_dict()[key].data.copy_(temp)#weight傳給server\n",
    "                    for client_idx in range(len(client_weights)):\n",
    "                        models[client_idx].state_dict()[key].data.copy_(server_model.state_dict()[key])        \n",
    "    return server_model, models, v, grad"
   ]
  },
  {
   "cell_type": "code",
   "execution_count": 11,
   "metadata": {
    "ExecuteTime": {
     "end_time": "2022-01-21T02:54:38.208805Z",
     "start_time": "2022-01-20T18:03:26.678832Z"
    }
   },
   "outputs": [
    {
     "name": "stdout",
     "output_type": "stream",
     "text": [
      "============ Train epoch 0 ============\n",
      "Client  0\n",
      "File ../data/hdfs/hdfs_train, number of sessions 971\n",
      "File ../data/hdfs/hdfs_train, number of seqs 9420\n",
      "sampling...\n"
     ]
    },
    {
     "name": "stderr",
     "output_type": "stream",
     "text": [
      "100%|██████████| 1058/1058 [00:00<00:00, 3544.03it/s]\n"
     ]
    },
    {
     "name": "stdout",
     "output_type": "stream",
     "text": [
      "File ../data/hdfs/hdfs_test_normal, number of sessions 110673\n",
      "File ../data/hdfs/hdfs_test_normal, number of seqs 1058\n",
      "Find 9420 train logs, 1058 validation logs\n",
      "Train batch size 2048 ,Validation batch size 2048\n",
      "Starting epoch: 0 | phase: train | ⏰: 02:03:40 | Learning rate: 0.000031\n"
     ]
    },
    {
     "name": "stderr",
     "output_type": "stream",
     "text": [
      "Train loss: 3.31278: 100%|██████████| 5/5 [00:00<00:00, 51.88it/s]\n"
     ]
    },
    {
     "name": "stdout",
     "output_type": "stream",
     "text": [
      "Starting epoch: 0 | phase: valid | ⏰: 02:03:40 \n"
     ]
    },
    {
     "name": "stderr",
     "output_type": "stream",
     "text": [
      ": 100%|██████████| 1/1 [00:00<00:00, 99.16it/s]\n"
     ]
    },
    {
     "name": "stdout",
     "output_type": "stream",
     "text": [
      "Validation loss: 3.3099191188812256\n",
      "Client  1\n",
      "File ../data/hdfs/hdfs_train, number of sessions 971\n",
      "File ../data/hdfs/hdfs_train, number of seqs 9080\n",
      "sampling...\n"
     ]
    },
    {
     "name": "stderr",
     "output_type": "stream",
     "text": [
      "100%|██████████| 1046/1046 [00:00<00:00, 3422.52it/s]\n"
     ]
    },
    {
     "name": "stdout",
     "output_type": "stream",
     "text": [
      "File ../data/hdfs/hdfs_test_normal, number of sessions 110673\n",
      "File ../data/hdfs/hdfs_test_normal, number of seqs 1046\n",
      "Find 9080 train logs, 1046 validation logs\n",
      "Train batch size 2048 ,Validation batch size 2048\n",
      "Starting epoch: 0 | phase: train | ⏰: 02:03:51 | Learning rate: 0.000031\n"
     ]
    },
    {
     "name": "stderr",
     "output_type": "stream",
     "text": [
      "Train loss: 3.31121: 100%|██████████| 5/5 [00:00<00:00, 53.44it/s]\n"
     ]
    },
    {
     "name": "stdout",
     "output_type": "stream",
     "text": [
      "Starting epoch: 0 | phase: valid | ⏰: 02:03:52 \n"
     ]
    },
    {
     "name": "stderr",
     "output_type": "stream",
     "text": [
      ": 100%|██████████| 1/1 [00:00<00:00, 104.31it/s]\n"
     ]
    },
    {
     "name": "stdout",
     "output_type": "stream",
     "text": [
      "Validation loss: 3.310542106628418\n",
      "Client  2\n",
      "File ../data/hdfs/hdfs_train, number of sessions 971\n",
      "File ../data/hdfs/hdfs_train, number of seqs 9485\n",
      "sampling...\n"
     ]
    },
    {
     "name": "stderr",
     "output_type": "stream",
     "text": [
      "100%|██████████| 1051/1051 [00:00<00:00, 3534.96it/s]\n"
     ]
    },
    {
     "name": "stdout",
     "output_type": "stream",
     "text": [
      "File ../data/hdfs/hdfs_test_normal, number of sessions 110673\n",
      "File ../data/hdfs/hdfs_test_normal, number of seqs 1051\n",
      "Find 9485 train logs, 1051 validation logs\n",
      "Train batch size 2048 ,Validation batch size 2048\n",
      "Starting epoch: 0 | phase: train | ⏰: 02:04:03 | Learning rate: 0.000031\n"
     ]
    },
    {
     "name": "stderr",
     "output_type": "stream",
     "text": [
      "Train loss: 3.31409: 100%|██████████| 5/5 [00:00<00:00, 50.18it/s]\n"
     ]
    },
    {
     "name": "stdout",
     "output_type": "stream",
     "text": [
      "Starting epoch: 0 | phase: valid | ⏰: 02:04:04 \n"
     ]
    },
    {
     "name": "stderr",
     "output_type": "stream",
     "text": [
      ": 100%|██████████| 1/1 [00:00<00:00, 100.80it/s]\n"
     ]
    },
    {
     "name": "stdout",
     "output_type": "stream",
     "text": [
      "Validation loss: 3.311701774597168\n",
      "Client  3\n",
      "File ../data/hdfs/hdfs_train, number of sessions 971\n",
      "File ../data/hdfs/hdfs_train, number of seqs 9267\n",
      "sampling...\n"
     ]
    },
    {
     "name": "stderr",
     "output_type": "stream",
     "text": [
      "100%|██████████| 1057/1057 [00:00<00:00, 3493.85it/s]\n"
     ]
    },
    {
     "name": "stdout",
     "output_type": "stream",
     "text": [
      "File ../data/hdfs/hdfs_test_normal, number of sessions 110673\n",
      "File ../data/hdfs/hdfs_test_normal, number of seqs 1057\n",
      "Find 9267 train logs, 1057 validation logs\n",
      "Train batch size 2048 ,Validation batch size 2048\n",
      "Starting epoch: 0 | phase: train | ⏰: 02:04:16 | Learning rate: 0.000031\n"
     ]
    },
    {
     "name": "stderr",
     "output_type": "stream",
     "text": [
      "Train loss: 3.31225: 100%|██████████| 5/5 [00:00<00:00, 44.90it/s]\n"
     ]
    },
    {
     "name": "stdout",
     "output_type": "stream",
     "text": [
      "Starting epoch: 0 | phase: valid | ⏰: 02:04:16 \n"
     ]
    },
    {
     "name": "stderr",
     "output_type": "stream",
     "text": [
      ": 100%|██████████| 1/1 [00:00<00:00, 82.24it/s]\n"
     ]
    },
    {
     "name": "stdout",
     "output_type": "stream",
     "text": [
      "Validation loss: 3.3112874031066895\n",
      "Client  4\n",
      "File ../data/hdfs/hdfs_train, number of sessions 971\n",
      "File ../data/hdfs/hdfs_train, number of seqs 9323\n",
      "sampling...\n"
     ]
    },
    {
     "name": "stderr",
     "output_type": "stream",
     "text": [
      "100%|██████████| 1044/1044 [00:00<00:00, 3359.93it/s]\n"
     ]
    },
    {
     "name": "stdout",
     "output_type": "stream",
     "text": [
      "File ../data/hdfs/hdfs_test_normal, number of sessions 110673\n",
      "File ../data/hdfs/hdfs_test_normal, number of seqs 1044\n",
      "Find 9323 train logs, 1044 validation logs\n",
      "Train batch size 2048 ,Validation batch size 2048\n",
      "Starting epoch: 0 | phase: train | ⏰: 02:04:27 | Learning rate: 0.000031\n"
     ]
    },
    {
     "name": "stderr",
     "output_type": "stream",
     "text": [
      "Train loss: 3.31194: 100%|██████████| 5/5 [00:00<00:00, 54.02it/s]\n"
     ]
    },
    {
     "name": "stdout",
     "output_type": "stream",
     "text": [
      "Starting epoch: 0 | phase: valid | ⏰: 02:04:28 \n"
     ]
    },
    {
     "name": "stderr",
     "output_type": "stream",
     "text": [
      ": 100%|██████████| 1/1 [00:00<00:00, 97.19it/s]\n"
     ]
    },
    {
     "name": "stdout",
     "output_type": "stream",
     "text": [
      "Validation loss: 3.3155789375305176\n",
      "============ Test epoch 0 ============\n",
      "Client  0\n",
      "Number of sessions(hdfs_test_normal): 5813\n",
      "Number of sessions(hdfs_test_abnormal): 1136\n"
     ]
    },
    {
     "name": "stderr",
     "output_type": "stream",
     "text": [
      "100%|██████████| 5813/5813 [00:18<00:00, 313.17it/s]\n",
      "100%|██████████| 1136/1136 [00:03<00:00, 328.63it/s]\n"
     ]
    },
    {
     "name": "stdout",
     "output_type": "stream",
     "text": [
      "false positive (FP): 110639, false negative (FN): 1, Precision: 2.953%, Recall: 99.970%, F1-measure: 5.736%\n",
      "actual positive (TP+FN): 3367, actual negative (FP+TN): 110673\n",
      "accuracy: 2.981\n",
      "Finished Predicting\n",
      "elapsed_time: 22.02117085456848\n",
      "Client  1\n",
      "Number of sessions(hdfs_test_normal): 5574\n",
      "Number of sessions(hdfs_test_abnormal): 1139\n"
     ]
    },
    {
     "name": "stderr",
     "output_type": "stream",
     "text": [
      "100%|██████████| 5574/5574 [00:20<00:00, 270.54it/s]\n",
      "100%|██████████| 1139/1139 [00:04<00:00, 261.40it/s]\n"
     ]
    },
    {
     "name": "stdout",
     "output_type": "stream",
     "text": [
      "false positive (FP): 110645, false negative (FN): 4, Precision: 2.950%, Recall: 99.881%, F1-measure: 5.730%\n",
      "actual positive (TP+FN): 3367, actual negative (FP+TN): 110673\n",
      "accuracy: 2.974\n",
      "Finished Predicting\n",
      "elapsed_time: 24.962681770324707\n",
      "Client  2\n",
      "Number of sessions(hdfs_test_normal): 5730\n",
      "Number of sessions(hdfs_test_abnormal): 1118\n"
     ]
    },
    {
     "name": "stderr",
     "output_type": "stream",
     "text": [
      "100%|██████████| 5730/5730 [00:22<00:00, 258.53it/s]\n",
      "100%|██████████| 1118/1118 [00:04<00:00, 260.17it/s]\n"
     ]
    },
    {
     "name": "stdout",
     "output_type": "stream",
     "text": [
      "false positive (FP): 110643, false negative (FN): 1, Precision: 2.952%, Recall: 99.970%, F1-measure: 5.735%\n",
      "actual positive (TP+FN): 3367, actual negative (FP+TN): 110673\n",
      "accuracy: 2.978\n",
      "Finished Predicting\n",
      "elapsed_time: 26.462976217269897\n",
      "Client  3\n",
      "Number of sessions(hdfs_test_normal): 5747\n",
      "Number of sessions(hdfs_test_abnormal): 1159\n"
     ]
    },
    {
     "name": "stderr",
     "output_type": "stream",
     "text": [
      "100%|██████████| 5747/5747 [00:21<00:00, 261.88it/s]\n",
      "100%|██████████| 1159/1159 [00:04<00:00, 265.95it/s]\n"
     ]
    },
    {
     "name": "stdout",
     "output_type": "stream",
     "text": [
      "false positive (FP): 110653, false negative (FN): 1, Precision: 2.952%, Recall: 99.970%, F1-measure: 5.735%\n",
      "actual positive (TP+FN): 3367, actual negative (FP+TN): 110673\n",
      "accuracy: 2.969\n",
      "Finished Predicting\n",
      "elapsed_time: 26.30509638786316\n",
      "Client  4\n",
      "Number of sessions(hdfs_test_normal): 5623\n",
      "Number of sessions(hdfs_test_abnormal): 1121\n"
     ]
    },
    {
     "name": "stderr",
     "output_type": "stream",
     "text": [
      "100%|██████████| 5623/5623 [00:21<00:00, 260.68it/s]\n",
      "100%|██████████| 1121/1121 [00:04<00:00, 271.49it/s]\n"
     ]
    },
    {
     "name": "stdout",
     "output_type": "stream",
     "text": [
      "false positive (FP): 110649, false negative (FN): 0, Precision: 2.953%, Recall: 100.000%, F1-measure: 5.737%\n",
      "actual positive (TP+FN): 3367, actual negative (FP+TN): 110673\n",
      "accuracy: 2.974\n",
      "Finished Predicting\n",
      "elapsed_time: 25.701632499694824\n",
      "============ Train epoch 1 ============\n",
      "Client  0\n",
      "File ../data/hdfs/hdfs_train, number of sessions 971\n",
      "File ../data/hdfs/hdfs_train, number of seqs 9420\n",
      "sampling...\n"
     ]
    },
    {
     "name": "stderr",
     "output_type": "stream",
     "text": [
      "100%|██████████| 1058/1058 [00:00<00:00, 3571.03it/s]\n"
     ]
    },
    {
     "name": "stdout",
     "output_type": "stream",
     "text": [
      "File ../data/hdfs/hdfs_test_normal, number of sessions 110673\n",
      "File ../data/hdfs/hdfs_test_normal, number of seqs 1058\n",
      "Find 9420 train logs, 1058 validation logs\n",
      "Train batch size 2048 ,Validation batch size 2048\n",
      "Starting epoch: 0 | phase: train | ⏰: 02:06:48 | Learning rate: 0.000031\n"
     ]
    },
    {
     "name": "stderr",
     "output_type": "stream",
     "text": [
      "Train loss: 3.31022: 100%|██████████| 5/5 [00:00<00:00, 51.51it/s]\n"
     ]
    },
    {
     "name": "stdout",
     "output_type": "stream",
     "text": [
      "Starting epoch: 0 | phase: valid | ⏰: 02:06:48 \n"
     ]
    },
    {
     "name": "stderr",
     "output_type": "stream",
     "text": [
      ": 100%|██████████| 1/1 [00:00<00:00, 91.51it/s]\n"
     ]
    },
    {
     "name": "stdout",
     "output_type": "stream",
     "text": [
      "Validation loss: 3.3051841259002686\n",
      "Client  1\n",
      "File ../data/hdfs/hdfs_train, number of sessions 971\n",
      "File ../data/hdfs/hdfs_train, number of seqs 9080\n",
      "sampling...\n"
     ]
    },
    {
     "name": "stderr",
     "output_type": "stream",
     "text": [
      "100%|██████████| 1046/1046 [00:00<00:00, 3622.83it/s]\n"
     ]
    },
    {
     "name": "stdout",
     "output_type": "stream",
     "text": [
      "File ../data/hdfs/hdfs_test_normal, number of sessions 110673\n",
      "File ../data/hdfs/hdfs_test_normal, number of seqs 1046\n",
      "Find 9080 train logs, 1046 validation logs\n",
      "Train batch size 2048 ,Validation batch size 2048\n",
      "Starting epoch: 0 | phase: train | ⏰: 02:07:00 | Learning rate: 0.000031\n"
     ]
    },
    {
     "name": "stderr",
     "output_type": "stream",
     "text": [
      "Train loss: 3.30853: 100%|██████████| 5/5 [00:00<00:00, 53.98it/s]\n"
     ]
    },
    {
     "name": "stdout",
     "output_type": "stream",
     "text": [
      "Starting epoch: 0 | phase: valid | ⏰: 02:07:00 \n"
     ]
    },
    {
     "name": "stderr",
     "output_type": "stream",
     "text": [
      ": 100%|██████████| 1/1 [00:00<00:00, 84.86it/s]\n"
     ]
    },
    {
     "name": "stdout",
     "output_type": "stream",
     "text": [
      "Validation loss: 3.3084006309509277\n",
      "Client  2\n",
      "File ../data/hdfs/hdfs_train, number of sessions 971\n",
      "File ../data/hdfs/hdfs_train, number of seqs 9485\n",
      "sampling...\n"
     ]
    },
    {
     "name": "stderr",
     "output_type": "stream",
     "text": [
      "100%|██████████| 1051/1051 [00:00<00:00, 3093.24it/s]\n"
     ]
    },
    {
     "name": "stdout",
     "output_type": "stream",
     "text": [
      "File ../data/hdfs/hdfs_test_normal, number of sessions 110673\n",
      "File ../data/hdfs/hdfs_test_normal, number of seqs 1051\n",
      "Find 9485 train logs, 1051 validation logs\n",
      "Train batch size 2048 ,Validation batch size 2048\n",
      "Starting epoch: 0 | phase: train | ⏰: 02:07:12 | Learning rate: 0.000031\n"
     ]
    },
    {
     "name": "stderr",
     "output_type": "stream",
     "text": [
      "Train loss: 3.31117: 100%|██████████| 5/5 [00:00<00:00, 51.01it/s]\n"
     ]
    },
    {
     "name": "stdout",
     "output_type": "stream",
     "text": [
      "Starting epoch: 0 | phase: valid | ⏰: 02:07:12 \n"
     ]
    },
    {
     "name": "stderr",
     "output_type": "stream",
     "text": [
      ": 100%|██████████| 1/1 [00:00<00:00, 91.61it/s]"
     ]
    },
    {
     "name": "stdout",
     "output_type": "stream",
     "text": [
      "Validation loss: 3.303112030029297\n",
      "Client  3\n"
     ]
    },
    {
     "name": "stderr",
     "output_type": "stream",
     "text": [
      "\n"
     ]
    },
    {
     "name": "stdout",
     "output_type": "stream",
     "text": [
      "File ../data/hdfs/hdfs_train, number of sessions 971\n",
      "File ../data/hdfs/hdfs_train, number of seqs 9267\n",
      "sampling...\n"
     ]
    },
    {
     "name": "stderr",
     "output_type": "stream",
     "text": [
      "100%|██████████| 1057/1057 [00:00<00:00, 3531.46it/s]\n"
     ]
    },
    {
     "name": "stdout",
     "output_type": "stream",
     "text": [
      "File ../data/hdfs/hdfs_test_normal, number of sessions 110673\n",
      "File ../data/hdfs/hdfs_test_normal, number of seqs 1057\n",
      "Find 9267 train logs, 1057 validation logs\n",
      "Train batch size 2048 ,Validation batch size 2048\n",
      "Starting epoch: 0 | phase: train | ⏰: 02:07:24 | Learning rate: 0.000031\n"
     ]
    },
    {
     "name": "stderr",
     "output_type": "stream",
     "text": [
      "Train loss: 3.30928: 100%|██████████| 5/5 [00:00<00:00, 53.78it/s]\n"
     ]
    },
    {
     "name": "stdout",
     "output_type": "stream",
     "text": [
      "Starting epoch: 0 | phase: valid | ⏰: 02:07:24 \n"
     ]
    },
    {
     "name": "stderr",
     "output_type": "stream",
     "text": [
      ": 100%|██████████| 1/1 [00:00<00:00, 93.75it/s]"
     ]
    },
    {
     "name": "stdout",
     "output_type": "stream",
     "text": [
      "Validation loss: 3.3091166019439697\n",
      "Client  4\n"
     ]
    },
    {
     "name": "stderr",
     "output_type": "stream",
     "text": [
      "\n"
     ]
    },
    {
     "name": "stdout",
     "output_type": "stream",
     "text": [
      "File ../data/hdfs/hdfs_train, number of sessions 971\n",
      "File ../data/hdfs/hdfs_train, number of seqs 9323\n",
      "sampling...\n"
     ]
    },
    {
     "name": "stderr",
     "output_type": "stream",
     "text": [
      "100%|██████████| 1044/1044 [00:00<00:00, 3530.12it/s]\n"
     ]
    },
    {
     "name": "stdout",
     "output_type": "stream",
     "text": [
      "File ../data/hdfs/hdfs_test_normal, number of sessions 110673\n",
      "File ../data/hdfs/hdfs_test_normal, number of seqs 1044\n",
      "Find 9323 train logs, 1044 validation logs\n",
      "Train batch size 2048 ,Validation batch size 2048\n",
      "Starting epoch: 0 | phase: train | ⏰: 02:07:35 | Learning rate: 0.000031\n"
     ]
    },
    {
     "name": "stderr",
     "output_type": "stream",
     "text": [
      "Train loss: 3.30892: 100%|██████████| 5/5 [00:00<00:00, 54.58it/s]\n"
     ]
    },
    {
     "name": "stdout",
     "output_type": "stream",
     "text": [
      "Starting epoch: 0 | phase: valid | ⏰: 02:07:36 \n"
     ]
    },
    {
     "name": "stderr",
     "output_type": "stream",
     "text": [
      ": 100%|██████████| 1/1 [00:00<00:00, 101.31it/s]\n"
     ]
    },
    {
     "name": "stdout",
     "output_type": "stream",
     "text": [
      "Validation loss: 3.304600715637207\n",
      "============ Test epoch 1 ============\n",
      "Client  0\n",
      "Number of sessions(hdfs_test_normal): 5813\n",
      "Number of sessions(hdfs_test_abnormal): 1136\n"
     ]
    },
    {
     "name": "stderr",
     "output_type": "stream",
     "text": [
      "100%|██████████| 5813/5813 [00:14<00:00, 401.19it/s]\n",
      "100%|██████████| 1136/1136 [00:02<00:00, 406.74it/s]\n"
     ]
    },
    {
     "name": "stdout",
     "output_type": "stream",
     "text": [
      "false positive (FP): 104763, false negative (FN): 57, Precision: 3.063%, Recall: 98.307%, F1-measure: 5.940%\n",
      "actual positive (TP+FN): 3367, actual negative (FP+TN): 110673\n",
      "accuracy: 8.085\n",
      "Finished Predicting\n",
      "elapsed_time: 17.284738779067993\n",
      "Client  1\n",
      "Number of sessions(hdfs_test_normal): 5574\n",
      "Number of sessions(hdfs_test_abnormal): 1139\n"
     ]
    },
    {
     "name": "stderr",
     "output_type": "stream",
     "text": [
      "100%|██████████| 5574/5574 [00:14<00:00, 378.29it/s]\n",
      "100%|██████████| 1139/1139 [00:03<00:00, 288.70it/s]\n"
     ]
    },
    {
     "name": "stdout",
     "output_type": "stream",
     "text": [
      "false positive (FP): 105266, false negative (FN): 68, Precision: 3.039%, Recall: 97.980%, F1-measure: 5.895%\n",
      "actual positive (TP+FN): 3367, actual negative (FP+TN): 110673\n",
      "accuracy: 7.634\n",
      "Finished Predicting\n",
      "elapsed_time: 18.682120323181152\n",
      "Client  2\n",
      "Number of sessions(hdfs_test_normal): 5730\n",
      "Number of sessions(hdfs_test_abnormal): 1118\n"
     ]
    },
    {
     "name": "stderr",
     "output_type": "stream",
     "text": [
      "100%|██████████| 5730/5730 [00:21<00:00, 262.62it/s]\n",
      "100%|██████████| 1118/1118 [00:05<00:00, 216.55it/s]\n"
     ]
    },
    {
     "name": "stdout",
     "output_type": "stream",
     "text": [
      "false positive (FP): 104994, false negative (FN): 61, Precision: 3.053%, Recall: 98.188%, F1-measure: 5.921%\n",
      "actual positive (TP+FN): 3367, actual negative (FP+TN): 110673\n",
      "accuracy: 7.879\n",
      "Finished Predicting\n",
      "elapsed_time: 26.983633279800415\n",
      "Client  3\n",
      "Number of sessions(hdfs_test_normal): 5747\n",
      "Number of sessions(hdfs_test_abnormal): 1159\n"
     ]
    },
    {
     "name": "stderr",
     "output_type": "stream",
     "text": [
      "100%|██████████| 5747/5747 [00:26<00:00, 220.05it/s]\n",
      "100%|██████████| 1159/1159 [00:05<00:00, 221.54it/s]\n"
     ]
    },
    {
     "name": "stdout",
     "output_type": "stream",
     "text": [
      "false positive (FP): 104809, false negative (FN): 52, Precision: 3.066%, Recall: 98.456%, F1-measure: 5.947%\n",
      "actual positive (TP+FN): 3367, actual negative (FP+TN): 110673\n",
      "accuracy: 8.049\n",
      "Finished Predicting\n",
      "elapsed_time: 31.35090208053589\n",
      "Client  4\n",
      "Number of sessions(hdfs_test_normal): 5623\n",
      "Number of sessions(hdfs_test_abnormal): 1121\n"
     ]
    },
    {
     "name": "stderr",
     "output_type": "stream",
     "text": [
      "100%|██████████| 5623/5623 [00:25<00:00, 218.27it/s]\n",
      "100%|██████████| 1121/1121 [00:04<00:00, 227.93it/s]\n"
     ]
    },
    {
     "name": "stdout",
     "output_type": "stream",
     "text": [
      "false positive (FP): 105048, false negative (FN): 47, Precision: 3.064%, Recall: 98.604%, F1-measure: 5.943%\n",
      "actual positive (TP+FN): 3367, actual negative (FP+TN): 110673\n",
      "accuracy: 7.844\n",
      "Finished Predicting\n",
      "elapsed_time: 30.681596994400024\n",
      "============ Train epoch 2 ============\n",
      "Client  0\n",
      "File ../data/hdfs/hdfs_train, number of sessions 971\n",
      "File ../data/hdfs/hdfs_train, number of seqs 9420\n",
      "sampling...\n"
     ]
    },
    {
     "name": "stderr",
     "output_type": "stream",
     "text": [
      "100%|██████████| 1058/1058 [00:00<00:00, 3479.49it/s]\n"
     ]
    },
    {
     "name": "stdout",
     "output_type": "stream",
     "text": [
      "File ../data/hdfs/hdfs_test_normal, number of sessions 110673\n",
      "File ../data/hdfs/hdfs_test_normal, number of seqs 1058\n",
      "Find 9420 train logs, 1058 validation logs\n",
      "Train batch size 2048 ,Validation batch size 2048\n",
      "Starting epoch: 0 | phase: train | ⏰: 02:09:55 | Learning rate: 0.000031\n"
     ]
    },
    {
     "name": "stderr",
     "output_type": "stream",
     "text": [
      "Train loss: 3.30480: 100%|██████████| 5/5 [00:00<00:00, 51.05it/s]\n"
     ]
    },
    {
     "name": "stdout",
     "output_type": "stream",
     "text": [
      "Starting epoch: 0 | phase: valid | ⏰: 02:09:56 \n"
     ]
    },
    {
     "name": "stderr",
     "output_type": "stream",
     "text": [
      ": 100%|██████████| 1/1 [00:00<00:00, 87.75it/s]\n"
     ]
    },
    {
     "name": "stdout",
     "output_type": "stream",
     "text": [
      "Validation loss: 3.300846576690674\n",
      "Client  1\n",
      "File ../data/hdfs/hdfs_train, number of sessions 971\n",
      "File ../data/hdfs/hdfs_train, number of seqs 9080\n",
      "sampling...\n"
     ]
    },
    {
     "name": "stderr",
     "output_type": "stream",
     "text": [
      "100%|██████████| 1046/1046 [00:00<00:00, 3531.22it/s]\n"
     ]
    },
    {
     "name": "stdout",
     "output_type": "stream",
     "text": [
      "File ../data/hdfs/hdfs_test_normal, number of sessions 110673\n",
      "File ../data/hdfs/hdfs_test_normal, number of seqs 1046\n",
      "Find 9080 train logs, 1046 validation logs\n",
      "Train batch size 2048 ,Validation batch size 2048\n",
      "Starting epoch: 0 | phase: train | ⏰: 02:10:07 | Learning rate: 0.000031\n"
     ]
    },
    {
     "name": "stderr",
     "output_type": "stream",
     "text": [
      "Train loss: 3.30360: 100%|██████████| 5/5 [00:00<00:00, 54.22it/s]\n"
     ]
    },
    {
     "name": "stdout",
     "output_type": "stream",
     "text": [
      "Starting epoch: 0 | phase: valid | ⏰: 02:10:07 \n"
     ]
    },
    {
     "name": "stderr",
     "output_type": "stream",
     "text": [
      ": 100%|██████████| 1/1 [00:00<00:00, 101.48it/s]\n"
     ]
    },
    {
     "name": "stdout",
     "output_type": "stream",
     "text": [
      "Validation loss: 3.299360752105713\n",
      "Client  2\n",
      "File ../data/hdfs/hdfs_train, number of sessions 971\n",
      "File ../data/hdfs/hdfs_train, number of seqs 9485\n",
      "sampling...\n"
     ]
    },
    {
     "name": "stderr",
     "output_type": "stream",
     "text": [
      "100%|██████████| 1051/1051 [00:00<00:00, 3499.97it/s]\n"
     ]
    },
    {
     "name": "stdout",
     "output_type": "stream",
     "text": [
      "File ../data/hdfs/hdfs_test_normal, number of sessions 110673\n",
      "File ../data/hdfs/hdfs_test_normal, number of seqs 1051\n",
      "Find 9485 train logs, 1051 validation logs\n",
      "Train batch size 2048 ,Validation batch size 2048\n",
      "Starting epoch: 0 | phase: train | ⏰: 02:10:19 | Learning rate: 0.000031\n"
     ]
    },
    {
     "name": "stderr",
     "output_type": "stream",
     "text": [
      "Train loss: 3.30613: 100%|██████████| 5/5 [00:00<00:00, 53.55it/s]\n"
     ]
    },
    {
     "name": "stdout",
     "output_type": "stream",
     "text": [
      "Starting epoch: 0 | phase: valid | ⏰: 02:10:19 \n"
     ]
    },
    {
     "name": "stderr",
     "output_type": "stream",
     "text": [
      ": 100%|██████████| 1/1 [00:00<00:00, 99.05it/s]\n"
     ]
    },
    {
     "name": "stdout",
     "output_type": "stream",
     "text": [
      "Validation loss: 3.302643060684204\n",
      "Client  3\n",
      "File ../data/hdfs/hdfs_train, number of sessions 971\n",
      "File ../data/hdfs/hdfs_train, number of seqs 9267\n",
      "sampling...\n"
     ]
    },
    {
     "name": "stderr",
     "output_type": "stream",
     "text": [
      "100%|██████████| 1057/1057 [00:00<00:00, 3489.09it/s]\n"
     ]
    },
    {
     "name": "stdout",
     "output_type": "stream",
     "text": [
      "File ../data/hdfs/hdfs_test_normal, number of sessions 110673\n",
      "File ../data/hdfs/hdfs_test_normal, number of seqs 1057\n",
      "Find 9267 train logs, 1057 validation logs\n",
      "Train batch size 2048 ,Validation batch size 2048\n",
      "Starting epoch: 0 | phase: train | ⏰: 02:10:31 | Learning rate: 0.000031\n"
     ]
    },
    {
     "name": "stderr",
     "output_type": "stream",
     "text": [
      "Train loss: 3.30404: 100%|██████████| 5/5 [00:00<00:00, 53.45it/s]\n"
     ]
    },
    {
     "name": "stdout",
     "output_type": "stream",
     "text": [
      "Starting epoch: 0 | phase: valid | ⏰: 02:10:31 \n"
     ]
    },
    {
     "name": "stderr",
     "output_type": "stream",
     "text": [
      ": 100%|██████████| 1/1 [00:00<00:00, 96.58it/s]\n"
     ]
    },
    {
     "name": "stdout",
     "output_type": "stream",
     "text": [
      "Validation loss: 3.302110433578491\n",
      "Client  4\n",
      "File ../data/hdfs/hdfs_train, number of sessions 971\n",
      "File ../data/hdfs/hdfs_train, number of seqs 9323\n",
      "sampling...\n"
     ]
    },
    {
     "name": "stderr",
     "output_type": "stream",
     "text": [
      "100%|██████████| 1044/1044 [00:00<00:00, 3479.04it/s]\n"
     ]
    },
    {
     "name": "stdout",
     "output_type": "stream",
     "text": [
      "File ../data/hdfs/hdfs_test_normal, number of sessions 110673\n",
      "File ../data/hdfs/hdfs_test_normal, number of seqs 1044\n",
      "Find 9323 train logs, 1044 validation logs\n",
      "Train batch size 2048 ,Validation batch size 2048\n",
      "Starting epoch: 0 | phase: train | ⏰: 02:10:43 | Learning rate: 0.000031\n"
     ]
    },
    {
     "name": "stderr",
     "output_type": "stream",
     "text": [
      "Train loss: 3.30418: 100%|██████████| 5/5 [00:00<00:00, 52.35it/s]\n"
     ]
    },
    {
     "name": "stdout",
     "output_type": "stream",
     "text": [
      "Starting epoch: 0 | phase: valid | ⏰: 02:10:43 \n"
     ]
    },
    {
     "name": "stderr",
     "output_type": "stream",
     "text": [
      ": 100%|██████████| 1/1 [00:00<00:00, 91.31it/s]\n"
     ]
    },
    {
     "name": "stdout",
     "output_type": "stream",
     "text": [
      "Validation loss: 3.306638479232788\n",
      "============ Test epoch 2 ============\n",
      "Client  0\n",
      "Number of sessions(hdfs_test_normal): 5813\n",
      "Number of sessions(hdfs_test_abnormal): 1136\n"
     ]
    },
    {
     "name": "stderr",
     "output_type": "stream",
     "text": [
      "100%|██████████| 5813/5813 [00:17<00:00, 331.42it/s]\n",
      "100%|██████████| 1136/1136 [00:03<00:00, 349.82it/s]\n"
     ]
    },
    {
     "name": "stdout",
     "output_type": "stream",
     "text": [
      "false positive (FP): 104671, false negative (FN): 58, Precision: 3.064%, Recall: 98.277%, F1-measure: 5.944%\n",
      "actual positive (TP+FN): 3367, actual negative (FP+TN): 110673\n",
      "accuracy: 8.165\n",
      "Finished Predicting\n",
      "elapsed_time: 20.789538860321045\n",
      "Client  1\n",
      "Number of sessions(hdfs_test_normal): 5574\n",
      "Number of sessions(hdfs_test_abnormal): 1139\n"
     ]
    },
    {
     "name": "stderr",
     "output_type": "stream",
     "text": [
      "100%|██████████| 5574/5574 [00:16<00:00, 331.69it/s]\n",
      "100%|██████████| 1139/1139 [00:03<00:00, 301.99it/s]\n"
     ]
    },
    {
     "name": "stdout",
     "output_type": "stream",
     "text": [
      "false positive (FP): 105178, false negative (FN): 69, Precision: 3.040%, Recall: 97.951%, F1-measure: 5.898%\n",
      "actual positive (TP+FN): 3367, actual negative (FP+TN): 110673\n",
      "accuracy: 7.710\n",
      "Finished Predicting\n",
      "elapsed_time: 20.57888960838318\n",
      "Client  2\n",
      "Number of sessions(hdfs_test_normal): 5730\n",
      "Number of sessions(hdfs_test_abnormal): 1118\n"
     ]
    },
    {
     "name": "stderr",
     "output_type": "stream",
     "text": [
      "100%|██████████| 5730/5730 [00:22<00:00, 258.76it/s]\n",
      "100%|██████████| 1118/1118 [00:04<00:00, 273.21it/s]\n"
     ]
    },
    {
     "name": "stdout",
     "output_type": "stream",
     "text": [
      "false positive (FP): 104894, false negative (FN): 61, Precision: 3.055%, Recall: 98.188%, F1-measure: 5.926%\n",
      "actual positive (TP+FN): 3367, actual negative (FP+TN): 110673\n",
      "accuracy: 7.967\n",
      "Finished Predicting\n",
      "elapsed_time: 26.238585233688354\n",
      "Client  3\n",
      "Number of sessions(hdfs_test_normal): 5747\n",
      "Number of sessions(hdfs_test_abnormal): 1159\n"
     ]
    },
    {
     "name": "stderr",
     "output_type": "stream",
     "text": [
      "100%|██████████| 5747/5747 [00:22<00:00, 259.34it/s]\n",
      "100%|██████████| 1159/1159 [00:04<00:00, 283.94it/s]\n"
     ]
    },
    {
     "name": "stdout",
     "output_type": "stream",
     "text": [
      "false positive (FP): 104716, false negative (FN): 52, Precision: 3.069%, Recall: 98.456%, F1-measure: 5.952%\n",
      "actual positive (TP+FN): 3367, actual negative (FP+TN): 110673\n",
      "accuracy: 8.130\n",
      "Finished Predicting\n",
      "elapsed_time: 26.244568586349487\n",
      "Client  4\n",
      "Number of sessions(hdfs_test_normal): 5623\n",
      "Number of sessions(hdfs_test_abnormal): 1121\n"
     ]
    },
    {
     "name": "stderr",
     "output_type": "stream",
     "text": [
      "100%|██████████| 5623/5623 [00:21<00:00, 262.21it/s]\n",
      "100%|██████████| 1121/1121 [00:03<00:00, 290.06it/s]\n"
     ]
    },
    {
     "name": "stdout",
     "output_type": "stream",
     "text": [
      "false positive (FP): 104961, false negative (FN): 49, Precision: 3.064%, Recall: 98.545%, F1-measure: 5.944%\n",
      "actual positive (TP+FN): 3367, actual negative (FP+TN): 110673\n",
      "accuracy: 7.918\n",
      "Finished Predicting\n",
      "elapsed_time: 25.311920881271362\n",
      "============ Train epoch 3 ============\n",
      "Client  0\n",
      "File ../data/hdfs/hdfs_train, number of sessions 971\n",
      "File ../data/hdfs/hdfs_train, number of seqs 9420\n",
      "sampling...\n"
     ]
    },
    {
     "name": "stderr",
     "output_type": "stream",
     "text": [
      "100%|██████████| 1058/1058 [00:00<00:00, 3320.79it/s]\n"
     ]
    },
    {
     "name": "stdout",
     "output_type": "stream",
     "text": [
      "File ../data/hdfs/hdfs_test_normal, number of sessions 110673\n",
      "File ../data/hdfs/hdfs_test_normal, number of seqs 1058\n",
      "Find 9420 train logs, 1058 validation logs\n",
      "Train batch size 2048 ,Validation batch size 2048\n",
      "Starting epoch: 0 | phase: train | ⏰: 02:12:57 | Learning rate: 0.000031\n"
     ]
    },
    {
     "name": "stderr",
     "output_type": "stream",
     "text": [
      "Train loss: 3.29730: 100%|██████████| 5/5 [00:00<00:00, 52.17it/s]\n"
     ]
    },
    {
     "name": "stdout",
     "output_type": "stream",
     "text": [
      "Starting epoch: 0 | phase: valid | ⏰: 02:12:57 \n"
     ]
    },
    {
     "name": "stderr",
     "output_type": "stream",
     "text": [
      ": 100%|██████████| 1/1 [00:00<00:00, 96.30it/s]\n"
     ]
    },
    {
     "name": "stdout",
     "output_type": "stream",
     "text": [
      "Validation loss: 3.2975480556488037\n",
      "Client  1\n",
      "File ../data/hdfs/hdfs_train, number of sessions 971\n",
      "File ../data/hdfs/hdfs_train, number of seqs 9080\n",
      "sampling...\n"
     ]
    },
    {
     "name": "stderr",
     "output_type": "stream",
     "text": [
      "100%|██████████| 1046/1046 [00:00<00:00, 3517.34it/s]\n"
     ]
    },
    {
     "name": "stdout",
     "output_type": "stream",
     "text": [
      "File ../data/hdfs/hdfs_test_normal, number of sessions 110673\n",
      "File ../data/hdfs/hdfs_test_normal, number of seqs 1046\n",
      "Find 9080 train logs, 1046 validation logs\n",
      "Train batch size 2048 ,Validation batch size 2048\n",
      "Starting epoch: 0 | phase: train | ⏰: 02:13:08 | Learning rate: 0.000031\n"
     ]
    },
    {
     "name": "stderr",
     "output_type": "stream",
     "text": [
      "Train loss: 3.29640: 100%|██████████| 5/5 [00:00<00:00, 55.33it/s]\n"
     ]
    },
    {
     "name": "stdout",
     "output_type": "stream",
     "text": [
      "Starting epoch: 0 | phase: valid | ⏰: 02:13:08 \n"
     ]
    },
    {
     "name": "stderr",
     "output_type": "stream",
     "text": [
      ": 100%|██████████| 1/1 [00:00<00:00, 83.90it/s]\n"
     ]
    },
    {
     "name": "stdout",
     "output_type": "stream",
     "text": [
      "Validation loss: 3.297412872314453\n",
      "Client  2\n",
      "File ../data/hdfs/hdfs_train, number of sessions 971\n",
      "File ../data/hdfs/hdfs_train, number of seqs 9485\n",
      "sampling...\n"
     ]
    },
    {
     "name": "stderr",
     "output_type": "stream",
     "text": [
      "100%|██████████| 1051/1051 [00:00<00:00, 3437.17it/s]\n"
     ]
    },
    {
     "name": "stdout",
     "output_type": "stream",
     "text": [
      "File ../data/hdfs/hdfs_test_normal, number of sessions 110673\n",
      "File ../data/hdfs/hdfs_test_normal, number of seqs 1051\n",
      "Find 9485 train logs, 1051 validation logs\n",
      "Train batch size 2048 ,Validation batch size 2048\n",
      "Starting epoch: 0 | phase: train | ⏰: 02:13:20 | Learning rate: 0.000031\n"
     ]
    },
    {
     "name": "stderr",
     "output_type": "stream",
     "text": [
      "Train loss: 3.29891: 100%|██████████| 5/5 [00:00<00:00, 52.99it/s]\n"
     ]
    },
    {
     "name": "stdout",
     "output_type": "stream",
     "text": [
      "Starting epoch: 0 | phase: valid | ⏰: 02:13:20 \n"
     ]
    },
    {
     "name": "stderr",
     "output_type": "stream",
     "text": [
      ": 100%|██████████| 1/1 [00:00<00:00, 96.97it/s]\n"
     ]
    },
    {
     "name": "stdout",
     "output_type": "stream",
     "text": [
      "Validation loss: 3.2904160022735596\n",
      "Client  3\n",
      "File ../data/hdfs/hdfs_train, number of sessions 971\n",
      "File ../data/hdfs/hdfs_train, number of seqs 9267\n",
      "sampling...\n"
     ]
    },
    {
     "name": "stderr",
     "output_type": "stream",
     "text": [
      "100%|██████████| 1057/1057 [00:00<00:00, 3178.93it/s]\n"
     ]
    },
    {
     "name": "stdout",
     "output_type": "stream",
     "text": [
      "File ../data/hdfs/hdfs_test_normal, number of sessions 110673\n",
      "File ../data/hdfs/hdfs_test_normal, number of seqs 1057\n",
      "Find 9267 train logs, 1057 validation logs\n",
      "Train batch size 2048 ,Validation batch size 2048\n",
      "Starting epoch: 0 | phase: train | ⏰: 02:13:32 | Learning rate: 0.000031\n"
     ]
    },
    {
     "name": "stderr",
     "output_type": "stream",
     "text": [
      "Train loss: 3.29685: 100%|██████████| 5/5 [00:00<00:00, 50.85it/s]\n"
     ]
    },
    {
     "name": "stdout",
     "output_type": "stream",
     "text": [
      "Starting epoch: 0 | phase: valid | ⏰: 02:13:32 \n"
     ]
    },
    {
     "name": "stderr",
     "output_type": "stream",
     "text": [
      ": 100%|██████████| 1/1 [00:00<00:00, 91.47it/s]\n"
     ]
    },
    {
     "name": "stdout",
     "output_type": "stream",
     "text": [
      "Validation loss: 3.2930564880371094\n",
      "Client  4\n",
      "File ../data/hdfs/hdfs_train, number of sessions 971\n",
      "File ../data/hdfs/hdfs_train, number of seqs 9323\n",
      "sampling...\n"
     ]
    },
    {
     "name": "stderr",
     "output_type": "stream",
     "text": [
      "100%|██████████| 1044/1044 [00:00<00:00, 3469.49it/s]\n"
     ]
    },
    {
     "name": "stdout",
     "output_type": "stream",
     "text": [
      "File ../data/hdfs/hdfs_test_normal, number of sessions 110673\n",
      "File ../data/hdfs/hdfs_test_normal, number of seqs 1044\n",
      "Find 9323 train logs, 1044 validation logs\n",
      "Train batch size 2048 ,Validation batch size 2048\n",
      "Starting epoch: 0 | phase: train | ⏰: 02:13:43 | Learning rate: 0.000031\n"
     ]
    },
    {
     "name": "stderr",
     "output_type": "stream",
     "text": [
      "Train loss: 3.29633: 100%|██████████| 5/5 [00:00<00:00, 53.01it/s]\n"
     ]
    },
    {
     "name": "stdout",
     "output_type": "stream",
     "text": [
      "Starting epoch: 0 | phase: valid | ⏰: 02:13:43 \n"
     ]
    },
    {
     "name": "stderr",
     "output_type": "stream",
     "text": [
      ": 100%|██████████| 1/1 [00:00<00:00, 95.34it/s]\n"
     ]
    },
    {
     "name": "stdout",
     "output_type": "stream",
     "text": [
      "Validation loss: 3.2942259311676025\n",
      "============ Test epoch 3 ============\n",
      "Client  0\n",
      "Number of sessions(hdfs_test_normal): 5813\n",
      "Number of sessions(hdfs_test_abnormal): 1136\n"
     ]
    },
    {
     "name": "stderr",
     "output_type": "stream",
     "text": [
      "100%|██████████| 5813/5813 [00:18<00:00, 315.16it/s]\n",
      "100%|██████████| 1136/1136 [00:03<00:00, 340.46it/s]\n"
     ]
    },
    {
     "name": "stdout",
     "output_type": "stream",
     "text": [
      "false positive (FP): 104543, false negative (FN): 59, Precision: 3.067%, Recall: 98.248%, F1-measure: 5.949%\n",
      "actual positive (TP+FN): 3367, actual negative (FP+TN): 110673\n",
      "accuracy: 8.276\n",
      "Finished Predicting\n",
      "elapsed_time: 21.78364658355713\n",
      "Client  1\n",
      "Number of sessions(hdfs_test_normal): 5574\n",
      "Number of sessions(hdfs_test_abnormal): 1139\n"
     ]
    },
    {
     "name": "stderr",
     "output_type": "stream",
     "text": [
      "100%|██████████| 5574/5574 [00:17<00:00, 316.10it/s]\n",
      "100%|██████████| 1139/1139 [00:04<00:00, 261.04it/s]\n"
     ]
    },
    {
     "name": "stdout",
     "output_type": "stream",
     "text": [
      "false positive (FP): 105066, false negative (FN): 71, Precision: 3.042%, Recall: 97.891%, F1-measure: 5.900%\n",
      "actual positive (TP+FN): 3367, actual negative (FP+TN): 110673\n",
      "accuracy: 7.807\n",
      "Finished Predicting\n",
      "elapsed_time: 21.999187707901\n",
      "Client  2\n",
      "Number of sessions(hdfs_test_normal): 5730\n",
      "Number of sessions(hdfs_test_abnormal): 1118\n"
     ]
    },
    {
     "name": "stderr",
     "output_type": "stream",
     "text": [
      "100%|██████████| 5730/5730 [00:23<00:00, 247.96it/s]\n",
      "100%|██████████| 1118/1118 [00:04<00:00, 265.95it/s]\n"
     ]
    },
    {
     "name": "stdout",
     "output_type": "stream",
     "text": [
      "false positive (FP): 104781, false negative (FN): 61, Precision: 3.059%, Recall: 98.188%, F1-measure: 5.932%\n",
      "actual positive (TP+FN): 3367, actual negative (FP+TN): 110673\n",
      "accuracy: 8.066\n",
      "Finished Predicting\n",
      "elapsed_time: 27.313982725143433\n",
      "Client  3\n",
      "Number of sessions(hdfs_test_normal): 5747\n",
      "Number of sessions(hdfs_test_abnormal): 1159\n"
     ]
    },
    {
     "name": "stderr",
     "output_type": "stream",
     "text": [
      "100%|██████████| 5747/5747 [00:22<00:00, 249.96it/s]\n",
      "100%|██████████| 1159/1159 [00:04<00:00, 265.79it/s]\n"
     ]
    },
    {
     "name": "stdout",
     "output_type": "stream",
     "text": [
      "false positive (FP): 104612, false negative (FN): 53, Precision: 3.071%, Recall: 98.426%, F1-measure: 5.955%\n",
      "actual positive (TP+FN): 3367, actual negative (FP+TN): 110673\n",
      "accuracy: 8.221\n",
      "Finished Predicting\n",
      "elapsed_time: 27.354498624801636\n",
      "Client  4\n",
      "Number of sessions(hdfs_test_normal): 5623\n",
      "Number of sessions(hdfs_test_abnormal): 1121\n"
     ]
    },
    {
     "name": "stderr",
     "output_type": "stream",
     "text": [
      "100%|██████████| 5623/5623 [00:22<00:00, 248.28it/s]\n",
      "100%|██████████| 1121/1121 [00:04<00:00, 274.55it/s]\n"
     ]
    },
    {
     "name": "stdout",
     "output_type": "stream",
     "text": [
      "false positive (FP): 104844, false negative (FN): 51, Precision: 3.066%, Recall: 98.485%, F1-measure: 5.947%\n",
      "actual positive (TP+FN): 3367, actual negative (FP+TN): 110673\n",
      "accuracy: 8.019\n",
      "Finished Predicting\n",
      "elapsed_time: 26.73318576812744\n",
      "============ Train epoch 4 ============\n",
      "Client  0\n",
      "File ../data/hdfs/hdfs_train, number of sessions 971\n",
      "File ../data/hdfs/hdfs_train, number of seqs 9420\n",
      "sampling...\n"
     ]
    },
    {
     "name": "stderr",
     "output_type": "stream",
     "text": [
      "100%|██████████| 1058/1058 [00:00<00:00, 3449.63it/s]\n"
     ]
    },
    {
     "name": "stdout",
     "output_type": "stream",
     "text": [
      "File ../data/hdfs/hdfs_test_normal, number of sessions 110673\n",
      "File ../data/hdfs/hdfs_test_normal, number of seqs 1058\n",
      "Find 9420 train logs, 1058 validation logs\n",
      "Train batch size 2048 ,Validation batch size 2048\n",
      "Starting epoch: 0 | phase: train | ⏰: 02:16:04 | Learning rate: 0.000031\n"
     ]
    },
    {
     "name": "stderr",
     "output_type": "stream",
     "text": [
      "Train loss: 3.28828: 100%|██████████| 5/5 [00:00<00:00, 53.59it/s]\n"
     ]
    },
    {
     "name": "stdout",
     "output_type": "stream",
     "text": [
      "Starting epoch: 0 | phase: valid | ⏰: 02:16:04 \n"
     ]
    },
    {
     "name": "stderr",
     "output_type": "stream",
     "text": [
      ": 100%|██████████| 1/1 [00:00<00:00, 91.38it/s]\n"
     ]
    },
    {
     "name": "stdout",
     "output_type": "stream",
     "text": [
      "Validation loss: 3.283979892730713\n",
      "Client  1\n",
      "File ../data/hdfs/hdfs_train, number of sessions 971\n",
      "File ../data/hdfs/hdfs_train, number of seqs 9080\n",
      "sampling...\n"
     ]
    },
    {
     "name": "stderr",
     "output_type": "stream",
     "text": [
      "100%|██████████| 1046/1046 [00:00<00:00, 3601.16it/s]\n"
     ]
    },
    {
     "name": "stdout",
     "output_type": "stream",
     "text": [
      "File ../data/hdfs/hdfs_test_normal, number of sessions 110673\n",
      "File ../data/hdfs/hdfs_test_normal, number of seqs 1046\n",
      "Find 9080 train logs, 1046 validation logs\n",
      "Train batch size 2048 ,Validation batch size 2048\n",
      "Starting epoch: 0 | phase: train | ⏰: 02:16:15 | Learning rate: 0.000031\n"
     ]
    },
    {
     "name": "stderr",
     "output_type": "stream",
     "text": [
      "Train loss: 3.28676: 100%|██████████| 5/5 [00:00<00:00, 56.06it/s]\n"
     ]
    },
    {
     "name": "stdout",
     "output_type": "stream",
     "text": [
      "Starting epoch: 0 | phase: valid | ⏰: 02:16:15 \n"
     ]
    },
    {
     "name": "stderr",
     "output_type": "stream",
     "text": [
      ": 100%|██████████| 1/1 [00:00<00:00, 96.62it/s]\n"
     ]
    },
    {
     "name": "stdout",
     "output_type": "stream",
     "text": [
      "Validation loss: 3.286182165145874\n",
      "Client  2\n",
      "File ../data/hdfs/hdfs_train, number of sessions 971\n",
      "File ../data/hdfs/hdfs_train, number of seqs 9485\n",
      "sampling...\n"
     ]
    },
    {
     "name": "stderr",
     "output_type": "stream",
     "text": [
      "100%|██████████| 1051/1051 [00:00<00:00, 3512.20it/s]\n"
     ]
    },
    {
     "name": "stdout",
     "output_type": "stream",
     "text": [
      "File ../data/hdfs/hdfs_test_normal, number of sessions 110673\n",
      "File ../data/hdfs/hdfs_test_normal, number of seqs 1051\n",
      "Find 9485 train logs, 1051 validation logs\n",
      "Train batch size 2048 ,Validation batch size 2048\n",
      "Starting epoch: 0 | phase: train | ⏰: 02:16:27 | Learning rate: 0.000031\n"
     ]
    },
    {
     "name": "stderr",
     "output_type": "stream",
     "text": [
      "Train loss: 3.28972: 100%|██████████| 5/5 [00:00<00:00, 52.88it/s]\n"
     ]
    },
    {
     "name": "stdout",
     "output_type": "stream",
     "text": [
      "Starting epoch: 0 | phase: valid | ⏰: 02:16:27 \n"
     ]
    },
    {
     "name": "stderr",
     "output_type": "stream",
     "text": [
      ": 100%|██████████| 1/1 [00:00<00:00, 96.05it/s]\n"
     ]
    },
    {
     "name": "stdout",
     "output_type": "stream",
     "text": [
      "Validation loss: 3.2827370166778564\n",
      "Client  3\n",
      "File ../data/hdfs/hdfs_train, number of sessions 971\n",
      "File ../data/hdfs/hdfs_train, number of seqs 9267\n",
      "sampling...\n"
     ]
    },
    {
     "name": "stderr",
     "output_type": "stream",
     "text": [
      "100%|██████████| 1057/1057 [00:00<00:00, 3467.05it/s]\n"
     ]
    },
    {
     "name": "stdout",
     "output_type": "stream",
     "text": [
      "File ../data/hdfs/hdfs_test_normal, number of sessions 110673\n",
      "File ../data/hdfs/hdfs_test_normal, number of seqs 1057\n",
      "Find 9267 train logs, 1057 validation logs\n",
      "Train batch size 2048 ,Validation batch size 2048\n",
      "Starting epoch: 0 | phase: train | ⏰: 02:16:39 | Learning rate: 0.000031\n"
     ]
    },
    {
     "name": "stderr",
     "output_type": "stream",
     "text": [
      "Train loss: 3.28744: 100%|██████████| 5/5 [00:00<00:00, 53.03it/s]\n"
     ]
    },
    {
     "name": "stdout",
     "output_type": "stream",
     "text": [
      "Starting epoch: 0 | phase: valid | ⏰: 02:16:39 \n"
     ]
    },
    {
     "name": "stderr",
     "output_type": "stream",
     "text": [
      ": 100%|██████████| 1/1 [00:00<00:00, 91.97it/s]\n"
     ]
    },
    {
     "name": "stdout",
     "output_type": "stream",
     "text": [
      "Validation loss: 3.2860639095306396\n",
      "Client  4\n",
      "File ../data/hdfs/hdfs_train, number of sessions 971\n",
      "File ../data/hdfs/hdfs_train, number of seqs 9323\n",
      "sampling...\n"
     ]
    },
    {
     "name": "stderr",
     "output_type": "stream",
     "text": [
      "100%|██████████| 1044/1044 [00:00<00:00, 3438.56it/s]\n"
     ]
    },
    {
     "name": "stdout",
     "output_type": "stream",
     "text": [
      "File ../data/hdfs/hdfs_test_normal, number of sessions 110673\n",
      "File ../data/hdfs/hdfs_test_normal, number of seqs 1044\n",
      "Find 9323 train logs, 1044 validation logs\n",
      "Train batch size 2048 ,Validation batch size 2048\n",
      "Starting epoch: 0 | phase: train | ⏰: 02:16:51 | Learning rate: 0.000031\n"
     ]
    },
    {
     "name": "stderr",
     "output_type": "stream",
     "text": [
      "Train loss: 3.28742: 100%|██████████| 5/5 [00:00<00:00, 53.08it/s]\n"
     ]
    },
    {
     "name": "stdout",
     "output_type": "stream",
     "text": [
      "Starting epoch: 0 | phase: valid | ⏰: 02:16:51 \n"
     ]
    },
    {
     "name": "stderr",
     "output_type": "stream",
     "text": [
      ": 100%|██████████| 1/1 [00:00<00:00, 98.29it/s]\n"
     ]
    },
    {
     "name": "stdout",
     "output_type": "stream",
     "text": [
      "Validation loss: 3.285259962081909\n",
      "============ Test epoch 4 ============\n",
      "Client  0\n",
      "Number of sessions(hdfs_test_normal): 5813\n",
      "Number of sessions(hdfs_test_abnormal): 1136\n"
     ]
    },
    {
     "name": "stderr",
     "output_type": "stream",
     "text": [
      "100%|██████████| 5813/5813 [00:21<00:00, 273.97it/s]\n",
      "100%|██████████| 1136/1136 [00:03<00:00, 294.70it/s]\n"
     ]
    },
    {
     "name": "stdout",
     "output_type": "stream",
     "text": [
      "false positive (FP): 103989, false negative (FN): 63, Precision: 3.079%, Recall: 98.129%, F1-measure: 5.971%\n",
      "actual positive (TP+FN): 3367, actual negative (FP+TN): 110673\n",
      "accuracy: 8.758\n",
      "Finished Predicting\n",
      "elapsed_time: 25.074578762054443\n",
      "Client  1\n",
      "Number of sessions(hdfs_test_normal): 5574\n",
      "Number of sessions(hdfs_test_abnormal): 1139\n"
     ]
    },
    {
     "name": "stderr",
     "output_type": "stream",
     "text": [
      "100%|██████████| 5574/5574 [00:23<00:00, 239.12it/s]\n",
      "100%|██████████| 1139/1139 [00:05<00:00, 222.62it/s]\n"
     ]
    },
    {
     "name": "stdout",
     "output_type": "stream",
     "text": [
      "false positive (FP): 104513, false negative (FN): 78, Precision: 3.051%, Recall: 97.683%, F1-measure: 5.917%\n",
      "actual positive (TP+FN): 3367, actual negative (FP+TN): 110673\n",
      "accuracy: 8.286\n",
      "Finished Predicting\n",
      "elapsed_time: 28.429274320602417\n",
      "Client  2\n",
      "Number of sessions(hdfs_test_normal): 5730\n",
      "Number of sessions(hdfs_test_abnormal): 1118\n"
     ]
    },
    {
     "name": "stderr",
     "output_type": "stream",
     "text": [
      "100%|██████████| 5730/5730 [00:27<00:00, 210.13it/s]\n",
      "100%|██████████| 1118/1118 [00:04<00:00, 228.38it/s]\n"
     ]
    },
    {
     "name": "stdout",
     "output_type": "stream",
     "text": [
      "false positive (FP): 104221, false negative (FN): 67, Precision: 3.069%, Recall: 98.010%, F1-measure: 5.952%\n",
      "actual positive (TP+FN): 3367, actual negative (FP+TN): 110673\n",
      "accuracy: 8.551\n",
      "Finished Predicting\n",
      "elapsed_time: 32.166876792907715\n",
      "Client  3\n",
      "Number of sessions(hdfs_test_normal): 5747\n",
      "Number of sessions(hdfs_test_abnormal): 1159\n"
     ]
    },
    {
     "name": "stderr",
     "output_type": "stream",
     "text": [
      "100%|██████████| 5747/5747 [00:27<00:00, 212.82it/s]\n",
      "100%|██████████| 1159/1159 [00:04<00:00, 236.00it/s]\n"
     ]
    },
    {
     "name": "stdout",
     "output_type": "stream",
     "text": [
      "false positive (FP): 104074, false negative (FN): 57, Precision: 3.082%, Recall: 98.307%, F1-measure: 5.977%\n",
      "actual positive (TP+FN): 3367, actual negative (FP+TN): 110673\n",
      "accuracy: 8.689\n",
      "Finished Predicting\n",
      "elapsed_time: 31.91780424118042\n",
      "Client  4\n",
      "Number of sessions(hdfs_test_normal): 5623\n",
      "Number of sessions(hdfs_test_abnormal): 1121\n"
     ]
    },
    {
     "name": "stderr",
     "output_type": "stream",
     "text": [
      "100%|██████████| 5623/5623 [00:26<00:00, 209.40it/s]\n",
      "100%|██████████| 1121/1121 [00:04<00:00, 235.08it/s]\n"
     ]
    },
    {
     "name": "stdout",
     "output_type": "stream",
     "text": [
      "false positive (FP): 104341, false negative (FN): 57, Precision: 3.075%, Recall: 98.307%, F1-measure: 5.963%\n",
      "actual positive (TP+FN): 3367, actual negative (FP+TN): 110673\n",
      "accuracy: 8.455\n",
      "Finished Predicting\n",
      "elapsed_time: 31.623191118240356\n",
      "============ Train epoch 5 ============\n",
      "Client  0\n",
      "File ../data/hdfs/hdfs_train, number of sessions 971\n",
      "File ../data/hdfs/hdfs_train, number of seqs 9420\n",
      "sampling...\n"
     ]
    },
    {
     "name": "stderr",
     "output_type": "stream",
     "text": [
      "100%|██████████| 1058/1058 [00:00<00:00, 3546.52it/s]\n"
     ]
    },
    {
     "name": "stdout",
     "output_type": "stream",
     "text": [
      "File ../data/hdfs/hdfs_test_normal, number of sessions 110673\n",
      "File ../data/hdfs/hdfs_test_normal, number of seqs 1058\n",
      "Find 9420 train logs, 1058 validation logs\n",
      "Train batch size 2048 ,Validation batch size 2048\n",
      "Starting epoch: 0 | phase: train | ⏰: 02:19:35 | Learning rate: 0.000031\n"
     ]
    },
    {
     "name": "stderr",
     "output_type": "stream",
     "text": [
      "Train loss: 3.27697: 100%|██████████| 5/5 [00:00<00:00, 53.83it/s]\n"
     ]
    },
    {
     "name": "stdout",
     "output_type": "stream",
     "text": [
      "Starting epoch: 0 | phase: valid | ⏰: 02:19:35 \n"
     ]
    },
    {
     "name": "stderr",
     "output_type": "stream",
     "text": [
      ": 100%|██████████| 1/1 [00:00<00:00, 97.81it/s]\n"
     ]
    },
    {
     "name": "stdout",
     "output_type": "stream",
     "text": [
      "Validation loss: 3.274895429611206\n",
      "Client  1\n",
      "File ../data/hdfs/hdfs_train, number of sessions 971\n",
      "File ../data/hdfs/hdfs_train, number of seqs 9080\n",
      "sampling...\n"
     ]
    },
    {
     "name": "stderr",
     "output_type": "stream",
     "text": [
      "100%|██████████| 1046/1046 [00:00<00:00, 3552.17it/s]\n"
     ]
    },
    {
     "name": "stdout",
     "output_type": "stream",
     "text": [
      "File ../data/hdfs/hdfs_test_normal, number of sessions 110673\n",
      "File ../data/hdfs/hdfs_test_normal, number of seqs 1046\n",
      "Find 9080 train logs, 1046 validation logs\n",
      "Train batch size 2048 ,Validation batch size 2048\n",
      "Starting epoch: 0 | phase: train | ⏰: 02:19:46 | Learning rate: 0.000031\n"
     ]
    },
    {
     "name": "stderr",
     "output_type": "stream",
     "text": [
      "Train loss: 3.27613: 100%|██████████| 5/5 [00:00<00:00, 56.15it/s]\n"
     ]
    },
    {
     "name": "stdout",
     "output_type": "stream",
     "text": [
      "Starting epoch: 0 | phase: valid | ⏰: 02:19:46 \n"
     ]
    },
    {
     "name": "stderr",
     "output_type": "stream",
     "text": [
      ": 100%|██████████| 1/1 [00:00<00:00, 100.06it/s]\n"
     ]
    },
    {
     "name": "stdout",
     "output_type": "stream",
     "text": [
      "Validation loss: 3.2708866596221924\n",
      "Client  2\n",
      "File ../data/hdfs/hdfs_train, number of sessions 971\n",
      "File ../data/hdfs/hdfs_train, number of seqs 9485\n",
      "sampling...\n"
     ]
    },
    {
     "name": "stderr",
     "output_type": "stream",
     "text": [
      "100%|██████████| 1051/1051 [00:00<00:00, 3031.78it/s]\n"
     ]
    },
    {
     "name": "stdout",
     "output_type": "stream",
     "text": [
      "File ../data/hdfs/hdfs_test_normal, number of sessions 110673\n",
      "File ../data/hdfs/hdfs_test_normal, number of seqs 1051\n",
      "Find 9485 train logs, 1051 validation logs\n",
      "Train batch size 2048 ,Validation batch size 2048\n",
      "Starting epoch: 0 | phase: train | ⏰: 02:19:58 | Learning rate: 0.000031\n"
     ]
    },
    {
     "name": "stderr",
     "output_type": "stream",
     "text": [
      "Train loss: 3.27849: 100%|██████████| 5/5 [00:00<00:00, 53.63it/s]\n"
     ]
    },
    {
     "name": "stdout",
     "output_type": "stream",
     "text": [
      "Starting epoch: 0 | phase: valid | ⏰: 02:19:58 \n"
     ]
    },
    {
     "name": "stderr",
     "output_type": "stream",
     "text": [
      ": 100%|██████████| 1/1 [00:00<00:00, 102.45it/s]\n"
     ]
    },
    {
     "name": "stdout",
     "output_type": "stream",
     "text": [
      "Validation loss: 3.26546311378479\n",
      "Client  3\n",
      "File ../data/hdfs/hdfs_train, number of sessions 971\n",
      "File ../data/hdfs/hdfs_train, number of seqs 9267\n",
      "sampling...\n"
     ]
    },
    {
     "name": "stderr",
     "output_type": "stream",
     "text": [
      "100%|██████████| 1057/1057 [00:00<00:00, 2959.30it/s]\n"
     ]
    },
    {
     "name": "stdout",
     "output_type": "stream",
     "text": [
      "File ../data/hdfs/hdfs_test_normal, number of sessions 110673\n",
      "File ../data/hdfs/hdfs_test_normal, number of seqs 1057\n",
      "Find 9267 train logs, 1057 validation logs\n",
      "Train batch size 2048 ,Validation batch size 2048\n",
      "Starting epoch: 0 | phase: train | ⏰: 02:20:10 | Learning rate: 0.000031\n"
     ]
    },
    {
     "name": "stderr",
     "output_type": "stream",
     "text": [
      "Train loss: 3.27625: 100%|██████████| 5/5 [00:00<00:00, 49.39it/s]\n"
     ]
    },
    {
     "name": "stdout",
     "output_type": "stream",
     "text": [
      "Starting epoch: 0 | phase: valid | ⏰: 02:20:10 \n"
     ]
    },
    {
     "name": "stderr",
     "output_type": "stream",
     "text": [
      ": 100%|██████████| 1/1 [00:00<00:00, 94.72it/s]\n"
     ]
    },
    {
     "name": "stdout",
     "output_type": "stream",
     "text": [
      "Validation loss: 3.2722458839416504\n",
      "Client  4\n",
      "File ../data/hdfs/hdfs_train, number of sessions 971\n",
      "File ../data/hdfs/hdfs_train, number of seqs 9323\n",
      "sampling...\n"
     ]
    },
    {
     "name": "stderr",
     "output_type": "stream",
     "text": [
      "100%|██████████| 1044/1044 [00:00<00:00, 3072.32it/s]\n"
     ]
    },
    {
     "name": "stdout",
     "output_type": "stream",
     "text": [
      "File ../data/hdfs/hdfs_test_normal, number of sessions 110673\n",
      "File ../data/hdfs/hdfs_test_normal, number of seqs 1044\n",
      "Find 9323 train logs, 1044 validation logs\n",
      "Train batch size 2048 ,Validation batch size 2048\n",
      "Starting epoch: 0 | phase: train | ⏰: 02:20:22 | Learning rate: 0.000031\n"
     ]
    },
    {
     "name": "stderr",
     "output_type": "stream",
     "text": [
      "Train loss: 3.27618: 100%|██████████| 5/5 [00:00<00:00, 53.00it/s]\n"
     ]
    },
    {
     "name": "stdout",
     "output_type": "stream",
     "text": [
      "Starting epoch: 0 | phase: valid | ⏰: 02:20:22 \n"
     ]
    },
    {
     "name": "stderr",
     "output_type": "stream",
     "text": [
      ": 100%|██████████| 1/1 [00:00<00:00, 103.18it/s]\n"
     ]
    },
    {
     "name": "stdout",
     "output_type": "stream",
     "text": [
      "Validation loss: 3.272564172744751\n",
      "============ Test epoch 5 ============\n",
      "Client  0\n",
      "Number of sessions(hdfs_test_normal): 5813\n",
      "Number of sessions(hdfs_test_abnormal): 1136\n"
     ]
    },
    {
     "name": "stderr",
     "output_type": "stream",
     "text": [
      "100%|██████████| 5813/5813 [00:20<00:00, 279.87it/s]\n",
      "100%|██████████| 1136/1136 [00:02<00:00, 528.03it/s]\n"
     ]
    },
    {
     "name": "stdout",
     "output_type": "stream",
     "text": [
      "false positive (FP): 103947, false negative (FN): 63, Precision: 3.081%, Recall: 98.129%, F1-measure: 5.974%\n",
      "actual positive (TP+FN): 3367, actual negative (FP+TN): 110673\n",
      "accuracy: 8.795\n",
      "Finished Predicting\n",
      "elapsed_time: 22.924328565597534\n",
      "Client  1\n",
      "Number of sessions(hdfs_test_normal): 5574\n",
      "Number of sessions(hdfs_test_abnormal): 1139\n"
     ]
    },
    {
     "name": "stderr",
     "output_type": "stream",
     "text": [
      "100%|██████████| 5574/5574 [00:19<00:00, 280.39it/s]\n",
      "100%|██████████| 1139/1139 [00:03<00:00, 339.41it/s]\n"
     ]
    },
    {
     "name": "stdout",
     "output_type": "stream",
     "text": [
      "false positive (FP): 104476, false negative (FN): 78, Precision: 3.052%, Recall: 97.683%, F1-measure: 5.919%\n",
      "actual positive (TP+FN): 3367, actual negative (FP+TN): 110673\n",
      "accuracy: 8.318\n",
      "Finished Predicting\n",
      "elapsed_time: 23.23751139640808\n",
      "Client  2\n",
      "Number of sessions(hdfs_test_normal): 5730\n",
      "Number of sessions(hdfs_test_abnormal): 1118\n"
     ]
    },
    {
     "name": "stderr",
     "output_type": "stream",
     "text": [
      "100%|██████████| 5730/5730 [00:19<00:00, 293.61it/s]\n",
      "100%|██████████| 1118/1118 [00:03<00:00, 316.53it/s]\n"
     ]
    },
    {
     "name": "stdout",
     "output_type": "stream",
     "text": [
      "false positive (FP): 104189, false negative (FN): 67, Precision: 3.070%, Recall: 98.010%, F1-measure: 5.954%\n",
      "actual positive (TP+FN): 3367, actual negative (FP+TN): 110673\n",
      "accuracy: 8.579\n",
      "Finished Predicting\n",
      "elapsed_time: 23.050540924072266\n",
      "Client  3\n",
      "Number of sessions(hdfs_test_normal): 5747\n",
      "Number of sessions(hdfs_test_abnormal): 1159\n"
     ]
    },
    {
     "name": "stderr",
     "output_type": "stream",
     "text": [
      "100%|██████████| 5747/5747 [00:26<00:00, 216.52it/s]\n",
      "100%|██████████| 1159/1159 [00:05<00:00, 216.22it/s]\n"
     ]
    },
    {
     "name": "stdout",
     "output_type": "stream",
     "text": [
      "false positive (FP): 104033, false negative (FN): 57, Precision: 3.084%, Recall: 98.307%, F1-measure: 5.980%\n",
      "actual positive (TP+FN): 3367, actual negative (FP+TN): 110673\n",
      "accuracy: 8.725\n",
      "Finished Predicting\n",
      "elapsed_time: 31.905571937561035\n",
      "Client  4\n",
      "Number of sessions(hdfs_test_normal): 5623\n",
      "Number of sessions(hdfs_test_abnormal): 1121\n"
     ]
    },
    {
     "name": "stderr",
     "output_type": "stream",
     "text": [
      "100%|██████████| 5623/5623 [00:29<00:00, 193.89it/s]\n",
      "100%|██████████| 1121/1121 [00:04<00:00, 226.61it/s]\n"
     ]
    },
    {
     "name": "stdout",
     "output_type": "stream",
     "text": [
      "false positive (FP): 104310, false negative (FN): 58, Precision: 3.075%, Recall: 98.277%, F1-measure: 5.963%\n",
      "actual positive (TP+FN): 3367, actual negative (FP+TN): 110673\n",
      "accuracy: 8.481\n",
      "Finished Predicting\n",
      "elapsed_time: 33.95026636123657\n",
      "============ Train epoch 6 ============\n",
      "Client  0\n",
      "File ../data/hdfs/hdfs_train, number of sessions 971\n",
      "File ../data/hdfs/hdfs_train, number of seqs 9420\n",
      "sampling...\n"
     ]
    },
    {
     "name": "stderr",
     "output_type": "stream",
     "text": [
      "100%|██████████| 1058/1058 [00:00<00:00, 3452.85it/s]\n"
     ]
    },
    {
     "name": "stdout",
     "output_type": "stream",
     "text": [
      "File ../data/hdfs/hdfs_test_normal, number of sessions 110673\n",
      "File ../data/hdfs/hdfs_test_normal, number of seqs 1058\n",
      "Find 9420 train logs, 1058 validation logs\n",
      "Train batch size 2048 ,Validation batch size 2048\n",
      "Starting epoch: 0 | phase: train | ⏰: 02:22:52 | Learning rate: 0.000031\n"
     ]
    },
    {
     "name": "stderr",
     "output_type": "stream",
     "text": [
      "Train loss: 3.26444: 100%|██████████| 5/5 [00:00<00:00, 49.34it/s]\n"
     ]
    },
    {
     "name": "stdout",
     "output_type": "stream",
     "text": [
      "Starting epoch: 0 | phase: valid | ⏰: 02:22:52 \n"
     ]
    },
    {
     "name": "stderr",
     "output_type": "stream",
     "text": [
      ": 100%|██████████| 1/1 [00:00<00:00, 87.38it/s]\n"
     ]
    },
    {
     "name": "stdout",
     "output_type": "stream",
     "text": [
      "Validation loss: 3.2613775730133057\n",
      "Client  1\n",
      "File ../data/hdfs/hdfs_train, number of sessions 971\n",
      "File ../data/hdfs/hdfs_train, number of seqs 9080\n",
      "sampling...\n"
     ]
    },
    {
     "name": "stderr",
     "output_type": "stream",
     "text": [
      "100%|██████████| 1046/1046 [00:00<00:00, 3295.55it/s]\n"
     ]
    },
    {
     "name": "stdout",
     "output_type": "stream",
     "text": [
      "File ../data/hdfs/hdfs_test_normal, number of sessions 110673\n",
      "File ../data/hdfs/hdfs_test_normal, number of seqs 1046\n",
      "Find 9080 train logs, 1046 validation logs\n",
      "Train batch size 2048 ,Validation batch size 2048\n",
      "Starting epoch: 0 | phase: train | ⏰: 02:23:04 | Learning rate: 0.000031\n"
     ]
    },
    {
     "name": "stderr",
     "output_type": "stream",
     "text": [
      "Train loss: 3.26277: 100%|██████████| 5/5 [00:00<00:00, 51.12it/s]\n"
     ]
    },
    {
     "name": "stdout",
     "output_type": "stream",
     "text": [
      "Starting epoch: 0 | phase: valid | ⏰: 02:23:04 \n"
     ]
    },
    {
     "name": "stderr",
     "output_type": "stream",
     "text": [
      ": 100%|██████████| 1/1 [00:00<00:00, 84.62it/s]\n"
     ]
    },
    {
     "name": "stdout",
     "output_type": "stream",
     "text": [
      "Validation loss: 3.2561376094818115\n",
      "Client  2\n",
      "File ../data/hdfs/hdfs_train, number of sessions 971\n",
      "File ../data/hdfs/hdfs_train, number of seqs 9485\n",
      "sampling...\n"
     ]
    },
    {
     "name": "stderr",
     "output_type": "stream",
     "text": [
      "100%|██████████| 1051/1051 [00:00<00:00, 3148.42it/s]\n"
     ]
    },
    {
     "name": "stdout",
     "output_type": "stream",
     "text": [
      "File ../data/hdfs/hdfs_test_normal, number of sessions 110673\n",
      "File ../data/hdfs/hdfs_test_normal, number of seqs 1051\n",
      "Find 9485 train logs, 1051 validation logs\n",
      "Train batch size 2048 ,Validation batch size 2048\n",
      "Starting epoch: 0 | phase: train | ⏰: 02:23:16 | Learning rate: 0.000031\n"
     ]
    },
    {
     "name": "stderr",
     "output_type": "stream",
     "text": [
      "Train loss: 3.26559: 100%|██████████| 5/5 [00:00<00:00, 52.21it/s]\n"
     ]
    },
    {
     "name": "stdout",
     "output_type": "stream",
     "text": [
      "Starting epoch: 0 | phase: valid | ⏰: 02:23:16 \n"
     ]
    },
    {
     "name": "stderr",
     "output_type": "stream",
     "text": [
      ": 100%|██████████| 1/1 [00:00<00:00, 100.81it/s]\n"
     ]
    },
    {
     "name": "stdout",
     "output_type": "stream",
     "text": [
      "Validation loss: 3.263394355773926\n",
      "Client  3\n",
      "File ../data/hdfs/hdfs_train, number of sessions 971\n",
      "File ../data/hdfs/hdfs_train, number of seqs 9267\n",
      "sampling...\n"
     ]
    },
    {
     "name": "stderr",
     "output_type": "stream",
     "text": [
      "100%|██████████| 1057/1057 [00:00<00:00, 3204.18it/s]\n"
     ]
    },
    {
     "name": "stdout",
     "output_type": "stream",
     "text": [
      "File ../data/hdfs/hdfs_test_normal, number of sessions 110673\n",
      "File ../data/hdfs/hdfs_test_normal, number of seqs 1057\n",
      "Find 9267 train logs, 1057 validation logs\n",
      "Train batch size 2048 ,Validation batch size 2048\n",
      "Starting epoch: 0 | phase: train | ⏰: 02:23:28 | Learning rate: 0.000031\n"
     ]
    },
    {
     "name": "stderr",
     "output_type": "stream",
     "text": [
      "Train loss: 3.26364: 100%|██████████| 5/5 [00:00<00:00, 54.31it/s]\n"
     ]
    },
    {
     "name": "stdout",
     "output_type": "stream",
     "text": [
      "Starting epoch: 0 | phase: valid | ⏰: 02:23:28 \n"
     ]
    },
    {
     "name": "stderr",
     "output_type": "stream",
     "text": [
      ": 100%|██████████| 1/1 [00:00<00:00, 98.55it/s]\n"
     ]
    },
    {
     "name": "stdout",
     "output_type": "stream",
     "text": [
      "Validation loss: 3.257554531097412\n",
      "Client  4\n",
      "File ../data/hdfs/hdfs_train, number of sessions 971\n",
      "File ../data/hdfs/hdfs_train, number of seqs 9323\n",
      "sampling...\n"
     ]
    },
    {
     "name": "stderr",
     "output_type": "stream",
     "text": [
      "100%|██████████| 1044/1044 [00:00<00:00, 3244.66it/s]\n"
     ]
    },
    {
     "name": "stdout",
     "output_type": "stream",
     "text": [
      "File ../data/hdfs/hdfs_test_normal, number of sessions 110673\n",
      "File ../data/hdfs/hdfs_test_normal, number of seqs 1044\n",
      "Find 9323 train logs, 1044 validation logs\n",
      "Train batch size 2048 ,Validation batch size 2048\n",
      "Starting epoch: 0 | phase: train | ⏰: 02:23:39 | Learning rate: 0.000031\n"
     ]
    },
    {
     "name": "stderr",
     "output_type": "stream",
     "text": [
      "Train loss: 3.26322: 100%|██████████| 5/5 [00:00<00:00, 52.59it/s]\n"
     ]
    },
    {
     "name": "stdout",
     "output_type": "stream",
     "text": [
      "Starting epoch: 0 | phase: valid | ⏰: 02:23:39 \n"
     ]
    },
    {
     "name": "stderr",
     "output_type": "stream",
     "text": [
      ": 100%|██████████| 1/1 [00:00<00:00, 94.59it/s]\n"
     ]
    },
    {
     "name": "stdout",
     "output_type": "stream",
     "text": [
      "Validation loss: 3.265033006668091\n",
      "============ Test epoch 6 ============\n",
      "Client  0\n",
      "Number of sessions(hdfs_test_normal): 5813\n",
      "Number of sessions(hdfs_test_abnormal): 1136\n"
     ]
    },
    {
     "name": "stderr",
     "output_type": "stream",
     "text": [
      "100%|██████████| 5813/5813 [00:28<00:00, 205.38it/s]\n",
      "100%|██████████| 1136/1136 [00:05<00:00, 214.76it/s]\n"
     ]
    },
    {
     "name": "stdout",
     "output_type": "stream",
     "text": [
      "false positive (FP): 103930, false negative (FN): 63, Precision: 3.081%, Recall: 98.129%, F1-measure: 5.975%\n",
      "actual positive (TP+FN): 3367, actual negative (FP+TN): 110673\n",
      "accuracy: 8.810\n",
      "Finished Predicting\n",
      "elapsed_time: 33.59584450721741\n",
      "Client  1\n",
      "Number of sessions(hdfs_test_normal): 5574\n",
      "Number of sessions(hdfs_test_abnormal): 1139\n"
     ]
    },
    {
     "name": "stderr",
     "output_type": "stream",
     "text": [
      "100%|██████████| 5574/5574 [00:29<00:00, 189.64it/s]\n",
      "100%|██████████| 1139/1139 [00:05<00:00, 212.49it/s]\n"
     ]
    },
    {
     "name": "stdout",
     "output_type": "stream",
     "text": [
      "false positive (FP): 104451, false negative (FN): 78, Precision: 3.053%, Recall: 97.683%, F1-measure: 5.920%\n",
      "actual positive (TP+FN): 3367, actual negative (FP+TN): 110673\n",
      "accuracy: 8.340\n",
      "Finished Predicting\n",
      "elapsed_time: 34.75512099266052\n",
      "Client  2\n",
      "Number of sessions(hdfs_test_normal): 5730\n",
      "Number of sessions(hdfs_test_abnormal): 1118\n"
     ]
    },
    {
     "name": "stderr",
     "output_type": "stream",
     "text": [
      "100%|██████████| 5730/5730 [00:29<00:00, 191.15it/s]\n",
      "100%|██████████| 1118/1118 [00:05<00:00, 214.45it/s]\n"
     ]
    },
    {
     "name": "stdout",
     "output_type": "stream",
     "text": [
      "false positive (FP): 104168, false negative (FN): 67, Precision: 3.071%, Recall: 98.010%, F1-measure: 5.955%\n",
      "actual positive (TP+FN): 3367, actual negative (FP+TN): 110673\n",
      "accuracy: 8.598\n",
      "Finished Predicting\n",
      "elapsed_time: 35.192253828048706\n",
      "Client  3\n",
      "Number of sessions(hdfs_test_normal): 5747\n",
      "Number of sessions(hdfs_test_abnormal): 1159\n"
     ]
    },
    {
     "name": "stderr",
     "output_type": "stream",
     "text": [
      "100%|██████████| 5747/5747 [00:29<00:00, 196.67it/s]\n",
      "100%|██████████| 1159/1159 [00:05<00:00, 222.04it/s]\n"
     ]
    },
    {
     "name": "stdout",
     "output_type": "stream",
     "text": [
      "false positive (FP): 104017, false negative (FN): 57, Precision: 3.084%, Recall: 98.307%, F1-measure: 5.980%\n",
      "actual positive (TP+FN): 3367, actual negative (FP+TN): 110673\n",
      "accuracy: 8.739\n",
      "Finished Predicting\n",
      "elapsed_time: 34.44412970542908\n",
      "Client  4\n",
      "Number of sessions(hdfs_test_normal): 5623\n",
      "Number of sessions(hdfs_test_abnormal): 1121\n"
     ]
    },
    {
     "name": "stderr",
     "output_type": "stream",
     "text": [
      "100%|██████████| 5623/5623 [00:29<00:00, 192.70it/s]\n",
      "100%|██████████| 1121/1121 [00:04<00:00, 270.09it/s]\n"
     ]
    },
    {
     "name": "stdout",
     "output_type": "stream",
     "text": [
      "false positive (FP): 104293, false negative (FN): 59, Precision: 3.074%, Recall: 98.248%, F1-measure: 5.962%\n",
      "actual positive (TP+FN): 3367, actual negative (FP+TN): 110673\n",
      "accuracy: 8.495\n",
      "Finished Predicting\n",
      "elapsed_time: 33.33285665512085\n",
      "============ Train epoch 7 ============\n",
      "Client  0\n",
      "File ../data/hdfs/hdfs_train, number of sessions 971\n",
      "File ../data/hdfs/hdfs_train, number of seqs 9420\n",
      "sampling...\n"
     ]
    },
    {
     "name": "stderr",
     "output_type": "stream",
     "text": [
      "100%|██████████| 1058/1058 [00:00<00:00, 3450.60it/s]\n"
     ]
    },
    {
     "name": "stdout",
     "output_type": "stream",
     "text": [
      "File ../data/hdfs/hdfs_test_normal, number of sessions 110673\n",
      "File ../data/hdfs/hdfs_test_normal, number of seqs 1058\n",
      "Find 9420 train logs, 1058 validation logs\n",
      "Train batch size 2048 ,Validation batch size 2048\n",
      "Starting epoch: 0 | phase: train | ⏰: 02:26:46 | Learning rate: 0.000031\n"
     ]
    },
    {
     "name": "stderr",
     "output_type": "stream",
     "text": [
      "Train loss: 3.24945: 100%|██████████| 5/5 [00:00<00:00, 48.75it/s]\n"
     ]
    },
    {
     "name": "stdout",
     "output_type": "stream",
     "text": [
      "Starting epoch: 0 | phase: valid | ⏰: 02:26:46 \n"
     ]
    },
    {
     "name": "stderr",
     "output_type": "stream",
     "text": [
      ": 100%|██████████| 1/1 [00:00<00:00, 88.36it/s]\n"
     ]
    },
    {
     "name": "stdout",
     "output_type": "stream",
     "text": [
      "Validation loss: 3.2444465160369873\n",
      "Client  1\n",
      "File ../data/hdfs/hdfs_train, number of sessions 971\n",
      "File ../data/hdfs/hdfs_train, number of seqs 9080\n",
      "sampling...\n"
     ]
    },
    {
     "name": "stderr",
     "output_type": "stream",
     "text": [
      "100%|██████████| 1046/1046 [00:00<00:00, 3567.04it/s]\n"
     ]
    },
    {
     "name": "stdout",
     "output_type": "stream",
     "text": [
      "File ../data/hdfs/hdfs_test_normal, number of sessions 110673\n",
      "File ../data/hdfs/hdfs_test_normal, number of seqs 1046\n",
      "Find 9080 train logs, 1046 validation logs\n",
      "Train batch size 2048 ,Validation batch size 2048\n",
      "Starting epoch: 0 | phase: train | ⏰: 02:26:57 | Learning rate: 0.000031\n"
     ]
    },
    {
     "name": "stderr",
     "output_type": "stream",
     "text": [
      "Train loss: 3.24802: 100%|██████████| 5/5 [00:00<00:00, 54.72it/s]\n"
     ]
    },
    {
     "name": "stdout",
     "output_type": "stream",
     "text": [
      "Starting epoch: 0 | phase: valid | ⏰: 02:26:58 \n"
     ]
    },
    {
     "name": "stderr",
     "output_type": "stream",
     "text": [
      ": 100%|██████████| 1/1 [00:00<00:00, 98.60it/s]\n"
     ]
    },
    {
     "name": "stdout",
     "output_type": "stream",
     "text": [
      "Validation loss: 3.2530272006988525\n",
      "Client  2\n",
      "File ../data/hdfs/hdfs_train, number of sessions 971\n",
      "File ../data/hdfs/hdfs_train, number of seqs 9485\n",
      "sampling...\n"
     ]
    },
    {
     "name": "stderr",
     "output_type": "stream",
     "text": [
      "100%|██████████| 1051/1051 [00:00<00:00, 3342.62it/s]\n"
     ]
    },
    {
     "name": "stdout",
     "output_type": "stream",
     "text": [
      "File ../data/hdfs/hdfs_test_normal, number of sessions 110673\n",
      "File ../data/hdfs/hdfs_test_normal, number of seqs 1051\n",
      "Find 9485 train logs, 1051 validation logs\n",
      "Train batch size 2048 ,Validation batch size 2048\n",
      "Starting epoch: 0 | phase: train | ⏰: 02:27:09 | Learning rate: 0.000031\n"
     ]
    },
    {
     "name": "stderr",
     "output_type": "stream",
     "text": [
      "Train loss: 3.25161: 100%|██████████| 5/5 [00:00<00:00, 52.37it/s]\n"
     ]
    },
    {
     "name": "stdout",
     "output_type": "stream",
     "text": [
      "Starting epoch: 0 | phase: valid | ⏰: 02:27:10 \n"
     ]
    },
    {
     "name": "stderr",
     "output_type": "stream",
     "text": [
      ": 100%|██████████| 1/1 [00:00<00:00, 99.47it/s]\n"
     ]
    },
    {
     "name": "stdout",
     "output_type": "stream",
     "text": [
      "Validation loss: 3.2479891777038574\n",
      "Client  3\n",
      "File ../data/hdfs/hdfs_train, number of sessions 971\n",
      "File ../data/hdfs/hdfs_train, number of seqs 9267\n",
      "sampling...\n"
     ]
    },
    {
     "name": "stderr",
     "output_type": "stream",
     "text": [
      "100%|██████████| 1057/1057 [00:00<00:00, 3403.74it/s]\n"
     ]
    },
    {
     "name": "stdout",
     "output_type": "stream",
     "text": [
      "File ../data/hdfs/hdfs_test_normal, number of sessions 110673\n",
      "File ../data/hdfs/hdfs_test_normal, number of seqs 1057\n",
      "Find 9267 train logs, 1057 validation logs\n",
      "Train batch size 2048 ,Validation batch size 2048\n",
      "Starting epoch: 0 | phase: train | ⏰: 02:27:21 | Learning rate: 0.000031\n"
     ]
    },
    {
     "name": "stderr",
     "output_type": "stream",
     "text": [
      "Train loss: 3.24907: 100%|██████████| 5/5 [00:00<00:00, 53.53it/s]\n"
     ]
    },
    {
     "name": "stdout",
     "output_type": "stream",
     "text": [
      "Starting epoch: 0 | phase: valid | ⏰: 02:27:21 \n"
     ]
    },
    {
     "name": "stderr",
     "output_type": "stream",
     "text": [
      ": 100%|██████████| 1/1 [00:00<00:00, 84.52it/s]\n"
     ]
    },
    {
     "name": "stdout",
     "output_type": "stream",
     "text": [
      "Validation loss: 3.249488592147827\n",
      "Client  4\n",
      "File ../data/hdfs/hdfs_train, number of sessions 971\n",
      "File ../data/hdfs/hdfs_train, number of seqs 9323\n",
      "sampling...\n"
     ]
    },
    {
     "name": "stderr",
     "output_type": "stream",
     "text": [
      "100%|██████████| 1044/1044 [00:00<00:00, 3590.89it/s]\n"
     ]
    },
    {
     "name": "stdout",
     "output_type": "stream",
     "text": [
      "File ../data/hdfs/hdfs_test_normal, number of sessions 110673\n",
      "File ../data/hdfs/hdfs_test_normal, number of seqs 1044\n",
      "Find 9323 train logs, 1044 validation logs\n",
      "Train batch size 2048 ,Validation batch size 2048\n",
      "Starting epoch: 0 | phase: train | ⏰: 02:27:33 | Learning rate: 0.000031\n"
     ]
    },
    {
     "name": "stderr",
     "output_type": "stream",
     "text": [
      "Train loss: 3.24876: 100%|██████████| 5/5 [00:00<00:00, 53.08it/s]\n"
     ]
    },
    {
     "name": "stdout",
     "output_type": "stream",
     "text": [
      "Starting epoch: 0 | phase: valid | ⏰: 02:27:33 \n"
     ]
    },
    {
     "name": "stderr",
     "output_type": "stream",
     "text": [
      ": 100%|██████████| 1/1 [00:00<00:00, 92.69it/s]\n"
     ]
    },
    {
     "name": "stdout",
     "output_type": "stream",
     "text": [
      "Validation loss: 3.2476370334625244\n",
      "============ Test epoch 7 ============\n",
      "Client  0\n",
      "Number of sessions(hdfs_test_normal): 5813\n",
      "Number of sessions(hdfs_test_abnormal): 1136\n"
     ]
    },
    {
     "name": "stderr",
     "output_type": "stream",
     "text": [
      "100%|██████████| 5813/5813 [00:30<00:00, 189.52it/s]\n",
      "100%|██████████| 1136/1136 [00:05<00:00, 218.93it/s]\n"
     ]
    },
    {
     "name": "stdout",
     "output_type": "stream",
     "text": [
      "false positive (FP): 103934, false negative (FN): 62, Precision: 3.082%, Recall: 98.159%, F1-measure: 5.976%\n",
      "actual positive (TP+FN): 3367, actual negative (FP+TN): 110673\n",
      "accuracy: 8.807\n",
      "Finished Predicting\n",
      "elapsed_time: 35.8636109828949\n",
      "Client  1\n",
      "Number of sessions(hdfs_test_normal): 5574\n",
      "Number of sessions(hdfs_test_abnormal): 1139\n"
     ]
    },
    {
     "name": "stderr",
     "output_type": "stream",
     "text": [
      "100%|██████████| 5574/5574 [00:29<00:00, 190.50it/s]\n",
      "100%|██████████| 1139/1139 [00:05<00:00, 211.85it/s]\n"
     ]
    },
    {
     "name": "stdout",
     "output_type": "stream",
     "text": [
      "false positive (FP): 104452, false negative (FN): 78, Precision: 3.053%, Recall: 97.683%, F1-measure: 5.920%\n",
      "actual positive (TP+FN): 3367, actual negative (FP+TN): 110673\n",
      "accuracy: 8.339\n",
      "Finished Predicting\n",
      "elapsed_time: 34.639591217041016\n",
      "Client  2\n",
      "Number of sessions(hdfs_test_normal): 5730\n",
      "Number of sessions(hdfs_test_abnormal): 1118\n"
     ]
    },
    {
     "name": "stderr",
     "output_type": "stream",
     "text": [
      "100%|██████████| 5730/5730 [00:29<00:00, 191.25it/s]\n",
      "100%|██████████| 1118/1118 [00:05<00:00, 211.28it/s]\n"
     ]
    },
    {
     "name": "stdout",
     "output_type": "stream",
     "text": [
      "false positive (FP): 104172, false negative (FN): 65, Precision: 3.072%, Recall: 98.069%, F1-measure: 5.958%\n",
      "actual positive (TP+FN): 3367, actual negative (FP+TN): 110673\n",
      "accuracy: 8.596\n",
      "Finished Predicting\n",
      "elapsed_time: 35.25555634498596\n",
      "Client  3\n",
      "Number of sessions(hdfs_test_normal): 5747\n",
      "Number of sessions(hdfs_test_abnormal): 1159\n"
     ]
    },
    {
     "name": "stderr",
     "output_type": "stream",
     "text": [
      "100%|██████████| 5747/5747 [00:25<00:00, 221.98it/s]\n",
      "100%|██████████| 1159/1159 [00:03<00:00, 315.56it/s]\n"
     ]
    },
    {
     "name": "stdout",
     "output_type": "stream",
     "text": [
      "false positive (FP): 104023, false negative (FN): 57, Precision: 3.084%, Recall: 98.307%, F1-measure: 5.980%\n",
      "actual positive (TP+FN): 3367, actual negative (FP+TN): 110673\n",
      "accuracy: 8.734\n",
      "Finished Predicting\n",
      "elapsed_time: 29.565707206726074\n",
      "Client  4\n",
      "Number of sessions(hdfs_test_normal): 5623\n",
      "Number of sessions(hdfs_test_abnormal): 1121\n"
     ]
    },
    {
     "name": "stderr",
     "output_type": "stream",
     "text": [
      "100%|██████████| 5623/5623 [00:18<00:00, 311.89it/s]\n",
      "100%|██████████| 1121/1121 [00:01<00:00, 566.56it/s]\n"
     ]
    },
    {
     "name": "stdout",
     "output_type": "stream",
     "text": [
      "false positive (FP): 104298, false negative (FN): 58, Precision: 3.075%, Recall: 98.277%, F1-measure: 5.964%\n",
      "actual positive (TP+FN): 3367, actual negative (FP+TN): 110673\n",
      "accuracy: 8.492\n",
      "Finished Predicting\n",
      "elapsed_time: 20.011122226715088\n",
      "============ Train epoch 8 ============\n",
      "Client  0\n",
      "File ../data/hdfs/hdfs_train, number of sessions 971\n",
      "File ../data/hdfs/hdfs_train, number of seqs 9420\n",
      "sampling...\n"
     ]
    },
    {
     "name": "stderr",
     "output_type": "stream",
     "text": [
      "100%|██████████| 1058/1058 [00:00<00:00, 3389.87it/s]\n"
     ]
    },
    {
     "name": "stdout",
     "output_type": "stream",
     "text": [
      "File ../data/hdfs/hdfs_test_normal, number of sessions 110673\n",
      "File ../data/hdfs/hdfs_test_normal, number of seqs 1058\n",
      "Find 9420 train logs, 1058 validation logs\n",
      "Train batch size 2048 ,Validation batch size 2048\n",
      "Starting epoch: 0 | phase: train | ⏰: 02:30:23 | Learning rate: 0.000031\n"
     ]
    },
    {
     "name": "stderr",
     "output_type": "stream",
     "text": [
      "Train loss: 3.23342: 100%|██████████| 5/5 [00:00<00:00, 55.47it/s]\n"
     ]
    },
    {
     "name": "stdout",
     "output_type": "stream",
     "text": [
      "Starting epoch: 0 | phase: valid | ⏰: 02:30:24 \n"
     ]
    },
    {
     "name": "stderr",
     "output_type": "stream",
     "text": [
      ": 100%|██████████| 1/1 [00:00<00:00, 101.12it/s]\n"
     ]
    },
    {
     "name": "stdout",
     "output_type": "stream",
     "text": [
      "Validation loss: 3.2331223487854004\n",
      "Client  1\n",
      "File ../data/hdfs/hdfs_train, number of sessions 971\n",
      "File ../data/hdfs/hdfs_train, number of seqs 9080\n",
      "sampling...\n"
     ]
    },
    {
     "name": "stderr",
     "output_type": "stream",
     "text": [
      "100%|██████████| 1046/1046 [00:00<00:00, 3579.99it/s]\n"
     ]
    },
    {
     "name": "stdout",
     "output_type": "stream",
     "text": [
      "File ../data/hdfs/hdfs_test_normal, number of sessions 110673\n",
      "File ../data/hdfs/hdfs_test_normal, number of seqs 1046\n",
      "Find 9080 train logs, 1046 validation logs\n",
      "Train batch size 2048 ,Validation batch size 2048\n",
      "Starting epoch: 0 | phase: train | ⏰: 02:30:35 | Learning rate: 0.000031\n"
     ]
    },
    {
     "name": "stderr",
     "output_type": "stream",
     "text": [
      "Train loss: 3.23176: 100%|██████████| 5/5 [00:00<00:00, 50.10it/s]\n"
     ]
    },
    {
     "name": "stdout",
     "output_type": "stream",
     "text": [
      "Starting epoch: 0 | phase: valid | ⏰: 02:30:35 \n"
     ]
    },
    {
     "name": "stderr",
     "output_type": "stream",
     "text": [
      ": 100%|██████████| 1/1 [00:00<00:00, 101.15it/s]\n"
     ]
    },
    {
     "name": "stdout",
     "output_type": "stream",
     "text": [
      "Validation loss: 3.224152088165283\n",
      "Client  2\n",
      "File ../data/hdfs/hdfs_train, number of sessions 971\n",
      "File ../data/hdfs/hdfs_train, number of seqs 9485\n",
      "sampling...\n"
     ]
    },
    {
     "name": "stderr",
     "output_type": "stream",
     "text": [
      "100%|██████████| 1051/1051 [00:00<00:00, 3464.63it/s]\n"
     ]
    },
    {
     "name": "stdout",
     "output_type": "stream",
     "text": [
      "File ../data/hdfs/hdfs_test_normal, number of sessions 110673\n",
      "File ../data/hdfs/hdfs_test_normal, number of seqs 1051\n",
      "Find 9485 train logs, 1051 validation logs\n",
      "Train batch size 2048 ,Validation batch size 2048\n",
      "Starting epoch: 0 | phase: train | ⏰: 02:30:47 | Learning rate: 0.000031\n"
     ]
    },
    {
     "name": "stderr",
     "output_type": "stream",
     "text": [
      "Train loss: 3.23572: 100%|██████████| 5/5 [00:00<00:00, 54.47it/s]\n"
     ]
    },
    {
     "name": "stdout",
     "output_type": "stream",
     "text": [
      "Starting epoch: 0 | phase: valid | ⏰: 02:30:47 \n"
     ]
    },
    {
     "name": "stderr",
     "output_type": "stream",
     "text": [
      ": 100%|██████████| 1/1 [00:00<00:00, 103.54it/s]\n"
     ]
    },
    {
     "name": "stdout",
     "output_type": "stream",
     "text": [
      "Validation loss: 3.2351434230804443\n",
      "Client  3\n",
      "File ../data/hdfs/hdfs_train, number of sessions 971\n",
      "File ../data/hdfs/hdfs_train, number of seqs 9267\n",
      "sampling...\n"
     ]
    },
    {
     "name": "stderr",
     "output_type": "stream",
     "text": [
      "100%|██████████| 1057/1057 [00:00<00:00, 3571.12it/s]\n"
     ]
    },
    {
     "name": "stdout",
     "output_type": "stream",
     "text": [
      "File ../data/hdfs/hdfs_test_normal, number of sessions 110673\n",
      "File ../data/hdfs/hdfs_test_normal, number of seqs 1057\n",
      "Find 9267 train logs, 1057 validation logs\n",
      "Train batch size 2048 ,Validation batch size 2048\n",
      "Starting epoch: 0 | phase: train | ⏰: 02:30:59 | Learning rate: 0.000031\n"
     ]
    },
    {
     "name": "stderr",
     "output_type": "stream",
     "text": [
      "Train loss: 3.23275: 100%|██████████| 5/5 [00:00<00:00, 54.04it/s]\n"
     ]
    },
    {
     "name": "stdout",
     "output_type": "stream",
     "text": [
      "Starting epoch: 0 | phase: valid | ⏰: 02:30:59 \n"
     ]
    },
    {
     "name": "stderr",
     "output_type": "stream",
     "text": [
      ": 100%|██████████| 1/1 [00:00<00:00, 98.48it/s]\n"
     ]
    },
    {
     "name": "stdout",
     "output_type": "stream",
     "text": [
      "Validation loss: 3.2357592582702637\n",
      "Client  4\n",
      "File ../data/hdfs/hdfs_train, number of sessions 971\n",
      "File ../data/hdfs/hdfs_train, number of seqs 9323\n",
      "sampling...\n"
     ]
    },
    {
     "name": "stderr",
     "output_type": "stream",
     "text": [
      "100%|██████████| 1044/1044 [00:00<00:00, 3464.36it/s]\n"
     ]
    },
    {
     "name": "stdout",
     "output_type": "stream",
     "text": [
      "File ../data/hdfs/hdfs_test_normal, number of sessions 110673\n",
      "File ../data/hdfs/hdfs_test_normal, number of seqs 1044\n",
      "Find 9323 train logs, 1044 validation logs\n",
      "Train batch size 2048 ,Validation batch size 2048\n",
      "Starting epoch: 0 | phase: train | ⏰: 02:31:11 | Learning rate: 0.000031\n"
     ]
    },
    {
     "name": "stderr",
     "output_type": "stream",
     "text": [
      "Train loss: 3.23235: 100%|██████████| 5/5 [00:00<00:00, 54.20it/s]\n"
     ]
    },
    {
     "name": "stdout",
     "output_type": "stream",
     "text": [
      "Starting epoch: 0 | phase: valid | ⏰: 02:31:11 \n"
     ]
    },
    {
     "name": "stderr",
     "output_type": "stream",
     "text": [
      ": 100%|██████████| 1/1 [00:00<00:00, 96.84it/s]\n"
     ]
    },
    {
     "name": "stdout",
     "output_type": "stream",
     "text": [
      "Validation loss: 3.2271180152893066\n",
      "============ Test epoch 8 ============\n",
      "Client  0\n",
      "Number of sessions(hdfs_test_normal): 5813\n",
      "Number of sessions(hdfs_test_abnormal): 1136\n"
     ]
    },
    {
     "name": "stderr",
     "output_type": "stream",
     "text": [
      "100%|██████████| 5813/5813 [00:33<00:00, 171.68it/s]\n",
      "100%|██████████| 1136/1136 [00:05<00:00, 213.59it/s]\n"
     ]
    },
    {
     "name": "stdout",
     "output_type": "stream",
     "text": [
      "false positive (FP): 103934, false negative (FN): 63, Precision: 3.081%, Recall: 98.129%, F1-measure: 5.974%\n",
      "actual positive (TP+FN): 3367, actual negative (FP+TN): 110673\n",
      "accuracy: 8.807\n",
      "Finished Predicting\n",
      "elapsed_time: 39.18045496940613\n",
      "Client  1\n",
      "Number of sessions(hdfs_test_normal): 5574\n",
      "Number of sessions(hdfs_test_abnormal): 1139\n"
     ]
    },
    {
     "name": "stderr",
     "output_type": "stream",
     "text": [
      "100%|██████████| 5574/5574 [00:32<00:00, 169.83it/s]\n",
      "100%|██████████| 1139/1139 [00:05<00:00, 205.87it/s]\n"
     ]
    },
    {
     "name": "stdout",
     "output_type": "stream",
     "text": [
      "false positive (FP): 104453, false negative (FN): 78, Precision: 3.053%, Recall: 97.683%, F1-measure: 5.920%\n",
      "actual positive (TP+FN): 3367, actual negative (FP+TN): 110673\n",
      "accuracy: 8.338\n",
      "Finished Predicting\n",
      "elapsed_time: 38.35682487487793\n",
      "Client  2\n",
      "Number of sessions(hdfs_test_normal): 5730\n",
      "Number of sessions(hdfs_test_abnormal): 1118\n"
     ]
    },
    {
     "name": "stderr",
     "output_type": "stream",
     "text": [
      "100%|██████████| 5730/5730 [00:33<00:00, 169.06it/s]\n",
      "100%|██████████| 1118/1118 [00:05<00:00, 207.48it/s]\n"
     ]
    },
    {
     "name": "stdout",
     "output_type": "stream",
     "text": [
      "false positive (FP): 104172, false negative (FN): 67, Precision: 3.071%, Recall: 98.010%, F1-measure: 5.955%\n",
      "actual positive (TP+FN): 3367, actual negative (FP+TN): 110673\n",
      "accuracy: 8.594\n",
      "Finished Predicting\n",
      "elapsed_time: 39.28440284729004\n",
      "Client  3\n",
      "Number of sessions(hdfs_test_normal): 5747\n",
      "Number of sessions(hdfs_test_abnormal): 1159\n"
     ]
    },
    {
     "name": "stderr",
     "output_type": "stream",
     "text": [
      "100%|██████████| 5747/5747 [00:33<00:00, 170.86it/s]\n",
      "100%|██████████| 1159/1159 [00:05<00:00, 219.96it/s]\n"
     ]
    },
    {
     "name": "stdout",
     "output_type": "stream",
     "text": [
      "false positive (FP): 104024, false negative (FN): 57, Precision: 3.084%, Recall: 98.307%, F1-measure: 5.980%\n",
      "actual positive (TP+FN): 3367, actual negative (FP+TN): 110673\n",
      "accuracy: 8.733\n",
      "Finished Predicting\n",
      "elapsed_time: 38.9061222076416\n",
      "Client  4\n",
      "Number of sessions(hdfs_test_normal): 5623\n",
      "Number of sessions(hdfs_test_abnormal): 1121\n"
     ]
    },
    {
     "name": "stderr",
     "output_type": "stream",
     "text": [
      "100%|██████████| 5623/5623 [00:27<00:00, 204.59it/s]\n",
      "100%|██████████| 1121/1121 [00:04<00:00, 279.66it/s]\n"
     ]
    },
    {
     "name": "stdout",
     "output_type": "stream",
     "text": [
      "false positive (FP): 104298, false negative (FN): 58, Precision: 3.075%, Recall: 98.277%, F1-measure: 5.964%\n",
      "actual positive (TP+FN): 3367, actual negative (FP+TN): 110673\n",
      "accuracy: 8.492\n",
      "Finished Predicting\n",
      "elapsed_time: 31.49514079093933\n",
      "============ Train epoch 9 ============\n",
      "Client  0\n",
      "File ../data/hdfs/hdfs_train, number of sessions 971\n",
      "File ../data/hdfs/hdfs_train, number of seqs 9420\n",
      "sampling...\n"
     ]
    },
    {
     "name": "stderr",
     "output_type": "stream",
     "text": [
      "100%|██████████| 1058/1058 [00:00<00:00, 2983.73it/s]\n"
     ]
    },
    {
     "name": "stdout",
     "output_type": "stream",
     "text": [
      "File ../data/hdfs/hdfs_test_normal, number of sessions 110673\n",
      "File ../data/hdfs/hdfs_test_normal, number of seqs 1058\n",
      "Find 9420 train logs, 1058 validation logs\n",
      "Train batch size 2048 ,Validation batch size 2048\n",
      "Starting epoch: 0 | phase: train | ⏰: 02:34:33 | Learning rate: 0.000031\n"
     ]
    },
    {
     "name": "stderr",
     "output_type": "stream",
     "text": [
      "Train loss: 3.21585: 100%|██████████| 5/5 [00:00<00:00, 52.37it/s]\n"
     ]
    },
    {
     "name": "stdout",
     "output_type": "stream",
     "text": [
      "Starting epoch: 0 | phase: valid | ⏰: 02:34:33 \n"
     ]
    },
    {
     "name": "stderr",
     "output_type": "stream",
     "text": [
      ": 100%|██████████| 1/1 [00:00<00:00, 100.49it/s]\n"
     ]
    },
    {
     "name": "stdout",
     "output_type": "stream",
     "text": [
      "Validation loss: 3.2069852352142334\n",
      "Client  1\n",
      "File ../data/hdfs/hdfs_train, number of sessions 971\n",
      "File ../data/hdfs/hdfs_train, number of seqs 9080\n",
      "sampling...\n"
     ]
    },
    {
     "name": "stderr",
     "output_type": "stream",
     "text": [
      "100%|██████████| 1046/1046 [00:00<00:00, 3095.49it/s]\n"
     ]
    },
    {
     "name": "stdout",
     "output_type": "stream",
     "text": [
      "File ../data/hdfs/hdfs_test_normal, number of sessions 110673\n",
      "File ../data/hdfs/hdfs_test_normal, number of seqs 1046\n",
      "Find 9080 train logs, 1046 validation logs\n",
      "Train batch size 2048 ,Validation batch size 2048\n",
      "Starting epoch: 0 | phase: train | ⏰: 02:34:45 | Learning rate: 0.000031\n"
     ]
    },
    {
     "name": "stderr",
     "output_type": "stream",
     "text": [
      "Train loss: 3.21457: 100%|██████████| 5/5 [00:00<00:00, 55.70it/s]\n"
     ]
    },
    {
     "name": "stdout",
     "output_type": "stream",
     "text": [
      "Starting epoch: 0 | phase: valid | ⏰: 02:34:45 \n"
     ]
    },
    {
     "name": "stderr",
     "output_type": "stream",
     "text": [
      ": 100%|██████████| 1/1 [00:00<00:00, 98.84it/s]\n"
     ]
    },
    {
     "name": "stdout",
     "output_type": "stream",
     "text": [
      "Validation loss: 3.20845627784729\n",
      "Client  2\n",
      "File ../data/hdfs/hdfs_train, number of sessions 971\n",
      "File ../data/hdfs/hdfs_train, number of seqs 9485\n",
      "sampling...\n"
     ]
    },
    {
     "name": "stderr",
     "output_type": "stream",
     "text": [
      "100%|██████████| 1051/1051 [00:00<00:00, 3091.09it/s]\n"
     ]
    },
    {
     "name": "stdout",
     "output_type": "stream",
     "text": [
      "File ../data/hdfs/hdfs_test_normal, number of sessions 110673\n",
      "File ../data/hdfs/hdfs_test_normal, number of seqs 1051\n",
      "Find 9485 train logs, 1051 validation logs\n",
      "Train batch size 2048 ,Validation batch size 2048\n",
      "Starting epoch: 0 | phase: train | ⏰: 02:34:57 | Learning rate: 0.000031\n"
     ]
    },
    {
     "name": "stderr",
     "output_type": "stream",
     "text": [
      "Train loss: 3.21845: 100%|██████████| 5/5 [00:00<00:00, 52.20it/s]\n"
     ]
    },
    {
     "name": "stdout",
     "output_type": "stream",
     "text": [
      "Starting epoch: 0 | phase: valid | ⏰: 02:34:57 \n"
     ]
    },
    {
     "name": "stderr",
     "output_type": "stream",
     "text": [
      ": 100%|██████████| 1/1 [00:00<00:00, 97.33it/s]\n"
     ]
    },
    {
     "name": "stdout",
     "output_type": "stream",
     "text": [
      "Validation loss: 3.2109479904174805\n",
      "Client  3\n",
      "File ../data/hdfs/hdfs_train, number of sessions 971\n",
      "File ../data/hdfs/hdfs_train, number of seqs 9267\n",
      "sampling...\n"
     ]
    },
    {
     "name": "stderr",
     "output_type": "stream",
     "text": [
      "100%|██████████| 1057/1057 [00:00<00:00, 3494.94it/s]\n"
     ]
    },
    {
     "name": "stdout",
     "output_type": "stream",
     "text": [
      "File ../data/hdfs/hdfs_test_normal, number of sessions 110673\n",
      "File ../data/hdfs/hdfs_test_normal, number of seqs 1057\n",
      "Find 9267 train logs, 1057 validation logs\n",
      "Train batch size 2048 ,Validation batch size 2048\n",
      "Starting epoch: 0 | phase: train | ⏰: 02:35:09 | Learning rate: 0.000031\n"
     ]
    },
    {
     "name": "stderr",
     "output_type": "stream",
     "text": [
      "Train loss: 3.21542: 100%|██████████| 5/5 [00:00<00:00, 53.39it/s]\n"
     ]
    },
    {
     "name": "stdout",
     "output_type": "stream",
     "text": [
      "Starting epoch: 0 | phase: valid | ⏰: 02:35:09 \n"
     ]
    },
    {
     "name": "stderr",
     "output_type": "stream",
     "text": [
      ": 100%|██████████| 1/1 [00:00<00:00, 93.30it/s]\n"
     ]
    },
    {
     "name": "stdout",
     "output_type": "stream",
     "text": [
      "Validation loss: 3.2092716693878174\n",
      "Client  4\n",
      "File ../data/hdfs/hdfs_train, number of sessions 971\n",
      "File ../data/hdfs/hdfs_train, number of seqs 9323\n",
      "sampling...\n"
     ]
    },
    {
     "name": "stderr",
     "output_type": "stream",
     "text": [
      "100%|██████████| 1044/1044 [00:00<00:00, 3609.96it/s]\n"
     ]
    },
    {
     "name": "stdout",
     "output_type": "stream",
     "text": [
      "File ../data/hdfs/hdfs_test_normal, number of sessions 110673\n",
      "File ../data/hdfs/hdfs_test_normal, number of seqs 1044\n",
      "Find 9323 train logs, 1044 validation logs\n",
      "Train batch size 2048 ,Validation batch size 2048\n",
      "Starting epoch: 0 | phase: train | ⏰: 02:35:20 | Learning rate: 0.000031\n"
     ]
    },
    {
     "name": "stderr",
     "output_type": "stream",
     "text": [
      "Train loss: 3.21428: 100%|██████████| 5/5 [00:00<00:00, 53.93it/s]\n"
     ]
    },
    {
     "name": "stdout",
     "output_type": "stream",
     "text": [
      "Starting epoch: 0 | phase: valid | ⏰: 02:35:20 \n"
     ]
    },
    {
     "name": "stderr",
     "output_type": "stream",
     "text": [
      ": 100%|██████████| 1/1 [00:00<00:00, 97.44it/s]\n"
     ]
    },
    {
     "name": "stdout",
     "output_type": "stream",
     "text": [
      "Validation loss: 3.2103023529052734\n",
      "============ Test epoch 9 ============\n",
      "Client  0\n",
      "Number of sessions(hdfs_test_normal): 5813\n",
      "Number of sessions(hdfs_test_abnormal): 1136\n"
     ]
    },
    {
     "name": "stderr",
     "output_type": "stream",
     "text": [
      "100%|██████████| 5813/5813 [00:34<00:00, 169.30it/s]\n",
      "100%|██████████| 1136/1136 [00:05<00:00, 212.82it/s]\n"
     ]
    },
    {
     "name": "stdout",
     "output_type": "stream",
     "text": [
      "false positive (FP): 103930, false negative (FN): 63, Precision: 3.081%, Recall: 98.129%, F1-measure: 5.975%\n",
      "actual positive (TP+FN): 3367, actual negative (FP+TN): 110673\n",
      "accuracy: 8.810\n",
      "Finished Predicting\n",
      "elapsed_time: 39.675421953201294\n",
      "Client  1\n",
      "Number of sessions(hdfs_test_normal): 5574\n",
      "Number of sessions(hdfs_test_abnormal): 1139\n"
     ]
    },
    {
     "name": "stderr",
     "output_type": "stream",
     "text": [
      "100%|██████████| 5574/5574 [00:33<00:00, 167.08it/s]\n",
      "100%|██████████| 1139/1139 [00:05<00:00, 209.05it/s]\n"
     ]
    },
    {
     "name": "stdout",
     "output_type": "stream",
     "text": [
      "false positive (FP): 104451, false negative (FN): 76, Precision: 3.055%, Recall: 97.743%, F1-measure: 5.924%\n",
      "actual positive (TP+FN): 3367, actual negative (FP+TN): 110673\n",
      "accuracy: 8.342\n",
      "Finished Predicting\n",
      "elapsed_time: 38.8110728263855\n",
      "Client  2\n",
      "Number of sessions(hdfs_test_normal): 5730\n",
      "Number of sessions(hdfs_test_abnormal): 1118\n"
     ]
    },
    {
     "name": "stderr",
     "output_type": "stream",
     "text": [
      "100%|██████████| 5730/5730 [00:34<00:00, 167.62it/s]\n",
      "100%|██████████| 1118/1118 [00:05<00:00, 204.89it/s]\n"
     ]
    },
    {
     "name": "stdout",
     "output_type": "stream",
     "text": [
      "false positive (FP): 104168, false negative (FN): 67, Precision: 3.071%, Recall: 98.010%, F1-measure: 5.955%\n",
      "actual positive (TP+FN): 3367, actual negative (FP+TN): 110673\n",
      "accuracy: 8.598\n",
      "Finished Predicting\n",
      "elapsed_time: 39.64392018318176\n",
      "Client  3\n",
      "Number of sessions(hdfs_test_normal): 5747\n",
      "Number of sessions(hdfs_test_abnormal): 1159\n"
     ]
    },
    {
     "name": "stderr",
     "output_type": "stream",
     "text": [
      "100%|██████████| 5747/5747 [00:32<00:00, 176.53it/s]\n",
      "100%|██████████| 1159/1159 [00:04<00:00, 268.98it/s]\n"
     ]
    },
    {
     "name": "stdout",
     "output_type": "stream",
     "text": [
      "false positive (FP): 104017, false negative (FN): 57, Precision: 3.084%, Recall: 98.307%, F1-measure: 5.980%\n",
      "actual positive (TP+FN): 3367, actual negative (FP+TN): 110673\n",
      "accuracy: 8.739\n",
      "Finished Predicting\n",
      "elapsed_time: 36.866862058639526\n",
      "Client  4\n",
      "Number of sessions(hdfs_test_normal): 5623\n",
      "Number of sessions(hdfs_test_abnormal): 1121\n"
     ]
    },
    {
     "name": "stderr",
     "output_type": "stream",
     "text": [
      "100%|██████████| 5623/5623 [00:25<00:00, 219.43it/s]\n",
      "100%|██████████| 1121/1121 [00:04<00:00, 280.19it/s]\n"
     ]
    },
    {
     "name": "stdout",
     "output_type": "stream",
     "text": [
      "false positive (FP): 104293, false negative (FN): 58, Precision: 3.075%, Recall: 98.277%, F1-measure: 5.964%\n",
      "actual positive (TP+FN): 3367, actual negative (FP+TN): 110673\n",
      "accuracy: 8.496\n",
      "Finished Predicting\n",
      "elapsed_time: 29.628302812576294\n",
      "============ Train epoch 10 ============\n",
      "Client  0\n",
      "File ../data/hdfs/hdfs_train, number of sessions 971\n",
      "File ../data/hdfs/hdfs_train, number of seqs 9420\n",
      "sampling...\n"
     ]
    },
    {
     "name": "stderr",
     "output_type": "stream",
     "text": [
      "100%|██████████| 1058/1058 [00:00<00:00, 3222.20it/s]\n"
     ]
    },
    {
     "name": "stdout",
     "output_type": "stream",
     "text": [
      "File ../data/hdfs/hdfs_test_normal, number of sessions 110673\n",
      "File ../data/hdfs/hdfs_test_normal, number of seqs 1058\n",
      "Find 9420 train logs, 1058 validation logs\n",
      "Train batch size 2048 ,Validation batch size 2048\n",
      "Starting epoch: 0 | phase: train | ⏰: 02:38:40 | Learning rate: 0.000031\n"
     ]
    },
    {
     "name": "stderr",
     "output_type": "stream",
     "text": [
      "Train loss: 3.19668: 100%|██████████| 5/5 [00:00<00:00, 52.60it/s]\n"
     ]
    },
    {
     "name": "stdout",
     "output_type": "stream",
     "text": [
      "Starting epoch: 0 | phase: valid | ⏰: 02:38:40 \n"
     ]
    },
    {
     "name": "stderr",
     "output_type": "stream",
     "text": [
      ": 100%|██████████| 1/1 [00:00<00:00, 87.83it/s]\n"
     ]
    },
    {
     "name": "stdout",
     "output_type": "stream",
     "text": [
      "Validation loss: 3.1886281967163086\n",
      "Client  1\n",
      "File ../data/hdfs/hdfs_train, number of sessions 971\n",
      "File ../data/hdfs/hdfs_train, number of seqs 9080\n",
      "sampling...\n"
     ]
    },
    {
     "name": "stderr",
     "output_type": "stream",
     "text": [
      "100%|██████████| 1046/1046 [00:00<00:00, 3578.00it/s]\n"
     ]
    },
    {
     "name": "stdout",
     "output_type": "stream",
     "text": [
      "File ../data/hdfs/hdfs_test_normal, number of sessions 110673\n",
      "File ../data/hdfs/hdfs_test_normal, number of seqs 1046\n",
      "Find 9080 train logs, 1046 validation logs\n",
      "Train batch size 2048 ,Validation batch size 2048\n",
      "Starting epoch: 0 | phase: train | ⏰: 02:38:52 | Learning rate: 0.000031\n"
     ]
    },
    {
     "name": "stderr",
     "output_type": "stream",
     "text": [
      "Train loss: 3.19521: 100%|██████████| 5/5 [00:00<00:00, 54.18it/s]\n"
     ]
    },
    {
     "name": "stdout",
     "output_type": "stream",
     "text": [
      "Starting epoch: 0 | phase: valid | ⏰: 02:38:52 \n"
     ]
    },
    {
     "name": "stderr",
     "output_type": "stream",
     "text": [
      ": 100%|██████████| 1/1 [00:00<00:00, 92.92it/s]\n"
     ]
    },
    {
     "name": "stdout",
     "output_type": "stream",
     "text": [
      "Validation loss: 3.1913106441497803\n",
      "Client  2\n",
      "File ../data/hdfs/hdfs_train, number of sessions 971\n",
      "File ../data/hdfs/hdfs_train, number of seqs 9485\n",
      "sampling...\n"
     ]
    },
    {
     "name": "stderr",
     "output_type": "stream",
     "text": [
      "100%|██████████| 1051/1051 [00:00<00:00, 3638.83it/s]\n"
     ]
    },
    {
     "name": "stdout",
     "output_type": "stream",
     "text": [
      "File ../data/hdfs/hdfs_test_normal, number of sessions 110673\n",
      "File ../data/hdfs/hdfs_test_normal, number of seqs 1051\n",
      "Find 9485 train logs, 1051 validation logs\n",
      "Train batch size 2048 ,Validation batch size 2048\n",
      "Starting epoch: 0 | phase: train | ⏰: 02:39:04 | Learning rate: 0.000031\n"
     ]
    },
    {
     "name": "stderr",
     "output_type": "stream",
     "text": [
      "Train loss: 3.19902: 100%|██████████| 5/5 [00:00<00:00, 52.90it/s]\n"
     ]
    },
    {
     "name": "stdout",
     "output_type": "stream",
     "text": [
      "Starting epoch: 0 | phase: valid | ⏰: 02:39:04 \n"
     ]
    },
    {
     "name": "stderr",
     "output_type": "stream",
     "text": [
      ": 100%|██████████| 1/1 [00:00<00:00, 89.84it/s]\n"
     ]
    },
    {
     "name": "stdout",
     "output_type": "stream",
     "text": [
      "Validation loss: 3.195128917694092\n",
      "Client  3\n",
      "File ../data/hdfs/hdfs_train, number of sessions 971\n",
      "File ../data/hdfs/hdfs_train, number of seqs 9267\n",
      "sampling...\n"
     ]
    },
    {
     "name": "stderr",
     "output_type": "stream",
     "text": [
      "100%|██████████| 1057/1057 [00:00<00:00, 3629.20it/s]\n"
     ]
    },
    {
     "name": "stdout",
     "output_type": "stream",
     "text": [
      "File ../data/hdfs/hdfs_test_normal, number of sessions 110673\n",
      "File ../data/hdfs/hdfs_test_normal, number of seqs 1057\n",
      "Find 9267 train logs, 1057 validation logs\n",
      "Train batch size 2048 ,Validation batch size 2048\n",
      "Starting epoch: 0 | phase: train | ⏰: 02:39:15 | Learning rate: 0.000031\n"
     ]
    },
    {
     "name": "stderr",
     "output_type": "stream",
     "text": [
      "Train loss: 3.19618: 100%|██████████| 5/5 [00:00<00:00, 52.10it/s]\n"
     ]
    },
    {
     "name": "stdout",
     "output_type": "stream",
     "text": [
      "Starting epoch: 0 | phase: valid | ⏰: 02:39:15 \n"
     ]
    },
    {
     "name": "stderr",
     "output_type": "stream",
     "text": [
      ": 100%|██████████| 1/1 [00:00<00:00, 92.14it/s]\n"
     ]
    },
    {
     "name": "stdout",
     "output_type": "stream",
     "text": [
      "Validation loss: 3.190568447113037\n",
      "Client  4\n",
      "File ../data/hdfs/hdfs_train, number of sessions 971\n",
      "File ../data/hdfs/hdfs_train, number of seqs 9323\n",
      "sampling...\n"
     ]
    },
    {
     "name": "stderr",
     "output_type": "stream",
     "text": [
      "100%|██████████| 1044/1044 [00:00<00:00, 3648.43it/s]\n"
     ]
    },
    {
     "name": "stdout",
     "output_type": "stream",
     "text": [
      "File ../data/hdfs/hdfs_test_normal, number of sessions 110673\n",
      "File ../data/hdfs/hdfs_test_normal, number of seqs 1044\n",
      "Find 9323 train logs, 1044 validation logs\n",
      "Train batch size 2048 ,Validation batch size 2048\n",
      "Starting epoch: 0 | phase: train | ⏰: 02:39:27 | Learning rate: 0.000031\n"
     ]
    },
    {
     "name": "stderr",
     "output_type": "stream",
     "text": [
      "Train loss: 3.19474: 100%|██████████| 5/5 [00:00<00:00, 54.07it/s]\n"
     ]
    },
    {
     "name": "stdout",
     "output_type": "stream",
     "text": [
      "Starting epoch: 0 | phase: valid | ⏰: 02:39:27 \n"
     ]
    },
    {
     "name": "stderr",
     "output_type": "stream",
     "text": [
      ": 100%|██████████| 1/1 [00:00<00:00, 87.42it/s]\n"
     ]
    },
    {
     "name": "stdout",
     "output_type": "stream",
     "text": [
      "Validation loss: 3.191981554031372\n",
      "============ Test epoch 10 ============\n",
      "Client  0\n",
      "Number of sessions(hdfs_test_normal): 5813\n",
      "Number of sessions(hdfs_test_abnormal): 1136\n"
     ]
    },
    {
     "name": "stderr",
     "output_type": "stream",
     "text": [
      "100%|██████████| 5813/5813 [00:39<00:00, 148.82it/s]\n",
      "100%|██████████| 1136/1136 [00:06<00:00, 173.16it/s]\n"
     ]
    },
    {
     "name": "stdout",
     "output_type": "stream",
     "text": [
      "false positive (FP): 98675, false negative (FN): 2, Precision: 3.298%, Recall: 99.941%, F1-measure: 6.385%\n",
      "actual positive (TP+FN): 3367, actual negative (FP+TN): 110673\n",
      "accuracy: 13.472\n",
      "Finished Predicting\n",
      "elapsed_time: 45.623008728027344\n",
      "Client  1\n",
      "Number of sessions(hdfs_test_normal): 5574\n",
      "Number of sessions(hdfs_test_abnormal): 1139\n"
     ]
    },
    {
     "name": "stderr",
     "output_type": "stream",
     "text": [
      "100%|██████████| 5574/5574 [00:37<00:00, 147.86it/s]\n",
      "100%|██████████| 1139/1139 [00:06<00:00, 171.39it/s]\n"
     ]
    },
    {
     "name": "stdout",
     "output_type": "stream",
     "text": [
      "false positive (FP): 99153, false negative (FN): 3, Precision: 3.281%, Recall: 99.911%, F1-measure: 6.354%\n",
      "actual positive (TP+FN): 3367, actual negative (FP+TN): 110673\n",
      "accuracy: 13.052\n",
      "Finished Predicting\n",
      "elapsed_time: 44.34452509880066\n",
      "Client  2\n",
      "Number of sessions(hdfs_test_normal): 5730\n",
      "Number of sessions(hdfs_test_abnormal): 1118\n"
     ]
    },
    {
     "name": "stderr",
     "output_type": "stream",
     "text": [
      "100%|██████████| 5730/5730 [00:37<00:00, 152.87it/s]\n",
      "100%|██████████| 1118/1118 [00:05<00:00, 215.18it/s]\n"
     ]
    },
    {
     "name": "stdout",
     "output_type": "stream",
     "text": [
      "false positive (FP): 98712, false negative (FN): 4, Precision: 3.295%, Recall: 99.881%, F1-measure: 6.379%\n",
      "actual positive (TP+FN): 3367, actual negative (FP+TN): 110673\n",
      "accuracy: 13.437\n",
      "Finished Predicting\n",
      "elapsed_time: 42.681204080581665\n",
      "Client  3\n",
      "Number of sessions(hdfs_test_normal): 5747\n",
      "Number of sessions(hdfs_test_abnormal): 1159\n"
     ]
    },
    {
     "name": "stderr",
     "output_type": "stream",
     "text": [
      "100%|██████████| 5747/5747 [00:30<00:00, 187.32it/s]\n",
      "100%|██████████| 1159/1159 [00:04<00:00, 253.54it/s]\n"
     ]
    },
    {
     "name": "stdout",
     "output_type": "stream",
     "text": [
      "false positive (FP): 98762, false negative (FN): 1, Precision: 3.296%, Recall: 99.970%, F1-measure: 6.381%\n",
      "actual positive (TP+FN): 3367, actual negative (FP+TN): 110673\n",
      "accuracy: 13.396\n",
      "Finished Predicting\n",
      "elapsed_time: 35.25387787818909\n",
      "Client  4\n",
      "Number of sessions(hdfs_test_normal): 5623\n",
      "Number of sessions(hdfs_test_abnormal): 1121\n"
     ]
    },
    {
     "name": "stderr",
     "output_type": "stream",
     "text": [
      "100%|██████████| 5623/5623 [00:17<00:00, 327.29it/s]\n",
      "100%|██████████| 1121/1121 [00:04<00:00, 256.29it/s]\n"
     ]
    },
    {
     "name": "stdout",
     "output_type": "stream",
     "text": [
      "false positive (FP): 98923, false negative (FN): 2, Precision: 3.290%, Recall: 99.941%, F1-measure: 6.370%\n",
      "actual positive (TP+FN): 3367, actual negative (FP+TN): 110673\n",
      "accuracy: 13.254\n",
      "Finished Predicting\n",
      "elapsed_time: 21.557074069976807\n",
      "============ Train epoch 11 ============\n",
      "Client  0\n",
      "File ../data/hdfs/hdfs_train, number of sessions 971\n",
      "File ../data/hdfs/hdfs_train, number of seqs 9420\n",
      "sampling...\n"
     ]
    },
    {
     "name": "stderr",
     "output_type": "stream",
     "text": [
      "100%|██████████| 1058/1058 [00:00<00:00, 3215.61it/s]\n"
     ]
    },
    {
     "name": "stdout",
     "output_type": "stream",
     "text": [
      "File ../data/hdfs/hdfs_test_normal, number of sessions 110673\n",
      "File ../data/hdfs/hdfs_test_normal, number of seqs 1058\n",
      "Find 9420 train logs, 1058 validation logs\n",
      "Train batch size 2048 ,Validation batch size 2048\n",
      "Starting epoch: 0 | phase: train | ⏰: 02:42:52 | Learning rate: 0.000031\n"
     ]
    },
    {
     "name": "stderr",
     "output_type": "stream",
     "text": [
      "Train loss: 3.17594: 100%|██████████| 5/5 [00:00<00:00, 50.95it/s]\n"
     ]
    },
    {
     "name": "stdout",
     "output_type": "stream",
     "text": [
      "Starting epoch: 0 | phase: valid | ⏰: 02:42:52 \n"
     ]
    },
    {
     "name": "stderr",
     "output_type": "stream",
     "text": [
      ": 100%|██████████| 1/1 [00:00<00:00, 93.01it/s]\n"
     ]
    },
    {
     "name": "stdout",
     "output_type": "stream",
     "text": [
      "Validation loss: 3.173957347869873\n",
      "Client  1\n",
      "File ../data/hdfs/hdfs_train, number of sessions 971\n",
      "File ../data/hdfs/hdfs_train, number of seqs 9080\n",
      "sampling...\n"
     ]
    },
    {
     "name": "stderr",
     "output_type": "stream",
     "text": [
      "100%|██████████| 1046/1046 [00:00<00:00, 3572.16it/s]\n"
     ]
    },
    {
     "name": "stdout",
     "output_type": "stream",
     "text": [
      "File ../data/hdfs/hdfs_test_normal, number of sessions 110673\n",
      "File ../data/hdfs/hdfs_test_normal, number of seqs 1046\n",
      "Find 9080 train logs, 1046 validation logs\n",
      "Train batch size 2048 ,Validation batch size 2048\n",
      "Starting epoch: 0 | phase: train | ⏰: 02:43:03 | Learning rate: 0.000031\n"
     ]
    },
    {
     "name": "stderr",
     "output_type": "stream",
     "text": [
      "Train loss: 3.17436: 100%|██████████| 5/5 [00:00<00:00, 52.52it/s]\n"
     ]
    },
    {
     "name": "stdout",
     "output_type": "stream",
     "text": [
      "Starting epoch: 0 | phase: valid | ⏰: 02:43:03 \n"
     ]
    },
    {
     "name": "stderr",
     "output_type": "stream",
     "text": [
      ": 100%|██████████| 1/1 [00:00<00:00, 96.40it/s]\n"
     ]
    },
    {
     "name": "stdout",
     "output_type": "stream",
     "text": [
      "Validation loss: 3.167560577392578\n",
      "Client  2\n",
      "File ../data/hdfs/hdfs_train, number of sessions 971\n",
      "File ../data/hdfs/hdfs_train, number of seqs 9485\n",
      "sampling...\n"
     ]
    },
    {
     "name": "stderr",
     "output_type": "stream",
     "text": [
      "100%|██████████| 1051/1051 [00:00<00:00, 2446.71it/s]\n"
     ]
    },
    {
     "name": "stdout",
     "output_type": "stream",
     "text": [
      "File ../data/hdfs/hdfs_test_normal, number of sessions 110673\n",
      "File ../data/hdfs/hdfs_test_normal, number of seqs 1051\n",
      "Find 9485 train logs, 1051 validation logs\n",
      "Train batch size 2048 ,Validation batch size 2048\n",
      "Starting epoch: 0 | phase: train | ⏰: 02:43:15 | Learning rate: 0.000031\n"
     ]
    },
    {
     "name": "stderr",
     "output_type": "stream",
     "text": [
      "Train loss: 3.17842: 100%|██████████| 5/5 [00:00<00:00, 48.76it/s]\n"
     ]
    },
    {
     "name": "stdout",
     "output_type": "stream",
     "text": [
      "Starting epoch: 0 | phase: valid | ⏰: 02:43:15 \n"
     ]
    },
    {
     "name": "stderr",
     "output_type": "stream",
     "text": [
      ": 100%|██████████| 1/1 [00:00<00:00, 92.71it/s]"
     ]
    },
    {
     "name": "stdout",
     "output_type": "stream",
     "text": [
      "Validation loss: 3.1749157905578613\n",
      "Client  3\n"
     ]
    },
    {
     "name": "stderr",
     "output_type": "stream",
     "text": [
      "\n"
     ]
    },
    {
     "name": "stdout",
     "output_type": "stream",
     "text": [
      "File ../data/hdfs/hdfs_train, number of sessions 971\n",
      "File ../data/hdfs/hdfs_train, number of seqs 9267\n",
      "sampling...\n"
     ]
    },
    {
     "name": "stderr",
     "output_type": "stream",
     "text": [
      "100%|██████████| 1057/1057 [00:00<00:00, 3494.07it/s]\n"
     ]
    },
    {
     "name": "stdout",
     "output_type": "stream",
     "text": [
      "File ../data/hdfs/hdfs_test_normal, number of sessions 110673\n",
      "File ../data/hdfs/hdfs_test_normal, number of seqs 1057\n",
      "Find 9267 train logs, 1057 validation logs\n",
      "Train batch size 2048 ,Validation batch size 2048\n",
      "Starting epoch: 0 | phase: train | ⏰: 02:43:27 | Learning rate: 0.000031\n"
     ]
    },
    {
     "name": "stderr",
     "output_type": "stream",
     "text": [
      "Train loss: 3.17474: 100%|██████████| 5/5 [00:00<00:00, 55.02it/s]\n"
     ]
    },
    {
     "name": "stdout",
     "output_type": "stream",
     "text": [
      "Starting epoch: 0 | phase: valid | ⏰: 02:43:27 \n"
     ]
    },
    {
     "name": "stderr",
     "output_type": "stream",
     "text": [
      ": 100%|██████████| 1/1 [00:00<00:00, 103.55it/s]\n"
     ]
    },
    {
     "name": "stdout",
     "output_type": "stream",
     "text": [
      "Validation loss: 3.176271677017212\n",
      "Client  4\n",
      "File ../data/hdfs/hdfs_train, number of sessions 971\n",
      "File ../data/hdfs/hdfs_train, number of seqs 9323\n",
      "sampling...\n"
     ]
    },
    {
     "name": "stderr",
     "output_type": "stream",
     "text": [
      "100%|██████████| 1044/1044 [00:00<00:00, 3557.96it/s]\n"
     ]
    },
    {
     "name": "stdout",
     "output_type": "stream",
     "text": [
      "File ../data/hdfs/hdfs_test_normal, number of sessions 110673\n",
      "File ../data/hdfs/hdfs_test_normal, number of seqs 1044\n",
      "Find 9323 train logs, 1044 validation logs\n",
      "Train batch size 2048 ,Validation batch size 2048\n",
      "Starting epoch: 0 | phase: train | ⏰: 02:43:39 | Learning rate: 0.000031\n"
     ]
    },
    {
     "name": "stderr",
     "output_type": "stream",
     "text": [
      "Train loss: 3.17469: 100%|██████████| 5/5 [00:00<00:00, 48.11it/s]\n"
     ]
    },
    {
     "name": "stdout",
     "output_type": "stream",
     "text": [
      "Starting epoch: 0 | phase: valid | ⏰: 02:43:39 \n"
     ]
    },
    {
     "name": "stderr",
     "output_type": "stream",
     "text": [
      ": 100%|██████████| 1/1 [00:00<00:00, 75.06it/s]\n"
     ]
    },
    {
     "name": "stdout",
     "output_type": "stream",
     "text": [
      "Validation loss: 3.1667652130126953\n",
      "============ Test epoch 11 ============\n",
      "Client  0\n",
      "Number of sessions(hdfs_test_normal): 5813\n",
      "Number of sessions(hdfs_test_abnormal): 1136\n"
     ]
    },
    {
     "name": "stderr",
     "output_type": "stream",
     "text": [
      "100%|██████████| 5813/5813 [01:01<00:00, 95.15it/s] \n",
      "100%|██████████| 1136/1136 [00:07<00:00, 149.44it/s]\n"
     ]
    },
    {
     "name": "stdout",
     "output_type": "stream",
     "text": [
      "false positive (FP): 47317, false negative (FN): 9, Precision: 6.627%, Recall: 99.733%, F1-measure: 12.427%\n",
      "actual positive (TP+FN): 3367, actual negative (FP+TN): 110673\n",
      "accuracy: 58.501\n",
      "Finished Predicting\n",
      "elapsed_time: 68.70027256011963\n",
      "Client  1\n",
      "Number of sessions(hdfs_test_normal): 5574\n",
      "Number of sessions(hdfs_test_abnormal): 1139\n"
     ]
    },
    {
     "name": "stderr",
     "output_type": "stream",
     "text": [
      "100%|██████████| 5574/5574 [00:54<00:00, 102.65it/s]\n",
      "100%|██████████| 1139/1139 [00:10<00:00, 113.05it/s]\n"
     ]
    },
    {
     "name": "stdout",
     "output_type": "stream",
     "text": [
      "false positive (FP): 46325, false negative (FN): 9, Precision: 6.759%, Recall: 99.733%, F1-measure: 12.660%\n",
      "actual positive (TP+FN): 3367, actual negative (FP+TN): 110673\n",
      "accuracy: 59.370\n",
      "Finished Predicting\n",
      "elapsed_time: 64.37725353240967\n",
      "Client  2\n",
      "Number of sessions(hdfs_test_normal): 5730\n",
      "Number of sessions(hdfs_test_abnormal): 1118\n"
     ]
    },
    {
     "name": "stderr",
     "output_type": "stream",
     "text": [
      "100%|██████████| 5730/5730 [01:06<00:00, 85.99it/s] \n",
      "100%|██████████| 1118/1118 [00:09<00:00, 113.09it/s]\n"
     ]
    },
    {
     "name": "stdout",
     "output_type": "stream",
     "text": [
      "false positive (FP): 46475, false negative (FN): 12, Precision: 6.733%, Recall: 99.644%, F1-measure: 12.613%\n",
      "actual positive (TP+FN): 3367, actual negative (FP+TN): 110673\n",
      "accuracy: 59.236\n",
      "Finished Predicting\n",
      "elapsed_time: 76.52730679512024\n",
      "Client  3\n",
      "Number of sessions(hdfs_test_normal): 5747\n",
      "Number of sessions(hdfs_test_abnormal): 1159\n"
     ]
    },
    {
     "name": "stderr",
     "output_type": "stream",
     "text": [
      "100%|██████████| 5747/5747 [01:05<00:00, 88.36it/s] \n",
      "100%|██████████| 1159/1159 [00:09<00:00, 124.58it/s]\n"
     ]
    },
    {
     "name": "stdout",
     "output_type": "stream",
     "text": [
      "false positive (FP): 46829, false negative (FN): 6, Precision: 6.697%, Recall: 99.822%, F1-measure: 12.551%\n",
      "actual positive (TP+FN): 3367, actual negative (FP+TN): 110673\n",
      "accuracy: 58.931\n",
      "Finished Predicting\n",
      "elapsed_time: 74.346107006073\n",
      "Client  4\n",
      "Number of sessions(hdfs_test_normal): 5623\n",
      "Number of sessions(hdfs_test_abnormal): 1121\n"
     ]
    },
    {
     "name": "stderr",
     "output_type": "stream",
     "text": [
      "100%|██████████| 5623/5623 [00:49<00:00, 113.80it/s]\n",
      "100%|██████████| 1121/1121 [00:08<00:00, 128.16it/s]\n"
     ]
    },
    {
     "name": "stdout",
     "output_type": "stream",
     "text": [
      "false positive (FP): 45857, false negative (FN): 13, Precision: 6.816%, Recall: 99.614%, F1-measure: 12.758%\n",
      "actual positive (TP+FN): 3367, actual negative (FP+TN): 110673\n",
      "accuracy: 59.777\n",
      "Finished Predicting\n",
      "elapsed_time: 58.16075944900513\n",
      "============ Train epoch 12 ============\n",
      "Client  0\n",
      "File ../data/hdfs/hdfs_train, number of sessions 971\n",
      "File ../data/hdfs/hdfs_train, number of seqs 9420\n",
      "sampling...\n"
     ]
    },
    {
     "name": "stderr",
     "output_type": "stream",
     "text": [
      "100%|██████████| 1058/1058 [00:00<00:00, 3520.55it/s]\n"
     ]
    },
    {
     "name": "stdout",
     "output_type": "stream",
     "text": [
      "File ../data/hdfs/hdfs_test_normal, number of sessions 110673\n",
      "File ../data/hdfs/hdfs_test_normal, number of seqs 1058\n",
      "Find 9420 train logs, 1058 validation logs\n",
      "Train batch size 2048 ,Validation batch size 2048\n",
      "Starting epoch: 0 | phase: train | ⏰: 02:49:36 | Learning rate: 0.000031\n"
     ]
    },
    {
     "name": "stderr",
     "output_type": "stream",
     "text": [
      "Train loss: 3.15341: 100%|██████████| 5/5 [00:00<00:00, 53.15it/s]\n"
     ]
    },
    {
     "name": "stdout",
     "output_type": "stream",
     "text": [
      "Starting epoch: 0 | phase: valid | ⏰: 02:49:36 \n"
     ]
    },
    {
     "name": "stderr",
     "output_type": "stream",
     "text": [
      ": 100%|██████████| 1/1 [00:00<00:00, 89.83it/s]"
     ]
    },
    {
     "name": "stdout",
     "output_type": "stream",
     "text": [
      "Validation loss: 3.152968645095825\n",
      "Client  1\n"
     ]
    },
    {
     "name": "stderr",
     "output_type": "stream",
     "text": [
      "\n"
     ]
    },
    {
     "name": "stdout",
     "output_type": "stream",
     "text": [
      "File ../data/hdfs/hdfs_train, number of sessions 971\n",
      "File ../data/hdfs/hdfs_train, number of seqs 9080\n",
      "sampling...\n"
     ]
    },
    {
     "name": "stderr",
     "output_type": "stream",
     "text": [
      "100%|██████████| 1046/1046 [00:00<00:00, 3577.00it/s]\n"
     ]
    },
    {
     "name": "stdout",
     "output_type": "stream",
     "text": [
      "File ../data/hdfs/hdfs_test_normal, number of sessions 110673\n",
      "File ../data/hdfs/hdfs_test_normal, number of seqs 1046\n",
      "Find 9080 train logs, 1046 validation logs\n",
      "Train batch size 2048 ,Validation batch size 2048\n",
      "Starting epoch: 0 | phase: train | ⏰: 02:49:48 | Learning rate: 0.000031\n"
     ]
    },
    {
     "name": "stderr",
     "output_type": "stream",
     "text": [
      "Train loss: 3.15158: 100%|██████████| 5/5 [00:00<00:00, 55.28it/s]\n"
     ]
    },
    {
     "name": "stdout",
     "output_type": "stream",
     "text": [
      "Starting epoch: 0 | phase: valid | ⏰: 02:49:48 \n"
     ]
    },
    {
     "name": "stderr",
     "output_type": "stream",
     "text": [
      ": 100%|██████████| 1/1 [00:00<00:00, 95.02it/s]\n"
     ]
    },
    {
     "name": "stdout",
     "output_type": "stream",
     "text": [
      "Validation loss: 3.1404848098754883\n",
      "Client  2\n",
      "File ../data/hdfs/hdfs_train, number of sessions 971\n",
      "File ../data/hdfs/hdfs_train, number of seqs 9485\n",
      "sampling...\n"
     ]
    },
    {
     "name": "stderr",
     "output_type": "stream",
     "text": [
      "100%|██████████| 1051/1051 [00:00<00:00, 3554.08it/s]\n"
     ]
    },
    {
     "name": "stdout",
     "output_type": "stream",
     "text": [
      "File ../data/hdfs/hdfs_test_normal, number of sessions 110673\n",
      "File ../data/hdfs/hdfs_test_normal, number of seqs 1051\n",
      "Find 9485 train logs, 1051 validation logs\n",
      "Train batch size 2048 ,Validation batch size 2048\n",
      "Starting epoch: 0 | phase: train | ⏰: 02:50:00 | Learning rate: 0.000031\n"
     ]
    },
    {
     "name": "stderr",
     "output_type": "stream",
     "text": [
      "Train loss: 3.15600: 100%|██████████| 5/5 [00:00<00:00, 53.83it/s]\n"
     ]
    },
    {
     "name": "stdout",
     "output_type": "stream",
     "text": [
      "Starting epoch: 0 | phase: valid | ⏰: 02:50:00 \n"
     ]
    },
    {
     "name": "stderr",
     "output_type": "stream",
     "text": [
      ": 100%|██████████| 1/1 [00:00<00:00, 102.55it/s]\n"
     ]
    },
    {
     "name": "stdout",
     "output_type": "stream",
     "text": [
      "Validation loss: 3.1336963176727295\n",
      "Client  3\n",
      "File ../data/hdfs/hdfs_train, number of sessions 971\n",
      "File ../data/hdfs/hdfs_train, number of seqs 9267\n",
      "sampling...\n"
     ]
    },
    {
     "name": "stderr",
     "output_type": "stream",
     "text": [
      "100%|██████████| 1057/1057 [00:00<00:00, 3592.83it/s]\n"
     ]
    },
    {
     "name": "stdout",
     "output_type": "stream",
     "text": [
      "File ../data/hdfs/hdfs_test_normal, number of sessions 110673\n",
      "File ../data/hdfs/hdfs_test_normal, number of seqs 1057\n",
      "Find 9267 train logs, 1057 validation logs\n",
      "Train batch size 2048 ,Validation batch size 2048\n",
      "Starting epoch: 0 | phase: train | ⏰: 02:50:11 | Learning rate: 0.000031\n"
     ]
    },
    {
     "name": "stderr",
     "output_type": "stream",
     "text": [
      "Train loss: 3.15176: 100%|██████████| 5/5 [00:00<00:00, 54.87it/s]\n"
     ]
    },
    {
     "name": "stdout",
     "output_type": "stream",
     "text": [
      "Starting epoch: 0 | phase: valid | ⏰: 02:50:11 \n"
     ]
    },
    {
     "name": "stderr",
     "output_type": "stream",
     "text": [
      ": 100%|██████████| 1/1 [00:00<00:00, 99.27it/s]\n"
     ]
    },
    {
     "name": "stdout",
     "output_type": "stream",
     "text": [
      "Validation loss: 3.1481969356536865\n",
      "Client  4\n",
      "File ../data/hdfs/hdfs_train, number of sessions 971\n",
      "File ../data/hdfs/hdfs_train, number of seqs 9323\n",
      "sampling...\n"
     ]
    },
    {
     "name": "stderr",
     "output_type": "stream",
     "text": [
      "100%|██████████| 1044/1044 [00:00<00:00, 3551.87it/s]\n"
     ]
    },
    {
     "name": "stdout",
     "output_type": "stream",
     "text": [
      "File ../data/hdfs/hdfs_test_normal, number of sessions 110673\n",
      "File ../data/hdfs/hdfs_test_normal, number of seqs 1044\n",
      "Find 9323 train logs, 1044 validation logs\n",
      "Train batch size 2048 ,Validation batch size 2048\n",
      "Starting epoch: 0 | phase: train | ⏰: 02:50:23 | Learning rate: 0.000031\n"
     ]
    },
    {
     "name": "stderr",
     "output_type": "stream",
     "text": [
      "Train loss: 3.15164: 100%|██████████| 5/5 [00:00<00:00, 53.81it/s]\n"
     ]
    },
    {
     "name": "stdout",
     "output_type": "stream",
     "text": [
      "Starting epoch: 0 | phase: valid | ⏰: 02:50:23 \n"
     ]
    },
    {
     "name": "stderr",
     "output_type": "stream",
     "text": [
      ": 100%|██████████| 1/1 [00:00<00:00, 101.75it/s]\n"
     ]
    },
    {
     "name": "stdout",
     "output_type": "stream",
     "text": [
      "Validation loss: 3.150616407394409\n",
      "============ Test epoch 12 ============\n",
      "Client  0\n",
      "Number of sessions(hdfs_test_normal): 5813\n",
      "Number of sessions(hdfs_test_abnormal): 1136\n"
     ]
    },
    {
     "name": "stderr",
     "output_type": "stream",
     "text": [
      "100%|██████████| 5813/5813 [01:12<00:00, 80.49it/s] \n",
      "100%|██████████| 1136/1136 [00:10<00:00, 104.78it/s]\n"
     ]
    },
    {
     "name": "stdout",
     "output_type": "stream",
     "text": [
      "false positive (FP): 27817, false negative (FN): 10, Precision: 10.769%, Recall: 99.703%, F1-measure: 19.438%\n",
      "actual positive (TP+FN): 3367, actual negative (FP+TN): 110673\n",
      "accuracy: 75.599\n",
      "Finished Predicting\n",
      "elapsed_time: 83.0669686794281\n",
      "Client  1\n",
      "Number of sessions(hdfs_test_normal): 5574\n",
      "Number of sessions(hdfs_test_abnormal): 1139\n"
     ]
    },
    {
     "name": "stderr",
     "output_type": "stream",
     "text": [
      "100%|██████████| 5574/5574 [00:36<00:00, 152.74it/s]\n",
      "100%|██████████| 1139/1139 [00:04<00:00, 249.92it/s]\n"
     ]
    },
    {
     "name": "stdout",
     "output_type": "stream",
     "text": [
      "false positive (FP): 26353, false negative (FN): 15, Precision: 11.284%, Recall: 99.554%, F1-measure: 20.271%\n",
      "actual positive (TP+FN): 3367, actual negative (FP+TN): 110673\n",
      "accuracy: 76.878\n",
      "Finished Predicting\n",
      "elapsed_time: 41.0534131526947\n",
      "Client  2\n",
      "Number of sessions(hdfs_test_normal): 5730\n",
      "Number of sessions(hdfs_test_abnormal): 1118\n"
     ]
    },
    {
     "name": "stderr",
     "output_type": "stream",
     "text": [
      "100%|██████████| 5730/5730 [00:29<00:00, 197.54it/s]\n",
      "100%|██████████| 1118/1118 [00:06<00:00, 170.74it/s]\n"
     ]
    },
    {
     "name": "stdout",
     "output_type": "stream",
     "text": [
      "false positive (FP): 26871, false negative (FN): 17, Precision: 11.085%, Recall: 99.495%, F1-measure: 19.948%\n",
      "actual positive (TP+FN): 3367, actual negative (FP+TN): 110673\n",
      "accuracy: 76.422\n",
      "Finished Predicting\n",
      "elapsed_time: 35.55669832229614\n",
      "Client  3\n",
      "Number of sessions(hdfs_test_normal): 5747\n",
      "Number of sessions(hdfs_test_abnormal): 1159\n"
     ]
    },
    {
     "name": "stderr",
     "output_type": "stream",
     "text": [
      "100%|██████████| 5747/5747 [01:12<00:00, 79.82it/s] \n",
      "100%|██████████| 1159/1159 [00:11<00:00, 96.96it/s] \n"
     ]
    },
    {
     "name": "stdout",
     "output_type": "stream",
     "text": [
      "false positive (FP): 27537, false negative (FN): 16, Precision: 10.849%, Recall: 99.525%, F1-measure: 19.565%\n",
      "actual positive (TP+FN): 3367, actual negative (FP+TN): 110673\n",
      "accuracy: 75.839\n",
      "Finished Predicting\n",
      "elapsed_time: 83.95875310897827\n",
      "Client  4\n",
      "Number of sessions(hdfs_test_normal): 5623\n",
      "Number of sessions(hdfs_test_abnormal): 1121\n"
     ]
    },
    {
     "name": "stderr",
     "output_type": "stream",
     "text": [
      "100%|██████████| 5623/5623 [01:10<00:00, 79.72it/s]\n",
      "100%|██████████| 1121/1121 [00:11<00:00, 100.26it/s]\n"
     ]
    },
    {
     "name": "stdout",
     "output_type": "stream",
     "text": [
      "false positive (FP): 25988, false negative (FN): 20, Precision: 11.410%, Recall: 99.406%, F1-measure: 20.470%\n",
      "actual positive (TP+FN): 3367, actual negative (FP+TN): 110673\n",
      "accuracy: 77.194\n",
      "Finished Predicting\n",
      "elapsed_time: 81.71716833114624\n",
      "============ Train epoch 13 ============\n",
      "Client  0\n",
      "File ../data/hdfs/hdfs_train, number of sessions 971\n",
      "File ../data/hdfs/hdfs_train, number of seqs 9420\n",
      "sampling...\n"
     ]
    },
    {
     "name": "stderr",
     "output_type": "stream",
     "text": [
      "100%|██████████| 1058/1058 [00:00<00:00, 3365.15it/s]\n"
     ]
    },
    {
     "name": "stdout",
     "output_type": "stream",
     "text": [
      "File ../data/hdfs/hdfs_test_normal, number of sessions 110673\n",
      "File ../data/hdfs/hdfs_test_normal, number of seqs 1058\n",
      "Find 9420 train logs, 1058 validation logs\n",
      "Train batch size 2048 ,Validation batch size 2048\n",
      "Starting epoch: 0 | phase: train | ⏰: 02:56:03 | Learning rate: 0.000031\n"
     ]
    },
    {
     "name": "stderr",
     "output_type": "stream",
     "text": [
      "Train loss: 3.12926: 100%|██████████| 5/5 [00:00<00:00, 53.09it/s]\n"
     ]
    },
    {
     "name": "stdout",
     "output_type": "stream",
     "text": [
      "Starting epoch: 0 | phase: valid | ⏰: 02:56:03 \n"
     ]
    },
    {
     "name": "stderr",
     "output_type": "stream",
     "text": [
      ": 100%|██████████| 1/1 [00:00<00:00, 90.52it/s]"
     ]
    },
    {
     "name": "stdout",
     "output_type": "stream",
     "text": [
      "Validation loss: 3.126535415649414\n",
      "Client  1\n"
     ]
    },
    {
     "name": "stderr",
     "output_type": "stream",
     "text": [
      "\n"
     ]
    },
    {
     "name": "stdout",
     "output_type": "stream",
     "text": [
      "File ../data/hdfs/hdfs_train, number of sessions 971\n",
      "File ../data/hdfs/hdfs_train, number of seqs 9080\n",
      "sampling...\n"
     ]
    },
    {
     "name": "stderr",
     "output_type": "stream",
     "text": [
      "100%|██████████| 1046/1046 [00:00<00:00, 3254.42it/s]\n"
     ]
    },
    {
     "name": "stdout",
     "output_type": "stream",
     "text": [
      "File ../data/hdfs/hdfs_test_normal, number of sessions 110673\n",
      "File ../data/hdfs/hdfs_test_normal, number of seqs 1046\n",
      "Find 9080 train logs, 1046 validation logs\n",
      "Train batch size 2048 ,Validation batch size 2048\n",
      "Starting epoch: 0 | phase: train | ⏰: 02:56:15 | Learning rate: 0.000031\n"
     ]
    },
    {
     "name": "stderr",
     "output_type": "stream",
     "text": [
      "Train loss: 3.12760: 100%|██████████| 5/5 [00:00<00:00, 54.02it/s]\n"
     ]
    },
    {
     "name": "stdout",
     "output_type": "stream",
     "text": [
      "Starting epoch: 0 | phase: valid | ⏰: 02:56:15 \n"
     ]
    },
    {
     "name": "stderr",
     "output_type": "stream",
     "text": [
      ": 100%|██████████| 1/1 [00:00<00:00, 91.59it/s]\n"
     ]
    },
    {
     "name": "stdout",
     "output_type": "stream",
     "text": [
      "Validation loss: 3.1223456859588623\n",
      "Client  2\n",
      "File ../data/hdfs/hdfs_train, number of sessions 971\n",
      "File ../data/hdfs/hdfs_train, number of seqs 9485\n",
      "sampling...\n"
     ]
    },
    {
     "name": "stderr",
     "output_type": "stream",
     "text": [
      "100%|██████████| 1051/1051 [00:00<00:00, 3357.92it/s]\n"
     ]
    },
    {
     "name": "stdout",
     "output_type": "stream",
     "text": [
      "File ../data/hdfs/hdfs_test_normal, number of sessions 110673\n",
      "File ../data/hdfs/hdfs_test_normal, number of seqs 1051\n",
      "Find 9485 train logs, 1051 validation logs\n",
      "Train batch size 2048 ,Validation batch size 2048\n",
      "Starting epoch: 0 | phase: train | ⏰: 02:56:27 | Learning rate: 0.000031\n"
     ]
    },
    {
     "name": "stderr",
     "output_type": "stream",
     "text": [
      "Train loss: 3.13165: 100%|██████████| 5/5 [00:00<00:00, 51.90it/s]\n"
     ]
    },
    {
     "name": "stdout",
     "output_type": "stream",
     "text": [
      "Starting epoch: 0 | phase: valid | ⏰: 02:56:27 \n"
     ]
    },
    {
     "name": "stderr",
     "output_type": "stream",
     "text": [
      ": 100%|██████████| 1/1 [00:00<00:00, 95.45it/s]\n"
     ]
    },
    {
     "name": "stdout",
     "output_type": "stream",
     "text": [
      "Validation loss: 3.1184580326080322\n",
      "Client  3\n",
      "File ../data/hdfs/hdfs_train, number of sessions 971\n",
      "File ../data/hdfs/hdfs_train, number of seqs 9267\n",
      "sampling...\n"
     ]
    },
    {
     "name": "stderr",
     "output_type": "stream",
     "text": [
      "100%|██████████| 1057/1057 [00:00<00:00, 3491.09it/s]\n"
     ]
    },
    {
     "name": "stdout",
     "output_type": "stream",
     "text": [
      "File ../data/hdfs/hdfs_test_normal, number of sessions 110673\n",
      "File ../data/hdfs/hdfs_test_normal, number of seqs 1057\n",
      "Find 9267 train logs, 1057 validation logs\n",
      "Train batch size 2048 ,Validation batch size 2048\n",
      "Starting epoch: 0 | phase: train | ⏰: 02:56:39 | Learning rate: 0.000031\n"
     ]
    },
    {
     "name": "stderr",
     "output_type": "stream",
     "text": [
      "Train loss: 3.12786: 100%|██████████| 5/5 [00:00<00:00, 53.24it/s]\n"
     ]
    },
    {
     "name": "stdout",
     "output_type": "stream",
     "text": [
      "Starting epoch: 0 | phase: valid | ⏰: 02:56:39 \n"
     ]
    },
    {
     "name": "stderr",
     "output_type": "stream",
     "text": [
      ": 100%|██████████| 1/1 [00:00<00:00, 91.87it/s]\n"
     ]
    },
    {
     "name": "stdout",
     "output_type": "stream",
     "text": [
      "Validation loss: 3.127943992614746\n",
      "Client  4\n",
      "File ../data/hdfs/hdfs_train, number of sessions 971\n",
      "File ../data/hdfs/hdfs_train, number of seqs 9323\n",
      "sampling...\n"
     ]
    },
    {
     "name": "stderr",
     "output_type": "stream",
     "text": [
      "100%|██████████| 1044/1044 [00:00<00:00, 3545.99it/s]\n"
     ]
    },
    {
     "name": "stdout",
     "output_type": "stream",
     "text": [
      "File ../data/hdfs/hdfs_test_normal, number of sessions 110673\n",
      "File ../data/hdfs/hdfs_test_normal, number of seqs 1044\n",
      "Find 9323 train logs, 1044 validation logs\n",
      "Train batch size 2048 ,Validation batch size 2048\n",
      "Starting epoch: 0 | phase: train | ⏰: 02:56:50 | Learning rate: 0.000031\n"
     ]
    },
    {
     "name": "stderr",
     "output_type": "stream",
     "text": [
      "Train loss: 3.12644: 100%|██████████| 5/5 [00:00<00:00, 48.24it/s]\n"
     ]
    },
    {
     "name": "stdout",
     "output_type": "stream",
     "text": [
      "Starting epoch: 0 | phase: valid | ⏰: 02:56:51 \n"
     ]
    },
    {
     "name": "stderr",
     "output_type": "stream",
     "text": [
      ": 100%|██████████| 1/1 [00:00<00:00, 96.39it/s]\n"
     ]
    },
    {
     "name": "stdout",
     "output_type": "stream",
     "text": [
      "Validation loss: 3.1263325214385986\n",
      "============ Test epoch 13 ============\n",
      "Client  0\n",
      "Number of sessions(hdfs_test_normal): 5813\n",
      "Number of sessions(hdfs_test_abnormal): 1136\n"
     ]
    },
    {
     "name": "stderr",
     "output_type": "stream",
     "text": [
      "100%|██████████| 5813/5813 [01:11<00:00, 81.72it/s] \n",
      "100%|██████████| 1136/1136 [00:10<00:00, 104.67it/s]\n"
     ]
    },
    {
     "name": "stdout",
     "output_type": "stream",
     "text": [
      "false positive (FP): 27817, false negative (FN): 12, Precision: 10.763%, Recall: 99.644%, F1-measure: 19.427%\n",
      "actual positive (TP+FN): 3367, actual negative (FP+TN): 110673\n",
      "accuracy: 75.597\n",
      "Finished Predicting\n",
      "elapsed_time: 81.99220514297485\n",
      "Client  1\n",
      "Number of sessions(hdfs_test_normal): 5574\n",
      "Number of sessions(hdfs_test_abnormal): 1139\n"
     ]
    },
    {
     "name": "stderr",
     "output_type": "stream",
     "text": [
      "100%|██████████| 5574/5574 [01:09<00:00, 80.21it/s] \n",
      "100%|██████████| 1139/1139 [00:11<00:00, 101.16it/s]\n"
     ]
    },
    {
     "name": "stdout",
     "output_type": "stream",
     "text": [
      "false positive (FP): 26354, false negative (FN): 16, Precision: 11.281%, Recall: 99.525%, F1-measure: 20.265%\n",
      "actual positive (TP+FN): 3367, actual negative (FP+TN): 110673\n",
      "accuracy: 76.877\n",
      "Finished Predicting\n",
      "elapsed_time: 80.75708150863647\n",
      "Client  2\n",
      "Number of sessions(hdfs_test_normal): 5730\n",
      "Number of sessions(hdfs_test_abnormal): 1118\n"
     ]
    },
    {
     "name": "stderr",
     "output_type": "stream",
     "text": [
      "100%|██████████| 5730/5730 [01:00<00:00, 94.25it/s] \n",
      "100%|██████████| 1118/1118 [00:07<00:00, 140.32it/s]\n"
     ]
    },
    {
     "name": "stdout",
     "output_type": "stream",
     "text": [
      "false positive (FP): 26871, false negative (FN): 19, Precision: 11.079%, Recall: 99.436%, F1-measure: 19.937%\n",
      "actual positive (TP+FN): 3367, actual negative (FP+TN): 110673\n",
      "accuracy: 76.421\n",
      "Finished Predicting\n",
      "elapsed_time: 68.76795506477356\n",
      "Client  3\n",
      "Number of sessions(hdfs_test_normal): 5747\n",
      "Number of sessions(hdfs_test_abnormal): 1159\n"
     ]
    },
    {
     "name": "stderr",
     "output_type": "stream",
     "text": [
      "100%|██████████| 5747/5747 [01:09<00:00, 82.96it/s] \n",
      "100%|██████████| 1159/1159 [00:11<00:00, 100.33it/s]\n"
     ]
    },
    {
     "name": "stdout",
     "output_type": "stream",
     "text": [
      "false positive (FP): 27537, false negative (FN): 17, Precision: 10.846%, Recall: 99.495%, F1-measure: 19.560%\n",
      "actual positive (TP+FN): 3367, actual negative (FP+TN): 110673\n",
      "accuracy: 75.838\n",
      "Finished Predicting\n",
      "elapsed_time: 80.83154582977295\n",
      "Client  4\n",
      "Number of sessions(hdfs_test_normal): 5623\n",
      "Number of sessions(hdfs_test_abnormal): 1121\n"
     ]
    },
    {
     "name": "stderr",
     "output_type": "stream",
     "text": [
      "100%|██████████| 5623/5623 [01:09<00:00, 80.58it/s]\n",
      "100%|██████████| 1121/1121 [00:10<00:00, 103.11it/s]\n"
     ]
    },
    {
     "name": "stdout",
     "output_type": "stream",
     "text": [
      "false positive (FP): 25988, false negative (FN): 20, Precision: 11.410%, Recall: 99.406%, F1-measure: 20.470%\n",
      "actual positive (TP+FN): 3367, actual negative (FP+TN): 110673\n",
      "accuracy: 77.194\n",
      "Finished Predicting\n",
      "elapsed_time: 80.6556499004364\n",
      "============ Train epoch 14 ============\n",
      "Client  0\n",
      "File ../data/hdfs/hdfs_train, number of sessions 971\n",
      "File ../data/hdfs/hdfs_train, number of seqs 9420\n",
      "sampling...\n"
     ]
    },
    {
     "name": "stderr",
     "output_type": "stream",
     "text": [
      "100%|██████████| 1058/1058 [00:00<00:00, 3423.39it/s]\n"
     ]
    },
    {
     "name": "stdout",
     "output_type": "stream",
     "text": [
      "File ../data/hdfs/hdfs_test_normal, number of sessions 110673\n",
      "File ../data/hdfs/hdfs_test_normal, number of seqs 1058\n",
      "Find 9420 train logs, 1058 validation logs\n",
      "Train batch size 2048 ,Validation batch size 2048\n",
      "Starting epoch: 0 | phase: train | ⏰: 03:03:38 | Learning rate: 0.000031\n"
     ]
    },
    {
     "name": "stderr",
     "output_type": "stream",
     "text": [
      "Train loss: 3.10141: 100%|██████████| 5/5 [00:00<00:00, 46.26it/s]\n"
     ]
    },
    {
     "name": "stdout",
     "output_type": "stream",
     "text": [
      "Starting epoch: 0 | phase: valid | ⏰: 03:03:39 \n"
     ]
    },
    {
     "name": "stderr",
     "output_type": "stream",
     "text": [
      ": 100%|██████████| 1/1 [00:00<00:00, 74.15it/s]\n"
     ]
    },
    {
     "name": "stdout",
     "output_type": "stream",
     "text": [
      "Validation loss: 3.091834306716919\n",
      "Client  1\n",
      "File ../data/hdfs/hdfs_train, number of sessions 971\n",
      "File ../data/hdfs/hdfs_train, number of seqs 9080\n",
      "sampling...\n"
     ]
    },
    {
     "name": "stderr",
     "output_type": "stream",
     "text": [
      "100%|██████████| 1046/1046 [00:00<00:00, 3543.65it/s]\n"
     ]
    },
    {
     "name": "stdout",
     "output_type": "stream",
     "text": [
      "File ../data/hdfs/hdfs_test_normal, number of sessions 110673\n",
      "File ../data/hdfs/hdfs_test_normal, number of seqs 1046\n",
      "Find 9080 train logs, 1046 validation logs\n",
      "Train batch size 2048 ,Validation batch size 2048\n",
      "Starting epoch: 0 | phase: train | ⏰: 03:03:50 | Learning rate: 0.000031\n"
     ]
    },
    {
     "name": "stderr",
     "output_type": "stream",
     "text": [
      "Train loss: 3.10103: 100%|██████████| 5/5 [00:00<00:00, 47.21it/s]\n"
     ]
    },
    {
     "name": "stdout",
     "output_type": "stream",
     "text": [
      "Starting epoch: 0 | phase: valid | ⏰: 03:03:50 \n"
     ]
    },
    {
     "name": "stderr",
     "output_type": "stream",
     "text": [
      ": 100%|██████████| 1/1 [00:00<00:00, 100.48it/s]\n"
     ]
    },
    {
     "name": "stdout",
     "output_type": "stream",
     "text": [
      "Validation loss: 3.0909676551818848\n",
      "Client  2\n",
      "File ../data/hdfs/hdfs_train, number of sessions 971\n",
      "File ../data/hdfs/hdfs_train, number of seqs 9485\n",
      "sampling...\n"
     ]
    },
    {
     "name": "stderr",
     "output_type": "stream",
     "text": [
      "100%|██████████| 1051/1051 [00:00<00:00, 3390.01it/s]\n"
     ]
    },
    {
     "name": "stdout",
     "output_type": "stream",
     "text": [
      "File ../data/hdfs/hdfs_test_normal, number of sessions 110673\n",
      "File ../data/hdfs/hdfs_test_normal, number of seqs 1051\n",
      "Find 9485 train logs, 1051 validation logs\n",
      "Train batch size 2048 ,Validation batch size 2048\n",
      "Starting epoch: 0 | phase: train | ⏰: 03:04:02 | Learning rate: 0.000031\n"
     ]
    },
    {
     "name": "stderr",
     "output_type": "stream",
     "text": [
      "Train loss: 3.10446: 100%|██████████| 5/5 [00:00<00:00, 54.13it/s]\n"
     ]
    },
    {
     "name": "stdout",
     "output_type": "stream",
     "text": [
      "Starting epoch: 0 | phase: valid | ⏰: 03:04:02 \n"
     ]
    },
    {
     "name": "stderr",
     "output_type": "stream",
     "text": [
      ": 100%|██████████| 1/1 [00:00<00:00, 97.70it/s]"
     ]
    },
    {
     "name": "stdout",
     "output_type": "stream",
     "text": [
      "Validation loss: 3.096086263656616\n",
      "Client  3\n"
     ]
    },
    {
     "name": "stderr",
     "output_type": "stream",
     "text": [
      "\n"
     ]
    },
    {
     "name": "stdout",
     "output_type": "stream",
     "text": [
      "File ../data/hdfs/hdfs_train, number of sessions 971\n",
      "File ../data/hdfs/hdfs_train, number of seqs 9267\n",
      "sampling...\n"
     ]
    },
    {
     "name": "stderr",
     "output_type": "stream",
     "text": [
      "100%|██████████| 1057/1057 [00:00<00:00, 3568.49it/s]\n"
     ]
    },
    {
     "name": "stdout",
     "output_type": "stream",
     "text": [
      "File ../data/hdfs/hdfs_test_normal, number of sessions 110673\n",
      "File ../data/hdfs/hdfs_test_normal, number of seqs 1057\n",
      "Find 9267 train logs, 1057 validation logs\n",
      "Train batch size 2048 ,Validation batch size 2048\n",
      "Starting epoch: 0 | phase: train | ⏰: 03:04:14 | Learning rate: 0.000031\n"
     ]
    },
    {
     "name": "stderr",
     "output_type": "stream",
     "text": [
      "Train loss: 3.10130: 100%|██████████| 5/5 [00:00<00:00, 54.52it/s]\n"
     ]
    },
    {
     "name": "stdout",
     "output_type": "stream",
     "text": [
      "Starting epoch: 0 | phase: valid | ⏰: 03:04:14 \n"
     ]
    },
    {
     "name": "stderr",
     "output_type": "stream",
     "text": [
      ": 100%|██████████| 1/1 [00:00<00:00, 95.15it/s]\n"
     ]
    },
    {
     "name": "stdout",
     "output_type": "stream",
     "text": [
      "Validation loss: 3.0972342491149902\n",
      "Client  4\n",
      "File ../data/hdfs/hdfs_train, number of sessions 971\n",
      "File ../data/hdfs/hdfs_train, number of seqs 9323\n",
      "sampling...\n"
     ]
    },
    {
     "name": "stderr",
     "output_type": "stream",
     "text": [
      "100%|██████████| 1044/1044 [00:00<00:00, 3407.57it/s]\n"
     ]
    },
    {
     "name": "stdout",
     "output_type": "stream",
     "text": [
      "File ../data/hdfs/hdfs_test_normal, number of sessions 110673\n",
      "File ../data/hdfs/hdfs_test_normal, number of seqs 1044\n",
      "Find 9323 train logs, 1044 validation logs\n",
      "Train batch size 2048 ,Validation batch size 2048\n",
      "Starting epoch: 0 | phase: train | ⏰: 03:04:26 | Learning rate: 0.000031\n"
     ]
    },
    {
     "name": "stderr",
     "output_type": "stream",
     "text": [
      "Train loss: 3.09982: 100%|██████████| 5/5 [00:00<00:00, 54.21it/s]\n"
     ]
    },
    {
     "name": "stdout",
     "output_type": "stream",
     "text": [
      "Starting epoch: 0 | phase: valid | ⏰: 03:04:26 \n"
     ]
    },
    {
     "name": "stderr",
     "output_type": "stream",
     "text": [
      ": 100%|██████████| 1/1 [00:00<00:00, 92.95it/s]\n"
     ]
    },
    {
     "name": "stdout",
     "output_type": "stream",
     "text": [
      "Validation loss: 3.0828211307525635\n",
      "============ Test epoch 14 ============\n",
      "Client  0\n",
      "Number of sessions(hdfs_test_normal): 5813\n",
      "Number of sessions(hdfs_test_abnormal): 1136\n"
     ]
    },
    {
     "name": "stderr",
     "output_type": "stream",
     "text": [
      "100%|██████████| 5813/5813 [00:52<00:00, 110.08it/s]\n",
      "100%|██████████| 1136/1136 [00:07<00:00, 151.93it/s]\n"
     ]
    },
    {
     "name": "stdout",
     "output_type": "stream",
     "text": [
      "false positive (FP): 27821, false negative (FN): 12, Precision: 10.761%, Recall: 99.644%, F1-measure: 19.425%\n",
      "actual positive (TP+FN): 3367, actual negative (FP+TN): 110673\n",
      "accuracy: 75.594\n",
      "Finished Predicting\n",
      "elapsed_time: 60.285706996917725\n",
      "Client  1\n",
      "Number of sessions(hdfs_test_normal): 5574\n",
      "Number of sessions(hdfs_test_abnormal): 1139\n"
     ]
    },
    {
     "name": "stderr",
     "output_type": "stream",
     "text": [
      "100%|██████████| 5574/5574 [00:57<00:00, 97.66it/s] \n",
      "100%|██████████| 1139/1139 [00:11<00:00, 101.85it/s]\n"
     ]
    },
    {
     "name": "stdout",
     "output_type": "stream",
     "text": [
      "false positive (FP): 26354, false negative (FN): 16, Precision: 11.281%, Recall: 99.525%, F1-measure: 20.265%\n",
      "actual positive (TP+FN): 3367, actual negative (FP+TN): 110673\n",
      "accuracy: 76.877\n",
      "Finished Predicting\n",
      "elapsed_time: 68.26008987426758\n",
      "Client  2\n",
      "Number of sessions(hdfs_test_normal): 5730\n",
      "Number of sessions(hdfs_test_abnormal): 1118\n"
     ]
    },
    {
     "name": "stderr",
     "output_type": "stream",
     "text": [
      "100%|██████████| 5730/5730 [01:10<00:00, 81.03it/s] \n",
      "100%|██████████| 1118/1118 [00:08<00:00, 129.08it/s]\n"
     ]
    },
    {
     "name": "stdout",
     "output_type": "stream",
     "text": [
      "false positive (FP): 26875, false negative (FN): 19, Precision: 11.078%, Recall: 99.436%, F1-measure: 19.935%\n",
      "actual positive (TP+FN): 3367, actual negative (FP+TN): 110673\n",
      "accuracy: 76.417\n",
      "Finished Predicting\n",
      "elapsed_time: 79.38276410102844\n",
      "Client  3\n",
      "Number of sessions(hdfs_test_normal): 5747\n",
      "Number of sessions(hdfs_test_abnormal): 1159\n"
     ]
    },
    {
     "name": "stderr",
     "output_type": "stream",
     "text": [
      "100%|██████████| 5747/5747 [00:59<00:00, 95.80it/s] \n",
      "100%|██████████| 1159/1159 [00:11<00:00, 97.72it/s] \n"
     ]
    },
    {
     "name": "stdout",
     "output_type": "stream",
     "text": [
      "false positive (FP): 27542, false negative (FN): 17, Precision: 10.844%, Recall: 99.495%, F1-measure: 19.557%\n",
      "actual positive (TP+FN): 3367, actual negative (FP+TN): 110673\n",
      "accuracy: 75.834\n",
      "Finished Predicting\n",
      "elapsed_time: 71.85286569595337\n",
      "Client  4\n",
      "Number of sessions(hdfs_test_normal): 5623\n",
      "Number of sessions(hdfs_test_abnormal): 1121\n"
     ]
    },
    {
     "name": "stderr",
     "output_type": "stream",
     "text": [
      "100%|██████████| 5623/5623 [01:10<00:00, 80.16it/s] \n",
      "100%|██████████| 1121/1121 [00:11<00:00, 100.30it/s]\n"
     ]
    },
    {
     "name": "stdout",
     "output_type": "stream",
     "text": [
      "false positive (FP): 25993, false negative (FN): 21, Precision: 11.405%, Recall: 99.376%, F1-measure: 20.461%\n",
      "actual positive (TP+FN): 3367, actual negative (FP+TN): 110673\n",
      "accuracy: 77.189\n",
      "Finished Predicting\n",
      "elapsed_time: 81.32424092292786\n",
      "============ Train epoch 15 ============\n",
      "Client  0\n",
      "File ../data/hdfs/hdfs_train, number of sessions 971\n",
      "File ../data/hdfs/hdfs_train, number of seqs 9420\n",
      "sampling...\n"
     ]
    },
    {
     "name": "stderr",
     "output_type": "stream",
     "text": [
      "100%|██████████| 1058/1058 [00:00<00:00, 3372.15it/s]\n"
     ]
    },
    {
     "name": "stdout",
     "output_type": "stream",
     "text": [
      "File ../data/hdfs/hdfs_test_normal, number of sessions 110673\n",
      "File ../data/hdfs/hdfs_test_normal, number of seqs 1058\n",
      "Find 9420 train logs, 1058 validation logs\n",
      "Train batch size 2048 ,Validation batch size 2048\n",
      "Starting epoch: 0 | phase: train | ⏰: 03:10:42 | Learning rate: 0.000031\n"
     ]
    },
    {
     "name": "stderr",
     "output_type": "stream",
     "text": [
      "Train loss: 3.07227: 100%|██████████| 5/5 [00:00<00:00, 54.05it/s]\n"
     ]
    },
    {
     "name": "stdout",
     "output_type": "stream",
     "text": [
      "Starting epoch: 0 | phase: valid | ⏰: 03:10:42 \n"
     ]
    },
    {
     "name": "stderr",
     "output_type": "stream",
     "text": [
      ": 100%|██████████| 1/1 [00:00<00:00, 107.28it/s]\n"
     ]
    },
    {
     "name": "stdout",
     "output_type": "stream",
     "text": [
      "Validation loss: 3.069629192352295\n",
      "Client  1\n",
      "File ../data/hdfs/hdfs_train, number of sessions 971\n",
      "File ../data/hdfs/hdfs_train, number of seqs 9080\n",
      "sampling...\n"
     ]
    },
    {
     "name": "stderr",
     "output_type": "stream",
     "text": [
      "100%|██████████| 1046/1046 [00:00<00:00, 3513.83it/s]\n"
     ]
    },
    {
     "name": "stdout",
     "output_type": "stream",
     "text": [
      "File ../data/hdfs/hdfs_test_normal, number of sessions 110673\n",
      "File ../data/hdfs/hdfs_test_normal, number of seqs 1046\n",
      "Find 9080 train logs, 1046 validation logs\n",
      "Train batch size 2048 ,Validation batch size 2048\n",
      "Starting epoch: 0 | phase: train | ⏰: 03:10:54 | Learning rate: 0.000031\n"
     ]
    },
    {
     "name": "stderr",
     "output_type": "stream",
     "text": [
      "Train loss: 3.07104: 100%|██████████| 5/5 [00:00<00:00, 54.12it/s]\n"
     ]
    },
    {
     "name": "stdout",
     "output_type": "stream",
     "text": [
      "Starting epoch: 0 | phase: valid | ⏰: 03:10:54 \n"
     ]
    },
    {
     "name": "stderr",
     "output_type": "stream",
     "text": [
      ": 100%|██████████| 1/1 [00:00<00:00, 97.83it/s]\n"
     ]
    },
    {
     "name": "stdout",
     "output_type": "stream",
     "text": [
      "Validation loss: 3.0662124156951904\n",
      "Client  2\n",
      "File ../data/hdfs/hdfs_train, number of sessions 971\n",
      "File ../data/hdfs/hdfs_train, number of seqs 9485\n",
      "sampling...\n"
     ]
    },
    {
     "name": "stderr",
     "output_type": "stream",
     "text": [
      "100%|██████████| 1051/1051 [00:00<00:00, 3405.04it/s]\n"
     ]
    },
    {
     "name": "stdout",
     "output_type": "stream",
     "text": [
      "File ../data/hdfs/hdfs_test_normal, number of sessions 110673\n",
      "File ../data/hdfs/hdfs_test_normal, number of seqs 1051\n",
      "Find 9485 train logs, 1051 validation logs\n",
      "Train batch size 2048 ,Validation batch size 2048\n",
      "Starting epoch: 0 | phase: train | ⏰: 03:11:06 | Learning rate: 0.000031\n"
     ]
    },
    {
     "name": "stderr",
     "output_type": "stream",
     "text": [
      "Train loss: 3.07580: 100%|██████████| 5/5 [00:00<00:00, 52.52it/s]\n"
     ]
    },
    {
     "name": "stdout",
     "output_type": "stream",
     "text": [
      "Starting epoch: 0 | phase: valid | ⏰: 03:11:06 \n"
     ]
    },
    {
     "name": "stderr",
     "output_type": "stream",
     "text": [
      ": 100%|██████████| 1/1 [00:00<00:00, 100.43it/s]\n"
     ]
    },
    {
     "name": "stdout",
     "output_type": "stream",
     "text": [
      "Validation loss: 3.0699074268341064\n",
      "Client  3\n",
      "File ../data/hdfs/hdfs_train, number of sessions 971\n",
      "File ../data/hdfs/hdfs_train, number of seqs 9267\n",
      "sampling...\n"
     ]
    },
    {
     "name": "stderr",
     "output_type": "stream",
     "text": [
      "100%|██████████| 1057/1057 [00:00<00:00, 3492.27it/s]\n"
     ]
    },
    {
     "name": "stdout",
     "output_type": "stream",
     "text": [
      "File ../data/hdfs/hdfs_test_normal, number of sessions 110673\n",
      "File ../data/hdfs/hdfs_test_normal, number of seqs 1057\n",
      "Find 9267 train logs, 1057 validation logs\n",
      "Train batch size 2048 ,Validation batch size 2048\n",
      "Starting epoch: 0 | phase: train | ⏰: 03:11:18 | Learning rate: 0.000031\n"
     ]
    },
    {
     "name": "stderr",
     "output_type": "stream",
     "text": [
      "Train loss: 3.07144: 100%|██████████| 5/5 [00:00<00:00, 53.54it/s]\n"
     ]
    },
    {
     "name": "stdout",
     "output_type": "stream",
     "text": [
      "Starting epoch: 0 | phase: valid | ⏰: 03:11:18 \n"
     ]
    },
    {
     "name": "stderr",
     "output_type": "stream",
     "text": [
      ": 100%|██████████| 1/1 [00:00<00:00, 82.67it/s]\n"
     ]
    },
    {
     "name": "stdout",
     "output_type": "stream",
     "text": [
      "Validation loss: 3.0719993114471436\n",
      "Client  4\n",
      "File ../data/hdfs/hdfs_train, number of sessions 971\n",
      "File ../data/hdfs/hdfs_train, number of seqs 9323\n",
      "sampling...\n"
     ]
    },
    {
     "name": "stderr",
     "output_type": "stream",
     "text": [
      "100%|██████████| 1044/1044 [00:00<00:00, 3519.22it/s]\n"
     ]
    },
    {
     "name": "stdout",
     "output_type": "stream",
     "text": [
      "File ../data/hdfs/hdfs_test_normal, number of sessions 110673\n",
      "File ../data/hdfs/hdfs_test_normal, number of seqs 1044\n",
      "Find 9323 train logs, 1044 validation logs\n",
      "Train batch size 2048 ,Validation batch size 2048\n",
      "Starting epoch: 0 | phase: train | ⏰: 03:11:29 | Learning rate: 0.000031\n"
     ]
    },
    {
     "name": "stderr",
     "output_type": "stream",
     "text": [
      "Train loss: 3.06927: 100%|██████████| 5/5 [00:00<00:00, 54.08it/s]\n"
     ]
    },
    {
     "name": "stdout",
     "output_type": "stream",
     "text": [
      "Starting epoch: 0 | phase: valid | ⏰: 03:11:29 \n"
     ]
    },
    {
     "name": "stderr",
     "output_type": "stream",
     "text": [
      ": 100%|██████████| 1/1 [00:00<00:00, 99.83it/s]\n"
     ]
    },
    {
     "name": "stdout",
     "output_type": "stream",
     "text": [
      "Validation loss: 3.0633738040924072\n",
      "============ Test epoch 15 ============\n",
      "Client  0\n",
      "Number of sessions(hdfs_test_normal): 5813\n",
      "Number of sessions(hdfs_test_abnormal): 1136\n"
     ]
    },
    {
     "name": "stderr",
     "output_type": "stream",
     "text": [
      "100%|██████████| 5813/5813 [01:00<00:00, 96.85it/s] \n",
      "100%|██████████| 1136/1136 [00:08<00:00, 131.97it/s]\n"
     ]
    },
    {
     "name": "stdout",
     "output_type": "stream",
     "text": [
      "false positive (FP): 27817, false negative (FN): 12, Precision: 10.763%, Recall: 99.644%, F1-measure: 19.427%\n",
      "actual positive (TP+FN): 3367, actual negative (FP+TN): 110673\n",
      "accuracy: 75.597\n",
      "Finished Predicting\n",
      "elapsed_time: 68.63177180290222\n",
      "Client  1\n",
      "Number of sessions(hdfs_test_normal): 5574\n",
      "Number of sessions(hdfs_test_abnormal): 1139\n"
     ]
    },
    {
     "name": "stderr",
     "output_type": "stream",
     "text": [
      "100%|██████████| 5574/5574 [01:08<00:00, 81.13it/s] \n",
      "100%|██████████| 1139/1139 [00:11<00:00, 101.55it/s]\n"
     ]
    },
    {
     "name": "stdout",
     "output_type": "stream",
     "text": [
      "false positive (FP): 26353, false negative (FN): 16, Precision: 11.281%, Recall: 99.525%, F1-measure: 20.265%\n",
      "actual positive (TP+FN): 3367, actual negative (FP+TN): 110673\n",
      "accuracy: 76.877\n",
      "Finished Predicting\n",
      "elapsed_time: 79.92336750030518\n",
      "Client  2\n",
      "Number of sessions(hdfs_test_normal): 5730\n",
      "Number of sessions(hdfs_test_abnormal): 1118\n"
     ]
    },
    {
     "name": "stderr",
     "output_type": "stream",
     "text": [
      "100%|██████████| 5730/5730 [01:09<00:00, 82.18it/s] \n",
      "100%|██████████| 1118/1118 [00:07<00:00, 150.53it/s]\n"
     ]
    },
    {
     "name": "stdout",
     "output_type": "stream",
     "text": [
      "false positive (FP): 26871, false negative (FN): 19, Precision: 11.079%, Recall: 99.436%, F1-measure: 19.937%\n",
      "actual positive (TP+FN): 3367, actual negative (FP+TN): 110673\n",
      "accuracy: 76.421\n",
      "Finished Predicting\n",
      "elapsed_time: 77.15248847007751\n",
      "Client  3\n",
      "Number of sessions(hdfs_test_normal): 5747\n",
      "Number of sessions(hdfs_test_abnormal): 1159\n"
     ]
    },
    {
     "name": "stderr",
     "output_type": "stream",
     "text": [
      "100%|██████████| 5747/5747 [00:39<00:00, 145.42it/s]\n",
      "100%|██████████| 1159/1159 [00:04<00:00, 248.24it/s]\n"
     ]
    },
    {
     "name": "stdout",
     "output_type": "stream",
     "text": [
      "false positive (FP): 27536, false negative (FN): 17, Precision: 10.846%, Recall: 99.495%, F1-measure: 19.560%\n",
      "actual positive (TP+FN): 3367, actual negative (FP+TN): 110673\n",
      "accuracy: 75.839\n",
      "Finished Predicting\n",
      "elapsed_time: 44.190997838974\n",
      "Client  4\n",
      "Number of sessions(hdfs_test_normal): 5623\n",
      "Number of sessions(hdfs_test_abnormal): 1121\n"
     ]
    },
    {
     "name": "stderr",
     "output_type": "stream",
     "text": [
      "100%|██████████| 5623/5623 [00:56<00:00, 98.91it/s] \n",
      "100%|██████████| 1121/1121 [00:11<00:00, 99.68it/s] \n"
     ]
    },
    {
     "name": "stdout",
     "output_type": "stream",
     "text": [
      "false positive (FP): 25988, false negative (FN): 21, Precision: 11.407%, Recall: 99.376%, F1-measure: 20.464%\n",
      "actual positive (TP+FN): 3367, actual negative (FP+TN): 110673\n",
      "accuracy: 77.193\n",
      "Finished Predicting\n",
      "elapsed_time: 68.09786558151245\n",
      "============ Train epoch 16 ============\n",
      "Client  0\n",
      "File ../data/hdfs/hdfs_train, number of sessions 971\n",
      "File ../data/hdfs/hdfs_train, number of seqs 9420\n",
      "sampling...\n"
     ]
    },
    {
     "name": "stderr",
     "output_type": "stream",
     "text": [
      "100%|██████████| 1058/1058 [00:00<00:00, 3566.96it/s]\n"
     ]
    },
    {
     "name": "stdout",
     "output_type": "stream",
     "text": [
      "File ../data/hdfs/hdfs_test_normal, number of sessions 110673\n",
      "File ../data/hdfs/hdfs_test_normal, number of seqs 1058\n",
      "Find 9420 train logs, 1058 validation logs\n",
      "Train batch size 2048 ,Validation batch size 2048\n",
      "Starting epoch: 0 | phase: train | ⏰: 03:17:22 | Learning rate: 0.000031\n"
     ]
    },
    {
     "name": "stderr",
     "output_type": "stream",
     "text": [
      "Train loss: 3.04012: 100%|██████████| 5/5 [00:00<00:00, 49.27it/s]\n"
     ]
    },
    {
     "name": "stdout",
     "output_type": "stream",
     "text": [
      "Starting epoch: 0 | phase: valid | ⏰: 03:17:22 \n"
     ]
    },
    {
     "name": "stderr",
     "output_type": "stream",
     "text": [
      ": 100%|██████████| 1/1 [00:00<00:00, 95.95it/s]\n"
     ]
    },
    {
     "name": "stdout",
     "output_type": "stream",
     "text": [
      "Validation loss: 3.034748077392578\n",
      "Client  1\n",
      "File ../data/hdfs/hdfs_train, number of sessions 971\n",
      "File ../data/hdfs/hdfs_train, number of seqs 9080\n",
      "sampling...\n"
     ]
    },
    {
     "name": "stderr",
     "output_type": "stream",
     "text": [
      "100%|██████████| 1046/1046 [00:00<00:00, 3483.90it/s]\n"
     ]
    },
    {
     "name": "stdout",
     "output_type": "stream",
     "text": [
      "File ../data/hdfs/hdfs_test_normal, number of sessions 110673\n",
      "File ../data/hdfs/hdfs_test_normal, number of seqs 1046\n",
      "Find 9080 train logs, 1046 validation logs\n",
      "Train batch size 2048 ,Validation batch size 2048\n",
      "Starting epoch: 0 | phase: train | ⏰: 03:17:34 | Learning rate: 0.000031\n"
     ]
    },
    {
     "name": "stderr",
     "output_type": "stream",
     "text": [
      "Train loss: 3.04037: 100%|██████████| 5/5 [00:00<00:00, 54.62it/s]\n"
     ]
    },
    {
     "name": "stdout",
     "output_type": "stream",
     "text": [
      "Starting epoch: 0 | phase: valid | ⏰: 03:17:34 \n"
     ]
    },
    {
     "name": "stderr",
     "output_type": "stream",
     "text": [
      ": 100%|██████████| 1/1 [00:00<00:00, 95.94it/s]\n"
     ]
    },
    {
     "name": "stdout",
     "output_type": "stream",
     "text": [
      "Validation loss: 3.0221807956695557\n",
      "Client  2\n",
      "File ../data/hdfs/hdfs_train, number of sessions 971\n",
      "File ../data/hdfs/hdfs_train, number of seqs 9485\n",
      "sampling...\n"
     ]
    },
    {
     "name": "stderr",
     "output_type": "stream",
     "text": [
      "100%|██████████| 1051/1051 [00:00<00:00, 3544.03it/s]\n"
     ]
    },
    {
     "name": "stdout",
     "output_type": "stream",
     "text": [
      "File ../data/hdfs/hdfs_test_normal, number of sessions 110673\n",
      "File ../data/hdfs/hdfs_test_normal, number of seqs 1051\n",
      "Find 9485 train logs, 1051 validation logs\n",
      "Train batch size 2048 ,Validation batch size 2048\n",
      "Starting epoch: 0 | phase: train | ⏰: 03:17:46 | Learning rate: 0.000031\n"
     ]
    },
    {
     "name": "stderr",
     "output_type": "stream",
     "text": [
      "Train loss: 3.04370: 100%|██████████| 5/5 [00:00<00:00, 52.37it/s]\n"
     ]
    },
    {
     "name": "stdout",
     "output_type": "stream",
     "text": [
      "Starting epoch: 0 | phase: valid | ⏰: 03:17:46 \n"
     ]
    },
    {
     "name": "stderr",
     "output_type": "stream",
     "text": [
      ": 100%|██████████| 1/1 [00:00<00:00, 95.86it/s]\n"
     ]
    },
    {
     "name": "stdout",
     "output_type": "stream",
     "text": [
      "Validation loss: 3.0241382122039795\n",
      "Client  3\n",
      "File ../data/hdfs/hdfs_train, number of sessions 971\n",
      "File ../data/hdfs/hdfs_train, number of seqs 9267\n",
      "sampling...\n"
     ]
    },
    {
     "name": "stderr",
     "output_type": "stream",
     "text": [
      "100%|██████████| 1057/1057 [00:00<00:00, 3503.74it/s]\n"
     ]
    },
    {
     "name": "stdout",
     "output_type": "stream",
     "text": [
      "File ../data/hdfs/hdfs_test_normal, number of sessions 110673\n",
      "File ../data/hdfs/hdfs_test_normal, number of seqs 1057\n",
      "Find 9267 train logs, 1057 validation logs\n",
      "Train batch size 2048 ,Validation batch size 2048\n",
      "Starting epoch: 0 | phase: train | ⏰: 03:17:58 | Learning rate: 0.000031\n"
     ]
    },
    {
     "name": "stderr",
     "output_type": "stream",
     "text": [
      "Train loss: 3.03773: 100%|██████████| 5/5 [00:00<00:00, 52.67it/s]\n"
     ]
    },
    {
     "name": "stdout",
     "output_type": "stream",
     "text": [
      "Starting epoch: 0 | phase: valid | ⏰: 03:17:58 \n"
     ]
    },
    {
     "name": "stderr",
     "output_type": "stream",
     "text": [
      ": 100%|██████████| 1/1 [00:00<00:00, 94.21it/s]\n"
     ]
    },
    {
     "name": "stdout",
     "output_type": "stream",
     "text": [
      "Validation loss: 3.030102252960205\n",
      "Client  4\n",
      "File ../data/hdfs/hdfs_train, number of sessions 971\n",
      "File ../data/hdfs/hdfs_train, number of seqs 9323\n",
      "sampling...\n"
     ]
    },
    {
     "name": "stderr",
     "output_type": "stream",
     "text": [
      "100%|██████████| 1044/1044 [00:00<00:00, 3522.49it/s]\n"
     ]
    },
    {
     "name": "stdout",
     "output_type": "stream",
     "text": [
      "File ../data/hdfs/hdfs_test_normal, number of sessions 110673\n",
      "File ../data/hdfs/hdfs_test_normal, number of seqs 1044\n",
      "Find 9323 train logs, 1044 validation logs\n",
      "Train batch size 2048 ,Validation batch size 2048\n",
      "Starting epoch: 0 | phase: train | ⏰: 03:18:09 | Learning rate: 0.000031\n"
     ]
    },
    {
     "name": "stderr",
     "output_type": "stream",
     "text": [
      "Train loss: 3.03784: 100%|██████████| 5/5 [00:00<00:00, 46.32it/s]\n"
     ]
    },
    {
     "name": "stdout",
     "output_type": "stream",
     "text": [
      "Starting epoch: 0 | phase: valid | ⏰: 03:18:09 \n"
     ]
    },
    {
     "name": "stderr",
     "output_type": "stream",
     "text": [
      ": 100%|██████████| 1/1 [00:00<00:00, 72.91it/s]\n"
     ]
    },
    {
     "name": "stdout",
     "output_type": "stream",
     "text": [
      "Validation loss: 3.0401294231414795\n",
      "============ Test epoch 16 ============\n",
      "Client  0\n",
      "Number of sessions(hdfs_test_normal): 5813\n",
      "Number of sessions(hdfs_test_abnormal): 1136\n"
     ]
    },
    {
     "name": "stderr",
     "output_type": "stream",
     "text": [
      "100%|██████████| 5813/5813 [01:12<00:00, 80.63it/s] \n",
      "100%|██████████| 1136/1136 [00:10<00:00, 103.95it/s]\n"
     ]
    },
    {
     "name": "stdout",
     "output_type": "stream",
     "text": [
      "false positive (FP): 27817, false negative (FN): 12, Precision: 10.763%, Recall: 99.644%, F1-measure: 19.427%\n",
      "actual positive (TP+FN): 3367, actual negative (FP+TN): 110673\n",
      "accuracy: 75.597\n",
      "Finished Predicting\n",
      "elapsed_time: 83.02497816085815\n",
      "Client  1\n",
      "Number of sessions(hdfs_test_normal): 5574\n",
      "Number of sessions(hdfs_test_abnormal): 1139\n"
     ]
    },
    {
     "name": "stderr",
     "output_type": "stream",
     "text": [
      "100%|██████████| 5574/5574 [00:56<00:00, 98.38it/s] \n",
      "100%|██████████| 1139/1139 [00:08<00:00, 132.31it/s]\n"
     ]
    },
    {
     "name": "stdout",
     "output_type": "stream",
     "text": [
      "false positive (FP): 26353, false negative (FN): 16, Precision: 11.281%, Recall: 99.525%, F1-measure: 20.265%\n",
      "actual positive (TP+FN): 3367, actual negative (FP+TN): 110673\n",
      "accuracy: 76.877\n",
      "Finished Predicting\n",
      "elapsed_time: 65.26865029335022\n",
      "Client  2\n",
      "Number of sessions(hdfs_test_normal): 5730\n",
      "Number of sessions(hdfs_test_abnormal): 1118\n"
     ]
    },
    {
     "name": "stderr",
     "output_type": "stream",
     "text": [
      "100%|██████████| 5730/5730 [01:11<00:00, 80.67it/s]\n",
      "100%|██████████| 1118/1118 [00:10<00:00, 101.82it/s]\n"
     ]
    },
    {
     "name": "stdout",
     "output_type": "stream",
     "text": [
      "false positive (FP): 26871, false negative (FN): 19, Precision: 11.079%, Recall: 99.436%, F1-measure: 19.937%\n",
      "actual positive (TP+FN): 3367, actual negative (FP+TN): 110673\n",
      "accuracy: 76.421\n",
      "Finished Predicting\n",
      "elapsed_time: 82.01205015182495\n",
      "Client  3\n",
      "Number of sessions(hdfs_test_normal): 5747\n",
      "Number of sessions(hdfs_test_abnormal): 1159\n"
     ]
    },
    {
     "name": "stderr",
     "output_type": "stream",
     "text": [
      "100%|██████████| 5747/5747 [01:12<00:00, 79.74it/s] \n",
      "100%|██████████| 1159/1159 [00:11<00:00, 98.26it/s] \n"
     ]
    },
    {
     "name": "stdout",
     "output_type": "stream",
     "text": [
      "false positive (FP): 27536, false negative (FN): 17, Precision: 10.846%, Recall: 99.495%, F1-measure: 19.560%\n",
      "actual positive (TP+FN): 3367, actual negative (FP+TN): 110673\n",
      "accuracy: 75.839\n",
      "Finished Predicting\n",
      "elapsed_time: 83.8694076538086\n",
      "Client  4\n",
      "Number of sessions(hdfs_test_normal): 5623\n",
      "Number of sessions(hdfs_test_abnormal): 1121\n"
     ]
    },
    {
     "name": "stderr",
     "output_type": "stream",
     "text": [
      "100%|██████████| 5623/5623 [01:04<00:00, 87.57it/s] \n",
      "100%|██████████| 1121/1121 [00:08<00:00, 128.40it/s]\n"
     ]
    },
    {
     "name": "stdout",
     "output_type": "stream",
     "text": [
      "false positive (FP): 25988, false negative (FN): 21, Precision: 11.407%, Recall: 99.376%, F1-measure: 20.464%\n",
      "actual positive (TP+FN): 3367, actual negative (FP+TN): 110673\n",
      "accuracy: 77.193\n",
      "Finished Predicting\n",
      "elapsed_time: 72.94300580024719\n",
      "============ Train epoch 17 ============\n",
      "Client  0\n",
      "File ../data/hdfs/hdfs_train, number of sessions 971\n",
      "File ../data/hdfs/hdfs_train, number of seqs 9420\n",
      "sampling...\n"
     ]
    },
    {
     "name": "stderr",
     "output_type": "stream",
     "text": [
      "100%|██████████| 1058/1058 [00:00<00:00, 3351.64it/s]\n"
     ]
    },
    {
     "name": "stdout",
     "output_type": "stream",
     "text": [
      "File ../data/hdfs/hdfs_test_normal, number of sessions 110673\n",
      "File ../data/hdfs/hdfs_test_normal, number of seqs 1058\n",
      "Find 9420 train logs, 1058 validation logs\n",
      "Train batch size 2048 ,Validation batch size 2048\n",
      "Starting epoch: 0 | phase: train | ⏰: 03:24:52 | Learning rate: 0.000031\n"
     ]
    },
    {
     "name": "stderr",
     "output_type": "stream",
     "text": [
      "Train loss: 3.00485: 100%|██████████| 5/5 [00:00<00:00, 47.65it/s]\n"
     ]
    },
    {
     "name": "stdout",
     "output_type": "stream",
     "text": [
      "Starting epoch: 0 | phase: valid | ⏰: 03:24:52 \n"
     ]
    },
    {
     "name": "stderr",
     "output_type": "stream",
     "text": [
      ": 100%|██████████| 1/1 [00:00<00:00, 88.21it/s]"
     ]
    },
    {
     "name": "stdout",
     "output_type": "stream",
     "text": [
      "Validation loss: 3.001084089279175\n",
      "Client  1\n"
     ]
    },
    {
     "name": "stderr",
     "output_type": "stream",
     "text": [
      "\n"
     ]
    },
    {
     "name": "stdout",
     "output_type": "stream",
     "text": [
      "File ../data/hdfs/hdfs_train, number of sessions 971\n",
      "File ../data/hdfs/hdfs_train, number of seqs 9080\n",
      "sampling...\n"
     ]
    },
    {
     "name": "stderr",
     "output_type": "stream",
     "text": [
      "100%|██████████| 1046/1046 [00:00<00:00, 3552.95it/s]\n"
     ]
    },
    {
     "name": "stdout",
     "output_type": "stream",
     "text": [
      "File ../data/hdfs/hdfs_test_normal, number of sessions 110673\n",
      "File ../data/hdfs/hdfs_test_normal, number of seqs 1046\n",
      "Find 9080 train logs, 1046 validation logs\n",
      "Train batch size 2048 ,Validation batch size 2048\n",
      "Starting epoch: 0 | phase: train | ⏰: 03:25:03 | Learning rate: 0.000031\n"
     ]
    },
    {
     "name": "stderr",
     "output_type": "stream",
     "text": [
      "Train loss: 3.00294: 100%|██████████| 5/5 [00:00<00:00, 54.21it/s]\n"
     ]
    },
    {
     "name": "stdout",
     "output_type": "stream",
     "text": [
      "Starting epoch: 0 | phase: valid | ⏰: 03:25:04 \n"
     ]
    },
    {
     "name": "stderr",
     "output_type": "stream",
     "text": [
      ": 100%|██████████| 1/1 [00:00<00:00, 102.54it/s]\n"
     ]
    },
    {
     "name": "stdout",
     "output_type": "stream",
     "text": [
      "Validation loss: 2.9869790077209473\n",
      "Client  2\n",
      "File ../data/hdfs/hdfs_train, number of sessions 971\n",
      "File ../data/hdfs/hdfs_train, number of seqs 9485\n",
      "sampling...\n"
     ]
    },
    {
     "name": "stderr",
     "output_type": "stream",
     "text": [
      "100%|██████████| 1051/1051 [00:00<00:00, 3457.67it/s]\n"
     ]
    },
    {
     "name": "stdout",
     "output_type": "stream",
     "text": [
      "File ../data/hdfs/hdfs_test_normal, number of sessions 110673\n",
      "File ../data/hdfs/hdfs_test_normal, number of seqs 1051\n",
      "Find 9485 train logs, 1051 validation logs\n",
      "Train batch size 2048 ,Validation batch size 2048\n",
      "Starting epoch: 0 | phase: train | ⏰: 03:25:15 | Learning rate: 0.000031\n"
     ]
    },
    {
     "name": "stderr",
     "output_type": "stream",
     "text": [
      "Train loss: 3.00921: 100%|██████████| 5/5 [00:00<00:00, 52.82it/s]\n"
     ]
    },
    {
     "name": "stdout",
     "output_type": "stream",
     "text": [
      "Starting epoch: 0 | phase: valid | ⏰: 03:25:15 \n"
     ]
    },
    {
     "name": "stderr",
     "output_type": "stream",
     "text": [
      ": 100%|██████████| 1/1 [00:00<00:00, 105.14it/s]\n"
     ]
    },
    {
     "name": "stdout",
     "output_type": "stream",
     "text": [
      "Validation loss: 3.0018553733825684\n",
      "Client  3\n",
      "File ../data/hdfs/hdfs_train, number of sessions 971\n",
      "File ../data/hdfs/hdfs_train, number of seqs 9267\n",
      "sampling...\n"
     ]
    },
    {
     "name": "stderr",
     "output_type": "stream",
     "text": [
      "100%|██████████| 1057/1057 [00:00<00:00, 3469.49it/s]\n"
     ]
    },
    {
     "name": "stdout",
     "output_type": "stream",
     "text": [
      "File ../data/hdfs/hdfs_test_normal, number of sessions 110673\n",
      "File ../data/hdfs/hdfs_test_normal, number of seqs 1057\n",
      "Find 9267 train logs, 1057 validation logs\n",
      "Train batch size 2048 ,Validation batch size 2048\n",
      "Starting epoch: 0 | phase: train | ⏰: 03:25:27 | Learning rate: 0.000031\n"
     ]
    },
    {
     "name": "stderr",
     "output_type": "stream",
     "text": [
      "Train loss: 3.00336: 100%|██████████| 5/5 [00:00<00:00, 54.43it/s]\n"
     ]
    },
    {
     "name": "stdout",
     "output_type": "stream",
     "text": [
      "Starting epoch: 0 | phase: valid | ⏰: 03:25:27 \n"
     ]
    },
    {
     "name": "stderr",
     "output_type": "stream",
     "text": [
      ": 100%|██████████| 1/1 [00:00<00:00, 97.67it/s]\n"
     ]
    },
    {
     "name": "stdout",
     "output_type": "stream",
     "text": [
      "Validation loss: 3.0016977787017822\n",
      "Client  4\n",
      "File ../data/hdfs/hdfs_train, number of sessions 971\n",
      "File ../data/hdfs/hdfs_train, number of seqs 9323\n",
      "sampling...\n"
     ]
    },
    {
     "name": "stderr",
     "output_type": "stream",
     "text": [
      "100%|██████████| 1044/1044 [00:00<00:00, 3456.36it/s]\n"
     ]
    },
    {
     "name": "stdout",
     "output_type": "stream",
     "text": [
      "File ../data/hdfs/hdfs_test_normal, number of sessions 110673\n",
      "File ../data/hdfs/hdfs_test_normal, number of seqs 1044\n",
      "Find 9323 train logs, 1044 validation logs\n",
      "Train batch size 2048 ,Validation batch size 2048\n",
      "Starting epoch: 0 | phase: train | ⏰: 03:25:39 | Learning rate: 0.000031\n"
     ]
    },
    {
     "name": "stderr",
     "output_type": "stream",
     "text": [
      "Train loss: 3.00288: 100%|██████████| 5/5 [00:00<00:00, 54.57it/s]\n"
     ]
    },
    {
     "name": "stdout",
     "output_type": "stream",
     "text": [
      "Starting epoch: 0 | phase: valid | ⏰: 03:25:39 \n"
     ]
    },
    {
     "name": "stderr",
     "output_type": "stream",
     "text": [
      ": 100%|██████████| 1/1 [00:00<00:00, 93.39it/s]\n"
     ]
    },
    {
     "name": "stdout",
     "output_type": "stream",
     "text": [
      "Validation loss: 2.999619722366333\n",
      "============ Test epoch 17 ============\n",
      "Client  0\n",
      "Number of sessions(hdfs_test_normal): 5813\n",
      "Number of sessions(hdfs_test_abnormal): 1136\n"
     ]
    },
    {
     "name": "stderr",
     "output_type": "stream",
     "text": [
      "100%|██████████| 5813/5813 [01:12<00:00, 79.65it/s] \n",
      "100%|██████████| 1136/1136 [00:11<00:00, 100.63it/s]\n"
     ]
    },
    {
     "name": "stdout",
     "output_type": "stream",
     "text": [
      "false positive (FP): 27768, false negative (FN): 12, Precision: 10.780%, Recall: 99.644%, F1-measure: 19.455%\n",
      "actual positive (TP+FN): 3367, actual negative (FP+TN): 110673\n",
      "accuracy: 75.640\n",
      "Finished Predicting\n",
      "elapsed_time: 84.27376055717468\n",
      "Client  1\n",
      "Number of sessions(hdfs_test_normal): 5574\n",
      "Number of sessions(hdfs_test_abnormal): 1139\n"
     ]
    },
    {
     "name": "stderr",
     "output_type": "stream",
     "text": [
      "100%|██████████| 5574/5574 [01:04<00:00, 86.02it/s] \n",
      "100%|██████████| 1139/1139 [00:07<00:00, 143.38it/s]\n"
     ]
    },
    {
     "name": "stdout",
     "output_type": "stream",
     "text": [
      "false positive (FP): 26318, false negative (FN): 17, Precision: 11.292%, Recall: 99.495%, F1-measure: 20.282%\n",
      "actual positive (TP+FN): 3367, actual negative (FP+TN): 110673\n",
      "accuracy: 76.907\n",
      "Finished Predicting\n",
      "elapsed_time: 72.74446773529053\n",
      "Client  2\n",
      "Number of sessions(hdfs_test_normal): 5730\n",
      "Number of sessions(hdfs_test_abnormal): 1118\n"
     ]
    },
    {
     "name": "stderr",
     "output_type": "stream",
     "text": [
      "100%|██████████| 5730/5730 [00:34<00:00, 167.96it/s]\n",
      "100%|██████████| 1118/1118 [00:04<00:00, 249.93it/s]\n"
     ]
    },
    {
     "name": "stdout",
     "output_type": "stream",
     "text": [
      "false positive (FP): 26823, false negative (FN): 19, Precision: 11.097%, Recall: 99.436%, F1-measure: 19.965%\n",
      "actual positive (TP+FN): 3367, actual negative (FP+TN): 110673\n",
      "accuracy: 76.463\n",
      "Finished Predicting\n",
      "elapsed_time: 38.590808391571045\n",
      "Client  3\n",
      "Number of sessions(hdfs_test_normal): 5747\n",
      "Number of sessions(hdfs_test_abnormal): 1159\n"
     ]
    },
    {
     "name": "stderr",
     "output_type": "stream",
     "text": [
      "100%|██████████| 5747/5747 [01:01<00:00, 92.93it/s] \n",
      "100%|██████████| 1159/1159 [00:12<00:00, 95.34it/s] \n"
     ]
    },
    {
     "name": "stdout",
     "output_type": "stream",
     "text": [
      "false positive (FP): 27474, false negative (FN): 19, Precision: 10.862%, Recall: 99.436%, F1-measure: 19.585%\n",
      "actual positive (TP+FN): 3367, actual negative (FP+TN): 110673\n",
      "accuracy: 75.892\n",
      "Finished Predicting\n",
      "elapsed_time: 74.00355982780457\n",
      "Client  4\n",
      "Number of sessions(hdfs_test_normal): 5623\n",
      "Number of sessions(hdfs_test_abnormal): 1121\n"
     ]
    },
    {
     "name": "stderr",
     "output_type": "stream",
     "text": [
      "100%|██████████| 5623/5623 [01:10<00:00, 79.87it/s]\n",
      "100%|██████████| 1121/1121 [00:11<00:00, 97.24it/s] \n"
     ]
    },
    {
     "name": "stdout",
     "output_type": "stream",
     "text": [
      "false positive (FP): 25950, false negative (FN): 22, Precision: 11.418%, Recall: 99.347%, F1-measure: 20.483%\n",
      "actual positive (TP+FN): 3367, actual negative (FP+TN): 110673\n",
      "accuracy: 77.226\n",
      "Finished Predicting\n",
      "elapsed_time: 81.93663334846497\n",
      "============ Train epoch 18 ============\n",
      "Client  0\n",
      "File ../data/hdfs/hdfs_train, number of sessions 971\n",
      "File ../data/hdfs/hdfs_train, number of seqs 9420\n",
      "sampling...\n"
     ]
    },
    {
     "name": "stderr",
     "output_type": "stream",
     "text": [
      "100%|██████████| 1058/1058 [00:00<00:00, 3467.96it/s]\n"
     ]
    },
    {
     "name": "stdout",
     "output_type": "stream",
     "text": [
      "File ../data/hdfs/hdfs_test_normal, number of sessions 110673\n",
      "File ../data/hdfs/hdfs_test_normal, number of seqs 1058\n",
      "Find 9420 train logs, 1058 validation logs\n",
      "Train batch size 2048 ,Validation batch size 2048\n",
      "Starting epoch: 0 | phase: train | ⏰: 03:31:46 | Learning rate: 0.000031\n"
     ]
    },
    {
     "name": "stderr",
     "output_type": "stream",
     "text": [
      "Train loss: 2.96625: 100%|██████████| 5/5 [00:00<00:00, 51.21it/s]\n"
     ]
    },
    {
     "name": "stdout",
     "output_type": "stream",
     "text": [
      "Starting epoch: 0 | phase: valid | ⏰: 03:31:46 \n"
     ]
    },
    {
     "name": "stderr",
     "output_type": "stream",
     "text": [
      ": 100%|██████████| 1/1 [00:00<00:00, 93.74it/s]\n"
     ]
    },
    {
     "name": "stdout",
     "output_type": "stream",
     "text": [
      "Validation loss: 2.972893476486206\n",
      "Client  1\n",
      "File ../data/hdfs/hdfs_train, number of sessions 971\n",
      "File ../data/hdfs/hdfs_train, number of seqs 9080\n",
      "sampling...\n"
     ]
    },
    {
     "name": "stderr",
     "output_type": "stream",
     "text": [
      "100%|██████████| 1046/1046 [00:00<00:00, 3505.84it/s]\n"
     ]
    },
    {
     "name": "stdout",
     "output_type": "stream",
     "text": [
      "File ../data/hdfs/hdfs_test_normal, number of sessions 110673\n",
      "File ../data/hdfs/hdfs_test_normal, number of seqs 1046\n",
      "Find 9080 train logs, 1046 validation logs\n",
      "Train batch size 2048 ,Validation batch size 2048\n",
      "Starting epoch: 0 | phase: train | ⏰: 03:31:57 | Learning rate: 0.000031\n"
     ]
    },
    {
     "name": "stderr",
     "output_type": "stream",
     "text": [
      "Train loss: 2.96475: 100%|██████████| 5/5 [00:00<00:00, 55.87it/s]\n"
     ]
    },
    {
     "name": "stdout",
     "output_type": "stream",
     "text": [
      "Starting epoch: 0 | phase: valid | ⏰: 03:31:57 \n"
     ]
    },
    {
     "name": "stderr",
     "output_type": "stream",
     "text": [
      ": 100%|██████████| 1/1 [00:00<00:00, 96.56it/s]\n"
     ]
    },
    {
     "name": "stdout",
     "output_type": "stream",
     "text": [
      "Validation loss: 2.9464683532714844\n",
      "Client  2\n",
      "File ../data/hdfs/hdfs_train, number of sessions 971\n",
      "File ../data/hdfs/hdfs_train, number of seqs 9485\n",
      "sampling...\n"
     ]
    },
    {
     "name": "stderr",
     "output_type": "stream",
     "text": [
      "100%|██████████| 1051/1051 [00:00<00:00, 3518.58it/s]\n"
     ]
    },
    {
     "name": "stdout",
     "output_type": "stream",
     "text": [
      "File ../data/hdfs/hdfs_test_normal, number of sessions 110673\n",
      "File ../data/hdfs/hdfs_test_normal, number of seqs 1051\n",
      "Find 9485 train logs, 1051 validation logs\n",
      "Train batch size 2048 ,Validation batch size 2048\n",
      "Starting epoch: 0 | phase: train | ⏰: 03:32:09 | Learning rate: 0.000031\n"
     ]
    },
    {
     "name": "stderr",
     "output_type": "stream",
     "text": [
      "Train loss: 2.97209: 100%|██████████| 5/5 [00:00<00:00, 53.36it/s]\n"
     ]
    },
    {
     "name": "stdout",
     "output_type": "stream",
     "text": [
      "Starting epoch: 0 | phase: valid | ⏰: 03:32:09 \n"
     ]
    },
    {
     "name": "stderr",
     "output_type": "stream",
     "text": [
      ": 100%|██████████| 1/1 [00:00<00:00, 98.98it/s]\n"
     ]
    },
    {
     "name": "stdout",
     "output_type": "stream",
     "text": [
      "Validation loss: 2.953620672225952\n",
      "Client  3\n",
      "File ../data/hdfs/hdfs_train, number of sessions 971\n",
      "File ../data/hdfs/hdfs_train, number of seqs 9267\n",
      "sampling...\n"
     ]
    },
    {
     "name": "stderr",
     "output_type": "stream",
     "text": [
      "100%|██████████| 1057/1057 [00:00<00:00, 3602.99it/s]\n"
     ]
    },
    {
     "name": "stdout",
     "output_type": "stream",
     "text": [
      "File ../data/hdfs/hdfs_test_normal, number of sessions 110673\n",
      "File ../data/hdfs/hdfs_test_normal, number of seqs 1057\n",
      "Find 9267 train logs, 1057 validation logs\n",
      "Train batch size 2048 ,Validation batch size 2048\n",
      "Starting epoch: 0 | phase: train | ⏰: 03:32:21 | Learning rate: 0.000031\n"
     ]
    },
    {
     "name": "stderr",
     "output_type": "stream",
     "text": [
      "Train loss: 2.96442: 100%|██████████| 5/5 [00:00<00:00, 40.24it/s]\n"
     ]
    },
    {
     "name": "stdout",
     "output_type": "stream",
     "text": [
      "Starting epoch: 0 | phase: valid | ⏰: 03:32:21 \n"
     ]
    },
    {
     "name": "stderr",
     "output_type": "stream",
     "text": [
      ": 100%|██████████| 1/1 [00:00<00:00, 97.26it/s]\n"
     ]
    },
    {
     "name": "stdout",
     "output_type": "stream",
     "text": [
      "Validation loss: 2.969892740249634\n",
      "Client  4\n",
      "File ../data/hdfs/hdfs_train, number of sessions 971\n",
      "File ../data/hdfs/hdfs_train, number of seqs 9323\n",
      "sampling...\n"
     ]
    },
    {
     "name": "stderr",
     "output_type": "stream",
     "text": [
      "100%|██████████| 1044/1044 [00:00<00:00, 3636.98it/s]\n"
     ]
    },
    {
     "name": "stdout",
     "output_type": "stream",
     "text": [
      "File ../data/hdfs/hdfs_test_normal, number of sessions 110673\n",
      "File ../data/hdfs/hdfs_test_normal, number of seqs 1044\n",
      "Find 9323 train logs, 1044 validation logs\n",
      "Train batch size 2048 ,Validation batch size 2048\n",
      "Starting epoch: 0 | phase: train | ⏰: 03:32:33 | Learning rate: 0.000031\n"
     ]
    },
    {
     "name": "stderr",
     "output_type": "stream",
     "text": [
      "Train loss: 2.96407: 100%|██████████| 5/5 [00:00<00:00, 53.22it/s]\n"
     ]
    },
    {
     "name": "stdout",
     "output_type": "stream",
     "text": [
      "Starting epoch: 0 | phase: valid | ⏰: 03:32:33 \n"
     ]
    },
    {
     "name": "stderr",
     "output_type": "stream",
     "text": [
      ": 100%|██████████| 1/1 [00:00<00:00, 94.31it/s]\n"
     ]
    },
    {
     "name": "stdout",
     "output_type": "stream",
     "text": [
      "Validation loss: 2.959202527999878\n",
      "============ Test epoch 18 ============\n",
      "Client  0\n",
      "Number of sessions(hdfs_test_normal): 5813\n",
      "Number of sessions(hdfs_test_abnormal): 1136\n"
     ]
    },
    {
     "name": "stderr",
     "output_type": "stream",
     "text": [
      "100%|██████████| 5813/5813 [01:37<00:00, 59.83it/s] \n",
      "100%|██████████| 1136/1136 [00:14<00:00, 81.00it/s]\n"
     ]
    },
    {
     "name": "stdout",
     "output_type": "stream",
     "text": [
      "false positive (FP): 15384, false negative (FN): 22, Precision: 17.860%, Recall: 99.347%, F1-measure: 30.277%\n",
      "actual positive (TP+FN): 3367, actual negative (FP+TN): 110673\n",
      "accuracy: 86.491\n",
      "Finished Predicting\n",
      "elapsed_time: 111.18673372268677\n",
      "Client  1\n",
      "Number of sessions(hdfs_test_normal): 5574\n",
      "Number of sessions(hdfs_test_abnormal): 1139\n"
     ]
    },
    {
     "name": "stderr",
     "output_type": "stream",
     "text": [
      "100%|██████████| 5574/5574 [01:48<00:00, 51.33it/s]\n",
      "100%|██████████| 1139/1139 [00:15<00:00, 74.25it/s]\n"
     ]
    },
    {
     "name": "stdout",
     "output_type": "stream",
     "text": [
      "false positive (FP): 14603, false negative (FN): 26, Precision: 18.619%, Recall: 99.228%, F1-measure: 31.355%\n",
      "actual positive (TP+FN): 3367, actual negative (FP+TN): 110673\n",
      "accuracy: 87.172\n",
      "Finished Predicting\n",
      "elapsed_time: 123.94140839576721\n",
      "Client  2\n",
      "Number of sessions(hdfs_test_normal): 5730\n",
      "Number of sessions(hdfs_test_abnormal): 1118\n"
     ]
    },
    {
     "name": "stderr",
     "output_type": "stream",
     "text": [
      "100%|██████████| 5730/5730 [01:50<00:00, 51.98it/s]\n",
      "100%|██████████| 1118/1118 [00:10<00:00, 111.37it/s]\n"
     ]
    },
    {
     "name": "stdout",
     "output_type": "stream",
     "text": [
      "false positive (FP): 14749, false negative (FN): 25, Precision: 18.473%, Recall: 99.257%, F1-measure: 31.149%\n",
      "actual positive (TP+FN): 3367, actual negative (FP+TN): 110673\n",
      "accuracy: 87.045\n",
      "Finished Predicting\n",
      "elapsed_time: 120.27876496315002\n",
      "Client  3\n",
      "Number of sessions(hdfs_test_normal): 5747\n",
      "Number of sessions(hdfs_test_abnormal): 1159\n"
     ]
    },
    {
     "name": "stderr",
     "output_type": "stream",
     "text": [
      "100%|██████████| 5747/5747 [00:44<00:00, 128.08it/s]\n",
      "100%|██████████| 1159/1159 [00:12<00:00, 92.51it/s] \n"
     ]
    },
    {
     "name": "stdout",
     "output_type": "stream",
     "text": [
      "false positive (FP): 15065, false negative (FN): 24, Precision: 18.161%, Recall: 99.287%, F1-measure: 30.705%\n",
      "actual positive (TP+FN): 3367, actual negative (FP+TN): 110673\n",
      "accuracy: 86.769\n",
      "Finished Predicting\n",
      "elapsed_time: 57.400099992752075\n",
      "Client  4\n",
      "Number of sessions(hdfs_test_normal): 5623\n",
      "Number of sessions(hdfs_test_abnormal): 1121\n"
     ]
    },
    {
     "name": "stderr",
     "output_type": "stream",
     "text": [
      "100%|██████████| 5623/5623 [01:48<00:00, 51.66it/s]\n",
      "100%|██████████| 1121/1121 [00:15<00:00, 74.17it/s]\n"
     ]
    },
    {
     "name": "stdout",
     "output_type": "stream",
     "text": [
      "false positive (FP): 14344, false negative (FN): 26, Precision: 18.892%, Recall: 99.228%, F1-measure: 31.740%\n",
      "actual positive (TP+FN): 3367, actual negative (FP+TN): 110673\n",
      "accuracy: 87.399\n",
      "Finished Predicting\n",
      "elapsed_time: 123.95535778999329\n",
      "============ Train epoch 19 ============\n",
      "Client  0\n",
      "File ../data/hdfs/hdfs_train, number of sessions 971\n",
      "File ../data/hdfs/hdfs_train, number of seqs 9420\n",
      "sampling...\n"
     ]
    },
    {
     "name": "stderr",
     "output_type": "stream",
     "text": [
      "100%|██████████| 1058/1058 [00:00<00:00, 3456.50it/s]\n"
     ]
    },
    {
     "name": "stdout",
     "output_type": "stream",
     "text": [
      "File ../data/hdfs/hdfs_test_normal, number of sessions 110673\n",
      "File ../data/hdfs/hdfs_test_normal, number of seqs 1058\n",
      "Find 9420 train logs, 1058 validation logs\n",
      "Train batch size 2048 ,Validation batch size 2048\n",
      "Starting epoch: 0 | phase: train | ⏰: 03:41:45 | Learning rate: 0.000031\n"
     ]
    },
    {
     "name": "stderr",
     "output_type": "stream",
     "text": [
      "Train loss: 2.92489: 100%|██████████| 5/5 [00:00<00:00, 54.64it/s]\n"
     ]
    },
    {
     "name": "stdout",
     "output_type": "stream",
     "text": [
      "Starting epoch: 0 | phase: valid | ⏰: 03:41:45 \n"
     ]
    },
    {
     "name": "stderr",
     "output_type": "stream",
     "text": [
      ": 100%|██████████| 1/1 [00:00<00:00, 99.60it/s]"
     ]
    },
    {
     "name": "stdout",
     "output_type": "stream",
     "text": [
      "Validation loss: 2.9136855602264404\n",
      "Client  1\n"
     ]
    },
    {
     "name": "stderr",
     "output_type": "stream",
     "text": [
      "\n"
     ]
    },
    {
     "name": "stdout",
     "output_type": "stream",
     "text": [
      "File ../data/hdfs/hdfs_train, number of sessions 971\n",
      "File ../data/hdfs/hdfs_train, number of seqs 9080\n",
      "sampling...\n"
     ]
    },
    {
     "name": "stderr",
     "output_type": "stream",
     "text": [
      "100%|██████████| 1046/1046 [00:00<00:00, 3574.22it/s]\n"
     ]
    },
    {
     "name": "stdout",
     "output_type": "stream",
     "text": [
      "File ../data/hdfs/hdfs_test_normal, number of sessions 110673\n",
      "File ../data/hdfs/hdfs_test_normal, number of seqs 1046\n",
      "Find 9080 train logs, 1046 validation logs\n",
      "Train batch size 2048 ,Validation batch size 2048\n",
      "Starting epoch: 0 | phase: train | ⏰: 03:41:56 | Learning rate: 0.000031\n"
     ]
    },
    {
     "name": "stderr",
     "output_type": "stream",
     "text": [
      "Train loss: 2.92348: 100%|██████████| 5/5 [00:00<00:00, 55.69it/s]\n"
     ]
    },
    {
     "name": "stdout",
     "output_type": "stream",
     "text": [
      "Starting epoch: 0 | phase: valid | ⏰: 03:41:56 \n"
     ]
    },
    {
     "name": "stderr",
     "output_type": "stream",
     "text": [
      ": 100%|██████████| 1/1 [00:00<00:00, 97.84it/s]\n"
     ]
    },
    {
     "name": "stdout",
     "output_type": "stream",
     "text": [
      "Validation loss: 2.9127166271209717\n",
      "Client  2\n",
      "File ../data/hdfs/hdfs_train, number of sessions 971\n",
      "File ../data/hdfs/hdfs_train, number of seqs 9485\n",
      "sampling...\n"
     ]
    },
    {
     "name": "stderr",
     "output_type": "stream",
     "text": [
      "100%|██████████| 1051/1051 [00:00<00:00, 3410.04it/s]\n"
     ]
    },
    {
     "name": "stdout",
     "output_type": "stream",
     "text": [
      "File ../data/hdfs/hdfs_test_normal, number of sessions 110673\n",
      "File ../data/hdfs/hdfs_test_normal, number of seqs 1051\n",
      "Find 9485 train logs, 1051 validation logs\n",
      "Train batch size 2048 ,Validation batch size 2048\n",
      "Starting epoch: 0 | phase: train | ⏰: 03:42:08 | Learning rate: 0.000031\n"
     ]
    },
    {
     "name": "stderr",
     "output_type": "stream",
     "text": [
      "Train loss: 2.93008: 100%|██████████| 5/5 [00:00<00:00, 53.43it/s]\n"
     ]
    },
    {
     "name": "stdout",
     "output_type": "stream",
     "text": [
      "Starting epoch: 0 | phase: valid | ⏰: 03:42:08 \n"
     ]
    },
    {
     "name": "stderr",
     "output_type": "stream",
     "text": [
      ": 100%|██████████| 1/1 [00:00<00:00, 96.79it/s]\n"
     ]
    },
    {
     "name": "stdout",
     "output_type": "stream",
     "text": [
      "Validation loss: 2.911733627319336\n",
      "Client  3\n",
      "File ../data/hdfs/hdfs_train, number of sessions 971\n",
      "File ../data/hdfs/hdfs_train, number of seqs 9267\n",
      "sampling...\n"
     ]
    },
    {
     "name": "stderr",
     "output_type": "stream",
     "text": [
      "100%|██████████| 1057/1057 [00:00<00:00, 3536.03it/s]\n"
     ]
    },
    {
     "name": "stdout",
     "output_type": "stream",
     "text": [
      "File ../data/hdfs/hdfs_test_normal, number of sessions 110673\n",
      "File ../data/hdfs/hdfs_test_normal, number of seqs 1057\n",
      "Find 9267 train logs, 1057 validation logs\n",
      "Train batch size 2048 ,Validation batch size 2048\n",
      "Starting epoch: 0 | phase: train | ⏰: 03:42:20 | Learning rate: 0.000031\n"
     ]
    },
    {
     "name": "stderr",
     "output_type": "stream",
     "text": [
      "Train loss: 2.92396: 100%|██████████| 5/5 [00:00<00:00, 54.91it/s]\n"
     ]
    },
    {
     "name": "stdout",
     "output_type": "stream",
     "text": [
      "Starting epoch: 0 | phase: valid | ⏰: 03:42:20 \n"
     ]
    },
    {
     "name": "stderr",
     "output_type": "stream",
     "text": [
      ": 100%|██████████| 1/1 [00:00<00:00, 100.31it/s]\n"
     ]
    },
    {
     "name": "stdout",
     "output_type": "stream",
     "text": [
      "Validation loss: 2.9010865688323975\n",
      "Client  4\n",
      "File ../data/hdfs/hdfs_train, number of sessions 971\n",
      "File ../data/hdfs/hdfs_train, number of seqs 9323\n",
      "sampling...\n"
     ]
    },
    {
     "name": "stderr",
     "output_type": "stream",
     "text": [
      "100%|██████████| 1044/1044 [00:00<00:00, 3543.92it/s]\n"
     ]
    },
    {
     "name": "stdout",
     "output_type": "stream",
     "text": [
      "File ../data/hdfs/hdfs_test_normal, number of sessions 110673\n",
      "File ../data/hdfs/hdfs_test_normal, number of seqs 1044\n",
      "Find 9323 train logs, 1044 validation logs\n",
      "Train batch size 2048 ,Validation batch size 2048\n",
      "Starting epoch: 0 | phase: train | ⏰: 03:42:32 | Learning rate: 0.000031\n"
     ]
    },
    {
     "name": "stderr",
     "output_type": "stream",
     "text": [
      "Train loss: 2.92162: 100%|██████████| 5/5 [00:00<00:00, 53.99it/s]\n"
     ]
    },
    {
     "name": "stdout",
     "output_type": "stream",
     "text": [
      "Starting epoch: 0 | phase: valid | ⏰: 03:42:32 \n"
     ]
    },
    {
     "name": "stderr",
     "output_type": "stream",
     "text": [
      ": 100%|██████████| 1/1 [00:00<00:00, 101.85it/s]\n"
     ]
    },
    {
     "name": "stdout",
     "output_type": "stream",
     "text": [
      "Validation loss: 2.9141902923583984\n",
      "============ Test epoch 19 ============\n",
      "Client  0\n",
      "Number of sessions(hdfs_test_normal): 5813\n",
      "Number of sessions(hdfs_test_abnormal): 1136\n"
     ]
    },
    {
     "name": "stderr",
     "output_type": "stream",
     "text": [
      "100%|██████████| 5813/5813 [02:03<00:00, 47.00it/s]\n",
      "100%|██████████| 1136/1136 [00:12<00:00, 90.72it/s]\n"
     ]
    },
    {
     "name": "stdout",
     "output_type": "stream",
     "text": [
      "false positive (FP): 10896, false negative (FN): 22, Precision: 23.489%, Recall: 99.347%, F1-measure: 37.994%\n",
      "actual positive (TP+FN): 3367, actual negative (FP+TN): 110673\n",
      "accuracy: 90.426\n",
      "Finished Predicting\n",
      "elapsed_time: 136.21816158294678\n",
      "Client  1\n",
      "Number of sessions(hdfs_test_normal): 5574\n",
      "Number of sessions(hdfs_test_abnormal): 1139\n"
     ]
    },
    {
     "name": "stderr",
     "output_type": "stream",
     "text": [
      "100%|██████████| 5574/5574 [01:59<00:00, 46.74it/s]\n",
      "100%|██████████| 1139/1139 [00:16<00:00, 70.60it/s]\n"
     ]
    },
    {
     "name": "stdout",
     "output_type": "stream",
     "text": [
      "false positive (FP): 10461, false negative (FN): 26, Precision: 24.207%, Recall: 99.228%, F1-measure: 38.919%\n",
      "actual positive (TP+FN): 3367, actual negative (FP+TN): 110673\n",
      "accuracy: 90.804\n",
      "Finished Predicting\n",
      "elapsed_time: 135.3844883441925\n",
      "Client  2\n",
      "Number of sessions(hdfs_test_normal): 5730\n",
      "Number of sessions(hdfs_test_abnormal): 1118\n"
     ]
    },
    {
     "name": "stderr",
     "output_type": "stream",
     "text": [
      "100%|██████████| 5730/5730 [02:08<00:00, 44.71it/s]\n",
      "100%|██████████| 1118/1118 [00:16<00:00, 69.26it/s]\n"
     ]
    },
    {
     "name": "stdout",
     "output_type": "stream",
     "text": [
      "false positive (FP): 10532, false negative (FN): 26, Precision: 24.083%, Recall: 99.228%, F1-measure: 38.759%\n",
      "actual positive (TP+FN): 3367, actual negative (FP+TN): 110673\n",
      "accuracy: 90.742\n",
      "Finished Predicting\n",
      "elapsed_time: 144.30927729606628\n",
      "Client  3\n",
      "Number of sessions(hdfs_test_normal): 5747\n",
      "Number of sessions(hdfs_test_abnormal): 1159\n"
     ]
    },
    {
     "name": "stderr",
     "output_type": "stream",
     "text": [
      "100%|██████████| 5747/5747 [02:03<00:00, 46.63it/s]\n",
      "100%|██████████| 1159/1159 [00:08<00:00, 140.44it/s]\n"
     ]
    },
    {
     "name": "stdout",
     "output_type": "stream",
     "text": [
      "false positive (FP): 10687, false negative (FN): 24, Precision: 23.828%, Recall: 99.287%, F1-measure: 38.432%\n",
      "actual positive (TP+FN): 3367, actual negative (FP+TN): 110673\n",
      "accuracy: 90.608\n",
      "Finished Predicting\n",
      "elapsed_time: 131.4938404560089\n",
      "Client  4\n",
      "Number of sessions(hdfs_test_normal): 5623\n",
      "Number of sessions(hdfs_test_abnormal): 1121\n"
     ]
    },
    {
     "name": "stderr",
     "output_type": "stream",
     "text": [
      "100%|██████████| 5623/5623 [01:10<00:00, 79.63it/s] \n",
      "100%|██████████| 1121/1121 [00:16<00:00, 68.38it/s]\n"
     ]
    },
    {
     "name": "stdout",
     "output_type": "stream",
     "text": [
      "false positive (FP): 10275, false negative (FN): 26, Precision: 24.537%, Recall: 99.228%, F1-measure: 39.345%\n",
      "actual positive (TP+FN): 3367, actual negative (FP+TN): 110673\n",
      "accuracy: 90.967\n",
      "Finished Predicting\n",
      "elapsed_time: 87.0057361125946\n",
      "============ Train epoch 20 ============\n",
      "Client  0\n",
      "File ../data/hdfs/hdfs_train, number of sessions 971\n",
      "File ../data/hdfs/hdfs_train, number of seqs 9420\n",
      "sampling...\n"
     ]
    },
    {
     "name": "stderr",
     "output_type": "stream",
     "text": [
      "100%|██████████| 1058/1058 [00:00<00:00, 3495.91it/s]\n"
     ]
    },
    {
     "name": "stdout",
     "output_type": "stream",
     "text": [
      "File ../data/hdfs/hdfs_test_normal, number of sessions 110673\n",
      "File ../data/hdfs/hdfs_test_normal, number of seqs 1058\n",
      "Find 9420 train logs, 1058 validation logs\n",
      "Train batch size 2048 ,Validation batch size 2048\n",
      "Starting epoch: 0 | phase: train | ⏰: 03:53:21 | Learning rate: 0.000031\n"
     ]
    },
    {
     "name": "stderr",
     "output_type": "stream",
     "text": [
      "Train loss: 2.87951: 100%|██████████| 5/5 [00:00<00:00, 51.76it/s]\n"
     ]
    },
    {
     "name": "stdout",
     "output_type": "stream",
     "text": [
      "Starting epoch: 0 | phase: valid | ⏰: 03:53:21 \n"
     ]
    },
    {
     "name": "stderr",
     "output_type": "stream",
     "text": [
      ": 100%|██████████| 1/1 [00:00<00:00, 89.78it/s]\n"
     ]
    },
    {
     "name": "stdout",
     "output_type": "stream",
     "text": [
      "Validation loss: 2.8819522857666016\n",
      "Client  1\n",
      "File ../data/hdfs/hdfs_train, number of sessions 971\n",
      "File ../data/hdfs/hdfs_train, number of seqs 9080\n",
      "sampling...\n"
     ]
    },
    {
     "name": "stderr",
     "output_type": "stream",
     "text": [
      "100%|██████████| 1046/1046 [00:00<00:00, 3487.44it/s]\n"
     ]
    },
    {
     "name": "stdout",
     "output_type": "stream",
     "text": [
      "File ../data/hdfs/hdfs_test_normal, number of sessions 110673\n",
      "File ../data/hdfs/hdfs_test_normal, number of seqs 1046\n",
      "Find 9080 train logs, 1046 validation logs\n",
      "Train batch size 2048 ,Validation batch size 2048\n",
      "Starting epoch: 0 | phase: train | ⏰: 03:53:33 | Learning rate: 0.000031\n"
     ]
    },
    {
     "name": "stderr",
     "output_type": "stream",
     "text": [
      "Train loss: 2.87799: 100%|██████████| 5/5 [00:00<00:00, 50.58it/s]\n"
     ]
    },
    {
     "name": "stdout",
     "output_type": "stream",
     "text": [
      "Starting epoch: 0 | phase: valid | ⏰: 03:53:33 \n"
     ]
    },
    {
     "name": "stderr",
     "output_type": "stream",
     "text": [
      ": 100%|██████████| 1/1 [00:00<00:00, 97.26it/s]\n"
     ]
    },
    {
     "name": "stdout",
     "output_type": "stream",
     "text": [
      "Validation loss: 2.8751888275146484\n",
      "Client  2\n",
      "File ../data/hdfs/hdfs_train, number of sessions 971\n",
      "File ../data/hdfs/hdfs_train, number of seqs 9485\n",
      "sampling...\n"
     ]
    },
    {
     "name": "stderr",
     "output_type": "stream",
     "text": [
      "100%|██████████| 1051/1051 [00:00<00:00, 3503.88it/s]\n"
     ]
    },
    {
     "name": "stdout",
     "output_type": "stream",
     "text": [
      "File ../data/hdfs/hdfs_test_normal, number of sessions 110673\n",
      "File ../data/hdfs/hdfs_test_normal, number of seqs 1051\n",
      "Find 9485 train logs, 1051 validation logs\n",
      "Train batch size 2048 ,Validation batch size 2048\n",
      "Starting epoch: 0 | phase: train | ⏰: 03:53:45 | Learning rate: 0.000031\n"
     ]
    },
    {
     "name": "stderr",
     "output_type": "stream",
     "text": [
      "Train loss: 2.88626: 100%|██████████| 5/5 [00:00<00:00, 53.73it/s]\n"
     ]
    },
    {
     "name": "stdout",
     "output_type": "stream",
     "text": [
      "Starting epoch: 0 | phase: valid | ⏰: 03:53:45 \n"
     ]
    },
    {
     "name": "stderr",
     "output_type": "stream",
     "text": [
      ": 100%|██████████| 1/1 [00:00<00:00, 93.37it/s]\n"
     ]
    },
    {
     "name": "stdout",
     "output_type": "stream",
     "text": [
      "Validation loss: 2.8750975131988525\n",
      "Client  3\n",
      "File ../data/hdfs/hdfs_train, number of sessions 971\n",
      "File ../data/hdfs/hdfs_train, number of seqs 9267\n",
      "sampling...\n"
     ]
    },
    {
     "name": "stderr",
     "output_type": "stream",
     "text": [
      "100%|██████████| 1057/1057 [00:00<00:00, 3531.93it/s]\n"
     ]
    },
    {
     "name": "stdout",
     "output_type": "stream",
     "text": [
      "File ../data/hdfs/hdfs_test_normal, number of sessions 110673\n",
      "File ../data/hdfs/hdfs_test_normal, number of seqs 1057\n",
      "Find 9267 train logs, 1057 validation logs\n",
      "Train batch size 2048 ,Validation batch size 2048\n",
      "Starting epoch: 0 | phase: train | ⏰: 03:53:56 | Learning rate: 0.000031\n"
     ]
    },
    {
     "name": "stderr",
     "output_type": "stream",
     "text": [
      "Train loss: 2.87768: 100%|██████████| 5/5 [00:00<00:00, 54.80it/s]\n"
     ]
    },
    {
     "name": "stdout",
     "output_type": "stream",
     "text": [
      "Starting epoch: 0 | phase: valid | ⏰: 03:53:57 \n"
     ]
    },
    {
     "name": "stderr",
     "output_type": "stream",
     "text": [
      ": 100%|██████████| 1/1 [00:00<00:00, 97.36it/s]\n"
     ]
    },
    {
     "name": "stdout",
     "output_type": "stream",
     "text": [
      "Validation loss: 2.8791232109069824\n",
      "Client  4\n",
      "File ../data/hdfs/hdfs_train, number of sessions 971\n",
      "File ../data/hdfs/hdfs_train, number of seqs 9323\n",
      "sampling...\n"
     ]
    },
    {
     "name": "stderr",
     "output_type": "stream",
     "text": [
      "100%|██████████| 1044/1044 [00:00<00:00, 3673.68it/s]\n"
     ]
    },
    {
     "name": "stdout",
     "output_type": "stream",
     "text": [
      "File ../data/hdfs/hdfs_test_normal, number of sessions 110673\n",
      "File ../data/hdfs/hdfs_test_normal, number of seqs 1044\n",
      "Find 9323 train logs, 1044 validation logs\n",
      "Train batch size 2048 ,Validation batch size 2048\n",
      "Starting epoch: 0 | phase: train | ⏰: 03:54:08 | Learning rate: 0.000031\n"
     ]
    },
    {
     "name": "stderr",
     "output_type": "stream",
     "text": [
      "Train loss: 2.87675: 100%|██████████| 5/5 [00:00<00:00, 54.69it/s]\n"
     ]
    },
    {
     "name": "stdout",
     "output_type": "stream",
     "text": [
      "Starting epoch: 0 | phase: valid | ⏰: 03:54:08 \n"
     ]
    },
    {
     "name": "stderr",
     "output_type": "stream",
     "text": [
      ": 100%|██████████| 1/1 [00:00<00:00, 100.29it/s]\n"
     ]
    },
    {
     "name": "stdout",
     "output_type": "stream",
     "text": [
      "Validation loss: 2.882511615753174\n",
      "============ Test epoch 20 ============\n",
      "Client  0\n",
      "Number of sessions(hdfs_test_normal): 5813\n",
      "Number of sessions(hdfs_test_abnormal): 1136\n"
     ]
    },
    {
     "name": "stderr",
     "output_type": "stream",
     "text": [
      "100%|██████████| 5813/5813 [02:24<00:00, 40.21it/s]\n",
      "100%|██████████| 1136/1136 [00:16<00:00, 69.21it/s]\n"
     ]
    },
    {
     "name": "stdout",
     "output_type": "stream",
     "text": [
      "false positive (FP): 7900, false negative (FN): 22, Precision: 29.747%, Recall: 99.347%, F1-measure: 45.784%\n",
      "actual positive (TP+FN): 3367, actual negative (FP+TN): 110673\n",
      "accuracy: 93.053\n",
      "Finished Predicting\n",
      "elapsed_time: 160.9909212589264\n",
      "Client  1\n",
      "Number of sessions(hdfs_test_normal): 5574\n",
      "Number of sessions(hdfs_test_abnormal): 1139\n"
     ]
    },
    {
     "name": "stderr",
     "output_type": "stream",
     "text": [
      "100%|██████████| 5574/5574 [02:09<00:00, 42.92it/s]\n",
      "100%|██████████| 1139/1139 [00:13<00:00, 84.56it/s]\n"
     ]
    },
    {
     "name": "stdout",
     "output_type": "stream",
     "text": [
      "false positive (FP): 7553, false negative (FN): 26, Precision: 30.668%, Recall: 99.228%, F1-measure: 46.855%\n",
      "actual positive (TP+FN): 3367, actual negative (FP+TN): 110673\n",
      "accuracy: 93.354\n",
      "Finished Predicting\n",
      "elapsed_time: 143.33497667312622\n",
      "Client  2\n",
      "Number of sessions(hdfs_test_normal): 5730\n",
      "Number of sessions(hdfs_test_abnormal): 1118\n"
     ]
    },
    {
     "name": "stderr",
     "output_type": "stream",
     "text": [
      "100%|██████████| 5730/5730 [02:17<00:00, 41.55it/s]\n",
      "100%|██████████| 1118/1118 [00:16<00:00, 66.49it/s]\n"
     ]
    },
    {
     "name": "stdout",
     "output_type": "stream",
     "text": [
      "false positive (FP): 7702, false negative (FN): 26, Precision: 30.254%, Recall: 99.228%, F1-measure: 46.371%\n",
      "actual positive (TP+FN): 3367, actual negative (FP+TN): 110673\n",
      "accuracy: 93.223\n",
      "Finished Predicting\n",
      "elapsed_time: 154.71596121788025\n",
      "Client  3\n",
      "Number of sessions(hdfs_test_normal): 5747\n",
      "Number of sessions(hdfs_test_abnormal): 1159\n"
     ]
    },
    {
     "name": "stderr",
     "output_type": "stream",
     "text": [
      "100%|██████████| 5747/5747 [01:54<00:00, 50.30it/s]\n",
      "100%|██████████| 1159/1159 [00:17<00:00, 65.71it/s]\n"
     ]
    },
    {
     "name": "stdout",
     "output_type": "stream",
     "text": [
      "false positive (FP): 7613, false negative (FN): 24, Precision: 30.513%, Recall: 99.287%, F1-measure: 46.680%\n",
      "actual positive (TP+FN): 3367, actual negative (FP+TN): 110673\n",
      "accuracy: 93.303\n",
      "Finished Predicting\n",
      "elapsed_time: 131.89203214645386\n",
      "Client  4\n",
      "Number of sessions(hdfs_test_normal): 5623\n",
      "Number of sessions(hdfs_test_abnormal): 1121\n"
     ]
    },
    {
     "name": "stderr",
     "output_type": "stream",
     "text": [
      "100%|██████████| 5623/5623 [02:13<00:00, 42.00it/s]\n",
      "100%|██████████| 1121/1121 [00:12<00:00, 87.84it/s]\n"
     ]
    },
    {
     "name": "stdout",
     "output_type": "stream",
     "text": [
      "false positive (FP): 7471, false negative (FN): 28, Precision: 30.888%, Recall: 99.168%, F1-measure: 47.104%\n",
      "actual positive (TP+FN): 3367, actual negative (FP+TN): 110673\n",
      "accuracy: 93.424\n",
      "Finished Predicting\n",
      "elapsed_time: 146.6532416343689\n",
      "============ Train epoch 21 ============\n",
      "Client  0\n",
      "File ../data/hdfs/hdfs_train, number of sessions 971\n",
      "File ../data/hdfs/hdfs_train, number of seqs 9420\n",
      "sampling...\n"
     ]
    },
    {
     "name": "stderr",
     "output_type": "stream",
     "text": [
      "100%|██████████| 1058/1058 [00:00<00:00, 3405.95it/s]\n"
     ]
    },
    {
     "name": "stdout",
     "output_type": "stream",
     "text": [
      "File ../data/hdfs/hdfs_test_normal, number of sessions 110673\n",
      "File ../data/hdfs/hdfs_test_normal, number of seqs 1058\n",
      "Find 9420 train logs, 1058 validation logs\n",
      "Train batch size 2048 ,Validation batch size 2048\n",
      "Starting epoch: 0 | phase: train | ⏰: 04:06:41 | Learning rate: 0.000031\n"
     ]
    },
    {
     "name": "stderr",
     "output_type": "stream",
     "text": [
      "Train loss: 2.83088: 100%|██████████| 5/5 [00:00<00:00, 53.11it/s]\n"
     ]
    },
    {
     "name": "stdout",
     "output_type": "stream",
     "text": [
      "Starting epoch: 0 | phase: valid | ⏰: 04:06:41 \n"
     ]
    },
    {
     "name": "stderr",
     "output_type": "stream",
     "text": [
      ": 100%|██████████| 1/1 [00:00<00:00, 99.53it/s]\n"
     ]
    },
    {
     "name": "stdout",
     "output_type": "stream",
     "text": [
      "Validation loss: 2.817692995071411\n",
      "Client  1\n",
      "File ../data/hdfs/hdfs_train, number of sessions 971\n",
      "File ../data/hdfs/hdfs_train, number of seqs 9080\n",
      "sampling...\n"
     ]
    },
    {
     "name": "stderr",
     "output_type": "stream",
     "text": [
      "100%|██████████| 1046/1046 [00:00<00:00, 3529.71it/s]\n"
     ]
    },
    {
     "name": "stdout",
     "output_type": "stream",
     "text": [
      "File ../data/hdfs/hdfs_test_normal, number of sessions 110673\n",
      "File ../data/hdfs/hdfs_test_normal, number of seqs 1046\n",
      "Find 9080 train logs, 1046 validation logs\n",
      "Train batch size 2048 ,Validation batch size 2048\n",
      "Starting epoch: 0 | phase: train | ⏰: 04:06:52 | Learning rate: 0.000031\n"
     ]
    },
    {
     "name": "stderr",
     "output_type": "stream",
     "text": [
      "Train loss: 2.83034: 100%|██████████| 5/5 [00:00<00:00, 55.29it/s]\n"
     ]
    },
    {
     "name": "stdout",
     "output_type": "stream",
     "text": [
      "Starting epoch: 0 | phase: valid | ⏰: 04:06:53 \n"
     ]
    },
    {
     "name": "stderr",
     "output_type": "stream",
     "text": [
      ": 100%|██████████| 1/1 [00:00<00:00, 100.53it/s]\n"
     ]
    },
    {
     "name": "stdout",
     "output_type": "stream",
     "text": [
      "Validation loss: 2.8271517753601074\n",
      "Client  2\n",
      "File ../data/hdfs/hdfs_train, number of sessions 971\n",
      "File ../data/hdfs/hdfs_train, number of seqs 9485\n",
      "sampling...\n"
     ]
    },
    {
     "name": "stderr",
     "output_type": "stream",
     "text": [
      "100%|██████████| 1051/1051 [00:00<00:00, 3416.26it/s]\n"
     ]
    },
    {
     "name": "stdout",
     "output_type": "stream",
     "text": [
      "File ../data/hdfs/hdfs_test_normal, number of sessions 110673\n",
      "File ../data/hdfs/hdfs_test_normal, number of seqs 1051\n",
      "Find 9485 train logs, 1051 validation logs\n",
      "Train batch size 2048 ,Validation batch size 2048\n",
      "Starting epoch: 0 | phase: train | ⏰: 04:07:04 | Learning rate: 0.000031\n"
     ]
    },
    {
     "name": "stderr",
     "output_type": "stream",
     "text": [
      "Train loss: 2.83669: 100%|██████████| 5/5 [00:00<00:00, 52.76it/s]\n"
     ]
    },
    {
     "name": "stdout",
     "output_type": "stream",
     "text": [
      "Starting epoch: 0 | phase: valid | ⏰: 04:07:04 \n"
     ]
    },
    {
     "name": "stderr",
     "output_type": "stream",
     "text": [
      ": 100%|██████████| 1/1 [00:00<00:00, 93.99it/s]"
     ]
    },
    {
     "name": "stdout",
     "output_type": "stream",
     "text": [
      "Validation loss: 2.817807197570801\n",
      "Client  3\n"
     ]
    },
    {
     "name": "stderr",
     "output_type": "stream",
     "text": [
      "\n"
     ]
    },
    {
     "name": "stdout",
     "output_type": "stream",
     "text": [
      "File ../data/hdfs/hdfs_train, number of sessions 971\n",
      "File ../data/hdfs/hdfs_train, number of seqs 9267\n",
      "sampling...\n"
     ]
    },
    {
     "name": "stderr",
     "output_type": "stream",
     "text": [
      "100%|██████████| 1057/1057 [00:00<00:00, 3419.28it/s]\n"
     ]
    },
    {
     "name": "stdout",
     "output_type": "stream",
     "text": [
      "File ../data/hdfs/hdfs_test_normal, number of sessions 110673\n",
      "File ../data/hdfs/hdfs_test_normal, number of seqs 1057\n",
      "Find 9267 train logs, 1057 validation logs\n",
      "Train batch size 2048 ,Validation batch size 2048\n",
      "Starting epoch: 0 | phase: train | ⏰: 04:07:16 | Learning rate: 0.000031\n"
     ]
    },
    {
     "name": "stderr",
     "output_type": "stream",
     "text": [
      "Train loss: 2.82872: 100%|██████████| 5/5 [00:00<00:00, 52.85it/s]\n"
     ]
    },
    {
     "name": "stdout",
     "output_type": "stream",
     "text": [
      "Starting epoch: 0 | phase: valid | ⏰: 04:07:16 \n"
     ]
    },
    {
     "name": "stderr",
     "output_type": "stream",
     "text": [
      ": 100%|██████████| 1/1 [00:00<00:00, 100.97it/s]\n"
     ]
    },
    {
     "name": "stdout",
     "output_type": "stream",
     "text": [
      "Validation loss: 2.8284575939178467\n",
      "Client  4\n",
      "File ../data/hdfs/hdfs_train, number of sessions 971\n",
      "File ../data/hdfs/hdfs_train, number of seqs 9323\n",
      "sampling...\n"
     ]
    },
    {
     "name": "stderr",
     "output_type": "stream",
     "text": [
      "100%|██████████| 1044/1044 [00:00<00:00, 3623.94it/s]\n"
     ]
    },
    {
     "name": "stdout",
     "output_type": "stream",
     "text": [
      "File ../data/hdfs/hdfs_test_normal, number of sessions 110673\n",
      "File ../data/hdfs/hdfs_test_normal, number of seqs 1044\n",
      "Find 9323 train logs, 1044 validation logs\n",
      "Train batch size 2048 ,Validation batch size 2048\n",
      "Starting epoch: 0 | phase: train | ⏰: 04:07:28 | Learning rate: 0.000031\n"
     ]
    },
    {
     "name": "stderr",
     "output_type": "stream",
     "text": [
      "Train loss: 2.82750: 100%|██████████| 5/5 [00:00<00:00, 53.66it/s]\n"
     ]
    },
    {
     "name": "stdout",
     "output_type": "stream",
     "text": [
      "Starting epoch: 0 | phase: valid | ⏰: 04:07:28 \n"
     ]
    },
    {
     "name": "stderr",
     "output_type": "stream",
     "text": [
      ": 100%|██████████| 1/1 [00:00<00:00, 92.02it/s]\n"
     ]
    },
    {
     "name": "stdout",
     "output_type": "stream",
     "text": [
      "Validation loss: 2.8161656856536865\n",
      "============ Test epoch 21 ============\n",
      "Client  0\n",
      "Number of sessions(hdfs_test_normal): 5813\n",
      "Number of sessions(hdfs_test_abnormal): 1136\n"
     ]
    },
    {
     "name": "stderr",
     "output_type": "stream",
     "text": [
      "100%|██████████| 5813/5813 [02:36<00:00, 37.12it/s]\n",
      "100%|██████████| 1136/1136 [00:17<00:00, 65.74it/s]\n"
     ]
    },
    {
     "name": "stdout",
     "output_type": "stream",
     "text": [
      "false positive (FP): 6872, false negative (FN): 22, Precision: 32.740%, Recall: 99.347%, F1-measure: 49.249%\n",
      "actual positive (TP+FN): 3367, actual negative (FP+TN): 110673\n",
      "accuracy: 93.955\n",
      "Finished Predicting\n",
      "elapsed_time: 173.86494374275208\n",
      "Client  1\n",
      "Number of sessions(hdfs_test_normal): 5574\n",
      "Number of sessions(hdfs_test_abnormal): 1139\n"
     ]
    },
    {
     "name": "stderr",
     "output_type": "stream",
     "text": [
      "100%|██████████| 5574/5574 [02:28<00:00, 37.55it/s]\n",
      "100%|██████████| 1139/1139 [00:17<00:00, 63.56it/s]\n"
     ]
    },
    {
     "name": "stdout",
     "output_type": "stream",
     "text": [
      "false positive (FP): 6628, false negative (FN): 26, Precision: 33.514%, Recall: 99.228%, F1-measure: 50.105%\n",
      "actual positive (TP+FN): 3367, actual negative (FP+TN): 110673\n",
      "accuracy: 94.165\n",
      "Finished Predicting\n",
      "elapsed_time: 166.3764727115631\n",
      "Client  2\n",
      "Number of sessions(hdfs_test_normal): 5730\n",
      "Number of sessions(hdfs_test_abnormal): 1118\n"
     ]
    },
    {
     "name": "stderr",
     "output_type": "stream",
     "text": [
      "100%|██████████| 5730/5730 [02:17<00:00, 41.53it/s]\n",
      "100%|██████████| 1118/1118 [00:13<00:00, 85.59it/s] \n"
     ]
    },
    {
     "name": "stdout",
     "output_type": "stream",
     "text": [
      "false positive (FP): 6711, false negative (FN): 26, Precision: 33.237%, Recall: 99.228%, F1-measure: 49.795%\n",
      "actual positive (TP+FN): 3367, actual negative (FP+TN): 110673\n",
      "accuracy: 94.092\n",
      "Finished Predicting\n",
      "elapsed_time: 151.04575848579407\n",
      "Client  3\n",
      "Number of sessions(hdfs_test_normal): 5747\n",
      "Number of sessions(hdfs_test_abnormal): 1159\n"
     ]
    },
    {
     "name": "stderr",
     "output_type": "stream",
     "text": [
      "100%|██████████| 5747/5747 [02:10<00:00, 44.16it/s]\n",
      "100%|██████████| 1159/1159 [00:18<00:00, 63.79it/s]\n"
     ]
    },
    {
     "name": "stdout",
     "output_type": "stream",
     "text": [
      "false positive (FP): 6610, false negative (FN): 24, Precision: 33.588%, Recall: 99.287%, F1-measure: 50.195%\n",
      "actual positive (TP+FN): 3367, actual negative (FP+TN): 110673\n",
      "accuracy: 94.183\n",
      "Finished Predicting\n",
      "elapsed_time: 148.324378490448\n",
      "Client  4\n",
      "Number of sessions(hdfs_test_normal): 5623\n",
      "Number of sessions(hdfs_test_abnormal): 1121\n"
     ]
    },
    {
     "name": "stderr",
     "output_type": "stream",
     "text": [
      "100%|██████████| 5623/5623 [02:29<00:00, 37.66it/s]\n",
      "100%|██████████| 1121/1121 [00:17<00:00, 63.84it/s]\n"
     ]
    },
    {
     "name": "stdout",
     "output_type": "stream",
     "text": [
      "false positive (FP): 6529, false negative (FN): 29, Precision: 33.830%, Recall: 99.139%, F1-measure: 50.446%\n",
      "actual positive (TP+FN): 3367, actual negative (FP+TN): 110673\n",
      "accuracy: 94.249\n",
      "Finished Predicting\n",
      "elapsed_time: 166.8784956932068\n",
      "============ Train epoch 22 ============\n",
      "Client  0\n",
      "File ../data/hdfs/hdfs_train, number of sessions 971\n",
      "File ../data/hdfs/hdfs_train, number of seqs 9420\n",
      "sampling...\n"
     ]
    },
    {
     "name": "stderr",
     "output_type": "stream",
     "text": [
      "100%|██████████| 1058/1058 [00:00<00:00, 3266.98it/s]\n"
     ]
    },
    {
     "name": "stdout",
     "output_type": "stream",
     "text": [
      "File ../data/hdfs/hdfs_test_normal, number of sessions 110673\n",
      "File ../data/hdfs/hdfs_test_normal, number of seqs 1058\n",
      "Find 9420 train logs, 1058 validation logs\n",
      "Train batch size 2048 ,Validation batch size 2048\n",
      "Starting epoch: 0 | phase: train | ⏰: 04:21:09 | Learning rate: 0.000031\n"
     ]
    },
    {
     "name": "stderr",
     "output_type": "stream",
     "text": [
      "Train loss: 2.77843: 100%|██████████| 5/5 [00:00<00:00, 54.45it/s]\n"
     ]
    },
    {
     "name": "stdout",
     "output_type": "stream",
     "text": [
      "Starting epoch: 0 | phase: valid | ⏰: 04:21:09 \n"
     ]
    },
    {
     "name": "stderr",
     "output_type": "stream",
     "text": [
      ": 100%|██████████| 1/1 [00:00<00:00, 93.93it/s]"
     ]
    },
    {
     "name": "stdout",
     "output_type": "stream",
     "text": [
      "Validation loss: 2.78291916847229\n",
      "Client  1\n"
     ]
    },
    {
     "name": "stderr",
     "output_type": "stream",
     "text": [
      "\n"
     ]
    },
    {
     "name": "stdout",
     "output_type": "stream",
     "text": [
      "File ../data/hdfs/hdfs_train, number of sessions 971\n",
      "File ../data/hdfs/hdfs_train, number of seqs 9080\n",
      "sampling...\n"
     ]
    },
    {
     "name": "stderr",
     "output_type": "stream",
     "text": [
      "100%|██████████| 1046/1046 [00:00<00:00, 3517.88it/s]\n"
     ]
    },
    {
     "name": "stdout",
     "output_type": "stream",
     "text": [
      "File ../data/hdfs/hdfs_test_normal, number of sessions 110673\n",
      "File ../data/hdfs/hdfs_test_normal, number of seqs 1046\n",
      "Find 9080 train logs, 1046 validation logs\n",
      "Train batch size 2048 ,Validation batch size 2048\n",
      "Starting epoch: 0 | phase: train | ⏰: 04:21:21 | Learning rate: 0.000031\n"
     ]
    },
    {
     "name": "stderr",
     "output_type": "stream",
     "text": [
      "Train loss: 2.77886: 100%|██████████| 5/5 [00:00<00:00, 54.45it/s]\n"
     ]
    },
    {
     "name": "stdout",
     "output_type": "stream",
     "text": [
      "Starting epoch: 0 | phase: valid | ⏰: 04:21:21 \n"
     ]
    },
    {
     "name": "stderr",
     "output_type": "stream",
     "text": [
      ": 100%|██████████| 1/1 [00:00<00:00, 97.01it/s]\n"
     ]
    },
    {
     "name": "stdout",
     "output_type": "stream",
     "text": [
      "Validation loss: 2.7773842811584473\n",
      "Client  2\n",
      "File ../data/hdfs/hdfs_train, number of sessions 971\n",
      "File ../data/hdfs/hdfs_train, number of seqs 9485\n",
      "sampling...\n"
     ]
    },
    {
     "name": "stderr",
     "output_type": "stream",
     "text": [
      "100%|██████████| 1051/1051 [00:00<00:00, 3490.93it/s]\n"
     ]
    },
    {
     "name": "stdout",
     "output_type": "stream",
     "text": [
      "File ../data/hdfs/hdfs_test_normal, number of sessions 110673\n",
      "File ../data/hdfs/hdfs_test_normal, number of seqs 1051\n",
      "Find 9485 train logs, 1051 validation logs\n",
      "Train batch size 2048 ,Validation batch size 2048\n",
      "Starting epoch: 0 | phase: train | ⏰: 04:21:33 | Learning rate: 0.000031\n"
     ]
    },
    {
     "name": "stderr",
     "output_type": "stream",
     "text": [
      "Train loss: 2.78473: 100%|██████████| 5/5 [00:00<00:00, 53.86it/s]\n"
     ]
    },
    {
     "name": "stdout",
     "output_type": "stream",
     "text": [
      "Starting epoch: 0 | phase: valid | ⏰: 04:21:33 \n"
     ]
    },
    {
     "name": "stderr",
     "output_type": "stream",
     "text": [
      ": 100%|██████████| 1/1 [00:00<00:00, 100.17it/s]\n"
     ]
    },
    {
     "name": "stdout",
     "output_type": "stream",
     "text": [
      "Validation loss: 2.7736024856567383\n",
      "Client  3\n",
      "File ../data/hdfs/hdfs_train, number of sessions 971\n",
      "File ../data/hdfs/hdfs_train, number of seqs 9267\n",
      "sampling...\n"
     ]
    },
    {
     "name": "stderr",
     "output_type": "stream",
     "text": [
      "100%|██████████| 1057/1057 [00:00<00:00, 3346.82it/s]\n"
     ]
    },
    {
     "name": "stdout",
     "output_type": "stream",
     "text": [
      "File ../data/hdfs/hdfs_test_normal, number of sessions 110673\n",
      "File ../data/hdfs/hdfs_test_normal, number of seqs 1057\n",
      "Find 9267 train logs, 1057 validation logs\n",
      "Train batch size 2048 ,Validation batch size 2048\n",
      "Starting epoch: 0 | phase: train | ⏰: 04:21:45 | Learning rate: 0.000031\n"
     ]
    },
    {
     "name": "stderr",
     "output_type": "stream",
     "text": [
      "Train loss: 2.77687: 100%|██████████| 5/5 [00:00<00:00, 50.68it/s]\n"
     ]
    },
    {
     "name": "stdout",
     "output_type": "stream",
     "text": [
      "Starting epoch: 0 | phase: valid | ⏰: 04:21:45 \n"
     ]
    },
    {
     "name": "stderr",
     "output_type": "stream",
     "text": [
      ": 100%|██████████| 1/1 [00:00<00:00, 85.81it/s]\n"
     ]
    },
    {
     "name": "stdout",
     "output_type": "stream",
     "text": [
      "Validation loss: 2.762491226196289\n",
      "Client  4\n",
      "File ../data/hdfs/hdfs_train, number of sessions 971\n",
      "File ../data/hdfs/hdfs_train, number of seqs 9323\n",
      "sampling...\n"
     ]
    },
    {
     "name": "stderr",
     "output_type": "stream",
     "text": [
      "100%|██████████| 1044/1044 [00:00<00:00, 3334.52it/s]\n"
     ]
    },
    {
     "name": "stdout",
     "output_type": "stream",
     "text": [
      "File ../data/hdfs/hdfs_test_normal, number of sessions 110673\n",
      "File ../data/hdfs/hdfs_test_normal, number of seqs 1044\n",
      "Find 9323 train logs, 1044 validation logs\n",
      "Train batch size 2048 ,Validation batch size 2048\n",
      "Starting epoch: 0 | phase: train | ⏰: 04:21:57 | Learning rate: 0.000031\n"
     ]
    },
    {
     "name": "stderr",
     "output_type": "stream",
     "text": [
      "Train loss: 2.77439: 100%|██████████| 5/5 [00:00<00:00, 49.10it/s]\n"
     ]
    },
    {
     "name": "stdout",
     "output_type": "stream",
     "text": [
      "Starting epoch: 0 | phase: valid | ⏰: 04:21:57 \n"
     ]
    },
    {
     "name": "stderr",
     "output_type": "stream",
     "text": [
      ": 100%|██████████| 1/1 [00:00<00:00, 91.01it/s]\n"
     ]
    },
    {
     "name": "stdout",
     "output_type": "stream",
     "text": [
      "Validation loss: 2.7531039714813232\n",
      "============ Test epoch 22 ============\n",
      "Client  0\n",
      "Number of sessions(hdfs_test_normal): 5813\n",
      "Number of sessions(hdfs_test_abnormal): 1136\n"
     ]
    },
    {
     "name": "stderr",
     "output_type": "stream",
     "text": [
      "100%|██████████| 5813/5813 [03:01<00:00, 31.95it/s]\n",
      "100%|██████████| 1136/1136 [00:18<00:00, 60.86it/s]\n"
     ]
    },
    {
     "name": "stdout",
     "output_type": "stream",
     "text": [
      "false positive (FP): 495, false negative (FN): 24, Precision: 87.103%, Recall: 99.287%, F1-measure: 92.797%\n",
      "actual positive (TP+FN): 3367, actual negative (FP+TN): 110673\n",
      "accuracy: 99.545\n",
      "Finished Predicting\n",
      "elapsed_time: 200.62478113174438\n",
      "Client  1\n",
      "Number of sessions(hdfs_test_normal): 5574\n",
      "Number of sessions(hdfs_test_abnormal): 1139\n"
     ]
    },
    {
     "name": "stderr",
     "output_type": "stream",
     "text": [
      "100%|██████████| 5574/5574 [02:25<00:00, 38.18it/s]\n",
      "100%|██████████| 1139/1139 [00:19<00:00, 58.19it/s]\n"
     ]
    },
    {
     "name": "stdout",
     "output_type": "stream",
     "text": [
      "false positive (FP): 534, false negative (FN): 26, Precision: 86.219%, Recall: 99.228%, F1-measure: 92.267%\n",
      "actual positive (TP+FN): 3367, actual negative (FP+TN): 110673\n",
      "accuracy: 99.509\n",
      "Finished Predicting\n",
      "elapsed_time: 165.56658411026\n",
      "Client  2\n",
      "Number of sessions(hdfs_test_normal): 5730\n",
      "Number of sessions(hdfs_test_abnormal): 1118\n"
     ]
    },
    {
     "name": "stderr",
     "output_type": "stream",
     "text": [
      "100%|██████████| 5730/5730 [02:46<00:00, 34.47it/s]\n",
      "100%|██████████| 1118/1118 [00:19<00:00, 58.02it/s]\n"
     ]
    },
    {
     "name": "stdout",
     "output_type": "stream",
     "text": [
      "false positive (FP): 471, false negative (FN): 30, Precision: 87.631%, Recall: 99.109%, F1-measure: 93.017%\n",
      "actual positive (TP+FN): 3367, actual negative (FP+TN): 110673\n",
      "accuracy: 99.561\n",
      "Finished Predicting\n",
      "elapsed_time: 185.51845574378967\n",
      "Client  3\n",
      "Number of sessions(hdfs_test_normal): 5747\n",
      "Number of sessions(hdfs_test_abnormal): 1159\n"
     ]
    },
    {
     "name": "stderr",
     "output_type": "stream",
     "text": [
      "100%|██████████| 5747/5747 [03:01<00:00, 31.62it/s]\n",
      "100%|██████████| 1159/1159 [00:20<00:00, 57.82it/s]\n"
     ]
    },
    {
     "name": "stdout",
     "output_type": "stream",
     "text": [
      "false positive (FP): 454, false negative (FN): 28, Precision: 88.031%, Recall: 99.168%, F1-measure: 93.268%\n",
      "actual positive (TP+FN): 3367, actual negative (FP+TN): 110673\n",
      "accuracy: 99.577\n",
      "Finished Predicting\n",
      "elapsed_time: 201.81040716171265\n",
      "Client  4\n",
      "Number of sessions(hdfs_test_normal): 5623\n",
      "Number of sessions(hdfs_test_abnormal): 1121\n"
     ]
    },
    {
     "name": "stderr",
     "output_type": "stream",
     "text": [
      "100%|██████████| 5623/5623 [02:42<00:00, 34.52it/s]\n",
      "100%|██████████| 1121/1121 [00:16<00:00, 68.11it/s]\n"
     ]
    },
    {
     "name": "stdout",
     "output_type": "stream",
     "text": [
      "false positive (FP): 527, false negative (FN): 32, Precision: 86.354%, Recall: 99.050%, F1-measure: 92.267%\n",
      "actual positive (TP+FN): 3367, actual negative (FP+TN): 110673\n",
      "accuracy: 99.510\n",
      "Finished Predicting\n",
      "elapsed_time: 179.33111691474915\n",
      "============ Train epoch 23 ============\n",
      "Client  0\n",
      "File ../data/hdfs/hdfs_train, number of sessions 971\n",
      "File ../data/hdfs/hdfs_train, number of seqs 9420\n",
      "sampling...\n"
     ]
    },
    {
     "name": "stderr",
     "output_type": "stream",
     "text": [
      "100%|██████████| 1058/1058 [00:00<00:00, 3608.39it/s]\n"
     ]
    },
    {
     "name": "stdout",
     "output_type": "stream",
     "text": [
      "File ../data/hdfs/hdfs_test_normal, number of sessions 110673\n",
      "File ../data/hdfs/hdfs_test_normal, number of seqs 1058\n",
      "Find 9420 train logs, 1058 validation logs\n",
      "Train batch size 2048 ,Validation batch size 2048\n",
      "Starting epoch: 0 | phase: train | ⏰: 04:37:44 | Learning rate: 0.000031\n"
     ]
    },
    {
     "name": "stderr",
     "output_type": "stream",
     "text": [
      "Train loss: 2.72294: 100%|██████████| 5/5 [00:00<00:00, 53.97it/s]\n"
     ]
    },
    {
     "name": "stdout",
     "output_type": "stream",
     "text": [
      "Starting epoch: 0 | phase: valid | ⏰: 04:37:45 \n"
     ]
    },
    {
     "name": "stderr",
     "output_type": "stream",
     "text": [
      ": 100%|██████████| 1/1 [00:00<00:00, 103.00it/s]\n"
     ]
    },
    {
     "name": "stdout",
     "output_type": "stream",
     "text": [
      "Validation loss: 2.7283475399017334\n",
      "Client  1\n",
      "File ../data/hdfs/hdfs_train, number of sessions 971\n",
      "File ../data/hdfs/hdfs_train, number of seqs 9080\n",
      "sampling...\n"
     ]
    },
    {
     "name": "stderr",
     "output_type": "stream",
     "text": [
      "100%|██████████| 1046/1046 [00:00<00:00, 3599.58it/s]\n"
     ]
    },
    {
     "name": "stdout",
     "output_type": "stream",
     "text": [
      "File ../data/hdfs/hdfs_test_normal, number of sessions 110673\n",
      "File ../data/hdfs/hdfs_test_normal, number of seqs 1046\n",
      "Find 9080 train logs, 1046 validation logs\n",
      "Train batch size 2048 ,Validation batch size 2048\n",
      "Starting epoch: 0 | phase: train | ⏰: 04:37:56 | Learning rate: 0.000031\n"
     ]
    },
    {
     "name": "stderr",
     "output_type": "stream",
     "text": [
      "Train loss: 2.72304: 100%|██████████| 5/5 [00:00<00:00, 54.43it/s]\n"
     ]
    },
    {
     "name": "stdout",
     "output_type": "stream",
     "text": [
      "Starting epoch: 0 | phase: valid | ⏰: 04:37:56 \n"
     ]
    },
    {
     "name": "stderr",
     "output_type": "stream",
     "text": [
      ": 100%|██████████| 1/1 [00:00<00:00, 100.42it/s]\n"
     ]
    },
    {
     "name": "stdout",
     "output_type": "stream",
     "text": [
      "Validation loss: 2.7145113945007324\n",
      "Client  2\n",
      "File ../data/hdfs/hdfs_train, number of sessions 971\n",
      "File ../data/hdfs/hdfs_train, number of seqs 9485\n",
      "sampling...\n"
     ]
    },
    {
     "name": "stderr",
     "output_type": "stream",
     "text": [
      "100%|██████████| 1051/1051 [00:00<00:00, 3441.20it/s]\n"
     ]
    },
    {
     "name": "stdout",
     "output_type": "stream",
     "text": [
      "File ../data/hdfs/hdfs_test_normal, number of sessions 110673\n",
      "File ../data/hdfs/hdfs_test_normal, number of seqs 1051\n",
      "Find 9485 train logs, 1051 validation logs\n",
      "Train batch size 2048 ,Validation batch size 2048\n",
      "Starting epoch: 0 | phase: train | ⏰: 04:38:08 | Learning rate: 0.000031\n"
     ]
    },
    {
     "name": "stderr",
     "output_type": "stream",
     "text": [
      "Train loss: 2.72982: 100%|██████████| 5/5 [00:00<00:00, 52.41it/s]\n"
     ]
    },
    {
     "name": "stdout",
     "output_type": "stream",
     "text": [
      "Starting epoch: 0 | phase: valid | ⏰: 04:38:08 \n"
     ]
    },
    {
     "name": "stderr",
     "output_type": "stream",
     "text": [
      ": 100%|██████████| 1/1 [00:00<00:00, 88.00it/s]\n"
     ]
    },
    {
     "name": "stdout",
     "output_type": "stream",
     "text": [
      "Validation loss: 2.7140204906463623\n",
      "Client  3\n",
      "File ../data/hdfs/hdfs_train, number of sessions 971\n",
      "File ../data/hdfs/hdfs_train, number of seqs 9267\n",
      "sampling...\n"
     ]
    },
    {
     "name": "stderr",
     "output_type": "stream",
     "text": [
      "100%|██████████| 1057/1057 [00:00<00:00, 3555.83it/s]\n"
     ]
    },
    {
     "name": "stdout",
     "output_type": "stream",
     "text": [
      "File ../data/hdfs/hdfs_test_normal, number of sessions 110673\n",
      "File ../data/hdfs/hdfs_test_normal, number of seqs 1057\n",
      "Find 9267 train logs, 1057 validation logs\n",
      "Train batch size 2048 ,Validation batch size 2048\n",
      "Starting epoch: 0 | phase: train | ⏰: 04:38:20 | Learning rate: 0.000031\n"
     ]
    },
    {
     "name": "stderr",
     "output_type": "stream",
     "text": [
      "Train loss: 2.71907: 100%|██████████| 5/5 [00:00<00:00, 53.81it/s]\n"
     ]
    },
    {
     "name": "stdout",
     "output_type": "stream",
     "text": [
      "Starting epoch: 0 | phase: valid | ⏰: 04:38:20 \n"
     ]
    },
    {
     "name": "stderr",
     "output_type": "stream",
     "text": [
      ": 100%|██████████| 1/1 [00:00<00:00, 93.40it/s]\n"
     ]
    },
    {
     "name": "stdout",
     "output_type": "stream",
     "text": [
      "Validation loss: 2.712247610092163\n",
      "Client  4\n",
      "File ../data/hdfs/hdfs_train, number of sessions 971\n",
      "File ../data/hdfs/hdfs_train, number of seqs 9323\n",
      "sampling...\n"
     ]
    },
    {
     "name": "stderr",
     "output_type": "stream",
     "text": [
      "100%|██████████| 1044/1044 [00:00<00:00, 3523.20it/s]\n"
     ]
    },
    {
     "name": "stdout",
     "output_type": "stream",
     "text": [
      "File ../data/hdfs/hdfs_test_normal, number of sessions 110673\n",
      "File ../data/hdfs/hdfs_test_normal, number of seqs 1044\n",
      "Find 9323 train logs, 1044 validation logs\n",
      "Train batch size 2048 ,Validation batch size 2048\n",
      "Starting epoch: 0 | phase: train | ⏰: 04:38:32 | Learning rate: 0.000031\n"
     ]
    },
    {
     "name": "stderr",
     "output_type": "stream",
     "text": [
      "Train loss: 2.71669: 100%|██████████| 5/5 [00:00<00:00, 52.51it/s]\n"
     ]
    },
    {
     "name": "stdout",
     "output_type": "stream",
     "text": [
      "Starting epoch: 0 | phase: valid | ⏰: 04:38:32 \n"
     ]
    },
    {
     "name": "stderr",
     "output_type": "stream",
     "text": [
      ": 100%|██████████| 1/1 [00:00<00:00, 94.15it/s]\n"
     ]
    },
    {
     "name": "stdout",
     "output_type": "stream",
     "text": [
      "Validation loss: 2.7059686183929443\n",
      "============ Test epoch 23 ============\n",
      "Client  0\n",
      "Number of sessions(hdfs_test_normal): 5813\n",
      "Number of sessions(hdfs_test_abnormal): 1136\n"
     ]
    },
    {
     "name": "stderr",
     "output_type": "stream",
     "text": [
      "100%|██████████| 5813/5813 [02:36<00:00, 37.05it/s]\n",
      "100%|██████████| 1136/1136 [00:18<00:00, 60.45it/s]\n"
     ]
    },
    {
     "name": "stdout",
     "output_type": "stream",
     "text": [
      "false positive (FP): 490, false negative (FN): 24, Precision: 87.216%, Recall: 99.287%, F1-measure: 92.861%\n",
      "actual positive (TP+FN): 3367, actual negative (FP+TN): 110673\n",
      "accuracy: 99.549\n",
      "Finished Predicting\n",
      "elapsed_time: 175.68620443344116\n",
      "Client  1\n",
      "Number of sessions(hdfs_test_normal): 5574\n",
      "Number of sessions(hdfs_test_abnormal): 1139\n"
     ]
    },
    {
     "name": "stderr",
     "output_type": "stream",
     "text": [
      "100%|██████████| 5574/5574 [02:44<00:00, 33.92it/s]\n",
      "100%|██████████| 1139/1139 [00:15<00:00, 74.04it/s]\n"
     ]
    },
    {
     "name": "stdout",
     "output_type": "stream",
     "text": [
      "false positive (FP): 528, false negative (FN): 26, Precision: 86.353%, Recall: 99.228%, F1-measure: 92.344%\n",
      "actual positive (TP+FN): 3367, actual negative (FP+TN): 110673\n",
      "accuracy: 99.514\n",
      "Finished Predicting\n",
      "elapsed_time: 179.70428371429443\n",
      "Client  2\n",
      "Number of sessions(hdfs_test_normal): 5730\n",
      "Number of sessions(hdfs_test_abnormal): 1118\n"
     ]
    },
    {
     "name": "stderr",
     "output_type": "stream",
     "text": [
      "100%|██████████| 5730/5730 [02:59<00:00, 31.87it/s]\n",
      "100%|██████████| 1118/1118 [00:19<00:00, 56.98it/s]\n"
     ]
    },
    {
     "name": "stdout",
     "output_type": "stream",
     "text": [
      "false positive (FP): 468, false negative (FN): 30, Precision: 87.700%, Recall: 99.109%, F1-measure: 93.056%\n",
      "actual positive (TP+FN): 3367, actual negative (FP+TN): 110673\n",
      "accuracy: 99.563\n",
      "Finished Predicting\n",
      "elapsed_time: 199.43768692016602\n",
      "Client  3\n",
      "Number of sessions(hdfs_test_normal): 5747\n",
      "Number of sessions(hdfs_test_abnormal): 1159\n"
     ]
    },
    {
     "name": "stderr",
     "output_type": "stream",
     "text": [
      "100%|██████████| 5747/5747 [02:46<00:00, 34.52it/s]\n",
      "100%|██████████| 1159/1159 [00:14<00:00, 82.52it/s]\n"
     ]
    },
    {
     "name": "stdout",
     "output_type": "stream",
     "text": [
      "false positive (FP): 451, false negative (FN): 28, Precision: 88.100%, Recall: 99.168%, F1-measure: 93.307%\n",
      "actual positive (TP+FN): 3367, actual negative (FP+TN): 110673\n",
      "accuracy: 99.580\n",
      "Finished Predicting\n",
      "elapsed_time: 180.52743458747864\n",
      "Client  4\n",
      "Number of sessions(hdfs_test_normal): 5623\n",
      "Number of sessions(hdfs_test_abnormal): 1121\n"
     ]
    },
    {
     "name": "stderr",
     "output_type": "stream",
     "text": [
      "100%|██████████| 5623/5623 [02:36<00:00, 36.00it/s]\n",
      "100%|██████████| 1121/1121 [00:19<00:00, 57.92it/s]\n"
     ]
    },
    {
     "name": "stdout",
     "output_type": "stream",
     "text": [
      "false positive (FP): 525, false negative (FN): 32, Precision: 86.399%, Recall: 99.050%, F1-measure: 92.293%\n",
      "actual positive (TP+FN): 3367, actual negative (FP+TN): 110673\n",
      "accuracy: 99.512\n",
      "Finished Predicting\n",
      "elapsed_time: 175.56075620651245\n",
      "============ Train epoch 24 ============\n",
      "Client  0\n",
      "File ../data/hdfs/hdfs_train, number of sessions 971\n",
      "File ../data/hdfs/hdfs_train, number of seqs 9420\n",
      "sampling...\n"
     ]
    },
    {
     "name": "stderr",
     "output_type": "stream",
     "text": [
      "100%|██████████| 1058/1058 [00:00<00:00, 3446.13it/s]\n"
     ]
    },
    {
     "name": "stdout",
     "output_type": "stream",
     "text": [
      "File ../data/hdfs/hdfs_test_normal, number of sessions 110673\n",
      "File ../data/hdfs/hdfs_test_normal, number of seqs 1058\n",
      "Find 9420 train logs, 1058 validation logs\n",
      "Train batch size 2048 ,Validation batch size 2048\n",
      "Starting epoch: 0 | phase: train | ⏰: 04:53:58 | Learning rate: 0.000031\n"
     ]
    },
    {
     "name": "stderr",
     "output_type": "stream",
     "text": [
      "Train loss: 2.66393: 100%|██████████| 5/5 [00:00<00:00, 53.35it/s]\n"
     ]
    },
    {
     "name": "stdout",
     "output_type": "stream",
     "text": [
      "Starting epoch: 0 | phase: valid | ⏰: 04:53:58 \n"
     ]
    },
    {
     "name": "stderr",
     "output_type": "stream",
     "text": [
      ": 100%|██████████| 1/1 [00:00<00:00, 93.29it/s]\n"
     ]
    },
    {
     "name": "stdout",
     "output_type": "stream",
     "text": [
      "Validation loss: 2.6277761459350586\n",
      "Client  1\n",
      "File ../data/hdfs/hdfs_train, number of sessions 971\n",
      "File ../data/hdfs/hdfs_train, number of seqs 9080\n",
      "sampling...\n"
     ]
    },
    {
     "name": "stderr",
     "output_type": "stream",
     "text": [
      "100%|██████████| 1046/1046 [00:00<00:00, 3574.58it/s]\n"
     ]
    },
    {
     "name": "stdout",
     "output_type": "stream",
     "text": [
      "File ../data/hdfs/hdfs_test_normal, number of sessions 110673\n",
      "File ../data/hdfs/hdfs_test_normal, number of seqs 1046\n",
      "Find 9080 train logs, 1046 validation logs\n",
      "Train batch size 2048 ,Validation batch size 2048\n",
      "Starting epoch: 0 | phase: train | ⏰: 04:54:09 | Learning rate: 0.000031\n"
     ]
    },
    {
     "name": "stderr",
     "output_type": "stream",
     "text": [
      "Train loss: 2.66428: 100%|██████████| 5/5 [00:00<00:00, 51.36it/s]\n"
     ]
    },
    {
     "name": "stdout",
     "output_type": "stream",
     "text": [
      "Starting epoch: 0 | phase: valid | ⏰: 04:54:09 \n"
     ]
    },
    {
     "name": "stderr",
     "output_type": "stream",
     "text": [
      ": 100%|██████████| 1/1 [00:00<00:00, 94.56it/s]\n"
     ]
    },
    {
     "name": "stdout",
     "output_type": "stream",
     "text": [
      "Validation loss: 2.6305882930755615\n",
      "Client  2\n",
      "File ../data/hdfs/hdfs_train, number of sessions 971\n",
      "File ../data/hdfs/hdfs_train, number of seqs 9485\n",
      "sampling...\n"
     ]
    },
    {
     "name": "stderr",
     "output_type": "stream",
     "text": [
      "100%|██████████| 1051/1051 [00:00<00:00, 3539.62it/s]\n"
     ]
    },
    {
     "name": "stdout",
     "output_type": "stream",
     "text": [
      "File ../data/hdfs/hdfs_test_normal, number of sessions 110673\n",
      "File ../data/hdfs/hdfs_test_normal, number of seqs 1051\n",
      "Find 9485 train logs, 1051 validation logs\n",
      "Train batch size 2048 ,Validation batch size 2048\n",
      "Starting epoch: 0 | phase: train | ⏰: 04:54:21 | Learning rate: 0.000031\n"
     ]
    },
    {
     "name": "stderr",
     "output_type": "stream",
     "text": [
      "Train loss: 2.67204: 100%|██████████| 5/5 [00:00<00:00, 51.73it/s]\n"
     ]
    },
    {
     "name": "stdout",
     "output_type": "stream",
     "text": [
      "Starting epoch: 0 | phase: valid | ⏰: 04:54:21 \n"
     ]
    },
    {
     "name": "stderr",
     "output_type": "stream",
     "text": [
      ": 100%|██████████| 1/1 [00:00<00:00, 96.26it/s]\n"
     ]
    },
    {
     "name": "stdout",
     "output_type": "stream",
     "text": [
      "Validation loss: 2.653102159500122\n",
      "Client  3\n",
      "File ../data/hdfs/hdfs_train, number of sessions 971\n",
      "File ../data/hdfs/hdfs_train, number of seqs 9267\n",
      "sampling...\n"
     ]
    },
    {
     "name": "stderr",
     "output_type": "stream",
     "text": [
      "100%|██████████| 1057/1057 [00:00<00:00, 3567.27it/s]\n"
     ]
    },
    {
     "name": "stdout",
     "output_type": "stream",
     "text": [
      "File ../data/hdfs/hdfs_test_normal, number of sessions 110673\n",
      "File ../data/hdfs/hdfs_test_normal, number of seqs 1057\n",
      "Find 9267 train logs, 1057 validation logs\n",
      "Train batch size 2048 ,Validation batch size 2048\n",
      "Starting epoch: 0 | phase: train | ⏰: 04:54:33 | Learning rate: 0.000031\n"
     ]
    },
    {
     "name": "stderr",
     "output_type": "stream",
     "text": [
      "Train loss: 2.66211: 100%|██████████| 5/5 [00:00<00:00, 54.61it/s]\n"
     ]
    },
    {
     "name": "stdout",
     "output_type": "stream",
     "text": [
      "Starting epoch: 0 | phase: valid | ⏰: 04:54:33 \n"
     ]
    },
    {
     "name": "stderr",
     "output_type": "stream",
     "text": [
      ": 100%|██████████| 1/1 [00:00<00:00, 98.74it/s]\n"
     ]
    },
    {
     "name": "stdout",
     "output_type": "stream",
     "text": [
      "Validation loss: 2.6552212238311768\n",
      "Client  4\n",
      "File ../data/hdfs/hdfs_train, number of sessions 971\n",
      "File ../data/hdfs/hdfs_train, number of seqs 9323\n",
      "sampling...\n"
     ]
    },
    {
     "name": "stderr",
     "output_type": "stream",
     "text": [
      "100%|██████████| 1044/1044 [00:00<00:00, 3459.88it/s]\n"
     ]
    },
    {
     "name": "stdout",
     "output_type": "stream",
     "text": [
      "File ../data/hdfs/hdfs_test_normal, number of sessions 110673\n",
      "File ../data/hdfs/hdfs_test_normal, number of seqs 1044\n",
      "Find 9323 train logs, 1044 validation logs\n",
      "Train batch size 2048 ,Validation batch size 2048\n",
      "Starting epoch: 0 | phase: train | ⏰: 04:54:44 | Learning rate: 0.000031\n"
     ]
    },
    {
     "name": "stderr",
     "output_type": "stream",
     "text": [
      "Train loss: 2.66019: 100%|██████████| 5/5 [00:00<00:00, 52.96it/s]\n"
     ]
    },
    {
     "name": "stdout",
     "output_type": "stream",
     "text": [
      "Starting epoch: 0 | phase: valid | ⏰: 04:54:45 \n"
     ]
    },
    {
     "name": "stderr",
     "output_type": "stream",
     "text": [
      ": 100%|██████████| 1/1 [00:00<00:00, 93.05it/s]\n"
     ]
    },
    {
     "name": "stdout",
     "output_type": "stream",
     "text": [
      "Validation loss: 2.6527974605560303\n",
      "============ Test epoch 24 ============\n",
      "Client  0\n",
      "Number of sessions(hdfs_test_normal): 5813\n",
      "Number of sessions(hdfs_test_abnormal): 1136\n"
     ]
    },
    {
     "name": "stderr",
     "output_type": "stream",
     "text": [
      "100%|██████████| 5813/5813 [03:06<00:00, 31.17it/s]\n",
      "100%|██████████| 1136/1136 [00:18<00:00, 60.08it/s]\n"
     ]
    },
    {
     "name": "stdout",
     "output_type": "stream",
     "text": [
      "false positive (FP): 490, false negative (FN): 24, Precision: 87.216%, Recall: 99.287%, F1-measure: 92.861%\n",
      "actual positive (TP+FN): 3367, actual negative (FP+TN): 110673\n",
      "accuracy: 99.549\n",
      "Finished Predicting\n",
      "elapsed_time: 205.41401529312134\n",
      "Client  1\n",
      "Number of sessions(hdfs_test_normal): 5574\n",
      "Number of sessions(hdfs_test_abnormal): 1139\n"
     ]
    },
    {
     "name": "stderr",
     "output_type": "stream",
     "text": [
      "100%|██████████| 5574/5574 [02:37<00:00, 35.44it/s]\n",
      "100%|██████████| 1139/1139 [00:19<00:00, 58.78it/s]\n"
     ]
    },
    {
     "name": "stdout",
     "output_type": "stream",
     "text": [
      "false positive (FP): 528, false negative (FN): 26, Precision: 86.353%, Recall: 99.228%, F1-measure: 92.344%\n",
      "actual positive (TP+FN): 3367, actual negative (FP+TN): 110673\n",
      "accuracy: 99.514\n",
      "Finished Predicting\n",
      "elapsed_time: 176.68168568611145\n",
      "Client  2\n",
      "Number of sessions(hdfs_test_normal): 5730\n",
      "Number of sessions(hdfs_test_abnormal): 1118\n"
     ]
    },
    {
     "name": "stderr",
     "output_type": "stream",
     "text": [
      "100%|██████████| 5730/5730 [02:51<00:00, 33.50it/s]\n",
      "100%|██████████| 1118/1118 [00:13<00:00, 83.90it/s]\n"
     ]
    },
    {
     "name": "stdout",
     "output_type": "stream",
     "text": [
      "false positive (FP): 468, false negative (FN): 30, Precision: 87.700%, Recall: 99.109%, F1-measure: 93.056%\n",
      "actual positive (TP+FN): 3367, actual negative (FP+TN): 110673\n",
      "accuracy: 99.563\n",
      "Finished Predicting\n",
      "elapsed_time: 184.38973355293274\n",
      "Client  3\n",
      "Number of sessions(hdfs_test_normal): 5747\n",
      "Number of sessions(hdfs_test_abnormal): 1159\n"
     ]
    },
    {
     "name": "stderr",
     "output_type": "stream",
     "text": [
      "100%|██████████| 5747/5747 [02:39<00:00, 36.00it/s]\n",
      "100%|██████████| 1159/1159 [00:16<00:00, 69.42it/s]\n"
     ]
    },
    {
     "name": "stdout",
     "output_type": "stream",
     "text": [
      "false positive (FP): 451, false negative (FN): 28, Precision: 88.100%, Recall: 99.168%, F1-measure: 93.307%\n",
      "actual positive (TP+FN): 3367, actual negative (FP+TN): 110673\n",
      "accuracy: 99.580\n",
      "Finished Predicting\n",
      "elapsed_time: 176.337260723114\n",
      "Client  4\n",
      "Number of sessions(hdfs_test_normal): 5623\n",
      "Number of sessions(hdfs_test_abnormal): 1121\n"
     ]
    },
    {
     "name": "stderr",
     "output_type": "stream",
     "text": [
      "100%|██████████| 5623/5623 [02:55<00:00, 32.02it/s]\n",
      "100%|██████████| 1121/1121 [00:19<00:00, 58.03it/s]\n"
     ]
    },
    {
     "name": "stdout",
     "output_type": "stream",
     "text": [
      "false positive (FP): 525, false negative (FN): 32, Precision: 86.399%, Recall: 99.050%, F1-measure: 92.293%\n",
      "actual positive (TP+FN): 3367, actual negative (FP+TN): 110673\n",
      "accuracy: 99.512\n",
      "Finished Predicting\n",
      "elapsed_time: 194.9373903274536\n",
      "============ Train epoch 25 ============\n",
      "Client  0\n",
      "File ../data/hdfs/hdfs_train, number of sessions 971\n",
      "File ../data/hdfs/hdfs_train, number of seqs 9420\n",
      "sampling...\n"
     ]
    },
    {
     "name": "stderr",
     "output_type": "stream",
     "text": [
      "100%|██████████| 1058/1058 [00:00<00:00, 3385.86it/s]\n"
     ]
    },
    {
     "name": "stdout",
     "output_type": "stream",
     "text": [
      "File ../data/hdfs/hdfs_test_normal, number of sessions 110673\n",
      "File ../data/hdfs/hdfs_test_normal, number of seqs 1058\n",
      "Find 9420 train logs, 1058 validation logs\n",
      "Train batch size 2048 ,Validation batch size 2048\n",
      "Starting epoch: 0 | phase: train | ⏰: 05:10:37 | Learning rate: 0.000031\n"
     ]
    },
    {
     "name": "stderr",
     "output_type": "stream",
     "text": [
      "Train loss: 2.60270: 100%|██████████| 5/5 [00:00<00:00, 52.54it/s]\n"
     ]
    },
    {
     "name": "stdout",
     "output_type": "stream",
     "text": [
      "Starting epoch: 0 | phase: valid | ⏰: 05:10:37 \n"
     ]
    },
    {
     "name": "stderr",
     "output_type": "stream",
     "text": [
      ": 100%|██████████| 1/1 [00:00<00:00, 91.50it/s]\n"
     ]
    },
    {
     "name": "stdout",
     "output_type": "stream",
     "text": [
      "Validation loss: 2.5893948078155518\n",
      "Client  1\n",
      "File ../data/hdfs/hdfs_train, number of sessions 971\n",
      "File ../data/hdfs/hdfs_train, number of seqs 9080\n",
      "sampling...\n"
     ]
    },
    {
     "name": "stderr",
     "output_type": "stream",
     "text": [
      "100%|██████████| 1046/1046 [00:00<00:00, 3412.03it/s]\n"
     ]
    },
    {
     "name": "stdout",
     "output_type": "stream",
     "text": [
      "File ../data/hdfs/hdfs_test_normal, number of sessions 110673\n",
      "File ../data/hdfs/hdfs_test_normal, number of seqs 1046\n",
      "Find 9080 train logs, 1046 validation logs\n",
      "Train batch size 2048 ,Validation batch size 2048\n",
      "Starting epoch: 0 | phase: train | ⏰: 05:10:49 | Learning rate: 0.000031\n"
     ]
    },
    {
     "name": "stderr",
     "output_type": "stream",
     "text": [
      "Train loss: 2.60024: 100%|██████████| 5/5 [00:00<00:00, 50.85it/s]\n"
     ]
    },
    {
     "name": "stdout",
     "output_type": "stream",
     "text": [
      "Starting epoch: 0 | phase: valid | ⏰: 05:10:49 \n"
     ]
    },
    {
     "name": "stderr",
     "output_type": "stream",
     "text": [
      ": 100%|██████████| 1/1 [00:00<00:00, 97.85it/s]\n"
     ]
    },
    {
     "name": "stdout",
     "output_type": "stream",
     "text": [
      "Validation loss: 2.5990564823150635\n",
      "Client  2\n",
      "File ../data/hdfs/hdfs_train, number of sessions 971\n",
      "File ../data/hdfs/hdfs_train, number of seqs 9485\n",
      "sampling...\n"
     ]
    },
    {
     "name": "stderr",
     "output_type": "stream",
     "text": [
      "100%|██████████| 1051/1051 [00:00<00:00, 3466.60it/s]\n"
     ]
    },
    {
     "name": "stdout",
     "output_type": "stream",
     "text": [
      "File ../data/hdfs/hdfs_test_normal, number of sessions 110673\n",
      "File ../data/hdfs/hdfs_test_normal, number of seqs 1051\n",
      "Find 9485 train logs, 1051 validation logs\n",
      "Train batch size 2048 ,Validation batch size 2048\n",
      "Starting epoch: 0 | phase: train | ⏰: 05:11:01 | Learning rate: 0.000031\n"
     ]
    },
    {
     "name": "stderr",
     "output_type": "stream",
     "text": [
      "Train loss: 2.61147: 100%|██████████| 5/5 [00:00<00:00, 53.28it/s]\n"
     ]
    },
    {
     "name": "stdout",
     "output_type": "stream",
     "text": [
      "Starting epoch: 0 | phase: valid | ⏰: 05:11:01 \n"
     ]
    },
    {
     "name": "stderr",
     "output_type": "stream",
     "text": [
      ": 100%|██████████| 1/1 [00:00<00:00, 99.70it/s]\n"
     ]
    },
    {
     "name": "stdout",
     "output_type": "stream",
     "text": [
      "Validation loss: 2.576587200164795\n",
      "Client  3\n",
      "File ../data/hdfs/hdfs_train, number of sessions 971\n",
      "File ../data/hdfs/hdfs_train, number of seqs 9267\n",
      "sampling...\n"
     ]
    },
    {
     "name": "stderr",
     "output_type": "stream",
     "text": [
      "100%|██████████| 1057/1057 [00:00<00:00, 3422.89it/s]\n"
     ]
    },
    {
     "name": "stdout",
     "output_type": "stream",
     "text": [
      "File ../data/hdfs/hdfs_test_normal, number of sessions 110673\n",
      "File ../data/hdfs/hdfs_test_normal, number of seqs 1057\n",
      "Find 9267 train logs, 1057 validation logs\n",
      "Train batch size 2048 ,Validation batch size 2048\n",
      "Starting epoch: 0 | phase: train | ⏰: 05:11:13 | Learning rate: 0.000031\n"
     ]
    },
    {
     "name": "stderr",
     "output_type": "stream",
     "text": [
      "Train loss: 2.60071: 100%|██████████| 5/5 [00:00<00:00, 53.29it/s]\n"
     ]
    },
    {
     "name": "stdout",
     "output_type": "stream",
     "text": [
      "Starting epoch: 0 | phase: valid | ⏰: 05:11:13 \n"
     ]
    },
    {
     "name": "stderr",
     "output_type": "stream",
     "text": [
      ": 100%|██████████| 1/1 [00:00<00:00, 86.83it/s]\n"
     ]
    },
    {
     "name": "stdout",
     "output_type": "stream",
     "text": [
      "Validation loss: 2.582296133041382\n",
      "Client  4\n",
      "File ../data/hdfs/hdfs_train, number of sessions 971\n",
      "File ../data/hdfs/hdfs_train, number of seqs 9323\n",
      "sampling...\n"
     ]
    },
    {
     "name": "stderr",
     "output_type": "stream",
     "text": [
      "100%|██████████| 1044/1044 [00:00<00:00, 3634.65it/s]\n"
     ]
    },
    {
     "name": "stdout",
     "output_type": "stream",
     "text": [
      "File ../data/hdfs/hdfs_test_normal, number of sessions 110673\n",
      "File ../data/hdfs/hdfs_test_normal, number of seqs 1044\n",
      "Find 9323 train logs, 1044 validation logs\n",
      "Train batch size 2048 ,Validation batch size 2048\n",
      "Starting epoch: 0 | phase: train | ⏰: 05:11:24 | Learning rate: 0.000031\n"
     ]
    },
    {
     "name": "stderr",
     "output_type": "stream",
     "text": [
      "Train loss: 2.59766: 100%|██████████| 5/5 [00:00<00:00, 53.03it/s]\n"
     ]
    },
    {
     "name": "stdout",
     "output_type": "stream",
     "text": [
      "Starting epoch: 0 | phase: valid | ⏰: 05:11:24 \n"
     ]
    },
    {
     "name": "stderr",
     "output_type": "stream",
     "text": [
      ": 100%|██████████| 1/1 [00:00<00:00, 103.19it/s]\n"
     ]
    },
    {
     "name": "stdout",
     "output_type": "stream",
     "text": [
      "Validation loss: 2.575167655944824\n",
      "============ Test epoch 25 ============\n",
      "Client  0\n",
      "Number of sessions(hdfs_test_normal): 5813\n",
      "Number of sessions(hdfs_test_abnormal): 1136\n"
     ]
    },
    {
     "name": "stderr",
     "output_type": "stream",
     "text": [
      "100%|██████████| 5813/5813 [02:42<00:00, 35.68it/s]\n",
      "100%|██████████| 1136/1136 [00:07<00:00, 150.54it/s]\n"
     ]
    },
    {
     "name": "stdout",
     "output_type": "stream",
     "text": [
      "false positive (FP): 490, false negative (FN): 24, Precision: 87.216%, Recall: 99.287%, F1-measure: 92.861%\n",
      "actual positive (TP+FN): 3367, actual negative (FP+TN): 110673\n",
      "accuracy: 99.549\n",
      "Finished Predicting\n",
      "elapsed_time: 170.4804401397705\n",
      "Client  1\n",
      "Number of sessions(hdfs_test_normal): 5574\n",
      "Number of sessions(hdfs_test_abnormal): 1139\n"
     ]
    },
    {
     "name": "stderr",
     "output_type": "stream",
     "text": [
      "100%|██████████| 5574/5574 [02:06<00:00, 43.94it/s]\n",
      "100%|██████████| 1139/1139 [00:19<00:00, 57.86it/s]\n"
     ]
    },
    {
     "name": "stdout",
     "output_type": "stream",
     "text": [
      "false positive (FP): 528, false negative (FN): 26, Precision: 86.353%, Recall: 99.228%, F1-measure: 92.344%\n",
      "actual positive (TP+FN): 3367, actual negative (FP+TN): 110673\n",
      "accuracy: 99.514\n",
      "Finished Predicting\n",
      "elapsed_time: 146.53145146369934\n",
      "Client  2\n",
      "Number of sessions(hdfs_test_normal): 5730\n",
      "Number of sessions(hdfs_test_abnormal): 1118\n"
     ]
    },
    {
     "name": "stderr",
     "output_type": "stream",
     "text": [
      "100%|██████████| 5730/5730 [03:01<00:00, 31.52it/s]\n",
      "100%|██████████| 1118/1118 [00:19<00:00, 58.26it/s]\n"
     ]
    },
    {
     "name": "stdout",
     "output_type": "stream",
     "text": [
      "false positive (FP): 468, false negative (FN): 30, Precision: 87.700%, Recall: 99.109%, F1-measure: 93.056%\n",
      "actual positive (TP+FN): 3367, actual negative (FP+TN): 110673\n",
      "accuracy: 99.563\n",
      "Finished Predicting\n",
      "elapsed_time: 201.00645518302917\n",
      "Client  3\n",
      "Number of sessions(hdfs_test_normal): 5747\n",
      "Number of sessions(hdfs_test_abnormal): 1159\n"
     ]
    },
    {
     "name": "stderr",
     "output_type": "stream",
     "text": [
      "100%|██████████| 5747/5747 [02:46<00:00, 34.55it/s]\n",
      "100%|██████████| 1159/1159 [00:20<00:00, 56.84it/s]\n"
     ]
    },
    {
     "name": "stdout",
     "output_type": "stream",
     "text": [
      "false positive (FP): 451, false negative (FN): 28, Precision: 88.100%, Recall: 99.168%, F1-measure: 93.307%\n",
      "actual positive (TP+FN): 3367, actual negative (FP+TN): 110673\n",
      "accuracy: 99.580\n",
      "Finished Predicting\n",
      "elapsed_time: 186.73299717903137\n",
      "Client  4\n",
      "Number of sessions(hdfs_test_normal): 5623\n",
      "Number of sessions(hdfs_test_abnormal): 1121\n"
     ]
    },
    {
     "name": "stderr",
     "output_type": "stream",
     "text": [
      "100%|██████████| 5623/5623 [02:56<00:00, 31.92it/s]\n",
      "100%|██████████| 1121/1121 [00:19<00:00, 57.64it/s]\n"
     ]
    },
    {
     "name": "stdout",
     "output_type": "stream",
     "text": [
      "false positive (FP): 525, false negative (FN): 32, Precision: 86.399%, Recall: 99.050%, F1-measure: 92.293%\n",
      "actual positive (TP+FN): 3367, actual negative (FP+TN): 110673\n",
      "accuracy: 99.512\n",
      "Finished Predicting\n",
      "elapsed_time: 195.58752369880676\n",
      "============ Train epoch 26 ============\n",
      "Client  0\n",
      "File ../data/hdfs/hdfs_train, number of sessions 971\n",
      "File ../data/hdfs/hdfs_train, number of seqs 9420\n",
      "sampling...\n"
     ]
    },
    {
     "name": "stderr",
     "output_type": "stream",
     "text": [
      "100%|██████████| 1058/1058 [00:00<00:00, 3633.21it/s]\n"
     ]
    },
    {
     "name": "stdout",
     "output_type": "stream",
     "text": [
      "File ../data/hdfs/hdfs_test_normal, number of sessions 110673\n",
      "File ../data/hdfs/hdfs_test_normal, number of seqs 1058\n",
      "Find 9420 train logs, 1058 validation logs\n",
      "Train batch size 2048 ,Validation batch size 2048\n",
      "Starting epoch: 0 | phase: train | ⏰: 05:26:40 | Learning rate: 0.000031\n"
     ]
    },
    {
     "name": "stderr",
     "output_type": "stream",
     "text": [
      "Train loss: 2.54295: 100%|██████████| 5/5 [00:00<00:00, 52.82it/s]\n"
     ]
    },
    {
     "name": "stdout",
     "output_type": "stream",
     "text": [
      "Starting epoch: 0 | phase: valid | ⏰: 05:26:40 \n"
     ]
    },
    {
     "name": "stderr",
     "output_type": "stream",
     "text": [
      ": 100%|██████████| 1/1 [00:00<00:00, 74.33it/s]\n"
     ]
    },
    {
     "name": "stdout",
     "output_type": "stream",
     "text": [
      "Validation loss: 2.517395257949829\n",
      "Client  1\n",
      "File ../data/hdfs/hdfs_train, number of sessions 971\n",
      "File ../data/hdfs/hdfs_train, number of seqs 9080\n",
      "sampling...\n"
     ]
    },
    {
     "name": "stderr",
     "output_type": "stream",
     "text": [
      "100%|██████████| 1046/1046 [00:00<00:00, 3397.61it/s]\n"
     ]
    },
    {
     "name": "stdout",
     "output_type": "stream",
     "text": [
      "File ../data/hdfs/hdfs_test_normal, number of sessions 110673\n",
      "File ../data/hdfs/hdfs_test_normal, number of seqs 1046\n",
      "Find 9080 train logs, 1046 validation logs\n",
      "Train batch size 2048 ,Validation batch size 2048\n",
      "Starting epoch: 0 | phase: train | ⏰: 05:26:51 | Learning rate: 0.000031\n"
     ]
    },
    {
     "name": "stderr",
     "output_type": "stream",
     "text": [
      "Train loss: 2.54085: 100%|██████████| 5/5 [00:00<00:00, 54.46it/s]\n"
     ]
    },
    {
     "name": "stdout",
     "output_type": "stream",
     "text": [
      "Starting epoch: 0 | phase: valid | ⏰: 05:26:52 \n"
     ]
    },
    {
     "name": "stderr",
     "output_type": "stream",
     "text": [
      ": 100%|██████████| 1/1 [00:00<00:00, 83.33it/s]\n"
     ]
    },
    {
     "name": "stdout",
     "output_type": "stream",
     "text": [
      "Validation loss: 2.528939962387085\n",
      "Client  2\n",
      "File ../data/hdfs/hdfs_train, number of sessions 971\n",
      "File ../data/hdfs/hdfs_train, number of seqs 9485\n",
      "sampling...\n"
     ]
    },
    {
     "name": "stderr",
     "output_type": "stream",
     "text": [
      "100%|██████████| 1051/1051 [00:00<00:00, 3553.33it/s]\n"
     ]
    },
    {
     "name": "stdout",
     "output_type": "stream",
     "text": [
      "File ../data/hdfs/hdfs_test_normal, number of sessions 110673\n",
      "File ../data/hdfs/hdfs_test_normal, number of seqs 1051\n",
      "Find 9485 train logs, 1051 validation logs\n",
      "Train batch size 2048 ,Validation batch size 2048\n",
      "Starting epoch: 0 | phase: train | ⏰: 05:27:03 | Learning rate: 0.000031\n"
     ]
    },
    {
     "name": "stderr",
     "output_type": "stream",
     "text": [
      "Train loss: 2.55042: 100%|██████████| 5/5 [00:00<00:00, 52.79it/s]\n"
     ]
    },
    {
     "name": "stdout",
     "output_type": "stream",
     "text": [
      "Starting epoch: 0 | phase: valid | ⏰: 05:27:03 \n"
     ]
    },
    {
     "name": "stderr",
     "output_type": "stream",
     "text": [
      ": 100%|██████████| 1/1 [00:00<00:00, 100.41it/s]\n"
     ]
    },
    {
     "name": "stdout",
     "output_type": "stream",
     "text": [
      "Validation loss: 2.530510187149048\n",
      "Client  3\n",
      "File ../data/hdfs/hdfs_train, number of sessions 971\n",
      "File ../data/hdfs/hdfs_train, number of seqs 9267\n",
      "sampling...\n"
     ]
    },
    {
     "name": "stderr",
     "output_type": "stream",
     "text": [
      "100%|██████████| 1057/1057 [00:00<00:00, 3458.20it/s]\n"
     ]
    },
    {
     "name": "stdout",
     "output_type": "stream",
     "text": [
      "File ../data/hdfs/hdfs_test_normal, number of sessions 110673\n",
      "File ../data/hdfs/hdfs_test_normal, number of seqs 1057\n",
      "Find 9267 train logs, 1057 validation logs\n",
      "Train batch size 2048 ,Validation batch size 2048\n",
      "Starting epoch: 0 | phase: train | ⏰: 05:27:15 | Learning rate: 0.000031\n"
     ]
    },
    {
     "name": "stderr",
     "output_type": "stream",
     "text": [
      "Train loss: 2.53660: 100%|██████████| 5/5 [00:00<00:00, 52.27it/s]\n"
     ]
    },
    {
     "name": "stdout",
     "output_type": "stream",
     "text": [
      "Starting epoch: 0 | phase: valid | ⏰: 05:27:15 \n"
     ]
    },
    {
     "name": "stderr",
     "output_type": "stream",
     "text": [
      ": 100%|██████████| 1/1 [00:00<00:00, 100.47it/s]\n"
     ]
    },
    {
     "name": "stdout",
     "output_type": "stream",
     "text": [
      "Validation loss: 2.52211332321167\n",
      "Client  4\n",
      "File ../data/hdfs/hdfs_train, number of sessions 971\n",
      "File ../data/hdfs/hdfs_train, number of seqs 9323\n",
      "sampling...\n"
     ]
    },
    {
     "name": "stderr",
     "output_type": "stream",
     "text": [
      "100%|██████████| 1044/1044 [00:00<00:00, 3457.43it/s]\n"
     ]
    },
    {
     "name": "stdout",
     "output_type": "stream",
     "text": [
      "File ../data/hdfs/hdfs_test_normal, number of sessions 110673\n",
      "File ../data/hdfs/hdfs_test_normal, number of seqs 1044\n",
      "Find 9323 train logs, 1044 validation logs\n",
      "Train batch size 2048 ,Validation batch size 2048\n",
      "Starting epoch: 0 | phase: train | ⏰: 05:27:27 | Learning rate: 0.000031\n"
     ]
    },
    {
     "name": "stderr",
     "output_type": "stream",
     "text": [
      "Train loss: 2.53450: 100%|██████████| 5/5 [00:00<00:00, 53.51it/s]\n"
     ]
    },
    {
     "name": "stdout",
     "output_type": "stream",
     "text": [
      "Starting epoch: 0 | phase: valid | ⏰: 05:27:27 \n"
     ]
    },
    {
     "name": "stderr",
     "output_type": "stream",
     "text": [
      ": 100%|██████████| 1/1 [00:00<00:00, 89.52it/s]\n"
     ]
    },
    {
     "name": "stdout",
     "output_type": "stream",
     "text": [
      "Validation loss: 2.528795003890991\n",
      "============ Test epoch 26 ============\n",
      "Client  0\n",
      "Number of sessions(hdfs_test_normal): 5813\n",
      "Number of sessions(hdfs_test_abnormal): 1136\n"
     ]
    },
    {
     "name": "stderr",
     "output_type": "stream",
     "text": [
      "100%|██████████| 5813/5813 [02:21<00:00, 41.14it/s]\n",
      "100%|██████████| 1136/1136 [00:18<00:00, 59.97it/s]\n"
     ]
    },
    {
     "name": "stdout",
     "output_type": "stream",
     "text": [
      "false positive (FP): 490, false negative (FN): 24, Precision: 87.216%, Recall: 99.287%, F1-measure: 92.861%\n",
      "actual positive (TP+FN): 3367, actual negative (FP+TN): 110673\n",
      "accuracy: 99.549\n",
      "Finished Predicting\n",
      "elapsed_time: 160.22652983665466\n",
      "Client  1\n",
      "Number of sessions(hdfs_test_normal): 5574\n",
      "Number of sessions(hdfs_test_abnormal): 1139\n"
     ]
    },
    {
     "name": "stderr",
     "output_type": "stream",
     "text": [
      "100%|██████████| 5574/5574 [02:55<00:00, 31.78it/s]\n",
      "100%|██████████| 1139/1139 [00:19<00:00, 58.46it/s]\n"
     ]
    },
    {
     "name": "stdout",
     "output_type": "stream",
     "text": [
      "false positive (FP): 528, false negative (FN): 26, Precision: 86.353%, Recall: 99.228%, F1-measure: 92.344%\n",
      "actual positive (TP+FN): 3367, actual negative (FP+TN): 110673\n",
      "accuracy: 99.514\n",
      "Finished Predicting\n",
      "elapsed_time: 194.8526427745819\n",
      "Client  2\n",
      "Number of sessions(hdfs_test_normal): 5730\n",
      "Number of sessions(hdfs_test_abnormal): 1118\n"
     ]
    },
    {
     "name": "stderr",
     "output_type": "stream",
     "text": [
      "100%|██████████| 5730/5730 [03:02<00:00, 31.38it/s]\n",
      "100%|██████████| 1118/1118 [00:16<00:00, 67.17it/s]\n"
     ]
    },
    {
     "name": "stdout",
     "output_type": "stream",
     "text": [
      "false positive (FP): 468, false negative (FN): 30, Precision: 87.700%, Recall: 99.109%, F1-measure: 93.056%\n",
      "actual positive (TP+FN): 3367, actual negative (FP+TN): 110673\n",
      "accuracy: 99.563\n",
      "Finished Predicting\n",
      "elapsed_time: 199.2727403640747\n",
      "Client  3\n",
      "Number of sessions(hdfs_test_normal): 5747\n",
      "Number of sessions(hdfs_test_abnormal): 1159\n"
     ]
    },
    {
     "name": "stderr",
     "output_type": "stream",
     "text": [
      "100%|██████████| 5747/5747 [02:22<00:00, 40.43it/s]\n",
      "100%|██████████| 1159/1159 [00:19<00:00, 59.71it/s]\n"
     ]
    },
    {
     "name": "stdout",
     "output_type": "stream",
     "text": [
      "false positive (FP): 451, false negative (FN): 28, Precision: 88.100%, Recall: 99.168%, F1-measure: 93.307%\n",
      "actual positive (TP+FN): 3367, actual negative (FP+TN): 110673\n",
      "accuracy: 99.580\n",
      "Finished Predicting\n",
      "elapsed_time: 161.57727098464966\n",
      "Client  4\n",
      "Number of sessions(hdfs_test_normal): 5623\n",
      "Number of sessions(hdfs_test_abnormal): 1121\n"
     ]
    },
    {
     "name": "stderr",
     "output_type": "stream",
     "text": [
      "100%|██████████| 5623/5623 [02:56<00:00, 31.79it/s]\n",
      "100%|██████████| 1121/1121 [00:19<00:00, 58.21it/s]\n"
     ]
    },
    {
     "name": "stdout",
     "output_type": "stream",
     "text": [
      "false positive (FP): 525, false negative (FN): 32, Precision: 86.399%, Recall: 99.050%, F1-measure: 92.293%\n",
      "actual positive (TP+FN): 3367, actual negative (FP+TN): 110673\n",
      "accuracy: 99.512\n",
      "Finished Predicting\n",
      "elapsed_time: 196.1453504562378\n",
      "============ Train epoch 27 ============\n",
      "Client  0\n",
      "File ../data/hdfs/hdfs_train, number of sessions 971\n",
      "File ../data/hdfs/hdfs_train, number of seqs 9420\n",
      "sampling...\n"
     ]
    },
    {
     "name": "stderr",
     "output_type": "stream",
     "text": [
      "100%|██████████| 1058/1058 [00:00<00:00, 3503.60it/s]\n"
     ]
    },
    {
     "name": "stdout",
     "output_type": "stream",
     "text": [
      "File ../data/hdfs/hdfs_test_normal, number of sessions 110673\n",
      "File ../data/hdfs/hdfs_test_normal, number of seqs 1058\n",
      "Find 9420 train logs, 1058 validation logs\n",
      "Train batch size 2048 ,Validation batch size 2048\n",
      "Starting epoch: 0 | phase: train | ⏰: 05:42:54 | Learning rate: 0.000031\n"
     ]
    },
    {
     "name": "stderr",
     "output_type": "stream",
     "text": [
      "Train loss: 2.47909: 100%|██████████| 5/5 [00:00<00:00, 54.45it/s]\n"
     ]
    },
    {
     "name": "stdout",
     "output_type": "stream",
     "text": [
      "Starting epoch: 0 | phase: valid | ⏰: 05:42:54 \n"
     ]
    },
    {
     "name": "stderr",
     "output_type": "stream",
     "text": [
      ": 100%|██████████| 1/1 [00:00<00:00, 95.59it/s]\n"
     ]
    },
    {
     "name": "stdout",
     "output_type": "stream",
     "text": [
      "Validation loss: 2.470214605331421\n",
      "Client  1\n",
      "File ../data/hdfs/hdfs_train, number of sessions 971\n",
      "File ../data/hdfs/hdfs_train, number of seqs 9080\n",
      "sampling...\n"
     ]
    },
    {
     "name": "stderr",
     "output_type": "stream",
     "text": [
      "100%|██████████| 1046/1046 [00:00<00:00, 3482.35it/s]\n"
     ]
    },
    {
     "name": "stdout",
     "output_type": "stream",
     "text": [
      "File ../data/hdfs/hdfs_test_normal, number of sessions 110673\n",
      "File ../data/hdfs/hdfs_test_normal, number of seqs 1046\n",
      "Find 9080 train logs, 1046 validation logs\n",
      "Train batch size 2048 ,Validation batch size 2048\n",
      "Starting epoch: 0 | phase: train | ⏰: 05:43:06 | Learning rate: 0.000031\n"
     ]
    },
    {
     "name": "stderr",
     "output_type": "stream",
     "text": [
      "Train loss: 2.47646: 100%|██████████| 5/5 [00:00<00:00, 56.04it/s]\n"
     ]
    },
    {
     "name": "stdout",
     "output_type": "stream",
     "text": [
      "Starting epoch: 0 | phase: valid | ⏰: 05:43:06 \n"
     ]
    },
    {
     "name": "stderr",
     "output_type": "stream",
     "text": [
      ": 100%|██████████| 1/1 [00:00<00:00, 100.12it/s]\n"
     ]
    },
    {
     "name": "stdout",
     "output_type": "stream",
     "text": [
      "Validation loss: 2.4646871089935303\n",
      "Client  2\n",
      "File ../data/hdfs/hdfs_train, number of sessions 971\n",
      "File ../data/hdfs/hdfs_train, number of seqs 9485\n",
      "sampling...\n"
     ]
    },
    {
     "name": "stderr",
     "output_type": "stream",
     "text": [
      "100%|██████████| 1051/1051 [00:00<00:00, 3634.98it/s]\n"
     ]
    },
    {
     "name": "stdout",
     "output_type": "stream",
     "text": [
      "File ../data/hdfs/hdfs_test_normal, number of sessions 110673\n",
      "File ../data/hdfs/hdfs_test_normal, number of seqs 1051\n",
      "Find 9485 train logs, 1051 validation logs\n",
      "Train batch size 2048 ,Validation batch size 2048\n",
      "Starting epoch: 0 | phase: train | ⏰: 05:43:18 | Learning rate: 0.000031\n"
     ]
    },
    {
     "name": "stderr",
     "output_type": "stream",
     "text": [
      "Train loss: 2.48708: 100%|██████████| 5/5 [00:00<00:00, 53.16it/s]\n"
     ]
    },
    {
     "name": "stdout",
     "output_type": "stream",
     "text": [
      "Starting epoch: 0 | phase: valid | ⏰: 05:43:18 \n"
     ]
    },
    {
     "name": "stderr",
     "output_type": "stream",
     "text": [
      ": 100%|██████████| 1/1 [00:00<00:00, 98.95it/s]\n"
     ]
    },
    {
     "name": "stdout",
     "output_type": "stream",
     "text": [
      "Validation loss: 2.458449602127075\n",
      "Client  3\n",
      "File ../data/hdfs/hdfs_train, number of sessions 971\n",
      "File ../data/hdfs/hdfs_train, number of seqs 9267\n",
      "sampling...\n"
     ]
    },
    {
     "name": "stderr",
     "output_type": "stream",
     "text": [
      "100%|██████████| 1057/1057 [00:00<00:00, 3527.43it/s]\n"
     ]
    },
    {
     "name": "stdout",
     "output_type": "stream",
     "text": [
      "File ../data/hdfs/hdfs_test_normal, number of sessions 110673\n",
      "File ../data/hdfs/hdfs_test_normal, number of seqs 1057\n",
      "Find 9267 train logs, 1057 validation logs\n",
      "Train batch size 2048 ,Validation batch size 2048\n",
      "Starting epoch: 0 | phase: train | ⏰: 05:43:29 | Learning rate: 0.000031\n"
     ]
    },
    {
     "name": "stderr",
     "output_type": "stream",
     "text": [
      "Train loss: 2.47482: 100%|██████████| 5/5 [00:00<00:00, 54.13it/s]\n"
     ]
    },
    {
     "name": "stdout",
     "output_type": "stream",
     "text": [
      "Starting epoch: 0 | phase: valid | ⏰: 05:43:29 \n"
     ]
    },
    {
     "name": "stderr",
     "output_type": "stream",
     "text": [
      ": 100%|██████████| 1/1 [00:00<00:00, 97.25it/s]\n"
     ]
    },
    {
     "name": "stdout",
     "output_type": "stream",
     "text": [
      "Validation loss: 2.468743324279785\n",
      "Client  4\n",
      "File ../data/hdfs/hdfs_train, number of sessions 971\n",
      "File ../data/hdfs/hdfs_train, number of seqs 9323\n",
      "sampling...\n"
     ]
    },
    {
     "name": "stderr",
     "output_type": "stream",
     "text": [
      "100%|██████████| 1044/1044 [00:00<00:00, 3512.19it/s]\n"
     ]
    },
    {
     "name": "stdout",
     "output_type": "stream",
     "text": [
      "File ../data/hdfs/hdfs_test_normal, number of sessions 110673\n",
      "File ../data/hdfs/hdfs_test_normal, number of seqs 1044\n",
      "Find 9323 train logs, 1044 validation logs\n",
      "Train batch size 2048 ,Validation batch size 2048\n",
      "Starting epoch: 0 | phase: train | ⏰: 05:43:41 | Learning rate: 0.000031\n"
     ]
    },
    {
     "name": "stderr",
     "output_type": "stream",
     "text": [
      "Train loss: 2.47347: 100%|██████████| 5/5 [00:00<00:00, 54.30it/s]\n"
     ]
    },
    {
     "name": "stdout",
     "output_type": "stream",
     "text": [
      "Starting epoch: 0 | phase: valid | ⏰: 05:43:41 \n"
     ]
    },
    {
     "name": "stderr",
     "output_type": "stream",
     "text": [
      ": 100%|██████████| 1/1 [00:00<00:00, 100.94it/s]\n"
     ]
    },
    {
     "name": "stdout",
     "output_type": "stream",
     "text": [
      "Validation loss: 2.463574171066284\n",
      "============ Test epoch 27 ============\n",
      "Client  0\n",
      "Number of sessions(hdfs_test_normal): 5813\n",
      "Number of sessions(hdfs_test_abnormal): 1136\n"
     ]
    },
    {
     "name": "stderr",
     "output_type": "stream",
     "text": [
      "100%|██████████| 5813/5813 [02:47<00:00, 34.66it/s]\n",
      "100%|██████████| 1136/1136 [00:18<00:00, 60.13it/s]\n"
     ]
    },
    {
     "name": "stdout",
     "output_type": "stream",
     "text": [
      "false positive (FP): 490, false negative (FN): 24, Precision: 87.216%, Recall: 99.287%, F1-measure: 92.861%\n",
      "actual positive (TP+FN): 3367, actual negative (FP+TN): 110673\n",
      "accuracy: 99.549\n",
      "Finished Predicting\n",
      "elapsed_time: 186.61351680755615\n",
      "Client  1\n",
      "Number of sessions(hdfs_test_normal): 5574\n",
      "Number of sessions(hdfs_test_abnormal): 1139\n"
     ]
    },
    {
     "name": "stderr",
     "output_type": "stream",
     "text": [
      "100%|██████████| 5574/5574 [02:53<00:00, 32.06it/s]\n",
      "100%|██████████| 1139/1139 [00:19<00:00, 57.88it/s]\n"
     ]
    },
    {
     "name": "stdout",
     "output_type": "stream",
     "text": [
      "false positive (FP): 528, false negative (FN): 26, Precision: 86.353%, Recall: 99.228%, F1-measure: 92.344%\n",
      "actual positive (TP+FN): 3367, actual negative (FP+TN): 110673\n",
      "accuracy: 99.514\n",
      "Finished Predicting\n",
      "elapsed_time: 193.52022862434387\n",
      "Client  2\n",
      "Number of sessions(hdfs_test_normal): 5730\n",
      "Number of sessions(hdfs_test_abnormal): 1118\n"
     ]
    },
    {
     "name": "stderr",
     "output_type": "stream",
     "text": [
      "100%|██████████| 5730/5730 [02:10<00:00, 43.76it/s]\n",
      "100%|██████████| 1118/1118 [00:07<00:00, 142.89it/s]\n"
     ]
    },
    {
     "name": "stdout",
     "output_type": "stream",
     "text": [
      "false positive (FP): 468, false negative (FN): 30, Precision: 87.700%, Recall: 99.109%, F1-measure: 93.056%\n",
      "actual positive (TP+FN): 3367, actual negative (FP+TN): 110673\n",
      "accuracy: 99.563\n",
      "Finished Predicting\n",
      "elapsed_time: 138.77428340911865\n",
      "Client  3\n",
      "Number of sessions(hdfs_test_normal): 5747\n",
      "Number of sessions(hdfs_test_abnormal): 1159\n"
     ]
    },
    {
     "name": "stderr",
     "output_type": "stream",
     "text": [
      "100%|██████████| 5747/5747 [02:38<00:00, 36.26it/s] \n",
      "100%|██████████| 1159/1159 [00:20<00:00, 56.35it/s]\n"
     ]
    },
    {
     "name": "stdout",
     "output_type": "stream",
     "text": [
      "false positive (FP): 451, false negative (FN): 28, Precision: 88.100%, Recall: 99.168%, F1-measure: 93.307%\n",
      "actual positive (TP+FN): 3367, actual negative (FP+TN): 110673\n",
      "accuracy: 99.580\n",
      "Finished Predicting\n",
      "elapsed_time: 179.04295110702515\n",
      "Client  4\n",
      "Number of sessions(hdfs_test_normal): 5623\n",
      "Number of sessions(hdfs_test_abnormal): 1121\n"
     ]
    },
    {
     "name": "stderr",
     "output_type": "stream",
     "text": [
      "100%|██████████| 5623/5623 [02:56<00:00, 31.82it/s]\n",
      "100%|██████████| 1121/1121 [00:19<00:00, 57.71it/s]\n"
     ]
    },
    {
     "name": "stdout",
     "output_type": "stream",
     "text": [
      "false positive (FP): 525, false negative (FN): 32, Precision: 86.399%, Recall: 99.050%, F1-measure: 92.293%\n",
      "actual positive (TP+FN): 3367, actual negative (FP+TN): 110673\n",
      "accuracy: 99.512\n",
      "Finished Predicting\n",
      "elapsed_time: 196.11348509788513\n",
      "============ Train epoch 28 ============\n",
      "Client  0\n",
      "File ../data/hdfs/hdfs_train, number of sessions 971\n",
      "File ../data/hdfs/hdfs_train, number of seqs 9420\n",
      "sampling...\n"
     ]
    },
    {
     "name": "stderr",
     "output_type": "stream",
     "text": [
      "100%|██████████| 1058/1058 [00:00<00:00, 3379.17it/s]\n"
     ]
    },
    {
     "name": "stdout",
     "output_type": "stream",
     "text": [
      "File ../data/hdfs/hdfs_test_normal, number of sessions 110673\n",
      "File ../data/hdfs/hdfs_test_normal, number of seqs 1058\n",
      "Find 9420 train logs, 1058 validation logs\n",
      "Train batch size 2048 ,Validation batch size 2048\n",
      "Starting epoch: 0 | phase: train | ⏰: 05:58:50 | Learning rate: 0.000031\n"
     ]
    },
    {
     "name": "stderr",
     "output_type": "stream",
     "text": [
      "Train loss: 2.41463: 100%|██████████| 5/5 [00:00<00:00, 53.40it/s]\n"
     ]
    },
    {
     "name": "stdout",
     "output_type": "stream",
     "text": [
      "Starting epoch: 0 | phase: valid | ⏰: 05:58:50 \n"
     ]
    },
    {
     "name": "stderr",
     "output_type": "stream",
     "text": [
      ": 100%|██████████| 1/1 [00:00<00:00, 97.50it/s]\n"
     ]
    },
    {
     "name": "stdout",
     "output_type": "stream",
     "text": [
      "Validation loss: 2.3928909301757812\n",
      "Client  1\n",
      "File ../data/hdfs/hdfs_train, number of sessions 971\n",
      "File ../data/hdfs/hdfs_train, number of seqs 9080\n",
      "sampling...\n"
     ]
    },
    {
     "name": "stderr",
     "output_type": "stream",
     "text": [
      "100%|██████████| 1046/1046 [00:00<00:00, 3538.61it/s]\n"
     ]
    },
    {
     "name": "stdout",
     "output_type": "stream",
     "text": [
      "File ../data/hdfs/hdfs_test_normal, number of sessions 110673\n",
      "File ../data/hdfs/hdfs_test_normal, number of seqs 1046\n",
      "Find 9080 train logs, 1046 validation logs\n",
      "Train batch size 2048 ,Validation batch size 2048\n",
      "Starting epoch: 0 | phase: train | ⏰: 05:59:02 | Learning rate: 0.000031\n"
     ]
    },
    {
     "name": "stderr",
     "output_type": "stream",
     "text": [
      "Train loss: 2.41885: 100%|██████████| 5/5 [00:00<00:00, 55.85it/s]\n"
     ]
    },
    {
     "name": "stdout",
     "output_type": "stream",
     "text": [
      "Starting epoch: 0 | phase: valid | ⏰: 05:59:02 \n"
     ]
    },
    {
     "name": "stderr",
     "output_type": "stream",
     "text": [
      ": 100%|██████████| 1/1 [00:00<00:00, 100.92it/s]\n"
     ]
    },
    {
     "name": "stdout",
     "output_type": "stream",
     "text": [
      "Validation loss: 2.404384136199951\n",
      "Client  2\n",
      "File ../data/hdfs/hdfs_train, number of sessions 971\n",
      "File ../data/hdfs/hdfs_train, number of seqs 9485\n",
      "sampling...\n"
     ]
    },
    {
     "name": "stderr",
     "output_type": "stream",
     "text": [
      "100%|██████████| 1051/1051 [00:00<00:00, 3611.50it/s]\n"
     ]
    },
    {
     "name": "stdout",
     "output_type": "stream",
     "text": [
      "File ../data/hdfs/hdfs_test_normal, number of sessions 110673\n",
      "File ../data/hdfs/hdfs_test_normal, number of seqs 1051\n",
      "Find 9485 train logs, 1051 validation logs\n",
      "Train batch size 2048 ,Validation batch size 2048\n",
      "Starting epoch: 0 | phase: train | ⏰: 05:59:14 | Learning rate: 0.000031\n"
     ]
    },
    {
     "name": "stderr",
     "output_type": "stream",
     "text": [
      "Train loss: 2.42648: 100%|██████████| 5/5 [00:00<00:00, 52.98it/s]\n"
     ]
    },
    {
     "name": "stdout",
     "output_type": "stream",
     "text": [
      "Starting epoch: 0 | phase: valid | ⏰: 05:59:14 \n"
     ]
    },
    {
     "name": "stderr",
     "output_type": "stream",
     "text": [
      ": 100%|██████████| 1/1 [00:00<00:00, 96.47it/s]\n"
     ]
    },
    {
     "name": "stdout",
     "output_type": "stream",
     "text": [
      "Validation loss: 2.399244785308838\n",
      "Client  3\n",
      "File ../data/hdfs/hdfs_train, number of sessions 971\n",
      "File ../data/hdfs/hdfs_train, number of seqs 9267\n",
      "sampling...\n"
     ]
    },
    {
     "name": "stderr",
     "output_type": "stream",
     "text": [
      "100%|██████████| 1057/1057 [00:00<00:00, 3307.49it/s]\n"
     ]
    },
    {
     "name": "stdout",
     "output_type": "stream",
     "text": [
      "File ../data/hdfs/hdfs_test_normal, number of sessions 110673\n",
      "File ../data/hdfs/hdfs_test_normal, number of seqs 1057\n",
      "Find 9267 train logs, 1057 validation logs\n",
      "Train batch size 2048 ,Validation batch size 2048\n",
      "Starting epoch: 0 | phase: train | ⏰: 05:59:26 | Learning rate: 0.000031\n"
     ]
    },
    {
     "name": "stderr",
     "output_type": "stream",
     "text": [
      "Train loss: 2.41336: 100%|██████████| 5/5 [00:00<00:00, 53.67it/s]\n"
     ]
    },
    {
     "name": "stdout",
     "output_type": "stream",
     "text": [
      "Starting epoch: 0 | phase: valid | ⏰: 05:59:26 \n"
     ]
    },
    {
     "name": "stderr",
     "output_type": "stream",
     "text": [
      ": 100%|██████████| 1/1 [00:00<00:00, 91.20it/s]"
     ]
    },
    {
     "name": "stdout",
     "output_type": "stream",
     "text": [
      "Validation loss: 2.4061591625213623\n",
      "Client  4\n"
     ]
    },
    {
     "name": "stderr",
     "output_type": "stream",
     "text": [
      "\n"
     ]
    },
    {
     "name": "stdout",
     "output_type": "stream",
     "text": [
      "File ../data/hdfs/hdfs_train, number of sessions 971\n",
      "File ../data/hdfs/hdfs_train, number of seqs 9323\n",
      "sampling...\n"
     ]
    },
    {
     "name": "stderr",
     "output_type": "stream",
     "text": [
      "100%|██████████| 1044/1044 [00:00<00:00, 3437.27it/s]\n"
     ]
    },
    {
     "name": "stdout",
     "output_type": "stream",
     "text": [
      "File ../data/hdfs/hdfs_test_normal, number of sessions 110673\n",
      "File ../data/hdfs/hdfs_test_normal, number of seqs 1044\n",
      "Find 9323 train logs, 1044 validation logs\n",
      "Train batch size 2048 ,Validation batch size 2048\n",
      "Starting epoch: 0 | phase: train | ⏰: 05:59:37 | Learning rate: 0.000031\n"
     ]
    },
    {
     "name": "stderr",
     "output_type": "stream",
     "text": [
      "Train loss: 2.41183: 100%|██████████| 5/5 [00:00<00:00, 52.37it/s]\n"
     ]
    },
    {
     "name": "stdout",
     "output_type": "stream",
     "text": [
      "Starting epoch: 0 | phase: valid | ⏰: 05:59:37 \n"
     ]
    },
    {
     "name": "stderr",
     "output_type": "stream",
     "text": [
      ": 100%|██████████| 1/1 [00:00<00:00, 96.76it/s]\n"
     ]
    },
    {
     "name": "stdout",
     "output_type": "stream",
     "text": [
      "Validation loss: 2.3926568031311035\n",
      "============ Test epoch 28 ============\n",
      "Client  0\n",
      "Number of sessions(hdfs_test_normal): 5813\n",
      "Number of sessions(hdfs_test_abnormal): 1136\n"
     ]
    },
    {
     "name": "stderr",
     "output_type": "stream",
     "text": [
      "100%|██████████| 5813/5813 [02:41<00:00, 35.90it/s]\n",
      "100%|██████████| 1136/1136 [00:12<00:00, 88.10it/s]\n"
     ]
    },
    {
     "name": "stdout",
     "output_type": "stream",
     "text": [
      "false positive (FP): 490, false negative (FN): 24, Precision: 87.216%, Recall: 99.287%, F1-measure: 92.861%\n",
      "actual positive (TP+FN): 3367, actual negative (FP+TN): 110673\n",
      "accuracy: 99.549\n",
      "Finished Predicting\n",
      "elapsed_time: 174.8312475681305\n",
      "Client  1\n",
      "Number of sessions(hdfs_test_normal): 5574\n",
      "Number of sessions(hdfs_test_abnormal): 1139\n"
     ]
    },
    {
     "name": "stderr",
     "output_type": "stream",
     "text": [
      "100%|██████████| 5574/5574 [02:43<00:00, 34.15it/s]\n",
      "100%|██████████| 1139/1139 [00:19<00:00, 58.56it/s]\n"
     ]
    },
    {
     "name": "stdout",
     "output_type": "stream",
     "text": [
      "false positive (FP): 528, false negative (FN): 26, Precision: 86.353%, Recall: 99.228%, F1-measure: 92.344%\n",
      "actual positive (TP+FN): 3367, actual negative (FP+TN): 110673\n",
      "accuracy: 99.514\n",
      "Finished Predicting\n",
      "elapsed_time: 182.65447163581848\n",
      "Client  2\n",
      "Number of sessions(hdfs_test_normal): 5730\n",
      "Number of sessions(hdfs_test_abnormal): 1118\n"
     ]
    },
    {
     "name": "stderr",
     "output_type": "stream",
     "text": [
      "100%|██████████| 5730/5730 [02:45<00:00, 34.64it/s]\n",
      "100%|██████████| 1118/1118 [00:19<00:00, 56.74it/s]\n"
     ]
    },
    {
     "name": "stdout",
     "output_type": "stream",
     "text": [
      "false positive (FP): 468, false negative (FN): 30, Precision: 87.700%, Recall: 99.109%, F1-measure: 93.056%\n",
      "actual positive (TP+FN): 3367, actual negative (FP+TN): 110673\n",
      "accuracy: 99.563\n",
      "Finished Predicting\n",
      "elapsed_time: 185.10636854171753\n",
      "Client  3\n",
      "Number of sessions(hdfs_test_normal): 5747\n",
      "Number of sessions(hdfs_test_abnormal): 1159\n"
     ]
    },
    {
     "name": "stderr",
     "output_type": "stream",
     "text": [
      "100%|██████████| 5747/5747 [03:02<00:00, 31.56it/s]\n",
      "100%|██████████| 1159/1159 [00:20<00:00, 57.39it/s]\n"
     ]
    },
    {
     "name": "stdout",
     "output_type": "stream",
     "text": [
      "false positive (FP): 451, false negative (FN): 28, Precision: 88.100%, Recall: 99.168%, F1-measure: 93.307%\n",
      "actual positive (TP+FN): 3367, actual negative (FP+TN): 110673\n",
      "accuracy: 99.580\n",
      "Finished Predicting\n",
      "elapsed_time: 202.3172779083252\n",
      "Client  4\n",
      "Number of sessions(hdfs_test_normal): 5623\n",
      "Number of sessions(hdfs_test_abnormal): 1121\n"
     ]
    },
    {
     "name": "stderr",
     "output_type": "stream",
     "text": [
      "100%|██████████| 5623/5623 [02:51<00:00, 32.72it/s]\n",
      "100%|██████████| 1121/1121 [00:15<00:00, 74.09it/s]\n"
     ]
    },
    {
     "name": "stdout",
     "output_type": "stream",
     "text": [
      "false positive (FP): 525, false negative (FN): 32, Precision: 86.399%, Recall: 99.050%, F1-measure: 92.293%\n",
      "actual positive (TP+FN): 3367, actual negative (FP+TN): 110673\n",
      "accuracy: 99.512\n",
      "Finished Predicting\n",
      "elapsed_time: 187.00860571861267\n",
      "============ Train epoch 29 ============\n",
      "Client  0\n",
      "File ../data/hdfs/hdfs_train, number of sessions 971\n",
      "File ../data/hdfs/hdfs_train, number of seqs 9420\n",
      "sampling...\n"
     ]
    },
    {
     "name": "stderr",
     "output_type": "stream",
     "text": [
      "100%|██████████| 1058/1058 [00:00<00:00, 3497.69it/s]\n"
     ]
    },
    {
     "name": "stdout",
     "output_type": "stream",
     "text": [
      "File ../data/hdfs/hdfs_test_normal, number of sessions 110673\n",
      "File ../data/hdfs/hdfs_test_normal, number of seqs 1058\n",
      "Find 9420 train logs, 1058 validation logs\n",
      "Train batch size 2048 ,Validation batch size 2048\n",
      "Starting epoch: 0 | phase: train | ⏰: 06:15:24 | Learning rate: 0.000031\n"
     ]
    },
    {
     "name": "stderr",
     "output_type": "stream",
     "text": [
      "Train loss: 2.35422: 100%|██████████| 5/5 [00:00<00:00, 50.52it/s]\n"
     ]
    },
    {
     "name": "stdout",
     "output_type": "stream",
     "text": [
      "Starting epoch: 0 | phase: valid | ⏰: 06:15:24 \n"
     ]
    },
    {
     "name": "stderr",
     "output_type": "stream",
     "text": [
      ": 100%|██████████| 1/1 [00:00<00:00, 66.54it/s]\n"
     ]
    },
    {
     "name": "stdout",
     "output_type": "stream",
     "text": [
      "Validation loss: 2.3444392681121826\n",
      "Client  1\n",
      "File ../data/hdfs/hdfs_train, number of sessions 971\n",
      "File ../data/hdfs/hdfs_train, number of seqs 9080\n",
      "sampling...\n"
     ]
    },
    {
     "name": "stderr",
     "output_type": "stream",
     "text": [
      "100%|██████████| 1046/1046 [00:00<00:00, 3515.05it/s]\n"
     ]
    },
    {
     "name": "stdout",
     "output_type": "stream",
     "text": [
      "File ../data/hdfs/hdfs_test_normal, number of sessions 110673\n",
      "File ../data/hdfs/hdfs_test_normal, number of seqs 1046\n",
      "Find 9080 train logs, 1046 validation logs\n",
      "Train batch size 2048 ,Validation batch size 2048\n",
      "Starting epoch: 0 | phase: train | ⏰: 06:15:36 | Learning rate: 0.000031\n"
     ]
    },
    {
     "name": "stderr",
     "output_type": "stream",
     "text": [
      "Train loss: 2.35666: 100%|██████████| 5/5 [00:00<00:00, 53.24it/s]\n"
     ]
    },
    {
     "name": "stdout",
     "output_type": "stream",
     "text": [
      "Starting epoch: 0 | phase: valid | ⏰: 06:15:36 \n"
     ]
    },
    {
     "name": "stderr",
     "output_type": "stream",
     "text": [
      ": 100%|██████████| 1/1 [00:00<00:00, 85.76it/s]\n"
     ]
    },
    {
     "name": "stdout",
     "output_type": "stream",
     "text": [
      "Validation loss: 2.3369545936584473\n",
      "Client  2\n",
      "File ../data/hdfs/hdfs_train, number of sessions 971\n",
      "File ../data/hdfs/hdfs_train, number of seqs 9485\n",
      "sampling...\n"
     ]
    },
    {
     "name": "stderr",
     "output_type": "stream",
     "text": [
      "100%|██████████| 1051/1051 [00:00<00:00, 3438.40it/s]\n"
     ]
    },
    {
     "name": "stdout",
     "output_type": "stream",
     "text": [
      "File ../data/hdfs/hdfs_test_normal, number of sessions 110673\n",
      "File ../data/hdfs/hdfs_test_normal, number of seqs 1051\n",
      "Find 9485 train logs, 1051 validation logs\n",
      "Train batch size 2048 ,Validation batch size 2048\n",
      "Starting epoch: 0 | phase: train | ⏰: 06:15:48 | Learning rate: 0.000031\n"
     ]
    },
    {
     "name": "stderr",
     "output_type": "stream",
     "text": [
      "Train loss: 2.36745: 100%|██████████| 5/5 [00:00<00:00, 54.02it/s]\n"
     ]
    },
    {
     "name": "stdout",
     "output_type": "stream",
     "text": [
      "Starting epoch: 0 | phase: valid | ⏰: 06:15:48 \n"
     ]
    },
    {
     "name": "stderr",
     "output_type": "stream",
     "text": [
      ": 100%|██████████| 1/1 [00:00<00:00, 99.87it/s]\n"
     ]
    },
    {
     "name": "stdout",
     "output_type": "stream",
     "text": [
      "Validation loss: 2.3366687297821045\n",
      "Client  3\n",
      "File ../data/hdfs/hdfs_train, number of sessions 971\n",
      "File ../data/hdfs/hdfs_train, number of seqs 9267\n",
      "sampling...\n"
     ]
    },
    {
     "name": "stderr",
     "output_type": "stream",
     "text": [
      "100%|██████████| 1057/1057 [00:00<00:00, 3186.96it/s]\n"
     ]
    },
    {
     "name": "stdout",
     "output_type": "stream",
     "text": [
      "File ../data/hdfs/hdfs_test_normal, number of sessions 110673\n",
      "File ../data/hdfs/hdfs_test_normal, number of seqs 1057\n",
      "Find 9267 train logs, 1057 validation logs\n",
      "Train batch size 2048 ,Validation batch size 2048\n",
      "Starting epoch: 0 | phase: train | ⏰: 06:16:00 | Learning rate: 0.000031\n"
     ]
    },
    {
     "name": "stderr",
     "output_type": "stream",
     "text": [
      "Train loss: 2.34941: 100%|██████████| 5/5 [00:00<00:00, 54.78it/s]\n"
     ]
    },
    {
     "name": "stdout",
     "output_type": "stream",
     "text": [
      "Starting epoch: 0 | phase: valid | ⏰: 06:16:00 \n"
     ]
    },
    {
     "name": "stderr",
     "output_type": "stream",
     "text": [
      ": 100%|██████████| 1/1 [00:00<00:00, 104.17it/s]\n"
     ]
    },
    {
     "name": "stdout",
     "output_type": "stream",
     "text": [
      "Validation loss: 2.337707757949829\n",
      "Client  4\n",
      "File ../data/hdfs/hdfs_train, number of sessions 971\n",
      "File ../data/hdfs/hdfs_train, number of seqs 9323\n",
      "sampling...\n"
     ]
    },
    {
     "name": "stderr",
     "output_type": "stream",
     "text": [
      "100%|██████████| 1044/1044 [00:00<00:00, 3365.78it/s]\n"
     ]
    },
    {
     "name": "stdout",
     "output_type": "stream",
     "text": [
      "File ../data/hdfs/hdfs_test_normal, number of sessions 110673\n",
      "File ../data/hdfs/hdfs_test_normal, number of seqs 1044\n",
      "Find 9323 train logs, 1044 validation logs\n",
      "Train batch size 2048 ,Validation batch size 2048\n",
      "Starting epoch: 0 | phase: train | ⏰: 06:16:12 | Learning rate: 0.000031\n"
     ]
    },
    {
     "name": "stderr",
     "output_type": "stream",
     "text": [
      "Train loss: 2.35078: 100%|██████████| 5/5 [00:00<00:00, 54.70it/s]\n"
     ]
    },
    {
     "name": "stdout",
     "output_type": "stream",
     "text": [
      "Starting epoch: 0 | phase: valid | ⏰: 06:16:12 \n"
     ]
    },
    {
     "name": "stderr",
     "output_type": "stream",
     "text": [
      ": 100%|██████████| 1/1 [00:00<00:00, 102.97it/s]\n"
     ]
    },
    {
     "name": "stdout",
     "output_type": "stream",
     "text": [
      "Validation loss: 2.3355283737182617\n",
      "============ Test epoch 29 ============\n",
      "Client  0\n",
      "Number of sessions(hdfs_test_normal): 5813\n",
      "Number of sessions(hdfs_test_abnormal): 1136\n"
     ]
    },
    {
     "name": "stderr",
     "output_type": "stream",
     "text": [
      "100%|██████████| 5813/5813 [02:49<00:00, 34.23it/s]\n",
      "100%|██████████| 1136/1136 [00:18<00:00, 60.89it/s]\n"
     ]
    },
    {
     "name": "stdout",
     "output_type": "stream",
     "text": [
      "false positive (FP): 490, false negative (FN): 24, Precision: 87.216%, Recall: 99.287%, F1-measure: 92.861%\n",
      "actual positive (TP+FN): 3367, actual negative (FP+TN): 110673\n",
      "accuracy: 99.549\n",
      "Finished Predicting\n",
      "elapsed_time: 188.48150181770325\n",
      "Client  1\n",
      "Number of sessions(hdfs_test_normal): 5574\n",
      "Number of sessions(hdfs_test_abnormal): 1139\n"
     ]
    },
    {
     "name": "stderr",
     "output_type": "stream",
     "text": [
      "100%|██████████| 5574/5574 [02:47<00:00, 33.29it/s]\n",
      "100%|██████████| 1139/1139 [00:15<00:00, 74.08it/s]\n"
     ]
    },
    {
     "name": "stdout",
     "output_type": "stream",
     "text": [
      "false positive (FP): 528, false negative (FN): 26, Precision: 86.353%, Recall: 99.228%, F1-measure: 92.344%\n",
      "actual positive (TP+FN): 3367, actual negative (FP+TN): 110673\n",
      "accuracy: 99.514\n",
      "Finished Predicting\n",
      "elapsed_time: 182.81552147865295\n",
      "Client  2\n",
      "Number of sessions(hdfs_test_normal): 5730\n",
      "Number of sessions(hdfs_test_abnormal): 1118\n"
     ]
    },
    {
     "name": "stderr",
     "output_type": "stream",
     "text": [
      "100%|██████████| 5730/5730 [02:58<00:00, 32.09it/s]\n",
      "100%|██████████| 1118/1118 [00:19<00:00, 57.58it/s]\n"
     ]
    },
    {
     "name": "stdout",
     "output_type": "stream",
     "text": [
      "false positive (FP): 468, false negative (FN): 30, Precision: 87.700%, Recall: 99.109%, F1-measure: 93.056%\n",
      "actual positive (TP+FN): 3367, actual negative (FP+TN): 110673\n",
      "accuracy: 99.563\n",
      "Finished Predicting\n",
      "elapsed_time: 197.95856308937073\n",
      "Client  3\n",
      "Number of sessions(hdfs_test_normal): 5747\n",
      "Number of sessions(hdfs_test_abnormal): 1159\n"
     ]
    },
    {
     "name": "stderr",
     "output_type": "stream",
     "text": [
      "100%|██████████| 5747/5747 [02:34<00:00, 37.19it/s]\n",
      "100%|██████████| 1159/1159 [00:20<00:00, 56.47it/s]\n"
     ]
    },
    {
     "name": "stdout",
     "output_type": "stream",
     "text": [
      "false positive (FP): 451, false negative (FN): 28, Precision: 88.100%, Recall: 99.168%, F1-measure: 93.307%\n",
      "actual positive (TP+FN): 3367, actual negative (FP+TN): 110673\n",
      "accuracy: 99.580\n",
      "Finished Predicting\n",
      "elapsed_time: 175.04787278175354\n",
      "Client  4\n",
      "Number of sessions(hdfs_test_normal): 5623\n",
      "Number of sessions(hdfs_test_abnormal): 1121\n"
     ]
    },
    {
     "name": "stderr",
     "output_type": "stream",
     "text": [
      "100%|██████████| 5623/5623 [02:40<00:00, 34.95it/s]\n",
      "100%|██████████| 1121/1121 [00:18<00:00, 61.39it/s]\n"
     ]
    },
    {
     "name": "stdout",
     "output_type": "stream",
     "text": [
      "false positive (FP): 525, false negative (FN): 32, Precision: 86.399%, Recall: 99.050%, F1-measure: 92.293%\n",
      "actual positive (TP+FN): 3367, actual negative (FP+TN): 110673\n",
      "accuracy: 99.512\n",
      "Finished Predicting\n",
      "elapsed_time: 179.13402247428894\n",
      "============ Train epoch 30 ============\n",
      "Client  0\n",
      "File ../data/hdfs/hdfs_train, number of sessions 971\n",
      "File ../data/hdfs/hdfs_train, number of seqs 9420\n",
      "sampling...\n"
     ]
    },
    {
     "name": "stderr",
     "output_type": "stream",
     "text": [
      "100%|██████████| 1058/1058 [00:00<00:00, 3431.08it/s]\n"
     ]
    },
    {
     "name": "stdout",
     "output_type": "stream",
     "text": [
      "File ../data/hdfs/hdfs_test_normal, number of sessions 110673\n",
      "File ../data/hdfs/hdfs_test_normal, number of seqs 1058\n",
      "Find 9420 train logs, 1058 validation logs\n",
      "Train batch size 2048 ,Validation batch size 2048\n",
      "Starting epoch: 0 | phase: train | ⏰: 06:31:50 | Learning rate: 0.000031\n"
     ]
    },
    {
     "name": "stderr",
     "output_type": "stream",
     "text": [
      "Train loss: 2.29748: 100%|██████████| 5/5 [00:00<00:00, 52.50it/s]\n"
     ]
    },
    {
     "name": "stdout",
     "output_type": "stream",
     "text": [
      "Starting epoch: 0 | phase: valid | ⏰: 06:31:50 \n"
     ]
    },
    {
     "name": "stderr",
     "output_type": "stream",
     "text": [
      ": 100%|██████████| 1/1 [00:00<00:00, 90.13it/s]\n"
     ]
    },
    {
     "name": "stdout",
     "output_type": "stream",
     "text": [
      "Validation loss: 2.2865631580352783\n",
      "Client  1\n",
      "File ../data/hdfs/hdfs_train, number of sessions 971\n",
      "File ../data/hdfs/hdfs_train, number of seqs 9080\n",
      "sampling...\n"
     ]
    },
    {
     "name": "stderr",
     "output_type": "stream",
     "text": [
      "100%|██████████| 1046/1046 [00:00<00:00, 3543.22it/s]\n"
     ]
    },
    {
     "name": "stdout",
     "output_type": "stream",
     "text": [
      "File ../data/hdfs/hdfs_test_normal, number of sessions 110673\n",
      "File ../data/hdfs/hdfs_test_normal, number of seqs 1046\n",
      "Find 9080 train logs, 1046 validation logs\n",
      "Train batch size 2048 ,Validation batch size 2048\n",
      "Starting epoch: 0 | phase: train | ⏰: 06:32:02 | Learning rate: 0.000031\n"
     ]
    },
    {
     "name": "stderr",
     "output_type": "stream",
     "text": [
      "Train loss: 2.29850: 100%|██████████| 5/5 [00:00<00:00, 53.91it/s]\n"
     ]
    },
    {
     "name": "stdout",
     "output_type": "stream",
     "text": [
      "Starting epoch: 0 | phase: valid | ⏰: 06:32:02 \n"
     ]
    },
    {
     "name": "stderr",
     "output_type": "stream",
     "text": [
      ": 100%|██████████| 1/1 [00:00<00:00, 86.55it/s]\n"
     ]
    },
    {
     "name": "stdout",
     "output_type": "stream",
     "text": [
      "Validation loss: 2.2676913738250732\n",
      "Client  2\n",
      "File ../data/hdfs/hdfs_train, number of sessions 971\n",
      "File ../data/hdfs/hdfs_train, number of seqs 9485\n",
      "sampling...\n"
     ]
    },
    {
     "name": "stderr",
     "output_type": "stream",
     "text": [
      "100%|██████████| 1051/1051 [00:00<00:00, 3509.93it/s]\n"
     ]
    },
    {
     "name": "stdout",
     "output_type": "stream",
     "text": [
      "File ../data/hdfs/hdfs_test_normal, number of sessions 110673\n",
      "File ../data/hdfs/hdfs_test_normal, number of seqs 1051\n",
      "Find 9485 train logs, 1051 validation logs\n",
      "Train batch size 2048 ,Validation batch size 2048\n",
      "Starting epoch: 0 | phase: train | ⏰: 06:32:14 | Learning rate: 0.000031\n"
     ]
    },
    {
     "name": "stderr",
     "output_type": "stream",
     "text": [
      "Train loss: 2.30877: 100%|██████████| 5/5 [00:00<00:00, 51.52it/s]\n"
     ]
    },
    {
     "name": "stdout",
     "output_type": "stream",
     "text": [
      "Starting epoch: 0 | phase: valid | ⏰: 06:32:14 \n"
     ]
    },
    {
     "name": "stderr",
     "output_type": "stream",
     "text": [
      ": 100%|██████████| 1/1 [00:00<00:00, 94.65it/s]\n"
     ]
    },
    {
     "name": "stdout",
     "output_type": "stream",
     "text": [
      "Validation loss: 2.277099132537842\n",
      "Client  3\n",
      "File ../data/hdfs/hdfs_train, number of sessions 971\n",
      "File ../data/hdfs/hdfs_train, number of seqs 9267\n",
      "sampling...\n"
     ]
    },
    {
     "name": "stderr",
     "output_type": "stream",
     "text": [
      "100%|██████████| 1057/1057 [00:00<00:00, 3562.15it/s]\n"
     ]
    },
    {
     "name": "stdout",
     "output_type": "stream",
     "text": [
      "File ../data/hdfs/hdfs_test_normal, number of sessions 110673\n",
      "File ../data/hdfs/hdfs_test_normal, number of seqs 1057\n",
      "Find 9267 train logs, 1057 validation logs\n",
      "Train batch size 2048 ,Validation batch size 2048\n",
      "Starting epoch: 0 | phase: train | ⏰: 06:32:25 | Learning rate: 0.000031\n"
     ]
    },
    {
     "name": "stderr",
     "output_type": "stream",
     "text": [
      "Train loss: 2.29552: 100%|██████████| 5/5 [00:00<00:00, 53.48it/s]\n"
     ]
    },
    {
     "name": "stdout",
     "output_type": "stream",
     "text": [
      "Starting epoch: 0 | phase: valid | ⏰: 06:32:26 \n"
     ]
    },
    {
     "name": "stderr",
     "output_type": "stream",
     "text": [
      ": 100%|██████████| 1/1 [00:00<00:00, 93.15it/s]\n"
     ]
    },
    {
     "name": "stdout",
     "output_type": "stream",
     "text": [
      "Validation loss: 2.266918659210205\n",
      "Client  4\n",
      "File ../data/hdfs/hdfs_train, number of sessions 971\n",
      "File ../data/hdfs/hdfs_train, number of seqs 9323\n",
      "sampling...\n"
     ]
    },
    {
     "name": "stderr",
     "output_type": "stream",
     "text": [
      "100%|██████████| 1044/1044 [00:00<00:00, 3580.23it/s]\n"
     ]
    },
    {
     "name": "stdout",
     "output_type": "stream",
     "text": [
      "File ../data/hdfs/hdfs_test_normal, number of sessions 110673\n",
      "File ../data/hdfs/hdfs_test_normal, number of seqs 1044\n",
      "Find 9323 train logs, 1044 validation logs\n",
      "Train batch size 2048 ,Validation batch size 2048\n",
      "Starting epoch: 0 | phase: train | ⏰: 06:32:37 | Learning rate: 0.000031\n"
     ]
    },
    {
     "name": "stderr",
     "output_type": "stream",
     "text": [
      "Train loss: 2.29287: 100%|██████████| 5/5 [00:00<00:00, 54.09it/s]\n"
     ]
    },
    {
     "name": "stdout",
     "output_type": "stream",
     "text": [
      "Starting epoch: 0 | phase: valid | ⏰: 06:32:37 \n"
     ]
    },
    {
     "name": "stderr",
     "output_type": "stream",
     "text": [
      ": 100%|██████████| 1/1 [00:00<00:00, 95.42it/s]\n"
     ]
    },
    {
     "name": "stdout",
     "output_type": "stream",
     "text": [
      "Validation loss: 2.2874398231506348\n",
      "============ Test epoch 30 ============\n",
      "Client  0\n",
      "Number of sessions(hdfs_test_normal): 5813\n",
      "Number of sessions(hdfs_test_abnormal): 1136\n"
     ]
    },
    {
     "name": "stderr",
     "output_type": "stream",
     "text": [
      "100%|██████████| 5813/5813 [03:04<00:00, 31.46it/s]\n",
      "100%|██████████| 1136/1136 [00:18<00:00, 60.44it/s]\n"
     ]
    },
    {
     "name": "stdout",
     "output_type": "stream",
     "text": [
      "false positive (FP): 490, false negative (FN): 24, Precision: 87.216%, Recall: 99.287%, F1-measure: 92.861%\n",
      "actual positive (TP+FN): 3367, actual negative (FP+TN): 110673\n",
      "accuracy: 99.549\n",
      "Finished Predicting\n",
      "elapsed_time: 203.56056928634644\n",
      "Client  1\n",
      "Number of sessions(hdfs_test_normal): 5574\n",
      "Number of sessions(hdfs_test_abnormal): 1139\n"
     ]
    },
    {
     "name": "stderr",
     "output_type": "stream",
     "text": [
      "100%|██████████| 5574/5574 [02:55<00:00, 31.74it/s]\n",
      "100%|██████████| 1139/1139 [00:19<00:00, 57.44it/s]\n"
     ]
    },
    {
     "name": "stdout",
     "output_type": "stream",
     "text": [
      "false positive (FP): 528, false negative (FN): 26, Precision: 86.353%, Recall: 99.228%, F1-measure: 92.344%\n",
      "actual positive (TP+FN): 3367, actual negative (FP+TN): 110673\n",
      "accuracy: 99.514\n",
      "Finished Predicting\n",
      "elapsed_time: 195.44196009635925\n",
      "Client  2\n",
      "Number of sessions(hdfs_test_normal): 5730\n",
      "Number of sessions(hdfs_test_abnormal): 1118\n"
     ]
    },
    {
     "name": "stderr",
     "output_type": "stream",
     "text": [
      "100%|██████████| 5730/5730 [01:48<00:00, 52.90it/s] \n",
      "100%|██████████| 1118/1118 [00:11<00:00, 95.88it/s]\n"
     ]
    },
    {
     "name": "stdout",
     "output_type": "stream",
     "text": [
      "false positive (FP): 468, false negative (FN): 30, Precision: 87.700%, Recall: 99.109%, F1-measure: 93.056%\n",
      "actual positive (TP+FN): 3367, actual negative (FP+TN): 110673\n",
      "accuracy: 99.563\n",
      "Finished Predicting\n",
      "elapsed_time: 119.9902811050415\n",
      "Client  3\n",
      "Number of sessions(hdfs_test_normal): 5747\n",
      "Number of sessions(hdfs_test_abnormal): 1159\n"
     ]
    },
    {
     "name": "stderr",
     "output_type": "stream",
     "text": [
      "100%|██████████| 5747/5747 [03:02<00:00, 31.42it/s]\n",
      "100%|██████████| 1159/1159 [00:20<00:00, 55.76it/s]\n"
     ]
    },
    {
     "name": "stdout",
     "output_type": "stream",
     "text": [
      "false positive (FP): 451, false negative (FN): 28, Precision: 88.100%, Recall: 99.168%, F1-measure: 93.307%\n",
      "actual positive (TP+FN): 3367, actual negative (FP+TN): 110673\n",
      "accuracy: 99.580\n",
      "Finished Predicting\n",
      "elapsed_time: 203.71803307533264\n",
      "Client  4\n",
      "Number of sessions(hdfs_test_normal): 5623\n",
      "Number of sessions(hdfs_test_abnormal): 1121\n"
     ]
    },
    {
     "name": "stderr",
     "output_type": "stream",
     "text": [
      "100%|██████████| 5623/5623 [02:56<00:00, 31.91it/s]\n",
      "100%|██████████| 1121/1121 [00:19<00:00, 57.82it/s]\n"
     ]
    },
    {
     "name": "stdout",
     "output_type": "stream",
     "text": [
      "false positive (FP): 525, false negative (FN): 32, Precision: 86.399%, Recall: 99.050%, F1-measure: 92.293%\n",
      "actual positive (TP+FN): 3367, actual negative (FP+TN): 110673\n",
      "accuracy: 99.512\n",
      "Finished Predicting\n",
      "elapsed_time: 195.61058068275452\n",
      "============ Train epoch 31 ============\n",
      "Client  0\n",
      "File ../data/hdfs/hdfs_train, number of sessions 971\n",
      "File ../data/hdfs/hdfs_train, number of seqs 9420\n",
      "sampling...\n"
     ]
    },
    {
     "name": "stderr",
     "output_type": "stream",
     "text": [
      "100%|██████████| 1058/1058 [00:00<00:00, 3567.63it/s]\n"
     ]
    },
    {
     "name": "stdout",
     "output_type": "stream",
     "text": [
      "File ../data/hdfs/hdfs_test_normal, number of sessions 110673\n",
      "File ../data/hdfs/hdfs_test_normal, number of seqs 1058\n",
      "Find 9420 train logs, 1058 validation logs\n",
      "Train batch size 2048 ,Validation batch size 2048\n",
      "Starting epoch: 0 | phase: train | ⏰: 06:48:10 | Learning rate: 0.000031\n"
     ]
    },
    {
     "name": "stderr",
     "output_type": "stream",
     "text": [
      "Train loss: 2.24183: 100%|██████████| 5/5 [00:00<00:00, 52.77it/s]\n"
     ]
    },
    {
     "name": "stdout",
     "output_type": "stream",
     "text": [
      "Starting epoch: 0 | phase: valid | ⏰: 06:48:11 \n"
     ]
    },
    {
     "name": "stderr",
     "output_type": "stream",
     "text": [
      ": 100%|██████████| 1/1 [00:00<00:00, 101.61it/s]\n"
     ]
    },
    {
     "name": "stdout",
     "output_type": "stream",
     "text": [
      "Validation loss: 2.223010301589966\n",
      "Client  1\n",
      "File ../data/hdfs/hdfs_train, number of sessions 971\n",
      "File ../data/hdfs/hdfs_train, number of seqs 9080\n",
      "sampling...\n"
     ]
    },
    {
     "name": "stderr",
     "output_type": "stream",
     "text": [
      "100%|██████████| 1046/1046 [00:00<00:00, 3603.34it/s]\n"
     ]
    },
    {
     "name": "stdout",
     "output_type": "stream",
     "text": [
      "File ../data/hdfs/hdfs_test_normal, number of sessions 110673\n",
      "File ../data/hdfs/hdfs_test_normal, number of seqs 1046\n",
      "Find 9080 train logs, 1046 validation logs\n",
      "Train batch size 2048 ,Validation batch size 2048\n",
      "Starting epoch: 0 | phase: train | ⏰: 06:48:22 | Learning rate: 0.000031\n"
     ]
    },
    {
     "name": "stderr",
     "output_type": "stream",
     "text": [
      "Train loss: 2.24483: 100%|██████████| 5/5 [00:00<00:00, 55.49it/s]\n"
     ]
    },
    {
     "name": "stdout",
     "output_type": "stream",
     "text": [
      "Starting epoch: 0 | phase: valid | ⏰: 06:48:22 \n"
     ]
    },
    {
     "name": "stderr",
     "output_type": "stream",
     "text": [
      ": 100%|██████████| 1/1 [00:00<00:00, 97.12it/s]\n"
     ]
    },
    {
     "name": "stdout",
     "output_type": "stream",
     "text": [
      "Validation loss: 2.233175039291382\n",
      "Client  2\n",
      "File ../data/hdfs/hdfs_train, number of sessions 971\n",
      "File ../data/hdfs/hdfs_train, number of seqs 9485\n",
      "sampling...\n"
     ]
    },
    {
     "name": "stderr",
     "output_type": "stream",
     "text": [
      "100%|██████████| 1051/1051 [00:00<00:00, 3477.79it/s]\n"
     ]
    },
    {
     "name": "stdout",
     "output_type": "stream",
     "text": [
      "File ../data/hdfs/hdfs_test_normal, number of sessions 110673\n",
      "File ../data/hdfs/hdfs_test_normal, number of seqs 1051\n",
      "Find 9485 train logs, 1051 validation logs\n",
      "Train batch size 2048 ,Validation batch size 2048\n",
      "Starting epoch: 0 | phase: train | ⏰: 06:48:34 | Learning rate: 0.000031\n"
     ]
    },
    {
     "name": "stderr",
     "output_type": "stream",
     "text": [
      "Train loss: 2.25437: 100%|██████████| 5/5 [00:00<00:00, 53.42it/s]\n"
     ]
    },
    {
     "name": "stdout",
     "output_type": "stream",
     "text": [
      "Starting epoch: 0 | phase: valid | ⏰: 06:48:34 \n"
     ]
    },
    {
     "name": "stderr",
     "output_type": "stream",
     "text": [
      ": 100%|██████████| 1/1 [00:00<00:00, 96.62it/s]\n"
     ]
    },
    {
     "name": "stdout",
     "output_type": "stream",
     "text": [
      "Validation loss: 2.2629942893981934\n",
      "Client  3\n",
      "File ../data/hdfs/hdfs_train, number of sessions 971\n",
      "File ../data/hdfs/hdfs_train, number of seqs 9267\n",
      "sampling...\n"
     ]
    },
    {
     "name": "stderr",
     "output_type": "stream",
     "text": [
      "100%|██████████| 1057/1057 [00:00<00:00, 3463.52it/s]\n"
     ]
    },
    {
     "name": "stdout",
     "output_type": "stream",
     "text": [
      "File ../data/hdfs/hdfs_test_normal, number of sessions 110673\n",
      "File ../data/hdfs/hdfs_test_normal, number of seqs 1057\n",
      "Find 9267 train logs, 1057 validation logs\n",
      "Train batch size 2048 ,Validation batch size 2048\n",
      "Starting epoch: 0 | phase: train | ⏰: 06:48:46 | Learning rate: 0.000031\n"
     ]
    },
    {
     "name": "stderr",
     "output_type": "stream",
     "text": [
      "Train loss: 2.24112: 100%|██████████| 5/5 [00:00<00:00, 53.70it/s]\n"
     ]
    },
    {
     "name": "stdout",
     "output_type": "stream",
     "text": [
      "Starting epoch: 0 | phase: valid | ⏰: 06:48:46 \n"
     ]
    },
    {
     "name": "stderr",
     "output_type": "stream",
     "text": [
      ": 100%|██████████| 1/1 [00:00<00:00, 96.50it/s]\n"
     ]
    },
    {
     "name": "stdout",
     "output_type": "stream",
     "text": [
      "Validation loss: 2.2103092670440674\n",
      "Client  4\n",
      "File ../data/hdfs/hdfs_train, number of sessions 971\n",
      "File ../data/hdfs/hdfs_train, number of seqs 9323\n",
      "sampling...\n"
     ]
    },
    {
     "name": "stderr",
     "output_type": "stream",
     "text": [
      "100%|██████████| 1044/1044 [00:00<00:00, 3462.42it/s]\n"
     ]
    },
    {
     "name": "stdout",
     "output_type": "stream",
     "text": [
      "File ../data/hdfs/hdfs_test_normal, number of sessions 110673\n",
      "File ../data/hdfs/hdfs_test_normal, number of seqs 1044\n",
      "Find 9323 train logs, 1044 validation logs\n",
      "Train batch size 2048 ,Validation batch size 2048\n",
      "Starting epoch: 0 | phase: train | ⏰: 06:48:57 | Learning rate: 0.000031\n"
     ]
    },
    {
     "name": "stderr",
     "output_type": "stream",
     "text": [
      "Train loss: 2.23782: 100%|██████████| 5/5 [00:00<00:00, 52.99it/s]\n"
     ]
    },
    {
     "name": "stdout",
     "output_type": "stream",
     "text": [
      "Starting epoch: 0 | phase: valid | ⏰: 06:48:58 \n"
     ]
    },
    {
     "name": "stderr",
     "output_type": "stream",
     "text": [
      ": 100%|██████████| 1/1 [00:00<00:00, 98.45it/s]\n"
     ]
    },
    {
     "name": "stdout",
     "output_type": "stream",
     "text": [
      "Validation loss: 2.2261881828308105\n",
      "============ Test epoch 31 ============\n",
      "Client  0\n",
      "Number of sessions(hdfs_test_normal): 5813\n",
      "Number of sessions(hdfs_test_abnormal): 1136\n"
     ]
    },
    {
     "name": "stderr",
     "output_type": "stream",
     "text": [
      "100%|██████████| 5813/5813 [02:34<00:00, 37.55it/s]\n",
      "100%|██████████| 1136/1136 [00:18<00:00, 60.47it/s]\n"
     ]
    },
    {
     "name": "stdout",
     "output_type": "stream",
     "text": [
      "false positive (FP): 490, false negative (FN): 24, Precision: 87.216%, Recall: 99.287%, F1-measure: 92.861%\n",
      "actual positive (TP+FN): 3367, actual negative (FP+TN): 110673\n",
      "accuracy: 99.549\n",
      "Finished Predicting\n",
      "elapsed_time: 173.59690237045288\n",
      "Client  1\n",
      "Number of sessions(hdfs_test_normal): 5574\n",
      "Number of sessions(hdfs_test_abnormal): 1139\n"
     ]
    },
    {
     "name": "stderr",
     "output_type": "stream",
     "text": [
      "100%|██████████| 5574/5574 [02:54<00:00, 31.86it/s]\n",
      "100%|██████████| 1139/1139 [00:19<00:00, 57.23it/s]\n"
     ]
    },
    {
     "name": "stdout",
     "output_type": "stream",
     "text": [
      "false positive (FP): 528, false negative (FN): 26, Precision: 86.353%, Recall: 99.228%, F1-measure: 92.344%\n",
      "actual positive (TP+FN): 3367, actual negative (FP+TN): 110673\n",
      "accuracy: 99.514\n",
      "Finished Predicting\n",
      "elapsed_time: 194.85519790649414\n",
      "Client  2\n",
      "Number of sessions(hdfs_test_normal): 5730\n",
      "Number of sessions(hdfs_test_abnormal): 1118\n"
     ]
    },
    {
     "name": "stderr",
     "output_type": "stream",
     "text": [
      "100%|██████████| 5730/5730 [02:30<00:00, 38.00it/s]\n",
      "100%|██████████| 1118/1118 [00:15<00:00, 73.69it/s]\n"
     ]
    },
    {
     "name": "stdout",
     "output_type": "stream",
     "text": [
      "false positive (FP): 468, false negative (FN): 30, Precision: 87.700%, Recall: 99.109%, F1-measure: 93.056%\n",
      "actual positive (TP+FN): 3367, actual negative (FP+TN): 110673\n",
      "accuracy: 99.563\n",
      "Finished Predicting\n",
      "elapsed_time: 165.9673717021942\n",
      "Client  3\n",
      "Number of sessions(hdfs_test_normal): 5747\n",
      "Number of sessions(hdfs_test_abnormal): 1159\n"
     ]
    },
    {
     "name": "stderr",
     "output_type": "stream",
     "text": [
      "100%|██████████| 5747/5747 [02:21<00:00, 40.60it/s]\n",
      "100%|██████████| 1159/1159 [00:16<00:00, 72.15it/s]\n"
     ]
    },
    {
     "name": "stdout",
     "output_type": "stream",
     "text": [
      "false positive (FP): 451, false negative (FN): 28, Precision: 88.100%, Recall: 99.168%, F1-measure: 93.307%\n",
      "actual positive (TP+FN): 3367, actual negative (FP+TN): 110673\n",
      "accuracy: 99.580\n",
      "Finished Predicting\n",
      "elapsed_time: 157.61433744430542\n",
      "Client  4\n",
      "Number of sessions(hdfs_test_normal): 5623\n",
      "Number of sessions(hdfs_test_abnormal): 1121\n"
     ]
    },
    {
     "name": "stderr",
     "output_type": "stream",
     "text": [
      "100%|██████████| 5623/5623 [02:17<00:00, 40.80it/s]\n",
      "100%|██████████| 1121/1121 [00:15<00:00, 74.48it/s]\n"
     ]
    },
    {
     "name": "stdout",
     "output_type": "stream",
     "text": [
      "false positive (FP): 525, false negative (FN): 32, Precision: 86.399%, Recall: 99.050%, F1-measure: 92.293%\n",
      "actual positive (TP+FN): 3367, actual negative (FP+TN): 110673\n",
      "accuracy: 99.512\n",
      "Finished Predicting\n",
      "elapsed_time: 152.88291382789612\n",
      "============ Train epoch 32 ============\n",
      "Client  0\n",
      "File ../data/hdfs/hdfs_train, number of sessions 971\n",
      "File ../data/hdfs/hdfs_train, number of seqs 9420\n",
      "sampling...\n"
     ]
    },
    {
     "name": "stderr",
     "output_type": "stream",
     "text": [
      "100%|██████████| 1058/1058 [00:00<00:00, 3749.35it/s]\n"
     ]
    },
    {
     "name": "stdout",
     "output_type": "stream",
     "text": [
      "File ../data/hdfs/hdfs_test_normal, number of sessions 110673\n",
      "File ../data/hdfs/hdfs_test_normal, number of seqs 1058\n",
      "Find 9420 train logs, 1058 validation logs\n",
      "Train batch size 2048 ,Validation batch size 2048\n",
      "Starting epoch: 0 | phase: train | ⏰: 07:03:17 | Learning rate: 0.000031\n"
     ]
    },
    {
     "name": "stderr",
     "output_type": "stream",
     "text": [
      "Train loss: 2.19112: 100%|██████████| 5/5 [00:00<00:00, 54.85it/s]\n"
     ]
    },
    {
     "name": "stdout",
     "output_type": "stream",
     "text": [
      "Starting epoch: 0 | phase: valid | ⏰: 07:03:17 \n"
     ]
    },
    {
     "name": "stderr",
     "output_type": "stream",
     "text": [
      ": 100%|██████████| 1/1 [00:00<00:00, 102.23it/s]\n"
     ]
    },
    {
     "name": "stdout",
     "output_type": "stream",
     "text": [
      "Validation loss: 2.2144851684570312\n",
      "Client  1\n",
      "File ../data/hdfs/hdfs_train, number of sessions 971\n",
      "File ../data/hdfs/hdfs_train, number of seqs 9080\n",
      "sampling...\n"
     ]
    },
    {
     "name": "stderr",
     "output_type": "stream",
     "text": [
      "100%|██████████| 1046/1046 [00:00<00:00, 3656.00it/s]\n"
     ]
    },
    {
     "name": "stdout",
     "output_type": "stream",
     "text": [
      "File ../data/hdfs/hdfs_test_normal, number of sessions 110673\n",
      "File ../data/hdfs/hdfs_test_normal, number of seqs 1046\n",
      "Find 9080 train logs, 1046 validation logs\n",
      "Train batch size 2048 ,Validation batch size 2048\n",
      "Starting epoch: 0 | phase: train | ⏰: 07:03:29 | Learning rate: 0.000031\n"
     ]
    },
    {
     "name": "stderr",
     "output_type": "stream",
     "text": [
      "Train loss: 2.19841: 100%|██████████| 5/5 [00:00<00:00, 56.18it/s]\n"
     ]
    },
    {
     "name": "stdout",
     "output_type": "stream",
     "text": [
      "Starting epoch: 0 | phase: valid | ⏰: 07:03:29 \n"
     ]
    },
    {
     "name": "stderr",
     "output_type": "stream",
     "text": [
      ": 100%|██████████| 1/1 [00:00<00:00, 103.47it/s]\n"
     ]
    },
    {
     "name": "stdout",
     "output_type": "stream",
     "text": [
      "Validation loss: 2.1529040336608887\n",
      "Client  2\n",
      "File ../data/hdfs/hdfs_train, number of sessions 971\n",
      "File ../data/hdfs/hdfs_train, number of seqs 9485\n",
      "sampling...\n"
     ]
    },
    {
     "name": "stderr",
     "output_type": "stream",
     "text": [
      "100%|██████████| 1051/1051 [00:00<00:00, 3411.19it/s]\n"
     ]
    },
    {
     "name": "stdout",
     "output_type": "stream",
     "text": [
      "File ../data/hdfs/hdfs_test_normal, number of sessions 110673\n",
      "File ../data/hdfs/hdfs_test_normal, number of seqs 1051\n",
      "Find 9485 train logs, 1051 validation logs\n",
      "Train batch size 2048 ,Validation batch size 2048\n",
      "Starting epoch: 0 | phase: train | ⏰: 07:03:41 | Learning rate: 0.000031\n"
     ]
    },
    {
     "name": "stderr",
     "output_type": "stream",
     "text": [
      "Train loss: 2.20476: 100%|██████████| 5/5 [00:00<00:00, 49.08it/s]\n"
     ]
    },
    {
     "name": "stdout",
     "output_type": "stream",
     "text": [
      "Starting epoch: 0 | phase: valid | ⏰: 07:03:41 \n"
     ]
    },
    {
     "name": "stderr",
     "output_type": "stream",
     "text": [
      ": 100%|██████████| 1/1 [00:00<00:00, 104.90it/s]\n"
     ]
    },
    {
     "name": "stdout",
     "output_type": "stream",
     "text": [
      "Validation loss: 2.182262420654297\n",
      "Client  3\n",
      "File ../data/hdfs/hdfs_train, number of sessions 971\n",
      "File ../data/hdfs/hdfs_train, number of seqs 9267\n",
      "sampling...\n"
     ]
    },
    {
     "name": "stderr",
     "output_type": "stream",
     "text": [
      "100%|██████████| 1057/1057 [00:00<00:00, 3422.07it/s]\n"
     ]
    },
    {
     "name": "stdout",
     "output_type": "stream",
     "text": [
      "File ../data/hdfs/hdfs_test_normal, number of sessions 110673\n",
      "File ../data/hdfs/hdfs_test_normal, number of seqs 1057\n",
      "Find 9267 train logs, 1057 validation logs\n",
      "Train batch size 2048 ,Validation batch size 2048\n",
      "Starting epoch: 0 | phase: train | ⏰: 07:03:52 | Learning rate: 0.000031\n"
     ]
    },
    {
     "name": "stderr",
     "output_type": "stream",
     "text": [
      "Train loss: 2.18895: 100%|██████████| 5/5 [00:00<00:00, 56.41it/s]\n"
     ]
    },
    {
     "name": "stdout",
     "output_type": "stream",
     "text": [
      "Starting epoch: 0 | phase: valid | ⏰: 07:03:52 \n"
     ]
    },
    {
     "name": "stderr",
     "output_type": "stream",
     "text": [
      ": 100%|██████████| 1/1 [00:00<00:00, 106.13it/s]\n"
     ]
    },
    {
     "name": "stdout",
     "output_type": "stream",
     "text": [
      "Validation loss: 2.19512677192688\n",
      "Client  4\n",
      "File ../data/hdfs/hdfs_train, number of sessions 971\n",
      "File ../data/hdfs/hdfs_train, number of seqs 9323\n",
      "sampling...\n"
     ]
    },
    {
     "name": "stderr",
     "output_type": "stream",
     "text": [
      "100%|██████████| 1044/1044 [00:00<00:00, 3543.46it/s]\n"
     ]
    },
    {
     "name": "stdout",
     "output_type": "stream",
     "text": [
      "File ../data/hdfs/hdfs_test_normal, number of sessions 110673\n",
      "File ../data/hdfs/hdfs_test_normal, number of seqs 1044\n",
      "Find 9323 train logs, 1044 validation logs\n",
      "Train batch size 2048 ,Validation batch size 2048\n",
      "Starting epoch: 0 | phase: train | ⏰: 07:04:04 | Learning rate: 0.000031\n"
     ]
    },
    {
     "name": "stderr",
     "output_type": "stream",
     "text": [
      "Train loss: 2.18732: 100%|██████████| 5/5 [00:00<00:00, 55.89it/s]\n"
     ]
    },
    {
     "name": "stdout",
     "output_type": "stream",
     "text": [
      "Starting epoch: 0 | phase: valid | ⏰: 07:04:04 \n"
     ]
    },
    {
     "name": "stderr",
     "output_type": "stream",
     "text": [
      ": 100%|██████████| 1/1 [00:00<00:00, 108.34it/s]\n"
     ]
    },
    {
     "name": "stdout",
     "output_type": "stream",
     "text": [
      "Validation loss: 2.1634113788604736\n",
      "============ Test epoch 32 ============\n",
      "Client  0\n",
      "Number of sessions(hdfs_test_normal): 5813\n",
      "Number of sessions(hdfs_test_abnormal): 1136\n"
     ]
    },
    {
     "name": "stderr",
     "output_type": "stream",
     "text": [
      "100%|██████████| 5813/5813 [02:19<00:00, 41.69it/s]\n",
      "100%|██████████| 1136/1136 [00:14<00:00, 80.57it/s]\n"
     ]
    },
    {
     "name": "stdout",
     "output_type": "stream",
     "text": [
      "false positive (FP): 490, false negative (FN): 24, Precision: 87.216%, Recall: 99.287%, F1-measure: 92.861%\n",
      "actual positive (TP+FN): 3367, actual negative (FP+TN): 110673\n",
      "accuracy: 99.549\n",
      "Finished Predicting\n",
      "elapsed_time: 153.5199375152588\n",
      "Client  1\n",
      "Number of sessions(hdfs_test_normal): 5574\n",
      "Number of sessions(hdfs_test_abnormal): 1139\n"
     ]
    },
    {
     "name": "stderr",
     "output_type": "stream",
     "text": [
      "100%|██████████| 5574/5574 [02:15<00:00, 41.01it/s]\n",
      "100%|██████████| 1139/1139 [00:15<00:00, 74.01it/s]\n"
     ]
    },
    {
     "name": "stdout",
     "output_type": "stream",
     "text": [
      "false positive (FP): 528, false negative (FN): 26, Precision: 86.353%, Recall: 99.228%, F1-measure: 92.344%\n",
      "actual positive (TP+FN): 3367, actual negative (FP+TN): 110673\n",
      "accuracy: 99.514\n",
      "Finished Predicting\n",
      "elapsed_time: 151.29623913764954\n",
      "Client  2\n",
      "Number of sessions(hdfs_test_normal): 5730\n",
      "Number of sessions(hdfs_test_abnormal): 1118\n"
     ]
    },
    {
     "name": "stderr",
     "output_type": "stream",
     "text": [
      "100%|██████████| 5730/5730 [01:46<00:00, 53.62it/s]\n",
      "100%|██████████| 1118/1118 [00:07<00:00, 144.90it/s]\n"
     ]
    },
    {
     "name": "stdout",
     "output_type": "stream",
     "text": [
      "false positive (FP): 468, false negative (FN): 30, Precision: 87.700%, Recall: 99.109%, F1-measure: 93.056%\n",
      "actual positive (TP+FN): 3367, actual negative (FP+TN): 110673\n",
      "accuracy: 99.563\n",
      "Finished Predicting\n",
      "elapsed_time: 114.57589387893677\n",
      "Client  3\n",
      "Number of sessions(hdfs_test_normal): 5747\n",
      "Number of sessions(hdfs_test_abnormal): 1159\n"
     ]
    },
    {
     "name": "stderr",
     "output_type": "stream",
     "text": [
      "100%|██████████| 5747/5747 [02:09<00:00, 44.27it/s]\n",
      "100%|██████████| 1159/1159 [00:16<00:00, 72.31it/s]\n"
     ]
    },
    {
     "name": "stdout",
     "output_type": "stream",
     "text": [
      "false positive (FP): 451, false negative (FN): 28, Precision: 88.100%, Recall: 99.168%, F1-measure: 93.307%\n",
      "actual positive (TP+FN): 3367, actual negative (FP+TN): 110673\n",
      "accuracy: 99.580\n",
      "Finished Predicting\n",
      "elapsed_time: 145.84881687164307\n",
      "Client  4\n",
      "Number of sessions(hdfs_test_normal): 5623\n",
      "Number of sessions(hdfs_test_abnormal): 1121\n"
     ]
    },
    {
     "name": "stderr",
     "output_type": "stream",
     "text": [
      "100%|██████████| 5623/5623 [02:17<00:00, 41.00it/s]\n",
      "100%|██████████| 1121/1121 [00:15<00:00, 74.25it/s]\n"
     ]
    },
    {
     "name": "stdout",
     "output_type": "stream",
     "text": [
      "false positive (FP): 525, false negative (FN): 32, Precision: 86.399%, Recall: 99.050%, F1-measure: 92.293%\n",
      "actual positive (TP+FN): 3367, actual negative (FP+TN): 110673\n",
      "accuracy: 99.512\n",
      "Finished Predicting\n",
      "elapsed_time: 152.24277067184448\n",
      "============ Train epoch 33 ============\n",
      "Client  0\n",
      "File ../data/hdfs/hdfs_train, number of sessions 971\n",
      "File ../data/hdfs/hdfs_train, number of seqs 9420\n",
      "sampling...\n"
     ]
    },
    {
     "name": "stderr",
     "output_type": "stream",
     "text": [
      "100%|██████████| 1058/1058 [00:00<00:00, 3451.59it/s]\n"
     ]
    },
    {
     "name": "stdout",
     "output_type": "stream",
     "text": [
      "File ../data/hdfs/hdfs_test_normal, number of sessions 110673\n",
      "File ../data/hdfs/hdfs_test_normal, number of seqs 1058\n",
      "Find 9420 train logs, 1058 validation logs\n",
      "Train batch size 2048 ,Validation batch size 2048\n",
      "Starting epoch: 0 | phase: train | ⏰: 07:16:16 | Learning rate: 0.000031\n"
     ]
    },
    {
     "name": "stderr",
     "output_type": "stream",
     "text": [
      "Train loss: 2.14540: 100%|██████████| 5/5 [00:00<00:00, 52.97it/s]\n"
     ]
    },
    {
     "name": "stdout",
     "output_type": "stream",
     "text": [
      "Starting epoch: 0 | phase: valid | ⏰: 07:16:16 \n"
     ]
    },
    {
     "name": "stderr",
     "output_type": "stream",
     "text": [
      ": 100%|██████████| 1/1 [00:00<00:00, 97.45it/s]\n"
     ]
    },
    {
     "name": "stdout",
     "output_type": "stream",
     "text": [
      "Validation loss: 2.1499781608581543\n",
      "Client  1\n",
      "File ../data/hdfs/hdfs_train, number of sessions 971\n",
      "File ../data/hdfs/hdfs_train, number of seqs 9080\n",
      "sampling...\n"
     ]
    },
    {
     "name": "stderr",
     "output_type": "stream",
     "text": [
      "100%|██████████| 1046/1046 [00:00<00:00, 3560.62it/s]\n"
     ]
    },
    {
     "name": "stdout",
     "output_type": "stream",
     "text": [
      "File ../data/hdfs/hdfs_test_normal, number of sessions 110673\n",
      "File ../data/hdfs/hdfs_test_normal, number of seqs 1046\n",
      "Find 9080 train logs, 1046 validation logs\n",
      "Train batch size 2048 ,Validation batch size 2048\n",
      "Starting epoch: 0 | phase: train | ⏰: 07:16:28 | Learning rate: 0.000031\n"
     ]
    },
    {
     "name": "stderr",
     "output_type": "stream",
     "text": [
      "Train loss: 2.14635: 100%|██████████| 5/5 [00:00<00:00, 56.32it/s]\n"
     ]
    },
    {
     "name": "stdout",
     "output_type": "stream",
     "text": [
      "Starting epoch: 0 | phase: valid | ⏰: 07:16:28 \n"
     ]
    },
    {
     "name": "stderr",
     "output_type": "stream",
     "text": [
      ": 100%|██████████| 1/1 [00:00<00:00, 98.78it/s]\n"
     ]
    },
    {
     "name": "stdout",
     "output_type": "stream",
     "text": [
      "Validation loss: 2.133671283721924\n",
      "Client  2\n",
      "File ../data/hdfs/hdfs_train, number of sessions 971\n",
      "File ../data/hdfs/hdfs_train, number of seqs 9485\n",
      "sampling...\n"
     ]
    },
    {
     "name": "stderr",
     "output_type": "stream",
     "text": [
      "100%|██████████| 1051/1051 [00:00<00:00, 3528.63it/s]\n"
     ]
    },
    {
     "name": "stdout",
     "output_type": "stream",
     "text": [
      "File ../data/hdfs/hdfs_test_normal, number of sessions 110673\n",
      "File ../data/hdfs/hdfs_test_normal, number of seqs 1051\n",
      "Find 9485 train logs, 1051 validation logs\n",
      "Train batch size 2048 ,Validation batch size 2048\n",
      "Starting epoch: 0 | phase: train | ⏰: 07:16:40 | Learning rate: 0.000031\n"
     ]
    },
    {
     "name": "stderr",
     "output_type": "stream",
     "text": [
      "Train loss: 2.15835: 100%|██████████| 5/5 [00:00<00:00, 53.76it/s]\n"
     ]
    },
    {
     "name": "stdout",
     "output_type": "stream",
     "text": [
      "Starting epoch: 0 | phase: valid | ⏰: 07:16:40 \n"
     ]
    },
    {
     "name": "stderr",
     "output_type": "stream",
     "text": [
      ": 100%|██████████| 1/1 [00:00<00:00, 94.60it/s]\n"
     ]
    },
    {
     "name": "stdout",
     "output_type": "stream",
     "text": [
      "Validation loss: 2.114319324493408\n",
      "Client  3\n",
      "File ../data/hdfs/hdfs_train, number of sessions 971\n",
      "File ../data/hdfs/hdfs_train, number of seqs 9267\n",
      "sampling...\n"
     ]
    },
    {
     "name": "stderr",
     "output_type": "stream",
     "text": [
      "100%|██████████| 1057/1057 [00:00<00:00, 3412.12it/s]\n"
     ]
    },
    {
     "name": "stdout",
     "output_type": "stream",
     "text": [
      "File ../data/hdfs/hdfs_test_normal, number of sessions 110673\n",
      "File ../data/hdfs/hdfs_test_normal, number of seqs 1057\n",
      "Find 9267 train logs, 1057 validation logs\n",
      "Train batch size 2048 ,Validation batch size 2048\n",
      "Starting epoch: 0 | phase: train | ⏰: 07:16:51 | Learning rate: 0.000031\n"
     ]
    },
    {
     "name": "stderr",
     "output_type": "stream",
     "text": [
      "Train loss: 2.13999: 100%|██████████| 5/5 [00:00<00:00, 55.86it/s]\n"
     ]
    },
    {
     "name": "stdout",
     "output_type": "stream",
     "text": [
      "Starting epoch: 0 | phase: valid | ⏰: 07:16:51 \n"
     ]
    },
    {
     "name": "stderr",
     "output_type": "stream",
     "text": [
      ": 100%|██████████| 1/1 [00:00<00:00, 99.83it/s]\n"
     ]
    },
    {
     "name": "stdout",
     "output_type": "stream",
     "text": [
      "Validation loss: 2.102266788482666\n",
      "Client  4\n",
      "File ../data/hdfs/hdfs_train, number of sessions 971\n",
      "File ../data/hdfs/hdfs_train, number of seqs 9323\n",
      "sampling...\n"
     ]
    },
    {
     "name": "stderr",
     "output_type": "stream",
     "text": [
      "100%|██████████| 1044/1044 [00:00<00:00, 3484.83it/s]\n"
     ]
    },
    {
     "name": "stdout",
     "output_type": "stream",
     "text": [
      "File ../data/hdfs/hdfs_test_normal, number of sessions 110673\n",
      "File ../data/hdfs/hdfs_test_normal, number of seqs 1044\n",
      "Find 9323 train logs, 1044 validation logs\n",
      "Train batch size 2048 ,Validation batch size 2048\n",
      "Starting epoch: 0 | phase: train | ⏰: 07:17:03 | Learning rate: 0.000031\n"
     ]
    },
    {
     "name": "stderr",
     "output_type": "stream",
     "text": [
      "Train loss: 2.14142: 100%|██████████| 5/5 [00:00<00:00, 55.61it/s]\n"
     ]
    },
    {
     "name": "stdout",
     "output_type": "stream",
     "text": [
      "Starting epoch: 0 | phase: valid | ⏰: 07:17:03 \n"
     ]
    },
    {
     "name": "stderr",
     "output_type": "stream",
     "text": [
      ": 100%|██████████| 1/1 [00:00<00:00, 99.06it/s]\n"
     ]
    },
    {
     "name": "stdout",
     "output_type": "stream",
     "text": [
      "Validation loss: 2.1198110580444336\n",
      "============ Test epoch 33 ============\n",
      "Client  0\n",
      "Number of sessions(hdfs_test_normal): 5813\n",
      "Number of sessions(hdfs_test_abnormal): 1136\n"
     ]
    },
    {
     "name": "stderr",
     "output_type": "stream",
     "text": [
      "100%|██████████| 5813/5813 [02:23<00:00, 40.57it/s]\n",
      "100%|██████████| 1136/1136 [00:14<00:00, 77.52it/s]\n"
     ]
    },
    {
     "name": "stdout",
     "output_type": "stream",
     "text": [
      "false positive (FP): 490, false negative (FN): 24, Precision: 87.216%, Recall: 99.287%, F1-measure: 92.861%\n",
      "actual positive (TP+FN): 3367, actual negative (FP+TN): 110673\n",
      "accuracy: 99.549\n",
      "Finished Predicting\n",
      "elapsed_time: 157.93196892738342\n",
      "Client  1\n",
      "Number of sessions(hdfs_test_normal): 5574\n",
      "Number of sessions(hdfs_test_abnormal): 1139\n"
     ]
    },
    {
     "name": "stderr",
     "output_type": "stream",
     "text": [
      "100%|██████████| 5574/5574 [02:17<00:00, 40.68it/s]\n",
      "100%|██████████| 1139/1139 [00:15<00:00, 73.65it/s]\n"
     ]
    },
    {
     "name": "stdout",
     "output_type": "stream",
     "text": [
      "false positive (FP): 528, false negative (FN): 26, Precision: 86.353%, Recall: 99.228%, F1-measure: 92.344%\n",
      "actual positive (TP+FN): 3367, actual negative (FP+TN): 110673\n",
      "accuracy: 99.514\n",
      "Finished Predicting\n",
      "elapsed_time: 152.47206091880798\n",
      "Client  2\n",
      "Number of sessions(hdfs_test_normal): 5730\n",
      "Number of sessions(hdfs_test_abnormal): 1118\n"
     ]
    },
    {
     "name": "stderr",
     "output_type": "stream",
     "text": [
      "100%|██████████| 5730/5730 [01:36<00:00, 59.57it/s]\n",
      "100%|██████████| 1118/1118 [00:07<00:00, 145.70it/s]\n"
     ]
    },
    {
     "name": "stdout",
     "output_type": "stream",
     "text": [
      "false positive (FP): 468, false negative (FN): 30, Precision: 87.700%, Recall: 99.109%, F1-measure: 93.056%\n",
      "actual positive (TP+FN): 3367, actual negative (FP+TN): 110673\n",
      "accuracy: 99.563\n",
      "Finished Predicting\n",
      "elapsed_time: 103.85967922210693\n",
      "Client  3\n",
      "Number of sessions(hdfs_test_normal): 5747\n",
      "Number of sessions(hdfs_test_abnormal): 1159\n"
     ]
    },
    {
     "name": "stderr",
     "output_type": "stream",
     "text": [
      "100%|██████████| 5747/5747 [02:19<00:00, 41.10it/s]\n",
      "100%|██████████| 1159/1159 [00:15<00:00, 75.03it/s]\n"
     ]
    },
    {
     "name": "stdout",
     "output_type": "stream",
     "text": [
      "false positive (FP): 451, false negative (FN): 28, Precision: 88.100%, Recall: 99.168%, F1-measure: 93.307%\n",
      "actual positive (TP+FN): 3367, actual negative (FP+TN): 110673\n",
      "accuracy: 99.580\n",
      "Finished Predicting\n",
      "elapsed_time: 155.27716898918152\n",
      "Client  4\n",
      "Number of sessions(hdfs_test_normal): 5623\n",
      "Number of sessions(hdfs_test_abnormal): 1121\n"
     ]
    },
    {
     "name": "stderr",
     "output_type": "stream",
     "text": [
      "100%|██████████| 5623/5623 [02:17<00:00, 41.00it/s]\n",
      "100%|██████████| 1121/1121 [00:15<00:00, 74.39it/s]\n"
     ]
    },
    {
     "name": "stdout",
     "output_type": "stream",
     "text": [
      "false positive (FP): 525, false negative (FN): 32, Precision: 86.399%, Recall: 99.050%, F1-measure: 92.293%\n",
      "actual positive (TP+FN): 3367, actual negative (FP+TN): 110673\n",
      "accuracy: 99.512\n",
      "Finished Predicting\n",
      "elapsed_time: 152.23372673988342\n",
      "============ Train epoch 34 ============\n",
      "Client  0\n",
      "File ../data/hdfs/hdfs_train, number of sessions 971\n",
      "File ../data/hdfs/hdfs_train, number of seqs 9420\n",
      "sampling...\n"
     ]
    },
    {
     "name": "stderr",
     "output_type": "stream",
     "text": [
      "100%|██████████| 1058/1058 [00:00<00:00, 3514.07it/s]\n"
     ]
    },
    {
     "name": "stdout",
     "output_type": "stream",
     "text": [
      "File ../data/hdfs/hdfs_test_normal, number of sessions 110673\n",
      "File ../data/hdfs/hdfs_test_normal, number of seqs 1058\n",
      "Find 9420 train logs, 1058 validation logs\n",
      "Train batch size 2048 ,Validation batch size 2048\n",
      "Starting epoch: 0 | phase: train | ⏰: 07:29:20 | Learning rate: 0.000031\n"
     ]
    },
    {
     "name": "stderr",
     "output_type": "stream",
     "text": [
      "Train loss: 2.10303: 100%|██████████| 5/5 [00:00<00:00, 53.39it/s]\n"
     ]
    },
    {
     "name": "stdout",
     "output_type": "stream",
     "text": [
      "Starting epoch: 0 | phase: valid | ⏰: 07:29:20 \n"
     ]
    },
    {
     "name": "stderr",
     "output_type": "stream",
     "text": [
      ": 100%|██████████| 1/1 [00:00<00:00, 98.98it/s]\n"
     ]
    },
    {
     "name": "stdout",
     "output_type": "stream",
     "text": [
      "Validation loss: 2.0835351943969727\n",
      "Client  1\n",
      "File ../data/hdfs/hdfs_train, number of sessions 971\n",
      "File ../data/hdfs/hdfs_train, number of seqs 9080\n",
      "sampling...\n"
     ]
    },
    {
     "name": "stderr",
     "output_type": "stream",
     "text": [
      "100%|██████████| 1046/1046 [00:00<00:00, 3423.81it/s]\n"
     ]
    },
    {
     "name": "stdout",
     "output_type": "stream",
     "text": [
      "File ../data/hdfs/hdfs_test_normal, number of sessions 110673\n",
      "File ../data/hdfs/hdfs_test_normal, number of seqs 1046\n",
      "Find 9080 train logs, 1046 validation logs\n",
      "Train batch size 2048 ,Validation batch size 2048\n",
      "Starting epoch: 0 | phase: train | ⏰: 07:29:31 | Learning rate: 0.000031\n"
     ]
    },
    {
     "name": "stderr",
     "output_type": "stream",
     "text": [
      "Train loss: 2.10937: 100%|██████████| 5/5 [00:00<00:00, 55.43it/s]\n"
     ]
    },
    {
     "name": "stdout",
     "output_type": "stream",
     "text": [
      "Starting epoch: 0 | phase: valid | ⏰: 07:29:31 \n"
     ]
    },
    {
     "name": "stderr",
     "output_type": "stream",
     "text": [
      ": 100%|██████████| 1/1 [00:00<00:00, 97.23it/s]\n"
     ]
    },
    {
     "name": "stdout",
     "output_type": "stream",
     "text": [
      "Validation loss: 2.050114154815674\n",
      "Client  2\n",
      "File ../data/hdfs/hdfs_train, number of sessions 971\n",
      "File ../data/hdfs/hdfs_train, number of seqs 9485\n",
      "sampling...\n"
     ]
    },
    {
     "name": "stderr",
     "output_type": "stream",
     "text": [
      "100%|██████████| 1051/1051 [00:00<00:00, 3554.77it/s]\n"
     ]
    },
    {
     "name": "stdout",
     "output_type": "stream",
     "text": [
      "File ../data/hdfs/hdfs_test_normal, number of sessions 110673\n",
      "File ../data/hdfs/hdfs_test_normal, number of seqs 1051\n",
      "Find 9485 train logs, 1051 validation logs\n",
      "Train batch size 2048 ,Validation batch size 2048\n",
      "Starting epoch: 0 | phase: train | ⏰: 07:29:43 | Learning rate: 0.000031\n"
     ]
    },
    {
     "name": "stderr",
     "output_type": "stream",
     "text": [
      "Train loss: 2.11901: 100%|██████████| 5/5 [00:00<00:00, 49.18it/s]\n"
     ]
    },
    {
     "name": "stdout",
     "output_type": "stream",
     "text": [
      "Starting epoch: 0 | phase: valid | ⏰: 07:29:43 \n"
     ]
    },
    {
     "name": "stderr",
     "output_type": "stream",
     "text": [
      ": 100%|██████████| 1/1 [00:00<00:00, 102.08it/s]\n"
     ]
    },
    {
     "name": "stdout",
     "output_type": "stream",
     "text": [
      "Validation loss: 2.070998430252075\n",
      "Client  3\n",
      "File ../data/hdfs/hdfs_train, number of sessions 971\n",
      "File ../data/hdfs/hdfs_train, number of seqs 9267\n",
      "sampling...\n"
     ]
    },
    {
     "name": "stderr",
     "output_type": "stream",
     "text": [
      "100%|██████████| 1057/1057 [00:00<00:00, 3460.61it/s]\n"
     ]
    },
    {
     "name": "stdout",
     "output_type": "stream",
     "text": [
      "File ../data/hdfs/hdfs_test_normal, number of sessions 110673\n",
      "File ../data/hdfs/hdfs_test_normal, number of seqs 1057\n",
      "Find 9267 train logs, 1057 validation logs\n",
      "Train batch size 2048 ,Validation batch size 2048\n",
      "Starting epoch: 0 | phase: train | ⏰: 07:29:55 | Learning rate: 0.000031\n"
     ]
    },
    {
     "name": "stderr",
     "output_type": "stream",
     "text": [
      "Train loss: 2.10597: 100%|██████████| 5/5 [00:00<00:00, 55.54it/s]\n"
     ]
    },
    {
     "name": "stdout",
     "output_type": "stream",
     "text": [
      "Starting epoch: 0 | phase: valid | ⏰: 07:29:55 \n"
     ]
    },
    {
     "name": "stderr",
     "output_type": "stream",
     "text": [
      ": 100%|██████████| 1/1 [00:00<00:00, 96.90it/s]\n"
     ]
    },
    {
     "name": "stdout",
     "output_type": "stream",
     "text": [
      "Validation loss: 2.0795767307281494\n",
      "Client  4\n",
      "File ../data/hdfs/hdfs_train, number of sessions 971\n",
      "File ../data/hdfs/hdfs_train, number of seqs 9323\n",
      "sampling...\n"
     ]
    },
    {
     "name": "stderr",
     "output_type": "stream",
     "text": [
      "100%|██████████| 1044/1044 [00:00<00:00, 3669.91it/s]\n"
     ]
    },
    {
     "name": "stdout",
     "output_type": "stream",
     "text": [
      "File ../data/hdfs/hdfs_test_normal, number of sessions 110673\n",
      "File ../data/hdfs/hdfs_test_normal, number of seqs 1044\n",
      "Find 9323 train logs, 1044 validation logs\n",
      "Train batch size 2048 ,Validation batch size 2048\n",
      "Starting epoch: 0 | phase: train | ⏰: 07:30:06 | Learning rate: 0.000031\n"
     ]
    },
    {
     "name": "stderr",
     "output_type": "stream",
     "text": [
      "Train loss: 2.10418: 100%|██████████| 5/5 [00:00<00:00, 55.81it/s]\n"
     ]
    },
    {
     "name": "stdout",
     "output_type": "stream",
     "text": [
      "Starting epoch: 0 | phase: valid | ⏰: 07:30:06 \n"
     ]
    },
    {
     "name": "stderr",
     "output_type": "stream",
     "text": [
      ": 100%|██████████| 1/1 [00:00<00:00, 109.81it/s]\n"
     ]
    },
    {
     "name": "stdout",
     "output_type": "stream",
     "text": [
      "Validation loss: 2.1002488136291504\n",
      "============ Test epoch 34 ============\n",
      "Client  0\n",
      "Number of sessions(hdfs_test_normal): 5813\n",
      "Number of sessions(hdfs_test_abnormal): 1136\n"
     ]
    },
    {
     "name": "stderr",
     "output_type": "stream",
     "text": [
      "100%|██████████| 5813/5813 [01:37<00:00, 59.50it/s]\n",
      "100%|██████████| 1136/1136 [00:14<00:00, 77.71it/s]\n"
     ]
    },
    {
     "name": "stdout",
     "output_type": "stream",
     "text": [
      "false positive (FP): 490, false negative (FN): 24, Precision: 87.216%, Recall: 99.287%, F1-measure: 92.861%\n",
      "actual positive (TP+FN): 3367, actual negative (FP+TN): 110673\n",
      "accuracy: 99.549\n",
      "Finished Predicting\n",
      "elapsed_time: 112.31805157661438\n",
      "Client  1\n",
      "Number of sessions(hdfs_test_normal): 5574\n",
      "Number of sessions(hdfs_test_abnormal): 1139\n"
     ]
    },
    {
     "name": "stderr",
     "output_type": "stream",
     "text": [
      "100%|██████████| 5574/5574 [02:16<00:00, 40.87it/s]\n",
      "100%|██████████| 1139/1139 [00:15<00:00, 74.20it/s]\n"
     ]
    },
    {
     "name": "stdout",
     "output_type": "stream",
     "text": [
      "false positive (FP): 528, false negative (FN): 26, Precision: 86.353%, Recall: 99.228%, F1-measure: 92.344%\n",
      "actual positive (TP+FN): 3367, actual negative (FP+TN): 110673\n",
      "accuracy: 99.514\n",
      "Finished Predicting\n",
      "elapsed_time: 151.73566794395447\n",
      "Client  2\n",
      "Number of sessions(hdfs_test_normal): 5730\n",
      "Number of sessions(hdfs_test_abnormal): 1118\n"
     ]
    },
    {
     "name": "stderr",
     "output_type": "stream",
     "text": [
      "100%|██████████| 5730/5730 [02:20<00:00, 40.65it/s]\n",
      "100%|██████████| 1118/1118 [00:15<00:00, 73.89it/s]\n"
     ]
    },
    {
     "name": "stdout",
     "output_type": "stream",
     "text": [
      "false positive (FP): 468, false negative (FN): 30, Precision: 87.700%, Recall: 99.109%, F1-measure: 93.056%\n",
      "actual positive (TP+FN): 3367, actual negative (FP+TN): 110673\n",
      "accuracy: 99.563\n",
      "Finished Predicting\n",
      "elapsed_time: 156.07782697677612\n",
      "Client  3\n",
      "Number of sessions(hdfs_test_normal): 5747\n",
      "Number of sessions(hdfs_test_abnormal): 1159\n"
     ]
    },
    {
     "name": "stderr",
     "output_type": "stream",
     "text": [
      "100%|██████████| 5747/5747 [02:21<00:00, 40.66it/s]\n",
      "100%|██████████| 1159/1159 [00:15<00:00, 72.75it/s]\n"
     ]
    },
    {
     "name": "stdout",
     "output_type": "stream",
     "text": [
      "false positive (FP): 451, false negative (FN): 28, Precision: 88.100%, Recall: 99.168%, F1-measure: 93.307%\n",
      "actual positive (TP+FN): 3367, actual negative (FP+TN): 110673\n",
      "accuracy: 99.580\n",
      "Finished Predicting\n",
      "elapsed_time: 157.27960920333862\n",
      "Client  4\n",
      "Number of sessions(hdfs_test_normal): 5623\n",
      "Number of sessions(hdfs_test_abnormal): 1121\n"
     ]
    },
    {
     "name": "stderr",
     "output_type": "stream",
     "text": [
      "100%|██████████| 5623/5623 [02:17<00:00, 40.84it/s]\n",
      "100%|██████████| 1121/1121 [00:15<00:00, 74.28it/s]\n"
     ]
    },
    {
     "name": "stdout",
     "output_type": "stream",
     "text": [
      "false positive (FP): 525, false negative (FN): 32, Precision: 86.399%, Recall: 99.050%, F1-measure: 92.293%\n",
      "actual positive (TP+FN): 3367, actual negative (FP+TN): 110673\n",
      "accuracy: 99.512\n",
      "Finished Predicting\n",
      "elapsed_time: 152.78690433502197\n",
      "============ Train epoch 35 ============\n",
      "Client  0\n",
      "File ../data/hdfs/hdfs_train, number of sessions 971\n",
      "File ../data/hdfs/hdfs_train, number of seqs 9420\n",
      "sampling...\n"
     ]
    },
    {
     "name": "stderr",
     "output_type": "stream",
     "text": [
      "100%|██████████| 1058/1058 [00:00<00:00, 3555.15it/s]\n"
     ]
    },
    {
     "name": "stdout",
     "output_type": "stream",
     "text": [
      "File ../data/hdfs/hdfs_test_normal, number of sessions 110673\n",
      "File ../data/hdfs/hdfs_test_normal, number of seqs 1058\n",
      "Find 9420 train logs, 1058 validation logs\n",
      "Train batch size 2048 ,Validation batch size 2048\n",
      "Starting epoch: 0 | phase: train | ⏰: 07:42:31 | Learning rate: 0.000031\n"
     ]
    },
    {
     "name": "stderr",
     "output_type": "stream",
     "text": [
      "Train loss: 2.06665: 100%|██████████| 5/5 [00:00<00:00, 53.96it/s]\n"
     ]
    },
    {
     "name": "stdout",
     "output_type": "stream",
     "text": [
      "Starting epoch: 0 | phase: valid | ⏰: 07:42:31 \n"
     ]
    },
    {
     "name": "stderr",
     "output_type": "stream",
     "text": [
      ": 100%|██████████| 1/1 [00:00<00:00, 96.83it/s]\n"
     ]
    },
    {
     "name": "stdout",
     "output_type": "stream",
     "text": [
      "Validation loss: 2.095284938812256\n",
      "Client  1\n",
      "File ../data/hdfs/hdfs_train, number of sessions 971\n",
      "File ../data/hdfs/hdfs_train, number of seqs 9080\n",
      "sampling...\n"
     ]
    },
    {
     "name": "stderr",
     "output_type": "stream",
     "text": [
      "100%|██████████| 1046/1046 [00:00<00:00, 3236.66it/s]\n"
     ]
    },
    {
     "name": "stdout",
     "output_type": "stream",
     "text": [
      "File ../data/hdfs/hdfs_test_normal, number of sessions 110673\n",
      "File ../data/hdfs/hdfs_test_normal, number of seqs 1046\n",
      "Find 9080 train logs, 1046 validation logs\n",
      "Train batch size 2048 ,Validation batch size 2048\n",
      "Starting epoch: 0 | phase: train | ⏰: 07:42:43 | Learning rate: 0.000031\n"
     ]
    },
    {
     "name": "stderr",
     "output_type": "stream",
     "text": [
      "Train loss: 2.07376: 100%|██████████| 5/5 [00:00<00:00, 57.92it/s]\n"
     ]
    },
    {
     "name": "stdout",
     "output_type": "stream",
     "text": [
      "Starting epoch: 0 | phase: valid | ⏰: 07:42:43 \n"
     ]
    },
    {
     "name": "stderr",
     "output_type": "stream",
     "text": [
      ": 100%|██████████| 1/1 [00:00<00:00, 106.65it/s]\n"
     ]
    },
    {
     "name": "stdout",
     "output_type": "stream",
     "text": [
      "Validation loss: 2.010899066925049\n",
      "Client  2\n",
      "File ../data/hdfs/hdfs_train, number of sessions 971\n",
      "File ../data/hdfs/hdfs_train, number of seqs 9485\n",
      "sampling...\n"
     ]
    },
    {
     "name": "stderr",
     "output_type": "stream",
     "text": [
      "100%|██████████| 1051/1051 [00:00<00:00, 3630.97it/s]\n"
     ]
    },
    {
     "name": "stdout",
     "output_type": "stream",
     "text": [
      "File ../data/hdfs/hdfs_test_normal, number of sessions 110673\n",
      "File ../data/hdfs/hdfs_test_normal, number of seqs 1051\n",
      "Find 9485 train logs, 1051 validation logs\n",
      "Train batch size 2048 ,Validation batch size 2048\n",
      "Starting epoch: 0 | phase: train | ⏰: 07:42:55 | Learning rate: 0.000031\n"
     ]
    },
    {
     "name": "stderr",
     "output_type": "stream",
     "text": [
      "Train loss: 2.08288: 100%|██████████| 5/5 [00:00<00:00, 55.33it/s]\n"
     ]
    },
    {
     "name": "stdout",
     "output_type": "stream",
     "text": [
      "Starting epoch: 0 | phase: valid | ⏰: 07:42:55 \n"
     ]
    },
    {
     "name": "stderr",
     "output_type": "stream",
     "text": [
      ": 100%|██████████| 1/1 [00:00<00:00, 105.83it/s]\n"
     ]
    },
    {
     "name": "stdout",
     "output_type": "stream",
     "text": [
      "Validation loss: 2.064530372619629\n",
      "Client  3\n",
      "File ../data/hdfs/hdfs_train, number of sessions 971\n",
      "File ../data/hdfs/hdfs_train, number of seqs 9267\n",
      "sampling...\n"
     ]
    },
    {
     "name": "stderr",
     "output_type": "stream",
     "text": [
      "100%|██████████| 1057/1057 [00:00<00:00, 3504.12it/s]\n"
     ]
    },
    {
     "name": "stdout",
     "output_type": "stream",
     "text": [
      "File ../data/hdfs/hdfs_test_normal, number of sessions 110673\n",
      "File ../data/hdfs/hdfs_test_normal, number of seqs 1057\n",
      "Find 9267 train logs, 1057 validation logs\n",
      "Train batch size 2048 ,Validation batch size 2048\n",
      "Starting epoch: 0 | phase: train | ⏰: 07:43:06 | Learning rate: 0.000031\n"
     ]
    },
    {
     "name": "stderr",
     "output_type": "stream",
     "text": [
      "Train loss: 2.06906: 100%|██████████| 5/5 [00:00<00:00, 54.85it/s]\n"
     ]
    },
    {
     "name": "stdout",
     "output_type": "stream",
     "text": [
      "Starting epoch: 0 | phase: valid | ⏰: 07:43:06 \n"
     ]
    },
    {
     "name": "stderr",
     "output_type": "stream",
     "text": [
      ": 100%|██████████| 1/1 [00:00<00:00, 104.38it/s]\n"
     ]
    },
    {
     "name": "stdout",
     "output_type": "stream",
     "text": [
      "Validation loss: 2.081911325454712\n",
      "Client  4\n",
      "File ../data/hdfs/hdfs_train, number of sessions 971\n",
      "File ../data/hdfs/hdfs_train, number of seqs 9323\n",
      "sampling...\n"
     ]
    },
    {
     "name": "stderr",
     "output_type": "stream",
     "text": [
      "100%|██████████| 1044/1044 [00:00<00:00, 3459.42it/s]\n"
     ]
    },
    {
     "name": "stdout",
     "output_type": "stream",
     "text": [
      "File ../data/hdfs/hdfs_test_normal, number of sessions 110673\n",
      "File ../data/hdfs/hdfs_test_normal, number of seqs 1044\n",
      "Find 9323 train logs, 1044 validation logs\n",
      "Train batch size 2048 ,Validation batch size 2048\n",
      "Starting epoch: 0 | phase: train | ⏰: 07:43:18 | Learning rate: 0.000031\n"
     ]
    },
    {
     "name": "stderr",
     "output_type": "stream",
     "text": [
      "Train loss: 2.06653: 100%|██████████| 5/5 [00:00<00:00, 56.14it/s]\n"
     ]
    },
    {
     "name": "stdout",
     "output_type": "stream",
     "text": [
      "Starting epoch: 0 | phase: valid | ⏰: 07:43:18 \n"
     ]
    },
    {
     "name": "stderr",
     "output_type": "stream",
     "text": [
      ": 100%|██████████| 1/1 [00:00<00:00, 108.14it/s]\n"
     ]
    },
    {
     "name": "stdout",
     "output_type": "stream",
     "text": [
      "Validation loss: 2.014389991760254\n",
      "============ Test epoch 35 ============\n",
      "Client  0\n",
      "Number of sessions(hdfs_test_normal): 5813\n",
      "Number of sessions(hdfs_test_abnormal): 1136\n"
     ]
    },
    {
     "name": "stderr",
     "output_type": "stream",
     "text": [
      "100%|██████████| 5813/5813 [02:05<00:00, 46.37it/s]\n",
      "100%|██████████| 1136/1136 [00:14<00:00, 80.64it/s]\n"
     ]
    },
    {
     "name": "stdout",
     "output_type": "stream",
     "text": [
      "false positive (FP): 490, false negative (FN): 24, Precision: 87.216%, Recall: 99.287%, F1-measure: 92.861%\n",
      "actual positive (TP+FN): 3367, actual negative (FP+TN): 110673\n",
      "accuracy: 99.549\n",
      "Finished Predicting\n",
      "elapsed_time: 139.4445436000824\n",
      "Client  1\n",
      "Number of sessions(hdfs_test_normal): 5574\n",
      "Number of sessions(hdfs_test_abnormal): 1139\n"
     ]
    },
    {
     "name": "stderr",
     "output_type": "stream",
     "text": [
      "100%|██████████| 5574/5574 [02:15<00:00, 40.99it/s]\n",
      "100%|██████████| 1139/1139 [00:15<00:00, 74.12it/s]\n"
     ]
    },
    {
     "name": "stdout",
     "output_type": "stream",
     "text": [
      "false positive (FP): 528, false negative (FN): 26, Precision: 86.353%, Recall: 99.228%, F1-measure: 92.344%\n",
      "actual positive (TP+FN): 3367, actual negative (FP+TN): 110673\n",
      "accuracy: 99.514\n",
      "Finished Predicting\n",
      "elapsed_time: 151.3596134185791\n",
      "Client  2\n",
      "Number of sessions(hdfs_test_normal): 5730\n",
      "Number of sessions(hdfs_test_abnormal): 1118\n"
     ]
    },
    {
     "name": "stderr",
     "output_type": "stream",
     "text": [
      "100%|██████████| 5730/5730 [01:46<00:00, 53.79it/s]\n",
      "100%|██████████| 1118/1118 [00:07<00:00, 144.57it/s]\n"
     ]
    },
    {
     "name": "stdout",
     "output_type": "stream",
     "text": [
      "false positive (FP): 468, false negative (FN): 30, Precision: 87.700%, Recall: 99.109%, F1-measure: 93.056%\n",
      "actual positive (TP+FN): 3367, actual negative (FP+TN): 110673\n",
      "accuracy: 99.563\n",
      "Finished Predicting\n",
      "elapsed_time: 114.25593614578247\n",
      "Client  3\n",
      "Number of sessions(hdfs_test_normal): 5747\n",
      "Number of sessions(hdfs_test_abnormal): 1159\n"
     ]
    },
    {
     "name": "stderr",
     "output_type": "stream",
     "text": [
      "100%|██████████| 5747/5747 [02:09<00:00, 44.34it/s]\n",
      "100%|██████████| 1159/1159 [00:16<00:00, 72.32it/s]\n"
     ]
    },
    {
     "name": "stdout",
     "output_type": "stream",
     "text": [
      "false positive (FP): 451, false negative (FN): 28, Precision: 88.100%, Recall: 99.168%, F1-measure: 93.307%\n",
      "actual positive (TP+FN): 3367, actual negative (FP+TN): 110673\n",
      "accuracy: 99.580\n",
      "Finished Predicting\n",
      "elapsed_time: 145.64279127120972\n",
      "Client  4\n",
      "Number of sessions(hdfs_test_normal): 5623\n",
      "Number of sessions(hdfs_test_abnormal): 1121\n"
     ]
    },
    {
     "name": "stderr",
     "output_type": "stream",
     "text": [
      "100%|██████████| 5623/5623 [02:17<00:00, 41.00it/s]\n",
      "100%|██████████| 1121/1121 [00:14<00:00, 77.17it/s]\n"
     ]
    },
    {
     "name": "stdout",
     "output_type": "stream",
     "text": [
      "false positive (FP): 525, false negative (FN): 32, Precision: 86.399%, Recall: 99.050%, F1-measure: 92.293%\n",
      "actual positive (TP+FN): 3367, actual negative (FP+TN): 110673\n",
      "accuracy: 99.512\n",
      "Finished Predicting\n",
      "elapsed_time: 151.66808819770813\n",
      "============ Train epoch 36 ============\n",
      "Client  0\n",
      "File ../data/hdfs/hdfs_train, number of sessions 971\n",
      "File ../data/hdfs/hdfs_train, number of seqs 9420\n",
      "sampling...\n"
     ]
    },
    {
     "name": "stderr",
     "output_type": "stream",
     "text": [
      "100%|██████████| 1058/1058 [00:00<00:00, 3489.54it/s]\n"
     ]
    },
    {
     "name": "stdout",
     "output_type": "stream",
     "text": [
      "File ../data/hdfs/hdfs_test_normal, number of sessions 110673\n",
      "File ../data/hdfs/hdfs_test_normal, number of seqs 1058\n",
      "Find 9420 train logs, 1058 validation logs\n",
      "Train batch size 2048 ,Validation batch size 2048\n",
      "Starting epoch: 0 | phase: train | ⏰: 07:55:15 | Learning rate: 0.000031\n"
     ]
    },
    {
     "name": "stderr",
     "output_type": "stream",
     "text": [
      "Train loss: 2.03799: 100%|██████████| 5/5 [00:00<00:00, 52.98it/s]\n"
     ]
    },
    {
     "name": "stdout",
     "output_type": "stream",
     "text": [
      "Starting epoch: 0 | phase: valid | ⏰: 07:55:15 \n"
     ]
    },
    {
     "name": "stderr",
     "output_type": "stream",
     "text": [
      ": 100%|██████████| 1/1 [00:00<00:00, 103.03it/s]"
     ]
    },
    {
     "name": "stdout",
     "output_type": "stream",
     "text": [
      "Validation loss: 2.0170998573303223\n",
      "Client  1\n"
     ]
    },
    {
     "name": "stderr",
     "output_type": "stream",
     "text": [
      "\n"
     ]
    },
    {
     "name": "stdout",
     "output_type": "stream",
     "text": [
      "File ../data/hdfs/hdfs_train, number of sessions 971\n",
      "File ../data/hdfs/hdfs_train, number of seqs 9080\n",
      "sampling...\n"
     ]
    },
    {
     "name": "stderr",
     "output_type": "stream",
     "text": [
      "100%|██████████| 1046/1046 [00:00<00:00, 3597.56it/s]\n"
     ]
    },
    {
     "name": "stdout",
     "output_type": "stream",
     "text": [
      "File ../data/hdfs/hdfs_test_normal, number of sessions 110673\n",
      "File ../data/hdfs/hdfs_test_normal, number of seqs 1046\n",
      "Find 9080 train logs, 1046 validation logs\n",
      "Train batch size 2048 ,Validation batch size 2048\n",
      "Starting epoch: 0 | phase: train | ⏰: 07:55:27 | Learning rate: 0.000031\n"
     ]
    },
    {
     "name": "stderr",
     "output_type": "stream",
     "text": [
      "Train loss: 2.04677: 100%|██████████| 5/5 [00:00<00:00, 56.24it/s]\n"
     ]
    },
    {
     "name": "stdout",
     "output_type": "stream",
     "text": [
      "Starting epoch: 0 | phase: valid | ⏰: 07:55:27 \n"
     ]
    },
    {
     "name": "stderr",
     "output_type": "stream",
     "text": [
      ": 100%|██████████| 1/1 [00:00<00:00, 98.95it/s]\n"
     ]
    },
    {
     "name": "stdout",
     "output_type": "stream",
     "text": [
      "Validation loss: 2.0086557865142822\n",
      "Client  2\n",
      "File ../data/hdfs/hdfs_train, number of sessions 971\n",
      "File ../data/hdfs/hdfs_train, number of seqs 9485\n",
      "sampling...\n"
     ]
    },
    {
     "name": "stderr",
     "output_type": "stream",
     "text": [
      "100%|██████████| 1051/1051 [00:00<00:00, 3468.93it/s]\n"
     ]
    },
    {
     "name": "stdout",
     "output_type": "stream",
     "text": [
      "File ../data/hdfs/hdfs_test_normal, number of sessions 110673\n",
      "File ../data/hdfs/hdfs_test_normal, number of seqs 1051\n",
      "Find 9485 train logs, 1051 validation logs\n",
      "Train batch size 2048 ,Validation batch size 2048\n",
      "Starting epoch: 0 | phase: train | ⏰: 07:55:39 | Learning rate: 0.000031\n"
     ]
    },
    {
     "name": "stderr",
     "output_type": "stream",
     "text": [
      "Train loss: 2.05264: 100%|██████████| 5/5 [00:00<00:00, 54.25it/s]\n"
     ]
    },
    {
     "name": "stdout",
     "output_type": "stream",
     "text": [
      "Starting epoch: 0 | phase: valid | ⏰: 07:55:39 \n"
     ]
    },
    {
     "name": "stderr",
     "output_type": "stream",
     "text": [
      ": 100%|██████████| 1/1 [00:00<00:00, 94.16it/s]"
     ]
    },
    {
     "name": "stdout",
     "output_type": "stream",
     "text": [
      "Validation loss: 1.985551357269287\n",
      "Client  3\n"
     ]
    },
    {
     "name": "stderr",
     "output_type": "stream",
     "text": [
      "\n"
     ]
    },
    {
     "name": "stdout",
     "output_type": "stream",
     "text": [
      "File ../data/hdfs/hdfs_train, number of sessions 971\n",
      "File ../data/hdfs/hdfs_train, number of seqs 9267\n",
      "sampling...\n"
     ]
    },
    {
     "name": "stderr",
     "output_type": "stream",
     "text": [
      "100%|██████████| 1057/1057 [00:00<00:00, 3397.80it/s]\n"
     ]
    },
    {
     "name": "stdout",
     "output_type": "stream",
     "text": [
      "File ../data/hdfs/hdfs_test_normal, number of sessions 110673\n",
      "File ../data/hdfs/hdfs_test_normal, number of seqs 1057\n",
      "Find 9267 train logs, 1057 validation logs\n",
      "Train batch size 2048 ,Validation batch size 2048\n",
      "Starting epoch: 0 | phase: train | ⏰: 07:55:50 | Learning rate: 0.000031\n"
     ]
    },
    {
     "name": "stderr",
     "output_type": "stream",
     "text": [
      "Train loss: 2.03610: 100%|██████████| 5/5 [00:00<00:00, 54.64it/s]\n"
     ]
    },
    {
     "name": "stdout",
     "output_type": "stream",
     "text": [
      "Starting epoch: 0 | phase: valid | ⏰: 07:55:50 \n"
     ]
    },
    {
     "name": "stderr",
     "output_type": "stream",
     "text": [
      ": 100%|██████████| 1/1 [00:00<00:00, 92.28it/s]\n"
     ]
    },
    {
     "name": "stdout",
     "output_type": "stream",
     "text": [
      "Validation loss: 2.0430386066436768\n",
      "Client  4\n",
      "File ../data/hdfs/hdfs_train, number of sessions 971\n",
      "File ../data/hdfs/hdfs_train, number of seqs 9323\n",
      "sampling...\n"
     ]
    },
    {
     "name": "stderr",
     "output_type": "stream",
     "text": [
      "100%|██████████| 1044/1044 [00:00<00:00, 3529.07it/s]\n"
     ]
    },
    {
     "name": "stdout",
     "output_type": "stream",
     "text": [
      "File ../data/hdfs/hdfs_test_normal, number of sessions 110673\n",
      "File ../data/hdfs/hdfs_test_normal, number of seqs 1044\n",
      "Find 9323 train logs, 1044 validation logs\n",
      "Train batch size 2048 ,Validation batch size 2048\n",
      "Starting epoch: 0 | phase: train | ⏰: 07:56:02 | Learning rate: 0.000031\n"
     ]
    },
    {
     "name": "stderr",
     "output_type": "stream",
     "text": [
      "Train loss: 2.03493: 100%|██████████| 5/5 [00:00<00:00, 55.64it/s]\n"
     ]
    },
    {
     "name": "stdout",
     "output_type": "stream",
     "text": [
      "Starting epoch: 0 | phase: valid | ⏰: 07:56:02 \n"
     ]
    },
    {
     "name": "stderr",
     "output_type": "stream",
     "text": [
      ": 100%|██████████| 1/1 [00:00<00:00, 102.12it/s]\n"
     ]
    },
    {
     "name": "stdout",
     "output_type": "stream",
     "text": [
      "Validation loss: 1.9872957468032837\n",
      "============ Test epoch 36 ============\n",
      "Client  0\n",
      "Number of sessions(hdfs_test_normal): 5813\n",
      "Number of sessions(hdfs_test_abnormal): 1136\n"
     ]
    },
    {
     "name": "stderr",
     "output_type": "stream",
     "text": [
      "100%|██████████| 5813/5813 [02:23<00:00, 40.43it/s]\n",
      "100%|██████████| 1136/1136 [00:14<00:00, 80.56it/s] \n"
     ]
    },
    {
     "name": "stdout",
     "output_type": "stream",
     "text": [
      "false positive (FP): 490, false negative (FN): 24, Precision: 87.216%, Recall: 99.287%, F1-measure: 92.861%\n",
      "actual positive (TP+FN): 3367, actual negative (FP+TN): 110673\n",
      "accuracy: 99.549\n",
      "Finished Predicting\n",
      "elapsed_time: 157.89960145950317\n",
      "Client  1\n",
      "Number of sessions(hdfs_test_normal): 5574\n",
      "Number of sessions(hdfs_test_abnormal): 1139\n"
     ]
    },
    {
     "name": "stderr",
     "output_type": "stream",
     "text": [
      "100%|██████████| 5574/5574 [02:16<00:00, 40.80it/s]\n",
      "100%|██████████| 1139/1139 [00:15<00:00, 73.78it/s]\n"
     ]
    },
    {
     "name": "stdout",
     "output_type": "stream",
     "text": [
      "false positive (FP): 528, false negative (FN): 26, Precision: 86.353%, Recall: 99.228%, F1-measure: 92.344%\n",
      "actual positive (TP+FN): 3367, actual negative (FP+TN): 110673\n",
      "accuracy: 99.514\n",
      "Finished Predicting\n",
      "elapsed_time: 152.05262875556946\n",
      "Client  2\n",
      "Number of sessions(hdfs_test_normal): 5730\n",
      "Number of sessions(hdfs_test_abnormal): 1118\n"
     ]
    },
    {
     "name": "stderr",
     "output_type": "stream",
     "text": [
      "100%|██████████| 5730/5730 [01:50<00:00, 51.96it/s]\n",
      "100%|██████████| 1118/1118 [00:07<00:00, 144.28it/s]\n"
     ]
    },
    {
     "name": "stdout",
     "output_type": "stream",
     "text": [
      "false positive (FP): 468, false negative (FN): 30, Precision: 87.700%, Recall: 99.109%, F1-measure: 93.056%\n",
      "actual positive (TP+FN): 3367, actual negative (FP+TN): 110673\n",
      "accuracy: 99.563\n",
      "Finished Predicting\n",
      "elapsed_time: 118.03688216209412\n",
      "Client  3\n",
      "Number of sessions(hdfs_test_normal): 5747\n",
      "Number of sessions(hdfs_test_abnormal): 1159\n"
     ]
    },
    {
     "name": "stderr",
     "output_type": "stream",
     "text": [
      "100%|██████████| 5747/5747 [02:05<00:00, 45.61it/s]\n",
      "100%|██████████| 1159/1159 [00:15<00:00, 74.58it/s]\n"
     ]
    },
    {
     "name": "stdout",
     "output_type": "stream",
     "text": [
      "false positive (FP): 451, false negative (FN): 28, Precision: 88.100%, Recall: 99.168%, F1-measure: 93.307%\n",
      "actual positive (TP+FN): 3367, actual negative (FP+TN): 110673\n",
      "accuracy: 99.580\n",
      "Finished Predicting\n",
      "elapsed_time: 141.5419225692749\n",
      "Client  4\n",
      "Number of sessions(hdfs_test_normal): 5623\n",
      "Number of sessions(hdfs_test_abnormal): 1121\n"
     ]
    },
    {
     "name": "stderr",
     "output_type": "stream",
     "text": [
      "100%|██████████| 5623/5623 [02:17<00:00, 40.79it/s]\n",
      "100%|██████████| 1121/1121 [00:15<00:00, 73.98it/s]\n"
     ]
    },
    {
     "name": "stdout",
     "output_type": "stream",
     "text": [
      "false positive (FP): 525, false negative (FN): 32, Precision: 86.399%, Recall: 99.050%, F1-measure: 92.293%\n",
      "actual positive (TP+FN): 3367, actual negative (FP+TN): 110673\n",
      "accuracy: 99.512\n",
      "Finished Predicting\n",
      "elapsed_time: 152.9967863559723\n",
      "============ Train epoch 37 ============\n",
      "Client  0\n",
      "File ../data/hdfs/hdfs_train, number of sessions 971\n",
      "File ../data/hdfs/hdfs_train, number of seqs 9420\n",
      "sampling...\n"
     ]
    },
    {
     "name": "stderr",
     "output_type": "stream",
     "text": [
      "100%|██████████| 1058/1058 [00:00<00:00, 3383.11it/s]\n"
     ]
    },
    {
     "name": "stdout",
     "output_type": "stream",
     "text": [
      "File ../data/hdfs/hdfs_test_normal, number of sessions 110673\n",
      "File ../data/hdfs/hdfs_test_normal, number of seqs 1058\n",
      "Find 9420 train logs, 1058 validation logs\n",
      "Train batch size 2048 ,Validation batch size 2048\n",
      "Starting epoch: 0 | phase: train | ⏰: 08:08:19 | Learning rate: 0.000031\n"
     ]
    },
    {
     "name": "stderr",
     "output_type": "stream",
     "text": [
      "Train loss: 2.00357: 100%|██████████| 5/5 [00:00<00:00, 53.91it/s]\n"
     ]
    },
    {
     "name": "stdout",
     "output_type": "stream",
     "text": [
      "Starting epoch: 0 | phase: valid | ⏰: 08:08:20 \n"
     ]
    },
    {
     "name": "stderr",
     "output_type": "stream",
     "text": [
      ": 100%|██████████| 1/1 [00:00<00:00, 97.89it/s]"
     ]
    },
    {
     "name": "stdout",
     "output_type": "stream",
     "text": [
      "Validation loss: 1.93150794506073\n",
      "Client  1\n"
     ]
    },
    {
     "name": "stderr",
     "output_type": "stream",
     "text": [
      "\n"
     ]
    },
    {
     "name": "stdout",
     "output_type": "stream",
     "text": [
      "File ../data/hdfs/hdfs_train, number of sessions 971\n",
      "File ../data/hdfs/hdfs_train, number of seqs 9080\n",
      "sampling...\n"
     ]
    },
    {
     "name": "stderr",
     "output_type": "stream",
     "text": [
      "100%|██████████| 1046/1046 [00:00<00:00, 3598.68it/s]\n"
     ]
    },
    {
     "name": "stdout",
     "output_type": "stream",
     "text": [
      "File ../data/hdfs/hdfs_test_normal, number of sessions 110673\n",
      "File ../data/hdfs/hdfs_test_normal, number of seqs 1046\n",
      "Find 9080 train logs, 1046 validation logs\n",
      "Train batch size 2048 ,Validation batch size 2048\n",
      "Starting epoch: 0 | phase: train | ⏰: 08:08:31 | Learning rate: 0.000031\n"
     ]
    },
    {
     "name": "stderr",
     "output_type": "stream",
     "text": [
      "Train loss: 2.01800: 100%|██████████| 5/5 [00:00<00:00, 56.25it/s]\n"
     ]
    },
    {
     "name": "stdout",
     "output_type": "stream",
     "text": [
      "Starting epoch: 0 | phase: valid | ⏰: 08:08:31 \n"
     ]
    },
    {
     "name": "stderr",
     "output_type": "stream",
     "text": [
      ": 100%|██████████| 1/1 [00:00<00:00, 96.85it/s]"
     ]
    },
    {
     "name": "stdout",
     "output_type": "stream",
     "text": [
      "Validation loss: 1.965742826461792\n",
      "Client  2\n"
     ]
    },
    {
     "name": "stderr",
     "output_type": "stream",
     "text": [
      "\n"
     ]
    },
    {
     "name": "stdout",
     "output_type": "stream",
     "text": [
      "File ../data/hdfs/hdfs_train, number of sessions 971\n",
      "File ../data/hdfs/hdfs_train, number of seqs 9485\n",
      "sampling...\n"
     ]
    },
    {
     "name": "stderr",
     "output_type": "stream",
     "text": [
      "100%|██████████| 1051/1051 [00:00<00:00, 3538.73it/s]\n"
     ]
    },
    {
     "name": "stdout",
     "output_type": "stream",
     "text": [
      "File ../data/hdfs/hdfs_test_normal, number of sessions 110673\n",
      "File ../data/hdfs/hdfs_test_normal, number of seqs 1051\n",
      "Find 9485 train logs, 1051 validation logs\n",
      "Train batch size 2048 ,Validation batch size 2048\n",
      "Starting epoch: 0 | phase: train | ⏰: 08:08:43 | Learning rate: 0.000031\n"
     ]
    },
    {
     "name": "stderr",
     "output_type": "stream",
     "text": [
      "Train loss: 2.02080: 100%|██████████| 5/5 [00:00<00:00, 53.92it/s]\n"
     ]
    },
    {
     "name": "stdout",
     "output_type": "stream",
     "text": [
      "Starting epoch: 0 | phase: valid | ⏰: 08:08:43 \n"
     ]
    },
    {
     "name": "stderr",
     "output_type": "stream",
     "text": [
      ": 100%|██████████| 1/1 [00:00<00:00, 99.66it/s]"
     ]
    },
    {
     "name": "stdout",
     "output_type": "stream",
     "text": [
      "Validation loss: 2.0075979232788086\n",
      "Client  3\n"
     ]
    },
    {
     "name": "stderr",
     "output_type": "stream",
     "text": [
      "\n"
     ]
    },
    {
     "name": "stdout",
     "output_type": "stream",
     "text": [
      "File ../data/hdfs/hdfs_train, number of sessions 971\n",
      "File ../data/hdfs/hdfs_train, number of seqs 9267\n",
      "sampling...\n"
     ]
    },
    {
     "name": "stderr",
     "output_type": "stream",
     "text": [
      "100%|██████████| 1057/1057 [00:00<00:00, 3554.42it/s]\n"
     ]
    },
    {
     "name": "stdout",
     "output_type": "stream",
     "text": [
      "File ../data/hdfs/hdfs_test_normal, number of sessions 110673\n",
      "File ../data/hdfs/hdfs_test_normal, number of seqs 1057\n",
      "Find 9267 train logs, 1057 validation logs\n",
      "Train batch size 2048 ,Validation batch size 2048\n",
      "Starting epoch: 0 | phase: train | ⏰: 08:08:55 | Learning rate: 0.000031\n"
     ]
    },
    {
     "name": "stderr",
     "output_type": "stream",
     "text": [
      "Train loss: 2.00311: 100%|██████████| 5/5 [00:00<00:00, 55.67it/s]\n"
     ]
    },
    {
     "name": "stdout",
     "output_type": "stream",
     "text": [
      "Starting epoch: 0 | phase: valid | ⏰: 08:08:55 \n"
     ]
    },
    {
     "name": "stderr",
     "output_type": "stream",
     "text": [
      ": 100%|██████████| 1/1 [00:00<00:00, 98.25it/s]\n"
     ]
    },
    {
     "name": "stdout",
     "output_type": "stream",
     "text": [
      "Validation loss: 1.9966795444488525\n",
      "Client  4\n",
      "File ../data/hdfs/hdfs_train, number of sessions 971\n",
      "File ../data/hdfs/hdfs_train, number of seqs 9323\n",
      "sampling...\n"
     ]
    },
    {
     "name": "stderr",
     "output_type": "stream",
     "text": [
      "100%|██████████| 1044/1044 [00:00<00:00, 3432.45it/s]\n"
     ]
    },
    {
     "name": "stdout",
     "output_type": "stream",
     "text": [
      "File ../data/hdfs/hdfs_test_normal, number of sessions 110673\n",
      "File ../data/hdfs/hdfs_test_normal, number of seqs 1044\n",
      "Find 9323 train logs, 1044 validation logs\n",
      "Train batch size 2048 ,Validation batch size 2048\n",
      "Starting epoch: 0 | phase: train | ⏰: 08:09:06 | Learning rate: 0.000031\n"
     ]
    },
    {
     "name": "stderr",
     "output_type": "stream",
     "text": [
      "Train loss: 2.00179: 100%|██████████| 5/5 [00:00<00:00, 53.18it/s]\n"
     ]
    },
    {
     "name": "stdout",
     "output_type": "stream",
     "text": [
      "Starting epoch: 0 | phase: valid | ⏰: 08:09:06 \n"
     ]
    },
    {
     "name": "stderr",
     "output_type": "stream",
     "text": [
      ": 100%|██████████| 1/1 [00:00<00:00, 93.55it/s]\n"
     ]
    },
    {
     "name": "stdout",
     "output_type": "stream",
     "text": [
      "Validation loss: 1.9705482721328735\n",
      "============ Test epoch 37 ============\n",
      "Client  0\n",
      "Number of sessions(hdfs_test_normal): 5813\n",
      "Number of sessions(hdfs_test_abnormal): 1136\n"
     ]
    },
    {
     "name": "stderr",
     "output_type": "stream",
     "text": [
      "100%|██████████| 5813/5813 [01:38<00:00, 58.75it/s]\n",
      "100%|██████████| 1136/1136 [00:14<00:00, 77.53it/s]\n"
     ]
    },
    {
     "name": "stdout",
     "output_type": "stream",
     "text": [
      "false positive (FP): 490, false negative (FN): 24, Precision: 87.216%, Recall: 99.287%, F1-measure: 92.861%\n",
      "actual positive (TP+FN): 3367, actual negative (FP+TN): 110673\n",
      "accuracy: 99.549\n",
      "Finished Predicting\n",
      "elapsed_time: 113.60753083229065\n",
      "Client  1\n",
      "Number of sessions(hdfs_test_normal): 5574\n",
      "Number of sessions(hdfs_test_abnormal): 1139\n"
     ]
    },
    {
     "name": "stderr",
     "output_type": "stream",
     "text": [
      "100%|██████████| 5574/5574 [02:16<00:00, 40.71it/s]\n",
      "100%|██████████| 1139/1139 [00:15<00:00, 73.62it/s]\n"
     ]
    },
    {
     "name": "stdout",
     "output_type": "stream",
     "text": [
      "false positive (FP): 528, false negative (FN): 26, Precision: 86.353%, Recall: 99.228%, F1-measure: 92.344%\n",
      "actual positive (TP+FN): 3367, actual negative (FP+TN): 110673\n",
      "accuracy: 99.514\n",
      "Finished Predicting\n",
      "elapsed_time: 152.39456129074097\n",
      "Client  2\n",
      "Number of sessions(hdfs_test_normal): 5730\n",
      "Number of sessions(hdfs_test_abnormal): 1118\n"
     ]
    },
    {
     "name": "stderr",
     "output_type": "stream",
     "text": [
      "100%|██████████| 5730/5730 [02:21<00:00, 40.54it/s]\n",
      "100%|██████████| 1118/1118 [00:15<00:00, 73.80it/s]\n"
     ]
    },
    {
     "name": "stdout",
     "output_type": "stream",
     "text": [
      "false positive (FP): 468, false negative (FN): 30, Precision: 87.700%, Recall: 99.109%, F1-measure: 93.056%\n",
      "actual positive (TP+FN): 3367, actual negative (FP+TN): 110673\n",
      "accuracy: 99.563\n",
      "Finished Predicting\n",
      "elapsed_time: 156.50195217132568\n",
      "Client  3\n",
      "Number of sessions(hdfs_test_normal): 5747\n",
      "Number of sessions(hdfs_test_abnormal): 1159\n"
     ]
    },
    {
     "name": "stderr",
     "output_type": "stream",
     "text": [
      "100%|██████████| 5747/5747 [02:21<00:00, 40.71it/s]\n",
      "100%|██████████| 1159/1159 [00:15<00:00, 72.49it/s]\n"
     ]
    },
    {
     "name": "stdout",
     "output_type": "stream",
     "text": [
      "false positive (FP): 451, false negative (FN): 28, Precision: 88.100%, Recall: 99.168%, F1-measure: 93.307%\n",
      "actual positive (TP+FN): 3367, actual negative (FP+TN): 110673\n",
      "accuracy: 99.580\n",
      "Finished Predicting\n",
      "elapsed_time: 157.17000126838684\n",
      "Client  4\n",
      "Number of sessions(hdfs_test_normal): 5623\n",
      "Number of sessions(hdfs_test_abnormal): 1121\n"
     ]
    },
    {
     "name": "stderr",
     "output_type": "stream",
     "text": [
      "100%|██████████| 5623/5623 [02:17<00:00, 40.80it/s]\n",
      "100%|██████████| 1121/1121 [00:15<00:00, 74.30it/s]\n"
     ]
    },
    {
     "name": "stdout",
     "output_type": "stream",
     "text": [
      "false positive (FP): 525, false negative (FN): 32, Precision: 86.399%, Recall: 99.050%, F1-measure: 92.293%\n",
      "actual positive (TP+FN): 3367, actual negative (FP+TN): 110673\n",
      "accuracy: 99.512\n",
      "Finished Predicting\n",
      "elapsed_time: 152.89705681800842\n",
      "============ Train epoch 38 ============\n",
      "Client  0\n",
      "File ../data/hdfs/hdfs_train, number of sessions 971\n",
      "File ../data/hdfs/hdfs_train, number of seqs 9420\n",
      "sampling...\n"
     ]
    },
    {
     "name": "stderr",
     "output_type": "stream",
     "text": [
      "100%|██████████| 1058/1058 [00:00<00:00, 3411.94it/s]\n"
     ]
    },
    {
     "name": "stdout",
     "output_type": "stream",
     "text": [
      "File ../data/hdfs/hdfs_test_normal, number of sessions 110673\n",
      "File ../data/hdfs/hdfs_test_normal, number of seqs 1058\n",
      "Find 9420 train logs, 1058 validation logs\n",
      "Train batch size 2048 ,Validation batch size 2048\n",
      "Starting epoch: 0 | phase: train | ⏰: 08:21:34 | Learning rate: 0.000031\n"
     ]
    },
    {
     "name": "stderr",
     "output_type": "stream",
     "text": [
      "Train loss: 1.98343: 100%|██████████| 5/5 [00:00<00:00, 53.45it/s]\n"
     ]
    },
    {
     "name": "stdout",
     "output_type": "stream",
     "text": [
      "Starting epoch: 0 | phase: valid | ⏰: 08:21:34 \n"
     ]
    },
    {
     "name": "stderr",
     "output_type": "stream",
     "text": [
      ": 100%|██████████| 1/1 [00:00<00:00, 99.66it/s]\n"
     ]
    },
    {
     "name": "stdout",
     "output_type": "stream",
     "text": [
      "Validation loss: 2.0104048252105713\n",
      "Client  1\n",
      "File ../data/hdfs/hdfs_train, number of sessions 971\n",
      "File ../data/hdfs/hdfs_train, number of seqs 9080\n",
      "sampling...\n"
     ]
    },
    {
     "name": "stderr",
     "output_type": "stream",
     "text": [
      "100%|██████████| 1046/1046 [00:00<00:00, 3428.77it/s]\n"
     ]
    },
    {
     "name": "stdout",
     "output_type": "stream",
     "text": [
      "File ../data/hdfs/hdfs_test_normal, number of sessions 110673\n",
      "File ../data/hdfs/hdfs_test_normal, number of seqs 1046\n",
      "Find 9080 train logs, 1046 validation logs\n",
      "Train batch size 2048 ,Validation batch size 2048\n",
      "Starting epoch: 0 | phase: train | ⏰: 08:21:46 | Learning rate: 0.000031\n"
     ]
    },
    {
     "name": "stderr",
     "output_type": "stream",
     "text": [
      "Train loss: 1.99414: 100%|██████████| 5/5 [00:00<00:00, 56.72it/s]\n"
     ]
    },
    {
     "name": "stdout",
     "output_type": "stream",
     "text": [
      "Starting epoch: 0 | phase: valid | ⏰: 08:21:46 \n"
     ]
    },
    {
     "name": "stderr",
     "output_type": "stream",
     "text": [
      ": 100%|██████████| 1/1 [00:00<00:00, 103.56it/s]\n"
     ]
    },
    {
     "name": "stdout",
     "output_type": "stream",
     "text": [
      "Validation loss: 1.9710432291030884\n",
      "Client  2\n",
      "File ../data/hdfs/hdfs_train, number of sessions 971\n",
      "File ../data/hdfs/hdfs_train, number of seqs 9485\n",
      "sampling...\n"
     ]
    },
    {
     "name": "stderr",
     "output_type": "stream",
     "text": [
      "100%|██████████| 1051/1051 [00:00<00:00, 3497.18it/s]\n"
     ]
    },
    {
     "name": "stdout",
     "output_type": "stream",
     "text": [
      "File ../data/hdfs/hdfs_test_normal, number of sessions 110673\n",
      "File ../data/hdfs/hdfs_test_normal, number of seqs 1051\n",
      "Find 9485 train logs, 1051 validation logs\n",
      "Train batch size 2048 ,Validation batch size 2048\n",
      "Starting epoch: 0 | phase: train | ⏰: 08:21:57 | Learning rate: 0.000031\n"
     ]
    },
    {
     "name": "stderr",
     "output_type": "stream",
     "text": [
      "Train loss: 1.99882: 100%|██████████| 5/5 [00:00<00:00, 54.07it/s]\n"
     ]
    },
    {
     "name": "stdout",
     "output_type": "stream",
     "text": [
      "Starting epoch: 0 | phase: valid | ⏰: 08:21:57 \n"
     ]
    },
    {
     "name": "stderr",
     "output_type": "stream",
     "text": [
      ": 100%|██████████| 1/1 [00:00<00:00, 100.52it/s]\n"
     ]
    },
    {
     "name": "stdout",
     "output_type": "stream",
     "text": [
      "Validation loss: 2.0242714881896973\n",
      "Client  3\n",
      "File ../data/hdfs/hdfs_train, number of sessions 971\n",
      "File ../data/hdfs/hdfs_train, number of seqs 9267\n",
      "sampling...\n"
     ]
    },
    {
     "name": "stderr",
     "output_type": "stream",
     "text": [
      "100%|██████████| 1057/1057 [00:00<00:00, 3591.42it/s]\n"
     ]
    },
    {
     "name": "stdout",
     "output_type": "stream",
     "text": [
      "File ../data/hdfs/hdfs_test_normal, number of sessions 110673\n",
      "File ../data/hdfs/hdfs_test_normal, number of seqs 1057\n",
      "Find 9267 train logs, 1057 validation logs\n",
      "Train batch size 2048 ,Validation batch size 2048\n",
      "Starting epoch: 0 | phase: train | ⏰: 08:22:09 | Learning rate: 0.000031\n"
     ]
    },
    {
     "name": "stderr",
     "output_type": "stream",
     "text": [
      "Train loss: 1.98329: 100%|██████████| 5/5 [00:00<00:00, 57.03it/s]\n"
     ]
    },
    {
     "name": "stdout",
     "output_type": "stream",
     "text": [
      "Starting epoch: 0 | phase: valid | ⏰: 08:22:09 \n"
     ]
    },
    {
     "name": "stderr",
     "output_type": "stream",
     "text": [
      ": 100%|██████████| 1/1 [00:00<00:00, 102.28it/s]\n"
     ]
    },
    {
     "name": "stdout",
     "output_type": "stream",
     "text": [
      "Validation loss: 1.9546312093734741\n",
      "Client  4\n",
      "File ../data/hdfs/hdfs_train, number of sessions 971\n",
      "File ../data/hdfs/hdfs_train, number of seqs 9323\n",
      "sampling...\n"
     ]
    },
    {
     "name": "stderr",
     "output_type": "stream",
     "text": [
      "100%|██████████| 1044/1044 [00:00<00:00, 3552.76it/s]\n"
     ]
    },
    {
     "name": "stdout",
     "output_type": "stream",
     "text": [
      "File ../data/hdfs/hdfs_test_normal, number of sessions 110673\n",
      "File ../data/hdfs/hdfs_test_normal, number of seqs 1044\n",
      "Find 9323 train logs, 1044 validation logs\n",
      "Train batch size 2048 ,Validation batch size 2048\n",
      "Starting epoch: 0 | phase: train | ⏰: 08:22:21 | Learning rate: 0.000031\n"
     ]
    },
    {
     "name": "stderr",
     "output_type": "stream",
     "text": [
      "Train loss: 1.98219: 100%|██████████| 5/5 [00:00<00:00, 56.42it/s]\n"
     ]
    },
    {
     "name": "stdout",
     "output_type": "stream",
     "text": [
      "Starting epoch: 0 | phase: valid | ⏰: 08:22:21 \n"
     ]
    },
    {
     "name": "stderr",
     "output_type": "stream",
     "text": [
      ": 100%|██████████| 1/1 [00:00<00:00, 101.76it/s]\n"
     ]
    },
    {
     "name": "stdout",
     "output_type": "stream",
     "text": [
      "Validation loss: 1.9732955694198608\n",
      "============ Test epoch 38 ============\n",
      "Client  0\n",
      "Number of sessions(hdfs_test_normal): 5813\n",
      "Number of sessions(hdfs_test_abnormal): 1136\n"
     ]
    },
    {
     "name": "stderr",
     "output_type": "stream",
     "text": [
      "100%|██████████| 5813/5813 [01:46<00:00, 54.56it/s]\n",
      "100%|██████████| 1136/1136 [00:14<00:00, 77.67it/s]\n"
     ]
    },
    {
     "name": "stdout",
     "output_type": "stream",
     "text": [
      "false positive (FP): 490, false negative (FN): 24, Precision: 87.216%, Recall: 99.287%, F1-measure: 92.861%\n",
      "actual positive (TP+FN): 3367, actual negative (FP+TN): 110673\n",
      "accuracy: 99.549\n",
      "Finished Predicting\n",
      "elapsed_time: 121.17347860336304\n",
      "Client  1\n",
      "Number of sessions(hdfs_test_normal): 5574\n",
      "Number of sessions(hdfs_test_abnormal): 1139\n"
     ]
    },
    {
     "name": "stderr",
     "output_type": "stream",
     "text": [
      "100%|██████████| 5574/5574 [02:15<00:00, 41.12it/s]\n",
      "100%|██████████| 1139/1139 [00:15<00:00, 74.55it/s]\n"
     ]
    },
    {
     "name": "stdout",
     "output_type": "stream",
     "text": [
      "false positive (FP): 528, false negative (FN): 26, Precision: 86.353%, Recall: 99.228%, F1-measure: 92.344%\n",
      "actual positive (TP+FN): 3367, actual negative (FP+TN): 110673\n",
      "accuracy: 99.514\n",
      "Finished Predicting\n",
      "elapsed_time: 150.83869624137878\n",
      "Client  2\n",
      "Number of sessions(hdfs_test_normal): 5730\n",
      "Number of sessions(hdfs_test_abnormal): 1118\n"
     ]
    },
    {
     "name": "stderr",
     "output_type": "stream",
     "text": [
      "100%|██████████| 5730/5730 [01:59<00:00, 47.97it/s]\n",
      "100%|██████████| 1118/1118 [00:07<00:00, 144.55it/s]\n"
     ]
    },
    {
     "name": "stdout",
     "output_type": "stream",
     "text": [
      "false positive (FP): 468, false negative (FN): 30, Precision: 87.700%, Recall: 99.109%, F1-measure: 93.056%\n",
      "actual positive (TP+FN): 3367, actual negative (FP+TN): 110673\n",
      "accuracy: 99.563\n",
      "Finished Predicting\n",
      "elapsed_time: 127.19457459449768\n",
      "Client  3\n",
      "Number of sessions(hdfs_test_normal): 5747\n",
      "Number of sessions(hdfs_test_abnormal): 1159\n"
     ]
    },
    {
     "name": "stderr",
     "output_type": "stream",
     "text": [
      "100%|██████████| 5747/5747 [01:56<00:00, 49.28it/s]\n",
      "100%|██████████| 1159/1159 [00:16<00:00, 72.43it/s]\n"
     ]
    },
    {
     "name": "stdout",
     "output_type": "stream",
     "text": [
      "false positive (FP): 451, false negative (FN): 28, Precision: 88.100%, Recall: 99.168%, F1-measure: 93.307%\n",
      "actual positive (TP+FN): 3367, actual negative (FP+TN): 110673\n",
      "accuracy: 99.580\n",
      "Finished Predicting\n",
      "elapsed_time: 132.61335372924805\n",
      "Client  4\n",
      "Number of sessions(hdfs_test_normal): 5623\n",
      "Number of sessions(hdfs_test_abnormal): 1121\n"
     ]
    },
    {
     "name": "stderr",
     "output_type": "stream",
     "text": [
      "100%|██████████| 5623/5623 [02:17<00:00, 40.85it/s]\n",
      "100%|██████████| 1121/1121 [00:15<00:00, 74.59it/s]\n"
     ]
    },
    {
     "name": "stdout",
     "output_type": "stream",
     "text": [
      "false positive (FP): 525, false negative (FN): 32, Precision: 86.399%, Recall: 99.050%, F1-measure: 92.293%\n",
      "actual positive (TP+FN): 3367, actual negative (FP+TN): 110673\n",
      "accuracy: 99.512\n",
      "Finished Predicting\n",
      "elapsed_time: 152.67766976356506\n",
      "============ Train epoch 39 ============\n",
      "Client  0\n",
      "File ../data/hdfs/hdfs_train, number of sessions 971\n",
      "File ../data/hdfs/hdfs_train, number of seqs 9420\n",
      "sampling...\n"
     ]
    },
    {
     "name": "stderr",
     "output_type": "stream",
     "text": [
      "100%|██████████| 1058/1058 [00:00<00:00, 3540.89it/s]\n"
     ]
    },
    {
     "name": "stdout",
     "output_type": "stream",
     "text": [
      "File ../data/hdfs/hdfs_test_normal, number of sessions 110673\n",
      "File ../data/hdfs/hdfs_test_normal, number of seqs 1058\n",
      "Find 9420 train logs, 1058 validation logs\n",
      "Train batch size 2048 ,Validation batch size 2048\n",
      "Starting epoch: 0 | phase: train | ⏰: 08:34:00 | Learning rate: 0.000031\n"
     ]
    },
    {
     "name": "stderr",
     "output_type": "stream",
     "text": [
      "Train loss: 1.96212: 100%|██████████| 5/5 [00:00<00:00, 55.07it/s]\n"
     ]
    },
    {
     "name": "stdout",
     "output_type": "stream",
     "text": [
      "Starting epoch: 0 | phase: valid | ⏰: 08:34:00 \n"
     ]
    },
    {
     "name": "stderr",
     "output_type": "stream",
     "text": [
      ": 100%|██████████| 1/1 [00:00<00:00, 101.05it/s]\n"
     ]
    },
    {
     "name": "stdout",
     "output_type": "stream",
     "text": [
      "Validation loss: 1.9608246088027954\n",
      "Client  1\n",
      "File ../data/hdfs/hdfs_train, number of sessions 971\n",
      "File ../data/hdfs/hdfs_train, number of seqs 9080\n",
      "sampling...\n"
     ]
    },
    {
     "name": "stderr",
     "output_type": "stream",
     "text": [
      "100%|██████████| 1046/1046 [00:00<00:00, 3521.90it/s]\n"
     ]
    },
    {
     "name": "stdout",
     "output_type": "stream",
     "text": [
      "File ../data/hdfs/hdfs_test_normal, number of sessions 110673\n",
      "File ../data/hdfs/hdfs_test_normal, number of seqs 1046\n",
      "Find 9080 train logs, 1046 validation logs\n",
      "Train batch size 2048 ,Validation batch size 2048\n",
      "Starting epoch: 0 | phase: train | ⏰: 08:34:12 | Learning rate: 0.000031\n"
     ]
    },
    {
     "name": "stderr",
     "output_type": "stream",
     "text": [
      "Train loss: 1.96656: 100%|██████████| 5/5 [00:00<00:00, 56.23it/s]\n"
     ]
    },
    {
     "name": "stdout",
     "output_type": "stream",
     "text": [
      "Starting epoch: 0 | phase: valid | ⏰: 08:34:12 \n"
     ]
    },
    {
     "name": "stderr",
     "output_type": "stream",
     "text": [
      ": 100%|██████████| 1/1 [00:00<00:00, 103.91it/s]\n"
     ]
    },
    {
     "name": "stdout",
     "output_type": "stream",
     "text": [
      "Validation loss: 1.9412535429000854\n",
      "Client  2\n",
      "File ../data/hdfs/hdfs_train, number of sessions 971\n",
      "File ../data/hdfs/hdfs_train, number of seqs 9485\n",
      "sampling...\n"
     ]
    },
    {
     "name": "stderr",
     "output_type": "stream",
     "text": [
      "100%|██████████| 1051/1051 [00:00<00:00, 3563.14it/s]\n"
     ]
    },
    {
     "name": "stdout",
     "output_type": "stream",
     "text": [
      "File ../data/hdfs/hdfs_test_normal, number of sessions 110673\n",
      "File ../data/hdfs/hdfs_test_normal, number of seqs 1051\n",
      "Find 9485 train logs, 1051 validation logs\n",
      "Train batch size 2048 ,Validation batch size 2048\n",
      "Starting epoch: 0 | phase: train | ⏰: 08:34:24 | Learning rate: 0.000031\n"
     ]
    },
    {
     "name": "stderr",
     "output_type": "stream",
     "text": [
      "Train loss: 1.97701: 100%|██████████| 5/5 [00:00<00:00, 46.22it/s]\n"
     ]
    },
    {
     "name": "stdout",
     "output_type": "stream",
     "text": [
      "Starting epoch: 0 | phase: valid | ⏰: 08:34:24 \n"
     ]
    },
    {
     "name": "stderr",
     "output_type": "stream",
     "text": [
      ": 100%|██████████| 1/1 [00:00<00:00, 100.53it/s]\n"
     ]
    },
    {
     "name": "stdout",
     "output_type": "stream",
     "text": [
      "Validation loss: 1.9682424068450928\n",
      "Client  3\n",
      "File ../data/hdfs/hdfs_train, number of sessions 971\n",
      "File ../data/hdfs/hdfs_train, number of seqs 9267\n",
      "sampling...\n"
     ]
    },
    {
     "name": "stderr",
     "output_type": "stream",
     "text": [
      "100%|██████████| 1057/1057 [00:00<00:00, 3539.30it/s]\n"
     ]
    },
    {
     "name": "stdout",
     "output_type": "stream",
     "text": [
      "File ../data/hdfs/hdfs_test_normal, number of sessions 110673\n",
      "File ../data/hdfs/hdfs_test_normal, number of seqs 1057\n",
      "Find 9267 train logs, 1057 validation logs\n",
      "Train batch size 2048 ,Validation batch size 2048\n",
      "Starting epoch: 0 | phase: train | ⏰: 08:34:35 | Learning rate: 0.000031\n"
     ]
    },
    {
     "name": "stderr",
     "output_type": "stream",
     "text": [
      "Train loss: 1.96017: 100%|██████████| 5/5 [00:00<00:00, 54.55it/s]\n"
     ]
    },
    {
     "name": "stdout",
     "output_type": "stream",
     "text": [
      "Starting epoch: 0 | phase: valid | ⏰: 08:34:36 \n"
     ]
    },
    {
     "name": "stderr",
     "output_type": "stream",
     "text": [
      ": 100%|██████████| 1/1 [00:00<00:00, 99.51it/s]\n"
     ]
    },
    {
     "name": "stdout",
     "output_type": "stream",
     "text": [
      "Validation loss: 1.9954791069030762\n",
      "Client  4\n",
      "File ../data/hdfs/hdfs_train, number of sessions 971\n",
      "File ../data/hdfs/hdfs_train, number of seqs 9323\n",
      "sampling...\n"
     ]
    },
    {
     "name": "stderr",
     "output_type": "stream",
     "text": [
      "100%|██████████| 1044/1044 [00:00<00:00, 3602.92it/s]\n"
     ]
    },
    {
     "name": "stdout",
     "output_type": "stream",
     "text": [
      "File ../data/hdfs/hdfs_test_normal, number of sessions 110673\n",
      "File ../data/hdfs/hdfs_test_normal, number of seqs 1044\n",
      "Find 9323 train logs, 1044 validation logs\n",
      "Train batch size 2048 ,Validation batch size 2048\n",
      "Starting epoch: 0 | phase: train | ⏰: 08:34:47 | Learning rate: 0.000031\n"
     ]
    },
    {
     "name": "stderr",
     "output_type": "stream",
     "text": [
      "Train loss: 1.95343: 100%|██████████| 5/5 [00:00<00:00, 52.99it/s]\n"
     ]
    },
    {
     "name": "stdout",
     "output_type": "stream",
     "text": [
      "Starting epoch: 0 | phase: valid | ⏰: 08:34:47 \n"
     ]
    },
    {
     "name": "stderr",
     "output_type": "stream",
     "text": [
      ": 100%|██████████| 1/1 [00:00<00:00, 95.69it/s]\n"
     ]
    },
    {
     "name": "stdout",
     "output_type": "stream",
     "text": [
      "Validation loss: 1.932433009147644\n",
      "============ Test epoch 39 ============\n",
      "Client  0\n",
      "Number of sessions(hdfs_test_normal): 5813\n",
      "Number of sessions(hdfs_test_abnormal): 1136\n"
     ]
    },
    {
     "name": "stderr",
     "output_type": "stream",
     "text": [
      "100%|██████████| 5813/5813 [02:23<00:00, 40.46it/s]\n",
      "100%|██████████| 1136/1136 [00:14<00:00, 77.56it/s]\n"
     ]
    },
    {
     "name": "stdout",
     "output_type": "stream",
     "text": [
      "false positive (FP): 490, false negative (FN): 24, Precision: 87.216%, Recall: 99.287%, F1-measure: 92.861%\n",
      "actual positive (TP+FN): 3367, actual negative (FP+TN): 110673\n",
      "accuracy: 99.549\n",
      "Finished Predicting\n",
      "elapsed_time: 158.30781984329224\n",
      "Client  1\n",
      "Number of sessions(hdfs_test_normal): 5574\n",
      "Number of sessions(hdfs_test_abnormal): 1139\n"
     ]
    },
    {
     "name": "stderr",
     "output_type": "stream",
     "text": [
      "100%|██████████| 5574/5574 [02:16<00:00, 40.92it/s]\n",
      "100%|██████████| 1139/1139 [00:15<00:00, 73.92it/s]\n"
     ]
    },
    {
     "name": "stdout",
     "output_type": "stream",
     "text": [
      "false positive (FP): 528, false negative (FN): 26, Precision: 86.353%, Recall: 99.228%, F1-measure: 92.344%\n",
      "actual positive (TP+FN): 3367, actual negative (FP+TN): 110673\n",
      "accuracy: 99.514\n",
      "Finished Predicting\n",
      "elapsed_time: 151.6182279586792\n",
      "Client  2\n",
      "Number of sessions(hdfs_test_normal): 5730\n",
      "Number of sessions(hdfs_test_abnormal): 1118\n"
     ]
    },
    {
     "name": "stderr",
     "output_type": "stream",
     "text": [
      "100%|██████████| 5730/5730 [02:09<00:00, 44.40it/s]\n",
      "100%|██████████| 1118/1118 [00:07<00:00, 145.07it/s]\n"
     ]
    },
    {
     "name": "stdout",
     "output_type": "stream",
     "text": [
      "false positive (FP): 468, false negative (FN): 30, Precision: 87.700%, Recall: 99.109%, F1-measure: 93.056%\n",
      "actual positive (TP+FN): 3367, actual negative (FP+TN): 110673\n",
      "accuracy: 99.563\n",
      "Finished Predicting\n",
      "elapsed_time: 136.7594301700592\n",
      "Client  3\n",
      "Number of sessions(hdfs_test_normal): 5747\n",
      "Number of sessions(hdfs_test_abnormal): 1159\n"
     ]
    },
    {
     "name": "stderr",
     "output_type": "stream",
     "text": [
      "100%|██████████| 5747/5747 [01:47<00:00, 53.32it/s]\n",
      "100%|██████████| 1159/1159 [00:16<00:00, 72.30it/s]\n"
     ]
    },
    {
     "name": "stdout",
     "output_type": "stream",
     "text": [
      "false positive (FP): 451, false negative (FN): 28, Precision: 88.100%, Recall: 99.168%, F1-measure: 93.307%\n",
      "actual positive (TP+FN): 3367, actual negative (FP+TN): 110673\n",
      "accuracy: 99.580\n",
      "Finished Predicting\n",
      "elapsed_time: 123.8212411403656\n",
      "Client  4\n",
      "Number of sessions(hdfs_test_normal): 5623\n",
      "Number of sessions(hdfs_test_abnormal): 1121\n"
     ]
    },
    {
     "name": "stderr",
     "output_type": "stream",
     "text": [
      "100%|██████████| 5623/5623 [02:17<00:00, 40.96it/s]\n",
      "100%|██████████| 1121/1121 [00:14<00:00, 75.72it/s] \n"
     ]
    },
    {
     "name": "stdout",
     "output_type": "stream",
     "text": [
      "false positive (FP): 525, false negative (FN): 32, Precision: 86.399%, Recall: 99.050%, F1-measure: 92.293%\n",
      "actual positive (TP+FN): 3367, actual negative (FP+TN): 110673\n",
      "accuracy: 99.512\n",
      "Finished Predicting\n",
      "elapsed_time: 152.07301425933838\n",
      "============ Train epoch 40 ============\n",
      "Client  0\n",
      "File ../data/hdfs/hdfs_train, number of sessions 971\n",
      "File ../data/hdfs/hdfs_train, number of seqs 9420\n",
      "sampling...\n"
     ]
    },
    {
     "name": "stderr",
     "output_type": "stream",
     "text": [
      "100%|██████████| 1058/1058 [00:00<00:00, 3529.20it/s]\n"
     ]
    },
    {
     "name": "stdout",
     "output_type": "stream",
     "text": [
      "File ../data/hdfs/hdfs_test_normal, number of sessions 110673\n",
      "File ../data/hdfs/hdfs_test_normal, number of seqs 1058\n",
      "Find 9420 train logs, 1058 validation logs\n",
      "Train batch size 2048 ,Validation batch size 2048\n",
      "Starting epoch: 0 | phase: train | ⏰: 08:47:04 | Learning rate: 0.000031\n"
     ]
    },
    {
     "name": "stderr",
     "output_type": "stream",
     "text": [
      "Train loss: 1.93829: 100%|██████████| 5/5 [00:00<00:00, 54.40it/s]\n"
     ]
    },
    {
     "name": "stdout",
     "output_type": "stream",
     "text": [
      "Starting epoch: 0 | phase: valid | ⏰: 08:47:05 \n"
     ]
    },
    {
     "name": "stderr",
     "output_type": "stream",
     "text": [
      ": 100%|██████████| 1/1 [00:00<00:00, 102.49it/s]\n"
     ]
    },
    {
     "name": "stdout",
     "output_type": "stream",
     "text": [
      "Validation loss: 1.913870096206665\n",
      "Client  1\n",
      "File ../data/hdfs/hdfs_train, number of sessions 971\n",
      "File ../data/hdfs/hdfs_train, number of seqs 9080\n",
      "sampling...\n"
     ]
    },
    {
     "name": "stderr",
     "output_type": "stream",
     "text": [
      "100%|██████████| 1046/1046 [00:00<00:00, 3548.19it/s]\n"
     ]
    },
    {
     "name": "stdout",
     "output_type": "stream",
     "text": [
      "File ../data/hdfs/hdfs_test_normal, number of sessions 110673\n",
      "File ../data/hdfs/hdfs_test_normal, number of seqs 1046\n",
      "Find 9080 train logs, 1046 validation logs\n",
      "Train batch size 2048 ,Validation batch size 2048\n",
      "Starting epoch: 0 | phase: train | ⏰: 08:47:16 | Learning rate: 0.000031\n"
     ]
    },
    {
     "name": "stderr",
     "output_type": "stream",
     "text": [
      "Train loss: 1.95388: 100%|██████████| 5/5 [00:00<00:00, 56.05it/s]\n"
     ]
    },
    {
     "name": "stdout",
     "output_type": "stream",
     "text": [
      "Starting epoch: 0 | phase: valid | ⏰: 08:47:16 \n"
     ]
    },
    {
     "name": "stderr",
     "output_type": "stream",
     "text": [
      ": 100%|██████████| 1/1 [00:00<00:00, 103.82it/s]\n"
     ]
    },
    {
     "name": "stdout",
     "output_type": "stream",
     "text": [
      "Validation loss: 1.9085334539413452\n",
      "Client  2\n",
      "File ../data/hdfs/hdfs_train, number of sessions 971\n",
      "File ../data/hdfs/hdfs_train, number of seqs 9485\n",
      "sampling...\n"
     ]
    },
    {
     "name": "stderr",
     "output_type": "stream",
     "text": [
      "100%|██████████| 1051/1051 [00:00<00:00, 3462.93it/s]\n"
     ]
    },
    {
     "name": "stdout",
     "output_type": "stream",
     "text": [
      "File ../data/hdfs/hdfs_test_normal, number of sessions 110673\n",
      "File ../data/hdfs/hdfs_test_normal, number of seqs 1051\n",
      "Find 9485 train logs, 1051 validation logs\n",
      "Train batch size 2048 ,Validation batch size 2048\n",
      "Starting epoch: 0 | phase: train | ⏰: 08:47:28 | Learning rate: 0.000031\n"
     ]
    },
    {
     "name": "stderr",
     "output_type": "stream",
     "text": [
      "Train loss: 1.95860: 100%|██████████| 5/5 [00:00<00:00, 55.08it/s]\n"
     ]
    },
    {
     "name": "stdout",
     "output_type": "stream",
     "text": [
      "Starting epoch: 0 | phase: valid | ⏰: 08:47:28 \n"
     ]
    },
    {
     "name": "stderr",
     "output_type": "stream",
     "text": [
      ": 100%|██████████| 1/1 [00:00<00:00, 101.28it/s]\n"
     ]
    },
    {
     "name": "stdout",
     "output_type": "stream",
     "text": [
      "Validation loss: 1.948294997215271\n",
      "Client  3\n",
      "File ../data/hdfs/hdfs_train, number of sessions 971\n",
      "File ../data/hdfs/hdfs_train, number of seqs 9267\n",
      "sampling...\n"
     ]
    },
    {
     "name": "stderr",
     "output_type": "stream",
     "text": [
      "100%|██████████| 1057/1057 [00:00<00:00, 3426.98it/s]\n"
     ]
    },
    {
     "name": "stdout",
     "output_type": "stream",
     "text": [
      "File ../data/hdfs/hdfs_test_normal, number of sessions 110673\n",
      "File ../data/hdfs/hdfs_test_normal, number of seqs 1057\n",
      "Find 9267 train logs, 1057 validation logs\n",
      "Train batch size 2048 ,Validation batch size 2048\n",
      "Starting epoch: 0 | phase: train | ⏰: 08:47:40 | Learning rate: 0.000031\n"
     ]
    },
    {
     "name": "stderr",
     "output_type": "stream",
     "text": [
      "Train loss: 1.93918: 100%|██████████| 5/5 [00:00<00:00, 54.47it/s]\n"
     ]
    },
    {
     "name": "stdout",
     "output_type": "stream",
     "text": [
      "Starting epoch: 0 | phase: valid | ⏰: 08:47:40 \n"
     ]
    },
    {
     "name": "stderr",
     "output_type": "stream",
     "text": [
      ": 100%|██████████| 1/1 [00:00<00:00, 102.57it/s]\n"
     ]
    },
    {
     "name": "stdout",
     "output_type": "stream",
     "text": [
      "Validation loss: 1.8938192129135132\n",
      "Client  4\n",
      "File ../data/hdfs/hdfs_train, number of sessions 971\n",
      "File ../data/hdfs/hdfs_train, number of seqs 9323\n",
      "sampling...\n"
     ]
    },
    {
     "name": "stderr",
     "output_type": "stream",
     "text": [
      "100%|██████████| 1044/1044 [00:00<00:00, 3553.78it/s]\n"
     ]
    },
    {
     "name": "stdout",
     "output_type": "stream",
     "text": [
      "File ../data/hdfs/hdfs_test_normal, number of sessions 110673\n",
      "File ../data/hdfs/hdfs_test_normal, number of seqs 1044\n",
      "Find 9323 train logs, 1044 validation logs\n",
      "Train batch size 2048 ,Validation batch size 2048\n",
      "Starting epoch: 0 | phase: train | ⏰: 08:47:51 | Learning rate: 0.000031\n"
     ]
    },
    {
     "name": "stderr",
     "output_type": "stream",
     "text": [
      "Train loss: 1.93604: 100%|██████████| 5/5 [00:00<00:00, 54.04it/s]\n"
     ]
    },
    {
     "name": "stdout",
     "output_type": "stream",
     "text": [
      "Starting epoch: 0 | phase: valid | ⏰: 08:47:51 \n"
     ]
    },
    {
     "name": "stderr",
     "output_type": "stream",
     "text": [
      ": 100%|██████████| 1/1 [00:00<00:00, 98.25it/s]\n"
     ]
    },
    {
     "name": "stdout",
     "output_type": "stream",
     "text": [
      "Validation loss: 1.8902082443237305\n",
      "============ Test epoch 40 ============\n",
      "Client  0\n",
      "Number of sessions(hdfs_test_normal): 5813\n",
      "Number of sessions(hdfs_test_abnormal): 1136\n"
     ]
    },
    {
     "name": "stderr",
     "output_type": "stream",
     "text": [
      "100%|██████████| 5813/5813 [01:27<00:00, 66.26it/s]\n",
      "100%|██████████| 1136/1136 [00:14<00:00, 77.86it/s]\n"
     ]
    },
    {
     "name": "stdout",
     "output_type": "stream",
     "text": [
      "false positive (FP): 490, false negative (FN): 24, Precision: 87.216%, Recall: 99.287%, F1-measure: 92.861%\n",
      "actual positive (TP+FN): 3367, actual negative (FP+TN): 110673\n",
      "accuracy: 99.549\n",
      "Finished Predicting\n",
      "elapsed_time: 102.32386684417725\n",
      "Client  1\n",
      "Number of sessions(hdfs_test_normal): 5574\n",
      "Number of sessions(hdfs_test_abnormal): 1139\n"
     ]
    },
    {
     "name": "stderr",
     "output_type": "stream",
     "text": [
      "100%|██████████| 5574/5574 [02:15<00:00, 41.00it/s]\n",
      "100%|██████████| 1139/1139 [00:15<00:00, 74.03it/s]\n"
     ]
    },
    {
     "name": "stdout",
     "output_type": "stream",
     "text": [
      "false positive (FP): 528, false negative (FN): 26, Precision: 86.353%, Recall: 99.228%, F1-measure: 92.344%\n",
      "actual positive (TP+FN): 3367, actual negative (FP+TN): 110673\n",
      "accuracy: 99.514\n",
      "Finished Predicting\n",
      "elapsed_time: 151.34018898010254\n",
      "Client  2\n",
      "Number of sessions(hdfs_test_normal): 5730\n",
      "Number of sessions(hdfs_test_abnormal): 1118\n"
     ]
    },
    {
     "name": "stderr",
     "output_type": "stream",
     "text": [
      "100%|██████████| 5730/5730 [02:21<00:00, 40.42it/s]\n",
      "100%|██████████| 1118/1118 [00:15<00:00, 73.58it/s]\n"
     ]
    },
    {
     "name": "stdout",
     "output_type": "stream",
     "text": [
      "false positive (FP): 468, false negative (FN): 30, Precision: 87.700%, Recall: 99.109%, F1-measure: 93.056%\n",
      "actual positive (TP+FN): 3367, actual negative (FP+TN): 110673\n",
      "accuracy: 99.563\n",
      "Finished Predicting\n",
      "elapsed_time: 156.9590039253235\n",
      "Client  3\n",
      "Number of sessions(hdfs_test_normal): 5747\n",
      "Number of sessions(hdfs_test_abnormal): 1159\n"
     ]
    },
    {
     "name": "stderr",
     "output_type": "stream",
     "text": [
      "100%|██████████| 5747/5747 [02:22<00:00, 40.45it/s]\n",
      "100%|██████████| 1159/1159 [00:15<00:00, 72.45it/s]\n"
     ]
    },
    {
     "name": "stdout",
     "output_type": "stream",
     "text": [
      "false positive (FP): 451, false negative (FN): 28, Precision: 88.100%, Recall: 99.168%, F1-measure: 93.307%\n",
      "actual positive (TP+FN): 3367, actual negative (FP+TN): 110673\n",
      "accuracy: 99.580\n",
      "Finished Predicting\n",
      "elapsed_time: 158.0817973613739\n",
      "Client  4\n",
      "Number of sessions(hdfs_test_normal): 5623\n",
      "Number of sessions(hdfs_test_abnormal): 1121\n"
     ]
    },
    {
     "name": "stderr",
     "output_type": "stream",
     "text": [
      "100%|██████████| 5623/5623 [02:17<00:00, 40.86it/s]\n",
      "100%|██████████| 1121/1121 [00:15<00:00, 74.22it/s]\n"
     ]
    },
    {
     "name": "stdout",
     "output_type": "stream",
     "text": [
      "false positive (FP): 525, false negative (FN): 32, Precision: 86.399%, Recall: 99.050%, F1-measure: 92.293%\n",
      "actual positive (TP+FN): 3367, actual negative (FP+TN): 110673\n",
      "accuracy: 99.512\n",
      "Finished Predicting\n",
      "elapsed_time: 152.72233033180237\n",
      "============ Train epoch 41 ============\n",
      "Client  0\n",
      "File ../data/hdfs/hdfs_train, number of sessions 971\n",
      "File ../data/hdfs/hdfs_train, number of seqs 9420\n",
      "sampling...\n"
     ]
    },
    {
     "name": "stderr",
     "output_type": "stream",
     "text": [
      "100%|██████████| 1058/1058 [00:00<00:00, 3476.61it/s]\n"
     ]
    },
    {
     "name": "stdout",
     "output_type": "stream",
     "text": [
      "File ../data/hdfs/hdfs_test_normal, number of sessions 110673\n",
      "File ../data/hdfs/hdfs_test_normal, number of seqs 1058\n",
      "Find 9420 train logs, 1058 validation logs\n",
      "Train batch size 2048 ,Validation batch size 2048\n",
      "Starting epoch: 0 | phase: train | ⏰: 09:00:08 | Learning rate: 0.000031\n"
     ]
    },
    {
     "name": "stderr",
     "output_type": "stream",
     "text": [
      "Train loss: 1.92006: 100%|██████████| 5/5 [00:00<00:00, 55.05it/s]\n"
     ]
    },
    {
     "name": "stdout",
     "output_type": "stream",
     "text": [
      "Starting epoch: 0 | phase: valid | ⏰: 09:00:08 \n"
     ]
    },
    {
     "name": "stderr",
     "output_type": "stream",
     "text": [
      ": 100%|██████████| 1/1 [00:00<00:00, 96.07it/s]\n"
     ]
    },
    {
     "name": "stdout",
     "output_type": "stream",
     "text": [
      "Validation loss: 1.9371649026870728\n",
      "Client  1\n",
      "File ../data/hdfs/hdfs_train, number of sessions 971\n",
      "File ../data/hdfs/hdfs_train, number of seqs 9080\n",
      "sampling...\n"
     ]
    },
    {
     "name": "stderr",
     "output_type": "stream",
     "text": [
      "100%|██████████| 1046/1046 [00:00<00:00, 3521.50it/s]\n"
     ]
    },
    {
     "name": "stdout",
     "output_type": "stream",
     "text": [
      "File ../data/hdfs/hdfs_test_normal, number of sessions 110673\n",
      "File ../data/hdfs/hdfs_test_normal, number of seqs 1046\n",
      "Find 9080 train logs, 1046 validation logs\n",
      "Train batch size 2048 ,Validation batch size 2048\n",
      "Starting epoch: 0 | phase: train | ⏰: 09:00:19 | Learning rate: 0.000031\n"
     ]
    },
    {
     "name": "stderr",
     "output_type": "stream",
     "text": [
      "Train loss: 1.93385: 100%|██████████| 5/5 [00:00<00:00, 56.21it/s]\n"
     ]
    },
    {
     "name": "stdout",
     "output_type": "stream",
     "text": [
      "Starting epoch: 0 | phase: valid | ⏰: 09:00:19 \n"
     ]
    },
    {
     "name": "stderr",
     "output_type": "stream",
     "text": [
      ": 100%|██████████| 1/1 [00:00<00:00, 95.28it/s]\n"
     ]
    },
    {
     "name": "stdout",
     "output_type": "stream",
     "text": [
      "Validation loss: 1.911581039428711\n",
      "Client  2\n",
      "File ../data/hdfs/hdfs_train, number of sessions 971\n",
      "File ../data/hdfs/hdfs_train, number of seqs 9485\n",
      "sampling...\n"
     ]
    },
    {
     "name": "stderr",
     "output_type": "stream",
     "text": [
      "100%|██████████| 1051/1051 [00:00<00:00, 3618.84it/s]\n"
     ]
    },
    {
     "name": "stdout",
     "output_type": "stream",
     "text": [
      "File ../data/hdfs/hdfs_test_normal, number of sessions 110673\n",
      "File ../data/hdfs/hdfs_test_normal, number of seqs 1051\n",
      "Find 9485 train logs, 1051 validation logs\n",
      "Train batch size 2048 ,Validation batch size 2048\n",
      "Starting epoch: 0 | phase: train | ⏰: 09:00:31 | Learning rate: 0.000031\n"
     ]
    },
    {
     "name": "stderr",
     "output_type": "stream",
     "text": [
      "Train loss: 1.93788: 100%|██████████| 5/5 [00:00<00:00, 53.03it/s]\n"
     ]
    },
    {
     "name": "stdout",
     "output_type": "stream",
     "text": [
      "Starting epoch: 0 | phase: valid | ⏰: 09:00:31 \n"
     ]
    },
    {
     "name": "stderr",
     "output_type": "stream",
     "text": [
      ": 100%|██████████| 1/1 [00:00<00:00, 105.43it/s]\n"
     ]
    },
    {
     "name": "stdout",
     "output_type": "stream",
     "text": [
      "Validation loss: 1.8971189260482788\n",
      "Client  3\n",
      "File ../data/hdfs/hdfs_train, number of sessions 971\n",
      "File ../data/hdfs/hdfs_train, number of seqs 9267\n",
      "sampling...\n"
     ]
    },
    {
     "name": "stderr",
     "output_type": "stream",
     "text": [
      "100%|██████████| 1057/1057 [00:00<00:00, 3485.59it/s]\n"
     ]
    },
    {
     "name": "stdout",
     "output_type": "stream",
     "text": [
      "File ../data/hdfs/hdfs_test_normal, number of sessions 110673\n",
      "File ../data/hdfs/hdfs_test_normal, number of seqs 1057\n",
      "Find 9267 train logs, 1057 validation logs\n",
      "Train batch size 2048 ,Validation batch size 2048\n",
      "Starting epoch: 0 | phase: train | ⏰: 09:00:43 | Learning rate: 0.000031\n"
     ]
    },
    {
     "name": "stderr",
     "output_type": "stream",
     "text": [
      "Train loss: 1.92246: 100%|██████████| 5/5 [00:00<00:00, 56.04it/s]\n"
     ]
    },
    {
     "name": "stdout",
     "output_type": "stream",
     "text": [
      "Starting epoch: 0 | phase: valid | ⏰: 09:00:43 \n"
     ]
    },
    {
     "name": "stderr",
     "output_type": "stream",
     "text": [
      ": 100%|██████████| 1/1 [00:00<00:00, 105.02it/s]\n"
     ]
    },
    {
     "name": "stdout",
     "output_type": "stream",
     "text": [
      "Validation loss: 1.920333743095398\n",
      "Client  4\n",
      "File ../data/hdfs/hdfs_train, number of sessions 971\n",
      "File ../data/hdfs/hdfs_train, number of seqs 9323\n",
      "sampling...\n"
     ]
    },
    {
     "name": "stderr",
     "output_type": "stream",
     "text": [
      "100%|██████████| 1044/1044 [00:00<00:00, 3558.51it/s]\n"
     ]
    },
    {
     "name": "stdout",
     "output_type": "stream",
     "text": [
      "File ../data/hdfs/hdfs_test_normal, number of sessions 110673\n",
      "File ../data/hdfs/hdfs_test_normal, number of seqs 1044\n",
      "Find 9323 train logs, 1044 validation logs\n",
      "Train batch size 2048 ,Validation batch size 2048\n",
      "Starting epoch: 0 | phase: train | ⏰: 09:00:54 | Learning rate: 0.000031\n"
     ]
    },
    {
     "name": "stderr",
     "output_type": "stream",
     "text": [
      "Train loss: 1.92190: 100%|██████████| 5/5 [00:00<00:00, 55.24it/s]\n"
     ]
    },
    {
     "name": "stdout",
     "output_type": "stream",
     "text": [
      "Starting epoch: 0 | phase: valid | ⏰: 09:00:54 \n"
     ]
    },
    {
     "name": "stderr",
     "output_type": "stream",
     "text": [
      ": 100%|██████████| 1/1 [00:00<00:00, 102.26it/s]\n"
     ]
    },
    {
     "name": "stdout",
     "output_type": "stream",
     "text": [
      "Validation loss: 1.9132721424102783\n",
      "============ Test epoch 41 ============\n",
      "Client  0\n",
      "Number of sessions(hdfs_test_normal): 5813\n",
      "Number of sessions(hdfs_test_abnormal): 1136\n"
     ]
    },
    {
     "name": "stderr",
     "output_type": "stream",
     "text": [
      "100%|██████████| 5813/5813 [01:27<00:00, 66.43it/s]\n",
      "100%|██████████| 1136/1136 [00:13<00:00, 82.02it/s]\n"
     ]
    },
    {
     "name": "stdout",
     "output_type": "stream",
     "text": [
      "false positive (FP): 490, false negative (FN): 24, Precision: 87.216%, Recall: 99.287%, F1-measure: 92.861%\n",
      "actual positive (TP+FN): 3367, actual negative (FP+TN): 110673\n",
      "accuracy: 99.549\n",
      "Finished Predicting\n",
      "elapsed_time: 101.3639030456543\n",
      "Client  1\n",
      "Number of sessions(hdfs_test_normal): 5574\n",
      "Number of sessions(hdfs_test_abnormal): 1139\n"
     ]
    },
    {
     "name": "stderr",
     "output_type": "stream",
     "text": [
      "100%|██████████| 5574/5574 [02:15<00:00, 41.01it/s]\n",
      "100%|██████████| 1139/1139 [00:15<00:00, 74.07it/s]\n"
     ]
    },
    {
     "name": "stdout",
     "output_type": "stream",
     "text": [
      "false positive (FP): 528, false negative (FN): 26, Precision: 86.353%, Recall: 99.228%, F1-measure: 92.344%\n",
      "actual positive (TP+FN): 3367, actual negative (FP+TN): 110673\n",
      "accuracy: 99.514\n",
      "Finished Predicting\n",
      "elapsed_time: 151.28461480140686\n",
      "Client  2\n",
      "Number of sessions(hdfs_test_normal): 5730\n",
      "Number of sessions(hdfs_test_abnormal): 1118\n"
     ]
    },
    {
     "name": "stderr",
     "output_type": "stream",
     "text": [
      "100%|██████████| 5730/5730 [02:21<00:00, 40.40it/s]\n",
      "100%|██████████| 1118/1118 [00:15<00:00, 73.72it/s]\n"
     ]
    },
    {
     "name": "stdout",
     "output_type": "stream",
     "text": [
      "false positive (FP): 468, false negative (FN): 30, Precision: 87.700%, Recall: 99.109%, F1-measure: 93.056%\n",
      "actual positive (TP+FN): 3367, actual negative (FP+TN): 110673\n",
      "accuracy: 99.563\n",
      "Finished Predicting\n",
      "elapsed_time: 157.01142525672913\n",
      "Client  3\n",
      "Number of sessions(hdfs_test_normal): 5747\n",
      "Number of sessions(hdfs_test_abnormal): 1159\n"
     ]
    },
    {
     "name": "stderr",
     "output_type": "stream",
     "text": [
      "100%|██████████| 5747/5747 [01:25<00:00, 67.06it/s]\n",
      "100%|██████████| 1159/1159 [00:15<00:00, 72.83it/s]\n"
     ]
    },
    {
     "name": "stdout",
     "output_type": "stream",
     "text": [
      "false positive (FP): 451, false negative (FN): 28, Precision: 88.100%, Recall: 99.168%, F1-measure: 93.307%\n",
      "actual positive (TP+FN): 3367, actual negative (FP+TN): 110673\n",
      "accuracy: 99.580\n",
      "Finished Predicting\n",
      "elapsed_time: 101.62044668197632\n",
      "Client  4\n",
      "Number of sessions(hdfs_test_normal): 5623\n",
      "Number of sessions(hdfs_test_abnormal): 1121\n"
     ]
    },
    {
     "name": "stderr",
     "output_type": "stream",
     "text": [
      "100%|██████████| 5623/5623 [02:17<00:00, 41.00it/s]\n",
      "100%|██████████| 1121/1121 [00:15<00:00, 74.52it/s]\n"
     ]
    },
    {
     "name": "stdout",
     "output_type": "stream",
     "text": [
      "false positive (FP): 525, false negative (FN): 32, Precision: 86.399%, Recall: 99.050%, F1-measure: 92.293%\n",
      "actual positive (TP+FN): 3367, actual negative (FP+TN): 110673\n",
      "accuracy: 99.512\n",
      "Finished Predicting\n",
      "elapsed_time: 152.17795157432556\n",
      "============ Train epoch 42 ============\n",
      "Client  0\n",
      "File ../data/hdfs/hdfs_train, number of sessions 971\n",
      "File ../data/hdfs/hdfs_train, number of seqs 9420\n",
      "sampling...\n"
     ]
    },
    {
     "name": "stderr",
     "output_type": "stream",
     "text": [
      "100%|██████████| 1058/1058 [00:00<00:00, 3488.33it/s]\n"
     ]
    },
    {
     "name": "stdout",
     "output_type": "stream",
     "text": [
      "File ../data/hdfs/hdfs_test_normal, number of sessions 110673\n",
      "File ../data/hdfs/hdfs_test_normal, number of seqs 1058\n",
      "Find 9420 train logs, 1058 validation logs\n",
      "Train batch size 2048 ,Validation batch size 2048\n",
      "Starting epoch: 0 | phase: train | ⏰: 09:12:13 | Learning rate: 0.000031\n"
     ]
    },
    {
     "name": "stderr",
     "output_type": "stream",
     "text": [
      "Train loss: 1.90772: 100%|██████████| 5/5 [00:00<00:00, 54.05it/s]\n"
     ]
    },
    {
     "name": "stdout",
     "output_type": "stream",
     "text": [
      "Starting epoch: 0 | phase: valid | ⏰: 09:12:13 \n"
     ]
    },
    {
     "name": "stderr",
     "output_type": "stream",
     "text": [
      ": 100%|██████████| 1/1 [00:00<00:00, 95.89it/s]\n"
     ]
    },
    {
     "name": "stdout",
     "output_type": "stream",
     "text": [
      "Validation loss: 1.8769996166229248\n",
      "Client  1\n",
      "File ../data/hdfs/hdfs_train, number of sessions 971\n",
      "File ../data/hdfs/hdfs_train, number of seqs 9080\n",
      "sampling...\n"
     ]
    },
    {
     "name": "stderr",
     "output_type": "stream",
     "text": [
      "100%|██████████| 1046/1046 [00:00<00:00, 3501.37it/s]\n"
     ]
    },
    {
     "name": "stdout",
     "output_type": "stream",
     "text": [
      "File ../data/hdfs/hdfs_test_normal, number of sessions 110673\n",
      "File ../data/hdfs/hdfs_test_normal, number of seqs 1046\n",
      "Find 9080 train logs, 1046 validation logs\n",
      "Train batch size 2048 ,Validation batch size 2048\n",
      "Starting epoch: 0 | phase: train | ⏰: 09:12:24 | Learning rate: 0.000031\n"
     ]
    },
    {
     "name": "stderr",
     "output_type": "stream",
     "text": [
      "Train loss: 1.91588: 100%|██████████| 5/5 [00:00<00:00, 51.01it/s]\n"
     ]
    },
    {
     "name": "stdout",
     "output_type": "stream",
     "text": [
      "Starting epoch: 0 | phase: valid | ⏰: 09:12:24 \n"
     ]
    },
    {
     "name": "stderr",
     "output_type": "stream",
     "text": [
      ": 100%|██████████| 1/1 [00:00<00:00, 99.07it/s]\n"
     ]
    },
    {
     "name": "stdout",
     "output_type": "stream",
     "text": [
      "Validation loss: 1.9039132595062256\n",
      "Client  2\n",
      "File ../data/hdfs/hdfs_train, number of sessions 971\n",
      "File ../data/hdfs/hdfs_train, number of seqs 9485\n",
      "sampling...\n"
     ]
    },
    {
     "name": "stderr",
     "output_type": "stream",
     "text": [
      "100%|██████████| 1051/1051 [00:00<00:00, 3556.40it/s]\n"
     ]
    },
    {
     "name": "stdout",
     "output_type": "stream",
     "text": [
      "File ../data/hdfs/hdfs_test_normal, number of sessions 110673\n",
      "File ../data/hdfs/hdfs_test_normal, number of seqs 1051\n",
      "Find 9485 train logs, 1051 validation logs\n",
      "Train batch size 2048 ,Validation batch size 2048\n",
      "Starting epoch: 0 | phase: train | ⏰: 09:12:36 | Learning rate: 0.000031\n"
     ]
    },
    {
     "name": "stderr",
     "output_type": "stream",
     "text": [
      "Train loss: 1.92038: 100%|██████████| 5/5 [00:00<00:00, 54.31it/s]\n"
     ]
    },
    {
     "name": "stdout",
     "output_type": "stream",
     "text": [
      "Starting epoch: 0 | phase: valid | ⏰: 09:12:36 \n"
     ]
    },
    {
     "name": "stderr",
     "output_type": "stream",
     "text": [
      ": 100%|██████████| 1/1 [00:00<00:00, 102.66it/s]\n"
     ]
    },
    {
     "name": "stdout",
     "output_type": "stream",
     "text": [
      "Validation loss: 1.837516188621521\n",
      "Client  3\n",
      "File ../data/hdfs/hdfs_train, number of sessions 971\n",
      "File ../data/hdfs/hdfs_train, number of seqs 9267\n",
      "sampling...\n"
     ]
    },
    {
     "name": "stderr",
     "output_type": "stream",
     "text": [
      "100%|██████████| 1057/1057 [00:00<00:00, 3633.36it/s]\n"
     ]
    },
    {
     "name": "stdout",
     "output_type": "stream",
     "text": [
      "File ../data/hdfs/hdfs_test_normal, number of sessions 110673\n",
      "File ../data/hdfs/hdfs_test_normal, number of seqs 1057\n",
      "Find 9267 train logs, 1057 validation logs\n",
      "Train batch size 2048 ,Validation batch size 2048\n",
      "Starting epoch: 0 | phase: train | ⏰: 09:12:48 | Learning rate: 0.000031\n"
     ]
    },
    {
     "name": "stderr",
     "output_type": "stream",
     "text": [
      "Train loss: 1.90354: 100%|██████████| 5/5 [00:00<00:00, 54.42it/s]\n"
     ]
    },
    {
     "name": "stdout",
     "output_type": "stream",
     "text": [
      "Starting epoch: 0 | phase: valid | ⏰: 09:12:48 \n"
     ]
    },
    {
     "name": "stderr",
     "output_type": "stream",
     "text": [
      ": 100%|██████████| 1/1 [00:00<00:00, 94.15it/s]\n"
     ]
    },
    {
     "name": "stdout",
     "output_type": "stream",
     "text": [
      "Validation loss: 1.8585505485534668\n",
      "Client  4\n",
      "File ../data/hdfs/hdfs_train, number of sessions 971\n",
      "File ../data/hdfs/hdfs_train, number of seqs 9323\n",
      "sampling...\n"
     ]
    },
    {
     "name": "stderr",
     "output_type": "stream",
     "text": [
      "100%|██████████| 1044/1044 [00:00<00:00, 3574.19it/s]\n"
     ]
    },
    {
     "name": "stdout",
     "output_type": "stream",
     "text": [
      "File ../data/hdfs/hdfs_test_normal, number of sessions 110673\n",
      "File ../data/hdfs/hdfs_test_normal, number of seqs 1044\n",
      "Find 9323 train logs, 1044 validation logs\n",
      "Train batch size 2048 ,Validation batch size 2048\n",
      "Starting epoch: 0 | phase: train | ⏰: 09:12:59 | Learning rate: 0.000031\n"
     ]
    },
    {
     "name": "stderr",
     "output_type": "stream",
     "text": [
      "Train loss: 1.90140: 100%|██████████| 5/5 [00:00<00:00, 54.79it/s]\n"
     ]
    },
    {
     "name": "stdout",
     "output_type": "stream",
     "text": [
      "Starting epoch: 0 | phase: valid | ⏰: 09:12:59 \n"
     ]
    },
    {
     "name": "stderr",
     "output_type": "stream",
     "text": [
      ": 100%|██████████| 1/1 [00:00<00:00, 99.65it/s]\n"
     ]
    },
    {
     "name": "stdout",
     "output_type": "stream",
     "text": [
      "Validation loss: 1.8948758840560913\n",
      "============ Test epoch 42 ============\n",
      "Client  0\n",
      "Number of sessions(hdfs_test_normal): 5813\n",
      "Number of sessions(hdfs_test_abnormal): 1136\n"
     ]
    },
    {
     "name": "stderr",
     "output_type": "stream",
     "text": [
      "100%|██████████| 5813/5813 [02:23<00:00, 40.41it/s]\n",
      "100%|██████████| 1136/1136 [00:14<00:00, 77.21it/s]\n"
     ]
    },
    {
     "name": "stdout",
     "output_type": "stream",
     "text": [
      "false positive (FP): 490, false negative (FN): 24, Precision: 87.216%, Recall: 99.287%, F1-measure: 92.861%\n",
      "actual positive (TP+FN): 3367, actual negative (FP+TN): 110673\n",
      "accuracy: 99.549\n",
      "Finished Predicting\n",
      "elapsed_time: 158.5765528678894\n",
      "Client  1\n",
      "Number of sessions(hdfs_test_normal): 5574\n",
      "Number of sessions(hdfs_test_abnormal): 1139\n"
     ]
    },
    {
     "name": "stderr",
     "output_type": "stream",
     "text": [
      "100%|██████████| 5574/5574 [02:15<00:00, 41.07it/s]\n",
      "100%|██████████| 1139/1139 [00:15<00:00, 74.17it/s]\n"
     ]
    },
    {
     "name": "stdout",
     "output_type": "stream",
     "text": [
      "false positive (FP): 528, false negative (FN): 26, Precision: 86.353%, Recall: 99.228%, F1-measure: 92.344%\n",
      "actual positive (TP+FN): 3367, actual negative (FP+TN): 110673\n",
      "accuracy: 99.514\n",
      "Finished Predicting\n",
      "elapsed_time: 151.08586812019348\n",
      "Client  2\n",
      "Number of sessions(hdfs_test_normal): 5730\n",
      "Number of sessions(hdfs_test_abnormal): 1118\n"
     ]
    },
    {
     "name": "stderr",
     "output_type": "stream",
     "text": [
      "100%|██████████| 5730/5730 [02:21<00:00, 40.44it/s]\n",
      "100%|██████████| 1118/1118 [00:15<00:00, 73.53it/s]\n"
     ]
    },
    {
     "name": "stdout",
     "output_type": "stream",
     "text": [
      "false positive (FP): 468, false negative (FN): 30, Precision: 87.700%, Recall: 99.109%, F1-measure: 93.056%\n",
      "actual positive (TP+FN): 3367, actual negative (FP+TN): 110673\n",
      "accuracy: 99.563\n",
      "Finished Predicting\n",
      "elapsed_time: 156.8942186832428\n",
      "Client  3\n",
      "Number of sessions(hdfs_test_normal): 5747\n",
      "Number of sessions(hdfs_test_abnormal): 1159\n"
     ]
    },
    {
     "name": "stderr",
     "output_type": "stream",
     "text": [
      "100%|██████████| 5747/5747 [01:26<00:00, 66.58it/s]\n",
      "100%|██████████| 1159/1159 [00:15<00:00, 73.99it/s]\n"
     ]
    },
    {
     "name": "stdout",
     "output_type": "stream",
     "text": [
      "false positive (FP): 451, false negative (FN): 28, Precision: 88.100%, Recall: 99.168%, F1-measure: 93.307%\n",
      "actual positive (TP+FN): 3367, actual negative (FP+TN): 110673\n",
      "accuracy: 99.580\n",
      "Finished Predicting\n",
      "elapsed_time: 101.98793911933899\n",
      "Client  4\n",
      "Number of sessions(hdfs_test_normal): 5623\n",
      "Number of sessions(hdfs_test_abnormal): 1121\n"
     ]
    },
    {
     "name": "stderr",
     "output_type": "stream",
     "text": [
      "100%|██████████| 5623/5623 [02:17<00:00, 40.92it/s]\n",
      "100%|██████████| 1121/1121 [00:15<00:00, 74.33it/s]\n"
     ]
    },
    {
     "name": "stdout",
     "output_type": "stream",
     "text": [
      "false positive (FP): 525, false negative (FN): 32, Precision: 86.399%, Recall: 99.050%, F1-measure: 92.293%\n",
      "actual positive (TP+FN): 3367, actual negative (FP+TN): 110673\n",
      "accuracy: 99.512\n",
      "Finished Predicting\n",
      "elapsed_time: 152.50481295585632\n",
      "============ Train epoch 43 ============\n",
      "Client  0\n",
      "File ../data/hdfs/hdfs_train, number of sessions 971\n",
      "File ../data/hdfs/hdfs_train, number of seqs 9420\n",
      "sampling...\n"
     ]
    },
    {
     "name": "stderr",
     "output_type": "stream",
     "text": [
      "100%|██████████| 1058/1058 [00:00<00:00, 3596.80it/s]\n"
     ]
    },
    {
     "name": "stdout",
     "output_type": "stream",
     "text": [
      "File ../data/hdfs/hdfs_test_normal, number of sessions 110673\n",
      "File ../data/hdfs/hdfs_test_normal, number of seqs 1058\n",
      "Find 9420 train logs, 1058 validation logs\n",
      "Train batch size 2048 ,Validation batch size 2048\n",
      "Starting epoch: 0 | phase: train | ⏰: 09:25:15 | Learning rate: 0.000031\n"
     ]
    },
    {
     "name": "stderr",
     "output_type": "stream",
     "text": [
      "Train loss: 1.88784: 100%|██████████| 5/5 [00:00<00:00, 55.05it/s]\n"
     ]
    },
    {
     "name": "stdout",
     "output_type": "stream",
     "text": [
      "Starting epoch: 0 | phase: valid | ⏰: 09:25:15 \n"
     ]
    },
    {
     "name": "stderr",
     "output_type": "stream",
     "text": [
      ": 100%|██████████| 1/1 [00:00<00:00, 100.74it/s]\n"
     ]
    },
    {
     "name": "stdout",
     "output_type": "stream",
     "text": [
      "Validation loss: 1.9112690687179565\n",
      "Client  1\n",
      "File ../data/hdfs/hdfs_train, number of sessions 971\n",
      "File ../data/hdfs/hdfs_train, number of seqs 9080\n",
      "sampling...\n"
     ]
    },
    {
     "name": "stderr",
     "output_type": "stream",
     "text": [
      "100%|██████████| 1046/1046 [00:00<00:00, 3609.20it/s]\n"
     ]
    },
    {
     "name": "stdout",
     "output_type": "stream",
     "text": [
      "File ../data/hdfs/hdfs_test_normal, number of sessions 110673\n",
      "File ../data/hdfs/hdfs_test_normal, number of seqs 1046\n",
      "Find 9080 train logs, 1046 validation logs\n",
      "Train batch size 2048 ,Validation batch size 2048\n",
      "Starting epoch: 0 | phase: train | ⏰: 09:25:27 | Learning rate: 0.000031\n"
     ]
    },
    {
     "name": "stderr",
     "output_type": "stream",
     "text": [
      "Train loss: 1.90504: 100%|██████████| 5/5 [00:00<00:00, 55.80it/s]\n"
     ]
    },
    {
     "name": "stdout",
     "output_type": "stream",
     "text": [
      "Starting epoch: 0 | phase: valid | ⏰: 09:25:27 \n"
     ]
    },
    {
     "name": "stderr",
     "output_type": "stream",
     "text": [
      ": 100%|██████████| 1/1 [00:00<00:00, 96.37it/s]\n"
     ]
    },
    {
     "name": "stdout",
     "output_type": "stream",
     "text": [
      "Validation loss: 1.8577463626861572\n",
      "Client  2\n",
      "File ../data/hdfs/hdfs_train, number of sessions 971\n",
      "File ../data/hdfs/hdfs_train, number of seqs 9485\n",
      "sampling...\n"
     ]
    },
    {
     "name": "stderr",
     "output_type": "stream",
     "text": [
      "100%|██████████| 1051/1051 [00:00<00:00, 3520.37it/s]\n"
     ]
    },
    {
     "name": "stdout",
     "output_type": "stream",
     "text": [
      "File ../data/hdfs/hdfs_test_normal, number of sessions 110673\n",
      "File ../data/hdfs/hdfs_test_normal, number of seqs 1051\n",
      "Find 9485 train logs, 1051 validation logs\n",
      "Train batch size 2048 ,Validation batch size 2048\n",
      "Starting epoch: 0 | phase: train | ⏰: 09:25:38 | Learning rate: 0.000031\n"
     ]
    },
    {
     "name": "stderr",
     "output_type": "stream",
     "text": [
      "Train loss: 1.90723: 100%|██████████| 5/5 [00:00<00:00, 53.64it/s]\n"
     ]
    },
    {
     "name": "stdout",
     "output_type": "stream",
     "text": [
      "Starting epoch: 0 | phase: valid | ⏰: 09:25:39 \n"
     ]
    },
    {
     "name": "stderr",
     "output_type": "stream",
     "text": [
      ": 100%|██████████| 1/1 [00:00<00:00, 101.60it/s]\n"
     ]
    },
    {
     "name": "stdout",
     "output_type": "stream",
     "text": [
      "Validation loss: 1.8791298866271973\n",
      "Client  3\n",
      "File ../data/hdfs/hdfs_train, number of sessions 971\n",
      "File ../data/hdfs/hdfs_train, number of seqs 9267\n",
      "sampling...\n"
     ]
    },
    {
     "name": "stderr",
     "output_type": "stream",
     "text": [
      "100%|██████████| 1057/1057 [00:00<00:00, 3442.87it/s]\n"
     ]
    },
    {
     "name": "stdout",
     "output_type": "stream",
     "text": [
      "File ../data/hdfs/hdfs_test_normal, number of sessions 110673\n",
      "File ../data/hdfs/hdfs_test_normal, number of seqs 1057\n",
      "Find 9267 train logs, 1057 validation logs\n",
      "Train batch size 2048 ,Validation batch size 2048\n",
      "Starting epoch: 0 | phase: train | ⏰: 09:25:50 | Learning rate: 0.000031\n"
     ]
    },
    {
     "name": "stderr",
     "output_type": "stream",
     "text": [
      "Train loss: 1.88910: 100%|██████████| 5/5 [00:00<00:00, 57.23it/s]\n"
     ]
    },
    {
     "name": "stdout",
     "output_type": "stream",
     "text": [
      "Starting epoch: 0 | phase: valid | ⏰: 09:25:50 \n"
     ]
    },
    {
     "name": "stderr",
     "output_type": "stream",
     "text": [
      ": 100%|██████████| 1/1 [00:00<00:00, 102.37it/s]\n"
     ]
    },
    {
     "name": "stdout",
     "output_type": "stream",
     "text": [
      "Validation loss: 1.9027405977249146\n",
      "Client  4\n",
      "File ../data/hdfs/hdfs_train, number of sessions 971\n",
      "File ../data/hdfs/hdfs_train, number of seqs 9323\n",
      "sampling...\n"
     ]
    },
    {
     "name": "stderr",
     "output_type": "stream",
     "text": [
      "100%|██████████| 1044/1044 [00:00<00:00, 3570.09it/s]\n"
     ]
    },
    {
     "name": "stdout",
     "output_type": "stream",
     "text": [
      "File ../data/hdfs/hdfs_test_normal, number of sessions 110673\n",
      "File ../data/hdfs/hdfs_test_normal, number of seqs 1044\n",
      "Find 9323 train logs, 1044 validation logs\n",
      "Train batch size 2048 ,Validation batch size 2048\n",
      "Starting epoch: 0 | phase: train | ⏰: 09:26:02 | Learning rate: 0.000031\n"
     ]
    },
    {
     "name": "stderr",
     "output_type": "stream",
     "text": [
      "Train loss: 1.88447: 100%|██████████| 5/5 [00:00<00:00, 55.54it/s]\n"
     ]
    },
    {
     "name": "stdout",
     "output_type": "stream",
     "text": [
      "Starting epoch: 0 | phase: valid | ⏰: 09:26:02 \n"
     ]
    },
    {
     "name": "stderr",
     "output_type": "stream",
     "text": [
      ": 100%|██████████| 1/1 [00:00<00:00, 102.11it/s]\n"
     ]
    },
    {
     "name": "stdout",
     "output_type": "stream",
     "text": [
      "Validation loss: 1.8029214143753052\n",
      "============ Test epoch 43 ============\n",
      "Client  0\n",
      "Number of sessions(hdfs_test_normal): 5813\n",
      "Number of sessions(hdfs_test_abnormal): 1136\n"
     ]
    },
    {
     "name": "stderr",
     "output_type": "stream",
     "text": [
      "100%|██████████| 5813/5813 [01:54<00:00, 50.71it/s]\n",
      "100%|██████████| 1136/1136 [00:07<00:00, 151.88it/s]\n"
     ]
    },
    {
     "name": "stdout",
     "output_type": "stream",
     "text": [
      "false positive (FP): 490, false negative (FN): 24, Precision: 87.216%, Recall: 99.287%, F1-measure: 92.861%\n",
      "actual positive (TP+FN): 3367, actual negative (FP+TN): 110673\n",
      "accuracy: 99.549\n",
      "Finished Predicting\n",
      "elapsed_time: 122.10781908035278\n",
      "Client  1\n",
      "Number of sessions(hdfs_test_normal): 5574\n",
      "Number of sessions(hdfs_test_abnormal): 1139\n"
     ]
    },
    {
     "name": "stderr",
     "output_type": "stream",
     "text": [
      "100%|██████████| 5574/5574 [01:56<00:00, 47.71it/s]\n",
      "100%|██████████| 1139/1139 [00:15<00:00, 74.10it/s]\n"
     ]
    },
    {
     "name": "stdout",
     "output_type": "stream",
     "text": [
      "false positive (FP): 528, false negative (FN): 26, Precision: 86.353%, Recall: 99.228%, F1-measure: 92.344%\n",
      "actual positive (TP+FN): 3367, actual negative (FP+TN): 110673\n",
      "accuracy: 99.514\n",
      "Finished Predicting\n",
      "elapsed_time: 132.19521164894104\n",
      "Client  2\n",
      "Number of sessions(hdfs_test_normal): 5730\n",
      "Number of sessions(hdfs_test_abnormal): 1118\n"
     ]
    },
    {
     "name": "stderr",
     "output_type": "stream",
     "text": [
      "100%|██████████| 5730/5730 [02:21<00:00, 40.35it/s]\n",
      "100%|██████████| 1118/1118 [00:15<00:00, 73.59it/s]\n"
     ]
    },
    {
     "name": "stdout",
     "output_type": "stream",
     "text": [
      "false positive (FP): 468, false negative (FN): 30, Precision: 87.700%, Recall: 99.109%, F1-measure: 93.056%\n",
      "actual positive (TP+FN): 3367, actual negative (FP+TN): 110673\n",
      "accuracy: 99.563\n",
      "Finished Predicting\n",
      "elapsed_time: 157.18836617469788\n",
      "Client  3\n",
      "Number of sessions(hdfs_test_normal): 5747\n",
      "Number of sessions(hdfs_test_abnormal): 1159\n"
     ]
    },
    {
     "name": "stderr",
     "output_type": "stream",
     "text": [
      "100%|██████████| 5747/5747 [02:21<00:00, 40.57it/s]\n",
      "100%|██████████| 1159/1159 [00:15<00:00, 72.58it/s]\n"
     ]
    },
    {
     "name": "stdout",
     "output_type": "stream",
     "text": [
      "false positive (FP): 451, false negative (FN): 28, Precision: 88.100%, Recall: 99.168%, F1-measure: 93.307%\n",
      "actual positive (TP+FN): 3367, actual negative (FP+TN): 110673\n",
      "accuracy: 99.580\n",
      "Finished Predicting\n",
      "elapsed_time: 157.61485528945923\n",
      "Client  4\n",
      "Number of sessions(hdfs_test_normal): 5623\n",
      "Number of sessions(hdfs_test_abnormal): 1121\n"
     ]
    },
    {
     "name": "stderr",
     "output_type": "stream",
     "text": [
      "100%|██████████| 5623/5623 [02:16<00:00, 41.10it/s]\n",
      "100%|██████████| 1121/1121 [00:15<00:00, 74.23it/s]\n"
     ]
    },
    {
     "name": "stdout",
     "output_type": "stream",
     "text": [
      "false positive (FP): 525, false negative (FN): 32, Precision: 86.399%, Recall: 99.050%, F1-measure: 92.293%\n",
      "actual positive (TP+FN): 3367, actual negative (FP+TN): 110673\n",
      "accuracy: 99.512\n",
      "Finished Predicting\n",
      "elapsed_time: 151.93183088302612\n",
      "============ Train epoch 44 ============\n",
      "Client  0\n",
      "File ../data/hdfs/hdfs_train, number of sessions 971\n",
      "File ../data/hdfs/hdfs_train, number of seqs 9420\n",
      "sampling...\n"
     ]
    },
    {
     "name": "stderr",
     "output_type": "stream",
     "text": [
      "100%|██████████| 1058/1058 [00:00<00:00, 3575.53it/s]\n"
     ]
    },
    {
     "name": "stdout",
     "output_type": "stream",
     "text": [
      "File ../data/hdfs/hdfs_test_normal, number of sessions 110673\n",
      "File ../data/hdfs/hdfs_test_normal, number of seqs 1058\n",
      "Find 9420 train logs, 1058 validation logs\n",
      "Train batch size 2048 ,Validation batch size 2048\n",
      "Starting epoch: 0 | phase: train | ⏰: 09:38:18 | Learning rate: 0.000031\n"
     ]
    },
    {
     "name": "stderr",
     "output_type": "stream",
     "text": [
      "Train loss: 1.87164: 100%|██████████| 5/5 [00:00<00:00, 54.18it/s]\n"
     ]
    },
    {
     "name": "stdout",
     "output_type": "stream",
     "text": [
      "Starting epoch: 0 | phase: valid | ⏰: 09:38:18 \n"
     ]
    },
    {
     "name": "stderr",
     "output_type": "stream",
     "text": [
      ": 100%|██████████| 1/1 [00:00<00:00, 101.09it/s]\n"
     ]
    },
    {
     "name": "stdout",
     "output_type": "stream",
     "text": [
      "Validation loss: 1.895235300064087\n",
      "Client  1\n",
      "File ../data/hdfs/hdfs_train, number of sessions 971\n",
      "File ../data/hdfs/hdfs_train, number of seqs 9080\n",
      "sampling...\n"
     ]
    },
    {
     "name": "stderr",
     "output_type": "stream",
     "text": [
      "100%|██████████| 1046/1046 [00:00<00:00, 3545.92it/s]\n"
     ]
    },
    {
     "name": "stdout",
     "output_type": "stream",
     "text": [
      "File ../data/hdfs/hdfs_test_normal, number of sessions 110673\n",
      "File ../data/hdfs/hdfs_test_normal, number of seqs 1046\n",
      "Find 9080 train logs, 1046 validation logs\n",
      "Train batch size 2048 ,Validation batch size 2048\n",
      "Starting epoch: 0 | phase: train | ⏰: 09:38:29 | Learning rate: 0.000031\n"
     ]
    },
    {
     "name": "stderr",
     "output_type": "stream",
     "text": [
      "Train loss: 1.88705: 100%|██████████| 5/5 [00:00<00:00, 57.33it/s]\n"
     ]
    },
    {
     "name": "stdout",
     "output_type": "stream",
     "text": [
      "Starting epoch: 0 | phase: valid | ⏰: 09:38:29 \n"
     ]
    },
    {
     "name": "stderr",
     "output_type": "stream",
     "text": [
      ": 100%|██████████| 1/1 [00:00<00:00, 104.21it/s]\n"
     ]
    },
    {
     "name": "stdout",
     "output_type": "stream",
     "text": [
      "Validation loss: 1.8338570594787598\n",
      "Client  2\n",
      "File ../data/hdfs/hdfs_train, number of sessions 971\n",
      "File ../data/hdfs/hdfs_train, number of seqs 9485\n",
      "sampling...\n"
     ]
    },
    {
     "name": "stderr",
     "output_type": "stream",
     "text": [
      "100%|██████████| 1051/1051 [00:00<00:00, 3583.60it/s]\n"
     ]
    },
    {
     "name": "stdout",
     "output_type": "stream",
     "text": [
      "File ../data/hdfs/hdfs_test_normal, number of sessions 110673\n",
      "File ../data/hdfs/hdfs_test_normal, number of seqs 1051\n",
      "Find 9485 train logs, 1051 validation logs\n",
      "Train batch size 2048 ,Validation batch size 2048\n",
      "Starting epoch: 0 | phase: train | ⏰: 09:38:41 | Learning rate: 0.000031\n"
     ]
    },
    {
     "name": "stderr",
     "output_type": "stream",
     "text": [
      "Train loss: 1.88745: 100%|██████████| 5/5 [00:00<00:00, 55.11it/s]\n"
     ]
    },
    {
     "name": "stdout",
     "output_type": "stream",
     "text": [
      "Starting epoch: 0 | phase: valid | ⏰: 09:38:41 \n"
     ]
    },
    {
     "name": "stderr",
     "output_type": "stream",
     "text": [
      ": 100%|██████████| 1/1 [00:00<00:00, 100.19it/s]\n"
     ]
    },
    {
     "name": "stdout",
     "output_type": "stream",
     "text": [
      "Validation loss: 1.8626747131347656\n",
      "Client  3\n",
      "File ../data/hdfs/hdfs_train, number of sessions 971\n",
      "File ../data/hdfs/hdfs_train, number of seqs 9267\n",
      "sampling...\n"
     ]
    },
    {
     "name": "stderr",
     "output_type": "stream",
     "text": [
      "100%|██████████| 1057/1057 [00:00<00:00, 3532.24it/s]\n"
     ]
    },
    {
     "name": "stdout",
     "output_type": "stream",
     "text": [
      "File ../data/hdfs/hdfs_test_normal, number of sessions 110673\n",
      "File ../data/hdfs/hdfs_test_normal, number of seqs 1057\n",
      "Find 9267 train logs, 1057 validation logs\n",
      "Train batch size 2048 ,Validation batch size 2048\n",
      "Starting epoch: 0 | phase: train | ⏰: 09:38:53 | Learning rate: 0.000031\n"
     ]
    },
    {
     "name": "stderr",
     "output_type": "stream",
     "text": [
      "Train loss: 1.86800: 100%|██████████| 5/5 [00:00<00:00, 53.41it/s]\n"
     ]
    },
    {
     "name": "stdout",
     "output_type": "stream",
     "text": [
      "Starting epoch: 0 | phase: valid | ⏰: 09:38:53 \n"
     ]
    },
    {
     "name": "stderr",
     "output_type": "stream",
     "text": [
      ": 100%|██████████| 1/1 [00:00<00:00, 98.58it/s]\n"
     ]
    },
    {
     "name": "stdout",
     "output_type": "stream",
     "text": [
      "Validation loss: 1.8811086416244507\n",
      "Client  4\n",
      "File ../data/hdfs/hdfs_train, number of sessions 971\n",
      "File ../data/hdfs/hdfs_train, number of seqs 9323\n",
      "sampling...\n"
     ]
    },
    {
     "name": "stderr",
     "output_type": "stream",
     "text": [
      "100%|██████████| 1044/1044 [00:00<00:00, 3586.23it/s]\n"
     ]
    },
    {
     "name": "stdout",
     "output_type": "stream",
     "text": [
      "File ../data/hdfs/hdfs_test_normal, number of sessions 110673\n",
      "File ../data/hdfs/hdfs_test_normal, number of seqs 1044\n",
      "Find 9323 train logs, 1044 validation logs\n",
      "Train batch size 2048 ,Validation batch size 2048\n",
      "Starting epoch: 0 | phase: train | ⏰: 09:39:04 | Learning rate: 0.000031\n"
     ]
    },
    {
     "name": "stderr",
     "output_type": "stream",
     "text": [
      "Train loss: 1.86926: 100%|██████████| 5/5 [00:00<00:00, 55.04it/s]\n"
     ]
    },
    {
     "name": "stdout",
     "output_type": "stream",
     "text": [
      "Starting epoch: 0 | phase: valid | ⏰: 09:39:04 \n"
     ]
    },
    {
     "name": "stderr",
     "output_type": "stream",
     "text": [
      ": 100%|██████████| 1/1 [00:00<00:00, 102.98it/s]\n"
     ]
    },
    {
     "name": "stdout",
     "output_type": "stream",
     "text": [
      "Validation loss: 1.880768060684204\n",
      "============ Test epoch 44 ============\n",
      "Client  0\n",
      "Number of sessions(hdfs_test_normal): 5813\n",
      "Number of sessions(hdfs_test_abnormal): 1136\n"
     ]
    },
    {
     "name": "stderr",
     "output_type": "stream",
     "text": [
      "100%|██████████| 5813/5813 [02:02<00:00, 47.28it/s]\n",
      "100%|██████████| 1136/1136 [00:07<00:00, 152.38it/s]\n"
     ]
    },
    {
     "name": "stdout",
     "output_type": "stream",
     "text": [
      "false positive (FP): 490, false negative (FN): 24, Precision: 87.216%, Recall: 99.287%, F1-measure: 92.861%\n",
      "actual positive (TP+FN): 3367, actual negative (FP+TN): 110673\n",
      "accuracy: 99.549\n",
      "Finished Predicting\n",
      "elapsed_time: 130.41100311279297\n",
      "Client  1\n",
      "Number of sessions(hdfs_test_normal): 5574\n",
      "Number of sessions(hdfs_test_abnormal): 1139\n"
     ]
    },
    {
     "name": "stderr",
     "output_type": "stream",
     "text": [
      "100%|██████████| 5574/5574 [01:47<00:00, 51.65it/s]\n",
      "100%|██████████| 1139/1139 [00:15<00:00, 73.91it/s]\n"
     ]
    },
    {
     "name": "stdout",
     "output_type": "stream",
     "text": [
      "false positive (FP): 528, false negative (FN): 26, Precision: 86.353%, Recall: 99.228%, F1-measure: 92.344%\n",
      "actual positive (TP+FN): 3367, actual negative (FP+TN): 110673\n",
      "accuracy: 99.514\n",
      "Finished Predicting\n",
      "elapsed_time: 123.32691621780396\n",
      "Client  2\n",
      "Number of sessions(hdfs_test_normal): 5730\n",
      "Number of sessions(hdfs_test_abnormal): 1118\n"
     ]
    },
    {
     "name": "stderr",
     "output_type": "stream",
     "text": [
      "100%|██████████| 5730/5730 [02:22<00:00, 40.23it/s]\n",
      "100%|██████████| 1118/1118 [00:14<00:00, 76.17it/s]\n"
     ]
    },
    {
     "name": "stdout",
     "output_type": "stream",
     "text": [
      "false positive (FP): 468, false negative (FN): 30, Precision: 87.700%, Recall: 99.109%, F1-measure: 93.056%\n",
      "actual positive (TP+FN): 3367, actual negative (FP+TN): 110673\n",
      "accuracy: 99.563\n",
      "Finished Predicting\n",
      "elapsed_time: 157.09554934501648\n",
      "Client  3\n",
      "Number of sessions(hdfs_test_normal): 5747\n",
      "Number of sessions(hdfs_test_abnormal): 1159\n"
     ]
    },
    {
     "name": "stderr",
     "output_type": "stream",
     "text": [
      "100%|██████████| 5747/5747 [01:50<00:00, 52.14it/s]\n",
      "100%|██████████| 1159/1159 [00:08<00:00, 142.65it/s]\n"
     ]
    },
    {
     "name": "stdout",
     "output_type": "stream",
     "text": [
      "false positive (FP): 451, false negative (FN): 28, Precision: 88.100%, Recall: 99.168%, F1-measure: 93.307%\n",
      "actual positive (TP+FN): 3367, actual negative (FP+TN): 110673\n",
      "accuracy: 99.580\n",
      "Finished Predicting\n",
      "elapsed_time: 118.354647397995\n",
      "Client  4\n",
      "Number of sessions(hdfs_test_normal): 5623\n",
      "Number of sessions(hdfs_test_abnormal): 1121\n"
     ]
    },
    {
     "name": "stderr",
     "output_type": "stream",
     "text": [
      "100%|██████████| 5623/5623 [02:01<00:00, 46.39it/s]\n",
      "100%|██████████| 1121/1121 [00:15<00:00, 73.83it/s]\n"
     ]
    },
    {
     "name": "stdout",
     "output_type": "stream",
     "text": [
      "false positive (FP): 525, false negative (FN): 32, Precision: 86.399%, Recall: 99.050%, F1-measure: 92.293%\n",
      "actual positive (TP+FN): 3367, actual negative (FP+TN): 110673\n",
      "accuracy: 99.512\n",
      "Finished Predicting\n",
      "elapsed_time: 136.39938020706177\n",
      "============ Train epoch 45 ============\n",
      "Client  0\n",
      "File ../data/hdfs/hdfs_train, number of sessions 971\n",
      "File ../data/hdfs/hdfs_train, number of seqs 9420\n",
      "sampling...\n"
     ]
    },
    {
     "name": "stderr",
     "output_type": "stream",
     "text": [
      "100%|██████████| 1058/1058 [00:00<00:00, 3418.83it/s]\n"
     ]
    },
    {
     "name": "stdout",
     "output_type": "stream",
     "text": [
      "File ../data/hdfs/hdfs_test_normal, number of sessions 110673\n",
      "File ../data/hdfs/hdfs_test_normal, number of seqs 1058\n",
      "Find 9420 train logs, 1058 validation logs\n",
      "Train batch size 2048 ,Validation batch size 2048\n",
      "Starting epoch: 0 | phase: train | ⏰: 09:50:24 | Learning rate: 0.000031\n"
     ]
    },
    {
     "name": "stderr",
     "output_type": "stream",
     "text": [
      "Train loss: 1.86087: 100%|██████████| 5/5 [00:00<00:00, 53.71it/s]\n"
     ]
    },
    {
     "name": "stdout",
     "output_type": "stream",
     "text": [
      "Starting epoch: 0 | phase: valid | ⏰: 09:50:25 \n"
     ]
    },
    {
     "name": "stderr",
     "output_type": "stream",
     "text": [
      ": 100%|██████████| 1/1 [00:00<00:00, 99.10it/s]\n"
     ]
    },
    {
     "name": "stdout",
     "output_type": "stream",
     "text": [
      "Validation loss: 1.8581472635269165\n",
      "Client  1\n",
      "File ../data/hdfs/hdfs_train, number of sessions 971\n",
      "File ../data/hdfs/hdfs_train, number of seqs 9080\n",
      "sampling...\n"
     ]
    },
    {
     "name": "stderr",
     "output_type": "stream",
     "text": [
      "100%|██████████| 1046/1046 [00:00<00:00, 3492.36it/s]\n"
     ]
    },
    {
     "name": "stdout",
     "output_type": "stream",
     "text": [
      "File ../data/hdfs/hdfs_test_normal, number of sessions 110673\n",
      "File ../data/hdfs/hdfs_test_normal, number of seqs 1046\n",
      "Find 9080 train logs, 1046 validation logs\n",
      "Train batch size 2048 ,Validation batch size 2048\n",
      "Starting epoch: 0 | phase: train | ⏰: 09:50:36 | Learning rate: 0.000031\n"
     ]
    },
    {
     "name": "stderr",
     "output_type": "stream",
     "text": [
      "Train loss: 1.87302: 100%|██████████| 5/5 [00:00<00:00, 54.66it/s]\n"
     ]
    },
    {
     "name": "stdout",
     "output_type": "stream",
     "text": [
      "Starting epoch: 0 | phase: valid | ⏰: 09:50:36 \n"
     ]
    },
    {
     "name": "stderr",
     "output_type": "stream",
     "text": [
      ": 100%|██████████| 1/1 [00:00<00:00, 98.42it/s]\n"
     ]
    },
    {
     "name": "stdout",
     "output_type": "stream",
     "text": [
      "Validation loss: 1.875286340713501\n",
      "Client  2\n",
      "File ../data/hdfs/hdfs_train, number of sessions 971\n",
      "File ../data/hdfs/hdfs_train, number of seqs 9485\n",
      "sampling...\n"
     ]
    },
    {
     "name": "stderr",
     "output_type": "stream",
     "text": [
      "100%|██████████| 1051/1051 [00:00<00:00, 3556.76it/s]\n"
     ]
    },
    {
     "name": "stdout",
     "output_type": "stream",
     "text": [
      "File ../data/hdfs/hdfs_test_normal, number of sessions 110673\n",
      "File ../data/hdfs/hdfs_test_normal, number of seqs 1051\n",
      "Find 9485 train logs, 1051 validation logs\n",
      "Train batch size 2048 ,Validation batch size 2048\n",
      "Starting epoch: 0 | phase: train | ⏰: 09:50:48 | Learning rate: 0.000031\n"
     ]
    },
    {
     "name": "stderr",
     "output_type": "stream",
     "text": [
      "Train loss: 1.87841: 100%|██████████| 5/5 [00:00<00:00, 52.35it/s]\n"
     ]
    },
    {
     "name": "stdout",
     "output_type": "stream",
     "text": [
      "Starting epoch: 0 | phase: valid | ⏰: 09:50:48 \n"
     ]
    },
    {
     "name": "stderr",
     "output_type": "stream",
     "text": [
      ": 100%|██████████| 1/1 [00:00<00:00, 97.58it/s]\n"
     ]
    },
    {
     "name": "stdout",
     "output_type": "stream",
     "text": [
      "Validation loss: 1.8551872968673706\n",
      "Client  3\n",
      "File ../data/hdfs/hdfs_train, number of sessions 971\n",
      "File ../data/hdfs/hdfs_train, number of seqs 9267\n",
      "sampling...\n"
     ]
    },
    {
     "name": "stderr",
     "output_type": "stream",
     "text": [
      "100%|██████████| 1057/1057 [00:00<00:00, 3478.92it/s]\n"
     ]
    },
    {
     "name": "stdout",
     "output_type": "stream",
     "text": [
      "File ../data/hdfs/hdfs_test_normal, number of sessions 110673\n",
      "File ../data/hdfs/hdfs_test_normal, number of seqs 1057\n",
      "Find 9267 train logs, 1057 validation logs\n",
      "Train batch size 2048 ,Validation batch size 2048\n",
      "Starting epoch: 0 | phase: train | ⏰: 09:51:00 | Learning rate: 0.000031\n"
     ]
    },
    {
     "name": "stderr",
     "output_type": "stream",
     "text": [
      "Train loss: 1.85963: 100%|██████████| 5/5 [00:00<00:00, 55.14it/s]\n"
     ]
    },
    {
     "name": "stdout",
     "output_type": "stream",
     "text": [
      "Starting epoch: 0 | phase: valid | ⏰: 09:51:00 \n"
     ]
    },
    {
     "name": "stderr",
     "output_type": "stream",
     "text": [
      ": 100%|██████████| 1/1 [00:00<00:00, 96.93it/s]\n"
     ]
    },
    {
     "name": "stdout",
     "output_type": "stream",
     "text": [
      "Validation loss: 1.836807131767273\n",
      "Client  4\n",
      "File ../data/hdfs/hdfs_train, number of sessions 971\n",
      "File ../data/hdfs/hdfs_train, number of seqs 9323\n",
      "sampling...\n"
     ]
    },
    {
     "name": "stderr",
     "output_type": "stream",
     "text": [
      "100%|██████████| 1044/1044 [00:00<00:00, 3579.35it/s]\n"
     ]
    },
    {
     "name": "stdout",
     "output_type": "stream",
     "text": [
      "File ../data/hdfs/hdfs_test_normal, number of sessions 110673\n",
      "File ../data/hdfs/hdfs_test_normal, number of seqs 1044\n",
      "Find 9323 train logs, 1044 validation logs\n",
      "Train batch size 2048 ,Validation batch size 2048\n",
      "Starting epoch: 0 | phase: train | ⏰: 09:51:11 | Learning rate: 0.000031\n"
     ]
    },
    {
     "name": "stderr",
     "output_type": "stream",
     "text": [
      "Train loss: 1.85912: 100%|██████████| 5/5 [00:00<00:00, 55.62it/s]\n"
     ]
    },
    {
     "name": "stdout",
     "output_type": "stream",
     "text": [
      "Starting epoch: 0 | phase: valid | ⏰: 09:51:11 \n"
     ]
    },
    {
     "name": "stderr",
     "output_type": "stream",
     "text": [
      ": 100%|██████████| 1/1 [00:00<00:00, 99.08it/s]\n"
     ]
    },
    {
     "name": "stdout",
     "output_type": "stream",
     "text": [
      "Validation loss: 1.8349902629852295\n",
      "============ Test epoch 45 ============\n",
      "Client  0\n",
      "Number of sessions(hdfs_test_normal): 5813\n",
      "Number of sessions(hdfs_test_abnormal): 1136\n"
     ]
    },
    {
     "name": "stderr",
     "output_type": "stream",
     "text": [
      "100%|██████████| 5813/5813 [02:23<00:00, 40.55it/s]\n",
      "100%|██████████| 1136/1136 [00:14<00:00, 77.49it/s]\n"
     ]
    },
    {
     "name": "stdout",
     "output_type": "stream",
     "text": [
      "false positive (FP): 490, false negative (FN): 24, Precision: 87.216%, Recall: 99.287%, F1-measure: 92.861%\n",
      "actual positive (TP+FN): 3367, actual negative (FP+TN): 110673\n",
      "accuracy: 99.549\n",
      "Finished Predicting\n",
      "elapsed_time: 158.0274453163147\n",
      "Client  1\n",
      "Number of sessions(hdfs_test_normal): 5574\n",
      "Number of sessions(hdfs_test_abnormal): 1139\n"
     ]
    },
    {
     "name": "stderr",
     "output_type": "stream",
     "text": [
      "100%|██████████| 5574/5574 [02:16<00:00, 40.86it/s]\n",
      "100%|██████████| 1139/1139 [00:15<00:00, 74.06it/s]\n"
     ]
    },
    {
     "name": "stdout",
     "output_type": "stream",
     "text": [
      "false positive (FP): 528, false negative (FN): 26, Precision: 86.353%, Recall: 99.228%, F1-measure: 92.344%\n",
      "actual positive (TP+FN): 3367, actual negative (FP+TN): 110673\n",
      "accuracy: 99.514\n",
      "Finished Predicting\n",
      "elapsed_time: 151.79362082481384\n",
      "Client  2\n",
      "Number of sessions(hdfs_test_normal): 5730\n",
      "Number of sessions(hdfs_test_abnormal): 1118\n"
     ]
    },
    {
     "name": "stderr",
     "output_type": "stream",
     "text": [
      "100%|██████████| 5730/5730 [02:21<00:00, 40.35it/s]\n",
      "100%|██████████| 1118/1118 [00:15<00:00, 73.63it/s]\n"
     ]
    },
    {
     "name": "stdout",
     "output_type": "stream",
     "text": [
      "false positive (FP): 468, false negative (FN): 30, Precision: 87.700%, Recall: 99.109%, F1-measure: 93.056%\n",
      "actual positive (TP+FN): 3367, actual negative (FP+TN): 110673\n",
      "accuracy: 99.563\n",
      "Finished Predicting\n",
      "elapsed_time: 157.1844024658203\n",
      "Client  3\n",
      "Number of sessions(hdfs_test_normal): 5747\n",
      "Number of sessions(hdfs_test_abnormal): 1159\n"
     ]
    },
    {
     "name": "stderr",
     "output_type": "stream",
     "text": [
      "100%|██████████| 5747/5747 [02:01<00:00, 47.35it/s]\n",
      "100%|██████████| 1159/1159 [00:08<00:00, 141.71it/s]\n"
     ]
    },
    {
     "name": "stdout",
     "output_type": "stream",
     "text": [
      "false positive (FP): 451, false negative (FN): 28, Precision: 88.100%, Recall: 99.168%, F1-measure: 93.307%\n",
      "actual positive (TP+FN): 3367, actual negative (FP+TN): 110673\n",
      "accuracy: 99.580\n",
      "Finished Predicting\n",
      "elapsed_time: 129.5555181503296\n",
      "Client  4\n",
      "Number of sessions(hdfs_test_normal): 5623\n",
      "Number of sessions(hdfs_test_abnormal): 1121\n"
     ]
    },
    {
     "name": "stderr",
     "output_type": "stream",
     "text": [
      "100%|██████████| 5623/5623 [01:51<00:00, 50.65it/s]\n",
      "100%|██████████| 1121/1121 [00:15<00:00, 74.13it/s]\n"
     ]
    },
    {
     "name": "stdout",
     "output_type": "stream",
     "text": [
      "false positive (FP): 525, false negative (FN): 32, Precision: 86.399%, Recall: 99.050%, F1-measure: 92.293%\n",
      "actual positive (TP+FN): 3367, actual negative (FP+TN): 110673\n",
      "accuracy: 99.512\n",
      "Finished Predicting\n",
      "elapsed_time: 126.13345313072205\n",
      "============ Train epoch 46 ============\n",
      "Client  0\n",
      "File ../data/hdfs/hdfs_train, number of sessions 971\n",
      "File ../data/hdfs/hdfs_train, number of seqs 9420\n",
      "sampling...\n"
     ]
    },
    {
     "name": "stderr",
     "output_type": "stream",
     "text": [
      "100%|██████████| 1058/1058 [00:00<00:00, 3511.39it/s]\n"
     ]
    },
    {
     "name": "stdout",
     "output_type": "stream",
     "text": [
      "File ../data/hdfs/hdfs_test_normal, number of sessions 110673\n",
      "File ../data/hdfs/hdfs_test_normal, number of seqs 1058\n",
      "Find 9420 train logs, 1058 validation logs\n",
      "Train batch size 2048 ,Validation batch size 2048\n",
      "Starting epoch: 0 | phase: train | ⏰: 10:03:29 | Learning rate: 0.000031\n"
     ]
    },
    {
     "name": "stderr",
     "output_type": "stream",
     "text": [
      "Train loss: 1.85237: 100%|██████████| 5/5 [00:00<00:00, 52.87it/s]\n"
     ]
    },
    {
     "name": "stdout",
     "output_type": "stream",
     "text": [
      "Starting epoch: 0 | phase: valid | ⏰: 10:03:29 \n"
     ]
    },
    {
     "name": "stderr",
     "output_type": "stream",
     "text": [
      ": 100%|██████████| 1/1 [00:00<00:00, 102.27it/s]\n"
     ]
    },
    {
     "name": "stdout",
     "output_type": "stream",
     "text": [
      "Validation loss: 1.876733660697937\n",
      "Client  1\n",
      "File ../data/hdfs/hdfs_train, number of sessions 971\n",
      "File ../data/hdfs/hdfs_train, number of seqs 9080\n",
      "sampling...\n"
     ]
    },
    {
     "name": "stderr",
     "output_type": "stream",
     "text": [
      "100%|██████████| 1046/1046 [00:00<00:00, 3553.15it/s]\n"
     ]
    },
    {
     "name": "stdout",
     "output_type": "stream",
     "text": [
      "File ../data/hdfs/hdfs_test_normal, number of sessions 110673\n",
      "File ../data/hdfs/hdfs_test_normal, number of seqs 1046\n",
      "Find 9080 train logs, 1046 validation logs\n",
      "Train batch size 2048 ,Validation batch size 2048\n",
      "Starting epoch: 0 | phase: train | ⏰: 10:03:40 | Learning rate: 0.000031\n"
     ]
    },
    {
     "name": "stderr",
     "output_type": "stream",
     "text": [
      "Train loss: 1.86532: 100%|██████████| 5/5 [00:00<00:00, 55.81it/s]\n"
     ]
    },
    {
     "name": "stdout",
     "output_type": "stream",
     "text": [
      "Starting epoch: 0 | phase: valid | ⏰: 10:03:40 \n"
     ]
    },
    {
     "name": "stderr",
     "output_type": "stream",
     "text": [
      ": 100%|██████████| 1/1 [00:00<00:00, 107.07it/s]\n"
     ]
    },
    {
     "name": "stdout",
     "output_type": "stream",
     "text": [
      "Validation loss: 1.8577526807785034\n",
      "Client  2\n",
      "File ../data/hdfs/hdfs_train, number of sessions 971\n",
      "File ../data/hdfs/hdfs_train, number of seqs 9485\n",
      "sampling...\n"
     ]
    },
    {
     "name": "stderr",
     "output_type": "stream",
     "text": [
      "100%|██████████| 1051/1051 [00:00<00:00, 3505.10it/s]\n"
     ]
    },
    {
     "name": "stdout",
     "output_type": "stream",
     "text": [
      "File ../data/hdfs/hdfs_test_normal, number of sessions 110673\n",
      "File ../data/hdfs/hdfs_test_normal, number of seqs 1051\n",
      "Find 9485 train logs, 1051 validation logs\n",
      "Train batch size 2048 ,Validation batch size 2048\n",
      "Starting epoch: 0 | phase: train | ⏰: 10:03:52 | Learning rate: 0.000031\n"
     ]
    },
    {
     "name": "stderr",
     "output_type": "stream",
     "text": [
      "Train loss: 1.86942: 100%|██████████| 5/5 [00:00<00:00, 54.26it/s]\n"
     ]
    },
    {
     "name": "stdout",
     "output_type": "stream",
     "text": [
      "Starting epoch: 0 | phase: valid | ⏰: 10:03:52 \n"
     ]
    },
    {
     "name": "stderr",
     "output_type": "stream",
     "text": [
      ": 100%|██████████| 1/1 [00:00<00:00, 103.62it/s]\n"
     ]
    },
    {
     "name": "stdout",
     "output_type": "stream",
     "text": [
      "Validation loss: 1.8620226383209229\n",
      "Client  3\n",
      "File ../data/hdfs/hdfs_train, number of sessions 971\n",
      "File ../data/hdfs/hdfs_train, number of seqs 9267\n",
      "sampling...\n"
     ]
    },
    {
     "name": "stderr",
     "output_type": "stream",
     "text": [
      "100%|██████████| 1057/1057 [00:00<00:00, 3465.00it/s]\n"
     ]
    },
    {
     "name": "stdout",
     "output_type": "stream",
     "text": [
      "File ../data/hdfs/hdfs_test_normal, number of sessions 110673\n",
      "File ../data/hdfs/hdfs_test_normal, number of seqs 1057\n",
      "Find 9267 train logs, 1057 validation logs\n",
      "Train batch size 2048 ,Validation batch size 2048\n",
      "Starting epoch: 0 | phase: train | ⏰: 10:04:04 | Learning rate: 0.000031\n"
     ]
    },
    {
     "name": "stderr",
     "output_type": "stream",
     "text": [
      "Train loss: 1.85340: 100%|██████████| 5/5 [00:00<00:00, 54.01it/s]\n"
     ]
    },
    {
     "name": "stdout",
     "output_type": "stream",
     "text": [
      "Starting epoch: 0 | phase: valid | ⏰: 10:04:04 \n"
     ]
    },
    {
     "name": "stderr",
     "output_type": "stream",
     "text": [
      ": 100%|██████████| 1/1 [00:00<00:00, 102.88it/s]\n"
     ]
    },
    {
     "name": "stdout",
     "output_type": "stream",
     "text": [
      "Validation loss: 1.8171873092651367\n",
      "Client  4\n",
      "File ../data/hdfs/hdfs_train, number of sessions 971\n",
      "File ../data/hdfs/hdfs_train, number of seqs 9323\n",
      "sampling...\n"
     ]
    },
    {
     "name": "stderr",
     "output_type": "stream",
     "text": [
      "100%|██████████| 1044/1044 [00:00<00:00, 3465.18it/s]\n"
     ]
    },
    {
     "name": "stdout",
     "output_type": "stream",
     "text": [
      "File ../data/hdfs/hdfs_test_normal, number of sessions 110673\n",
      "File ../data/hdfs/hdfs_test_normal, number of seqs 1044\n",
      "Find 9323 train logs, 1044 validation logs\n",
      "Train batch size 2048 ,Validation batch size 2048\n",
      "Starting epoch: 0 | phase: train | ⏰: 10:04:15 | Learning rate: 0.000031\n"
     ]
    },
    {
     "name": "stderr",
     "output_type": "stream",
     "text": [
      "Train loss: 1.85021: 100%|██████████| 5/5 [00:00<00:00, 54.72it/s]\n"
     ]
    },
    {
     "name": "stdout",
     "output_type": "stream",
     "text": [
      "Starting epoch: 0 | phase: valid | ⏰: 10:04:15 \n"
     ]
    },
    {
     "name": "stderr",
     "output_type": "stream",
     "text": [
      ": 100%|██████████| 1/1 [00:00<00:00, 98.13it/s]\n"
     ]
    },
    {
     "name": "stdout",
     "output_type": "stream",
     "text": [
      "Validation loss: 1.8188499212265015\n",
      "============ Test epoch 46 ============\n",
      "Client  0\n",
      "Number of sessions(hdfs_test_normal): 5813\n",
      "Number of sessions(hdfs_test_abnormal): 1136\n"
     ]
    },
    {
     "name": "stderr",
     "output_type": "stream",
     "text": [
      "100%|██████████| 5813/5813 [02:23<00:00, 40.59it/s]\n",
      "100%|██████████| 1136/1136 [00:13<00:00, 86.02it/s] \n"
     ]
    },
    {
     "name": "stdout",
     "output_type": "stream",
     "text": [
      "false positive (FP): 490, false negative (FN): 24, Precision: 87.216%, Recall: 99.287%, F1-measure: 92.861%\n",
      "actual positive (TP+FN): 3367, actual negative (FP+TN): 110673\n",
      "accuracy: 99.549\n",
      "Finished Predicting\n",
      "elapsed_time: 156.4368555545807\n",
      "Client  1\n",
      "Number of sessions(hdfs_test_normal): 5574\n",
      "Number of sessions(hdfs_test_abnormal): 1139\n"
     ]
    },
    {
     "name": "stderr",
     "output_type": "stream",
     "text": [
      "100%|██████████| 5574/5574 [01:22<00:00, 67.82it/s]\n",
      "100%|██████████| 1139/1139 [00:15<00:00, 74.14it/s]\n"
     ]
    },
    {
     "name": "stdout",
     "output_type": "stream",
     "text": [
      "false positive (FP): 528, false negative (FN): 26, Precision: 86.353%, Recall: 99.228%, F1-measure: 92.344%\n",
      "actual positive (TP+FN): 3367, actual negative (FP+TN): 110673\n",
      "accuracy: 99.514\n",
      "Finished Predicting\n",
      "elapsed_time: 97.55630254745483\n",
      "Client  2\n",
      "Number of sessions(hdfs_test_normal): 5730\n",
      "Number of sessions(hdfs_test_abnormal): 1118\n"
     ]
    },
    {
     "name": "stderr",
     "output_type": "stream",
     "text": [
      "100%|██████████| 5730/5730 [02:22<00:00, 40.29it/s]\n",
      "100%|██████████| 1118/1118 [00:15<00:00, 73.47it/s]\n"
     ]
    },
    {
     "name": "stdout",
     "output_type": "stream",
     "text": [
      "false positive (FP): 468, false negative (FN): 30, Precision: 87.700%, Recall: 99.109%, F1-measure: 93.056%\n",
      "actual positive (TP+FN): 3367, actual negative (FP+TN): 110673\n",
      "accuracy: 99.563\n",
      "Finished Predicting\n",
      "elapsed_time: 157.42236828804016\n",
      "Client  3\n",
      "Number of sessions(hdfs_test_normal): 5747\n",
      "Number of sessions(hdfs_test_abnormal): 1159\n"
     ]
    },
    {
     "name": "stderr",
     "output_type": "stream",
     "text": [
      "100%|██████████| 5747/5747 [02:21<00:00, 40.48it/s]\n",
      "100%|██████████| 1159/1159 [00:16<00:00, 72.03it/s]\n"
     ]
    },
    {
     "name": "stdout",
     "output_type": "stream",
     "text": [
      "false positive (FP): 451, false negative (FN): 28, Precision: 88.100%, Recall: 99.168%, F1-measure: 93.307%\n",
      "actual positive (TP+FN): 3367, actual negative (FP+TN): 110673\n",
      "accuracy: 99.580\n",
      "Finished Predicting\n",
      "elapsed_time: 158.05853080749512\n",
      "Client  4\n",
      "Number of sessions(hdfs_test_normal): 5623\n",
      "Number of sessions(hdfs_test_abnormal): 1121\n"
     ]
    },
    {
     "name": "stderr",
     "output_type": "stream",
     "text": [
      "100%|██████████| 5623/5623 [02:18<00:00, 40.73it/s]\n",
      "100%|██████████| 1121/1121 [00:15<00:00, 73.96it/s]\n"
     ]
    },
    {
     "name": "stdout",
     "output_type": "stream",
     "text": [
      "false positive (FP): 525, false negative (FN): 32, Precision: 86.399%, Recall: 99.050%, F1-measure: 92.293%\n",
      "actual positive (TP+FN): 3367, actual negative (FP+TN): 110673\n",
      "accuracy: 99.512\n",
      "Finished Predicting\n",
      "elapsed_time: 153.20246362686157\n",
      "============ Train epoch 47 ============\n",
      "Client  0\n",
      "File ../data/hdfs/hdfs_train, number of sessions 971\n",
      "File ../data/hdfs/hdfs_train, number of seqs 9420\n",
      "sampling...\n"
     ]
    },
    {
     "name": "stderr",
     "output_type": "stream",
     "text": [
      "100%|██████████| 1058/1058 [00:00<00:00, 3545.05it/s]\n"
     ]
    },
    {
     "name": "stdout",
     "output_type": "stream",
     "text": [
      "File ../data/hdfs/hdfs_test_normal, number of sessions 110673\n",
      "File ../data/hdfs/hdfs_test_normal, number of seqs 1058\n",
      "Find 9420 train logs, 1058 validation logs\n",
      "Train batch size 2048 ,Validation batch size 2048\n",
      "Starting epoch: 0 | phase: train | ⏰: 10:16:33 | Learning rate: 0.000031\n"
     ]
    },
    {
     "name": "stderr",
     "output_type": "stream",
     "text": [
      "Train loss: 1.84742: 100%|██████████| 5/5 [00:00<00:00, 52.88it/s]\n"
     ]
    },
    {
     "name": "stdout",
     "output_type": "stream",
     "text": [
      "Starting epoch: 0 | phase: valid | ⏰: 10:16:33 \n"
     ]
    },
    {
     "name": "stderr",
     "output_type": "stream",
     "text": [
      ": 100%|██████████| 1/1 [00:00<00:00, 90.96it/s]\n"
     ]
    },
    {
     "name": "stdout",
     "output_type": "stream",
     "text": [
      "Validation loss: 1.853218913078308\n",
      "Client  1\n",
      "File ../data/hdfs/hdfs_train, number of sessions 971\n",
      "File ../data/hdfs/hdfs_train, number of seqs 9080\n",
      "sampling...\n"
     ]
    },
    {
     "name": "stderr",
     "output_type": "stream",
     "text": [
      "100%|██████████| 1046/1046 [00:00<00:00, 3634.61it/s]\n"
     ]
    },
    {
     "name": "stdout",
     "output_type": "stream",
     "text": [
      "File ../data/hdfs/hdfs_test_normal, number of sessions 110673\n",
      "File ../data/hdfs/hdfs_test_normal, number of seqs 1046\n",
      "Find 9080 train logs, 1046 validation logs\n",
      "Train batch size 2048 ,Validation batch size 2048\n",
      "Starting epoch: 0 | phase: train | ⏰: 10:16:45 | Learning rate: 0.000031\n"
     ]
    },
    {
     "name": "stderr",
     "output_type": "stream",
     "text": [
      "Train loss: 1.86004: 100%|██████████| 5/5 [00:00<00:00, 55.03it/s]\n"
     ]
    },
    {
     "name": "stdout",
     "output_type": "stream",
     "text": [
      "Starting epoch: 0 | phase: valid | ⏰: 10:16:45 \n"
     ]
    },
    {
     "name": "stderr",
     "output_type": "stream",
     "text": [
      ": 100%|██████████| 1/1 [00:00<00:00, 93.36it/s]\n"
     ]
    },
    {
     "name": "stdout",
     "output_type": "stream",
     "text": [
      "Validation loss: 1.8189072608947754\n",
      "Client  2\n",
      "File ../data/hdfs/hdfs_train, number of sessions 971\n",
      "File ../data/hdfs/hdfs_train, number of seqs 9485\n",
      "sampling...\n"
     ]
    },
    {
     "name": "stderr",
     "output_type": "stream",
     "text": [
      "100%|██████████| 1051/1051 [00:00<00:00, 3488.51it/s]\n"
     ]
    },
    {
     "name": "stdout",
     "output_type": "stream",
     "text": [
      "File ../data/hdfs/hdfs_test_normal, number of sessions 110673\n",
      "File ../data/hdfs/hdfs_test_normal, number of seqs 1051\n",
      "Find 9485 train logs, 1051 validation logs\n",
      "Train batch size 2048 ,Validation batch size 2048\n",
      "Starting epoch: 0 | phase: train | ⏰: 10:16:57 | Learning rate: 0.000031\n"
     ]
    },
    {
     "name": "stderr",
     "output_type": "stream",
     "text": [
      "Train loss: 1.86566: 100%|██████████| 5/5 [00:00<00:00, 53.11it/s]\n"
     ]
    },
    {
     "name": "stdout",
     "output_type": "stream",
     "text": [
      "Starting epoch: 0 | phase: valid | ⏰: 10:16:57 \n"
     ]
    },
    {
     "name": "stderr",
     "output_type": "stream",
     "text": [
      ": 100%|██████████| 1/1 [00:00<00:00, 98.44it/s]\n"
     ]
    },
    {
     "name": "stdout",
     "output_type": "stream",
     "text": [
      "Validation loss: 1.855774998664856\n",
      "Client  3\n",
      "File ../data/hdfs/hdfs_train, number of sessions 971\n",
      "File ../data/hdfs/hdfs_train, number of seqs 9267\n",
      "sampling...\n"
     ]
    },
    {
     "name": "stderr",
     "output_type": "stream",
     "text": [
      "100%|██████████| 1057/1057 [00:00<00:00, 3458.58it/s]\n"
     ]
    },
    {
     "name": "stdout",
     "output_type": "stream",
     "text": [
      "File ../data/hdfs/hdfs_test_normal, number of sessions 110673\n",
      "File ../data/hdfs/hdfs_test_normal, number of seqs 1057\n",
      "Find 9267 train logs, 1057 validation logs\n",
      "Train batch size 2048 ,Validation batch size 2048\n",
      "Starting epoch: 0 | phase: train | ⏰: 10:17:08 | Learning rate: 0.000031\n"
     ]
    },
    {
     "name": "stderr",
     "output_type": "stream",
     "text": [
      "Train loss: 1.84915: 100%|██████████| 5/5 [00:00<00:00, 54.15it/s]\n"
     ]
    },
    {
     "name": "stdout",
     "output_type": "stream",
     "text": [
      "Starting epoch: 0 | phase: valid | ⏰: 10:17:09 \n"
     ]
    },
    {
     "name": "stderr",
     "output_type": "stream",
     "text": [
      ": 100%|██████████| 1/1 [00:00<00:00, 100.12it/s]\n"
     ]
    },
    {
     "name": "stdout",
     "output_type": "stream",
     "text": [
      "Validation loss: 1.8582910299301147\n",
      "Client  4\n",
      "File ../data/hdfs/hdfs_train, number of sessions 971\n",
      "File ../data/hdfs/hdfs_train, number of seqs 9323\n",
      "sampling...\n"
     ]
    },
    {
     "name": "stderr",
     "output_type": "stream",
     "text": [
      "100%|██████████| 1044/1044 [00:00<00:00, 3610.70it/s]\n"
     ]
    },
    {
     "name": "stdout",
     "output_type": "stream",
     "text": [
      "File ../data/hdfs/hdfs_test_normal, number of sessions 110673\n",
      "File ../data/hdfs/hdfs_test_normal, number of seqs 1044\n",
      "Find 9323 train logs, 1044 validation logs\n",
      "Train batch size 2048 ,Validation batch size 2048\n",
      "Starting epoch: 0 | phase: train | ⏰: 10:17:20 | Learning rate: 0.000031\n"
     ]
    },
    {
     "name": "stderr",
     "output_type": "stream",
     "text": [
      "Train loss: 1.84569: 100%|██████████| 5/5 [00:00<00:00, 53.82it/s]\n"
     ]
    },
    {
     "name": "stdout",
     "output_type": "stream",
     "text": [
      "Starting epoch: 0 | phase: valid | ⏰: 10:17:20 \n"
     ]
    },
    {
     "name": "stderr",
     "output_type": "stream",
     "text": [
      ": 100%|██████████| 1/1 [00:00<00:00, 98.61it/s]\n"
     ]
    },
    {
     "name": "stdout",
     "output_type": "stream",
     "text": [
      "Validation loss: 1.8642733097076416\n",
      "============ Test epoch 47 ============\n",
      "Client  0\n",
      "Number of sessions(hdfs_test_normal): 5813\n",
      "Number of sessions(hdfs_test_abnormal): 1136\n"
     ]
    },
    {
     "name": "stderr",
     "output_type": "stream",
     "text": [
      "100%|██████████| 5813/5813 [02:23<00:00, 40.49it/s]\n",
      "100%|██████████| 1136/1136 [00:14<00:00, 77.75it/s]\n"
     ]
    },
    {
     "name": "stdout",
     "output_type": "stream",
     "text": [
      "false positive (FP): 490, false negative (FN): 24, Precision: 87.216%, Recall: 99.287%, F1-measure: 92.861%\n",
      "actual positive (TP+FN): 3367, actual negative (FP+TN): 110673\n",
      "accuracy: 99.549\n",
      "Finished Predicting\n",
      "elapsed_time: 158.18887543678284\n",
      "Client  1\n",
      "Number of sessions(hdfs_test_normal): 5574\n",
      "Number of sessions(hdfs_test_abnormal): 1139\n"
     ]
    },
    {
     "name": "stderr",
     "output_type": "stream",
     "text": [
      "100%|██████████| 5574/5574 [01:19<00:00, 69.82it/s]\n",
      "100%|██████████| 1139/1139 [00:15<00:00, 73.92it/s]\n"
     ]
    },
    {
     "name": "stdout",
     "output_type": "stream",
     "text": [
      "false positive (FP): 528, false negative (FN): 26, Precision: 86.353%, Recall: 99.228%, F1-measure: 92.344%\n",
      "actual positive (TP+FN): 3367, actual negative (FP+TN): 110673\n",
      "accuracy: 99.514\n",
      "Finished Predicting\n",
      "elapsed_time: 95.24904537200928\n",
      "Client  2\n",
      "Number of sessions(hdfs_test_normal): 5730\n",
      "Number of sessions(hdfs_test_abnormal): 1118\n"
     ]
    },
    {
     "name": "stderr",
     "output_type": "stream",
     "text": [
      "100%|██████████| 5730/5730 [02:21<00:00, 40.38it/s]\n",
      "100%|██████████| 1118/1118 [00:15<00:00, 73.61it/s]\n"
     ]
    },
    {
     "name": "stdout",
     "output_type": "stream",
     "text": [
      "false positive (FP): 468, false negative (FN): 30, Precision: 87.700%, Recall: 99.109%, F1-measure: 93.056%\n",
      "actual positive (TP+FN): 3367, actual negative (FP+TN): 110673\n",
      "accuracy: 99.563\n",
      "Finished Predicting\n",
      "elapsed_time: 157.0798680782318\n",
      "Client  3\n",
      "Number of sessions(hdfs_test_normal): 5747\n",
      "Number of sessions(hdfs_test_abnormal): 1159\n"
     ]
    },
    {
     "name": "stderr",
     "output_type": "stream",
     "text": [
      "100%|██████████| 5747/5747 [02:22<00:00, 40.44it/s]\n",
      "100%|██████████| 1159/1159 [00:11<00:00, 104.52it/s]\n"
     ]
    },
    {
     "name": "stdout",
     "output_type": "stream",
     "text": [
      "false positive (FP): 451, false negative (FN): 28, Precision: 88.100%, Recall: 99.168%, F1-measure: 93.307%\n",
      "actual positive (TP+FN): 3367, actual negative (FP+TN): 110673\n",
      "accuracy: 99.580\n",
      "Finished Predicting\n",
      "elapsed_time: 153.21329617500305\n",
      "Client  4\n",
      "Number of sessions(hdfs_test_normal): 5623\n",
      "Number of sessions(hdfs_test_abnormal): 1121\n"
     ]
    },
    {
     "name": "stderr",
     "output_type": "stream",
     "text": [
      "100%|██████████| 5623/5623 [01:27<00:00, 64.35it/s]\n",
      "100%|██████████| 1121/1121 [00:15<00:00, 74.58it/s]\n"
     ]
    },
    {
     "name": "stdout",
     "output_type": "stream",
     "text": [
      "false positive (FP): 525, false negative (FN): 32, Precision: 86.399%, Recall: 99.050%, F1-measure: 92.293%\n",
      "actual positive (TP+FN): 3367, actual negative (FP+TN): 110673\n",
      "accuracy: 99.512\n",
      "Finished Predicting\n",
      "elapsed_time: 102.4105715751648\n",
      "============ Train epoch 48 ============\n",
      "Client  0\n",
      "File ../data/hdfs/hdfs_train, number of sessions 971\n",
      "File ../data/hdfs/hdfs_train, number of seqs 9420\n",
      "sampling...\n"
     ]
    },
    {
     "name": "stderr",
     "output_type": "stream",
     "text": [
      "100%|██████████| 1058/1058 [00:00<00:00, 3351.68it/s]\n"
     ]
    },
    {
     "name": "stdout",
     "output_type": "stream",
     "text": [
      "File ../data/hdfs/hdfs_test_normal, number of sessions 110673\n",
      "File ../data/hdfs/hdfs_test_normal, number of seqs 1058\n",
      "Find 9420 train logs, 1058 validation logs\n",
      "Train batch size 2048 ,Validation batch size 2048\n",
      "Starting epoch: 0 | phase: train | ⏰: 10:28:41 | Learning rate: 0.000031\n"
     ]
    },
    {
     "name": "stderr",
     "output_type": "stream",
     "text": [
      "Train loss: 1.84003: 100%|██████████| 5/5 [00:00<00:00, 55.23it/s]\n"
     ]
    },
    {
     "name": "stdout",
     "output_type": "stream",
     "text": [
      "Starting epoch: 0 | phase: valid | ⏰: 10:28:41 \n"
     ]
    },
    {
     "name": "stderr",
     "output_type": "stream",
     "text": [
      ": 100%|██████████| 1/1 [00:00<00:00, 101.73it/s]\n"
     ]
    },
    {
     "name": "stdout",
     "output_type": "stream",
     "text": [
      "Validation loss: 1.8321253061294556\n",
      "Client  1\n",
      "File ../data/hdfs/hdfs_train, number of sessions 971\n",
      "File ../data/hdfs/hdfs_train, number of seqs 9080\n",
      "sampling...\n"
     ]
    },
    {
     "name": "stderr",
     "output_type": "stream",
     "text": [
      "100%|██████████| 1046/1046 [00:00<00:00, 3710.03it/s]\n"
     ]
    },
    {
     "name": "stdout",
     "output_type": "stream",
     "text": [
      "File ../data/hdfs/hdfs_test_normal, number of sessions 110673\n",
      "File ../data/hdfs/hdfs_test_normal, number of seqs 1046\n",
      "Find 9080 train logs, 1046 validation logs\n",
      "Train batch size 2048 ,Validation batch size 2048\n",
      "Starting epoch: 0 | phase: train | ⏰: 10:28:53 | Learning rate: 0.000031\n"
     ]
    },
    {
     "name": "stderr",
     "output_type": "stream",
     "text": [
      "Train loss: 1.85455: 100%|██████████| 5/5 [00:00<00:00, 56.52it/s]\n"
     ]
    },
    {
     "name": "stdout",
     "output_type": "stream",
     "text": [
      "Starting epoch: 0 | phase: valid | ⏰: 10:28:53 \n"
     ]
    },
    {
     "name": "stderr",
     "output_type": "stream",
     "text": [
      ": 100%|██████████| 1/1 [00:00<00:00, 89.31it/s]\n"
     ]
    },
    {
     "name": "stdout",
     "output_type": "stream",
     "text": [
      "Validation loss: 1.8361860513687134\n",
      "Client  2\n",
      "File ../data/hdfs/hdfs_train, number of sessions 971\n",
      "File ../data/hdfs/hdfs_train, number of seqs 9485\n",
      "sampling...\n"
     ]
    },
    {
     "name": "stderr",
     "output_type": "stream",
     "text": [
      "100%|██████████| 1051/1051 [00:00<00:00, 3380.08it/s]\n"
     ]
    },
    {
     "name": "stdout",
     "output_type": "stream",
     "text": [
      "File ../data/hdfs/hdfs_test_normal, number of sessions 110673\n",
      "File ../data/hdfs/hdfs_test_normal, number of seqs 1051\n",
      "Find 9485 train logs, 1051 validation logs\n",
      "Train batch size 2048 ,Validation batch size 2048\n",
      "Starting epoch: 0 | phase: train | ⏰: 10:29:04 | Learning rate: 0.000031\n"
     ]
    },
    {
     "name": "stderr",
     "output_type": "stream",
     "text": [
      "Train loss: 1.85703: 100%|██████████| 5/5 [00:00<00:00, 53.08it/s]\n"
     ]
    },
    {
     "name": "stdout",
     "output_type": "stream",
     "text": [
      "Starting epoch: 0 | phase: valid | ⏰: 10:29:05 \n"
     ]
    },
    {
     "name": "stderr",
     "output_type": "stream",
     "text": [
      ": 100%|██████████| 1/1 [00:00<00:00, 96.11it/s]\n"
     ]
    },
    {
     "name": "stdout",
     "output_type": "stream",
     "text": [
      "Validation loss: 1.824357271194458\n",
      "Client  3\n",
      "File ../data/hdfs/hdfs_train, number of sessions 971\n",
      "File ../data/hdfs/hdfs_train, number of seqs 9267\n",
      "sampling...\n"
     ]
    },
    {
     "name": "stderr",
     "output_type": "stream",
     "text": [
      "100%|██████████| 1057/1057 [00:00<00:00, 3479.86it/s]\n"
     ]
    },
    {
     "name": "stdout",
     "output_type": "stream",
     "text": [
      "File ../data/hdfs/hdfs_test_normal, number of sessions 110673\n",
      "File ../data/hdfs/hdfs_test_normal, number of seqs 1057\n",
      "Find 9267 train logs, 1057 validation logs\n",
      "Train batch size 2048 ,Validation batch size 2048\n",
      "Starting epoch: 0 | phase: train | ⏰: 10:29:16 | Learning rate: 0.000031\n"
     ]
    },
    {
     "name": "stderr",
     "output_type": "stream",
     "text": [
      "Train loss: 1.84104: 100%|██████████| 5/5 [00:00<00:00, 53.15it/s]\n"
     ]
    },
    {
     "name": "stdout",
     "output_type": "stream",
     "text": [
      "Starting epoch: 0 | phase: valid | ⏰: 10:29:16 \n"
     ]
    },
    {
     "name": "stderr",
     "output_type": "stream",
     "text": [
      ": 100%|██████████| 1/1 [00:00<00:00, 99.78it/s]\n"
     ]
    },
    {
     "name": "stdout",
     "output_type": "stream",
     "text": [
      "Validation loss: 1.825015902519226\n",
      "Client  4\n",
      "File ../data/hdfs/hdfs_train, number of sessions 971\n",
      "File ../data/hdfs/hdfs_train, number of seqs 9323\n",
      "sampling...\n"
     ]
    },
    {
     "name": "stderr",
     "output_type": "stream",
     "text": [
      "100%|██████████| 1044/1044 [00:00<00:00, 3698.90it/s]\n"
     ]
    },
    {
     "name": "stdout",
     "output_type": "stream",
     "text": [
      "File ../data/hdfs/hdfs_test_normal, number of sessions 110673\n",
      "File ../data/hdfs/hdfs_test_normal, number of seqs 1044\n",
      "Find 9323 train logs, 1044 validation logs\n",
      "Train batch size 2048 ,Validation batch size 2048\n",
      "Starting epoch: 0 | phase: train | ⏰: 10:29:28 | Learning rate: 0.000031\n"
     ]
    },
    {
     "name": "stderr",
     "output_type": "stream",
     "text": [
      "Train loss: 1.84349: 100%|██████████| 5/5 [00:00<00:00, 55.11it/s]\n"
     ]
    },
    {
     "name": "stdout",
     "output_type": "stream",
     "text": [
      "Starting epoch: 0 | phase: valid | ⏰: 10:29:28 \n"
     ]
    },
    {
     "name": "stderr",
     "output_type": "stream",
     "text": [
      ": 100%|██████████| 1/1 [00:00<00:00, 97.89it/s]\n"
     ]
    },
    {
     "name": "stdout",
     "output_type": "stream",
     "text": [
      "Validation loss: 1.804006814956665\n",
      "============ Test epoch 48 ============\n",
      "Client  0\n",
      "Number of sessions(hdfs_test_normal): 5813\n",
      "Number of sessions(hdfs_test_abnormal): 1136\n"
     ]
    },
    {
     "name": "stderr",
     "output_type": "stream",
     "text": [
      "100%|██████████| 5813/5813 [02:23<00:00, 40.45it/s]\n",
      "100%|██████████| 1136/1136 [00:14<00:00, 77.33it/s]\n"
     ]
    },
    {
     "name": "stdout",
     "output_type": "stream",
     "text": [
      "false positive (FP): 490, false negative (FN): 24, Precision: 87.216%, Recall: 99.287%, F1-measure: 92.861%\n",
      "actual positive (TP+FN): 3367, actual negative (FP+TN): 110673\n",
      "accuracy: 99.549\n",
      "Finished Predicting\n",
      "elapsed_time: 158.40027236938477\n",
      "Client  1\n",
      "Number of sessions(hdfs_test_normal): 5574\n",
      "Number of sessions(hdfs_test_abnormal): 1139\n"
     ]
    },
    {
     "name": "stderr",
     "output_type": "stream",
     "text": [
      "100%|██████████| 5574/5574 [02:16<00:00, 40.90it/s]\n",
      "100%|██████████| 1139/1139 [00:15<00:00, 73.96it/s]\n"
     ]
    },
    {
     "name": "stdout",
     "output_type": "stream",
     "text": [
      "false positive (FP): 528, false negative (FN): 26, Precision: 86.353%, Recall: 99.228%, F1-measure: 92.344%\n",
      "actual positive (TP+FN): 3367, actual negative (FP+TN): 110673\n",
      "accuracy: 99.514\n",
      "Finished Predicting\n",
      "elapsed_time: 151.6879916191101\n",
      "Client  2\n",
      "Number of sessions(hdfs_test_normal): 5730\n",
      "Number of sessions(hdfs_test_abnormal): 1118\n"
     ]
    },
    {
     "name": "stderr",
     "output_type": "stream",
     "text": [
      "100%|██████████| 5730/5730 [02:21<00:00, 40.36it/s]\n",
      "100%|██████████| 1118/1118 [00:15<00:00, 73.30it/s]\n"
     ]
    },
    {
     "name": "stdout",
     "output_type": "stream",
     "text": [
      "false positive (FP): 468, false negative (FN): 30, Precision: 87.700%, Recall: 99.109%, F1-measure: 93.056%\n",
      "actual positive (TP+FN): 3367, actual negative (FP+TN): 110673\n",
      "accuracy: 99.563\n",
      "Finished Predicting\n",
      "elapsed_time: 157.2128565311432\n",
      "Client  3\n",
      "Number of sessions(hdfs_test_normal): 5747\n",
      "Number of sessions(hdfs_test_abnormal): 1159\n"
     ]
    },
    {
     "name": "stderr",
     "output_type": "stream",
     "text": [
      "100%|██████████| 5747/5747 [02:22<00:00, 40.33it/s]\n",
      "100%|██████████| 1159/1159 [00:16<00:00, 72.03it/s]\n"
     ]
    },
    {
     "name": "stdout",
     "output_type": "stream",
     "text": [
      "false positive (FP): 451, false negative (FN): 28, Precision: 88.100%, Recall: 99.168%, F1-measure: 93.307%\n",
      "actual positive (TP+FN): 3367, actual negative (FP+TN): 110673\n",
      "accuracy: 99.580\n",
      "Finished Predicting\n",
      "elapsed_time: 158.58557724952698\n",
      "Client  4\n",
      "Number of sessions(hdfs_test_normal): 5623\n",
      "Number of sessions(hdfs_test_abnormal): 1121\n"
     ]
    },
    {
     "name": "stderr",
     "output_type": "stream",
     "text": [
      "100%|██████████| 5623/5623 [01:21<00:00, 69.41it/s]\n",
      "100%|██████████| 1121/1121 [00:15<00:00, 74.13it/s]\n"
     ]
    },
    {
     "name": "stdout",
     "output_type": "stream",
     "text": [
      "false positive (FP): 525, false negative (FN): 32, Precision: 86.399%, Recall: 99.050%, F1-measure: 92.293%\n",
      "actual positive (TP+FN): 3367, actual negative (FP+TN): 110673\n",
      "accuracy: 99.512\n",
      "Finished Predicting\n",
      "elapsed_time: 96.13511896133423\n",
      "============ Train epoch 49 ============\n",
      "Client  0\n",
      "File ../data/hdfs/hdfs_train, number of sessions 971\n",
      "File ../data/hdfs/hdfs_train, number of seqs 9420\n",
      "sampling...\n"
     ]
    },
    {
     "name": "stderr",
     "output_type": "stream",
     "text": [
      "100%|██████████| 1058/1058 [00:00<00:00, 3539.93it/s]\n"
     ]
    },
    {
     "name": "stdout",
     "output_type": "stream",
     "text": [
      "File ../data/hdfs/hdfs_test_normal, number of sessions 110673\n",
      "File ../data/hdfs/hdfs_test_normal, number of seqs 1058\n",
      "Find 9420 train logs, 1058 validation logs\n",
      "Train batch size 2048 ,Validation batch size 2048\n",
      "Starting epoch: 0 | phase: train | ⏰: 10:41:45 | Learning rate: 0.000031\n"
     ]
    },
    {
     "name": "stderr",
     "output_type": "stream",
     "text": [
      "Train loss: 1.83155: 100%|██████████| 5/5 [00:00<00:00, 53.29it/s]\n"
     ]
    },
    {
     "name": "stdout",
     "output_type": "stream",
     "text": [
      "Starting epoch: 0 | phase: valid | ⏰: 10:41:45 \n"
     ]
    },
    {
     "name": "stderr",
     "output_type": "stream",
     "text": [
      ": 100%|██████████| 1/1 [00:00<00:00, 98.68it/s]\n"
     ]
    },
    {
     "name": "stdout",
     "output_type": "stream",
     "text": [
      "Validation loss: 1.8239277601242065\n",
      "Client  1\n",
      "File ../data/hdfs/hdfs_train, number of sessions 971\n",
      "File ../data/hdfs/hdfs_train, number of seqs 9080\n",
      "sampling...\n"
     ]
    },
    {
     "name": "stderr",
     "output_type": "stream",
     "text": [
      "100%|██████████| 1046/1046 [00:00<00:00, 3460.72it/s]\n"
     ]
    },
    {
     "name": "stdout",
     "output_type": "stream",
     "text": [
      "File ../data/hdfs/hdfs_test_normal, number of sessions 110673\n",
      "File ../data/hdfs/hdfs_test_normal, number of seqs 1046\n",
      "Find 9080 train logs, 1046 validation logs\n",
      "Train batch size 2048 ,Validation batch size 2048\n",
      "Starting epoch: 0 | phase: train | ⏰: 10:41:57 | Learning rate: 0.000031\n"
     ]
    },
    {
     "name": "stderr",
     "output_type": "stream",
     "text": [
      "Train loss: 1.84989: 100%|██████████| 5/5 [00:00<00:00, 56.23it/s]\n"
     ]
    },
    {
     "name": "stdout",
     "output_type": "stream",
     "text": [
      "Starting epoch: 0 | phase: valid | ⏰: 10:41:57 \n"
     ]
    },
    {
     "name": "stderr",
     "output_type": "stream",
     "text": [
      ": 100%|██████████| 1/1 [00:00<00:00, 104.89it/s]"
     ]
    },
    {
     "name": "stdout",
     "output_type": "stream",
     "text": [
      "Validation loss: 1.8291507959365845\n",
      "Client  2\n"
     ]
    },
    {
     "name": "stderr",
     "output_type": "stream",
     "text": [
      "\n"
     ]
    },
    {
     "name": "stdout",
     "output_type": "stream",
     "text": [
      "File ../data/hdfs/hdfs_train, number of sessions 971\n",
      "File ../data/hdfs/hdfs_train, number of seqs 9485\n",
      "sampling...\n"
     ]
    },
    {
     "name": "stderr",
     "output_type": "stream",
     "text": [
      "100%|██████████| 1051/1051 [00:00<00:00, 3561.64it/s]\n"
     ]
    },
    {
     "name": "stdout",
     "output_type": "stream",
     "text": [
      "File ../data/hdfs/hdfs_test_normal, number of sessions 110673\n",
      "File ../data/hdfs/hdfs_test_normal, number of seqs 1051\n",
      "Find 9485 train logs, 1051 validation logs\n",
      "Train batch size 2048 ,Validation batch size 2048\n",
      "Starting epoch: 0 | phase: train | ⏰: 10:42:08 | Learning rate: 0.000031\n"
     ]
    },
    {
     "name": "stderr",
     "output_type": "stream",
     "text": [
      "Train loss: 1.85581: 100%|██████████| 5/5 [00:00<00:00, 55.24it/s]\n"
     ]
    },
    {
     "name": "stdout",
     "output_type": "stream",
     "text": [
      "Starting epoch: 0 | phase: valid | ⏰: 10:42:08 \n"
     ]
    },
    {
     "name": "stderr",
     "output_type": "stream",
     "text": [
      ": 100%|██████████| 1/1 [00:00<00:00, 101.12it/s]\n"
     ]
    },
    {
     "name": "stdout",
     "output_type": "stream",
     "text": [
      "Validation loss: 1.8439527750015259\n",
      "Client  3\n",
      "File ../data/hdfs/hdfs_train, number of sessions 971\n",
      "File ../data/hdfs/hdfs_train, number of seqs 9267\n",
      "sampling...\n"
     ]
    },
    {
     "name": "stderr",
     "output_type": "stream",
     "text": [
      "100%|██████████| 1057/1057 [00:00<00:00, 3525.46it/s]\n"
     ]
    },
    {
     "name": "stdout",
     "output_type": "stream",
     "text": [
      "File ../data/hdfs/hdfs_test_normal, number of sessions 110673\n",
      "File ../data/hdfs/hdfs_test_normal, number of seqs 1057\n",
      "Find 9267 train logs, 1057 validation logs\n",
      "Train batch size 2048 ,Validation batch size 2048\n",
      "Starting epoch: 0 | phase: train | ⏰: 10:42:20 | Learning rate: 0.000031\n"
     ]
    },
    {
     "name": "stderr",
     "output_type": "stream",
     "text": [
      "Train loss: 1.83378: 100%|██████████| 5/5 [00:00<00:00, 55.73it/s]\n"
     ]
    },
    {
     "name": "stdout",
     "output_type": "stream",
     "text": [
      "Starting epoch: 0 | phase: valid | ⏰: 10:42:20 \n"
     ]
    },
    {
     "name": "stderr",
     "output_type": "stream",
     "text": [
      ": 100%|██████████| 1/1 [00:00<00:00, 104.79it/s]\n"
     ]
    },
    {
     "name": "stdout",
     "output_type": "stream",
     "text": [
      "Validation loss: 1.8022854328155518\n",
      "Client  4\n",
      "File ../data/hdfs/hdfs_train, number of sessions 971\n",
      "File ../data/hdfs/hdfs_train, number of seqs 9323\n",
      "sampling...\n"
     ]
    },
    {
     "name": "stderr",
     "output_type": "stream",
     "text": [
      "100%|██████████| 1044/1044 [00:00<00:00, 3535.67it/s]\n"
     ]
    },
    {
     "name": "stdout",
     "output_type": "stream",
     "text": [
      "File ../data/hdfs/hdfs_test_normal, number of sessions 110673\n",
      "File ../data/hdfs/hdfs_test_normal, number of seqs 1044\n",
      "Find 9323 train logs, 1044 validation logs\n",
      "Train batch size 2048 ,Validation batch size 2048\n",
      "Starting epoch: 0 | phase: train | ⏰: 10:42:32 | Learning rate: 0.000031\n"
     ]
    },
    {
     "name": "stderr",
     "output_type": "stream",
     "text": [
      "Train loss: 1.83680: 100%|██████████| 5/5 [00:00<00:00, 55.52it/s]\n"
     ]
    },
    {
     "name": "stdout",
     "output_type": "stream",
     "text": [
      "Starting epoch: 0 | phase: valid | ⏰: 10:42:32 \n"
     ]
    },
    {
     "name": "stderr",
     "output_type": "stream",
     "text": [
      ": 100%|██████████| 1/1 [00:00<00:00, 100.98it/s]\n"
     ]
    },
    {
     "name": "stdout",
     "output_type": "stream",
     "text": [
      "Validation loss: 1.8028980493545532\n",
      "============ Test epoch 49 ============\n",
      "Client  0\n",
      "Number of sessions(hdfs_test_normal): 5813\n",
      "Number of sessions(hdfs_test_abnormal): 1136\n"
     ]
    },
    {
     "name": "stderr",
     "output_type": "stream",
     "text": [
      "100%|██████████| 5813/5813 [02:23<00:00, 40.50it/s]\n",
      "100%|██████████| 1136/1136 [00:14<00:00, 77.32it/s]\n"
     ]
    },
    {
     "name": "stdout",
     "output_type": "stream",
     "text": [
      "false positive (FP): 490, false negative (FN): 24, Precision: 87.216%, Recall: 99.287%, F1-measure: 92.861%\n",
      "actual positive (TP+FN): 3367, actual negative (FP+TN): 110673\n",
      "accuracy: 99.549\n",
      "Finished Predicting\n",
      "elapsed_time: 158.23408770561218\n",
      "Client  1\n",
      "Number of sessions(hdfs_test_normal): 5574\n",
      "Number of sessions(hdfs_test_abnormal): 1139\n"
     ]
    },
    {
     "name": "stderr",
     "output_type": "stream",
     "text": [
      "100%|██████████| 5574/5574 [01:40<00:00, 55.25it/s]\n",
      "100%|██████████| 1139/1139 [00:07<00:00, 145.38it/s]\n"
     ]
    },
    {
     "name": "stdout",
     "output_type": "stream",
     "text": [
      "false positive (FP): 528, false negative (FN): 26, Precision: 86.353%, Recall: 99.228%, F1-measure: 92.344%\n",
      "actual positive (TP+FN): 3367, actual negative (FP+TN): 110673\n",
      "accuracy: 99.514\n",
      "Finished Predicting\n",
      "elapsed_time: 108.72760391235352\n",
      "Client  2\n",
      "Number of sessions(hdfs_test_normal): 5730\n",
      "Number of sessions(hdfs_test_abnormal): 1118\n"
     ]
    },
    {
     "name": "stderr",
     "output_type": "stream",
     "text": [
      "100%|██████████| 5730/5730 [02:09<00:00, 44.30it/s]\n",
      "100%|██████████| 1118/1118 [00:15<00:00, 73.51it/s]\n"
     ]
    },
    {
     "name": "stdout",
     "output_type": "stream",
     "text": [
      "false positive (FP): 468, false negative (FN): 30, Precision: 87.700%, Recall: 99.109%, F1-measure: 93.056%\n",
      "actual positive (TP+FN): 3367, actual negative (FP+TN): 110673\n",
      "accuracy: 99.563\n",
      "Finished Predicting\n",
      "elapsed_time: 144.54880261421204\n",
      "Client  3\n",
      "Number of sessions(hdfs_test_normal): 5747\n",
      "Number of sessions(hdfs_test_abnormal): 1159\n"
     ]
    },
    {
     "name": "stderr",
     "output_type": "stream",
     "text": [
      "100%|██████████| 5747/5747 [02:22<00:00, 40.42it/s]\n",
      "100%|██████████| 1159/1159 [00:15<00:00, 72.76it/s]\n"
     ]
    },
    {
     "name": "stdout",
     "output_type": "stream",
     "text": [
      "false positive (FP): 451, false negative (FN): 28, Precision: 88.100%, Recall: 99.168%, F1-measure: 93.307%\n",
      "actual positive (TP+FN): 3367, actual negative (FP+TN): 110673\n",
      "accuracy: 99.580\n",
      "Finished Predicting\n",
      "elapsed_time: 158.11857414245605\n",
      "Client  4\n",
      "Number of sessions(hdfs_test_normal): 5623\n",
      "Number of sessions(hdfs_test_abnormal): 1121\n"
     ]
    },
    {
     "name": "stderr",
     "output_type": "stream",
     "text": [
      "100%|██████████| 5623/5623 [02:18<00:00, 40.68it/s]\n",
      "100%|██████████| 1121/1121 [00:15<00:00, 74.05it/s]"
     ]
    },
    {
     "name": "stdout",
     "output_type": "stream",
     "text": [
      "false positive (FP): 525, false negative (FN): 32, Precision: 86.399%, Recall: 99.050%, F1-measure: 92.293%\n",
      "actual positive (TP+FN): 3367, actual negative (FP+TN): 110673\n",
      "accuracy: 99.512\n",
      "Finished Predicting\n",
      "elapsed_time: 153.35929489135742\n"
     ]
    },
    {
     "name": "stderr",
     "output_type": "stream",
     "text": [
      "\n"
     ]
    }
   ],
   "source": [
    "# # setup model\n",
    "server_model = deeplog(input_size=options['input_size'],\n",
    "                    hidden_size=options['hidden_size'],\n",
    "                    num_layers=options['num_layers'],\n",
    "                    num_keys=options['num_classes']).to(device)\n",
    "# for adaptive velocity\n",
    "v = {}\n",
    "grad = {}\n",
    "for key in server_model.state_dict().keys():\n",
    "    v[key] = torch.add(torch.zeros_like(server_model.state_dict()[key],dtype=torch.float32),args.tau**2)\n",
    "    grad[key] = torch.zeros_like(server_model.state_dict()[key],dtype=torch.float32)\n",
    "loss_fun = nn.CrossEntropyLoss()\n",
    "# name of each datasets\n",
    "datasets = ['Client'+str(i) for i in range(args.client_num)]\n",
    "# federated client number\n",
    "client_num = len(datasets)\n",
    "client_weights = [1/client_num for i in range(client_num)]\n",
    "# each local client model\n",
    "models = [copy.deepcopy(server_model).to(device) for idx in range(client_num)]\n",
    "\n",
    "start_iter = 0\n",
    "\n",
    "lloogg_1 = {'train':{'epoch':[], 'lr':[], 'time':[], 'loss':[]}, \n",
    "          'val':{'epoch':[], 'lr':[], 'time':[], 'loss':[]}}\n",
    "lloogg_2 = {'train':{'epoch':[], 'lr':[], 'time':[], 'loss':[]}, \n",
    "          'val':{'epoch':[], 'lr':[], 'time':[], 'loss':[]}}\n",
    "lloogg_3 = {'train':{'epoch':[], 'lr':[], 'time':[], 'loss':[]}, \n",
    "          'val':{'epoch':[], 'lr':[], 'time':[], 'loss':[]}}\n",
    "lloogg_4 = {'train':{'epoch':[], 'lr':[], 'time':[], 'loss':[]}, \n",
    "          'val':{'epoch':[], 'lr':[], 'time':[], 'loss':[]}}\n",
    "lloogg_5 = {'train':{'epoch':[], 'lr':[], 'time':[], 'loss':[]}, \n",
    "          'val':{'epoch':[], 'lr':[], 'time':[], 'loss':[]}}\n",
    "\n",
    "result_recall = {}\n",
    "result_precision = {}\n",
    "result_f1 = {}\n",
    "result_acc = {}\n",
    "for i in range(client_num):\n",
    "    result_recall[i] = []\n",
    "    result_precision[i] = []\n",
    "    result_f1[i] = []\n",
    "    result_acc[i] = []\n",
    "\n",
    "# Start training\n",
    "for a_iter in range(start_iter, args.iters):\n",
    "#     optimizers = [optim.SGD(params = models[idx].parameters(), lr=args.lr, momentum = args.client_momentum) for idx in range(client_num)]\n",
    "    for wi in range(args.wk_iters):\n",
    "        print(\"============ Train epoch {} ============\".format(wi + a_iter * args.wk_iters))\n",
    "        for client_idx, model in enumerate(models):\n",
    "            print('Client ', client_idx)\n",
    "            trainer = Trainer(model, options, args.client_num, client_idx)\n",
    "            trainer.start_train()\n",
    "            \n",
    "            exec('lloogg_'+str(client_idx+1)+\"['train']['epoch'].append(a_iter)\")\n",
    "            exec('lloogg_'+str(client_idx+1)+\"['train']['lr'].append(trainer.log['train']['lr'][-1])\")\n",
    "            exec('lloogg_'+str(client_idx+1)+\"['train']['time'].append(trainer.log['train']['time'][-1])\")\n",
    "            exec('lloogg_'+str(client_idx+1)+\"['train']['loss'].append(trainer.log['train']['loss'][-1])\")\n",
    "            exec('lloogg_'+str(client_idx+1)+\"['val']['epoch'].append(a_iter)\")\n",
    "            exec('lloogg_'+str(client_idx+1)+\"['val']['lr'].append(trainer.log['valid']['lr'][-1])\")\n",
    "            exec('lloogg_'+str(client_idx+1)+\"['val']['time'].append(trainer.log['valid']['time'][-1])\")\n",
    "            exec('lloogg_'+str(client_idx+1)+\"['val']['loss'].append(trainer.log['valid']['loss'][-1])\")\n",
    "\n",
    "    with torch.no_grad():\n",
    "        # aggregation\n",
    "        server_model, models, v, grad = communication(args, server_model, models, client_weights, v, grad )\n",
    "        # Report loss after aggregation\n",
    "        print(\"============ Test epoch {} ============\".format(wi + a_iter * args.wk_iters))\n",
    "\n",
    "        for client_idx, model in enumerate(models):\n",
    "            print('Client ', client_idx)\n",
    "            predicter = Predicter(model, options, args.client_num, client_idx)\n",
    "            predicter.predict_unsupervised()\n",
    "            \n",
    "            result_recall[client_idx].append(predicter.recall)\n",
    "            result_precision[client_idx].append(predicter.precision)\n",
    "            result_f1[client_idx].append(predicter.f1)\n",
    "            result_acc[client_idx].append(predicter.acc)"
   ]
  },
  {
   "cell_type": "code",
   "execution_count": 12,
   "metadata": {
    "ExecuteTime": {
     "end_time": "2022-01-21T03:00:48.613864Z",
     "start_time": "2022-01-21T02:54:38.209628Z"
    }
   },
   "outputs": [
    {
     "name": "stdout",
     "output_type": "stream",
     "text": [
      "Number of sessions(hdfs_test_normal): 14177\n",
      "Number of sessions(hdfs_test_abnormal): 4123\n"
     ]
    },
    {
     "name": "stderr",
     "output_type": "stream",
     "text": [
      "100%|██████████| 14177/14177 [05:39<00:00, 41.76it/s]\n",
      "100%|██████████| 4123/4123 [00:28<00:00, 144.45it/s]"
     ]
    },
    {
     "name": "stdout",
     "output_type": "stream",
     "text": [
      "false positive (FP): 2462, false negative (FN): 140, Precision: 87.150%, Recall: 99.169%, F1-measure: 92.772%\n",
      "actual positive (TP+FN): 16838, actual negative (FP+TN): 553366\n",
      "accuracy: 99.544\n",
      "Finished Predicting\n",
      "elapsed_time: 368.0104582309723\n"
     ]
    },
    {
     "name": "stderr",
     "output_type": "stream",
     "text": [
      "\n"
     ]
    }
   ],
   "source": [
    "predicter_s = Predicter(server_model, options, 1, 0)\n",
    "predicter_s.predict_unsupervised()"
   ]
  },
  {
   "cell_type": "code",
   "execution_count": 13,
   "metadata": {
    "ExecuteTime": {
     "end_time": "2022-01-21T03:00:48.631209Z",
     "start_time": "2022-01-21T03:00:48.614745Z"
    }
   },
   "outputs": [],
   "source": [
    "for key, values in lloogg_1.items():\n",
    "    pd.DataFrame(values).to_csv(\"../result/deeplog/fedadam/client_1_\" + key + \"_log.csv\", index=False)\n",
    "del key \n",
    "del values\n",
    "for key, values in lloogg_2.items():\n",
    "    pd.DataFrame(values).to_csv(\"../result/deeplog/fedadam/client_2_\" + key + \"_log.csv\", index=False)\n",
    "del key \n",
    "del values\n",
    "for key, values in lloogg_3.items():\n",
    "    pd.DataFrame(values).to_csv(\"../result/deeplog/fedadam/client_3_\" + key + \"_log.csv\", index=False)\n",
    "del key \n",
    "del values\n",
    "for key, values in lloogg_4.items():\n",
    "    pd.DataFrame(values).to_csv(\"../result/deeplog/fedadam/client_4_\" + key + \"_log.csv\", index=False)\n",
    "del key \n",
    "del values\n",
    "for key, values in lloogg_5.items():\n",
    "    pd.DataFrame(values).to_csv(\"../result/deeplog/fedadam/client_5_\" + key + \"_log.csv\", index=False)\n",
    "del key \n",
    "del values"
   ]
  },
  {
   "cell_type": "code",
   "execution_count": 14,
   "metadata": {
    "ExecuteTime": {
     "end_time": "2022-01-21T03:00:48.644672Z",
     "start_time": "2022-01-21T03:00:48.632044Z"
    }
   },
   "outputs": [],
   "source": [
    "(pd.DataFrame.from_dict(data=result_recall, orient='index').to_csv('../result/deeplog/fedadam/recall.csv', header=False))\n",
    "(pd.DataFrame.from_dict(data=result_precision, orient='index').to_csv('../result/deeplog/fedadam/precision.csv', header=False))\n",
    "(pd.DataFrame.from_dict(data=result_f1, orient='index').to_csv('../result/deeplog/fedadam/f1.csv', header=False))\n",
    "(pd.DataFrame.from_dict(data=result_acc, orient='index').to_csv('../result/deeplog/fedadam/acc.csv', header=False))"
   ]
  },
  {
   "cell_type": "code",
   "execution_count": 15,
   "metadata": {
    "ExecuteTime": {
     "end_time": "2022-01-21T03:00:48.927655Z",
     "start_time": "2022-01-21T03:00:48.645423Z"
    }
   },
   "outputs": [
    {
     "data": {
      "image/png": "[encoded data removed]",
      "text/plain": [
       "<Figure size 432x288 with 1 Axes>"
      ]
     },
     "metadata": {
      "needs_background": "light"
     },
     "output_type": "display_data"
    },
    {
     "data": {
      "image/png": "[encoded data removed]",
      "text/plain": [
       "<Figure size 432x288 with 1 Axes>"
      ]
     },
     "metadata": {
      "needs_background": "light"
     },
     "output_type": "display_data"
    },
    {
     "data": {
      "image/png": "[encoded data removed]",
      "text/plain": [
       "<Figure size 432x288 with 1 Axes>"
      ]
     },
     "metadata": {
      "needs_background": "light"
     },
     "output_type": "display_data"
    },
    {
     "data": {
      "image/png": "[encoded data removed]",
      "text/plain": [
       "<Figure size 432x288 with 1 Axes>"
      ]
     },
     "metadata": {
      "needs_background": "light"
     },
     "output_type": "display_data"
    },
    {
     "data": {
      "image/png": "[encoded data removed]",
      "text/plain": [
       "<Figure size 432x288 with 1 Axes>"
      ]
     },
     "metadata": {
      "needs_background": "light"
     },
     "output_type": "display_data"
    }
   ],
   "source": [
    "# plot train and validation loss\n",
    "plt.plot(lloogg_1['train']['epoch'], lloogg_1['train']['loss'])\n",
    "plt.plot(lloogg_1['val']['epoch'], lloogg_1['val']['loss'])\n",
    "plt.title('model train vs validation loss')\n",
    "plt.ylabel('loss')\n",
    "plt.xlabel('epoch')\n",
    "plt.legend(['train', 'validation'], loc='upper right')\n",
    "plt.show()\n",
    "\n",
    "plt.plot(lloogg_2['train']['epoch'], lloogg_2['train']['loss'])\n",
    "plt.plot(lloogg_2['val']['epoch'], lloogg_2['val']['loss'])\n",
    "plt.title('model train vs validation loss')\n",
    "plt.ylabel('loss')\n",
    "plt.xlabel('epoch')\n",
    "plt.legend(['train', 'validation'], loc='upper right')\n",
    "plt.show()\n",
    "\n",
    "plt.plot(lloogg_3['train']['epoch'], lloogg_3['train']['loss'])\n",
    "plt.plot(lloogg_3['val']['epoch'], lloogg_3['val']['loss'])\n",
    "plt.title('model train vs validation loss')\n",
    "plt.ylabel('loss')\n",
    "plt.xlabel('epoch')\n",
    "plt.legend(['train', 'validation'], loc='upper right')\n",
    "plt.show()\n",
    "\n",
    "plt.plot(lloogg_4['train']['epoch'], lloogg_4['train']['loss'])\n",
    "plt.plot(lloogg_4['val']['epoch'], lloogg_4['val']['loss'])\n",
    "plt.title('model train vs validation loss')\n",
    "plt.ylabel('loss')\n",
    "plt.xlabel('epoch')\n",
    "plt.legend(['train', 'validation'], loc='upper right')\n",
    "plt.show()\n",
    "\n",
    "plt.plot(lloogg_5['train']['epoch'], lloogg_5['train']['loss'])\n",
    "plt.plot(lloogg_5['val']['epoch'], lloogg_5['val']['loss'])\n",
    "plt.title('model train vs validation loss')\n",
    "plt.ylabel('loss')\n",
    "plt.xlabel('epoch')\n",
    "plt.legend(['train', 'validation'], loc='upper right')\n",
    "plt.show()"
   ]
  },
  {
   "cell_type": "code",
   "execution_count": 16,
   "metadata": {
    "ExecuteTime": {
     "end_time": "2022-01-21T03:00:48.992922Z",
     "start_time": "2022-01-21T03:00:48.928458Z"
    }
   },
   "outputs": [
    {
     "data": {
      "image/png": "[encoded data removed]",
      "text/plain": [
       "<Figure size 432x288 with 1 Axes>"
      ]
     },
     "metadata": {
      "needs_background": "light"
     },
     "output_type": "display_data"
    }
   ],
   "source": [
    "plt.plot(lloogg_1['train']['epoch'], lloogg_1['train']['loss'])\n",
    "plt.plot(lloogg_2['train']['epoch'], lloogg_2['train']['loss'])\n",
    "plt.plot(lloogg_3['train']['epoch'], lloogg_3['train']['loss'])\n",
    "plt.plot(lloogg_4['train']['epoch'], lloogg_4['train']['loss'])\n",
    "plt.plot(lloogg_5['train']['epoch'], lloogg_5['train']['loss'])\n",
    "# plt.plot(lloogg_1['val']['epoch'], lloogg_1['val']['loss'])\n",
    "plt.title('Train loss')\n",
    "plt.ylabel('loss')\n",
    "plt.xlabel('epoch')\n",
    "plt.legend(['1','2','3','4','5'], loc='upper right')\n",
    "plt.show()"
   ]
  },
  {
   "cell_type": "code",
   "execution_count": 17,
   "metadata": {
    "ExecuteTime": {
     "end_time": "2022-01-21T03:00:49.059640Z",
     "start_time": "2022-01-21T03:00:48.993750Z"
    }
   },
   "outputs": [
    {
     "data": {
      "image/png": "[encoded data removed]",
      "text/plain": [
       "<Figure size 432x288 with 1 Axes>"
      ]
     },
     "metadata": {
      "needs_background": "light"
     },
     "output_type": "display_data"
    }
   ],
   "source": [
    "plt.plot(lloogg_1['val']['epoch'], lloogg_1['val']['loss'])\n",
    "plt.plot(lloogg_2['val']['epoch'], lloogg_2['val']['loss'])\n",
    "plt.plot(lloogg_3['val']['epoch'], lloogg_3['val']['loss'])\n",
    "plt.plot(lloogg_4['val']['epoch'], lloogg_4['val']['loss'])\n",
    "plt.plot(lloogg_5['val']['epoch'], lloogg_5['val']['loss'])\n",
    "# plt.plot(lloogg_1['val']['epoch'], lloogg_1['val']['loss'])\n",
    "plt.title('Validation loss')\n",
    "plt.ylabel('loss')\n",
    "plt.xlabel('epoch')\n",
    "plt.legend(['1','2','3','4','5'], loc='upper right')\n",
    "plt.show()"
   ]
  },
  {
   "cell_type": "code",
   "execution_count": 18,
   "metadata": {
    "ExecuteTime": {
     "end_time": "2022-01-21T03:00:49.066486Z",
     "start_time": "2022-01-21T03:00:49.060481Z"
    }
   },
   "outputs": [],
   "source": [
    "result_record_f1 = pd.DataFrame.from_dict(data=result_f1, orient='index')\n",
    "result_record_f1 = np.mean(np.array(result_record_f1), axis = 0)\n",
    "result_record_f1 = result_record_f1.reshape(-1)\n",
    "\n",
    "result_record_acc = pd.DataFrame.from_dict(data=result_acc, orient='index')\n",
    "result_record_acc = np.mean(np.array(result_record_acc), axis = 0)\n",
    "result_record_acc = result_record_acc.reshape(-1)"
   ]
  },
  {
   "cell_type": "code",
   "execution_count": 19,
   "metadata": {
    "ExecuteTime": {
     "end_time": "2022-01-21T03:00:49.128160Z",
     "start_time": "2022-01-21T03:00:49.067244Z"
    }
   },
   "outputs": [
    {
     "data": {
      "image/png": "[encoded data removed]",
      "text/plain": [
       "<Figure size 432x288 with 1 Axes>"
      ]
     },
     "metadata": {
      "needs_background": "light"
     },
     "output_type": "display_data"
    }
   ],
   "source": [
    "for i in range(client_num):\n",
    "    plt.plot(np.arange(args.iters), result_acc[i], label = 'Client '+ str(i+1))\n",
    "plt.legend()\n",
    "plt.show()"
   ]
  },
  {
   "cell_type": "code",
   "execution_count": 20,
   "metadata": {
    "ExecuteTime": {
     "end_time": "2022-01-21T03:00:49.186696Z",
     "start_time": "2022-01-21T03:00:49.128976Z"
    }
   },
   "outputs": [
    {
     "data": {
      "image/png": "[encoded data removed]",
      "text/plain": [
       "<Figure size 432x288 with 1 Axes>"
      ]
     },
     "metadata": {
      "needs_background": "light"
     },
     "output_type": "display_data"
    }
   ],
   "source": [
    "for i in range(client_num):\n",
    "    plt.plot(np.arange(args.iters), result_f1[i], label =  'Client '+ str(i+1))\n",
    "plt.legend()\n",
    "plt.show()"
   ]
  },
  {
   "cell_type": "code",
   "execution_count": null,
   "metadata": {},
   "outputs": [],
   "source": []
  }
 ],
 "metadata": {
  "kernelspec": {
   "display_name": "Python [conda env:chi_env]",
   "language": "python",
   "name": "conda-env-chi_env-py"
  },
  "language_info": {
   "codemirror_mode": {
    "name": "ipython",
    "version": 3
   },
   "file_extension": ".py",
   "mimetype": "text/x-python",
   "name": "python",
   "nbconvert_exporter": "python",
   "pygments_lexer": "ipython3",
   "version": "3.8.3"
  }
 },
 "nbformat": 4,
 "nbformat_minor": 4
}
