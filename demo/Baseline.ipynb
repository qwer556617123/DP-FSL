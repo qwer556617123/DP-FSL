{
 "cells": [
  {
   "cell_type": "code",
   "execution_count": 1,
   "metadata": {
    "ExecuteTime": {
     "end_time": "2022-09-04T17:52:47.029148Z",
     "start_time": "2022-09-04T17:52:43.735373Z"
    }
   },
   "outputs": [],
   "source": [
    "import os\n",
    "import sys\n",
    "import torch\n",
    "import numpy as np\n",
    "import random\n",
    "# set GPU number. This might work for several framework such as PyTorch, TensorFlow, Keras\n",
    "gpu_id = '0'\n",
    "os.environ[\"CUDA_VISIBLE_DEVICES\"]=gpu_id\n",
    "\n",
    "\n",
    "class Parser():\n",
    "    def __init__(self):\n",
    "        self.no_cuda = False\n",
    "        self.seed = 1\n",
    "        \n",
    "args = Parser()\n",
    "\n",
    "use_cuda = not args.no_cuda and torch.cuda.is_available()\n",
    "np.random.seed(args.seed)\n",
    "torch.manual_seed(args.seed)\n",
    "torch.cuda.manual_seed_all(args.seed) \n",
    "random.seed(args.seed)\n",
    "device = torch.device(\"cuda\" if use_cuda else \"cpu\")"
   ]
  },
  {
   "cell_type": "code",
   "execution_count": 2,
   "metadata": {
    "ExecuteTime": {
     "end_time": "2022-09-04T17:52:47.045019Z",
     "start_time": "2022-09-04T17:52:47.030149Z"
    }
   },
   "outputs": [],
   "source": [
    "# #!/usr/bin/env python\n",
    "# # -*- coding: utf-8 -*-\n",
    "\n",
    "# import argparse\n",
    "# import sys\n",
    "# sys.path.append('../')\n",
    "\n",
    "# from logdeep.models.lstm import deeplog, loganomaly, robustlog\n",
    "# from logdeep.tools.predict import Predicter\n",
    "# from logdeep.tools.train import Trainer\n",
    "# from logdeep.tools.utils import *\n",
    "\n",
    "\n",
    "# # Config Parameters\n",
    "\n",
    "# options = dict()\n",
    "# options['data_dir'] = '../data/'\n",
    "# options['window_size'] = 10\n",
    "# options['device'] = 1\n",
    "\n",
    "# # Smaple\n",
    "# options['sample'] = \"sliding_window\"\n",
    "# options['window_size'] = 10  # if fix_window\n",
    "\n",
    "# # Features\n",
    "# options['sequentials'] = True\n",
    "# options['quantitatives'] = False\n",
    "# options['semantics'] = False\n",
    "# options['feature_num'] = sum(\n",
    "#     [options['sequentials'], options['quantitatives'], options['semantics']])\n",
    "\n",
    "# # Model\n",
    "# options['input_size'] = 1\n",
    "# options['hidden_size'] = 64\n",
    "# options['num_layers'] = 2\n",
    "# options['num_classes'] = 28\n",
    "\n",
    "# # Train\n",
    "# options['batch_size'] = 2048\n",
    "# options['accumulation_step'] = 1\n",
    "\n",
    "# options['optimizer'] = 'adam'\n",
    "# options['lr'] = 0.001\n",
    "# options['max_epoch'] = 500\n",
    "# options['lr_step'] = (300, 350)\n",
    "# options['lr_decay_ratio'] = 0.1\n",
    "\n",
    "# options['resume_path'] = None\n",
    "# options['model_name'] = \"deeplog\"\n",
    "# options['save_dir'] = \"../result/deeplog/\"\n",
    "\n",
    "# # Predict\n",
    "# options['model_path'] = \"../result/deeplog/deeplog_last.pth\"\n",
    "# options['num_candidates'] = 9\n",
    "\n",
    "# seed_everything(seed=1234)\n",
    "\n",
    "\n",
    "# def train():\n",
    "#     Model = deeplog(input_size=options['input_size'],\n",
    "#                     hidden_size=options['hidden_size'],\n",
    "#                     num_layers=options['num_layers'],\n",
    "#                     num_keys=options['num_classes'])\n",
    "#     trainer = Trainer(Model, options,1,0)\n",
    "#     trainer.start_train()\n",
    "#     return Model\n",
    "\n",
    "\n",
    "# def predict(Model):\n",
    "#     predicter = Predicter(Model, options,1,0)\n",
    "#     predicter.predict_unsupervised()"
   ]
  },
  {
   "cell_type": "code",
   "execution_count": 3,
   "metadata": {
    "ExecuteTime": {
     "end_time": "2022-09-04T17:52:47.060024Z",
     "start_time": "2022-09-04T17:52:47.046020Z"
    }
   },
   "outputs": [],
   "source": [
    "# class Parser():\n",
    "#     def __init__(self):\n",
    "#         self.mode = 'train'\n",
    "# args = Parser()\n",
    "\n",
    "# args.mode = 'train'\n",
    "# if args.mode == 'train':\n",
    "#     model = train()\n",
    "# else:\n",
    "#     predict(model)"
   ]
  },
  {
   "cell_type": "code",
   "execution_count": 4,
   "metadata": {
    "ExecuteTime": {
     "end_time": "2022-09-04T17:52:47.076025Z",
     "start_time": "2022-09-04T17:52:47.061026Z"
    }
   },
   "outputs": [],
   "source": [
    "# args.mode = 'predict'\n",
    "# if args.mode == 'train':\n",
    "#     model = train()\n",
    "# else:\n",
    "#     predict(model)"
   ]
  },
  {
   "cell_type": "code",
   "execution_count": 5,
   "metadata": {
    "ExecuteTime": {
     "end_time": "2022-09-04T18:00:26.811334Z",
     "start_time": "2022-09-04T17:52:47.077026Z"
    }
   },
   "outputs": [
    {
     "name": "stdout",
     "output_type": "stream",
     "text": [
      "File ../data/hdfs/hdfs_train, number of sessions 4855\n",
      "File ../data/hdfs/hdfs_train, number of seqs 46575\n"
     ]
    },
    {
     "name": "stderr",
     "output_type": "stream",
     "text": [
      "  0%|▎                                                                              | 21/5258 [00:00<00:25, 207.68it/s]"
     ]
    },
    {
     "name": "stdout",
     "output_type": "stream",
     "text": [
      "sampling...\n"
     ]
    },
    {
     "name": "stderr",
     "output_type": "stream",
     "text": [
      "100%|█████████████████████████████████████████████████████████████████████████████| 5258/5258 [00:29<00:00, 180.03it/s]\n"
     ]
    },
    {
     "name": "stdout",
     "output_type": "stream",
     "text": [
      "File ../data/hdfs/hdfs_test_normal, number of sessions 553366\n",
      "File ../data/hdfs/hdfs_test_normal, number of seqs 5258\n",
      "Find 46575 train logs, 5258 validation logs\n",
      "Train batch size 2048 ,Validation batch size 2048\n"
     ]
    },
    {
     "name": "stderr",
     "output_type": "stream",
     "text": [
      "\r",
      "\r",
      ":   0%|                                                                                        | 0/23 [00:00<?, ?it/s]"
     ]
    },
    {
     "name": "stdout",
     "output_type": "stream",
     "text": [
      "Starting epoch: 0 | phase: train | ⏰: 01:54:05 | Learning rate: 0.000313\n"
     ]
    },
    {
     "name": "stderr",
     "output_type": "stream",
     "text": [
      "Train loss: 3.17793: 100%|█████████████████████████████████████████████████████████████| 23/23 [00:01<00:00, 15.96it/s]\n",
      "Train loss: 2.86910:  13%|████████                                                      | 3/23 [00:00<00:00, 23.21it/s]"
     ]
    },
    {
     "name": "stdout",
     "output_type": "stream",
     "text": [
      "Starting epoch: 1 | phase: train | ⏰: 01:54:07 | Learning rate: 0.000625\n"
     ]
    },
    {
     "name": "stderr",
     "output_type": "stream",
     "text": [
      "Train loss: 2.25358: 100%|█████████████████████████████████████████████████████████████| 23/23 [00:00<00:00, 28.33it/s]\n",
      "Train loss: 1.81510:  13%|████████                                                      | 3/23 [00:00<00:00, 23.52it/s]"
     ]
    },
    {
     "name": "stdout",
     "output_type": "stream",
     "text": [
      "Starting epoch: 2 | phase: train | ⏰: 01:54:08 | Learning rate: 0.001250\n"
     ]
    },
    {
     "name": "stderr",
     "output_type": "stream",
     "text": [
      "Train loss: 1.73108: 100%|█████████████████████████████████████████████████████████████| 23/23 [00:00<00:00, 28.15it/s]\n",
      "Train loss: 1.56406:  17%|██████████▊                                                   | 4/23 [00:00<00:00, 26.96it/s]"
     ]
    },
    {
     "name": "stdout",
     "output_type": "stream",
     "text": [
      "Starting epoch: 3 | phase: train | ⏰: 01:54:09 | Learning rate: 0.002500\n"
     ]
    },
    {
     "name": "stderr",
     "output_type": "stream",
     "text": [
      "Train loss: 1.32340: 100%|█████████████████████████████████████████████████████████████| 23/23 [00:00<00:00, 28.35it/s]\n",
      "Train loss: 1.02545:  13%|████████                                                      | 3/23 [00:00<00:00, 27.68it/s]"
     ]
    },
    {
     "name": "stdout",
     "output_type": "stream",
     "text": [
      "Starting epoch: 4 | phase: train | ⏰: 01:54:09 | Learning rate: 0.005000\n"
     ]
    },
    {
     "name": "stderr",
     "output_type": "stream",
     "text": [
      "Train loss: 0.84746: 100%|█████████████████████████████████████████████████████████████| 23/23 [00:00<00:00, 27.67it/s]\n",
      "Train loss: 0.66283:  13%|████████                                                      | 3/23 [00:00<00:00, 29.51it/s]"
     ]
    },
    {
     "name": "stdout",
     "output_type": "stream",
     "text": [
      "Starting epoch: 5 | phase: train | ⏰: 01:54:10 | Learning rate: 0.010000\n"
     ]
    },
    {
     "name": "stderr",
     "output_type": "stream",
     "text": [
      "Train loss: 0.65737: 100%|█████████████████████████████████████████████████████████████| 23/23 [00:00<00:00, 28.35it/s]\n",
      "Train loss: 0.57076:  13%|████████                                                      | 3/23 [00:00<00:00, 27.37it/s]"
     ]
    },
    {
     "name": "stdout",
     "output_type": "stream",
     "text": [
      "Starting epoch: 6 | phase: train | ⏰: 01:54:11 | Learning rate: 0.010000\n"
     ]
    },
    {
     "name": "stderr",
     "output_type": "stream",
     "text": [
      "Train loss: 0.52047: 100%|█████████████████████████████████████████████████████████████| 23/23 [00:00<00:00, 26.40it/s]\n",
      "Train loss: 0.46105:  13%|████████                                                      | 3/23 [00:00<00:00, 26.78it/s]"
     ]
    },
    {
     "name": "stdout",
     "output_type": "stream",
     "text": [
      "Starting epoch: 7 | phase: train | ⏰: 01:54:12 | Learning rate: 0.010000\n"
     ]
    },
    {
     "name": "stderr",
     "output_type": "stream",
     "text": [
      "Train loss: 0.42484: 100%|█████████████████████████████████████████████████████████████| 23/23 [00:00<00:00, 26.86it/s]\n",
      "Train loss: 0.37730:  13%|████████                                                      | 3/23 [00:00<00:00, 28.96it/s]"
     ]
    },
    {
     "name": "stdout",
     "output_type": "stream",
     "text": [
      "Starting epoch: 8 | phase: train | ⏰: 01:54:13 | Learning rate: 0.010000\n"
     ]
    },
    {
     "name": "stderr",
     "output_type": "stream",
     "text": [
      "Train loss: 0.37128: 100%|█████████████████████████████████████████████████████████████| 23/23 [00:00<00:00, 27.14it/s]\n",
      "Train loss: 0.35613:  17%|██████████▊                                                   | 4/23 [00:00<00:00, 30.15it/s]"
     ]
    },
    {
     "name": "stdout",
     "output_type": "stream",
     "text": [
      "Starting epoch: 9 | phase: train | ⏰: 01:54:14 | Learning rate: 0.010000\n"
     ]
    },
    {
     "name": "stderr",
     "output_type": "stream",
     "text": [
      "Train loss: 0.35186: 100%|█████████████████████████████████████████████████████████████| 23/23 [00:00<00:00, 27.90it/s]\n",
      "Train loss: 0.34545:  13%|████████                                                      | 3/23 [00:00<00:00, 28.57it/s]"
     ]
    },
    {
     "name": "stdout",
     "output_type": "stream",
     "text": [
      "Starting epoch: 10 | phase: train | ⏰: 01:54:14 | Learning rate: 0.010000\n"
     ]
    },
    {
     "name": "stderr",
     "output_type": "stream",
     "text": [
      "Train loss: 0.33615: 100%|█████████████████████████████████████████████████████████████| 23/23 [00:00<00:00, 27.77it/s]\n",
      "Train loss: 0.34446:  13%|████████                                                      | 3/23 [00:00<00:00, 23.12it/s]"
     ]
    },
    {
     "name": "stdout",
     "output_type": "stream",
     "text": [
      "Starting epoch: 11 | phase: train | ⏰: 01:54:15 | Learning rate: 0.010000\n"
     ]
    },
    {
     "name": "stderr",
     "output_type": "stream",
     "text": [
      "Train loss: 0.32715: 100%|█████████████████████████████████████████████████████████████| 23/23 [00:00<00:00, 26.57it/s]\n",
      "Train loss: 0.30495:  13%|████████                                                      | 3/23 [00:00<00:00, 22.08it/s]"
     ]
    },
    {
     "name": "stdout",
     "output_type": "stream",
     "text": [
      "Starting epoch: 12 | phase: train | ⏰: 01:54:16 | Learning rate: 0.010000\n"
     ]
    },
    {
     "name": "stderr",
     "output_type": "stream",
     "text": [
      "Train loss: 0.31131: 100%|█████████████████████████████████████████████████████████████| 23/23 [00:00<00:00, 26.32it/s]\n",
      "Train loss: 0.30392:  13%|████████                                                      | 3/23 [00:00<00:00, 23.42it/s]"
     ]
    },
    {
     "name": "stdout",
     "output_type": "stream",
     "text": [
      "Starting epoch: 13 | phase: train | ⏰: 01:54:17 | Learning rate: 0.010000\n"
     ]
    },
    {
     "name": "stderr",
     "output_type": "stream",
     "text": [
      "Train loss: 0.29506: 100%|█████████████████████████████████████████████████████████████| 23/23 [00:00<00:00, 26.22it/s]\n",
      "Train loss: 0.28197:  13%|████████                                                      | 3/23 [00:00<00:00, 27.78it/s]"
     ]
    },
    {
     "name": "stdout",
     "output_type": "stream",
     "text": [
      "Starting epoch: 14 | phase: train | ⏰: 01:54:18 | Learning rate: 0.010000\n"
     ]
    },
    {
     "name": "stderr",
     "output_type": "stream",
     "text": [
      "Train loss: 0.28875: 100%|█████████████████████████████████████████████████████████████| 23/23 [00:00<00:00, 26.90it/s]\n",
      "Train loss: 0.27786:  13%|████████                                                      | 3/23 [00:00<00:00, 27.61it/s]"
     ]
    },
    {
     "name": "stdout",
     "output_type": "stream",
     "text": [
      "Starting epoch: 15 | phase: train | ⏰: 01:54:19 | Learning rate: 0.010000\n"
     ]
    },
    {
     "name": "stderr",
     "output_type": "stream",
     "text": [
      "Train loss: 0.27875: 100%|█████████████████████████████████████████████████████████████| 23/23 [00:00<00:00, 26.28it/s]\n",
      "Train loss: 0.26234:  13%|████████                                                      | 3/23 [00:00<00:00, 27.40it/s]"
     ]
    },
    {
     "name": "stdout",
     "output_type": "stream",
     "text": [
      "Starting epoch: 16 | phase: train | ⏰: 01:54:20 | Learning rate: 0.010000\n"
     ]
    },
    {
     "name": "stderr",
     "output_type": "stream",
     "text": [
      "Train loss: 0.36006: 100%|█████████████████████████████████████████████████████████████| 23/23 [00:00<00:00, 26.34it/s]\n",
      "Train loss: 0.31449:  13%|████████                                                      | 3/23 [00:00<00:00, 28.09it/s]"
     ]
    },
    {
     "name": "stdout",
     "output_type": "stream",
     "text": [
      "Starting epoch: 17 | phase: train | ⏰: 01:54:20 | Learning rate: 0.010000\n"
     ]
    },
    {
     "name": "stderr",
     "output_type": "stream",
     "text": [
      "Train loss: 0.29863: 100%|█████████████████████████████████████████████████████████████| 23/23 [00:00<00:00, 27.17it/s]\n",
      "Train loss: 0.27378:  13%|████████                                                      | 3/23 [00:00<00:00, 27.62it/s]"
     ]
    },
    {
     "name": "stdout",
     "output_type": "stream",
     "text": [
      "Starting epoch: 18 | phase: train | ⏰: 01:54:21 | Learning rate: 0.010000\n"
     ]
    },
    {
     "name": "stderr",
     "output_type": "stream",
     "text": [
      "Train loss: 0.27040: 100%|█████████████████████████████████████████████████████████████| 23/23 [00:00<00:00, 25.95it/s]\n",
      "Train loss: 0.26558:  13%|████████                                                      | 3/23 [00:00<00:00, 22.20it/s]"
     ]
    },
    {
     "name": "stdout",
     "output_type": "stream",
     "text": [
      "Starting epoch: 19 | phase: train | ⏰: 01:54:22 | Learning rate: 0.010000\n"
     ]
    },
    {
     "name": "stderr",
     "output_type": "stream",
     "text": [
      "Train loss: 0.25610: 100%|█████████████████████████████████████████████████████████████| 23/23 [00:00<00:00, 25.55it/s]\n",
      "Train loss: 0.25084:  13%|████████                                                      | 3/23 [00:00<00:00, 26.68it/s]"
     ]
    },
    {
     "name": "stdout",
     "output_type": "stream",
     "text": [
      "Starting epoch: 20 | phase: train | ⏰: 01:54:23 | Learning rate: 0.010000\n"
     ]
    },
    {
     "name": "stderr",
     "output_type": "stream",
     "text": [
      "Train loss: 0.24956: 100%|█████████████████████████████████████████████████████████████| 23/23 [00:00<00:00, 27.24it/s]\n",
      "Train loss: 0.24035:  13%|████████                                                      | 3/23 [00:00<00:00, 22.89it/s]"
     ]
    },
    {
     "name": "stdout",
     "output_type": "stream",
     "text": [
      "Starting epoch: 21 | phase: train | ⏰: 01:54:24 | Learning rate: 0.010000\n"
     ]
    },
    {
     "name": "stderr",
     "output_type": "stream",
     "text": [
      "Train loss: 0.24165: 100%|█████████████████████████████████████████████████████████████| 23/23 [00:00<00:00, 26.09it/s]\n",
      "Train loss: 0.24370:  13%|████████                                                      | 3/23 [00:00<00:00, 21.22it/s]"
     ]
    },
    {
     "name": "stdout",
     "output_type": "stream",
     "text": [
      "Starting epoch: 22 | phase: train | ⏰: 01:54:25 | Learning rate: 0.010000\n"
     ]
    },
    {
     "name": "stderr",
     "output_type": "stream",
     "text": [
      "Train loss: 0.23772: 100%|█████████████████████████████████████████████████████████████| 23/23 [00:00<00:00, 26.01it/s]\n",
      "Train loss: 0.22800:  13%|████████                                                      | 3/23 [00:00<00:00, 22.93it/s]"
     ]
    },
    {
     "name": "stdout",
     "output_type": "stream",
     "text": [
      "Starting epoch: 23 | phase: train | ⏰: 01:54:26 | Learning rate: 0.010000\n"
     ]
    },
    {
     "name": "stderr",
     "output_type": "stream",
     "text": [
      "Train loss: 0.23302: 100%|█████████████████████████████████████████████████████████████| 23/23 [00:00<00:00, 25.99it/s]\n",
      "Train loss: 0.23140:  13%|████████                                                      | 3/23 [00:00<00:00, 27.95it/s]"
     ]
    },
    {
     "name": "stdout",
     "output_type": "stream",
     "text": [
      "Starting epoch: 24 | phase: train | ⏰: 01:54:27 | Learning rate: 0.010000\n"
     ]
    },
    {
     "name": "stderr",
     "output_type": "stream",
     "text": [
      "Train loss: 0.22883: 100%|█████████████████████████████████████████████████████████████| 23/23 [00:00<00:00, 26.60it/s]\n",
      "Train loss: 0.22524:  13%|████████                                                      | 3/23 [00:00<00:00, 29.31it/s]"
     ]
    },
    {
     "name": "stdout",
     "output_type": "stream",
     "text": [
      "Starting epoch: 25 | phase: train | ⏰: 01:54:27 | Learning rate: 0.010000\n"
     ]
    },
    {
     "name": "stderr",
     "output_type": "stream",
     "text": [
      "Train loss: 0.22579: 100%|█████████████████████████████████████████████████████████████| 23/23 [00:00<00:00, 27.26it/s]\n",
      "Train loss: 0.22490:  13%|████████                                                      | 3/23 [00:00<00:00, 26.70it/s]"
     ]
    },
    {
     "name": "stdout",
     "output_type": "stream",
     "text": [
      "Starting epoch: 26 | phase: train | ⏰: 01:54:28 | Learning rate: 0.010000\n"
     ]
    },
    {
     "name": "stderr",
     "output_type": "stream",
     "text": [
      "Train loss: 0.22249: 100%|█████████████████████████████████████████████████████████████| 23/23 [00:00<00:00, 27.13it/s]\n",
      ": 100%|█████████████████████████████████████████████████████████████████████████████████| 3/3 [00:00<00:00, 39.04it/s]\n",
      "Train loss: 0.22327:   0%|                                                                      | 0/23 [00:00<?, ?it/s]"
     ]
    },
    {
     "name": "stdout",
     "output_type": "stream",
     "text": [
      "Starting epoch: 26 | phase: valid | ⏰: 01:54:29 \n",
      "Validation loss: 0.2307879775762558\n",
      "Starting epoch: 27 | phase: train | ⏰: 01:54:29 | Learning rate: 0.010000\n"
     ]
    },
    {
     "name": "stderr",
     "output_type": "stream",
     "text": [
      "Train loss: 0.21981: 100%|█████████████████████████████████████████████████████████████| 23/23 [00:00<00:00, 26.57it/s]\n",
      "Train loss: 0.21693:  13%|████████                                                      | 3/23 [00:00<00:00, 25.09it/s]"
     ]
    },
    {
     "name": "stdout",
     "output_type": "stream",
     "text": [
      "Starting epoch: 28 | phase: train | ⏰: 01:54:30 | Learning rate: 0.010000\n"
     ]
    },
    {
     "name": "stderr",
     "output_type": "stream",
     "text": [
      "Train loss: 0.21920: 100%|█████████████████████████████████████████████████████████████| 23/23 [00:00<00:00, 25.26it/s]\n",
      ": 100%|█████████████████████████████████████████████████████████████████████████████████| 3/3 [00:00<00:00, 36.73it/s]\n",
      "Train loss: 0.22990:   0%|                                                                      | 0/23 [00:00<?, ?it/s]"
     ]
    },
    {
     "name": "stdout",
     "output_type": "stream",
     "text": [
      "Starting epoch: 28 | phase: valid | ⏰: 01:54:31 \n",
      "Validation loss: 0.23947889606157938\n",
      "Starting epoch: 29 | phase: train | ⏰: 01:54:31 | Learning rate: 0.010000\n"
     ]
    },
    {
     "name": "stderr",
     "output_type": "stream",
     "text": [
      "Train loss: 0.21954: 100%|█████████████████████████████████████████████████████████████| 23/23 [00:00<00:00, 26.37it/s]\n",
      "Train loss: 0.21120:  13%|████████                                                      | 3/23 [00:00<00:00, 25.55it/s]"
     ]
    },
    {
     "name": "stdout",
     "output_type": "stream",
     "text": [
      "Starting epoch: 30 | phase: train | ⏰: 01:54:32 | Learning rate: 0.010000\n"
     ]
    },
    {
     "name": "stderr",
     "output_type": "stream",
     "text": [
      "Train loss: 0.21510: 100%|█████████████████████████████████████████████████████████████| 23/23 [00:00<00:00, 26.57it/s]\n",
      ": 100%|█████████████████████████████████████████████████████████████████████████████████| 3/3 [00:00<00:00, 37.50it/s]\n",
      "Train loss: 0.22123:   0%|                                                                      | 0/23 [00:00<?, ?it/s]"
     ]
    },
    {
     "name": "stdout",
     "output_type": "stream",
     "text": [
      "Starting epoch: 30 | phase: valid | ⏰: 01:54:33 \n",
      "Validation loss: 0.22712970773379007\n",
      "Starting epoch: 31 | phase: train | ⏰: 01:54:33 | Learning rate: 0.010000\n"
     ]
    },
    {
     "name": "stderr",
     "output_type": "stream",
     "text": [
      "Train loss: 0.21473: 100%|█████████████████████████████████████████████████████████████| 23/23 [00:00<00:00, 26.78it/s]\n",
      "Train loss: 0.21379:  13%|████████                                                      | 3/23 [00:00<00:00, 28.29it/s]"
     ]
    },
    {
     "name": "stdout",
     "output_type": "stream",
     "text": [
      "Starting epoch: 32 | phase: train | ⏰: 01:54:34 | Learning rate: 0.010000\n"
     ]
    },
    {
     "name": "stderr",
     "output_type": "stream",
     "text": [
      "Train loss: 0.21345: 100%|█████████████████████████████████████████████████████████████| 23/23 [00:00<00:00, 27.10it/s]\n",
      ": 100%|█████████████████████████████████████████████████████████████████████████████████| 3/3 [00:00<00:00, 40.16it/s]\n",
      "Train loss: 0.20333:  13%|████████                                                      | 3/23 [00:00<00:00, 28.30it/s]"
     ]
    },
    {
     "name": "stdout",
     "output_type": "stream",
     "text": [
      "Starting epoch: 32 | phase: valid | ⏰: 01:54:35 \n",
      "Validation loss: 0.22278041144212088\n",
      "Starting epoch: 33 | phase: train | ⏰: 01:54:35 | Learning rate: 0.010000\n"
     ]
    },
    {
     "name": "stderr",
     "output_type": "stream",
     "text": [
      "Train loss: 0.21191: 100%|█████████████████████████████████████████████████████████████| 23/23 [00:00<00:00, 27.08it/s]\n",
      "Train loss: 0.20532:  13%|████████                                                      | 3/23 [00:00<00:00, 28.23it/s]"
     ]
    },
    {
     "name": "stdout",
     "output_type": "stream",
     "text": [
      "Starting epoch: 34 | phase: train | ⏰: 01:54:36 | Learning rate: 0.010000\n"
     ]
    },
    {
     "name": "stderr",
     "output_type": "stream",
     "text": [
      "Train loss: 0.21117: 100%|█████████████████████████████████████████████████████████████| 23/23 [00:00<00:00, 25.73it/s]\n",
      ": 100%|█████████████████████████████████████████████████████████████████████████████████| 3/3 [00:00<00:00, 38.45it/s]\n",
      "Train loss: 0.21206:   0%|                                                                      | 0/23 [00:00<?, ?it/s]"
     ]
    },
    {
     "name": "stdout",
     "output_type": "stream",
     "text": [
      "Starting epoch: 34 | phase: valid | ⏰: 01:54:36 \n",
      "Validation loss: 0.2245269219080607\n",
      "Starting epoch: 35 | phase: train | ⏰: 01:54:37 | Learning rate: 0.010000\n"
     ]
    },
    {
     "name": "stderr",
     "output_type": "stream",
     "text": [
      "Train loss: 0.21123: 100%|█████████████████████████████████████████████████████████████| 23/23 [00:00<00:00, 26.77it/s]\n",
      "Train loss: 0.20428:  13%|████████                                                      | 3/23 [00:00<00:00, 27.77it/s]"
     ]
    },
    {
     "name": "stdout",
     "output_type": "stream",
     "text": [
      "Starting epoch: 36 | phase: train | ⏰: 01:54:37 | Learning rate: 0.010000\n"
     ]
    },
    {
     "name": "stderr",
     "output_type": "stream",
     "text": [
      "Train loss: 0.20849: 100%|█████████████████████████████████████████████████████████████| 23/23 [00:00<00:00, 27.49it/s]\n",
      ": 100%|█████████████████████████████████████████████████████████████████████████████████| 3/3 [00:00<00:00, 38.13it/s]\n",
      "Train loss: 0.20282:   0%|                                                                      | 0/23 [00:00<?, ?it/s]"
     ]
    },
    {
     "name": "stdout",
     "output_type": "stream",
     "text": [
      "Starting epoch: 36 | phase: valid | ⏰: 01:54:38 \n",
      "Validation loss: 0.22254706422487894\n",
      "Starting epoch: 37 | phase: train | ⏰: 01:54:38 | Learning rate: 0.010000\n"
     ]
    },
    {
     "name": "stderr",
     "output_type": "stream",
     "text": [
      "Train loss: 0.20659: 100%|█████████████████████████████████████████████████████████████| 23/23 [00:00<00:00, 26.73it/s]\n",
      "Train loss: 0.20852:  13%|████████                                                      | 3/23 [00:00<00:00, 27.94it/s]"
     ]
    },
    {
     "name": "stdout",
     "output_type": "stream",
     "text": [
      "Starting epoch: 38 | phase: train | ⏰: 01:54:39 | Learning rate: 0.010000\n"
     ]
    },
    {
     "name": "stderr",
     "output_type": "stream",
     "text": [
      "Train loss: 0.20691: 100%|█████████████████████████████████████████████████████████████| 23/23 [00:00<00:00, 27.47it/s]\n",
      ": 100%|█████████████████████████████████████████████████████████████████████████████████| 3/3 [00:00<00:00, 38.91it/s]\n",
      "Train loss: 0.19988:   0%|                                                                      | 0/23 [00:00<?, ?it/s]"
     ]
    },
    {
     "name": "stdout",
     "output_type": "stream",
     "text": [
      "Starting epoch: 38 | phase: valid | ⏰: 01:54:40 \n",
      "Validation loss: 0.2200628717740377\n",
      "Starting epoch: 39 | phase: train | ⏰: 01:54:40 | Learning rate: 0.010000\n"
     ]
    },
    {
     "name": "stderr",
     "output_type": "stream",
     "text": [
      "Train loss: 0.20604: 100%|█████████████████████████████████████████████████████████████| 23/23 [00:00<00:00, 27.30it/s]\n",
      "Train loss: 0.19921:  13%|████████                                                      | 3/23 [00:00<00:00, 27.06it/s]"
     ]
    },
    {
     "name": "stdout",
     "output_type": "stream",
     "text": [
      "Starting epoch: 40 | phase: train | ⏰: 01:54:41 | Learning rate: 0.010000\n"
     ]
    },
    {
     "name": "stderr",
     "output_type": "stream",
     "text": [
      "Train loss: 0.20392: 100%|█████████████████████████████████████████████████████████████| 23/23 [00:00<00:00, 26.82it/s]\n",
      ": 100%|█████████████████████████████████████████████████████████████████████████████████| 3/3 [00:00<00:00, 37.01it/s]\n",
      "Train loss: 0.19782:   0%|                                                                      | 0/23 [00:00<?, ?it/s]"
     ]
    },
    {
     "name": "stdout",
     "output_type": "stream",
     "text": [
      "Starting epoch: 40 | phase: valid | ⏰: 01:54:42 \n",
      "Validation loss: 0.2190276434024175\n",
      "Starting epoch: 41 | phase: train | ⏰: 01:54:42 | Learning rate: 0.010000\n"
     ]
    },
    {
     "name": "stderr",
     "output_type": "stream",
     "text": [
      "Train loss: 0.20525: 100%|█████████████████████████████████████████████████████████████| 23/23 [00:00<00:00, 27.35it/s]\n",
      "Train loss: 0.19767:  13%|████████                                                      | 3/23 [00:00<00:00, 26.95it/s]"
     ]
    },
    {
     "name": "stdout",
     "output_type": "stream",
     "text": [
      "Starting epoch: 42 | phase: train | ⏰: 01:54:43 | Learning rate: 0.010000\n"
     ]
    },
    {
     "name": "stderr",
     "output_type": "stream",
     "text": [
      "Train loss: 0.20270: 100%|█████████████████████████████████████████████████████████████| 23/23 [00:00<00:00, 27.03it/s]\n",
      ": 100%|█████████████████████████████████████████████████████████████████████████████████| 3/3 [00:00<00:00, 39.55it/s]\n",
      "Train loss: 0.19483:   0%|                                                                      | 0/23 [00:00<?, ?it/s]"
     ]
    },
    {
     "name": "stdout",
     "output_type": "stream",
     "text": [
      "Starting epoch: 42 | phase: valid | ⏰: 01:54:44 \n",
      "Validation loss: 0.2183211843172709\n",
      "Starting epoch: 43 | phase: train | ⏰: 01:54:44 | Learning rate: 0.010000\n"
     ]
    },
    {
     "name": "stderr",
     "output_type": "stream",
     "text": [
      "Train loss: 0.20158: 100%|█████████████████████████████████████████████████████████████| 23/23 [00:00<00:00, 25.61it/s]\n",
      "Train loss: 0.20620:  13%|████████                                                      | 3/23 [00:00<00:00, 23.77it/s]"
     ]
    },
    {
     "name": "stdout",
     "output_type": "stream",
     "text": [
      "Starting epoch: 44 | phase: train | ⏰: 01:54:45 | Learning rate: 0.010000\n"
     ]
    },
    {
     "name": "stderr",
     "output_type": "stream",
     "text": [
      "Train loss: 0.20176: 100%|█████████████████████████████████████████████████████████████| 23/23 [00:00<00:00, 26.66it/s]\n",
      ": 100%|█████████████████████████████████████████████████████████████████████████████████| 3/3 [00:00<00:00, 38.65it/s]\n",
      "Train loss: 0.19295:  13%|████████                                                      | 3/23 [00:00<00:00, 29.48it/s]"
     ]
    },
    {
     "name": "stdout",
     "output_type": "stream",
     "text": [
      "Starting epoch: 44 | phase: valid | ⏰: 01:54:45 \n",
      "Validation loss: 0.21570799748102823\n",
      "Starting epoch: 45 | phase: train | ⏰: 01:54:46 | Learning rate: 0.010000\n"
     ]
    },
    {
     "name": "stderr",
     "output_type": "stream",
     "text": [
      "Train loss: 0.20206: 100%|█████████████████████████████████████████████████████████████| 23/23 [00:00<00:00, 27.51it/s]\n",
      "Train loss: 0.19730:  13%|████████                                                      | 3/23 [00:00<00:00, 28.57it/s]"
     ]
    },
    {
     "name": "stdout",
     "output_type": "stream",
     "text": [
      "Starting epoch: 46 | phase: train | ⏰: 01:54:46 | Learning rate: 0.010000\n"
     ]
    },
    {
     "name": "stderr",
     "output_type": "stream",
     "text": [
      "Train loss: 0.20055: 100%|█████████████████████████████████████████████████████████████| 23/23 [00:00<00:00, 27.34it/s]\n",
      ": 100%|█████████████████████████████████████████████████████████████████████████████████| 3/3 [00:00<00:00, 37.14it/s]\n",
      "Train loss: 0.20224:   0%|                                                                      | 0/23 [00:00<?, ?it/s]"
     ]
    },
    {
     "name": "stdout",
     "output_type": "stream",
     "text": [
      "Starting epoch: 46 | phase: valid | ⏰: 01:54:47 \n",
      "Validation loss: 0.22050556043783823\n",
      "Starting epoch: 47 | phase: train | ⏰: 01:54:47 | Learning rate: 0.010000\n"
     ]
    },
    {
     "name": "stderr",
     "output_type": "stream",
     "text": [
      "Train loss: 0.20024: 100%|█████████████████████████████████████████████████████████████| 23/23 [00:00<00:00, 26.68it/s]\n",
      "Train loss: 0.19620:  13%|████████                                                      | 3/23 [00:00<00:00, 28.20it/s]"
     ]
    },
    {
     "name": "stdout",
     "output_type": "stream",
     "text": [
      "Starting epoch: 48 | phase: train | ⏰: 01:54:48 | Learning rate: 0.010000\n"
     ]
    },
    {
     "name": "stderr",
     "output_type": "stream",
     "text": [
      "Train loss: 0.19858: 100%|█████████████████████████████████████████████████████████████| 23/23 [00:00<00:00, 27.30it/s]\n",
      ": 100%|█████████████████████████████████████████████████████████████████████████████████| 3/3 [00:00<00:00, 38.98it/s]\n",
      "Train loss: 0.19518:   0%|                                                                      | 0/23 [00:00<?, ?it/s]"
     ]
    },
    {
     "name": "stdout",
     "output_type": "stream",
     "text": [
      "Starting epoch: 48 | phase: valid | ⏰: 01:54:49 \n",
      "Validation loss: 0.21760067840417227\n",
      "Starting epoch: 49 | phase: train | ⏰: 01:54:49 | Learning rate: 0.010000\n"
     ]
    },
    {
     "name": "stderr",
     "output_type": "stream",
     "text": [
      "Train loss: 0.19930: 100%|█████████████████████████████████████████████████████████████| 23/23 [00:00<00:00, 26.93it/s]\n",
      "  0%|                                                                                | 5/14177 [00:00<05:23, 43.83it/s]"
     ]
    },
    {
     "name": "stdout",
     "output_type": "stream",
     "text": [
      "Number of sessions(hdfs_test_normal): 14177\n",
      "Number of sessions(hdfs_test_abnormal): 4123\n"
     ]
    },
    {
     "name": "stderr",
     "output_type": "stream",
     "text": [
      "100%|████████████████████████████████████████████████████████████████████████████| 14177/14177 [04:34<00:00, 51.70it/s]\n",
      "100%|██████████████████████████████████████████████████████████████████████████████| 4123/4123 [00:59<00:00, 68.81it/s]"
     ]
    },
    {
     "name": "stdout",
     "output_type": "stream",
     "text": [
      "false positive (FP): 595, false negative (FN): 1242, Precision: 96.325%, Recall: 92.624%, F1-measure: 94.438%\n",
      "actual positive (TP+FN): 16838, actual negative (FP+TN): 553366\n",
      "accuracy: 99.678\n",
      "Finished Predicting\n",
      "elapsed_time: 334.1616861820221\n"
     ]
    },
    {
     "name": "stderr",
     "output_type": "stream",
     "text": [
      "\n"
     ]
    }
   ],
   "source": [
    "#!/usr/bin/env python\n",
    "# -*- coding: utf-8 -*-\n",
    "\n",
    "import argparse\n",
    "import sys\n",
    "sys.path.append('../')\n",
    "\n",
    "from logdeep.models.lstm import deeplog, loganomaly, robustlog\n",
    "from logdeep.tools.predict import Predicter\n",
    "from logdeep.tools.train import Trainer\n",
    "from logdeep.tools.utils import *\n",
    "\n",
    "\n",
    "# Config Parameters\n",
    "\n",
    "options = dict()\n",
    "options['data_dir'] = '../data/'\n",
    "options['window_size'] = 10\n",
    "options['device'] = device\n",
    "\n",
    "# Smaple\n",
    "options['sample'] = \"sliding_window\"\n",
    "options['window_size'] = 10  # if fix_window\n",
    "\n",
    "# Features\n",
    "options['sequentials'] = True\n",
    "options['quantitatives'] = True\n",
    "options['semantics'] = False\n",
    "options['feature_num'] = sum(\n",
    "    [options['sequentials'], options['quantitatives'], options['semantics']])\n",
    "\n",
    "# Model\n",
    "options['input_size'] = 1\n",
    "options['hidden_size'] = 64\n",
    "options['num_layers'] = 2\n",
    "options['num_classes'] = 28\n",
    "\n",
    "# Train\n",
    "options['batch_size'] = 2048\n",
    "options['accumulation_step'] = 1\n",
    "\n",
    "options['optimizer'] = 'adam'\n",
    "options['lr'] = 1e-2\n",
    "options['max_epoch'] = 50\n",
    "options['lr_step'] = (300, 350)\n",
    "options['lr_decay_ratio'] = 0.1\n",
    "\n",
    "options['resume_path'] = None\n",
    "options['model_name'] = \"loganomaly\"\n",
    "options['save_dir'] = \"../result/loganomaly/\"\n",
    "\n",
    "# Predict\n",
    "options['model_path'] = \"../result/loganomaly/loganomaly_epoch299.pth\"\n",
    "options['num_candidates'] = 9\n",
    "\n",
    "seed_everything(seed=1234)\n",
    "\n",
    "\n",
    "\n",
    "Model_0 = loganomaly(input_size=options['input_size'],\n",
    "                   hidden_size=options['hidden_size'],\n",
    "                   num_layers=options['num_layers'],\n",
    "                   num_keys=options['num_classes'])\n",
    "trainer_0 = Trainer(Model_0, options, 1, 0)\n",
    "trainer_0.start_train()\n",
    "\n",
    "\n",
    "\n",
    "\n",
    "predicter_0 = Predicter(Model_0, options, 1, 0)\n",
    "predicter_0.predict_unsupervised()"
   ]
  },
  {
   "cell_type": "code",
   "execution_count": 6,
   "metadata": {
    "ExecuteTime": {
     "end_time": "2022-09-04T18:00:26.827334Z",
     "start_time": "2022-09-04T18:00:26.812335Z"
    }
   },
   "outputs": [
    {
     "name": "stdout",
     "output_type": "stream",
     "text": [
      "[3.1779251824254575, 2.2535770094912984, 1.7310814494672029, 1.3233968226805977, 0.8474574270455734, 0.6573732443477797, 0.5204732560593149, 0.4248409154622451, 0.37128150851830194, 0.3518608614154484, 0.3361468872298365, 0.327154375936674, 0.3113056524940159, 0.29506396988163824, 0.28874910655228986, 0.2787488886843557, 0.3600645661354065, 0.29863271635511646, 0.27040005831614783, 0.2561039678428484, 0.2495605628127637, 0.24164676212746164, 0.23771783644738403, 0.23301881551742554, 0.2288272788991099, 0.225794471476389, 0.2224907389153605, 0.21980936630912448, 0.21919711322888083, 0.21953581338343414, 0.21510088573331418, 0.21473068646762683, 0.21344940623511438, 0.21191484059976495, 0.21117251657921335, 0.21123342410377835, 0.20849402508010034, 0.20658587113670682, 0.20690547318562216, 0.20604458775209344, 0.2039168833390526, 0.2052546299022177, 0.20270177981127863, 0.20158376965833746, 0.2017565933258637, 0.20205711022667264, 0.20054818365884863, 0.2002394270637761, 0.19858092263988827, 0.1992996633052826]\n"
     ]
    }
   ],
   "source": [
    "print(trainer_0.log['train']['loss'])"
   ]
  },
  {
   "cell_type": "code",
   "execution_count": 7,
   "metadata": {
    "ExecuteTime": {
     "end_time": "2022-09-04T18:00:26.843419Z",
     "start_time": "2022-09-04T18:00:26.828335Z"
    }
   },
   "outputs": [
    {
     "name": "stdout",
     "output_type": "stream",
     "text": [
      "[0.2307879775762558, 0.23947889606157938, 0.22712970773379007, 0.22278041144212088, 0.2245269219080607, 0.22254706422487894, 0.2200628717740377, 0.2190276434024175, 0.2183211843172709, 0.21570799748102823, 0.22050556043783823, 0.21760067840417227]\n"
     ]
    }
   ],
   "source": [
    "print(trainer_0.log['valid']['loss'])"
   ]
  },
  {
   "cell_type": "code",
   "execution_count": 8,
   "metadata": {
    "ExecuteTime": {
     "end_time": "2022-09-04T18:00:27.189514Z",
     "start_time": "2022-09-04T18:00:26.844419Z"
    }
   },
   "outputs": [],
   "source": [
    "del Model_0\n",
    "del trainer_0\n",
    "del predicter_0\n",
    "del options"
   ]
  },
  {
   "cell_type": "code",
   "execution_count": 9,
   "metadata": {
    "ExecuteTime": {
     "end_time": "2022-09-04T18:00:27.205361Z",
     "start_time": "2022-09-04T18:00:27.190514Z"
    }
   },
   "outputs": [],
   "source": [
    "# class Parser():\n",
    "#     def __init__(self):\n",
    "#         self.mode = 'train'\n",
    "# args = Parser()\n",
    "\n",
    "# args.mode = 'train'\n",
    "# if args.mode == 'train':\n",
    "#     model = train()\n",
    "# else:\n",
    "#     predict(model)"
   ]
  },
  {
   "cell_type": "code",
   "execution_count": 10,
   "metadata": {
    "ExecuteTime": {
     "end_time": "2022-09-04T18:00:27.221327Z",
     "start_time": "2022-09-04T18:00:27.206361Z"
    }
   },
   "outputs": [],
   "source": [
    "# args.mode = 'predict'\n",
    "# if args.mode == 'train':\n",
    "#     model = train()\n",
    "# else:\n",
    "#     predict(model)"
   ]
  },
  {
   "cell_type": "code",
   "execution_count": 11,
   "metadata": {
    "ExecuteTime": {
     "end_time": "2022-09-04T18:04:42.156628Z",
     "start_time": "2022-09-04T18:00:27.222337Z"
    }
   },
   "outputs": [
    {
     "name": "stdout",
     "output_type": "stream",
     "text": [
      "File ../data/hdfs/hdfs_train, number of sessions 4855\n",
      "File ../data/hdfs/hdfs_train, number of seqs 46575\n"
     ]
    },
    {
     "name": "stderr",
     "output_type": "stream",
     "text": [
      "  0%|▎                                                                              | 22/5258 [00:00<00:24, 211.58it/s]"
     ]
    },
    {
     "name": "stdout",
     "output_type": "stream",
     "text": [
      "sampling...\n"
     ]
    },
    {
     "name": "stderr",
     "output_type": "stream",
     "text": [
      "100%|█████████████████████████████████████████████████████████████████████████████| 5258/5258 [00:29<00:00, 180.79it/s]\n",
      "Train loss: 3.30235:  13%|████████                                                      | 3/23 [00:00<00:01, 19.22it/s]"
     ]
    },
    {
     "name": "stdout",
     "output_type": "stream",
     "text": [
      "File ../data/hdfs/hdfs_test_normal, number of sessions 553366\n",
      "File ../data/hdfs/hdfs_test_normal, number of seqs 5258\n",
      "Find 46575 train logs, 5258 validation logs\n",
      "Train batch size 2048 ,Validation batch size 2048\n",
      "Starting epoch: 0 | phase: train | ⏰: 02:01:42 | Learning rate: 0.000313\n"
     ]
    },
    {
     "name": "stderr",
     "output_type": "stream",
     "text": [
      "Train loss: 3.18301: 100%|█████████████████████████████████████████████████████████████| 23/23 [00:00<00:00, 34.28it/s]\n",
      "Train loss: 2.78338:  26%|████████████████▏                                             | 6/23 [00:00<00:00, 52.25it/s]"
     ]
    },
    {
     "name": "stdout",
     "output_type": "stream",
     "text": [
      "Starting epoch: 1 | phase: train | ⏰: 02:01:42 | Learning rate: 0.000625\n"
     ]
    },
    {
     "name": "stderr",
     "output_type": "stream",
     "text": [
      "Train loss: 2.39035: 100%|█████████████████████████████████████████████████████████████| 23/23 [00:00<00:00, 51.11it/s]\n",
      "Train loss: 1.85184:  17%|██████████▊                                                   | 4/23 [00:00<00:00, 39.71it/s]"
     ]
    },
    {
     "name": "stdout",
     "output_type": "stream",
     "text": [
      "Starting epoch: 2 | phase: train | ⏰: 02:01:43 | Learning rate: 0.001250\n"
     ]
    },
    {
     "name": "stderr",
     "output_type": "stream",
     "text": [
      "Train loss: 1.79932: 100%|█████████████████████████████████████████████████████████████| 23/23 [00:00<00:00, 48.71it/s]\n",
      "Train loss: 1.64731:  26%|████████████████▏                                             | 6/23 [00:00<00:00, 52.10it/s]"
     ]
    },
    {
     "name": "stdout",
     "output_type": "stream",
     "text": [
      "Starting epoch: 3 | phase: train | ⏰: 02:01:43 | Learning rate: 0.002500\n"
     ]
    },
    {
     "name": "stderr",
     "output_type": "stream",
     "text": [
      "Train loss: 1.52553: 100%|█████████████████████████████████████████████████████████████| 23/23 [00:00<00:00, 51.23it/s]\n",
      "Train loss: 1.24292:  26%|████████████████▏                                             | 6/23 [00:00<00:00, 51.78it/s]"
     ]
    },
    {
     "name": "stdout",
     "output_type": "stream",
     "text": [
      "Starting epoch: 4 | phase: train | ⏰: 02:01:44 | Learning rate: 0.005000\n"
     ]
    },
    {
     "name": "stderr",
     "output_type": "stream",
     "text": [
      "Train loss: 1.06463: 100%|█████████████████████████████████████████████████████████████| 23/23 [00:00<00:00, 49.95it/s]\n",
      "Train loss: 0.95736:  22%|█████████████▍                                                | 5/23 [00:00<00:00, 44.47it/s]"
     ]
    },
    {
     "name": "stdout",
     "output_type": "stream",
     "text": [
      "Starting epoch: 5 | phase: train | ⏰: 02:01:44 | Learning rate: 0.010000\n"
     ]
    },
    {
     "name": "stderr",
     "output_type": "stream",
     "text": [
      "Train loss: 0.81872: 100%|█████████████████████████████████████████████████████████████| 23/23 [00:00<00:00, 46.15it/s]\n",
      "Train loss: 0.62952:  26%|████████████████▏                                             | 6/23 [00:00<00:00, 52.84it/s]"
     ]
    },
    {
     "name": "stdout",
     "output_type": "stream",
     "text": [
      "Starting epoch: 6 | phase: train | ⏰: 02:01:45 | Learning rate: 0.010000\n"
     ]
    },
    {
     "name": "stderr",
     "output_type": "stream",
     "text": [
      "Train loss: 0.60010: 100%|█████████████████████████████████████████████████████████████| 23/23 [00:00<00:00, 48.45it/s]\n",
      "Train loss: 0.53423:  26%|████████████████▏                                             | 6/23 [00:00<00:00, 44.84it/s]"
     ]
    },
    {
     "name": "stdout",
     "output_type": "stream",
     "text": [
      "Starting epoch: 7 | phase: train | ⏰: 02:01:45 | Learning rate: 0.010000\n"
     ]
    },
    {
     "name": "stderr",
     "output_type": "stream",
     "text": [
      "Train loss: 0.50398: 100%|█████████████████████████████████████████████████████████████| 23/23 [00:00<00:00, 47.75it/s]\n",
      "Train loss: 0.44159:  26%|████████████████▏                                             | 6/23 [00:00<00:00, 53.96it/s]"
     ]
    },
    {
     "name": "stdout",
     "output_type": "stream",
     "text": [
      "Starting epoch: 8 | phase: train | ⏰: 02:01:46 | Learning rate: 0.010000\n"
     ]
    },
    {
     "name": "stderr",
     "output_type": "stream",
     "text": [
      "Train loss: 0.42766: 100%|█████████████████████████████████████████████████████████████| 23/23 [00:00<00:00, 50.07it/s]\n",
      "Train loss: 0.49953:  26%|████████████████▏                                             | 6/23 [00:00<00:00, 50.86it/s]"
     ]
    },
    {
     "name": "stdout",
     "output_type": "stream",
     "text": [
      "Starting epoch: 9 | phase: train | ⏰: 02:01:46 | Learning rate: 0.010000\n"
     ]
    },
    {
     "name": "stderr",
     "output_type": "stream",
     "text": [
      "Train loss: 0.47794: 100%|█████████████████████████████████████████████████████████████| 23/23 [00:00<00:00, 48.23it/s]\n",
      "Train loss: 0.42117:  17%|██████████▊                                                   | 4/23 [00:00<00:00, 39.09it/s]"
     ]
    },
    {
     "name": "stdout",
     "output_type": "stream",
     "text": [
      "Starting epoch: 10 | phase: train | ⏰: 02:01:47 | Learning rate: 0.010000\n"
     ]
    },
    {
     "name": "stderr",
     "output_type": "stream",
     "text": [
      "Train loss: 0.40886: 100%|█████████████████████████████████████████████████████████████| 23/23 [00:00<00:00, 48.98it/s]\n",
      "Train loss: 0.38274:  26%|████████████████▏                                             | 6/23 [00:00<00:00, 52.79it/s]"
     ]
    },
    {
     "name": "stdout",
     "output_type": "stream",
     "text": [
      "Starting epoch: 11 | phase: train | ⏰: 02:01:47 | Learning rate: 0.010000\n"
     ]
    },
    {
     "name": "stderr",
     "output_type": "stream",
     "text": [
      "Train loss: 0.36922: 100%|█████████████████████████████████████████████████████████████| 23/23 [00:00<00:00, 50.52it/s]\n",
      "Train loss: 0.34880:  26%|████████████████▏                                             | 6/23 [00:00<00:00, 51.22it/s]"
     ]
    },
    {
     "name": "stdout",
     "output_type": "stream",
     "text": [
      "Starting epoch: 12 | phase: train | ⏰: 02:01:48 | Learning rate: 0.010000\n"
     ]
    },
    {
     "name": "stderr",
     "output_type": "stream",
     "text": [
      "Train loss: 0.33923: 100%|█████████████████████████████████████████████████████████████| 23/23 [00:00<00:00, 48.71it/s]\n",
      "Train loss: 0.32910:  22%|█████████████▍                                                | 5/23 [00:00<00:00, 42.56it/s]"
     ]
    },
    {
     "name": "stdout",
     "output_type": "stream",
     "text": [
      "Starting epoch: 13 | phase: train | ⏰: 02:01:48 | Learning rate: 0.010000\n"
     ]
    },
    {
     "name": "stderr",
     "output_type": "stream",
     "text": [
      "Train loss: 0.32527: 100%|█████████████████████████████████████████████████████████████| 23/23 [00:00<00:00, 48.73it/s]\n",
      "Train loss: 0.31207:  26%|████████████████▏                                             | 6/23 [00:00<00:00, 51.79it/s]"
     ]
    },
    {
     "name": "stdout",
     "output_type": "stream",
     "text": [
      "Starting epoch: 14 | phase: train | ⏰: 02:01:49 | Learning rate: 0.010000\n"
     ]
    },
    {
     "name": "stderr",
     "output_type": "stream",
     "text": [
      "Train loss: 0.33228: 100%|█████████████████████████████████████████████████████████████| 23/23 [00:00<00:00, 47.92it/s]\n",
      "Train loss: 0.39962:  26%|████████████████▏                                             | 6/23 [00:00<00:00, 44.45it/s]"
     ]
    },
    {
     "name": "stdout",
     "output_type": "stream",
     "text": [
      "Starting epoch: 15 | phase: train | ⏰: 02:01:49 | Learning rate: 0.010000\n"
     ]
    },
    {
     "name": "stderr",
     "output_type": "stream",
     "text": [
      "Train loss: 0.36424: 100%|█████████████████████████████████████████████████████████████| 23/23 [00:00<00:00, 47.79it/s]\n",
      "Train loss: 0.31058:  22%|█████████████▍                                                | 5/23 [00:00<00:00, 45.39it/s]"
     ]
    },
    {
     "name": "stdout",
     "output_type": "stream",
     "text": [
      "Starting epoch: 16 | phase: train | ⏰: 02:01:50 | Learning rate: 0.010000\n"
     ]
    },
    {
     "name": "stderr",
     "output_type": "stream",
     "text": [
      "Train loss: 0.31034: 100%|█████████████████████████████████████████████████████████████| 23/23 [00:00<00:00, 46.77it/s]\n",
      "Train loss: 0.29937:  26%|████████████████▏                                             | 6/23 [00:00<00:00, 52.29it/s]"
     ]
    },
    {
     "name": "stdout",
     "output_type": "stream",
     "text": [
      "Starting epoch: 17 | phase: train | ⏰: 02:01:50 | Learning rate: 0.010000\n"
     ]
    },
    {
     "name": "stderr",
     "output_type": "stream",
     "text": [
      "Train loss: 0.29828: 100%|█████████████████████████████████████████████████████████████| 23/23 [00:00<00:00, 48.78it/s]\n",
      "Train loss: 0.29799:  22%|█████████████▍                                                | 5/23 [00:00<00:00, 42.24it/s]"
     ]
    },
    {
     "name": "stdout",
     "output_type": "stream",
     "text": [
      "Starting epoch: 18 | phase: train | ⏰: 02:01:51 | Learning rate: 0.010000\n"
     ]
    },
    {
     "name": "stderr",
     "output_type": "stream",
     "text": [
      "Train loss: 0.28909: 100%|█████████████████████████████████████████████████████████████| 23/23 [00:00<00:00, 48.41it/s]\n",
      "Train loss: 0.27718:  22%|█████████████▍                                                | 5/23 [00:00<00:00, 49.32it/s]"
     ]
    },
    {
     "name": "stdout",
     "output_type": "stream",
     "text": [
      "Starting epoch: 19 | phase: train | ⏰: 02:01:51 | Learning rate: 0.010000\n"
     ]
    },
    {
     "name": "stderr",
     "output_type": "stream",
     "text": [
      "Train loss: 0.27880: 100%|█████████████████████████████████████████████████████████████| 23/23 [00:00<00:00, 46.68it/s]\n",
      "Train loss: 0.27376:  22%|█████████████▍                                                | 5/23 [00:00<00:00, 48.51it/s]"
     ]
    },
    {
     "name": "stdout",
     "output_type": "stream",
     "text": [
      "Starting epoch: 20 | phase: train | ⏰: 02:01:51 | Learning rate: 0.010000\n"
     ]
    },
    {
     "name": "stderr",
     "output_type": "stream",
     "text": [
      "Train loss: 0.27108: 100%|█████████████████████████████████████████████████████████████| 23/23 [00:00<00:00, 46.23it/s]\n",
      "Train loss: 0.26478:  17%|██████████▊                                                   | 4/23 [00:00<00:00, 38.75it/s]"
     ]
    },
    {
     "name": "stdout",
     "output_type": "stream",
     "text": [
      "Starting epoch: 21 | phase: train | ⏰: 02:01:52 | Learning rate: 0.010000\n"
     ]
    },
    {
     "name": "stderr",
     "output_type": "stream",
     "text": [
      "Train loss: 0.26925: 100%|█████████████████████████████████████████████████████████████| 23/23 [00:00<00:00, 46.27it/s]\n",
      "Train loss: 0.26521:  22%|█████████████▍                                                | 5/23 [00:00<00:00, 49.98it/s]"
     ]
    },
    {
     "name": "stdout",
     "output_type": "stream",
     "text": [
      "Starting epoch: 22 | phase: train | ⏰: 02:01:52 | Learning rate: 0.010000\n"
     ]
    },
    {
     "name": "stderr",
     "output_type": "stream",
     "text": [
      "Train loss: 0.27609: 100%|█████████████████████████████████████████████████████████████| 23/23 [00:00<00:00, 48.73it/s]\n",
      "Train loss: 0.32508:  22%|█████████████▍                                                | 5/23 [00:00<00:00, 48.36it/s]"
     ]
    },
    {
     "name": "stdout",
     "output_type": "stream",
     "text": [
      "Starting epoch: 23 | phase: train | ⏰: 02:01:53 | Learning rate: 0.010000\n"
     ]
    },
    {
     "name": "stderr",
     "output_type": "stream",
     "text": [
      "Train loss: 0.30309: 100%|█████████████████████████████████████████████████████████████| 23/23 [00:00<00:00, 46.45it/s]\n",
      "Train loss: 0.26935:  26%|████████████████▏                                             | 6/23 [00:00<00:00, 51.67it/s]"
     ]
    },
    {
     "name": "stdout",
     "output_type": "stream",
     "text": [
      "Starting epoch: 24 | phase: train | ⏰: 02:01:53 | Learning rate: 0.010000\n"
     ]
    },
    {
     "name": "stderr",
     "output_type": "stream",
     "text": [
      "Train loss: 0.26205: 100%|█████████████████████████████████████████████████████████████| 23/23 [00:00<00:00, 48.59it/s]\n",
      "Train loss: 0.25792:  22%|█████████████▍                                                | 5/23 [00:00<00:00, 48.52it/s]"
     ]
    },
    {
     "name": "stdout",
     "output_type": "stream",
     "text": [
      "Starting epoch: 25 | phase: train | ⏰: 02:01:54 | Learning rate: 0.010000\n"
     ]
    },
    {
     "name": "stderr",
     "output_type": "stream",
     "text": [
      "Train loss: 0.26160: 100%|█████████████████████████████████████████████████████████████| 23/23 [00:00<00:00, 47.86it/s]\n",
      "Train loss: 0.25091:  17%|██████████▊                                                   | 4/23 [00:00<00:00, 39.17it/s]"
     ]
    },
    {
     "name": "stdout",
     "output_type": "stream",
     "text": [
      "Starting epoch: 26 | phase: train | ⏰: 02:01:54 | Learning rate: 0.010000\n"
     ]
    },
    {
     "name": "stderr",
     "output_type": "stream",
     "text": [
      "Train loss: 0.24924: 100%|█████████████████████████████████████████████████████████████| 23/23 [00:00<00:00, 44.92it/s]\n",
      ": 100%|█████████████████████████████████████████████████████████████████████████████████| 3/3 [00:00<00:00, 70.73it/s]\n",
      "Train loss: 0.24591:  22%|█████████████▍                                                | 5/23 [00:00<00:00, 44.30it/s]"
     ]
    },
    {
     "name": "stdout",
     "output_type": "stream",
     "text": [
      "Starting epoch: 26 | phase: valid | ⏰: 02:01:55 \n",
      "Validation loss: 0.25468318661053974\n",
      "Starting epoch: 27 | phase: train | ⏰: 02:01:55 | Learning rate: 0.010000\n"
     ]
    },
    {
     "name": "stderr",
     "output_type": "stream",
     "text": [
      "Train loss: 0.24557: 100%|█████████████████████████████████████████████████████████████| 23/23 [00:00<00:00, 48.27it/s]\n",
      "Train loss: 0.24525:  26%|████████████████▏                                             | 6/23 [00:00<00:00, 44.93it/s]"
     ]
    },
    {
     "name": "stdout",
     "output_type": "stream",
     "text": [
      "Starting epoch: 28 | phase: train | ⏰: 02:01:55 | Learning rate: 0.010000\n"
     ]
    },
    {
     "name": "stderr",
     "output_type": "stream",
     "text": [
      "Train loss: 0.24610: 100%|█████████████████████████████████████████████████████████████| 23/23 [00:00<00:00, 46.40it/s]\n",
      ": 100%|█████████████████████████████████████████████████████████████████████████████████| 3/3 [00:00<00:00, 69.77it/s]\n",
      "Train loss: 0.24717:  26%|████████████████▏                                             | 6/23 [00:00<00:00, 50.80it/s]"
     ]
    },
    {
     "name": "stdout",
     "output_type": "stream",
     "text": [
      "Starting epoch: 28 | phase: valid | ⏰: 02:01:56 \n",
      "Validation loss: 0.256661797563235\n",
      "Starting epoch: 29 | phase: train | ⏰: 02:01:56 | Learning rate: 0.010000\n"
     ]
    },
    {
     "name": "stderr",
     "output_type": "stream",
     "text": [
      "Train loss: 0.25308: 100%|█████████████████████████████████████████████████████████████| 23/23 [00:00<00:00, 49.93it/s]\n",
      "Train loss: 0.25269:  22%|█████████████▍                                                | 5/23 [00:00<00:00, 46.20it/s]"
     ]
    },
    {
     "name": "stdout",
     "output_type": "stream",
     "text": [
      "Starting epoch: 30 | phase: train | ⏰: 02:01:56 | Learning rate: 0.010000\n"
     ]
    },
    {
     "name": "stderr",
     "output_type": "stream",
     "text": [
      "Train loss: 0.24843: 100%|█████████████████████████████████████████████████████████████| 23/23 [00:00<00:00, 47.93it/s]\n",
      ": 100%|█████████████████████████████████████████████████████████████████████████████████| 3/3 [00:00<00:00, 48.52it/s]\n",
      "Train loss: 0.25122:  26%|████████████████▏                                             | 6/23 [00:00<00:00, 52.17it/s]"
     ]
    },
    {
     "name": "stdout",
     "output_type": "stream",
     "text": [
      "Starting epoch: 30 | phase: valid | ⏰: 02:01:57 \n",
      "Validation loss: 0.26392227907975513\n",
      "Starting epoch: 31 | phase: train | ⏰: 02:01:57 | Learning rate: 0.010000\n"
     ]
    },
    {
     "name": "stderr",
     "output_type": "stream",
     "text": [
      "Train loss: 0.24218: 100%|█████████████████████████████████████████████████████████████| 23/23 [00:00<00:00, 50.70it/s]\n",
      "Train loss: 0.23416:  22%|█████████████▍                                                | 5/23 [00:00<00:00, 48.66it/s]"
     ]
    },
    {
     "name": "stdout",
     "output_type": "stream",
     "text": [
      "Starting epoch: 32 | phase: train | ⏰: 02:01:57 | Learning rate: 0.010000\n"
     ]
    },
    {
     "name": "stderr",
     "output_type": "stream",
     "text": [
      "Train loss: 0.23407: 100%|█████████████████████████████████████████████████████████████| 23/23 [00:00<00:00, 49.05it/s]\n",
      ": 100%|█████████████████████████████████████████████████████████████████████████████████| 3/3 [00:00<00:00, 50.84it/s]\n",
      "Train loss: 0.22549:  22%|█████████████▍                                                | 5/23 [00:00<00:00, 47.62it/s]"
     ]
    },
    {
     "name": "stdout",
     "output_type": "stream",
     "text": [
      "Starting epoch: 32 | phase: valid | ⏰: 02:01:58 \n",
      "Validation loss: 0.24243028461933136\n",
      "Starting epoch: 33 | phase: train | ⏰: 02:01:58 | Learning rate: 0.010000\n"
     ]
    },
    {
     "name": "stderr",
     "output_type": "stream",
     "text": [
      "Train loss: 0.23054: 100%|█████████████████████████████████████████████████████████████| 23/23 [00:00<00:00, 49.17it/s]\n",
      "Train loss: 0.22943:  22%|█████████████▍                                                | 5/23 [00:00<00:00, 49.92it/s]"
     ]
    },
    {
     "name": "stdout",
     "output_type": "stream",
     "text": [
      "Starting epoch: 34 | phase: train | ⏰: 02:01:58 | Learning rate: 0.010000\n"
     ]
    },
    {
     "name": "stderr",
     "output_type": "stream",
     "text": [
      "Train loss: 0.22727: 100%|█████████████████████████████████████████████████████████████| 23/23 [00:00<00:00, 50.16it/s]\n",
      ": 100%|█████████████████████████████████████████████████████████████████████████████████| 3/3 [00:00<00:00, 71.43it/s]\n",
      "Train loss: 0.22588:  17%|██████████▊                                                   | 4/23 [00:00<00:00, 38.83it/s]"
     ]
    },
    {
     "name": "stdout",
     "output_type": "stream",
     "text": [
      "Starting epoch: 34 | phase: valid | ⏰: 02:01:59 \n",
      "Validation loss: 0.23794702688852945\n",
      "Starting epoch: 35 | phase: train | ⏰: 02:01:59 | Learning rate: 0.010000\n"
     ]
    },
    {
     "name": "stderr",
     "output_type": "stream",
     "text": [
      "Train loss: 0.22618: 100%|█████████████████████████████████████████████████████████████| 23/23 [00:00<00:00, 47.18it/s]\n",
      "Train loss: 0.22387:  22%|█████████████▍                                                | 5/23 [00:00<00:00, 45.45it/s]"
     ]
    },
    {
     "name": "stdout",
     "output_type": "stream",
     "text": [
      "Starting epoch: 36 | phase: train | ⏰: 02:01:59 | Learning rate: 0.010000\n"
     ]
    },
    {
     "name": "stderr",
     "output_type": "stream",
     "text": [
      "Train loss: 0.22220: 100%|█████████████████████████████████████████████████████████████| 23/23 [00:00<00:00, 44.13it/s]\n",
      ": 100%|█████████████████████████████████████████████████████████████████████████████████| 3/3 [00:00<00:00, 59.06it/s]\n",
      "Train loss: 0.21977:  17%|██████████▊                                                   | 4/23 [00:00<00:00, 38.11it/s]"
     ]
    },
    {
     "name": "stdout",
     "output_type": "stream",
     "text": [
      "Starting epoch: 36 | phase: valid | ⏰: 02:02:00 \n",
      "Validation loss: 0.2346175809701284\n",
      "Starting epoch: 37 | phase: train | ⏰: 02:02:00 | Learning rate: 0.010000\n"
     ]
    },
    {
     "name": "stderr",
     "output_type": "stream",
     "text": [
      "Train loss: 0.22595: 100%|█████████████████████████████████████████████████████████████| 23/23 [00:00<00:00, 43.21it/s]\n",
      "Train loss: 0.23709:  22%|█████████████▍                                                | 5/23 [00:00<00:00, 47.28it/s]"
     ]
    },
    {
     "name": "stdout",
     "output_type": "stream",
     "text": [
      "Starting epoch: 38 | phase: train | ⏰: 02:02:01 | Learning rate: 0.010000\n"
     ]
    },
    {
     "name": "stderr",
     "output_type": "stream",
     "text": [
      "Train loss: 0.23965: 100%|█████████████████████████████████████████████████████████████| 23/23 [00:00<00:00, 47.02it/s]\n",
      ": 100%|█████████████████████████████████████████████████████████████████████████████████| 3/3 [00:00<00:00, 63.16it/s]\n",
      "Train loss: 0.40151:  17%|██████████▊                                                   | 4/23 [00:00<00:00, 35.56it/s]"
     ]
    },
    {
     "name": "stdout",
     "output_type": "stream",
     "text": [
      "Starting epoch: 38 | phase: valid | ⏰: 02:02:01 \n",
      "Validation loss: 0.3732308049996694\n",
      "Starting epoch: 39 | phase: train | ⏰: 02:02:01 | Learning rate: 0.010000\n"
     ]
    },
    {
     "name": "stderr",
     "output_type": "stream",
     "text": [
      "Train loss: 0.29644: 100%|█████████████████████████████████████████████████████████████| 23/23 [00:00<00:00, 43.59it/s]\n",
      "Train loss: 0.24233:  26%|████████████████▏                                             | 6/23 [00:00<00:00, 52.47it/s]"
     ]
    },
    {
     "name": "stdout",
     "output_type": "stream",
     "text": [
      "Starting epoch: 40 | phase: train | ⏰: 02:02:02 | Learning rate: 0.010000\n"
     ]
    },
    {
     "name": "stderr",
     "output_type": "stream",
     "text": [
      "Train loss: 0.23994: 100%|█████████████████████████████████████████████████████████████| 23/23 [00:00<00:00, 48.20it/s]\n",
      ": 100%|█████████████████████████████████████████████████████████████████████████████████| 3/3 [00:00<00:00, 70.03it/s]\n",
      "Train loss: 0.22554:   0%|                                                                      | 0/23 [00:00<?, ?it/s]"
     ]
    },
    {
     "name": "stdout",
     "output_type": "stream",
     "text": [
      "Starting epoch: 40 | phase: valid | ⏰: 02:02:02 \n",
      "Validation loss: 0.24186896781126657\n",
      "Starting epoch: 41 | phase: train | ⏰: 02:02:02 | Learning rate: 0.010000\n"
     ]
    },
    {
     "name": "stderr",
     "output_type": "stream",
     "text": [
      "Train loss: 0.22669: 100%|█████████████████████████████████████████████████████████████| 23/23 [00:00<00:00, 45.68it/s]\n",
      "Train loss: 0.22163:  26%|████████████████▏                                             | 6/23 [00:00<00:00, 52.31it/s]"
     ]
    },
    {
     "name": "stdout",
     "output_type": "stream",
     "text": [
      "Starting epoch: 42 | phase: train | ⏰: 02:02:03 | Learning rate: 0.010000\n"
     ]
    },
    {
     "name": "stderr",
     "output_type": "stream",
     "text": [
      "Train loss: 0.22410: 100%|█████████████████████████████████████████████████████████████| 23/23 [00:00<00:00, 49.38it/s]\n",
      ": 100%|█████████████████████████████████████████████████████████████████████████████████| 3/3 [00:00<00:00, 70.13it/s]\n",
      "Train loss: 0.22664:  22%|█████████████▍                                                | 5/23 [00:00<00:00, 49.50it/s]"
     ]
    },
    {
     "name": "stdout",
     "output_type": "stream",
     "text": [
      "Starting epoch: 42 | phase: valid | ⏰: 02:02:03 \n",
      "Validation loss: 0.23670241236686707\n",
      "Starting epoch: 43 | phase: train | ⏰: 02:02:03 | Learning rate: 0.010000\n"
     ]
    },
    {
     "name": "stderr",
     "output_type": "stream",
     "text": [
      "Train loss: 0.22282: 100%|█████████████████████████████████████████████████████████████| 23/23 [00:00<00:00, 49.02it/s]\n",
      "Train loss: 0.21631:  22%|█████████████▍                                                | 5/23 [00:00<00:00, 41.57it/s]"
     ]
    },
    {
     "name": "stdout",
     "output_type": "stream",
     "text": [
      "Starting epoch: 44 | phase: train | ⏰: 02:02:04 | Learning rate: 0.010000\n"
     ]
    },
    {
     "name": "stderr",
     "output_type": "stream",
     "text": [
      "Train loss: 0.21786: 100%|█████████████████████████████████████████████████████████████| 23/23 [00:00<00:00, 47.15it/s]\n",
      ": 100%|█████████████████████████████████████████████████████████████████████████████████| 3/3 [00:00<00:00, 61.43it/s]\n",
      "Train loss: 0.21700:  22%|█████████████▍                                                | 5/23 [00:00<00:00, 44.84it/s]"
     ]
    },
    {
     "name": "stdout",
     "output_type": "stream",
     "text": [
      "Starting epoch: 44 | phase: valid | ⏰: 02:02:04 \n",
      "Validation loss: 0.2347361296415329\n",
      "Starting epoch: 45 | phase: train | ⏰: 02:02:04 | Learning rate: 0.010000\n"
     ]
    },
    {
     "name": "stderr",
     "output_type": "stream",
     "text": [
      "Train loss: 0.21646: 100%|█████████████████████████████████████████████████████████████| 23/23 [00:00<00:00, 47.71it/s]\n",
      "Train loss: 0.21025:  22%|█████████████▍                                                | 5/23 [00:00<00:00, 42.03it/s]"
     ]
    },
    {
     "name": "stdout",
     "output_type": "stream",
     "text": [
      "Starting epoch: 46 | phase: train | ⏰: 02:02:05 | Learning rate: 0.010000\n"
     ]
    },
    {
     "name": "stderr",
     "output_type": "stream",
     "text": [
      "Train loss: 0.21537: 100%|█████████████████████████████████████████████████████████████| 23/23 [00:00<00:00, 47.33it/s]\n",
      ": 100%|█████████████████████████████████████████████████████████████████████████████████| 3/3 [00:00<00:00, 71.00it/s]\n",
      "Train loss: 0.21089:  26%|████████████████▏                                             | 6/23 [00:00<00:00, 50.27it/s]"
     ]
    },
    {
     "name": "stdout",
     "output_type": "stream",
     "text": [
      "Starting epoch: 46 | phase: valid | ⏰: 02:02:05 \n",
      "Validation loss: 0.23073397080103555\n",
      "Starting epoch: 47 | phase: train | ⏰: 02:02:05 | Learning rate: 0.010000\n"
     ]
    },
    {
     "name": "stderr",
     "output_type": "stream",
     "text": [
      "Train loss: 0.21747: 100%|█████████████████████████████████████████████████████████████| 23/23 [00:00<00:00, 48.02it/s]\n",
      "Train loss: 0.20867:  17%|██████████▊                                                   | 4/23 [00:00<00:00, 37.90it/s]"
     ]
    },
    {
     "name": "stdout",
     "output_type": "stream",
     "text": [
      "Starting epoch: 48 | phase: train | ⏰: 02:02:06 | Learning rate: 0.010000\n"
     ]
    },
    {
     "name": "stderr",
     "output_type": "stream",
     "text": [
      "Train loss: 0.21497: 100%|█████████████████████████████████████████████████████████████| 23/23 [00:00<00:00, 44.61it/s]\n",
      ": 100%|█████████████████████████████████████████████████████████████████████████████████| 3/3 [00:00<00:00, 64.47it/s]\n",
      "Train loss: 0.21271:  22%|█████████████▍                                                | 5/23 [00:00<00:00, 45.95it/s]"
     ]
    },
    {
     "name": "stdout",
     "output_type": "stream",
     "text": [
      "Starting epoch: 48 | phase: valid | ⏰: 02:02:06 \n",
      "Validation loss: 0.2315790355205536\n",
      "Starting epoch: 49 | phase: train | ⏰: 02:02:06 | Learning rate: 0.010000\n"
     ]
    },
    {
     "name": "stderr",
     "output_type": "stream",
     "text": [
      "Train loss: 0.21279: 100%|█████████████████████████████████████████████████████████████| 23/23 [00:00<00:00, 46.78it/s]\n",
      "  0%|                                                                                | 6/14177 [00:00<04:26, 53.09it/s]"
     ]
    },
    {
     "name": "stdout",
     "output_type": "stream",
     "text": [
      "Number of sessions(hdfs_test_normal): 14177\n",
      "Number of sessions(hdfs_test_abnormal): 4123\n"
     ]
    },
    {
     "name": "stderr",
     "output_type": "stream",
     "text": [
      "100%|███████████████████████████████████████████████████████████████████████████| 14177/14177 [02:06<00:00, 111.84it/s]\n",
      "100%|█████████████████████████████████████████████████████████████████████████████| 4123/4123 [00:25<00:00, 159.29it/s]"
     ]
    },
    {
     "name": "stdout",
     "output_type": "stream",
     "text": [
      "false positive (FP): 1207, false negative (FN): 402, Precision: 93.159%, Recall: 97.613%, F1-measure: 95.334%\n",
      "actual positive (TP+FN): 16838, actual negative (FP+TN): 553366\n",
      "accuracy: 99.718\n",
      "Finished Predicting\n",
      "elapsed_time: 152.64932346343994\n"
     ]
    },
    {
     "name": "stderr",
     "output_type": "stream",
     "text": [
      "\n"
     ]
    }
   ],
   "source": [
    "#!/usr/bin/env python\n",
    "# -*- coding: utf-8 -*-\n",
    "\n",
    "import argparse\n",
    "import sys\n",
    "sys.path.append('../')\n",
    "\n",
    "from logdeep.models.lstm import deeplog, loganomaly, robustlog\n",
    "from logdeep.tools.predict import Predicter\n",
    "from logdeep.tools.train import Trainer\n",
    "from logdeep.tools.utils import *\n",
    "\n",
    "\n",
    "# Config Parameters\n",
    "\n",
    "options = dict()\n",
    "options['data_dir'] = '../data/'\n",
    "options['window_size'] = 10\n",
    "options['device'] = device\n",
    "\n",
    "# Smaple\n",
    "options['sample'] = \"sliding_window\"\n",
    "options['window_size'] = 10  # if fix_window\n",
    "\n",
    "# Features\n",
    "options['sequentials'] = True\n",
    "options['quantitatives'] = False\n",
    "options['semantics'] = False\n",
    "options['feature_num'] = sum(\n",
    "    [options['sequentials'], options['quantitatives'], options['semantics']])\n",
    "\n",
    "# Model\n",
    "options['input_size'] = 1\n",
    "options['hidden_size'] = 64\n",
    "options['num_layers'] = 2\n",
    "options['num_classes'] = 28\n",
    "\n",
    "# Train\n",
    "options['batch_size'] = 2048\n",
    "options['accumulation_step'] = 1\n",
    "\n",
    "options['optimizer'] = 'adam'\n",
    "options['lr'] = 1e-2\n",
    "options['max_epoch'] = 50\n",
    "options['lr_step'] = (300, 350)\n",
    "options['lr_decay_ratio'] = 0.1\n",
    "\n",
    "options['resume_path'] = None\n",
    "options['model_name'] = \"deeplog\"\n",
    "options['save_dir'] = \"../result/deeplog/\"\n",
    "\n",
    "# Predict\n",
    "options['model_path'] = \"../result/deeplog/deeplog_last.pth\"\n",
    "options['num_candidates'] = 9\n",
    "\n",
    "seed_everything(seed=1234)\n",
    "\n",
    "\n",
    "Model_1 = deeplog(input_size=options['input_size'],\n",
    "                hidden_size=options['hidden_size'],\n",
    "                num_layers=options['num_layers'],\n",
    "                num_keys=options['num_classes'])\n",
    "\n",
    "trainer_1 = Trainer(Model_1, options,1,0)\n",
    "trainer_1.start_train()\n",
    "\n",
    "predicter_1 = Predicter(Model_1, options,1,0)\n",
    "predicter_1.predict_unsupervised()"
   ]
  },
  {
   "cell_type": "code",
   "execution_count": 12,
   "metadata": {
    "ExecuteTime": {
     "end_time": "2022-09-04T18:04:42.172401Z",
     "start_time": "2022-09-04T18:04:42.157630Z"
    }
   },
   "outputs": [
    {
     "name": "stdout",
     "output_type": "stream",
     "text": [
      "[3.183013853819474, 2.3903471127800318, 1.7993231338003408, 1.5255278037941975, 1.064625981061355, 0.8187189128087915, 0.6001018259836279, 0.5039780567521635, 0.4276608150938283, 0.47793884251428687, 0.4088633708331896, 0.36921954802844836, 0.33923095853432367, 0.3252704882103464, 0.3322786429653997, 0.3642360827197199, 0.31033735560334247, 0.29828042698943097, 0.28908558513807214, 0.278800913821096, 0.27108199700065283, 0.2692532494016316, 0.27608593780061474, 0.3030857327191726, 0.26205272389494855, 0.26159809464993683, 0.24923582180686618, 0.24556861429110818, 0.24609730554663617, 0.253076522246651, 0.24843487467454828, 0.2421767057284065, 0.23406651875247125, 0.23053663385951, 0.22727038808490918, 0.2261797520129577, 0.22220162593800089, 0.22595220091550247, 0.23964858379053033, 0.2964396528575731, 0.23994381984938745, 0.22669178441814755, 0.22409911453723907, 0.2228222722592561, 0.21786253866942032, 0.21646264843318774, 0.21537373312141583, 0.21746916032355765, 0.21497481348721878, 0.21278531007144763]\n"
     ]
    }
   ],
   "source": [
    "print(trainer_1.log['train']['loss'])"
   ]
  },
  {
   "cell_type": "code",
   "execution_count": 13,
   "metadata": {
    "ExecuteTime": {
     "end_time": "2022-09-04T18:04:42.187401Z",
     "start_time": "2022-09-04T18:04:42.173402Z"
    }
   },
   "outputs": [
    {
     "name": "stdout",
     "output_type": "stream",
     "text": [
      "[0.25468318661053974, 0.256661797563235, 0.26392227907975513, 0.24243028461933136, 0.23794702688852945, 0.2346175809701284, 0.3732308049996694, 0.24186896781126657, 0.23670241236686707, 0.2347361296415329, 0.23073397080103555, 0.2315790355205536]\n"
     ]
    }
   ],
   "source": [
    "print(trainer_1.log['valid']['loss'])"
   ]
  },
  {
   "cell_type": "code",
   "execution_count": 14,
   "metadata": {
    "ExecuteTime": {
     "end_time": "2022-09-04T18:04:42.203417Z",
     "start_time": "2022-09-04T18:04:42.188402Z"
    }
   },
   "outputs": [],
   "source": [
    "# lloogg_1 = {'train':{'epoch':[], 'lr':[], 'time':[], 'loss':[]}, \n",
    "#           'val':{'epoch':[], 'lr':[], 'time':[], 'loss':[]}}\n",
    "# lloogg_2 = {'train':{'epoch':[], 'lr':[], 'time':[], 'loss':[]}, \n",
    "#           'val':{'epoch':[], 'lr':[], 'time':[], 'loss':[]}}\n",
    "# lloogg_3 = {'train':{'epoch':[], 'lr':[], 'time':[], 'loss':[]}, \n",
    "#           'val':{'epoch':[], 'lr':[], 'time':[], 'loss':[]}}\n",
    "\n",
    "# for j in range(5):\n",
    "#     for i in range(3):\n",
    "\n",
    "\n",
    "#         exec('lloogg_'+str(i+1)+\"['train']['epoch'].append(j)\")\n",
    "#         exec('lloogg_'+str(i+1)+\"['train']['lr'].append(trainer.log['train']['lr'][-1])\")\n",
    "#         exec('lloogg_'+str(i+1)+\"['train']['time'].append(trainer.log['train']['time'][-1])\")\n",
    "#         exec('lloogg_'+str(i+1)+\"['train']['loss'].append(trainer.log['train']['loss'][-1])\")\n",
    "#         exec('lloogg_'+str(i+1)+\"['val']['epoch'].append(j)\")\n",
    "#         exec('lloogg_'+str(i+1)+\"['val']['lr'].append(trainer.log['valid']['lr'][-1])\")\n",
    "#         exec('lloogg_'+str(i+1)+\"['val']['time'].append(trainer.log['valid']['time'][-1])\")\n",
    "#         exec('lloogg_'+str(i+1)+\"['val']['loss'].append(trainer.log['valid']['loss'][-1])\")\n"
   ]
  },
  {
   "cell_type": "code",
   "execution_count": 15,
   "metadata": {
    "ExecuteTime": {
     "end_time": "2022-09-04T18:04:42.219423Z",
     "start_time": "2022-09-04T18:04:42.204417Z"
    }
   },
   "outputs": [],
   "source": [
    "# lloogg_1"
   ]
  },
  {
   "cell_type": "code",
   "execution_count": 16,
   "metadata": {
    "ExecuteTime": {
     "end_time": "2022-09-04T18:04:42.235427Z",
     "start_time": "2022-09-04T18:04:42.220424Z"
    }
   },
   "outputs": [],
   "source": [
    "# lloogg_2"
   ]
  },
  {
   "cell_type": "code",
   "execution_count": 17,
   "metadata": {
    "ExecuteTime": {
     "end_time": "2022-09-04T18:04:42.251437Z",
     "start_time": "2022-09-04T18:04:42.236427Z"
    }
   },
   "outputs": [],
   "source": [
    "# lloogg_3"
   ]
  },
  {
   "cell_type": "code",
   "execution_count": null,
   "metadata": {
    "ExecuteTime": {
     "end_time": "2022-01-20T12:27:14.483143Z",
     "start_time": "2022-01-20T12:27:14.321578Z"
    }
   },
   "outputs": [],
   "source": []
  },
  {
   "cell_type": "code",
   "execution_count": 18,
   "metadata": {
    "ExecuteTime": {
     "end_time": "2022-09-04T18:04:42.361320Z",
     "start_time": "2022-09-04T18:04:42.252437Z"
    }
   },
   "outputs": [],
   "source": [
    "# predicter.F1"
   ]
  },
  {
   "cell_type": "code",
   "execution_count": 19,
   "metadata": {
    "ExecuteTime": {
     "end_time": "2022-09-04T18:04:42.377021Z",
     "start_time": "2022-09-04T18:04:42.362320Z"
    }
   },
   "outputs": [],
   "source": [
    "# for key, values in trainer.log.items():\n",
    "# #     pd.DataFrame(values).to_csv(self.save_dir + key + \"_log.csv\", index=False)\n",
    "#     print(key, values)"
   ]
  },
  {
   "cell_type": "code",
   "execution_count": 20,
   "metadata": {
    "ExecuteTime": {
     "end_time": "2022-09-04T18:04:42.392352Z",
     "start_time": "2022-09-04T18:04:42.378022Z"
    }
   },
   "outputs": [],
   "source": [
    "# import pandas as pd\n",
    "# tr = pd.read_csv('../result/deeplog/train_log.csv')\n",
    "# vl = pd.read_csv('../result/deeplog/valid_log.csv')\n",
    "# tr.shape, vl.shape"
   ]
  },
  {
   "cell_type": "code",
   "execution_count": 21,
   "metadata": {
    "ExecuteTime": {
     "end_time": "2022-09-04T18:04:42.407322Z",
     "start_time": "2022-09-04T18:04:42.393323Z"
    }
   },
   "outputs": [],
   "source": [
    "# import matplotlib.pyplot as plt\n",
    "\n",
    "# # plot train and validation loss\n",
    "# plt.plot(tr['epoch'], tr['loss'])\n",
    "# plt.plot(vl['epoch'], vl['loss'])\n",
    "# plt.title('model train vs validation loss')\n",
    "# plt.ylabel('loss')\n",
    "# plt.xlabel('epoch')\n",
    "# plt.legend(['train', 'validation'], loc='upper right')\n",
    "# plt.show()"
   ]
  },
  {
   "cell_type": "code",
   "execution_count": null,
   "metadata": {},
   "outputs": [],
   "source": []
  }
 ],
 "metadata": {
  "kernelspec": {
   "display_name": "Python 3",
   "language": "python",
   "name": "python3"
  },
  "language_info": {
   "codemirror_mode": {
    "name": "ipython",
    "version": 3
   },
   "file_extension": ".py",
   "mimetype": "text/x-python",
   "name": "python",
   "nbconvert_exporter": "python",
   "pygments_lexer": "ipython3",
   "version": "3.8.8"
  }
 },
 "nbformat": 4,
 "nbformat_minor": 4
}
