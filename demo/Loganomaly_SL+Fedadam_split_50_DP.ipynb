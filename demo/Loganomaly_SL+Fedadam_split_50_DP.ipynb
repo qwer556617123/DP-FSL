{
 "cells": [
  {
   "cell_type": "code",
   "execution_count": 1,
   "metadata": {
    "ExecuteTime": {
     "end_time": "2022-08-20T19:20:40.594687Z",
     "start_time": "2022-08-20T19:20:40.509966Z"
    }
   },
   "outputs": [],
   "source": [
    "import os\n",
    "# set GPU number. This might work for several framework such as PyTorch, TensorFlow, Keras\n",
    "gpu_id = '0'\n",
    "os.environ[\"CUDA_VISIBLE_DEVICES\"]=gpu_id"
   ]
  },
  {
   "cell_type": "code",
   "execution_count": 2,
   "metadata": {
    "ExecuteTime": {
     "end_time": "2022-08-20T19:20:40.610251Z",
     "start_time": "2022-08-20T19:20:40.595687Z"
    }
   },
   "outputs": [],
   "source": [
    "import warnings\n",
    "warnings.filterwarnings(\"ignore\")"
   ]
  },
  {
   "cell_type": "code",
   "execution_count": 3,
   "metadata": {
    "ExecuteTime": {
     "end_time": "2022-08-20T19:21:22.529654Z",
     "start_time": "2022-08-20T19:20:40.611252Z"
    }
   },
   "outputs": [],
   "source": [
    "# sys.path.append('../../loglizer')\n",
    "    \n",
    "# from loglizer import dataloader\n",
    "# from loglizer.preprocessing import Vectorizer, Iterator\n",
    "import sys\n",
    "import torch\n",
    "import torch.nn as nn\n",
    "import torch.nn.functional as func\n",
    "import torch.optim as optim\n",
    "from torch.utils.data import Dataset\n",
    "import torch.utils.data as Data\n",
    "from torch.autograd import Variable\n",
    "import pickle as pkl\n",
    "import argparse\n",
    "import time\n",
    "import copy\n",
    "import torchvision.transforms as transforms\n",
    "import torchvision\n",
    "import random\n",
    "from collections import OrderedDict\n",
    "from PIL import Image\n",
    "\n",
    "import pandas as pd\n",
    "import math\n",
    "import matplotlib.pyplot as plt\n",
    "import numpy as np\n",
    "\n",
    "from sklearn.metrics import accuracy_score, f1_score, recall_score, precision_score\n",
    "from collections import defaultdict\n",
    "\n",
    "from torch.nn.utils import clip_grad_norm_\n",
    "from torch.distributions.laplace import Laplace\n",
    "\n",
    "from _utils import clip_generator, add_noise_generator"
   ]
  },
  {
   "cell_type": "code",
   "execution_count": 4,
   "metadata": {
    "ExecuteTime": {
     "end_time": "2022-08-20T19:21:22.765816Z",
     "start_time": "2022-08-20T19:21:22.530654Z"
    }
   },
   "outputs": [],
   "source": [
    "# struct_log = '../data/HDFS/HDFS.log_structured.csv' # The structured log file\n",
    "\n",
    "#初始參數\n",
    "class Parser():\n",
    "    def __init__(self):\n",
    "        self.mode = 'fedadam'  #FedBN,FedAvg,fedprox,fedopt,fedadagrad,fedadam 待加入scoffold\n",
    "        #所有方法都有使用Fedbn\n",
    "        self.beta_1 = 0.9\n",
    "        self.beta_2 = 0.99 #b1,b2 for adaptive opt\n",
    "        self.tau = 1e-2\n",
    "        self.batch = 32\n",
    "        self.lr = 1e-1\n",
    "        self.server_lr = 1e-1\n",
    "        self.server_momentum = 0.5\n",
    "        self.client_momentum = 0.9 # 0 is fedavg others is fedavgm\n",
    "        self.no_cuda = False\n",
    "        self.seed = 1\n",
    "        self.client_num = 5\n",
    "        self.wk_iters = 1 # training\n",
    "        self.num_workers = 2 # dataloader\n",
    "        self.mu = 1e-3\n",
    "        self.iters = 1 #epochs\n",
    "        self.local_epochs = 10\n",
    "        self.server_opt = 'sgd'\n",
    "        self.percent = 1\n",
    "#         self.early_stop = 500\n",
    "        self.window_size = 10\n",
    "        self.train_ratio = 0.5\n",
    "        self.split_type='sequential' # sequential, uniform\n",
    "        self.max_grad_norm = 1.0\n",
    "\n",
    "        \n",
    "args = Parser()\n",
    "\n",
    "use_cuda = not args.no_cuda and torch.cuda.is_available()\n",
    "np.random.seed(args.seed)\n",
    "torch.manual_seed(args.seed)\n",
    "torch.cuda.manual_seed_all(args.seed) \n",
    "random.seed(args.seed)\n",
    "device = torch.device(\"cuda\" if use_cuda else \"cpu\")\n",
    "\n",
    "group = {'noise_scale':0.03, 'norm_bound':1.5}\n",
    "# 0 0.01 0.03 0.05 0.07 0.10"
   ]
  },
  {
   "cell_type": "code",
   "execution_count": 5,
   "metadata": {
    "ExecuteTime": {
     "end_time": "2022-08-20T19:21:22.873305Z",
     "start_time": "2022-08-20T19:21:22.765816Z"
    }
   },
   "outputs": [],
   "source": [
    "sys.path.append('../')\n",
    "from logdeep.tools.predict_sl_dp import Predicter\n",
    "from logdeep.tools.train_sl_dp import Trainer\n",
    "from logdeep.tools.utils import *\n",
    "\n",
    "# Config Parameters\n",
    "\n",
    "options = dict()\n",
    "options['data_dir'] = '../data/'\n",
    "options['window_size'] = 10\n",
    "options['device'] = device\n",
    "\n",
    "# Smaple\n",
    "options['sample'] = \"sliding_window\"\n",
    "options['window_size'] = 10  # if fix_window\n",
    "\n",
    "# Features\n",
    "options['sequentials'] = True\n",
    "options['quantitatives'] = True\n",
    "options['semantics'] = False\n",
    "options['feature_num'] = sum(\n",
    "    [options['sequentials'], options['quantitatives'], options['semantics']])\n",
    "\n",
    "# Model\n",
    "options['input_size'] = 1\n",
    "options['hidden_size'] = 64\n",
    "options['num_layers'] = 2\n",
    "options['num_classes'] = 28\n",
    "\n",
    "# Train\n",
    "options['batch_size'] = 2048\n",
    "options['accumulation_step'] = 1\n",
    "\n",
    "options['optimizer'] = 'adam'\n",
    "options['lr'] = 1e-2\n",
    "options['max_epoch'] = args.local_epochs\n",
    "options['lr_step'] = (300, 350)\n",
    "options['lr_decay_ratio'] = 0.1\n",
    "\n",
    "options['resume_path'] = None\n",
    "options['model_name'] = \"loganomaly\"\n",
    "options['save_dir'] = \"../result/loganomaly/\"\n",
    "\n",
    "# Predict\n",
    "options['model_path'] = \"../result/loganomaly/loganomaly_last.pth\"\n",
    "options['num_candidates'] = 9\n",
    "\n",
    "seed_everything(seed=1234)\n",
    "\n",
    "\n",
    "def train():\n",
    "    trainer = Trainer(Model, options)\n",
    "    trainer.start_train()\n",
    "\n",
    "\n",
    "def predict():\n",
    "    predicter = Predicter(Model, options)\n",
    "    predicter.predict_unsupervised()"
   ]
  },
  {
   "cell_type": "markdown",
   "metadata": {},
   "source": [
    "# Preprocessing"
   ]
  },
  {
   "cell_type": "code",
   "execution_count": 6,
   "metadata": {
    "ExecuteTime": {
     "end_time": "2022-08-20T19:21:22.889304Z",
     "start_time": "2022-08-20T19:21:22.873305Z"
    }
   },
   "outputs": [],
   "source": [
    "class loganomaly(nn.Module):\n",
    "    def __init__(self, input_size, hidden_size, num_layers, num_keys):\n",
    "        super(loganomaly, self).__init__()\n",
    "        self.hidden_size = hidden_size\n",
    "        self.num_layers = num_layers\n",
    "        self.lstm0 = nn.LSTM(input_size,\n",
    "                             hidden_size,\n",
    "                             num_layers,\n",
    "                             batch_first=True)\n",
    "        self.lstm1 = nn.LSTM(input_size,\n",
    "                             hidden_size,\n",
    "                             num_layers,\n",
    "                             batch_first=True)\n",
    "        self.fc = nn.Linear(2 * hidden_size, num_keys)\n",
    "        self.attention_size = self.hidden_size\n",
    "\n",
    "        self.w_omega = Variable(\n",
    "            torch.zeros(self.hidden_size, self.attention_size))\n",
    "        self.u_omega = Variable(torch.zeros(self.attention_size))\n",
    "\n",
    "        self.sequence_length = 28\n",
    "\n",
    "    def attention_net(self, lstm_output):\n",
    "        output_reshape = torch.Tensor.reshape(lstm_output,\n",
    "                                              [-1, self.hidden_size])\n",
    "        attn_tanh = torch.tanh(torch.mm(output_reshape, self.w_omega))\n",
    "        attn_hidden_layer = torch.mm(\n",
    "            attn_tanh, torch.Tensor.reshape(self.u_omega, [-1, 1]))\n",
    "        exps = torch.Tensor.reshape(torch.exp(attn_hidden_layer),\n",
    "                                    [-1, self.sequence_length])\n",
    "        alphas = exps / torch.Tensor.reshape(torch.sum(exps, 1), [-1, 1])\n",
    "        alphas_reshape = torch.Tensor.reshape(alphas,\n",
    "                                              [-1, self.sequence_length, 1])\n",
    "        state = lstm_output\n",
    "        attn_output = torch.sum(state * alphas_reshape, 1)\n",
    "        return attn_output\n",
    "\n",
    "    def forward(self, features, device):\n",
    "        input0, input1 = features[0], features[1]\n",
    "\n",
    "        h0_0 = torch.zeros(self.num_layers, input0.size(0),\n",
    "                           self.hidden_size).to(device)\n",
    "        c0_0 = torch.zeros(self.num_layers, input0.size(0),\n",
    "                           self.hidden_size).to(device)\n",
    "\n",
    "        out0, _ = self.lstm0(input0, (h0_0, c0_0))\n",
    "\n",
    "        h0_1 = torch.zeros(self.num_layers, input1.size(0),\n",
    "                           self.hidden_size).to(device)\n",
    "        c0_1 = torch.zeros(self.num_layers, input1.size(0),\n",
    "                           self.hidden_size).to(device)\n",
    "\n",
    "        out1, _ = self.lstm1(input1, (h0_1, c0_1))\n",
    "        multi_out = torch.cat((out0[:, -1, :], out1[:, -1, :]), -1)\n",
    "        out = self.fc(multi_out)\n",
    "        return out\n",
    "    \n",
    "class loganomaly_1st(nn.Module):\n",
    "    def __init__(self, input_size, hidden_size, num_layers, num_keys):\n",
    "        super(loganomaly_1st, self).__init__()\n",
    "        self.hidden_size = hidden_size\n",
    "        self.num_layers = num_layers\n",
    "        self.lstm0 = nn.LSTM(input_size,\n",
    "                             hidden_size,\n",
    "                             num_layers,\n",
    "                             batch_first=True)\n",
    "        self.lstm1 = nn.LSTM(input_size,\n",
    "                             hidden_size,\n",
    "                             num_layers,\n",
    "                             batch_first=True)\n",
    "#         self.fc = nn.Linear(2 * hidden_size, num_keys)\n",
    "        self.attention_size = self.hidden_size\n",
    "\n",
    "        self.w_omega = Variable(\n",
    "            torch.zeros(self.hidden_size, self.attention_size))\n",
    "        self.u_omega = Variable(torch.zeros(self.attention_size))\n",
    "\n",
    "        self.sequence_length = 28\n",
    "\n",
    "    def attention_net(self, lstm_output):\n",
    "        output_reshape = torch.Tensor.reshape(lstm_output,\n",
    "                                              [-1, self.hidden_size])\n",
    "        attn_tanh = torch.tanh(torch.mm(output_reshape, self.w_omega))\n",
    "        attn_hidden_layer = torch.mm(\n",
    "            attn_tanh, torch.Tensor.reshape(self.u_omega, [-1, 1]))\n",
    "        exps = torch.Tensor.reshape(torch.exp(attn_hidden_layer),\n",
    "                                    [-1, self.sequence_length])\n",
    "        alphas = exps / torch.Tensor.reshape(torch.sum(exps, 1), [-1, 1])\n",
    "        alphas_reshape = torch.Tensor.reshape(alphas,\n",
    "                                              [-1, self.sequence_length, 1])\n",
    "        state = lstm_output\n",
    "        attn_output = torch.sum(state * alphas_reshape, 1)\n",
    "        return attn_output\n",
    "\n",
    "    def forward(self, features, device):\n",
    "        input0, input1 = features[0], features[1]\n",
    "\n",
    "        h0_0 = torch.zeros(self.num_layers, input0.size(0),\n",
    "                           self.hidden_size).to(device)\n",
    "        c0_0 = torch.zeros(self.num_layers, input0.size(0),\n",
    "                           self.hidden_size).to(device)\n",
    "\n",
    "        out0, _ = self.lstm0(input0, (h0_0, c0_0))\n",
    "\n",
    "        h0_1 = torch.zeros(self.num_layers, input1.size(0),\n",
    "                           self.hidden_size).to(device)\n",
    "        c0_1 = torch.zeros(self.num_layers, input1.size(0),\n",
    "                           self.hidden_size).to(device)\n",
    "\n",
    "        out1, (outpreh, outprec) = self.lstm1(input1, (h0_1, c0_1))\n",
    "#         multi_out = torch.cat((out0[:, -1, :], out1[:, -1, :]), -1)\n",
    "#         out = self.fc(multi_out)\n",
    "        return out1, outpreh, outprec\n",
    "\n",
    "\n",
    "class loganomaly_2nd(nn.Module):\n",
    "    def __init__(self, input_size, hidden_size, num_layers, num_keys):\n",
    "        super(loganomaly_2nd, self).__init__()\n",
    "        self.hidden_size = hidden_size\n",
    "        self.num_layers = num_layers\n",
    "        self.lstm0 = nn.LSTM(input_size,\n",
    "                             hidden_size,\n",
    "                             num_layers,\n",
    "                             batch_first=True)\n",
    "        self.lstm1 = nn.LSTM(input_size,\n",
    "                             hidden_size,\n",
    "                             num_layers,\n",
    "                             batch_first=True)\n",
    "        self.fc = nn.Linear(2 * hidden_size, num_keys)\n",
    "        self.attention_size = self.hidden_size\n",
    "\n",
    "        self.w_omega = Variable(\n",
    "            torch.zeros(self.hidden_size, self.attention_size))\n",
    "        self.u_omega = Variable(torch.zeros(self.attention_size))\n",
    "\n",
    "        self.sequence_length = 28\n",
    "\n",
    "    def attention_net(self, lstm_output):\n",
    "        output_reshape = torch.Tensor.reshape(lstm_output,\n",
    "                                              [-1, self.hidden_size])\n",
    "        attn_tanh = torch.tanh(torch.mm(output_reshape, self.w_omega))\n",
    "        attn_hidden_layer = torch.mm(\n",
    "            attn_tanh, torch.Tensor.reshape(self.u_omega, [-1, 1]))\n",
    "        exps = torch.Tensor.reshape(torch.exp(attn_hidden_layer),\n",
    "                                    [-1, self.sequence_length])\n",
    "        alphas = exps / torch.Tensor.reshape(torch.sum(exps, 1), [-1, 1])\n",
    "        alphas_reshape = torch.Tensor.reshape(alphas,\n",
    "                                              [-1, self.sequence_length, 1])\n",
    "        state = lstm_output\n",
    "        attn_output = torch.sum(state * alphas_reshape, 1)\n",
    "        return attn_output\n",
    "\n",
    "    def forward(self, features, hPrevious, cPrevious, device):\n",
    "        input0, input1 = features[0], features[1]\n",
    "\n",
    "#         h0_0 = torch.zeros(self.num_layers, input0.size(0),\n",
    "#                            self.hidden_size).to(device)\n",
    "#         c0_0 = torch.zeros(self.num_layers, input0.size(0),\n",
    "#                            self.hidden_size).to(device)\n",
    "\n",
    "        out0, _ = self.lstm0(input0, (hPrevious, cPrevious))\n",
    "\n",
    "        h0_1 = torch.zeros(self.num_layers, input1.size(0),\n",
    "                           self.hidden_size).to(device)\n",
    "        c0_1 = torch.zeros(self.num_layers, input1.size(0),\n",
    "                           self.hidden_size).to(device)\n",
    "\n",
    "        out1, _ = self.lstm1(input1, (h0_1, c0_1))\n",
    "        multi_out = torch.cat((out0[:, -1, :], out1[:, -1, :]), -1)\n",
    "        out = self.fc(multi_out)\n",
    "        return out"
   ]
  },
  {
   "cell_type": "markdown",
   "metadata": {},
   "source": [
    "# Federated learning"
   ]
  },
  {
   "cell_type": "code",
   "execution_count": 7,
   "metadata": {
    "ExecuteTime": {
     "end_time": "2022-08-20T19:21:22.953346Z",
     "start_time": "2022-08-20T19:21:22.890305Z"
    }
   },
   "outputs": [],
   "source": [
    "def communication(args, server_model_1, server_model_2, models_1, models_2, client_weights, v_1, v_2, grad_1, grad_2):\n",
    "    if args.mode.lower() == 'fedbn':\n",
    "        with torch.no_grad():\n",
    "            for key in server_model_1.state_dict().keys():\n",
    "                if 'bn' not in key: #非BN層都去交換\n",
    "                    temp = torch.zeros_like(server_model_1.state_dict()[key], dtype=torch.float32)\n",
    "                    for client_idx in range(client_num):\n",
    "                        temp += client_weights[client_idx] * models_1[client_idx].state_dict()[key]\n",
    "                    server_model_1.state_dict()[key].data.copy_(temp)\n",
    "                    for client_idx in range(client_num):\n",
    "                        models_1[client_idx].state_dict()[key].data.copy_(server_model_1.state_dict()[key])\n",
    "            for key in server_model_2.state_dict().keys():\n",
    "                if 'bn' not in key: #非BN層都去交換\n",
    "                    temp = torch.zeros_like(server_model_2.state_dict()[key], dtype=torch.float32)\n",
    "                    for client_idx in range(client_num):\n",
    "                        temp += client_weights[client_idx] * models_2[client_idx].state_dict()[key]\n",
    "                    server_model_2.state_dict()[key].data.copy_(temp)\n",
    "                    for client_idx in range(client_num):\n",
    "                        models_2[client_idx].state_dict()[key].data.copy_(server_model_2.state_dict()[key])\n",
    "    \n",
    "    elif args.mode.lower() == 'fedadagrad':\n",
    "        with torch.no_grad():\n",
    "            for key, param in server_model_1.named_parameters():\n",
    "                temp = torch.zeros_like(server_model_1.state_dict()[key])\n",
    "                for client_idx in range(len(client_weights)):\n",
    "                    temp = temp + client_weights[client_idx] * models_1[client_idx].state_dict()[key]                          \n",
    "                param.grad = temp - param.data              \n",
    "                param.grad = torch.mul(grad_1[key], args.beta_1) + torch.mul(param.grad, 1-args.beta_1)\n",
    "                grad_1[key] = param.grad\n",
    "                v_1[key] = v_1[key] + param.grad**2\n",
    "                param.data = param.data + torch.mul(torch.div(param.grad, torch.add(torch.sqrt(v_1[key]),args.tau)), args.server_lr) \n",
    "\n",
    "                for client_idx in range(len(client_weights)):\n",
    "                    models_1[client_idx].state_dict()[key].data.copy_(server_model_1.state_dict()[key])                         \n",
    "            for key, param in server_model_2.named_parameters():\n",
    "                temp = torch.zeros_like(server_model_2.state_dict()[key])\n",
    "                for client_idx in range(len(client_weights)):\n",
    "                    temp = temp + client_weights[client_idx] * models_2[client_idx].state_dict()[key]                          \n",
    "                param.grad = temp - param.data              \n",
    "                param.grad = torch.mul(grad_2[key], args.beta_1) + torch.mul(param.grad, 1-args.beta_1)\n",
    "                grad_2[key] = param.grad\n",
    "                v_2[key] = v_2[key] + param.grad**2\n",
    "                param.data = param.data + torch.mul(torch.div(param.grad, torch.add(torch.sqrt(v_2[key]),args.tau)), args.server_lr) \n",
    "\n",
    "                for client_idx in range(len(client_weights)):\n",
    "                    models_2[client_idx].state_dict()[key].data.copy_(server_model_2.state_dict()[key]) \n",
    "    \n",
    "    elif args.mode.lower() == 'fedadam':\n",
    "        with torch.no_grad():\n",
    "            for key, param in server_model_1.named_parameters():\n",
    "                clip = clip_generator(norm_bound=group['norm_bound'])\n",
    "                add_noise = add_noise_generator(noise_scale=group['noise_scale'] * group['norm_bound'])\n",
    "                \n",
    "                temp = torch.zeros_like(server_model_1.state_dict()[key])\n",
    "                for client_idx in range(len(client_weights)):\n",
    "                    temp += client_weights[client_idx] * models_1[client_idx].state_dict()[key]                         \n",
    "                param.grad = temp - param.data   \n",
    "                param.grad = add_noise(clip(param.grad))\n",
    "                param.grad = torch.mul(grad_1[key], args.beta_1) + torch.mul(param.grad, 1-args.beta_1) \n",
    "                grad_1[key] = param.grad    \n",
    "                \n",
    "                #梯度裁剪\n",
    "                \n",
    "                v_1[key] = torch.mul(v_1[key], args.beta_2) + torch.mul(param.grad**2, 1-args.beta_2)\n",
    "                param.data = param.data + torch.mul(torch.div(param.grad, torch.add(torch.sqrt(v_1[key]),args.tau)), args.server_lr)\n",
    "                \n",
    "#                 big1 = torch.max(param.data)\n",
    "#                 clip_grad_norm_(param.data, max_norm = big1)\n",
    "#                 m1 = Laplace(torch.tensor([0.0]).to(device),  torch.tensor([1.0]).to(device)) # scale=sensitivity/epsilon\n",
    "#                 param.data = torch.add(param.data, m1.sample())\n",
    "                \n",
    "                for client_idx in range(len(client_weights)):\n",
    "                    models_1[client_idx].state_dict()[key].data.copy_(server_model_1.state_dict()[key])\n",
    "            for key, param in server_model_2.named_parameters():       \n",
    "                clip = clip_generator(norm_bound=group['norm_bound'])\n",
    "                add_noise = add_noise_generator(noise_scale=group['noise_scale'] * group['norm_bound'])\n",
    "                \n",
    "                temp = torch.zeros_like(server_model_2.state_dict()[key])\n",
    "                for client_idx in range(len(client_weights)):\n",
    "                    temp += client_weights[client_idx] * models_2[client_idx].state_dict()[key]                         \n",
    "                param.grad = temp - param.data   \n",
    "                param.grad = add_noise(clip(param.grad))\n",
    "                param.grad = torch.mul(grad_2[key], args.beta_1) + torch.mul(param.grad, 1-args.beta_1) \n",
    "                grad_2[key] = param.grad                \n",
    "                v_2[key] = torch.mul(v_2[key], args.beta_2) + torch.mul(param.grad**2, 1-args.beta_2)\n",
    "                param.data = param.data + torch.mul(torch.div(param.grad, torch.add(torch.sqrt(v_2[key]),args.tau)), args.server_lr)\n",
    "                \n",
    "#                 big2 = torch.max(param.data)\n",
    "#                 clip_grad_norm_(param.data, max_norm = big2)\n",
    "#                 m2 = Laplace(torch.tensor([0.0]).to(device), torch.tensor([1.0]).to(device)) # scale=sensitivity/epsilon\n",
    "#                 param.data = torch.add(param.data, m2.sample())\n",
    "                \n",
    "                for client_idx in range(len(client_weights)):\n",
    "                    models_2[client_idx].state_dict()[key].data.copy_(server_model_2.state_dict()[key])\n",
    "\n",
    "    else:\n",
    "        with torch.no_grad():\n",
    "            for key in server_model_1.state_dict().keys():#遇到BN層就直接拿第一個client參數使用\n",
    "                # num_batches_tracked is a non trainable LongTensor and\n",
    "                # num_batches_tracked are the same for all clients for the given datasets\n",
    "                if 'num_batches_tracked' in key:\n",
    "                    server_model_1.state_dict()[key].data.copy_(models_1[0].state_dict()[key])\n",
    "                else:\n",
    "                    temp = torch.zeros_like(server_model_1.state_dict()[key]).to(device)\n",
    "                    for client_idx in range(len(client_weights)):\n",
    "                        temp += client_weights[client_idx] * models_1[client_idx].state_dict()[key]                        \n",
    "                    server_model_1.state_dict()[key].data.copy_(temp)#weight傳給server\n",
    "                    for client_idx in range(len(client_weights)):\n",
    "                        models_1[client_idx].state_dict()[key].data.copy_(server_model_1.state_dict()[key])  \n",
    "            for key in server_model_2.state_dict().keys():#遇到BN層就直接拿第一個client參數使用\n",
    "                # num_batches_tracked is a non trainable LongTensor and\n",
    "                # num_batches_tracked are the same for all clients for the given datasets\n",
    "                if 'num_batches_tracked' in key:\n",
    "                    server_model_2.state_dict()[key].data.copy_(models_2[0].state_dict()[key])\n",
    "                else:\n",
    "                    temp = torch.zeros_like(server_model_2.state_dict()[key]).to(device)\n",
    "                    for client_idx in range(len(client_weights)):\n",
    "                        temp += client_weights[client_idx] * models_2[client_idx].state_dict()[key]                        \n",
    "                    server_model_2.state_dict()[key].data.copy_(temp)#weight傳給server\n",
    "                    for client_idx in range(len(client_weights)):\n",
    "                        models_2[client_idx].state_dict()[key].data.copy_(server_model_2.state_dict()[key])  \n",
    "    return server_model_1, server_model_2, models_1, models_2, v_1, v_2, grad_1, grad_2"
   ]
  },
  {
   "cell_type": "code",
   "execution_count": 8,
   "metadata": {
    "ExecuteTime": {
     "end_time": "2022-08-20T19:34:36.235105Z",
     "start_time": "2022-08-20T19:21:22.955346Z"
    }
   },
   "outputs": [
    {
     "name": "stdout",
     "output_type": "stream",
     "text": [
      "============ Train epoch 0 ============\n",
      "Client  0\n",
      "File ../data/hdfs/hdfs_train, number of sessions 971\n",
      "File ../data/hdfs/hdfs_train, number of seqs 9420\n"
     ]
    },
    {
     "name": "stderr",
     "output_type": "stream",
     "text": [
      "  7%|█████▌                                                                         | 74/1058 [00:00<00:01, 734.36it/s]"
     ]
    },
    {
     "name": "stdout",
     "output_type": "stream",
     "text": [
      "sampling...\n"
     ]
    },
    {
     "name": "stderr",
     "output_type": "stream",
     "text": [
      "100%|█████████████████████████████████████████████████████████████████████████████| 1058/1058 [00:01<00:00, 924.20it/s]\n",
      ":   0%|                                                                                         | 0/5 [00:00<?, ?it/s]"
     ]
    },
    {
     "name": "stdout",
     "output_type": "stream",
     "text": [
      "File ../data/hdfs/hdfs_test_normal, number of sessions 110673\n",
      "File ../data/hdfs/hdfs_test_normal, number of seqs 1058\n",
      "Find 9420 train logs, 1058 validation logs\n",
      "Train batch size 2048 ,Validation batch size 2048\n",
      "Starting epoch: 0 | phase: train | ⏰: 03:21:57 | Learning rate: 0.000313\n"
     ]
    },
    {
     "name": "stderr",
     "output_type": "stream",
     "text": [
      "Train loss: 3.35369: 100%|███████████████████████████████████████████████████████████████| 5/5 [00:08<00:00,  1.74s/it]\n",
      "Train loss: 3.29056: 100%|███████████████████████████████████████████████████████████████| 5/5 [00:00<00:00, 29.79it/s]\n",
      "Train loss: 3.23454:   0%|                                                                       | 0/5 [00:00<?, ?it/s]"
     ]
    },
    {
     "name": "stdout",
     "output_type": "stream",
     "text": [
      "Starting epoch: 1 | phase: train | ⏰: 03:22:05 | Learning rate: 0.000625\n",
      "Starting epoch: 2 | phase: train | ⏰: 03:22:05 | Learning rate: 0.001250\n"
     ]
    },
    {
     "name": "stderr",
     "output_type": "stream",
     "text": [
      "Train loss: 3.13047: 100%|███████████████████████████████████████████████████████████████| 5/5 [00:00<00:00, 24.51it/s]\n",
      "Train loss: 2.47023: 100%|███████████████████████████████████████████████████████████████| 5/5 [00:00<00:00, 30.17it/s]\n",
      "Train loss: 1.92775:   0%|                                                                       | 0/5 [00:00<?, ?it/s]"
     ]
    },
    {
     "name": "stdout",
     "output_type": "stream",
     "text": [
      "Starting epoch: 3 | phase: train | ⏰: 03:22:06 | Learning rate: 0.002500\n",
      "Starting epoch: 4 | phase: train | ⏰: 03:22:06 | Learning rate: 0.005000\n"
     ]
    },
    {
     "name": "stderr",
     "output_type": "stream",
     "text": [
      "Train loss: 1.86100: 100%|███████████████████████████████████████████████████████████████| 5/5 [00:00<00:00, 30.03it/s]\n",
      "Train loss: 1.74870:  60%|█████████████████████████████████████▊                         | 3/5 [00:00<00:00, 22.56it/s]"
     ]
    },
    {
     "name": "stdout",
     "output_type": "stream",
     "text": [
      "Starting epoch: 5 | phase: train | ⏰: 03:22:06 | Learning rate: 0.010000\n"
     ]
    },
    {
     "name": "stderr",
     "output_type": "stream",
     "text": [
      "Train loss: 1.72614: 100%|███████████████████████████████████████████████████████████████| 5/5 [00:00<00:00, 25.13it/s]\n",
      "Train loss: 1.51384: 100%|███████████████████████████████████████████████████████████████| 5/5 [00:00<00:00, 30.67it/s]\n",
      ":   0%|                                                                                         | 0/1 [00:00<?, ?it/s]"
     ]
    },
    {
     "name": "stdout",
     "output_type": "stream",
     "text": [
      "Starting epoch: 6 | phase: train | ⏰: 03:22:06 | Learning rate: 0.010000\n",
      "Starting epoch: 6 | phase: valid | ⏰: 03:22:06 \n"
     ]
    },
    {
     "name": "stderr",
     "output_type": "stream",
     "text": [
      ": 100%|█████████████████████████████████████████████████████████████████████████████████| 1/1 [00:00<00:00, 14.49it/s]\n",
      "Train loss: 1.30817:  60%|█████████████████████████████████████▊                         | 3/5 [00:00<00:00, 21.90it/s]"
     ]
    },
    {
     "name": "stdout",
     "output_type": "stream",
     "text": [
      "Validation loss: 1.3902984857559204\n",
      "Starting epoch: 7 | phase: train | ⏰: 03:22:06 | Learning rate: 0.010000\n"
     ]
    },
    {
     "name": "stderr",
     "output_type": "stream",
     "text": [
      "Train loss: 1.30817: 100%|███████████████████████████████████████████████████████████████| 5/5 [00:00<00:00, 25.51it/s]\n",
      "Train loss: 1.11417: 100%|███████████████████████████████████████████████████████████████| 5/5 [00:00<00:00, 29.41it/s]\n",
      ":   0%|                                                                                         | 0/1 [00:00<?, ?it/s]"
     ]
    },
    {
     "name": "stdout",
     "output_type": "stream",
     "text": [
      "Starting epoch: 8 | phase: train | ⏰: 03:22:07 | Learning rate: 0.010000\n",
      "Starting epoch: 8 | phase: valid | ⏰: 03:22:07 \n"
     ]
    },
    {
     "name": "stderr",
     "output_type": "stream",
     "text": [
      ": 100%|█████████████████████████████████████████████████████████████████████████████████| 1/1 [00:00<00:00, 66.66it/s]\n",
      "Train loss: 0.95374: 100%|███████████████████████████████████████████████████████████████| 5/5 [00:00<00:00, 29.59it/s]"
     ]
    },
    {
     "name": "stdout",
     "output_type": "stream",
     "text": [
      "Validation loss: 0.9939876198768616\n",
      "Starting epoch: 9 | phase: train | ⏰: 03:22:07 | Learning rate: 0.010000\n",
      "Client  1\n"
     ]
    },
    {
     "name": "stderr",
     "output_type": "stream",
     "text": [
      "\n"
     ]
    },
    {
     "name": "stdout",
     "output_type": "stream",
     "text": [
      "File ../data/hdfs/hdfs_train, number of sessions 971\n",
      "File ../data/hdfs/hdfs_train, number of seqs 9080\n"
     ]
    },
    {
     "name": "stderr",
     "output_type": "stream",
     "text": [
      "  8%|██████▍                                                                        | 85/1046 [00:00<00:01, 841.60it/s]"
     ]
    },
    {
     "name": "stdout",
     "output_type": "stream",
     "text": [
      "sampling...\n"
     ]
    },
    {
     "name": "stderr",
     "output_type": "stream",
     "text": [
      "100%|█████████████████████████████████████████████████████████████████████████████| 1046/1046 [00:01<00:00, 910.83it/s]\n",
      "Train loss: 3.37052:   0%|                                                                       | 0/5 [00:00<?, ?it/s]"
     ]
    },
    {
     "name": "stdout",
     "output_type": "stream",
     "text": [
      "File ../data/hdfs/hdfs_test_normal, number of sessions 110673\n",
      "File ../data/hdfs/hdfs_test_normal, number of seqs 1046\n",
      "Find 9080 train logs, 1046 validation logs\n",
      "Train batch size 2048 ,Validation batch size 2048\n",
      "Starting epoch: 0 | phase: train | ⏰: 03:22:17 | Learning rate: 0.000313\n"
     ]
    },
    {
     "name": "stderr",
     "output_type": "stream",
     "text": [
      "Train loss: 3.35317: 100%|███████████████████████████████████████████████████████████████| 5/5 [00:00<00:00, 15.58it/s]\n",
      "Train loss: 3.29007: 100%|███████████████████████████████████████████████████████████████| 5/5 [00:00<00:00, 29.59it/s]\n",
      ":   0%|                                                                                         | 0/5 [00:00<?, ?it/s]"
     ]
    },
    {
     "name": "stdout",
     "output_type": "stream",
     "text": [
      "Starting epoch: 1 | phase: train | ⏰: 03:22:18 | Learning rate: 0.000625\n",
      "Starting epoch: 2 | phase: train | ⏰: 03:22:18 | Learning rate: 0.001250\n"
     ]
    },
    {
     "name": "stderr",
     "output_type": "stream",
     "text": [
      "Train loss: 3.12807: 100%|███████████████████████████████████████████████████████████████| 5/5 [00:00<00:00, 25.00it/s]\n",
      "Train loss: 2.47182: 100%|███████████████████████████████████████████████████████████████| 5/5 [00:00<00:00, 29.76it/s]\n",
      "Train loss: 1.92491:   0%|                                                                       | 0/5 [00:00<?, ?it/s]"
     ]
    },
    {
     "name": "stdout",
     "output_type": "stream",
     "text": [
      "Starting epoch: 3 | phase: train | ⏰: 03:22:18 | Learning rate: 0.002500\n",
      "Starting epoch: 4 | phase: train | ⏰: 03:22:18 | Learning rate: 0.005000\n"
     ]
    },
    {
     "name": "stderr",
     "output_type": "stream",
     "text": [
      "Train loss: 1.84994: 100%|███████████████████████████████████████████████████████████████| 5/5 [00:00<00:00, 28.41it/s]\n",
      "Train loss: 1.70829:  40%|█████████████████████████▏                                     | 2/5 [00:00<00:00, 19.05it/s]"
     ]
    },
    {
     "name": "stdout",
     "output_type": "stream",
     "text": [
      "Starting epoch: 5 | phase: train | ⏰: 03:22:18 | Learning rate: 0.010000\n"
     ]
    },
    {
     "name": "stderr",
     "output_type": "stream",
     "text": [
      "Train loss: 1.69552: 100%|███████████████████████████████████████████████████████████████| 5/5 [00:00<00:00, 25.01it/s]\n",
      "Train loss: 1.47568: 100%|███████████████████████████████████████████████████████████████| 5/5 [00:00<00:00, 30.12it/s]\n",
      ":   0%|                                                                                         | 0/1 [00:00<?, ?it/s]"
     ]
    },
    {
     "name": "stdout",
     "output_type": "stream",
     "text": [
      "Starting epoch: 6 | phase: train | ⏰: 03:22:19 | Learning rate: 0.010000\n",
      "Starting epoch: 6 | phase: valid | ⏰: 03:22:19 \n"
     ]
    },
    {
     "name": "stderr",
     "output_type": "stream",
     "text": [
      ": 100%|█████████████████████████████████████████████████████████████████████████████████| 1/1 [00:00<00:00, 55.55it/s]\n",
      "Train loss: 1.29556:  60%|█████████████████████████████████████▊                         | 3/5 [00:00<00:00, 27.51it/s]"
     ]
    },
    {
     "name": "stdout",
     "output_type": "stream",
     "text": [
      "Validation loss: 1.321800947189331\n",
      "Starting epoch: 7 | phase: train | ⏰: 03:22:19 | Learning rate: 0.010000\n"
     ]
    },
    {
     "name": "stderr",
     "output_type": "stream",
     "text": [
      "Train loss: 1.26841: 100%|███████████████████████████████████████████████████████████████| 5/5 [00:00<00:00, 25.38it/s]\n",
      "Train loss: 1.09526: 100%|███████████████████████████████████████████████████████████████| 5/5 [00:00<00:00, 29.07it/s]\n",
      ":   0%|                                                                                         | 0/1 [00:00<?, ?it/s]"
     ]
    },
    {
     "name": "stdout",
     "output_type": "stream",
     "text": [
      "Starting epoch: 8 | phase: train | ⏰: 03:22:19 | Learning rate: 0.010000\n",
      "Starting epoch: 8 | phase: valid | ⏰: 03:22:19 \n"
     ]
    },
    {
     "name": "stderr",
     "output_type": "stream",
     "text": [
      ": 100%|█████████████████████████████████████████████████████████████████████████████████| 1/1 [00:00<00:00, 62.50it/s]\n",
      "Train loss: 0.94607: 100%|███████████████████████████████████████████████████████████████| 5/5 [00:00<00:00, 29.07it/s]\n"
     ]
    },
    {
     "name": "stdout",
     "output_type": "stream",
     "text": [
      "Validation loss: 0.9649931192398071\n",
      "Starting epoch: 9 | phase: train | ⏰: 03:22:19 | Learning rate: 0.010000\n",
      "Client  2\n",
      "File ../data/hdfs/hdfs_train, number of sessions 971\n",
      "File ../data/hdfs/hdfs_train, number of seqs 9485\n"
     ]
    },
    {
     "name": "stderr",
     "output_type": "stream",
     "text": [
      " 10%|███████▌                                                                     | 104/1051 [00:00<00:00, 1040.00it/s]"
     ]
    },
    {
     "name": "stdout",
     "output_type": "stream",
     "text": [
      "sampling...\n"
     ]
    },
    {
     "name": "stderr",
     "output_type": "stream",
     "text": [
      "100%|█████████████████████████████████████████████████████████████████████████████| 1051/1051 [00:01<00:00, 944.17it/s]\n",
      "Train loss: 3.37384:   0%|                                                                       | 0/5 [00:00<?, ?it/s]"
     ]
    },
    {
     "name": "stdout",
     "output_type": "stream",
     "text": [
      "File ../data/hdfs/hdfs_test_normal, number of sessions 110673\n",
      "File ../data/hdfs/hdfs_test_normal, number of seqs 1051\n",
      "Find 9485 train logs, 1051 validation logs\n",
      "Train batch size 2048 ,Validation batch size 2048\n",
      "Starting epoch: 0 | phase: train | ⏰: 03:22:30 | Learning rate: 0.000313\n"
     ]
    },
    {
     "name": "stderr",
     "output_type": "stream",
     "text": [
      "Train loss: 3.35451: 100%|███████████████████████████████████████████████████████████████| 5/5 [00:00<00:00, 10.93it/s]\n",
      "Train loss: 3.29169: 100%|███████████████████████████████████████████████████████████████| 5/5 [00:00<00:00, 29.41it/s]\n",
      ":   0%|                                                                                         | 0/5 [00:00<?, ?it/s]"
     ]
    },
    {
     "name": "stdout",
     "output_type": "stream",
     "text": [
      "Starting epoch: 1 | phase: train | ⏰: 03:22:31 | Learning rate: 0.000625\n",
      "Starting epoch: 2 | phase: train | ⏰: 03:22:31 | Learning rate: 0.001250\n"
     ]
    },
    {
     "name": "stderr",
     "output_type": "stream",
     "text": [
      "Train loss: 3.13208: 100%|███████████████████████████████████████████████████████████████| 5/5 [00:00<00:00, 24.27it/s]\n",
      "Train loss: 2.48117:  60%|█████████████████████████████████████▊                         | 3/5 [00:00<00:00, 24.79it/s]"
     ]
    },
    {
     "name": "stdout",
     "output_type": "stream",
     "text": [
      "Starting epoch: 3 | phase: train | ⏰: 03:22:31 | Learning rate: 0.002500\n"
     ]
    },
    {
     "name": "stderr",
     "output_type": "stream",
     "text": [
      "Train loss: 2.48117: 100%|███████████████████████████████████████████████████████████████| 5/5 [00:00<00:00, 27.03it/s]\n",
      "Train loss: 1.88500: 100%|███████████████████████████████████████████████████████████████| 5/5 [00:00<00:00, 28.90it/s]\n",
      ":   0%|                                                                                         | 0/5 [00:00<?, ?it/s]"
     ]
    },
    {
     "name": "stdout",
     "output_type": "stream",
     "text": [
      "Starting epoch: 4 | phase: train | ⏰: 03:22:31 | Learning rate: 0.005000\n",
      "Starting epoch: 5 | phase: train | ⏰: 03:22:31 | Learning rate: 0.010000\n"
     ]
    },
    {
     "name": "stderr",
     "output_type": "stream",
     "text": [
      "Train loss: 1.76870: 100%|███████████████████████████████████████████████████████████████| 5/5 [00:00<00:00, 25.25it/s]\n",
      "Train loss: 1.55534:  60%|█████████████████████████████████████▊                         | 3/5 [00:00<00:00, 25.86it/s]"
     ]
    },
    {
     "name": "stdout",
     "output_type": "stream",
     "text": [
      "Starting epoch: 6 | phase: train | ⏰: 03:22:31 | Learning rate: 0.010000\n"
     ]
    },
    {
     "name": "stderr",
     "output_type": "stream",
     "text": [
      "Train loss: 1.55534: 100%|███████████████████████████████████████████████████████████████| 5/5 [00:00<00:00, 27.93it/s]\n",
      ": 100%|█████████████████████████████████████████████████████████████████████████████████| 1/1 [00:00<00:00, 58.82it/s]\n",
      "Train loss: 1.35389:  60%|█████████████████████████████████████▊                         | 3/5 [00:00<00:00, 20.68it/s]"
     ]
    },
    {
     "name": "stdout",
     "output_type": "stream",
     "text": [
      "Starting epoch: 6 | phase: valid | ⏰: 03:22:32 \n",
      "Validation loss: 1.4107173681259155\n",
      "Starting epoch: 7 | phase: train | ⏰: 03:22:32 | Learning rate: 0.010000\n"
     ]
    },
    {
     "name": "stderr",
     "output_type": "stream",
     "text": [
      "Train loss: 1.33379: 100%|███████████████████████████████████████████████████████████████| 5/5 [00:00<00:00, 24.15it/s]\n",
      "Train loss: 1.15575: 100%|███████████████████████████████████████████████████████████████| 5/5 [00:00<00:00, 29.59it/s]\n",
      ":   0%|                                                                                         | 0/1 [00:00<?, ?it/s]"
     ]
    },
    {
     "name": "stdout",
     "output_type": "stream",
     "text": [
      "Starting epoch: 8 | phase: train | ⏰: 03:22:32 | Learning rate: 0.010000\n",
      "Starting epoch: 8 | phase: valid | ⏰: 03:22:32 \n"
     ]
    },
    {
     "name": "stderr",
     "output_type": "stream",
     "text": [
      ": 100%|█████████████████████████████████████████████████████████████████████████████████| 1/1 [00:00<00:00, 62.50it/s]\n",
      "Train loss: 0.99378: 100%|███████████████████████████████████████████████████████████████| 5/5 [00:00<00:00, 28.74it/s]\n"
     ]
    },
    {
     "name": "stdout",
     "output_type": "stream",
     "text": [
      "Validation loss: 1.056980013847351\n",
      "Starting epoch: 9 | phase: train | ⏰: 03:22:32 | Learning rate: 0.010000\n",
      "Client  3\n",
      "File ../data/hdfs/hdfs_train, number of sessions 971\n",
      "File ../data/hdfs/hdfs_train, number of seqs 9267\n"
     ]
    },
    {
     "name": "stderr",
     "output_type": "stream",
     "text": [
      " 10%|███████▎                                                                     | 101/1057 [00:00<00:00, 1010.00it/s]"
     ]
    },
    {
     "name": "stdout",
     "output_type": "stream",
     "text": [
      "sampling...\n"
     ]
    },
    {
     "name": "stderr",
     "output_type": "stream",
     "text": [
      "100%|█████████████████████████████████████████████████████████████████████████████| 1057/1057 [00:01<00:00, 931.37it/s]\n",
      "Train loss: 3.37097:   0%|                                                                       | 0/5 [00:00<?, ?it/s]"
     ]
    },
    {
     "name": "stdout",
     "output_type": "stream",
     "text": [
      "File ../data/hdfs/hdfs_test_normal, number of sessions 110673\n",
      "File ../data/hdfs/hdfs_test_normal, number of seqs 1057\n",
      "Find 9267 train logs, 1057 validation logs\n",
      "Train batch size 2048 ,Validation batch size 2048\n",
      "Starting epoch: 0 | phase: train | ⏰: 03:22:43 | Learning rate: 0.000313\n"
     ]
    },
    {
     "name": "stderr",
     "output_type": "stream",
     "text": [
      "Train loss: 3.35346: 100%|███████████████████████████████████████████████████████████████| 5/5 [00:00<00:00, 14.71it/s]\n",
      "Train loss: 3.28987:  60%|█████████████████████████████████████▊                         | 3/5 [00:00<00:00, 22.73it/s]"
     ]
    },
    {
     "name": "stdout",
     "output_type": "stream",
     "text": [
      "Starting epoch: 1 | phase: train | ⏰: 03:22:43 | Learning rate: 0.000625\n"
     ]
    },
    {
     "name": "stderr",
     "output_type": "stream",
     "text": [
      "Train loss: 3.28987: 100%|███████████████████████████████████████████████████████████████| 5/5 [00:00<00:00, 26.04it/s]\n",
      "Train loss: 3.15879:  60%|█████████████████████████████████████▊                         | 3/5 [00:00<00:00, 20.55it/s]"
     ]
    },
    {
     "name": "stdout",
     "output_type": "stream",
     "text": [
      "Starting epoch: 2 | phase: train | ⏰: 03:22:43 | Learning rate: 0.001250\n"
     ]
    },
    {
     "name": "stderr",
     "output_type": "stream",
     "text": [
      "Train loss: 3.12999: 100%|███████████████████████████████████████████████████████████████| 5/5 [00:00<00:00, 23.92it/s]\n",
      "Train loss: 2.47445: 100%|███████████████████████████████████████████████████████████████| 5/5 [00:00<00:00, 29.07it/s]\n",
      ":   0%|                                                                                         | 0/5 [00:00<?, ?it/s]"
     ]
    },
    {
     "name": "stdout",
     "output_type": "stream",
     "text": [
      "Starting epoch: 3 | phase: train | ⏰: 03:22:44 | Learning rate: 0.002500\n",
      "Starting epoch: 4 | phase: train | ⏰: 03:22:44 | Learning rate: 0.005000\n"
     ]
    },
    {
     "name": "stderr",
     "output_type": "stream",
     "text": [
      "Train loss: 1.84288: 100%|███████████████████████████████████████████████████████████████| 5/5 [00:00<00:00, 27.32it/s]\n",
      "Train loss: 1.73794:  40%|█████████████████████████▏                                     | 2/5 [00:00<00:00, 17.39it/s]"
     ]
    },
    {
     "name": "stdout",
     "output_type": "stream",
     "text": [
      "Starting epoch: 5 | phase: train | ⏰: 03:22:44 | Learning rate: 0.010000\n"
     ]
    },
    {
     "name": "stderr",
     "output_type": "stream",
     "text": [
      "Train loss: 1.71255: 100%|███████████████████████████████████████████████████████████████| 5/5 [00:00<00:00, 23.36it/s]\n",
      "Train loss: 1.48666: 100%|███████████████████████████████████████████████████████████████| 5/5 [00:00<00:00, 27.93it/s]\n",
      ":   0%|                                                                                         | 0/1 [00:00<?, ?it/s]"
     ]
    },
    {
     "name": "stdout",
     "output_type": "stream",
     "text": [
      "Starting epoch: 6 | phase: train | ⏰: 03:22:44 | Learning rate: 0.010000\n",
      "Starting epoch: 6 | phase: valid | ⏰: 03:22:44 \n"
     ]
    },
    {
     "name": "stderr",
     "output_type": "stream",
     "text": [
      ": 100%|█████████████████████████████████████████████████████████████████████████████████| 1/1 [00:00<00:00, 58.82it/s]\n",
      "Train loss: 1.26462:  60%|█████████████████████████████████████▊                         | 3/5 [00:00<00:00, 26.32it/s]"
     ]
    },
    {
     "name": "stdout",
     "output_type": "stream",
     "text": [
      "Validation loss: 1.3246301412582397\n",
      "Starting epoch: 7 | phase: train | ⏰: 03:22:44 | Learning rate: 0.010000\n"
     ]
    },
    {
     "name": "stderr",
     "output_type": "stream",
     "text": [
      "Train loss: 1.26462: 100%|███████████████████████████████████████████████████████████████| 5/5 [00:00<00:00, 24.15it/s]\n",
      "Train loss: 1.05001:  60%|█████████████████████████████████████▊                         | 3/5 [00:00<00:00, 25.21it/s]"
     ]
    },
    {
     "name": "stdout",
     "output_type": "stream",
     "text": [
      "Starting epoch: 8 | phase: train | ⏰: 03:22:45 | Learning rate: 0.010000\n"
     ]
    },
    {
     "name": "stderr",
     "output_type": "stream",
     "text": [
      "Train loss: 1.05001: 100%|███████████████████████████████████████████████████████████████| 5/5 [00:00<00:00, 27.47it/s]\n",
      ": 100%|█████████████████████████████████████████████████████████████████████████████████| 1/1 [00:00<00:00, 50.00it/s]\n",
      "Train loss: 0.96814:  60%|█████████████████████████████████████▊                         | 3/5 [00:00<00:00, 26.32it/s]"
     ]
    },
    {
     "name": "stdout",
     "output_type": "stream",
     "text": [
      "Starting epoch: 8 | phase: valid | ⏰: 03:22:45 \n",
      "Validation loss: 0.9101400971412659\n",
      "Starting epoch: 9 | phase: train | ⏰: 03:22:45 | Learning rate: 0.010000\n"
     ]
    },
    {
     "name": "stderr",
     "output_type": "stream",
     "text": [
      "Train loss: 0.96814: 100%|███████████████████████████████████████████████████████████████| 5/5 [00:00<00:00, 28.57it/s]\n"
     ]
    },
    {
     "name": "stdout",
     "output_type": "stream",
     "text": [
      "Client  4\n",
      "File ../data/hdfs/hdfs_train, number of sessions 971\n",
      "File ../data/hdfs/hdfs_train, number of seqs 9323\n"
     ]
    },
    {
     "name": "stderr",
     "output_type": "stream",
     "text": [
      " 10%|███████▌                                                                     | 103/1044 [00:00<00:00, 1019.80it/s]"
     ]
    },
    {
     "name": "stdout",
     "output_type": "stream",
     "text": [
      "sampling...\n"
     ]
    },
    {
     "name": "stderr",
     "output_type": "stream",
     "text": [
      "100%|█████████████████████████████████████████████████████████████████████████████| 1044/1044 [00:01<00:00, 896.91it/s]\n",
      ":   0%|                                                                                         | 0/5 [00:00<?, ?it/s]"
     ]
    },
    {
     "name": "stdout",
     "output_type": "stream",
     "text": [
      "File ../data/hdfs/hdfs_test_normal, number of sessions 110673\n",
      "File ../data/hdfs/hdfs_test_normal, number of seqs 1044\n",
      "Find 9323 train logs, 1044 validation logs\n",
      "Train batch size 2048 ,Validation batch size 2048\n",
      "Starting epoch: 0 | phase: train | ⏰: 03:22:55 | Learning rate: 0.000313\n"
     ]
    },
    {
     "name": "stderr",
     "output_type": "stream",
     "text": [
      "Train loss: 3.35399: 100%|███████████████████████████████████████████████████████████████| 5/5 [00:00<00:00, 10.53it/s]\n",
      "Train loss: 3.29004: 100%|███████████████████████████████████████████████████████████████| 5/5 [00:00<00:00, 29.59it/s]\n",
      ":   0%|                                                                                         | 0/5 [00:00<?, ?it/s]"
     ]
    },
    {
     "name": "stdout",
     "output_type": "stream",
     "text": [
      "Starting epoch: 1 | phase: train | ⏰: 03:22:56 | Learning rate: 0.000625\n",
      "Starting epoch: 2 | phase: train | ⏰: 03:22:56 | Learning rate: 0.001250\n"
     ]
    },
    {
     "name": "stderr",
     "output_type": "stream",
     "text": [
      "Train loss: 3.12932: 100%|███████████████████████████████████████████████████████████████| 5/5 [00:00<00:00, 24.04it/s]\n",
      "Train loss: 2.46439:  60%|█████████████████████████████████████▊                         | 3/5 [00:00<00:00, 26.09it/s]"
     ]
    },
    {
     "name": "stdout",
     "output_type": "stream",
     "text": [
      "Starting epoch: 3 | phase: train | ⏰: 03:22:56 | Learning rate: 0.002500\n"
     ]
    },
    {
     "name": "stderr",
     "output_type": "stream",
     "text": [
      "Train loss: 2.46439: 100%|███████████████████████████████████████████████████████████████| 5/5 [00:00<00:00, 28.09it/s]\n",
      "Train loss: 1.85873: 100%|███████████████████████████████████████████████████████████████| 5/5 [00:00<00:00, 28.25it/s]\n",
      "Train loss: 1.78416:   0%|                                                                       | 0/5 [00:00<?, ?it/s]"
     ]
    },
    {
     "name": "stdout",
     "output_type": "stream",
     "text": [
      "Starting epoch: 4 | phase: train | ⏰: 03:22:56 | Learning rate: 0.005000\n",
      "Starting epoch: 5 | phase: train | ⏰: 03:22:57 | Learning rate: 0.010000\n"
     ]
    },
    {
     "name": "stderr",
     "output_type": "stream",
     "text": [
      "Train loss: 1.71812: 100%|███████████████████████████████████████████████████████████████| 5/5 [00:00<00:00, 25.25it/s]\n",
      "Train loss: 1.50803: 100%|███████████████████████████████████████████████████████████████| 5/5 [00:00<00:00, 29.24it/s]\n",
      ":   0%|                                                                                         | 0/1 [00:00<?, ?it/s]"
     ]
    },
    {
     "name": "stdout",
     "output_type": "stream",
     "text": [
      "Starting epoch: 6 | phase: train | ⏰: 03:22:57 | Learning rate: 0.010000\n",
      "Starting epoch: 6 | phase: valid | ⏰: 03:22:57 \n"
     ]
    },
    {
     "name": "stderr",
     "output_type": "stream",
     "text": [
      ": 100%|█████████████████████████████████████████████████████████████████████████████████| 1/1 [00:00<00:00, 62.50it/s]\n",
      "Train loss: 1.30984:  60%|█████████████████████████████████████▊                         | 3/5 [00:00<00:00, 26.79it/s]"
     ]
    },
    {
     "name": "stdout",
     "output_type": "stream",
     "text": [
      "Validation loss: 1.354272723197937\n",
      "Starting epoch: 7 | phase: train | ⏰: 03:22:57 | Learning rate: 0.010000\n"
     ]
    },
    {
     "name": "stderr",
     "output_type": "stream",
     "text": [
      "Train loss: 1.29298: 100%|███████████████████████████████████████████████████████████████| 5/5 [00:00<00:00, 24.88it/s]\n",
      "Train loss: 1.10301: 100%|███████████████████████████████████████████████████████████████| 5/5 [00:00<00:00, 28.74it/s]\n",
      ":   0%|                                                                                         | 0/1 [00:00<?, ?it/s]"
     ]
    },
    {
     "name": "stdout",
     "output_type": "stream",
     "text": [
      "Starting epoch: 8 | phase: train | ⏰: 03:22:57 | Learning rate: 0.010000\n",
      "Starting epoch: 8 | phase: valid | ⏰: 03:22:57 \n"
     ]
    },
    {
     "name": "stderr",
     "output_type": "stream",
     "text": [
      ": 100%|█████████████████████████████████████████████████████████████████████████████████| 1/1 [00:00<00:00, 62.50it/s]\n",
      "Train loss: 0.94413:  60%|█████████████████████████████████████▊                         | 3/5 [00:00<00:00, 23.81it/s]"
     ]
    },
    {
     "name": "stdout",
     "output_type": "stream",
     "text": [
      "Validation loss: 0.9622112512588501\n",
      "Starting epoch: 9 | phase: train | ⏰: 03:22:57 | Learning rate: 0.010000\n"
     ]
    },
    {
     "name": "stderr",
     "output_type": "stream",
     "text": [
      "Train loss: 0.94413: 100%|███████████████████████████████████████████████████████████████| 5/5 [00:00<00:00, 25.64it/s]\n"
     ]
    },
    {
     "name": "stdout",
     "output_type": "stream",
     "text": [
      "============ Test epoch 0 ============\n",
      "Client  0\n"
     ]
    },
    {
     "name": "stderr",
     "output_type": "stream",
     "text": [
      "\r",
      "  0%|                                                                                         | 0/5813 [00:00<?, ?it/s]"
     ]
    },
    {
     "name": "stdout",
     "output_type": "stream",
     "text": [
      "Number of sessions(hdfs_test_normal): 5813\n",
      "Number of sessions(hdfs_test_abnormal): 1136\n"
     ]
    },
    {
     "name": "stderr",
     "output_type": "stream",
     "text": [
      "100%|██████████████████████████████████████████████████████████████████████████████| 5813/5813 [02:08<00:00, 45.40it/s]\n",
      "100%|██████████████████████████████████████████████████████████████████████████████| 1136/1136 [00:13<00:00, 83.11it/s]\n"
     ]
    },
    {
     "name": "stdout",
     "output_type": "stream",
     "text": [
      "false positive (FP): 490, false negative (FN): 24, Precision: 87.216%, Recall: 99.287%, F1-measure: 92.861%\n",
      "actual positive (TP+FN): 3367, actual negative (FP+TN): 110673\n",
      "accuracy: 99.549\n",
      "Finished Predicting\n",
      "elapsed_time: 141.70759177207947\n",
      "Client  1\n"
     ]
    },
    {
     "name": "stderr",
     "output_type": "stream",
     "text": [
      "  0%|                                                                                 | 8/5574 [00:00<01:16, 72.73it/s]"
     ]
    },
    {
     "name": "stdout",
     "output_type": "stream",
     "text": [
      "Number of sessions(hdfs_test_normal): 5574\n",
      "Number of sessions(hdfs_test_abnormal): 1139\n"
     ]
    },
    {
     "name": "stderr",
     "output_type": "stream",
     "text": [
      "100%|██████████████████████████████████████████████████████████████████████████████| 5574/5574 [02:01<00:00, 46.02it/s]\n",
      "100%|██████████████████████████████████████████████████████████████████████████████| 1139/1139 [00:14<00:00, 79.21it/s]\n"
     ]
    },
    {
     "name": "stdout",
     "output_type": "stream",
     "text": [
      "false positive (FP): 528, false negative (FN): 25, Precision: 86.357%, Recall: 99.257%, F1-measure: 92.359%\n",
      "actual positive (TP+FN): 3367, actual negative (FP+TN): 110673\n",
      "accuracy: 99.515\n",
      "Finished Predicting\n",
      "elapsed_time: 135.49342226982117\n",
      "Client  2\n"
     ]
    },
    {
     "name": "stderr",
     "output_type": "stream",
     "text": [
      "  0%|                                                                                 | 8/5730 [00:00<01:20, 71.43it/s]"
     ]
    },
    {
     "name": "stdout",
     "output_type": "stream",
     "text": [
      "Number of sessions(hdfs_test_normal): 5730\n",
      "Number of sessions(hdfs_test_abnormal): 1118\n"
     ]
    },
    {
     "name": "stderr",
     "output_type": "stream",
     "text": [
      "100%|██████████████████████████████████████████████████████████████████████████████| 5730/5730 [02:05<00:00, 45.51it/s]\n",
      "100%|██████████████████████████████████████████████████████████████████████████████| 1118/1118 [00:14<00:00, 79.35it/s]\n"
     ]
    },
    {
     "name": "stdout",
     "output_type": "stream",
     "text": [
      "false positive (FP): 468, false negative (FN): 30, Precision: 87.700%, Recall: 99.109%, F1-measure: 93.056%\n",
      "actual positive (TP+FN): 3367, actual negative (FP+TN): 110673\n",
      "accuracy: 99.563\n",
      "Finished Predicting\n",
      "elapsed_time: 139.99337553977966\n",
      "Client  3\n"
     ]
    },
    {
     "name": "stderr",
     "output_type": "stream",
     "text": [
      "  0%|                                                                                 | 7/5747 [00:00<01:30, 63.64it/s]"
     ]
    },
    {
     "name": "stdout",
     "output_type": "stream",
     "text": [
      "Number of sessions(hdfs_test_normal): 5747\n",
      "Number of sessions(hdfs_test_abnormal): 1159\n"
     ]
    },
    {
     "name": "stderr",
     "output_type": "stream",
     "text": [
      "100%|██████████████████████████████████████████████████████████████████████████████| 5747/5747 [02:06<00:00, 45.56it/s]\n",
      "100%|██████████████████████████████████████████████████████████████████████████████| 1159/1159 [00:14<00:00, 78.29it/s]\n"
     ]
    },
    {
     "name": "stdout",
     "output_type": "stream",
     "text": [
      "false positive (FP): 451, false negative (FN): 28, Precision: 88.100%, Recall: 99.168%, F1-measure: 93.307%\n",
      "actual positive (TP+FN): 3367, actual negative (FP+TN): 110673\n",
      "accuracy: 99.580\n",
      "Finished Predicting\n",
      "elapsed_time: 140.95066118240356\n",
      "Client  4\n"
     ]
    },
    {
     "name": "stderr",
     "output_type": "stream",
     "text": [
      "  0%|                                                                                 | 7/5623 [00:00<01:22, 67.96it/s]"
     ]
    },
    {
     "name": "stdout",
     "output_type": "stream",
     "text": [
      "Number of sessions(hdfs_test_normal): 5623\n",
      "Number of sessions(hdfs_test_abnormal): 1121\n"
     ]
    },
    {
     "name": "stderr",
     "output_type": "stream",
     "text": [
      "100%|██████████████████████████████████████████████████████████████████████████████| 5623/5623 [02:01<00:00, 46.11it/s]\n",
      "100%|██████████████████████████████████████████████████████████████████████████████| 1121/1121 [00:14<00:00, 79.19it/s]"
     ]
    },
    {
     "name": "stdout",
     "output_type": "stream",
     "text": [
      "false positive (FP): 525, false negative (FN): 32, Precision: 86.399%, Recall: 99.050%, F1-measure: 92.293%\n",
      "actual positive (TP+FN): 3367, actual negative (FP+TN): 110673\n",
      "accuracy: 99.512\n",
      "Finished Predicting\n",
      "elapsed_time: 136.11405873298645\n"
     ]
    },
    {
     "name": "stderr",
     "output_type": "stream",
     "text": [
      "\n"
     ]
    }
   ],
   "source": [
    "# # setup model\n",
    "server_model_1 = loganomaly_1st(input_size=options['input_size'],\n",
    "                    hidden_size=options['hidden_size'],\n",
    "                    num_layers=options['num_layers'],\n",
    "                    num_keys=options['num_classes']).to(device)\n",
    "server_model_2 = loganomaly_2nd(input_size=options['input_size'],\n",
    "                    hidden_size=options['hidden_size'],\n",
    "                    num_layers=options['num_layers'],\n",
    "                    num_keys=options['num_classes']).to(device)\n",
    "# for adaptive velocity\n",
    "v_1 = {}\n",
    "grad_1 = {}\n",
    "v_2 = {}\n",
    "grad_2 = {}\n",
    "\n",
    "for key in server_model_1.state_dict().keys():\n",
    "    v_1[key] = torch.add(torch.zeros_like(server_model_1.state_dict()[key],dtype=torch.float32),args.tau**2)\n",
    "    grad_1[key] = torch.zeros_like(server_model_1.state_dict()[key],dtype=torch.float32)\n",
    "for key in server_model_2.state_dict().keys():\n",
    "    v_2[key] = torch.add(torch.zeros_like(server_model_2.state_dict()[key],dtype=torch.float32),args.tau**2)\n",
    "    grad_2[key] = torch.zeros_like(server_model_2.state_dict()[key],dtype=torch.float32)\n",
    "    \n",
    "# name of each datasets\n",
    "datasets = ['Client'+str(i) for i in range(args.client_num)]\n",
    "# federated client number\n",
    "client_num = len(datasets)\n",
    "client_weights = [1/client_num for i in range(client_num)]\n",
    "# each local client model\n",
    "models_1 = [copy.deepcopy(server_model_1).to(device) for idx in range(client_num)]\n",
    "models_2 = [copy.deepcopy(server_model_2).to(device) for idx in range(client_num)]\n",
    "\n",
    "start_iter = 0\n",
    "\n",
    "# lloogg_1 = {'train':{'epoch':[], 'lr':[], 'time':[], 'loss':[]}, \n",
    "#           'val':{'epoch':[], 'lr':[], 'time':[], 'loss':[]}}\n",
    "# lloogg_2 = {'train':{'epoch':[], 'lr':[], 'time':[], 'loss':[]}, \n",
    "#           'val':{'epoch':[], 'lr':[], 'time':[], 'loss':[]}}\n",
    "# lloogg_3 = {'train':{'epoch':[], 'lr':[], 'time':[], 'loss':[]}, \n",
    "#           'val':{'epoch':[], 'lr':[], 'time':[], 'loss':[]}}\n",
    "# lloogg_4 = {'train':{'epoch':[], 'lr':[], 'time':[], 'loss':[]}, \n",
    "#           'val':{'epoch':[], 'lr':[], 'time':[], 'loss':[]}}\n",
    "# lloogg_5 = {'train':{'epoch':[], 'lr':[], 'time':[], 'loss':[]}, \n",
    "#           'val':{'epoch':[], 'lr':[], 'time':[], 'loss':[]}}\n",
    "for i in range(args.client_num):\n",
    "    exec('lloogg_'+str(i+1)+ \" = {'train':{'epoch':[], 'lr':[], 'time':[], 'loss':[]},'val':{'epoch':[], 'lr':[], 'time':[], 'loss':[]}}\")\n",
    "\n",
    "result_recall = {}\n",
    "result_precision = {}\n",
    "result_f1 = {}\n",
    "result_acc = {}\n",
    "for i in range(client_num):\n",
    "    result_recall[i] = []\n",
    "    result_precision[i] = []\n",
    "    result_f1[i] = []\n",
    "    result_acc[i] = []\n",
    "\n",
    "# Start training\n",
    "for a_iter in range(start_iter, args.iters):\n",
    "#     optimizers = [optim.SGD(params = models[idx].parameters(), lr=args.lr, momentum = args.client_momentum) for idx in range(client_num)]\n",
    "    for wi in range(args.wk_iters):\n",
    "        print(\"============ Train epoch {} ============\".format(wi + a_iter * args.wk_iters))\n",
    "        for client_idx in range(args.client_num):\n",
    "            print('Client ', client_idx)\n",
    "            trainer = Trainer(models_1[client_idx], models_2[client_idx], options, args.client_num, client_idx)\n",
    "            trainer.start_train()\n",
    "            \n",
    "            exec('lloogg_'+str(client_idx+1)+\"['train']['epoch'].append(a_iter)\")\n",
    "            exec('lloogg_'+str(client_idx+1)+\"['train']['lr'].append(trainer.log['train']['lr'][-1])\")\n",
    "            exec('lloogg_'+str(client_idx+1)+\"['train']['time'].append(trainer.log['train']['time'][-1])\")\n",
    "            exec('lloogg_'+str(client_idx+1)+\"['train']['loss'].append(trainer.log['train']['loss'][-1])\")\n",
    "            exec('lloogg_'+str(client_idx+1)+\"['val']['epoch'].append(a_iter)\")\n",
    "            exec('lloogg_'+str(client_idx+1)+\"['val']['lr'].append(trainer.log['valid']['lr'][-1])\")\n",
    "            exec('lloogg_'+str(client_idx+1)+\"['val']['time'].append(trainer.log['valid']['time'][-1])\")\n",
    "            exec('lloogg_'+str(client_idx+1)+\"['val']['loss'].append(trainer.log['valid']['loss'][-1])\")\n",
    "\n",
    "    with torch.no_grad():\n",
    "        # aggregation\n",
    "        server_model_1, server_model_2, models_1, models_2, v_1, v_2, grad_1, grad_2 = communication(args, server_model_1, server_model_2, models_1, models_2, client_weights, v_1, v_2, grad_1, grad_2 )\n",
    "        # Report loss after aggregation\n",
    "        print(\"============ Test epoch {} ============\".format(wi + a_iter * args.wk_iters))\n",
    "\n",
    "        for client_idx in range(args.client_num):\n",
    "            print('Client ', client_idx)\n",
    "            predicter = Predicter(models_1[client_idx], models_2[client_idx], options, args.client_num, client_idx)\n",
    "            predicter.predict_unsupervised()\n",
    "            \n",
    "            result_recall[client_idx].append(predicter.recall)\n",
    "            result_precision[client_idx].append(predicter.precision)\n",
    "            result_f1[client_idx].append(predicter.f1)\n",
    "            result_acc[client_idx].append(predicter.acc)"
   ]
  },
  {
   "cell_type": "code",
   "execution_count": 9,
   "metadata": {
    "ExecuteTime": {
     "end_time": "2022-08-20T19:40:54.957889Z",
     "start_time": "2022-08-20T19:34:36.236105Z"
    }
   },
   "outputs": [
    {
     "name": "stderr",
     "output_type": "stream",
     "text": [
      "  0%|                                                                                | 5/14177 [00:00<06:02, 39.06it/s]"
     ]
    },
    {
     "name": "stdout",
     "output_type": "stream",
     "text": [
      "Number of sessions(hdfs_test_normal): 14177\n",
      "Number of sessions(hdfs_test_abnormal): 4123\n"
     ]
    },
    {
     "name": "stderr",
     "output_type": "stream",
     "text": [
      "100%|████████████████████████████████████████████████████████████████████████████| 14177/14177 [05:23<00:00, 43.80it/s]\n",
      "100%|██████████████████████████████████████████████████████████████████████████████| 4123/4123 [00:52<00:00, 78.14it/s]"
     ]
    },
    {
     "name": "stdout",
     "output_type": "stream",
     "text": [
      "false positive (FP): 2462, false negative (FN): 139, Precision: 87.151%, Recall: 99.174%, F1-measure: 92.775%\n",
      "actual positive (TP+FN): 16838, actual negative (FP+TN): 553366\n",
      "accuracy: 99.544\n",
      "Finished Predicting\n",
      "elapsed_time: 376.4436283111572\n"
     ]
    },
    {
     "name": "stderr",
     "output_type": "stream",
     "text": [
      "\n"
     ]
    }
   ],
   "source": [
    "predicter_s = Predicter(server_model_1, server_model_2, options, 1, 0)\n",
    "predicter_s.predict_unsupervised()"
   ]
  },
  {
   "cell_type": "code",
   "execution_count": 10,
   "metadata": {
    "ExecuteTime": {
     "end_time": "2022-08-20T19:40:57.520544Z",
     "start_time": "2022-08-20T19:40:54.958891Z"
    }
   },
   "outputs": [],
   "source": [
    "for i in range(args.client_num):\n",
    "    exec('''for key, values in lloogg_''' + str(i+1) + '''.items():\n",
    "        pd.DataFrame(values).to_csv('../result/1e/la/fedadam_10e_12_0.03/client_'''+str(i+1)+'''_' + key + '_log.csv', index=False)''')\n",
    "    del key \n",
    "    del values"
   ]
  },
  {
   "cell_type": "code",
   "execution_count": 11,
   "metadata": {
    "ExecuteTime": {
     "end_time": "2022-08-20T19:40:57.597827Z",
     "start_time": "2022-08-20T19:40:57.520544Z"
    }
   },
   "outputs": [],
   "source": [
    "(pd.DataFrame.from_dict(data=result_recall, orient='index').to_csv('../result/1e/la/fedadam_10e_12_0.03/recall.csv', header=False))\n",
    "(pd.DataFrame.from_dict(data=result_precision, orient='index').to_csv('../result/1e/la/fedadam_10e_12_0.03/precision.csv', header=False))\n",
    "(pd.DataFrame.from_dict(data=result_f1, orient='index').to_csv('../result/1e/la/fedadam_10e_12_0.03/f1.csv', header=False))\n",
    "(pd.DataFrame.from_dict(data=result_acc, orient='index').to_csv('../result/1e/la/fedadam_10e_12_0.03/acc.csv', header=False))"
   ]
  },
  {
   "cell_type": "code",
   "execution_count": 12,
   "metadata": {
    "ExecuteTime": {
     "end_time": "2022-08-20T19:40:59.152173Z",
     "start_time": "2022-08-20T19:40:57.598827Z"
    }
   },
   "outputs": [
    {
     "data": {
      "image/png": "[encoded data removed]",
      "text/plain": [
       "<Figure size 432x288 with 1 Axes>"
      ]
     },
     "metadata": {
      "needs_background": "light"
     },
     "output_type": "display_data"
    },
    {
     "data": {
      "image/png": "[encoded data removed]",
      "text/plain": [
       "<Figure size 432x288 with 1 Axes>"
      ]
     },
     "metadata": {
      "needs_background": "light"
     },
     "output_type": "display_data"
    },
    {
     "data": {
      "image/png": "[encoded data removed]",
      "text/plain": [
       "<Figure size 432x288 with 1 Axes>"
      ]
     },
     "metadata": {
      "needs_background": "light"
     },
     "output_type": "display_data"
    },
    {
     "data": {
      "image/png": "[encoded data removed]",
      "text/plain": [
       "<Figure size 432x288 with 1 Axes>"
      ]
     },
     "metadata": {
      "needs_background": "light"
     },
     "output_type": "display_data"
    },
    {
     "data": {
      "image/png": "[encoded data removed]",
      "text/plain": [
       "<Figure size 432x288 with 1 Axes>"
      ]
     },
     "metadata": {
      "needs_background": "light"
     },
     "output_type": "display_data"
    }
   ],
   "source": [
    "# plot train and validation loss\n",
    "for i in range(args.client_num):\n",
    "    exec(\"plt.plot(lloogg_\"+str(i+1) + \"['train']['epoch'], lloogg_\"+str(i+1)+\"['train']['loss'])\")\n",
    "    exec(\"plt.plot(lloogg_\"+str(i+1) + \"['val']['epoch'], lloogg_\"+str(i+1) + \"['val']['loss'])\")\n",
    "    exec(\"plt.title('model train vs validation loss')\")\n",
    "    exec(\"plt.ylabel('loss')\")\n",
    "    exec(\"plt.xlabel('epoch')\")\n",
    "    exec(\"plt.legend(['train', 'validation'], loc='upper right')\")\n",
    "    exec(\"plt.show()\")"
   ]
  },
  {
   "cell_type": "code",
   "execution_count": 13,
   "metadata": {
    "ExecuteTime": {
     "end_time": "2022-08-20T19:40:59.216174Z",
     "start_time": "2022-08-20T19:40:59.152173Z"
    },
    "code_folding": []
   },
   "outputs": [
    {
     "data": {
      "image/png": "[encoded data removed]",
      "text/plain": [
       "<Figure size 432x288 with 1 Axes>"
      ]
     },
     "metadata": {
      "needs_background": "light"
     },
     "output_type": "display_data"
    }
   ],
   "source": [
    "t = []\n",
    "for i in range(args.client_num):\n",
    "    exec(\"plt.plot(lloogg_\"+str(i+1) + \"['train']['epoch'], lloogg_\"+str(i+1)+\"['train']['loss'])\")\n",
    "    t.append(str(i+1))\n",
    "plt.title('Train loss')\n",
    "plt.ylabel('loss')\n",
    "plt.xlabel('epoch')\n",
    "plt.legend(t, loc='upper right')\n",
    "plt.show()"
   ]
  },
  {
   "cell_type": "code",
   "execution_count": 14,
   "metadata": {
    "ExecuteTime": {
     "end_time": "2022-08-20T19:40:59.296089Z",
     "start_time": "2022-08-20T19:40:59.216174Z"
    }
   },
   "outputs": [
    {
     "data": {
      "image/png": "[encoded data removed]",
      "text/plain": [
       "<Figure size 432x288 with 1 Axes>"
      ]
     },
     "metadata": {
      "needs_background": "light"
     },
     "output_type": "display_data"
    }
   ],
   "source": [
    "t = []\n",
    "for i in range(args.client_num):\n",
    "    exec(\"plt.plot(lloogg_\"+str(i+1) + \"['val']['epoch'], lloogg_\"+str(i+1)+\"['val']['loss'])\")\n",
    "    t.append(str(i+1))\n",
    "plt.title('Validation loss')\n",
    "plt.ylabel('loss')\n",
    "plt.xlabel('epoch')\n",
    "plt.legend(t, loc='upper right')\n",
    "plt.show()"
   ]
  },
  {
   "cell_type": "code",
   "execution_count": 15,
   "metadata": {
    "ExecuteTime": {
     "end_time": "2022-08-20T19:40:59.310906Z",
     "start_time": "2022-08-20T19:40:59.297089Z"
    }
   },
   "outputs": [],
   "source": [
    "result_record_f1 = pd.DataFrame.from_dict(data=result_f1, orient='index')\n",
    "result_record_f1 = np.mean(np.array(result_record_f1), axis = 0)\n",
    "result_record_f1 = result_record_f1.reshape(-1)\n",
    "\n",
    "result_record_acc = pd.DataFrame.from_dict(data=result_acc, orient='index')\n",
    "result_record_acc = np.mean(np.array(result_record_acc), axis = 0)\n",
    "result_record_acc = result_record_acc.reshape(-1)"
   ]
  },
  {
   "cell_type": "code",
   "execution_count": 16,
   "metadata": {
    "ExecuteTime": {
     "end_time": "2022-08-20T19:40:59.466135Z",
     "start_time": "2022-08-20T19:40:59.310906Z"
    }
   },
   "outputs": [
    {
     "data": {
      "image/png": "[encoded data removed]",
      "text/plain": [
       "<Figure size 432x288 with 1 Axes>"
      ]
     },
     "metadata": {
      "needs_background": "light"
     },
     "output_type": "display_data"
    }
   ],
   "source": [
    "for i in range(client_num):\n",
    "    plt.plot(np.arange(args.iters), result_acc[i], label = 'Client '+ str(i+1))\n",
    "plt.legend()\n",
    "plt.show()"
   ]
  },
  {
   "cell_type": "code",
   "execution_count": 17,
   "metadata": {
    "ExecuteTime": {
     "end_time": "2022-08-20T19:40:59.528138Z",
     "start_time": "2022-08-20T19:40:59.467139Z"
    }
   },
   "outputs": [
    {
     "data": {
      "image/png": "[encoded data removed]",
      "text/plain": [
       "<Figure size 432x288 with 1 Axes>"
      ]
     },
     "metadata": {
      "needs_background": "light"
     },
     "output_type": "display_data"
    }
   ],
   "source": [
    "for i in range(client_num):\n",
    "    plt.plot(np.arange(args.iters), result_f1[i], label =  'Client '+ str(i+1))\n",
    "plt.legend()\n",
    "plt.show()"
   ]
  },
  {
   "cell_type": "code",
   "execution_count": null,
   "metadata": {},
   "outputs": [],
   "source": []
  }
 ],
 "metadata": {
  "kernelspec": {
   "display_name": "Python 3",
   "language": "python",
   "name": "python3"
  },
  "language_info": {
   "codemirror_mode": {
    "name": "ipython",
    "version": 3
   },
   "file_extension": ".py",
   "mimetype": "text/x-python",
   "name": "python",
   "nbconvert_exporter": "python",
   "pygments_lexer": "ipython3",
   "version": "3.8.8"
  }
 },
 "nbformat": 4,
 "nbformat_minor": 4
}
