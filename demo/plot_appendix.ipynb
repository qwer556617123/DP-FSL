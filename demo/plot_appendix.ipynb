{
 "cells": [
  {
   "cell_type": "code",
   "execution_count": 4,
   "id": "d0fb0d8f",
   "metadata": {
    "ExecuteTime": {
     "end_time": "2022-08-14T18:48:27.029197Z",
     "start_time": "2022-08-14T18:48:27.021194Z"
    }
   },
   "outputs": [],
   "source": [
    "import pandas as pd\n",
    "import numpy as np\n",
    "import matplotlib.pyplot as plt\n",
    "from scipy.interpolate import interp1d\n",
    "from statsmodels.tsa.holtwinters import ExponentialSmoothing, SimpleExpSmoothing, Holt\n",
    "from brokenaxes import brokenaxes\n",
    "#直方圖與摺線圖需要深思熟慮一下"
   ]
  },
  {
   "cell_type": "code",
   "execution_count": 2,
   "id": "edf78cca",
   "metadata": {
    "ExecuteTime": {
     "end_time": "2022-08-10T20:37:39.397943Z",
     "start_time": "2022-08-10T20:37:39.389508Z"
    }
   },
   "outputs": [],
   "source": [
    "# import matplotlib as mpl\n",
    "\n",
    "# mpl.rcParams['axes.labelsize'] = 10\n",
    "# mpl.rcParams['xtick.labelsize'] = 10\n",
    "# mpl.rcParams['ytick.labelsize'] = 10\n",
    "# mpl.rcParams['legend.fontsize'] = 10\n",
    "# mpl.rcParams['font.family'] = ['sans-serif']\n",
    "# mpl.rcParams['font.sans-serif'] = ['Arial']\n",
    "# mpl.rcParams['text.usetex'] = False\n",
    "# mpl.rcParams['svg.fonttype'] = 'none'"
   ]
  },
  {
   "cell_type": "code",
   "execution_count": 3,
   "id": "a031e066",
   "metadata": {
    "ExecuteTime": {
     "end_time": "2022-08-14T18:48:25.106786Z",
     "start_time": "2022-08-14T18:48:25.096977Z"
    }
   },
   "outputs": [],
   "source": [
    "want_data = '_val' # _train, _val\n",
    "use_smooth = True\n",
    "save_fig = False\n",
    "\n",
    "show_label_start = 0\n",
    "show_label_end = 50\n",
    "\n",
    "def lbound(x):\n",
    "    a = []\n",
    "    for i in x:\n",
    "        a.append(max(0.0,i))\n",
    "    return a\n",
    "def hbound(x):\n",
    "    a = []\n",
    "    for i in x:\n",
    "        a.append(min(1.0,i))\n",
    "    return a"
   ]
  },
  {
   "cell_type": "code",
   "execution_count": 3,
   "id": "f3b8dc44",
   "metadata": {
    "ExecuteTime": {
     "end_time": "2022-07-28T05:13:51.921962Z",
     "start_time": "2022-07-28T05:13:51.907962Z"
    }
   },
   "outputs": [],
   "source": [
    "#2\n",
    "if 'train' in want_data:\n",
    "    baseline_dl = [3.293517827987671, 3.2150814056396486, 3.0138514041900635, 2.399050998687744, 1.8864464521408082, 1.8064842224121094, 1.7463931560516357, 1.6381738424301147, 1.4969715356826783, 1.3957726240158081, 1.298223328590393, 1.2042699575424194, 1.1134011030197144, 1.0262481451034546, 0.9534106016159057, 0.8913405776023865, 0.8298004388809204, 0.7795039176940918, 0.7452423930168152, 0.7183407664299011, 0.6882552027702331, 0.6635205864906311, 0.6544955492019653, 0.6354733109474182, 0.6234924674034119, 0.6254611372947693, 0.5957239031791687, 0.5882133722305298, 0.5702546954154968, 0.5598153114318848, 0.5454111933708191, 0.529938280582428, 0.5242432117462158, 0.5127673923969269, 0.5027211248874665, 0.5021922767162323, 0.5014163434505463, 0.48809821009635923, 0.48127795457839967, 0.4762150526046753, 0.46903948187828065, 0.45966736078262327, 0.4566409945487976, 0.4542220115661621, 0.44897828698158265, 0.43747310638427733, 0.4327620446681976, 0.41990514397621154, 0.4127758741378784, 0.41898673176765444]\n",
    "    baseline_la = [3.2956568241119384, 3.212844705581665, 2.989592456817627, 2.239936947822571, 1.842091727256775, 1.7881028175354003, 1.634268832206726, 1.4559947729110718, 1.2969346046447754, 1.1557517051696777, 1.033458685874939, 0.9201012492179871, 0.833273184299469, 0.7750367760658264, 0.7287617802619935, 0.6902573823928833, 0.6611653089523315, 0.6263390302658081, 0.6055751800537109, 0.5863915324211121, 0.5730818748474121, 0.5526156902313233, 0.5392368793487549, 0.5263244867324829, 0.5164699256420135, 0.5045653522014618, 0.4972917020320892, 0.48681469559669494, 0.47102333307266236, 0.45419833064079285, 0.44474116563796995, 0.4300481677055359, 0.42491058111190794, 0.42480423450469973, 0.4298857688903809, 0.5005337774753571, 0.48475934863090514, 0.4255207061767578, 0.40199772715568544, 0.38063888549804686, 0.37821999192237854, 0.3693679869174957, 0.36293198466300963, 0.35757759809494016, 0.3520787239074707, 0.34620662331581115, 0.3432953655719757, 0.3420872211456299, 0.3375009119510651, 0.3358263850212097]\n",
    "else: \n",
    "    baseline_dl = [3.2620506286621094, 3.144662857055664, 2.782257080078125, 2.0153934955596924, 1.8582189083099365, 1.7943456172943115, 1.7066031694412231, 1.55084228515625, 1.435892939567566, 1.3395229578018188, 1.2488529682159424, 1.1580077409744263, 1.0650396347045898, 0.9851482510566711, 0.9119371175765991, 0.8649606108665466, 0.8106685280799866, 0.7673366665840149, 0.7452459931373596, 0.7109582424163818, 0.686971127986908, 0.6797603964805603, 0.6487559676170349, 0.6425890326499939, 0.6648390889167786, 0.6170950531959534, 0.5934494137763977, 0.5853225588798523, 0.5734785795211792, 0.5568828582763672, 0.548161506652832, 0.535370945930481, 0.5235083699226379, 0.5140827894210815, 0.5097945332527161, 0.5075446367263794, 0.4940940737724304, 0.48243388533592224, 0.4807884991168976, 0.47951650619506836, 0.467181921005249, 0.45892569422721863, 0.4757235050201416, 0.44853857159614563, 0.43966811895370483, 0.43900665640830994, 0.4271604120731354, 0.4178186058998108, 0.4128786623477936, 0.43365657329559326]\n",
    "    baseline_la = [3.2619190216064453, 3.135776996612549, 2.720820188522339, 1.896746039390564, 1.8113112449645996, 1.728922963142395, 1.5371465682983398, 1.3493694067001343, 1.1971272230148315, 1.0688691139221191, 0.9538275599479675, 0.8716318607330322, 0.8060386776924133, 0.7655373811721802, 0.7096623778343201, 0.6890769004821777, 0.6497524976730347, 0.6388217806816101, 0.616982102394104, 0.5950242877006531, 0.5755366683006287, 0.5584285259246826, 0.5484035015106201, 0.5401149988174438, 0.5228549838066101, 0.5105476379394531, 0.5059248805046082, 0.48306596279144287, 0.46855321526527405, 0.45611098408699036, 0.4376738667488098, 0.4314817786216736, 0.42419737577438354, 0.41419872641563416, 0.5395247340202332, 0.5512279868125916, 0.44640469551086426, 0.4363543689250946, 0.39609745144844055, 0.37791427969932556, 0.38822510838508606, 0.36967235803604126, 0.3765992224216461, 0.3590397834777832, 0.35893502831459045, 0.35449281334877014, 0.3484821617603302, 0.3473212420940399, 0.3464658558368683, 0.3485149145126343]"
   ]
  },
  {
   "cell_type": "markdown",
   "id": "645bb6bf",
   "metadata": {},
   "source": [
    "## 做FL在不同epoch的比較"
   ]
  },
  {
   "cell_type": "code",
   "execution_count": 65,
   "id": "fccaad79",
   "metadata": {
    "ExecuteTime": {
     "end_time": "2022-08-11T19:00:38.237713Z",
     "start_time": "2022-08-11T19:00:38.014511Z"
    }
   },
   "outputs": [],
   "source": [
    "# deeplog 1 epochs\n",
    "log_algo = 'deeplog'\n",
    "fl_algo = 'fedadam_21'\n",
    "\n",
    "dl_12_adam_loss = np.zeros(shape=(50))\n",
    "\n",
    "for i in range(1,6):\n",
    "    string = '../result/' + log_algo +  '/' + fl_algo + '/client_' + str(i) + want_data +'_log.csv'\n",
    "    df = pd.read_csv(string)\n",
    "    dl_12_adam_loss = np.sum([dl_12_adam_loss, df['loss']], axis = 0)\n",
    "    del df\n",
    "    \n",
    "dl_12_adam_loss = dl_12_adam_loss/5\n",
    "\n",
    "# deeplog 10 epochs\n",
    "log_algo = 'deeplog'\n",
    "fl_algo = 'fedadam_10e_12'\n",
    "\n",
    "dl_102_adam_loss = np.zeros(shape=(50))\n",
    "\n",
    "for i in range(1,6):\n",
    "    string = '../result/' + log_algo +  '/' + fl_algo + '/client_' + str(i) + want_data +'_log.csv'\n",
    "    df = pd.read_csv(string)\n",
    "    dl_102_adam_loss = np.sum([dl_102_adam_loss, df['loss']], axis = 0)\n",
    "    del df\n",
    "    \n",
    "dl_102_adam_loss = dl_102_adam_loss/5"
   ]
  },
  {
   "cell_type": "code",
   "execution_count": 58,
   "id": "5915f4c4",
   "metadata": {
    "ExecuteTime": {
     "end_time": "2022-08-11T18:53:36.975463Z",
     "start_time": "2022-08-11T18:53:34.526656Z"
    }
   },
   "outputs": [],
   "source": [
    "# loganomaly 1 epochs\n",
    "log_algo = 'loganomaly'\n",
    "fl_algo = 'fedavg_11'\n",
    "\n",
    "la_11_avg_loss = np.zeros(shape=(50))\n",
    "\n",
    "for i in range(1,6):\n",
    "    string = '../result/' + log_algo +  '/' + fl_algo + '/client_' + str(i) + want_data +'_log.csv'\n",
    "    df = pd.read_csv(string)\n",
    "    la_11_avg_loss = np.sum([la_11_avg_loss, df['loss']], axis = 0)\n",
    "    del df\n",
    "    \n",
    "la_11_avg_loss = la_11_avg_loss/5\n",
    "#####################################\n",
    "fl_algo = 'fedadam_11'\n",
    "\n",
    "la_11_adam_loss = np.zeros(shape=(50))\n",
    "\n",
    "for i in range(1,6):\n",
    "    string = '../result/' + log_algo +  '/' + fl_algo + '/client_' + str(i) + want_data +'_log.csv'\n",
    "    df = pd.read_csv(string)\n",
    "    la_11_adam_loss = np.sum([la_11_adam_loss, df['loss']], axis = 0)\n",
    "    del df\n",
    "    \n",
    "la_11_adam_loss = la_11_adam_loss/5\n",
    "#####################################\n",
    "fl_algo = 'fedavg_21'\n",
    "\n",
    "la_12_avg_loss = np.zeros(shape=(50))\n",
    "\n",
    "for i in range(1,6):\n",
    "    string = '../result/' + log_algo +  '/' + fl_algo + '/client_' + str(i) + want_data +'_log.csv'\n",
    "    df = pd.read_csv(string)\n",
    "    la_12_avg_loss = np.sum([la_12_avg_loss, df['loss']], axis = 0)\n",
    "    del df\n",
    "    \n",
    "la_12_avg_loss = la_12_avg_loss/5\n",
    "#####################################\n",
    "fl_algo = 'fedadam_1e_12'\n",
    "\n",
    "la_12_adam_loss = np.zeros(shape=(50))\n",
    "\n",
    "for i in range(1,6):\n",
    "    string = '../result/' + log_algo +  '/' + fl_algo + '/client_' + str(i) + want_data +'_log.csv'\n",
    "    df = pd.read_csv(string)\n",
    "    la_12_adam_loss = np.sum([la_12_adam_loss, df['loss']], axis = 0)\n",
    "    del df\n",
    "    \n",
    "la_12_adam_loss = la_12_adam_loss/5\n",
    "#####################################\n",
    "fl_algo = 'fedavg_31'\n",
    "\n",
    "la_13_avg_loss = np.zeros(shape=(50))\n",
    "\n",
    "for i in range(1,6):\n",
    "    string = '../result/' + log_algo +  '/' + fl_algo + '/client_' + str(i) + want_data +'_log.csv'\n",
    "    df = pd.read_csv(string)\n",
    "    la_13_avg_loss = np.sum([la_13_avg_loss, df['loss']], axis = 0)\n",
    "    del df\n",
    "    \n",
    "la_13_avg_loss = la_13_avg_loss/5\n",
    "#####################################\n",
    "fl_algo = 'fedadam_31'\n",
    "\n",
    "la_13_adam_loss = np.zeros(shape=(50))\n",
    "\n",
    "for i in range(1,6):\n",
    "    string = '../result/' + log_algo +  '/' + fl_algo + '/client_' + str(i) + want_data +'_log.csv'\n",
    "    df = pd.read_csv(string)\n",
    "    la_13_adam_loss = np.sum([la_13_adam_loss, df['loss']], axis = 0)\n",
    "    del df\n",
    "    \n",
    "la_13_adam_loss = la_13_adam_loss/5"
   ]
  },
  {
   "cell_type": "code",
   "execution_count": 59,
   "id": "59c8ee78",
   "metadata": {
    "ExecuteTime": {
     "end_time": "2022-08-11T18:53:38.119214Z",
     "start_time": "2022-08-11T18:53:37.973676Z"
    }
   },
   "outputs": [],
   "source": [
    "# loganomaly 10 epochs\n",
    "log_algo = 'loganomaly'\n",
    "fl_algo = 'fedavg_10e_11'\n",
    "\n",
    "la_101_avg_loss = np.zeros(shape=(50))\n",
    "\n",
    "for i in range(1,6):\n",
    "    string = '../result/' + log_algo +  '/' + fl_algo + '/client_' + str(i) + want_data +'_log.csv'\n",
    "    df = pd.read_csv(string)\n",
    "    la_101_avg_loss = np.sum([la_101_avg_loss, df['loss']], axis = 0)\n",
    "    del df\n",
    "    \n",
    "la_101_avg_loss = la_101_avg_loss/5\n",
    "#####################################\n",
    "fl_algo = 'fedadam_10e_11'\n",
    "\n",
    "la_101_adam_loss = np.zeros(shape=(50))\n",
    "\n",
    "for i in range(1,6):\n",
    "    string = '../result/' + log_algo +  '/' + fl_algo + '/client_' + str(i) + want_data +'_log.csv'\n",
    "    df = pd.read_csv(string)\n",
    "    la_101_adam_loss = np.sum([la_101_adam_loss, df['loss']], axis = 0)\n",
    "    del df\n",
    "    \n",
    "la_101_adam_loss = la_101_adam_loss/5\n",
    "#####################################\n",
    "fl_algo = 'fedavg_10e_12'\n",
    "\n",
    "la_102_avg_loss = np.zeros(shape=(50))\n",
    "\n",
    "for i in range(1,6):\n",
    "    string = '../result/' + log_algo +  '/' + fl_algo + '/client_' + str(i) + want_data +'_log.csv'\n",
    "    df = pd.read_csv(string)\n",
    "    la_102_avg_loss = np.sum([la_102_avg_loss, df['loss']], axis = 0)\n",
    "    del df\n",
    "    \n",
    "la_102_avg_loss = la_102_avg_loss/5\n",
    "#####################################\n",
    "fl_algo = 'fedadam_10e_12'\n",
    "\n",
    "la_102_adam_loss = np.zeros(shape=(50))\n",
    "\n",
    "for i in range(1,6):\n",
    "    string = '../result/' + log_algo +  '/' + fl_algo + '/client_' + str(i) + want_data +'_log.csv'\n",
    "    df = pd.read_csv(string)\n",
    "    la_102_adam_loss = np.sum([la_102_adam_loss, df['loss']], axis = 0)\n",
    "    del df\n",
    "    \n",
    "la_102_adam_loss = la_102_adam_loss/5\n",
    "#####################################\n",
    "fl_algo = 'fedavg_10e_13'\n",
    "\n",
    "la_103_avg_loss = np.zeros(shape=(50))\n",
    "\n",
    "for i in range(1,6):\n",
    "    string = '../result/' + log_algo +  '/' + fl_algo + '/client_' + str(i) + want_data +'_log.csv'\n",
    "    df = pd.read_csv(string)\n",
    "    la_103_avg_loss = np.sum([la_103_avg_loss, df['loss']], axis = 0)\n",
    "    del df\n",
    "    \n",
    "la_103_avg_loss = la_103_avg_loss/5\n",
    "#####################################\n",
    "fl_algo = 'fedadam_10e_13'\n",
    "\n",
    "la_103_adam_loss = np.zeros(shape=(50))\n",
    "\n",
    "for i in range(1,6):\n",
    "    string = '../result/' + log_algo +  '/' + fl_algo + '/client_' + str(i) + want_data +'_log.csv'\n",
    "    df = pd.read_csv(string)\n",
    "    la_103_adam_loss = np.sum([la_103_adam_loss, df['loss']], axis = 0)\n",
    "    del df\n",
    "    \n",
    "la_103_adam_loss = la_103_adam_loss/5"
   ]
  },
  {
   "cell_type": "code",
   "execution_count": 6,
   "id": "70533f1e",
   "metadata": {
    "ExecuteTime": {
     "end_time": "2022-07-28T05:13:54.431961Z",
     "start_time": "2022-07-28T05:13:52.603962Z"
    }
   },
   "outputs": [
    {
     "name": "stderr",
     "output_type": "stream",
     "text": [
      "D:\\anaconda\\lib\\site-packages\\statsmodels\\tsa\\holtwinters\\model.py:427: FutureWarning: After 0.13 initialization must be handled at model creation\n",
      "  warnings.warn(\n",
      "D:\\anaconda\\lib\\site-packages\\statsmodels\\tsa\\holtwinters\\model.py:427: FutureWarning: After 0.13 initialization must be handled at model creation\n",
      "  warnings.warn(\n",
      "D:\\anaconda\\lib\\site-packages\\statsmodels\\tsa\\holtwinters\\model.py:427: FutureWarning: After 0.13 initialization must be handled at model creation\n",
      "  warnings.warn(\n",
      "D:\\anaconda\\lib\\site-packages\\statsmodels\\tsa\\holtwinters\\model.py:427: FutureWarning: After 0.13 initialization must be handled at model creation\n",
      "  warnings.warn(\n",
      "D:\\anaconda\\lib\\site-packages\\statsmodels\\tsa\\holtwinters\\model.py:427: FutureWarning: After 0.13 initialization must be handled at model creation\n",
      "  warnings.warn(\n",
      "D:\\anaconda\\lib\\site-packages\\statsmodels\\tsa\\holtwinters\\model.py:427: FutureWarning: After 0.13 initialization must be handled at model creation\n",
      "  warnings.warn(\n"
     ]
    },
    {
     "data": {
      "image/png": "[encoded data removed]",
      "text/plain": [
       "<Figure size 432x288 with 1 Axes>"
      ]
     },
     "metadata": {
      "needs_background": "light"
     },
     "output_type": "display_data"
    }
   ],
   "source": [
    "name = ['Fedavg lr = $10^{-1}$','FedAdam lr = $10^{-1}$','Fedavg lr = $10^{-2}$','FedAdam lr = $10^{-2}$','Fedavg lr = $10^{-3}$','FedAdam lr = $10^{-3}$']\n",
    "data_1 = ['la_11_avg_loss', 'la_11_adam_loss','la_12_avg_loss', 'la_12_adam_loss','la_13_avg_loss', 'la_13_adam_loss']\n",
    "data_2 = ['la_101_avg_loss', 'la_101_adam_loss','la_102_avg_loss', 'la_102_adam_loss','la_103_avg_loss', 'la_103_adam_loss']\n",
    "for j, i in enumerate(data_1):\n",
    "    x = np.arange(show_label_start,show_label_end)\n",
    "    exec('y = ' + i + '[show_label_start:show_label_end]')\n",
    "    if use_smooth:\n",
    "        c = interp1d(x,y, kind = \"cubic\")\n",
    "        x = np.linspace(x.min(), x.max(), int((show_label_end-show_label_start)/3))\n",
    "        y = c(x)\n",
    "        y = lbound(y)\n",
    "        \n",
    "        fit2 = ExponentialSmoothing(y).fit(smoothing_level=0.9, optimized=False)    \n",
    "        plt.plot(x, fit2.fittedvalues, label = name[j], marker = 'o')\n",
    "        continue\n",
    "    plt.plot(x, y, label = name[j])\n",
    "\n",
    "\n",
    "plt.xlabel('Epochs ')\n",
    "plt.ylabel('Loss')\n",
    "if 'train' in want_data:\n",
    "    plt.title('Training Loss')\n",
    "else:\n",
    "    plt.title('Local epoch = 1')\n",
    "plt.legend()\n",
    "if save_fig:\n",
    "    plt.savefig('../result/fig_v2/1e.svg', bbox_inches='tight', format=\"svg\")\n",
    "plt.show()"
   ]
  },
  {
   "cell_type": "code",
   "execution_count": 7,
   "id": "d524c764",
   "metadata": {
    "ExecuteTime": {
     "end_time": "2022-07-28T05:13:54.653961Z",
     "start_time": "2022-07-28T05:13:54.432961Z"
    }
   },
   "outputs": [
    {
     "name": "stderr",
     "output_type": "stream",
     "text": [
      "D:\\anaconda\\lib\\site-packages\\statsmodels\\tsa\\holtwinters\\model.py:427: FutureWarning: After 0.13 initialization must be handled at model creation\n",
      "  warnings.warn(\n",
      "D:\\anaconda\\lib\\site-packages\\statsmodels\\tsa\\holtwinters\\model.py:427: FutureWarning: After 0.13 initialization must be handled at model creation\n",
      "  warnings.warn(\n",
      "D:\\anaconda\\lib\\site-packages\\statsmodels\\tsa\\holtwinters\\model.py:427: FutureWarning: After 0.13 initialization must be handled at model creation\n",
      "  warnings.warn(\n",
      "D:\\anaconda\\lib\\site-packages\\statsmodels\\tsa\\holtwinters\\model.py:427: FutureWarning: After 0.13 initialization must be handled at model creation\n",
      "  warnings.warn(\n",
      "D:\\anaconda\\lib\\site-packages\\statsmodels\\tsa\\holtwinters\\model.py:427: FutureWarning: After 0.13 initialization must be handled at model creation\n",
      "  warnings.warn(\n",
      "D:\\anaconda\\lib\\site-packages\\statsmodels\\tsa\\holtwinters\\model.py:427: FutureWarning: After 0.13 initialization must be handled at model creation\n",
      "  warnings.warn(\n"
     ]
    },
    {
     "data": {
      "image/png": "[encoded data removed]",
      "text/plain": [
       "<Figure size 432x288 with 1 Axes>"
      ]
     },
     "metadata": {
      "needs_background": "light"
     },
     "output_type": "display_data"
    }
   ],
   "source": [
    "name = ['Fedavg lr = $10^{-1}$','FedAdam lr = $10^{-1}$','Fedavg lr = $10^{-2}$','FedAdam lr = $10^{-2}$','Fedavg lr = $10^{-3}$','FedAdam lr = $10^{-3}$']\n",
    "data_1 = ['la_11_avg_loss', 'la_11_adam_loss','la_12_avg_loss', 'la_12_adam_loss','la_13_avg_loss', 'la_13_adam_loss']\n",
    "data_2 = ['la_101_avg_loss', 'la_101_adam_loss','la_102_avg_loss', 'la_102_adam_loss','la_103_avg_loss', 'la_103_adam_loss']\n",
    "for j, i in enumerate(data_2):\n",
    "    x = np.arange(show_label_start,show_label_end)\n",
    "    exec('y = ' + i + '[show_label_start:show_label_end]')\n",
    "    if use_smooth:\n",
    "        c = interp1d(x,y, kind = \"cubic\")\n",
    "        x = np.linspace(x.min(), x.max(), int((show_label_end-show_label_start)/3))\n",
    "        y = c(x)\n",
    "        y = lbound(y)\n",
    "        \n",
    "        fit2 = ExponentialSmoothing(y).fit(smoothing_level=0.9, optimized=False)    \n",
    "        plt.plot(x, fit2.fittedvalues, label = name[j], marker = 'o')\n",
    "        continue\n",
    "    plt.plot(x, y, label = name[j])\n",
    "\n",
    "\n",
    "plt.xlabel('Epochs ')\n",
    "plt.ylabel('Loss')\n",
    "if 'train' in want_data:\n",
    "    plt.title('Training Loss')\n",
    "else:\n",
    "    plt.title('Local epoch = 10')\n",
    "plt.legend()\n",
    "if save_fig:\n",
    "    plt.savefig('../result/fig_v2/10e.svg', bbox_inches='tight', format=\"svg\")\n",
    "plt.show()"
   ]
  },
  {
   "cell_type": "markdown",
   "id": "34fb9ef7",
   "metadata": {},
   "source": [
    "## 用戶數量不同的效果"
   ]
  },
  {
   "cell_type": "code",
   "execution_count": 4,
   "id": "aff39b23",
   "metadata": {
    "ExecuteTime": {
     "end_time": "2022-08-11T05:56:44.781334Z",
     "start_time": "2022-08-11T05:56:44.367281Z"
    }
   },
   "outputs": [
    {
     "data": {
      "image/png": "[encoded data removed]",
      "text/plain": [
       "<Figure size 432x288 with 1 Axes>"
      ]
     },
     "metadata": {
      "needs_background": "light"
     },
     "output_type": "display_data"
    }
   ],
   "source": [
    "x = [\"1\", \"5\", \"10\", \"15\", \"20\"]\n",
    "x_axis = np.arange(len(x))\n",
    "width = 0.3\n",
    "f1s = [77.506, 93.417, 94.636, 92.610, 93.599]\n",
    "pre = [65.442, 93.030, 94.557, 92.306, 89.248]\n",
    "rec = [95.023, 96.328, 94.714, 92.915, 98.396]\n",
    "\n",
    "plt.bar(x_axis - width, f1s, width=width, label = 'F1-score')\n",
    "plt.bar(x_axis, pre, width=width, label = 'Precision')\n",
    "plt.bar(x_axis + width, rec, width=width, label = 'Recall')\n",
    "\n",
    "plt.title(\"LogAnomaly\")\n",
    "plt.xticks(x_axis, x)\n",
    "plt.ylim(60, 100)\n",
    "plt.xlabel(\"Client number\")\n",
    "plt.ylabel(\"Score (%)\")\n",
    "plt.legend()\n",
    "if save_fig:\n",
    "    plt.savefig('../result/fig_add/client_la_f1.svg', bbox_inches='tight', format=\"svg\")\n",
    "plt.show()"
   ]
  },
  {
   "cell_type": "code",
   "execution_count": 5,
   "id": "a2dbcbe8",
   "metadata": {
    "ExecuteTime": {
     "end_time": "2022-08-11T05:56:45.211365Z",
     "start_time": "2022-08-11T05:56:45.085239Z"
    }
   },
   "outputs": [
    {
     "data": {
      "image/png": "[encoded data removed]",
      "text/plain": [
       "<Figure size 432x288 with 1 Axes>"
      ]
     },
     "metadata": {
      "needs_background": "light"
     },
     "output_type": "display_data"
    }
   ],
   "source": [
    "x = [\"1\", \"5\", \"10\", \"15\", \"20\"]\n",
    "x_axis = np.arange(len(x))\n",
    "width = 0.3\n",
    "f1s = [55.540, 92.868, 91.252, 91.688, 92.761]\n",
    "pre = [39.225, 91.654, 88.787, 87.689, 87.140]\n",
    "rec = [95.094, 94.115, 93.859, 96.068, 99.157]\n",
    "\n",
    "plt.bar(x_axis - width, f1s, width=width, label = 'F1-score')\n",
    "plt.bar(x_axis, pre, width=width, label = 'Precision')\n",
    "plt.bar(x_axis + width, rec, width=width, label = 'Recall')\n",
    "\n",
    "plt.title(\"DeepLog\")\n",
    "plt.xticks(x_axis, x)\n",
    "# plt.ylim(30, 100)\n",
    "plt.xlabel(\"Client number\")\n",
    "plt.ylabel(\"Score (%)\")\n",
    "plt.legend()\n",
    "if save_fig:\n",
    "    plt.savefig('../result/fig_add/client_dl_f1.svg', bbox_inches='tight', format=\"svg\")\n",
    "plt.show()"
   ]
  },
  {
   "cell_type": "code",
   "execution_count": 6,
   "id": "92c9f5d1",
   "metadata": {
    "ExecuteTime": {
     "end_time": "2022-08-11T05:56:45.746408Z",
     "start_time": "2022-08-11T05:56:45.740408Z"
    }
   },
   "outputs": [
    {
     "ename": "IndentationError",
     "evalue": "expected an indented block (<ipython-input-6-6825d9d42f2f>, line 18)",
     "output_type": "error",
     "traceback": [
      "\u001b[1;36m  File \u001b[1;32m\"<ipython-input-6-6825d9d42f2f>\"\u001b[1;36m, line \u001b[1;32m18\u001b[0m\n\u001b[1;33m    plt.show()\u001b[0m\n\u001b[1;37m    ^\u001b[0m\n\u001b[1;31mIndentationError\u001b[0m\u001b[1;31m:\u001b[0m expected an indented block\n"
     ]
    }
   ],
   "source": [
    "x = [\"1\", \"5\", \"10\", \"15\", \"20\"]\n",
    "x_axis = np.arange(len(x))\n",
    "width = 0.3\n",
    "f1s_dl = [55.540, 92.868, 91.252, 91.688, 92.761]\n",
    "f1s_la = [77.506, 93.417, 94.636, 92.610, 93.599]\n",
    "\n",
    "plt.bar(x_axis - width/2, f1s_dl, width=width, label = 'DeepLog')\n",
    "plt.bar(x_axis + width/2, f1s_la, width=width, label = 'LogAnomaly')\n",
    "\n",
    "plt.title(\"The effect of client number\")\n",
    "plt.xticks(x_axis, x)\n",
    "plt.ylim(30, 100)\n",
    "plt.xlabel(\"Client number\")\n",
    "plt.ylabel(\"F1-score (%)\")\n",
    "plt.legend()\n",
    "if save_fig:\n",
    "#     plt.savefig('../result/fig_v2/10e.svg', bbox_inches='tight', format=\"svg\")\n",
    "plt.show()"
   ]
  },
  {
   "cell_type": "code",
   "execution_count": 5,
   "id": "a11e15a0",
   "metadata": {
    "ExecuteTime": {
     "end_time": "2022-08-14T18:48:42.850204Z",
     "start_time": "2022-08-14T18:48:41.981014Z"
    }
   },
   "outputs": [],
   "source": [
    "# loganomaly \n",
    "# 1 clients\n",
    "log_algo = '01_la_sl_dp'\n",
    "fl_algo = 'fedadam_10e_12_0.03'\n",
    "\n",
    "la_01_loss = np.zeros(shape=(50))\n",
    "\n",
    "for i in range(1,2):\n",
    "    string = '../result/' + log_algo +  '/' + fl_algo + '/client_' + str(i) + want_data +'_log.csv'\n",
    "    df = pd.read_csv(string)\n",
    "    la_01_loss = np.sum([la_01_loss, df['loss']], axis = 0)\n",
    "    del df\n",
    "    \n",
    "la_01_loss = la_01_loss/1\n",
    "#####################################\n",
    "# 5 clients\n",
    "log_algo = 'loganomaly_sl_dp'\n",
    "fl_algo = 'fedadam_10e_12_0.03'\n",
    "\n",
    "la_05_loss = np.zeros(shape=(50))\n",
    "\n",
    "for i in range(1,6):\n",
    "    string = '../result/' + log_algo +  '/' + fl_algo + '/client_' + str(i) + want_data +'_log.csv'\n",
    "    df = pd.read_csv(string)\n",
    "    la_05_loss = np.sum([la_05_loss, df['loss']], axis = 0)\n",
    "    del df\n",
    "    \n",
    "la_05_loss = la_05_loss/5\n",
    "#####################################\n",
    "# 10 clients\n",
    "log_algo = '10_la_sl_dp'\n",
    "fl_algo = 'fedadam_10e_12_0.03'\n",
    "\n",
    "la_10_loss = np.zeros(shape=(50))\n",
    "\n",
    "for i in range(1,11):\n",
    "    string = '../result/' + log_algo +  '/' + fl_algo + '/client_' + str(i) + want_data +'_log.csv'\n",
    "    df = pd.read_csv(string)\n",
    "    la_10_loss = np.sum([la_10_loss, df['loss']], axis = 0)\n",
    "    del df\n",
    "    \n",
    "la_10_loss = la_10_loss/10\n",
    "#####################################\n",
    "# 15 clients\n",
    "log_algo = '15_la_sl_dp'\n",
    "fl_algo = 'fedadam_10e_12_0.03'\n",
    "\n",
    "la_15_loss = np.zeros(shape=(50))\n",
    "\n",
    "for i in range(1,16):\n",
    "    string = '../result/' + log_algo +  '/' + fl_algo + '/client_' + str(i) + want_data +'_log.csv'\n",
    "    df = pd.read_csv(string)\n",
    "    la_15_loss = np.sum([la_15_loss, df['loss']], axis = 0)\n",
    "    del df\n",
    "    \n",
    "la_15_loss = la_15_loss/15\n",
    "#####################################\n",
    "# 20 clients\n",
    "log_algo = '20_la_sl_dp'\n",
    "fl_algo = 'fedadam_10e_12_0.03'\n",
    "\n",
    "la_20_loss = np.zeros(shape=(50))\n",
    "\n",
    "for i in range(1,21):\n",
    "    string = '../result/' + log_algo +  '/' + fl_algo + '/client_' + str(i) + want_data +'_log.csv'\n",
    "    df = pd.read_csv(string)\n",
    "    la_20_loss = np.sum([la_20_loss, df['loss']], axis = 0)\n",
    "    del df\n",
    "    \n",
    "la_20_loss = la_20_loss/20"
   ]
  },
  {
   "cell_type": "code",
   "execution_count": 6,
   "id": "0bdd4134",
   "metadata": {
    "ExecuteTime": {
     "end_time": "2022-08-14T18:48:43.554773Z",
     "start_time": "2022-08-14T18:48:42.851204Z"
    }
   },
   "outputs": [],
   "source": [
    "# deeplog \n",
    "# 1 clients\n",
    "log_algo = '01_dl_sl_dp'\n",
    "fl_algo = 'fedadam_10e_12_0.03'\n",
    "\n",
    "dl_01_loss = np.zeros(shape=(50))\n",
    "\n",
    "for i in range(1,2):\n",
    "    string = '../result/' + log_algo +  '/' + fl_algo + '/client_' + str(i) + want_data +'_log.csv'\n",
    "    df = pd.read_csv(string)\n",
    "    dl_01_loss = np.sum([dl_01_loss, df['loss']], axis = 0)\n",
    "    del df\n",
    "    \n",
    "dl_01_loss = dl_01_loss/1\n",
    "#####################################\n",
    "# 5 clients\n",
    "log_algo = 'deeplog_sl_dp'\n",
    "fl_algo = 'fedadam_10e_12_0.03'\n",
    "\n",
    "dl_05_loss = np.zeros(shape=(50))\n",
    "\n",
    "for i in range(1,6):\n",
    "    string = '../result/' + log_algo +  '/' + fl_algo + '/client_' + str(i) + want_data +'_log.csv'\n",
    "    df = pd.read_csv(string)\n",
    "    dl_05_loss = np.sum([dl_05_loss, df['loss']], axis = 0)\n",
    "    del df\n",
    "    \n",
    "dl_05_loss = dl_05_loss/5\n",
    "#####################################\n",
    "# 10 clients\n",
    "log_algo = '10_dl_sl_dp'\n",
    "fl_algo = 'fedadam_10e_12_0.03'\n",
    "\n",
    "dl_10_loss = np.zeros(shape=(50))\n",
    "\n",
    "for i in range(1,11):\n",
    "    string = '../result/' + log_algo +  '/' + fl_algo + '/client_' + str(i) + want_data +'_log.csv'\n",
    "    df = pd.read_csv(string)\n",
    "    dl_10_loss = np.sum([dl_10_loss, df['loss']], axis = 0)\n",
    "    del df\n",
    "    \n",
    "dl_10_loss = dl_10_loss/10\n",
    "#####################################\n",
    "# 15 clients\n",
    "log_algo = '15_dl_sl_dp'\n",
    "fl_algo = 'fedadam_10e_12_0.03'\n",
    "\n",
    "dl_15_loss = np.zeros(shape=(50))\n",
    "\n",
    "for i in range(1,16):\n",
    "    string = '../result/' + log_algo +  '/' + fl_algo + '/client_' + str(i) + want_data +'_log.csv'\n",
    "    df = pd.read_csv(string)\n",
    "    dl_15_loss = np.sum([dl_15_loss, df['loss']], axis = 0)\n",
    "    del df\n",
    "    \n",
    "dl_15_loss = dl_15_loss/15\n",
    "#####################################\n",
    "# 20 clients\n",
    "log_algo = '20_dl_sl_dp'\n",
    "fl_algo = 'fedadam_10e_12_0.03'\n",
    "\n",
    "dl_20_loss = np.zeros(shape=(50))\n",
    "\n",
    "for i in range(1,21):\n",
    "    string = '../result/' + log_algo +  '/' + fl_algo + '/client_' + str(i) + want_data +'_log.csv'\n",
    "    df = pd.read_csv(string)\n",
    "    dl_20_loss = np.sum([dl_20_loss, df['loss']], axis = 0)\n",
    "    del df\n",
    "    \n",
    "dl_20_loss = dl_20_loss/20"
   ]
  },
  {
   "cell_type": "code",
   "execution_count": 7,
   "id": "6ed8533b",
   "metadata": {
    "ExecuteTime": {
     "end_time": "2022-08-14T18:48:46.155186Z",
     "start_time": "2022-08-14T18:48:44.523131Z"
    }
   },
   "outputs": [
    {
     "name": "stderr",
     "output_type": "stream",
     "text": [
      "D:\\anaconda\\lib\\site-packages\\statsmodels\\tsa\\holtwinters\\model.py:427: FutureWarning: After 0.13 initialization must be handled at model creation\n",
      "  warnings.warn(\n"
     ]
    },
    {
     "data": {
      "image/png": "[encoded data removed]",
      "text/plain": [
       "<Figure size 432x288 with 1 Axes>"
      ]
     },
     "metadata": {
      "needs_background": "light"
     },
     "output_type": "display_data"
    }
   ],
   "source": [
    "data = ['la_01_loss','la_05_loss','la_10_loss','la_15_loss','la_20_loss']\n",
    "name = ['1', '5', '10', '15', '20']\n",
    "for j, i in enumerate(data):\n",
    "    x = np.arange(show_label_start,show_label_end)\n",
    "    exec('y = ' + i + '[show_label_start:show_label_end]')\n",
    "    if use_smooth:\n",
    "        c = interp1d(x,y, kind = \"cubic\")\n",
    "        x = np.linspace(x.min(), x.max(), int((show_label_end-show_label_start)/3))\n",
    "        y = c(x)\n",
    "        y = lbound(y)\n",
    "        \n",
    "        fit2 = ExponentialSmoothing(y).fit(smoothing_level=0.9, optimized=False)    \n",
    "        plt.plot(x, fit2.fittedvalues, label = name[j], marker = 'o')\n",
    "        continue\n",
    "    plt.plot(x, y, label = name[j])\n",
    "\n",
    "\n",
    "plt.xlabel('Epoch')\n",
    "plt.ylabel('Loss')\n",
    "if 'train' in want_data:\n",
    "    plt.title('Training Loss')\n",
    "else:\n",
    "    plt.title('LogAnomaly')\n",
    "plt.legend()\n",
    "if save_fig:\n",
    "    plt.savefig('../result/fig_add/client_la_loss.svg', bbox_inches='tight', format=\"svg\")\n",
    "plt.show()"
   ]
  },
  {
   "cell_type": "code",
   "execution_count": 8,
   "id": "7690b2c2",
   "metadata": {
    "ExecuteTime": {
     "end_time": "2022-08-14T18:48:47.139021Z",
     "start_time": "2022-08-14T18:48:46.950130Z"
    }
   },
   "outputs": [
    {
     "data": {
      "image/png": "[encoded data removed]",
      "text/plain": [
       "<Figure size 432x288 with 1 Axes>"
      ]
     },
     "metadata": {
      "needs_background": "light"
     },
     "output_type": "display_data"
    }
   ],
   "source": [
    "data = ['dl_01_loss','dl_05_loss','dl_10_loss','dl_15_loss','dl_20_loss']\n",
    "name = ['1', '5', '10', '15', '20']\n",
    "for j, i in enumerate(data):\n",
    "    x = np.arange(show_label_start,show_label_end)\n",
    "    exec('y = ' + i + '[show_label_start:show_label_end]')\n",
    "    if use_smooth:\n",
    "        c = interp1d(x,y, kind = \"cubic\")\n",
    "        x = np.linspace(x.min(), x.max(), int((show_label_end-show_label_start)/3))\n",
    "        y = c(x)\n",
    "        y = lbound(y)\n",
    "        \n",
    "        fit2 = ExponentialSmoothing(y).fit(smoothing_level=0.9, optimized=False)    \n",
    "        plt.plot(x, fit2.fittedvalues, label = name[j], marker = 'o')\n",
    "        continue\n",
    "    plt.plot(x, y, label = name[j])\n",
    "\n",
    "\n",
    "plt.xlabel('Epoch')\n",
    "plt.ylabel('Loss')\n",
    "if 'train' in want_data:\n",
    "    plt.title('Training Loss')\n",
    "else:\n",
    "    plt.title('DeepLog')\n",
    "plt.legend()\n",
    "if save_fig:\n",
    "    plt.savefig('../result/fig_add/client_dl_loss.svg', bbox_inches='tight', format=\"svg\")\n",
    "plt.show()"
   ]
  },
  {
   "cell_type": "markdown",
   "id": "0702fa18",
   "metadata": {},
   "source": [
    "## 本地更新輪數不同之成效"
   ]
  },
  {
   "cell_type": "code",
   "execution_count": 11,
   "id": "758ec153",
   "metadata": {
    "ExecuteTime": {
     "end_time": "2022-08-11T05:56:49.127235Z",
     "start_time": "2022-08-11T05:56:49.111236Z"
    }
   },
   "outputs": [],
   "source": [
    "# loganomaly \n",
    "log_algo = 'loganomaly_sl_dp'\n",
    "fl_algo = 'fedadam_10e_12_0.03'\n",
    "\n",
    "la_05_loss = np.zeros(shape=(50))\n",
    "\n",
    "for i in range(1,6):\n",
    "    string = '../result/' + log_algo +  '/' + fl_algo + '/client_' + str(i) + want_data +'_log.csv'\n",
    "    df = pd.read_csv(string)\n",
    "    la_05_loss = np.sum([la_05_loss, df['loss']], axis = 0)\n",
    "    del df\n",
    "    \n",
    "la_05_loss = la_05_loss/5\n",
    "#####################################"
   ]
  },
  {
   "cell_type": "markdown",
   "id": "e647431b",
   "metadata": {},
   "source": [
    "## 本地輪數固定調整全局模型的效果"
   ]
  },
  {
   "cell_type": "code",
   "execution_count": null,
   "id": "113fcfa6",
   "metadata": {},
   "outputs": [],
   "source": []
  },
  {
   "cell_type": "markdown",
   "id": "839faf25",
   "metadata": {},
   "source": [
    "## 全局EPOCH的效果"
   ]
  },
  {
   "cell_type": "code",
   "execution_count": 12,
   "id": "8c57b598",
   "metadata": {
    "ExecuteTime": {
     "end_time": "2022-08-11T05:56:51.435322Z",
     "start_time": "2022-08-11T05:56:51.357323Z"
    }
   },
   "outputs": [
    {
     "data": {
      "text/plain": [
       "<matplotlib.legend.Legend at 0x20f6c9a2250>"
      ]
     },
     "execution_count": 12,
     "metadata": {},
     "output_type": "execute_result"
    },
    {
     "data": {
      "image/png": "[encoded data removed]",
      "text/plain": [
       "<Figure size 432x288 with 1 Axes>"
      ]
     },
     "metadata": {
      "needs_background": "light"
     },
     "output_type": "display_data"
    }
   ],
   "source": [
    "#laganomaly\n",
    "\n",
    "x=range(1,6)\n",
    "y1=[1,4,6,8,9]\n",
    "y2=[2,2,7,10,12]\n",
    "y3=[2,8,5,10,6]\n",
    "\n",
    "# Basic stacked area chart.\n",
    "plt.stackplot(x, y1, y2, y3, labels=['A','B','C'])\n",
    "plt.legend(loc='upper left')"
   ]
  },
  {
   "cell_type": "code",
   "execution_count": 13,
   "id": "fc0e1a09",
   "metadata": {
    "ExecuteTime": {
     "end_time": "2022-08-11T05:56:51.831412Z",
     "start_time": "2022-08-11T05:56:51.762407Z"
    }
   },
   "outputs": [
    {
     "data": {
      "image/png": "[encoded data removed]",
      "text/plain": [
       "<Figure size 432x288 with 1 Axes>"
      ]
     },
     "metadata": {
      "needs_background": "light"
     },
     "output_type": "display_data"
    }
   ],
   "source": [
    "x=range(1,6)\n",
    "y=[1,4,6,8,4]\n",
    "\n",
    "# Area plot\n",
    "plt.fill_between(x, y)\n",
    "plt.show()"
   ]
  },
  {
   "cell_type": "code",
   "execution_count": 14,
   "id": "509d2dee",
   "metadata": {
    "ExecuteTime": {
     "end_time": "2022-08-11T05:56:52.212418Z",
     "start_time": "2022-08-11T05:56:52.169495Z"
    }
   },
   "outputs": [],
   "source": [
    "# 150epoch\n",
    "fl_algo = 'fedadam_10e_12_0.03'\n",
    "\n",
    "string = '../result/150e/la/' + fl_algo + '/f1.csv'\n",
    "df = pd.read_csv(string, header = None)\n",
    "df = np.mean(np.array(df), axis = 0)\n",
    "la_150_f1 = np.array(df[1:])\n",
    "del df\n",
    "##########################\n",
    "# 100epoch\n",
    "string = '../result/100e/la/' + fl_algo + '/f1.csv'\n",
    "df = pd.read_csv(string, header = None)\n",
    "df = np.mean(np.array(df), axis = 0)\n",
    "la_100_f1 = np.array(df[1:])\n",
    "del df\n",
    "##########################\n",
    "# 50epoch\n",
    "string = '../result/loganomaly_sl_dp/fedadam_10e_12_0.03/f1.csv'\n",
    "df = pd.read_csv(string, header = None)\n",
    "df = np.mean(np.array(df), axis = 0)\n",
    "la_50_f1 = np.array(df[1:])\n",
    "del df\n",
    "##########################\n",
    "# 10epoch\n",
    "string = '../result/10e/la/' + fl_algo + '/f1.csv'\n",
    "df = pd.read_csv(string, header = None)\n",
    "df = np.mean(np.array(df), axis = 0)\n",
    "la_10_f1 = np.array(df[1:])\n",
    "del df\n",
    "##########################\n",
    "# 1epoch\n",
    "string = '../result/1e/la/' + fl_algo + '/f1.csv'\n",
    "df = pd.read_csv(string, header = None)\n",
    "df = np.mean(np.array(df), axis = 0)\n",
    "la_1_f1 = np.array(df[1:])\n",
    "del df"
   ]
  },
  {
   "cell_type": "code",
   "execution_count": 15,
   "id": "f2c08277",
   "metadata": {
    "ExecuteTime": {
     "end_time": "2022-08-11T05:56:52.625253Z",
     "start_time": "2022-08-11T05:56:52.569254Z"
    }
   },
   "outputs": [
    {
     "data": {
      "image/png": "[encoded data removed]",
      "text/plain": [
       "<Figure size 432x288 with 1 Axes>"
      ]
     },
     "metadata": {
      "needs_background": "light"
     },
     "output_type": "display_data"
    }
   ],
   "source": [
    "x=range(150)\n",
    "# Area plot\n",
    "plt.fill_between(x, la_150_f1)\n",
    "plt.fill_between(x[:100], la_100_f1)\n",
    "plt.fill_between(x[:50], la_50_f1)\n",
    "plt.fill_between(x[:10], la_10_f1)\n",
    "plt.fill_between(x[:1], la_1_f1)\n",
    "plt.show()"
   ]
  },
  {
   "cell_type": "code",
   "execution_count": 16,
   "id": "15457e99",
   "metadata": {
    "ExecuteTime": {
     "end_time": "2022-08-11T05:56:53.006285Z",
     "start_time": "2022-08-11T05:56:52.995284Z"
    }
   },
   "outputs": [
    {
     "ename": "IndentationError",
     "evalue": "expected an indented block (<ipython-input-16-705fe6361046>, line 29)",
     "output_type": "error",
     "traceback": [
      "\u001b[1;36m  File \u001b[1;32m\"<ipython-input-16-705fe6361046>\"\u001b[1;36m, line \u001b[1;32m29\u001b[0m\n\u001b[1;33m    plt.show()\u001b[0m\n\u001b[1;37m    ^\u001b[0m\n\u001b[1;31mIndentationError\u001b[0m\u001b[1;31m:\u001b[0m expected an indented block\n"
     ]
    }
   ],
   "source": [
    "data = [la_150_f1, la_100_f1, la_50_f1, la_10_f1]\n",
    "name = ['150','100','50','10']\n",
    "\n",
    "for j, i in enumerate(data):\n",
    "    x = np.arange(len(i))\n",
    "    y = i\n",
    "    if use_smooth:\n",
    "        c = interp1d(x,y, kind = \"cubic\")\n",
    "        x = np.linspace(x.min(), x.max(), int((show_label_end-show_label_start)/3))\n",
    "        y = c(x)\n",
    "        y = lbound(y)\n",
    "        \n",
    "        fit2 = ExponentialSmoothing(y).fit(smoothing_level=0.9, optimized=False)    \n",
    "        plt.plot(x, fit2.fittedvalues, label = name[j], marker = 'o')\n",
    "        continue\n",
    "    plt.plot(x, y, label = name[j])\n",
    "\n",
    "# plt.plot([1], la_1_f1, label = '1')\n",
    "\n",
    "plt.xlabel('Epochs')\n",
    "plt.ylabel('Loss')\n",
    "if 'train' in want_data:\n",
    "    plt.title('Training Loss')\n",
    "else:\n",
    "    plt.title('Global')\n",
    "plt.legend()\n",
    "if save_fig:\n",
    "#     plt.savefig('../result/fig_v2/dl_fl_useful.svg', bbox_inches='tight', format=\"svg\")\n",
    "plt.show()"
   ]
  },
  {
   "cell_type": "code",
   "execution_count": 17,
   "id": "6acd2782",
   "metadata": {
    "ExecuteTime": {
     "end_time": "2022-08-11T05:56:53.606417Z",
     "start_time": "2022-08-11T05:56:53.593418Z"
    }
   },
   "outputs": [
    {
     "ename": "IndentationError",
     "evalue": "expected an indented block (<ipython-input-17-459b1e1f40a6>, line 74)",
     "output_type": "error",
     "traceback": [
      "\u001b[1;36m  File \u001b[1;32m\"<ipython-input-17-459b1e1f40a6>\"\u001b[1;36m, line \u001b[1;32m74\u001b[0m\n\u001b[1;33m    plt.show()\u001b[0m\n\u001b[1;37m    ^\u001b[0m\n\u001b[1;31mIndentationError\u001b[0m\u001b[1;31m:\u001b[0m expected an indented block\n"
     ]
    }
   ],
   "source": [
    "y = la_10_f1\n",
    "x = np.arange(10)\n",
    "\n",
    "c = interp1d(x, y, kind = \"cubic\")\n",
    "x = np.linspace(x.min(), x.max(), int((show_label_end-show_label_start)/3))\n",
    "y = c(x)\n",
    "y = lbound(y)\n",
    "\n",
    "fit2 = ExponentialSmoothing(y).fit(smoothing_level=0.9, optimized=False)    \n",
    "plt.plot(x, fit2.fittedvalues, label = '10', marker = 'o')\n",
    "\n",
    "t = x[-1]\n",
    "ty = fit2.fittedvalues[-1]\n",
    "#########\n",
    "y = np.concatenate((la_10_f1[-1] + la_50_f1[10:]), axis = None)\n",
    "x = np.arange(10,50)\n",
    "\n",
    "c = interp1d(x, y, kind = \"cubic\")\n",
    "x = np.linspace(x.min(), x.max(), int((show_label_end-show_label_start)/3))\n",
    "y = c(x)\n",
    "y = lbound(y)\n",
    "\n",
    "fit2 = ExponentialSmoothing(y).fit(smoothing_level=0.9, optimized=False)    \n",
    "x = np.concatenate((t,x), axis = None)\n",
    "ft = np.concatenate((ty,fit2.fittedvalues), axis = None)\n",
    "\n",
    "plt.plot(x, ft, label = '50', marker = 'o')\n",
    "\n",
    "t = x[-1]\n",
    "ty = fit2.fittedvalues[-1]\n",
    "#########\n",
    "y = np.concatenate((la_50_f1[-1] + la_100_f1[50:]), axis = None)\n",
    "x = np.arange(50,100)\n",
    "\n",
    "c = interp1d(x, y, kind = \"cubic\")\n",
    "x = np.linspace(x.min(), x.max(), int((show_label_end-show_label_start)/3))\n",
    "y = c(x)\n",
    "y = lbound(y)\n",
    "\n",
    "fit2 = ExponentialSmoothing(y).fit(smoothing_level=0.9, optimized=False)   \n",
    "x = np.concatenate((t,x), axis = None)\n",
    "ft = np.concatenate((ty,fit2.fittedvalues), axis = None)\n",
    "\n",
    "plt.plot(x, ft, label = '100', marker = 'o')\n",
    "\n",
    "t = x[-1]\n",
    "ty = fit2.fittedvalues[-1]\n",
    "#########\n",
    "y = np.concatenate((la_100_f1[-1] + la_150_f1[100:]), axis = None)\n",
    "x = np.arange(100,150)\n",
    "\n",
    "c = interp1d(x, y, kind = \"cubic\")\n",
    "x = np.linspace(x.min(), x.max(), int((show_label_end-show_label_start)/3))\n",
    "y = c(x)\n",
    "y = lbound(y)\n",
    "\n",
    "fit2 = ExponentialSmoothing(y).fit(smoothing_level=0.9, optimized=False)   \n",
    "x = np.concatenate((t,x), axis = None)\n",
    "ft = np.concatenate((ty,fit2.fittedvalues), axis = None)\n",
    "\n",
    "plt.plot(x, ft, label = '150', marker = 'o')\n",
    "#########\n",
    "\n",
    "\n",
    "plt.xlabel('Epochs')\n",
    "plt.ylabel('Loss')\n",
    "if 'train' in want_data:\n",
    "    plt.title('Training Loss')\n",
    "else:\n",
    "    plt.title('Global')\n",
    "plt.legend()\n",
    "if save_fig:\n",
    "#     plt.savefig('../result/fig_v2/dl_fl_useful.svg', bbox_inches='tight', format=\"svg\")\n",
    "plt.show()"
   ]
  },
  {
   "cell_type": "code",
   "execution_count": 18,
   "id": "88ce56b2",
   "metadata": {
    "ExecuteTime": {
     "end_time": "2022-08-11T05:56:54.147355Z",
     "start_time": "2022-08-11T05:56:54.130394Z"
    }
   },
   "outputs": [
    {
     "ename": "IndentationError",
     "evalue": "expected an indented block (<ipython-input-18-dce49170b72d>, line 56)",
     "output_type": "error",
     "traceback": [
      "\u001b[1;36m  File \u001b[1;32m\"<ipython-input-18-dce49170b72d>\"\u001b[1;36m, line \u001b[1;32m56\u001b[0m\n\u001b[1;33m    plt.show()\u001b[0m\n\u001b[1;37m    ^\u001b[0m\n\u001b[1;31mIndentationError\u001b[0m\u001b[1;31m:\u001b[0m expected an indented block\n"
     ]
    }
   ],
   "source": [
    "y = la_10_f1\n",
    "x = np.arange(10)\n",
    "\n",
    "c = interp1d(x, y, kind = \"cubic\")\n",
    "x = np.linspace(x.min(), x.max(), int((show_label_end-show_label_start)/3))\n",
    "y = c(x)\n",
    "y = lbound(y)\n",
    "\n",
    "fit2 = ExponentialSmoothing(y).fit(smoothing_level=0.9, optimized=False)    \n",
    "plt.plot(x, fit2.fittedvalues, label = '10', marker = 'o')\n",
    "#########\n",
    "y = la_50_f1[10:]\n",
    "x = np.arange(10,50)\n",
    "\n",
    "c = interp1d(x, y, kind = \"cubic\")\n",
    "x = np.linspace(x.min(), x.max(), int((show_label_end-show_label_start)/3))\n",
    "y = c(x)\n",
    "y = lbound(y)\n",
    "\n",
    "fit2 = ExponentialSmoothing(y).fit(smoothing_level=0.9, optimized=False)    \n",
    "plt.plot(x, fit2.fittedvalues, label = '50', marker = 'o')\n",
    "#########\n",
    "y = la_100_f1[50:]\n",
    "x = np.arange(50,100)\n",
    "\n",
    "c = interp1d(x, y, kind = \"cubic\")\n",
    "x = np.linspace(x.min(), x.max(), int((show_label_end-show_label_start)/3))\n",
    "y = c(x)\n",
    "y = lbound(y)\n",
    "\n",
    "fit2 = ExponentialSmoothing(y).fit(smoothing_level=0.9, optimized=False)    \n",
    "plt.plot(x, fit2.fittedvalues, label = '100', marker = 'o')\n",
    "#########\n",
    "y = la_150_f1[100:]\n",
    "x = np.arange(100,150)\n",
    "\n",
    "c = interp1d(x, y, kind = \"cubic\")\n",
    "x = np.linspace(x.min(), x.max(), int((show_label_end-show_label_start)/3))\n",
    "y = c(x)\n",
    "y = lbound(y)\n",
    "\n",
    "fit2 = ExponentialSmoothing(y).fit(smoothing_level=0.9, optimized=False)    \n",
    "plt.plot(x, fit2.fittedvalues, label = '150', marker = 'o')\n",
    "#########\n",
    "\n",
    "\n",
    "plt.xlabel('Epochs')\n",
    "plt.ylabel('Loss')\n",
    "if 'train' in want_data:\n",
    "    plt.title('Training Loss')\n",
    "else:\n",
    "    plt.title('Global')\n",
    "plt.legend()\n",
    "if save_fig:\n",
    "#     plt.savefig('../result/fig_v2/dl_fl_useful.svg', bbox_inches='tight', format=\"svg\")\n",
    "plt.show()"
   ]
  },
  {
   "cell_type": "code",
   "execution_count": 19,
   "id": "ae7ada5c",
   "metadata": {
    "ExecuteTime": {
     "end_time": "2022-08-11T05:56:54.986268Z",
     "start_time": "2022-08-11T05:56:54.777269Z"
    }
   },
   "outputs": [
    {
     "data": {
      "image/png": "[encoded data removed]",
      "text/plain": [
       "<Figure size 432x288 with 3 Axes>"
      ]
     },
     "metadata": {
      "needs_background": "light"
     },
     "output_type": "display_data"
    }
   ],
   "source": [
    "la_f1 = [92.775, 91.129, 90.697, 94.062, 94.527]\n",
    "la_pr = [87.151, 84.184, 90.880, 92.859, 94.281]\n",
    "la_re = [99.174, 99.323, 95.542, 95.296, 94.774]\n",
    "\n",
    "x = [\"1\", \"10\", \"50\", \"100\", \"150\"]\n",
    "x_axis = np.arange(len(x))\n",
    "width = 0.3\n",
    "\n",
    "bax = brokenaxes(ylims=[(0, 5), (80, 100)], despine=False)\n",
    "\n",
    "bax.bar(x_axis - width, la_f1, width=width, label = 'F1-score')\n",
    "bax.bar(x_axis, la_pr, width=width, label = 'Precision')\n",
    "bax.bar(x_axis + width, la_re, width=width, label = 'Recall')\n",
    "\n",
    "bax.set_title(\"LogAnomaly\")\n",
    "bax.set_xticks(x_axis, x)\n",
    "bax.set_xlabel(\"Epoch\")\n",
    "bax.set_ylabel(\"Score (%)\")\n",
    "bax.legend()\n",
    "if save_fig:\n",
    "    plt.savefig('../result/fig_add/global_la.svg', bbox_inches='tight', format=\"svg\")\n",
    "plt.show()"
   ]
  },
  {
   "cell_type": "code",
   "execution_count": 20,
   "id": "83e947b3",
   "metadata": {
    "ExecuteTime": {
     "end_time": "2022-08-11T05:56:55.713383Z",
     "start_time": "2022-08-11T05:56:55.547384Z"
    }
   },
   "outputs": [
    {
     "data": {
      "image/png": "[encoded data removed]",
      "text/plain": [
       "<Figure size 432x288 with 1 Axes>"
      ]
     },
     "metadata": {
      "needs_background": "light"
     },
     "output_type": "display_data"
    }
   ],
   "source": [
    "dl_f1 = [47.219, 74.163, 92.868, 92.729, 92.771]\n",
    "dl_pr = [30.980, 59.303, 91.654, 92.268, 89.994]\n",
    "dl_re = [99.234, 98.961, 94.115, 93.194, 95.724]\n",
    "\n",
    "x = [\"1\", \"10\", \"50\", \"100\", \"150\"]\n",
    "x_axis = np.arange(len(x))\n",
    "width = 0.3\n",
    "\n",
    "plt.bar(x_axis - width, dl_f1, width=width, label = 'F1-score')\n",
    "plt.bar(x_axis, dl_pr, width=width, label = 'Precision')\n",
    "plt.bar(x_axis + width, dl_re, width=width, label = 'Recall')\n",
    "\n",
    "plt.title(\"DeepLog\")\n",
    "plt.xticks(x_axis, x)\n",
    "plt.xlabel(\"Epoch\")\n",
    "plt.ylabel(\"Score (%)\")\n",
    "plt.legend()\n",
    "if save_fig:\n",
    "    plt.savefig('../result/fig_add/global_dl.svg', bbox_inches='tight', format=\"svg\")\n",
    "plt.show()"
   ]
  },
  {
   "cell_type": "markdown",
   "id": "e0d4b12c",
   "metadata": {},
   "source": [
    "## 1e與10e的比較"
   ]
  },
  {
   "cell_type": "code",
   "execution_count": 23,
   "id": "04ba6806",
   "metadata": {
    "ExecuteTime": {
     "end_time": "2022-08-11T07:56:08.989419Z",
     "start_time": "2022-08-11T07:56:06.599040Z"
    }
   },
   "outputs": [],
   "source": [
    "# loganomaly 1 epochs 3\n",
    "log_algo = 'loganomaly_sl_dp'\n",
    "fl_algo = 'fedadam_1e_12_0.03'\n",
    "\n",
    "la_1e_003_loss = np.zeros(shape=(50))\n",
    "\n",
    "for i in range(1,6):\n",
    "    string = '../result/' + log_algo +  '/' + fl_algo + '/client_' + str(i) + want_data +'_log.csv'\n",
    "    df = pd.read_csv(string)\n",
    "    la_1e_003_loss = np.sum([la_1e_003_loss, df['loss']], axis = 0)\n",
    "    del df\n",
    "    \n",
    "la_1e_003_loss = la_1e_003_loss/5\n",
    "#####################################\n",
    "# loganomaly 10 epochs 3\n",
    "log_algo = 'loganomaly_sl_dp'\n",
    "fl_algo = 'fedadam_10e_12_0.03'\n",
    "\n",
    "la_10e_003_loss = np.zeros(shape=(50))\n",
    "\n",
    "for i in range(1,6):\n",
    "    string = '../result/' + log_algo +  '/' + fl_algo + '/client_' + str(i) + want_data +'_log.csv'\n",
    "    df = pd.read_csv(string)\n",
    "    la_10e_003_loss = np.sum([la_10e_003_loss, df['loss']], axis = 0)\n",
    "    del df\n",
    "    \n",
    "la_10e_003_loss = la_10e_003_loss/5\n",
    "#####################################\n",
    "# loganomaly 1 epochs 0\n",
    "log_algo = 'loganomaly_sl_dp'\n",
    "fl_algo = 'fedadam_1e_12_0'\n",
    "\n",
    "la_1e_000_loss = np.zeros(shape=(50))\n",
    "\n",
    "for i in range(1,6):\n",
    "    string = '../result/' + log_algo +  '/' + fl_algo + '/client_' + str(i) + want_data +'_log.csv'\n",
    "    df = pd.read_csv(string)\n",
    "    la_1e_000_loss = np.sum([la_1e_000_loss, df['loss']], axis = 0)\n",
    "    del df\n",
    "    \n",
    "la_1e_000_loss = la_1e_000_loss/5\n",
    "#####################################\n",
    "# loganomaly 10 epochs 0\n",
    "log_algo = 'loganomaly_sl_dp'\n",
    "fl_algo = 'fedadam_10e_12_0'\n",
    "\n",
    "la_10e_000_loss = np.zeros(shape=(50))\n",
    "\n",
    "for i in range(1,6):\n",
    "    string = '../result/' + log_algo +  '/' + fl_algo + '/client_' + str(i) + want_data +'_log.csv'\n",
    "    df = pd.read_csv(string)\n",
    "    la_10e_000_loss = np.sum([la_10e_000_loss, df['loss']], axis = 0)\n",
    "    del df\n",
    "    \n",
    "la_10e_000_loss = la_10e_000_loss/5"
   ]
  },
  {
   "cell_type": "code",
   "execution_count": 24,
   "id": "65147d5a",
   "metadata": {
    "ExecuteTime": {
     "end_time": "2022-08-11T07:58:46.594455Z",
     "start_time": "2022-08-11T07:58:46.302405Z"
    }
   },
   "outputs": [],
   "source": [
    "# deeplog 1 epochs 3\n",
    "log_algo = 'deeplog_sl_dp'\n",
    "fl_algo = 'fedadam_1e_12_0.03'\n",
    "\n",
    "dl_1e_003_loss = np.zeros(shape=(50))\n",
    "\n",
    "for i in range(1,6):\n",
    "    string = '../result/' + log_algo +  '/' + fl_algo + '/client_' + str(i) + want_data +'_log.csv'\n",
    "    df = pd.read_csv(string)\n",
    "    dl_1e_003_loss = np.sum([dl_1e_003_loss, df['loss']], axis = 0)\n",
    "    del df\n",
    "    \n",
    "dl_1e_003_loss = dl_1e_003_loss/5\n",
    "#####################################\n",
    "# deeplog 10 epochs 3\n",
    "log_algo = 'deeplog_sl_dp'\n",
    "fl_algo = 'fedadam_10e_12_0.03'\n",
    "\n",
    "dl_10e_003_loss = np.zeros(shape=(50))\n",
    "\n",
    "for i in range(1,6):\n",
    "    string = '../result/' + log_algo +  '/' + fl_algo + '/client_' + str(i) + want_data +'_log.csv'\n",
    "    df = pd.read_csv(string)\n",
    "    dl_10e_003_loss = np.sum([dl_10e_003_loss, df['loss']], axis = 0)\n",
    "    del df\n",
    "    \n",
    "dl_10e_003_loss = dl_10e_003_loss/5\n",
    "#####################################\n",
    "# deeplog 1 epochs 0\n",
    "log_algo = 'deeplog_sl_dp'\n",
    "fl_algo = 'fedadam_1e_12_0'\n",
    "\n",
    "dl_1e_000_loss = np.zeros(shape=(50))\n",
    "\n",
    "for i in range(1,6):\n",
    "    string = '../result/' + log_algo +  '/' + fl_algo + '/client_' + str(i) + want_data +'_log.csv'\n",
    "    df = pd.read_csv(string)\n",
    "    dl_1e_000_loss = np.sum([dl_1e_000_loss, df['loss']], axis = 0)\n",
    "    del df\n",
    "    \n",
    "dl_1e_000_loss = dl_1e_000_loss/5\n",
    "#####################################\n",
    "# deeplog 10 epochs 0\n",
    "log_algo = 'deeplog_sl_dp'\n",
    "fl_algo = 'fedadam_10e_12_0'\n",
    "\n",
    "dl_10e_000_loss = np.zeros(shape=(50))\n",
    "\n",
    "for i in range(1,6):\n",
    "    string = '../result/' + log_algo +  '/' + fl_algo + '/client_' + str(i) + want_data +'_log.csv'\n",
    "    df = pd.read_csv(string)\n",
    "    dl_10e_000_loss = np.sum([dl_10e_000_loss, df['loss']], axis = 0)\n",
    "    del df\n",
    "    \n",
    "dl_10e_000_loss = dl_10e_000_loss/5"
   ]
  },
  {
   "cell_type": "code",
   "execution_count": 67,
   "id": "2dbfe24e",
   "metadata": {
    "ExecuteTime": {
     "end_time": "2022-08-11T19:00:59.845390Z",
     "start_time": "2022-08-11T19:00:59.661621Z"
    }
   },
   "outputs": [
    {
     "data": {
      "image/png": "[encoded data removed]",
      "text/plain": [
       "<Figure size 432x288 with 1 Axes>"
      ]
     },
     "metadata": {
      "needs_background": "light"
     },
     "output_type": "display_data"
    }
   ],
   "source": [
    "# data = ['la_1e_000_loss','la_10e_000_loss','la_1e_003_loss','la_10e_003_loss',]\n",
    "# name = ['(\\u03B5) = 0, local epoch = 1','(\\u03B5) = 0, local epoch = 10'\n",
    "#         ,'(\\u03B5) = 0.03, local epoch = 1','(\\u03B5) = 0.03, local epoch = 10']\n",
    "data = ['la_12_adam_loss','la_102_adam_loss','la_1e_000_loss','la_10e_000_loss']\n",
    "name = ['FL (epoch = 1)','FL (epoch = 10)', 'DP-FSL (epoch = 1)','DP-FSL (epoch = 10)']\n",
    "for j, i in enumerate(data):\n",
    "    x = np.arange(show_label_start,show_label_end)\n",
    "    exec('y = ' + i + '[show_label_start:show_label_end]')\n",
    "    if use_smooth:\n",
    "        c = interp1d(x,y, kind = \"cubic\")\n",
    "        x = np.linspace(x.min(), x.max(), int((show_label_end-show_label_start)/3))\n",
    "        y = c(x)\n",
    "        y = lbound(y)\n",
    "        \n",
    "        fit2 = ExponentialSmoothing(y).fit(smoothing_level=0.9, optimized=False)    \n",
    "        plt.plot(x, fit2.fittedvalues, label = name[j], marker = 'o')\n",
    "        continue\n",
    "    plt.plot(x, y, label = name[j])\n",
    "\n",
    "\n",
    "plt.xlabel('Epoch')\n",
    "plt.ylabel('Loss')\n",
    "plt.grid()\n",
    "if 'train' in want_data:\n",
    "    plt.title('Training Loss')\n",
    "else:\n",
    "    plt.title('LogAnomaly')\n",
    "plt.legend()\n",
    "if save_fig:\n",
    "    plt.savefig('../result/fig_add/local_la_loss.svg', bbox_inches='tight', format=\"svg\")\n",
    "plt.show()"
   ]
  },
  {
   "cell_type": "code",
   "execution_count": 68,
   "id": "c2ec8147",
   "metadata": {
    "ExecuteTime": {
     "end_time": "2022-08-11T19:01:08.633838Z",
     "start_time": "2022-08-11T19:01:08.485673Z"
    }
   },
   "outputs": [
    {
     "data": {
      "image/png": "[encoded data removed]",
      "text/plain": [
       "<Figure size 432x288 with 1 Axes>"
      ]
     },
     "metadata": {
      "needs_background": "light"
     },
     "output_type": "display_data"
    }
   ],
   "source": [
    "# data = ['dl_1e_000_loss','dl_10e_000_loss','dl_1e_003_loss','dl_10e_003_loss',]\n",
    "# name = ['(\\u03B5) = 0, local epoch = 1','(\\u03B5) = 0, local epoch = 10'\n",
    "#         ,'(\\u03B5) = 0.03, local epoch = 1','(\\u03B5) = 0.03, local epoch = 10']\n",
    "data = ['dl_12_adam_loss','dl_102_adam_loss','dl_1e_000_loss','dl_10e_000_loss']\n",
    "name = ['FL (epoch = 1)','FL (epoch = 10)', 'DP-FSL (epoch = 1)','DP-FSL (epoch = 10)']\n",
    "for j, i in enumerate(data):\n",
    "    x = np.arange(show_label_start,show_label_end)\n",
    "    exec('y = ' + i + '[show_label_start:show_label_end]')\n",
    "    if use_smooth:\n",
    "        c = interp1d(x,y, kind = \"cubic\")\n",
    "        x = np.linspace(x.min(), x.max(), int((show_label_end-show_label_start)/3))\n",
    "        y = c(x)\n",
    "        y = lbound(y)\n",
    "        \n",
    "        fit2 = ExponentialSmoothing(y).fit(smoothing_level=0.9, optimized=False)    \n",
    "        plt.plot(x, fit2.fittedvalues, label = name[j], marker = 'o')\n",
    "        continue\n",
    "    plt.plot(x, y, label = name[j])\n",
    "\n",
    "\n",
    "plt.xlabel('Epoch')\n",
    "plt.ylabel('Loss')\n",
    "plt.grid()\n",
    "if 'train' in want_data:\n",
    "    plt.title('Training Loss')\n",
    "else:\n",
    "    plt.title('DeepLog')\n",
    "plt.legend()\n",
    "if save_fig:\n",
    "    plt.savefig('../result/fig_add/local_dl_loss.svg', bbox_inches='tight', format=\"svg\")\n",
    "plt.show()"
   ]
  },
  {
   "cell_type": "code",
   "execution_count": 56,
   "id": "51d37024",
   "metadata": {
    "ExecuteTime": {
     "end_time": "2022-08-11T18:25:07.311709Z",
     "start_time": "2022-08-11T18:25:07.227621Z"
    }
   },
   "outputs": [
    {
     "data": {
      "text/plain": [
       "Text(33.0, 0.5, 'Local epoch')"
      ]
     },
     "execution_count": 56,
     "metadata": {},
     "output_type": "execute_result"
    },
    {
     "data": {
      "image/png": "[encoded data removed]",
      "text/plain": [
       "<Figure size 432x288 with 2 Axes>"
      ]
     },
     "metadata": {
      "needs_background": "light"
     },
     "output_type": "display_data"
    }
   ],
   "source": [
    "import pandas as pd\n",
    "import seaborn as sns\n",
    "local_e = ['10','5','1']\n",
    "global_e = ['1', '10', '50', '100', '150']\n",
    "df = pd.DataFrame([\n",
    "    [92.775, 91.129, 90.697, 94.062, 94.527],\n",
    "    [0, 0, 0, 0, 0],\n",
    "    [0, 0, 5.737, 0, 0],\n",
    "], columns=global_e, index=local_e)\n",
    "\n",
    "\n",
    "sns.heatmap(df, cmap = 'Blues', center = 50)\n",
    "plt.xlabel('Global epoch')\n",
    "plt.ylabel('Local epoch')"
   ]
  },
  {
   "cell_type": "code",
   "execution_count": null,
   "id": "3426013f",
   "metadata": {},
   "outputs": [],
   "source": []
  }
 ],
 "metadata": {
  "kernelspec": {
   "display_name": "Python 3",
   "language": "python",
   "name": "python3"
  },
  "language_info": {
   "codemirror_mode": {
    "name": "ipython",
    "version": 3
   },
   "file_extension": ".py",
   "mimetype": "text/x-python",
   "name": "python",
   "nbconvert_exporter": "python",
   "pygments_lexer": "ipython3",
   "version": "3.8.8"
  }
 },
 "nbformat": 4,
 "nbformat_minor": 5
}
